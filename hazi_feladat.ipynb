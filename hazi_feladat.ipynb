{
    "metadata": {
        "kernelspec": {
            "name": "SQL",
            "display_name": "SQL",
            "language": "sql"
        },
        "language_info": {
            "name": "sql",
            "version": ""
        }
    },
    "nbformat_minor": 2,
    "nbformat": 4,
    "cells": [
        {
            "cell_type": "code",
            "source": [
                "SELECT *\r\n",
                "FROM Termek\r\n",
                "ORDER BY FELVITEL DESC"
            ],
            "metadata": {
                "azdata_cell_guid": "1f02c686-41c0-48b9-b8cc-f5b6ce2ff799",
                "language": "sql"
            },
            "outputs": [
                {
                    "output_type": "display_data",
                    "data": {
                        "text/html": "(551 rows affected)"
                    },
                    "metadata": {}
                },
                {
                    "output_type": "display_data",
                    "data": {
                        "text/html": "Total execution time: 00:00:00.153"
                    },
                    "metadata": {}
                },
                {
                    "output_type": "execute_result",
                    "metadata": {},
                    "execution_count": 18,
                    "data": {
                        "application/vnd.dataresource+json": {
                            "schema": {
                                "fields": [
                                    {
                                        "name": "TERMEKKOD"
                                    },
                                    {
                                        "name": "MEGNEVEZES"
                                    },
                                    {
                                        "name": "KAT_ID"
                                    },
                                    {
                                        "name": "LISTAAR"
                                    },
                                    {
                                        "name": "LEIRAS"
                                    },
                                    {
                                        "name": "RAKTAR_KOD"
                                    },
                                    {
                                        "name": "KESZLET"
                                    },
                                    {
                                        "name": "MEGYS"
                                    },
                                    {
                                        "name": "FELVITTE"
                                    },
                                    {
                                        "name": "FELVITEL"
                                    }
                                ]
                            },
                            "data": [
                                {
                                    "TERMEKKOD": "06040206T",
                                    "MEGNEVEZES": "kék indigó",
                                    "KAT_ID": "68",
                                    "LISTAAR": "12",
                                    "LEIRAS": "NULL",
                                    "RAKTAR_KOD": "5",
                                    "KESZLET": "100",
                                    "MEGYS": "db",
                                    "FELVITTE": "Sára",
                                    "FELVITEL": "2016-12-11"
                                },
                                {
                                    "TERMEKKOD": "08070477T",
                                    "MEGNEVEZES": "Anyanyelvi gyakorló 3",
                                    "KAT_ID": "100",
                                    "LISTAAR": "353",
                                    "LEIRAS": "NULL",
                                    "RAKTAR_KOD": "6",
                                    "KESZLET": "1400",
                                    "MEGYS": "db",
                                    "FELVITTE": "Sára",
                                    "FELVITEL": "2016-09-03"
                                },
                                {
                                    "TERMEKKOD": "08070478T",
                                    "MEGNEVEZES": "Összefoglaló feladatgyüjtemény számtech.",
                                    "KAT_ID": "100",
                                    "LISTAAR": "785",
                                    "LEIRAS": "NULL",
                                    "RAKTAR_KOD": "8",
                                    "KESZLET": "900",
                                    "MEGYS": "db",
                                    "FELVITTE": "Béla",
                                    "FELVITEL": "2016-08-29"
                                },
                                {
                                    "TERMEKKOD": "08070479T",
                                    "MEGNEVEZES": "Fizika",
                                    "KAT_ID": "4",
                                    "LISTAAR": "674",
                                    "LEIRAS": "NULL",
                                    "RAKTAR_KOD": "7",
                                    "KESZLET": "200",
                                    "MEGYS": "db",
                                    "FELVITTE": "Béla",
                                    "FELVITEL": "2016-08-29"
                                },
                                {
                                    "TERMEKKOD": "08070480T",
                                    "MEGNEVEZES": "Fizika 13 éveseknek",
                                    "KAT_ID": "4",
                                    "LISTAAR": "308",
                                    "LEIRAS": "NULL",
                                    "RAKTAR_KOD": "8",
                                    "KESZLET": "5000",
                                    "MEGYS": "db",
                                    "FELVITTE": "Béla",
                                    "FELVITEL": "2016-08-29"
                                },
                                {
                                    "TERMEKKOD": "08070474T",
                                    "MEGNEVEZES": "A föld amelyen élünk - Hazánk földrajza",
                                    "KAT_ID": "4",
                                    "LISTAAR": "1089",
                                    "LEIRAS": "NULL",
                                    "RAKTAR_KOD": "5",
                                    "KESZLET": "100",
                                    "MEGYS": "db",
                                    "FELVITTE": "Béla",
                                    "FELVITEL": "2016-08-29"
                                },
                                {
                                    "TERMEKKOD": "08070475T",
                                    "MEGNEVEZES": "A föld amelyen élünk - munkafüzet",
                                    "KAT_ID": "100",
                                    "LISTAAR": "440",
                                    "LEIRAS": "NULL",
                                    "RAKTAR_KOD": "5",
                                    "KESZLET": "9000",
                                    "MEGYS": "db",
                                    "FELVITTE": "Béla",
                                    "FELVITEL": "2016-08-29"
                                },
                                {
                                    "TERMEKKOD": "08070476T",
                                    "MEGNEVEZES": "Anyanyelvi gyakorló 2",
                                    "KAT_ID": "100",
                                    "LISTAAR": "293",
                                    "LEIRAS": "NULL",
                                    "RAKTAR_KOD": "6",
                                    "KESZLET": "3900",
                                    "MEGYS": "db",
                                    "FELVITTE": "Béla",
                                    "FELVITEL": "2016-08-29"
                                },
                                {
                                    "TERMEKKOD": "08070482T",
                                    "MEGNEVEZES": "Fizika munkafüzet 14 év.",
                                    "KAT_ID": "100",
                                    "LISTAAR": "190",
                                    "LEIRAS": "NULL",
                                    "RAKTAR_KOD": "5",
                                    "KESZLET": "500",
                                    "MEGYS": "db",
                                    "FELVITTE": "Mari",
                                    "FELVITEL": "2016-08-28"
                                },
                                {
                                    "TERMEKKOD": "08070473T",
                                    "MEGNEVEZES": "A föld amelyen élünk - Távoli földrészek",
                                    "KAT_ID": "4",
                                    "LISTAAR": "1089",
                                    "LEIRAS": "NULL",
                                    "RAKTAR_KOD": "6",
                                    "KESZLET": "200",
                                    "MEGYS": "db",
                                    "FELVITTE": "Mari",
                                    "FELVITEL": "2016-08-27"
                                },
                                {
                                    "TERMEKKOD": "07080317T",
                                    "MEGNEVEZES": "Pixiron mini ",
                                    "KAT_ID": "118",
                                    "LISTAAR": "59",
                                    "LEIRAS": "NULL",
                                    "RAKTAR_KOD": "5",
                                    "KESZLET": "2000",
                                    "MEGYS": "db",
                                    "FELVITTE": "Béla",
                                    "FELVITEL": "2016-08-26"
                                },
                                {
                                    "TERMEKKOD": "07080318T",
                                    "MEGNEVEZES": "Pixiron Penac",
                                    "KAT_ID": "118",
                                    "LISTAAR": "235",
                                    "LEIRAS": "NULL",
                                    "RAKTAR_KOD": "5",
                                    "KESZLET": "8000",
                                    "MEGYS": "db",
                                    "FELVITTE": "Béla",
                                    "FELVITEL": "2016-08-26"
                                },
                                {
                                    "TERMEKKOD": "07080319T",
                                    "MEGNEVEZES": "Pixiron Pentel színes",
                                    "KAT_ID": "118",
                                    "LISTAAR": "299",
                                    "LEIRAS": "NULL",
                                    "RAKTAR_KOD": "7",
                                    "KESZLET": "4000",
                                    "MEGYS": "db",
                                    "FELVITTE": "Béla",
                                    "FELVITEL": "2016-08-26"
                                },
                                {
                                    "TERMEKKOD": "07080418T",
                                    "MEGNEVEZES": "Zselés toll ",
                                    "KAT_ID": "154",
                                    "LISTAAR": "95",
                                    "LEIRAS": "NULL",
                                    "RAKTAR_KOD": "7",
                                    "KESZLET": "4000",
                                    "MEGYS": "db",
                                    "FELVITTE": "Béla",
                                    "FELVITEL": "2016-08-26"
                                },
                                {
                                    "TERMEKKOD": "07080466T",
                                    "MEGNEVEZES": "Golyóstoll Stabiló 308",
                                    "KAT_ID": "52",
                                    "LISTAAR": "81",
                                    "LEIRAS": "NULL",
                                    "RAKTAR_KOD": "9",
                                    "KESZLET": "1000",
                                    "MEGYS": "db",
                                    "FELVITTE": "Sára",
                                    "FELVITEL": "2016-08-26"
                                },
                                {
                                    "TERMEKKOD": "07080316T",
                                    "MEGNEVEZES": "Pixiron KOH-I-NOOR",
                                    "KAT_ID": "118",
                                    "LISTAAR": "468",
                                    "LEIRAS": "NULL",
                                    "RAKTAR_KOD": "8",
                                    "KESZLET": "700",
                                    "MEGYS": "db",
                                    "FELVITTE": "Sára",
                                    "FELVITEL": "2016-08-25"
                                },
                                {
                                    "TERMEKKOD": "08070483T",
                                    "MEGNEVEZES": "Fizikai feladatok és tévedések",
                                    "KAT_ID": "4",
                                    "LISTAAR": "324",
                                    "LEIRAS": "NULL",
                                    "RAKTAR_KOD": "5",
                                    "KESZLET": "100",
                                    "MEGYS": "db",
                                    "FELVITTE": "Béla",
                                    "FELVITEL": "2016-08-25"
                                },
                                {
                                    "TERMEKKOD": "08070484T",
                                    "MEGNEVEZES": "Fogalmazás lépésről lépésre",
                                    "KAT_ID": "4",
                                    "LISTAAR": "345",
                                    "LEIRAS": "NULL",
                                    "RAKTAR_KOD": "8",
                                    "KESZLET": "100",
                                    "MEGYS": "db",
                                    "FELVITTE": "Béla",
                                    "FELVITEL": "2016-08-24"
                                },
                                {
                                    "TERMEKKOD": "08070481T",
                                    "MEGNEVEZES": "Fizika munkafüzet 13 év.",
                                    "KAT_ID": "100",
                                    "LISTAAR": "198",
                                    "LEIRAS": "NULL",
                                    "RAKTAR_KOD": "7",
                                    "KESZLET": "500",
                                    "MEGYS": "db",
                                    "FELVITTE": "Béla",
                                    "FELVITEL": "2016-08-24"
                                },
                                {
                                    "TERMEKKOD": "07080471T",
                                    "MEGNEVEZES": "Golyóstoll levélbontós",
                                    "KAT_ID": "52",
                                    "LISTAAR": "294",
                                    "LEIRAS": "NULL",
                                    "RAKTAR_KOD": "7",
                                    "KESZLET": "50000",
                                    "MEGYS": "db",
                                    "FELVITTE": "Béla",
                                    "FELVITEL": "2016-08-23"
                                },
                                {
                                    "TERMEKKOD": "08070472T",
                                    "MEGNEVEZES": "A föld amelyen élünk - Európa földrajza",
                                    "KAT_ID": "4",
                                    "LISTAAR": "1089",
                                    "LEIRAS": "NULL",
                                    "RAKTAR_KOD": "8",
                                    "KESZLET": "100",
                                    "MEGYS": "db",
                                    "FELVITTE": "Béla",
                                    "FELVITEL": "2016-08-23"
                                },
                                {
                                    "TERMEKKOD": "07080315T",
                                    "MEGNEVEZES": "Pixiron Handy műanyag",
                                    "KAT_ID": "118",
                                    "LISTAAR": "94",
                                    "LEIRAS": "NULL",
                                    "RAKTAR_KOD": "8",
                                    "KESZLET": "25000",
                                    "MEGYS": "db",
                                    "FELVITTE": "Mari",
                                    "FELVITEL": "2016-08-22"
                                },
                                {
                                    "TERMEKKOD": "07080467T",
                                    "MEGNEVEZES": "Golyóstoll kétfunkciós ICO",
                                    "KAT_ID": "52",
                                    "LISTAAR": "273",
                                    "LEIRAS": "NULL",
                                    "RAKTAR_KOD": "8",
                                    "KESZLET": "8000",
                                    "MEGYS": "db",
                                    "FELVITTE": "Sára",
                                    "FELVITEL": "2016-08-22"
                                },
                                {
                                    "TERMEKKOD": "07080468T",
                                    "MEGNEVEZES": "Golyóstoll háromfunkciós",
                                    "KAT_ID": "52",
                                    "LISTAAR": "110",
                                    "LEIRAS": "NULL",
                                    "RAKTAR_KOD": "6",
                                    "KESZLET": "7200",
                                    "MEGYS": "db",
                                    "FELVITTE": "Sára",
                                    "FELVITEL": "2016-08-22"
                                },
                                {
                                    "TERMEKKOD": "07080469T",
                                    "MEGNEVEZES": "Golyóstoll UNIBALL 07",
                                    "KAT_ID": "52",
                                    "LISTAAR": "364",
                                    "LEIRAS": "NULL",
                                    "RAKTAR_KOD": "8",
                                    "KESZLET": "35000",
                                    "MEGYS": "db",
                                    "FELVITTE": "Sára",
                                    "FELVITEL": "2016-08-22"
                                },
                                {
                                    "TERMEKKOD": "07080419T",
                                    "MEGNEVEZES": "Zselés toll MICRO",
                                    "KAT_ID": "154",
                                    "LISTAAR": "66",
                                    "LEIRAS": "NULL",
                                    "RAKTAR_KOD": "9",
                                    "KESZLET": "6000",
                                    "MEGYS": "db",
                                    "FELVITTE": "Sára",
                                    "FELVITEL": "2016-08-22"
                                },
                                {
                                    "TERMEKKOD": "08070485T",
                                    "MEGNEVEZES": "Jól felkészültem-e - Fizika",
                                    "KAT_ID": "4",
                                    "LISTAAR": "291",
                                    "LEIRAS": "NULL",
                                    "RAKTAR_KOD": "6",
                                    "KESZLET": "200",
                                    "MEGYS": "db",
                                    "FELVITTE": "Béla",
                                    "FELVITEL": "2016-08-22"
                                },
                                {
                                    "TERMEKKOD": "07080420T",
                                    "MEGNEVEZES": "Zselés toll Muhnwa",
                                    "KAT_ID": "154",
                                    "LISTAAR": "161",
                                    "LEIRAS": "NULL",
                                    "RAKTAR_KOD": "7",
                                    "KESZLET": "2000",
                                    "MEGYS": "db",
                                    "FELVITTE": "Mari",
                                    "FELVITEL": "2016-08-21"
                                },
                                {
                                    "TERMEKKOD": "07080421T",
                                    "MEGNEVEZES": "Zseléstoll Lizzy Card",
                                    "KAT_ID": "154",
                                    "LISTAAR": "228",
                                    "LEIRAS": "NULL",
                                    "RAKTAR_KOD": "7",
                                    "KESZLET": "100",
                                    "MEGYS": "csomag",
                                    "FELVITTE": "Mari",
                                    "FELVITEL": "2016-08-21"
                                },
                                {
                                    "TERMEKKOD": "07080163T",
                                    "MEGNEVEZES": "Golyóstoll UNI átlátszó",
                                    "KAT_ID": "52",
                                    "LISTAAR": "230",
                                    "LEIRAS": "NULL",
                                    "RAKTAR_KOD": "5",
                                    "KESZLET": "6000",
                                    "MEGYS": "db",
                                    "FELVITTE": "Mari",
                                    "FELVITEL": "2016-08-21"
                                },
                                {
                                    "TERMEKKOD": "07080164T",
                                    "MEGNEVEZES": "Golyóstoll UNI gumis",
                                    "KAT_ID": "52",
                                    "LISTAAR": "231",
                                    "LEIRAS": "NULL",
                                    "RAKTAR_KOD": "6",
                                    "KESZLET": "30000",
                                    "MEGYS": "db",
                                    "FELVITTE": "Mari",
                                    "FELVITEL": "2016-08-21"
                                },
                                {
                                    "TERMEKKOD": "07080311T",
                                    "MEGNEVEZES": "Pixiron  UNI",
                                    "KAT_ID": "118",
                                    "LISTAAR": "276",
                                    "LEIRAS": "NULL",
                                    "RAKTAR_KOD": "8",
                                    "KESZLET": "22000",
                                    "MEGYS": "db",
                                    "FELVITTE": "Mari",
                                    "FELVITEL": "2016-08-21"
                                },
                                {
                                    "TERMEKKOD": "07080312T",
                                    "MEGNEVEZES": "Pixiron 0,7 Handy",
                                    "KAT_ID": "118",
                                    "LISTAAR": "125",
                                    "LEIRAS": "NULL",
                                    "RAKTAR_KOD": "5",
                                    "KESZLET": "2000",
                                    "MEGYS": "db",
                                    "FELVITTE": "Mari",
                                    "FELVITEL": "2016-08-21"
                                },
                                {
                                    "TERMEKKOD": "07080313T",
                                    "MEGNEVEZES": "Pixiron Centrum",
                                    "KAT_ID": "118",
                                    "LISTAAR": "59",
                                    "LEIRAS": "NULL",
                                    "RAKTAR_KOD": "9",
                                    "KESZLET": "12500",
                                    "MEGYS": "db",
                                    "FELVITTE": "Mari",
                                    "FELVITEL": "2016-08-21"
                                },
                                {
                                    "TERMEKKOD": "07080314T",
                                    "MEGNEVEZES": "Pixiron Handy fém",
                                    "KAT_ID": "118",
                                    "LISTAAR": "133",
                                    "LEIRAS": "NULL",
                                    "RAKTAR_KOD": "8",
                                    "KESZLET": "12000",
                                    "MEGYS": "db",
                                    "FELVITTE": "Mari",
                                    "FELVITEL": "2016-08-21"
                                },
                                {
                                    "TERMEKKOD": "07080470T",
                                    "MEGNEVEZES": "Golyóstoll háromszög",
                                    "KAT_ID": "52",
                                    "LISTAAR": "188",
                                    "LEIRAS": "NULL",
                                    "RAKTAR_KOD": "7",
                                    "KESZLET": "15000",
                                    "MEGYS": "db",
                                    "FELVITTE": "Sára",
                                    "FELVITEL": "2016-08-21"
                                },
                                {
                                    "TERMEKKOD": "07080152T",
                                    "MEGNEVEZES": "Golyóstoll 3 funkciós ",
                                    "KAT_ID": "52",
                                    "LISTAAR": "1019",
                                    "LEIRAS": "NULL",
                                    "RAKTAR_KOD": "5",
                                    "KESZLET": "400",
                                    "MEGYS": "db",
                                    "FELVITTE": "Béla",
                                    "FELVITEL": "2016-08-20"
                                },
                                {
                                    "TERMEKKOD": "07080153T",
                                    "MEGNEVEZES": "Golyóstoll illatos ICO",
                                    "KAT_ID": "52",
                                    "LISTAAR": "41",
                                    "LEIRAS": "NULL",
                                    "RAKTAR_KOD": "8",
                                    "KESZLET": "100",
                                    "MEGYS": "db",
                                    "FELVITTE": "Béla",
                                    "FELVITEL": "2016-08-20"
                                },
                                {
                                    "TERMEKKOD": "07080154T",
                                    "MEGNEVEZES": "Golyóstoll INOXCROM",
                                    "KAT_ID": "52",
                                    "LISTAAR": "401",
                                    "LEIRAS": "NULL",
                                    "RAKTAR_KOD": "6",
                                    "KESZLET": "300",
                                    "MEGYS": "db",
                                    "FELVITTE": "Béla",
                                    "FELVITEL": "2016-08-20"
                                },
                                {
                                    "TERMEKKOD": "07080155T",
                                    "MEGNEVEZES": "Golyóstoll",
                                    "KAT_ID": "52",
                                    "LISTAAR": "33",
                                    "LEIRAS": "NULL",
                                    "RAKTAR_KOD": "5",
                                    "KESZLET": "100",
                                    "MEGYS": "db",
                                    "FELVITTE": "Béla",
                                    "FELVITEL": "2016-08-20"
                                },
                                {
                                    "TERMEKKOD": "07080156T",
                                    "MEGNEVEZES": "Golyóstoll kupakos piros",
                                    "KAT_ID": "52",
                                    "LISTAAR": "23",
                                    "LEIRAS": "NULL",
                                    "RAKTAR_KOD": "8",
                                    "KESZLET": "900",
                                    "MEGYS": "db",
                                    "FELVITTE": "Béla",
                                    "FELVITEL": "2016-08-20"
                                },
                                {
                                    "TERMEKKOD": "07080157T",
                                    "MEGNEVEZES": "Golyóstoll Montex Hytone",
                                    "KAT_ID": "52",
                                    "LISTAAR": "93",
                                    "LEIRAS": "NULL",
                                    "RAKTAR_KOD": "7",
                                    "KESZLET": "500",
                                    "MEGYS": "db",
                                    "FELVITTE": "Béla",
                                    "FELVITEL": "2016-08-20"
                                },
                                {
                                    "TERMEKKOD": "07080158T",
                                    "MEGNEVEZES": "Golyóstoll Parker tokban",
                                    "KAT_ID": "52",
                                    "LISTAAR": "773",
                                    "LEIRAS": "NULL",
                                    "RAKTAR_KOD": "5",
                                    "KESZLET": "2000",
                                    "MEGYS": "db",
                                    "FELVITTE": "Béla",
                                    "FELVITEL": "2016-08-20"
                                },
                                {
                                    "TERMEKKOD": "07080159T",
                                    "MEGNEVEZES": "Golyóstoll Pax tip.",
                                    "KAT_ID": "52",
                                    "LISTAAR": "63",
                                    "LEIRAS": "NULL",
                                    "RAKTAR_KOD": "8",
                                    "KESZLET": "200",
                                    "MEGYS": "db",
                                    "FELVITTE": "Béla",
                                    "FELVITEL": "2016-08-20"
                                },
                                {
                                    "TERMEKKOD": "08070490T",
                                    "MEGNEVEZES": "Szövegszerkesztés",
                                    "KAT_ID": "4",
                                    "LISTAAR": "691",
                                    "LEIRAS": "NULL",
                                    "RAKTAR_KOD": "8",
                                    "KESZLET": "100",
                                    "MEGYS": "db",
                                    "FELVITTE": "Sára",
                                    "FELVITEL": "2016-08-20"
                                },
                                {
                                    "TERMEKKOD": "08070491T",
                                    "MEGNEVEZES": "Szám.tech. kicsiknek",
                                    "KAT_ID": "4",
                                    "LISTAAR": "214",
                                    "LEIRAS": "NULL",
                                    "RAKTAR_KOD": "8",
                                    "KESZLET": "1300",
                                    "MEGYS": "db",
                                    "FELVITTE": "Sára",
                                    "FELVITEL": "2016-08-20"
                                },
                                {
                                    "TERMEKKOD": "08070492T",
                                    "MEGNEVEZES": "Informatika",
                                    "KAT_ID": "4",
                                    "LISTAAR": "735",
                                    "LEIRAS": "NULL",
                                    "RAKTAR_KOD": "9",
                                    "KESZLET": "100",
                                    "MEGYS": "db",
                                    "FELVITTE": "Sára",
                                    "FELVITEL": "2016-08-20"
                                },
                                {
                                    "TERMEKKOD": "08070493T",
                                    "MEGNEVEZES": "Érettségi felv. fel. Matematika",
                                    "KAT_ID": "4",
                                    "LISTAAR": "720",
                                    "LEIRAS": "NULL",
                                    "RAKTAR_KOD": "5",
                                    "KESZLET": "100",
                                    "MEGYS": "db",
                                    "FELVITTE": "Sára",
                                    "FELVITEL": "2016-08-20"
                                },
                                {
                                    "TERMEKKOD": "08070494T",
                                    "MEGNEVEZES": "Érettségi felv. fel. Fizika",
                                    "KAT_ID": "4",
                                    "LISTAAR": "440",
                                    "LEIRAS": "NULL",
                                    "RAKTAR_KOD": "6",
                                    "KESZLET": "400",
                                    "MEGYS": "db",
                                    "FELVITTE": "Sára",
                                    "FELVITEL": "2016-08-20"
                                },
                                {
                                    "TERMEKKOD": "08070486T",
                                    "MEGNEVEZES": "Matematika gyakorló 2",
                                    "KAT_ID": "100",
                                    "LISTAAR": "403",
                                    "LEIRAS": "NULL",
                                    "RAKTAR_KOD": "6",
                                    "KESZLET": "100",
                                    "MEGYS": "db",
                                    "FELVITTE": "Béla",
                                    "FELVITEL": "2016-08-19"
                                },
                                {
                                    "TERMEKKOD": "07080162T",
                                    "MEGNEVEZES": "Golyóstoll Stabilo piros",
                                    "KAT_ID": "52",
                                    "LISTAAR": "101",
                                    "LEIRAS": "NULL",
                                    "RAKTAR_KOD": "6",
                                    "KESZLET": "700",
                                    "MEGYS": "db",
                                    "FELVITTE": "Mari",
                                    "FELVITEL": "2016-08-19"
                                },
                                {
                                    "TERMEKKOD": "08070495T",
                                    "MEGNEVEZES": "Érettségi felv. fel. Biológia",
                                    "KAT_ID": "4",
                                    "LISTAAR": "440",
                                    "LEIRAS": "NULL",
                                    "RAKTAR_KOD": "9",
                                    "KESZLET": "100",
                                    "MEGYS": "db",
                                    "FELVITTE": "Sára",
                                    "FELVITEL": "2016-08-18"
                                },
                                {
                                    "TERMEKKOD": "08070487T",
                                    "MEGNEVEZES": "Matematika gyakorló 3",
                                    "KAT_ID": "100",
                                    "LISTAAR": "403",
                                    "LEIRAS": "NULL",
                                    "RAKTAR_KOD": "6",
                                    "KESZLET": "200",
                                    "MEGYS": "db",
                                    "FELVITTE": "Mari",
                                    "FELVITEL": "2016-08-17"
                                },
                                {
                                    "TERMEKKOD": "08070488T",
                                    "MEGNEVEZES": "Matematika gyakorló 4",
                                    "KAT_ID": "100",
                                    "LISTAAR": "403",
                                    "LEIRAS": "NULL",
                                    "RAKTAR_KOD": "9",
                                    "KESZLET": "2000",
                                    "MEGYS": "db",
                                    "FELVITTE": "Mari",
                                    "FELVITEL": "2016-08-17"
                                },
                                {
                                    "TERMEKKOD": "08070489T",
                                    "MEGNEVEZES": "RAMba zárt világ",
                                    "KAT_ID": "4",
                                    "LISTAAR": "868",
                                    "LEIRAS": "NULL",
                                    "RAKTAR_KOD": "8",
                                    "KESZLET": "4400",
                                    "MEGYS": "db",
                                    "FELVITTE": "Mari",
                                    "FELVITEL": "2016-08-17"
                                },
                                {
                                    "TERMEKKOD": "07080064T",
                                    "MEGNEVEZES": "Ceruza zöld színű",
                                    "KAT_ID": "19",
                                    "LISTAAR": "40",
                                    "LEIRAS": "NULL",
                                    "RAKTAR_KOD": "6",
                                    "KESZLET": "200",
                                    "MEGYS": "db",
                                    "FELVITTE": "Béla",
                                    "FELVITEL": "2016-08-17"
                                },
                                {
                                    "TERMEKKOD": "07080065T",
                                    "MEGNEVEZES": "Ceruza kínai",
                                    "KAT_ID": "19",
                                    "LISTAAR": "11",
                                    "LEIRAS": "NULL",
                                    "RAKTAR_KOD": "8",
                                    "KESZLET": "100",
                                    "MEGYS": "db",
                                    "FELVITTE": "Béla",
                                    "FELVITEL": "2016-08-17"
                                },
                                {
                                    "TERMEKKOD": "07080150T",
                                    "MEGNEVEZES": "Golyóstoll",
                                    "KAT_ID": "52",
                                    "LISTAAR": "51",
                                    "LEIRAS": "NULL",
                                    "RAKTAR_KOD": "6",
                                    "KESZLET": "100",
                                    "MEGYS": "db",
                                    "FELVITTE": "Béla",
                                    "FELVITEL": "2016-08-17"
                                },
                                {
                                    "TERMEKKOD": "07080151T",
                                    "MEGNEVEZES": "Golyóstoll + ceruza Twister 2in1",
                                    "KAT_ID": "52",
                                    "LISTAAR": "390",
                                    "LEIRAS": "NULL",
                                    "RAKTAR_KOD": "9",
                                    "KESZLET": "200",
                                    "MEGYS": "db",
                                    "FELVITTE": "Béla",
                                    "FELVITEL": "2016-08-17"
                                },
                                {
                                    "TERMEKKOD": "07080161T",
                                    "MEGNEVEZES": "Golyóstoll kétszínű",
                                    "KAT_ID": "52",
                                    "LISTAAR": "44",
                                    "LEIRAS": "NULL",
                                    "RAKTAR_KOD": "9",
                                    "KESZLET": "100",
                                    "MEGYS": "db",
                                    "FELVITTE": "Béla",
                                    "FELVITEL": "2016-08-16"
                                },
                                {
                                    "TERMEKKOD": "07080160T",
                                    "MEGNEVEZES": "Golyóstoll penac",
                                    "KAT_ID": "52",
                                    "LISTAAR": "239",
                                    "LEIRAS": "NULL",
                                    "RAKTAR_KOD": "7",
                                    "KESZLET": "200",
                                    "MEGYS": "db",
                                    "FELVITTE": "Béla",
                                    "FELVITEL": "2016-08-15"
                                },
                                {
                                    "TERMEKKOD": "07040169T",
                                    "MEGNEVEZES": "Golyóstoll Zodiák",
                                    "KAT_ID": "52",
                                    "LISTAAR": "94",
                                    "LEIRAS": "NULL",
                                    "RAKTAR_KOD": "8",
                                    "KESZLET": "1200",
                                    "MEGYS": "db",
                                    "FELVITTE": "Béla",
                                    "FELVITEL": "2016-08-14"
                                },
                                {
                                    "TERMEKKOD": "07040215T",
                                    "MEGNEVEZES": "Ironbél  2B ICO",
                                    "KAT_ID": "76",
                                    "LISTAAR": "74",
                                    "LEIRAS": "NULL",
                                    "RAKTAR_KOD": "7",
                                    "KESZLET": "200",
                                    "MEGYS": "db",
                                    "FELVITTE": "Béla",
                                    "FELVITEL": "2016-08-14"
                                },
                                {
                                    "TERMEKKOD": "07040218T",
                                    "MEGNEVEZES": "Ironbél HB 0,5",
                                    "KAT_ID": "76",
                                    "LISTAAR": "23",
                                    "LEIRAS": "NULL",
                                    "RAKTAR_KOD": "6",
                                    "KESZLET": "200",
                                    "MEGYS": "db",
                                    "FELVITTE": "Béla",
                                    "FELVITEL": "2016-08-13"
                                },
                                {
                                    "TERMEKKOD": "07050462T",
                                    "MEGNEVEZES": "Töltőtoll tinta ",
                                    "KAT_ID": "148",
                                    "LISTAAR": "493",
                                    "LEIRAS": "NULL",
                                    "RAKTAR_KOD": "5",
                                    "KESZLET": "300",
                                    "MEGYS": "üveg",
                                    "FELVITTE": "Mari",
                                    "FELVITEL": "2016-08-13"
                                },
                                {
                                    "TERMEKKOD": "07050463T",
                                    "MEGNEVEZES": "Ceruzafogó",
                                    "KAT_ID": "78",
                                    "LISTAAR": "36",
                                    "LEIRAS": "NULL",
                                    "RAKTAR_KOD": "8",
                                    "KESZLET": "700",
                                    "MEGYS": "db",
                                    "FELVITTE": "Sára",
                                    "FELVITEL": "2016-08-13"
                                },
                                {
                                    "TERMEKKOD": "07050464T",
                                    "MEGNEVEZES": "Szövegkiemelő Staedtler",
                                    "KAT_ID": "138",
                                    "LISTAAR": "140",
                                    "LEIRAS": "NULL",
                                    "RAKTAR_KOD": "7",
                                    "KESZLET": "900",
                                    "MEGYS": "db",
                                    "FELVITTE": "Sára",
                                    "FELVITEL": "2016-08-13"
                                },
                                {
                                    "TERMEKKOD": "F001-KB101",
                                    "MEGNEVEZES": "férfi szövet kabát",
                                    "KAT_ID": "38",
                                    "LISTAAR": "22000",
                                    "LEIRAS": "fekete (szövet) ",
                                    "RAKTAR_KOD": "1",
                                    "KESZLET": "173",
                                    "MEGYS": "db",
                                    "FELVITTE": "Sára",
                                    "FELVITEL": "2016-08-13"
                                },
                                {
                                    "TERMEKKOD": "F007-NA201",
                                    "MEGNEVEZES": "férfi farmer nadrág",
                                    "KAT_ID": "39",
                                    "LISTAAR": "7890",
                                    "LEIRAS": "kék (farmer) ",
                                    "RAKTAR_KOD": "3",
                                    "KESZLET": "105",
                                    "MEGYS": "db",
                                    "FELVITTE": "Sára",
                                    "FELVITEL": "2016-08-13"
                                },
                                {
                                    "TERMEKKOD": "F013-NA207",
                                    "MEGNEVEZES": "férfi szövet nadrág",
                                    "KAT_ID": "39",
                                    "LISTAAR": "11900",
                                    "LEIRAS": "barna (szövet) ",
                                    "RAKTAR_KOD": "1",
                                    "KESZLET": "389",
                                    "MEGYS": "db",
                                    "FELVITTE": "Sára",
                                    "FELVITEL": "2016-08-13"
                                },
                                {
                                    "TERMEKKOD": "F021-IN215",
                                    "MEGNEVEZES": "férfi ing",
                                    "KAT_ID": "37",
                                    "LISTAAR": "6490",
                                    "LEIRAS": "kék (pamut) ",
                                    "RAKTAR_KOD": "1",
                                    "KESZLET": "381",
                                    "MEGYS": "db",
                                    "FELVITTE": "Mari",
                                    "FELVITEL": "2016-08-13"
                                },
                                {
                                    "TERMEKKOD": "G013-NA201",
                                    "MEGNEVEZES": "gyermek farmer nadrág (fiú)",
                                    "KAT_ID": "56",
                                    "LISTAAR": "4990",
                                    "LEIRAS": "farmer ",
                                    "RAKTAR_KOD": "3",
                                    "KESZLET": "200",
                                    "MEGYS": "db",
                                    "FELVITTE": "Sára",
                                    "FELVITEL": "2016-08-13"
                                },
                                {
                                    "TERMEKKOD": "G019-NA207",
                                    "MEGNEVEZES": "gyermek pamut nadrág (fiú)",
                                    "KAT_ID": "56",
                                    "LISTAAR": "1290",
                                    "LEIRAS": "pamut ",
                                    "RAKTAR_KOD": "3",
                                    "KESZLET": "182",
                                    "MEGYS": "db",
                                    "FELVITTE": "Sára",
                                    "FELVITEL": "2016-08-13"
                                },
                                {
                                    "TERMEKKOD": "G023-FE301",
                                    "MEGNEVEZES": "fiú alsó",
                                    "KAT_ID": "35",
                                    "LISTAAR": "390",
                                    "LEIRAS": "mintás (pamut) ",
                                    "RAKTAR_KOD": "3",
                                    "KESZLET": "328",
                                    "MEGYS": "db",
                                    "FELVITTE": "Sára",
                                    "FELVITEL": "2016-08-13"
                                },
                                {
                                    "TERMEKKOD": "G029-FE307",
                                    "MEGNEVEZES": "fiú zokni",
                                    "KAT_ID": "35",
                                    "LISTAAR": "240",
                                    "LEIRAS": "mintás (pamut) ",
                                    "RAKTAR_KOD": "4",
                                    "KESZLET": "468",
                                    "MEGYS": "db",
                                    "FELVITTE": "Sára",
                                    "FELVITEL": "2016-08-13"
                                },
                                {
                                    "TERMEKKOD": "G038-FE316",
                                    "MEGNEVEZES": "fiú harisnya",
                                    "KAT_ID": "35",
                                    "LISTAAR": "990",
                                    "LEIRAS": "pókemeberes  ",
                                    "RAKTAR_KOD": "3",
                                    "KESZLET": "205",
                                    "MEGYS": "db",
                                    "FELVITTE": "Sára",
                                    "FELVITEL": "2016-08-13"
                                },
                                {
                                    "TERMEKKOD": "04050268T",
                                    "MEGNEVEZES": "Lufi formázható",
                                    "KAT_ID": "94",
                                    "LISTAAR": "15",
                                    "LEIRAS": "NULL",
                                    "RAKTAR_KOD": "7",
                                    "KESZLET": "3000",
                                    "MEGYS": "db",
                                    "FELVITTE": "Béla",
                                    "FELVITEL": "2016-08-13"
                                },
                                {
                                    "TERMEKKOD": "04050269T",
                                    "MEGNEVEZES": "Lufi hullámos",
                                    "KAT_ID": "94",
                                    "LISTAAR": "11",
                                    "LEIRAS": "NULL",
                                    "RAKTAR_KOD": "6",
                                    "KESZLET": "1300",
                                    "MEGYS": "db",
                                    "FELVITTE": "Béla",
                                    "FELVITEL": "2016-08-13"
                                },
                                {
                                    "TERMEKKOD": "04110230T",
                                    "MEGNEVEZES": "Képeslap humoros ",
                                    "KAT_ID": "85",
                                    "LISTAAR": "55",
                                    "LEIRAS": "NULL",
                                    "RAKTAR_KOD": "6",
                                    "KESZLET": "1000",
                                    "MEGYS": "db",
                                    "FELVITTE": "Mari",
                                    "FELVITEL": "2016-08-13"
                                },
                                {
                                    "TERMEKKOD": "04110231T",
                                    "MEGNEVEZES": "Képeslap humoros borítékos",
                                    "KAT_ID": "85",
                                    "LISTAAR": "81",
                                    "LEIRAS": "NULL",
                                    "RAKTAR_KOD": "5",
                                    "KESZLET": "1000",
                                    "MEGYS": "db",
                                    "FELVITTE": "Mari",
                                    "FELVITEL": "2016-08-13"
                                },
                                {
                                    "TERMEKKOD": "04110232T",
                                    "MEGNEVEZES": "Képeslap humoros kaparós",
                                    "KAT_ID": "85",
                                    "LISTAAR": "51",
                                    "LEIRAS": "NULL",
                                    "RAKTAR_KOD": "8",
                                    "KESZLET": "900",
                                    "MEGYS": "db",
                                    "FELVITTE": "Mari",
                                    "FELVITEL": "2016-08-12"
                                },
                                {
                                    "TERMEKKOD": "04050320T",
                                    "MEGNEVEZES": "Plüss  QX állatok",
                                    "KAT_ID": "119",
                                    "LISTAAR": "173",
                                    "LEIRAS": "NULL",
                                    "RAKTAR_KOD": "9",
                                    "KESZLET": "500",
                                    "MEGYS": "db",
                                    "FELVITTE": "Sára",
                                    "FELVITEL": "2016-08-12"
                                },
                                {
                                    "TERMEKKOD": "04050321T",
                                    "MEGNEVEZES": "Plüss kicsi",
                                    "KAT_ID": "119",
                                    "LISTAAR": "161",
                                    "LEIRAS": "NULL",
                                    "RAKTAR_KOD": "7",
                                    "KESZLET": "2000",
                                    "MEGYS": "db",
                                    "FELVITTE": "Sára",
                                    "FELVITEL": "2016-08-12"
                                },
                                {
                                    "TERMEKKOD": "04050322T",
                                    "MEGNEVEZES": "Plüss sárkány",
                                    "KAT_ID": "119",
                                    "LISTAAR": "314",
                                    "LEIRAS": "NULL",
                                    "RAKTAR_KOD": "5",
                                    "KESZLET": "100",
                                    "MEGYS": "db",
                                    "FELVITTE": "Sára",
                                    "FELVITEL": "2016-08-12"
                                },
                                {
                                    "TERMEKKOD": "06010202T",
                                    "MEGNEVEZES": "Hurkapálca 10 db-os",
                                    "KAT_ID": "78",
                                    "LISTAAR": "23",
                                    "LEIRAS": "NULL",
                                    "RAKTAR_KOD": "6",
                                    "KESZLET": "150",
                                    "MEGYS": "csomag",
                                    "FELVITTE": "Béla",
                                    "FELVITEL": "2016-08-12"
                                },
                                {
                                    "TERMEKKOD": "06010305T",
                                    "MEGNEVEZES": "Papírcenti 100 cm-es",
                                    "KAT_ID": "78",
                                    "LISTAAR": "9",
                                    "LEIRAS": "NULL",
                                    "RAKTAR_KOD": "6",
                                    "KESZLET": "100",
                                    "MEGYS": "db",
                                    "FELVITTE": "Béla",
                                    "FELVITEL": "2016-08-12"
                                },
                                {
                                    "TERMEKKOD": "06010343T",
                                    "MEGNEVEZES": "Ragasztószalag 19 mm-es SCOTCH+ tépő",
                                    "KAT_ID": "124",
                                    "LISTAAR": "426",
                                    "LEIRAS": "NULL",
                                    "RAKTAR_KOD": "6",
                                    "KESZLET": "1600",
                                    "MEGYS": "db",
                                    "FELVITTE": "Béla",
                                    "FELVITEL": "2016-08-12"
                                },
                                {
                                    "TERMEKKOD": "07080062T",
                                    "MEGNEVEZES": "Ceruza szén",
                                    "KAT_ID": "19",
                                    "LISTAAR": "146",
                                    "LEIRAS": "NULL",
                                    "RAKTAR_KOD": "5",
                                    "KESZLET": "200",
                                    "MEGYS": "db",
                                    "FELVITTE": "Sára",
                                    "FELVITEL": "2016-08-12"
                                },
                                {
                                    "TERMEKKOD": "07080063T",
                                    "MEGNEVEZES": "Ceruza szorzótáblás",
                                    "KAT_ID": "19",
                                    "LISTAAR": "35",
                                    "LEIRAS": "NULL",
                                    "RAKTAR_KOD": "7",
                                    "KESZLET": "100",
                                    "MEGYS": "db",
                                    "FELVITTE": "Sára",
                                    "FELVITEL": "2016-08-12"
                                },
                                {
                                    "TERMEKKOD": "07040219T",
                                    "MEGNEVEZES": "Ironbél HI-POLIMER HB 0,7",
                                    "KAT_ID": "76",
                                    "LISTAAR": "78",
                                    "LEIRAS": "NULL",
                                    "RAKTAR_KOD": "6",
                                    "KESZLET": "100",
                                    "MEGYS": "db",
                                    "FELVITTE": "Béla",
                                    "FELVITEL": "2016-08-12"
                                },
                                {
                                    "TERMEKKOD": "07040165T",
                                    "MEGNEVEZES": "Golyóstoll UNI laknock",
                                    "KAT_ID": "52",
                                    "LISTAAR": "218",
                                    "LEIRAS": "NULL",
                                    "RAKTAR_KOD": "9",
                                    "KESZLET": "100",
                                    "MEGYS": "db",
                                    "FELVITTE": "Sára",
                                    "FELVITEL": "2016-08-12"
                                },
                                {
                                    "TERMEKKOD": "07040257T",
                                    "MEGNEVEZES": "Lakk filc Edding 750",
                                    "KAT_ID": "41",
                                    "LISTAAR": "434",
                                    "LEIRAS": "NULL",
                                    "RAKTAR_KOD": "8",
                                    "KESZLET": "100",
                                    "MEGYS": "db",
                                    "FELVITTE": "Mari",
                                    "FELVITEL": "2016-08-11"
                                },
                                {
                                    "TERMEKKOD": "07040388T",
                                    "MEGNEVEZES": "Tintapatron /kék/",
                                    "KAT_ID": "143",
                                    "LISTAAR": "9",
                                    "LEIRAS": "NULL",
                                    "RAKTAR_KOD": "7",
                                    "KESZLET": "200",
                                    "MEGYS": "csomag",
                                    "FELVITTE": "Mari",
                                    "FELVITEL": "2016-08-11"
                                },
                                {
                                    "TERMEKKOD": "07040389T",
                                    "MEGNEVEZES": "Tintapatron 30 db-os kék",
                                    "KAT_ID": "143",
                                    "LISTAAR": "360",
                                    "LEIRAS": "NULL",
                                    "RAKTAR_KOD": "7",
                                    "KESZLET": "200",
                                    "MEGYS": "db",
                                    "FELVITTE": "Mari",
                                    "FELVITEL": "2016-08-11"
                                },
                                {
                                    "TERMEKKOD": "07040390T",
                                    "MEGNEVEZES": "Tintapatron színes",
                                    "KAT_ID": "143",
                                    "LISTAAR": "11",
                                    "LEIRAS": "NULL",
                                    "RAKTAR_KOD": "9",
                                    "KESZLET": "200",
                                    "MEGYS": "db",
                                    "FELVITTE": "Mari",
                                    "FELVITEL": "2016-08-11"
                                },
                                {
                                    "TERMEKKOD": "07040391T",
                                    "MEGNEVEZES": "Toll Centropen roller",
                                    "KAT_ID": "144",
                                    "LISTAAR": "80",
                                    "LEIRAS": "NULL",
                                    "RAKTAR_KOD": "9",
                                    "KESZLET": "200",
                                    "MEGYS": "db",
                                    "FELVITTE": "Mari",
                                    "FELVITEL": "2016-08-11"
                                },
                                {
                                    "TERMEKKOD": "06010366T",
                                    "MEGNEVEZES": "Számológép Roxin",
                                    "KAT_ID": "134",
                                    "LISTAAR": "508",
                                    "LEIRAS": "NULL",
                                    "RAKTAR_KOD": "6",
                                    "KESZLET": "300",
                                    "MEGYS": "db",
                                    "FELVITTE": "Béla",
                                    "FELVITEL": "2016-08-11"
                                },
                                {
                                    "TERMEKKOD": "06010367T",
                                    "MEGNEVEZES": "Számolókorong",
                                    "KAT_ID": "78",
                                    "LISTAAR": "35",
                                    "LEIRAS": "NULL",
                                    "RAKTAR_KOD": "6",
                                    "KESZLET": "300",
                                    "MEGYS": "csomag",
                                    "FELVITTE": "Béla",
                                    "FELVITEL": "2016-08-11"
                                },
                                {
                                    "TERMEKKOD": "05110364T",
                                    "MEGNEVEZES": "Szalvéta kicsi virágos",
                                    "KAT_ID": "133",
                                    "LISTAAR": "161",
                                    "LEIRAS": "NULL",
                                    "RAKTAR_KOD": "8",
                                    "KESZLET": "300",
                                    "MEGYS": "csomag",
                                    "FELVITTE": "Mari",
                                    "FELVITEL": "2016-08-11"
                                },
                                {
                                    "TERMEKKOD": "06010113T",
                                    "MEGNEVEZES": "Füzet 31-32 szótár",
                                    "KAT_ID": "45",
                                    "LISTAAR": "34",
                                    "LEIRAS": "NULL",
                                    "RAKTAR_KOD": "8",
                                    "KESZLET": "4500",
                                    "MEGYS": "db",
                                    "FELVITTE": "Sára",
                                    "FELVITEL": "2016-08-11"
                                },
                                {
                                    "TERMEKKOD": "06010114T",
                                    "MEGNEVEZES": "Füzet A/5 hangjegy 36/16",
                                    "KAT_ID": "45",
                                    "LISTAAR": "30",
                                    "LEIRAS": "NULL",
                                    "RAKTAR_KOD": "6",
                                    "KESZLET": "800",
                                    "MEGYS": "db",
                                    "FELVITTE": "Béla",
                                    "FELVITEL": "2016-08-11"
                                },
                                {
                                    "TERMEKKOD": "04080272T",
                                    "MEGNEVEZES": "Mappa PVC villámzáras  képes",
                                    "KAT_ID": "96",
                                    "LISTAAR": "360",
                                    "LEIRAS": "NULL",
                                    "RAKTAR_KOD": "9",
                                    "KESZLET": "1000",
                                    "MEGYS": "db",
                                    "FELVITTE": "Mari",
                                    "FELVITEL": "2016-08-11"
                                },
                                {
                                    "TERMEKKOD": "04080442T",
                                    "MEGNEVEZES": "Emlékkönyv",
                                    "KAT_ID": "32",
                                    "LISTAAR": "316",
                                    "LEIRAS": "NULL",
                                    "RAKTAR_KOD": "7",
                                    "KESZLET": "3000",
                                    "MEGYS": "db",
                                    "FELVITTE": "Mari",
                                    "FELVITEL": "2016-08-11"
                                },
                                {
                                    "TERMEKKOD": "04110227T",
                                    "MEGNEVEZES": "Képeslap  borítékos",
                                    "KAT_ID": "85",
                                    "LISTAAR": "33",
                                    "LEIRAS": "NULL",
                                    "RAKTAR_KOD": "6",
                                    "KESZLET": "100",
                                    "MEGYS": "db",
                                    "FELVITTE": "Mari",
                                    "FELVITEL": "2016-08-10"
                                },
                                {
                                    "TERMEKKOD": "04110228T",
                                    "MEGNEVEZES": "Képeslap \"Nászajándék\"",
                                    "KAT_ID": "85",
                                    "LISTAAR": "184",
                                    "LEIRAS": "NULL",
                                    "RAKTAR_KOD": "9",
                                    "KESZLET": "600",
                                    "MEGYS": "db",
                                    "FELVITTE": "Béla",
                                    "FELVITEL": "2016-08-10"
                                },
                                {
                                    "TERMEKKOD": "04110229T",
                                    "MEGNEVEZES": "Képeslap \"Részvét\"",
                                    "KAT_ID": "85",
                                    "LISTAAR": "33",
                                    "LEIRAS": "NULL",
                                    "RAKTAR_KOD": "5",
                                    "KESZLET": "200",
                                    "MEGYS": "db",
                                    "FELVITTE": "Béla",
                                    "FELVITEL": "2016-08-10"
                                },
                                {
                                    "TERMEKKOD": "06010201T",
                                    "MEGNEVEZES": "Hőmérő, műa.",
                                    "KAT_ID": "78",
                                    "LISTAAR": "36",
                                    "LEIRAS": "NULL",
                                    "RAKTAR_KOD": "6",
                                    "KESZLET": "1400",
                                    "MEGYS": "db",
                                    "FELVITTE": "Mari",
                                    "FELVITEL": "2016-08-10"
                                },
                                {
                                    "TERMEKKOD": "06010368T",
                                    "MEGNEVEZES": "Számolópálca",
                                    "KAT_ID": "78",
                                    "LISTAAR": "61",
                                    "LEIRAS": "NULL",
                                    "RAKTAR_KOD": "5",
                                    "KESZLET": "900",
                                    "MEGYS": "csomag",
                                    "FELVITTE": "Sára",
                                    "FELVITEL": "2016-08-10"
                                },
                                {
                                    "TERMEKKOD": "06010373T",
                                    "MEGNEVEZES": "Színes papír I.II-IV.V-VIII-ig",
                                    "KAT_ID": "78",
                                    "LISTAAR": "43",
                                    "LEIRAS": "NULL",
                                    "RAKTAR_KOD": "8",
                                    "KESZLET": "2200",
                                    "MEGYS": "db",
                                    "FELVITTE": "Sára",
                                    "FELVITEL": "2016-08-10"
                                },
                                {
                                    "TERMEKKOD": "06010365T",
                                    "MEGNEVEZES": "Számegyenes",
                                    "KAT_ID": "78",
                                    "LISTAAR": "36",
                                    "LEIRAS": "NULL",
                                    "RAKTAR_KOD": "8",
                                    "KESZLET": "900",
                                    "MEGYS": "db",
                                    "FELVITTE": "Béla",
                                    "FELVITEL": "2016-08-10"
                                },
                                {
                                    "TERMEKKOD": "07040166T",
                                    "MEGNEVEZES": "Golyóstoll Zebra 301",
                                    "KAT_ID": "52",
                                    "LISTAAR": "455",
                                    "LEIRAS": "NULL",
                                    "RAKTAR_KOD": "8",
                                    "KESZLET": "1400",
                                    "MEGYS": "db",
                                    "FELVITTE": "Béla",
                                    "FELVITEL": "2016-08-10"
                                },
                                {
                                    "TERMEKKOD": "07040167T",
                                    "MEGNEVEZES": "Golyóstoll Zebra mini",
                                    "KAT_ID": "52",
                                    "LISTAAR": "655",
                                    "LEIRAS": "NULL",
                                    "RAKTAR_KOD": "9",
                                    "KESZLET": "400",
                                    "MEGYS": "db",
                                    "FELVITTE": "Béla",
                                    "FELVITEL": "2016-08-10"
                                },
                                {
                                    "TERMEKKOD": "07040168T",
                                    "MEGNEVEZES": "Golyóstoll Zebra new hard",
                                    "KAT_ID": "52",
                                    "LISTAAR": "189",
                                    "LEIRAS": "NULL",
                                    "RAKTAR_KOD": "8",
                                    "KESZLET": "400",
                                    "MEGYS": "db",
                                    "FELVITTE": "Béla",
                                    "FELVITEL": "2016-08-10"
                                },
                                {
                                    "TERMEKKOD": "07040216T",
                                    "MEGNEVEZES": "Ironbél B 0,5",
                                    "KAT_ID": "76",
                                    "LISTAAR": "36",
                                    "LEIRAS": "NULL",
                                    "RAKTAR_KOD": "5",
                                    "KESZLET": "400",
                                    "MEGYS": "db",
                                    "FELVITTE": "Mari",
                                    "FELVITEL": "2016-08-10"
                                },
                                {
                                    "TERMEKKOD": "G041-AL211",
                                    "MEGNEVEZES": "fiú ünneplős ruha",
                                    "KAT_ID": "8",
                                    "LISTAAR": "16900",
                                    "LEIRAS": "NULL",
                                    "RAKTAR_KOD": "4",
                                    "KESZLET": "297",
                                    "MEGYS": "db",
                                    "FELVITTE": "Mari",
                                    "FELVITEL": "2016-08-10"
                                },
                                {
                                    "TERMEKKOD": "G048-PO218",
                                    "MEGNEVEZES": "gyermek póló (fiú)",
                                    "KAT_ID": "57",
                                    "LISTAAR": "3900",
                                    "LEIRAS": "pókemeberes (pamut) ",
                                    "RAKTAR_KOD": "3",
                                    "KESZLET": "355",
                                    "MEGYS": "db",
                                    "FELVITTE": "Mari",
                                    "FELVITEL": "2016-08-10"
                                },
                                {
                                    "TERMEKKOD": "07040217T",
                                    "MEGNEVEZES": "Ironbél H 0,5",
                                    "KAT_ID": "76",
                                    "LISTAAR": "59",
                                    "LEIRAS": "NULL",
                                    "RAKTAR_KOD": "6",
                                    "KESZLET": "200",
                                    "MEGYS": "db",
                                    "FELVITTE": "Béla",
                                    "FELVITEL": "2016-08-09"
                                },
                                {
                                    "TERMEKKOD": "06010083T",
                                    "MEGNEVEZES": "Ecset Centrum 7,8,9",
                                    "KAT_ID": "30",
                                    "LISTAAR": "33",
                                    "LEIRAS": "NULL",
                                    "RAKTAR_KOD": "6",
                                    "KESZLET": "900",
                                    "MEGYS": "db",
                                    "FELVITTE": "Sára",
                                    "FELVITEL": "2016-08-09"
                                },
                                {
                                    "TERMEKKOD": "06010084T",
                                    "MEGNEVEZES": "Ecset Deák 2-es",
                                    "KAT_ID": "30",
                                    "LISTAAR": "60",
                                    "LEIRAS": "NULL",
                                    "RAKTAR_KOD": "9",
                                    "KESZLET": "200",
                                    "MEGYS": "db",
                                    "FELVITTE": "Sára",
                                    "FELVITEL": "2016-08-09"
                                },
                                {
                                    "TERMEKKOD": "06010085T",
                                    "MEGNEVEZES": "Ecset Lizzy 10-es",
                                    "KAT_ID": "30",
                                    "LISTAAR": "65",
                                    "LEIRAS": "NULL",
                                    "RAKTAR_KOD": "5",
                                    "KESZLET": "200",
                                    "MEGYS": "db",
                                    "FELVITTE": "Sára",
                                    "FELVITEL": "2016-08-09"
                                },
                                {
                                    "TERMEKKOD": "05050465T",
                                    "MEGNEVEZES": "Tapétavágó kés",
                                    "KAT_ID": "140",
                                    "LISTAAR": "40",
                                    "LEIRAS": "NULL",
                                    "RAKTAR_KOD": "6",
                                    "KESZLET": "1600",
                                    "MEGYS": "db",
                                    "FELVITTE": "Mari",
                                    "FELVITEL": "2016-08-09"
                                },
                                {
                                    "TERMEKKOD": "05080340T",
                                    "MEGNEVEZES": "Ragasztó, Technokol 35g kék",
                                    "KAT_ID": "124",
                                    "LISTAAR": "144",
                                    "LEIRAS": "NULL",
                                    "RAKTAR_KOD": "8",
                                    "KESZLET": "200",
                                    "MEGYS": "db",
                                    "FELVITTE": "Mari",
                                    "FELVITEL": "2016-08-09"
                                },
                                {
                                    "TERMEKKOD": "05080341T",
                                    "MEGNEVEZES": "Ragasztó, Technokol 35g piros",
                                    "KAT_ID": "124",
                                    "LISTAAR": "144",
                                    "LEIRAS": "NULL",
                                    "RAKTAR_KOD": "6",
                                    "KESZLET": "1100",
                                    "MEGYS": "db",
                                    "FELVITTE": "Mari",
                                    "FELVITEL": "2016-08-09"
                                },
                                {
                                    "TERMEKKOD": "05110359T",
                                    "MEGNEVEZES": "Szalvéta ",
                                    "KAT_ID": "133",
                                    "LISTAAR": "176",
                                    "LEIRAS": "NULL",
                                    "RAKTAR_KOD": "8",
                                    "KESZLET": "100",
                                    "MEGYS": "csomag",
                                    "FELVITTE": "Mari",
                                    "FELVITEL": "2016-08-09"
                                },
                                {
                                    "TERMEKKOD": "04110067T",
                                    "MEGNEVEZES": "Címke WD. állat",
                                    "KAT_ID": "20",
                                    "LISTAAR": "31",
                                    "LEIRAS": "NULL",
                                    "RAKTAR_KOD": "7",
                                    "KESZLET": "300",
                                    "MEGYS": "db",
                                    "FELVITTE": "Sára",
                                    "FELVITEL": "2016-08-09"
                                },
                                {
                                    "TERMEKKOD": "04050251T",
                                    "MEGNEVEZES": "Kulcstartó billiárd golyós",
                                    "KAT_ID": "91",
                                    "LISTAAR": "148",
                                    "LEIRAS": "NULL",
                                    "RAKTAR_KOD": "8",
                                    "KESZLET": "3500",
                                    "MEGYS": "db",
                                    "FELVITTE": "Béla",
                                    "FELVITEL": "2016-08-09"
                                },
                                {
                                    "TERMEKKOD": "04050255T",
                                    "MEGNEVEZES": "Kulcstartó mesefigurás",
                                    "KAT_ID": "91",
                                    "LISTAAR": "36",
                                    "LEIRAS": "NULL",
                                    "RAKTAR_KOD": "9",
                                    "KESZLET": "2010",
                                    "MEGYS": "db",
                                    "FELVITTE": "Mari",
                                    "FELVITEL": "2016-08-09"
                                },
                                {
                                    "TERMEKKOD": "04050256T",
                                    "MEGNEVEZES": "Kulcstartó nagyítós",
                                    "KAT_ID": "91",
                                    "LISTAAR": "129",
                                    "LEIRAS": "NULL",
                                    "RAKTAR_KOD": "9",
                                    "KESZLET": "2500",
                                    "MEGYS": "db",
                                    "FELVITTE": "Mari",
                                    "FELVITEL": "2016-08-09"
                                },
                                {
                                    "TERMEKKOD": "04050267T",
                                    "MEGNEVEZES": "Logikai készlet",
                                    "KAT_ID": "5",
                                    "LISTAAR": "129",
                                    "LEIRAS": "NULL",
                                    "RAKTAR_KOD": "5",
                                    "KESZLET": "2000",
                                    "MEGYS": "db",
                                    "FELVITTE": "Mari",
                                    "FELVITEL": "2016-08-09"
                                },
                                {
                                    "TERMEKKOD": "04050358T",
                                    "MEGNEVEZES": "Strandlabda ",
                                    "KAT_ID": "132",
                                    "LISTAAR": "356",
                                    "LEIRAS": "NULL",
                                    "RAKTAR_KOD": "8",
                                    "KESZLET": "100",
                                    "MEGYS": "db",
                                    "FELVITTE": "Sára",
                                    "FELVITEL": "2016-08-08"
                                },
                                {
                                    "TERMEKKOD": "04080270T",
                                    "MEGNEVEZES": "Mappa bőr A5",
                                    "KAT_ID": "96",
                                    "LISTAAR": "1765",
                                    "LEIRAS": "NULL",
                                    "RAKTAR_KOD": "6",
                                    "KESZLET": "200",
                                    "MEGYS": "db",
                                    "FELVITTE": "Sára",
                                    "FELVITEL": "2016-08-08"
                                },
                                {
                                    "TERMEKKOD": "06010086T",
                                    "MEGNEVEZES": "Ecset Nebulo 4-es",
                                    "KAT_ID": "30",
                                    "LISTAAR": "36",
                                    "LEIRAS": "NULL",
                                    "RAKTAR_KOD": "8",
                                    "KESZLET": "3600",
                                    "MEGYS": "db",
                                    "FELVITTE": "Mari",
                                    "FELVITEL": "2016-08-08"
                                },
                                {
                                    "TERMEKKOD": "06010111T",
                                    "MEGNEVEZES": "Füzet  A/4 ",
                                    "KAT_ID": "45",
                                    "LISTAAR": "68",
                                    "LEIRAS": "NULL",
                                    "RAKTAR_KOD": "9",
                                    "KESZLET": "600",
                                    "MEGYS": "db",
                                    "FELVITTE": "Mari",
                                    "FELVITEL": "2016-08-08"
                                },
                                {
                                    "TERMEKKOD": "06010036T",
                                    "MEGNEVEZES": "Betűtartó sin",
                                    "KAT_ID": "78",
                                    "LISTAAR": "33",
                                    "LEIRAS": "NULL",
                                    "RAKTAR_KOD": "7",
                                    "KESZLET": "300",
                                    "MEGYS": "db",
                                    "FELVITTE": "Béla",
                                    "FELVITEL": "2016-08-08"
                                },
                                {
                                    "TERMEKKOD": "06010082T",
                                    "MEGNEVEZES": "Ecset Centrum 10,11,12",
                                    "KAT_ID": "30",
                                    "LISTAAR": "40",
                                    "LEIRAS": "NULL",
                                    "RAKTAR_KOD": "8",
                                    "KESZLET": "200",
                                    "MEGYS": "db",
                                    "FELVITTE": "Béla",
                                    "FELVITEL": "2016-08-08"
                                },
                                {
                                    "TERMEKKOD": "05050170T",
                                    "MEGNEVEZES": "Gumigyűrű",
                                    "KAT_ID": "53",
                                    "LISTAAR": "19",
                                    "LEIRAS": "NULL",
                                    "RAKTAR_KOD": "9",
                                    "KESZLET": "400",
                                    "MEGYS": "csomag",
                                    "FELVITTE": "Béla",
                                    "FELVITEL": "2016-08-08"
                                },
                                {
                                    "TERMEKKOD": "05050346T",
                                    "MEGNEVEZES": "Rágógumi Orbit",
                                    "KAT_ID": "126",
                                    "LISTAAR": "89",
                                    "LEIRAS": "NULL",
                                    "RAKTAR_KOD": "9",
                                    "KESZLET": "400",
                                    "MEGYS": "csomag",
                                    "FELVITTE": "Béla",
                                    "FELVITEL": "2016-08-08"
                                },
                                {
                                    "TERMEKKOD": "06010374T",
                                    "MEGNEVEZES": "Szorzótábla műanyag",
                                    "KAT_ID": "78",
                                    "LISTAAR": "45",
                                    "LEIRAS": "NULL",
                                    "RAKTAR_KOD": "8",
                                    "KESZLET": "1600",
                                    "MEGYS": "db",
                                    "FELVITTE": "Béla",
                                    "FELVITEL": "2016-08-08"
                                },
                                {
                                    "TERMEKKOD": "06010375T",
                                    "MEGNEVEZES": "Szögmérő 180 fokos műa.",
                                    "KAT_ID": "137",
                                    "LISTAAR": "24",
                                    "LEIRAS": "NULL",
                                    "RAKTAR_KOD": "6",
                                    "KESZLET": "200",
                                    "MEGYS": "db",
                                    "FELVITTE": "Béla",
                                    "FELVITEL": "2016-08-08"
                                },
                                {
                                    "TERMEKKOD": "06010115T",
                                    "MEGNEVEZES": "Füzet A/5, mintás",
                                    "KAT_ID": "45",
                                    "LISTAAR": "48",
                                    "LEIRAS": "NULL",
                                    "RAKTAR_KOD": "9",
                                    "KESZLET": "100",
                                    "MEGYS": "db",
                                    "FELVITTE": "Béla",
                                    "FELVITEL": "2016-08-08"
                                },
                                {
                                    "TERMEKKOD": "07040135T",
                                    "MEGNEVEZES": "G.toll betét Parker ",
                                    "KAT_ID": "145",
                                    "LISTAAR": "684",
                                    "LEIRAS": "NULL",
                                    "RAKTAR_KOD": "6",
                                    "KESZLET": "4300",
                                    "MEGYS": "db",
                                    "FELVITTE": "Mari",
                                    "FELVITEL": "2016-08-08"
                                },
                                {
                                    "TERMEKKOD": "G001-KB101",
                                    "MEGNEVEZES": "gyermek kabát (fiú)",
                                    "KAT_ID": "55",
                                    "LISTAAR": "8900",
                                    "LEIRAS": "NULL",
                                    "RAKTAR_KOD": "1",
                                    "KESZLET": "396",
                                    "MEGYS": "db",
                                    "FELVITTE": "Sára",
                                    "FELVITEL": "2016-08-08"
                                },
                                {
                                    "TERMEKKOD": "04080271T",
                                    "MEGNEVEZES": "Mappa PVC villámzáras",
                                    "KAT_ID": "96",
                                    "LISTAAR": "264",
                                    "LEIRAS": "NULL",
                                    "RAKTAR_KOD": "8",
                                    "KESZLET": "100",
                                    "MEGYS": "db",
                                    "FELVITTE": "Sára",
                                    "FELVITEL": "2016-08-07"
                                },
                                {
                                    "TERMEKKOD": "04110233T",
                                    "MEGNEVEZES": "Képeslap humoros",
                                    "KAT_ID": "85",
                                    "LISTAAR": "89",
                                    "LEIRAS": "NULL",
                                    "RAKTAR_KOD": "5",
                                    "KESZLET": "700",
                                    "MEGYS": "db",
                                    "FELVITTE": "Béla",
                                    "FELVITEL": "2016-08-07"
                                },
                                {
                                    "TERMEKKOD": "04080443T",
                                    "MEGNEVEZES": "Emlékkönyv lakatos",
                                    "KAT_ID": "32",
                                    "LISTAAR": "449",
                                    "LEIRAS": "NULL",
                                    "RAKTAR_KOD": "7",
                                    "KESZLET": "1000",
                                    "MEGYS": "db",
                                    "FELVITTE": "Sára",
                                    "FELVITEL": "2016-08-06"
                                },
                                {
                                    "TERMEKKOD": "04110066T",
                                    "MEGNEVEZES": "Címke 8 db-os",
                                    "KAT_ID": "20",
                                    "LISTAAR": "26",
                                    "LEIRAS": "NULL",
                                    "RAKTAR_KOD": "7",
                                    "KESZLET": "700",
                                    "MEGYS": "db",
                                    "FELVITTE": "Sára",
                                    "FELVITEL": "2016-08-06"
                                },
                                {
                                    "TERMEKKOD": "04050253T",
                                    "MEGNEVEZES": "Kulcstartó figurás",
                                    "KAT_ID": "91",
                                    "LISTAAR": "103",
                                    "LEIRAS": "NULL",
                                    "RAKTAR_KOD": "8",
                                    "KESZLET": "1200",
                                    "MEGYS": "db",
                                    "FELVITTE": "Mari",
                                    "FELVITEL": "2016-08-06"
                                },
                                {
                                    "TERMEKKOD": "04050254T",
                                    "MEGNEVEZES": "Kulcstartó intarziás állatos",
                                    "KAT_ID": "91",
                                    "LISTAAR": "155",
                                    "LEIRAS": "NULL",
                                    "RAKTAR_KOD": "9",
                                    "KESZLET": "800",
                                    "MEGYS": "db",
                                    "FELVITTE": "Mari",
                                    "FELVITEL": "2016-08-06"
                                },
                                {
                                    "TERMEKKOD": "06040172T",
                                    "MEGNEVEZES": "Gumis mappa csomagolt",
                                    "KAT_ID": "96",
                                    "LISTAAR": "195",
                                    "LEIRAS": "NULL",
                                    "RAKTAR_KOD": "7",
                                    "KESZLET": "2000",
                                    "MEGYS": "db",
                                    "FELVITTE": "Mari",
                                    "FELVITEL": "2016-08-06"
                                },
                                {
                                    "TERMEKKOD": "06040173T",
                                    "MEGNEVEZES": "Gumis mappa fóliázott állatos",
                                    "KAT_ID": "96",
                                    "LISTAAR": "211",
                                    "LEIRAS": "NULL",
                                    "RAKTAR_KOD": "7",
                                    "KESZLET": "1800",
                                    "MEGYS": "db",
                                    "FELVITTE": "Mari",
                                    "FELVITEL": "2016-08-06"
                                },
                                {
                                    "TERMEKKOD": "06010112T",
                                    "MEGNEVEZES": "Füzet  A4 mintás",
                                    "KAT_ID": "45",
                                    "LISTAAR": "78",
                                    "LEIRAS": "NULL",
                                    "RAKTAR_KOD": "9",
                                    "KESZLET": "1500",
                                    "MEGYS": "db",
                                    "FELVITTE": "Mari",
                                    "FELVITEL": "2016-08-06"
                                },
                                {
                                    "TERMEKKOD": "05110360T",
                                    "MEGNEVEZES": "Szalvéta egyszínű",
                                    "KAT_ID": "133",
                                    "LISTAAR": "118",
                                    "LEIRAS": "NULL",
                                    "RAKTAR_KOD": "6",
                                    "KESZLET": "1000",
                                    "MEGYS": "csomag",
                                    "FELVITTE": "Béla",
                                    "FELVITEL": "2016-08-06"
                                },
                                {
                                    "TERMEKKOD": "05110361T",
                                    "MEGNEVEZES": "Szalvéta Goma húsvéti",
                                    "KAT_ID": "133",
                                    "LISTAAR": "175",
                                    "LEIRAS": "NULL",
                                    "RAKTAR_KOD": "7",
                                    "KESZLET": "1500",
                                    "MEGYS": "csomag",
                                    "FELVITTE": "Béla",
                                    "FELVITEL": "2016-08-06"
                                },
                                {
                                    "TERMEKKOD": "05110363T",
                                    "MEGNEVEZES": "Szalvéta dekor",
                                    "KAT_ID": "133",
                                    "LISTAAR": "133",
                                    "LEIRAS": "NULL",
                                    "RAKTAR_KOD": "9",
                                    "KESZLET": "100",
                                    "MEGYS": "csomag",
                                    "FELVITTE": "Béla",
                                    "FELVITEL": "2016-08-06"
                                },
                                {
                                    "TERMEKKOD": "04050252T",
                                    "MEGNEVEZES": "Kulcstartó Csőrikés",
                                    "KAT_ID": "91",
                                    "LISTAAR": "124",
                                    "LEIRAS": "NULL",
                                    "RAKTAR_KOD": "8",
                                    "KESZLET": "1000",
                                    "MEGYS": "db",
                                    "FELVITTE": "Béla",
                                    "FELVITEL": "2016-08-05"
                                },
                                {
                                    "TERMEKKOD": "04110068T",
                                    "MEGNEVEZES": "Címke egyszínű",
                                    "KAT_ID": "20",
                                    "LISTAAR": "20",
                                    "LEIRAS": "NULL",
                                    "RAKTAR_KOD": "9",
                                    "KESZLET": "200",
                                    "MEGYS": "db",
                                    "FELVITTE": "Béla",
                                    "FELVITEL": "2016-08-05"
                                },
                                {
                                    "TERMEKKOD": "04050250T",
                                    "MEGNEVEZES": "Kulcstartó autós",
                                    "KAT_ID": "91",
                                    "LISTAAR": "115",
                                    "LEIRAS": "NULL",
                                    "RAKTAR_KOD": "8",
                                    "KESZLET": "3700",
                                    "MEGYS": "db",
                                    "FELVITTE": "Béla",
                                    "FELVITEL": "2016-08-05"
                                },
                                {
                                    "TERMEKKOD": "G064-CI401",
                                    "MEGNEVEZES": "gyermek szandál (fiú)",
                                    "KAT_ID": "54",
                                    "LISTAAR": "6900",
                                    "LEIRAS": "NULL",
                                    "RAKTAR_KOD": "1",
                                    "KESZLET": "376",
                                    "MEGYS": "db",
                                    "FELVITTE": "Sára",
                                    "FELVITEL": "2016-08-05"
                                },
                                {
                                    "TERMEKKOD": "07040133T",
                                    "MEGNEVEZES": "G.toll betét görbe hegyű",
                                    "KAT_ID": "145",
                                    "LISTAAR": "39",
                                    "LEIRAS": "NULL",
                                    "RAKTAR_KOD": "5",
                                    "KESZLET": "200",
                                    "MEGYS": "db",
                                    "FELVITTE": "Sára",
                                    "FELVITEL": "2016-08-05"
                                },
                                {
                                    "TERMEKKOD": "07040134T",
                                    "MEGNEVEZES": "G.toll betét illatos",
                                    "KAT_ID": "145",
                                    "LISTAAR": "44",
                                    "LEIRAS": "NULL",
                                    "RAKTAR_KOD": "7",
                                    "KESZLET": "3500",
                                    "MEGYS": "db",
                                    "FELVITTE": "Béla",
                                    "FELVITEL": "2016-08-04"
                                },
                                {
                                    "TERMEKKOD": "06040180T",
                                    "MEGNEVEZES": "Gyurma színes natúr",
                                    "KAT_ID": "59",
                                    "LISTAAR": "228",
                                    "LEIRAS": "NULL",
                                    "RAKTAR_KOD": "8",
                                    "KESZLET": "400",
                                    "MEGYS": "db",
                                    "FELVITTE": "Mari",
                                    "FELVITEL": "2016-08-04"
                                },
                                {
                                    "TERMEKKOD": "05050046T",
                                    "MEGNEVEZES": "Celofán 50 db-os",
                                    "KAT_ID": "18",
                                    "LISTAAR": "73",
                                    "LEIRAS": "NULL",
                                    "RAKTAR_KOD": "8",
                                    "KESZLET": "100",
                                    "MEGYS": "db",
                                    "FELVITTE": "Béla",
                                    "FELVITEL": "2016-08-03"
                                },
                                {
                                    "TERMEKKOD": "06010376T",
                                    "MEGNEVEZES": "Szögmérő papír",
                                    "KAT_ID": "137",
                                    "LISTAAR": "11",
                                    "LEIRAS": "NULL",
                                    "RAKTAR_KOD": "6",
                                    "KESZLET": "100",
                                    "MEGYS": "db",
                                    "FELVITTE": "Béla",
                                    "FELVITEL": "2016-08-03"
                                },
                                {
                                    "TERMEKKOD": "05010306T",
                                    "MEGNEVEZES": "Papízsebkendő,10db Szindy",
                                    "KAT_ID": "114",
                                    "LISTAAR": "20",
                                    "LEIRAS": "NULL",
                                    "RAKTAR_KOD": "8",
                                    "KESZLET": "5000",
                                    "MEGYS": "csomag",
                                    "FELVITTE": "Sára",
                                    "FELVITEL": "2016-08-03"
                                },
                                {
                                    "TERMEKKOD": "05010369T",
                                    "MEGNEVEZES": "Szemetes zsák 60 literes",
                                    "KAT_ID": "135",
                                    "LISTAAR": "129",
                                    "LEIRAS": "NULL",
                                    "RAKTAR_KOD": "7",
                                    "KESZLET": "300",
                                    "MEGYS": "csomag",
                                    "FELVITTE": "Sára",
                                    "FELVITEL": "2016-08-03"
                                },
                                {
                                    "TERMEKKOD": "05010370T",
                                    "MEGNEVEZES": "Szilvia csomagoló",
                                    "KAT_ID": "22",
                                    "LISTAAR": "89",
                                    "LEIRAS": "NULL",
                                    "RAKTAR_KOD": "7",
                                    "KESZLET": "100",
                                    "MEGYS": "db",
                                    "FELVITTE": "Sára",
                                    "FELVITEL": "2016-08-03"
                                },
                                {
                                    "TERMEKKOD": "04110258T",
                                    "MEGNEVEZES": "Lampion",
                                    "KAT_ID": "5",
                                    "LISTAAR": "73",
                                    "LEIRAS": "NULL",
                                    "RAKTAR_KOD": "9",
                                    "KESZLET": "1000",
                                    "MEGYS": "db",
                                    "FELVITTE": "Mari",
                                    "FELVITEL": "2016-08-03"
                                },
                                {
                                    "TERMEKKOD": "G073-CI410",
                                    "MEGNEVEZES": "gyermek cipő (fiú)",
                                    "KAT_ID": "54",
                                    "LISTAAR": "7900",
                                    "LEIRAS": "NULL",
                                    "RAKTAR_KOD": "2",
                                    "KESZLET": "406",
                                    "MEGYS": "db",
                                    "FELVITTE": "Sára",
                                    "FELVITEL": "2016-08-03"
                                },
                                {
                                    "TERMEKKOD": "G082-CI419",
                                    "MEGNEVEZES": "gyermek csizma (fiú)",
                                    "KAT_ID": "54",
                                    "LISTAAR": "8000",
                                    "LEIRAS": "NULL",
                                    "RAKTAR_KOD": "3",
                                    "KESZLET": "229",
                                    "MEGYS": "db",
                                    "FELVITTE": "Sára",
                                    "FELVITEL": "2016-08-03"
                                },
                                {
                                    "TERMEKKOD": "L001-KB101",
                                    "MEGNEVEZES": "gyermek kabát (lány)",
                                    "KAT_ID": "55",
                                    "LISTAAR": "8900",
                                    "LEIRAS": "rózsaszín  ",
                                    "RAKTAR_KOD": "1",
                                    "KESZLET": "78",
                                    "MEGYS": "db",
                                    "FELVITTE": "Sára",
                                    "FELVITEL": "2016-08-03"
                                },
                                {
                                    "TERMEKKOD": "L013-NA201",
                                    "MEGNEVEZES": "gyermek farmer nadrág (lány)",
                                    "KAT_ID": "56",
                                    "LISTAAR": "4990",
                                    "LEIRAS": "kék (farmer) ",
                                    "RAKTAR_KOD": "3",
                                    "KESZLET": "449",
                                    "MEGYS": "db",
                                    "FELVITTE": "Béla",
                                    "FELVITEL": "2016-08-02"
                                },
                                {
                                    "TERMEKKOD": "07040055T",
                                    "MEGNEVEZES": "Ceruza piros-kék",
                                    "KAT_ID": "19",
                                    "LISTAAR": "59",
                                    "LEIRAS": "NULL",
                                    "RAKTAR_KOD": "9",
                                    "KESZLET": "200",
                                    "MEGYS": "db",
                                    "FELVITTE": "Sára",
                                    "FELVITEL": "2016-08-02"
                                },
                                {
                                    "TERMEKKOD": "07040056T",
                                    "MEGNEVEZES": "Ceruza piros-kék vékony",
                                    "KAT_ID": "19",
                                    "LISTAAR": "40",
                                    "LEIRAS": "NULL",
                                    "RAKTAR_KOD": "7",
                                    "KESZLET": "500",
                                    "MEGYS": "db",
                                    "FELVITTE": "Sára",
                                    "FELVITEL": "2016-08-02"
                                },
                                {
                                    "TERMEKKOD": "07040057T",
                                    "MEGNEVEZES": "Ceruza Progresso",
                                    "KAT_ID": "19",
                                    "LISTAAR": "106",
                                    "LEIRAS": "NULL",
                                    "RAKTAR_KOD": "7",
                                    "KESZLET": "100",
                                    "MEGYS": "db",
                                    "FELVITTE": "Sára",
                                    "FELVITEL": "2016-08-02"
                                },
                                {
                                    "TERMEKKOD": "07040058T",
                                    "MEGNEVEZES": "Ceruza radíros kínai",
                                    "KAT_ID": "19",
                                    "LISTAAR": "11",
                                    "LEIRAS": "NULL",
                                    "RAKTAR_KOD": "7",
                                    "KESZLET": "200",
                                    "MEGYS": "db",
                                    "FELVITTE": "Sára",
                                    "FELVITEL": "2016-08-02"
                                },
                                {
                                    "TERMEKKOD": "07040059T",
                                    "MEGNEVEZES": "Ceruza smaragd",
                                    "KAT_ID": "19",
                                    "LISTAAR": "58",
                                    "LEIRAS": "NULL",
                                    "RAKTAR_KOD": "9",
                                    "KESZLET": "300",
                                    "MEGYS": "db",
                                    "FELVITTE": "Sára",
                                    "FELVITEL": "2016-08-02"
                                },
                                {
                                    "TERMEKKOD": "07040060T",
                                    "MEGNEVEZES": "Ceruza stabilo swano",
                                    "KAT_ID": "19",
                                    "LISTAAR": "36",
                                    "LEIRAS": "NULL",
                                    "RAKTAR_KOD": "6",
                                    "KESZLET": "100",
                                    "MEGYS": "db",
                                    "FELVITTE": "Sára",
                                    "FELVITEL": "2016-08-02"
                                },
                                {
                                    "TERMEKKOD": "07040131T",
                                    "MEGNEVEZES": "G. toll betét UNI lachnok Fine SA-7C",
                                    "KAT_ID": "145",
                                    "LISTAAR": "85",
                                    "LEIRAS": "NULL",
                                    "RAKTAR_KOD": "9",
                                    "KESZLET": "1900",
                                    "MEGYS": "db",
                                    "FELVITTE": "Mari",
                                    "FELVITEL": "2016-08-02"
                                },
                                {
                                    "TERMEKKOD": "07040132T",
                                    "MEGNEVEZES": "G.toll betét csavaros",
                                    "KAT_ID": "145",
                                    "LISTAAR": "55",
                                    "LEIRAS": "NULL",
                                    "RAKTAR_KOD": "8",
                                    "KESZLET": "500",
                                    "MEGYS": "db",
                                    "FELVITTE": "Mari",
                                    "FELVITEL": "2016-08-02"
                                },
                                {
                                    "TERMEKKOD": "07010138T",
                                    "MEGNEVEZES": "G.toll betét jumbo",
                                    "KAT_ID": "145",
                                    "LISTAAR": "33",
                                    "LEIRAS": "NULL",
                                    "RAKTAR_KOD": "8",
                                    "KESZLET": "1700",
                                    "MEGYS": "db",
                                    "FELVITTE": "Mari",
                                    "FELVITEL": "2016-08-02"
                                },
                                {
                                    "TERMEKKOD": "07010139T",
                                    "MEGNEVEZES": "G.toll betét S7L ",
                                    "KAT_ID": "145",
                                    "LISTAAR": "91",
                                    "LEIRAS": "NULL",
                                    "RAKTAR_KOD": "6",
                                    "KESZLET": "1000",
                                    "MEGYS": "db",
                                    "FELVITTE": "Mari",
                                    "FELVITEL": "2016-08-02"
                                },
                                {
                                    "TERMEKKOD": "04050223T",
                                    "MEGNEVEZES": "Játékautó mini",
                                    "KAT_ID": "79",
                                    "LISTAAR": "73",
                                    "LEIRAS": "NULL",
                                    "RAKTAR_KOD": "7",
                                    "KESZLET": "400",
                                    "MEGYS": "db",
                                    "FELVITTE": "Sára",
                                    "FELVITEL": "2016-08-01"
                                },
                                {
                                    "TERMEKKOD": "04050224T",
                                    "MEGNEVEZES": "Jelzőkréta",
                                    "KAT_ID": "80",
                                    "LISTAAR": "48",
                                    "LEIRAS": "NULL",
                                    "RAKTAR_KOD": "5",
                                    "KESZLET": "800",
                                    "MEGYS": "db",
                                    "FELVITTE": "Sára",
                                    "FELVITEL": "2016-08-01"
                                },
                                {
                                    "TERMEKKOD": "04050225T",
                                    "MEGNEVEZES": "Kártya mini Magyar",
                                    "KAT_ID": "84",
                                    "LISTAAR": "131",
                                    "LEIRAS": "NULL",
                                    "RAKTAR_KOD": "6",
                                    "KESZLET": "2800",
                                    "MEGYS": "db",
                                    "FELVITTE": "Sára",
                                    "FELVITEL": "2016-08-01"
                                },
                                {
                                    "TERMEKKOD": "04050073T",
                                    "MEGNEVEZES": "Díszdoboz kar.",
                                    "KAT_ID": "27",
                                    "LISTAAR": "61",
                                    "LEIRAS": "NULL",
                                    "RAKTAR_KOD": "9",
                                    "KESZLET": "300",
                                    "MEGYS": "db",
                                    "FELVITTE": "Béla",
                                    "FELVITEL": "2016-08-01"
                                },
                                {
                                    "TERMEKKOD": "06010377T",
                                    "MEGNEVEZES": "Szögmérő színes",
                                    "KAT_ID": "137",
                                    "LISTAAR": "8",
                                    "LEIRAS": "NULL",
                                    "RAKTAR_KOD": "9",
                                    "KESZLET": "200",
                                    "MEGYS": "db",
                                    "FELVITTE": "Mari",
                                    "FELVITEL": "2016-08-01"
                                },
                                {
                                    "TERMEKKOD": "06040087T",
                                    "MEGNEVEZES": "Ecset Nebuló 10-es",
                                    "KAT_ID": "30",
                                    "LISTAAR": "79",
                                    "LEIRAS": "NULL",
                                    "RAKTAR_KOD": "7",
                                    "KESZLET": "4000",
                                    "MEGYS": "db",
                                    "FELVITTE": "Mari",
                                    "FELVITEL": "2016-08-01"
                                },
                                {
                                    "TERMEKKOD": "06040088T",
                                    "MEGNEVEZES": "Egészségügyi könyv",
                                    "KAT_ID": "78",
                                    "LISTAAR": "51",
                                    "LEIRAS": "NULL",
                                    "RAKTAR_KOD": "7",
                                    "KESZLET": "4400",
                                    "MEGYS": "db",
                                    "FELVITTE": "Sára",
                                    "FELVITEL": "2016-08-01"
                                },
                                {
                                    "TERMEKKOD": "06040089T",
                                    "MEGNEVEZES": "Ellenőrzőborító",
                                    "KAT_ID": "78",
                                    "LISTAAR": "5",
                                    "LEIRAS": "NULL",
                                    "RAKTAR_KOD": "7",
                                    "KESZLET": "200",
                                    "MEGYS": "db",
                                    "FELVITTE": "Sára",
                                    "FELVITEL": "2016-08-01"
                                },
                                {
                                    "TERMEKKOD": "06040174T",
                                    "MEGNEVEZES": "Gumis mappa ",
                                    "KAT_ID": "96",
                                    "LISTAAR": "148",
                                    "LEIRAS": "NULL",
                                    "RAKTAR_KOD": "6",
                                    "KESZLET": "7000",
                                    "MEGYS": "db",
                                    "FELVITTE": "Sára",
                                    "FELVITEL": "2016-08-01"
                                },
                                {
                                    "TERMEKKOD": "06040175T",
                                    "MEGNEVEZES": "Gumis mappa Köbüki",
                                    "KAT_ID": "96",
                                    "LISTAAR": "191",
                                    "LEIRAS": "NULL",
                                    "RAKTAR_KOD": "8",
                                    "KESZLET": "400",
                                    "MEGYS": "db",
                                    "FELVITTE": "Sára",
                                    "FELVITEL": "2016-08-01"
                                },
                                {
                                    "TERMEKKOD": "06040179T",
                                    "MEGNEVEZES": "Gyurma színes 200 g-os",
                                    "KAT_ID": "59",
                                    "LISTAAR": "180",
                                    "LEIRAS": "NULL",
                                    "RAKTAR_KOD": "6",
                                    "KESZLET": "100",
                                    "MEGYS": "db",
                                    "FELVITTE": "Sára",
                                    "FELVITEL": "2016-08-01"
                                },
                                {
                                    "TERMEKKOD": "06040181T",
                                    "MEGNEVEZES": "Gyűjtőlap A/4",
                                    "KAT_ID": "78",
                                    "LISTAAR": "8",
                                    "LEIRAS": "NULL",
                                    "RAKTAR_KOD": "6",
                                    "KESZLET": "2600",
                                    "MEGYS": "db",
                                    "FELVITTE": "Mari",
                                    "FELVITEL": "2016-08-01"
                                },
                                {
                                    "TERMEKKOD": "06040182T",
                                    "MEGNEVEZES": "Gyűrűskönyv bet. A/4",
                                    "KAT_ID": "60",
                                    "LISTAAR": "184",
                                    "LEIRAS": "NULL",
                                    "RAKTAR_KOD": "7",
                                    "KESZLET": "2600",
                                    "MEGYS": "db",
                                    "FELVITTE": "Mari",
                                    "FELVITEL": "2016-08-01"
                                },
                                {
                                    "TERMEKKOD": "06040183T",
                                    "MEGNEVEZES": "Gyűrűskönyv bet. A/5",
                                    "KAT_ID": "60",
                                    "LISTAAR": "95",
                                    "LEIRAS": "NULL",
                                    "RAKTAR_KOD": "9",
                                    "KESZLET": "200",
                                    "MEGYS": "db",
                                    "FELVITTE": "Mari",
                                    "FELVITEL": "2016-08-01"
                                },
                                {
                                    "TERMEKKOD": "06040212T",
                                    "MEGNEVEZES": "Írólap 10-50 ffam.",
                                    "KAT_ID": "75",
                                    "LISTAAR": "29",
                                    "LEIRAS": "NULL",
                                    "RAKTAR_KOD": "8",
                                    "KESZLET": "400",
                                    "MEGYS": "db",
                                    "FELVITTE": "Sára",
                                    "FELVITEL": "2016-08-01"
                                },
                                {
                                    "TERMEKKOD": "03080006T",
                                    "MEGNEVEZES": "Ajándék cs. tasak mintás kicsi",
                                    "KAT_ID": "6",
                                    "LISTAAR": "26",
                                    "LEIRAS": "NULL",
                                    "RAKTAR_KOD": "8",
                                    "KESZLET": "100",
                                    "MEGYS": "db",
                                    "FELVITTE": "Mari",
                                    "FELVITEL": "2016-07-31"
                                },
                                {
                                    "TERMEKKOD": "07040128T",
                                    "MEGNEVEZES": "G. toll betét mini fém",
                                    "KAT_ID": "145",
                                    "LISTAAR": "55",
                                    "LEIRAS": "NULL",
                                    "RAKTAR_KOD": "6",
                                    "KESZLET": "100",
                                    "MEGYS": "db",
                                    "FELVITTE": "Béla",
                                    "FELVITEL": "2016-07-31"
                                },
                                {
                                    "TERMEKKOD": "07040129T",
                                    "MEGNEVEZES": "G. toll betét réz",
                                    "KAT_ID": "145",
                                    "LISTAAR": "30",
                                    "LEIRAS": "NULL",
                                    "RAKTAR_KOD": "5",
                                    "KESZLET": "200",
                                    "MEGYS": "db",
                                    "FELVITTE": "Béla",
                                    "FELVITEL": "2016-07-31"
                                },
                                {
                                    "TERMEKKOD": "07040130T",
                                    "MEGNEVEZES": "G. toll betét S7S",
                                    "KAT_ID": "145",
                                    "LISTAAR": "80",
                                    "LEIRAS": "NULL",
                                    "RAKTAR_KOD": "6",
                                    "KESZLET": "200",
                                    "MEGYS": "db",
                                    "FELVITTE": "Béla",
                                    "FELVITEL": "2016-07-31"
                                },
                                {
                                    "TERMEKKOD": "07010137T",
                                    "MEGNEVEZES": "G.toll betét PAX tip.",
                                    "KAT_ID": "145",
                                    "LISTAAR": "48",
                                    "LEIRAS": "NULL",
                                    "RAKTAR_KOD": "6",
                                    "KESZLET": "600",
                                    "MEGYS": "db",
                                    "FELVITTE": "Sára",
                                    "FELVITEL": "2016-07-31"
                                },
                                {
                                    "TERMEKKOD": "07040061T",
                                    "MEGNEVEZES": "Ceruza stabilo opera",
                                    "KAT_ID": "19",
                                    "LISTAAR": "44",
                                    "LEIRAS": "NULL",
                                    "RAKTAR_KOD": "9",
                                    "KESZLET": "300",
                                    "MEGYS": "db",
                                    "FELVITTE": "Sára",
                                    "FELVITEL": "2016-07-30"
                                },
                                {
                                    "TERMEKKOD": "06080425T",
                                    "MEGNEVEZES": "Miliméterpapír",
                                    "KAT_ID": "99",
                                    "LISTAAR": "8",
                                    "LEIRAS": "NULL",
                                    "RAKTAR_KOD": "6",
                                    "KESZLET": "400",
                                    "MEGYS": "db",
                                    "FELVITTE": "Sára",
                                    "FELVITEL": "2016-07-30"
                                },
                                {
                                    "TERMEKKOD": "03080010T",
                                    "MEGNEVEZES": "Ajándék csom. 150x70",
                                    "KAT_ID": "6",
                                    "LISTAAR": "206",
                                    "LEIRAS": "NULL",
                                    "RAKTAR_KOD": "9",
                                    "KESZLET": "1900",
                                    "MEGYS": "db",
                                    "FELVITTE": "Mari",
                                    "FELVITEL": "2016-07-30"
                                },
                                {
                                    "TERMEKKOD": "04030264T",
                                    "MEGNEVEZES": "Levélpapír szett ",
                                    "KAT_ID": "93",
                                    "LISTAAR": "74",
                                    "LEIRAS": "NULL",
                                    "RAKTAR_KOD": "6",
                                    "KESZLET": "300",
                                    "MEGYS": "db",
                                    "FELVITTE": "Mari",
                                    "FELVITEL": "2016-07-30"
                                },
                                {
                                    "TERMEKKOD": "04030265T",
                                    "MEGNEVEZES": "Levélpapír szett natur, mintás",
                                    "KAT_ID": "93",
                                    "LISTAAR": "103",
                                    "LEIRAS": "NULL",
                                    "RAKTAR_KOD": "6",
                                    "KESZLET": "200",
                                    "MEGYS": "db",
                                    "FELVITTE": "Mari",
                                    "FELVITEL": "2016-07-30"
                                },
                                {
                                    "TERMEKKOD": "04030266T",
                                    "MEGNEVEZES": "Levélpapír szett virágos",
                                    "KAT_ID": "93",
                                    "LISTAAR": "169",
                                    "LEIRAS": "NULL",
                                    "RAKTAR_KOD": "7",
                                    "KESZLET": "500",
                                    "MEGYS": "db",
                                    "FELVITTE": "Mari",
                                    "FELVITEL": "2016-07-30"
                                },
                                {
                                    "TERMEKKOD": "04030285T",
                                    "MEGNEVEZES": "Mikulás zacskó",
                                    "KAT_ID": "6",
                                    "LISTAAR": "11",
                                    "LEIRAS": "NULL",
                                    "RAKTAR_KOD": "8",
                                    "KESZLET": "300",
                                    "MEGYS": "db",
                                    "FELVITTE": "Mari",
                                    "FELVITEL": "2016-07-30"
                                },
                                {
                                    "TERMEKKOD": "04030286T",
                                    "MEGNEVEZES": "Műanyag állatok",
                                    "KAT_ID": "25",
                                    "LISTAAR": "44",
                                    "LEIRAS": "NULL",
                                    "RAKTAR_KOD": "5",
                                    "KESZLET": "300",
                                    "MEGYS": "db",
                                    "FELVITTE": "Mari",
                                    "FELVITEL": "2016-07-30"
                                },
                                {
                                    "TERMEKKOD": "05040310T",
                                    "MEGNEVEZES": "Pill.ragasztó",
                                    "KAT_ID": "124",
                                    "LISTAAR": "103",
                                    "LEIRAS": "NULL",
                                    "RAKTAR_KOD": "8",
                                    "KESZLET": "300",
                                    "MEGYS": "db",
                                    "FELVITTE": "Béla",
                                    "FELVITEL": "2016-07-30"
                                },
                                {
                                    "TERMEKKOD": "05040348T",
                                    "MEGNEVEZES": "Rajzszeg színes",
                                    "KAT_ID": "128",
                                    "LISTAAR": "106",
                                    "LEIRAS": "NULL",
                                    "RAKTAR_KOD": "8",
                                    "KESZLET": "200",
                                    "MEGYS": "csomag",
                                    "FELVITTE": "Béla",
                                    "FELVITEL": "2016-07-30"
                                },
                                {
                                    "TERMEKKOD": "05040349T",
                                    "MEGNEVEZES": "Rajzszeg",
                                    "KAT_ID": "128",
                                    "LISTAAR": "63",
                                    "LEIRAS": "NULL",
                                    "RAKTAR_KOD": "6",
                                    "KESZLET": "600",
                                    "MEGYS": "db",
                                    "FELVITTE": "Béla",
                                    "FELVITEL": "2016-07-30"
                                },
                                {
                                    "TERMEKKOD": "05050045T",
                                    "MEGNEVEZES": "Celofán",
                                    "KAT_ID": "18",
                                    "LISTAAR": "46",
                                    "LEIRAS": "NULL",
                                    "RAKTAR_KOD": "8",
                                    "KESZLET": "200",
                                    "MEGYS": "csomag",
                                    "FELVITTE": "Béla",
                                    "FELVITEL": "2016-07-30"
                                },
                                {
                                    "TERMEKKOD": "04110273T",
                                    "MEGNEVEZES": "Matrica állatos",
                                    "KAT_ID": "97",
                                    "LISTAAR": "55",
                                    "LEIRAS": "NULL",
                                    "RAKTAR_KOD": "5",
                                    "KESZLET": "6200",
                                    "MEGYS": "db",
                                    "FELVITTE": "Mari",
                                    "FELVITEL": "2016-07-29"
                                },
                                {
                                    "TERMEKKOD": "04030262T",
                                    "MEGNEVEZES": "Levélpapír sima",
                                    "KAT_ID": "93",
                                    "LISTAAR": "56",
                                    "LEIRAS": "NULL",
                                    "RAKTAR_KOD": "6",
                                    "KESZLET": "600",
                                    "MEGYS": "csomag",
                                    "FELVITTE": "Sára",
                                    "FELVITEL": "2016-07-29"
                                },
                                {
                                    "TERMEKKOD": "04030263T",
                                    "MEGNEVEZES": "Levélpapír szett",
                                    "KAT_ID": "93",
                                    "LISTAAR": "89",
                                    "LEIRAS": "NULL",
                                    "RAKTAR_KOD": "7",
                                    "KESZLET": "1300",
                                    "MEGYS": "db",
                                    "FELVITTE": "Sára",
                                    "FELVITEL": "2016-07-29"
                                },
                                {
                                    "TERMEKKOD": "05010027T",
                                    "MEGNEVEZES": "Alufólia 20 m-es",
                                    "KAT_ID": "9",
                                    "LISTAAR": "214",
                                    "LEIRAS": "NULL",
                                    "RAKTAR_KOD": "6",
                                    "KESZLET": "5900",
                                    "MEGYS": "db",
                                    "FELVITTE": "Mari",
                                    "FELVITEL": "2016-07-29"
                                },
                                {
                                    "TERMEKKOD": "03080017T",
                                    "MEGNEVEZES": "iskolai csomagoló papír",
                                    "KAT_ID": "24",
                                    "LISTAAR": "148",
                                    "LEIRAS": "NULL",
                                    "RAKTAR_KOD": "9",
                                    "KESZLET": "100",
                                    "MEGYS": "db",
                                    "FELVITTE": "Sára",
                                    "FELVITEL": "2016-07-29"
                                },
                                {
                                    "TERMEKKOD": "03080018T",
                                    "MEGNEVEZES": "Ajándék csom. gyűrt 50x70 ",
                                    "KAT_ID": "24",
                                    "LISTAAR": "121",
                                    "LEIRAS": "NULL",
                                    "RAKTAR_KOD": "5",
                                    "KESZLET": "2600",
                                    "MEGYS": "ív",
                                    "FELVITTE": "Sára",
                                    "FELVITEL": "2016-07-29"
                                },
                                {
                                    "TERMEKKOD": "02080226T",
                                    "MEGNEVEZES": "Kapocskiszedő",
                                    "KAT_ID": "82",
                                    "LISTAAR": "106",
                                    "LEIRAS": "NULL",
                                    "RAKTAR_KOD": "8",
                                    "KESZLET": "1300",
                                    "MEGYS": "db",
                                    "FELVITTE": "Béla",
                                    "FELVITEL": "2016-07-29"
                                },
                                {
                                    "TERMEKKOD": "02060448T",
                                    "MEGNEVEZES": "Bélyegző RP 18-47",
                                    "KAT_ID": "14",
                                    "LISTAAR": "1147",
                                    "LEIRAS": "NULL",
                                    "RAKTAR_KOD": "7",
                                    "KESZLET": "1200",
                                    "MEGYS": "db",
                                    "FELVITTE": "Sára",
                                    "FELVITEL": "2016-07-29"
                                },
                                {
                                    "TERMEKKOD": "02080069T",
                                    "MEGNEVEZES": "CD tartó tok",
                                    "KAT_ID": "17",
                                    "LISTAAR": "30",
                                    "LEIRAS": "NULL",
                                    "RAKTAR_KOD": "8",
                                    "KESZLET": "400",
                                    "MEGYS": "db",
                                    "FELVITTE": "Sára",
                                    "FELVITEL": "2016-07-29"
                                },
                                {
                                    "TERMEKKOD": "07040097T",
                                    "MEGNEVEZES": "Filctoll ",
                                    "KAT_ID": "41",
                                    "LISTAAR": "26",
                                    "LEIRAS": "NULL",
                                    "RAKTAR_KOD": "8",
                                    "KESZLET": "100",
                                    "MEGYS": "db",
                                    "FELVITTE": "Béla",
                                    "FELVITEL": "2016-07-29"
                                },
                                {
                                    "TERMEKKOD": "07040098T",
                                    "MEGNEVEZES": "Filctoll document pen",
                                    "KAT_ID": "41",
                                    "LISTAAR": "278",
                                    "LEIRAS": "NULL",
                                    "RAKTAR_KOD": "5",
                                    "KESZLET": "100",
                                    "MEGYS": "db",
                                    "FELVITTE": "Béla",
                                    "FELVITEL": "2016-07-29"
                                },
                                {
                                    "TERMEKKOD": "07040099T",
                                    "MEGNEVEZES": "Filctoll Edding 750",
                                    "KAT_ID": "41",
                                    "LISTAAR": "434",
                                    "LEIRAS": "NULL",
                                    "RAKTAR_KOD": "9",
                                    "KESZLET": "200",
                                    "MEGYS": "csomag",
                                    "FELVITTE": "Sára",
                                    "FELVITEL": "2016-07-29"
                                },
                                {
                                    "TERMEKKOD": "07040100T",
                                    "MEGNEVEZES": "Filctoll Marvy alkoholos",
                                    "KAT_ID": "41",
                                    "LISTAAR": "390",
                                    "LEIRAS": "NULL",
                                    "RAKTAR_KOD": "5",
                                    "KESZLET": "200",
                                    "MEGYS": "db",
                                    "FELVITTE": "Sára",
                                    "FELVITEL": "2016-07-29"
                                },
                                {
                                    "TERMEKKOD": "L019-NA207",
                                    "MEGNEVEZES": "gyermek pamut nadrág (lány)",
                                    "KAT_ID": "56",
                                    "LISTAAR": "1290",
                                    "LEIRAS": "rózsaszín (pamut) ",
                                    "RAKTAR_KOD": "1",
                                    "KESZLET": "162",
                                    "MEGYS": "db",
                                    "FELVITTE": "Mari",
                                    "FELVITEL": "2016-07-29"
                                },
                                {
                                    "TERMEKKOD": "07040101T",
                                    "MEGNEVEZES": "Filctoll permanent vastag",
                                    "KAT_ID": "41",
                                    "LISTAAR": "140",
                                    "LEIRAS": "NULL",
                                    "RAKTAR_KOD": "9",
                                    "KESZLET": "700",
                                    "MEGYS": "db",
                                    "FELVITTE": "Sára",
                                    "FELVITEL": "2016-07-28"
                                },
                                {
                                    "TERMEKKOD": "07040102T",
                                    "MEGNEVEZES": "Filctoll supra fine",
                                    "KAT_ID": "41",
                                    "LISTAAR": "46",
                                    "LEIRAS": "NULL",
                                    "RAKTAR_KOD": "7",
                                    "KESZLET": "100",
                                    "MEGYS": "db",
                                    "FELVITTE": "Sára",
                                    "FELVITEL": "2016-07-28"
                                },
                                {
                                    "TERMEKKOD": "07040127T",
                                    "MEGNEVEZES": "G. toll betét mini",
                                    "KAT_ID": "145",
                                    "LISTAAR": "30",
                                    "LEIRAS": "NULL",
                                    "RAKTAR_KOD": "9",
                                    "KESZLET": "100",
                                    "MEGYS": "db",
                                    "FELVITTE": "Sára",
                                    "FELVITEL": "2016-07-28"
                                },
                                {
                                    "TERMEKKOD": "07040054T",
                                    "MEGNEVEZES": "Ceruza kártyás",
                                    "KAT_ID": "19",
                                    "LISTAAR": "55",
                                    "LEIRAS": "NULL",
                                    "RAKTAR_KOD": "7",
                                    "KESZLET": "100",
                                    "MEGYS": "db",
                                    "FELVITTE": "Mari",
                                    "FELVITEL": "2016-07-28"
                                },
                                {
                                    "TERMEKKOD": "07010140T",
                                    "MEGNEVEZES": "G.toll betét Stabilo",
                                    "KAT_ID": "145",
                                    "LISTAAR": "23",
                                    "LEIRAS": "NULL",
                                    "RAKTAR_KOD": "5",
                                    "KESZLET": "1200",
                                    "MEGYS": "db",
                                    "FELVITTE": "Béla",
                                    "FELVITEL": "2016-07-28"
                                },
                                {
                                    "TERMEKKOD": "07010142T",
                                    "MEGNEVEZES": "G.toll betét Zebra F-0.7",
                                    "KAT_ID": "145",
                                    "LISTAAR": "228",
                                    "LEIRAS": "NULL",
                                    "RAKTAR_KOD": "5",
                                    "KESZLET": "100",
                                    "MEGYS": "db",
                                    "FELVITTE": "Mari",
                                    "FELVITEL": "2016-07-28"
                                },
                                {
                                    "TERMEKKOD": "07010143T",
                                    "MEGNEVEZES": "G.toll betét Zebra H-0,7",
                                    "KAT_ID": "145",
                                    "LISTAAR": "78",
                                    "LEIRAS": "NULL",
                                    "RAKTAR_KOD": "7",
                                    "KESZLET": "200",
                                    "MEGYS": "db",
                                    "FELVITTE": "Mari",
                                    "FELVITEL": "2016-07-28"
                                },
                                {
                                    "TERMEKKOD": "02080435T",
                                    "MEGNEVEZES": "Mappa bemutató",
                                    "KAT_ID": "96",
                                    "LISTAAR": "184",
                                    "LEIRAS": "NULL",
                                    "RAKTAR_KOD": "9",
                                    "KESZLET": "10000",
                                    "MEGYS": "db",
                                    "FELVITTE": "Sára",
                                    "FELVITEL": "2016-07-28"
                                },
                                {
                                    "TERMEKKOD": "02080431T",
                                    "MEGNEVEZES": "Álló irattartó",
                                    "KAT_ID": "73",
                                    "LISTAAR": "214",
                                    "LEIRAS": "NULL",
                                    "RAKTAR_KOD": "8",
                                    "KESZLET": "200",
                                    "MEGYS": "db",
                                    "FELVITTE": "Sára",
                                    "FELVITEL": "2016-07-28"
                                },
                                {
                                    "TERMEKKOD": "02080432T",
                                    "MEGNEVEZES": "Tokos iratrendező",
                                    "KAT_ID": "71",
                                    "LISTAAR": "259",
                                    "LEIRAS": "NULL",
                                    "RAKTAR_KOD": "5",
                                    "KESZLET": "1100",
                                    "MEGYS": "db",
                                    "FELVITTE": "Sára",
                                    "FELVITEL": "2016-07-28"
                                },
                                {
                                    "TERMEKKOD": "02080433T",
                                    "MEGNEVEZES": "Ragasztószalag 19 mm-es",
                                    "KAT_ID": "125",
                                    "LISTAAR": "55",
                                    "LEIRAS": "NULL",
                                    "RAKTAR_KOD": "9",
                                    "KESZLET": "200",
                                    "MEGYS": "db",
                                    "FELVITTE": "Sára",
                                    "FELVITEL": "2016-07-28"
                                },
                                {
                                    "TERMEKKOD": "02040508T",
                                    "MEGNEVEZES": "Fólia tasakos A4100 mik.",
                                    "KAT_ID": "43",
                                    "LISTAAR": "44",
                                    "LEIRAS": "NULL",
                                    "RAKTAR_KOD": "8",
                                    "KESZLET": "100",
                                    "MEGYS": "ív",
                                    "FELVITTE": "Sára",
                                    "FELVITEL": "2016-07-28"
                                },
                                {
                                    "TERMEKKOD": "03080438T",
                                    "MEGNEVEZES": "Ajándék csomagoló tasak lézeres",
                                    "KAT_ID": "6",
                                    "LISTAAR": "214",
                                    "LEIRAS": "NULL",
                                    "RAKTAR_KOD": "7",
                                    "KESZLET": "3900",
                                    "MEGYS": "db",
                                    "FELVITTE": "Sára",
                                    "FELVITEL": "2016-07-28"
                                },
                                {
                                    "TERMEKKOD": "03080439T",
                                    "MEGNEVEZES": "Italtartó doboz",
                                    "KAT_ID": "6",
                                    "LISTAAR": "114",
                                    "LEIRAS": "NULL",
                                    "RAKTAR_KOD": "8",
                                    "KESZLET": "1100",
                                    "MEGYS": "db",
                                    "FELVITTE": "Sára",
                                    "FELVITEL": "2016-07-28"
                                },
                                {
                                    "TERMEKKOD": "03080011T",
                                    "MEGNEVEZES": "Ajándék cs. tasak közepes",
                                    "KAT_ID": "6",
                                    "LISTAAR": "148",
                                    "LEIRAS": "NULL",
                                    "RAKTAR_KOD": "6",
                                    "KESZLET": "2300",
                                    "MEGYS": "db",
                                    "FELVITTE": "Mari",
                                    "FELVITEL": "2016-07-28"
                                },
                                {
                                    "TERMEKKOD": "03080012T",
                                    "MEGNEVEZES": "Ajándék csom. 200x70",
                                    "KAT_ID": "6",
                                    "LISTAAR": "125",
                                    "LEIRAS": "NULL",
                                    "RAKTAR_KOD": "8",
                                    "KESZLET": "300",
                                    "MEGYS": "db",
                                    "FELVITTE": "Mari",
                                    "FELVITEL": "2016-07-28"
                                },
                                {
                                    "TERMEKKOD": "06040213T",
                                    "MEGNEVEZES": "Írólap 20-50 ",
                                    "KAT_ID": "75",
                                    "LISTAAR": "34",
                                    "LEIRAS": "NULL",
                                    "RAKTAR_KOD": "8",
                                    "KESZLET": "100",
                                    "MEGYS": "db",
                                    "FELVITTE": "Sára",
                                    "FELVITEL": "2016-07-28"
                                },
                                {
                                    "TERMEKKOD": "06040205T",
                                    "MEGNEVEZES": "Indigó Pelikán",
                                    "KAT_ID": "68",
                                    "LISTAAR": "15",
                                    "LEIRAS": "NULL",
                                    "RAKTAR_KOD": "5",
                                    "KESZLET": "200",
                                    "MEGYS": "db",
                                    "FELVITTE": "Sára",
                                    "FELVITEL": "2016-07-28"
                                },
                                {
                                    "TERMEKKOD": "04050074T",
                                    "MEGNEVEZES": "Díszdoboz tollnak 2 db-os",
                                    "KAT_ID": "27",
                                    "LISTAAR": "66",
                                    "LEIRAS": "NULL",
                                    "RAKTAR_KOD": "7",
                                    "KESZLET": "100",
                                    "MEGYS": "db",
                                    "FELVITTE": "Mari",
                                    "FELVITEL": "2016-07-28"
                                },
                                {
                                    "TERMEKKOD": "04050023T",
                                    "MEGNEVEZES": "Álarc fejdísz",
                                    "KAT_ID": "7",
                                    "LISTAAR": "144",
                                    "LEIRAS": "NULL",
                                    "RAKTAR_KOD": "8",
                                    "KESZLET": "1000",
                                    "MEGYS": "db",
                                    "FELVITTE": "Sára",
                                    "FELVITEL": "2016-07-27"
                                },
                                {
                                    "TERMEKKOD": "04050024T",
                                    "MEGNEVEZES": "Álarc szemüveg",
                                    "KAT_ID": "7",
                                    "LISTAAR": "144",
                                    "LEIRAS": "NULL",
                                    "RAKTAR_KOD": "7",
                                    "KESZLET": "1000",
                                    "MEGYS": "db",
                                    "FELVITTE": "Sára",
                                    "FELVITEL": "2016-07-27"
                                },
                                {
                                    "TERMEKKOD": "04050035T",
                                    "MEGNEVEZES": "Bérlet tok",
                                    "KAT_ID": "5",
                                    "LISTAAR": "24",
                                    "LEIRAS": "NULL",
                                    "RAKTAR_KOD": "5",
                                    "KESZLET": "1500",
                                    "MEGYS": "db",
                                    "FELVITTE": "Sára",
                                    "FELVITEL": "2016-07-27"
                                },
                                {
                                    "TERMEKKOD": "04050220T",
                                    "MEGNEVEZES": "Játék autó",
                                    "KAT_ID": "79",
                                    "LISTAAR": "65",
                                    "LEIRAS": "NULL",
                                    "RAKTAR_KOD": "7",
                                    "KESZLET": "400",
                                    "MEGYS": "db",
                                    "FELVITTE": "Mari",
                                    "FELVITEL": "2016-07-27"
                                },
                                {
                                    "TERMEKKOD": "04050221T",
                                    "MEGNEVEZES": "Játékautó Blisteres",
                                    "KAT_ID": "79",
                                    "LISTAAR": "133",
                                    "LEIRAS": "NULL",
                                    "RAKTAR_KOD": "7",
                                    "KESZLET": "500",
                                    "MEGYS": "db",
                                    "FELVITTE": "Mari",
                                    "FELVITEL": "2016-07-27"
                                },
                                {
                                    "TERMEKKOD": "04050222T",
                                    "MEGNEVEZES": "Játékautó elemes",
                                    "KAT_ID": "79",
                                    "LISTAAR": "165",
                                    "LEIRAS": "NULL",
                                    "RAKTAR_KOD": "7",
                                    "KESZLET": "100",
                                    "MEGYS": "db",
                                    "FELVITTE": "Mari",
                                    "FELVITEL": "2016-07-27"
                                },
                                {
                                    "TERMEKKOD": "06040184T",
                                    "MEGNEVEZES": "Gyűrűskönyv betét A/5",
                                    "KAT_ID": "60",
                                    "LISTAAR": "218",
                                    "LEIRAS": "NULL",
                                    "RAKTAR_KOD": "9",
                                    "KESZLET": "100",
                                    "MEGYS": "db",
                                    "FELVITTE": "Mari",
                                    "FELVITEL": "2016-07-27"
                                },
                                {
                                    "TERMEKKOD": "06040185T",
                                    "MEGNEVEZES": "Gyűrűskönyv",
                                    "KAT_ID": "60",
                                    "LISTAAR": "581",
                                    "LEIRAS": "NULL",
                                    "RAKTAR_KOD": "9",
                                    "KESZLET": "1800",
                                    "MEGYS": "db",
                                    "FELVITTE": "Mari",
                                    "FELVITEL": "2016-07-27"
                                },
                                {
                                    "TERMEKKOD": "06040186T",
                                    "MEGNEVEZES": "Gyűrűskönyv színes",
                                    "KAT_ID": "60",
                                    "LISTAAR": "699",
                                    "LEIRAS": "NULL",
                                    "RAKTAR_KOD": "6",
                                    "KESZLET": "700",
                                    "MEGYS": "db",
                                    "FELVITTE": "Sára",
                                    "FELVITEL": "2016-07-27"
                                },
                                {
                                    "TERMEKKOD": "03080007T",
                                    "MEGNEVEZES": "Ajándék cs. tasak mintás nagy",
                                    "KAT_ID": "6",
                                    "LISTAAR": "206",
                                    "LEIRAS": "NULL",
                                    "RAKTAR_KOD": "9",
                                    "KESZLET": "2000",
                                    "MEGYS": "db",
                                    "FELVITTE": "Mari",
                                    "FELVITEL": "2016-07-27"
                                },
                                {
                                    "TERMEKKOD": "03080008T",
                                    "MEGNEVEZES": "Ajándék cs. tasak kicsi",
                                    "KAT_ID": "6",
                                    "LISTAAR": "103",
                                    "LEIRAS": "NULL",
                                    "RAKTAR_KOD": "7",
                                    "KESZLET": "2200",
                                    "MEGYS": "db",
                                    "FELVITTE": "Mari",
                                    "FELVITEL": "2016-07-27"
                                },
                                {
                                    "TERMEKKOD": "03080009T",
                                    "MEGNEVEZES": "Ajándék csom. 100x70 metál",
                                    "KAT_ID": "6",
                                    "LISTAAR": "148",
                                    "LEIRAS": "NULL",
                                    "RAKTAR_KOD": "8",
                                    "KESZLET": "700",
                                    "MEGYS": "db",
                                    "FELVITTE": "Mari",
                                    "FELVITEL": "2016-07-27"
                                },
                                {
                                    "TERMEKKOD": "03080031T",
                                    "MEGNEVEZES": "Ajándék cs. húsvéti",
                                    "KAT_ID": "24",
                                    "LISTAAR": "106",
                                    "LEIRAS": "NULL",
                                    "RAKTAR_KOD": "6",
                                    "KESZLET": "2100",
                                    "MEGYS": "db",
                                    "FELVITTE": "Sára",
                                    "FELVITEL": "2016-07-27"
                                },
                                {
                                    "TERMEKKOD": "03080437T",
                                    "MEGNEVEZES": "Ajándék csomagoló tasak",
                                    "KAT_ID": "6",
                                    "LISTAAR": "185",
                                    "LEIRAS": "NULL",
                                    "RAKTAR_KOD": "7",
                                    "KESZLET": "3600",
                                    "MEGYS": "db",
                                    "FELVITTE": "Sára",
                                    "FELVITEL": "2016-07-27"
                                },
                                {
                                    "TERMEKKOD": "03080005T",
                                    "MEGNEVEZES": "Ajándék cs. tasak virágos nagy",
                                    "KAT_ID": "6",
                                    "LISTAAR": "290",
                                    "LEIRAS": "NULL",
                                    "RAKTAR_KOD": "8",
                                    "KESZLET": "2500",
                                    "MEGYS": "db",
                                    "FELVITTE": "Sára",
                                    "FELVITEL": "2016-07-27"
                                },
                                {
                                    "TERMEKKOD": "03080019T",
                                    "MEGNEVEZES": "Ajándék csom. Krepp",
                                    "KAT_ID": "24",
                                    "LISTAAR": "56",
                                    "LEIRAS": "NULL",
                                    "RAKTAR_KOD": "5",
                                    "KESZLET": "600",
                                    "MEGYS": "db",
                                    "FELVITTE": "Béla",
                                    "FELVITEL": "2016-07-27"
                                },
                                {
                                    "TERMEKKOD": "02060447T",
                                    "MEGNEVEZES": "Bélyegző pocket",
                                    "KAT_ID": "14",
                                    "LISTAAR": "1377",
                                    "LEIRAS": "NULL",
                                    "RAKTAR_KOD": "6",
                                    "KESZLET": "900",
                                    "MEGYS": "db",
                                    "FELVITTE": "Mari",
                                    "FELVITEL": "2016-07-27"
                                },
                                {
                                    "TERMEKKOD": "02080109T",
                                    "MEGNEVEZES": "Floppy lemez",
                                    "KAT_ID": "42",
                                    "LISTAAR": "51",
                                    "LEIRAS": "NULL",
                                    "RAKTAR_KOD": "7",
                                    "KESZLET": "500",
                                    "MEGYS": "db",
                                    "FELVITTE": "Mari",
                                    "FELVITEL": "2016-07-27"
                                },
                                {
                                    "TERMEKKOD": "06080426T",
                                    "MEGNEVEZES": "Szótárfüzet Lizzy",
                                    "KAT_ID": "45",
                                    "LISTAAR": "161",
                                    "LEIRAS": "NULL",
                                    "RAKTAR_KOD": "7",
                                    "KESZLET": "300",
                                    "MEGYS": "db",
                                    "FELVITTE": "Mari",
                                    "FELVITEL": "2016-07-27"
                                },
                                {
                                    "TERMEKKOD": "L029-FE307",
                                    "MEGNEVEZES": "lány zokni",
                                    "KAT_ID": "35",
                                    "LISTAAR": "240",
                                    "LEIRAS": "fehér (pamut) ",
                                    "RAKTAR_KOD": "4",
                                    "KESZLET": "470",
                                    "MEGYS": "db",
                                    "FELVITTE": "Béla",
                                    "FELVITEL": "2016-07-27"
                                },
                                {
                                    "TERMEKKOD": "L023-FE301",
                                    "MEGNEVEZES": "lány alsó",
                                    "KAT_ID": "35",
                                    "LISTAAR": "390",
                                    "LEIRAS": "pamut ",
                                    "RAKTAR_KOD": "1",
                                    "KESZLET": "369",
                                    "MEGYS": "db",
                                    "FELVITTE": "Béla",
                                    "FELVITEL": "2016-07-26"
                                },
                                {
                                    "TERMEKKOD": "06080429T",
                                    "MEGNEVEZES": "Meghívó ballagási",
                                    "KAT_ID": "98",
                                    "LISTAAR": "63",
                                    "LEIRAS": "NULL",
                                    "RAKTAR_KOD": "6",
                                    "KESZLET": "400",
                                    "MEGYS": "db",
                                    "FELVITTE": "Sára",
                                    "FELVITEL": "2016-07-26"
                                },
                                {
                                    "TERMEKKOD": "07010136T",
                                    "MEGNEVEZES": "G.toll betét PAX",
                                    "KAT_ID": "145",
                                    "LISTAAR": "123",
                                    "LEIRAS": "NULL",
                                    "RAKTAR_KOD": "6",
                                    "KESZLET": "1800",
                                    "MEGYS": "db",
                                    "FELVITTE": "Béla",
                                    "FELVITEL": "2016-07-26"
                                },
                                {
                                    "TERMEKKOD": "06080424T",
                                    "MEGNEVEZES": "Füzetborító A/4 mintás",
                                    "KAT_ID": "46",
                                    "LISTAAR": "24",
                                    "LEIRAS": "NULL",
                                    "RAKTAR_KOD": "9",
                                    "KESZLET": "500",
                                    "MEGYS": "db",
                                    "FELVITTE": "Béla",
                                    "FELVITEL": "2016-07-26"
                                },
                                {
                                    "TERMEKKOD": "02060039T",
                                    "MEGNEVEZES": "Bélyegző párna",
                                    "KAT_ID": "14",
                                    "LISTAAR": "650",
                                    "LEIRAS": "NULL",
                                    "RAKTAR_KOD": "6",
                                    "KESZLET": "100",
                                    "MEGYS": "db",
                                    "FELVITTE": "Béla",
                                    "FELVITEL": "2016-07-26"
                                },
                                {
                                    "TERMEKKOD": "02080434T",
                                    "MEGNEVEZES": "Mappa müa A/4",
                                    "KAT_ID": "96",
                                    "LISTAAR": "210",
                                    "LEIRAS": "NULL",
                                    "RAKTAR_KOD": "8",
                                    "KESZLET": "600",
                                    "MEGYS": "db",
                                    "FELVITTE": "Mari",
                                    "FELVITEL": "2016-07-26"
                                },
                                {
                                    "TERMEKKOD": "02050460T",
                                    "MEGNEVEZES": "Boríték C/4-es",
                                    "KAT_ID": "16",
                                    "LISTAAR": "15",
                                    "LEIRAS": "NULL",
                                    "RAKTAR_KOD": "5",
                                    "KESZLET": "200",
                                    "MEGYS": "db",
                                    "FELVITTE": "Mari",
                                    "FELVITEL": "2016-07-26"
                                },
                                {
                                    "TERMEKKOD": "03080021T",
                                    "MEGNEVEZES": "Ajándék csom. vékony",
                                    "KAT_ID": "24",
                                    "LISTAAR": "23",
                                    "LEIRAS": "NULL",
                                    "RAKTAR_KOD": "7",
                                    "KESZLET": "200",
                                    "MEGYS": "db",
                                    "FELVITTE": "Béla",
                                    "FELVITEL": "2016-07-26"
                                },
                                {
                                    "TERMEKKOD": "04110284T",
                                    "MEGNEVEZES": "Meghívó borítékos",
                                    "KAT_ID": "98",
                                    "LISTAAR": "169",
                                    "LEIRAS": "NULL",
                                    "RAKTAR_KOD": "5",
                                    "KESZLET": "100",
                                    "MEGYS": "db",
                                    "FELVITTE": "Sára",
                                    "FELVITEL": "2016-07-26"
                                },
                                {
                                    "TERMEKKOD": "04110362T",
                                    "MEGNEVEZES": "Szalvéta gyűjtőknek",
                                    "KAT_ID": "133",
                                    "LISTAAR": "183",
                                    "LEIRAS": "NULL",
                                    "RAKTAR_KOD": "5",
                                    "KESZLET": "1200",
                                    "MEGYS": "csomag",
                                    "FELVITTE": "Sára",
                                    "FELVITEL": "2016-07-26"
                                },
                                {
                                    "TERMEKKOD": "05010026T",
                                    "MEGNEVEZES": "Alufólia 10 m-es",
                                    "KAT_ID": "9",
                                    "LISTAAR": "118",
                                    "LEIRAS": "NULL",
                                    "RAKTAR_KOD": "9",
                                    "KESZLET": "100",
                                    "MEGYS": "db",
                                    "FELVITTE": "Sára",
                                    "FELVITEL": "2016-07-26"
                                },
                                {
                                    "TERMEKKOD": "04030260T",
                                    "MEGNEVEZES": "Levélpapír A/4",
                                    "KAT_ID": "93",
                                    "LISTAAR": "15",
                                    "LEIRAS": "NULL",
                                    "RAKTAR_KOD": "6",
                                    "KESZLET": "1600",
                                    "MEGYS": "db",
                                    "FELVITTE": "Béla",
                                    "FELVITEL": "2016-07-26"
                                },
                                {
                                    "TERMEKKOD": "04030261T",
                                    "MEGNEVEZES": "Levélpapír állatos",
                                    "KAT_ID": "93",
                                    "LISTAAR": "140",
                                    "LEIRAS": "NULL",
                                    "RAKTAR_KOD": "6",
                                    "KESZLET": "1000",
                                    "MEGYS": "csomag",
                                    "FELVITTE": "Béla",
                                    "FELVITEL": "2016-07-26"
                                },
                                {
                                    "TERMEKKOD": "04030287T",
                                    "MEGNEVEZES": "Műanyag foszforeszkáló állat",
                                    "KAT_ID": "25",
                                    "LISTAAR": "23",
                                    "LEIRAS": "NULL",
                                    "RAKTAR_KOD": "8",
                                    "KESZLET": "5100",
                                    "MEGYS": "db",
                                    "FELVITTE": "Béla",
                                    "FELVITEL": "2016-07-26"
                                },
                                {
                                    "TERMEKKOD": "04030288T",
                                    "MEGNEVEZES": "Műanyag pohár 1 dl-es",
                                    "KAT_ID": "25",
                                    "LISTAAR": "3",
                                    "LEIRAS": "NULL",
                                    "RAKTAR_KOD": "7",
                                    "KESZLET": "100",
                                    "MEGYS": "db",
                                    "FELVITTE": "Béla",
                                    "FELVITEL": "2016-07-26"
                                },
                                {
                                    "TERMEKKOD": "04030241T",
                                    "MEGNEVEZES": "Képeslap virágos +boríték",
                                    "KAT_ID": "85",
                                    "LISTAAR": "44",
                                    "LEIRAS": "NULL",
                                    "RAKTAR_KOD": "8",
                                    "KESZLET": "2300",
                                    "MEGYS": "db",
                                    "FELVITTE": "Mari",
                                    "FELVITEL": "2016-07-25"
                                },
                                {
                                    "TERMEKKOD": "04030242T",
                                    "MEGNEVEZES": "Képeslap WD +boríték",
                                    "KAT_ID": "85",
                                    "LISTAAR": "118",
                                    "LEIRAS": "NULL",
                                    "RAKTAR_KOD": "8",
                                    "KESZLET": "2300",
                                    "MEGYS": "db",
                                    "FELVITTE": "Mari",
                                    "FELVITEL": "2016-07-25"
                                },
                                {
                                    "TERMEKKOD": "04030243T",
                                    "MEGNEVEZES": "Képkirakó Dirib-darab",
                                    "KAT_ID": "86",
                                    "LISTAAR": "195",
                                    "LEIRAS": "NULL",
                                    "RAKTAR_KOD": "7",
                                    "KESZLET": "1000",
                                    "MEGYS": "db",
                                    "FELVITTE": "Mari",
                                    "FELVITEL": "2016-07-25"
                                },
                                {
                                    "TERMEKKOD": "04110281T",
                                    "MEGNEVEZES": "Matrica világítós ",
                                    "KAT_ID": "97",
                                    "LISTAAR": "175",
                                    "LEIRAS": "NULL",
                                    "RAKTAR_KOD": "9",
                                    "KESZLET": "100",
                                    "MEGYS": "db",
                                    "FELVITTE": "Sára",
                                    "FELVITEL": "2016-07-25"
                                },
                                {
                                    "TERMEKKOD": "04110282T",
                                    "MEGNEVEZES": "Matrica WD kicsi",
                                    "KAT_ID": "97",
                                    "LISTAAR": "56",
                                    "LEIRAS": "NULL",
                                    "RAKTAR_KOD": "5",
                                    "KESZLET": "300",
                                    "MEGYS": "db",
                                    "FELVITTE": "Sára",
                                    "FELVITEL": "2016-07-25"
                                },
                                {
                                    "TERMEKKOD": "02080436T",
                                    "MEGNEVEZES": "Irattartó müa. boríték A/4",
                                    "KAT_ID": "73",
                                    "LISTAAR": "66",
                                    "LEIRAS": "NULL",
                                    "RAKTAR_KOD": "7",
                                    "KESZLET": "800",
                                    "MEGYS": "db",
                                    "FELVITTE": "Mari",
                                    "FELVITEL": "2016-07-25"
                                },
                                {
                                    "TERMEKKOD": "03010342T",
                                    "MEGNEVEZES": "Ragasztószalag  TIXO",
                                    "KAT_ID": "125",
                                    "LISTAAR": "15",
                                    "LEIRAS": "NULL",
                                    "RAKTAR_KOD": "9",
                                    "KESZLET": "100",
                                    "MEGYS": "db",
                                    "FELVITTE": "Béla",
                                    "FELVITEL": "2016-07-25"
                                },
                                {
                                    "TERMEKKOD": "03010344T",
                                    "MEGNEVEZES": "Ragasztószalag nagy 12 mm",
                                    "KAT_ID": "125",
                                    "LISTAAR": "63",
                                    "LEIRAS": "NULL",
                                    "RAKTAR_KOD": "7",
                                    "KESZLET": "1100",
                                    "MEGYS": "db",
                                    "FELVITTE": "Béla",
                                    "FELVITEL": "2016-07-25"
                                },
                                {
                                    "TERMEKKOD": "03010345T",
                                    "MEGNEVEZES": "Ragasztószalag széles barna",
                                    "KAT_ID": "125",
                                    "LISTAAR": "166",
                                    "LEIRAS": "NULL",
                                    "RAKTAR_KOD": "6",
                                    "KESZLET": "500",
                                    "MEGYS": "db",
                                    "FELVITTE": "Béla",
                                    "FELVITEL": "2016-07-25"
                                },
                                {
                                    "TERMEKKOD": "03050076T",
                                    "MEGNEVEZES": "Díszkötöző szalag metál nagy",
                                    "KAT_ID": "28",
                                    "LISTAAR": "26",
                                    "LEIRAS": "NULL",
                                    "RAKTAR_KOD": "8",
                                    "KESZLET": "800",
                                    "MEGYS": "db",
                                    "FELVITTE": "Béla",
                                    "FELVITEL": "2016-07-25"
                                },
                                {
                                    "TERMEKKOD": "07010144T",
                                    "MEGNEVEZES": "G.toll betét Zebra K-0,7",
                                    "KAT_ID": "145",
                                    "LISTAAR": "89",
                                    "LEIRAS": "NULL",
                                    "RAKTAR_KOD": "9",
                                    "KESZLET": "200",
                                    "MEGYS": "db",
                                    "FELVITTE": "Béla",
                                    "FELVITEL": "2016-07-25"
                                },
                                {
                                    "TERMEKKOD": "07010244T",
                                    "MEGNEVEZES": "Kerámiatoll",
                                    "KAT_ID": "144",
                                    "LISTAAR": "74",
                                    "LEIRAS": "NULL",
                                    "RAKTAR_KOD": "5",
                                    "KESZLET": "200",
                                    "MEGYS": "db",
                                    "FELVITTE": "Béla",
                                    "FELVITEL": "2016-07-25"
                                },
                                {
                                    "TERMEKKOD": "07010371T",
                                    "MEGNEVEZES": "Színes ceruza 6-os",
                                    "KAT_ID": "136",
                                    "LISTAAR": "99",
                                    "LEIRAS": "NULL",
                                    "RAKTAR_KOD": "8",
                                    "KESZLET": "2200",
                                    "MEGYS": "db",
                                    "FELVITTE": "Sára",
                                    "FELVITEL": "2016-07-25"
                                },
                                {
                                    "TERMEKKOD": "07010372T",
                                    "MEGNEVEZES": "Színes ceruza 12 szín",
                                    "KAT_ID": "136",
                                    "LISTAAR": "161",
                                    "LEIRAS": "NULL",
                                    "RAKTAR_KOD": "7",
                                    "KESZLET": "3000",
                                    "MEGYS": "db",
                                    "FELVITTE": "Sára",
                                    "FELVITEL": "2016-07-25"
                                },
                                {
                                    "TERMEKKOD": "07010141T",
                                    "MEGNEVEZES": "G.toll betét X20",
                                    "KAT_ID": "145",
                                    "LISTAAR": "15",
                                    "LEIRAS": "NULL",
                                    "RAKTAR_KOD": "7",
                                    "KESZLET": "600",
                                    "MEGYS": "db",
                                    "FELVITTE": "Béla",
                                    "FELVITEL": "2016-07-25"
                                },
                                {
                                    "TERMEKKOD": "06040385T",
                                    "MEGNEVEZES": "Tempera szóló ezüst",
                                    "KAT_ID": "141",
                                    "LISTAAR": "96",
                                    "LEIRAS": "NULL",
                                    "RAKTAR_KOD": "8",
                                    "KESZLET": "100",
                                    "MEGYS": "db",
                                    "FELVITTE": "Sára",
                                    "FELVITEL": "2016-07-24"
                                },
                                {
                                    "TERMEKKOD": "03050077T",
                                    "MEGNEVEZES": "Diszkötöző szalag arany",
                                    "KAT_ID": "28",
                                    "LISTAAR": "44",
                                    "LEIRAS": "NULL",
                                    "RAKTAR_KOD": "8",
                                    "KESZLET": "100",
                                    "MEGYS": "db",
                                    "FELVITTE": "Mari",
                                    "FELVITEL": "2016-07-24"
                                },
                                {
                                    "TERMEKKOD": "02080081T",
                                    "MEGNEVEZES": "Dvd",
                                    "KAT_ID": "29",
                                    "LISTAAR": "133",
                                    "LEIRAS": "NULL",
                                    "RAKTAR_KOD": "9",
                                    "KESZLET": "1300",
                                    "MEGYS": "db",
                                    "FELVITTE": "Sára",
                                    "FELVITEL": "2016-07-24"
                                },
                                {
                                    "TERMEKKOD": "02040506T",
                                    "MEGNEVEZES": "Fólia tasakos A4 125 mik.",
                                    "KAT_ID": "43",
                                    "LISTAAR": "44",
                                    "LEIRAS": "NULL",
                                    "RAKTAR_KOD": "9",
                                    "KESZLET": "100",
                                    "MEGYS": "ív",
                                    "FELVITTE": "Mari",
                                    "FELVITEL": "2016-07-24"
                                },
                                {
                                    "TERMEKKOD": "03080015T",
                                    "MEGNEVEZES": "Ajándék csom. gyűrt",
                                    "KAT_ID": "6",
                                    "LISTAAR": "169",
                                    "LEIRAS": "NULL",
                                    "RAKTAR_KOD": "9",
                                    "KESZLET": "1300",
                                    "MEGYS": "db",
                                    "FELVITTE": "Béla",
                                    "FELVITEL": "2016-07-24"
                                },
                                {
                                    "TERMEKKOD": "03080016T",
                                    "MEGNEVEZES": "házt.csom.  5 ív",
                                    "KAT_ID": "22",
                                    "LISTAAR": "110",
                                    "LEIRAS": "NULL",
                                    "RAKTAR_KOD": "8",
                                    "KESZLET": "200",
                                    "MEGYS": "csomag",
                                    "FELVITTE": "Béla",
                                    "FELVITEL": "2016-07-24"
                                },
                                {
                                    "TERMEKKOD": "04020445T",
                                    "MEGNEVEZES": "Határidő napló 2010-s",
                                    "KAT_ID": "62",
                                    "LISTAAR": "728",
                                    "LEIRAS": "NULL",
                                    "RAKTAR_KOD": "9",
                                    "KESZLET": "600",
                                    "MEGYS": "db",
                                    "FELVITTE": "Sára",
                                    "FELVITEL": "2016-07-24"
                                },
                                {
                                    "TERMEKKOD": "02080454T",
                                    "MEGNEVEZES": "Lyukasztó BOXER",
                                    "KAT_ID": "95",
                                    "LISTAAR": "765",
                                    "LEIRAS": "NULL",
                                    "RAKTAR_KOD": "9",
                                    "KESZLET": "400",
                                    "MEGYS": "db",
                                    "FELVITTE": "Sára",
                                    "FELVITEL": "2016-07-24"
                                },
                                {
                                    "TERMEKKOD": "04110274T",
                                    "MEGNEVEZES": "Matrica autóra H",
                                    "KAT_ID": "97",
                                    "LISTAAR": "49",
                                    "LEIRAS": "NULL",
                                    "RAKTAR_KOD": "5",
                                    "KESZLET": "300",
                                    "MEGYS": "db",
                                    "FELVITTE": "Béla",
                                    "FELVITEL": "2016-07-24"
                                },
                                {
                                    "TERMEKKOD": "06040246T",
                                    "MEGNEVEZES": "Körző",
                                    "KAT_ID": "89",
                                    "LISTAAR": "161",
                                    "LEIRAS": "NULL",
                                    "RAKTAR_KOD": "5",
                                    "KESZLET": "100",
                                    "MEGYS": "db",
                                    "FELVITTE": "Béla",
                                    "FELVITEL": "2016-07-24"
                                },
                                {
                                    "TERMEKKOD": "06040247T",
                                    "MEGNEVEZES": "Körzőhegy grafit",
                                    "KAT_ID": "89",
                                    "LISTAAR": "30",
                                    "LEIRAS": "NULL",
                                    "RAKTAR_KOD": "8",
                                    "KESZLET": "2200",
                                    "MEGYS": "db",
                                    "FELVITTE": "Béla",
                                    "FELVITEL": "2016-07-24"
                                },
                                {
                                    "TERMEKKOD": "06040356T",
                                    "MEGNEVEZES": "Sp.Füzet A/4  70es",
                                    "KAT_ID": "45",
                                    "LISTAAR": "144",
                                    "LEIRAS": "NULL",
                                    "RAKTAR_KOD": "8",
                                    "KESZLET": "100",
                                    "MEGYS": "db",
                                    "FELVITTE": "Mari",
                                    "FELVITEL": "2016-07-24"
                                },
                                {
                                    "TERMEKKOD": "06040357T",
                                    "MEGNEVEZES": "Sp.Füzet A/5 70-es",
                                    "KAT_ID": "45",
                                    "LISTAAR": "89",
                                    "LEIRAS": "NULL",
                                    "RAKTAR_KOD": "6",
                                    "KESZLET": "4400",
                                    "MEGYS": "db",
                                    "FELVITTE": "Mari",
                                    "FELVITEL": "2016-07-24"
                                },
                                {
                                    "TERMEKKOD": "06040378T",
                                    "MEGNEVEZES": "Szövegkiemelő vékony",
                                    "KAT_ID": "138",
                                    "LISTAAR": "89",
                                    "LEIRAS": "NULL",
                                    "RAKTAR_KOD": "8",
                                    "KESZLET": "100",
                                    "MEGYS": "db",
                                    "FELVITTE": "Mari",
                                    "FELVITEL": "2016-07-24"
                                },
                                {
                                    "TERMEKKOD": "06040379T",
                                    "MEGNEVEZES": "Szövegkiemelő ",
                                    "KAT_ID": "138",
                                    "LISTAAR": "93",
                                    "LEIRAS": "NULL",
                                    "RAKTAR_KOD": "9",
                                    "KESZLET": "200",
                                    "MEGYS": "db",
                                    "FELVITTE": "Béla",
                                    "FELVITEL": "2016-07-23"
                                },
                                {
                                    "TERMEKKOD": "06040323T",
                                    "MEGNEVEZES": "Post-it 51×38 100 lapos",
                                    "KAT_ID": "121",
                                    "LISTAAR": "36",
                                    "LEIRAS": "NULL",
                                    "RAKTAR_KOD": "8",
                                    "KESZLET": "200",
                                    "MEGYS": "db",
                                    "FELVITTE": "Béla",
                                    "FELVITEL": "2016-07-23"
                                },
                                {
                                    "TERMEKKOD": "06040324T",
                                    "MEGNEVEZES": "Post-it 75×75 100 lapos",
                                    "KAT_ID": "121",
                                    "LISTAAR": "89",
                                    "LEIRAS": "NULL",
                                    "RAKTAR_KOD": "7",
                                    "KESZLET": "1500",
                                    "MEGYS": "db",
                                    "FELVITTE": "Sára",
                                    "FELVITEL": "2016-07-23"
                                },
                                {
                                    "TERMEKKOD": "04110283T",
                                    "MEGNEVEZES": "Meghívó állatos",
                                    "KAT_ID": "98",
                                    "LISTAAR": "155",
                                    "LEIRAS": "NULL",
                                    "RAKTAR_KOD": "5",
                                    "KESZLET": "100",
                                    "MEGYS": "db",
                                    "FELVITTE": "Sára",
                                    "FELVITEL": "2016-07-23"
                                },
                                {
                                    "TERMEKKOD": "04110280T",
                                    "MEGNEVEZES": "Matrica tetoválós kicsi",
                                    "KAT_ID": "97",
                                    "LISTAAR": "148",
                                    "LEIRAS": "NULL",
                                    "RAKTAR_KOD": "9",
                                    "KESZLET": "300",
                                    "MEGYS": "db",
                                    "FELVITTE": "Mari",
                                    "FELVITEL": "2016-07-23"
                                },
                                {
                                    "TERMEKKOD": "04030289T",
                                    "MEGNEVEZES": "Műanyag pohár 5 cl-es",
                                    "KAT_ID": "25",
                                    "LISTAAR": "15",
                                    "LEIRAS": "NULL",
                                    "RAKTAR_KOD": "6",
                                    "KESZLET": "2400",
                                    "MEGYS": "db",
                                    "FELVITTE": "Béla",
                                    "FELVITEL": "2016-07-23"
                                },
                                {
                                    "TERMEKKOD": "04040090T",
                                    "MEGNEVEZES": "Emlékkönyv",
                                    "KAT_ID": "32",
                                    "LISTAAR": "526",
                                    "LEIRAS": "NULL",
                                    "RAKTAR_KOD": "6",
                                    "KESZLET": "7700",
                                    "MEGYS": "db",
                                    "FELVITTE": "Béla",
                                    "FELVITEL": "2016-07-23"
                                },
                                {
                                    "TERMEKKOD": "04050075T",
                                    "MEGNEVEZES": "Díszdoboz tollnak 2 db-os keskeny",
                                    "KAT_ID": "27",
                                    "LISTAAR": "44",
                                    "LEIRAS": "NULL",
                                    "RAKTAR_KOD": "5",
                                    "KESZLET": "100",
                                    "MEGYS": "db",
                                    "FELVITTE": "Béla",
                                    "FELVITEL": "2016-07-23"
                                },
                                {
                                    "TERMEKKOD": "04050171T",
                                    "MEGNEVEZES": "Gumilabda közepes",
                                    "KAT_ID": "92",
                                    "LISTAAR": "110",
                                    "LEIRAS": "NULL",
                                    "RAKTAR_KOD": "7",
                                    "KESZLET": "500",
                                    "MEGYS": "db",
                                    "FELVITTE": "Béla",
                                    "FELVITEL": "2016-07-23"
                                },
                                {
                                    "TERMEKKOD": "04050187T",
                                    "MEGNEVEZES": "Hajgumi macis",
                                    "KAT_ID": "61",
                                    "LISTAAR": "66",
                                    "LEIRAS": "NULL",
                                    "RAKTAR_KOD": "8",
                                    "KESZLET": "700",
                                    "MEGYS": "db",
                                    "FELVITTE": "Béla",
                                    "FELVITEL": "2016-07-23"
                                },
                                {
                                    "TERMEKKOD": "03080013T",
                                    "MEGNEVEZES": "Ajándék csom. 50x70 húsvéti",
                                    "KAT_ID": "6",
                                    "LISTAAR": "64",
                                    "LEIRAS": "NULL",
                                    "RAKTAR_KOD": "6",
                                    "KESZLET": "600",
                                    "MEGYS": "db",
                                    "FELVITTE": "Béla",
                                    "FELVITEL": "2016-07-23"
                                },
                                {
                                    "TERMEKKOD": "03080014T",
                                    "MEGNEVEZES": "Ajándék csom. 70x50 metál",
                                    "KAT_ID": "6",
                                    "LISTAAR": "81",
                                    "LEIRAS": "NULL",
                                    "RAKTAR_KOD": "8",
                                    "KESZLET": "1000",
                                    "MEGYS": "db",
                                    "FELVITTE": "Béla",
                                    "FELVITEL": "2016-07-23"
                                },
                                {
                                    "TERMEKKOD": "02040507T",
                                    "MEGNEVEZES": "Fólia tasakos A4 80 mik.",
                                    "KAT_ID": "43",
                                    "LISTAAR": "40",
                                    "LEIRAS": "NULL",
                                    "RAKTAR_KOD": "8",
                                    "KESZLET": "100",
                                    "MEGYS": "ív",
                                    "FELVITTE": "Mari",
                                    "FELVITEL": "2016-07-23"
                                },
                                {
                                    "TERMEKKOD": "02050461T",
                                    "MEGNEVEZES": "Boríték B/4-es",
                                    "KAT_ID": "16",
                                    "LISTAAR": "18",
                                    "LEIRAS": "NULL",
                                    "RAKTAR_KOD": "8",
                                    "KESZLET": "100",
                                    "MEGYS": "db",
                                    "FELVITTE": "Béla",
                                    "FELVITEL": "2016-07-23"
                                },
                                {
                                    "TERMEKKOD": "02060034T",
                                    "MEGNEVEZES": "Bélyegzőfesték ",
                                    "KAT_ID": "15",
                                    "LISTAAR": "297",
                                    "LEIRAS": "NULL",
                                    "RAKTAR_KOD": "9",
                                    "KESZLET": "700",
                                    "MEGYS": "db",
                                    "FELVITTE": "Béla",
                                    "FELVITEL": "2016-07-23"
                                },
                                {
                                    "TERMEKKOD": "02060038T",
                                    "MEGNEVEZES": "Bélyegző IDEAL 50",
                                    "KAT_ID": "14",
                                    "LISTAAR": "780",
                                    "LEIRAS": "NULL",
                                    "RAKTAR_KOD": "8",
                                    "KESZLET": "100",
                                    "MEGYS": "db",
                                    "FELVITTE": "Béla",
                                    "FELVITEL": "2016-07-23"
                                },
                                {
                                    "TERMEKKOD": "02080449T",
                                    "MEGNEVEZES": "Térképtű színes",
                                    "KAT_ID": "142",
                                    "LISTAAR": "103",
                                    "LEIRAS": "NULL",
                                    "RAKTAR_KOD": "6",
                                    "KESZLET": "100",
                                    "MEGYS": "csomag",
                                    "FELVITTE": "Mari",
                                    "FELVITEL": "2016-07-23"
                                },
                                {
                                    "TERMEKKOD": "02080450T",
                                    "MEGNEVEZES": "Gémkapocs 28-as színes",
                                    "KAT_ID": "49",
                                    "LISTAAR": "44",
                                    "LEIRAS": "NULL",
                                    "RAKTAR_KOD": "8",
                                    "KESZLET": "200",
                                    "MEGYS": "csomag",
                                    "FELVITTE": "Mari",
                                    "FELVITEL": "2016-07-23"
                                },
                                {
                                    "TERMEKKOD": "02080451T",
                                    "MEGNEVEZES": "Gémkapocs 50-es",
                                    "KAT_ID": "49",
                                    "LISTAAR": "103",
                                    "LEIRAS": "NULL",
                                    "RAKTAR_KOD": "5",
                                    "KESZLET": "100",
                                    "MEGYS": "csomag",
                                    "FELVITTE": "Mari",
                                    "FELVITEL": "2016-07-23"
                                },
                                {
                                    "TERMEKKOD": "02030044T",
                                    "MEGNEVEZES": "Boríték mintás",
                                    "KAT_ID": "16",
                                    "LISTAAR": "15",
                                    "LEIRAS": "NULL",
                                    "RAKTAR_KOD": "6",
                                    "KESZLET": "10000",
                                    "MEGYS": "db",
                                    "FELVITTE": "Béla",
                                    "FELVITEL": "2016-07-23"
                                },
                                {
                                    "TERMEKKOD": "02040002T",
                                    "MEGNEVEZES": "irodai tűzőgép",
                                    "KAT_ID": "149",
                                    "LISTAAR": "2100",
                                    "LEIRAS": "NULL",
                                    "RAKTAR_KOD": "6",
                                    "KESZLET": "10000",
                                    "MEGYS": "db",
                                    "FELVITTE": "Béla",
                                    "FELVITEL": "2016-07-23"
                                },
                                {
                                    "TERMEKKOD": "02040025T",
                                    "MEGNEVEZES": "Álló irattartó karton",
                                    "KAT_ID": "70",
                                    "LISTAAR": "133",
                                    "LEIRAS": "NULL",
                                    "RAKTAR_KOD": "8",
                                    "KESZLET": "200",
                                    "MEGYS": "db",
                                    "FELVITTE": "Béla",
                                    "FELVITEL": "2016-07-23"
                                },
                                {
                                    "TERMEKKOD": "02040145T",
                                    "MEGNEVEZES": "Gemkapocs 28 mm",
                                    "KAT_ID": "48",
                                    "LISTAAR": "30",
                                    "LEIRAS": "NULL",
                                    "RAKTAR_KOD": "8",
                                    "KESZLET": "400",
                                    "MEGYS": "db",
                                    "FELVITTE": "Béla",
                                    "FELVITEL": "2016-07-23"
                                },
                                {
                                    "TERMEKKOD": "02040146T",
                                    "MEGNEVEZES": "Gemkapocs ICO",
                                    "KAT_ID": "48",
                                    "LISTAAR": "48",
                                    "LEIRAS": "NULL",
                                    "RAKTAR_KOD": "7",
                                    "KESZLET": "3200",
                                    "MEGYS": "db",
                                    "FELVITTE": "Béla",
                                    "FELVITEL": "2016-07-23"
                                },
                                {
                                    "TERMEKKOD": "02040147T",
                                    "MEGNEVEZES": "Genotherm lefűzhető A/5",
                                    "KAT_ID": "51",
                                    "LISTAAR": "8",
                                    "LEIRAS": "NULL",
                                    "RAKTAR_KOD": "8",
                                    "KESZLET": "1500",
                                    "MEGYS": "db",
                                    "FELVITTE": "Béla",
                                    "FELVITEL": "2016-07-23"
                                },
                                {
                                    "TERMEKKOD": "02040176T",
                                    "MEGNEVEZES": "Gyorsfűző dosszié fehér",
                                    "KAT_ID": "58",
                                    "LISTAAR": "18",
                                    "LEIRAS": "NULL",
                                    "RAKTAR_KOD": "7",
                                    "KESZLET": "1200",
                                    "MEGYS": "db",
                                    "FELVITTE": "Sára",
                                    "FELVITEL": "2016-07-23"
                                },
                                {
                                    "TERMEKKOD": "07030104T",
                                    "MEGNEVEZES": "Filctoll vastag ARTIP",
                                    "KAT_ID": "41",
                                    "LISTAAR": "76",
                                    "LEIRAS": "NULL",
                                    "RAKTAR_KOD": "8",
                                    "KESZLET": "400",
                                    "MEGYS": "db",
                                    "FELVITTE": "Sára",
                                    "FELVITEL": "2016-07-23"
                                },
                                {
                                    "TERMEKKOD": "07030105T",
                                    "MEGNEVEZES": "Filctoll, alkoholos Centropen",
                                    "KAT_ID": "41",
                                    "LISTAAR": "114",
                                    "LEIRAS": "NULL",
                                    "RAKTAR_KOD": "5",
                                    "KESZLET": "200",
                                    "MEGYS": "db",
                                    "FELVITTE": "Sára",
                                    "FELVITEL": "2016-07-23"
                                },
                                {
                                    "TERMEKKOD": "06080427T",
                                    "MEGNEVEZES": "Ablakkréta",
                                    "KAT_ID": "78",
                                    "LISTAAR": "161",
                                    "LEIRAS": "NULL",
                                    "RAKTAR_KOD": "9",
                                    "KESZLET": "200",
                                    "MEGYS": "db",
                                    "FELVITTE": "Sára",
                                    "FELVITEL": "2016-07-23"
                                },
                                {
                                    "TERMEKKOD": "06080428T",
                                    "MEGNEVEZES": "Ecsetkészlet",
                                    "KAT_ID": "30",
                                    "LISTAAR": "180",
                                    "LEIRAS": "NULL",
                                    "RAKTAR_KOD": "8",
                                    "KESZLET": "500",
                                    "MEGYS": "db",
                                    "FELVITTE": "Sára",
                                    "FELVITEL": "2016-07-23"
                                },
                                {
                                    "TERMEKKOD": "07040052T",
                                    "MEGNEVEZES": "Ceruza 2H-3B Koh-i-nor",
                                    "KAT_ID": "19",
                                    "LISTAAR": "53",
                                    "LEIRAS": "NULL",
                                    "RAKTAR_KOD": "5",
                                    "KESZLET": "100",
                                    "MEGYS": "db",
                                    "FELVITTE": "Sára",
                                    "FELVITEL": "2016-07-23"
                                },
                                {
                                    "TERMEKKOD": "07040053T",
                                    "MEGNEVEZES": "Ceruza HB radiros",
                                    "KAT_ID": "19",
                                    "LISTAAR": "23",
                                    "LEIRAS": "NULL",
                                    "RAKTAR_KOD": "5",
                                    "KESZLET": "200",
                                    "MEGYS": "db",
                                    "FELVITTE": "Sára",
                                    "FELVITEL": "2016-07-23"
                                },
                                {
                                    "TERMEKKOD": "L033-FE311",
                                    "MEGNEVEZES": "lány harisnya",
                                    "KAT_ID": "35",
                                    "LISTAAR": "990",
                                    "LEIRAS": "fehér  ",
                                    "RAKTAR_KOD": "3",
                                    "KESZLET": "373",
                                    "MEGYS": "db",
                                    "FELVITTE": "Sára",
                                    "FELVITEL": "2016-07-23"
                                },
                                {
                                    "TERMEKKOD": "06080430T",
                                    "MEGNEVEZES": "Öntapadős betűk",
                                    "KAT_ID": "78",
                                    "LISTAAR": "74",
                                    "LEIRAS": "NULL",
                                    "RAKTAR_KOD": "7",
                                    "KESZLET": "900",
                                    "MEGYS": "csomag",
                                    "FELVITTE": "Béla",
                                    "FELVITEL": "2016-07-22"
                                },
                                {
                                    "TERMEKKOD": "06080414T",
                                    "MEGNEVEZES": "Vonalzó 20 cm-es ",
                                    "KAT_ID": "152",
                                    "LISTAAR": "30",
                                    "LEIRAS": "NULL",
                                    "RAKTAR_KOD": "8",
                                    "KESZLET": "2600",
                                    "MEGYS": "db",
                                    "FELVITTE": "Mari",
                                    "FELVITEL": "2016-07-22"
                                },
                                {
                                    "TERMEKKOD": "06080415T",
                                    "MEGNEVEZES": "Vonalzó 45 fokos",
                                    "KAT_ID": "152",
                                    "LISTAAR": "30",
                                    "LEIRAS": "NULL",
                                    "RAKTAR_KOD": "9",
                                    "KESZLET": "200",
                                    "MEGYS": "db",
                                    "FELVITTE": "Mari",
                                    "FELVITEL": "2016-07-22"
                                },
                                {
                                    "TERMEKKOD": "06080416T",
                                    "MEGNEVEZES": "Vonalzó 60 fokos",
                                    "KAT_ID": "152",
                                    "LISTAAR": "33",
                                    "LEIRAS": "NULL",
                                    "RAKTAR_KOD": "6",
                                    "KESZLET": "100",
                                    "MEGYS": "db",
                                    "FELVITTE": "Mari",
                                    "FELVITEL": "2016-07-22"
                                },
                                {
                                    "TERMEKKOD": "06080417T",
                                    "MEGNEVEZES": "Zászló papír",
                                    "KAT_ID": "153",
                                    "LISTAAR": "20",
                                    "LEIRAS": "NULL",
                                    "RAKTAR_KOD": "5",
                                    "KESZLET": "200",
                                    "MEGYS": "db",
                                    "FELVITTE": "Mari",
                                    "FELVITEL": "2016-07-22"
                                },
                                {
                                    "TERMEKKOD": "06080422T",
                                    "MEGNEVEZES": "Füzettartó A/4",
                                    "KAT_ID": "78",
                                    "LISTAAR": "324",
                                    "LEIRAS": "NULL",
                                    "RAKTAR_KOD": "7",
                                    "KESZLET": "200",
                                    "MEGYS": "db",
                                    "FELVITTE": "Mari",
                                    "FELVITEL": "2016-07-22"
                                },
                                {
                                    "TERMEKKOD": "06080423T",
                                    "MEGNEVEZES": "Beíró A/5 kockás",
                                    "KAT_ID": "12",
                                    "LISTAAR": "228",
                                    "LEIRAS": "NULL",
                                    "RAKTAR_KOD": "5",
                                    "KESZLET": "200",
                                    "MEGYS": "db",
                                    "FELVITTE": "Mari",
                                    "FELVITEL": "2016-07-22"
                                },
                                {
                                    "TERMEKKOD": "07030103T",
                                    "MEGNEVEZES": "Filctoll TINTEN PEN",
                                    "KAT_ID": "41",
                                    "LISTAAR": "53",
                                    "LEIRAS": "NULL",
                                    "RAKTAR_KOD": "8",
                                    "KESZLET": "300",
                                    "MEGYS": "db",
                                    "FELVITTE": "Béla",
                                    "FELVITEL": "2016-07-22"
                                },
                                {
                                    "TERMEKKOD": "06040386T",
                                    "MEGNEVEZES": "Tempera szóló színes",
                                    "KAT_ID": "141",
                                    "LISTAAR": "48",
                                    "LEIRAS": "NULL",
                                    "RAKTAR_KOD": "8",
                                    "KESZLET": "100",
                                    "MEGYS": "db",
                                    "FELVITTE": "Mari",
                                    "FELVITEL": "2016-07-22"
                                },
                                {
                                    "TERMEKKOD": "02040405T",
                                    "MEGNEVEZES": "Tűzőkapocs 10-es",
                                    "KAT_ID": "150",
                                    "LISTAAR": "44",
                                    "LEIRAS": "NULL",
                                    "RAKTAR_KOD": "7",
                                    "KESZLET": "300",
                                    "MEGYS": "csomag",
                                    "FELVITTE": "Mari",
                                    "FELVITEL": "2016-07-22"
                                },
                                {
                                    "TERMEKKOD": "02080455T",
                                    "MEGNEVEZES": "Festékpatron BCI-3BK",
                                    "KAT_ID": "40",
                                    "LISTAAR": "625",
                                    "LEIRAS": "NULL",
                                    "RAKTAR_KOD": "6",
                                    "KESZLET": "900",
                                    "MEGYS": "db",
                                    "FELVITTE": "Mari",
                                    "FELVITEL": "2016-07-22"
                                },
                                {
                                    "TERMEKKOD": "03050458T",
                                    "MEGNEVEZES": "Ajándék cs. 2×100×70",
                                    "KAT_ID": "6",
                                    "LISTAAR": "148",
                                    "LEIRAS": "NULL",
                                    "RAKTAR_KOD": "7",
                                    "KESZLET": "8000",
                                    "MEGYS": "tekercs",
                                    "FELVITTE": "Sára",
                                    "FELVITEL": "2016-07-22"
                                },
                                {
                                    "TERMEKKOD": "03050459T",
                                    "MEGNEVEZES": "Talpas tasak",
                                    "KAT_ID": "6",
                                    "LISTAAR": "40",
                                    "LEIRAS": "NULL",
                                    "RAKTAR_KOD": "8",
                                    "KESZLET": "2600",
                                    "MEGYS": "db",
                                    "FELVITTE": "Sára",
                                    "FELVITEL": "2016-07-22"
                                },
                                {
                                    "TERMEKKOD": "03080003T",
                                    "MEGNEVEZES": "Ajándék cs. tasak italos",
                                    "KAT_ID": "6",
                                    "LISTAAR": "185",
                                    "LEIRAS": "NULL",
                                    "RAKTAR_KOD": "6",
                                    "KESZLET": "400",
                                    "MEGYS": "db",
                                    "FELVITTE": "Sára",
                                    "FELVITEL": "2016-07-22"
                                },
                                {
                                    "TERMEKKOD": "03080004T",
                                    "MEGNEVEZES": "Ajándék cs. tasak italos, fólia",
                                    "KAT_ID": "6",
                                    "LISTAAR": "19",
                                    "LEIRAS": "NULL",
                                    "RAKTAR_KOD": "6",
                                    "KESZLET": "200",
                                    "MEGYS": "db",
                                    "FELVITTE": "Sára",
                                    "FELVITEL": "2016-07-22"
                                },
                                {
                                    "TERMEKKOD": "04030234T",
                                    "MEGNEVEZES": "Képeslap karácsonyi",
                                    "KAT_ID": "85",
                                    "LISTAAR": "30",
                                    "LEIRAS": "NULL",
                                    "RAKTAR_KOD": "5",
                                    "KESZLET": "2100",
                                    "MEGYS": "db",
                                    "FELVITTE": "Béla",
                                    "FELVITEL": "2016-07-22"
                                },
                                {
                                    "TERMEKKOD": "04030235T",
                                    "MEGNEVEZES": "Képeslap karácsonyi borítékos",
                                    "KAT_ID": "85",
                                    "LISTAAR": "73",
                                    "LEIRAS": "NULL",
                                    "RAKTAR_KOD": "7",
                                    "KESZLET": "900",
                                    "MEGYS": "db",
                                    "FELVITTE": "Béla",
                                    "FELVITEL": "2016-07-22"
                                },
                                {
                                    "TERMEKKOD": "04030236T",
                                    "MEGNEVEZES": "Képeslap karácsonyi WD",
                                    "KAT_ID": "85",
                                    "LISTAAR": "15",
                                    "LEIRAS": "NULL",
                                    "RAKTAR_KOD": "6",
                                    "KESZLET": "10000",
                                    "MEGYS": "db",
                                    "FELVITTE": "Béla",
                                    "FELVITEL": "2016-07-22"
                                },
                                {
                                    "TERMEKKOD": "03080030T",
                                    "MEGNEVEZES": "Ajándék cs. húsvéti 200x70",
                                    "KAT_ID": "24",
                                    "LISTAAR": "220",
                                    "LEIRAS": "NULL",
                                    "RAKTAR_KOD": "7",
                                    "KESZLET": "800",
                                    "MEGYS": "db",
                                    "FELVITTE": "Mari",
                                    "FELVITEL": "2016-07-22"
                                },
                                {
                                    "TERMEKKOD": "03080020T",
                                    "MEGNEVEZES": "Ajándék csom. nagy  ",
                                    "KAT_ID": "24",
                                    "LISTAAR": "44",
                                    "LEIRAS": "NULL",
                                    "RAKTAR_KOD": "9",
                                    "KESZLET": "800",
                                    "MEGYS": "ív",
                                    "FELVITTE": "Sára",
                                    "FELVITEL": "2016-07-22"
                                },
                                {
                                    "TERMEKKOD": "04050203T",
                                    "MEGNEVEZES": "Hűtőmágnes",
                                    "KAT_ID": "67",
                                    "LISTAAR": "24",
                                    "LEIRAS": "NULL",
                                    "RAKTAR_KOD": "7",
                                    "KESZLET": "300",
                                    "MEGYS": "db",
                                    "FELVITTE": "Mari",
                                    "FELVITEL": "2016-07-22"
                                },
                                {
                                    "TERMEKKOD": "04050204T",
                                    "MEGNEVEZES": "Hűtőmágnes WD",
                                    "KAT_ID": "67",
                                    "LISTAAR": "169",
                                    "LEIRAS": "NULL",
                                    "RAKTAR_KOD": "8",
                                    "KESZLET": "300",
                                    "MEGYS": "db",
                                    "FELVITTE": "Mari",
                                    "FELVITEL": "2016-07-22"
                                },
                                {
                                    "TERMEKKOD": "04040387T",
                                    "MEGNEVEZES": "Tenisz labda",
                                    "KAT_ID": "92",
                                    "LISTAAR": "81",
                                    "LEIRAS": "NULL",
                                    "RAKTAR_KOD": "8",
                                    "KESZLET": "600",
                                    "MEGYS": "db",
                                    "FELVITTE": "Béla",
                                    "FELVITEL": "2016-07-22"
                                },
                                {
                                    "TERMEKKOD": "04050022T",
                                    "MEGNEVEZES": "Álarc",
                                    "KAT_ID": "7",
                                    "LISTAAR": "89",
                                    "LEIRAS": "NULL",
                                    "RAKTAR_KOD": "8",
                                    "KESZLET": "500",
                                    "MEGYS": "db",
                                    "FELVITTE": "Béla",
                                    "FELVITEL": "2016-07-22"
                                },
                                {
                                    "TERMEKKOD": "04110275T",
                                    "MEGNEVEZES": "Matrica motoros kicsi",
                                    "KAT_ID": "97",
                                    "LISTAAR": "49",
                                    "LEIRAS": "NULL",
                                    "RAKTAR_KOD": "9",
                                    "KESZLET": "200",
                                    "MEGYS": "db",
                                    "FELVITTE": "Mari",
                                    "FELVITEL": "2016-07-22"
                                },
                                {
                                    "TERMEKKOD": "04110276T",
                                    "MEGNEVEZES": "Matrica Stickers nagy állatos",
                                    "KAT_ID": "97",
                                    "LISTAAR": "109",
                                    "LEIRAS": "NULL",
                                    "RAKTAR_KOD": "9",
                                    "KESZLET": "400",
                                    "MEGYS": "db",
                                    "FELVITTE": "Mari",
                                    "FELVITEL": "2016-07-22"
                                },
                                {
                                    "TERMEKKOD": "06040381T",
                                    "MEGNEVEZES": "Szövegkiemelő Videotip",
                                    "KAT_ID": "138",
                                    "LISTAAR": "103",
                                    "LEIRAS": "NULL",
                                    "RAKTAR_KOD": "6",
                                    "KESZLET": "100",
                                    "MEGYS": "csomag",
                                    "FELVITTE": "Béla",
                                    "FELVITEL": "2016-07-22"
                                },
                                {
                                    "TERMEKKOD": "06040382T",
                                    "MEGNEVEZES": "Táblafilc",
                                    "KAT_ID": "139",
                                    "LISTAAR": "633",
                                    "LEIRAS": "NULL",
                                    "RAKTAR_KOD": "9",
                                    "KESZLET": "500",
                                    "MEGYS": "csomag",
                                    "FELVITTE": "Béla",
                                    "FELVITEL": "2016-07-22"
                                },
                                {
                                    "TERMEKKOD": "06040383T",
                                    "MEGNEVEZES": "Taffet papír",
                                    "KAT_ID": "78",
                                    "LISTAAR": "19",
                                    "LEIRAS": "NULL",
                                    "RAKTAR_KOD": "6",
                                    "KESZLET": "300",
                                    "MEGYS": "db",
                                    "FELVITTE": "Béla",
                                    "FELVITEL": "2016-07-22"
                                },
                                {
                                    "TERMEKKOD": "06040384T",
                                    "MEGNEVEZES": "Technika cs. I-II-III-IV",
                                    "KAT_ID": "78",
                                    "LISTAAR": "58",
                                    "LEIRAS": "NULL",
                                    "RAKTAR_KOD": "5",
                                    "KESZLET": "500",
                                    "MEGYS": "db",
                                    "FELVITTE": "Béla",
                                    "FELVITEL": "2016-07-22"
                                },
                                {
                                    "TERMEKKOD": "06040248T",
                                    "MEGNEVEZES": "Körző maped",
                                    "KAT_ID": "89",
                                    "LISTAAR": "243",
                                    "LEIRAS": "NULL",
                                    "RAKTAR_KOD": "6",
                                    "KESZLET": "300",
                                    "MEGYS": "db",
                                    "FELVITTE": "Béla",
                                    "FELVITEL": "2016-07-21"
                                },
                                {
                                    "TERMEKKOD": "06040355T",
                                    "MEGNEVEZES": "Sp.Füzet A/4 70-as",
                                    "KAT_ID": "45",
                                    "LISTAAR": "155",
                                    "LEIRAS": "NULL",
                                    "RAKTAR_KOD": "8",
                                    "KESZLET": "600",
                                    "MEGYS": "db",
                                    "FELVITTE": "Béla",
                                    "FELVITEL": "2016-07-21"
                                },
                                {
                                    "TERMEKKOD": "04110277T",
                                    "MEGNEVEZES": "Matrica Stickers szíves",
                                    "KAT_ID": "97",
                                    "LISTAAR": "93",
                                    "LEIRAS": "NULL",
                                    "RAKTAR_KOD": "6",
                                    "KESZLET": "900",
                                    "MEGYS": "db",
                                    "FELVITTE": "Béla",
                                    "FELVITEL": "2016-07-21"
                                },
                                {
                                    "TERMEKKOD": "04110278T",
                                    "MEGNEVEZES": "Matrica Test ékszer tattoo",
                                    "KAT_ID": "97",
                                    "LISTAAR": "161",
                                    "LEIRAS": "NULL",
                                    "RAKTAR_KOD": "8",
                                    "KESZLET": "500",
                                    "MEGYS": "db",
                                    "FELVITTE": "Béla",
                                    "FELVITEL": "2016-07-21"
                                },
                                {
                                    "TERMEKKOD": "04110279T",
                                    "MEGNEVEZES": "Matrica tetoválás",
                                    "KAT_ID": "97",
                                    "LISTAAR": "168",
                                    "LEIRAS": "NULL",
                                    "RAKTAR_KOD": "7",
                                    "KESZLET": "700",
                                    "MEGYS": "db",
                                    "FELVITTE": "Béla",
                                    "FELVITEL": "2016-07-21"
                                },
                                {
                                    "TERMEKKOD": "04030239T",
                                    "MEGNEVEZES": "Képeslap stancolt szív",
                                    "KAT_ID": "85",
                                    "LISTAAR": "48",
                                    "LEIRAS": "NULL",
                                    "RAKTAR_KOD": "9",
                                    "KESZLET": "400",
                                    "MEGYS": "db",
                                    "FELVITTE": "Béla",
                                    "FELVITEL": "2016-07-21"
                                },
                                {
                                    "TERMEKKOD": "02080456T",
                                    "MEGNEVEZES": "Genoterm HERLITZ 10-es",
                                    "KAT_ID": "50",
                                    "LISTAAR": "89",
                                    "LEIRAS": "NULL",
                                    "RAKTAR_KOD": "7",
                                    "KESZLET": "500",
                                    "MEGYS": "csomag",
                                    "FELVITTE": "Béla",
                                    "FELVITEL": "2016-07-21"
                                },
                                {
                                    "TERMEKKOD": "02040406T",
                                    "MEGNEVEZES": "Tűzőkapocs 24/6",
                                    "KAT_ID": "150",
                                    "LISTAAR": "34",
                                    "LEIRAS": "NULL",
                                    "RAKTAR_KOD": "9",
                                    "KESZLET": "4200",
                                    "MEGYS": "csomag",
                                    "FELVITTE": "Mari",
                                    "FELVITEL": "2016-07-21"
                                },
                                {
                                    "TERMEKKOD": "03050078T",
                                    "MEGNEVEZES": "Díszkötöző szalag metál kicsi",
                                    "KAT_ID": "28",
                                    "LISTAAR": "15",
                                    "LEIRAS": "NULL",
                                    "RAKTAR_KOD": "8",
                                    "KESZLET": "100",
                                    "MEGYS": "db",
                                    "FELVITTE": "Mari",
                                    "FELVITEL": "2016-07-21"
                                },
                                {
                                    "TERMEKKOD": "02040177T",
                                    "MEGNEVEZES": "Gyorsfűző műa.",
                                    "KAT_ID": "58",
                                    "LISTAAR": "30",
                                    "LEIRAS": "NULL",
                                    "RAKTAR_KOD": "5",
                                    "KESZLET": "200",
                                    "MEGYS": "db",
                                    "FELVITTE": "Béla",
                                    "FELVITEL": "2016-07-21"
                                },
                                {
                                    "TERMEKKOD": "02040178T",
                                    "MEGNEVEZES": "Gyorsfűző műa.",
                                    "KAT_ID": "58",
                                    "LISTAAR": "35",
                                    "LEIRAS": "NULL",
                                    "RAKTAR_KOD": "8",
                                    "KESZLET": "1000",
                                    "MEGYS": "db",
                                    "FELVITTE": "Béla",
                                    "FELVITEL": "2016-07-21"
                                },
                                {
                                    "TERMEKKOD": "02040194T",
                                    "MEGNEVEZES": "Hibajav.roll.Pritt 4,2mm",
                                    "KAT_ID": "66",
                                    "LISTAAR": "794",
                                    "LEIRAS": "NULL",
                                    "RAKTAR_KOD": "8",
                                    "KESZLET": "500",
                                    "MEGYS": "db",
                                    "FELVITTE": "Béla",
                                    "FELVITEL": "2016-07-21"
                                },
                                {
                                    "TERMEKKOD": "02040401T",
                                    "MEGNEVEZES": "Tűzőgép Boxer 10",
                                    "KAT_ID": "149",
                                    "LISTAAR": "339",
                                    "LEIRAS": "NULL",
                                    "RAKTAR_KOD": "8",
                                    "KESZLET": "300",
                                    "MEGYS": "db",
                                    "FELVITTE": "Mari",
                                    "FELVITEL": "2016-07-21"
                                },
                                {
                                    "TERMEKKOD": "02040402T",
                                    "MEGNEVEZES": "Tűzőgép Boxer ",
                                    "KAT_ID": "149",
                                    "LISTAAR": "286",
                                    "LEIRAS": "NULL",
                                    "RAKTAR_KOD": "5",
                                    "KESZLET": "900",
                                    "MEGYS": "db",
                                    "FELVITTE": "Mari",
                                    "FELVITEL": "2016-07-21"
                                },
                                {
                                    "TERMEKKOD": "02040403T",
                                    "MEGNEVEZES": "Tűzőgép SAX 239",
                                    "KAT_ID": "149",
                                    "LISTAAR": "1351",
                                    "LEIRAS": "NULL",
                                    "RAKTAR_KOD": "5",
                                    "KESZLET": "1100",
                                    "MEGYS": "db",
                                    "FELVITTE": "Mari",
                                    "FELVITEL": "2016-07-21"
                                },
                                {
                                    "TERMEKKOD": "02040404T",
                                    "MEGNEVEZES": "Tűzőgép EAGLE",
                                    "KAT_ID": "149",
                                    "LISTAAR": "405",
                                    "LEIRAS": "NULL",
                                    "RAKTAR_KOD": "8",
                                    "KESZLET": "300",
                                    "MEGYS": "db",
                                    "FELVITTE": "Mari",
                                    "FELVITEL": "2016-07-21"
                                },
                                {
                                    "TERMEKKOD": "07030106T",
                                    "MEGNEVEZES": "Filctoll, alkoholosOHP F-M-C",
                                    "KAT_ID": "41",
                                    "LISTAAR": "103",
                                    "LEIRAS": "NULL",
                                    "RAKTAR_KOD": "9",
                                    "KESZLET": "700",
                                    "MEGYS": "db",
                                    "FELVITTE": "Mari",
                                    "FELVITEL": "2016-07-21"
                                },
                                {
                                    "TERMEKKOD": "07030107T",
                                    "MEGNEVEZES": "Filctoll, textil Edding 4500",
                                    "KAT_ID": "41",
                                    "LISTAAR": "276",
                                    "LEIRAS": "NULL",
                                    "RAKTAR_KOD": "5",
                                    "KESZLET": "1000",
                                    "MEGYS": "db",
                                    "FELVITTE": "Mari",
                                    "FELVITEL": "2016-07-21"
                                },
                                {
                                    "TERMEKKOD": "07030108T",
                                    "MEGNEVEZES": "Filctoll CD író",
                                    "KAT_ID": "41",
                                    "LISTAAR": "0",
                                    "LEIRAS": "NULL",
                                    "RAKTAR_KOD": "5",
                                    "KESZLET": "500",
                                    "MEGYS": "db",
                                    "FELVITTE": "Mari",
                                    "FELVITEL": "2016-07-21"
                                },
                                {
                                    "TERMEKKOD": "07040047T",
                                    "MEGNEVEZES": "Ceruza 2H-4B",
                                    "KAT_ID": "19",
                                    "LISTAAR": "39",
                                    "LEIRAS": "NULL",
                                    "RAKTAR_KOD": "5",
                                    "KESZLET": "200",
                                    "MEGYS": "db",
                                    "FELVITTE": "Mari",
                                    "FELVITEL": "2016-07-21"
                                },
                                {
                                    "TERMEKKOD": "07040048T",
                                    "MEGNEVEZES": "Ceruza arany, ezüst",
                                    "KAT_ID": "19",
                                    "LISTAAR": "55",
                                    "LEIRAS": "NULL",
                                    "RAKTAR_KOD": "6",
                                    "KESZLET": "1900",
                                    "MEGYS": "db",
                                    "FELVITTE": "Mari",
                                    "FELVITEL": "2016-07-21"
                                },
                                {
                                    "TERMEKKOD": "07040049T",
                                    "MEGNEVEZES": "Ceruza Conté zöld",
                                    "KAT_ID": "19",
                                    "LISTAAR": "40",
                                    "LEIRAS": "NULL",
                                    "RAKTAR_KOD": "9",
                                    "KESZLET": "100",
                                    "MEGYS": "db",
                                    "FELVITTE": "Mari",
                                    "FELVITEL": "2016-07-21"
                                },
                                {
                                    "TERMEKKOD": "07040050T",
                                    "MEGNEVEZES": "Ceruza Cseh",
                                    "KAT_ID": "19",
                                    "LISTAAR": "30",
                                    "LEIRAS": "NULL",
                                    "RAKTAR_KOD": "6",
                                    "KESZLET": "200",
                                    "MEGYS": "db",
                                    "FELVITTE": "Mari",
                                    "FELVITEL": "2016-07-21"
                                },
                                {
                                    "TERMEKKOD": "07040051T",
                                    "MEGNEVEZES": "Ceruza háromszög ",
                                    "KAT_ID": "19",
                                    "LISTAAR": "39",
                                    "LEIRAS": "NULL",
                                    "RAKTAR_KOD": "6",
                                    "KESZLET": "500",
                                    "MEGYS": "db",
                                    "FELVITTE": "Mari",
                                    "FELVITEL": "2016-07-21"
                                },
                                {
                                    "TERMEKKOD": "06080441T",
                                    "MEGNEVEZES": "Gyurmakés",
                                    "KAT_ID": "59",
                                    "LISTAAR": "121",
                                    "LEIRAS": "NULL",
                                    "RAKTAR_KOD": "9",
                                    "KESZLET": "300",
                                    "MEGYS": "csomag",
                                    "FELVITTE": "Béla",
                                    "FELVITEL": "2016-07-21"
                                },
                                {
                                    "TERMEKKOD": "06080440T",
                                    "MEGNEVEZES": "Gyurma 12 szinű",
                                    "KAT_ID": "59",
                                    "LISTAAR": "161",
                                    "LEIRAS": "NULL",
                                    "RAKTAR_KOD": "5",
                                    "KESZLET": "1900",
                                    "MEGYS": "csomag",
                                    "FELVITTE": "Béla",
                                    "FELVITEL": "2016-07-20"
                                },
                                {
                                    "TERMEKKOD": "L041-AL211",
                                    "MEGNEVEZES": "lány ünneplős ruha",
                                    "KAT_ID": "8",
                                    "LISTAAR": "16900",
                                    "LEIRAS": "NULL",
                                    "RAKTAR_KOD": "3",
                                    "KESZLET": "325",
                                    "MEGYS": "db",
                                    "FELVITTE": "Sára",
                                    "FELVITEL": "2016-07-20"
                                },
                                {
                                    "TERMEKKOD": "L048-PO218",
                                    "MEGNEVEZES": "gyermek póló (lány)",
                                    "KAT_ID": "57",
                                    "LISTAAR": "3900",
                                    "LEIRAS": "hercegnős (pamut) ",
                                    "RAKTAR_KOD": "3",
                                    "KESZLET": "113",
                                    "MEGYS": "db",
                                    "FELVITTE": "Sára",
                                    "FELVITEL": "2016-07-20"
                                },
                                {
                                    "TERMEKKOD": "N039-AL222",
                                    "MEGNEVEZES": "kosztüm (hosszú)",
                                    "KAT_ID": "88",
                                    "LISTAAR": "46000",
                                    "LEIRAS": "tört fehér  ",
                                    "RAKTAR_KOD": "2",
                                    "KESZLET": "238",
                                    "MEGYS": "db",
                                    "FELVITTE": "Mari",
                                    "FELVITEL": "2016-07-20"
                                },
                                {
                                    "TERMEKKOD": "02030043T",
                                    "MEGNEVEZES": "Boríték légp. kicsi",
                                    "KAT_ID": "16",
                                    "LISTAAR": "39",
                                    "LEIRAS": "NULL",
                                    "RAKTAR_KOD": "7",
                                    "KESZLET": "2500",
                                    "MEGYS": "db",
                                    "FELVITTE": "Sára",
                                    "FELVITEL": "2016-07-20"
                                },
                                {
                                    "TERMEKKOD": "03050079T",
                                    "MEGNEVEZES": "Díszkötöző szalag vékony",
                                    "KAT_ID": "28",
                                    "LISTAAR": "15",
                                    "LEIRAS": "NULL",
                                    "RAKTAR_KOD": "8",
                                    "KESZLET": "40000",
                                    "MEGYS": "db",
                                    "FELVITTE": "Mari",
                                    "FELVITEL": "2016-07-20"
                                },
                                {
                                    "TERMEKKOD": "02080511T",
                                    "MEGNEVEZES": "Oki toner C",
                                    "KAT_ID": "147",
                                    "LISTAAR": "14250",
                                    "LEIRAS": "NULL",
                                    "RAKTAR_KOD": "8",
                                    "KESZLET": "100",
                                    "MEGYS": "db",
                                    "FELVITTE": "Béla",
                                    "FELVITEL": "2016-07-20"
                                },
                                {
                                    "TERMEKKOD": "02080514T",
                                    "MEGNEVEZES": "Spirál 1/4 ",
                                    "KAT_ID": "131",
                                    "LISTAAR": "45",
                                    "LEIRAS": "NULL",
                                    "RAKTAR_KOD": "9",
                                    "KESZLET": "300",
                                    "MEGYS": "db",
                                    "FELVITTE": "Béla",
                                    "FELVITEL": "2016-07-20"
                                },
                                {
                                    "TERMEKKOD": "04030240T",
                                    "MEGNEVEZES": "Képeslap virágos",
                                    "KAT_ID": "85",
                                    "LISTAAR": "14",
                                    "LEIRAS": "NULL",
                                    "RAKTAR_KOD": "7",
                                    "KESZLET": "1600",
                                    "MEGYS": "db",
                                    "FELVITTE": "Sára",
                                    "FELVITEL": "2016-07-20"
                                },
                                {
                                    "TERMEKKOD": "06040354T",
                                    "MEGNEVEZES": "Sp.Füzet A/4  perforált, lyuk.",
                                    "KAT_ID": "45",
                                    "LISTAAR": "206",
                                    "LEIRAS": "NULL",
                                    "RAKTAR_KOD": "5",
                                    "KESZLET": "800",
                                    "MEGYS": "db",
                                    "FELVITTE": "Sára",
                                    "FELVITEL": "2016-07-20"
                                },
                                {
                                    "TERMEKKOD": "06040380T",
                                    "MEGNEVEZES": "Szövegkiemelő",
                                    "KAT_ID": "138",
                                    "LISTAAR": "78",
                                    "LEIRAS": "NULL",
                                    "RAKTAR_KOD": "5",
                                    "KESZLET": "500",
                                    "MEGYS": "db",
                                    "FELVITTE": "Sára",
                                    "FELVITEL": "2016-07-20"
                                },
                                {
                                    "TERMEKKOD": "06040325T",
                                    "MEGNEVEZES": "Radír gyümölcsös",
                                    "KAT_ID": "122",
                                    "LISTAAR": "40",
                                    "LEIRAS": "NULL",
                                    "RAKTAR_KOD": "9",
                                    "KESZLET": "2600",
                                    "MEGYS": "db",
                                    "FELVITTE": "Béla",
                                    "FELVITEL": "2016-07-20"
                                },
                                {
                                    "TERMEKKOD": "06040326T",
                                    "MEGNEVEZES": "Radír KOH-I-NOR 80",
                                    "KAT_ID": "122",
                                    "LISTAAR": "19",
                                    "LEIRAS": "NULL",
                                    "RAKTAR_KOD": "8",
                                    "KESZLET": "100",
                                    "MEGYS": "db",
                                    "FELVITTE": "Béla",
                                    "FELVITEL": "2016-07-20"
                                },
                                {
                                    "TERMEKKOD": "02080453T",
                                    "MEGNEVEZES": "Lyukasztó EAGLE",
                                    "KAT_ID": "95",
                                    "LISTAAR": "526",
                                    "LEIRAS": "NULL",
                                    "RAKTAR_KOD": "7",
                                    "KESZLET": "600",
                                    "MEGYS": "db",
                                    "FELVITTE": "Mari",
                                    "FELVITEL": "2016-07-19"
                                },
                                {
                                    "TERMEKKOD": "02040208T",
                                    "MEGNEVEZES": "Iratgyűjtő fehér",
                                    "KAT_ID": "70",
                                    "LISTAAR": "19",
                                    "LEIRAS": "NULL",
                                    "RAKTAR_KOD": "8",
                                    "KESZLET": "400",
                                    "MEGYS": "db",
                                    "FELVITTE": "Mari",
                                    "FELVITEL": "2016-07-19"
                                },
                                {
                                    "TERMEKKOD": "02040209T",
                                    "MEGNEVEZES": "Iratsín fehér",
                                    "KAT_ID": "72",
                                    "LISTAAR": "44",
                                    "LEIRAS": "NULL",
                                    "RAKTAR_KOD": "7",
                                    "KESZLET": "600",
                                    "MEGYS": "db",
                                    "FELVITTE": "Mari",
                                    "FELVITEL": "2016-07-19"
                                },
                                {
                                    "TERMEKKOD": "02040210T",
                                    "MEGNEVEZES": "Iratsín kék",
                                    "KAT_ID": "72",
                                    "LISTAAR": "89",
                                    "LEIRAS": "NULL",
                                    "RAKTAR_KOD": "6",
                                    "KESZLET": "2500",
                                    "MEGYS": "db",
                                    "FELVITTE": "Mari",
                                    "FELVITEL": "2016-07-19"
                                },
                                {
                                    "TERMEKKOD": "02040195T",
                                    "MEGNEVEZES": "Hibajavító ecsetes Aqua",
                                    "KAT_ID": "66",
                                    "LISTAAR": "185",
                                    "LEIRAS": "NULL",
                                    "RAKTAR_KOD": "5",
                                    "KESZLET": "400",
                                    "MEGYS": "db",
                                    "FELVITTE": "Béla",
                                    "FELVITEL": "2016-07-19"
                                },
                                {
                                    "TERMEKKOD": "02040196T",
                                    "MEGNEVEZES": "Hibajavító készlet Blanco",
                                    "KAT_ID": "66",
                                    "LISTAAR": "273",
                                    "LEIRAS": "NULL",
                                    "RAKTAR_KOD": "7",
                                    "KESZLET": "100",
                                    "MEGYS": "db",
                                    "FELVITTE": "Béla",
                                    "FELVITEL": "2016-07-19"
                                },
                                {
                                    "TERMEKKOD": "02040197T",
                                    "MEGNEVEZES": "Hibajavító lap ",
                                    "KAT_ID": "66",
                                    "LISTAAR": "81",
                                    "LEIRAS": "NULL",
                                    "RAKTAR_KOD": "9",
                                    "KESZLET": "100",
                                    "MEGYS": "db",
                                    "FELVITTE": "Béla",
                                    "FELVITEL": "2016-07-19"
                                },
                                {
                                    "TERMEKKOD": "02040198T",
                                    "MEGNEVEZES": "Hibajavító roller 5 mm",
                                    "KAT_ID": "66",
                                    "LISTAAR": "133",
                                    "LEIRAS": "NULL",
                                    "RAKTAR_KOD": "7",
                                    "KESZLET": "200",
                                    "MEGYS": "db",
                                    "FELVITTE": "Béla",
                                    "FELVITEL": "2016-07-19"
                                },
                                {
                                    "TERMEKKOD": "02040199T",
                                    "MEGNEVEZES": "Hibajavító roller Pax",
                                    "KAT_ID": "66",
                                    "LISTAAR": "286",
                                    "LEIRAS": "NULL",
                                    "RAKTAR_KOD": "7",
                                    "KESZLET": "300",
                                    "MEGYS": "db",
                                    "FELVITTE": "Béla",
                                    "FELVITEL": "2016-07-19"
                                },
                                {
                                    "TERMEKKOD": "02020029T",
                                    "MEGNEVEZES": "Átírótömb A/6",
                                    "KAT_ID": "11",
                                    "LISTAAR": "115",
                                    "LEIRAS": "NULL",
                                    "RAKTAR_KOD": "8",
                                    "KESZLET": "200",
                                    "MEGYS": "db",
                                    "FELVITTE": "Sára",
                                    "FELVITEL": "2016-07-19"
                                },
                                {
                                    "TERMEKKOD": "L073-CI410",
                                    "MEGNEVEZES": "gyermek cipő (lány)",
                                    "KAT_ID": "54",
                                    "LISTAAR": "7900",
                                    "LEIRAS": "NULL",
                                    "RAKTAR_KOD": "3",
                                    "KESZLET": "323",
                                    "MEGYS": "db",
                                    "FELVITTE": "Sára",
                                    "FELVITEL": "2016-07-19"
                                },
                                {
                                    "TERMEKKOD": "L082-CI419",
                                    "MEGNEVEZES": "gyermek csizma (lány)",
                                    "KAT_ID": "54",
                                    "LISTAAR": "8000",
                                    "LEIRAS": "NULL",
                                    "RAKTAR_KOD": "1",
                                    "KESZLET": "264",
                                    "MEGYS": "db",
                                    "FELVITTE": "Sára",
                                    "FELVITEL": "2016-07-19"
                                },
                                {
                                    "TERMEKKOD": "06040393T",
                                    "MEGNEVEZES": "Tolltartó 2 részes NG.",
                                    "KAT_ID": "146",
                                    "LISTAAR": "765",
                                    "LEIRAS": "NULL",
                                    "RAKTAR_KOD": "9",
                                    "KESZLET": "1000",
                                    "MEGYS": "db",
                                    "FELVITTE": "Sára",
                                    "FELVITEL": "2016-07-19"
                                },
                                {
                                    "TERMEKKOD": "06040394T",
                                    "MEGNEVEZES": "Tolltartó zipzáras",
                                    "KAT_ID": "146",
                                    "LISTAAR": "324",
                                    "LEIRAS": "NULL",
                                    "RAKTAR_KOD": "5",
                                    "KESZLET": "100",
                                    "MEGYS": "db",
                                    "FELVITTE": "Béla",
                                    "FELVITEL": "2016-07-18"
                                },
                                {
                                    "TERMEKKOD": "06040395T",
                                    "MEGNEVEZES": "Tolltartó 2 zipzáros töltött",
                                    "KAT_ID": "146",
                                    "LISTAAR": "728",
                                    "LEIRAS": "NULL",
                                    "RAKTAR_KOD": "7",
                                    "KESZLET": "700",
                                    "MEGYS": "db",
                                    "FELVITTE": "Béla",
                                    "FELVITEL": "2016-07-18"
                                },
                                {
                                    "TERMEKKOD": "06040396T",
                                    "MEGNEVEZES": "Tolltartó Garfield",
                                    "KAT_ID": "146",
                                    "LISTAAR": "410",
                                    "LEIRAS": "NULL",
                                    "RAKTAR_KOD": "7",
                                    "KESZLET": "2900",
                                    "MEGYS": "db",
                                    "FELVITTE": "Béla",
                                    "FELVITEL": "2016-07-18"
                                },
                                {
                                    "TERMEKKOD": "06080413T",
                                    "MEGNEVEZES": "Vonalzó 30 cm",
                                    "KAT_ID": "152",
                                    "LISTAAR": "30",
                                    "LEIRAS": "NULL",
                                    "RAKTAR_KOD": "8",
                                    "KESZLET": "100",
                                    "MEGYS": "db",
                                    "FELVITTE": "Sára",
                                    "FELVITEL": "2016-07-18"
                                },
                                {
                                    "TERMEKKOD": "06080411T",
                                    "MEGNEVEZES": "Vonalzó 15 cm-es ESSELTE",
                                    "KAT_ID": "152",
                                    "LISTAAR": "58",
                                    "LEIRAS": "NULL",
                                    "RAKTAR_KOD": "8",
                                    "KESZLET": "100",
                                    "MEGYS": "db",
                                    "FELVITTE": "Sára",
                                    "FELVITEL": "2016-07-18"
                                },
                                {
                                    "TERMEKKOD": "N001-KB101",
                                    "MEGNEVEZES": "női szövet kabát",
                                    "KAT_ID": "107",
                                    "LISTAAR": "24000",
                                    "LEIRAS": "piros (szövet) ",
                                    "RAKTAR_KOD": "1",
                                    "KESZLET": "77",
                                    "MEGYS": "db",
                                    "FELVITTE": "Béla",
                                    "FELVITEL": "2016-07-18"
                                },
                                {
                                    "TERMEKKOD": "N008-NA201",
                                    "MEGNEVEZES": "női farmer nadrág",
                                    "KAT_ID": "108",
                                    "LISTAAR": "8290",
                                    "LEIRAS": "kék (farmer) ",
                                    "RAKTAR_KOD": "2",
                                    "KESZLET": "289",
                                    "MEGYS": "db",
                                    "FELVITTE": "Mari",
                                    "FELVITEL": "2016-07-18"
                                },
                                {
                                    "TERMEKKOD": "N019-FE301",
                                    "MEGNEVEZES": "női alsó",
                                    "KAT_ID": "35",
                                    "LISTAAR": "690",
                                    "LEIRAS": "fekete (pamut) ",
                                    "RAKTAR_KOD": "2",
                                    "KESZLET": "53",
                                    "MEGYS": "db",
                                    "FELVITTE": "Mari",
                                    "FELVITEL": "2016-07-18"
                                },
                                {
                                    "TERMEKKOD": "N029-AL212",
                                    "MEGNEVEZES": "női koktélruha",
                                    "KAT_ID": "8",
                                    "LISTAAR": "32000",
                                    "LEIRAS": "fekete  ",
                                    "RAKTAR_KOD": "4",
                                    "KESZLET": "283",
                                    "MEGYS": "db",
                                    "FELVITTE": "Mari",
                                    "FELVITEL": "2016-07-18"
                                },
                                {
                                    "TERMEKKOD": "02040148T",
                                    "MEGNEVEZES": "Genotherm lefűzhető A4 10db-os",
                                    "KAT_ID": "51",
                                    "LISTAAR": "63",
                                    "LEIRAS": "NULL",
                                    "RAKTAR_KOD": "9",
                                    "KESZLET": "200",
                                    "MEGYS": "csomag",
                                    "FELVITTE": "Béla",
                                    "FELVITEL": "2016-07-18"
                                },
                                {
                                    "TERMEKKOD": "02040149T",
                                    "MEGNEVEZES": "Genotherm A4 10db-os",
                                    "KAT_ID": "51",
                                    "LISTAAR": "110",
                                    "LEIRAS": "NULL",
                                    "RAKTAR_KOD": "7",
                                    "KESZLET": "4700",
                                    "MEGYS": "csomag",
                                    "FELVITTE": "Béla",
                                    "FELVITEL": "2016-07-18"
                                },
                                {
                                    "TERMEKKOD": "02080452T",
                                    "MEGNEVEZES": "Tűzőgép mini",
                                    "KAT_ID": "149",
                                    "LISTAAR": "438",
                                    "LEIRAS": "NULL",
                                    "RAKTAR_KOD": "6",
                                    "KESZLET": "200",
                                    "MEGYS": "db",
                                    "FELVITTE": "Mari",
                                    "FELVITEL": "2016-07-18"
                                },
                                {
                                    "TERMEKKOD": "04030238T",
                                    "MEGNEVEZES": "Képeslap stancolt",
                                    "KAT_ID": "85",
                                    "LISTAAR": "59",
                                    "LEIRAS": "NULL",
                                    "RAKTAR_KOD": "9",
                                    "KESZLET": "300",
                                    "MEGYS": "db",
                                    "FELVITTE": "Sára",
                                    "FELVITEL": "2016-07-18"
                                },
                                {
                                    "TERMEKKOD": "04030237T",
                                    "MEGNEVEZES": "Képeslap kerek",
                                    "KAT_ID": "85",
                                    "LISTAAR": "36",
                                    "LEIRAS": "NULL",
                                    "RAKTAR_KOD": "9",
                                    "KESZLET": "100",
                                    "MEGYS": "db",
                                    "FELVITTE": "Béla",
                                    "FELVITEL": "2016-07-17"
                                },
                                {
                                    "TERMEKKOD": "03050080T",
                                    "MEGNEVEZES": "Diszkötöző széles szalag",
                                    "KAT_ID": "28",
                                    "LISTAAR": "81",
                                    "LEIRAS": "NULL",
                                    "RAKTAR_KOD": "6",
                                    "KESZLET": "26000",
                                    "MEGYS": "db",
                                    "FELVITTE": "Béla",
                                    "FELVITEL": "2016-07-17"
                                },
                                {
                                    "TERMEKKOD": "03050457T",
                                    "MEGNEVEZES": "Ajándék cs. tasak kicsi",
                                    "KAT_ID": "6",
                                    "LISTAAR": "26",
                                    "LEIRAS": "NULL",
                                    "RAKTAR_KOD": "6",
                                    "KESZLET": "50000",
                                    "MEGYS": "db",
                                    "FELVITTE": "Béla",
                                    "FELVITEL": "2016-07-17"
                                },
                                {
                                    "TERMEKKOD": "06040327T",
                                    "MEGNEVEZES": "Radír Koh-i-nor 40",
                                    "KAT_ID": "122",
                                    "LISTAAR": "36",
                                    "LEIRAS": "NULL",
                                    "RAKTAR_KOD": "9",
                                    "KESZLET": "2200",
                                    "MEGYS": "db",
                                    "FELVITTE": "Béla",
                                    "FELVITEL": "2016-07-17"
                                },
                                {
                                    "TERMEKKOD": "06040328T",
                                    "MEGNEVEZES": "Radír Maped",
                                    "KAT_ID": "122",
                                    "LISTAAR": "44",
                                    "LEIRAS": "NULL",
                                    "RAKTAR_KOD": "8",
                                    "KESZLET": "2400",
                                    "MEGYS": "db",
                                    "FELVITTE": "Béla",
                                    "FELVITEL": "2016-07-17"
                                },
                                {
                                    "TERMEKKOD": "06040329T",
                                    "MEGNEVEZES": "Radír stabilo",
                                    "KAT_ID": "122",
                                    "LISTAAR": "44",
                                    "LEIRAS": "NULL",
                                    "RAKTAR_KOD": "6",
                                    "KESZLET": "1700",
                                    "MEGYS": "db",
                                    "FELVITTE": "Béla",
                                    "FELVITEL": "2016-07-17"
                                },
                                {
                                    "TERMEKKOD": "L064-CI401",
                                    "MEGNEVEZES": "gyermek szandál (lány)",
                                    "KAT_ID": "54",
                                    "LISTAAR": "6900",
                                    "LEIRAS": "NULL",
                                    "RAKTAR_KOD": "3",
                                    "KESZLET": "119",
                                    "MEGYS": "db",
                                    "FELVITTE": "Mari",
                                    "FELVITEL": "2016-07-17"
                                },
                                {
                                    "TERMEKKOD": "06040397T",
                                    "MEGNEVEZES": "Tolltartó asztali",
                                    "KAT_ID": "146",
                                    "LISTAAR": "655",
                                    "LEIRAS": "NULL",
                                    "RAKTAR_KOD": "8",
                                    "KESZLET": "700",
                                    "MEGYS": "csomag",
                                    "FELVITTE": "Sára",
                                    "FELVITEL": "2016-07-17"
                                },
                                {
                                    "TERMEKKOD": "06040398T",
                                    "MEGNEVEZES": "Tolltartó hengeres ",
                                    "KAT_ID": "146",
                                    "LISTAAR": "411",
                                    "LEIRAS": "NULL",
                                    "RAKTAR_KOD": "5",
                                    "KESZLET": "100",
                                    "MEGYS": "db",
                                    "FELVITTE": "Sára",
                                    "FELVITEL": "2016-07-17"
                                },
                                {
                                    "TERMEKKOD": "06040399T",
                                    "MEGNEVEZES": "Tombola tömb",
                                    "KAT_ID": "78",
                                    "LISTAAR": "125",
                                    "LEIRAS": "NULL",
                                    "RAKTAR_KOD": "7",
                                    "KESZLET": "100",
                                    "MEGYS": "db",
                                    "FELVITTE": "Sára",
                                    "FELVITEL": "2016-07-17"
                                },
                                {
                                    "TERMEKKOD": "06040400T",
                                    "MEGNEVEZES": "Tornazsák",
                                    "KAT_ID": "78",
                                    "LISTAAR": "511",
                                    "LEIRAS": "NULL",
                                    "RAKTAR_KOD": "8",
                                    "KESZLET": "200",
                                    "MEGYS": "db",
                                    "FELVITTE": "Sára",
                                    "FELVITEL": "2016-07-17"
                                },
                                {
                                    "TERMEKKOD": "06040446T",
                                    "MEGNEVEZES": "Számológép tudományos",
                                    "KAT_ID": "134",
                                    "LISTAAR": "1173",
                                    "LEIRAS": "NULL",
                                    "RAKTAR_KOD": "5",
                                    "KESZLET": "200",
                                    "MEGYS": "db",
                                    "FELVITTE": "Sára",
                                    "FELVITEL": "2016-07-17"
                                },
                                {
                                    "TERMEKKOD": "06040392T",
                                    "MEGNEVEZES": "Tolltartó 1 zipzáros",
                                    "KAT_ID": "146",
                                    "LISTAAR": "728",
                                    "LEIRAS": "NULL",
                                    "RAKTAR_KOD": "7",
                                    "KESZLET": "400",
                                    "MEGYS": "db",
                                    "FELVITTE": "Sára",
                                    "FELVITEL": "2016-07-17"
                                },
                                {
                                    "TERMEKKOD": "06040352T",
                                    "MEGNEVEZES": "Rovatolt papír 20 íves",
                                    "KAT_ID": "78",
                                    "LISTAAR": "103",
                                    "LEIRAS": "NULL",
                                    "RAKTAR_KOD": "6",
                                    "KESZLET": "0",
                                    "MEGYS": "db",
                                    "FELVITTE": "Mari",
                                    "FELVITEL": "2016-07-16"
                                },
                                {
                                    "TERMEKKOD": "06040353T",
                                    "MEGNEVEZES": "Sorvezető",
                                    "KAT_ID": "78",
                                    "LISTAAR": "8",
                                    "LEIRAS": "NULL",
                                    "RAKTAR_KOD": "5",
                                    "KESZLET": "600",
                                    "MEGYS": "db",
                                    "FELVITTE": "Béla",
                                    "FELVITEL": "2016-07-16"
                                },
                                {
                                    "TERMEKKOD": "02040308T",
                                    "MEGNEVEZES": "Pénztárgépsz. 2 pl. nem öníró",
                                    "KAT_ID": "117",
                                    "LISTAAR": "81",
                                    "LEIRAS": "NULL",
                                    "RAKTAR_KOD": "9",
                                    "KESZLET": "300",
                                    "MEGYS": "db",
                                    "FELVITTE": "Mari",
                                    "FELVITEL": "2016-07-16"
                                },
                                {
                                    "TERMEKKOD": "02040309T",
                                    "MEGNEVEZES": "Pénztárgépszalag 2pl SC 57.5/60",
                                    "KAT_ID": "117",
                                    "LISTAAR": "93",
                                    "LEIRAS": "NULL",
                                    "RAKTAR_KOD": "6",
                                    "KESZLET": "100",
                                    "MEGYS": "db",
                                    "FELVITTE": "Mari",
                                    "FELVITEL": "2016-07-16"
                                },
                                {
                                    "TERMEKKOD": "02020032T",
                                    "MEGNEVEZES": "Beírókönyv A5 ",
                                    "KAT_ID": "13",
                                    "LISTAAR": "133",
                                    "LEIRAS": "NULL",
                                    "RAKTAR_KOD": "8",
                                    "KESZLET": "200",
                                    "MEGYS": "db",
                                    "FELVITTE": "Sára",
                                    "FELVITEL": "2016-07-16"
                                },
                                {
                                    "TERMEKKOD": "02010028T",
                                    "MEGNEVEZES": "Árazószalag ",
                                    "KAT_ID": "10",
                                    "LISTAAR": "106",
                                    "LEIRAS": "NULL",
                                    "RAKTAR_KOD": "9",
                                    "KESZLET": "100",
                                    "MEGYS": "db",
                                    "FELVITTE": "Sára",
                                    "FELVITEL": "2016-07-16"
                                },
                                {
                                    "TERMEKKOD": "02030042T",
                                    "MEGNEVEZES": "Boríték LC 6",
                                    "KAT_ID": "16",
                                    "LISTAAR": "3",
                                    "LEIRAS": "NULL",
                                    "RAKTAR_KOD": "6",
                                    "KESZLET": "2000",
                                    "MEGYS": "db",
                                    "FELVITTE": "Mari",
                                    "FELVITEL": "2016-07-15"
                                },
                                {
                                    "TERMEKKOD": "06050249T",
                                    "MEGNEVEZES": "Krepp papír",
                                    "KAT_ID": "78",
                                    "LISTAAR": "73",
                                    "LEIRAS": "NULL",
                                    "RAKTAR_KOD": "5",
                                    "KESZLET": "500",
                                    "MEGYS": "db",
                                    "FELVITTE": "Mari",
                                    "FELVITEL": "2016-07-15"
                                },
                                {
                                    "TERMEKKOD": "06050301T",
                                    "MEGNEVEZES": "Olló gyerek ",
                                    "KAT_ID": "111",
                                    "LISTAAR": "133",
                                    "LEIRAS": "NULL",
                                    "RAKTAR_KOD": "8",
                                    "KESZLET": "100",
                                    "MEGYS": "db",
                                    "FELVITTE": "Mari",
                                    "FELVITEL": "2016-07-15"
                                },
                                {
                                    "TERMEKKOD": "06050302T",
                                    "MEGNEVEZES": "Olló Tagit 18 cm-es",
                                    "KAT_ID": "111",
                                    "LISTAAR": "176",
                                    "LEIRAS": "NULL",
                                    "RAKTAR_KOD": "5",
                                    "KESZLET": "400",
                                    "MEGYS": "db",
                                    "FELVITTE": "Mari",
                                    "FELVITEL": "2016-07-15"
                                },
                                {
                                    "TERMEKKOD": "06080410T",
                                    "MEGNEVEZES": "Vízfesték 12db-os kínai",
                                    "KAT_ID": "151",
                                    "LISTAAR": "176",
                                    "LEIRAS": "NULL",
                                    "RAKTAR_KOD": "6",
                                    "KESZLET": "100",
                                    "MEGYS": "db",
                                    "FELVITTE": "Béla",
                                    "FELVITEL": "2016-07-15"
                                },
                                {
                                    "TERMEKKOD": "06080412T",
                                    "MEGNEVEZES": "Vonalzó 16 cm-es LIZZY",
                                    "KAT_ID": "152",
                                    "LISTAAR": "30",
                                    "LEIRAS": "NULL",
                                    "RAKTAR_KOD": "7",
                                    "KESZLET": "100",
                                    "MEGYS": "db",
                                    "FELVITTE": "Sára",
                                    "FELVITEL": "2016-07-15"
                                },
                                {
                                    "TERMEKKOD": "N035-AL218",
                                    "MEGNEVEZES": "kosztüm (rövid)",
                                    "KAT_ID": "88",
                                    "LISTAAR": "39000",
                                    "LEIRAS": "szürke  ",
                                    "RAKTAR_KOD": "3",
                                    "KESZLET": "369",
                                    "MEGYS": "db",
                                    "FELVITTE": "Sára",
                                    "FELVITEL": "2016-07-15"
                                },
                                {
                                    "TERMEKKOD": "U001-KI501",
                                    "MEGNEVEZES": "sál",
                                    "KAT_ID": "130",
                                    "LISTAAR": "1990",
                                    "LEIRAS": "sárga (kötött) ",
                                    "RAKTAR_KOD": "1",
                                    "KESZLET": "77",
                                    "MEGYS": "db",
                                    "FELVITTE": "Mari",
                                    "FELVITEL": "2016-07-15"
                                },
                                {
                                    "TERMEKKOD": "06080407T",
                                    "MEGNEVEZES": "Vízfesték  12 színű nagy",
                                    "KAT_ID": "151",
                                    "LISTAAR": "249",
                                    "LEIRAS": "NULL",
                                    "RAKTAR_KOD": "7",
                                    "KESZLET": "100",
                                    "MEGYS": "db",
                                    "FELVITTE": "Sára",
                                    "FELVITEL": "2016-07-14"
                                },
                                {
                                    "TERMEKKOD": "06080408T",
                                    "MEGNEVEZES": "Vízfesték 12 db-os ",
                                    "KAT_ID": "151",
                                    "LISTAAR": "210",
                                    "LEIRAS": "NULL",
                                    "RAKTAR_KOD": "7",
                                    "KESZLET": "100",
                                    "MEGYS": "db",
                                    "FELVITTE": "Sára",
                                    "FELVITEL": "2016-07-14"
                                },
                                {
                                    "TERMEKKOD": "06080409T",
                                    "MEGNEVEZES": "Vízfesték 12 színű kerek",
                                    "KAT_ID": "151",
                                    "LISTAAR": "180",
                                    "LEIRAS": "NULL",
                                    "RAKTAR_KOD": "6",
                                    "KESZLET": "100",
                                    "MEGYS": "db",
                                    "FELVITTE": "Sára",
                                    "FELVITEL": "2016-07-14"
                                },
                                {
                                    "TERMEKKOD": "06080124T",
                                    "MEGNEVEZES": "Füzettartó A/4 keménytáblás",
                                    "KAT_ID": "47",
                                    "LISTAAR": "508",
                                    "LEIRAS": "NULL",
                                    "RAKTAR_KOD": "6",
                                    "KESZLET": "900",
                                    "MEGYS": "db",
                                    "FELVITTE": "Mari",
                                    "FELVITEL": "2016-07-14"
                                },
                                {
                                    "TERMEKKOD": "06080125T",
                                    "MEGNEVEZES": "Füzettartó A/5 vastag",
                                    "KAT_ID": "47",
                                    "LISTAAR": "411",
                                    "LEIRAS": "NULL",
                                    "RAKTAR_KOD": "7",
                                    "KESZLET": "400",
                                    "MEGYS": "db",
                                    "FELVITTE": "Mari",
                                    "FELVITEL": "2016-07-14"
                                },
                                {
                                    "TERMEKKOD": "06080188T",
                                    "MEGNEVEZES": "Hegyező gép",
                                    "KAT_ID": "64",
                                    "LISTAAR": "875",
                                    "LEIRAS": "NULL",
                                    "RAKTAR_KOD": "8",
                                    "KESZLET": "900",
                                    "MEGYS": "db",
                                    "FELVITTE": "Sára",
                                    "FELVITEL": "2016-07-14"
                                },
                                {
                                    "TERMEKKOD": "06080117T",
                                    "MEGNEVEZES": "Füzetborító A/4 átlátszó",
                                    "KAT_ID": "46",
                                    "LISTAAR": "10",
                                    "LEIRAS": "NULL",
                                    "RAKTAR_KOD": "6",
                                    "KESZLET": "600",
                                    "MEGYS": "db",
                                    "FELVITTE": "Mari",
                                    "FELVITEL": "2016-07-14"
                                },
                                {
                                    "TERMEKKOD": "02040200T",
                                    "MEGNEVEZES": "Hibajavító Kores mini pen",
                                    "KAT_ID": "66",
                                    "LISTAAR": "278",
                                    "LEIRAS": "NULL",
                                    "RAKTAR_KOD": "6",
                                    "KESZLET": "300",
                                    "MEGYS": "db",
                                    "FELVITTE": "Mari",
                                    "FELVITEL": "2016-07-14"
                                },
                                {
                                    "TERMEKKOD": "02040206T",
                                    "MEGNEVEZES": "Írásvetítő fólia",
                                    "KAT_ID": "155",
                                    "LISTAAR": "81",
                                    "LEIRAS": "NULL",
                                    "RAKTAR_KOD": "8",
                                    "KESZLET": "100",
                                    "MEGYS": "db",
                                    "FELVITTE": "Mari",
                                    "FELVITEL": "2016-07-14"
                                },
                                {
                                    "TERMEKKOD": "02040207T",
                                    "MEGNEVEZES": "Iratgyűjtő ESSELTE ablakos",
                                    "KAT_ID": "70",
                                    "LISTAAR": "19",
                                    "LEIRAS": "NULL",
                                    "RAKTAR_KOD": "6",
                                    "KESZLET": "1500",
                                    "MEGYS": "db",
                                    "FELVITTE": "Mari",
                                    "FELVITEL": "2016-07-14"
                                },
                                {
                                    "TERMEKKOD": "02040211T",
                                    "MEGNEVEZES": "Iratrendező ESSELTE",
                                    "KAT_ID": "71",
                                    "LISTAAR": "243",
                                    "LEIRAS": "NULL",
                                    "RAKTAR_KOD": "9",
                                    "KESZLET": "700",
                                    "MEGYS": "db",
                                    "FELVITTE": "Béla",
                                    "FELVITEL": "2016-07-14"
                                },
                                {
                                    "TERMEKKOD": "02040296T",
                                    "MEGNEVEZES": "Notesz A/6 College",
                                    "KAT_ID": "106",
                                    "LISTAAR": "56",
                                    "LEIRAS": "NULL",
                                    "RAKTAR_KOD": "6",
                                    "KESZLET": "2000",
                                    "MEGYS": "db",
                                    "FELVITTE": "Mari",
                                    "FELVITEL": "2016-07-14"
                                },
                                {
                                    "TERMEKKOD": "02040297T",
                                    "MEGNEVEZES": "Notesz sima spirál College",
                                    "KAT_ID": "106",
                                    "LISTAAR": "103",
                                    "LEIRAS": "NULL",
                                    "RAKTAR_KOD": "9",
                                    "KESZLET": "1900",
                                    "MEGYS": "db",
                                    "FELVITTE": "Mari",
                                    "FELVITEL": "2016-07-14"
                                },
                                {
                                    "TERMEKKOD": "02040298T",
                                    "MEGNEVEZES": "Notesz mintás",
                                    "KAT_ID": "106",
                                    "LISTAAR": "44",
                                    "LEIRAS": "NULL",
                                    "RAKTAR_KOD": "6",
                                    "KESZLET": "300",
                                    "MEGYS": "db",
                                    "FELVITTE": "Mari",
                                    "FELVITEL": "2016-07-14"
                                },
                                {
                                    "TERMEKKOD": "01030092T",
                                    "MEGNEVEZES": "Esküvői meghívó",
                                    "KAT_ID": "98",
                                    "LISTAAR": "59",
                                    "LEIRAS": "NULL",
                                    "RAKTAR_KOD": "9",
                                    "KESZLET": "100",
                                    "MEGYS": "db",
                                    "FELVITTE": "Sára",
                                    "FELVITEL": "2016-07-13"
                                },
                                {
                                    "TERMEKKOD": "01040307T",
                                    "MEGNEVEZES": "Pausz papír A/4",
                                    "KAT_ID": "115",
                                    "LISTAAR": "15",
                                    "LEIRAS": "NULL",
                                    "RAKTAR_KOD": "8",
                                    "KESZLET": "200",
                                    "MEGYS": "ív",
                                    "FELVITTE": "Sára",
                                    "FELVITEL": "2016-07-13"
                                },
                                {
                                    "TERMEKKOD": "01040502T",
                                    "MEGNEVEZES": "Előlap spirálhoz",
                                    "KAT_ID": "31",
                                    "LISTAAR": "25",
                                    "LEIRAS": "NULL",
                                    "RAKTAR_KOD": "5",
                                    "KESZLET": "100",
                                    "MEGYS": "db",
                                    "FELVITTE": "Sára",
                                    "FELVITEL": "2016-07-13"
                                },
                                {
                                    "TERMEKKOD": "01080093T",
                                    "MEGNEVEZES": "Fax papír 15 m",
                                    "KAT_ID": "34",
                                    "LISTAAR": "161",
                                    "LEIRAS": "NULL",
                                    "RAKTAR_KOD": "9",
                                    "KESZLET": "300",
                                    "MEGYS": "db",
                                    "FELVITTE": "Sára",
                                    "FELVITEL": "2016-07-13"
                                },
                                {
                                    "TERMEKKOD": "01080512T",
                                    "MEGNEVEZES": "Öntapadó A/4",
                                    "KAT_ID": "112",
                                    "LISTAAR": "4575",
                                    "LEIRAS": "NULL",
                                    "RAKTAR_KOD": "5",
                                    "KESZLET": "100",
                                    "MEGYS": "doboz",
                                    "FELVITTE": "Sára",
                                    "FELVITEL": "2016-07-13"
                                },
                                {
                                    "TERMEKKOD": "06080116T",
                                    "MEGNEVEZES": "Füzet A5 1-8 osz.-ig",
                                    "KAT_ID": "45",
                                    "LISTAAR": "34",
                                    "LEIRAS": "NULL",
                                    "RAKTAR_KOD": "7",
                                    "KESZLET": "200",
                                    "MEGYS": "db",
                                    "FELVITTE": "Béla",
                                    "FELVITEL": "2016-07-13"
                                },
                                {
                                    "TERMEKKOD": "06050303T",
                                    "MEGNEVEZES": "Olló, iskolai",
                                    "KAT_ID": "111",
                                    "LISTAAR": "161",
                                    "LEIRAS": "NULL",
                                    "RAKTAR_KOD": "7",
                                    "KESZLET": "100",
                                    "MEGYS": "db",
                                    "FELVITTE": "Sára",
                                    "FELVITEL": "2016-07-12"
                                },
                                {
                                    "TERMEKKOD": "01010001T",
                                    "MEGNEVEZES": "félfamentes rajzlap A4 (10 lap)",
                                    "KAT_ID": "127",
                                    "LISTAAR": "342",
                                    "LEIRAS": "NULL",
                                    "RAKTAR_KOD": "9",
                                    "KESZLET": "3000",
                                    "MEGYS": "csomag",
                                    "FELVITTE": "Béla",
                                    "FELVITEL": "2016-07-12"
                                },
                                {
                                    "TERMEKKOD": "01010110T",
                                    "MEGNEVEZES": "Fotópapír A/4 fényes",
                                    "KAT_ID": "44",
                                    "LISTAAR": "30",
                                    "LEIRAS": "NULL",
                                    "RAKTAR_KOD": "9",
                                    "KESZLET": "200",
                                    "MEGYS": "db",
                                    "FELVITTE": "Béla",
                                    "FELVITEL": "2016-07-12"
                                },
                                {
                                    "TERMEKKOD": "02030041T",
                                    "MEGNEVEZES": "Boríték LC 5",
                                    "KAT_ID": "16",
                                    "LISTAAR": "6",
                                    "LEIRAS": "NULL",
                                    "RAKTAR_KOD": "9",
                                    "KESZLET": "2000",
                                    "MEGYS": "db",
                                    "FELVITTE": "Mari",
                                    "FELVITEL": "2016-07-12"
                                },
                                {
                                    "TERMEKKOD": "01020300T",
                                    "MEGNEVEZES": "Oklevél A/4 színes",
                                    "KAT_ID": "110",
                                    "LISTAAR": "55",
                                    "LEIRAS": "NULL",
                                    "RAKTAR_KOD": "9",
                                    "KESZLET": "200",
                                    "MEGYS": "db",
                                    "FELVITTE": "Béla",
                                    "FELVITEL": "2016-07-12"
                                },
                                {
                                    "TERMEKKOD": "01030091T",
                                    "MEGNEVEZES": "Emléklap A/5",
                                    "KAT_ID": "33",
                                    "LISTAAR": "26",
                                    "LEIRAS": "NULL",
                                    "RAKTAR_KOD": "7",
                                    "KESZLET": "200",
                                    "MEGYS": "db",
                                    "FELVITTE": "Béla",
                                    "FELVITEL": "2016-07-12"
                                },
                                {
                                    "TERMEKKOD": "01100509T",
                                    "MEGNEVEZES": "Márványos A/4",
                                    "KAT_ID": "83",
                                    "LISTAAR": "40",
                                    "LEIRAS": "NULL",
                                    "RAKTAR_KOD": "6",
                                    "KESZLET": "100",
                                    "MEGYS": "ív",
                                    "FELVITTE": "Sára",
                                    "FELVITEL": "2016-07-12"
                                },
                                {
                                    "TERMEKKOD": "01100510T",
                                    "MEGNEVEZES": "Kreatív A/4 120g ",
                                    "KAT_ID": "90",
                                    "LISTAAR": "13",
                                    "LEIRAS": "NULL",
                                    "RAKTAR_KOD": "5",
                                    "KESZLET": "200",
                                    "MEGYS": "ív",
                                    "FELVITTE": "Sára",
                                    "FELVITEL": "2016-07-12"
                                },
                                {
                                    "TERMEKKOD": "06040330T",
                                    "MEGNEVEZES": "Radír Tikky 30 ",
                                    "KAT_ID": "122",
                                    "LISTAAR": "50",
                                    "LEIRAS": "NULL",
                                    "RAKTAR_KOD": "7",
                                    "KESZLET": "1100",
                                    "MEGYS": "db",
                                    "FELVITTE": "Sára",
                                    "FELVITEL": "2016-07-12"
                                },
                                {
                                    "TERMEKKOD": "06040331T",
                                    "MEGNEVEZES": "Radír Tikky 40 ",
                                    "KAT_ID": "122",
                                    "LISTAAR": "49",
                                    "LEIRAS": "NULL",
                                    "RAKTAR_KOD": "8",
                                    "KESZLET": "200",
                                    "MEGYS": "db",
                                    "FELVITTE": "Sára",
                                    "FELVITEL": "2016-07-12"
                                },
                                {
                                    "TERMEKKOD": "06040347T",
                                    "MEGNEVEZES": "Rajzlap A/4 10db ffam.",
                                    "KAT_ID": "127",
                                    "LISTAAR": "28",
                                    "LEIRAS": "NULL",
                                    "RAKTAR_KOD": "5",
                                    "KESZLET": "200",
                                    "MEGYS": "csomag",
                                    "FELVITTE": "Sára",
                                    "FELVITEL": "2016-07-12"
                                },
                                {
                                    "TERMEKKOD": "06040350T",
                                    "MEGNEVEZES": "Regiszteres füzet A4",
                                    "KAT_ID": "129",
                                    "LISTAAR": "256",
                                    "LEIRAS": "NULL",
                                    "RAKTAR_KOD": "9",
                                    "KESZLET": "500",
                                    "MEGYS": "db",
                                    "FELVITTE": "Béla",
                                    "FELVITEL": "2016-07-12"
                                },
                                {
                                    "TERMEKKOD": "06040351T",
                                    "MEGNEVEZES": "Regiszteres füzet A5 Hightech",
                                    "KAT_ID": "129",
                                    "LISTAAR": "203",
                                    "LEIRAS": "NULL",
                                    "RAKTAR_KOD": "5",
                                    "KESZLET": "200",
                                    "MEGYS": "db",
                                    "FELVITTE": "Sára",
                                    "FELVITEL": "2016-07-11"
                                },
                                {
                                    "TERMEKKOD": "02020033T",
                                    "MEGNEVEZES": "Beírókönyv A4",
                                    "KAT_ID": "13",
                                    "LISTAAR": "328",
                                    "LEIRAS": "NULL",
                                    "RAKTAR_KOD": "5",
                                    "KESZLET": "100",
                                    "MEGYS": "db",
                                    "FELVITTE": "Sára",
                                    "FELVITEL": "2016-07-11"
                                },
                                {
                                    "TERMEKKOD": "02020037T",
                                    "MEGNEVEZES": "Bevételi pénztárbizonylat 3×25",
                                    "KAT_ID": "116",
                                    "LISTAAR": "144",
                                    "LEIRAS": "NULL",
                                    "RAKTAR_KOD": "6",
                                    "KESZLET": "300",
                                    "MEGYS": "db",
                                    "FELVITTE": "Sára",
                                    "FELVITEL": "2016-07-11"
                                },
                                {
                                    "TERMEKKOD": "02020245T",
                                    "MEGNEVEZES": "Kiadási pénztárbizonylat 2×25",
                                    "KAT_ID": "116",
                                    "LISTAAR": "103",
                                    "LEIRAS": "NULL",
                                    "RAKTAR_KOD": "7",
                                    "KESZLET": "400",
                                    "MEGYS": "db",
                                    "FELVITTE": "Sára",
                                    "FELVITEL": "2016-07-11"
                                },
                                {
                                    "TERMEKKOD": "02020444T",
                                    "MEGNEVEZES": "Határidő napló A/6",
                                    "KAT_ID": "62",
                                    "LISTAAR": "464",
                                    "LEIRAS": "NULL",
                                    "RAKTAR_KOD": "9",
                                    "KESZLET": "2700",
                                    "MEGYS": "db",
                                    "FELVITTE": "Sára",
                                    "FELVITEL": "2016-07-11"
                                },
                                {
                                    "TERMEKKOD": "02030040T",
                                    "MEGNEVEZES": "Boríték LA 4 francia",
                                    "KAT_ID": "16",
                                    "LISTAAR": "6",
                                    "LEIRAS": "NULL",
                                    "RAKTAR_KOD": "6",
                                    "KESZLET": "100",
                                    "MEGYS": "db",
                                    "FELVITTE": "Sára",
                                    "FELVITEL": "2016-07-11"
                                },
                                {
                                    "TERMEKKOD": "01010304T",
                                    "MEGNEVEZES": "Öntapadós hologramos papír A/4",
                                    "KAT_ID": "112",
                                    "LISTAAR": "59",
                                    "LEIRAS": "NULL",
                                    "RAKTAR_KOD": "8",
                                    "KESZLET": "1100",
                                    "MEGYS": "db",
                                    "FELVITTE": "Sára",
                                    "FELVITEL": "2016-07-11"
                                },
                                {
                                    "TERMEKKOD": "01080513T",
                                    "MEGNEVEZES": "Selyemfényű karton A/4",
                                    "KAT_ID": "83",
                                    "LISTAAR": "38",
                                    "LEIRAS": "NULL",
                                    "RAKTAR_KOD": "8",
                                    "KESZLET": "100",
                                    "MEGYS": "ív",
                                    "FELVITTE": "Sára",
                                    "FELVITEL": "2016-07-11"
                                },
                                {
                                    "TERMEKKOD": "02040295T",
                                    "MEGNEVEZES": "Notesz A/5 sima spirál",
                                    "KAT_ID": "106",
                                    "LISTAAR": "89",
                                    "LEIRAS": "NULL",
                                    "RAKTAR_KOD": "9",
                                    "KESZLET": "4100",
                                    "MEGYS": "db",
                                    "FELVITTE": "Mari",
                                    "FELVITEL": "2016-07-11"
                                },
                                {
                                    "TERMEKKOD": "02040214T",
                                    "MEGNEVEZES": "Iromány fedél feles",
                                    "KAT_ID": "74",
                                    "LISTAAR": "59",
                                    "LEIRAS": "NULL",
                                    "RAKTAR_KOD": "5",
                                    "KESZLET": "300",
                                    "MEGYS": "db",
                                    "FELVITTE": "Mari",
                                    "FELVITEL": "2016-07-11"
                                },
                                {
                                    "TERMEKKOD": "06080339T",
                                    "MEGNEVEZES": "Ragasztó kores",
                                    "KAT_ID": "124",
                                    "LISTAAR": "89",
                                    "LEIRAS": "NULL",
                                    "RAKTAR_KOD": "5",
                                    "KESZLET": "900",
                                    "MEGYS": "db",
                                    "FELVITTE": "Mari",
                                    "FELVITEL": "2016-07-11"
                                },
                                {
                                    "TERMEKKOD": "06080191T",
                                    "MEGNEVEZES": "Hegyező tartályos egyes",
                                    "KAT_ID": "64",
                                    "LISTAAR": "30",
                                    "LEIRAS": "NULL",
                                    "RAKTAR_KOD": "8",
                                    "KESZLET": "300",
                                    "MEGYS": "db",
                                    "FELVITTE": "Sára",
                                    "FELVITEL": "2016-07-10"
                                },
                                {
                                    "TERMEKKOD": "06080123T",
                                    "MEGNEVEZES": "Füzettartó A/4 keménytáblás",
                                    "KAT_ID": "47",
                                    "LISTAAR": "551",
                                    "LEIRAS": "NULL",
                                    "RAKTAR_KOD": "6",
                                    "KESZLET": "2000",
                                    "MEGYS": "db",
                                    "FELVITTE": "Sára",
                                    "FELVITEL": "2016-07-10"
                                },
                                {
                                    "TERMEKKOD": "02040290T",
                                    "MEGNEVEZES": "Naptár 24-es",
                                    "KAT_ID": "103",
                                    "LISTAAR": "89",
                                    "LEIRAS": "NULL",
                                    "RAKTAR_KOD": "8",
                                    "KESZLET": "300",
                                    "MEGYS": "db",
                                    "FELVITTE": "Mari",
                                    "FELVITEL": "2016-07-10"
                                },
                                {
                                    "TERMEKKOD": "02040291T",
                                    "MEGNEVEZES": "Naptárhát kicsi",
                                    "KAT_ID": "104",
                                    "LISTAAR": "15",
                                    "LEIRAS": "NULL",
                                    "RAKTAR_KOD": "8",
                                    "KESZLET": "1400",
                                    "MEGYS": "db",
                                    "FELVITTE": "Mari",
                                    "FELVITEL": "2016-07-10"
                                },
                                {
                                    "TERMEKKOD": "01100504T",
                                    "MEGNEVEZES": "Fehér másoló A/3",
                                    "KAT_ID": "36",
                                    "LISTAAR": "1488",
                                    "LEIRAS": "NULL",
                                    "RAKTAR_KOD": "6",
                                    "KESZLET": "1000",
                                    "MEGYS": "csomag",
                                    "FELVITTE": "Sára",
                                    "FELVITEL": "2016-07-10"
                                },
                                {
                                    "TERMEKKOD": "01100505T",
                                    "MEGNEVEZES": "Fehér másoló A/4",
                                    "KAT_ID": "36",
                                    "LISTAAR": "686",
                                    "LEIRAS": "NULL",
                                    "RAKTAR_KOD": "6",
                                    "KESZLET": "200",
                                    "MEGYS": "csomag",
                                    "FELVITTE": "Sára",
                                    "FELVITEL": "2016-07-10"
                                },
                                {
                                    "TERMEKKOD": "01090499T",
                                    "MEGNEVEZES": "Color Copy A/4 250 g",
                                    "KAT_ID": "21",
                                    "LISTAAR": "15",
                                    "LEIRAS": "NULL",
                                    "RAKTAR_KOD": "6",
                                    "KESZLET": "1500",
                                    "MEGYS": "Ív",
                                    "FELVITTE": "Sára",
                                    "FELVITEL": "2016-07-09"
                                },
                                {
                                    "TERMEKKOD": "02040292T",
                                    "MEGNEVEZES": "Naptárhát nagy",
                                    "KAT_ID": "104",
                                    "LISTAAR": "78",
                                    "LEIRAS": "NULL",
                                    "RAKTAR_KOD": "9",
                                    "KESZLET": "6900",
                                    "MEGYS": "db",
                                    "FELVITTE": "Sára",
                                    "FELVITEL": "2016-07-09"
                                },
                                {
                                    "TERMEKKOD": "02040293T",
                                    "MEGNEVEZES": "Névjegytartó kicsi",
                                    "KAT_ID": "105",
                                    "LISTAAR": "310",
                                    "LEIRAS": "NULL",
                                    "RAKTAR_KOD": "9",
                                    "KESZLET": "9000",
                                    "MEGYS": "db",
                                    "FELVITTE": "Sára",
                                    "FELVITEL": "2016-07-09"
                                },
                                {
                                    "TERMEKKOD": "06080118T",
                                    "MEGNEVEZES": "Füzetborító átlátszó A5",
                                    "KAT_ID": "46",
                                    "LISTAAR": "8",
                                    "LEIRAS": "NULL",
                                    "RAKTAR_KOD": "6",
                                    "KESZLET": "300",
                                    "MEGYS": "db",
                                    "FELVITTE": "Mari",
                                    "FELVITEL": "2016-07-09"
                                },
                                {
                                    "TERMEKKOD": "06080119T",
                                    "MEGNEVEZES": "Füzetborító mesefig.",
                                    "KAT_ID": "46",
                                    "LISTAAR": "19",
                                    "LEIRAS": "NULL",
                                    "RAKTAR_KOD": "2",
                                    "KESZLET": "100",
                                    "MEGYS": "db",
                                    "FELVITTE": "Mari",
                                    "FELVITEL": "2016-07-09"
                                },
                                {
                                    "TERMEKKOD": "06080189T",
                                    "MEGNEVEZES": "Hegyező műanyag dupla",
                                    "KAT_ID": "64",
                                    "LISTAAR": "30",
                                    "LEIRAS": "NULL",
                                    "RAKTAR_KOD": "6",
                                    "KESZLET": "500",
                                    "MEGYS": "db",
                                    "FELVITTE": "Sára",
                                    "FELVITEL": "2016-07-09"
                                },
                                {
                                    "TERMEKKOD": "06080190T",
                                    "MEGNEVEZES": "Hegyező műanyag egyes",
                                    "KAT_ID": "64",
                                    "LISTAAR": "23",
                                    "LEIRAS": "NULL",
                                    "RAKTAR_KOD": "6",
                                    "KESZLET": "1000",
                                    "MEGYS": "db",
                                    "FELVITTE": "Sára",
                                    "FELVITEL": "2016-07-09"
                                },
                                {
                                    "TERMEKKOD": "06080126T",
                                    "MEGNEVEZES": "Füzettartó A/5  ",
                                    "KAT_ID": "47",
                                    "LISTAAR": "203",
                                    "LEIRAS": "NULL",
                                    "RAKTAR_KOD": "9",
                                    "KESZLET": "1500",
                                    "MEGYS": "db",
                                    "FELVITTE": "Mari",
                                    "FELVITEL": "2016-07-09"
                                },
                                {
                                    "TERMEKKOD": "06080338T",
                                    "MEGNEVEZES": "Ragasztó kenőfejes Nebuló",
                                    "KAT_ID": "124",
                                    "LISTAAR": "101",
                                    "LEIRAS": "NULL",
                                    "RAKTAR_KOD": "8",
                                    "KESZLET": "3600",
                                    "MEGYS": "db",
                                    "FELVITTE": "Mari",
                                    "FELVITEL": "2016-07-08"
                                },
                                {
                                    "TERMEKKOD": "06080120T",
                                    "MEGNEVEZES": "Füzetborító öntapadó kicsi",
                                    "KAT_ID": "46",
                                    "LISTAAR": "23",
                                    "LEIRAS": "NULL",
                                    "RAKTAR_KOD": "9",
                                    "KESZLET": "100",
                                    "MEGYS": "db",
                                    "FELVITTE": "Béla",
                                    "FELVITEL": "2016-07-08"
                                },
                                {
                                    "TERMEKKOD": "06080121T",
                                    "MEGNEVEZES": "Füzetborító öntapadó tekercses",
                                    "KAT_ID": "46",
                                    "LISTAAR": "195",
                                    "LEIRAS": "NULL",
                                    "RAKTAR_KOD": "7",
                                    "KESZLET": "300",
                                    "MEGYS": "csomag",
                                    "FELVITTE": "Béla",
                                    "FELVITEL": "2016-07-08"
                                },
                                {
                                    "TERMEKKOD": "06080192T",
                                    "MEGNEVEZES": "Hegyző fém 1 lyukú",
                                    "KAT_ID": "65",
                                    "LISTAAR": "70",
                                    "LEIRAS": "NULL",
                                    "RAKTAR_KOD": "9",
                                    "KESZLET": "200",
                                    "MEGYS": "db",
                                    "FELVITTE": "Sára",
                                    "FELVITEL": "2016-07-07"
                                },
                                {
                                    "TERMEKKOD": "06080193T",
                                    "MEGNEVEZES": "Hegyző fém 2 lyukú",
                                    "KAT_ID": "65",
                                    "LISTAAR": "180",
                                    "LEIRAS": "NULL",
                                    "RAKTAR_KOD": "7",
                                    "KESZLET": "100",
                                    "MEGYS": "db",
                                    "FELVITTE": "Sára",
                                    "FELVITEL": "2016-07-07"
                                },
                                {
                                    "TERMEKKOD": "02040294T",
                                    "MEGNEVEZES": "Notesz A/5 sima",
                                    "KAT_ID": "106",
                                    "LISTAAR": "103",
                                    "LEIRAS": "NULL",
                                    "RAKTAR_KOD": "5",
                                    "KESZLET": "300",
                                    "MEGYS": "db",
                                    "FELVITTE": "Béla",
                                    "FELVITEL": "2016-07-07"
                                },
                                {
                                    "TERMEKKOD": "01020299T",
                                    "MEGNEVEZES": "Oklevél A/4 egyszínű",
                                    "KAT_ID": "110",
                                    "LISTAAR": "48",
                                    "LEIRAS": "NULL",
                                    "RAKTAR_KOD": "9",
                                    "KESZLET": "6600",
                                    "MEGYS": "db",
                                    "FELVITTE": "Béla",
                                    "FELVITEL": "2016-07-07"
                                },
                                {
                                    "TERMEKKOD": "01090498T",
                                    "MEGNEVEZES": "Műnyomó 300g 17,5*20",
                                    "KAT_ID": "101",
                                    "LISTAAR": "3",
                                    "LEIRAS": "NULL",
                                    "RAKTAR_KOD": "8",
                                    "KESZLET": "1800",
                                    "MEGYS": "ív",
                                    "FELVITTE": "Mari",
                                    "FELVITEL": "2016-07-06"
                                },
                                {
                                    "TERMEKKOD": "01100071T",
                                    "MEGNEVEZES": "Dekorációs karton arany, ezüst",
                                    "KAT_ID": "83",
                                    "LISTAAR": "89",
                                    "LEIRAS": "NULL",
                                    "RAKTAR_KOD": "7",
                                    "KESZLET": "3100",
                                    "MEGYS": "ív",
                                    "FELVITTE": "Sára",
                                    "FELVITEL": "2016-07-06"
                                },
                                {
                                    "TERMEKKOD": "01100072T",
                                    "MEGNEVEZES": "Dipa A/4 keretezett",
                                    "KAT_ID": "26",
                                    "LISTAAR": "9",
                                    "LEIRAS": "NULL",
                                    "RAKTAR_KOD": "9",
                                    "KESZLET": "400",
                                    "MEGYS": "ív",
                                    "FELVITTE": "Sára",
                                    "FELVITEL": "2016-07-06"
                                },
                                {
                                    "TERMEKKOD": "06080337T",
                                    "MEGNEVEZES": "Ragasztó Gyurma",
                                    "KAT_ID": "124",
                                    "LISTAAR": "293",
                                    "LEIRAS": "NULL",
                                    "RAKTAR_KOD": "7",
                                    "KESZLET": "100",
                                    "MEGYS": "db",
                                    "FELVITTE": "Sára",
                                    "FELVITEL": "2016-07-06"
                                },
                                {
                                    "TERMEKKOD": "06080122T",
                                    "MEGNEVEZES": "Füzetborító öntapadós nagy",
                                    "KAT_ID": "46",
                                    "LISTAAR": "19",
                                    "LEIRAS": "NULL",
                                    "RAKTAR_KOD": "7",
                                    "KESZLET": "300",
                                    "MEGYS": "db",
                                    "FELVITTE": "Béla",
                                    "FELVITEL": "2016-07-05"
                                },
                                {
                                    "TERMEKKOD": "01100497T",
                                    "MEGNEVEZES": "Color Copy 160 g-os ",
                                    "KAT_ID": "21",
                                    "LISTAAR": "14",
                                    "LEIRAS": "NULL",
                                    "RAKTAR_KOD": "5",
                                    "KESZLET": "100",
                                    "MEGYS": "ív",
                                    "FELVITTE": "Béla",
                                    "FELVITEL": "2016-07-05"
                                },
                                {
                                    "TERMEKKOD": "01100503T",
                                    "MEGNEVEZES": "Color Copy A4 120 g",
                                    "KAT_ID": "21",
                                    "LISTAAR": "10",
                                    "LEIRAS": "NULL",
                                    "RAKTAR_KOD": "6",
                                    "KESZLET": "900",
                                    "MEGYS": "ív",
                                    "FELVITTE": "Béla",
                                    "FELVITEL": "2016-07-05"
                                },
                                {
                                    "TERMEKKOD": "01100070T",
                                    "MEGNEVEZES": "Dekorációs karton",
                                    "KAT_ID": "83",
                                    "LISTAAR": "73",
                                    "LEIRAS": "NULL",
                                    "RAKTAR_KOD": "5",
                                    "KESZLET": "600",
                                    "MEGYS": "ív",
                                    "FELVITTE": "Béla",
                                    "FELVITEL": "2016-07-05"
                                },
                                {
                                    "TERMEKKOD": "01090500T",
                                    "MEGNEVEZES": "Color Copy A4 200 g",
                                    "KAT_ID": "21",
                                    "LISTAAR": "14",
                                    "LEIRAS": "NULL",
                                    "RAKTAR_KOD": "9",
                                    "KESZLET": "100",
                                    "MEGYS": "Ív",
                                    "FELVITTE": "Béla",
                                    "FELVITEL": "2016-07-04"
                                },
                                {
                                    "TERMEKKOD": "01100094T",
                                    "MEGNEVEZES": "Fénymásoló papír DataCopy",
                                    "KAT_ID": "36",
                                    "LISTAAR": "845",
                                    "LEIRAS": "NULL",
                                    "RAKTAR_KOD": "9",
                                    "KESZLET": "300",
                                    "MEGYS": "csomag",
                                    "FELVITTE": "Sára",
                                    "FELVITEL": "2016-07-02"
                                },
                                {
                                    "TERMEKKOD": "06080334T",
                                    "MEGNEVEZES": "Ragasztó szalag KORES ",
                                    "KAT_ID": "124",
                                    "LISTAAR": "133",
                                    "LEIRAS": "NULL",
                                    "RAKTAR_KOD": "5",
                                    "KESZLET": "3000",
                                    "MEGYS": "db",
                                    "FELVITTE": "Mari",
                                    "FELVITEL": "2016-07-02"
                                },
                                {
                                    "TERMEKKOD": "06080335T",
                                    "MEGNEVEZES": "Ragasztó 9 g Pax",
                                    "KAT_ID": "124",
                                    "LISTAAR": "110",
                                    "LEIRAS": "NULL",
                                    "RAKTAR_KOD": "9",
                                    "KESZLET": "200",
                                    "MEGYS": "db",
                                    "FELVITTE": "Mari",
                                    "FELVITEL": "2016-07-02"
                                },
                                {
                                    "TERMEKKOD": "06080336T",
                                    "MEGNEVEZES": "Ragasztó 8 g Pritt",
                                    "KAT_ID": "124",
                                    "LISTAAR": "81",
                                    "LEIRAS": "NULL",
                                    "RAKTAR_KOD": "9",
                                    "KESZLET": "4900",
                                    "MEGYS": "db",
                                    "FELVITTE": "Mari",
                                    "FELVITEL": "2016-07-02"
                                },
                                {
                                    "TERMEKKOD": "06080259T",
                                    "MEGNEVEZES": "Leckefüzet",
                                    "KAT_ID": "78",
                                    "LISTAAR": "161",
                                    "LEIRAS": "NULL",
                                    "RAKTAR_KOD": "6",
                                    "KESZLET": "0",
                                    "MEGYS": "db",
                                    "FELVITTE": "Mari",
                                    "FELVITEL": "2016-07-02"
                                },
                                {
                                    "TERMEKKOD": "06080332T",
                                    "MEGNEVEZES": "Radírtoll betét ER100",
                                    "KAT_ID": "123",
                                    "LISTAAR": "74",
                                    "LEIRAS": "NULL",
                                    "RAKTAR_KOD": "5",
                                    "KESZLET": "1500",
                                    "MEGYS": "db",
                                    "FELVITTE": "Mari",
                                    "FELVITEL": "2016-07-02"
                                },
                                {
                                    "TERMEKKOD": "06080333T",
                                    "MEGNEVEZES": "Radírtoll betét vastag",
                                    "KAT_ID": "123",
                                    "LISTAAR": "119",
                                    "LEIRAS": "NULL",
                                    "RAKTAR_KOD": "7",
                                    "KESZLET": "500",
                                    "MEGYS": "db",
                                    "FELVITTE": "Béla",
                                    "FELVITEL": "2016-07-01"
                                },
                                {
                                    "TERMEKKOD": "01100095T",
                                    "MEGNEVEZES": "Fénymásoló papír GetCopy",
                                    "KAT_ID": "36",
                                    "LISTAAR": "728",
                                    "LEIRAS": "NULL",
                                    "RAKTAR_KOD": "9",
                                    "KESZLET": "200",
                                    "MEGYS": "csomag",
                                    "FELVITTE": "Sára",
                                    "FELVITEL": "2016-07-01"
                                },
                                {
                                    "TERMEKKOD": "01100096T",
                                    "MEGNEVEZES": "Fénymásoló papír Qconnect",
                                    "KAT_ID": "36",
                                    "LISTAAR": "728",
                                    "LEIRAS": "NULL",
                                    "RAKTAR_KOD": "5",
                                    "KESZLET": "500",
                                    "MEGYS": "csomag",
                                    "FELVITTE": "Sára",
                                    "FELVITEL": "2016-07-01"
                                },
                                {
                                    "TERMEKKOD": "01100496T",
                                    "MEGNEVEZES": "Színes másoló a/4 80g",
                                    "KAT_ID": "21",
                                    "LISTAAR": "1500",
                                    "LEIRAS": "NULL",
                                    "RAKTAR_KOD": "5",
                                    "KESZLET": "300",
                                    "MEGYS": "csomag",
                                    "FELVITTE": "Sára",
                                    "FELVITEL": "2016-07-01"
                                },
                                {
                                    "TERMEKKOD": "01090501T",
                                    "MEGNEVEZES": "Kreatív A/4 300g ",
                                    "KAT_ID": "90",
                                    "LISTAAR": "4",
                                    "LEIRAS": "NULL",
                                    "RAKTAR_KOD": "8",
                                    "KESZLET": "100",
                                    "MEGYS": "Ív",
                                    "FELVITTE": "Béla",
                                    "FELVITEL": "2016-07-01"
                                },
                                {
                                    "TERMEKKOD": "01090515T",
                                    "MEGNEVEZES": "Színes A/3 160 gr IQ",
                                    "KAT_ID": "83",
                                    "LISTAAR": "11",
                                    "LEIRAS": "NULL",
                                    "RAKTAR_KOD": "5",
                                    "KESZLET": "400",
                                    "MEGYS": "ív",
                                    "FELVITTE": "Béla",
                                    "FELVITEL": "2016-07-01"
                                },
                                {
                                    "TERMEKKOD": "01090516T",
                                    "MEGNEVEZES": "Színes karton A4",
                                    "KAT_ID": "83",
                                    "LISTAAR": "25",
                                    "LEIRAS": "NULL",
                                    "RAKTAR_KOD": "9",
                                    "KESZLET": "1000",
                                    "MEGYS": "ív",
                                    "FELVITTE": "Béla",
                                    "FELVITEL": "2016-07-01"
                                },
                                {
                                    "TERMEKKOD": "01090517T",
                                    "MEGNEVEZES": "Színes ofszet B/4",
                                    "KAT_ID": "109",
                                    "LISTAAR": "4",
                                    "LEIRAS": "NULL",
                                    "RAKTAR_KOD": "7",
                                    "KESZLET": "1000",
                                    "MEGYS": "ív",
                                    "FELVITTE": "Béla",
                                    "FELVITEL": "2016-07-01"
                                }
                            ]
                        },
                        "text/html": [
                            "<table>",
                            "<tr><th>TERMEKKOD</th><th>MEGNEVEZES</th><th>KAT_ID</th><th>LISTAAR</th><th>LEIRAS</th><th>RAKTAR_KOD</th><th>KESZLET</th><th>MEGYS</th><th>FELVITTE</th><th>FELVITEL</th></tr>",
                            "<tr><td>06040206T</td><td>kék indigó</td><td>68</td><td>12</td><td>NULL</td><td>5</td><td>100</td><td>db</td><td>Sára</td><td>2016-12-11</td></tr>",
                            "<tr><td>08070477T</td><td>Anyanyelvi gyakorló 3</td><td>100</td><td>353</td><td>NULL</td><td>6</td><td>1400</td><td>db</td><td>Sára</td><td>2016-09-03</td></tr>",
                            "<tr><td>08070478T</td><td>Összefoglaló feladatgyüjtemény számtech.</td><td>100</td><td>785</td><td>NULL</td><td>8</td><td>900</td><td>db</td><td>Béla</td><td>2016-08-29</td></tr>",
                            "<tr><td>08070479T</td><td>Fizika</td><td>4</td><td>674</td><td>NULL</td><td>7</td><td>200</td><td>db</td><td>Béla</td><td>2016-08-29</td></tr>",
                            "<tr><td>08070480T</td><td>Fizika 13 éveseknek</td><td>4</td><td>308</td><td>NULL</td><td>8</td><td>5000</td><td>db</td><td>Béla</td><td>2016-08-29</td></tr>",
                            "<tr><td>08070474T</td><td>A föld amelyen élünk - Hazánk földrajza</td><td>4</td><td>1089</td><td>NULL</td><td>5</td><td>100</td><td>db</td><td>Béla</td><td>2016-08-29</td></tr>",
                            "<tr><td>08070475T</td><td>A föld amelyen élünk - munkafüzet</td><td>100</td><td>440</td><td>NULL</td><td>5</td><td>9000</td><td>db</td><td>Béla</td><td>2016-08-29</td></tr>",
                            "<tr><td>08070476T</td><td>Anyanyelvi gyakorló 2</td><td>100</td><td>293</td><td>NULL</td><td>6</td><td>3900</td><td>db</td><td>Béla</td><td>2016-08-29</td></tr>",
                            "<tr><td>08070482T</td><td>Fizika munkafüzet 14 év.</td><td>100</td><td>190</td><td>NULL</td><td>5</td><td>500</td><td>db</td><td>Mari</td><td>2016-08-28</td></tr>",
                            "<tr><td>08070473T</td><td>A föld amelyen élünk - Távoli földrészek</td><td>4</td><td>1089</td><td>NULL</td><td>6</td><td>200</td><td>db</td><td>Mari</td><td>2016-08-27</td></tr>",
                            "<tr><td>07080317T</td><td>Pixiron mini </td><td>118</td><td>59</td><td>NULL</td><td>5</td><td>2000</td><td>db</td><td>Béla</td><td>2016-08-26</td></tr>",
                            "<tr><td>07080318T</td><td>Pixiron Penac</td><td>118</td><td>235</td><td>NULL</td><td>5</td><td>8000</td><td>db</td><td>Béla</td><td>2016-08-26</td></tr>",
                            "<tr><td>07080319T</td><td>Pixiron Pentel színes</td><td>118</td><td>299</td><td>NULL</td><td>7</td><td>4000</td><td>db</td><td>Béla</td><td>2016-08-26</td></tr>",
                            "<tr><td>07080418T</td><td>Zselés toll </td><td>154</td><td>95</td><td>NULL</td><td>7</td><td>4000</td><td>db</td><td>Béla</td><td>2016-08-26</td></tr>",
                            "<tr><td>07080466T</td><td>Golyóstoll Stabiló 308</td><td>52</td><td>81</td><td>NULL</td><td>9</td><td>1000</td><td>db</td><td>Sára</td><td>2016-08-26</td></tr>",
                            "<tr><td>07080316T</td><td>Pixiron KOH-I-NOOR</td><td>118</td><td>468</td><td>NULL</td><td>8</td><td>700</td><td>db</td><td>Sára</td><td>2016-08-25</td></tr>",
                            "<tr><td>08070483T</td><td>Fizikai feladatok és tévedések</td><td>4</td><td>324</td><td>NULL</td><td>5</td><td>100</td><td>db</td><td>Béla</td><td>2016-08-25</td></tr>",
                            "<tr><td>08070484T</td><td>Fogalmazás lépésről lépésre</td><td>4</td><td>345</td><td>NULL</td><td>8</td><td>100</td><td>db</td><td>Béla</td><td>2016-08-24</td></tr>",
                            "<tr><td>08070481T</td><td>Fizika munkafüzet 13 év.</td><td>100</td><td>198</td><td>NULL</td><td>7</td><td>500</td><td>db</td><td>Béla</td><td>2016-08-24</td></tr>",
                            "<tr><td>07080471T</td><td>Golyóstoll levélbontós</td><td>52</td><td>294</td><td>NULL</td><td>7</td><td>50000</td><td>db</td><td>Béla</td><td>2016-08-23</td></tr>",
                            "<tr><td>08070472T</td><td>A föld amelyen élünk - Európa földrajza</td><td>4</td><td>1089</td><td>NULL</td><td>8</td><td>100</td><td>db</td><td>Béla</td><td>2016-08-23</td></tr>",
                            "<tr><td>07080315T</td><td>Pixiron Handy műanyag</td><td>118</td><td>94</td><td>NULL</td><td>8</td><td>25000</td><td>db</td><td>Mari</td><td>2016-08-22</td></tr>",
                            "<tr><td>07080467T</td><td>Golyóstoll kétfunkciós ICO</td><td>52</td><td>273</td><td>NULL</td><td>8</td><td>8000</td><td>db</td><td>Sára</td><td>2016-08-22</td></tr>",
                            "<tr><td>07080468T</td><td>Golyóstoll háromfunkciós</td><td>52</td><td>110</td><td>NULL</td><td>6</td><td>7200</td><td>db</td><td>Sára</td><td>2016-08-22</td></tr>",
                            "<tr><td>07080469T</td><td>Golyóstoll UNIBALL 07</td><td>52</td><td>364</td><td>NULL</td><td>8</td><td>35000</td><td>db</td><td>Sára</td><td>2016-08-22</td></tr>",
                            "<tr><td>07080419T</td><td>Zselés toll MICRO</td><td>154</td><td>66</td><td>NULL</td><td>9</td><td>6000</td><td>db</td><td>Sára</td><td>2016-08-22</td></tr>",
                            "<tr><td>08070485T</td><td>Jól felkészültem-e - Fizika</td><td>4</td><td>291</td><td>NULL</td><td>6</td><td>200</td><td>db</td><td>Béla</td><td>2016-08-22</td></tr>",
                            "<tr><td>07080420T</td><td>Zselés toll Muhnwa</td><td>154</td><td>161</td><td>NULL</td><td>7</td><td>2000</td><td>db</td><td>Mari</td><td>2016-08-21</td></tr>",
                            "<tr><td>07080421T</td><td>Zseléstoll Lizzy Card</td><td>154</td><td>228</td><td>NULL</td><td>7</td><td>100</td><td>csomag</td><td>Mari</td><td>2016-08-21</td></tr>",
                            "<tr><td>07080163T</td><td>Golyóstoll UNI átlátszó</td><td>52</td><td>230</td><td>NULL</td><td>5</td><td>6000</td><td>db</td><td>Mari</td><td>2016-08-21</td></tr>",
                            "<tr><td>07080164T</td><td>Golyóstoll UNI gumis</td><td>52</td><td>231</td><td>NULL</td><td>6</td><td>30000</td><td>db</td><td>Mari</td><td>2016-08-21</td></tr>",
                            "<tr><td>07080311T</td><td>Pixiron  UNI</td><td>118</td><td>276</td><td>NULL</td><td>8</td><td>22000</td><td>db</td><td>Mari</td><td>2016-08-21</td></tr>",
                            "<tr><td>07080312T</td><td>Pixiron 0,7 Handy</td><td>118</td><td>125</td><td>NULL</td><td>5</td><td>2000</td><td>db</td><td>Mari</td><td>2016-08-21</td></tr>",
                            "<tr><td>07080313T</td><td>Pixiron Centrum</td><td>118</td><td>59</td><td>NULL</td><td>9</td><td>12500</td><td>db</td><td>Mari</td><td>2016-08-21</td></tr>",
                            "<tr><td>07080314T</td><td>Pixiron Handy fém</td><td>118</td><td>133</td><td>NULL</td><td>8</td><td>12000</td><td>db</td><td>Mari</td><td>2016-08-21</td></tr>",
                            "<tr><td>07080470T</td><td>Golyóstoll háromszög</td><td>52</td><td>188</td><td>NULL</td><td>7</td><td>15000</td><td>db</td><td>Sára</td><td>2016-08-21</td></tr>",
                            "<tr><td>07080152T</td><td>Golyóstoll 3 funkciós </td><td>52</td><td>1019</td><td>NULL</td><td>5</td><td>400</td><td>db</td><td>Béla</td><td>2016-08-20</td></tr>",
                            "<tr><td>07080153T</td><td>Golyóstoll illatos ICO</td><td>52</td><td>41</td><td>NULL</td><td>8</td><td>100</td><td>db</td><td>Béla</td><td>2016-08-20</td></tr>",
                            "<tr><td>07080154T</td><td>Golyóstoll INOXCROM</td><td>52</td><td>401</td><td>NULL</td><td>6</td><td>300</td><td>db</td><td>Béla</td><td>2016-08-20</td></tr>",
                            "<tr><td>07080155T</td><td>Golyóstoll</td><td>52</td><td>33</td><td>NULL</td><td>5</td><td>100</td><td>db</td><td>Béla</td><td>2016-08-20</td></tr>",
                            "<tr><td>07080156T</td><td>Golyóstoll kupakos piros</td><td>52</td><td>23</td><td>NULL</td><td>8</td><td>900</td><td>db</td><td>Béla</td><td>2016-08-20</td></tr>",
                            "<tr><td>07080157T</td><td>Golyóstoll Montex Hytone</td><td>52</td><td>93</td><td>NULL</td><td>7</td><td>500</td><td>db</td><td>Béla</td><td>2016-08-20</td></tr>",
                            "<tr><td>07080158T</td><td>Golyóstoll Parker tokban</td><td>52</td><td>773</td><td>NULL</td><td>5</td><td>2000</td><td>db</td><td>Béla</td><td>2016-08-20</td></tr>",
                            "<tr><td>07080159T</td><td>Golyóstoll Pax tip.</td><td>52</td><td>63</td><td>NULL</td><td>8</td><td>200</td><td>db</td><td>Béla</td><td>2016-08-20</td></tr>",
                            "<tr><td>08070490T</td><td>Szövegszerkesztés</td><td>4</td><td>691</td><td>NULL</td><td>8</td><td>100</td><td>db</td><td>Sára</td><td>2016-08-20</td></tr>",
                            "<tr><td>08070491T</td><td>Szám.tech. kicsiknek</td><td>4</td><td>214</td><td>NULL</td><td>8</td><td>1300</td><td>db</td><td>Sára</td><td>2016-08-20</td></tr>",
                            "<tr><td>08070492T</td><td>Informatika</td><td>4</td><td>735</td><td>NULL</td><td>9</td><td>100</td><td>db</td><td>Sára</td><td>2016-08-20</td></tr>",
                            "<tr><td>08070493T</td><td>Érettségi felv. fel. Matematika</td><td>4</td><td>720</td><td>NULL</td><td>5</td><td>100</td><td>db</td><td>Sára</td><td>2016-08-20</td></tr>",
                            "<tr><td>08070494T</td><td>Érettségi felv. fel. Fizika</td><td>4</td><td>440</td><td>NULL</td><td>6</td><td>400</td><td>db</td><td>Sára</td><td>2016-08-20</td></tr>",
                            "<tr><td>08070486T</td><td>Matematika gyakorló 2</td><td>100</td><td>403</td><td>NULL</td><td>6</td><td>100</td><td>db</td><td>Béla</td><td>2016-08-19</td></tr>",
                            "<tr><td>07080162T</td><td>Golyóstoll Stabilo piros</td><td>52</td><td>101</td><td>NULL</td><td>6</td><td>700</td><td>db</td><td>Mari</td><td>2016-08-19</td></tr>",
                            "<tr><td>08070495T</td><td>Érettségi felv. fel. Biológia</td><td>4</td><td>440</td><td>NULL</td><td>9</td><td>100</td><td>db</td><td>Sára</td><td>2016-08-18</td></tr>",
                            "<tr><td>08070487T</td><td>Matematika gyakorló 3</td><td>100</td><td>403</td><td>NULL</td><td>6</td><td>200</td><td>db</td><td>Mari</td><td>2016-08-17</td></tr>",
                            "<tr><td>08070488T</td><td>Matematika gyakorló 4</td><td>100</td><td>403</td><td>NULL</td><td>9</td><td>2000</td><td>db</td><td>Mari</td><td>2016-08-17</td></tr>",
                            "<tr><td>08070489T</td><td>RAMba zárt világ</td><td>4</td><td>868</td><td>NULL</td><td>8</td><td>4400</td><td>db</td><td>Mari</td><td>2016-08-17</td></tr>",
                            "<tr><td>07080064T</td><td>Ceruza zöld színű</td><td>19</td><td>40</td><td>NULL</td><td>6</td><td>200</td><td>db</td><td>Béla</td><td>2016-08-17</td></tr>",
                            "<tr><td>07080065T</td><td>Ceruza kínai</td><td>19</td><td>11</td><td>NULL</td><td>8</td><td>100</td><td>db</td><td>Béla</td><td>2016-08-17</td></tr>",
                            "<tr><td>07080150T</td><td>Golyóstoll</td><td>52</td><td>51</td><td>NULL</td><td>6</td><td>100</td><td>db</td><td>Béla</td><td>2016-08-17</td></tr>",
                            "<tr><td>07080151T</td><td>Golyóstoll + ceruza Twister 2in1</td><td>52</td><td>390</td><td>NULL</td><td>9</td><td>200</td><td>db</td><td>Béla</td><td>2016-08-17</td></tr>",
                            "<tr><td>07080161T</td><td>Golyóstoll kétszínű</td><td>52</td><td>44</td><td>NULL</td><td>9</td><td>100</td><td>db</td><td>Béla</td><td>2016-08-16</td></tr>",
                            "<tr><td>07080160T</td><td>Golyóstoll penac</td><td>52</td><td>239</td><td>NULL</td><td>7</td><td>200</td><td>db</td><td>Béla</td><td>2016-08-15</td></tr>",
                            "<tr><td>07040169T</td><td>Golyóstoll Zodiák</td><td>52</td><td>94</td><td>NULL</td><td>8</td><td>1200</td><td>db</td><td>Béla</td><td>2016-08-14</td></tr>",
                            "<tr><td>07040215T</td><td>Ironbél  2B ICO</td><td>76</td><td>74</td><td>NULL</td><td>7</td><td>200</td><td>db</td><td>Béla</td><td>2016-08-14</td></tr>",
                            "<tr><td>07040218T</td><td>Ironbél HB 0,5</td><td>76</td><td>23</td><td>NULL</td><td>6</td><td>200</td><td>db</td><td>Béla</td><td>2016-08-13</td></tr>",
                            "<tr><td>07050462T</td><td>Töltőtoll tinta </td><td>148</td><td>493</td><td>NULL</td><td>5</td><td>300</td><td>üveg</td><td>Mari</td><td>2016-08-13</td></tr>",
                            "<tr><td>07050463T</td><td>Ceruzafogó</td><td>78</td><td>36</td><td>NULL</td><td>8</td><td>700</td><td>db</td><td>Sára</td><td>2016-08-13</td></tr>",
                            "<tr><td>07050464T</td><td>Szövegkiemelő Staedtler</td><td>138</td><td>140</td><td>NULL</td><td>7</td><td>900</td><td>db</td><td>Sára</td><td>2016-08-13</td></tr>",
                            "<tr><td>F001-KB101</td><td>férfi szövet kabát</td><td>38</td><td>22000</td><td>fekete (szövet) </td><td>1</td><td>173</td><td>db</td><td>Sára</td><td>2016-08-13</td></tr>",
                            "<tr><td>F007-NA201</td><td>férfi farmer nadrág</td><td>39</td><td>7890</td><td>kék (farmer) </td><td>3</td><td>105</td><td>db</td><td>Sára</td><td>2016-08-13</td></tr>",
                            "<tr><td>F013-NA207</td><td>férfi szövet nadrág</td><td>39</td><td>11900</td><td>barna (szövet) </td><td>1</td><td>389</td><td>db</td><td>Sára</td><td>2016-08-13</td></tr>",
                            "<tr><td>F021-IN215</td><td>férfi ing</td><td>37</td><td>6490</td><td>kék (pamut) </td><td>1</td><td>381</td><td>db</td><td>Mari</td><td>2016-08-13</td></tr>",
                            "<tr><td>G013-NA201</td><td>gyermek farmer nadrág (fiú)</td><td>56</td><td>4990</td><td>farmer </td><td>3</td><td>200</td><td>db</td><td>Sára</td><td>2016-08-13</td></tr>",
                            "<tr><td>G019-NA207</td><td>gyermek pamut nadrág (fiú)</td><td>56</td><td>1290</td><td>pamut </td><td>3</td><td>182</td><td>db</td><td>Sára</td><td>2016-08-13</td></tr>",
                            "<tr><td>G023-FE301</td><td>fiú alsó</td><td>35</td><td>390</td><td>mintás (pamut) </td><td>3</td><td>328</td><td>db</td><td>Sára</td><td>2016-08-13</td></tr>",
                            "<tr><td>G029-FE307</td><td>fiú zokni</td><td>35</td><td>240</td><td>mintás (pamut) </td><td>4</td><td>468</td><td>db</td><td>Sára</td><td>2016-08-13</td></tr>",
                            "<tr><td>G038-FE316</td><td>fiú harisnya</td><td>35</td><td>990</td><td>pókemeberes  </td><td>3</td><td>205</td><td>db</td><td>Sára</td><td>2016-08-13</td></tr>",
                            "<tr><td>04050268T</td><td>Lufi formázható</td><td>94</td><td>15</td><td>NULL</td><td>7</td><td>3000</td><td>db</td><td>Béla</td><td>2016-08-13</td></tr>",
                            "<tr><td>04050269T</td><td>Lufi hullámos</td><td>94</td><td>11</td><td>NULL</td><td>6</td><td>1300</td><td>db</td><td>Béla</td><td>2016-08-13</td></tr>",
                            "<tr><td>04110230T</td><td>Képeslap humoros </td><td>85</td><td>55</td><td>NULL</td><td>6</td><td>1000</td><td>db</td><td>Mari</td><td>2016-08-13</td></tr>",
                            "<tr><td>04110231T</td><td>Képeslap humoros borítékos</td><td>85</td><td>81</td><td>NULL</td><td>5</td><td>1000</td><td>db</td><td>Mari</td><td>2016-08-13</td></tr>",
                            "<tr><td>04110232T</td><td>Képeslap humoros kaparós</td><td>85</td><td>51</td><td>NULL</td><td>8</td><td>900</td><td>db</td><td>Mari</td><td>2016-08-12</td></tr>",
                            "<tr><td>04050320T</td><td>Plüss  QX állatok</td><td>119</td><td>173</td><td>NULL</td><td>9</td><td>500</td><td>db</td><td>Sára</td><td>2016-08-12</td></tr>",
                            "<tr><td>04050321T</td><td>Plüss kicsi</td><td>119</td><td>161</td><td>NULL</td><td>7</td><td>2000</td><td>db</td><td>Sára</td><td>2016-08-12</td></tr>",
                            "<tr><td>04050322T</td><td>Plüss sárkány</td><td>119</td><td>314</td><td>NULL</td><td>5</td><td>100</td><td>db</td><td>Sára</td><td>2016-08-12</td></tr>",
                            "<tr><td>06010202T</td><td>Hurkapálca 10 db-os</td><td>78</td><td>23</td><td>NULL</td><td>6</td><td>150</td><td>csomag</td><td>Béla</td><td>2016-08-12</td></tr>",
                            "<tr><td>06010305T</td><td>Papírcenti 100 cm-es</td><td>78</td><td>9</td><td>NULL</td><td>6</td><td>100</td><td>db</td><td>Béla</td><td>2016-08-12</td></tr>",
                            "<tr><td>06010343T</td><td>Ragasztószalag 19 mm-es SCOTCH+ tépő</td><td>124</td><td>426</td><td>NULL</td><td>6</td><td>1600</td><td>db</td><td>Béla</td><td>2016-08-12</td></tr>",
                            "<tr><td>07080062T</td><td>Ceruza szén</td><td>19</td><td>146</td><td>NULL</td><td>5</td><td>200</td><td>db</td><td>Sára</td><td>2016-08-12</td></tr>",
                            "<tr><td>07080063T</td><td>Ceruza szorzótáblás</td><td>19</td><td>35</td><td>NULL</td><td>7</td><td>100</td><td>db</td><td>Sára</td><td>2016-08-12</td></tr>",
                            "<tr><td>07040219T</td><td>Ironbél HI-POLIMER HB 0,7</td><td>76</td><td>78</td><td>NULL</td><td>6</td><td>100</td><td>db</td><td>Béla</td><td>2016-08-12</td></tr>",
                            "<tr><td>07040165T</td><td>Golyóstoll UNI laknock</td><td>52</td><td>218</td><td>NULL</td><td>9</td><td>100</td><td>db</td><td>Sára</td><td>2016-08-12</td></tr>",
                            "<tr><td>07040257T</td><td>Lakk filc Edding 750</td><td>41</td><td>434</td><td>NULL</td><td>8</td><td>100</td><td>db</td><td>Mari</td><td>2016-08-11</td></tr>",
                            "<tr><td>07040388T</td><td>Tintapatron /kék/</td><td>143</td><td>9</td><td>NULL</td><td>7</td><td>200</td><td>csomag</td><td>Mari</td><td>2016-08-11</td></tr>",
                            "<tr><td>07040389T</td><td>Tintapatron 30 db-os kék</td><td>143</td><td>360</td><td>NULL</td><td>7</td><td>200</td><td>db</td><td>Mari</td><td>2016-08-11</td></tr>",
                            "<tr><td>07040390T</td><td>Tintapatron színes</td><td>143</td><td>11</td><td>NULL</td><td>9</td><td>200</td><td>db</td><td>Mari</td><td>2016-08-11</td></tr>",
                            "<tr><td>07040391T</td><td>Toll Centropen roller</td><td>144</td><td>80</td><td>NULL</td><td>9</td><td>200</td><td>db</td><td>Mari</td><td>2016-08-11</td></tr>",
                            "<tr><td>06010366T</td><td>Számológép Roxin</td><td>134</td><td>508</td><td>NULL</td><td>6</td><td>300</td><td>db</td><td>Béla</td><td>2016-08-11</td></tr>",
                            "<tr><td>06010367T</td><td>Számolókorong</td><td>78</td><td>35</td><td>NULL</td><td>6</td><td>300</td><td>csomag</td><td>Béla</td><td>2016-08-11</td></tr>",
                            "<tr><td>05110364T</td><td>Szalvéta kicsi virágos</td><td>133</td><td>161</td><td>NULL</td><td>8</td><td>300</td><td>csomag</td><td>Mari</td><td>2016-08-11</td></tr>",
                            "<tr><td>06010113T</td><td>Füzet 31-32 szótár</td><td>45</td><td>34</td><td>NULL</td><td>8</td><td>4500</td><td>db</td><td>Sára</td><td>2016-08-11</td></tr>",
                            "<tr><td>06010114T</td><td>Füzet A/5 hangjegy 36/16</td><td>45</td><td>30</td><td>NULL</td><td>6</td><td>800</td><td>db</td><td>Béla</td><td>2016-08-11</td></tr>",
                            "<tr><td>04080272T</td><td>Mappa PVC villámzáras  képes</td><td>96</td><td>360</td><td>NULL</td><td>9</td><td>1000</td><td>db</td><td>Mari</td><td>2016-08-11</td></tr>",
                            "<tr><td>04080442T</td><td>Emlékkönyv</td><td>32</td><td>316</td><td>NULL</td><td>7</td><td>3000</td><td>db</td><td>Mari</td><td>2016-08-11</td></tr>",
                            "<tr><td>04110227T</td><td>Képeslap  borítékos</td><td>85</td><td>33</td><td>NULL</td><td>6</td><td>100</td><td>db</td><td>Mari</td><td>2016-08-10</td></tr>",
                            "<tr><td>04110228T</td><td>Képeslap &quot;Nászajándék&quot;</td><td>85</td><td>184</td><td>NULL</td><td>9</td><td>600</td><td>db</td><td>Béla</td><td>2016-08-10</td></tr>",
                            "<tr><td>04110229T</td><td>Képeslap &quot;Részvét&quot;</td><td>85</td><td>33</td><td>NULL</td><td>5</td><td>200</td><td>db</td><td>Béla</td><td>2016-08-10</td></tr>",
                            "<tr><td>06010201T</td><td>Hőmérő, műa.</td><td>78</td><td>36</td><td>NULL</td><td>6</td><td>1400</td><td>db</td><td>Mari</td><td>2016-08-10</td></tr>",
                            "<tr><td>06010368T</td><td>Számolópálca</td><td>78</td><td>61</td><td>NULL</td><td>5</td><td>900</td><td>csomag</td><td>Sára</td><td>2016-08-10</td></tr>",
                            "<tr><td>06010373T</td><td>Színes papír I.II-IV.V-VIII-ig</td><td>78</td><td>43</td><td>NULL</td><td>8</td><td>2200</td><td>db</td><td>Sára</td><td>2016-08-10</td></tr>",
                            "<tr><td>06010365T</td><td>Számegyenes</td><td>78</td><td>36</td><td>NULL</td><td>8</td><td>900</td><td>db</td><td>Béla</td><td>2016-08-10</td></tr>",
                            "<tr><td>07040166T</td><td>Golyóstoll Zebra 301</td><td>52</td><td>455</td><td>NULL</td><td>8</td><td>1400</td><td>db</td><td>Béla</td><td>2016-08-10</td></tr>",
                            "<tr><td>07040167T</td><td>Golyóstoll Zebra mini</td><td>52</td><td>655</td><td>NULL</td><td>9</td><td>400</td><td>db</td><td>Béla</td><td>2016-08-10</td></tr>",
                            "<tr><td>07040168T</td><td>Golyóstoll Zebra new hard</td><td>52</td><td>189</td><td>NULL</td><td>8</td><td>400</td><td>db</td><td>Béla</td><td>2016-08-10</td></tr>",
                            "<tr><td>07040216T</td><td>Ironbél B 0,5</td><td>76</td><td>36</td><td>NULL</td><td>5</td><td>400</td><td>db</td><td>Mari</td><td>2016-08-10</td></tr>",
                            "<tr><td>G041-AL211</td><td>fiú ünneplős ruha</td><td>8</td><td>16900</td><td>NULL</td><td>4</td><td>297</td><td>db</td><td>Mari</td><td>2016-08-10</td></tr>",
                            "<tr><td>G048-PO218</td><td>gyermek póló (fiú)</td><td>57</td><td>3900</td><td>pókemeberes (pamut) </td><td>3</td><td>355</td><td>db</td><td>Mari</td><td>2016-08-10</td></tr>",
                            "<tr><td>07040217T</td><td>Ironbél H 0,5</td><td>76</td><td>59</td><td>NULL</td><td>6</td><td>200</td><td>db</td><td>Béla</td><td>2016-08-09</td></tr>",
                            "<tr><td>06010083T</td><td>Ecset Centrum 7,8,9</td><td>30</td><td>33</td><td>NULL</td><td>6</td><td>900</td><td>db</td><td>Sára</td><td>2016-08-09</td></tr>",
                            "<tr><td>06010084T</td><td>Ecset Deák 2-es</td><td>30</td><td>60</td><td>NULL</td><td>9</td><td>200</td><td>db</td><td>Sára</td><td>2016-08-09</td></tr>",
                            "<tr><td>06010085T</td><td>Ecset Lizzy 10-es</td><td>30</td><td>65</td><td>NULL</td><td>5</td><td>200</td><td>db</td><td>Sára</td><td>2016-08-09</td></tr>",
                            "<tr><td>05050465T</td><td>Tapétavágó kés</td><td>140</td><td>40</td><td>NULL</td><td>6</td><td>1600</td><td>db</td><td>Mari</td><td>2016-08-09</td></tr>",
                            "<tr><td>05080340T</td><td>Ragasztó, Technokol 35g kék</td><td>124</td><td>144</td><td>NULL</td><td>8</td><td>200</td><td>db</td><td>Mari</td><td>2016-08-09</td></tr>",
                            "<tr><td>05080341T</td><td>Ragasztó, Technokol 35g piros</td><td>124</td><td>144</td><td>NULL</td><td>6</td><td>1100</td><td>db</td><td>Mari</td><td>2016-08-09</td></tr>",
                            "<tr><td>05110359T</td><td>Szalvéta </td><td>133</td><td>176</td><td>NULL</td><td>8</td><td>100</td><td>csomag</td><td>Mari</td><td>2016-08-09</td></tr>",
                            "<tr><td>04110067T</td><td>Címke WD. állat</td><td>20</td><td>31</td><td>NULL</td><td>7</td><td>300</td><td>db</td><td>Sára</td><td>2016-08-09</td></tr>",
                            "<tr><td>04050251T</td><td>Kulcstartó billiárd golyós</td><td>91</td><td>148</td><td>NULL</td><td>8</td><td>3500</td><td>db</td><td>Béla</td><td>2016-08-09</td></tr>",
                            "<tr><td>04050255T</td><td>Kulcstartó mesefigurás</td><td>91</td><td>36</td><td>NULL</td><td>9</td><td>2010</td><td>db</td><td>Mari</td><td>2016-08-09</td></tr>",
                            "<tr><td>04050256T</td><td>Kulcstartó nagyítós</td><td>91</td><td>129</td><td>NULL</td><td>9</td><td>2500</td><td>db</td><td>Mari</td><td>2016-08-09</td></tr>",
                            "<tr><td>04050267T</td><td>Logikai készlet</td><td>5</td><td>129</td><td>NULL</td><td>5</td><td>2000</td><td>db</td><td>Mari</td><td>2016-08-09</td></tr>",
                            "<tr><td>04050358T</td><td>Strandlabda </td><td>132</td><td>356</td><td>NULL</td><td>8</td><td>100</td><td>db</td><td>Sára</td><td>2016-08-08</td></tr>",
                            "<tr><td>04080270T</td><td>Mappa bőr A5</td><td>96</td><td>1765</td><td>NULL</td><td>6</td><td>200</td><td>db</td><td>Sára</td><td>2016-08-08</td></tr>",
                            "<tr><td>06010086T</td><td>Ecset Nebulo 4-es</td><td>30</td><td>36</td><td>NULL</td><td>8</td><td>3600</td><td>db</td><td>Mari</td><td>2016-08-08</td></tr>",
                            "<tr><td>06010111T</td><td>Füzet  A/4 </td><td>45</td><td>68</td><td>NULL</td><td>9</td><td>600</td><td>db</td><td>Mari</td><td>2016-08-08</td></tr>",
                            "<tr><td>06010036T</td><td>Betűtartó sin</td><td>78</td><td>33</td><td>NULL</td><td>7</td><td>300</td><td>db</td><td>Béla</td><td>2016-08-08</td></tr>",
                            "<tr><td>06010082T</td><td>Ecset Centrum 10,11,12</td><td>30</td><td>40</td><td>NULL</td><td>8</td><td>200</td><td>db</td><td>Béla</td><td>2016-08-08</td></tr>",
                            "<tr><td>05050170T</td><td>Gumigyűrű</td><td>53</td><td>19</td><td>NULL</td><td>9</td><td>400</td><td>csomag</td><td>Béla</td><td>2016-08-08</td></tr>",
                            "<tr><td>05050346T</td><td>Rágógumi Orbit</td><td>126</td><td>89</td><td>NULL</td><td>9</td><td>400</td><td>csomag</td><td>Béla</td><td>2016-08-08</td></tr>",
                            "<tr><td>06010374T</td><td>Szorzótábla műanyag</td><td>78</td><td>45</td><td>NULL</td><td>8</td><td>1600</td><td>db</td><td>Béla</td><td>2016-08-08</td></tr>",
                            "<tr><td>06010375T</td><td>Szögmérő 180 fokos műa.</td><td>137</td><td>24</td><td>NULL</td><td>6</td><td>200</td><td>db</td><td>Béla</td><td>2016-08-08</td></tr>",
                            "<tr><td>06010115T</td><td>Füzet A/5, mintás</td><td>45</td><td>48</td><td>NULL</td><td>9</td><td>100</td><td>db</td><td>Béla</td><td>2016-08-08</td></tr>",
                            "<tr><td>07040135T</td><td>G.toll betét Parker </td><td>145</td><td>684</td><td>NULL</td><td>6</td><td>4300</td><td>db</td><td>Mari</td><td>2016-08-08</td></tr>",
                            "<tr><td>G001-KB101</td><td>gyermek kabát (fiú)</td><td>55</td><td>8900</td><td>NULL</td><td>1</td><td>396</td><td>db</td><td>Sára</td><td>2016-08-08</td></tr>",
                            "<tr><td>04080271T</td><td>Mappa PVC villámzáras</td><td>96</td><td>264</td><td>NULL</td><td>8</td><td>100</td><td>db</td><td>Sára</td><td>2016-08-07</td></tr>",
                            "<tr><td>04110233T</td><td>Képeslap humoros</td><td>85</td><td>89</td><td>NULL</td><td>5</td><td>700</td><td>db</td><td>Béla</td><td>2016-08-07</td></tr>",
                            "<tr><td>04080443T</td><td>Emlékkönyv lakatos</td><td>32</td><td>449</td><td>NULL</td><td>7</td><td>1000</td><td>db</td><td>Sára</td><td>2016-08-06</td></tr>",
                            "<tr><td>04110066T</td><td>Címke 8 db-os</td><td>20</td><td>26</td><td>NULL</td><td>7</td><td>700</td><td>db</td><td>Sára</td><td>2016-08-06</td></tr>",
                            "<tr><td>04050253T</td><td>Kulcstartó figurás</td><td>91</td><td>103</td><td>NULL</td><td>8</td><td>1200</td><td>db</td><td>Mari</td><td>2016-08-06</td></tr>",
                            "<tr><td>04050254T</td><td>Kulcstartó intarziás állatos</td><td>91</td><td>155</td><td>NULL</td><td>9</td><td>800</td><td>db</td><td>Mari</td><td>2016-08-06</td></tr>",
                            "<tr><td>06040172T</td><td>Gumis mappa csomagolt</td><td>96</td><td>195</td><td>NULL</td><td>7</td><td>2000</td><td>db</td><td>Mari</td><td>2016-08-06</td></tr>",
                            "<tr><td>06040173T</td><td>Gumis mappa fóliázott állatos</td><td>96</td><td>211</td><td>NULL</td><td>7</td><td>1800</td><td>db</td><td>Mari</td><td>2016-08-06</td></tr>",
                            "<tr><td>06010112T</td><td>Füzet  A4 mintás</td><td>45</td><td>78</td><td>NULL</td><td>9</td><td>1500</td><td>db</td><td>Mari</td><td>2016-08-06</td></tr>",
                            "<tr><td>05110360T</td><td>Szalvéta egyszínű</td><td>133</td><td>118</td><td>NULL</td><td>6</td><td>1000</td><td>csomag</td><td>Béla</td><td>2016-08-06</td></tr>",
                            "<tr><td>05110361T</td><td>Szalvéta Goma húsvéti</td><td>133</td><td>175</td><td>NULL</td><td>7</td><td>1500</td><td>csomag</td><td>Béla</td><td>2016-08-06</td></tr>",
                            "<tr><td>05110363T</td><td>Szalvéta dekor</td><td>133</td><td>133</td><td>NULL</td><td>9</td><td>100</td><td>csomag</td><td>Béla</td><td>2016-08-06</td></tr>",
                            "<tr><td>04050252T</td><td>Kulcstartó Csőrikés</td><td>91</td><td>124</td><td>NULL</td><td>8</td><td>1000</td><td>db</td><td>Béla</td><td>2016-08-05</td></tr>",
                            "<tr><td>04110068T</td><td>Címke egyszínű</td><td>20</td><td>20</td><td>NULL</td><td>9</td><td>200</td><td>db</td><td>Béla</td><td>2016-08-05</td></tr>",
                            "<tr><td>04050250T</td><td>Kulcstartó autós</td><td>91</td><td>115</td><td>NULL</td><td>8</td><td>3700</td><td>db</td><td>Béla</td><td>2016-08-05</td></tr>",
                            "<tr><td>G064-CI401</td><td>gyermek szandál (fiú)</td><td>54</td><td>6900</td><td>NULL</td><td>1</td><td>376</td><td>db</td><td>Sára</td><td>2016-08-05</td></tr>",
                            "<tr><td>07040133T</td><td>G.toll betét görbe hegyű</td><td>145</td><td>39</td><td>NULL</td><td>5</td><td>200</td><td>db</td><td>Sára</td><td>2016-08-05</td></tr>",
                            "<tr><td>07040134T</td><td>G.toll betét illatos</td><td>145</td><td>44</td><td>NULL</td><td>7</td><td>3500</td><td>db</td><td>Béla</td><td>2016-08-04</td></tr>",
                            "<tr><td>06040180T</td><td>Gyurma színes natúr</td><td>59</td><td>228</td><td>NULL</td><td>8</td><td>400</td><td>db</td><td>Mari</td><td>2016-08-04</td></tr>",
                            "<tr><td>05050046T</td><td>Celofán 50 db-os</td><td>18</td><td>73</td><td>NULL</td><td>8</td><td>100</td><td>db</td><td>Béla</td><td>2016-08-03</td></tr>",
                            "<tr><td>06010376T</td><td>Szögmérő papír</td><td>137</td><td>11</td><td>NULL</td><td>6</td><td>100</td><td>db</td><td>Béla</td><td>2016-08-03</td></tr>",
                            "<tr><td>05010306T</td><td>Papízsebkendő,10db Szindy</td><td>114</td><td>20</td><td>NULL</td><td>8</td><td>5000</td><td>csomag</td><td>Sára</td><td>2016-08-03</td></tr>",
                            "<tr><td>05010369T</td><td>Szemetes zsák 60 literes</td><td>135</td><td>129</td><td>NULL</td><td>7</td><td>300</td><td>csomag</td><td>Sára</td><td>2016-08-03</td></tr>",
                            "<tr><td>05010370T</td><td>Szilvia csomagoló</td><td>22</td><td>89</td><td>NULL</td><td>7</td><td>100</td><td>db</td><td>Sára</td><td>2016-08-03</td></tr>",
                            "<tr><td>04110258T</td><td>Lampion</td><td>5</td><td>73</td><td>NULL</td><td>9</td><td>1000</td><td>db</td><td>Mari</td><td>2016-08-03</td></tr>",
                            "<tr><td>G073-CI410</td><td>gyermek cipő (fiú)</td><td>54</td><td>7900</td><td>NULL</td><td>2</td><td>406</td><td>db</td><td>Sára</td><td>2016-08-03</td></tr>",
                            "<tr><td>G082-CI419</td><td>gyermek csizma (fiú)</td><td>54</td><td>8000</td><td>NULL</td><td>3</td><td>229</td><td>db</td><td>Sára</td><td>2016-08-03</td></tr>",
                            "<tr><td>L001-KB101</td><td>gyermek kabát (lány)</td><td>55</td><td>8900</td><td>rózsaszín  </td><td>1</td><td>78</td><td>db</td><td>Sára</td><td>2016-08-03</td></tr>",
                            "<tr><td>L013-NA201</td><td>gyermek farmer nadrág (lány)</td><td>56</td><td>4990</td><td>kék (farmer) </td><td>3</td><td>449</td><td>db</td><td>Béla</td><td>2016-08-02</td></tr>",
                            "<tr><td>07040055T</td><td>Ceruza piros-kék</td><td>19</td><td>59</td><td>NULL</td><td>9</td><td>200</td><td>db</td><td>Sára</td><td>2016-08-02</td></tr>",
                            "<tr><td>07040056T</td><td>Ceruza piros-kék vékony</td><td>19</td><td>40</td><td>NULL</td><td>7</td><td>500</td><td>db</td><td>Sára</td><td>2016-08-02</td></tr>",
                            "<tr><td>07040057T</td><td>Ceruza Progresso</td><td>19</td><td>106</td><td>NULL</td><td>7</td><td>100</td><td>db</td><td>Sára</td><td>2016-08-02</td></tr>",
                            "<tr><td>07040058T</td><td>Ceruza radíros kínai</td><td>19</td><td>11</td><td>NULL</td><td>7</td><td>200</td><td>db</td><td>Sára</td><td>2016-08-02</td></tr>",
                            "<tr><td>07040059T</td><td>Ceruza smaragd</td><td>19</td><td>58</td><td>NULL</td><td>9</td><td>300</td><td>db</td><td>Sára</td><td>2016-08-02</td></tr>",
                            "<tr><td>07040060T</td><td>Ceruza stabilo swano</td><td>19</td><td>36</td><td>NULL</td><td>6</td><td>100</td><td>db</td><td>Sára</td><td>2016-08-02</td></tr>",
                            "<tr><td>07040131T</td><td>G. toll betét UNI lachnok Fine SA-7C</td><td>145</td><td>85</td><td>NULL</td><td>9</td><td>1900</td><td>db</td><td>Mari</td><td>2016-08-02</td></tr>",
                            "<tr><td>07040132T</td><td>G.toll betét csavaros</td><td>145</td><td>55</td><td>NULL</td><td>8</td><td>500</td><td>db</td><td>Mari</td><td>2016-08-02</td></tr>",
                            "<tr><td>07010138T</td><td>G.toll betét jumbo</td><td>145</td><td>33</td><td>NULL</td><td>8</td><td>1700</td><td>db</td><td>Mari</td><td>2016-08-02</td></tr>",
                            "<tr><td>07010139T</td><td>G.toll betét S7L </td><td>145</td><td>91</td><td>NULL</td><td>6</td><td>1000</td><td>db</td><td>Mari</td><td>2016-08-02</td></tr>",
                            "<tr><td>04050223T</td><td>Játékautó mini</td><td>79</td><td>73</td><td>NULL</td><td>7</td><td>400</td><td>db</td><td>Sára</td><td>2016-08-01</td></tr>",
                            "<tr><td>04050224T</td><td>Jelzőkréta</td><td>80</td><td>48</td><td>NULL</td><td>5</td><td>800</td><td>db</td><td>Sára</td><td>2016-08-01</td></tr>",
                            "<tr><td>04050225T</td><td>Kártya mini Magyar</td><td>84</td><td>131</td><td>NULL</td><td>6</td><td>2800</td><td>db</td><td>Sára</td><td>2016-08-01</td></tr>",
                            "<tr><td>04050073T</td><td>Díszdoboz kar.</td><td>27</td><td>61</td><td>NULL</td><td>9</td><td>300</td><td>db</td><td>Béla</td><td>2016-08-01</td></tr>",
                            "<tr><td>06010377T</td><td>Szögmérő színes</td><td>137</td><td>8</td><td>NULL</td><td>9</td><td>200</td><td>db</td><td>Mari</td><td>2016-08-01</td></tr>",
                            "<tr><td>06040087T</td><td>Ecset Nebuló 10-es</td><td>30</td><td>79</td><td>NULL</td><td>7</td><td>4000</td><td>db</td><td>Mari</td><td>2016-08-01</td></tr>",
                            "<tr><td>06040088T</td><td>Egészségügyi könyv</td><td>78</td><td>51</td><td>NULL</td><td>7</td><td>4400</td><td>db</td><td>Sára</td><td>2016-08-01</td></tr>",
                            "<tr><td>06040089T</td><td>Ellenőrzőborító</td><td>78</td><td>5</td><td>NULL</td><td>7</td><td>200</td><td>db</td><td>Sára</td><td>2016-08-01</td></tr>",
                            "<tr><td>06040174T</td><td>Gumis mappa </td><td>96</td><td>148</td><td>NULL</td><td>6</td><td>7000</td><td>db</td><td>Sára</td><td>2016-08-01</td></tr>",
                            "<tr><td>06040175T</td><td>Gumis mappa Köbüki</td><td>96</td><td>191</td><td>NULL</td><td>8</td><td>400</td><td>db</td><td>Sára</td><td>2016-08-01</td></tr>",
                            "<tr><td>06040179T</td><td>Gyurma színes 200 g-os</td><td>59</td><td>180</td><td>NULL</td><td>6</td><td>100</td><td>db</td><td>Sára</td><td>2016-08-01</td></tr>",
                            "<tr><td>06040181T</td><td>Gyűjtőlap A/4</td><td>78</td><td>8</td><td>NULL</td><td>6</td><td>2600</td><td>db</td><td>Mari</td><td>2016-08-01</td></tr>",
                            "<tr><td>06040182T</td><td>Gyűrűskönyv bet. A/4</td><td>60</td><td>184</td><td>NULL</td><td>7</td><td>2600</td><td>db</td><td>Mari</td><td>2016-08-01</td></tr>",
                            "<tr><td>06040183T</td><td>Gyűrűskönyv bet. A/5</td><td>60</td><td>95</td><td>NULL</td><td>9</td><td>200</td><td>db</td><td>Mari</td><td>2016-08-01</td></tr>",
                            "<tr><td>06040212T</td><td>Írólap 10-50 ffam.</td><td>75</td><td>29</td><td>NULL</td><td>8</td><td>400</td><td>db</td><td>Sára</td><td>2016-08-01</td></tr>",
                            "<tr><td>03080006T</td><td>Ajándék cs. tasak mintás kicsi</td><td>6</td><td>26</td><td>NULL</td><td>8</td><td>100</td><td>db</td><td>Mari</td><td>2016-07-31</td></tr>",
                            "<tr><td>07040128T</td><td>G. toll betét mini fém</td><td>145</td><td>55</td><td>NULL</td><td>6</td><td>100</td><td>db</td><td>Béla</td><td>2016-07-31</td></tr>",
                            "<tr><td>07040129T</td><td>G. toll betét réz</td><td>145</td><td>30</td><td>NULL</td><td>5</td><td>200</td><td>db</td><td>Béla</td><td>2016-07-31</td></tr>",
                            "<tr><td>07040130T</td><td>G. toll betét S7S</td><td>145</td><td>80</td><td>NULL</td><td>6</td><td>200</td><td>db</td><td>Béla</td><td>2016-07-31</td></tr>",
                            "<tr><td>07010137T</td><td>G.toll betét PAX tip.</td><td>145</td><td>48</td><td>NULL</td><td>6</td><td>600</td><td>db</td><td>Sára</td><td>2016-07-31</td></tr>",
                            "<tr><td>07040061T</td><td>Ceruza stabilo opera</td><td>19</td><td>44</td><td>NULL</td><td>9</td><td>300</td><td>db</td><td>Sára</td><td>2016-07-30</td></tr>",
                            "<tr><td>06080425T</td><td>Miliméterpapír</td><td>99</td><td>8</td><td>NULL</td><td>6</td><td>400</td><td>db</td><td>Sára</td><td>2016-07-30</td></tr>",
                            "<tr><td>03080010T</td><td>Ajándék csom. 150x70</td><td>6</td><td>206</td><td>NULL</td><td>9</td><td>1900</td><td>db</td><td>Mari</td><td>2016-07-30</td></tr>",
                            "<tr><td>04030264T</td><td>Levélpapír szett </td><td>93</td><td>74</td><td>NULL</td><td>6</td><td>300</td><td>db</td><td>Mari</td><td>2016-07-30</td></tr>",
                            "<tr><td>04030265T</td><td>Levélpapír szett natur, mintás</td><td>93</td><td>103</td><td>NULL</td><td>6</td><td>200</td><td>db</td><td>Mari</td><td>2016-07-30</td></tr>",
                            "<tr><td>04030266T</td><td>Levélpapír szett virágos</td><td>93</td><td>169</td><td>NULL</td><td>7</td><td>500</td><td>db</td><td>Mari</td><td>2016-07-30</td></tr>",
                            "<tr><td>04030285T</td><td>Mikulás zacskó</td><td>6</td><td>11</td><td>NULL</td><td>8</td><td>300</td><td>db</td><td>Mari</td><td>2016-07-30</td></tr>",
                            "<tr><td>04030286T</td><td>Műanyag állatok</td><td>25</td><td>44</td><td>NULL</td><td>5</td><td>300</td><td>db</td><td>Mari</td><td>2016-07-30</td></tr>",
                            "<tr><td>05040310T</td><td>Pill.ragasztó</td><td>124</td><td>103</td><td>NULL</td><td>8</td><td>300</td><td>db</td><td>Béla</td><td>2016-07-30</td></tr>",
                            "<tr><td>05040348T</td><td>Rajzszeg színes</td><td>128</td><td>106</td><td>NULL</td><td>8</td><td>200</td><td>csomag</td><td>Béla</td><td>2016-07-30</td></tr>",
                            "<tr><td>05040349T</td><td>Rajzszeg</td><td>128</td><td>63</td><td>NULL</td><td>6</td><td>600</td><td>db</td><td>Béla</td><td>2016-07-30</td></tr>",
                            "<tr><td>05050045T</td><td>Celofán</td><td>18</td><td>46</td><td>NULL</td><td>8</td><td>200</td><td>csomag</td><td>Béla</td><td>2016-07-30</td></tr>",
                            "<tr><td>04110273T</td><td>Matrica állatos</td><td>97</td><td>55</td><td>NULL</td><td>5</td><td>6200</td><td>db</td><td>Mari</td><td>2016-07-29</td></tr>",
                            "<tr><td>04030262T</td><td>Levélpapír sima</td><td>93</td><td>56</td><td>NULL</td><td>6</td><td>600</td><td>csomag</td><td>Sára</td><td>2016-07-29</td></tr>",
                            "<tr><td>04030263T</td><td>Levélpapír szett</td><td>93</td><td>89</td><td>NULL</td><td>7</td><td>1300</td><td>db</td><td>Sára</td><td>2016-07-29</td></tr>",
                            "<tr><td>05010027T</td><td>Alufólia 20 m-es</td><td>9</td><td>214</td><td>NULL</td><td>6</td><td>5900</td><td>db</td><td>Mari</td><td>2016-07-29</td></tr>",
                            "<tr><td>03080017T</td><td>iskolai csomagoló papír</td><td>24</td><td>148</td><td>NULL</td><td>9</td><td>100</td><td>db</td><td>Sára</td><td>2016-07-29</td></tr>",
                            "<tr><td>03080018T</td><td>Ajándék csom. gyűrt 50x70 </td><td>24</td><td>121</td><td>NULL</td><td>5</td><td>2600</td><td>ív</td><td>Sára</td><td>2016-07-29</td></tr>",
                            "<tr><td>02080226T</td><td>Kapocskiszedő</td><td>82</td><td>106</td><td>NULL</td><td>8</td><td>1300</td><td>db</td><td>Béla</td><td>2016-07-29</td></tr>",
                            "<tr><td>02060448T</td><td>Bélyegző RP 18-47</td><td>14</td><td>1147</td><td>NULL</td><td>7</td><td>1200</td><td>db</td><td>Sára</td><td>2016-07-29</td></tr>",
                            "<tr><td>02080069T</td><td>CD tartó tok</td><td>17</td><td>30</td><td>NULL</td><td>8</td><td>400</td><td>db</td><td>Sára</td><td>2016-07-29</td></tr>",
                            "<tr><td>07040097T</td><td>Filctoll </td><td>41</td><td>26</td><td>NULL</td><td>8</td><td>100</td><td>db</td><td>Béla</td><td>2016-07-29</td></tr>",
                            "<tr><td>07040098T</td><td>Filctoll document pen</td><td>41</td><td>278</td><td>NULL</td><td>5</td><td>100</td><td>db</td><td>Béla</td><td>2016-07-29</td></tr>",
                            "<tr><td>07040099T</td><td>Filctoll Edding 750</td><td>41</td><td>434</td><td>NULL</td><td>9</td><td>200</td><td>csomag</td><td>Sára</td><td>2016-07-29</td></tr>",
                            "<tr><td>07040100T</td><td>Filctoll Marvy alkoholos</td><td>41</td><td>390</td><td>NULL</td><td>5</td><td>200</td><td>db</td><td>Sára</td><td>2016-07-29</td></tr>",
                            "<tr><td>L019-NA207</td><td>gyermek pamut nadrág (lány)</td><td>56</td><td>1290</td><td>rózsaszín (pamut) </td><td>1</td><td>162</td><td>db</td><td>Mari</td><td>2016-07-29</td></tr>",
                            "<tr><td>07040101T</td><td>Filctoll permanent vastag</td><td>41</td><td>140</td><td>NULL</td><td>9</td><td>700</td><td>db</td><td>Sára</td><td>2016-07-28</td></tr>",
                            "<tr><td>07040102T</td><td>Filctoll supra fine</td><td>41</td><td>46</td><td>NULL</td><td>7</td><td>100</td><td>db</td><td>Sára</td><td>2016-07-28</td></tr>",
                            "<tr><td>07040127T</td><td>G. toll betét mini</td><td>145</td><td>30</td><td>NULL</td><td>9</td><td>100</td><td>db</td><td>Sára</td><td>2016-07-28</td></tr>",
                            "<tr><td>07040054T</td><td>Ceruza kártyás</td><td>19</td><td>55</td><td>NULL</td><td>7</td><td>100</td><td>db</td><td>Mari</td><td>2016-07-28</td></tr>",
                            "<tr><td>07010140T</td><td>G.toll betét Stabilo</td><td>145</td><td>23</td><td>NULL</td><td>5</td><td>1200</td><td>db</td><td>Béla</td><td>2016-07-28</td></tr>",
                            "<tr><td>07010142T</td><td>G.toll betét Zebra F-0.7</td><td>145</td><td>228</td><td>NULL</td><td>5</td><td>100</td><td>db</td><td>Mari</td><td>2016-07-28</td></tr>",
                            "<tr><td>07010143T</td><td>G.toll betét Zebra H-0,7</td><td>145</td><td>78</td><td>NULL</td><td>7</td><td>200</td><td>db</td><td>Mari</td><td>2016-07-28</td></tr>",
                            "<tr><td>02080435T</td><td>Mappa bemutató</td><td>96</td><td>184</td><td>NULL</td><td>9</td><td>10000</td><td>db</td><td>Sára</td><td>2016-07-28</td></tr>",
                            "<tr><td>02080431T</td><td>Álló irattartó</td><td>73</td><td>214</td><td>NULL</td><td>8</td><td>200</td><td>db</td><td>Sára</td><td>2016-07-28</td></tr>",
                            "<tr><td>02080432T</td><td>Tokos iratrendező</td><td>71</td><td>259</td><td>NULL</td><td>5</td><td>1100</td><td>db</td><td>Sára</td><td>2016-07-28</td></tr>",
                            "<tr><td>02080433T</td><td>Ragasztószalag 19 mm-es</td><td>125</td><td>55</td><td>NULL</td><td>9</td><td>200</td><td>db</td><td>Sára</td><td>2016-07-28</td></tr>",
                            "<tr><td>02040508T</td><td>Fólia tasakos A4100 mik.</td><td>43</td><td>44</td><td>NULL</td><td>8</td><td>100</td><td>ív</td><td>Sára</td><td>2016-07-28</td></tr>",
                            "<tr><td>03080438T</td><td>Ajándék csomagoló tasak lézeres</td><td>6</td><td>214</td><td>NULL</td><td>7</td><td>3900</td><td>db</td><td>Sára</td><td>2016-07-28</td></tr>",
                            "<tr><td>03080439T</td><td>Italtartó doboz</td><td>6</td><td>114</td><td>NULL</td><td>8</td><td>1100</td><td>db</td><td>Sára</td><td>2016-07-28</td></tr>",
                            "<tr><td>03080011T</td><td>Ajándék cs. tasak közepes</td><td>6</td><td>148</td><td>NULL</td><td>6</td><td>2300</td><td>db</td><td>Mari</td><td>2016-07-28</td></tr>",
                            "<tr><td>03080012T</td><td>Ajándék csom. 200x70</td><td>6</td><td>125</td><td>NULL</td><td>8</td><td>300</td><td>db</td><td>Mari</td><td>2016-07-28</td></tr>",
                            "<tr><td>06040213T</td><td>Írólap 20-50 </td><td>75</td><td>34</td><td>NULL</td><td>8</td><td>100</td><td>db</td><td>Sára</td><td>2016-07-28</td></tr>",
                            "<tr><td>06040205T</td><td>Indigó Pelikán</td><td>68</td><td>15</td><td>NULL</td><td>5</td><td>200</td><td>db</td><td>Sára</td><td>2016-07-28</td></tr>",
                            "<tr><td>04050074T</td><td>Díszdoboz tollnak 2 db-os</td><td>27</td><td>66</td><td>NULL</td><td>7</td><td>100</td><td>db</td><td>Mari</td><td>2016-07-28</td></tr>",
                            "<tr><td>04050023T</td><td>Álarc fejdísz</td><td>7</td><td>144</td><td>NULL</td><td>8</td><td>1000</td><td>db</td><td>Sára</td><td>2016-07-27</td></tr>",
                            "<tr><td>04050024T</td><td>Álarc szemüveg</td><td>7</td><td>144</td><td>NULL</td><td>7</td><td>1000</td><td>db</td><td>Sára</td><td>2016-07-27</td></tr>",
                            "<tr><td>04050035T</td><td>Bérlet tok</td><td>5</td><td>24</td><td>NULL</td><td>5</td><td>1500</td><td>db</td><td>Sára</td><td>2016-07-27</td></tr>",
                            "<tr><td>04050220T</td><td>Játék autó</td><td>79</td><td>65</td><td>NULL</td><td>7</td><td>400</td><td>db</td><td>Mari</td><td>2016-07-27</td></tr>",
                            "<tr><td>04050221T</td><td>Játékautó Blisteres</td><td>79</td><td>133</td><td>NULL</td><td>7</td><td>500</td><td>db</td><td>Mari</td><td>2016-07-27</td></tr>",
                            "<tr><td>04050222T</td><td>Játékautó elemes</td><td>79</td><td>165</td><td>NULL</td><td>7</td><td>100</td><td>db</td><td>Mari</td><td>2016-07-27</td></tr>",
                            "<tr><td>06040184T</td><td>Gyűrűskönyv betét A/5</td><td>60</td><td>218</td><td>NULL</td><td>9</td><td>100</td><td>db</td><td>Mari</td><td>2016-07-27</td></tr>",
                            "<tr><td>06040185T</td><td>Gyűrűskönyv</td><td>60</td><td>581</td><td>NULL</td><td>9</td><td>1800</td><td>db</td><td>Mari</td><td>2016-07-27</td></tr>",
                            "<tr><td>06040186T</td><td>Gyűrűskönyv színes</td><td>60</td><td>699</td><td>NULL</td><td>6</td><td>700</td><td>db</td><td>Sára</td><td>2016-07-27</td></tr>",
                            "<tr><td>03080007T</td><td>Ajándék cs. tasak mintás nagy</td><td>6</td><td>206</td><td>NULL</td><td>9</td><td>2000</td><td>db</td><td>Mari</td><td>2016-07-27</td></tr>",
                            "<tr><td>03080008T</td><td>Ajándék cs. tasak kicsi</td><td>6</td><td>103</td><td>NULL</td><td>7</td><td>2200</td><td>db</td><td>Mari</td><td>2016-07-27</td></tr>",
                            "<tr><td>03080009T</td><td>Ajándék csom. 100x70 metál</td><td>6</td><td>148</td><td>NULL</td><td>8</td><td>700</td><td>db</td><td>Mari</td><td>2016-07-27</td></tr>",
                            "<tr><td>03080031T</td><td>Ajándék cs. húsvéti</td><td>24</td><td>106</td><td>NULL</td><td>6</td><td>2100</td><td>db</td><td>Sára</td><td>2016-07-27</td></tr>",
                            "<tr><td>03080437T</td><td>Ajándék csomagoló tasak</td><td>6</td><td>185</td><td>NULL</td><td>7</td><td>3600</td><td>db</td><td>Sára</td><td>2016-07-27</td></tr>",
                            "<tr><td>03080005T</td><td>Ajándék cs. tasak virágos nagy</td><td>6</td><td>290</td><td>NULL</td><td>8</td><td>2500</td><td>db</td><td>Sára</td><td>2016-07-27</td></tr>",
                            "<tr><td>03080019T</td><td>Ajándék csom. Krepp</td><td>24</td><td>56</td><td>NULL</td><td>5</td><td>600</td><td>db</td><td>Béla</td><td>2016-07-27</td></tr>",
                            "<tr><td>02060447T</td><td>Bélyegző pocket</td><td>14</td><td>1377</td><td>NULL</td><td>6</td><td>900</td><td>db</td><td>Mari</td><td>2016-07-27</td></tr>",
                            "<tr><td>02080109T</td><td>Floppy lemez</td><td>42</td><td>51</td><td>NULL</td><td>7</td><td>500</td><td>db</td><td>Mari</td><td>2016-07-27</td></tr>",
                            "<tr><td>06080426T</td><td>Szótárfüzet Lizzy</td><td>45</td><td>161</td><td>NULL</td><td>7</td><td>300</td><td>db</td><td>Mari</td><td>2016-07-27</td></tr>",
                            "<tr><td>L029-FE307</td><td>lány zokni</td><td>35</td><td>240</td><td>fehér (pamut) </td><td>4</td><td>470</td><td>db</td><td>Béla</td><td>2016-07-27</td></tr>",
                            "<tr><td>L023-FE301</td><td>lány alsó</td><td>35</td><td>390</td><td>pamut </td><td>1</td><td>369</td><td>db</td><td>Béla</td><td>2016-07-26</td></tr>",
                            "<tr><td>06080429T</td><td>Meghívó ballagási</td><td>98</td><td>63</td><td>NULL</td><td>6</td><td>400</td><td>db</td><td>Sára</td><td>2016-07-26</td></tr>",
                            "<tr><td>07010136T</td><td>G.toll betét PAX</td><td>145</td><td>123</td><td>NULL</td><td>6</td><td>1800</td><td>db</td><td>Béla</td><td>2016-07-26</td></tr>",
                            "<tr><td>06080424T</td><td>Füzetborító A/4 mintás</td><td>46</td><td>24</td><td>NULL</td><td>9</td><td>500</td><td>db</td><td>Béla</td><td>2016-07-26</td></tr>",
                            "<tr><td>02060039T</td><td>Bélyegző párna</td><td>14</td><td>650</td><td>NULL</td><td>6</td><td>100</td><td>db</td><td>Béla</td><td>2016-07-26</td></tr>",
                            "<tr><td>02080434T</td><td>Mappa müa A/4</td><td>96</td><td>210</td><td>NULL</td><td>8</td><td>600</td><td>db</td><td>Mari</td><td>2016-07-26</td></tr>",
                            "<tr><td>02050460T</td><td>Boríték C/4-es</td><td>16</td><td>15</td><td>NULL</td><td>5</td><td>200</td><td>db</td><td>Mari</td><td>2016-07-26</td></tr>",
                            "<tr><td>03080021T</td><td>Ajándék csom. vékony</td><td>24</td><td>23</td><td>NULL</td><td>7</td><td>200</td><td>db</td><td>Béla</td><td>2016-07-26</td></tr>",
                            "<tr><td>04110284T</td><td>Meghívó borítékos</td><td>98</td><td>169</td><td>NULL</td><td>5</td><td>100</td><td>db</td><td>Sára</td><td>2016-07-26</td></tr>",
                            "<tr><td>04110362T</td><td>Szalvéta gyűjtőknek</td><td>133</td><td>183</td><td>NULL</td><td>5</td><td>1200</td><td>csomag</td><td>Sára</td><td>2016-07-26</td></tr>",
                            "<tr><td>05010026T</td><td>Alufólia 10 m-es</td><td>9</td><td>118</td><td>NULL</td><td>9</td><td>100</td><td>db</td><td>Sára</td><td>2016-07-26</td></tr>",
                            "<tr><td>04030260T</td><td>Levélpapír A/4</td><td>93</td><td>15</td><td>NULL</td><td>6</td><td>1600</td><td>db</td><td>Béla</td><td>2016-07-26</td></tr>",
                            "<tr><td>04030261T</td><td>Levélpapír állatos</td><td>93</td><td>140</td><td>NULL</td><td>6</td><td>1000</td><td>csomag</td><td>Béla</td><td>2016-07-26</td></tr>",
                            "<tr><td>04030287T</td><td>Műanyag foszforeszkáló állat</td><td>25</td><td>23</td><td>NULL</td><td>8</td><td>5100</td><td>db</td><td>Béla</td><td>2016-07-26</td></tr>",
                            "<tr><td>04030288T</td><td>Műanyag pohár 1 dl-es</td><td>25</td><td>3</td><td>NULL</td><td>7</td><td>100</td><td>db</td><td>Béla</td><td>2016-07-26</td></tr>",
                            "<tr><td>04030241T</td><td>Képeslap virágos +boríték</td><td>85</td><td>44</td><td>NULL</td><td>8</td><td>2300</td><td>db</td><td>Mari</td><td>2016-07-25</td></tr>",
                            "<tr><td>04030242T</td><td>Képeslap WD +boríték</td><td>85</td><td>118</td><td>NULL</td><td>8</td><td>2300</td><td>db</td><td>Mari</td><td>2016-07-25</td></tr>",
                            "<tr><td>04030243T</td><td>Képkirakó Dirib-darab</td><td>86</td><td>195</td><td>NULL</td><td>7</td><td>1000</td><td>db</td><td>Mari</td><td>2016-07-25</td></tr>",
                            "<tr><td>04110281T</td><td>Matrica világítós </td><td>97</td><td>175</td><td>NULL</td><td>9</td><td>100</td><td>db</td><td>Sára</td><td>2016-07-25</td></tr>",
                            "<tr><td>04110282T</td><td>Matrica WD kicsi</td><td>97</td><td>56</td><td>NULL</td><td>5</td><td>300</td><td>db</td><td>Sára</td><td>2016-07-25</td></tr>",
                            "<tr><td>02080436T</td><td>Irattartó müa. boríték A/4</td><td>73</td><td>66</td><td>NULL</td><td>7</td><td>800</td><td>db</td><td>Mari</td><td>2016-07-25</td></tr>",
                            "<tr><td>03010342T</td><td>Ragasztószalag  TIXO</td><td>125</td><td>15</td><td>NULL</td><td>9</td><td>100</td><td>db</td><td>Béla</td><td>2016-07-25</td></tr>",
                            "<tr><td>03010344T</td><td>Ragasztószalag nagy 12 mm</td><td>125</td><td>63</td><td>NULL</td><td>7</td><td>1100</td><td>db</td><td>Béla</td><td>2016-07-25</td></tr>",
                            "<tr><td>03010345T</td><td>Ragasztószalag széles barna</td><td>125</td><td>166</td><td>NULL</td><td>6</td><td>500</td><td>db</td><td>Béla</td><td>2016-07-25</td></tr>",
                            "<tr><td>03050076T</td><td>Díszkötöző szalag metál nagy</td><td>28</td><td>26</td><td>NULL</td><td>8</td><td>800</td><td>db</td><td>Béla</td><td>2016-07-25</td></tr>",
                            "<tr><td>07010144T</td><td>G.toll betét Zebra K-0,7</td><td>145</td><td>89</td><td>NULL</td><td>9</td><td>200</td><td>db</td><td>Béla</td><td>2016-07-25</td></tr>",
                            "<tr><td>07010244T</td><td>Kerámiatoll</td><td>144</td><td>74</td><td>NULL</td><td>5</td><td>200</td><td>db</td><td>Béla</td><td>2016-07-25</td></tr>",
                            "<tr><td>07010371T</td><td>Színes ceruza 6-os</td><td>136</td><td>99</td><td>NULL</td><td>8</td><td>2200</td><td>db</td><td>Sára</td><td>2016-07-25</td></tr>",
                            "<tr><td>07010372T</td><td>Színes ceruza 12 szín</td><td>136</td><td>161</td><td>NULL</td><td>7</td><td>3000</td><td>db</td><td>Sára</td><td>2016-07-25</td></tr>",
                            "<tr><td>07010141T</td><td>G.toll betét X20</td><td>145</td><td>15</td><td>NULL</td><td>7</td><td>600</td><td>db</td><td>Béla</td><td>2016-07-25</td></tr>",
                            "<tr><td>06040385T</td><td>Tempera szóló ezüst</td><td>141</td><td>96</td><td>NULL</td><td>8</td><td>100</td><td>db</td><td>Sára</td><td>2016-07-24</td></tr>",
                            "<tr><td>03050077T</td><td>Diszkötöző szalag arany</td><td>28</td><td>44</td><td>NULL</td><td>8</td><td>100</td><td>db</td><td>Mari</td><td>2016-07-24</td></tr>",
                            "<tr><td>02080081T</td><td>Dvd</td><td>29</td><td>133</td><td>NULL</td><td>9</td><td>1300</td><td>db</td><td>Sára</td><td>2016-07-24</td></tr>",
                            "<tr><td>02040506T</td><td>Fólia tasakos A4 125 mik.</td><td>43</td><td>44</td><td>NULL</td><td>9</td><td>100</td><td>ív</td><td>Mari</td><td>2016-07-24</td></tr>",
                            "<tr><td>03080015T</td><td>Ajándék csom. gyűrt</td><td>6</td><td>169</td><td>NULL</td><td>9</td><td>1300</td><td>db</td><td>Béla</td><td>2016-07-24</td></tr>",
                            "<tr><td>03080016T</td><td>házt.csom.  5 ív</td><td>22</td><td>110</td><td>NULL</td><td>8</td><td>200</td><td>csomag</td><td>Béla</td><td>2016-07-24</td></tr>",
                            "<tr><td>04020445T</td><td>Határidő napló 2010-s</td><td>62</td><td>728</td><td>NULL</td><td>9</td><td>600</td><td>db</td><td>Sára</td><td>2016-07-24</td></tr>",
                            "<tr><td>02080454T</td><td>Lyukasztó BOXER</td><td>95</td><td>765</td><td>NULL</td><td>9</td><td>400</td><td>db</td><td>Sára</td><td>2016-07-24</td></tr>",
                            "<tr><td>04110274T</td><td>Matrica autóra H</td><td>97</td><td>49</td><td>NULL</td><td>5</td><td>300</td><td>db</td><td>Béla</td><td>2016-07-24</td></tr>",
                            "<tr><td>06040246T</td><td>Körző</td><td>89</td><td>161</td><td>NULL</td><td>5</td><td>100</td><td>db</td><td>Béla</td><td>2016-07-24</td></tr>",
                            "<tr><td>06040247T</td><td>Körzőhegy grafit</td><td>89</td><td>30</td><td>NULL</td><td>8</td><td>2200</td><td>db</td><td>Béla</td><td>2016-07-24</td></tr>",
                            "<tr><td>06040356T</td><td>Sp.Füzet A/4  70es</td><td>45</td><td>144</td><td>NULL</td><td>8</td><td>100</td><td>db</td><td>Mari</td><td>2016-07-24</td></tr>",
                            "<tr><td>06040357T</td><td>Sp.Füzet A/5 70-es</td><td>45</td><td>89</td><td>NULL</td><td>6</td><td>4400</td><td>db</td><td>Mari</td><td>2016-07-24</td></tr>",
                            "<tr><td>06040378T</td><td>Szövegkiemelő vékony</td><td>138</td><td>89</td><td>NULL</td><td>8</td><td>100</td><td>db</td><td>Mari</td><td>2016-07-24</td></tr>",
                            "<tr><td>06040379T</td><td>Szövegkiemelő </td><td>138</td><td>93</td><td>NULL</td><td>9</td><td>200</td><td>db</td><td>Béla</td><td>2016-07-23</td></tr>",
                            "<tr><td>06040323T</td><td>Post-it 51×38 100 lapos</td><td>121</td><td>36</td><td>NULL</td><td>8</td><td>200</td><td>db</td><td>Béla</td><td>2016-07-23</td></tr>",
                            "<tr><td>06040324T</td><td>Post-it 75×75 100 lapos</td><td>121</td><td>89</td><td>NULL</td><td>7</td><td>1500</td><td>db</td><td>Sára</td><td>2016-07-23</td></tr>",
                            "<tr><td>04110283T</td><td>Meghívó állatos</td><td>98</td><td>155</td><td>NULL</td><td>5</td><td>100</td><td>db</td><td>Sára</td><td>2016-07-23</td></tr>",
                            "<tr><td>04110280T</td><td>Matrica tetoválós kicsi</td><td>97</td><td>148</td><td>NULL</td><td>9</td><td>300</td><td>db</td><td>Mari</td><td>2016-07-23</td></tr>",
                            "<tr><td>04030289T</td><td>Műanyag pohár 5 cl-es</td><td>25</td><td>15</td><td>NULL</td><td>6</td><td>2400</td><td>db</td><td>Béla</td><td>2016-07-23</td></tr>",
                            "<tr><td>04040090T</td><td>Emlékkönyv</td><td>32</td><td>526</td><td>NULL</td><td>6</td><td>7700</td><td>db</td><td>Béla</td><td>2016-07-23</td></tr>",
                            "<tr><td>04050075T</td><td>Díszdoboz tollnak 2 db-os keskeny</td><td>27</td><td>44</td><td>NULL</td><td>5</td><td>100</td><td>db</td><td>Béla</td><td>2016-07-23</td></tr>",
                            "<tr><td>04050171T</td><td>Gumilabda közepes</td><td>92</td><td>110</td><td>NULL</td><td>7</td><td>500</td><td>db</td><td>Béla</td><td>2016-07-23</td></tr>",
                            "<tr><td>04050187T</td><td>Hajgumi macis</td><td>61</td><td>66</td><td>NULL</td><td>8</td><td>700</td><td>db</td><td>Béla</td><td>2016-07-23</td></tr>",
                            "<tr><td>03080013T</td><td>Ajándék csom. 50x70 húsvéti</td><td>6</td><td>64</td><td>NULL</td><td>6</td><td>600</td><td>db</td><td>Béla</td><td>2016-07-23</td></tr>",
                            "<tr><td>03080014T</td><td>Ajándék csom. 70x50 metál</td><td>6</td><td>81</td><td>NULL</td><td>8</td><td>1000</td><td>db</td><td>Béla</td><td>2016-07-23</td></tr>",
                            "<tr><td>02040507T</td><td>Fólia tasakos A4 80 mik.</td><td>43</td><td>40</td><td>NULL</td><td>8</td><td>100</td><td>ív</td><td>Mari</td><td>2016-07-23</td></tr>",
                            "<tr><td>02050461T</td><td>Boríték B/4-es</td><td>16</td><td>18</td><td>NULL</td><td>8</td><td>100</td><td>db</td><td>Béla</td><td>2016-07-23</td></tr>",
                            "<tr><td>02060034T</td><td>Bélyegzőfesték </td><td>15</td><td>297</td><td>NULL</td><td>9</td><td>700</td><td>db</td><td>Béla</td><td>2016-07-23</td></tr>",
                            "<tr><td>02060038T</td><td>Bélyegző IDEAL 50</td><td>14</td><td>780</td><td>NULL</td><td>8</td><td>100</td><td>db</td><td>Béla</td><td>2016-07-23</td></tr>",
                            "<tr><td>02080449T</td><td>Térképtű színes</td><td>142</td><td>103</td><td>NULL</td><td>6</td><td>100</td><td>csomag</td><td>Mari</td><td>2016-07-23</td></tr>",
                            "<tr><td>02080450T</td><td>Gémkapocs 28-as színes</td><td>49</td><td>44</td><td>NULL</td><td>8</td><td>200</td><td>csomag</td><td>Mari</td><td>2016-07-23</td></tr>",
                            "<tr><td>02080451T</td><td>Gémkapocs 50-es</td><td>49</td><td>103</td><td>NULL</td><td>5</td><td>100</td><td>csomag</td><td>Mari</td><td>2016-07-23</td></tr>",
                            "<tr><td>02030044T</td><td>Boríték mintás</td><td>16</td><td>15</td><td>NULL</td><td>6</td><td>10000</td><td>db</td><td>Béla</td><td>2016-07-23</td></tr>",
                            "<tr><td>02040002T</td><td>irodai tűzőgép</td><td>149</td><td>2100</td><td>NULL</td><td>6</td><td>10000</td><td>db</td><td>Béla</td><td>2016-07-23</td></tr>",
                            "<tr><td>02040025T</td><td>Álló irattartó karton</td><td>70</td><td>133</td><td>NULL</td><td>8</td><td>200</td><td>db</td><td>Béla</td><td>2016-07-23</td></tr>",
                            "<tr><td>02040145T</td><td>Gemkapocs 28 mm</td><td>48</td><td>30</td><td>NULL</td><td>8</td><td>400</td><td>db</td><td>Béla</td><td>2016-07-23</td></tr>",
                            "<tr><td>02040146T</td><td>Gemkapocs ICO</td><td>48</td><td>48</td><td>NULL</td><td>7</td><td>3200</td><td>db</td><td>Béla</td><td>2016-07-23</td></tr>",
                            "<tr><td>02040147T</td><td>Genotherm lefűzhető A/5</td><td>51</td><td>8</td><td>NULL</td><td>8</td><td>1500</td><td>db</td><td>Béla</td><td>2016-07-23</td></tr>",
                            "<tr><td>02040176T</td><td>Gyorsfűző dosszié fehér</td><td>58</td><td>18</td><td>NULL</td><td>7</td><td>1200</td><td>db</td><td>Sára</td><td>2016-07-23</td></tr>",
                            "<tr><td>07030104T</td><td>Filctoll vastag ARTIP</td><td>41</td><td>76</td><td>NULL</td><td>8</td><td>400</td><td>db</td><td>Sára</td><td>2016-07-23</td></tr>",
                            "<tr><td>07030105T</td><td>Filctoll, alkoholos Centropen</td><td>41</td><td>114</td><td>NULL</td><td>5</td><td>200</td><td>db</td><td>Sára</td><td>2016-07-23</td></tr>",
                            "<tr><td>06080427T</td><td>Ablakkréta</td><td>78</td><td>161</td><td>NULL</td><td>9</td><td>200</td><td>db</td><td>Sára</td><td>2016-07-23</td></tr>",
                            "<tr><td>06080428T</td><td>Ecsetkészlet</td><td>30</td><td>180</td><td>NULL</td><td>8</td><td>500</td><td>db</td><td>Sára</td><td>2016-07-23</td></tr>",
                            "<tr><td>07040052T</td><td>Ceruza 2H-3B Koh-i-nor</td><td>19</td><td>53</td><td>NULL</td><td>5</td><td>100</td><td>db</td><td>Sára</td><td>2016-07-23</td></tr>",
                            "<tr><td>07040053T</td><td>Ceruza HB radiros</td><td>19</td><td>23</td><td>NULL</td><td>5</td><td>200</td><td>db</td><td>Sára</td><td>2016-07-23</td></tr>",
                            "<tr><td>L033-FE311</td><td>lány harisnya</td><td>35</td><td>990</td><td>fehér  </td><td>3</td><td>373</td><td>db</td><td>Sára</td><td>2016-07-23</td></tr>",
                            "<tr><td>06080430T</td><td>Öntapadős betűk</td><td>78</td><td>74</td><td>NULL</td><td>7</td><td>900</td><td>csomag</td><td>Béla</td><td>2016-07-22</td></tr>",
                            "<tr><td>06080414T</td><td>Vonalzó 20 cm-es </td><td>152</td><td>30</td><td>NULL</td><td>8</td><td>2600</td><td>db</td><td>Mari</td><td>2016-07-22</td></tr>",
                            "<tr><td>06080415T</td><td>Vonalzó 45 fokos</td><td>152</td><td>30</td><td>NULL</td><td>9</td><td>200</td><td>db</td><td>Mari</td><td>2016-07-22</td></tr>",
                            "<tr><td>06080416T</td><td>Vonalzó 60 fokos</td><td>152</td><td>33</td><td>NULL</td><td>6</td><td>100</td><td>db</td><td>Mari</td><td>2016-07-22</td></tr>",
                            "<tr><td>06080417T</td><td>Zászló papír</td><td>153</td><td>20</td><td>NULL</td><td>5</td><td>200</td><td>db</td><td>Mari</td><td>2016-07-22</td></tr>",
                            "<tr><td>06080422T</td><td>Füzettartó A/4</td><td>78</td><td>324</td><td>NULL</td><td>7</td><td>200</td><td>db</td><td>Mari</td><td>2016-07-22</td></tr>",
                            "<tr><td>06080423T</td><td>Beíró A/5 kockás</td><td>12</td><td>228</td><td>NULL</td><td>5</td><td>200</td><td>db</td><td>Mari</td><td>2016-07-22</td></tr>",
                            "<tr><td>07030103T</td><td>Filctoll TINTEN PEN</td><td>41</td><td>53</td><td>NULL</td><td>8</td><td>300</td><td>db</td><td>Béla</td><td>2016-07-22</td></tr>",
                            "<tr><td>06040386T</td><td>Tempera szóló színes</td><td>141</td><td>48</td><td>NULL</td><td>8</td><td>100</td><td>db</td><td>Mari</td><td>2016-07-22</td></tr>",
                            "<tr><td>02040405T</td><td>Tűzőkapocs 10-es</td><td>150</td><td>44</td><td>NULL</td><td>7</td><td>300</td><td>csomag</td><td>Mari</td><td>2016-07-22</td></tr>",
                            "<tr><td>02080455T</td><td>Festékpatron BCI-3BK</td><td>40</td><td>625</td><td>NULL</td><td>6</td><td>900</td><td>db</td><td>Mari</td><td>2016-07-22</td></tr>",
                            "<tr><td>03050458T</td><td>Ajándék cs. 2×100×70</td><td>6</td><td>148</td><td>NULL</td><td>7</td><td>8000</td><td>tekercs</td><td>Sára</td><td>2016-07-22</td></tr>",
                            "<tr><td>03050459T</td><td>Talpas tasak</td><td>6</td><td>40</td><td>NULL</td><td>8</td><td>2600</td><td>db</td><td>Sára</td><td>2016-07-22</td></tr>",
                            "<tr><td>03080003T</td><td>Ajándék cs. tasak italos</td><td>6</td><td>185</td><td>NULL</td><td>6</td><td>400</td><td>db</td><td>Sára</td><td>2016-07-22</td></tr>",
                            "<tr><td>03080004T</td><td>Ajándék cs. tasak italos, fólia</td><td>6</td><td>19</td><td>NULL</td><td>6</td><td>200</td><td>db</td><td>Sára</td><td>2016-07-22</td></tr>",
                            "<tr><td>04030234T</td><td>Képeslap karácsonyi</td><td>85</td><td>30</td><td>NULL</td><td>5</td><td>2100</td><td>db</td><td>Béla</td><td>2016-07-22</td></tr>",
                            "<tr><td>04030235T</td><td>Képeslap karácsonyi borítékos</td><td>85</td><td>73</td><td>NULL</td><td>7</td><td>900</td><td>db</td><td>Béla</td><td>2016-07-22</td></tr>",
                            "<tr><td>04030236T</td><td>Képeslap karácsonyi WD</td><td>85</td><td>15</td><td>NULL</td><td>6</td><td>10000</td><td>db</td><td>Béla</td><td>2016-07-22</td></tr>",
                            "<tr><td>03080030T</td><td>Ajándék cs. húsvéti 200x70</td><td>24</td><td>220</td><td>NULL</td><td>7</td><td>800</td><td>db</td><td>Mari</td><td>2016-07-22</td></tr>",
                            "<tr><td>03080020T</td><td>Ajándék csom. nagy  </td><td>24</td><td>44</td><td>NULL</td><td>9</td><td>800</td><td>ív</td><td>Sára</td><td>2016-07-22</td></tr>",
                            "<tr><td>04050203T</td><td>Hűtőmágnes</td><td>67</td><td>24</td><td>NULL</td><td>7</td><td>300</td><td>db</td><td>Mari</td><td>2016-07-22</td></tr>",
                            "<tr><td>04050204T</td><td>Hűtőmágnes WD</td><td>67</td><td>169</td><td>NULL</td><td>8</td><td>300</td><td>db</td><td>Mari</td><td>2016-07-22</td></tr>",
                            "<tr><td>04040387T</td><td>Tenisz labda</td><td>92</td><td>81</td><td>NULL</td><td>8</td><td>600</td><td>db</td><td>Béla</td><td>2016-07-22</td></tr>",
                            "<tr><td>04050022T</td><td>Álarc</td><td>7</td><td>89</td><td>NULL</td><td>8</td><td>500</td><td>db</td><td>Béla</td><td>2016-07-22</td></tr>",
                            "<tr><td>04110275T</td><td>Matrica motoros kicsi</td><td>97</td><td>49</td><td>NULL</td><td>9</td><td>200</td><td>db</td><td>Mari</td><td>2016-07-22</td></tr>",
                            "<tr><td>04110276T</td><td>Matrica Stickers nagy állatos</td><td>97</td><td>109</td><td>NULL</td><td>9</td><td>400</td><td>db</td><td>Mari</td><td>2016-07-22</td></tr>",
                            "<tr><td>06040381T</td><td>Szövegkiemelő Videotip</td><td>138</td><td>103</td><td>NULL</td><td>6</td><td>100</td><td>csomag</td><td>Béla</td><td>2016-07-22</td></tr>",
                            "<tr><td>06040382T</td><td>Táblafilc</td><td>139</td><td>633</td><td>NULL</td><td>9</td><td>500</td><td>csomag</td><td>Béla</td><td>2016-07-22</td></tr>",
                            "<tr><td>06040383T</td><td>Taffet papír</td><td>78</td><td>19</td><td>NULL</td><td>6</td><td>300</td><td>db</td><td>Béla</td><td>2016-07-22</td></tr>",
                            "<tr><td>06040384T</td><td>Technika cs. I-II-III-IV</td><td>78</td><td>58</td><td>NULL</td><td>5</td><td>500</td><td>db</td><td>Béla</td><td>2016-07-22</td></tr>",
                            "<tr><td>06040248T</td><td>Körző maped</td><td>89</td><td>243</td><td>NULL</td><td>6</td><td>300</td><td>db</td><td>Béla</td><td>2016-07-21</td></tr>",
                            "<tr><td>06040355T</td><td>Sp.Füzet A/4 70-as</td><td>45</td><td>155</td><td>NULL</td><td>8</td><td>600</td><td>db</td><td>Béla</td><td>2016-07-21</td></tr>",
                            "<tr><td>04110277T</td><td>Matrica Stickers szíves</td><td>97</td><td>93</td><td>NULL</td><td>6</td><td>900</td><td>db</td><td>Béla</td><td>2016-07-21</td></tr>",
                            "<tr><td>04110278T</td><td>Matrica Test ékszer tattoo</td><td>97</td><td>161</td><td>NULL</td><td>8</td><td>500</td><td>db</td><td>Béla</td><td>2016-07-21</td></tr>",
                            "<tr><td>04110279T</td><td>Matrica tetoválás</td><td>97</td><td>168</td><td>NULL</td><td>7</td><td>700</td><td>db</td><td>Béla</td><td>2016-07-21</td></tr>",
                            "<tr><td>04030239T</td><td>Képeslap stancolt szív</td><td>85</td><td>48</td><td>NULL</td><td>9</td><td>400</td><td>db</td><td>Béla</td><td>2016-07-21</td></tr>",
                            "<tr><td>02080456T</td><td>Genoterm HERLITZ 10-es</td><td>50</td><td>89</td><td>NULL</td><td>7</td><td>500</td><td>csomag</td><td>Béla</td><td>2016-07-21</td></tr>",
                            "<tr><td>02040406T</td><td>Tűzőkapocs 24/6</td><td>150</td><td>34</td><td>NULL</td><td>9</td><td>4200</td><td>csomag</td><td>Mari</td><td>2016-07-21</td></tr>",
                            "<tr><td>03050078T</td><td>Díszkötöző szalag metál kicsi</td><td>28</td><td>15</td><td>NULL</td><td>8</td><td>100</td><td>db</td><td>Mari</td><td>2016-07-21</td></tr>",
                            "<tr><td>02040177T</td><td>Gyorsfűző műa.</td><td>58</td><td>30</td><td>NULL</td><td>5</td><td>200</td><td>db</td><td>Béla</td><td>2016-07-21</td></tr>",
                            "<tr><td>02040178T</td><td>Gyorsfűző műa.</td><td>58</td><td>35</td><td>NULL</td><td>8</td><td>1000</td><td>db</td><td>Béla</td><td>2016-07-21</td></tr>",
                            "<tr><td>02040194T</td><td>Hibajav.roll.Pritt 4,2mm</td><td>66</td><td>794</td><td>NULL</td><td>8</td><td>500</td><td>db</td><td>Béla</td><td>2016-07-21</td></tr>",
                            "<tr><td>02040401T</td><td>Tűzőgép Boxer 10</td><td>149</td><td>339</td><td>NULL</td><td>8</td><td>300</td><td>db</td><td>Mari</td><td>2016-07-21</td></tr>",
                            "<tr><td>02040402T</td><td>Tűzőgép Boxer </td><td>149</td><td>286</td><td>NULL</td><td>5</td><td>900</td><td>db</td><td>Mari</td><td>2016-07-21</td></tr>",
                            "<tr><td>02040403T</td><td>Tűzőgép SAX 239</td><td>149</td><td>1351</td><td>NULL</td><td>5</td><td>1100</td><td>db</td><td>Mari</td><td>2016-07-21</td></tr>",
                            "<tr><td>02040404T</td><td>Tűzőgép EAGLE</td><td>149</td><td>405</td><td>NULL</td><td>8</td><td>300</td><td>db</td><td>Mari</td><td>2016-07-21</td></tr>",
                            "<tr><td>07030106T</td><td>Filctoll, alkoholosOHP F-M-C</td><td>41</td><td>103</td><td>NULL</td><td>9</td><td>700</td><td>db</td><td>Mari</td><td>2016-07-21</td></tr>",
                            "<tr><td>07030107T</td><td>Filctoll, textil Edding 4500</td><td>41</td><td>276</td><td>NULL</td><td>5</td><td>1000</td><td>db</td><td>Mari</td><td>2016-07-21</td></tr>",
                            "<tr><td>07030108T</td><td>Filctoll CD író</td><td>41</td><td>0</td><td>NULL</td><td>5</td><td>500</td><td>db</td><td>Mari</td><td>2016-07-21</td></tr>",
                            "<tr><td>07040047T</td><td>Ceruza 2H-4B</td><td>19</td><td>39</td><td>NULL</td><td>5</td><td>200</td><td>db</td><td>Mari</td><td>2016-07-21</td></tr>",
                            "<tr><td>07040048T</td><td>Ceruza arany, ezüst</td><td>19</td><td>55</td><td>NULL</td><td>6</td><td>1900</td><td>db</td><td>Mari</td><td>2016-07-21</td></tr>",
                            "<tr><td>07040049T</td><td>Ceruza Conté zöld</td><td>19</td><td>40</td><td>NULL</td><td>9</td><td>100</td><td>db</td><td>Mari</td><td>2016-07-21</td></tr>",
                            "<tr><td>07040050T</td><td>Ceruza Cseh</td><td>19</td><td>30</td><td>NULL</td><td>6</td><td>200</td><td>db</td><td>Mari</td><td>2016-07-21</td></tr>",
                            "<tr><td>07040051T</td><td>Ceruza háromszög </td><td>19</td><td>39</td><td>NULL</td><td>6</td><td>500</td><td>db</td><td>Mari</td><td>2016-07-21</td></tr>",
                            "<tr><td>06080441T</td><td>Gyurmakés</td><td>59</td><td>121</td><td>NULL</td><td>9</td><td>300</td><td>csomag</td><td>Béla</td><td>2016-07-21</td></tr>",
                            "<tr><td>06080440T</td><td>Gyurma 12 szinű</td><td>59</td><td>161</td><td>NULL</td><td>5</td><td>1900</td><td>csomag</td><td>Béla</td><td>2016-07-20</td></tr>",
                            "<tr><td>L041-AL211</td><td>lány ünneplős ruha</td><td>8</td><td>16900</td><td>NULL</td><td>3</td><td>325</td><td>db</td><td>Sára</td><td>2016-07-20</td></tr>",
                            "<tr><td>L048-PO218</td><td>gyermek póló (lány)</td><td>57</td><td>3900</td><td>hercegnős (pamut) </td><td>3</td><td>113</td><td>db</td><td>Sára</td><td>2016-07-20</td></tr>",
                            "<tr><td>N039-AL222</td><td>kosztüm (hosszú)</td><td>88</td><td>46000</td><td>tört fehér  </td><td>2</td><td>238</td><td>db</td><td>Mari</td><td>2016-07-20</td></tr>",
                            "<tr><td>02030043T</td><td>Boríték légp. kicsi</td><td>16</td><td>39</td><td>NULL</td><td>7</td><td>2500</td><td>db</td><td>Sára</td><td>2016-07-20</td></tr>",
                            "<tr><td>03050079T</td><td>Díszkötöző szalag vékony</td><td>28</td><td>15</td><td>NULL</td><td>8</td><td>40000</td><td>db</td><td>Mari</td><td>2016-07-20</td></tr>",
                            "<tr><td>02080511T</td><td>Oki toner C</td><td>147</td><td>14250</td><td>NULL</td><td>8</td><td>100</td><td>db</td><td>Béla</td><td>2016-07-20</td></tr>",
                            "<tr><td>02080514T</td><td>Spirál 1/4 </td><td>131</td><td>45</td><td>NULL</td><td>9</td><td>300</td><td>db</td><td>Béla</td><td>2016-07-20</td></tr>",
                            "<tr><td>04030240T</td><td>Képeslap virágos</td><td>85</td><td>14</td><td>NULL</td><td>7</td><td>1600</td><td>db</td><td>Sára</td><td>2016-07-20</td></tr>",
                            "<tr><td>06040354T</td><td>Sp.Füzet A/4  perforált, lyuk.</td><td>45</td><td>206</td><td>NULL</td><td>5</td><td>800</td><td>db</td><td>Sára</td><td>2016-07-20</td></tr>",
                            "<tr><td>06040380T</td><td>Szövegkiemelő</td><td>138</td><td>78</td><td>NULL</td><td>5</td><td>500</td><td>db</td><td>Sára</td><td>2016-07-20</td></tr>",
                            "<tr><td>06040325T</td><td>Radír gyümölcsös</td><td>122</td><td>40</td><td>NULL</td><td>9</td><td>2600</td><td>db</td><td>Béla</td><td>2016-07-20</td></tr>",
                            "<tr><td>06040326T</td><td>Radír KOH-I-NOR 80</td><td>122</td><td>19</td><td>NULL</td><td>8</td><td>100</td><td>db</td><td>Béla</td><td>2016-07-20</td></tr>",
                            "<tr><td>02080453T</td><td>Lyukasztó EAGLE</td><td>95</td><td>526</td><td>NULL</td><td>7</td><td>600</td><td>db</td><td>Mari</td><td>2016-07-19</td></tr>",
                            "<tr><td>02040208T</td><td>Iratgyűjtő fehér</td><td>70</td><td>19</td><td>NULL</td><td>8</td><td>400</td><td>db</td><td>Mari</td><td>2016-07-19</td></tr>",
                            "<tr><td>02040209T</td><td>Iratsín fehér</td><td>72</td><td>44</td><td>NULL</td><td>7</td><td>600</td><td>db</td><td>Mari</td><td>2016-07-19</td></tr>",
                            "<tr><td>02040210T</td><td>Iratsín kék</td><td>72</td><td>89</td><td>NULL</td><td>6</td><td>2500</td><td>db</td><td>Mari</td><td>2016-07-19</td></tr>",
                            "<tr><td>02040195T</td><td>Hibajavító ecsetes Aqua</td><td>66</td><td>185</td><td>NULL</td><td>5</td><td>400</td><td>db</td><td>Béla</td><td>2016-07-19</td></tr>",
                            "<tr><td>02040196T</td><td>Hibajavító készlet Blanco</td><td>66</td><td>273</td><td>NULL</td><td>7</td><td>100</td><td>db</td><td>Béla</td><td>2016-07-19</td></tr>",
                            "<tr><td>02040197T</td><td>Hibajavító lap </td><td>66</td><td>81</td><td>NULL</td><td>9</td><td>100</td><td>db</td><td>Béla</td><td>2016-07-19</td></tr>",
                            "<tr><td>02040198T</td><td>Hibajavító roller 5 mm</td><td>66</td><td>133</td><td>NULL</td><td>7</td><td>200</td><td>db</td><td>Béla</td><td>2016-07-19</td></tr>",
                            "<tr><td>02040199T</td><td>Hibajavító roller Pax</td><td>66</td><td>286</td><td>NULL</td><td>7</td><td>300</td><td>db</td><td>Béla</td><td>2016-07-19</td></tr>",
                            "<tr><td>02020029T</td><td>Átírótömb A/6</td><td>11</td><td>115</td><td>NULL</td><td>8</td><td>200</td><td>db</td><td>Sára</td><td>2016-07-19</td></tr>",
                            "<tr><td>L073-CI410</td><td>gyermek cipő (lány)</td><td>54</td><td>7900</td><td>NULL</td><td>3</td><td>323</td><td>db</td><td>Sára</td><td>2016-07-19</td></tr>",
                            "<tr><td>L082-CI419</td><td>gyermek csizma (lány)</td><td>54</td><td>8000</td><td>NULL</td><td>1</td><td>264</td><td>db</td><td>Sára</td><td>2016-07-19</td></tr>",
                            "<tr><td>06040393T</td><td>Tolltartó 2 részes NG.</td><td>146</td><td>765</td><td>NULL</td><td>9</td><td>1000</td><td>db</td><td>Sára</td><td>2016-07-19</td></tr>",
                            "<tr><td>06040394T</td><td>Tolltartó zipzáras</td><td>146</td><td>324</td><td>NULL</td><td>5</td><td>100</td><td>db</td><td>Béla</td><td>2016-07-18</td></tr>",
                            "<tr><td>06040395T</td><td>Tolltartó 2 zipzáros töltött</td><td>146</td><td>728</td><td>NULL</td><td>7</td><td>700</td><td>db</td><td>Béla</td><td>2016-07-18</td></tr>",
                            "<tr><td>06040396T</td><td>Tolltartó Garfield</td><td>146</td><td>410</td><td>NULL</td><td>7</td><td>2900</td><td>db</td><td>Béla</td><td>2016-07-18</td></tr>",
                            "<tr><td>06080413T</td><td>Vonalzó 30 cm</td><td>152</td><td>30</td><td>NULL</td><td>8</td><td>100</td><td>db</td><td>Sára</td><td>2016-07-18</td></tr>",
                            "<tr><td>06080411T</td><td>Vonalzó 15 cm-es ESSELTE</td><td>152</td><td>58</td><td>NULL</td><td>8</td><td>100</td><td>db</td><td>Sára</td><td>2016-07-18</td></tr>",
                            "<tr><td>N001-KB101</td><td>női szövet kabát</td><td>107</td><td>24000</td><td>piros (szövet) </td><td>1</td><td>77</td><td>db</td><td>Béla</td><td>2016-07-18</td></tr>",
                            "<tr><td>N008-NA201</td><td>női farmer nadrág</td><td>108</td><td>8290</td><td>kék (farmer) </td><td>2</td><td>289</td><td>db</td><td>Mari</td><td>2016-07-18</td></tr>",
                            "<tr><td>N019-FE301</td><td>női alsó</td><td>35</td><td>690</td><td>fekete (pamut) </td><td>2</td><td>53</td><td>db</td><td>Mari</td><td>2016-07-18</td></tr>",
                            "<tr><td>N029-AL212</td><td>női koktélruha</td><td>8</td><td>32000</td><td>fekete  </td><td>4</td><td>283</td><td>db</td><td>Mari</td><td>2016-07-18</td></tr>",
                            "<tr><td>02040148T</td><td>Genotherm lefűzhető A4 10db-os</td><td>51</td><td>63</td><td>NULL</td><td>9</td><td>200</td><td>csomag</td><td>Béla</td><td>2016-07-18</td></tr>",
                            "<tr><td>02040149T</td><td>Genotherm A4 10db-os</td><td>51</td><td>110</td><td>NULL</td><td>7</td><td>4700</td><td>csomag</td><td>Béla</td><td>2016-07-18</td></tr>",
                            "<tr><td>02080452T</td><td>Tűzőgép mini</td><td>149</td><td>438</td><td>NULL</td><td>6</td><td>200</td><td>db</td><td>Mari</td><td>2016-07-18</td></tr>",
                            "<tr><td>04030238T</td><td>Képeslap stancolt</td><td>85</td><td>59</td><td>NULL</td><td>9</td><td>300</td><td>db</td><td>Sára</td><td>2016-07-18</td></tr>",
                            "<tr><td>04030237T</td><td>Képeslap kerek</td><td>85</td><td>36</td><td>NULL</td><td>9</td><td>100</td><td>db</td><td>Béla</td><td>2016-07-17</td></tr>",
                            "<tr><td>03050080T</td><td>Diszkötöző széles szalag</td><td>28</td><td>81</td><td>NULL</td><td>6</td><td>26000</td><td>db</td><td>Béla</td><td>2016-07-17</td></tr>",
                            "<tr><td>03050457T</td><td>Ajándék cs. tasak kicsi</td><td>6</td><td>26</td><td>NULL</td><td>6</td><td>50000</td><td>db</td><td>Béla</td><td>2016-07-17</td></tr>",
                            "<tr><td>06040327T</td><td>Radír Koh-i-nor 40</td><td>122</td><td>36</td><td>NULL</td><td>9</td><td>2200</td><td>db</td><td>Béla</td><td>2016-07-17</td></tr>",
                            "<tr><td>06040328T</td><td>Radír Maped</td><td>122</td><td>44</td><td>NULL</td><td>8</td><td>2400</td><td>db</td><td>Béla</td><td>2016-07-17</td></tr>",
                            "<tr><td>06040329T</td><td>Radír stabilo</td><td>122</td><td>44</td><td>NULL</td><td>6</td><td>1700</td><td>db</td><td>Béla</td><td>2016-07-17</td></tr>",
                            "<tr><td>L064-CI401</td><td>gyermek szandál (lány)</td><td>54</td><td>6900</td><td>NULL</td><td>3</td><td>119</td><td>db</td><td>Mari</td><td>2016-07-17</td></tr>",
                            "<tr><td>06040397T</td><td>Tolltartó asztali</td><td>146</td><td>655</td><td>NULL</td><td>8</td><td>700</td><td>csomag</td><td>Sára</td><td>2016-07-17</td></tr>",
                            "<tr><td>06040398T</td><td>Tolltartó hengeres </td><td>146</td><td>411</td><td>NULL</td><td>5</td><td>100</td><td>db</td><td>Sára</td><td>2016-07-17</td></tr>",
                            "<tr><td>06040399T</td><td>Tombola tömb</td><td>78</td><td>125</td><td>NULL</td><td>7</td><td>100</td><td>db</td><td>Sára</td><td>2016-07-17</td></tr>",
                            "<tr><td>06040400T</td><td>Tornazsák</td><td>78</td><td>511</td><td>NULL</td><td>8</td><td>200</td><td>db</td><td>Sára</td><td>2016-07-17</td></tr>",
                            "<tr><td>06040446T</td><td>Számológép tudományos</td><td>134</td><td>1173</td><td>NULL</td><td>5</td><td>200</td><td>db</td><td>Sára</td><td>2016-07-17</td></tr>",
                            "<tr><td>06040392T</td><td>Tolltartó 1 zipzáros</td><td>146</td><td>728</td><td>NULL</td><td>7</td><td>400</td><td>db</td><td>Sára</td><td>2016-07-17</td></tr>",
                            "<tr><td>06040352T</td><td>Rovatolt papír 20 íves</td><td>78</td><td>103</td><td>NULL</td><td>6</td><td>0</td><td>db</td><td>Mari</td><td>2016-07-16</td></tr>",
                            "<tr><td>06040353T</td><td>Sorvezető</td><td>78</td><td>8</td><td>NULL</td><td>5</td><td>600</td><td>db</td><td>Béla</td><td>2016-07-16</td></tr>",
                            "<tr><td>02040308T</td><td>Pénztárgépsz. 2 pl. nem öníró</td><td>117</td><td>81</td><td>NULL</td><td>9</td><td>300</td><td>db</td><td>Mari</td><td>2016-07-16</td></tr>",
                            "<tr><td>02040309T</td><td>Pénztárgépszalag 2pl SC 57.5/60</td><td>117</td><td>93</td><td>NULL</td><td>6</td><td>100</td><td>db</td><td>Mari</td><td>2016-07-16</td></tr>",
                            "<tr><td>02020032T</td><td>Beírókönyv A5 </td><td>13</td><td>133</td><td>NULL</td><td>8</td><td>200</td><td>db</td><td>Sára</td><td>2016-07-16</td></tr>",
                            "<tr><td>02010028T</td><td>Árazószalag </td><td>10</td><td>106</td><td>NULL</td><td>9</td><td>100</td><td>db</td><td>Sára</td><td>2016-07-16</td></tr>",
                            "<tr><td>02030042T</td><td>Boríték LC 6</td><td>16</td><td>3</td><td>NULL</td><td>6</td><td>2000</td><td>db</td><td>Mari</td><td>2016-07-15</td></tr>",
                            "<tr><td>06050249T</td><td>Krepp papír</td><td>78</td><td>73</td><td>NULL</td><td>5</td><td>500</td><td>db</td><td>Mari</td><td>2016-07-15</td></tr>",
                            "<tr><td>06050301T</td><td>Olló gyerek </td><td>111</td><td>133</td><td>NULL</td><td>8</td><td>100</td><td>db</td><td>Mari</td><td>2016-07-15</td></tr>",
                            "<tr><td>06050302T</td><td>Olló Tagit 18 cm-es</td><td>111</td><td>176</td><td>NULL</td><td>5</td><td>400</td><td>db</td><td>Mari</td><td>2016-07-15</td></tr>",
                            "<tr><td>06080410T</td><td>Vízfesték 12db-os kínai</td><td>151</td><td>176</td><td>NULL</td><td>6</td><td>100</td><td>db</td><td>Béla</td><td>2016-07-15</td></tr>",
                            "<tr><td>06080412T</td><td>Vonalzó 16 cm-es LIZZY</td><td>152</td><td>30</td><td>NULL</td><td>7</td><td>100</td><td>db</td><td>Sára</td><td>2016-07-15</td></tr>",
                            "<tr><td>N035-AL218</td><td>kosztüm (rövid)</td><td>88</td><td>39000</td><td>szürke  </td><td>3</td><td>369</td><td>db</td><td>Sára</td><td>2016-07-15</td></tr>",
                            "<tr><td>U001-KI501</td><td>sál</td><td>130</td><td>1990</td><td>sárga (kötött) </td><td>1</td><td>77</td><td>db</td><td>Mari</td><td>2016-07-15</td></tr>",
                            "<tr><td>06080407T</td><td>Vízfesték  12 színű nagy</td><td>151</td><td>249</td><td>NULL</td><td>7</td><td>100</td><td>db</td><td>Sára</td><td>2016-07-14</td></tr>",
                            "<tr><td>06080408T</td><td>Vízfesték 12 db-os </td><td>151</td><td>210</td><td>NULL</td><td>7</td><td>100</td><td>db</td><td>Sára</td><td>2016-07-14</td></tr>",
                            "<tr><td>06080409T</td><td>Vízfesték 12 színű kerek</td><td>151</td><td>180</td><td>NULL</td><td>6</td><td>100</td><td>db</td><td>Sára</td><td>2016-07-14</td></tr>",
                            "<tr><td>06080124T</td><td>Füzettartó A/4 keménytáblás</td><td>47</td><td>508</td><td>NULL</td><td>6</td><td>900</td><td>db</td><td>Mari</td><td>2016-07-14</td></tr>",
                            "<tr><td>06080125T</td><td>Füzettartó A/5 vastag</td><td>47</td><td>411</td><td>NULL</td><td>7</td><td>400</td><td>db</td><td>Mari</td><td>2016-07-14</td></tr>",
                            "<tr><td>06080188T</td><td>Hegyező gép</td><td>64</td><td>875</td><td>NULL</td><td>8</td><td>900</td><td>db</td><td>Sára</td><td>2016-07-14</td></tr>",
                            "<tr><td>06080117T</td><td>Füzetborító A/4 átlátszó</td><td>46</td><td>10</td><td>NULL</td><td>6</td><td>600</td><td>db</td><td>Mari</td><td>2016-07-14</td></tr>",
                            "<tr><td>02040200T</td><td>Hibajavító Kores mini pen</td><td>66</td><td>278</td><td>NULL</td><td>6</td><td>300</td><td>db</td><td>Mari</td><td>2016-07-14</td></tr>",
                            "<tr><td>02040206T</td><td>Írásvetítő fólia</td><td>155</td><td>81</td><td>NULL</td><td>8</td><td>100</td><td>db</td><td>Mari</td><td>2016-07-14</td></tr>",
                            "<tr><td>02040207T</td><td>Iratgyűjtő ESSELTE ablakos</td><td>70</td><td>19</td><td>NULL</td><td>6</td><td>1500</td><td>db</td><td>Mari</td><td>2016-07-14</td></tr>",
                            "<tr><td>02040211T</td><td>Iratrendező ESSELTE</td><td>71</td><td>243</td><td>NULL</td><td>9</td><td>700</td><td>db</td><td>Béla</td><td>2016-07-14</td></tr>",
                            "<tr><td>02040296T</td><td>Notesz A/6 College</td><td>106</td><td>56</td><td>NULL</td><td>6</td><td>2000</td><td>db</td><td>Mari</td><td>2016-07-14</td></tr>",
                            "<tr><td>02040297T</td><td>Notesz sima spirál College</td><td>106</td><td>103</td><td>NULL</td><td>9</td><td>1900</td><td>db</td><td>Mari</td><td>2016-07-14</td></tr>",
                            "<tr><td>02040298T</td><td>Notesz mintás</td><td>106</td><td>44</td><td>NULL</td><td>6</td><td>300</td><td>db</td><td>Mari</td><td>2016-07-14</td></tr>",
                            "<tr><td>01030092T</td><td>Esküvői meghívó</td><td>98</td><td>59</td><td>NULL</td><td>9</td><td>100</td><td>db</td><td>Sára</td><td>2016-07-13</td></tr>",
                            "<tr><td>01040307T</td><td>Pausz papír A/4</td><td>115</td><td>15</td><td>NULL</td><td>8</td><td>200</td><td>ív</td><td>Sára</td><td>2016-07-13</td></tr>",
                            "<tr><td>01040502T</td><td>Előlap spirálhoz</td><td>31</td><td>25</td><td>NULL</td><td>5</td><td>100</td><td>db</td><td>Sára</td><td>2016-07-13</td></tr>",
                            "<tr><td>01080093T</td><td>Fax papír 15 m</td><td>34</td><td>161</td><td>NULL</td><td>9</td><td>300</td><td>db</td><td>Sára</td><td>2016-07-13</td></tr>",
                            "<tr><td>01080512T</td><td>Öntapadó A/4</td><td>112</td><td>4575</td><td>NULL</td><td>5</td><td>100</td><td>doboz</td><td>Sára</td><td>2016-07-13</td></tr>",
                            "<tr><td>06080116T</td><td>Füzet A5 1-8 osz.-ig</td><td>45</td><td>34</td><td>NULL</td><td>7</td><td>200</td><td>db</td><td>Béla</td><td>2016-07-13</td></tr>",
                            "<tr><td>06050303T</td><td>Olló, iskolai</td><td>111</td><td>161</td><td>NULL</td><td>7</td><td>100</td><td>db</td><td>Sára</td><td>2016-07-12</td></tr>",
                            "<tr><td>01010001T</td><td>félfamentes rajzlap A4 (10 lap)</td><td>127</td><td>342</td><td>NULL</td><td>9</td><td>3000</td><td>csomag</td><td>Béla</td><td>2016-07-12</td></tr>",
                            "<tr><td>01010110T</td><td>Fotópapír A/4 fényes</td><td>44</td><td>30</td><td>NULL</td><td>9</td><td>200</td><td>db</td><td>Béla</td><td>2016-07-12</td></tr>",
                            "<tr><td>02030041T</td><td>Boríték LC 5</td><td>16</td><td>6</td><td>NULL</td><td>9</td><td>2000</td><td>db</td><td>Mari</td><td>2016-07-12</td></tr>",
                            "<tr><td>01020300T</td><td>Oklevél A/4 színes</td><td>110</td><td>55</td><td>NULL</td><td>9</td><td>200</td><td>db</td><td>Béla</td><td>2016-07-12</td></tr>",
                            "<tr><td>01030091T</td><td>Emléklap A/5</td><td>33</td><td>26</td><td>NULL</td><td>7</td><td>200</td><td>db</td><td>Béla</td><td>2016-07-12</td></tr>",
                            "<tr><td>01100509T</td><td>Márványos A/4</td><td>83</td><td>40</td><td>NULL</td><td>6</td><td>100</td><td>ív</td><td>Sára</td><td>2016-07-12</td></tr>",
                            "<tr><td>01100510T</td><td>Kreatív A/4 120g </td><td>90</td><td>13</td><td>NULL</td><td>5</td><td>200</td><td>ív</td><td>Sára</td><td>2016-07-12</td></tr>",
                            "<tr><td>06040330T</td><td>Radír Tikky 30 </td><td>122</td><td>50</td><td>NULL</td><td>7</td><td>1100</td><td>db</td><td>Sára</td><td>2016-07-12</td></tr>",
                            "<tr><td>06040331T</td><td>Radír Tikky 40 </td><td>122</td><td>49</td><td>NULL</td><td>8</td><td>200</td><td>db</td><td>Sára</td><td>2016-07-12</td></tr>",
                            "<tr><td>06040347T</td><td>Rajzlap A/4 10db ffam.</td><td>127</td><td>28</td><td>NULL</td><td>5</td><td>200</td><td>csomag</td><td>Sára</td><td>2016-07-12</td></tr>",
                            "<tr><td>06040350T</td><td>Regiszteres füzet A4</td><td>129</td><td>256</td><td>NULL</td><td>9</td><td>500</td><td>db</td><td>Béla</td><td>2016-07-12</td></tr>",
                            "<tr><td>06040351T</td><td>Regiszteres füzet A5 Hightech</td><td>129</td><td>203</td><td>NULL</td><td>5</td><td>200</td><td>db</td><td>Sára</td><td>2016-07-11</td></tr>",
                            "<tr><td>02020033T</td><td>Beírókönyv A4</td><td>13</td><td>328</td><td>NULL</td><td>5</td><td>100</td><td>db</td><td>Sára</td><td>2016-07-11</td></tr>",
                            "<tr><td>02020037T</td><td>Bevételi pénztárbizonylat 3×25</td><td>116</td><td>144</td><td>NULL</td><td>6</td><td>300</td><td>db</td><td>Sára</td><td>2016-07-11</td></tr>",
                            "<tr><td>02020245T</td><td>Kiadási pénztárbizonylat 2×25</td><td>116</td><td>103</td><td>NULL</td><td>7</td><td>400</td><td>db</td><td>Sára</td><td>2016-07-11</td></tr>",
                            "<tr><td>02020444T</td><td>Határidő napló A/6</td><td>62</td><td>464</td><td>NULL</td><td>9</td><td>2700</td><td>db</td><td>Sára</td><td>2016-07-11</td></tr>",
                            "<tr><td>02030040T</td><td>Boríték LA 4 francia</td><td>16</td><td>6</td><td>NULL</td><td>6</td><td>100</td><td>db</td><td>Sára</td><td>2016-07-11</td></tr>",
                            "<tr><td>01010304T</td><td>Öntapadós hologramos papír A/4</td><td>112</td><td>59</td><td>NULL</td><td>8</td><td>1100</td><td>db</td><td>Sára</td><td>2016-07-11</td></tr>",
                            "<tr><td>01080513T</td><td>Selyemfényű karton A/4</td><td>83</td><td>38</td><td>NULL</td><td>8</td><td>100</td><td>ív</td><td>Sára</td><td>2016-07-11</td></tr>",
                            "<tr><td>02040295T</td><td>Notesz A/5 sima spirál</td><td>106</td><td>89</td><td>NULL</td><td>9</td><td>4100</td><td>db</td><td>Mari</td><td>2016-07-11</td></tr>",
                            "<tr><td>02040214T</td><td>Iromány fedél feles</td><td>74</td><td>59</td><td>NULL</td><td>5</td><td>300</td><td>db</td><td>Mari</td><td>2016-07-11</td></tr>",
                            "<tr><td>06080339T</td><td>Ragasztó kores</td><td>124</td><td>89</td><td>NULL</td><td>5</td><td>900</td><td>db</td><td>Mari</td><td>2016-07-11</td></tr>",
                            "<tr><td>06080191T</td><td>Hegyező tartályos egyes</td><td>64</td><td>30</td><td>NULL</td><td>8</td><td>300</td><td>db</td><td>Sára</td><td>2016-07-10</td></tr>",
                            "<tr><td>06080123T</td><td>Füzettartó A/4 keménytáblás</td><td>47</td><td>551</td><td>NULL</td><td>6</td><td>2000</td><td>db</td><td>Sára</td><td>2016-07-10</td></tr>",
                            "<tr><td>02040290T</td><td>Naptár 24-es</td><td>103</td><td>89</td><td>NULL</td><td>8</td><td>300</td><td>db</td><td>Mari</td><td>2016-07-10</td></tr>",
                            "<tr><td>02040291T</td><td>Naptárhát kicsi</td><td>104</td><td>15</td><td>NULL</td><td>8</td><td>1400</td><td>db</td><td>Mari</td><td>2016-07-10</td></tr>",
                            "<tr><td>01100504T</td><td>Fehér másoló A/3</td><td>36</td><td>1488</td><td>NULL</td><td>6</td><td>1000</td><td>csomag</td><td>Sára</td><td>2016-07-10</td></tr>",
                            "<tr><td>01100505T</td><td>Fehér másoló A/4</td><td>36</td><td>686</td><td>NULL</td><td>6</td><td>200</td><td>csomag</td><td>Sára</td><td>2016-07-10</td></tr>",
                            "<tr><td>01090499T</td><td>Color Copy A/4 250 g</td><td>21</td><td>15</td><td>NULL</td><td>6</td><td>1500</td><td>Ív</td><td>Sára</td><td>2016-07-09</td></tr>",
                            "<tr><td>02040292T</td><td>Naptárhát nagy</td><td>104</td><td>78</td><td>NULL</td><td>9</td><td>6900</td><td>db</td><td>Sára</td><td>2016-07-09</td></tr>",
                            "<tr><td>02040293T</td><td>Névjegytartó kicsi</td><td>105</td><td>310</td><td>NULL</td><td>9</td><td>9000</td><td>db</td><td>Sára</td><td>2016-07-09</td></tr>",
                            "<tr><td>06080118T</td><td>Füzetborító átlátszó A5</td><td>46</td><td>8</td><td>NULL</td><td>6</td><td>300</td><td>db</td><td>Mari</td><td>2016-07-09</td></tr>",
                            "<tr><td>06080119T</td><td>Füzetborító mesefig.</td><td>46</td><td>19</td><td>NULL</td><td>2</td><td>100</td><td>db</td><td>Mari</td><td>2016-07-09</td></tr>",
                            "<tr><td>06080189T</td><td>Hegyező műanyag dupla</td><td>64</td><td>30</td><td>NULL</td><td>6</td><td>500</td><td>db</td><td>Sára</td><td>2016-07-09</td></tr>",
                            "<tr><td>06080190T</td><td>Hegyező műanyag egyes</td><td>64</td><td>23</td><td>NULL</td><td>6</td><td>1000</td><td>db</td><td>Sára</td><td>2016-07-09</td></tr>",
                            "<tr><td>06080126T</td><td>Füzettartó A/5  </td><td>47</td><td>203</td><td>NULL</td><td>9</td><td>1500</td><td>db</td><td>Mari</td><td>2016-07-09</td></tr>",
                            "<tr><td>06080338T</td><td>Ragasztó kenőfejes Nebuló</td><td>124</td><td>101</td><td>NULL</td><td>8</td><td>3600</td><td>db</td><td>Mari</td><td>2016-07-08</td></tr>",
                            "<tr><td>06080120T</td><td>Füzetborító öntapadó kicsi</td><td>46</td><td>23</td><td>NULL</td><td>9</td><td>100</td><td>db</td><td>Béla</td><td>2016-07-08</td></tr>",
                            "<tr><td>06080121T</td><td>Füzetborító öntapadó tekercses</td><td>46</td><td>195</td><td>NULL</td><td>7</td><td>300</td><td>csomag</td><td>Béla</td><td>2016-07-08</td></tr>",
                            "<tr><td>06080192T</td><td>Hegyző fém 1 lyukú</td><td>65</td><td>70</td><td>NULL</td><td>9</td><td>200</td><td>db</td><td>Sára</td><td>2016-07-07</td></tr>",
                            "<tr><td>06080193T</td><td>Hegyző fém 2 lyukú</td><td>65</td><td>180</td><td>NULL</td><td>7</td><td>100</td><td>db</td><td>Sára</td><td>2016-07-07</td></tr>",
                            "<tr><td>02040294T</td><td>Notesz A/5 sima</td><td>106</td><td>103</td><td>NULL</td><td>5</td><td>300</td><td>db</td><td>Béla</td><td>2016-07-07</td></tr>",
                            "<tr><td>01020299T</td><td>Oklevél A/4 egyszínű</td><td>110</td><td>48</td><td>NULL</td><td>9</td><td>6600</td><td>db</td><td>Béla</td><td>2016-07-07</td></tr>",
                            "<tr><td>01090498T</td><td>Műnyomó 300g 17,5*20</td><td>101</td><td>3</td><td>NULL</td><td>8</td><td>1800</td><td>ív</td><td>Mari</td><td>2016-07-06</td></tr>",
                            "<tr><td>01100071T</td><td>Dekorációs karton arany, ezüst</td><td>83</td><td>89</td><td>NULL</td><td>7</td><td>3100</td><td>ív</td><td>Sára</td><td>2016-07-06</td></tr>",
                            "<tr><td>01100072T</td><td>Dipa A/4 keretezett</td><td>26</td><td>9</td><td>NULL</td><td>9</td><td>400</td><td>ív</td><td>Sára</td><td>2016-07-06</td></tr>",
                            "<tr><td>06080337T</td><td>Ragasztó Gyurma</td><td>124</td><td>293</td><td>NULL</td><td>7</td><td>100</td><td>db</td><td>Sára</td><td>2016-07-06</td></tr>",
                            "<tr><td>06080122T</td><td>Füzetborító öntapadós nagy</td><td>46</td><td>19</td><td>NULL</td><td>7</td><td>300</td><td>db</td><td>Béla</td><td>2016-07-05</td></tr>",
                            "<tr><td>01100497T</td><td>Color Copy 160 g-os </td><td>21</td><td>14</td><td>NULL</td><td>5</td><td>100</td><td>ív</td><td>Béla</td><td>2016-07-05</td></tr>",
                            "<tr><td>01100503T</td><td>Color Copy A4 120 g</td><td>21</td><td>10</td><td>NULL</td><td>6</td><td>900</td><td>ív</td><td>Béla</td><td>2016-07-05</td></tr>",
                            "<tr><td>01100070T</td><td>Dekorációs karton</td><td>83</td><td>73</td><td>NULL</td><td>5</td><td>600</td><td>ív</td><td>Béla</td><td>2016-07-05</td></tr>",
                            "<tr><td>01090500T</td><td>Color Copy A4 200 g</td><td>21</td><td>14</td><td>NULL</td><td>9</td><td>100</td><td>Ív</td><td>Béla</td><td>2016-07-04</td></tr>",
                            "<tr><td>01100094T</td><td>Fénymásoló papír DataCopy</td><td>36</td><td>845</td><td>NULL</td><td>9</td><td>300</td><td>csomag</td><td>Sára</td><td>2016-07-02</td></tr>",
                            "<tr><td>06080334T</td><td>Ragasztó szalag KORES </td><td>124</td><td>133</td><td>NULL</td><td>5</td><td>3000</td><td>db</td><td>Mari</td><td>2016-07-02</td></tr>",
                            "<tr><td>06080335T</td><td>Ragasztó 9 g Pax</td><td>124</td><td>110</td><td>NULL</td><td>9</td><td>200</td><td>db</td><td>Mari</td><td>2016-07-02</td></tr>",
                            "<tr><td>06080336T</td><td>Ragasztó 8 g Pritt</td><td>124</td><td>81</td><td>NULL</td><td>9</td><td>4900</td><td>db</td><td>Mari</td><td>2016-07-02</td></tr>",
                            "<tr><td>06080259T</td><td>Leckefüzet</td><td>78</td><td>161</td><td>NULL</td><td>6</td><td>0</td><td>db</td><td>Mari</td><td>2016-07-02</td></tr>",
                            "<tr><td>06080332T</td><td>Radírtoll betét ER100</td><td>123</td><td>74</td><td>NULL</td><td>5</td><td>1500</td><td>db</td><td>Mari</td><td>2016-07-02</td></tr>",
                            "<tr><td>06080333T</td><td>Radírtoll betét vastag</td><td>123</td><td>119</td><td>NULL</td><td>7</td><td>500</td><td>db</td><td>Béla</td><td>2016-07-01</td></tr>",
                            "<tr><td>01100095T</td><td>Fénymásoló papír GetCopy</td><td>36</td><td>728</td><td>NULL</td><td>9</td><td>200</td><td>csomag</td><td>Sára</td><td>2016-07-01</td></tr>",
                            "<tr><td>01100096T</td><td>Fénymásoló papír Qconnect</td><td>36</td><td>728</td><td>NULL</td><td>5</td><td>500</td><td>csomag</td><td>Sára</td><td>2016-07-01</td></tr>",
                            "<tr><td>01100496T</td><td>Színes másoló a/4 80g</td><td>21</td><td>1500</td><td>NULL</td><td>5</td><td>300</td><td>csomag</td><td>Sára</td><td>2016-07-01</td></tr>",
                            "<tr><td>01090501T</td><td>Kreatív A/4 300g </td><td>90</td><td>4</td><td>NULL</td><td>8</td><td>100</td><td>Ív</td><td>Béla</td><td>2016-07-01</td></tr>",
                            "<tr><td>01090515T</td><td>Színes A/3 160 gr IQ</td><td>83</td><td>11</td><td>NULL</td><td>5</td><td>400</td><td>ív</td><td>Béla</td><td>2016-07-01</td></tr>",
                            "<tr><td>01090516T</td><td>Színes karton A4</td><td>83</td><td>25</td><td>NULL</td><td>9</td><td>1000</td><td>ív</td><td>Béla</td><td>2016-07-01</td></tr>",
                            "<tr><td>01090517T</td><td>Színes ofszet B/4</td><td>109</td><td>4</td><td>NULL</td><td>7</td><td>1000</td><td>ív</td><td>Béla</td><td>2016-07-01</td></tr>",
                            "</table>"
                        ]
                    }
                }
            ],
            "execution_count": 18
        },
        {
            "cell_type": "code",
            "source": [
                ""
            ],
            "metadata": {
                "azdata_cell_guid": "850bd249-48a0-417b-92fb-17f09097d77a",
                "language": "sql"
            },
            "outputs": [
                {
                    "output_type": "display_data",
                    "data": {
                        "text/html": "Commands completed successfully."
                    },
                    "metadata": {}
                },
                {
                    "output_type": "display_data",
                    "data": {
                        "text/html": "Total execution time: 00:00:00"
                    },
                    "metadata": {}
                }
            ],
            "execution_count": 19
        },
        {
            "cell_type": "code",
            "source": [
                "--AZON TERMÉKEK SZÁMA, MELYEKHEZ NEM TARTOZIK LEÍRÁS, RÖGZÍTŐ SZEMÉLYENKÉNTI CSOPORTOSÍTÁSBAN\r\n",
                "SELECT COUNT(*) AS 'NULL értékek száma',\r\n",
                "       Felvitte AS 'Felvitte'\r\n",
                "FROM Termek\r\n",
                "WHERE Leiras IS NULL\r\n",
                "GROUP BY Felvitte\r\n",
                "ORDER BY COUNT(*) DESC"
            ],
            "metadata": {
                "azdata_cell_guid": "8647643e-f30f-4a9f-8ae6-92b21ab92592",
                "language": "sql"
            },
            "outputs": [
                {
                    "output_type": "display_data",
                    "data": {
                        "text/html": "(3 rows affected)"
                    },
                    "metadata": {}
                },
                {
                    "output_type": "display_data",
                    "data": {
                        "text/html": "Total execution time: 00:00:00.020"
                    },
                    "metadata": {}
                },
                {
                    "output_type": "execute_result",
                    "metadata": {},
                    "execution_count": 20,
                    "data": {
                        "application/vnd.dataresource+json": {
                            "schema": {
                                "fields": [
                                    {
                                        "name": "NULL értékek száma"
                                    },
                                    {
                                        "name": "Felvitte"
                                    }
                                ]
                            },
                            "data": [
                                {
                                    "NULL értékek száma": "185",
                                    "Felvitte": "Béla"
                                },
                                {
                                    "NULL értékek száma": "176",
                                    "Felvitte": "Sára"
                                },
                                {
                                    "NULL értékek száma": "166",
                                    "Felvitte": "Mari"
                                }
                            ]
                        },
                        "text/html": [
                            "<table>",
                            "<tr><th>NULL értékek száma</th><th>Felvitte</th></tr>",
                            "<tr><td>185</td><td>Béla</td></tr>",
                            "<tr><td>176</td><td>Sára</td></tr>",
                            "<tr><td>166</td><td>Mari</td></tr>",
                            "</table>"
                        ]
                    }
                }
            ],
            "execution_count": 20
        },
        {
            "cell_type": "code",
            "source": [
                "--AZ ELADOTT TERMÉKEK ÁTLAGOS ÁRA HAVI BONTÁSBAN\r\n",
                "SELECT LEFT(CAST(FELVITEL AS varchar),7) AS 'Felvitel hónapja',\r\n",
                "       ROUND(AVG(Listaar),0) AS 'Átlagos listaár'\r\n",
                "FROM Termek\r\n",
                "GROUP BY LEFT(CAST(felvitel AS varchar),7)\r\n",
                ""
            ],
            "metadata": {
                "azdata_cell_guid": "166ba63a-670b-49d6-9a00-db95aa2c4118",
                "language": "sql"
            },
            "outputs": [
                {
                    "output_type": "display_data",
                    "data": {
                        "text/html": "(4 rows affected)"
                    },
                    "metadata": {}
                },
                {
                    "output_type": "display_data",
                    "data": {
                        "text/html": "Total execution time: 00:00:00.018"
                    },
                    "metadata": {}
                },
                {
                    "output_type": "execute_result",
                    "metadata": {},
                    "execution_count": 21,
                    "data": {
                        "application/vnd.dataresource+json": {
                            "schema": {
                                "fields": [
                                    {
                                        "name": "Felvitel hónapja"
                                    },
                                    {
                                        "name": "Átlagos listaár"
                                    }
                                ]
                            },
                            "data": [
                                {
                                    "Felvitel hónapja": "2016-07",
                                    "Átlagos listaár": "773"
                                },
                                {
                                    "Felvitel hónapja": "2016-08",
                                    "Átlagos listaár": "816"
                                },
                                {
                                    "Felvitel hónapja": "2016-09",
                                    "Átlagos listaár": "353"
                                },
                                {
                                    "Felvitel hónapja": "2016-12",
                                    "Átlagos listaár": "12"
                                }
                            ]
                        },
                        "text/html": [
                            "<table>",
                            "<tr><th>Felvitel hónapja</th><th>Átlagos listaár</th></tr>",
                            "<tr><td>2016-07</td><td>773</td></tr>",
                            "<tr><td>2016-08</td><td>816</td></tr>",
                            "<tr><td>2016-09</td><td>353</td></tr>",
                            "<tr><td>2016-12</td><td>12</td></tr>",
                            "</table>"
                        ]
                    }
                }
            ],
            "execution_count": 21
        },
        {
            "cell_type": "code",
            "source": [
                "SELECT LEFT(CAST(FELVITEL AS varchar),7) AS 'Felvitel hónapja',\r\n",
                "       SUM(LISTAAR) 'Eladott termékek ára összesen',\r\n",
                "       COUNT(*) AS 'Eladott termékek száma'\r\n",
                "FROM Termek\r\n",
                "GROUP BY LEFT(CAST(FELVITEL AS varchar),7)"
            ],
            "metadata": {
                "azdata_cell_guid": "73d6e963-0991-4e22-afc6-27c7278bcd99",
                "language": "sql"
            },
            "outputs": [
                {
                    "output_type": "display_data",
                    "data": {
                        "text/html": "(4 rows affected)"
                    },
                    "metadata": {}
                },
                {
                    "output_type": "display_data",
                    "data": {
                        "text/html": "Total execution time: 00:00:00.026"
                    },
                    "metadata": {}
                },
                {
                    "output_type": "execute_result",
                    "metadata": {},
                    "execution_count": 22,
                    "data": {
                        "application/vnd.dataresource+json": {
                            "schema": {
                                "fields": [
                                    {
                                        "name": "Felvitel hónapja"
                                    },
                                    {
                                        "name": "Eladott termékek ára összesen"
                                    },
                                    {
                                        "name": "Eladott termékek száma"
                                    }
                                ]
                            },
                            "data": [
                                {
                                    "Felvitel hónapja": "2016-07",
                                    "Eladott termékek ára összesen": "274501",
                                    "Eladott termékek száma": "355"
                                },
                                {
                                    "Felvitel hónapja": "2016-08",
                                    "Eladott termékek ára összesen": "158375",
                                    "Eladott termékek száma": "194"
                                },
                                {
                                    "Felvitel hónapja": "2016-09",
                                    "Eladott termékek ára összesen": "353",
                                    "Eladott termékek száma": "1"
                                },
                                {
                                    "Felvitel hónapja": "2016-12",
                                    "Eladott termékek ára összesen": "12",
                                    "Eladott termékek száma": "1"
                                }
                            ]
                        },
                        "text/html": [
                            "<table>",
                            "<tr><th>Felvitel hónapja</th><th>Eladott termékek ára összesen</th><th>Eladott termékek száma</th></tr>",
                            "<tr><td>2016-07</td><td>274501</td><td>355</td></tr>",
                            "<tr><td>2016-08</td><td>158375</td><td>194</td></tr>",
                            "<tr><td>2016-09</td><td>353</td><td>1</td></tr>",
                            "<tr><td>2016-12</td><td>12</td><td>1</td></tr>",
                            "</table>"
                        ]
                    }
                }
            ],
            "execution_count": 22
        },
        {
            "cell_type": "code",
            "source": [
                "SELECT LEFT(CAST(FELVITEL AS varchar),7) AS 'Felvitel hónapja',\r\n",
                "       COUNT(*) AS 'Eladott termékek száma'\r\n",
                "FROM Termek\r\n",
                "GROUP BY LEFT(CAST(FELVITEL AS varchar),7)"
            ],
            "metadata": {
                "azdata_cell_guid": "c7e48ee7-93e8-4244-b742-06bfb853fbcf",
                "language": "sql"
            },
            "outputs": [
                {
                    "output_type": "display_data",
                    "data": {
                        "text/html": "(4 rows affected)"
                    },
                    "metadata": {}
                },
                {
                    "output_type": "display_data",
                    "data": {
                        "text/html": "Total execution time: 00:00:00.073"
                    },
                    "metadata": {}
                },
                {
                    "output_type": "execute_result",
                    "metadata": {},
                    "execution_count": 23,
                    "data": {
                        "application/vnd.dataresource+json": {
                            "schema": {
                                "fields": [
                                    {
                                        "name": "Felvitel hónapja"
                                    },
                                    {
                                        "name": "Eladott termékek száma"
                                    }
                                ]
                            },
                            "data": [
                                {
                                    "Felvitel hónapja": "2016-07",
                                    "Eladott termékek száma": "355"
                                },
                                {
                                    "Felvitel hónapja": "2016-08",
                                    "Eladott termékek száma": "194"
                                },
                                {
                                    "Felvitel hónapja": "2016-09",
                                    "Eladott termékek száma": "1"
                                },
                                {
                                    "Felvitel hónapja": "2016-12",
                                    "Eladott termékek száma": "1"
                                }
                            ]
                        },
                        "text/html": [
                            "<table>",
                            "<tr><th>Felvitel hónapja</th><th>Eladott termékek száma</th></tr>",
                            "<tr><td>2016-07</td><td>355</td></tr>",
                            "<tr><td>2016-08</td><td>194</td></tr>",
                            "<tr><td>2016-09</td><td>1</td></tr>",
                            "<tr><td>2016-12</td><td>1</td></tr>",
                            "</table>"
                        ]
                    }
                }
            ],
            "execution_count": 23
        },
        {
            "cell_type": "code",
            "source": [
                "SELECT CASE\r\n",
                "    WHEN KESZLET >= 10000 AND KESZLET < 20000 THEN 'Kevés'\r\n",
                "    WHEN KESZLET >= 20000 AND KESZLET < 50000 THEN 'Közepesen sok'\r\n",
                "    WHEN KESZLET >= 50000 THEN 'Sok'\r\n",
                "    ELSE 'Kevés' END AS 'Mennyiség',\r\n",
                "    KESZLET AS 'Készlet',\r\n",
                "    MEGNEVEZES AS 'Megnevezés'\r\n",
                "FROM Termek\r\n",
                "ORDER BY KESZLET DESC"
            ],
            "metadata": {
                "azdata_cell_guid": "02a71069-a215-4476-9db7-e8925cb4f61d",
                "language": "sql"
            },
            "outputs": [
                {
                    "output_type": "display_data",
                    "data": {
                        "text/html": "(551 rows affected)"
                    },
                    "metadata": {}
                },
                {
                    "output_type": "display_data",
                    "data": {
                        "text/html": "Total execution time: 00:00:00.187"
                    },
                    "metadata": {}
                },
                {
                    "output_type": "execute_result",
                    "metadata": {},
                    "execution_count": 24,
                    "data": {
                        "application/vnd.dataresource+json": {
                            "schema": {
                                "fields": [
                                    {
                                        "name": "Mennyiség"
                                    },
                                    {
                                        "name": "Készlet"
                                    },
                                    {
                                        "name": "Megnevezés"
                                    }
                                ]
                            },
                            "data": [
                                {
                                    "Mennyiség": "Sok",
                                    "Készlet": "50000",
                                    "Megnevezés": "Ajándék cs. tasak kicsi"
                                },
                                {
                                    "Mennyiség": "Sok",
                                    "Készlet": "50000",
                                    "Megnevezés": "Golyóstoll levélbontós"
                                },
                                {
                                    "Mennyiség": "Közepesen sok",
                                    "Készlet": "40000",
                                    "Megnevezés": "Díszkötöző szalag vékony"
                                },
                                {
                                    "Mennyiség": "Közepesen sok",
                                    "Készlet": "35000",
                                    "Megnevezés": "Golyóstoll UNIBALL 07"
                                },
                                {
                                    "Mennyiség": "Közepesen sok",
                                    "Készlet": "30000",
                                    "Megnevezés": "Golyóstoll UNI gumis"
                                },
                                {
                                    "Mennyiség": "Közepesen sok",
                                    "Készlet": "26000",
                                    "Megnevezés": "Diszkötöző széles szalag"
                                },
                                {
                                    "Mennyiség": "Közepesen sok",
                                    "Készlet": "25000",
                                    "Megnevezés": "Pixiron Handy műanyag"
                                },
                                {
                                    "Mennyiség": "Közepesen sok",
                                    "Készlet": "22000",
                                    "Megnevezés": "Pixiron  UNI"
                                },
                                {
                                    "Mennyiség": "Kevés",
                                    "Készlet": "15000",
                                    "Megnevezés": "Golyóstoll háromszög"
                                },
                                {
                                    "Mennyiség": "Kevés",
                                    "Készlet": "12500",
                                    "Megnevezés": "Pixiron Centrum"
                                },
                                {
                                    "Mennyiség": "Kevés",
                                    "Készlet": "12000",
                                    "Megnevezés": "Pixiron Handy fém"
                                },
                                {
                                    "Mennyiség": "Kevés",
                                    "Készlet": "10000",
                                    "Megnevezés": "Mappa bemutató"
                                },
                                {
                                    "Mennyiség": "Kevés",
                                    "Készlet": "10000",
                                    "Megnevezés": "Boríték mintás"
                                },
                                {
                                    "Mennyiség": "Kevés",
                                    "Készlet": "10000",
                                    "Megnevezés": "irodai tűzőgép"
                                },
                                {
                                    "Mennyiség": "Kevés",
                                    "Készlet": "10000",
                                    "Megnevezés": "Képeslap karácsonyi WD"
                                },
                                {
                                    "Mennyiség": "Kevés",
                                    "Készlet": "9000",
                                    "Megnevezés": "Névjegytartó kicsi"
                                },
                                {
                                    "Mennyiség": "Kevés",
                                    "Készlet": "9000",
                                    "Megnevezés": "A föld amelyen élünk - munkafüzet"
                                },
                                {
                                    "Mennyiség": "Kevés",
                                    "Készlet": "8000",
                                    "Megnevezés": "Golyóstoll kétfunkciós ICO"
                                },
                                {
                                    "Mennyiség": "Kevés",
                                    "Készlet": "8000",
                                    "Megnevezés": "Pixiron Penac"
                                },
                                {
                                    "Mennyiség": "Kevés",
                                    "Készlet": "8000",
                                    "Megnevezés": "Ajándék cs. 2×100×70"
                                },
                                {
                                    "Mennyiség": "Kevés",
                                    "Készlet": "7700",
                                    "Megnevezés": "Emlékkönyv"
                                },
                                {
                                    "Mennyiség": "Kevés",
                                    "Készlet": "7200",
                                    "Megnevezés": "Golyóstoll háromfunkciós"
                                },
                                {
                                    "Mennyiség": "Kevés",
                                    "Készlet": "7000",
                                    "Megnevezés": "Gumis mappa "
                                },
                                {
                                    "Mennyiség": "Kevés",
                                    "Készlet": "6900",
                                    "Megnevezés": "Naptárhát nagy"
                                },
                                {
                                    "Mennyiség": "Kevés",
                                    "Készlet": "6600",
                                    "Megnevezés": "Oklevél A/4 egyszínű"
                                },
                                {
                                    "Mennyiség": "Kevés",
                                    "Készlet": "6200",
                                    "Megnevezés": "Matrica állatos"
                                },
                                {
                                    "Mennyiség": "Kevés",
                                    "Készlet": "6000",
                                    "Megnevezés": "Zselés toll MICRO"
                                },
                                {
                                    "Mennyiség": "Kevés",
                                    "Készlet": "6000",
                                    "Megnevezés": "Golyóstoll UNI átlátszó"
                                },
                                {
                                    "Mennyiség": "Kevés",
                                    "Készlet": "5900",
                                    "Megnevezés": "Alufólia 20 m-es"
                                },
                                {
                                    "Mennyiség": "Kevés",
                                    "Készlet": "5100",
                                    "Megnevezés": "Műanyag foszforeszkáló állat"
                                },
                                {
                                    "Mennyiség": "Kevés",
                                    "Készlet": "5000",
                                    "Megnevezés": "Papízsebkendő,10db Szindy"
                                },
                                {
                                    "Mennyiség": "Kevés",
                                    "Készlet": "5000",
                                    "Megnevezés": "Fizika 13 éveseknek"
                                },
                                {
                                    "Mennyiség": "Kevés",
                                    "Készlet": "4900",
                                    "Megnevezés": "Ragasztó 8 g Pritt"
                                },
                                {
                                    "Mennyiség": "Kevés",
                                    "Készlet": "4700",
                                    "Megnevezés": "Genotherm A4 10db-os"
                                },
                                {
                                    "Mennyiség": "Kevés",
                                    "Készlet": "4500",
                                    "Megnevezés": "Füzet 31-32 szótár"
                                },
                                {
                                    "Mennyiség": "Kevés",
                                    "Készlet": "4400",
                                    "Megnevezés": "Egészségügyi könyv"
                                },
                                {
                                    "Mennyiség": "Kevés",
                                    "Készlet": "4400",
                                    "Megnevezés": "Sp.Füzet A/5 70-es"
                                },
                                {
                                    "Mennyiség": "Kevés",
                                    "Készlet": "4400",
                                    "Megnevezés": "RAMba zárt világ"
                                },
                                {
                                    "Mennyiség": "Kevés",
                                    "Készlet": "4300",
                                    "Megnevezés": "G.toll betét Parker "
                                },
                                {
                                    "Mennyiség": "Kevés",
                                    "Készlet": "4200",
                                    "Megnevezés": "Tűzőkapocs 24/6"
                                },
                                {
                                    "Mennyiség": "Kevés",
                                    "Készlet": "4100",
                                    "Megnevezés": "Notesz A/5 sima spirál"
                                },
                                {
                                    "Mennyiség": "Kevés",
                                    "Készlet": "4000",
                                    "Megnevezés": "Ecset Nebuló 10-es"
                                },
                                {
                                    "Mennyiség": "Kevés",
                                    "Készlet": "4000",
                                    "Megnevezés": "Pixiron Pentel színes"
                                },
                                {
                                    "Mennyiség": "Kevés",
                                    "Készlet": "4000",
                                    "Megnevezés": "Zselés toll "
                                },
                                {
                                    "Mennyiség": "Kevés",
                                    "Készlet": "3900",
                                    "Megnevezés": "Anyanyelvi gyakorló 2"
                                },
                                {
                                    "Mennyiség": "Kevés",
                                    "Készlet": "3900",
                                    "Megnevezés": "Ajándék csomagoló tasak lézeres"
                                },
                                {
                                    "Mennyiség": "Kevés",
                                    "Készlet": "3700",
                                    "Megnevezés": "Kulcstartó autós"
                                },
                                {
                                    "Mennyiség": "Kevés",
                                    "Készlet": "3600",
                                    "Megnevezés": "Ajándék csomagoló tasak"
                                },
                                {
                                    "Mennyiség": "Kevés",
                                    "Készlet": "3600",
                                    "Megnevezés": "Ecset Nebulo 4-es"
                                },
                                {
                                    "Mennyiség": "Kevés",
                                    "Készlet": "3600",
                                    "Megnevezés": "Ragasztó kenőfejes Nebuló"
                                },
                                {
                                    "Mennyiség": "Kevés",
                                    "Készlet": "3500",
                                    "Megnevezés": "G.toll betét illatos"
                                },
                                {
                                    "Mennyiség": "Kevés",
                                    "Készlet": "3500",
                                    "Megnevezés": "Kulcstartó billiárd golyós"
                                },
                                {
                                    "Mennyiség": "Kevés",
                                    "Készlet": "3200",
                                    "Megnevezés": "Gemkapocs ICO"
                                },
                                {
                                    "Mennyiség": "Kevés",
                                    "Készlet": "3100",
                                    "Megnevezés": "Dekorációs karton arany, ezüst"
                                },
                                {
                                    "Mennyiség": "Kevés",
                                    "Készlet": "3000",
                                    "Megnevezés": "félfamentes rajzlap A4 (10 lap)"
                                },
                                {
                                    "Mennyiség": "Kevés",
                                    "Készlet": "3000",
                                    "Megnevezés": "Lufi formázható"
                                },
                                {
                                    "Mennyiség": "Kevés",
                                    "Készlet": "3000",
                                    "Megnevezés": "Emlékkönyv"
                                },
                                {
                                    "Mennyiség": "Kevés",
                                    "Készlet": "3000",
                                    "Megnevezés": "Ragasztó szalag KORES "
                                },
                                {
                                    "Mennyiség": "Kevés",
                                    "Készlet": "3000",
                                    "Megnevezés": "Színes ceruza 12 szín"
                                },
                                {
                                    "Mennyiség": "Kevés",
                                    "Készlet": "2900",
                                    "Megnevezés": "Tolltartó Garfield"
                                },
                                {
                                    "Mennyiség": "Kevés",
                                    "Készlet": "2800",
                                    "Megnevezés": "Kártya mini Magyar"
                                },
                                {
                                    "Mennyiség": "Kevés",
                                    "Készlet": "2700",
                                    "Megnevezés": "Határidő napló A/6"
                                },
                                {
                                    "Mennyiség": "Kevés",
                                    "Készlet": "2600",
                                    "Megnevezés": "Talpas tasak"
                                },
                                {
                                    "Mennyiség": "Kevés",
                                    "Készlet": "2600",
                                    "Megnevezés": "Ajándék csom. gyűrt 50x70 "
                                },
                                {
                                    "Mennyiség": "Kevés",
                                    "Készlet": "2600",
                                    "Megnevezés": "Gyűjtőlap A/4"
                                },
                                {
                                    "Mennyiség": "Kevés",
                                    "Készlet": "2600",
                                    "Megnevezés": "Gyűrűskönyv bet. A/4"
                                },
                                {
                                    "Mennyiség": "Kevés",
                                    "Készlet": "2600",
                                    "Megnevezés": "Radír gyümölcsös"
                                },
                                {
                                    "Mennyiség": "Kevés",
                                    "Készlet": "2600",
                                    "Megnevezés": "Vonalzó 20 cm-es "
                                },
                                {
                                    "Mennyiség": "Kevés",
                                    "Készlet": "2500",
                                    "Megnevezés": "Kulcstartó nagyítós"
                                },
                                {
                                    "Mennyiség": "Kevés",
                                    "Készlet": "2500",
                                    "Megnevezés": "Ajándék cs. tasak virágos nagy"
                                },
                                {
                                    "Mennyiség": "Kevés",
                                    "Készlet": "2500",
                                    "Megnevezés": "Boríték légp. kicsi"
                                },
                                {
                                    "Mennyiség": "Kevés",
                                    "Készlet": "2500",
                                    "Megnevezés": "Iratsín kék"
                                },
                                {
                                    "Mennyiség": "Kevés",
                                    "Készlet": "2400",
                                    "Megnevezés": "Műanyag pohár 5 cl-es"
                                },
                                {
                                    "Mennyiség": "Kevés",
                                    "Készlet": "2400",
                                    "Megnevezés": "Radír Maped"
                                },
                                {
                                    "Mennyiség": "Kevés",
                                    "Készlet": "2300",
                                    "Megnevezés": "Képeslap virágos +boríték"
                                },
                                {
                                    "Mennyiség": "Kevés",
                                    "Készlet": "2300",
                                    "Megnevezés": "Képeslap WD +boríték"
                                },
                                {
                                    "Mennyiség": "Kevés",
                                    "Készlet": "2300",
                                    "Megnevezés": "Ajándék cs. tasak közepes"
                                },
                                {
                                    "Mennyiség": "Kevés",
                                    "Készlet": "2200",
                                    "Megnevezés": "Ajándék cs. tasak kicsi"
                                },
                                {
                                    "Mennyiség": "Kevés",
                                    "Készlet": "2200",
                                    "Megnevezés": "Színes papír I.II-IV.V-VIII-ig"
                                },
                                {
                                    "Mennyiség": "Kevés",
                                    "Készlet": "2200",
                                    "Megnevezés": "Radír Koh-i-nor 40"
                                },
                                {
                                    "Mennyiség": "Kevés",
                                    "Készlet": "2200",
                                    "Megnevezés": "Körzőhegy grafit"
                                },
                                {
                                    "Mennyiség": "Kevés",
                                    "Készlet": "2200",
                                    "Megnevezés": "Színes ceruza 6-os"
                                },
                                {
                                    "Mennyiség": "Kevés",
                                    "Készlet": "2100",
                                    "Megnevezés": "Képeslap karácsonyi"
                                },
                                {
                                    "Mennyiség": "Kevés",
                                    "Készlet": "2100",
                                    "Megnevezés": "Ajándék cs. húsvéti"
                                },
                                {
                                    "Mennyiség": "Kevés",
                                    "Készlet": "2010",
                                    "Megnevezés": "Kulcstartó mesefigurás"
                                },
                                {
                                    "Mennyiség": "Kevés",
                                    "Készlet": "2000",
                                    "Megnevezés": "Logikai készlet"
                                },
                                {
                                    "Mennyiség": "Kevés",
                                    "Készlet": "2000",
                                    "Megnevezés": "Plüss kicsi"
                                },
                                {
                                    "Mennyiség": "Kevés",
                                    "Készlet": "2000",
                                    "Megnevezés": "Gumis mappa csomagolt"
                                },
                                {
                                    "Mennyiség": "Kevés",
                                    "Készlet": "2000",
                                    "Megnevezés": "Ajándék cs. tasak mintás nagy"
                                },
                                {
                                    "Mennyiség": "Kevés",
                                    "Készlet": "2000",
                                    "Megnevezés": "Notesz A/6 College"
                                },
                                {
                                    "Mennyiség": "Kevés",
                                    "Készlet": "2000",
                                    "Megnevezés": "Boríték LC 5"
                                },
                                {
                                    "Mennyiség": "Kevés",
                                    "Készlet": "2000",
                                    "Megnevezés": "Boríték LC 6"
                                },
                                {
                                    "Mennyiség": "Kevés",
                                    "Készlet": "2000",
                                    "Megnevezés": "Füzettartó A/4 keménytáblás"
                                },
                                {
                                    "Mennyiség": "Kevés",
                                    "Készlet": "2000",
                                    "Megnevezés": "Zselés toll Muhnwa"
                                },
                                {
                                    "Mennyiség": "Kevés",
                                    "Készlet": "2000",
                                    "Megnevezés": "Pixiron mini "
                                },
                                {
                                    "Mennyiség": "Kevés",
                                    "Készlet": "2000",
                                    "Megnevezés": "Pixiron 0,7 Handy"
                                },
                                {
                                    "Mennyiség": "Kevés",
                                    "Készlet": "2000",
                                    "Megnevezés": "Golyóstoll Parker tokban"
                                },
                                {
                                    "Mennyiség": "Kevés",
                                    "Készlet": "2000",
                                    "Megnevezés": "Matematika gyakorló 4"
                                },
                                {
                                    "Mennyiség": "Kevés",
                                    "Készlet": "1900",
                                    "Megnevezés": "Gyurma 12 szinű"
                                },
                                {
                                    "Mennyiség": "Kevés",
                                    "Készlet": "1900",
                                    "Megnevezés": "G. toll betét UNI lachnok Fine SA-7C"
                                },
                                {
                                    "Mennyiség": "Kevés",
                                    "Készlet": "1900",
                                    "Megnevezés": "Ceruza arany, ezüst"
                                },
                                {
                                    "Mennyiség": "Kevés",
                                    "Készlet": "1900",
                                    "Megnevezés": "Notesz sima spirál College"
                                },
                                {
                                    "Mennyiség": "Kevés",
                                    "Készlet": "1900",
                                    "Megnevezés": "Ajándék csom. 150x70"
                                },
                                {
                                    "Mennyiség": "Kevés",
                                    "Készlet": "1800",
                                    "Megnevezés": "Műnyomó 300g 17,5*20"
                                },
                                {
                                    "Mennyiség": "Kevés",
                                    "Készlet": "1800",
                                    "Megnevezés": "Gumis mappa fóliázott állatos"
                                },
                                {
                                    "Mennyiség": "Kevés",
                                    "Készlet": "1800",
                                    "Megnevezés": "Gyűrűskönyv"
                                },
                                {
                                    "Mennyiség": "Kevés",
                                    "Készlet": "1800",
                                    "Megnevezés": "G.toll betét PAX"
                                },
                                {
                                    "Mennyiség": "Kevés",
                                    "Készlet": "1700",
                                    "Megnevezés": "G.toll betét jumbo"
                                },
                                {
                                    "Mennyiség": "Kevés",
                                    "Készlet": "1700",
                                    "Megnevezés": "Radír stabilo"
                                },
                                {
                                    "Mennyiség": "Kevés",
                                    "Készlet": "1600",
                                    "Megnevezés": "Szorzótábla műanyag"
                                },
                                {
                                    "Mennyiség": "Kevés",
                                    "Készlet": "1600",
                                    "Megnevezés": "Ragasztószalag 19 mm-es SCOTCH+ tépő"
                                },
                                {
                                    "Mennyiség": "Kevés",
                                    "Készlet": "1600",
                                    "Megnevezés": "Tapétavágó kés"
                                },
                                {
                                    "Mennyiség": "Kevés",
                                    "Készlet": "1600",
                                    "Megnevezés": "Képeslap virágos"
                                },
                                {
                                    "Mennyiség": "Kevés",
                                    "Készlet": "1600",
                                    "Megnevezés": "Levélpapír A/4"
                                },
                                {
                                    "Mennyiség": "Kevés",
                                    "Készlet": "1500",
                                    "Megnevezés": "Bérlet tok"
                                },
                                {
                                    "Mennyiség": "Kevés",
                                    "Készlet": "1500",
                                    "Megnevezés": "Szalvéta Goma húsvéti"
                                },
                                {
                                    "Mennyiség": "Kevés",
                                    "Készlet": "1500",
                                    "Megnevezés": "Füzet  A4 mintás"
                                },
                                {
                                    "Mennyiség": "Kevés",
                                    "Készlet": "1500",
                                    "Megnevezés": "Color Copy A/4 250 g"
                                },
                                {
                                    "Mennyiség": "Kevés",
                                    "Készlet": "1500",
                                    "Megnevezés": "Iratgyűjtő ESSELTE ablakos"
                                },
                                {
                                    "Mennyiség": "Kevés",
                                    "Készlet": "1500",
                                    "Megnevezés": "Genotherm lefűzhető A/5"
                                },
                                {
                                    "Mennyiség": "Kevés",
                                    "Készlet": "1500",
                                    "Megnevezés": "Post-it 75×75 100 lapos"
                                },
                                {
                                    "Mennyiség": "Kevés",
                                    "Készlet": "1500",
                                    "Megnevezés": "Füzettartó A/5  "
                                },
                                {
                                    "Mennyiség": "Kevés",
                                    "Készlet": "1500",
                                    "Megnevezés": "Radírtoll betét ER100"
                                },
                                {
                                    "Mennyiség": "Kevés",
                                    "Készlet": "1400",
                                    "Megnevezés": "Golyóstoll Zebra 301"
                                },
                                {
                                    "Mennyiség": "Kevés",
                                    "Készlet": "1400",
                                    "Megnevezés": "Anyanyelvi gyakorló 3"
                                },
                                {
                                    "Mennyiség": "Kevés",
                                    "Készlet": "1400",
                                    "Megnevezés": "Naptárhát kicsi"
                                },
                                {
                                    "Mennyiség": "Kevés",
                                    "Készlet": "1400",
                                    "Megnevezés": "Hőmérő, műa."
                                },
                                {
                                    "Mennyiség": "Kevés",
                                    "Készlet": "1300",
                                    "Megnevezés": "Levélpapír szett"
                                },
                                {
                                    "Mennyiség": "Kevés",
                                    "Készlet": "1300",
                                    "Megnevezés": "Lufi hullámos"
                                },
                                {
                                    "Mennyiség": "Kevés",
                                    "Készlet": "1300",
                                    "Megnevezés": "Ajándék csom. gyűrt"
                                },
                                {
                                    "Mennyiség": "Kevés",
                                    "Készlet": "1300",
                                    "Megnevezés": "Dvd"
                                },
                                {
                                    "Mennyiség": "Kevés",
                                    "Készlet": "1300",
                                    "Megnevezés": "Kapocskiszedő"
                                },
                                {
                                    "Mennyiség": "Kevés",
                                    "Készlet": "1300",
                                    "Megnevezés": "Szám.tech. kicsiknek"
                                },
                                {
                                    "Mennyiség": "Kevés",
                                    "Készlet": "1200",
                                    "Megnevezés": "Golyóstoll Zodiák"
                                },
                                {
                                    "Mennyiség": "Kevés",
                                    "Készlet": "1200",
                                    "Megnevezés": "G.toll betét Stabilo"
                                },
                                {
                                    "Mennyiség": "Kevés",
                                    "Készlet": "1200",
                                    "Megnevezés": "Bélyegző RP 18-47"
                                },
                                {
                                    "Mennyiség": "Kevés",
                                    "Készlet": "1200",
                                    "Megnevezés": "Gyorsfűző dosszié fehér"
                                },
                                {
                                    "Mennyiség": "Kevés",
                                    "Készlet": "1200",
                                    "Megnevezés": "Kulcstartó figurás"
                                },
                                {
                                    "Mennyiség": "Kevés",
                                    "Készlet": "1200",
                                    "Megnevezés": "Szalvéta gyűjtőknek"
                                },
                                {
                                    "Mennyiség": "Kevés",
                                    "Készlet": "1100",
                                    "Megnevezés": "Ragasztó, Technokol 35g piros"
                                },
                                {
                                    "Mennyiség": "Kevés",
                                    "Készlet": "1100",
                                    "Megnevezés": "Italtartó doboz"
                                },
                                {
                                    "Mennyiség": "Kevés",
                                    "Készlet": "1100",
                                    "Megnevezés": "Öntapadós hologramos papír A/4"
                                },
                                {
                                    "Mennyiség": "Kevés",
                                    "Készlet": "1100",
                                    "Megnevezés": "Tokos iratrendező"
                                },
                                {
                                    "Mennyiség": "Kevés",
                                    "Készlet": "1100",
                                    "Megnevezés": "Tűzőgép SAX 239"
                                },
                                {
                                    "Mennyiség": "Kevés",
                                    "Készlet": "1100",
                                    "Megnevezés": "Ragasztószalag nagy 12 mm"
                                },
                                {
                                    "Mennyiség": "Kevés",
                                    "Készlet": "1100",
                                    "Megnevezés": "Radír Tikky 30 "
                                },
                                {
                                    "Mennyiség": "Kevés",
                                    "Készlet": "1000",
                                    "Megnevezés": "Tolltartó 2 részes NG."
                                },
                                {
                                    "Mennyiség": "Kevés",
                                    "Készlet": "1000",
                                    "Megnevezés": "Hegyező műanyag egyes"
                                },
                                {
                                    "Mennyiség": "Kevés",
                                    "Készlet": "1000",
                                    "Megnevezés": "G.toll betét S7L "
                                },
                                {
                                    "Mennyiség": "Kevés",
                                    "Készlet": "1000",
                                    "Megnevezés": "Filctoll, textil Edding 4500"
                                },
                                {
                                    "Mennyiség": "Kevés",
                                    "Készlet": "1000",
                                    "Megnevezés": "Golyóstoll Stabiló 308"
                                },
                                {
                                    "Mennyiség": "Kevés",
                                    "Készlet": "1000",
                                    "Megnevezés": "Ajándék csom. 70x50 metál"
                                },
                                {
                                    "Mennyiség": "Kevés",
                                    "Készlet": "1000",
                                    "Megnevezés": "Színes karton A4"
                                },
                                {
                                    "Mennyiség": "Kevés",
                                    "Készlet": "1000",
                                    "Megnevezés": "Színes ofszet B/4"
                                },
                                {
                                    "Mennyiség": "Kevés",
                                    "Készlet": "1000",
                                    "Megnevezés": "Fehér másoló A/3"
                                },
                                {
                                    "Mennyiség": "Kevés",
                                    "Készlet": "1000",
                                    "Megnevezés": "Gyorsfűző műa."
                                },
                                {
                                    "Mennyiség": "Kevés",
                                    "Készlet": "1000",
                                    "Megnevezés": "Levélpapír állatos"
                                },
                                {
                                    "Mennyiség": "Kevés",
                                    "Készlet": "1000",
                                    "Megnevezés": "Képkirakó Dirib-darab"
                                },
                                {
                                    "Mennyiség": "Kevés",
                                    "Készlet": "1000",
                                    "Megnevezés": "Álarc fejdísz"
                                },
                                {
                                    "Mennyiség": "Kevés",
                                    "Készlet": "1000",
                                    "Megnevezés": "Álarc szemüveg"
                                },
                                {
                                    "Mennyiség": "Kevés",
                                    "Készlet": "1000",
                                    "Megnevezés": "Kulcstartó Csőrikés"
                                },
                                {
                                    "Mennyiség": "Kevés",
                                    "Készlet": "1000",
                                    "Megnevezés": "Mappa PVC villámzáras  képes"
                                },
                                {
                                    "Mennyiség": "Kevés",
                                    "Készlet": "1000",
                                    "Megnevezés": "Emlékkönyv lakatos"
                                },
                                {
                                    "Mennyiség": "Kevés",
                                    "Készlet": "1000",
                                    "Megnevezés": "Képeslap humoros "
                                },
                                {
                                    "Mennyiség": "Kevés",
                                    "Készlet": "1000",
                                    "Megnevezés": "Képeslap humoros borítékos"
                                },
                                {
                                    "Mennyiség": "Kevés",
                                    "Készlet": "1000",
                                    "Megnevezés": "Lampion"
                                },
                                {
                                    "Mennyiség": "Kevés",
                                    "Készlet": "1000",
                                    "Megnevezés": "Szalvéta egyszínű"
                                },
                                {
                                    "Mennyiség": "Kevés",
                                    "Készlet": "900",
                                    "Megnevezés": "Számegyenes"
                                },
                                {
                                    "Mennyiség": "Kevés",
                                    "Készlet": "900",
                                    "Megnevezés": "Számolópálca"
                                },
                                {
                                    "Mennyiség": "Kevés",
                                    "Készlet": "900",
                                    "Megnevezés": "Matrica Stickers szíves"
                                },
                                {
                                    "Mennyiség": "Kevés",
                                    "Készlet": "900",
                                    "Megnevezés": "Ecset Centrum 7,8,9"
                                },
                                {
                                    "Mennyiség": "Kevés",
                                    "Készlet": "900",
                                    "Megnevezés": "Képeslap humoros kaparós"
                                },
                                {
                                    "Mennyiség": "Kevés",
                                    "Készlet": "900",
                                    "Megnevezés": "Képeslap karácsonyi borítékos"
                                },
                                {
                                    "Mennyiség": "Kevés",
                                    "Készlet": "900",
                                    "Megnevezés": "Color Copy A4 120 g"
                                },
                                {
                                    "Mennyiség": "Kevés",
                                    "Készlet": "900",
                                    "Megnevezés": "Festékpatron BCI-3BK"
                                },
                                {
                                    "Mennyiség": "Kevés",
                                    "Készlet": "900",
                                    "Megnevezés": "Tűzőgép Boxer "
                                },
                                {
                                    "Mennyiség": "Kevés",
                                    "Készlet": "900",
                                    "Megnevezés": "Bélyegző pocket"
                                },
                                {
                                    "Mennyiség": "Kevés",
                                    "Készlet": "900",
                                    "Megnevezés": "Összefoglaló feladatgyüjtemény számtech."
                                },
                                {
                                    "Mennyiség": "Kevés",
                                    "Készlet": "900",
                                    "Megnevezés": "Szövegkiemelő Staedtler"
                                },
                                {
                                    "Mennyiség": "Kevés",
                                    "Készlet": "900",
                                    "Megnevezés": "Golyóstoll kupakos piros"
                                },
                                {
                                    "Mennyiség": "Kevés",
                                    "Készlet": "900",
                                    "Megnevezés": "Öntapadős betűk"
                                },
                                {
                                    "Mennyiség": "Kevés",
                                    "Készlet": "900",
                                    "Megnevezés": "Hegyező gép"
                                },
                                {
                                    "Mennyiség": "Kevés",
                                    "Készlet": "900",
                                    "Megnevezés": "Ragasztó kores"
                                },
                                {
                                    "Mennyiség": "Kevés",
                                    "Készlet": "900",
                                    "Megnevezés": "Füzettartó A/4 keménytáblás"
                                },
                                {
                                    "Mennyiség": "Kevés",
                                    "Készlet": "800",
                                    "Megnevezés": "Sp.Füzet A/4  perforált, lyuk."
                                },
                                {
                                    "Mennyiség": "Kevés",
                                    "Készlet": "800",
                                    "Megnevezés": "Irattartó müa. boríték A/4"
                                },
                                {
                                    "Mennyiség": "Kevés",
                                    "Készlet": "800",
                                    "Megnevezés": "Díszkötöző szalag metál nagy"
                                },
                                {
                                    "Mennyiség": "Kevés",
                                    "Készlet": "800",
                                    "Megnevezés": "Ajándék cs. húsvéti 200x70"
                                },
                                {
                                    "Mennyiség": "Kevés",
                                    "Készlet": "800",
                                    "Megnevezés": "Ajándék csom. nagy  "
                                },
                                {
                                    "Mennyiség": "Kevés",
                                    "Készlet": "800",
                                    "Megnevezés": "Jelzőkréta"
                                },
                                {
                                    "Mennyiség": "Kevés",
                                    "Készlet": "800",
                                    "Megnevezés": "Kulcstartó intarziás állatos"
                                },
                                {
                                    "Mennyiség": "Kevés",
                                    "Készlet": "800",
                                    "Megnevezés": "Füzet A/5 hangjegy 36/16"
                                },
                                {
                                    "Mennyiség": "Kevés",
                                    "Készlet": "700",
                                    "Megnevezés": "Gyűrűskönyv színes"
                                },
                                {
                                    "Mennyiség": "Kevés",
                                    "Készlet": "700",
                                    "Megnevezés": "Matrica tetoválás"
                                },
                                {
                                    "Mennyiség": "Kevés",
                                    "Készlet": "700",
                                    "Megnevezés": "Képeslap humoros"
                                },
                                {
                                    "Mennyiség": "Kevés",
                                    "Készlet": "700",
                                    "Megnevezés": "Címke 8 db-os"
                                },
                                {
                                    "Mennyiség": "Kevés",
                                    "Készlet": "700",
                                    "Megnevezés": "Hajgumi macis"
                                },
                                {
                                    "Mennyiség": "Kevés",
                                    "Készlet": "700",
                                    "Megnevezés": "Ajándék csom. 100x70 metál"
                                },
                                {
                                    "Mennyiség": "Kevés",
                                    "Készlet": "700",
                                    "Megnevezés": "Bélyegzőfesték "
                                },
                                {
                                    "Mennyiség": "Kevés",
                                    "Készlet": "700",
                                    "Megnevezés": "Iratrendező ESSELTE"
                                },
                                {
                                    "Mennyiség": "Kevés",
                                    "Készlet": "700",
                                    "Megnevezés": "Tolltartó asztali"
                                },
                                {
                                    "Mennyiség": "Kevés",
                                    "Készlet": "700",
                                    "Megnevezés": "Tolltartó 2 zipzáros töltött"
                                },
                                {
                                    "Mennyiség": "Kevés",
                                    "Készlet": "700",
                                    "Megnevezés": "Filctoll, alkoholosOHP F-M-C"
                                },
                                {
                                    "Mennyiség": "Kevés",
                                    "Készlet": "700",
                                    "Megnevezés": "Filctoll permanent vastag"
                                },
                                {
                                    "Mennyiség": "Kevés",
                                    "Készlet": "700",
                                    "Megnevezés": "Golyóstoll Stabilo piros"
                                },
                                {
                                    "Mennyiség": "Kevés",
                                    "Készlet": "700",
                                    "Megnevezés": "Ceruzafogó"
                                },
                                {
                                    "Mennyiség": "Kevés",
                                    "Készlet": "700",
                                    "Megnevezés": "Pixiron KOH-I-NOOR"
                                },
                                {
                                    "Mennyiség": "Kevés",
                                    "Készlet": "600",
                                    "Megnevezés": "G.toll betét X20"
                                },
                                {
                                    "Mennyiség": "Kevés",
                                    "Készlet": "600",
                                    "Megnevezés": "G.toll betét PAX tip."
                                },
                                {
                                    "Mennyiség": "Kevés",
                                    "Készlet": "600",
                                    "Megnevezés": "Füzetborító A/4 átlátszó"
                                },
                                {
                                    "Mennyiség": "Kevés",
                                    "Készlet": "600",
                                    "Megnevezés": "Sorvezető"
                                },
                                {
                                    "Mennyiség": "Kevés",
                                    "Készlet": "600",
                                    "Megnevezés": "Sp.Füzet A/4 70-as"
                                },
                                {
                                    "Mennyiség": "Kevés",
                                    "Készlet": "600",
                                    "Megnevezés": "Iratsín fehér"
                                },
                                {
                                    "Mennyiség": "Kevés",
                                    "Készlet": "600",
                                    "Megnevezés": "Dekorációs karton"
                                },
                                {
                                    "Mennyiség": "Kevés",
                                    "Készlet": "600",
                                    "Megnevezés": "Mappa müa A/4"
                                },
                                {
                                    "Mennyiség": "Kevés",
                                    "Készlet": "600",
                                    "Megnevezés": "Lyukasztó EAGLE"
                                },
                                {
                                    "Mennyiség": "Kevés",
                                    "Készlet": "600",
                                    "Megnevezés": "Ajándék csom. 50x70 húsvéti"
                                },
                                {
                                    "Mennyiség": "Kevés",
                                    "Készlet": "600",
                                    "Megnevezés": "Ajándék csom. Krepp"
                                },
                                {
                                    "Mennyiség": "Kevés",
                                    "Készlet": "600",
                                    "Megnevezés": "Tenisz labda"
                                },
                                {
                                    "Mennyiség": "Kevés",
                                    "Készlet": "600",
                                    "Megnevezés": "Határidő napló 2010-s"
                                },
                                {
                                    "Mennyiség": "Kevés",
                                    "Készlet": "600",
                                    "Megnevezés": "Levélpapír sima"
                                },
                                {
                                    "Mennyiség": "Kevés",
                                    "Készlet": "600",
                                    "Megnevezés": "Képeslap \"Nászajándék\""
                                },
                                {
                                    "Mennyiség": "Kevés",
                                    "Készlet": "600",
                                    "Megnevezés": "Füzet  A/4 "
                                },
                                {
                                    "Mennyiség": "Kevés",
                                    "Készlet": "600",
                                    "Megnevezés": "Rajzszeg"
                                },
                                {
                                    "Mennyiség": "Kevés",
                                    "Készlet": "500",
                                    "Megnevezés": "Matrica Test ékszer tattoo"
                                },
                                {
                                    "Mennyiség": "Kevés",
                                    "Készlet": "500",
                                    "Megnevezés": "Plüss  QX állatok"
                                },
                                {
                                    "Mennyiség": "Kevés",
                                    "Készlet": "500",
                                    "Megnevezés": "Játékautó Blisteres"
                                },
                                {
                                    "Mennyiség": "Kevés",
                                    "Készlet": "500",
                                    "Megnevezés": "Álarc"
                                },
                                {
                                    "Mennyiség": "Kevés",
                                    "Készlet": "500",
                                    "Megnevezés": "Levélpapír szett virágos"
                                },
                                {
                                    "Mennyiség": "Kevés",
                                    "Készlet": "500",
                                    "Megnevezés": "Gumilabda közepes"
                                },
                                {
                                    "Mennyiség": "Kevés",
                                    "Készlet": "500",
                                    "Megnevezés": "Ragasztószalag széles barna"
                                },
                                {
                                    "Mennyiség": "Kevés",
                                    "Készlet": "500",
                                    "Megnevezés": "Genoterm HERLITZ 10-es"
                                },
                                {
                                    "Mennyiség": "Kevés",
                                    "Készlet": "500",
                                    "Megnevezés": "Floppy lemez"
                                },
                                {
                                    "Mennyiség": "Kevés",
                                    "Készlet": "500",
                                    "Megnevezés": "Fénymásoló papír Qconnect"
                                },
                                {
                                    "Mennyiség": "Kevés",
                                    "Készlet": "500",
                                    "Megnevezés": "Hibajav.roll.Pritt 4,2mm"
                                },
                                {
                                    "Mennyiség": "Kevés",
                                    "Készlet": "500",
                                    "Megnevezés": "Regiszteres füzet A4"
                                },
                                {
                                    "Mennyiség": "Kevés",
                                    "Készlet": "500",
                                    "Megnevezés": "Szövegkiemelő"
                                },
                                {
                                    "Mennyiség": "Kevés",
                                    "Készlet": "500",
                                    "Megnevezés": "Táblafilc"
                                },
                                {
                                    "Mennyiség": "Kevés",
                                    "Készlet": "500",
                                    "Megnevezés": "Technika cs. I-II-III-IV"
                                },
                                {
                                    "Mennyiség": "Kevés",
                                    "Készlet": "500",
                                    "Megnevezés": "Krepp papír"
                                },
                                {
                                    "Mennyiség": "Kevés",
                                    "Készlet": "500",
                                    "Megnevezés": "Hegyező műanyag dupla"
                                },
                                {
                                    "Mennyiség": "Kevés",
                                    "Készlet": "500",
                                    "Megnevezés": "Radírtoll betét vastag"
                                },
                                {
                                    "Mennyiség": "Kevés",
                                    "Készlet": "500",
                                    "Megnevezés": "Ecsetkészlet"
                                },
                                {
                                    "Mennyiség": "Kevés",
                                    "Készlet": "500",
                                    "Megnevezés": "Füzetborító A/4 mintás"
                                },
                                {
                                    "Mennyiség": "Kevés",
                                    "Készlet": "500",
                                    "Megnevezés": "G.toll betét csavaros"
                                },
                                {
                                    "Mennyiség": "Kevés",
                                    "Készlet": "500",
                                    "Megnevezés": "Filctoll CD író"
                                },
                                {
                                    "Mennyiség": "Kevés",
                                    "Készlet": "500",
                                    "Megnevezés": "Ceruza háromszög "
                                },
                                {
                                    "Mennyiség": "Kevés",
                                    "Készlet": "500",
                                    "Megnevezés": "Ceruza piros-kék vékony"
                                },
                                {
                                    "Mennyiség": "Kevés",
                                    "Készlet": "500",
                                    "Megnevezés": "Fizika munkafüzet 13 év."
                                },
                                {
                                    "Mennyiség": "Kevés",
                                    "Készlet": "500",
                                    "Megnevezés": "Fizika munkafüzet 14 év."
                                },
                                {
                                    "Mennyiség": "Kevés",
                                    "Készlet": "500",
                                    "Megnevezés": "Golyóstoll Montex Hytone"
                                },
                                {
                                    "Mennyiség": "Kevés",
                                    "Készlet": "470",
                                    "Megnevezés": "lány zokni"
                                },
                                {
                                    "Mennyiség": "Kevés",
                                    "Készlet": "468",
                                    "Megnevezés": "fiú zokni"
                                },
                                {
                                    "Mennyiség": "Kevés",
                                    "Készlet": "449",
                                    "Megnevezés": "gyermek farmer nadrág (lány)"
                                },
                                {
                                    "Mennyiség": "Kevés",
                                    "Készlet": "406",
                                    "Megnevezés": "gyermek cipő (fiú)"
                                },
                                {
                                    "Mennyiség": "Kevés",
                                    "Készlet": "400",
                                    "Megnevezés": "Érettségi felv. fel. Fizika"
                                },
                                {
                                    "Mennyiség": "Kevés",
                                    "Készlet": "400",
                                    "Megnevezés": "Golyóstoll 3 funkciós "
                                },
                                {
                                    "Mennyiség": "Kevés",
                                    "Készlet": "400",
                                    "Megnevezés": "Ironbél B 0,5"
                                },
                                {
                                    "Mennyiség": "Kevés",
                                    "Készlet": "400",
                                    "Megnevezés": "Golyóstoll Zebra mini"
                                },
                                {
                                    "Mennyiség": "Kevés",
                                    "Készlet": "400",
                                    "Megnevezés": "Golyóstoll Zebra new hard"
                                },
                                {
                                    "Mennyiség": "Kevés",
                                    "Készlet": "400",
                                    "Megnevezés": "Miliméterpapír"
                                },
                                {
                                    "Mennyiség": "Kevés",
                                    "Készlet": "400",
                                    "Megnevezés": "Meghívó ballagási"
                                },
                                {
                                    "Mennyiség": "Kevés",
                                    "Készlet": "400",
                                    "Megnevezés": "Filctoll vastag ARTIP"
                                },
                                {
                                    "Mennyiség": "Kevés",
                                    "Készlet": "400",
                                    "Megnevezés": "Olló Tagit 18 cm-es"
                                },
                                {
                                    "Mennyiség": "Kevés",
                                    "Készlet": "400",
                                    "Megnevezés": "Tolltartó 1 zipzáros"
                                },
                                {
                                    "Mennyiség": "Kevés",
                                    "Készlet": "400",
                                    "Megnevezés": "Füzettartó A/5 vastag"
                                },
                                {
                                    "Mennyiség": "Kevés",
                                    "Készlet": "400",
                                    "Megnevezés": "Írólap 10-50 ffam."
                                },
                                {
                                    "Mennyiség": "Kevés",
                                    "Készlet": "400",
                                    "Megnevezés": "Hibajavító ecsetes Aqua"
                                },
                                {
                                    "Mennyiség": "Kevés",
                                    "Készlet": "400",
                                    "Megnevezés": "Kiadási pénztárbizonylat 2×25"
                                },
                                {
                                    "Mennyiség": "Kevés",
                                    "Készlet": "400",
                                    "Megnevezés": "Iratgyűjtő fehér"
                                },
                                {
                                    "Mennyiség": "Kevés",
                                    "Készlet": "400",
                                    "Megnevezés": "Gemkapocs 28 mm"
                                },
                                {
                                    "Mennyiség": "Kevés",
                                    "Készlet": "400",
                                    "Megnevezés": "Dipa A/4 keretezett"
                                },
                                {
                                    "Mennyiség": "Kevés",
                                    "Készlet": "400",
                                    "Megnevezés": "Színes A/3 160 gr IQ"
                                },
                                {
                                    "Mennyiség": "Kevés",
                                    "Készlet": "400",
                                    "Megnevezés": "CD tartó tok"
                                },
                                {
                                    "Mennyiség": "Kevés",
                                    "Készlet": "400",
                                    "Megnevezés": "Lyukasztó BOXER"
                                },
                                {
                                    "Mennyiség": "Kevés",
                                    "Készlet": "400",
                                    "Megnevezés": "Ajándék cs. tasak italos"
                                },
                                {
                                    "Mennyiség": "Kevés",
                                    "Készlet": "400",
                                    "Megnevezés": "Képeslap stancolt szív"
                                },
                                {
                                    "Mennyiség": "Kevés",
                                    "Készlet": "400",
                                    "Megnevezés": "Játék autó"
                                },
                                {
                                    "Mennyiség": "Kevés",
                                    "Készlet": "400",
                                    "Megnevezés": "Játékautó mini"
                                },
                                {
                                    "Mennyiség": "Kevés",
                                    "Készlet": "400",
                                    "Megnevezés": "Matrica Stickers nagy állatos"
                                },
                                {
                                    "Mennyiség": "Kevés",
                                    "Készlet": "400",
                                    "Megnevezés": "Gumigyűrű"
                                },
                                {
                                    "Mennyiség": "Kevés",
                                    "Készlet": "400",
                                    "Megnevezés": "Rágógumi Orbit"
                                },
                                {
                                    "Mennyiség": "Kevés",
                                    "Készlet": "400",
                                    "Megnevezés": "Gyurma színes natúr"
                                },
                                {
                                    "Mennyiség": "Kevés",
                                    "Készlet": "400",
                                    "Megnevezés": "Gumis mappa Köbüki"
                                },
                                {
                                    "Mennyiség": "Kevés",
                                    "Készlet": "396",
                                    "Megnevezés": "gyermek kabát (fiú)"
                                },
                                {
                                    "Mennyiség": "Kevés",
                                    "Készlet": "389",
                                    "Megnevezés": "férfi szövet nadrág"
                                },
                                {
                                    "Mennyiség": "Kevés",
                                    "Készlet": "381",
                                    "Megnevezés": "férfi ing"
                                },
                                {
                                    "Mennyiség": "Kevés",
                                    "Készlet": "376",
                                    "Megnevezés": "gyermek szandál (fiú)"
                                },
                                {
                                    "Mennyiség": "Kevés",
                                    "Készlet": "373",
                                    "Megnevezés": "lány harisnya"
                                },
                                {
                                    "Mennyiség": "Kevés",
                                    "Készlet": "369",
                                    "Megnevezés": "lány alsó"
                                },
                                {
                                    "Mennyiség": "Kevés",
                                    "Készlet": "369",
                                    "Megnevezés": "kosztüm (rövid)"
                                },
                                {
                                    "Mennyiség": "Kevés",
                                    "Készlet": "355",
                                    "Megnevezés": "gyermek póló (fiú)"
                                },
                                {
                                    "Mennyiség": "Kevés",
                                    "Készlet": "328",
                                    "Megnevezés": "fiú alsó"
                                },
                                {
                                    "Mennyiség": "Kevés",
                                    "Készlet": "325",
                                    "Megnevezés": "lány ünneplős ruha"
                                },
                                {
                                    "Mennyiség": "Kevés",
                                    "Készlet": "323",
                                    "Megnevezés": "gyermek cipő (lány)"
                                },
                                {
                                    "Mennyiség": "Kevés",
                                    "Készlet": "300",
                                    "Megnevezés": "Töltőtoll tinta "
                                },
                                {
                                    "Mennyiség": "Kevés",
                                    "Készlet": "300",
                                    "Megnevezés": "Golyóstoll INOXCROM"
                                },
                                {
                                    "Mennyiség": "Kevés",
                                    "Készlet": "300",
                                    "Megnevezés": "Körző maped"
                                },
                                {
                                    "Mennyiség": "Kevés",
                                    "Készlet": "300",
                                    "Megnevezés": "Taffet papír"
                                },
                                {
                                    "Mennyiség": "Kevés",
                                    "Készlet": "300",
                                    "Megnevezés": "Füzetborító öntapadó tekercses"
                                },
                                {
                                    "Mennyiség": "Kevés",
                                    "Készlet": "300",
                                    "Megnevezés": "Füzetborító öntapadós nagy"
                                },
                                {
                                    "Mennyiség": "Kevés",
                                    "Készlet": "300",
                                    "Megnevezés": "Füzetborító átlátszó A5"
                                },
                                {
                                    "Mennyiség": "Kevés",
                                    "Készlet": "300",
                                    "Megnevezés": "Hegyező tartályos egyes"
                                },
                                {
                                    "Mennyiség": "Kevés",
                                    "Készlet": "300",
                                    "Megnevezés": "Filctoll TINTEN PEN"
                                },
                                {
                                    "Mennyiség": "Kevés",
                                    "Készlet": "300",
                                    "Megnevezés": "Gyurmakés"
                                },
                                {
                                    "Mennyiség": "Kevés",
                                    "Készlet": "300",
                                    "Megnevezés": "Szótárfüzet Lizzy"
                                },
                                {
                                    "Mennyiség": "Kevés",
                                    "Készlet": "300",
                                    "Megnevezés": "Ceruza smaragd"
                                },
                                {
                                    "Mennyiség": "Kevés",
                                    "Készlet": "300",
                                    "Megnevezés": "Ceruza stabilo opera"
                                },
                                {
                                    "Mennyiség": "Kevés",
                                    "Készlet": "300",
                                    "Megnevezés": "Számológép Roxin"
                                },
                                {
                                    "Mennyiség": "Kevés",
                                    "Készlet": "300",
                                    "Megnevezés": "Számolókorong"
                                },
                                {
                                    "Mennyiség": "Kevés",
                                    "Készlet": "300",
                                    "Megnevezés": "Szalvéta kicsi virágos"
                                },
                                {
                                    "Mennyiség": "Kevés",
                                    "Készlet": "300",
                                    "Megnevezés": "Betűtartó sin"
                                },
                                {
                                    "Mennyiség": "Kevés",
                                    "Készlet": "300",
                                    "Megnevezés": "Matrica tetoválós kicsi"
                                },
                                {
                                    "Mennyiség": "Kevés",
                                    "Készlet": "300",
                                    "Megnevezés": "Matrica WD kicsi"
                                },
                                {
                                    "Mennyiség": "Kevés",
                                    "Készlet": "300",
                                    "Megnevezés": "Pill.ragasztó"
                                },
                                {
                                    "Mennyiség": "Kevés",
                                    "Készlet": "300",
                                    "Megnevezés": "Szemetes zsák 60 literes"
                                },
                                {
                                    "Mennyiség": "Kevés",
                                    "Készlet": "300",
                                    "Megnevezés": "Matrica autóra H"
                                },
                                {
                                    "Mennyiség": "Kevés",
                                    "Készlet": "300",
                                    "Megnevezés": "Címke WD. állat"
                                },
                                {
                                    "Mennyiség": "Kevés",
                                    "Készlet": "300",
                                    "Megnevezés": "Levélpapír szett "
                                },
                                {
                                    "Mennyiség": "Kevés",
                                    "Készlet": "300",
                                    "Megnevezés": "Képeslap stancolt"
                                },
                                {
                                    "Mennyiség": "Kevés",
                                    "Készlet": "300",
                                    "Megnevezés": "Hűtőmágnes"
                                },
                                {
                                    "Mennyiség": "Kevés",
                                    "Készlet": "300",
                                    "Megnevezés": "Hűtőmágnes WD"
                                },
                                {
                                    "Mennyiség": "Kevés",
                                    "Készlet": "300",
                                    "Megnevezés": "Díszdoboz kar."
                                },
                                {
                                    "Mennyiség": "Kevés",
                                    "Készlet": "300",
                                    "Megnevezés": "Mikulás zacskó"
                                },
                                {
                                    "Mennyiség": "Kevés",
                                    "Készlet": "300",
                                    "Megnevezés": "Műanyag állatok"
                                },
                                {
                                    "Mennyiség": "Kevés",
                                    "Készlet": "300",
                                    "Megnevezés": "Spirál 1/4 "
                                },
                                {
                                    "Mennyiség": "Kevés",
                                    "Készlet": "300",
                                    "Megnevezés": "Ajándék csom. 200x70"
                                },
                                {
                                    "Mennyiség": "Kevés",
                                    "Készlet": "300",
                                    "Megnevezés": "Tűzőgép EAGLE"
                                },
                                {
                                    "Mennyiség": "Kevés",
                                    "Készlet": "300",
                                    "Megnevezés": "Tűzőkapocs 10-es"
                                },
                                {
                                    "Mennyiség": "Kevés",
                                    "Készlet": "300",
                                    "Megnevezés": "Tűzőgép Boxer 10"
                                },
                                {
                                    "Mennyiség": "Kevés",
                                    "Készlet": "300",
                                    "Megnevezés": "Notesz A/5 sima"
                                },
                                {
                                    "Mennyiség": "Kevés",
                                    "Készlet": "300",
                                    "Megnevezés": "Fax papír 15 m"
                                },
                                {
                                    "Mennyiség": "Kevés",
                                    "Készlet": "300",
                                    "Megnevezés": "Fénymásoló papír DataCopy"
                                },
                                {
                                    "Mennyiség": "Kevés",
                                    "Készlet": "300",
                                    "Megnevezés": "Színes másoló a/4 80g"
                                },
                                {
                                    "Mennyiség": "Kevés",
                                    "Készlet": "300",
                                    "Megnevezés": "Bevételi pénztárbizonylat 3×25"
                                },
                                {
                                    "Mennyiség": "Kevés",
                                    "Készlet": "300",
                                    "Megnevezés": "Hibajavító roller Pax"
                                },
                                {
                                    "Mennyiség": "Kevés",
                                    "Készlet": "300",
                                    "Megnevezés": "Hibajavító Kores mini pen"
                                },
                                {
                                    "Mennyiség": "Kevés",
                                    "Készlet": "300",
                                    "Megnevezés": "Iromány fedél feles"
                                },
                                {
                                    "Mennyiség": "Kevés",
                                    "Készlet": "300",
                                    "Megnevezés": "Naptár 24-es"
                                },
                                {
                                    "Mennyiség": "Kevés",
                                    "Készlet": "300",
                                    "Megnevezés": "Notesz mintás"
                                },
                                {
                                    "Mennyiség": "Kevés",
                                    "Készlet": "300",
                                    "Megnevezés": "Pénztárgépsz. 2 pl. nem öníró"
                                },
                                {
                                    "Mennyiség": "Kevés",
                                    "Készlet": "297",
                                    "Megnevezés": "fiú ünneplős ruha"
                                },
                                {
                                    "Mennyiség": "Kevés",
                                    "Készlet": "289",
                                    "Megnevezés": "női farmer nadrág"
                                },
                                {
                                    "Mennyiség": "Kevés",
                                    "Készlet": "283",
                                    "Megnevezés": "női koktélruha"
                                },
                                {
                                    "Mennyiség": "Kevés",
                                    "Készlet": "264",
                                    "Megnevezés": "gyermek csizma (lány)"
                                },
                                {
                                    "Mennyiség": "Kevés",
                                    "Készlet": "238",
                                    "Megnevezés": "kosztüm (hosszú)"
                                },
                                {
                                    "Mennyiség": "Kevés",
                                    "Készlet": "229",
                                    "Megnevezés": "gyermek csizma (fiú)"
                                },
                                {
                                    "Mennyiség": "Kevés",
                                    "Készlet": "205",
                                    "Megnevezés": "fiú harisnya"
                                },
                                {
                                    "Mennyiség": "Kevés",
                                    "Készlet": "200",
                                    "Megnevezés": "gyermek farmer nadrág (fiú)"
                                },
                                {
                                    "Mennyiség": "Kevés",
                                    "Készlet": "200",
                                    "Megnevezés": "Golyóstoll Pax tip."
                                },
                                {
                                    "Mennyiség": "Kevés",
                                    "Készlet": "200",
                                    "Megnevezés": "Golyóstoll penac"
                                },
                                {
                                    "Mennyiség": "Kevés",
                                    "Készlet": "200",
                                    "Megnevezés": "Golyóstoll + ceruza Twister 2in1"
                                },
                                {
                                    "Mennyiség": "Kevés",
                                    "Készlet": "200",
                                    "Megnevezés": "Ironbél  2B ICO"
                                },
                                {
                                    "Mennyiség": "Kevés",
                                    "Készlet": "200",
                                    "Megnevezés": "Ceruza szén"
                                },
                                {
                                    "Mennyiség": "Kevés",
                                    "Készlet": "200",
                                    "Megnevezés": "Ceruza zöld színű"
                                },
                                {
                                    "Mennyiség": "Kevés",
                                    "Készlet": "200",
                                    "Megnevezés": "Ironbél H 0,5"
                                },
                                {
                                    "Mennyiség": "Kevés",
                                    "Készlet": "200",
                                    "Megnevezés": "Ironbél HB 0,5"
                                },
                                {
                                    "Mennyiség": "Kevés",
                                    "Készlet": "200",
                                    "Megnevezés": "Tintapatron /kék/"
                                },
                                {
                                    "Mennyiség": "Kevés",
                                    "Készlet": "200",
                                    "Megnevezés": "Tintapatron 30 db-os kék"
                                },
                                {
                                    "Mennyiség": "Kevés",
                                    "Készlet": "200",
                                    "Megnevezés": "Tintapatron színes"
                                },
                                {
                                    "Mennyiség": "Kevés",
                                    "Készlet": "200",
                                    "Megnevezés": "Toll Centropen roller"
                                },
                                {
                                    "Mennyiség": "Kevés",
                                    "Készlet": "200",
                                    "Megnevezés": "Fizika"
                                },
                                {
                                    "Mennyiség": "Kevés",
                                    "Készlet": "200",
                                    "Megnevezés": "Matematika gyakorló 3"
                                },
                                {
                                    "Mennyiség": "Kevés",
                                    "Készlet": "200",
                                    "Megnevezés": "Jól felkészültem-e - Fizika"
                                },
                                {
                                    "Mennyiség": "Kevés",
                                    "Készlet": "200",
                                    "Megnevezés": "A föld amelyen élünk - Távoli földrészek"
                                },
                                {
                                    "Mennyiség": "Kevés",
                                    "Készlet": "200",
                                    "Megnevezés": "Ceruza Cseh"
                                },
                                {
                                    "Mennyiség": "Kevés",
                                    "Készlet": "200",
                                    "Megnevezés": "Ceruza piros-kék"
                                },
                                {
                                    "Mennyiség": "Kevés",
                                    "Készlet": "200",
                                    "Megnevezés": "Ceruza HB radiros"
                                },
                                {
                                    "Mennyiség": "Kevés",
                                    "Készlet": "200",
                                    "Megnevezés": "Ceruza 2H-4B"
                                },
                                {
                                    "Mennyiség": "Kevés",
                                    "Készlet": "200",
                                    "Megnevezés": "G.toll betét görbe hegyű"
                                },
                                {
                                    "Mennyiség": "Kevés",
                                    "Készlet": "200",
                                    "Megnevezés": "Ceruza radíros kínai"
                                },
                                {
                                    "Mennyiség": "Kevés",
                                    "Készlet": "200",
                                    "Megnevezés": "Filctoll Edding 750"
                                },
                                {
                                    "Mennyiség": "Kevés",
                                    "Készlet": "200",
                                    "Megnevezés": "Filctoll Marvy alkoholos"
                                },
                                {
                                    "Mennyiség": "Kevés",
                                    "Készlet": "200",
                                    "Megnevezés": "G. toll betét réz"
                                },
                                {
                                    "Mennyiség": "Kevés",
                                    "Készlet": "200",
                                    "Megnevezés": "G. toll betét S7S"
                                },
                                {
                                    "Mennyiség": "Kevés",
                                    "Készlet": "200",
                                    "Megnevezés": "Ablakkréta"
                                },
                                {
                                    "Mennyiség": "Kevés",
                                    "Készlet": "200",
                                    "Megnevezés": "Füzet A5 1-8 osz.-ig"
                                },
                                {
                                    "Mennyiség": "Kevés",
                                    "Készlet": "200",
                                    "Megnevezés": "Vonalzó 45 fokos"
                                },
                                {
                                    "Mennyiség": "Kevés",
                                    "Készlet": "200",
                                    "Megnevezés": "Zászló papír"
                                },
                                {
                                    "Mennyiség": "Kevés",
                                    "Készlet": "200",
                                    "Megnevezés": "Füzettartó A/4"
                                },
                                {
                                    "Mennyiség": "Kevés",
                                    "Készlet": "200",
                                    "Megnevezés": "Beíró A/5 kockás"
                                },
                                {
                                    "Mennyiség": "Kevés",
                                    "Készlet": "200",
                                    "Megnevezés": "Ragasztó 9 g Pax"
                                },
                                {
                                    "Mennyiség": "Kevés",
                                    "Készlet": "200",
                                    "Megnevezés": "G.toll betét Zebra H-0,7"
                                },
                                {
                                    "Mennyiség": "Kevés",
                                    "Készlet": "200",
                                    "Megnevezés": "G.toll betét Zebra K-0,7"
                                },
                                {
                                    "Mennyiség": "Kevés",
                                    "Készlet": "200",
                                    "Megnevezés": "Kerámiatoll"
                                },
                                {
                                    "Mennyiség": "Kevés",
                                    "Készlet": "200",
                                    "Megnevezés": "Filctoll, alkoholos Centropen"
                                },
                                {
                                    "Mennyiség": "Kevés",
                                    "Készlet": "200",
                                    "Megnevezés": "Hegyző fém 1 lyukú"
                                },
                                {
                                    "Mennyiség": "Kevés",
                                    "Készlet": "200",
                                    "Megnevezés": "Tornazsák"
                                },
                                {
                                    "Mennyiség": "Kevés",
                                    "Készlet": "200",
                                    "Megnevezés": "Számológép tudományos"
                                },
                                {
                                    "Mennyiség": "Kevés",
                                    "Készlet": "200",
                                    "Megnevezés": "Szövegkiemelő "
                                },
                                {
                                    "Mennyiség": "Kevés",
                                    "Készlet": "200",
                                    "Megnevezés": "Post-it 51×38 100 lapos"
                                },
                                {
                                    "Mennyiség": "Kevés",
                                    "Készlet": "200",
                                    "Megnevezés": "Regiszteres füzet A5 Hightech"
                                },
                                {
                                    "Mennyiség": "Kevés",
                                    "Készlet": "200",
                                    "Megnevezés": "Radír Tikky 40 "
                                },
                                {
                                    "Mennyiség": "Kevés",
                                    "Készlet": "200",
                                    "Megnevezés": "Rajzlap A/4 10db ffam."
                                },
                                {
                                    "Mennyiség": "Kevés",
                                    "Készlet": "200",
                                    "Megnevezés": "Hibajavító roller 5 mm"
                                },
                                {
                                    "Mennyiség": "Kevés",
                                    "Készlet": "200",
                                    "Megnevezés": "Álló irattartó karton"
                                },
                                {
                                    "Mennyiség": "Kevés",
                                    "Készlet": "200",
                                    "Megnevezés": "Gyorsfűző műa."
                                },
                                {
                                    "Mennyiség": "Kevés",
                                    "Készlet": "200",
                                    "Megnevezés": "Genotherm lefűzhető A4 10db-os"
                                },
                                {
                                    "Mennyiség": "Kevés",
                                    "Készlet": "200",
                                    "Megnevezés": "Átírótömb A/6"
                                },
                                {
                                    "Mennyiség": "Kevés",
                                    "Készlet": "200",
                                    "Megnevezés": "Beírókönyv A5 "
                                },
                                {
                                    "Mennyiség": "Kevés",
                                    "Készlet": "200",
                                    "Megnevezés": "Fehér másoló A/4"
                                },
                                {
                                    "Mennyiség": "Kevés",
                                    "Készlet": "200",
                                    "Megnevezés": "Kreatív A/4 120g "
                                },
                                {
                                    "Mennyiség": "Kevés",
                                    "Készlet": "200",
                                    "Megnevezés": "Fénymásoló papír GetCopy"
                                },
                                {
                                    "Mennyiség": "Kevés",
                                    "Készlet": "200",
                                    "Megnevezés": "Fotópapír A/4 fényes"
                                },
                                {
                                    "Mennyiség": "Kevés",
                                    "Készlet": "200",
                                    "Megnevezés": "Pausz papír A/4"
                                },
                                {
                                    "Mennyiség": "Kevés",
                                    "Készlet": "200",
                                    "Megnevezés": "Oklevél A/4 színes"
                                },
                                {
                                    "Mennyiség": "Kevés",
                                    "Készlet": "200",
                                    "Megnevezés": "Emléklap A/5"
                                },
                                {
                                    "Mennyiség": "Kevés",
                                    "Készlet": "200",
                                    "Megnevezés": "Boríték C/4-es"
                                },
                                {
                                    "Mennyiség": "Kevés",
                                    "Készlet": "200",
                                    "Megnevezés": "Tűzőgép mini"
                                },
                                {
                                    "Mennyiség": "Kevés",
                                    "Készlet": "200",
                                    "Megnevezés": "Gémkapocs 28-as színes"
                                },
                                {
                                    "Mennyiség": "Kevés",
                                    "Készlet": "200",
                                    "Megnevezés": "Ragasztószalag 19 mm-es"
                                },
                                {
                                    "Mennyiség": "Kevés",
                                    "Készlet": "200",
                                    "Megnevezés": "Álló irattartó"
                                },
                                {
                                    "Mennyiség": "Kevés",
                                    "Készlet": "200",
                                    "Megnevezés": "házt.csom.  5 ív"
                                },
                                {
                                    "Mennyiség": "Kevés",
                                    "Készlet": "200",
                                    "Megnevezés": "Ajándék csom. vékony"
                                },
                                {
                                    "Mennyiség": "Kevés",
                                    "Készlet": "200",
                                    "Megnevezés": "Ajándék cs. tasak italos, fólia"
                                },
                                {
                                    "Mennyiség": "Kevés",
                                    "Készlet": "200",
                                    "Megnevezés": "Levélpapír szett natur, mintás"
                                },
                                {
                                    "Mennyiség": "Kevés",
                                    "Készlet": "200",
                                    "Megnevezés": "Címke egyszínű"
                                },
                                {
                                    "Mennyiség": "Kevés",
                                    "Készlet": "200",
                                    "Megnevezés": "Mappa bőr A5"
                                },
                                {
                                    "Mennyiség": "Kevés",
                                    "Készlet": "200",
                                    "Megnevezés": "Matrica motoros kicsi"
                                },
                                {
                                    "Mennyiség": "Kevés",
                                    "Készlet": "200",
                                    "Megnevezés": "Képeslap \"Részvét\""
                                },
                                {
                                    "Mennyiség": "Kevés",
                                    "Készlet": "200",
                                    "Megnevezés": "Rajzszeg színes"
                                },
                                {
                                    "Mennyiség": "Kevés",
                                    "Készlet": "200",
                                    "Megnevezés": "Ecset Centrum 10,11,12"
                                },
                                {
                                    "Mennyiség": "Kevés",
                                    "Készlet": "200",
                                    "Megnevezés": "Ecset Deák 2-es"
                                },
                                {
                                    "Mennyiség": "Kevés",
                                    "Készlet": "200",
                                    "Megnevezés": "Ecset Lizzy 10-es"
                                },
                                {
                                    "Mennyiség": "Kevés",
                                    "Készlet": "200",
                                    "Megnevezés": "Celofán"
                                },
                                {
                                    "Mennyiség": "Kevés",
                                    "Készlet": "200",
                                    "Megnevezés": "Ragasztó, Technokol 35g kék"
                                },
                                {
                                    "Mennyiség": "Kevés",
                                    "Készlet": "200",
                                    "Megnevezés": "Szögmérő színes"
                                },
                                {
                                    "Mennyiség": "Kevés",
                                    "Készlet": "200",
                                    "Megnevezés": "Szögmérő 180 fokos műa."
                                },
                                {
                                    "Mennyiség": "Kevés",
                                    "Készlet": "200",
                                    "Megnevezés": "Ellenőrzőborító"
                                },
                                {
                                    "Mennyiség": "Kevés",
                                    "Készlet": "200",
                                    "Megnevezés": "Indigó Pelikán"
                                },
                                {
                                    "Mennyiség": "Kevés",
                                    "Készlet": "200",
                                    "Megnevezés": "Gyűrűskönyv bet. A/5"
                                },
                                {
                                    "Mennyiség": "Kevés",
                                    "Készlet": "182",
                                    "Megnevezés": "gyermek pamut nadrág (fiú)"
                                },
                                {
                                    "Mennyiség": "Kevés",
                                    "Készlet": "173",
                                    "Megnevezés": "férfi szövet kabát"
                                },
                                {
                                    "Mennyiség": "Kevés",
                                    "Készlet": "162",
                                    "Megnevezés": "gyermek pamut nadrág (lány)"
                                },
                                {
                                    "Mennyiség": "Kevés",
                                    "Készlet": "150",
                                    "Megnevezés": "Hurkapálca 10 db-os"
                                },
                                {
                                    "Mennyiség": "Kevés",
                                    "Készlet": "119",
                                    "Megnevezés": "gyermek szandál (lány)"
                                },
                                {
                                    "Mennyiség": "Kevés",
                                    "Készlet": "113",
                                    "Megnevezés": "gyermek póló (lány)"
                                },
                                {
                                    "Mennyiség": "Kevés",
                                    "Készlet": "105",
                                    "Megnevezés": "férfi farmer nadrág"
                                },
                                {
                                    "Mennyiség": "Kevés",
                                    "Készlet": "100",
                                    "Megnevezés": "Érettségi felv. fel. Biológia"
                                },
                                {
                                    "Mennyiség": "Kevés",
                                    "Készlet": "100",
                                    "Megnevezés": "A föld amelyen élünk - Hazánk földrajza"
                                },
                                {
                                    "Mennyiség": "Kevés",
                                    "Készlet": "100",
                                    "Megnevezés": "A föld amelyen élünk - Európa földrajza"
                                },
                                {
                                    "Mennyiség": "Kevés",
                                    "Készlet": "100",
                                    "Megnevezés": "Zseléstoll Lizzy Card"
                                },
                                {
                                    "Mennyiség": "Kevés",
                                    "Készlet": "100",
                                    "Megnevezés": "Matematika gyakorló 2"
                                },
                                {
                                    "Mennyiség": "Kevés",
                                    "Készlet": "100",
                                    "Megnevezés": "Informatika"
                                },
                                {
                                    "Mennyiség": "Kevés",
                                    "Készlet": "100",
                                    "Megnevezés": "Érettségi felv. fel. Matematika"
                                },
                                {
                                    "Mennyiség": "Kevés",
                                    "Készlet": "100",
                                    "Megnevezés": "Szövegszerkesztés"
                                },
                                {
                                    "Mennyiség": "Kevés",
                                    "Készlet": "100",
                                    "Megnevezés": "Fizikai feladatok és tévedések"
                                },
                                {
                                    "Mennyiség": "Kevés",
                                    "Készlet": "100",
                                    "Megnevezés": "Fogalmazás lépésről lépésre"
                                },
                                {
                                    "Mennyiség": "Kevés",
                                    "Készlet": "100",
                                    "Megnevezés": "Ironbél HI-POLIMER HB 0,7"
                                },
                                {
                                    "Mennyiség": "Kevés",
                                    "Készlet": "100",
                                    "Megnevezés": "Lakk filc Edding 750"
                                },
                                {
                                    "Mennyiség": "Kevés",
                                    "Készlet": "100",
                                    "Megnevezés": "Ceruza kínai"
                                },
                                {
                                    "Mennyiség": "Kevés",
                                    "Készlet": "100",
                                    "Megnevezés": "Golyóstoll"
                                },
                                {
                                    "Mennyiség": "Kevés",
                                    "Készlet": "100",
                                    "Megnevezés": "Ceruza szorzótáblás"
                                },
                                {
                                    "Mennyiség": "Kevés",
                                    "Készlet": "100",
                                    "Megnevezés": "Golyóstoll kétszínű"
                                },
                                {
                                    "Mennyiség": "Kevés",
                                    "Készlet": "100",
                                    "Megnevezés": "Golyóstoll"
                                },
                                {
                                    "Mennyiség": "Kevés",
                                    "Készlet": "100",
                                    "Megnevezés": "Golyóstoll illatos ICO"
                                },
                                {
                                    "Mennyiség": "Kevés",
                                    "Készlet": "100",
                                    "Megnevezés": "Sp.Füzet A/4  70es"
                                },
                                {
                                    "Mennyiség": "Kevés",
                                    "Készlet": "100",
                                    "Megnevezés": "Írólap 20-50 "
                                },
                                {
                                    "Mennyiség": "Kevés",
                                    "Készlet": "100",
                                    "Megnevezés": "Körző"
                                },
                                {
                                    "Mennyiség": "Kevés",
                                    "Készlet": "100",
                                    "Megnevezés": "Radír KOH-I-NOR 80"
                                },
                                {
                                    "Mennyiség": "Kevés",
                                    "Készlet": "100",
                                    "Megnevezés": "Szövegkiemelő vékony"
                                },
                                {
                                    "Mennyiség": "Kevés",
                                    "Készlet": "100",
                                    "Megnevezés": "Szövegkiemelő Videotip"
                                },
                                {
                                    "Mennyiség": "Kevés",
                                    "Készlet": "100",
                                    "Megnevezés": "Tempera szóló ezüst"
                                },
                                {
                                    "Mennyiség": "Kevés",
                                    "Készlet": "100",
                                    "Megnevezés": "Tempera szóló színes"
                                },
                                {
                                    "Mennyiség": "Kevés",
                                    "Készlet": "100",
                                    "Megnevezés": "Tolltartó zipzáras"
                                },
                                {
                                    "Mennyiség": "Kevés",
                                    "Készlet": "100",
                                    "Megnevezés": "Tolltartó hengeres "
                                },
                                {
                                    "Mennyiség": "Kevés",
                                    "Készlet": "100",
                                    "Megnevezés": "Tombola tömb"
                                },
                                {
                                    "Mennyiség": "Kevés",
                                    "Készlet": "100",
                                    "Megnevezés": "Olló, iskolai"
                                },
                                {
                                    "Mennyiség": "Kevés",
                                    "Készlet": "100",
                                    "Megnevezés": "Olló gyerek "
                                },
                                {
                                    "Mennyiség": "Kevés",
                                    "Készlet": "100",
                                    "Megnevezés": "Füzetborító mesefig."
                                },
                                {
                                    "Mennyiség": "Kevés",
                                    "Készlet": "100",
                                    "Megnevezés": "Füzetborító öntapadó kicsi"
                                },
                                {
                                    "Mennyiség": "Kevés",
                                    "Készlet": "100",
                                    "Megnevezés": "Hegyző fém 2 lyukú"
                                },
                                {
                                    "Mennyiség": "Kevés",
                                    "Készlet": "100",
                                    "Megnevezés": "Vízfesték  12 színű nagy"
                                },
                                {
                                    "Mennyiség": "Kevés",
                                    "Készlet": "100",
                                    "Megnevezés": "Vízfesték 12 db-os "
                                },
                                {
                                    "Mennyiség": "Kevés",
                                    "Készlet": "100",
                                    "Megnevezés": "Vízfesték 12 színű kerek"
                                },
                                {
                                    "Mennyiség": "Kevés",
                                    "Készlet": "100",
                                    "Megnevezés": "Vízfesték 12db-os kínai"
                                },
                                {
                                    "Mennyiség": "Kevés",
                                    "Készlet": "100",
                                    "Megnevezés": "Vonalzó 15 cm-es ESSELTE"
                                },
                                {
                                    "Mennyiség": "Kevés",
                                    "Készlet": "100",
                                    "Megnevezés": "Vonalzó 16 cm-es LIZZY"
                                },
                                {
                                    "Mennyiség": "Kevés",
                                    "Készlet": "100",
                                    "Megnevezés": "Vonalzó 30 cm"
                                },
                                {
                                    "Mennyiség": "Kevés",
                                    "Készlet": "100",
                                    "Megnevezés": "G.toll betét Zebra F-0.7"
                                },
                                {
                                    "Mennyiség": "Kevés",
                                    "Készlet": "100",
                                    "Megnevezés": "Ragasztó Gyurma"
                                },
                                {
                                    "Mennyiség": "Kevés",
                                    "Készlet": "100",
                                    "Megnevezés": "Vonalzó 60 fokos"
                                },
                                {
                                    "Mennyiség": "Kevés",
                                    "Készlet": "100",
                                    "Megnevezés": "Filctoll supra fine"
                                },
                                {
                                    "Mennyiség": "Kevés",
                                    "Készlet": "100",
                                    "Megnevezés": "G. toll betét mini"
                                },
                                {
                                    "Mennyiség": "Kevés",
                                    "Készlet": "100",
                                    "Megnevezés": "G. toll betét mini fém"
                                },
                                {
                                    "Mennyiség": "Kevés",
                                    "Készlet": "100",
                                    "Megnevezés": "Golyóstoll UNI laknock"
                                },
                                {
                                    "Mennyiség": "Kevés",
                                    "Készlet": "100",
                                    "Megnevezés": "Ceruza Conté zöld"
                                },
                                {
                                    "Mennyiség": "Kevés",
                                    "Készlet": "100",
                                    "Megnevezés": "Ceruza kártyás"
                                },
                                {
                                    "Mennyiség": "Kevés",
                                    "Készlet": "100",
                                    "Megnevezés": "Ceruza 2H-3B Koh-i-nor"
                                },
                                {
                                    "Mennyiség": "Kevés",
                                    "Készlet": "100",
                                    "Megnevezés": "Ceruza Progresso"
                                },
                                {
                                    "Mennyiség": "Kevés",
                                    "Készlet": "100",
                                    "Megnevezés": "Filctoll "
                                },
                                {
                                    "Mennyiség": "Kevés",
                                    "Készlet": "100",
                                    "Megnevezés": "Filctoll document pen"
                                },
                                {
                                    "Mennyiség": "Kevés",
                                    "Készlet": "100",
                                    "Megnevezés": "Ceruza stabilo swano"
                                },
                                {
                                    "Mennyiség": "Kevés",
                                    "Készlet": "100",
                                    "Megnevezés": "Papírcenti 100 cm-es"
                                },
                                {
                                    "Mennyiség": "Kevés",
                                    "Készlet": "100",
                                    "Megnevezés": "Szögmérő papír"
                                },
                                {
                                    "Mennyiség": "Kevés",
                                    "Készlet": "100",
                                    "Megnevezés": "Füzet A/5, mintás"
                                },
                                {
                                    "Mennyiség": "Kevés",
                                    "Készlet": "100",
                                    "Megnevezés": "Gyűrűskönyv betét A/5"
                                },
                                {
                                    "Mennyiség": "Kevés",
                                    "Készlet": "100",
                                    "Megnevezés": "kék indigó"
                                },
                                {
                                    "Mennyiség": "Kevés",
                                    "Készlet": "100",
                                    "Megnevezés": "Gyurma színes 200 g-os"
                                },
                                {
                                    "Mennyiség": "Kevés",
                                    "Készlet": "100",
                                    "Megnevezés": "Szalvéta "
                                },
                                {
                                    "Mennyiség": "Kevés",
                                    "Készlet": "100",
                                    "Megnevezés": "Celofán 50 db-os"
                                },
                                {
                                    "Mennyiség": "Kevés",
                                    "Készlet": "100",
                                    "Megnevezés": "Szalvéta dekor"
                                },
                                {
                                    "Mennyiség": "Kevés",
                                    "Készlet": "100",
                                    "Megnevezés": "Alufólia 10 m-es"
                                },
                                {
                                    "Mennyiség": "Kevés",
                                    "Készlet": "100",
                                    "Megnevezés": "Szilvia csomagoló"
                                },
                                {
                                    "Mennyiség": "Kevés",
                                    "Készlet": "100",
                                    "Megnevezés": "Meghívó állatos"
                                },
                                {
                                    "Mennyiség": "Kevés",
                                    "Készlet": "100",
                                    "Megnevezés": "Meghívó borítékos"
                                },
                                {
                                    "Mennyiség": "Kevés",
                                    "Készlet": "100",
                                    "Megnevezés": "Matrica világítós "
                                },
                                {
                                    "Mennyiség": "Kevés",
                                    "Készlet": "100",
                                    "Megnevezés": "Mappa PVC villámzáras"
                                },
                                {
                                    "Mennyiség": "Kevés",
                                    "Készlet": "100",
                                    "Megnevezés": "Képeslap  borítékos"
                                },
                                {
                                    "Mennyiség": "Kevés",
                                    "Készlet": "100",
                                    "Megnevezés": "Játékautó elemes"
                                },
                                {
                                    "Mennyiség": "Kevés",
                                    "Készlet": "100",
                                    "Megnevezés": "Plüss sárkány"
                                },
                                {
                                    "Mennyiség": "Kevés",
                                    "Készlet": "100",
                                    "Megnevezés": "Strandlabda "
                                },
                                {
                                    "Mennyiség": "Kevés",
                                    "Készlet": "100",
                                    "Megnevezés": "Képeslap kerek"
                                },
                                {
                                    "Mennyiség": "Kevés",
                                    "Készlet": "100",
                                    "Megnevezés": "Műanyag pohár 1 dl-es"
                                },
                                {
                                    "Mennyiség": "Kevés",
                                    "Készlet": "100",
                                    "Megnevezés": "Díszdoboz tollnak 2 db-os"
                                },
                                {
                                    "Mennyiség": "Kevés",
                                    "Készlet": "100",
                                    "Megnevezés": "Díszdoboz tollnak 2 db-os keskeny"
                                },
                                {
                                    "Mennyiség": "Kevés",
                                    "Készlet": "100",
                                    "Megnevezés": "Ajándék cs. tasak mintás kicsi"
                                },
                                {
                                    "Mennyiség": "Kevés",
                                    "Készlet": "100",
                                    "Megnevezés": "Ragasztószalag  TIXO"
                                },
                                {
                                    "Mennyiség": "Kevés",
                                    "Készlet": "100",
                                    "Megnevezés": "Oki toner C"
                                },
                                {
                                    "Mennyiség": "Kevés",
                                    "Készlet": "100",
                                    "Megnevezés": "Diszkötöző szalag arany"
                                },
                                {
                                    "Mennyiség": "Kevés",
                                    "Készlet": "100",
                                    "Megnevezés": "Díszkötöző szalag metál kicsi"
                                },
                                {
                                    "Mennyiség": "Kevés",
                                    "Készlet": "100",
                                    "Megnevezés": "iskolai csomagoló papír"
                                },
                                {
                                    "Mennyiség": "Kevés",
                                    "Készlet": "100",
                                    "Megnevezés": "Gémkapocs 50-es"
                                },
                                {
                                    "Mennyiség": "Kevés",
                                    "Készlet": "100",
                                    "Megnevezés": "Térképtű színes"
                                },
                                {
                                    "Mennyiség": "Kevés",
                                    "Készlet": "100",
                                    "Megnevezés": "Boríték B/4-es"
                                },
                                {
                                    "Mennyiség": "Kevés",
                                    "Készlet": "100",
                                    "Megnevezés": "Bélyegző IDEAL 50"
                                },
                                {
                                    "Mennyiség": "Kevés",
                                    "Készlet": "100",
                                    "Megnevezés": "Bélyegző párna"
                                },
                                {
                                    "Mennyiség": "Kevés",
                                    "Készlet": "100",
                                    "Megnevezés": "Fólia tasakos A4 125 mik."
                                },
                                {
                                    "Mennyiség": "Kevés",
                                    "Készlet": "100",
                                    "Megnevezés": "Fólia tasakos A4 80 mik."
                                },
                                {
                                    "Mennyiség": "Kevés",
                                    "Készlet": "100",
                                    "Megnevezés": "Fólia tasakos A4100 mik."
                                },
                                {
                                    "Mennyiség": "Kevés",
                                    "Készlet": "100",
                                    "Megnevezés": "Esküvői meghívó"
                                },
                                {
                                    "Mennyiség": "Kevés",
                                    "Készlet": "100",
                                    "Megnevezés": "Előlap spirálhoz"
                                },
                                {
                                    "Mennyiség": "Kevés",
                                    "Készlet": "100",
                                    "Megnevezés": "Öntapadó A/4"
                                },
                                {
                                    "Mennyiség": "Kevés",
                                    "Készlet": "100",
                                    "Megnevezés": "Selyemfényű karton A/4"
                                },
                                {
                                    "Mennyiség": "Kevés",
                                    "Készlet": "100",
                                    "Megnevezés": "Color Copy A4 200 g"
                                },
                                {
                                    "Mennyiség": "Kevés",
                                    "Készlet": "100",
                                    "Megnevezés": "Kreatív A/4 300g "
                                },
                                {
                                    "Mennyiség": "Kevés",
                                    "Készlet": "100",
                                    "Megnevezés": "Color Copy 160 g-os "
                                },
                                {
                                    "Mennyiség": "Kevés",
                                    "Készlet": "100",
                                    "Megnevezés": "Árazószalag "
                                },
                                {
                                    "Mennyiség": "Kevés",
                                    "Készlet": "100",
                                    "Megnevezés": "Márványos A/4"
                                },
                                {
                                    "Mennyiség": "Kevés",
                                    "Készlet": "100",
                                    "Megnevezés": "Beírókönyv A4"
                                },
                                {
                                    "Mennyiség": "Kevés",
                                    "Készlet": "100",
                                    "Megnevezés": "Hibajavító készlet Blanco"
                                },
                                {
                                    "Mennyiség": "Kevés",
                                    "Készlet": "100",
                                    "Megnevezés": "Hibajavító lap "
                                },
                                {
                                    "Mennyiség": "Kevés",
                                    "Készlet": "100",
                                    "Megnevezés": "Boríték LA 4 francia"
                                },
                                {
                                    "Mennyiség": "Kevés",
                                    "Készlet": "100",
                                    "Megnevezés": "Írásvetítő fólia"
                                },
                                {
                                    "Mennyiség": "Kevés",
                                    "Készlet": "100",
                                    "Megnevezés": "Pénztárgépszalag 2pl SC 57.5/60"
                                },
                                {
                                    "Mennyiség": "Kevés",
                                    "Készlet": "78",
                                    "Megnevezés": "gyermek kabát (lány)"
                                },
                                {
                                    "Mennyiség": "Kevés",
                                    "Készlet": "77",
                                    "Megnevezés": "sál"
                                },
                                {
                                    "Mennyiség": "Kevés",
                                    "Készlet": "77",
                                    "Megnevezés": "női szövet kabát"
                                },
                                {
                                    "Mennyiség": "Kevés",
                                    "Készlet": "53",
                                    "Megnevezés": "női alsó"
                                },
                                {
                                    "Mennyiség": "Kevés",
                                    "Készlet": "0",
                                    "Megnevezés": "Leckefüzet"
                                },
                                {
                                    "Mennyiség": "Kevés",
                                    "Készlet": "0",
                                    "Megnevezés": "Rovatolt papír 20 íves"
                                }
                            ]
                        },
                        "text/html": [
                            "<table>",
                            "<tr><th>Mennyiség</th><th>Készlet</th><th>Megnevezés</th></tr>",
                            "<tr><td>Sok</td><td>50000</td><td>Ajándék cs. tasak kicsi</td></tr>",
                            "<tr><td>Sok</td><td>50000</td><td>Golyóstoll levélbontós</td></tr>",
                            "<tr><td>Közepesen sok</td><td>40000</td><td>Díszkötöző szalag vékony</td></tr>",
                            "<tr><td>Közepesen sok</td><td>35000</td><td>Golyóstoll UNIBALL 07</td></tr>",
                            "<tr><td>Közepesen sok</td><td>30000</td><td>Golyóstoll UNI gumis</td></tr>",
                            "<tr><td>Közepesen sok</td><td>26000</td><td>Diszkötöző széles szalag</td></tr>",
                            "<tr><td>Közepesen sok</td><td>25000</td><td>Pixiron Handy műanyag</td></tr>",
                            "<tr><td>Közepesen sok</td><td>22000</td><td>Pixiron  UNI</td></tr>",
                            "<tr><td>Kevés</td><td>15000</td><td>Golyóstoll háromszög</td></tr>",
                            "<tr><td>Kevés</td><td>12500</td><td>Pixiron Centrum</td></tr>",
                            "<tr><td>Kevés</td><td>12000</td><td>Pixiron Handy fém</td></tr>",
                            "<tr><td>Kevés</td><td>10000</td><td>Mappa bemutató</td></tr>",
                            "<tr><td>Kevés</td><td>10000</td><td>Boríték mintás</td></tr>",
                            "<tr><td>Kevés</td><td>10000</td><td>irodai tűzőgép</td></tr>",
                            "<tr><td>Kevés</td><td>10000</td><td>Képeslap karácsonyi WD</td></tr>",
                            "<tr><td>Kevés</td><td>9000</td><td>Névjegytartó kicsi</td></tr>",
                            "<tr><td>Kevés</td><td>9000</td><td>A föld amelyen élünk - munkafüzet</td></tr>",
                            "<tr><td>Kevés</td><td>8000</td><td>Golyóstoll kétfunkciós ICO</td></tr>",
                            "<tr><td>Kevés</td><td>8000</td><td>Pixiron Penac</td></tr>",
                            "<tr><td>Kevés</td><td>8000</td><td>Ajándék cs. 2×100×70</td></tr>",
                            "<tr><td>Kevés</td><td>7700</td><td>Emlékkönyv</td></tr>",
                            "<tr><td>Kevés</td><td>7200</td><td>Golyóstoll háromfunkciós</td></tr>",
                            "<tr><td>Kevés</td><td>7000</td><td>Gumis mappa </td></tr>",
                            "<tr><td>Kevés</td><td>6900</td><td>Naptárhát nagy</td></tr>",
                            "<tr><td>Kevés</td><td>6600</td><td>Oklevél A/4 egyszínű</td></tr>",
                            "<tr><td>Kevés</td><td>6200</td><td>Matrica állatos</td></tr>",
                            "<tr><td>Kevés</td><td>6000</td><td>Zselés toll MICRO</td></tr>",
                            "<tr><td>Kevés</td><td>6000</td><td>Golyóstoll UNI átlátszó</td></tr>",
                            "<tr><td>Kevés</td><td>5900</td><td>Alufólia 20 m-es</td></tr>",
                            "<tr><td>Kevés</td><td>5100</td><td>Műanyag foszforeszkáló állat</td></tr>",
                            "<tr><td>Kevés</td><td>5000</td><td>Papízsebkendő,10db Szindy</td></tr>",
                            "<tr><td>Kevés</td><td>5000</td><td>Fizika 13 éveseknek</td></tr>",
                            "<tr><td>Kevés</td><td>4900</td><td>Ragasztó 8 g Pritt</td></tr>",
                            "<tr><td>Kevés</td><td>4700</td><td>Genotherm A4 10db-os</td></tr>",
                            "<tr><td>Kevés</td><td>4500</td><td>Füzet 31-32 szótár</td></tr>",
                            "<tr><td>Kevés</td><td>4400</td><td>Egészségügyi könyv</td></tr>",
                            "<tr><td>Kevés</td><td>4400</td><td>Sp.Füzet A/5 70-es</td></tr>",
                            "<tr><td>Kevés</td><td>4400</td><td>RAMba zárt világ</td></tr>",
                            "<tr><td>Kevés</td><td>4300</td><td>G.toll betét Parker </td></tr>",
                            "<tr><td>Kevés</td><td>4200</td><td>Tűzőkapocs 24/6</td></tr>",
                            "<tr><td>Kevés</td><td>4100</td><td>Notesz A/5 sima spirál</td></tr>",
                            "<tr><td>Kevés</td><td>4000</td><td>Ecset Nebuló 10-es</td></tr>",
                            "<tr><td>Kevés</td><td>4000</td><td>Pixiron Pentel színes</td></tr>",
                            "<tr><td>Kevés</td><td>4000</td><td>Zselés toll </td></tr>",
                            "<tr><td>Kevés</td><td>3900</td><td>Anyanyelvi gyakorló 2</td></tr>",
                            "<tr><td>Kevés</td><td>3900</td><td>Ajándék csomagoló tasak lézeres</td></tr>",
                            "<tr><td>Kevés</td><td>3700</td><td>Kulcstartó autós</td></tr>",
                            "<tr><td>Kevés</td><td>3600</td><td>Ajándék csomagoló tasak</td></tr>",
                            "<tr><td>Kevés</td><td>3600</td><td>Ecset Nebulo 4-es</td></tr>",
                            "<tr><td>Kevés</td><td>3600</td><td>Ragasztó kenőfejes Nebuló</td></tr>",
                            "<tr><td>Kevés</td><td>3500</td><td>G.toll betét illatos</td></tr>",
                            "<tr><td>Kevés</td><td>3500</td><td>Kulcstartó billiárd golyós</td></tr>",
                            "<tr><td>Kevés</td><td>3200</td><td>Gemkapocs ICO</td></tr>",
                            "<tr><td>Kevés</td><td>3100</td><td>Dekorációs karton arany, ezüst</td></tr>",
                            "<tr><td>Kevés</td><td>3000</td><td>félfamentes rajzlap A4 (10 lap)</td></tr>",
                            "<tr><td>Kevés</td><td>3000</td><td>Lufi formázható</td></tr>",
                            "<tr><td>Kevés</td><td>3000</td><td>Emlékkönyv</td></tr>",
                            "<tr><td>Kevés</td><td>3000</td><td>Ragasztó szalag KORES </td></tr>",
                            "<tr><td>Kevés</td><td>3000</td><td>Színes ceruza 12 szín</td></tr>",
                            "<tr><td>Kevés</td><td>2900</td><td>Tolltartó Garfield</td></tr>",
                            "<tr><td>Kevés</td><td>2800</td><td>Kártya mini Magyar</td></tr>",
                            "<tr><td>Kevés</td><td>2700</td><td>Határidő napló A/6</td></tr>",
                            "<tr><td>Kevés</td><td>2600</td><td>Talpas tasak</td></tr>",
                            "<tr><td>Kevés</td><td>2600</td><td>Ajándék csom. gyűrt 50x70 </td></tr>",
                            "<tr><td>Kevés</td><td>2600</td><td>Gyűjtőlap A/4</td></tr>",
                            "<tr><td>Kevés</td><td>2600</td><td>Gyűrűskönyv bet. A/4</td></tr>",
                            "<tr><td>Kevés</td><td>2600</td><td>Radír gyümölcsös</td></tr>",
                            "<tr><td>Kevés</td><td>2600</td><td>Vonalzó 20 cm-es </td></tr>",
                            "<tr><td>Kevés</td><td>2500</td><td>Kulcstartó nagyítós</td></tr>",
                            "<tr><td>Kevés</td><td>2500</td><td>Ajándék cs. tasak virágos nagy</td></tr>",
                            "<tr><td>Kevés</td><td>2500</td><td>Boríték légp. kicsi</td></tr>",
                            "<tr><td>Kevés</td><td>2500</td><td>Iratsín kék</td></tr>",
                            "<tr><td>Kevés</td><td>2400</td><td>Műanyag pohár 5 cl-es</td></tr>",
                            "<tr><td>Kevés</td><td>2400</td><td>Radír Maped</td></tr>",
                            "<tr><td>Kevés</td><td>2300</td><td>Képeslap virágos +boríték</td></tr>",
                            "<tr><td>Kevés</td><td>2300</td><td>Képeslap WD +boríték</td></tr>",
                            "<tr><td>Kevés</td><td>2300</td><td>Ajándék cs. tasak közepes</td></tr>",
                            "<tr><td>Kevés</td><td>2200</td><td>Ajándék cs. tasak kicsi</td></tr>",
                            "<tr><td>Kevés</td><td>2200</td><td>Színes papír I.II-IV.V-VIII-ig</td></tr>",
                            "<tr><td>Kevés</td><td>2200</td><td>Radír Koh-i-nor 40</td></tr>",
                            "<tr><td>Kevés</td><td>2200</td><td>Körzőhegy grafit</td></tr>",
                            "<tr><td>Kevés</td><td>2200</td><td>Színes ceruza 6-os</td></tr>",
                            "<tr><td>Kevés</td><td>2100</td><td>Képeslap karácsonyi</td></tr>",
                            "<tr><td>Kevés</td><td>2100</td><td>Ajándék cs. húsvéti</td></tr>",
                            "<tr><td>Kevés</td><td>2010</td><td>Kulcstartó mesefigurás</td></tr>",
                            "<tr><td>Kevés</td><td>2000</td><td>Logikai készlet</td></tr>",
                            "<tr><td>Kevés</td><td>2000</td><td>Plüss kicsi</td></tr>",
                            "<tr><td>Kevés</td><td>2000</td><td>Gumis mappa csomagolt</td></tr>",
                            "<tr><td>Kevés</td><td>2000</td><td>Ajándék cs. tasak mintás nagy</td></tr>",
                            "<tr><td>Kevés</td><td>2000</td><td>Notesz A/6 College</td></tr>",
                            "<tr><td>Kevés</td><td>2000</td><td>Boríték LC 5</td></tr>",
                            "<tr><td>Kevés</td><td>2000</td><td>Boríték LC 6</td></tr>",
                            "<tr><td>Kevés</td><td>2000</td><td>Füzettartó A/4 keménytáblás</td></tr>",
                            "<tr><td>Kevés</td><td>2000</td><td>Zselés toll Muhnwa</td></tr>",
                            "<tr><td>Kevés</td><td>2000</td><td>Pixiron mini </td></tr>",
                            "<tr><td>Kevés</td><td>2000</td><td>Pixiron 0,7 Handy</td></tr>",
                            "<tr><td>Kevés</td><td>2000</td><td>Golyóstoll Parker tokban</td></tr>",
                            "<tr><td>Kevés</td><td>2000</td><td>Matematika gyakorló 4</td></tr>",
                            "<tr><td>Kevés</td><td>1900</td><td>Gyurma 12 szinű</td></tr>",
                            "<tr><td>Kevés</td><td>1900</td><td>G. toll betét UNI lachnok Fine SA-7C</td></tr>",
                            "<tr><td>Kevés</td><td>1900</td><td>Ceruza arany, ezüst</td></tr>",
                            "<tr><td>Kevés</td><td>1900</td><td>Notesz sima spirál College</td></tr>",
                            "<tr><td>Kevés</td><td>1900</td><td>Ajándék csom. 150x70</td></tr>",
                            "<tr><td>Kevés</td><td>1800</td><td>Műnyomó 300g 17,5*20</td></tr>",
                            "<tr><td>Kevés</td><td>1800</td><td>Gumis mappa fóliázott állatos</td></tr>",
                            "<tr><td>Kevés</td><td>1800</td><td>Gyűrűskönyv</td></tr>",
                            "<tr><td>Kevés</td><td>1800</td><td>G.toll betét PAX</td></tr>",
                            "<tr><td>Kevés</td><td>1700</td><td>G.toll betét jumbo</td></tr>",
                            "<tr><td>Kevés</td><td>1700</td><td>Radír stabilo</td></tr>",
                            "<tr><td>Kevés</td><td>1600</td><td>Szorzótábla műanyag</td></tr>",
                            "<tr><td>Kevés</td><td>1600</td><td>Ragasztószalag 19 mm-es SCOTCH+ tépő</td></tr>",
                            "<tr><td>Kevés</td><td>1600</td><td>Tapétavágó kés</td></tr>",
                            "<tr><td>Kevés</td><td>1600</td><td>Képeslap virágos</td></tr>",
                            "<tr><td>Kevés</td><td>1600</td><td>Levélpapír A/4</td></tr>",
                            "<tr><td>Kevés</td><td>1500</td><td>Bérlet tok</td></tr>",
                            "<tr><td>Kevés</td><td>1500</td><td>Szalvéta Goma húsvéti</td></tr>",
                            "<tr><td>Kevés</td><td>1500</td><td>Füzet  A4 mintás</td></tr>",
                            "<tr><td>Kevés</td><td>1500</td><td>Color Copy A/4 250 g</td></tr>",
                            "<tr><td>Kevés</td><td>1500</td><td>Iratgyűjtő ESSELTE ablakos</td></tr>",
                            "<tr><td>Kevés</td><td>1500</td><td>Genotherm lefűzhető A/5</td></tr>",
                            "<tr><td>Kevés</td><td>1500</td><td>Post-it 75×75 100 lapos</td></tr>",
                            "<tr><td>Kevés</td><td>1500</td><td>Füzettartó A/5  </td></tr>",
                            "<tr><td>Kevés</td><td>1500</td><td>Radírtoll betét ER100</td></tr>",
                            "<tr><td>Kevés</td><td>1400</td><td>Golyóstoll Zebra 301</td></tr>",
                            "<tr><td>Kevés</td><td>1400</td><td>Anyanyelvi gyakorló 3</td></tr>",
                            "<tr><td>Kevés</td><td>1400</td><td>Naptárhát kicsi</td></tr>",
                            "<tr><td>Kevés</td><td>1400</td><td>Hőmérő, műa.</td></tr>",
                            "<tr><td>Kevés</td><td>1300</td><td>Levélpapír szett</td></tr>",
                            "<tr><td>Kevés</td><td>1300</td><td>Lufi hullámos</td></tr>",
                            "<tr><td>Kevés</td><td>1300</td><td>Ajándék csom. gyűrt</td></tr>",
                            "<tr><td>Kevés</td><td>1300</td><td>Dvd</td></tr>",
                            "<tr><td>Kevés</td><td>1300</td><td>Kapocskiszedő</td></tr>",
                            "<tr><td>Kevés</td><td>1300</td><td>Szám.tech. kicsiknek</td></tr>",
                            "<tr><td>Kevés</td><td>1200</td><td>Golyóstoll Zodiák</td></tr>",
                            "<tr><td>Kevés</td><td>1200</td><td>G.toll betét Stabilo</td></tr>",
                            "<tr><td>Kevés</td><td>1200</td><td>Bélyegző RP 18-47</td></tr>",
                            "<tr><td>Kevés</td><td>1200</td><td>Gyorsfűző dosszié fehér</td></tr>",
                            "<tr><td>Kevés</td><td>1200</td><td>Kulcstartó figurás</td></tr>",
                            "<tr><td>Kevés</td><td>1200</td><td>Szalvéta gyűjtőknek</td></tr>",
                            "<tr><td>Kevés</td><td>1100</td><td>Ragasztó, Technokol 35g piros</td></tr>",
                            "<tr><td>Kevés</td><td>1100</td><td>Italtartó doboz</td></tr>",
                            "<tr><td>Kevés</td><td>1100</td><td>Öntapadós hologramos papír A/4</td></tr>",
                            "<tr><td>Kevés</td><td>1100</td><td>Tokos iratrendező</td></tr>",
                            "<tr><td>Kevés</td><td>1100</td><td>Tűzőgép SAX 239</td></tr>",
                            "<tr><td>Kevés</td><td>1100</td><td>Ragasztószalag nagy 12 mm</td></tr>",
                            "<tr><td>Kevés</td><td>1100</td><td>Radír Tikky 30 </td></tr>",
                            "<tr><td>Kevés</td><td>1000</td><td>Tolltartó 2 részes NG.</td></tr>",
                            "<tr><td>Kevés</td><td>1000</td><td>Hegyező műanyag egyes</td></tr>",
                            "<tr><td>Kevés</td><td>1000</td><td>G.toll betét S7L </td></tr>",
                            "<tr><td>Kevés</td><td>1000</td><td>Filctoll, textil Edding 4500</td></tr>",
                            "<tr><td>Kevés</td><td>1000</td><td>Golyóstoll Stabiló 308</td></tr>",
                            "<tr><td>Kevés</td><td>1000</td><td>Ajándék csom. 70x50 metál</td></tr>",
                            "<tr><td>Kevés</td><td>1000</td><td>Színes karton A4</td></tr>",
                            "<tr><td>Kevés</td><td>1000</td><td>Színes ofszet B/4</td></tr>",
                            "<tr><td>Kevés</td><td>1000</td><td>Fehér másoló A/3</td></tr>",
                            "<tr><td>Kevés</td><td>1000</td><td>Gyorsfűző műa.</td></tr>",
                            "<tr><td>Kevés</td><td>1000</td><td>Levélpapír állatos</td></tr>",
                            "<tr><td>Kevés</td><td>1000</td><td>Képkirakó Dirib-darab</td></tr>",
                            "<tr><td>Kevés</td><td>1000</td><td>Álarc fejdísz</td></tr>",
                            "<tr><td>Kevés</td><td>1000</td><td>Álarc szemüveg</td></tr>",
                            "<tr><td>Kevés</td><td>1000</td><td>Kulcstartó Csőrikés</td></tr>",
                            "<tr><td>Kevés</td><td>1000</td><td>Mappa PVC villámzáras  képes</td></tr>",
                            "<tr><td>Kevés</td><td>1000</td><td>Emlékkönyv lakatos</td></tr>",
                            "<tr><td>Kevés</td><td>1000</td><td>Képeslap humoros </td></tr>",
                            "<tr><td>Kevés</td><td>1000</td><td>Képeslap humoros borítékos</td></tr>",
                            "<tr><td>Kevés</td><td>1000</td><td>Lampion</td></tr>",
                            "<tr><td>Kevés</td><td>1000</td><td>Szalvéta egyszínű</td></tr>",
                            "<tr><td>Kevés</td><td>900</td><td>Számegyenes</td></tr>",
                            "<tr><td>Kevés</td><td>900</td><td>Számolópálca</td></tr>",
                            "<tr><td>Kevés</td><td>900</td><td>Matrica Stickers szíves</td></tr>",
                            "<tr><td>Kevés</td><td>900</td><td>Ecset Centrum 7,8,9</td></tr>",
                            "<tr><td>Kevés</td><td>900</td><td>Képeslap humoros kaparós</td></tr>",
                            "<tr><td>Kevés</td><td>900</td><td>Képeslap karácsonyi borítékos</td></tr>",
                            "<tr><td>Kevés</td><td>900</td><td>Color Copy A4 120 g</td></tr>",
                            "<tr><td>Kevés</td><td>900</td><td>Festékpatron BCI-3BK</td></tr>",
                            "<tr><td>Kevés</td><td>900</td><td>Tűzőgép Boxer </td></tr>",
                            "<tr><td>Kevés</td><td>900</td><td>Bélyegző pocket</td></tr>",
                            "<tr><td>Kevés</td><td>900</td><td>Összefoglaló feladatgyüjtemény számtech.</td></tr>",
                            "<tr><td>Kevés</td><td>900</td><td>Szövegkiemelő Staedtler</td></tr>",
                            "<tr><td>Kevés</td><td>900</td><td>Golyóstoll kupakos piros</td></tr>",
                            "<tr><td>Kevés</td><td>900</td><td>Öntapadős betűk</td></tr>",
                            "<tr><td>Kevés</td><td>900</td><td>Hegyező gép</td></tr>",
                            "<tr><td>Kevés</td><td>900</td><td>Ragasztó kores</td></tr>",
                            "<tr><td>Kevés</td><td>900</td><td>Füzettartó A/4 keménytáblás</td></tr>",
                            "<tr><td>Kevés</td><td>800</td><td>Sp.Füzet A/4  perforált, lyuk.</td></tr>",
                            "<tr><td>Kevés</td><td>800</td><td>Irattartó müa. boríték A/4</td></tr>",
                            "<tr><td>Kevés</td><td>800</td><td>Díszkötöző szalag metál nagy</td></tr>",
                            "<tr><td>Kevés</td><td>800</td><td>Ajándék cs. húsvéti 200x70</td></tr>",
                            "<tr><td>Kevés</td><td>800</td><td>Ajándék csom. nagy  </td></tr>",
                            "<tr><td>Kevés</td><td>800</td><td>Jelzőkréta</td></tr>",
                            "<tr><td>Kevés</td><td>800</td><td>Kulcstartó intarziás állatos</td></tr>",
                            "<tr><td>Kevés</td><td>800</td><td>Füzet A/5 hangjegy 36/16</td></tr>",
                            "<tr><td>Kevés</td><td>700</td><td>Gyűrűskönyv színes</td></tr>",
                            "<tr><td>Kevés</td><td>700</td><td>Matrica tetoválás</td></tr>",
                            "<tr><td>Kevés</td><td>700</td><td>Képeslap humoros</td></tr>",
                            "<tr><td>Kevés</td><td>700</td><td>Címke 8 db-os</td></tr>",
                            "<tr><td>Kevés</td><td>700</td><td>Hajgumi macis</td></tr>",
                            "<tr><td>Kevés</td><td>700</td><td>Ajándék csom. 100x70 metál</td></tr>",
                            "<tr><td>Kevés</td><td>700</td><td>Bélyegzőfesték </td></tr>",
                            "<tr><td>Kevés</td><td>700</td><td>Iratrendező ESSELTE</td></tr>",
                            "<tr><td>Kevés</td><td>700</td><td>Tolltartó asztali</td></tr>",
                            "<tr><td>Kevés</td><td>700</td><td>Tolltartó 2 zipzáros töltött</td></tr>",
                            "<tr><td>Kevés</td><td>700</td><td>Filctoll, alkoholosOHP F-M-C</td></tr>",
                            "<tr><td>Kevés</td><td>700</td><td>Filctoll permanent vastag</td></tr>",
                            "<tr><td>Kevés</td><td>700</td><td>Golyóstoll Stabilo piros</td></tr>",
                            "<tr><td>Kevés</td><td>700</td><td>Ceruzafogó</td></tr>",
                            "<tr><td>Kevés</td><td>700</td><td>Pixiron KOH-I-NOOR</td></tr>",
                            "<tr><td>Kevés</td><td>600</td><td>G.toll betét X20</td></tr>",
                            "<tr><td>Kevés</td><td>600</td><td>G.toll betét PAX tip.</td></tr>",
                            "<tr><td>Kevés</td><td>600</td><td>Füzetborító A/4 átlátszó</td></tr>",
                            "<tr><td>Kevés</td><td>600</td><td>Sorvezető</td></tr>",
                            "<tr><td>Kevés</td><td>600</td><td>Sp.Füzet A/4 70-as</td></tr>",
                            "<tr><td>Kevés</td><td>600</td><td>Iratsín fehér</td></tr>",
                            "<tr><td>Kevés</td><td>600</td><td>Dekorációs karton</td></tr>",
                            "<tr><td>Kevés</td><td>600</td><td>Mappa müa A/4</td></tr>",
                            "<tr><td>Kevés</td><td>600</td><td>Lyukasztó EAGLE</td></tr>",
                            "<tr><td>Kevés</td><td>600</td><td>Ajándék csom. 50x70 húsvéti</td></tr>",
                            "<tr><td>Kevés</td><td>600</td><td>Ajándék csom. Krepp</td></tr>",
                            "<tr><td>Kevés</td><td>600</td><td>Tenisz labda</td></tr>",
                            "<tr><td>Kevés</td><td>600</td><td>Határidő napló 2010-s</td></tr>",
                            "<tr><td>Kevés</td><td>600</td><td>Levélpapír sima</td></tr>",
                            "<tr><td>Kevés</td><td>600</td><td>Képeslap &quot;Nászajándék&quot;</td></tr>",
                            "<tr><td>Kevés</td><td>600</td><td>Füzet  A/4 </td></tr>",
                            "<tr><td>Kevés</td><td>600</td><td>Rajzszeg</td></tr>",
                            "<tr><td>Kevés</td><td>500</td><td>Matrica Test ékszer tattoo</td></tr>",
                            "<tr><td>Kevés</td><td>500</td><td>Plüss  QX állatok</td></tr>",
                            "<tr><td>Kevés</td><td>500</td><td>Játékautó Blisteres</td></tr>",
                            "<tr><td>Kevés</td><td>500</td><td>Álarc</td></tr>",
                            "<tr><td>Kevés</td><td>500</td><td>Levélpapír szett virágos</td></tr>",
                            "<tr><td>Kevés</td><td>500</td><td>Gumilabda közepes</td></tr>",
                            "<tr><td>Kevés</td><td>500</td><td>Ragasztószalag széles barna</td></tr>",
                            "<tr><td>Kevés</td><td>500</td><td>Genoterm HERLITZ 10-es</td></tr>",
                            "<tr><td>Kevés</td><td>500</td><td>Floppy lemez</td></tr>",
                            "<tr><td>Kevés</td><td>500</td><td>Fénymásoló papír Qconnect</td></tr>",
                            "<tr><td>Kevés</td><td>500</td><td>Hibajav.roll.Pritt 4,2mm</td></tr>",
                            "<tr><td>Kevés</td><td>500</td><td>Regiszteres füzet A4</td></tr>",
                            "<tr><td>Kevés</td><td>500</td><td>Szövegkiemelő</td></tr>",
                            "<tr><td>Kevés</td><td>500</td><td>Táblafilc</td></tr>",
                            "<tr><td>Kevés</td><td>500</td><td>Technika cs. I-II-III-IV</td></tr>",
                            "<tr><td>Kevés</td><td>500</td><td>Krepp papír</td></tr>",
                            "<tr><td>Kevés</td><td>500</td><td>Hegyező műanyag dupla</td></tr>",
                            "<tr><td>Kevés</td><td>500</td><td>Radírtoll betét vastag</td></tr>",
                            "<tr><td>Kevés</td><td>500</td><td>Ecsetkészlet</td></tr>",
                            "<tr><td>Kevés</td><td>500</td><td>Füzetborító A/4 mintás</td></tr>",
                            "<tr><td>Kevés</td><td>500</td><td>G.toll betét csavaros</td></tr>",
                            "<tr><td>Kevés</td><td>500</td><td>Filctoll CD író</td></tr>",
                            "<tr><td>Kevés</td><td>500</td><td>Ceruza háromszög </td></tr>",
                            "<tr><td>Kevés</td><td>500</td><td>Ceruza piros-kék vékony</td></tr>",
                            "<tr><td>Kevés</td><td>500</td><td>Fizika munkafüzet 13 év.</td></tr>",
                            "<tr><td>Kevés</td><td>500</td><td>Fizika munkafüzet 14 év.</td></tr>",
                            "<tr><td>Kevés</td><td>500</td><td>Golyóstoll Montex Hytone</td></tr>",
                            "<tr><td>Kevés</td><td>470</td><td>lány zokni</td></tr>",
                            "<tr><td>Kevés</td><td>468</td><td>fiú zokni</td></tr>",
                            "<tr><td>Kevés</td><td>449</td><td>gyermek farmer nadrág (lány)</td></tr>",
                            "<tr><td>Kevés</td><td>406</td><td>gyermek cipő (fiú)</td></tr>",
                            "<tr><td>Kevés</td><td>400</td><td>Érettségi felv. fel. Fizika</td></tr>",
                            "<tr><td>Kevés</td><td>400</td><td>Golyóstoll 3 funkciós </td></tr>",
                            "<tr><td>Kevés</td><td>400</td><td>Ironbél B 0,5</td></tr>",
                            "<tr><td>Kevés</td><td>400</td><td>Golyóstoll Zebra mini</td></tr>",
                            "<tr><td>Kevés</td><td>400</td><td>Golyóstoll Zebra new hard</td></tr>",
                            "<tr><td>Kevés</td><td>400</td><td>Miliméterpapír</td></tr>",
                            "<tr><td>Kevés</td><td>400</td><td>Meghívó ballagási</td></tr>",
                            "<tr><td>Kevés</td><td>400</td><td>Filctoll vastag ARTIP</td></tr>",
                            "<tr><td>Kevés</td><td>400</td><td>Olló Tagit 18 cm-es</td></tr>",
                            "<tr><td>Kevés</td><td>400</td><td>Tolltartó 1 zipzáros</td></tr>",
                            "<tr><td>Kevés</td><td>400</td><td>Füzettartó A/5 vastag</td></tr>",
                            "<tr><td>Kevés</td><td>400</td><td>Írólap 10-50 ffam.</td></tr>",
                            "<tr><td>Kevés</td><td>400</td><td>Hibajavító ecsetes Aqua</td></tr>",
                            "<tr><td>Kevés</td><td>400</td><td>Kiadási pénztárbizonylat 2×25</td></tr>",
                            "<tr><td>Kevés</td><td>400</td><td>Iratgyűjtő fehér</td></tr>",
                            "<tr><td>Kevés</td><td>400</td><td>Gemkapocs 28 mm</td></tr>",
                            "<tr><td>Kevés</td><td>400</td><td>Dipa A/4 keretezett</td></tr>",
                            "<tr><td>Kevés</td><td>400</td><td>Színes A/3 160 gr IQ</td></tr>",
                            "<tr><td>Kevés</td><td>400</td><td>CD tartó tok</td></tr>",
                            "<tr><td>Kevés</td><td>400</td><td>Lyukasztó BOXER</td></tr>",
                            "<tr><td>Kevés</td><td>400</td><td>Ajándék cs. tasak italos</td></tr>",
                            "<tr><td>Kevés</td><td>400</td><td>Képeslap stancolt szív</td></tr>",
                            "<tr><td>Kevés</td><td>400</td><td>Játék autó</td></tr>",
                            "<tr><td>Kevés</td><td>400</td><td>Játékautó mini</td></tr>",
                            "<tr><td>Kevés</td><td>400</td><td>Matrica Stickers nagy állatos</td></tr>",
                            "<tr><td>Kevés</td><td>400</td><td>Gumigyűrű</td></tr>",
                            "<tr><td>Kevés</td><td>400</td><td>Rágógumi Orbit</td></tr>",
                            "<tr><td>Kevés</td><td>400</td><td>Gyurma színes natúr</td></tr>",
                            "<tr><td>Kevés</td><td>400</td><td>Gumis mappa Köbüki</td></tr>",
                            "<tr><td>Kevés</td><td>396</td><td>gyermek kabát (fiú)</td></tr>",
                            "<tr><td>Kevés</td><td>389</td><td>férfi szövet nadrág</td></tr>",
                            "<tr><td>Kevés</td><td>381</td><td>férfi ing</td></tr>",
                            "<tr><td>Kevés</td><td>376</td><td>gyermek szandál (fiú)</td></tr>",
                            "<tr><td>Kevés</td><td>373</td><td>lány harisnya</td></tr>",
                            "<tr><td>Kevés</td><td>369</td><td>lány alsó</td></tr>",
                            "<tr><td>Kevés</td><td>369</td><td>kosztüm (rövid)</td></tr>",
                            "<tr><td>Kevés</td><td>355</td><td>gyermek póló (fiú)</td></tr>",
                            "<tr><td>Kevés</td><td>328</td><td>fiú alsó</td></tr>",
                            "<tr><td>Kevés</td><td>325</td><td>lány ünneplős ruha</td></tr>",
                            "<tr><td>Kevés</td><td>323</td><td>gyermek cipő (lány)</td></tr>",
                            "<tr><td>Kevés</td><td>300</td><td>Töltőtoll tinta </td></tr>",
                            "<tr><td>Kevés</td><td>300</td><td>Golyóstoll INOXCROM</td></tr>",
                            "<tr><td>Kevés</td><td>300</td><td>Körző maped</td></tr>",
                            "<tr><td>Kevés</td><td>300</td><td>Taffet papír</td></tr>",
                            "<tr><td>Kevés</td><td>300</td><td>Füzetborító öntapadó tekercses</td></tr>",
                            "<tr><td>Kevés</td><td>300</td><td>Füzetborító öntapadós nagy</td></tr>",
                            "<tr><td>Kevés</td><td>300</td><td>Füzetborító átlátszó A5</td></tr>",
                            "<tr><td>Kevés</td><td>300</td><td>Hegyező tartályos egyes</td></tr>",
                            "<tr><td>Kevés</td><td>300</td><td>Filctoll TINTEN PEN</td></tr>",
                            "<tr><td>Kevés</td><td>300</td><td>Gyurmakés</td></tr>",
                            "<tr><td>Kevés</td><td>300</td><td>Szótárfüzet Lizzy</td></tr>",
                            "<tr><td>Kevés</td><td>300</td><td>Ceruza smaragd</td></tr>",
                            "<tr><td>Kevés</td><td>300</td><td>Ceruza stabilo opera</td></tr>",
                            "<tr><td>Kevés</td><td>300</td><td>Számológép Roxin</td></tr>",
                            "<tr><td>Kevés</td><td>300</td><td>Számolókorong</td></tr>",
                            "<tr><td>Kevés</td><td>300</td><td>Szalvéta kicsi virágos</td></tr>",
                            "<tr><td>Kevés</td><td>300</td><td>Betűtartó sin</td></tr>",
                            "<tr><td>Kevés</td><td>300</td><td>Matrica tetoválós kicsi</td></tr>",
                            "<tr><td>Kevés</td><td>300</td><td>Matrica WD kicsi</td></tr>",
                            "<tr><td>Kevés</td><td>300</td><td>Pill.ragasztó</td></tr>",
                            "<tr><td>Kevés</td><td>300</td><td>Szemetes zsák 60 literes</td></tr>",
                            "<tr><td>Kevés</td><td>300</td><td>Matrica autóra H</td></tr>",
                            "<tr><td>Kevés</td><td>300</td><td>Címke WD. állat</td></tr>",
                            "<tr><td>Kevés</td><td>300</td><td>Levélpapír szett </td></tr>",
                            "<tr><td>Kevés</td><td>300</td><td>Képeslap stancolt</td></tr>",
                            "<tr><td>Kevés</td><td>300</td><td>Hűtőmágnes</td></tr>",
                            "<tr><td>Kevés</td><td>300</td><td>Hűtőmágnes WD</td></tr>",
                            "<tr><td>Kevés</td><td>300</td><td>Díszdoboz kar.</td></tr>",
                            "<tr><td>Kevés</td><td>300</td><td>Mikulás zacskó</td></tr>",
                            "<tr><td>Kevés</td><td>300</td><td>Műanyag állatok</td></tr>",
                            "<tr><td>Kevés</td><td>300</td><td>Spirál 1/4 </td></tr>",
                            "<tr><td>Kevés</td><td>300</td><td>Ajándék csom. 200x70</td></tr>",
                            "<tr><td>Kevés</td><td>300</td><td>Tűzőgép EAGLE</td></tr>",
                            "<tr><td>Kevés</td><td>300</td><td>Tűzőkapocs 10-es</td></tr>",
                            "<tr><td>Kevés</td><td>300</td><td>Tűzőgép Boxer 10</td></tr>",
                            "<tr><td>Kevés</td><td>300</td><td>Notesz A/5 sima</td></tr>",
                            "<tr><td>Kevés</td><td>300</td><td>Fax papír 15 m</td></tr>",
                            "<tr><td>Kevés</td><td>300</td><td>Fénymásoló papír DataCopy</td></tr>",
                            "<tr><td>Kevés</td><td>300</td><td>Színes másoló a/4 80g</td></tr>",
                            "<tr><td>Kevés</td><td>300</td><td>Bevételi pénztárbizonylat 3×25</td></tr>",
                            "<tr><td>Kevés</td><td>300</td><td>Hibajavító roller Pax</td></tr>",
                            "<tr><td>Kevés</td><td>300</td><td>Hibajavító Kores mini pen</td></tr>",
                            "<tr><td>Kevés</td><td>300</td><td>Iromány fedél feles</td></tr>",
                            "<tr><td>Kevés</td><td>300</td><td>Naptár 24-es</td></tr>",
                            "<tr><td>Kevés</td><td>300</td><td>Notesz mintás</td></tr>",
                            "<tr><td>Kevés</td><td>300</td><td>Pénztárgépsz. 2 pl. nem öníró</td></tr>",
                            "<tr><td>Kevés</td><td>297</td><td>fiú ünneplős ruha</td></tr>",
                            "<tr><td>Kevés</td><td>289</td><td>női farmer nadrág</td></tr>",
                            "<tr><td>Kevés</td><td>283</td><td>női koktélruha</td></tr>",
                            "<tr><td>Kevés</td><td>264</td><td>gyermek csizma (lány)</td></tr>",
                            "<tr><td>Kevés</td><td>238</td><td>kosztüm (hosszú)</td></tr>",
                            "<tr><td>Kevés</td><td>229</td><td>gyermek csizma (fiú)</td></tr>",
                            "<tr><td>Kevés</td><td>205</td><td>fiú harisnya</td></tr>",
                            "<tr><td>Kevés</td><td>200</td><td>gyermek farmer nadrág (fiú)</td></tr>",
                            "<tr><td>Kevés</td><td>200</td><td>Golyóstoll Pax tip.</td></tr>",
                            "<tr><td>Kevés</td><td>200</td><td>Golyóstoll penac</td></tr>",
                            "<tr><td>Kevés</td><td>200</td><td>Golyóstoll + ceruza Twister 2in1</td></tr>",
                            "<tr><td>Kevés</td><td>200</td><td>Ironbél  2B ICO</td></tr>",
                            "<tr><td>Kevés</td><td>200</td><td>Ceruza szén</td></tr>",
                            "<tr><td>Kevés</td><td>200</td><td>Ceruza zöld színű</td></tr>",
                            "<tr><td>Kevés</td><td>200</td><td>Ironbél H 0,5</td></tr>",
                            "<tr><td>Kevés</td><td>200</td><td>Ironbél HB 0,5</td></tr>",
                            "<tr><td>Kevés</td><td>200</td><td>Tintapatron /kék/</td></tr>",
                            "<tr><td>Kevés</td><td>200</td><td>Tintapatron 30 db-os kék</td></tr>",
                            "<tr><td>Kevés</td><td>200</td><td>Tintapatron színes</td></tr>",
                            "<tr><td>Kevés</td><td>200</td><td>Toll Centropen roller</td></tr>",
                            "<tr><td>Kevés</td><td>200</td><td>Fizika</td></tr>",
                            "<tr><td>Kevés</td><td>200</td><td>Matematika gyakorló 3</td></tr>",
                            "<tr><td>Kevés</td><td>200</td><td>Jól felkészültem-e - Fizika</td></tr>",
                            "<tr><td>Kevés</td><td>200</td><td>A föld amelyen élünk - Távoli földrészek</td></tr>",
                            "<tr><td>Kevés</td><td>200</td><td>Ceruza Cseh</td></tr>",
                            "<tr><td>Kevés</td><td>200</td><td>Ceruza piros-kék</td></tr>",
                            "<tr><td>Kevés</td><td>200</td><td>Ceruza HB radiros</td></tr>",
                            "<tr><td>Kevés</td><td>200</td><td>Ceruza 2H-4B</td></tr>",
                            "<tr><td>Kevés</td><td>200</td><td>G.toll betét görbe hegyű</td></tr>",
                            "<tr><td>Kevés</td><td>200</td><td>Ceruza radíros kínai</td></tr>",
                            "<tr><td>Kevés</td><td>200</td><td>Filctoll Edding 750</td></tr>",
                            "<tr><td>Kevés</td><td>200</td><td>Filctoll Marvy alkoholos</td></tr>",
                            "<tr><td>Kevés</td><td>200</td><td>G. toll betét réz</td></tr>",
                            "<tr><td>Kevés</td><td>200</td><td>G. toll betét S7S</td></tr>",
                            "<tr><td>Kevés</td><td>200</td><td>Ablakkréta</td></tr>",
                            "<tr><td>Kevés</td><td>200</td><td>Füzet A5 1-8 osz.-ig</td></tr>",
                            "<tr><td>Kevés</td><td>200</td><td>Vonalzó 45 fokos</td></tr>",
                            "<tr><td>Kevés</td><td>200</td><td>Zászló papír</td></tr>",
                            "<tr><td>Kevés</td><td>200</td><td>Füzettartó A/4</td></tr>",
                            "<tr><td>Kevés</td><td>200</td><td>Beíró A/5 kockás</td></tr>",
                            "<tr><td>Kevés</td><td>200</td><td>Ragasztó 9 g Pax</td></tr>",
                            "<tr><td>Kevés</td><td>200</td><td>G.toll betét Zebra H-0,7</td></tr>",
                            "<tr><td>Kevés</td><td>200</td><td>G.toll betét Zebra K-0,7</td></tr>",
                            "<tr><td>Kevés</td><td>200</td><td>Kerámiatoll</td></tr>",
                            "<tr><td>Kevés</td><td>200</td><td>Filctoll, alkoholos Centropen</td></tr>",
                            "<tr><td>Kevés</td><td>200</td><td>Hegyző fém 1 lyukú</td></tr>",
                            "<tr><td>Kevés</td><td>200</td><td>Tornazsák</td></tr>",
                            "<tr><td>Kevés</td><td>200</td><td>Számológép tudományos</td></tr>",
                            "<tr><td>Kevés</td><td>200</td><td>Szövegkiemelő </td></tr>",
                            "<tr><td>Kevés</td><td>200</td><td>Post-it 51×38 100 lapos</td></tr>",
                            "<tr><td>Kevés</td><td>200</td><td>Regiszteres füzet A5 Hightech</td></tr>",
                            "<tr><td>Kevés</td><td>200</td><td>Radír Tikky 40 </td></tr>",
                            "<tr><td>Kevés</td><td>200</td><td>Rajzlap A/4 10db ffam.</td></tr>",
                            "<tr><td>Kevés</td><td>200</td><td>Hibajavító roller 5 mm</td></tr>",
                            "<tr><td>Kevés</td><td>200</td><td>Álló irattartó karton</td></tr>",
                            "<tr><td>Kevés</td><td>200</td><td>Gyorsfűző műa.</td></tr>",
                            "<tr><td>Kevés</td><td>200</td><td>Genotherm lefűzhető A4 10db-os</td></tr>",
                            "<tr><td>Kevés</td><td>200</td><td>Átírótömb A/6</td></tr>",
                            "<tr><td>Kevés</td><td>200</td><td>Beírókönyv A5 </td></tr>",
                            "<tr><td>Kevés</td><td>200</td><td>Fehér másoló A/4</td></tr>",
                            "<tr><td>Kevés</td><td>200</td><td>Kreatív A/4 120g </td></tr>",
                            "<tr><td>Kevés</td><td>200</td><td>Fénymásoló papír GetCopy</td></tr>",
                            "<tr><td>Kevés</td><td>200</td><td>Fotópapír A/4 fényes</td></tr>",
                            "<tr><td>Kevés</td><td>200</td><td>Pausz papír A/4</td></tr>",
                            "<tr><td>Kevés</td><td>200</td><td>Oklevél A/4 színes</td></tr>",
                            "<tr><td>Kevés</td><td>200</td><td>Emléklap A/5</td></tr>",
                            "<tr><td>Kevés</td><td>200</td><td>Boríték C/4-es</td></tr>",
                            "<tr><td>Kevés</td><td>200</td><td>Tűzőgép mini</td></tr>",
                            "<tr><td>Kevés</td><td>200</td><td>Gémkapocs 28-as színes</td></tr>",
                            "<tr><td>Kevés</td><td>200</td><td>Ragasztószalag 19 mm-es</td></tr>",
                            "<tr><td>Kevés</td><td>200</td><td>Álló irattartó</td></tr>",
                            "<tr><td>Kevés</td><td>200</td><td>házt.csom.  5 ív</td></tr>",
                            "<tr><td>Kevés</td><td>200</td><td>Ajándék csom. vékony</td></tr>",
                            "<tr><td>Kevés</td><td>200</td><td>Ajándék cs. tasak italos, fólia</td></tr>",
                            "<tr><td>Kevés</td><td>200</td><td>Levélpapír szett natur, mintás</td></tr>",
                            "<tr><td>Kevés</td><td>200</td><td>Címke egyszínű</td></tr>",
                            "<tr><td>Kevés</td><td>200</td><td>Mappa bőr A5</td></tr>",
                            "<tr><td>Kevés</td><td>200</td><td>Matrica motoros kicsi</td></tr>",
                            "<tr><td>Kevés</td><td>200</td><td>Képeslap &quot;Részvét&quot;</td></tr>",
                            "<tr><td>Kevés</td><td>200</td><td>Rajzszeg színes</td></tr>",
                            "<tr><td>Kevés</td><td>200</td><td>Ecset Centrum 10,11,12</td></tr>",
                            "<tr><td>Kevés</td><td>200</td><td>Ecset Deák 2-es</td></tr>",
                            "<tr><td>Kevés</td><td>200</td><td>Ecset Lizzy 10-es</td></tr>",
                            "<tr><td>Kevés</td><td>200</td><td>Celofán</td></tr>",
                            "<tr><td>Kevés</td><td>200</td><td>Ragasztó, Technokol 35g kék</td></tr>",
                            "<tr><td>Kevés</td><td>200</td><td>Szögmérő színes</td></tr>",
                            "<tr><td>Kevés</td><td>200</td><td>Szögmérő 180 fokos műa.</td></tr>",
                            "<tr><td>Kevés</td><td>200</td><td>Ellenőrzőborító</td></tr>",
                            "<tr><td>Kevés</td><td>200</td><td>Indigó Pelikán</td></tr>",
                            "<tr><td>Kevés</td><td>200</td><td>Gyűrűskönyv bet. A/5</td></tr>",
                            "<tr><td>Kevés</td><td>182</td><td>gyermek pamut nadrág (fiú)</td></tr>",
                            "<tr><td>Kevés</td><td>173</td><td>férfi szövet kabát</td></tr>",
                            "<tr><td>Kevés</td><td>162</td><td>gyermek pamut nadrág (lány)</td></tr>",
                            "<tr><td>Kevés</td><td>150</td><td>Hurkapálca 10 db-os</td></tr>",
                            "<tr><td>Kevés</td><td>119</td><td>gyermek szandál (lány)</td></tr>",
                            "<tr><td>Kevés</td><td>113</td><td>gyermek póló (lány)</td></tr>",
                            "<tr><td>Kevés</td><td>105</td><td>férfi farmer nadrág</td></tr>",
                            "<tr><td>Kevés</td><td>100</td><td>Érettségi felv. fel. Biológia</td></tr>",
                            "<tr><td>Kevés</td><td>100</td><td>A föld amelyen élünk - Hazánk földrajza</td></tr>",
                            "<tr><td>Kevés</td><td>100</td><td>A föld amelyen élünk - Európa földrajza</td></tr>",
                            "<tr><td>Kevés</td><td>100</td><td>Zseléstoll Lizzy Card</td></tr>",
                            "<tr><td>Kevés</td><td>100</td><td>Matematika gyakorló 2</td></tr>",
                            "<tr><td>Kevés</td><td>100</td><td>Informatika</td></tr>",
                            "<tr><td>Kevés</td><td>100</td><td>Érettségi felv. fel. Matematika</td></tr>",
                            "<tr><td>Kevés</td><td>100</td><td>Szövegszerkesztés</td></tr>",
                            "<tr><td>Kevés</td><td>100</td><td>Fizikai feladatok és tévedések</td></tr>",
                            "<tr><td>Kevés</td><td>100</td><td>Fogalmazás lépésről lépésre</td></tr>",
                            "<tr><td>Kevés</td><td>100</td><td>Ironbél HI-POLIMER HB 0,7</td></tr>",
                            "<tr><td>Kevés</td><td>100</td><td>Lakk filc Edding 750</td></tr>",
                            "<tr><td>Kevés</td><td>100</td><td>Ceruza kínai</td></tr>",
                            "<tr><td>Kevés</td><td>100</td><td>Golyóstoll</td></tr>",
                            "<tr><td>Kevés</td><td>100</td><td>Ceruza szorzótáblás</td></tr>",
                            "<tr><td>Kevés</td><td>100</td><td>Golyóstoll kétszínű</td></tr>",
                            "<tr><td>Kevés</td><td>100</td><td>Golyóstoll</td></tr>",
                            "<tr><td>Kevés</td><td>100</td><td>Golyóstoll illatos ICO</td></tr>",
                            "<tr><td>Kevés</td><td>100</td><td>Sp.Füzet A/4  70es</td></tr>",
                            "<tr><td>Kevés</td><td>100</td><td>Írólap 20-50 </td></tr>",
                            "<tr><td>Kevés</td><td>100</td><td>Körző</td></tr>",
                            "<tr><td>Kevés</td><td>100</td><td>Radír KOH-I-NOR 80</td></tr>",
                            "<tr><td>Kevés</td><td>100</td><td>Szövegkiemelő vékony</td></tr>",
                            "<tr><td>Kevés</td><td>100</td><td>Szövegkiemelő Videotip</td></tr>",
                            "<tr><td>Kevés</td><td>100</td><td>Tempera szóló ezüst</td></tr>",
                            "<tr><td>Kevés</td><td>100</td><td>Tempera szóló színes</td></tr>",
                            "<tr><td>Kevés</td><td>100</td><td>Tolltartó zipzáras</td></tr>",
                            "<tr><td>Kevés</td><td>100</td><td>Tolltartó hengeres </td></tr>",
                            "<tr><td>Kevés</td><td>100</td><td>Tombola tömb</td></tr>",
                            "<tr><td>Kevés</td><td>100</td><td>Olló, iskolai</td></tr>",
                            "<tr><td>Kevés</td><td>100</td><td>Olló gyerek </td></tr>",
                            "<tr><td>Kevés</td><td>100</td><td>Füzetborító mesefig.</td></tr>",
                            "<tr><td>Kevés</td><td>100</td><td>Füzetborító öntapadó kicsi</td></tr>",
                            "<tr><td>Kevés</td><td>100</td><td>Hegyző fém 2 lyukú</td></tr>",
                            "<tr><td>Kevés</td><td>100</td><td>Vízfesték  12 színű nagy</td></tr>",
                            "<tr><td>Kevés</td><td>100</td><td>Vízfesték 12 db-os </td></tr>",
                            "<tr><td>Kevés</td><td>100</td><td>Vízfesték 12 színű kerek</td></tr>",
                            "<tr><td>Kevés</td><td>100</td><td>Vízfesték 12db-os kínai</td></tr>",
                            "<tr><td>Kevés</td><td>100</td><td>Vonalzó 15 cm-es ESSELTE</td></tr>",
                            "<tr><td>Kevés</td><td>100</td><td>Vonalzó 16 cm-es LIZZY</td></tr>",
                            "<tr><td>Kevés</td><td>100</td><td>Vonalzó 30 cm</td></tr>",
                            "<tr><td>Kevés</td><td>100</td><td>G.toll betét Zebra F-0.7</td></tr>",
                            "<tr><td>Kevés</td><td>100</td><td>Ragasztó Gyurma</td></tr>",
                            "<tr><td>Kevés</td><td>100</td><td>Vonalzó 60 fokos</td></tr>",
                            "<tr><td>Kevés</td><td>100</td><td>Filctoll supra fine</td></tr>",
                            "<tr><td>Kevés</td><td>100</td><td>G. toll betét mini</td></tr>",
                            "<tr><td>Kevés</td><td>100</td><td>G. toll betét mini fém</td></tr>",
                            "<tr><td>Kevés</td><td>100</td><td>Golyóstoll UNI laknock</td></tr>",
                            "<tr><td>Kevés</td><td>100</td><td>Ceruza Conté zöld</td></tr>",
                            "<tr><td>Kevés</td><td>100</td><td>Ceruza kártyás</td></tr>",
                            "<tr><td>Kevés</td><td>100</td><td>Ceruza 2H-3B Koh-i-nor</td></tr>",
                            "<tr><td>Kevés</td><td>100</td><td>Ceruza Progresso</td></tr>",
                            "<tr><td>Kevés</td><td>100</td><td>Filctoll </td></tr>",
                            "<tr><td>Kevés</td><td>100</td><td>Filctoll document pen</td></tr>",
                            "<tr><td>Kevés</td><td>100</td><td>Ceruza stabilo swano</td></tr>",
                            "<tr><td>Kevés</td><td>100</td><td>Papírcenti 100 cm-es</td></tr>",
                            "<tr><td>Kevés</td><td>100</td><td>Szögmérő papír</td></tr>",
                            "<tr><td>Kevés</td><td>100</td><td>Füzet A/5, mintás</td></tr>",
                            "<tr><td>Kevés</td><td>100</td><td>Gyűrűskönyv betét A/5</td></tr>",
                            "<tr><td>Kevés</td><td>100</td><td>kék indigó</td></tr>",
                            "<tr><td>Kevés</td><td>100</td><td>Gyurma színes 200 g-os</td></tr>",
                            "<tr><td>Kevés</td><td>100</td><td>Szalvéta </td></tr>",
                            "<tr><td>Kevés</td><td>100</td><td>Celofán 50 db-os</td></tr>",
                            "<tr><td>Kevés</td><td>100</td><td>Szalvéta dekor</td></tr>",
                            "<tr><td>Kevés</td><td>100</td><td>Alufólia 10 m-es</td></tr>",
                            "<tr><td>Kevés</td><td>100</td><td>Szilvia csomagoló</td></tr>",
                            "<tr><td>Kevés</td><td>100</td><td>Meghívó állatos</td></tr>",
                            "<tr><td>Kevés</td><td>100</td><td>Meghívó borítékos</td></tr>",
                            "<tr><td>Kevés</td><td>100</td><td>Matrica világítós </td></tr>",
                            "<tr><td>Kevés</td><td>100</td><td>Mappa PVC villámzáras</td></tr>",
                            "<tr><td>Kevés</td><td>100</td><td>Képeslap  borítékos</td></tr>",
                            "<tr><td>Kevés</td><td>100</td><td>Játékautó elemes</td></tr>",
                            "<tr><td>Kevés</td><td>100</td><td>Plüss sárkány</td></tr>",
                            "<tr><td>Kevés</td><td>100</td><td>Strandlabda </td></tr>",
                            "<tr><td>Kevés</td><td>100</td><td>Képeslap kerek</td></tr>",
                            "<tr><td>Kevés</td><td>100</td><td>Műanyag pohár 1 dl-es</td></tr>",
                            "<tr><td>Kevés</td><td>100</td><td>Díszdoboz tollnak 2 db-os</td></tr>",
                            "<tr><td>Kevés</td><td>100</td><td>Díszdoboz tollnak 2 db-os keskeny</td></tr>",
                            "<tr><td>Kevés</td><td>100</td><td>Ajándék cs. tasak mintás kicsi</td></tr>",
                            "<tr><td>Kevés</td><td>100</td><td>Ragasztószalag  TIXO</td></tr>",
                            "<tr><td>Kevés</td><td>100</td><td>Oki toner C</td></tr>",
                            "<tr><td>Kevés</td><td>100</td><td>Diszkötöző szalag arany</td></tr>",
                            "<tr><td>Kevés</td><td>100</td><td>Díszkötöző szalag metál kicsi</td></tr>",
                            "<tr><td>Kevés</td><td>100</td><td>iskolai csomagoló papír</td></tr>",
                            "<tr><td>Kevés</td><td>100</td><td>Gémkapocs 50-es</td></tr>",
                            "<tr><td>Kevés</td><td>100</td><td>Térképtű színes</td></tr>",
                            "<tr><td>Kevés</td><td>100</td><td>Boríték B/4-es</td></tr>",
                            "<tr><td>Kevés</td><td>100</td><td>Bélyegző IDEAL 50</td></tr>",
                            "<tr><td>Kevés</td><td>100</td><td>Bélyegző párna</td></tr>",
                            "<tr><td>Kevés</td><td>100</td><td>Fólia tasakos A4 125 mik.</td></tr>",
                            "<tr><td>Kevés</td><td>100</td><td>Fólia tasakos A4 80 mik.</td></tr>",
                            "<tr><td>Kevés</td><td>100</td><td>Fólia tasakos A4100 mik.</td></tr>",
                            "<tr><td>Kevés</td><td>100</td><td>Esküvői meghívó</td></tr>",
                            "<tr><td>Kevés</td><td>100</td><td>Előlap spirálhoz</td></tr>",
                            "<tr><td>Kevés</td><td>100</td><td>Öntapadó A/4</td></tr>",
                            "<tr><td>Kevés</td><td>100</td><td>Selyemfényű karton A/4</td></tr>",
                            "<tr><td>Kevés</td><td>100</td><td>Color Copy A4 200 g</td></tr>",
                            "<tr><td>Kevés</td><td>100</td><td>Kreatív A/4 300g </td></tr>",
                            "<tr><td>Kevés</td><td>100</td><td>Color Copy 160 g-os </td></tr>",
                            "<tr><td>Kevés</td><td>100</td><td>Árazószalag </td></tr>",
                            "<tr><td>Kevés</td><td>100</td><td>Márványos A/4</td></tr>",
                            "<tr><td>Kevés</td><td>100</td><td>Beírókönyv A4</td></tr>",
                            "<tr><td>Kevés</td><td>100</td><td>Hibajavító készlet Blanco</td></tr>",
                            "<tr><td>Kevés</td><td>100</td><td>Hibajavító lap </td></tr>",
                            "<tr><td>Kevés</td><td>100</td><td>Boríték LA 4 francia</td></tr>",
                            "<tr><td>Kevés</td><td>100</td><td>Írásvetítő fólia</td></tr>",
                            "<tr><td>Kevés</td><td>100</td><td>Pénztárgépszalag 2pl SC 57.5/60</td></tr>",
                            "<tr><td>Kevés</td><td>78</td><td>gyermek kabát (lány)</td></tr>",
                            "<tr><td>Kevés</td><td>77</td><td>sál</td></tr>",
                            "<tr><td>Kevés</td><td>77</td><td>női szövet kabát</td></tr>",
                            "<tr><td>Kevés</td><td>53</td><td>női alsó</td></tr>",
                            "<tr><td>Kevés</td><td>0</td><td>Leckefüzet</td></tr>",
                            "<tr><td>Kevés</td><td>0</td><td>Rovatolt papír 20 íves</td></tr>",
                            "</table>"
                        ]
                    }
                }
            ],
            "execution_count": 24
        },
        {
            "cell_type": "code",
            "source": [
                ""
            ],
            "metadata": {
                "azdata_cell_guid": "3fd8568b-02d9-4b9d-9328-c586150717b8",
                "language": "sql"
            },
            "outputs": [
                {
                    "output_type": "display_data",
                    "data": {
                        "text/html": "Commands completed successfully."
                    },
                    "metadata": {}
                },
                {
                    "output_type": "display_data",
                    "data": {
                        "text/html": "Total execution time: 00:00:00"
                    },
                    "metadata": {}
                }
            ],
            "execution_count": 25
        }
    ]
}