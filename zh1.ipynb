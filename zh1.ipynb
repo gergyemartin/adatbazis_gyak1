{
    "metadata": {
        "kernelspec": {
            "name": "SQL",
            "display_name": "SQL",
            "language": "sql"
        },
        "language_info": {
            "name": "sql",
            "version": ""
        }
    },
    "nbformat_minor": 2,
    "nbformat": 4,
    "cells": [
        {
            "cell_type": "code",
            "source": [
                "SELECT NEV AS 'Név',\r\n",
                "       EMAIL AS 'Email'\r\n",
                "FROM Vendeg\r\n",
                "WHERE SZUL_DAT BETWEEN '1990-06-15' AND '1990-12-31'\r\n",
                "ORDER BY MONTH(SZUL_DAT) "
            ],
            "metadata": {
                "azdata_cell_guid": "507aa39e-e84d-49b4-bc51-cb7cbf380414",
                "language": "sql"
            },
            "outputs": [
                {
                    "output_type": "display_data",
                    "data": {
                        "text/html": "(4 rows affected)"
                    },
                    "metadata": {}
                },
                {
                    "output_type": "display_data",
                    "data": {
                        "text/html": "Total execution time: 00:00:00.002"
                    },
                    "metadata": {}
                },
                {
                    "output_type": "execute_result",
                    "metadata": {},
                    "execution_count": 9,
                    "data": {
                        "application/vnd.dataresource+json": {
                            "schema": {
                                "fields": [
                                    {
                                        "name": "Név"
                                    },
                                    {
                                        "name": "Email"
                                    }
                                ]
                            },
                            "data": [
                                {
                                    "Név": "Bodor Szabolcs",
                                    "Email": "szabolcs.bodor@mail.hu"
                                },
                                {
                                    "Név": "Bosnyák Ilona",
                                    "Email": "ilona3@gmail.com"
                                },
                                {
                                    "Név": "Szabó Julianna",
                                    "Email": "julianna4@gmail.com"
                                },
                                {
                                    "Név": "Berta Dávid",
                                    "Email": "david4@gmail.com"
                                }
                            ]
                        },
                        "text/html": [
                            "<table>",
                            "<tr><th>Név</th><th>Email</th></tr>",
                            "<tr><td>Bodor Szabolcs</td><td>szabolcs.bodor@mail.hu</td></tr>",
                            "<tr><td>Bosnyák Ilona</td><td>ilona3@gmail.com</td></tr>",
                            "<tr><td>Szabó Julianna</td><td>julianna4@gmail.com</td></tr>",
                            "<tr><td>Berta Dávid</td><td>david4@gmail.com</td></tr>",
                            "</table>"
                        ]
                    }
                }
            ],
            "execution_count": 9
        },
        {
            "cell_type": "code",
            "source": [
                "SELECT szh.TIPUS AS 'Típus',\r\n",
                "       ROUND(COUNT(FOGLALAS_PK),-2) AS 'Darabszám'\r\n",
                "FROM Foglalas f JOIN Szoba sz ON f.SZOBA_FK = sz.SZOBA_ID\r\n",
                "                JOIN Szallashely szh ON sz.SZALLAS_FK = szh.SZALLAS_ID\r\n",
                "GROUP BY szh.TIPUS\r\n",
                "HAVING ROUND(COUNT(FOGLALAS_PK),-2) < 500  "
            ],
            "metadata": {
                "azdata_cell_guid": "cb0fc247-b3f6-4be3-ae8c-80a0f6288085",
                "language": "sql"
            },
            "outputs": [
                {
                    "output_type": "display_data",
                    "data": {
                        "text/html": "(3 rows affected)"
                    },
                    "metadata": {}
                },
                {
                    "output_type": "display_data",
                    "data": {
                        "text/html": "Total execution time: 00:00:00.008"
                    },
                    "metadata": {}
                },
                {
                    "output_type": "execute_result",
                    "metadata": {},
                    "execution_count": 13,
                    "data": {
                        "application/vnd.dataresource+json": {
                            "schema": {
                                "fields": [
                                    {
                                        "name": "Típus"
                                    },
                                    {
                                        "name": "Darabszám"
                                    }
                                ]
                            },
                            "data": [
                                {
                                    "Típus": "Apartman",
                                    "Darabszám": "100"
                                },
                                {
                                    "Típus": "vendégház",
                                    "Darabszám": "100"
                                },
                                {
                                    "Típus": "panzió",
                                    "Darabszám": "200"
                                }
                            ]
                        },
                        "text/html": [
                            "<table>",
                            "<tr><th>Típus</th><th>Darabszám</th></tr>",
                            "<tr><td>Apartman</td><td>100</td></tr>",
                            "<tr><td>vendégház</td><td>100</td></tr>",
                            "<tr><td>panzió</td><td>200</td></tr>",
                            "</table>"
                        ]
                    }
                }
            ],
            "execution_count": 13
        }
    ]
}