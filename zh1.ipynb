{
    "metadata": {
        "kernelspec": {
            "name": "SQL",
            "display_name": "SQL",
            "language": "sql"
        },
        "language_info": {
            "name": "sql",
            "version": ""
        }
    },
    "nbformat_minor": 2,
    "nbformat": 4,
    "cells": [
        {
            "cell_type": "code",
            "source": [
                "SELECT NEV AS 'Név',\r\n",
                "       EMAIL AS 'Email'\r\n",
                "FROM Vendeg\r\n",
                "WHERE SZUL_DAT BETWEEN '1990-06-15' AND '1990-12-31'\r\n",
                "ORDER BY MONTH(SZUL_DAT) "
            ],
            "metadata": {
                "azdata_cell_guid": "507aa39e-e84d-49b4-bc51-cb7cbf380414",
                "language": "sql"
            },
            "outputs": [
                {
                    "output_type": "display_data",
                    "data": {
                        "text/html": "(4 rows affected)"
                    },
                    "metadata": {}
                },
                {
                    "output_type": "display_data",
                    "data": {
                        "text/html": "Total execution time: 00:00:00.002"
                    },
                    "metadata": {}
                },
                {
                    "output_type": "execute_result",
                    "metadata": {},
                    "execution_count": 9,
                    "data": {
                        "application/vnd.dataresource+json": {
                            "schema": {
                                "fields": [
                                    {
                                        "name": "Név"
                                    },
                                    {
                                        "name": "Email"
                                    }
                                ]
                            },
                            "data": [
                                {
                                    "Név": "Bodor Szabolcs",
                                    "Email": "szabolcs.bodor@mail.hu"
                                },
                                {
                                    "Név": "Bosnyák Ilona",
                                    "Email": "ilona3@gmail.com"
                                },
                                {
                                    "Név": "Szabó Julianna",
                                    "Email": "julianna4@gmail.com"
                                },
                                {
                                    "Név": "Berta Dávid",
                                    "Email": "david4@gmail.com"
                                }
                            ]
                        },
                        "text/html": [
                            "<table>",
                            "<tr><th>Név</th><th>Email</th></tr>",
                            "<tr><td>Bodor Szabolcs</td><td>szabolcs.bodor@mail.hu</td></tr>",
                            "<tr><td>Bosnyák Ilona</td><td>ilona3@gmail.com</td></tr>",
                            "<tr><td>Szabó Julianna</td><td>julianna4@gmail.com</td></tr>",
                            "<tr><td>Berta Dávid</td><td>david4@gmail.com</td></tr>",
                            "</table>"
                        ]
                    }
                }
            ],
            "execution_count": 9
        },
        {
            "cell_type": "code",
            "source": [
                "SELECT szh.TIPUS AS 'Típus',\r\n",
                "       ROUND(COUNT(FOGLALAS_PK),-2) AS 'Darabszám'\r\n",
                "FROM Foglalas f JOIN Szoba sz ON f.SZOBA_FK = sz.SZOBA_ID\r\n",
                "                JOIN Szallashely szh ON sz.SZALLAS_FK = szh.SZALLAS_ID\r\n",
                "GROUP BY szh.TIPUS\r\n",
                "HAVING ROUND(COUNT(FOGLALAS_PK),-2) < 500  "
            ],
            "metadata": {
                "azdata_cell_guid": "cb0fc247-b3f6-4be3-ae8c-80a0f6288085",
                "language": "sql"
            },
            "outputs": [
                {
                    "output_type": "display_data",
                    "data": {
                        "text/html": "(3 rows affected)"
                    },
                    "metadata": {}
                },
                {
                    "output_type": "display_data",
                    "data": {
                        "text/html": "Total execution time: 00:00:00.008"
                    },
                    "metadata": {}
                },
                {
                    "output_type": "execute_result",
                    "metadata": {},
                    "execution_count": 13,
                    "data": {
                        "application/vnd.dataresource+json": {
                            "schema": {
                                "fields": [
                                    {
                                        "name": "Típus"
                                    },
                                    {
                                        "name": "Darabszám"
                                    }
                                ]
                            },
                            "data": [
                                {
                                    "Típus": "Apartman",
                                    "Darabszám": "100"
                                },
                                {
                                    "Típus": "vendégház",
                                    "Darabszám": "100"
                                },
                                {
                                    "Típus": "panzió",
                                    "Darabszám": "200"
                                }
                            ]
                        },
                        "text/html": [
                            "<table>",
                            "<tr><th>Típus</th><th>Darabszám</th></tr>",
                            "<tr><td>Apartman</td><td>100</td></tr>",
                            "<tr><td>vendégház</td><td>100</td></tr>",
                            "<tr><td>panzió</td><td>200</td></tr>",
                            "</table>"
                        ]
                    }
                }
            ],
            "execution_count": 13
        },
        {
            "cell_type": "code",
            "source": [
                "SELECT sz.SZOBA_ID AS 'Szoba azonosító',\r\n",
                "       sz.SZALLAS_FK AS 'Szállás',\r\n",
                "       sz.SZOBA_SZAMA AS 'Szobák száma',\r\n",
                "       sz.FEROHELY AS 'Férőhely',\r\n",
                "       sz.POTAGY AS 'Pótágy',\r\n",
                "       sz.KLIMAS AS 'Kímás',\r\n",
                "       szh.SZALLAS_NEV,\r\n",
                "      CASE \r\n",
                "      WHEN TIPUS = 'panzió' THEN 'Igen'\r\n",
                "      ELSE 'Nem' END AS 'Panzió-e'\r\n",
                "FROM Szoba sz LEFT JOIN Foglalas f ON sz.SZOBA_ID = f.SZOBA_FK\r\n",
                "              JOIN Szallashely szh ON sz.SZALLAS_FK = szh.SZALLAS_ID\r\n",
                "WHERE f.SZOBA_FK IS NULL"
            ],
            "metadata": {
                "azdata_cell_guid": "dbe9f07d-8bdb-4f1e-8a28-313fad7b971d",
                "language": "sql"
            },
            "outputs": [
                {
                    "output_type": "display_data",
                    "data": {
                        "text/html": "(97 rows affected)"
                    },
                    "metadata": {}
                },
                {
                    "output_type": "display_data",
                    "data": {
                        "text/html": "Total execution time: 00:00:00.015"
                    },
                    "metadata": {}
                },
                {
                    "output_type": "execute_result",
                    "metadata": {},
                    "execution_count": 19,
                    "data": {
                        "application/vnd.dataresource+json": {
                            "schema": {
                                "fields": [
                                    {
                                        "name": "Szoba azonosító"
                                    },
                                    {
                                        "name": "Szállás"
                                    },
                                    {
                                        "name": "Szobák száma"
                                    },
                                    {
                                        "name": "Férőhely"
                                    },
                                    {
                                        "name": "Pótágy"
                                    },
                                    {
                                        "name": "Kímás"
                                    },
                                    {
                                        "name": "SZALLAS_NEV"
                                    },
                                    {
                                        "name": "Panzió-e"
                                    }
                                ]
                            },
                            "data": [
                                {
                                    "Szoba azonosító": "159",
                                    "Szállás": "10",
                                    "Szobák száma": "25",
                                    "Férőhely": "3",
                                    "Pótágy": "1",
                                    "Kímás": "n",
                                    "SZALLAS_NEV": "Lagúna Hotel",
                                    "Panzió-e": "Nem"
                                },
                                {
                                    "Szoba azonosító": "199",
                                    "Szállás": "12",
                                    "Szobák száma": "35",
                                    "Férőhely": "3",
                                    "Pótágy": "2",
                                    "Kímás": "i",
                                    "SZALLAS_NEV": "Gold Hotel",
                                    "Panzió-e": "Nem"
                                },
                                {
                                    "Szoba azonosító": "200",
                                    "Szállás": "12",
                                    "Szobák száma": "36",
                                    "Férőhely": "2",
                                    "Pótágy": "0",
                                    "Kímás": "i",
                                    "SZALLAS_NEV": "Gold Hotel",
                                    "Panzió-e": "Nem"
                                },
                                {
                                    "Szoba azonosító": "201",
                                    "Szállás": "12",
                                    "Szobák száma": "37",
                                    "Férőhely": "3",
                                    "Pótágy": "1",
                                    "Kímás": "n",
                                    "SZALLAS_NEV": "Gold Hotel",
                                    "Panzió-e": "Nem"
                                },
                                {
                                    "Szoba azonosító": "202",
                                    "Szállás": "12",
                                    "Szobák száma": "38",
                                    "Férőhely": "3",
                                    "Pótágy": "1",
                                    "Kímás": "i",
                                    "SZALLAS_NEV": "Gold Hotel",
                                    "Panzió-e": "Nem"
                                },
                                {
                                    "Szoba azonosító": "203",
                                    "Szállás": "12",
                                    "Szobák száma": "39",
                                    "Férőhely": "3",
                                    "Pótágy": "0",
                                    "Kímás": "i",
                                    "SZALLAS_NEV": "Gold Hotel",
                                    "Panzió-e": "Nem"
                                },
                                {
                                    "Szoba azonosító": "204",
                                    "Szállás": "12",
                                    "Szobák száma": "40",
                                    "Férőhely": "3",
                                    "Pótágy": "1",
                                    "Kímás": "i",
                                    "SZALLAS_NEV": "Gold Hotel",
                                    "Panzió-e": "Nem"
                                },
                                {
                                    "Szoba azonosító": "205",
                                    "Szállás": "12",
                                    "Szobák száma": "41",
                                    "Férőhely": "3",
                                    "Pótágy": "0",
                                    "Kímás": "i",
                                    "SZALLAS_NEV": "Gold Hotel",
                                    "Panzió-e": "Nem"
                                },
                                {
                                    "Szoba azonosító": "206",
                                    "Szállás": "12",
                                    "Szobák száma": "42",
                                    "Férőhely": "2",
                                    "Pótágy": "1",
                                    "Kímás": "i",
                                    "SZALLAS_NEV": "Gold Hotel",
                                    "Panzió-e": "Nem"
                                },
                                {
                                    "Szoba azonosító": "207",
                                    "Szállás": "12",
                                    "Szobák száma": "43",
                                    "Férőhely": "2",
                                    "Pótágy": "1",
                                    "Kímás": "i",
                                    "SZALLAS_NEV": "Gold Hotel",
                                    "Panzió-e": "Nem"
                                },
                                {
                                    "Szoba azonosító": "208",
                                    "Szállás": "12",
                                    "Szobák száma": "44",
                                    "Férőhely": "2",
                                    "Pótágy": "1",
                                    "Kímás": "i",
                                    "SZALLAS_NEV": "Gold Hotel",
                                    "Panzió-e": "Nem"
                                },
                                {
                                    "Szoba azonosító": "209",
                                    "Szállás": "12",
                                    "Szobák száma": "45",
                                    "Férőhely": "3",
                                    "Pótágy": "2",
                                    "Kímás": "n",
                                    "SZALLAS_NEV": "Gold Hotel",
                                    "Panzió-e": "Nem"
                                },
                                {
                                    "Szoba azonosító": "210",
                                    "Szállás": "12",
                                    "Szobák száma": "46",
                                    "Férőhely": "2",
                                    "Pótágy": "0",
                                    "Kímás": "i",
                                    "SZALLAS_NEV": "Gold Hotel",
                                    "Panzió-e": "Nem"
                                },
                                {
                                    "Szoba azonosító": "211",
                                    "Szállás": "12",
                                    "Szobák száma": "47",
                                    "Férőhely": "2",
                                    "Pótágy": "1",
                                    "Kímás": "i",
                                    "SZALLAS_NEV": "Gold Hotel",
                                    "Panzió-e": "Nem"
                                },
                                {
                                    "Szoba azonosító": "212",
                                    "Szállás": "12",
                                    "Szobák száma": "48",
                                    "Férőhely": "3",
                                    "Pótágy": "0",
                                    "Kímás": "n",
                                    "SZALLAS_NEV": "Gold Hotel",
                                    "Panzió-e": "Nem"
                                },
                                {
                                    "Szoba azonosító": "213",
                                    "Szállás": "12",
                                    "Szobák száma": "49",
                                    "Férőhely": "3",
                                    "Pótágy": "0",
                                    "Kímás": "i",
                                    "SZALLAS_NEV": "Gold Hotel",
                                    "Panzió-e": "Nem"
                                },
                                {
                                    "Szoba azonosító": "214",
                                    "Szállás": "12",
                                    "Szobák száma": "50",
                                    "Férőhely": "3",
                                    "Pótágy": "1",
                                    "Kímás": "i",
                                    "SZALLAS_NEV": "Gold Hotel",
                                    "Panzió-e": "Nem"
                                },
                                {
                                    "Szoba azonosító": "215",
                                    "Szállás": "13",
                                    "Szobák száma": "1",
                                    "Férőhely": "2",
                                    "Pótágy": "1",
                                    "Kímás": "i",
                                    "SZALLAS_NEV": "Riviéra Panzió",
                                    "Panzió-e": "Igen"
                                },
                                {
                                    "Szoba azonosító": "216",
                                    "Szállás": "13",
                                    "Szobák száma": "2",
                                    "Férőhely": "3",
                                    "Pótágy": "1",
                                    "Kímás": "i",
                                    "SZALLAS_NEV": "Riviéra Panzió",
                                    "Panzió-e": "Igen"
                                },
                                {
                                    "Szoba azonosító": "217",
                                    "Szállás": "13",
                                    "Szobák száma": "3",
                                    "Férőhely": "2",
                                    "Pótágy": "1",
                                    "Kímás": "n",
                                    "SZALLAS_NEV": "Riviéra Panzió",
                                    "Panzió-e": "Igen"
                                },
                                {
                                    "Szoba azonosító": "218",
                                    "Szállás": "13",
                                    "Szobák száma": "4",
                                    "Férőhely": "3",
                                    "Pótágy": "0",
                                    "Kímás": "i",
                                    "SZALLAS_NEV": "Riviéra Panzió",
                                    "Panzió-e": "Igen"
                                },
                                {
                                    "Szoba azonosító": "219",
                                    "Szállás": "13",
                                    "Szobák száma": "5",
                                    "Férőhely": "2",
                                    "Pótágy": "0",
                                    "Kímás": "n",
                                    "SZALLAS_NEV": "Riviéra Panzió",
                                    "Panzió-e": "Igen"
                                },
                                {
                                    "Szoba azonosító": "220",
                                    "Szállás": "13",
                                    "Szobák száma": "6",
                                    "Férőhely": "3",
                                    "Pótágy": "0",
                                    "Kímás": "i",
                                    "SZALLAS_NEV": "Riviéra Panzió",
                                    "Panzió-e": "Igen"
                                },
                                {
                                    "Szoba azonosító": "221",
                                    "Szállás": "13",
                                    "Szobák száma": "7",
                                    "Férőhely": "3",
                                    "Pótágy": "0",
                                    "Kímás": "i",
                                    "SZALLAS_NEV": "Riviéra Panzió",
                                    "Panzió-e": "Igen"
                                },
                                {
                                    "Szoba azonosító": "222",
                                    "Szállás": "13",
                                    "Szobák száma": "8",
                                    "Férőhely": "2",
                                    "Pótágy": "0",
                                    "Kímás": "n",
                                    "SZALLAS_NEV": "Riviéra Panzió",
                                    "Panzió-e": "Igen"
                                },
                                {
                                    "Szoba azonosító": "223",
                                    "Szállás": "13",
                                    "Szobák száma": "9",
                                    "Férőhely": "2",
                                    "Pótágy": "1",
                                    "Kímás": "i",
                                    "SZALLAS_NEV": "Riviéra Panzió",
                                    "Panzió-e": "Igen"
                                },
                                {
                                    "Szoba azonosító": "224",
                                    "Szállás": "13",
                                    "Szobák száma": "10",
                                    "Férőhely": "2",
                                    "Pótágy": "0",
                                    "Kímás": "i",
                                    "SZALLAS_NEV": "Riviéra Panzió",
                                    "Panzió-e": "Igen"
                                },
                                {
                                    "Szoba azonosító": "225",
                                    "Szállás": "13",
                                    "Szobák száma": "11",
                                    "Férőhely": "2",
                                    "Pótágy": "1",
                                    "Kímás": "i",
                                    "SZALLAS_NEV": "Riviéra Panzió",
                                    "Panzió-e": "Igen"
                                },
                                {
                                    "Szoba azonosító": "226",
                                    "Szállás": "13",
                                    "Szobák száma": "12",
                                    "Férőhely": "3",
                                    "Pótágy": "1",
                                    "Kímás": "n",
                                    "SZALLAS_NEV": "Riviéra Panzió",
                                    "Panzió-e": "Igen"
                                },
                                {
                                    "Szoba azonosító": "227",
                                    "Szállás": "14",
                                    "Szobák száma": "1",
                                    "Férőhely": "2",
                                    "Pótágy": "1",
                                    "Kímás": "i",
                                    "SZALLAS_NEV": "Nyárfás Vendégház",
                                    "Panzió-e": "Nem"
                                },
                                {
                                    "Szoba azonosító": "228",
                                    "Szállás": "14",
                                    "Szobák száma": "2",
                                    "Férőhely": "3",
                                    "Pótágy": "0",
                                    "Kímás": "i",
                                    "SZALLAS_NEV": "Nyárfás Vendégház",
                                    "Panzió-e": "Nem"
                                },
                                {
                                    "Szoba azonosító": "229",
                                    "Szállás": "14",
                                    "Szobák száma": "3",
                                    "Férőhely": "2",
                                    "Pótágy": "0",
                                    "Kímás": "i",
                                    "SZALLAS_NEV": "Nyárfás Vendégház",
                                    "Panzió-e": "Nem"
                                },
                                {
                                    "Szoba azonosító": "230",
                                    "Szállás": "14",
                                    "Szobák száma": "4",
                                    "Férőhely": "3",
                                    "Pótágy": "2",
                                    "Kímás": "i",
                                    "SZALLAS_NEV": "Nyárfás Vendégház",
                                    "Panzió-e": "Nem"
                                },
                                {
                                    "Szoba azonosító": "231",
                                    "Szállás": "15",
                                    "Szobák száma": "1",
                                    "Férőhely": "2",
                                    "Pótágy": "0",
                                    "Kímás": "i",
                                    "SZALLAS_NEV": "Tímárház Panzió",
                                    "Panzió-e": "Igen"
                                },
                                {
                                    "Szoba azonosító": "232",
                                    "Szállás": "15",
                                    "Szobák száma": "2",
                                    "Férőhely": "2",
                                    "Pótágy": "0",
                                    "Kímás": "i",
                                    "SZALLAS_NEV": "Tímárház Panzió",
                                    "Panzió-e": "Igen"
                                },
                                {
                                    "Szoba azonosító": "233",
                                    "Szállás": "15",
                                    "Szobák száma": "3",
                                    "Férőhely": "3",
                                    "Pótágy": "0",
                                    "Kímás": "n",
                                    "SZALLAS_NEV": "Tímárház Panzió",
                                    "Panzió-e": "Igen"
                                },
                                {
                                    "Szoba azonosító": "234",
                                    "Szállás": "15",
                                    "Szobák száma": "4",
                                    "Férőhely": "3",
                                    "Pótágy": "1",
                                    "Kímás": "i",
                                    "SZALLAS_NEV": "Tímárház Panzió",
                                    "Panzió-e": "Igen"
                                },
                                {
                                    "Szoba azonosító": "235",
                                    "Szállás": "15",
                                    "Szobák száma": "5",
                                    "Férőhely": "3",
                                    "Pótágy": "0",
                                    "Kímás": "i",
                                    "SZALLAS_NEV": "Tímárház Panzió",
                                    "Panzió-e": "Igen"
                                },
                                {
                                    "Szoba azonosító": "236",
                                    "Szállás": "15",
                                    "Szobák száma": "6",
                                    "Férőhely": "3",
                                    "Pótágy": "1",
                                    "Kímás": "n",
                                    "SZALLAS_NEV": "Tímárház Panzió",
                                    "Panzió-e": "Igen"
                                },
                                {
                                    "Szoba azonosító": "237",
                                    "Szállás": "15",
                                    "Szobák száma": "7",
                                    "Férőhely": "2",
                                    "Pótágy": "2",
                                    "Kímás": "n",
                                    "SZALLAS_NEV": "Tímárház Panzió",
                                    "Panzió-e": "Igen"
                                },
                                {
                                    "Szoba azonosító": "238",
                                    "Szállás": "15",
                                    "Szobák száma": "8",
                                    "Férőhely": "3",
                                    "Pótágy": "1",
                                    "Kímás": "i",
                                    "SZALLAS_NEV": "Tímárház Panzió",
                                    "Panzió-e": "Igen"
                                },
                                {
                                    "Szoba azonosító": "239",
                                    "Szállás": "15",
                                    "Szobák száma": "9",
                                    "Férőhely": "2",
                                    "Pótágy": "2",
                                    "Kímás": "i",
                                    "SZALLAS_NEV": "Tímárház Panzió",
                                    "Panzió-e": "Igen"
                                },
                                {
                                    "Szoba azonosító": "240",
                                    "Szállás": "15",
                                    "Szobák száma": "10",
                                    "Férőhely": "3",
                                    "Pótágy": "0",
                                    "Kímás": "i",
                                    "SZALLAS_NEV": "Tímárház Panzió",
                                    "Panzió-e": "Igen"
                                },
                                {
                                    "Szoba azonosító": "241",
                                    "Szállás": "15",
                                    "Szobák száma": "11",
                                    "Férőhely": "2",
                                    "Pótágy": "0",
                                    "Kímás": "i",
                                    "SZALLAS_NEV": "Tímárház Panzió",
                                    "Panzió-e": "Igen"
                                },
                                {
                                    "Szoba azonosító": "242",
                                    "Szállás": "15",
                                    "Szobák száma": "12",
                                    "Férőhely": "2",
                                    "Pótágy": "1",
                                    "Kímás": "i",
                                    "SZALLAS_NEV": "Tímárház Panzió",
                                    "Panzió-e": "Igen"
                                },
                                {
                                    "Szoba azonosító": "243",
                                    "Szállás": "16",
                                    "Szobák száma": "1",
                                    "Férőhely": "2",
                                    "Pótágy": "0",
                                    "Kímás": "i",
                                    "SZALLAS_NEV": "Bagoly Hotel",
                                    "Panzió-e": "Nem"
                                },
                                {
                                    "Szoba azonosító": "244",
                                    "Szállás": "16",
                                    "Szobák száma": "2",
                                    "Férőhely": "2",
                                    "Pótágy": "1",
                                    "Kímás": "i",
                                    "SZALLAS_NEV": "Bagoly Hotel",
                                    "Panzió-e": "Nem"
                                },
                                {
                                    "Szoba azonosító": "245",
                                    "Szállás": "16",
                                    "Szobák száma": "3",
                                    "Férőhely": "2",
                                    "Pótágy": "1",
                                    "Kímás": "i",
                                    "SZALLAS_NEV": "Bagoly Hotel",
                                    "Panzió-e": "Nem"
                                },
                                {
                                    "Szoba azonosító": "246",
                                    "Szállás": "16",
                                    "Szobák száma": "4",
                                    "Férőhely": "2",
                                    "Pótágy": "0",
                                    "Kímás": "i",
                                    "SZALLAS_NEV": "Bagoly Hotel",
                                    "Panzió-e": "Nem"
                                },
                                {
                                    "Szoba azonosító": "247",
                                    "Szállás": "16",
                                    "Szobák száma": "5",
                                    "Férőhely": "2",
                                    "Pótágy": "0",
                                    "Kímás": "i",
                                    "SZALLAS_NEV": "Bagoly Hotel",
                                    "Panzió-e": "Nem"
                                },
                                {
                                    "Szoba azonosító": "248",
                                    "Szállás": "16",
                                    "Szobák száma": "6",
                                    "Férőhely": "2",
                                    "Pótágy": "2",
                                    "Kímás": "i",
                                    "SZALLAS_NEV": "Bagoly Hotel",
                                    "Panzió-e": "Nem"
                                },
                                {
                                    "Szoba azonosító": "249",
                                    "Szállás": "16",
                                    "Szobák száma": "7",
                                    "Férőhely": "2",
                                    "Pótágy": "1",
                                    "Kímás": "n",
                                    "SZALLAS_NEV": "Bagoly Hotel",
                                    "Panzió-e": "Nem"
                                },
                                {
                                    "Szoba azonosító": "250",
                                    "Szállás": "16",
                                    "Szobák száma": "8",
                                    "Férőhely": "3",
                                    "Pótágy": "1",
                                    "Kímás": "n",
                                    "SZALLAS_NEV": "Bagoly Hotel",
                                    "Panzió-e": "Nem"
                                },
                                {
                                    "Szoba azonosító": "251",
                                    "Szállás": "16",
                                    "Szobák száma": "9",
                                    "Férőhely": "3",
                                    "Pótágy": "0",
                                    "Kímás": "n",
                                    "SZALLAS_NEV": "Bagoly Hotel",
                                    "Panzió-e": "Nem"
                                },
                                {
                                    "Szoba azonosító": "252",
                                    "Szállás": "16",
                                    "Szobák száma": "10",
                                    "Férőhely": "3",
                                    "Pótágy": "1",
                                    "Kímás": "i",
                                    "SZALLAS_NEV": "Bagoly Hotel",
                                    "Panzió-e": "Nem"
                                },
                                {
                                    "Szoba azonosító": "253",
                                    "Szállás": "16",
                                    "Szobák száma": "11",
                                    "Férőhely": "2",
                                    "Pótágy": "0",
                                    "Kímás": "i",
                                    "SZALLAS_NEV": "Bagoly Hotel",
                                    "Panzió-e": "Nem"
                                },
                                {
                                    "Szoba azonosító": "254",
                                    "Szállás": "16",
                                    "Szobák száma": "12",
                                    "Férőhely": "2",
                                    "Pótágy": "0",
                                    "Kímás": "i",
                                    "SZALLAS_NEV": "Bagoly Hotel",
                                    "Panzió-e": "Nem"
                                },
                                {
                                    "Szoba azonosító": "255",
                                    "Szállás": "16",
                                    "Szobák száma": "13",
                                    "Férőhely": "3",
                                    "Pótágy": "0",
                                    "Kímás": "n",
                                    "SZALLAS_NEV": "Bagoly Hotel",
                                    "Panzió-e": "Nem"
                                },
                                {
                                    "Szoba azonosító": "256",
                                    "Szállás": "16",
                                    "Szobák száma": "14",
                                    "Férőhely": "3",
                                    "Pótágy": "1",
                                    "Kímás": "i",
                                    "SZALLAS_NEV": "Bagoly Hotel",
                                    "Panzió-e": "Nem"
                                },
                                {
                                    "Szoba azonosító": "257",
                                    "Szállás": "16",
                                    "Szobák száma": "15",
                                    "Férőhely": "2",
                                    "Pótágy": "0",
                                    "Kímás": "i",
                                    "SZALLAS_NEV": "Bagoly Hotel",
                                    "Panzió-e": "Nem"
                                },
                                {
                                    "Szoba azonosító": "258",
                                    "Szállás": "16",
                                    "Szobák száma": "16",
                                    "Férőhely": "2",
                                    "Pótágy": "0",
                                    "Kímás": "i",
                                    "SZALLAS_NEV": "Bagoly Hotel",
                                    "Panzió-e": "Nem"
                                },
                                {
                                    "Szoba azonosító": "259",
                                    "Szállás": "16",
                                    "Szobák száma": "17",
                                    "Férőhely": "2",
                                    "Pótágy": "0",
                                    "Kímás": "i",
                                    "SZALLAS_NEV": "Bagoly Hotel",
                                    "Panzió-e": "Nem"
                                },
                                {
                                    "Szoba azonosító": "260",
                                    "Szállás": "16",
                                    "Szobák száma": "18",
                                    "Férőhely": "2",
                                    "Pótágy": "0",
                                    "Kímás": "i",
                                    "SZALLAS_NEV": "Bagoly Hotel",
                                    "Panzió-e": "Nem"
                                },
                                {
                                    "Szoba azonosító": "261",
                                    "Szállás": "16",
                                    "Szobák száma": "19",
                                    "Férőhely": "1",
                                    "Pótágy": "1",
                                    "Kímás": "n",
                                    "SZALLAS_NEV": "Bagoly Hotel",
                                    "Panzió-e": "Nem"
                                },
                                {
                                    "Szoba azonosító": "262",
                                    "Szállás": "16",
                                    "Szobák száma": "20",
                                    "Férőhely": "1",
                                    "Pótágy": "0",
                                    "Kímás": "n",
                                    "SZALLAS_NEV": "Bagoly Hotel",
                                    "Panzió-e": "Nem"
                                },
                                {
                                    "Szoba azonosító": "263",
                                    "Szállás": "17",
                                    "Szobák száma": "1",
                                    "Férőhely": "2",
                                    "Pótágy": "2",
                                    "Kímás": "i",
                                    "SZALLAS_NEV": "Szarvas Hotel",
                                    "Panzió-e": "Nem"
                                },
                                {
                                    "Szoba azonosító": "264",
                                    "Szállás": "17",
                                    "Szobák száma": "2",
                                    "Férőhely": "3",
                                    "Pótágy": "0",
                                    "Kímás": "i",
                                    "SZALLAS_NEV": "Szarvas Hotel",
                                    "Panzió-e": "Nem"
                                },
                                {
                                    "Szoba azonosító": "265",
                                    "Szállás": "17",
                                    "Szobák száma": "3",
                                    "Férőhely": "3",
                                    "Pótágy": "0",
                                    "Kímás": "i",
                                    "SZALLAS_NEV": "Szarvas Hotel",
                                    "Panzió-e": "Nem"
                                },
                                {
                                    "Szoba azonosító": "266",
                                    "Szállás": "17",
                                    "Szobák száma": "4",
                                    "Férőhely": "2",
                                    "Pótágy": "1",
                                    "Kímás": "i",
                                    "SZALLAS_NEV": "Szarvas Hotel",
                                    "Panzió-e": "Nem"
                                },
                                {
                                    "Szoba azonosító": "267",
                                    "Szállás": "17",
                                    "Szobák száma": "5",
                                    "Férőhely": "2",
                                    "Pótágy": "1",
                                    "Kímás": "n",
                                    "SZALLAS_NEV": "Szarvas Hotel",
                                    "Panzió-e": "Nem"
                                },
                                {
                                    "Szoba azonosító": "268",
                                    "Szállás": "17",
                                    "Szobák száma": "6",
                                    "Férőhely": "2",
                                    "Pótágy": "2",
                                    "Kímás": "n",
                                    "SZALLAS_NEV": "Szarvas Hotel",
                                    "Panzió-e": "Nem"
                                },
                                {
                                    "Szoba azonosító": "269",
                                    "Szállás": "17",
                                    "Szobák száma": "7",
                                    "Férőhely": "2",
                                    "Pótágy": "1",
                                    "Kímás": "i",
                                    "SZALLAS_NEV": "Szarvas Hotel",
                                    "Panzió-e": "Nem"
                                },
                                {
                                    "Szoba azonosító": "270",
                                    "Szállás": "17",
                                    "Szobák száma": "8",
                                    "Férőhely": "3",
                                    "Pótágy": "0",
                                    "Kímás": "n",
                                    "SZALLAS_NEV": "Szarvas Hotel",
                                    "Panzió-e": "Nem"
                                },
                                {
                                    "Szoba azonosító": "271",
                                    "Szállás": "17",
                                    "Szobák száma": "9",
                                    "Férőhely": "3",
                                    "Pótágy": "0",
                                    "Kímás": "i",
                                    "SZALLAS_NEV": "Szarvas Hotel",
                                    "Panzió-e": "Nem"
                                },
                                {
                                    "Szoba azonosító": "272",
                                    "Szállás": "17",
                                    "Szobák száma": "10",
                                    "Férőhely": "3",
                                    "Pótágy": "0",
                                    "Kímás": "i",
                                    "SZALLAS_NEV": "Szarvas Hotel",
                                    "Panzió-e": "Nem"
                                },
                                {
                                    "Szoba azonosító": "273",
                                    "Szállás": "17",
                                    "Szobák száma": "11",
                                    "Férőhely": "2",
                                    "Pótágy": "1",
                                    "Kímás": "i",
                                    "SZALLAS_NEV": "Szarvas Hotel",
                                    "Panzió-e": "Nem"
                                },
                                {
                                    "Szoba azonosító": "274",
                                    "Szállás": "17",
                                    "Szobák száma": "12",
                                    "Férőhely": "3",
                                    "Pótágy": "1",
                                    "Kímás": "i",
                                    "SZALLAS_NEV": "Szarvas Hotel",
                                    "Panzió-e": "Nem"
                                },
                                {
                                    "Szoba azonosító": "275",
                                    "Szállás": "17",
                                    "Szobák száma": "13",
                                    "Férőhely": "2",
                                    "Pótágy": "1",
                                    "Kímás": "n",
                                    "SZALLAS_NEV": "Szarvas Hotel",
                                    "Panzió-e": "Nem"
                                },
                                {
                                    "Szoba azonosító": "276",
                                    "Szállás": "17",
                                    "Szobák száma": "14",
                                    "Férőhely": "2",
                                    "Pótágy": "0",
                                    "Kímás": "i",
                                    "SZALLAS_NEV": "Szarvas Hotel",
                                    "Panzió-e": "Nem"
                                },
                                {
                                    "Szoba azonosító": "277",
                                    "Szállás": "17",
                                    "Szobák száma": "15",
                                    "Férőhely": "2",
                                    "Pótágy": "0",
                                    "Kímás": "i",
                                    "SZALLAS_NEV": "Szarvas Hotel",
                                    "Panzió-e": "Nem"
                                },
                                {
                                    "Szoba azonosító": "278",
                                    "Szállás": "18",
                                    "Szobák száma": "1",
                                    "Férőhely": "3",
                                    "Pótágy": "1",
                                    "Kímás": "i",
                                    "SZALLAS_NEV": "Fortuna Apartman",
                                    "Panzió-e": "Nem"
                                },
                                {
                                    "Szoba azonosító": "279",
                                    "Szállás": "18",
                                    "Szobák száma": "2",
                                    "Férőhely": "2",
                                    "Pótágy": "1",
                                    "Kímás": "i",
                                    "SZALLAS_NEV": "Fortuna Apartman",
                                    "Panzió-e": "Nem"
                                },
                                {
                                    "Szoba azonosító": "280",
                                    "Szállás": "18",
                                    "Szobák száma": "3",
                                    "Férőhely": "3",
                                    "Pótágy": "0",
                                    "Kímás": "n",
                                    "SZALLAS_NEV": "Fortuna Apartman",
                                    "Panzió-e": "Nem"
                                },
                                {
                                    "Szoba azonosító": "281",
                                    "Szállás": "19",
                                    "Szobák száma": "1",
                                    "Férőhely": "2",
                                    "Pótágy": "0",
                                    "Kímás": "n",
                                    "SZALLAS_NEV": "Nyárfás Vendégház",
                                    "Panzió-e": "Nem"
                                },
                                {
                                    "Szoba azonosító": "282",
                                    "Szállás": "19",
                                    "Szobák száma": "2",
                                    "Férőhely": "2",
                                    "Pótágy": "0",
                                    "Kímás": "i",
                                    "SZALLAS_NEV": "Nyárfás Vendégház",
                                    "Panzió-e": "Nem"
                                },
                                {
                                    "Szoba azonosító": "283",
                                    "Szállás": "19",
                                    "Szobák száma": "3",
                                    "Férőhely": "2",
                                    "Pótágy": "0",
                                    "Kímás": "n",
                                    "SZALLAS_NEV": "Nyárfás Vendégház",
                                    "Panzió-e": "Nem"
                                },
                                {
                                    "Szoba azonosító": "284",
                                    "Szállás": "19",
                                    "Szobák száma": "4",
                                    "Férőhely": "2",
                                    "Pótágy": "2",
                                    "Kímás": "i",
                                    "SZALLAS_NEV": "Nyárfás Vendégház",
                                    "Panzió-e": "Nem"
                                },
                                {
                                    "Szoba azonosító": "285",
                                    "Szállás": "20",
                                    "Szobák száma": "1",
                                    "Férőhely": "2",
                                    "Pótágy": "1",
                                    "Kímás": "i",
                                    "SZALLAS_NEV": "Kollégium",
                                    "Panzió-e": "Nem"
                                },
                                {
                                    "Szoba azonosító": "286",
                                    "Szállás": "20",
                                    "Szobák száma": "2",
                                    "Férőhely": "3",
                                    "Pótágy": "0",
                                    "Kímás": "i",
                                    "SZALLAS_NEV": "Kollégium",
                                    "Panzió-e": "Nem"
                                },
                                {
                                    "Szoba azonosító": "287",
                                    "Szállás": "20",
                                    "Szobák száma": "3",
                                    "Férőhely": "3",
                                    "Pótágy": "0",
                                    "Kímás": "n",
                                    "SZALLAS_NEV": "Kollégium",
                                    "Panzió-e": "Nem"
                                },
                                {
                                    "Szoba azonosító": "288",
                                    "Szállás": "20",
                                    "Szobák száma": "4",
                                    "Férőhely": "2",
                                    "Pótágy": "1",
                                    "Kímás": "i",
                                    "SZALLAS_NEV": "Kollégium",
                                    "Panzió-e": "Nem"
                                },
                                {
                                    "Szoba azonosító": "289",
                                    "Szállás": "20",
                                    "Szobák száma": "5",
                                    "Férőhely": "3",
                                    "Pótágy": "0",
                                    "Kímás": "i",
                                    "SZALLAS_NEV": "Kollégium",
                                    "Panzió-e": "Nem"
                                },
                                {
                                    "Szoba azonosító": "290",
                                    "Szállás": "20",
                                    "Szobák száma": "6",
                                    "Férőhely": "2",
                                    "Pótágy": "1",
                                    "Kímás": "i",
                                    "SZALLAS_NEV": "Kollégium",
                                    "Panzió-e": "Nem"
                                },
                                {
                                    "Szoba azonosító": "291",
                                    "Szállás": "20",
                                    "Szobák száma": "7",
                                    "Férőhely": "2",
                                    "Pótágy": "1",
                                    "Kímás": "i",
                                    "SZALLAS_NEV": "Kollégium",
                                    "Panzió-e": "Nem"
                                },
                                {
                                    "Szoba azonosító": "292",
                                    "Szállás": "20",
                                    "Szobák száma": "8",
                                    "Férőhely": "2",
                                    "Pótágy": "1",
                                    "Kímás": "i",
                                    "SZALLAS_NEV": "Kollégium",
                                    "Panzió-e": "Nem"
                                },
                                {
                                    "Szoba azonosító": "293",
                                    "Szállás": "20",
                                    "Szobák száma": "9",
                                    "Férőhely": "2",
                                    "Pótágy": "1",
                                    "Kímás": "i",
                                    "SZALLAS_NEV": "Kollégium",
                                    "Panzió-e": "Nem"
                                },
                                {
                                    "Szoba azonosító": "294",
                                    "Szállás": "20",
                                    "Szobák száma": "10",
                                    "Férőhely": "3",
                                    "Pótágy": "0",
                                    "Kímás": "i",
                                    "SZALLAS_NEV": "Kollégium",
                                    "Panzió-e": "Nem"
                                }
                            ]
                        },
                        "text/html": [
                            "<table>",
                            "<tr><th>Szoba azonosító</th><th>Szállás</th><th>Szobák száma</th><th>Férőhely</th><th>Pótágy</th><th>Kímás</th><th>SZALLAS_NEV</th><th>Panzió-e</th></tr>",
                            "<tr><td>159</td><td>10</td><td>25</td><td>3</td><td>1</td><td>n</td><td>Lagúna Hotel</td><td>Nem</td></tr>",
                            "<tr><td>199</td><td>12</td><td>35</td><td>3</td><td>2</td><td>i</td><td>Gold Hotel</td><td>Nem</td></tr>",
                            "<tr><td>200</td><td>12</td><td>36</td><td>2</td><td>0</td><td>i</td><td>Gold Hotel</td><td>Nem</td></tr>",
                            "<tr><td>201</td><td>12</td><td>37</td><td>3</td><td>1</td><td>n</td><td>Gold Hotel</td><td>Nem</td></tr>",
                            "<tr><td>202</td><td>12</td><td>38</td><td>3</td><td>1</td><td>i</td><td>Gold Hotel</td><td>Nem</td></tr>",
                            "<tr><td>203</td><td>12</td><td>39</td><td>3</td><td>0</td><td>i</td><td>Gold Hotel</td><td>Nem</td></tr>",
                            "<tr><td>204</td><td>12</td><td>40</td><td>3</td><td>1</td><td>i</td><td>Gold Hotel</td><td>Nem</td></tr>",
                            "<tr><td>205</td><td>12</td><td>41</td><td>3</td><td>0</td><td>i</td><td>Gold Hotel</td><td>Nem</td></tr>",
                            "<tr><td>206</td><td>12</td><td>42</td><td>2</td><td>1</td><td>i</td><td>Gold Hotel</td><td>Nem</td></tr>",
                            "<tr><td>207</td><td>12</td><td>43</td><td>2</td><td>1</td><td>i</td><td>Gold Hotel</td><td>Nem</td></tr>",
                            "<tr><td>208</td><td>12</td><td>44</td><td>2</td><td>1</td><td>i</td><td>Gold Hotel</td><td>Nem</td></tr>",
                            "<tr><td>209</td><td>12</td><td>45</td><td>3</td><td>2</td><td>n</td><td>Gold Hotel</td><td>Nem</td></tr>",
                            "<tr><td>210</td><td>12</td><td>46</td><td>2</td><td>0</td><td>i</td><td>Gold Hotel</td><td>Nem</td></tr>",
                            "<tr><td>211</td><td>12</td><td>47</td><td>2</td><td>1</td><td>i</td><td>Gold Hotel</td><td>Nem</td></tr>",
                            "<tr><td>212</td><td>12</td><td>48</td><td>3</td><td>0</td><td>n</td><td>Gold Hotel</td><td>Nem</td></tr>",
                            "<tr><td>213</td><td>12</td><td>49</td><td>3</td><td>0</td><td>i</td><td>Gold Hotel</td><td>Nem</td></tr>",
                            "<tr><td>214</td><td>12</td><td>50</td><td>3</td><td>1</td><td>i</td><td>Gold Hotel</td><td>Nem</td></tr>",
                            "<tr><td>215</td><td>13</td><td>1</td><td>2</td><td>1</td><td>i</td><td>Riviéra Panzió</td><td>Igen</td></tr>",
                            "<tr><td>216</td><td>13</td><td>2</td><td>3</td><td>1</td><td>i</td><td>Riviéra Panzió</td><td>Igen</td></tr>",
                            "<tr><td>217</td><td>13</td><td>3</td><td>2</td><td>1</td><td>n</td><td>Riviéra Panzió</td><td>Igen</td></tr>",
                            "<tr><td>218</td><td>13</td><td>4</td><td>3</td><td>0</td><td>i</td><td>Riviéra Panzió</td><td>Igen</td></tr>",
                            "<tr><td>219</td><td>13</td><td>5</td><td>2</td><td>0</td><td>n</td><td>Riviéra Panzió</td><td>Igen</td></tr>",
                            "<tr><td>220</td><td>13</td><td>6</td><td>3</td><td>0</td><td>i</td><td>Riviéra Panzió</td><td>Igen</td></tr>",
                            "<tr><td>221</td><td>13</td><td>7</td><td>3</td><td>0</td><td>i</td><td>Riviéra Panzió</td><td>Igen</td></tr>",
                            "<tr><td>222</td><td>13</td><td>8</td><td>2</td><td>0</td><td>n</td><td>Riviéra Panzió</td><td>Igen</td></tr>",
                            "<tr><td>223</td><td>13</td><td>9</td><td>2</td><td>1</td><td>i</td><td>Riviéra Panzió</td><td>Igen</td></tr>",
                            "<tr><td>224</td><td>13</td><td>10</td><td>2</td><td>0</td><td>i</td><td>Riviéra Panzió</td><td>Igen</td></tr>",
                            "<tr><td>225</td><td>13</td><td>11</td><td>2</td><td>1</td><td>i</td><td>Riviéra Panzió</td><td>Igen</td></tr>",
                            "<tr><td>226</td><td>13</td><td>12</td><td>3</td><td>1</td><td>n</td><td>Riviéra Panzió</td><td>Igen</td></tr>",
                            "<tr><td>227</td><td>14</td><td>1</td><td>2</td><td>1</td><td>i</td><td>Nyárfás Vendégház</td><td>Nem</td></tr>",
                            "<tr><td>228</td><td>14</td><td>2</td><td>3</td><td>0</td><td>i</td><td>Nyárfás Vendégház</td><td>Nem</td></tr>",
                            "<tr><td>229</td><td>14</td><td>3</td><td>2</td><td>0</td><td>i</td><td>Nyárfás Vendégház</td><td>Nem</td></tr>",
                            "<tr><td>230</td><td>14</td><td>4</td><td>3</td><td>2</td><td>i</td><td>Nyárfás Vendégház</td><td>Nem</td></tr>",
                            "<tr><td>231</td><td>15</td><td>1</td><td>2</td><td>0</td><td>i</td><td>Tímárház Panzió</td><td>Igen</td></tr>",
                            "<tr><td>232</td><td>15</td><td>2</td><td>2</td><td>0</td><td>i</td><td>Tímárház Panzió</td><td>Igen</td></tr>",
                            "<tr><td>233</td><td>15</td><td>3</td><td>3</td><td>0</td><td>n</td><td>Tímárház Panzió</td><td>Igen</td></tr>",
                            "<tr><td>234</td><td>15</td><td>4</td><td>3</td><td>1</td><td>i</td><td>Tímárház Panzió</td><td>Igen</td></tr>",
                            "<tr><td>235</td><td>15</td><td>5</td><td>3</td><td>0</td><td>i</td><td>Tímárház Panzió</td><td>Igen</td></tr>",
                            "<tr><td>236</td><td>15</td><td>6</td><td>3</td><td>1</td><td>n</td><td>Tímárház Panzió</td><td>Igen</td></tr>",
                            "<tr><td>237</td><td>15</td><td>7</td><td>2</td><td>2</td><td>n</td><td>Tímárház Panzió</td><td>Igen</td></tr>",
                            "<tr><td>238</td><td>15</td><td>8</td><td>3</td><td>1</td><td>i</td><td>Tímárház Panzió</td><td>Igen</td></tr>",
                            "<tr><td>239</td><td>15</td><td>9</td><td>2</td><td>2</td><td>i</td><td>Tímárház Panzió</td><td>Igen</td></tr>",
                            "<tr><td>240</td><td>15</td><td>10</td><td>3</td><td>0</td><td>i</td><td>Tímárház Panzió</td><td>Igen</td></tr>",
                            "<tr><td>241</td><td>15</td><td>11</td><td>2</td><td>0</td><td>i</td><td>Tímárház Panzió</td><td>Igen</td></tr>",
                            "<tr><td>242</td><td>15</td><td>12</td><td>2</td><td>1</td><td>i</td><td>Tímárház Panzió</td><td>Igen</td></tr>",
                            "<tr><td>243</td><td>16</td><td>1</td><td>2</td><td>0</td><td>i</td><td>Bagoly Hotel</td><td>Nem</td></tr>",
                            "<tr><td>244</td><td>16</td><td>2</td><td>2</td><td>1</td><td>i</td><td>Bagoly Hotel</td><td>Nem</td></tr>",
                            "<tr><td>245</td><td>16</td><td>3</td><td>2</td><td>1</td><td>i</td><td>Bagoly Hotel</td><td>Nem</td></tr>",
                            "<tr><td>246</td><td>16</td><td>4</td><td>2</td><td>0</td><td>i</td><td>Bagoly Hotel</td><td>Nem</td></tr>",
                            "<tr><td>247</td><td>16</td><td>5</td><td>2</td><td>0</td><td>i</td><td>Bagoly Hotel</td><td>Nem</td></tr>",
                            "<tr><td>248</td><td>16</td><td>6</td><td>2</td><td>2</td><td>i</td><td>Bagoly Hotel</td><td>Nem</td></tr>",
                            "<tr><td>249</td><td>16</td><td>7</td><td>2</td><td>1</td><td>n</td><td>Bagoly Hotel</td><td>Nem</td></tr>",
                            "<tr><td>250</td><td>16</td><td>8</td><td>3</td><td>1</td><td>n</td><td>Bagoly Hotel</td><td>Nem</td></tr>",
                            "<tr><td>251</td><td>16</td><td>9</td><td>3</td><td>0</td><td>n</td><td>Bagoly Hotel</td><td>Nem</td></tr>",
                            "<tr><td>252</td><td>16</td><td>10</td><td>3</td><td>1</td><td>i</td><td>Bagoly Hotel</td><td>Nem</td></tr>",
                            "<tr><td>253</td><td>16</td><td>11</td><td>2</td><td>0</td><td>i</td><td>Bagoly Hotel</td><td>Nem</td></tr>",
                            "<tr><td>254</td><td>16</td><td>12</td><td>2</td><td>0</td><td>i</td><td>Bagoly Hotel</td><td>Nem</td></tr>",
                            "<tr><td>255</td><td>16</td><td>13</td><td>3</td><td>0</td><td>n</td><td>Bagoly Hotel</td><td>Nem</td></tr>",
                            "<tr><td>256</td><td>16</td><td>14</td><td>3</td><td>1</td><td>i</td><td>Bagoly Hotel</td><td>Nem</td></tr>",
                            "<tr><td>257</td><td>16</td><td>15</td><td>2</td><td>0</td><td>i</td><td>Bagoly Hotel</td><td>Nem</td></tr>",
                            "<tr><td>258</td><td>16</td><td>16</td><td>2</td><td>0</td><td>i</td><td>Bagoly Hotel</td><td>Nem</td></tr>",
                            "<tr><td>259</td><td>16</td><td>17</td><td>2</td><td>0</td><td>i</td><td>Bagoly Hotel</td><td>Nem</td></tr>",
                            "<tr><td>260</td><td>16</td><td>18</td><td>2</td><td>0</td><td>i</td><td>Bagoly Hotel</td><td>Nem</td></tr>",
                            "<tr><td>261</td><td>16</td><td>19</td><td>1</td><td>1</td><td>n</td><td>Bagoly Hotel</td><td>Nem</td></tr>",
                            "<tr><td>262</td><td>16</td><td>20</td><td>1</td><td>0</td><td>n</td><td>Bagoly Hotel</td><td>Nem</td></tr>",
                            "<tr><td>263</td><td>17</td><td>1</td><td>2</td><td>2</td><td>i</td><td>Szarvas Hotel</td><td>Nem</td></tr>",
                            "<tr><td>264</td><td>17</td><td>2</td><td>3</td><td>0</td><td>i</td><td>Szarvas Hotel</td><td>Nem</td></tr>",
                            "<tr><td>265</td><td>17</td><td>3</td><td>3</td><td>0</td><td>i</td><td>Szarvas Hotel</td><td>Nem</td></tr>",
                            "<tr><td>266</td><td>17</td><td>4</td><td>2</td><td>1</td><td>i</td><td>Szarvas Hotel</td><td>Nem</td></tr>",
                            "<tr><td>267</td><td>17</td><td>5</td><td>2</td><td>1</td><td>n</td><td>Szarvas Hotel</td><td>Nem</td></tr>",
                            "<tr><td>268</td><td>17</td><td>6</td><td>2</td><td>2</td><td>n</td><td>Szarvas Hotel</td><td>Nem</td></tr>",
                            "<tr><td>269</td><td>17</td><td>7</td><td>2</td><td>1</td><td>i</td><td>Szarvas Hotel</td><td>Nem</td></tr>",
                            "<tr><td>270</td><td>17</td><td>8</td><td>3</td><td>0</td><td>n</td><td>Szarvas Hotel</td><td>Nem</td></tr>",
                            "<tr><td>271</td><td>17</td><td>9</td><td>3</td><td>0</td><td>i</td><td>Szarvas Hotel</td><td>Nem</td></tr>",
                            "<tr><td>272</td><td>17</td><td>10</td><td>3</td><td>0</td><td>i</td><td>Szarvas Hotel</td><td>Nem</td></tr>",
                            "<tr><td>273</td><td>17</td><td>11</td><td>2</td><td>1</td><td>i</td><td>Szarvas Hotel</td><td>Nem</td></tr>",
                            "<tr><td>274</td><td>17</td><td>12</td><td>3</td><td>1</td><td>i</td><td>Szarvas Hotel</td><td>Nem</td></tr>",
                            "<tr><td>275</td><td>17</td><td>13</td><td>2</td><td>1</td><td>n</td><td>Szarvas Hotel</td><td>Nem</td></tr>",
                            "<tr><td>276</td><td>17</td><td>14</td><td>2</td><td>0</td><td>i</td><td>Szarvas Hotel</td><td>Nem</td></tr>",
                            "<tr><td>277</td><td>17</td><td>15</td><td>2</td><td>0</td><td>i</td><td>Szarvas Hotel</td><td>Nem</td></tr>",
                            "<tr><td>278</td><td>18</td><td>1</td><td>3</td><td>1</td><td>i</td><td>Fortuna Apartman</td><td>Nem</td></tr>",
                            "<tr><td>279</td><td>18</td><td>2</td><td>2</td><td>1</td><td>i</td><td>Fortuna Apartman</td><td>Nem</td></tr>",
                            "<tr><td>280</td><td>18</td><td>3</td><td>3</td><td>0</td><td>n</td><td>Fortuna Apartman</td><td>Nem</td></tr>",
                            "<tr><td>281</td><td>19</td><td>1</td><td>2</td><td>0</td><td>n</td><td>Nyárfás Vendégház</td><td>Nem</td></tr>",
                            "<tr><td>282</td><td>19</td><td>2</td><td>2</td><td>0</td><td>i</td><td>Nyárfás Vendégház</td><td>Nem</td></tr>",
                            "<tr><td>283</td><td>19</td><td>3</td><td>2</td><td>0</td><td>n</td><td>Nyárfás Vendégház</td><td>Nem</td></tr>",
                            "<tr><td>284</td><td>19</td><td>4</td><td>2</td><td>2</td><td>i</td><td>Nyárfás Vendégház</td><td>Nem</td></tr>",
                            "<tr><td>285</td><td>20</td><td>1</td><td>2</td><td>1</td><td>i</td><td>Kollégium</td><td>Nem</td></tr>",
                            "<tr><td>286</td><td>20</td><td>2</td><td>3</td><td>0</td><td>i</td><td>Kollégium</td><td>Nem</td></tr>",
                            "<tr><td>287</td><td>20</td><td>3</td><td>3</td><td>0</td><td>n</td><td>Kollégium</td><td>Nem</td></tr>",
                            "<tr><td>288</td><td>20</td><td>4</td><td>2</td><td>1</td><td>i</td><td>Kollégium</td><td>Nem</td></tr>",
                            "<tr><td>289</td><td>20</td><td>5</td><td>3</td><td>0</td><td>i</td><td>Kollégium</td><td>Nem</td></tr>",
                            "<tr><td>290</td><td>20</td><td>6</td><td>2</td><td>1</td><td>i</td><td>Kollégium</td><td>Nem</td></tr>",
                            "<tr><td>291</td><td>20</td><td>7</td><td>2</td><td>1</td><td>i</td><td>Kollégium</td><td>Nem</td></tr>",
                            "<tr><td>292</td><td>20</td><td>8</td><td>2</td><td>1</td><td>i</td><td>Kollégium</td><td>Nem</td></tr>",
                            "<tr><td>293</td><td>20</td><td>9</td><td>2</td><td>1</td><td>i</td><td>Kollégium</td><td>Nem</td></tr>",
                            "<tr><td>294</td><td>20</td><td>10</td><td>3</td><td>0</td><td>i</td><td>Kollégium</td><td>Nem</td></tr>",
                            "</table>"
                        ]
                    }
                }
            ],
            "execution_count": 19
        }
    ]
}