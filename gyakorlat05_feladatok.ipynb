{
    "metadata": {
        "kernelspec": {
            "name": "SQL",
            "display_name": "SQL",
            "language": "sql"
        },
        "language_info": {
            "name": "sql",
            "version": ""
        }
    },
    "nbformat_minor": 2,
    "nbformat": 4,
    "cells": [
        {
            "cell_type": "markdown",
            "source": [
                "1. <span style=\"color: rgb(36, 41, 47); font-family: -apple-system, BlinkMacSystemFont, &quot;Segoe UI&quot;, Helvetica, Arial, sans-serif, &quot;Apple Color Emoji&quot;, &quot;Segoe UI Emoji&quot;; font-size: 16px;\">Készítsünk listát éves bontásban norbert2 azonosítójú ügyfél rendeléseinek értékéről!</span>\n",
                "\n",
                "1. A lista megfelelően jelölve tartalmazza a végösszeget is!"
            ],
            "metadata": {
                "azdata_cell_guid": "363cd270-6577-449b-9c89-d4b7c7972d52"
            },
            "attachments": {}
        },
        {
            "cell_type": "code",
            "source": [
                "SELECT YEAR(r.rend_datum) AS 'Rendelés dátuma',\r\n",
                "       SUM(rt.EGYSEGAR*rt.MENNYISEG) AS 'Egységárak'\r\n",
                "FROM Rendeles r JOIN Rendeles_tetel rt ON r.SORSZAM = rt.SORSZAM\r\n",
                "                JOIN Ugyfel u ON u.[LOGIN] = r.[LOGIN]\r\n",
                "WHERE u.LOGIN = 'norbert2'\r\n",
                "GROUP BY ROLLUP(YEAR(r.REND_DATUM))"
            ],
            "metadata": {
                "azdata_cell_guid": "6ab9f633-a3b5-48c9-a1dc-4fb8235ae85b",
                "language": "sql"
            },
            "outputs": [
                {
                    "output_type": "display_data",
                    "data": {
                        "text/html": "(3 rows affected)"
                    },
                    "metadata": {}
                },
                {
                    "output_type": "display_data",
                    "data": {
                        "text/html": "Total execution time: 00:00:00.016"
                    },
                    "metadata": {}
                },
                {
                    "output_type": "execute_result",
                    "metadata": {},
                    "execution_count": 15,
                    "data": {
                        "application/vnd.dataresource+json": {
                            "schema": {
                                "fields": [
                                    {
                                        "name": "Rendelés dátuma"
                                    },
                                    {
                                        "name": "Egységárak"
                                    }
                                ]
                            },
                            "data": [
                                {
                                    "Rendelés dátuma": "2015",
                                    "Egységárak": "483473"
                                },
                                {
                                    "Rendelés dátuma": "2017",
                                    "Egységárak": "614340"
                                },
                                {
                                    "Rendelés dátuma": "NULL",
                                    "Egységárak": "1097813"
                                }
                            ]
                        },
                        "text/html": [
                            "<table>",
                            "<tr><th>Rendelés dátuma</th><th>Egységárak</th></tr>",
                            "<tr><td>2015</td><td>483473</td></tr>",
                            "<tr><td>2017</td><td>614340</td></tr>",
                            "<tr><td>NULL</td><td>1097813</td></tr>",
                            "</table>"
                        ]
                    }
                }
            ],
            "execution_count": 15
        },
        {
            "cell_type": "markdown",
            "source": [
                "2. <span style=\"color: rgb(36, 41, 47); font-family: -apple-system, BlinkMacSystemFont, &quot;Segoe UI&quot;, Helvetica, Arial, sans-serif, &quot;Apple Color Emoji&quot;, &quot;Segoe UI Emoji&quot;; font-size: 16px;\">Készítsünk listát szállítási dátumonként, azon belül szállítási módonként az egyes rendelések összmennyiségéről!</span>\n",
                "\n",
                "1. Csak azokat a termékeket vegyük figyelembe, amelyek mennyiségi egysége db!\n",
                "2. A listát szűrjük úgy, hogy az csak a részösszeg sorokat és a végösszeget tartalmazza!"
            ],
            "metadata": {
                "azdata_cell_guid": "ea75c103-911f-41a3-a32c-3d40fb3e4e4a"
            },
            "attachments": {}
        },
        {
            "cell_type": "code",
            "source": [
                "SELECT r.SZALL_DATUM AS 'Szállítási dátum',\r\n",
                "       r.SZALL_MOD AS 'Szállítási mód',\r\n",
                "       SUM(rt.MENNYISEG) AS 'Rendelések összmennyisége'\r\n",
                "FROM Rendeles r JOIN Rendeles_tetel rt ON r.SORSZAM = rt.SORSZAM\r\n",
                "                JOIN Termek t ON t.TERMEKKOD = rt.TERMEKKOD\r\n",
                "WHERE t.MEGYS = 'db'\r\n",
                "GROUP BY ROLLUP(r.SZALL_MOD,\r\n",
                "         r.SZALL_DATUM)\r\n",
                "HAVING r.SZALL_MOD IS NULL OR r.SZALL_DATUM IS NULL\r\n",
                "--HAVING GROUPING_ID(r.SZALL_MOD, r.SZALL_DATUM) > 0"
            ],
            "metadata": {
                "azdata_cell_guid": "222b9618-a8e8-42b4-a8e8-d002257122b7",
                "language": "sql"
            },
            "outputs": [
                {
                    "output_type": "display_data",
                    "data": {
                        "text/html": "(2132 rows affected)"
                    },
                    "metadata": {}
                },
                {
                    "output_type": "display_data",
                    "data": {
                        "text/html": "Total execution time: 00:00:00.338"
                    },
                    "metadata": {}
                },
                {
                    "output_type": "execute_result",
                    "metadata": {},
                    "execution_count": 17,
                    "data": {
                        "application/vnd.dataresource+json": {
                            "schema": {
                                "fields": [
                                    {
                                        "name": "Szállítási dátum"
                                    },
                                    {
                                        "name": "Szállítási mód"
                                    },
                                    {
                                        "name": "Rendelések összmennyisége"
                                    }
                                ]
                            },
                            "data": [
                                {
                                    "Szállítási dátum": "2015-05-03",
                                    "Szállítási mód": "GLS",
                                    "Rendelések összmennyisége": "100"
                                },
                                {
                                    "Szállítási dátum": "2015-05-04",
                                    "Szállítási mód": "GLS",
                                    "Rendelések összmennyisége": "440"
                                },
                                {
                                    "Szállítási dátum": "2015-05-05",
                                    "Szállítási mód": "GLS",
                                    "Rendelések összmennyisége": "1487"
                                },
                                {
                                    "Szállítási dátum": "2015-05-06",
                                    "Szállítási mód": "GLS",
                                    "Rendelések összmennyisége": "1497"
                                },
                                {
                                    "Szállítási dátum": "2015-05-07",
                                    "Szállítási mód": "GLS",
                                    "Rendelések összmennyisége": "1068"
                                },
                                {
                                    "Szállítási dátum": "2015-05-08",
                                    "Szállítási mód": "GLS",
                                    "Rendelések összmennyisége": "781"
                                },
                                {
                                    "Szállítási dátum": "2015-05-09",
                                    "Szállítási mód": "GLS",
                                    "Rendelések összmennyisége": "3429"
                                },
                                {
                                    "Szállítási dátum": "2015-05-10",
                                    "Szállítási mód": "GLS",
                                    "Rendelések összmennyisége": "2828"
                                },
                                {
                                    "Szállítási dátum": "2015-05-11",
                                    "Szállítási mód": "GLS",
                                    "Rendelések összmennyisége": "2278"
                                },
                                {
                                    "Szállítási dátum": "2015-05-12",
                                    "Szállítási mód": "GLS",
                                    "Rendelések összmennyisége": "3352"
                                },
                                {
                                    "Szállítási dátum": "2015-05-13",
                                    "Szállítási mód": "GLS",
                                    "Rendelések összmennyisége": "2185"
                                },
                                {
                                    "Szállítási dátum": "2015-05-14",
                                    "Szállítási mód": "GLS",
                                    "Rendelések összmennyisége": "3706"
                                },
                                {
                                    "Szállítási dátum": "2015-05-15",
                                    "Szállítási mód": "GLS",
                                    "Rendelések összmennyisége": "3101"
                                },
                                {
                                    "Szállítási dátum": "2015-05-16",
                                    "Szállítási mód": "GLS",
                                    "Rendelések összmennyisége": "3797"
                                },
                                {
                                    "Szállítási dátum": "2015-05-17",
                                    "Szállítási mód": "GLS",
                                    "Rendelések összmennyisége": "2433"
                                },
                                {
                                    "Szállítási dátum": "2015-05-18",
                                    "Szállítási mód": "GLS",
                                    "Rendelések összmennyisége": "1947"
                                },
                                {
                                    "Szállítási dátum": "2015-05-19",
                                    "Szállítási mód": "GLS",
                                    "Rendelések összmennyisége": "2936"
                                },
                                {
                                    "Szállítási dátum": "2015-05-20",
                                    "Szállítási mód": "GLS",
                                    "Rendelések összmennyisége": "3143"
                                },
                                {
                                    "Szállítási dátum": "2015-05-21",
                                    "Szállítási mód": "GLS",
                                    "Rendelések összmennyisége": "2429"
                                },
                                {
                                    "Szállítási dátum": "2015-05-22",
                                    "Szállítási mód": "GLS",
                                    "Rendelések összmennyisége": "1992"
                                },
                                {
                                    "Szállítási dátum": "2015-05-23",
                                    "Szállítási mód": "GLS",
                                    "Rendelések összmennyisége": "1686"
                                },
                                {
                                    "Szállítási dátum": "2015-05-24",
                                    "Szállítási mód": "GLS",
                                    "Rendelések összmennyisége": "1733"
                                },
                                {
                                    "Szállítási dátum": "2015-05-25",
                                    "Szállítási mód": "GLS",
                                    "Rendelések összmennyisége": "1340"
                                },
                                {
                                    "Szállítási dátum": "2015-05-26",
                                    "Szállítási mód": "GLS",
                                    "Rendelések összmennyisége": "2664"
                                },
                                {
                                    "Szállítási dátum": "2015-05-27",
                                    "Szállítási mód": "GLS",
                                    "Rendelések összmennyisége": "2253"
                                },
                                {
                                    "Szállítási dátum": "2015-05-28",
                                    "Szállítási mód": "GLS",
                                    "Rendelések összmennyisége": "3060"
                                },
                                {
                                    "Szállítási dátum": "2015-05-29",
                                    "Szállítási mód": "GLS",
                                    "Rendelések összmennyisége": "3967"
                                },
                                {
                                    "Szállítási dátum": "2015-05-30",
                                    "Szállítási mód": "GLS",
                                    "Rendelések összmennyisége": "2708"
                                },
                                {
                                    "Szállítási dátum": "2015-05-31",
                                    "Szállítási mód": "GLS",
                                    "Rendelések összmennyisége": "1774"
                                },
                                {
                                    "Szállítási dátum": "2015-06-01",
                                    "Szállítási mód": "GLS",
                                    "Rendelések összmennyisége": "2337"
                                },
                                {
                                    "Szállítási dátum": "2015-06-02",
                                    "Szállítási mód": "GLS",
                                    "Rendelések összmennyisége": "2309"
                                },
                                {
                                    "Szállítási dátum": "2015-06-03",
                                    "Szállítási mód": "GLS",
                                    "Rendelések összmennyisége": "2319"
                                },
                                {
                                    "Szállítási dátum": "2015-06-04",
                                    "Szállítási mód": "GLS",
                                    "Rendelések összmennyisége": "3419"
                                },
                                {
                                    "Szállítási dátum": "2015-06-05",
                                    "Szállítási mód": "GLS",
                                    "Rendelések összmennyisége": "3396"
                                },
                                {
                                    "Szállítási dátum": "2015-06-06",
                                    "Szállítási mód": "GLS",
                                    "Rendelések összmennyisége": "2721"
                                },
                                {
                                    "Szállítási dátum": "2015-06-07",
                                    "Szállítási mód": "GLS",
                                    "Rendelések összmennyisége": "3045"
                                },
                                {
                                    "Szállítási dátum": "2015-06-08",
                                    "Szállítási mód": "GLS",
                                    "Rendelések összmennyisége": "761"
                                },
                                {
                                    "Szállítási dátum": "2015-06-09",
                                    "Szállítási mód": "GLS",
                                    "Rendelések összmennyisége": "2768"
                                },
                                {
                                    "Szállítási dátum": "2015-06-10",
                                    "Szállítási mód": "GLS",
                                    "Rendelések összmennyisége": "2865"
                                },
                                {
                                    "Szállítási dátum": "2015-06-11",
                                    "Szállítási mód": "GLS",
                                    "Rendelések összmennyisége": "1579"
                                },
                                {
                                    "Szállítási dátum": "2015-06-12",
                                    "Szállítási mód": "GLS",
                                    "Rendelések összmennyisége": "2699"
                                },
                                {
                                    "Szállítási dátum": "2015-06-13",
                                    "Szállítási mód": "GLS",
                                    "Rendelések összmennyisége": "2172"
                                },
                                {
                                    "Szállítási dátum": "2015-06-14",
                                    "Szállítási mód": "GLS",
                                    "Rendelések összmennyisége": "647"
                                },
                                {
                                    "Szállítási dátum": "2015-06-15",
                                    "Szállítási mód": "GLS",
                                    "Rendelések összmennyisége": "1893"
                                },
                                {
                                    "Szállítási dátum": "2015-06-16",
                                    "Szállítási mód": "GLS",
                                    "Rendelések összmennyisége": "1450"
                                },
                                {
                                    "Szállítási dátum": "2015-06-17",
                                    "Szállítási mód": "GLS",
                                    "Rendelések összmennyisége": "3347"
                                },
                                {
                                    "Szállítási dátum": "2015-06-18",
                                    "Szállítási mód": "GLS",
                                    "Rendelések összmennyisége": "2976"
                                },
                                {
                                    "Szállítási dátum": "2015-06-19",
                                    "Szállítási mód": "GLS",
                                    "Rendelések összmennyisége": "1794"
                                },
                                {
                                    "Szállítási dátum": "2015-06-20",
                                    "Szállítási mód": "GLS",
                                    "Rendelések összmennyisége": "2288"
                                },
                                {
                                    "Szállítási dátum": "2015-06-21",
                                    "Szállítási mód": "GLS",
                                    "Rendelések összmennyisége": "2270"
                                },
                                {
                                    "Szállítási dátum": "2015-06-22",
                                    "Szállítási mód": "GLS",
                                    "Rendelések összmennyisége": "3461"
                                },
                                {
                                    "Szállítási dátum": "2015-06-23",
                                    "Szállítási mód": "GLS",
                                    "Rendelések összmennyisége": "3764"
                                },
                                {
                                    "Szállítási dátum": "2015-06-24",
                                    "Szállítási mód": "GLS",
                                    "Rendelések összmennyisége": "2242"
                                },
                                {
                                    "Szállítási dátum": "2015-06-25",
                                    "Szállítási mód": "GLS",
                                    "Rendelések összmennyisége": "2772"
                                },
                                {
                                    "Szállítási dátum": "2015-06-26",
                                    "Szállítási mód": "GLS",
                                    "Rendelések összmennyisége": "3312"
                                },
                                {
                                    "Szállítási dátum": "2015-06-27",
                                    "Szállítási mód": "GLS",
                                    "Rendelések összmennyisége": "2574"
                                },
                                {
                                    "Szállítási dátum": "2015-06-28",
                                    "Szállítási mód": "GLS",
                                    "Rendelések összmennyisége": "3217"
                                },
                                {
                                    "Szállítási dátum": "2015-06-29",
                                    "Szállítási mód": "GLS",
                                    "Rendelések összmennyisége": "2701"
                                },
                                {
                                    "Szállítási dátum": "2015-06-30",
                                    "Szállítási mód": "GLS",
                                    "Rendelések összmennyisége": "3938"
                                },
                                {
                                    "Szállítási dátum": "2015-07-01",
                                    "Szállítási mód": "GLS",
                                    "Rendelések összmennyisége": "2280"
                                },
                                {
                                    "Szállítási dátum": "2015-07-02",
                                    "Szállítási mód": "GLS",
                                    "Rendelések összmennyisége": "1958"
                                },
                                {
                                    "Szállítási dátum": "2015-07-03",
                                    "Szállítási mód": "GLS",
                                    "Rendelések összmennyisége": "1707"
                                },
                                {
                                    "Szállítási dátum": "2015-07-04",
                                    "Szállítási mód": "GLS",
                                    "Rendelések összmennyisége": "1912"
                                },
                                {
                                    "Szállítási dátum": "2015-07-05",
                                    "Szállítási mód": "GLS",
                                    "Rendelések összmennyisége": "1792"
                                },
                                {
                                    "Szállítási dátum": "2015-07-06",
                                    "Szállítási mód": "GLS",
                                    "Rendelések összmennyisége": "1526"
                                },
                                {
                                    "Szállítási dátum": "2015-07-07",
                                    "Szállítási mód": "GLS",
                                    "Rendelések összmennyisége": "3315"
                                },
                                {
                                    "Szállítási dátum": "2015-07-08",
                                    "Szállítási mód": "GLS",
                                    "Rendelések összmennyisége": "2539"
                                },
                                {
                                    "Szállítási dátum": "2015-07-09",
                                    "Szállítási mód": "GLS",
                                    "Rendelések összmennyisége": "2997"
                                },
                                {
                                    "Szállítási dátum": "2015-07-10",
                                    "Szállítási mód": "GLS",
                                    "Rendelések összmennyisége": "3772"
                                },
                                {
                                    "Szállítási dátum": "2015-07-11",
                                    "Szállítási mód": "GLS",
                                    "Rendelések összmennyisége": "2549"
                                },
                                {
                                    "Szállítási dátum": "2015-07-12",
                                    "Szállítási mód": "GLS",
                                    "Rendelések összmennyisége": "2704"
                                },
                                {
                                    "Szállítási dátum": "2015-07-13",
                                    "Szállítási mód": "GLS",
                                    "Rendelések összmennyisége": "1226"
                                },
                                {
                                    "Szállítási dátum": "2015-07-14",
                                    "Szállítási mód": "GLS",
                                    "Rendelések összmennyisége": "2103"
                                },
                                {
                                    "Szállítási dátum": "2015-07-15",
                                    "Szállítási mód": "GLS",
                                    "Rendelések összmennyisége": "2277"
                                },
                                {
                                    "Szállítási dátum": "2015-07-16",
                                    "Szállítási mód": "GLS",
                                    "Rendelések összmennyisége": "2343"
                                },
                                {
                                    "Szállítási dátum": "2015-07-17",
                                    "Szállítási mód": "GLS",
                                    "Rendelések összmennyisége": "2650"
                                },
                                {
                                    "Szállítási dátum": "2015-07-18",
                                    "Szállítási mód": "GLS",
                                    "Rendelések összmennyisége": "2384"
                                },
                                {
                                    "Szállítási dátum": "2015-07-19",
                                    "Szállítási mód": "GLS",
                                    "Rendelések összmennyisége": "1481"
                                },
                                {
                                    "Szállítási dátum": "2015-07-20",
                                    "Szállítási mód": "GLS",
                                    "Rendelések összmennyisége": "3929"
                                },
                                {
                                    "Szállítási dátum": "2015-07-21",
                                    "Szállítási mód": "GLS",
                                    "Rendelések összmennyisége": "2806"
                                },
                                {
                                    "Szállítási dátum": "2015-07-22",
                                    "Szállítási mód": "GLS",
                                    "Rendelések összmennyisége": "1289"
                                },
                                {
                                    "Szállítási dátum": "2015-07-23",
                                    "Szállítási mód": "GLS",
                                    "Rendelések összmennyisége": "2564"
                                },
                                {
                                    "Szállítási dátum": "2015-07-24",
                                    "Szállítási mód": "GLS",
                                    "Rendelések összmennyisége": "3134"
                                },
                                {
                                    "Szállítási dátum": "2015-07-25",
                                    "Szállítási mód": "GLS",
                                    "Rendelések összmennyisége": "2355"
                                },
                                {
                                    "Szállítási dátum": "2015-07-26",
                                    "Szállítási mód": "GLS",
                                    "Rendelések összmennyisége": "2890"
                                },
                                {
                                    "Szállítási dátum": "2015-07-27",
                                    "Szállítási mód": "GLS",
                                    "Rendelések összmennyisége": "1450"
                                },
                                {
                                    "Szállítási dátum": "2015-07-28",
                                    "Szállítási mód": "GLS",
                                    "Rendelések összmennyisége": "3186"
                                },
                                {
                                    "Szállítási dátum": "2015-07-29",
                                    "Szállítási mód": "GLS",
                                    "Rendelések összmennyisége": "1607"
                                },
                                {
                                    "Szállítási dátum": "2015-07-30",
                                    "Szállítási mód": "GLS",
                                    "Rendelések összmennyisége": "4266"
                                },
                                {
                                    "Szállítási dátum": "2015-07-31",
                                    "Szállítási mód": "GLS",
                                    "Rendelések összmennyisége": "3425"
                                },
                                {
                                    "Szállítási dátum": "2015-08-01",
                                    "Szállítási mód": "GLS",
                                    "Rendelések összmennyisége": "3490"
                                },
                                {
                                    "Szállítási dátum": "2015-08-02",
                                    "Szállítási mód": "GLS",
                                    "Rendelések összmennyisége": "1417"
                                },
                                {
                                    "Szállítási dátum": "2015-08-03",
                                    "Szállítási mód": "GLS",
                                    "Rendelések összmennyisége": "1602"
                                },
                                {
                                    "Szállítási dátum": "2015-08-04",
                                    "Szállítási mód": "GLS",
                                    "Rendelések összmennyisége": "1315"
                                },
                                {
                                    "Szállítási dátum": "2015-08-05",
                                    "Szállítási mód": "GLS",
                                    "Rendelések összmennyisége": "4337"
                                },
                                {
                                    "Szállítási dátum": "2015-08-06",
                                    "Szállítási mód": "GLS",
                                    "Rendelések összmennyisége": "1722"
                                },
                                {
                                    "Szállítási dátum": "2015-08-07",
                                    "Szállítási mód": "GLS",
                                    "Rendelések összmennyisége": "3461"
                                },
                                {
                                    "Szállítási dátum": "2015-08-08",
                                    "Szállítási mód": "GLS",
                                    "Rendelések összmennyisége": "2367"
                                },
                                {
                                    "Szállítási dátum": "2015-08-09",
                                    "Szállítási mód": "GLS",
                                    "Rendelések összmennyisége": "2154"
                                },
                                {
                                    "Szállítási dátum": "2015-08-10",
                                    "Szállítási mód": "GLS",
                                    "Rendelések összmennyisége": "1696"
                                },
                                {
                                    "Szállítási dátum": "2015-08-11",
                                    "Szállítási mód": "GLS",
                                    "Rendelések összmennyisége": "2203"
                                },
                                {
                                    "Szállítási dátum": "2015-08-12",
                                    "Szállítási mód": "GLS",
                                    "Rendelések összmennyisége": "3462"
                                },
                                {
                                    "Szállítási dátum": "2015-08-13",
                                    "Szállítási mód": "GLS",
                                    "Rendelések összmennyisége": "4241"
                                },
                                {
                                    "Szállítási dátum": "2015-08-14",
                                    "Szállítási mód": "GLS",
                                    "Rendelések összmennyisége": "3337"
                                },
                                {
                                    "Szállítási dátum": "2015-08-15",
                                    "Szállítási mód": "GLS",
                                    "Rendelések összmennyisége": "2525"
                                },
                                {
                                    "Szállítási dátum": "2015-08-16",
                                    "Szállítási mód": "GLS",
                                    "Rendelések összmennyisége": "1424"
                                },
                                {
                                    "Szállítási dátum": "2015-08-17",
                                    "Szállítási mód": "GLS",
                                    "Rendelések összmennyisége": "1952"
                                },
                                {
                                    "Szállítási dátum": "2015-08-18",
                                    "Szállítási mód": "GLS",
                                    "Rendelések összmennyisége": "1792"
                                },
                                {
                                    "Szállítási dátum": "2015-08-19",
                                    "Szállítási mód": "GLS",
                                    "Rendelések összmennyisége": "1393"
                                },
                                {
                                    "Szállítási dátum": "2015-08-20",
                                    "Szállítási mód": "GLS",
                                    "Rendelések összmennyisége": "3081"
                                },
                                {
                                    "Szállítási dátum": "2015-08-21",
                                    "Szállítási mód": "GLS",
                                    "Rendelések összmennyisége": "2954"
                                },
                                {
                                    "Szállítási dátum": "2015-08-22",
                                    "Szállítási mód": "GLS",
                                    "Rendelések összmennyisége": "3372"
                                },
                                {
                                    "Szállítási dátum": "2015-08-23",
                                    "Szállítási mód": "GLS",
                                    "Rendelések összmennyisége": "1799"
                                },
                                {
                                    "Szállítási dátum": "2015-08-24",
                                    "Szállítási mód": "GLS",
                                    "Rendelések összmennyisége": "2266"
                                },
                                {
                                    "Szállítási dátum": "2015-08-25",
                                    "Szállítási mód": "GLS",
                                    "Rendelések összmennyisége": "2238"
                                },
                                {
                                    "Szállítási dátum": "2015-08-26",
                                    "Szállítási mód": "GLS",
                                    "Rendelések összmennyisége": "4775"
                                },
                                {
                                    "Szállítási dátum": "2015-08-27",
                                    "Szállítási mód": "GLS",
                                    "Rendelések összmennyisége": "2750"
                                },
                                {
                                    "Szállítási dátum": "2015-08-28",
                                    "Szállítási mód": "GLS",
                                    "Rendelések összmennyisége": "2808"
                                },
                                {
                                    "Szállítási dátum": "2015-08-29",
                                    "Szállítási mód": "GLS",
                                    "Rendelések összmennyisége": "2158"
                                },
                                {
                                    "Szállítási dátum": "2015-08-30",
                                    "Szállítási mód": "GLS",
                                    "Rendelések összmennyisége": "3739"
                                },
                                {
                                    "Szállítási dátum": "2015-08-31",
                                    "Szállítási mód": "GLS",
                                    "Rendelések összmennyisége": "3334"
                                },
                                {
                                    "Szállítási dátum": "2015-09-01",
                                    "Szállítási mód": "GLS",
                                    "Rendelések összmennyisége": "2486"
                                },
                                {
                                    "Szállítási dátum": "2015-09-02",
                                    "Szállítási mód": "GLS",
                                    "Rendelések összmennyisége": "2811"
                                },
                                {
                                    "Szállítási dátum": "2015-09-03",
                                    "Szállítási mód": "GLS",
                                    "Rendelések összmennyisége": "3060"
                                },
                                {
                                    "Szállítási dátum": "2015-09-04",
                                    "Szállítási mód": "GLS",
                                    "Rendelések összmennyisége": "2441"
                                },
                                {
                                    "Szállítási dátum": "2015-09-05",
                                    "Szállítási mód": "GLS",
                                    "Rendelések összmennyisége": "944"
                                },
                                {
                                    "Szállítási dátum": "2015-09-06",
                                    "Szállítási mód": "GLS",
                                    "Rendelések összmennyisége": "2276"
                                },
                                {
                                    "Szállítási dátum": "2015-09-07",
                                    "Szállítási mód": "GLS",
                                    "Rendelések összmennyisége": "1130"
                                },
                                {
                                    "Szállítási dátum": "2015-09-08",
                                    "Szállítási mód": "GLS",
                                    "Rendelések összmennyisége": "2495"
                                },
                                {
                                    "Szállítási dátum": "2015-09-09",
                                    "Szállítási mód": "GLS",
                                    "Rendelések összmennyisége": "2587"
                                },
                                {
                                    "Szállítási dátum": "2015-09-10",
                                    "Szállítási mód": "GLS",
                                    "Rendelések összmennyisége": "3764"
                                },
                                {
                                    "Szállítási dátum": "2015-09-11",
                                    "Szállítási mód": "GLS",
                                    "Rendelések összmennyisége": "3097"
                                },
                                {
                                    "Szállítási dátum": "2015-09-12",
                                    "Szállítási mód": "GLS",
                                    "Rendelések összmennyisége": "1426"
                                },
                                {
                                    "Szállítási dátum": "2015-09-13",
                                    "Szállítási mód": "GLS",
                                    "Rendelések összmennyisége": "2760"
                                },
                                {
                                    "Szállítási dátum": "2015-09-14",
                                    "Szállítási mód": "GLS",
                                    "Rendelések összmennyisége": "2545"
                                },
                                {
                                    "Szállítási dátum": "2015-09-15",
                                    "Szállítási mód": "GLS",
                                    "Rendelések összmennyisége": "892"
                                },
                                {
                                    "Szállítási dátum": "2015-09-16",
                                    "Szállítási mód": "GLS",
                                    "Rendelések összmennyisége": "3016"
                                },
                                {
                                    "Szállítási dátum": "2015-09-17",
                                    "Szállítási mód": "GLS",
                                    "Rendelések összmennyisége": "2618"
                                },
                                {
                                    "Szállítási dátum": "2015-09-18",
                                    "Szállítási mód": "GLS",
                                    "Rendelések összmennyisége": "2126"
                                },
                                {
                                    "Szállítási dátum": "2015-09-19",
                                    "Szállítási mód": "GLS",
                                    "Rendelések összmennyisége": "2869"
                                },
                                {
                                    "Szállítási dátum": "2015-09-20",
                                    "Szállítási mód": "GLS",
                                    "Rendelések összmennyisége": "3815"
                                },
                                {
                                    "Szállítási dátum": "2015-09-21",
                                    "Szállítási mód": "GLS",
                                    "Rendelések összmennyisége": "2370"
                                },
                                {
                                    "Szállítási dátum": "2015-09-22",
                                    "Szállítási mód": "GLS",
                                    "Rendelések összmennyisége": "868"
                                },
                                {
                                    "Szállítási dátum": "2015-09-23",
                                    "Szállítási mód": "GLS",
                                    "Rendelések összmennyisége": "3100"
                                },
                                {
                                    "Szállítási dátum": "2015-09-24",
                                    "Szállítási mód": "GLS",
                                    "Rendelések összmennyisége": "2958"
                                },
                                {
                                    "Szállítási dátum": "2015-09-25",
                                    "Szállítási mód": "GLS",
                                    "Rendelések összmennyisége": "2630"
                                },
                                {
                                    "Szállítási dátum": "2015-09-26",
                                    "Szállítási mód": "GLS",
                                    "Rendelések összmennyisége": "2532"
                                },
                                {
                                    "Szállítási dátum": "2015-09-27",
                                    "Szállítási mód": "GLS",
                                    "Rendelések összmennyisége": "2446"
                                },
                                {
                                    "Szállítási dátum": "2015-09-28",
                                    "Szállítási mód": "GLS",
                                    "Rendelések összmennyisége": "1853"
                                },
                                {
                                    "Szállítási dátum": "2015-09-29",
                                    "Szállítási mód": "GLS",
                                    "Rendelések összmennyisége": "3805"
                                },
                                {
                                    "Szállítási dátum": "2015-09-30",
                                    "Szállítási mód": "GLS",
                                    "Rendelések összmennyisége": "1530"
                                },
                                {
                                    "Szállítási dátum": "2015-10-01",
                                    "Szállítási mód": "GLS",
                                    "Rendelések összmennyisége": "2190"
                                },
                                {
                                    "Szállítási dátum": "2015-10-02",
                                    "Szállítási mód": "GLS",
                                    "Rendelések összmennyisége": "1474"
                                },
                                {
                                    "Szállítási dátum": "2015-10-03",
                                    "Szállítási mód": "GLS",
                                    "Rendelések összmennyisége": "2210"
                                },
                                {
                                    "Szállítási dátum": "2015-10-04",
                                    "Szállítási mód": "GLS",
                                    "Rendelések összmennyisége": "2601"
                                },
                                {
                                    "Szállítási dátum": "2015-10-05",
                                    "Szállítási mód": "GLS",
                                    "Rendelések összmennyisége": "3255"
                                },
                                {
                                    "Szállítási dátum": "2015-10-06",
                                    "Szállítási mód": "GLS",
                                    "Rendelések összmennyisége": "2743"
                                },
                                {
                                    "Szállítási dátum": "2015-10-07",
                                    "Szállítási mód": "GLS",
                                    "Rendelések összmennyisége": "3053"
                                },
                                {
                                    "Szállítási dátum": "2015-10-08",
                                    "Szállítási mód": "GLS",
                                    "Rendelések összmennyisége": "2867"
                                },
                                {
                                    "Szállítási dátum": "2015-10-09",
                                    "Szállítási mód": "GLS",
                                    "Rendelések összmennyisége": "2597"
                                },
                                {
                                    "Szállítási dátum": "2015-10-10",
                                    "Szállítási mód": "GLS",
                                    "Rendelések összmennyisége": "2399"
                                },
                                {
                                    "Szállítási dátum": "2015-10-11",
                                    "Szállítási mód": "GLS",
                                    "Rendelések összmennyisége": "2230"
                                },
                                {
                                    "Szállítási dátum": "2015-10-12",
                                    "Szállítási mód": "GLS",
                                    "Rendelések összmennyisége": "5885"
                                },
                                {
                                    "Szállítási dátum": "2015-10-13",
                                    "Szállítási mód": "GLS",
                                    "Rendelések összmennyisége": "1771"
                                },
                                {
                                    "Szállítási dátum": "2015-10-14",
                                    "Szállítási mód": "GLS",
                                    "Rendelések összmennyisége": "2563"
                                },
                                {
                                    "Szállítási dátum": "2015-10-15",
                                    "Szállítási mód": "GLS",
                                    "Rendelések összmennyisége": "3155"
                                },
                                {
                                    "Szállítási dátum": "2015-10-16",
                                    "Szállítási mód": "GLS",
                                    "Rendelések összmennyisége": "3481"
                                },
                                {
                                    "Szállítási dátum": "2015-10-17",
                                    "Szállítási mód": "GLS",
                                    "Rendelések összmennyisége": "2486"
                                },
                                {
                                    "Szállítási dátum": "2015-10-18",
                                    "Szállítási mód": "GLS",
                                    "Rendelések összmennyisége": "3564"
                                },
                                {
                                    "Szállítási dátum": "2015-10-19",
                                    "Szállítási mód": "GLS",
                                    "Rendelések összmennyisége": "3152"
                                },
                                {
                                    "Szállítási dátum": "2015-10-20",
                                    "Szállítási mód": "GLS",
                                    "Rendelések összmennyisége": "2492"
                                },
                                {
                                    "Szállítási dátum": "2015-10-21",
                                    "Szállítási mód": "GLS",
                                    "Rendelések összmennyisége": "2589"
                                },
                                {
                                    "Szállítási dátum": "2015-10-22",
                                    "Szállítási mód": "GLS",
                                    "Rendelések összmennyisége": "1120"
                                },
                                {
                                    "Szállítási dátum": "2015-10-23",
                                    "Szállítási mód": "GLS",
                                    "Rendelések összmennyisége": "3551"
                                },
                                {
                                    "Szállítási dátum": "2015-10-24",
                                    "Szállítási mód": "GLS",
                                    "Rendelések összmennyisége": "1673"
                                },
                                {
                                    "Szállítási dátum": "2015-10-25",
                                    "Szállítási mód": "GLS",
                                    "Rendelések összmennyisége": "3282"
                                },
                                {
                                    "Szállítási dátum": "2015-10-26",
                                    "Szállítási mód": "GLS",
                                    "Rendelések összmennyisége": "3628"
                                },
                                {
                                    "Szállítási dátum": "2015-10-27",
                                    "Szállítási mód": "GLS",
                                    "Rendelések összmennyisége": "1509"
                                },
                                {
                                    "Szállítási dátum": "2015-10-28",
                                    "Szállítási mód": "GLS",
                                    "Rendelések összmennyisége": "2906"
                                },
                                {
                                    "Szállítási dátum": "2015-10-29",
                                    "Szállítási mód": "GLS",
                                    "Rendelések összmennyisége": "2471"
                                },
                                {
                                    "Szállítási dátum": "2015-10-30",
                                    "Szállítási mód": "GLS",
                                    "Rendelések összmennyisége": "2959"
                                },
                                {
                                    "Szállítási dátum": "2015-10-31",
                                    "Szállítási mód": "GLS",
                                    "Rendelések összmennyisége": "2058"
                                },
                                {
                                    "Szállítási dátum": "2015-11-01",
                                    "Szállítási mód": "GLS",
                                    "Rendelések összmennyisége": "3550"
                                },
                                {
                                    "Szállítási dátum": "2015-11-02",
                                    "Szállítási mód": "GLS",
                                    "Rendelések összmennyisége": "2266"
                                },
                                {
                                    "Szállítási dátum": "2015-11-03",
                                    "Szállítási mód": "GLS",
                                    "Rendelések összmennyisége": "4588"
                                },
                                {
                                    "Szállítási dátum": "2015-11-04",
                                    "Szállítási mód": "GLS",
                                    "Rendelések összmennyisége": "1889"
                                },
                                {
                                    "Szállítási dátum": "2015-11-05",
                                    "Szállítási mód": "GLS",
                                    "Rendelések összmennyisége": "1806"
                                },
                                {
                                    "Szállítási dátum": "2015-11-06",
                                    "Szállítási mód": "GLS",
                                    "Rendelések összmennyisége": "3185"
                                },
                                {
                                    "Szállítási dátum": "2015-11-07",
                                    "Szállítási mód": "GLS",
                                    "Rendelések összmennyisége": "3178"
                                },
                                {
                                    "Szállítási dátum": "2015-11-08",
                                    "Szállítási mód": "GLS",
                                    "Rendelések összmennyisége": "1478"
                                },
                                {
                                    "Szállítási dátum": "2015-11-09",
                                    "Szállítási mód": "GLS",
                                    "Rendelések összmennyisége": "3918"
                                },
                                {
                                    "Szállítási dátum": "2015-11-10",
                                    "Szállítási mód": "GLS",
                                    "Rendelések összmennyisége": "3392"
                                },
                                {
                                    "Szállítási dátum": "2015-11-11",
                                    "Szállítási mód": "GLS",
                                    "Rendelések összmennyisége": "3295"
                                },
                                {
                                    "Szállítási dátum": "2015-11-12",
                                    "Szállítási mód": "GLS",
                                    "Rendelések összmennyisége": "2687"
                                },
                                {
                                    "Szállítási dátum": "2015-11-13",
                                    "Szállítási mód": "GLS",
                                    "Rendelések összmennyisége": "3281"
                                },
                                {
                                    "Szállítási dátum": "2015-11-14",
                                    "Szállítási mód": "GLS",
                                    "Rendelések összmennyisége": "2437"
                                },
                                {
                                    "Szállítási dátum": "2015-11-15",
                                    "Szállítási mód": "GLS",
                                    "Rendelések összmennyisége": "3000"
                                },
                                {
                                    "Szállítási dátum": "2015-11-16",
                                    "Szállítási mód": "GLS",
                                    "Rendelések összmennyisége": "2104"
                                },
                                {
                                    "Szállítási dátum": "2015-11-17",
                                    "Szállítási mód": "GLS",
                                    "Rendelések összmennyisége": "2122"
                                },
                                {
                                    "Szállítási dátum": "2015-11-18",
                                    "Szállítási mód": "GLS",
                                    "Rendelések összmennyisége": "2654"
                                },
                                {
                                    "Szállítási dátum": "2015-11-19",
                                    "Szállítási mód": "GLS",
                                    "Rendelések összmennyisége": "1537"
                                },
                                {
                                    "Szállítási dátum": "2015-11-20",
                                    "Szállítási mód": "GLS",
                                    "Rendelések összmennyisége": "3342"
                                },
                                {
                                    "Szállítási dátum": "2015-11-21",
                                    "Szállítási mód": "GLS",
                                    "Rendelések összmennyisége": "2086"
                                },
                                {
                                    "Szállítási dátum": "2015-11-22",
                                    "Szállítási mód": "GLS",
                                    "Rendelések összmennyisége": "2948"
                                },
                                {
                                    "Szállítási dátum": "2015-11-23",
                                    "Szállítási mód": "GLS",
                                    "Rendelések összmennyisége": "2754"
                                },
                                {
                                    "Szállítási dátum": "2015-11-24",
                                    "Szállítási mód": "GLS",
                                    "Rendelések összmennyisége": "3601"
                                },
                                {
                                    "Szállítási dátum": "2015-11-25",
                                    "Szállítási mód": "GLS",
                                    "Rendelések összmennyisége": "2751"
                                },
                                {
                                    "Szállítási dátum": "2015-11-26",
                                    "Szállítási mód": "GLS",
                                    "Rendelések összmennyisége": "2355"
                                },
                                {
                                    "Szállítási dátum": "2015-11-27",
                                    "Szállítási mód": "GLS",
                                    "Rendelések összmennyisége": "2190"
                                },
                                {
                                    "Szállítási dátum": "2015-11-28",
                                    "Szállítási mód": "GLS",
                                    "Rendelések összmennyisége": "3149"
                                },
                                {
                                    "Szállítási dátum": "2015-11-29",
                                    "Szállítási mód": "GLS",
                                    "Rendelések összmennyisége": "2567"
                                },
                                {
                                    "Szállítási dátum": "2015-11-30",
                                    "Szállítási mód": "GLS",
                                    "Rendelések összmennyisége": "1862"
                                },
                                {
                                    "Szállítási dátum": "2015-12-01",
                                    "Szállítási mód": "GLS",
                                    "Rendelések összmennyisége": "2249"
                                },
                                {
                                    "Szállítási dátum": "2015-12-02",
                                    "Szállítási mód": "GLS",
                                    "Rendelések összmennyisége": "2837"
                                },
                                {
                                    "Szállítási dátum": "2015-12-03",
                                    "Szállítási mód": "GLS",
                                    "Rendelések összmennyisége": "4730"
                                },
                                {
                                    "Szállítási dátum": "2015-12-04",
                                    "Szállítási mód": "GLS",
                                    "Rendelések összmennyisége": "2741"
                                },
                                {
                                    "Szállítási dátum": "2015-12-05",
                                    "Szállítási mód": "GLS",
                                    "Rendelések összmennyisége": "3135"
                                },
                                {
                                    "Szállítási dátum": "2015-12-06",
                                    "Szállítási mód": "GLS",
                                    "Rendelések összmennyisége": "2230"
                                },
                                {
                                    "Szállítási dátum": "2015-12-07",
                                    "Szállítási mód": "GLS",
                                    "Rendelések összmennyisége": "1994"
                                },
                                {
                                    "Szállítási dátum": "2015-12-08",
                                    "Szállítási mód": "GLS",
                                    "Rendelések összmennyisége": "1639"
                                },
                                {
                                    "Szállítási dátum": "2015-12-09",
                                    "Szállítási mód": "GLS",
                                    "Rendelések összmennyisége": "2863"
                                },
                                {
                                    "Szállítási dátum": "2015-12-10",
                                    "Szállítási mód": "GLS",
                                    "Rendelések összmennyisége": "3319"
                                },
                                {
                                    "Szállítási dátum": "2015-12-11",
                                    "Szállítási mód": "GLS",
                                    "Rendelések összmennyisége": "2404"
                                },
                                {
                                    "Szállítási dátum": "2015-12-12",
                                    "Szállítási mód": "GLS",
                                    "Rendelések összmennyisége": "3083"
                                },
                                {
                                    "Szállítási dátum": "2015-12-13",
                                    "Szállítási mód": "GLS",
                                    "Rendelések összmennyisége": "1705"
                                },
                                {
                                    "Szállítási dátum": "2015-12-14",
                                    "Szállítási mód": "GLS",
                                    "Rendelések összmennyisége": "1411"
                                },
                                {
                                    "Szállítási dátum": "2015-12-15",
                                    "Szállítási mód": "GLS",
                                    "Rendelések összmennyisége": "2166"
                                },
                                {
                                    "Szállítási dátum": "2015-12-16",
                                    "Szállítási mód": "GLS",
                                    "Rendelések összmennyisége": "1558"
                                },
                                {
                                    "Szállítási dátum": "2015-12-17",
                                    "Szállítási mód": "GLS",
                                    "Rendelések összmennyisége": "2813"
                                },
                                {
                                    "Szállítási dátum": "2015-12-18",
                                    "Szállítási mód": "GLS",
                                    "Rendelések összmennyisége": "3590"
                                },
                                {
                                    "Szállítási dátum": "2015-12-19",
                                    "Szállítási mód": "GLS",
                                    "Rendelések összmennyisége": "2004"
                                },
                                {
                                    "Szállítási dátum": "2015-12-20",
                                    "Szállítási mód": "GLS",
                                    "Rendelések összmennyisége": "3956"
                                },
                                {
                                    "Szállítási dátum": "2015-12-21",
                                    "Szállítási mód": "GLS",
                                    "Rendelések összmennyisége": "1824"
                                },
                                {
                                    "Szállítási dátum": "2015-12-22",
                                    "Szállítási mód": "GLS",
                                    "Rendelések összmennyisége": "3230"
                                },
                                {
                                    "Szállítási dátum": "2015-12-23",
                                    "Szállítási mód": "GLS",
                                    "Rendelések összmennyisége": "2549"
                                },
                                {
                                    "Szállítási dátum": "2015-12-24",
                                    "Szállítási mód": "GLS",
                                    "Rendelések összmennyisége": "2880"
                                },
                                {
                                    "Szállítási dátum": "2015-12-25",
                                    "Szállítási mód": "GLS",
                                    "Rendelések összmennyisége": "1947"
                                },
                                {
                                    "Szállítási dátum": "2015-12-26",
                                    "Szállítási mód": "GLS",
                                    "Rendelések összmennyisége": "2572"
                                },
                                {
                                    "Szállítási dátum": "2015-12-27",
                                    "Szállítási mód": "GLS",
                                    "Rendelések összmennyisége": "2065"
                                },
                                {
                                    "Szállítási dátum": "2015-12-28",
                                    "Szállítási mód": "GLS",
                                    "Rendelések összmennyisége": "1417"
                                },
                                {
                                    "Szállítási dátum": "2015-12-29",
                                    "Szállítási mód": "GLS",
                                    "Rendelések összmennyisége": "3524"
                                },
                                {
                                    "Szállítási dátum": "2015-12-30",
                                    "Szállítási mód": "GLS",
                                    "Rendelések összmennyisége": "2230"
                                },
                                {
                                    "Szállítási dátum": "2015-12-31",
                                    "Szállítási mód": "GLS",
                                    "Rendelések összmennyisége": "1811"
                                },
                                {
                                    "Szállítási dátum": "2016-01-01",
                                    "Szállítási mód": "GLS",
                                    "Rendelések összmennyisége": "4221"
                                },
                                {
                                    "Szállítási dátum": "2016-01-02",
                                    "Szállítási mód": "GLS",
                                    "Rendelések összmennyisége": "3035"
                                },
                                {
                                    "Szállítási dátum": "2016-01-03",
                                    "Szállítási mód": "GLS",
                                    "Rendelések összmennyisége": "2538"
                                },
                                {
                                    "Szállítási dátum": "2016-01-04",
                                    "Szállítási mód": "GLS",
                                    "Rendelések összmennyisége": "2357"
                                },
                                {
                                    "Szállítási dátum": "2016-01-05",
                                    "Szállítási mód": "GLS",
                                    "Rendelések összmennyisége": "1035"
                                },
                                {
                                    "Szállítási dátum": "2016-01-06",
                                    "Szállítási mód": "GLS",
                                    "Rendelések összmennyisége": "1840"
                                },
                                {
                                    "Szállítási dátum": "2016-01-07",
                                    "Szállítási mód": "GLS",
                                    "Rendelések összmennyisége": "1870"
                                },
                                {
                                    "Szállítási dátum": "2016-01-08",
                                    "Szállítási mód": "GLS",
                                    "Rendelések összmennyisége": "3106"
                                },
                                {
                                    "Szállítási dátum": "2016-01-09",
                                    "Szállítási mód": "GLS",
                                    "Rendelések összmennyisége": "1442"
                                },
                                {
                                    "Szállítási dátum": "2016-01-10",
                                    "Szállítási mód": "GLS",
                                    "Rendelések összmennyisége": "3341"
                                },
                                {
                                    "Szállítási dátum": "2016-01-11",
                                    "Szállítási mód": "GLS",
                                    "Rendelések összmennyisége": "3427"
                                },
                                {
                                    "Szállítási dátum": "2016-01-12",
                                    "Szállítási mód": "GLS",
                                    "Rendelések összmennyisége": "1994"
                                },
                                {
                                    "Szállítási dátum": "2016-01-13",
                                    "Szállítási mód": "GLS",
                                    "Rendelések összmennyisége": "2923"
                                },
                                {
                                    "Szállítási dátum": "2016-01-14",
                                    "Szállítási mód": "GLS",
                                    "Rendelések összmennyisége": "2843"
                                },
                                {
                                    "Szállítási dátum": "2016-01-15",
                                    "Szállítási mód": "GLS",
                                    "Rendelések összmennyisége": "3047"
                                },
                                {
                                    "Szállítási dátum": "2016-01-16",
                                    "Szállítási mód": "GLS",
                                    "Rendelések összmennyisége": "2880"
                                },
                                {
                                    "Szállítási dátum": "2016-01-17",
                                    "Szállítási mód": "GLS",
                                    "Rendelések összmennyisége": "2473"
                                },
                                {
                                    "Szállítási dátum": "2016-01-18",
                                    "Szállítási mód": "GLS",
                                    "Rendelések összmennyisége": "1450"
                                },
                                {
                                    "Szállítási dátum": "2016-01-19",
                                    "Szállítási mód": "GLS",
                                    "Rendelések összmennyisége": "1830"
                                },
                                {
                                    "Szállítási dátum": "2016-01-20",
                                    "Szállítási mód": "GLS",
                                    "Rendelések összmennyisége": "2230"
                                },
                                {
                                    "Szállítási dátum": "2016-01-21",
                                    "Szállítási mód": "GLS",
                                    "Rendelések összmennyisége": "3583"
                                },
                                {
                                    "Szállítási dátum": "2016-01-22",
                                    "Szállítási mód": "GLS",
                                    "Rendelések összmennyisége": "2624"
                                },
                                {
                                    "Szállítási dátum": "2016-01-23",
                                    "Szállítási mód": "GLS",
                                    "Rendelések összmennyisége": "1298"
                                },
                                {
                                    "Szállítási dátum": "2016-01-24",
                                    "Szállítási mód": "GLS",
                                    "Rendelések összmennyisége": "2204"
                                },
                                {
                                    "Szállítási dátum": "2016-01-25",
                                    "Szállítási mód": "GLS",
                                    "Rendelések összmennyisége": "2345"
                                },
                                {
                                    "Szállítási dátum": "2016-01-26",
                                    "Szállítási mód": "GLS",
                                    "Rendelések összmennyisége": "2008"
                                },
                                {
                                    "Szállítási dátum": "2016-01-27",
                                    "Szállítási mód": "GLS",
                                    "Rendelések összmennyisége": "1122"
                                },
                                {
                                    "Szállítási dátum": "2016-01-28",
                                    "Szállítási mód": "GLS",
                                    "Rendelések összmennyisége": "2477"
                                },
                                {
                                    "Szállítási dátum": "2016-01-29",
                                    "Szállítási mód": "GLS",
                                    "Rendelések összmennyisége": "2044"
                                },
                                {
                                    "Szállítási dátum": "2016-01-30",
                                    "Szállítási mód": "GLS",
                                    "Rendelések összmennyisége": "3167"
                                },
                                {
                                    "Szállítási dátum": "2016-01-31",
                                    "Szállítási mód": "GLS",
                                    "Rendelések összmennyisége": "2991"
                                },
                                {
                                    "Szállítási dátum": "2016-02-01",
                                    "Szállítási mód": "GLS",
                                    "Rendelések összmennyisége": "4247"
                                },
                                {
                                    "Szállítási dátum": "2016-02-02",
                                    "Szállítási mód": "GLS",
                                    "Rendelések összmennyisége": "3709"
                                },
                                {
                                    "Szállítási dátum": "2016-02-03",
                                    "Szállítási mód": "GLS",
                                    "Rendelések összmennyisége": "4381"
                                },
                                {
                                    "Szállítási dátum": "2016-02-04",
                                    "Szállítási mód": "GLS",
                                    "Rendelések összmennyisége": "3375"
                                },
                                {
                                    "Szállítási dátum": "2016-02-05",
                                    "Szállítási mód": "GLS",
                                    "Rendelések összmennyisége": "2098"
                                },
                                {
                                    "Szállítási dátum": "2016-02-06",
                                    "Szállítási mód": "GLS",
                                    "Rendelések összmennyisége": "3354"
                                },
                                {
                                    "Szállítási dátum": "2016-02-07",
                                    "Szállítási mód": "GLS",
                                    "Rendelések összmennyisége": "2078"
                                },
                                {
                                    "Szállítási dátum": "2016-02-08",
                                    "Szállítási mód": "GLS",
                                    "Rendelések összmennyisége": "3318"
                                },
                                {
                                    "Szállítási dátum": "2016-02-09",
                                    "Szállítási mód": "GLS",
                                    "Rendelések összmennyisége": "4984"
                                },
                                {
                                    "Szállítási dátum": "2016-02-10",
                                    "Szállítási mód": "GLS",
                                    "Rendelések összmennyisége": "3040"
                                },
                                {
                                    "Szállítási dátum": "2016-02-11",
                                    "Szállítási mód": "GLS",
                                    "Rendelések összmennyisége": "2703"
                                },
                                {
                                    "Szállítási dátum": "2016-02-12",
                                    "Szállítási mód": "GLS",
                                    "Rendelések összmennyisége": "2380"
                                },
                                {
                                    "Szállítási dátum": "2016-02-13",
                                    "Szállítási mód": "GLS",
                                    "Rendelések összmennyisége": "3110"
                                },
                                {
                                    "Szállítási dátum": "2016-02-14",
                                    "Szállítási mód": "GLS",
                                    "Rendelések összmennyisége": "2230"
                                },
                                {
                                    "Szállítási dátum": "2016-02-15",
                                    "Szállítási mód": "GLS",
                                    "Rendelések összmennyisége": "3255"
                                },
                                {
                                    "Szállítási dátum": "2016-02-16",
                                    "Szállítási mód": "GLS",
                                    "Rendelések összmennyisége": "2110"
                                },
                                {
                                    "Szállítási dátum": "2016-02-17",
                                    "Szállítási mód": "GLS",
                                    "Rendelések összmennyisége": "3815"
                                },
                                {
                                    "Szállítási dátum": "2016-02-18",
                                    "Szállítási mód": "GLS",
                                    "Rendelések összmennyisége": "2610"
                                },
                                {
                                    "Szállítási dátum": "2016-02-19",
                                    "Szállítási mód": "GLS",
                                    "Rendelések összmennyisége": "2952"
                                },
                                {
                                    "Szállítási dátum": "2016-02-20",
                                    "Szállítási mód": "GLS",
                                    "Rendelések összmennyisége": "1908"
                                },
                                {
                                    "Szállítási dátum": "2016-02-21",
                                    "Szállítási mód": "GLS",
                                    "Rendelések összmennyisége": "2898"
                                },
                                {
                                    "Szállítási dátum": "2016-02-22",
                                    "Szállítási mód": "GLS",
                                    "Rendelések összmennyisége": "2631"
                                },
                                {
                                    "Szállítási dátum": "2016-02-23",
                                    "Szállítási mód": "GLS",
                                    "Rendelések összmennyisége": "1936"
                                },
                                {
                                    "Szállítási dátum": "2016-02-24",
                                    "Szállítási mód": "GLS",
                                    "Rendelések összmennyisége": "2491"
                                },
                                {
                                    "Szállítási dátum": "2016-02-25",
                                    "Szállítási mód": "GLS",
                                    "Rendelések összmennyisége": "3178"
                                },
                                {
                                    "Szállítási dátum": "2016-02-26",
                                    "Szállítási mód": "GLS",
                                    "Rendelések összmennyisége": "3735"
                                },
                                {
                                    "Szállítási dátum": "2016-02-27",
                                    "Szállítási mód": "GLS",
                                    "Rendelések összmennyisége": "2096"
                                },
                                {
                                    "Szállítási dátum": "2016-02-28",
                                    "Szállítási mód": "GLS",
                                    "Rendelések összmennyisége": "2995"
                                },
                                {
                                    "Szállítási dátum": "2016-02-29",
                                    "Szállítási mód": "GLS",
                                    "Rendelések összmennyisége": "2303"
                                },
                                {
                                    "Szállítási dátum": "2016-03-01",
                                    "Szállítási mód": "GLS",
                                    "Rendelések összmennyisége": "3350"
                                },
                                {
                                    "Szállítási dátum": "2016-03-02",
                                    "Szállítási mód": "GLS",
                                    "Rendelések összmennyisége": "3571"
                                },
                                {
                                    "Szállítási dátum": "2016-03-03",
                                    "Szállítási mód": "GLS",
                                    "Rendelések összmennyisége": "2442"
                                },
                                {
                                    "Szállítási dátum": "2016-03-04",
                                    "Szállítási mód": "GLS",
                                    "Rendelések összmennyisége": "2617"
                                },
                                {
                                    "Szállítási dátum": "2016-03-05",
                                    "Szállítási mód": "GLS",
                                    "Rendelések összmennyisége": "3452"
                                },
                                {
                                    "Szállítási dátum": "2016-03-06",
                                    "Szállítási mód": "GLS",
                                    "Rendelések összmennyisége": "3679"
                                },
                                {
                                    "Szállítási dátum": "2016-03-07",
                                    "Szállítási mód": "GLS",
                                    "Rendelések összmennyisége": "3368"
                                },
                                {
                                    "Szállítási dátum": "2016-03-08",
                                    "Szállítási mód": "GLS",
                                    "Rendelések összmennyisége": "1530"
                                },
                                {
                                    "Szállítási dátum": "2016-03-09",
                                    "Szállítási mód": "GLS",
                                    "Rendelések összmennyisége": "3874"
                                },
                                {
                                    "Szállítási dátum": "2016-03-10",
                                    "Szállítási mód": "GLS",
                                    "Rendelések összmennyisége": "1592"
                                },
                                {
                                    "Szállítási dátum": "2016-03-11",
                                    "Szállítási mód": "GLS",
                                    "Rendelések összmennyisége": "2487"
                                },
                                {
                                    "Szállítási dátum": "2016-03-12",
                                    "Szállítási mód": "GLS",
                                    "Rendelések összmennyisége": "2585"
                                },
                                {
                                    "Szállítási dátum": "2016-03-13",
                                    "Szállítási mód": "GLS",
                                    "Rendelések összmennyisége": "2058"
                                },
                                {
                                    "Szállítási dátum": "2016-03-14",
                                    "Szállítási mód": "GLS",
                                    "Rendelések összmennyisége": "1809"
                                },
                                {
                                    "Szállítási dátum": "2016-03-15",
                                    "Szállítási mód": "GLS",
                                    "Rendelések összmennyisége": "1332"
                                },
                                {
                                    "Szállítási dátum": "2016-03-16",
                                    "Szállítási mód": "GLS",
                                    "Rendelések összmennyisége": "2827"
                                },
                                {
                                    "Szállítási dátum": "2016-03-17",
                                    "Szállítási mód": "GLS",
                                    "Rendelések összmennyisége": "3893"
                                },
                                {
                                    "Szállítási dátum": "2016-03-18",
                                    "Szállítási mód": "GLS",
                                    "Rendelések összmennyisége": "1516"
                                },
                                {
                                    "Szállítási dátum": "2016-03-19",
                                    "Szállítási mód": "GLS",
                                    "Rendelések összmennyisége": "1559"
                                },
                                {
                                    "Szállítási dátum": "2016-03-20",
                                    "Szállítási mód": "GLS",
                                    "Rendelések összmennyisége": "3620"
                                },
                                {
                                    "Szállítási dátum": "2016-03-21",
                                    "Szállítási mód": "GLS",
                                    "Rendelések összmennyisége": "4162"
                                },
                                {
                                    "Szállítási dátum": "2016-03-22",
                                    "Szállítási mód": "GLS",
                                    "Rendelések összmennyisége": "2838"
                                },
                                {
                                    "Szállítási dátum": "2016-03-23",
                                    "Szállítási mód": "GLS",
                                    "Rendelések összmennyisége": "1207"
                                },
                                {
                                    "Szállítási dátum": "2016-03-24",
                                    "Szállítási mód": "GLS",
                                    "Rendelések összmennyisége": "2883"
                                },
                                {
                                    "Szállítási dátum": "2016-03-25",
                                    "Szállítási mód": "GLS",
                                    "Rendelések összmennyisége": "3057"
                                },
                                {
                                    "Szállítási dátum": "2016-03-26",
                                    "Szállítási mód": "GLS",
                                    "Rendelések összmennyisége": "4028"
                                },
                                {
                                    "Szállítási dátum": "2016-03-27",
                                    "Szállítási mód": "GLS",
                                    "Rendelések összmennyisége": "3391"
                                },
                                {
                                    "Szállítási dátum": "2016-03-28",
                                    "Szállítási mód": "GLS",
                                    "Rendelések összmennyisége": "2403"
                                },
                                {
                                    "Szállítási dátum": "2016-03-29",
                                    "Szállítási mód": "GLS",
                                    "Rendelések összmennyisége": "2331"
                                },
                                {
                                    "Szállítási dátum": "2016-03-30",
                                    "Szállítási mód": "GLS",
                                    "Rendelések összmennyisége": "2565"
                                },
                                {
                                    "Szállítási dátum": "2016-03-31",
                                    "Szállítási mód": "GLS",
                                    "Rendelések összmennyisége": "2320"
                                },
                                {
                                    "Szállítási dátum": "2016-04-01",
                                    "Szállítási mód": "GLS",
                                    "Rendelések összmennyisége": "3365"
                                },
                                {
                                    "Szállítási dátum": "2016-04-02",
                                    "Szállítási mód": "GLS",
                                    "Rendelések összmennyisége": "1875"
                                },
                                {
                                    "Szállítási dátum": "2016-04-03",
                                    "Szállítási mód": "GLS",
                                    "Rendelések összmennyisége": "744"
                                },
                                {
                                    "Szállítási dátum": "2016-04-04",
                                    "Szállítási mód": "GLS",
                                    "Rendelések összmennyisége": "1914"
                                },
                                {
                                    "Szállítási dátum": "2016-04-05",
                                    "Szállítási mód": "GLS",
                                    "Rendelések összmennyisége": "2876"
                                },
                                {
                                    "Szállítási dátum": "2016-04-06",
                                    "Szállítási mód": "GLS",
                                    "Rendelések összmennyisége": "1799"
                                },
                                {
                                    "Szállítási dátum": "2016-04-07",
                                    "Szállítási mód": "GLS",
                                    "Rendelések összmennyisége": "3852"
                                },
                                {
                                    "Szállítási dátum": "2016-04-08",
                                    "Szállítási mód": "GLS",
                                    "Rendelések összmennyisége": "3661"
                                },
                                {
                                    "Szállítási dátum": "2016-04-09",
                                    "Szállítási mód": "GLS",
                                    "Rendelések összmennyisége": "3938"
                                },
                                {
                                    "Szállítási dátum": "2016-04-10",
                                    "Szállítási mód": "GLS",
                                    "Rendelések összmennyisége": "3333"
                                },
                                {
                                    "Szállítási dátum": "2016-04-11",
                                    "Szállítási mód": "GLS",
                                    "Rendelések összmennyisége": "2617"
                                },
                                {
                                    "Szállítási dátum": "2016-04-12",
                                    "Szállítási mód": "GLS",
                                    "Rendelések összmennyisége": "2973"
                                },
                                {
                                    "Szállítási dátum": "2016-04-13",
                                    "Szállítási mód": "GLS",
                                    "Rendelések összmennyisége": "2726"
                                },
                                {
                                    "Szállítási dátum": "2016-04-14",
                                    "Szállítási mód": "GLS",
                                    "Rendelések összmennyisége": "2574"
                                },
                                {
                                    "Szállítási dátum": "2016-04-15",
                                    "Szállítási mód": "GLS",
                                    "Rendelések összmennyisége": "2550"
                                },
                                {
                                    "Szállítási dátum": "2016-04-16",
                                    "Szállítási mód": "GLS",
                                    "Rendelések összmennyisége": "3591"
                                },
                                {
                                    "Szállítási dátum": "2016-04-17",
                                    "Szállítási mód": "GLS",
                                    "Rendelések összmennyisége": "2805"
                                },
                                {
                                    "Szállítási dátum": "2016-04-18",
                                    "Szállítási mód": "GLS",
                                    "Rendelések összmennyisége": "2099"
                                },
                                {
                                    "Szállítási dátum": "2016-04-19",
                                    "Szállítási mód": "GLS",
                                    "Rendelések összmennyisége": "2579"
                                },
                                {
                                    "Szállítási dátum": "2016-04-20",
                                    "Szállítási mód": "GLS",
                                    "Rendelések összmennyisége": "2410"
                                },
                                {
                                    "Szállítási dátum": "2016-04-21",
                                    "Szállítási mód": "GLS",
                                    "Rendelések összmennyisége": "1349"
                                },
                                {
                                    "Szállítási dátum": "2016-04-22",
                                    "Szállítási mód": "GLS",
                                    "Rendelések összmennyisége": "1790"
                                },
                                {
                                    "Szállítási dátum": "2016-04-23",
                                    "Szállítási mód": "GLS",
                                    "Rendelések összmennyisége": "2537"
                                },
                                {
                                    "Szállítási dátum": "2016-04-24",
                                    "Szállítási mód": "GLS",
                                    "Rendelések összmennyisége": "2703"
                                },
                                {
                                    "Szállítási dátum": "2016-04-25",
                                    "Szállítási mód": "GLS",
                                    "Rendelések összmennyisége": "2920"
                                },
                                {
                                    "Szállítási dátum": "2016-04-26",
                                    "Szállítási mód": "GLS",
                                    "Rendelések összmennyisége": "2548"
                                },
                                {
                                    "Szállítási dátum": "2016-04-27",
                                    "Szállítási mód": "GLS",
                                    "Rendelések összmennyisége": "2848"
                                },
                                {
                                    "Szállítási dátum": "2016-04-28",
                                    "Szállítási mód": "GLS",
                                    "Rendelések összmennyisége": "2607"
                                },
                                {
                                    "Szállítási dátum": "2016-04-29",
                                    "Szállítási mód": "GLS",
                                    "Rendelések összmennyisége": "3451"
                                },
                                {
                                    "Szállítási dátum": "2016-04-30",
                                    "Szállítási mód": "GLS",
                                    "Rendelések összmennyisége": "2937"
                                },
                                {
                                    "Szállítási dátum": "2016-05-01",
                                    "Szállítási mód": "GLS",
                                    "Rendelések összmennyisége": "1601"
                                },
                                {
                                    "Szállítási dátum": "2016-05-02",
                                    "Szállítási mód": "GLS",
                                    "Rendelések összmennyisége": "2862"
                                },
                                {
                                    "Szállítási dátum": "2016-05-03",
                                    "Szállítási mód": "GLS",
                                    "Rendelések összmennyisége": "756"
                                },
                                {
                                    "Szállítási dátum": "2016-05-04",
                                    "Szállítási mód": "GLS",
                                    "Rendelések összmennyisége": "3737"
                                },
                                {
                                    "Szállítási dátum": "2016-05-05",
                                    "Szállítási mód": "GLS",
                                    "Rendelések összmennyisége": "3377"
                                },
                                {
                                    "Szállítási dátum": "2016-05-06",
                                    "Szállítási mód": "GLS",
                                    "Rendelések összmennyisége": "3478"
                                },
                                {
                                    "Szállítási dátum": "2016-05-07",
                                    "Szállítási mód": "GLS",
                                    "Rendelések összmennyisége": "1440"
                                },
                                {
                                    "Szállítási dátum": "2016-05-08",
                                    "Szállítási mód": "GLS",
                                    "Rendelések összmennyisége": "3516"
                                },
                                {
                                    "Szállítási dátum": "2016-05-09",
                                    "Szállítási mód": "GLS",
                                    "Rendelések összmennyisége": "3019"
                                },
                                {
                                    "Szállítási dátum": "2016-05-10",
                                    "Szállítási mód": "GLS",
                                    "Rendelések összmennyisége": "2693"
                                },
                                {
                                    "Szállítási dátum": "2016-05-11",
                                    "Szállítási mód": "GLS",
                                    "Rendelések összmennyisége": "2054"
                                },
                                {
                                    "Szállítási dátum": "2016-05-12",
                                    "Szállítási mód": "GLS",
                                    "Rendelések összmennyisége": "3862"
                                },
                                {
                                    "Szállítási dátum": "2016-05-13",
                                    "Szállítási mód": "GLS",
                                    "Rendelések összmennyisége": "2150"
                                },
                                {
                                    "Szállítási dátum": "2016-05-14",
                                    "Szállítási mód": "GLS",
                                    "Rendelések összmennyisége": "2190"
                                },
                                {
                                    "Szállítási dátum": "2016-05-15",
                                    "Szállítási mód": "GLS",
                                    "Rendelések összmennyisége": "2420"
                                },
                                {
                                    "Szállítási dátum": "2016-05-16",
                                    "Szállítási mód": "GLS",
                                    "Rendelések összmennyisége": "4363"
                                },
                                {
                                    "Szállítási dátum": "2016-05-17",
                                    "Szállítási mód": "GLS",
                                    "Rendelések összmennyisége": "1265"
                                },
                                {
                                    "Szállítási dátum": "2016-05-18",
                                    "Szállítási mód": "GLS",
                                    "Rendelések összmennyisége": "2453"
                                },
                                {
                                    "Szállítási dátum": "2016-05-19",
                                    "Szállítási mód": "GLS",
                                    "Rendelések összmennyisége": "1399"
                                },
                                {
                                    "Szállítási dátum": "2016-05-20",
                                    "Szállítási mód": "GLS",
                                    "Rendelések összmennyisége": "3340"
                                },
                                {
                                    "Szállítási dátum": "2016-05-21",
                                    "Szállítási mód": "GLS",
                                    "Rendelések összmennyisége": "3148"
                                },
                                {
                                    "Szállítási dátum": "2016-05-22",
                                    "Szállítási mód": "GLS",
                                    "Rendelések összmennyisége": "940"
                                },
                                {
                                    "Szállítási dátum": "2016-05-23",
                                    "Szállítási mód": "GLS",
                                    "Rendelések összmennyisége": "3028"
                                },
                                {
                                    "Szállítási dátum": "2016-05-24",
                                    "Szállítási mód": "GLS",
                                    "Rendelések összmennyisége": "3361"
                                },
                                {
                                    "Szállítási dátum": "2016-05-25",
                                    "Szállítási mód": "GLS",
                                    "Rendelések összmennyisége": "3440"
                                },
                                {
                                    "Szállítási dátum": "2016-05-26",
                                    "Szállítási mód": "GLS",
                                    "Rendelések összmennyisége": "1826"
                                },
                                {
                                    "Szállítási dátum": "2016-05-27",
                                    "Szállítási mód": "GLS",
                                    "Rendelések összmennyisége": "3879"
                                },
                                {
                                    "Szállítási dátum": "2016-05-28",
                                    "Szállítási mód": "GLS",
                                    "Rendelések összmennyisége": "1680"
                                },
                                {
                                    "Szállítási dátum": "2016-05-29",
                                    "Szállítási mód": "GLS",
                                    "Rendelések összmennyisége": "3650"
                                },
                                {
                                    "Szállítási dátum": "2016-05-30",
                                    "Szállítási mód": "GLS",
                                    "Rendelések összmennyisége": "2546"
                                },
                                {
                                    "Szállítási dátum": "2016-05-31",
                                    "Szállítási mód": "GLS",
                                    "Rendelések összmennyisége": "3043"
                                },
                                {
                                    "Szállítási dátum": "2016-06-01",
                                    "Szállítási mód": "GLS",
                                    "Rendelések összmennyisége": "2497"
                                },
                                {
                                    "Szállítási dátum": "2016-06-02",
                                    "Szállítási mód": "GLS",
                                    "Rendelések összmennyisége": "1585"
                                },
                                {
                                    "Szállítási dátum": "2016-06-03",
                                    "Szállítási mód": "GLS",
                                    "Rendelések összmennyisége": "1912"
                                },
                                {
                                    "Szállítási dátum": "2016-06-04",
                                    "Szállítási mód": "GLS",
                                    "Rendelések összmennyisége": "3536"
                                },
                                {
                                    "Szállítási dátum": "2016-06-05",
                                    "Szállítási mód": "GLS",
                                    "Rendelések összmennyisége": "1818"
                                },
                                {
                                    "Szállítási dátum": "2016-06-06",
                                    "Szállítási mód": "GLS",
                                    "Rendelések összmennyisége": "3331"
                                },
                                {
                                    "Szállítási dátum": "2016-06-07",
                                    "Szállítási mód": "GLS",
                                    "Rendelések összmennyisége": "2767"
                                },
                                {
                                    "Szállítási dátum": "2016-06-08",
                                    "Szállítási mód": "GLS",
                                    "Rendelések összmennyisége": "2397"
                                },
                                {
                                    "Szállítási dátum": "2016-06-09",
                                    "Szállítási mód": "GLS",
                                    "Rendelések összmennyisége": "2252"
                                },
                                {
                                    "Szállítási dátum": "2016-06-10",
                                    "Szállítási mód": "GLS",
                                    "Rendelések összmennyisége": "3085"
                                },
                                {
                                    "Szállítási dátum": "2016-06-11",
                                    "Szállítási mód": "GLS",
                                    "Rendelések összmennyisége": "3160"
                                },
                                {
                                    "Szállítási dátum": "2016-06-12",
                                    "Szállítási mód": "GLS",
                                    "Rendelések összmennyisége": "4100"
                                },
                                {
                                    "Szállítási dátum": "2016-06-13",
                                    "Szállítási mód": "GLS",
                                    "Rendelések összmennyisége": "3060"
                                },
                                {
                                    "Szállítási dátum": "2016-06-14",
                                    "Szállítási mód": "GLS",
                                    "Rendelések összmennyisége": "3397"
                                },
                                {
                                    "Szállítási dátum": "2016-06-15",
                                    "Szállítási mód": "GLS",
                                    "Rendelések összmennyisége": "2846"
                                },
                                {
                                    "Szállítási dátum": "2016-06-16",
                                    "Szállítási mód": "GLS",
                                    "Rendelések összmennyisége": "2166"
                                },
                                {
                                    "Szállítási dátum": "2016-06-17",
                                    "Szállítási mód": "GLS",
                                    "Rendelések összmennyisége": "1952"
                                },
                                {
                                    "Szállítási dátum": "2016-06-18",
                                    "Szállítási mód": "GLS",
                                    "Rendelések összmennyisége": "2122"
                                },
                                {
                                    "Szállítási dátum": "2016-06-19",
                                    "Szállítási mód": "GLS",
                                    "Rendelések összmennyisége": "2558"
                                },
                                {
                                    "Szállítási dátum": "2016-06-20",
                                    "Szállítási mód": "GLS",
                                    "Rendelések összmennyisége": "2567"
                                },
                                {
                                    "Szállítási dátum": "2016-06-21",
                                    "Szállítási mód": "GLS",
                                    "Rendelések összmennyisége": "3412"
                                },
                                {
                                    "Szállítási dátum": "2016-06-22",
                                    "Szállítási mód": "GLS",
                                    "Rendelések összmennyisége": "1817"
                                },
                                {
                                    "Szállítási dátum": "2016-06-23",
                                    "Szállítási mód": "GLS",
                                    "Rendelések összmennyisége": "2804"
                                },
                                {
                                    "Szállítási dátum": "2016-06-24",
                                    "Szállítási mód": "GLS",
                                    "Rendelések összmennyisége": "3173"
                                },
                                {
                                    "Szállítási dátum": "2016-06-25",
                                    "Szállítási mód": "GLS",
                                    "Rendelések összmennyisége": "2611"
                                },
                                {
                                    "Szállítási dátum": "2016-06-26",
                                    "Szállítási mód": "GLS",
                                    "Rendelések összmennyisége": "4064"
                                },
                                {
                                    "Szállítási dátum": "2016-06-27",
                                    "Szállítási mód": "GLS",
                                    "Rendelések összmennyisége": "2096"
                                },
                                {
                                    "Szállítási dátum": "2016-06-28",
                                    "Szállítási mód": "GLS",
                                    "Rendelések összmennyisége": "3920"
                                },
                                {
                                    "Szállítási dátum": "2016-06-29",
                                    "Szállítási mód": "GLS",
                                    "Rendelések összmennyisége": "3700"
                                },
                                {
                                    "Szállítási dátum": "2016-06-30",
                                    "Szállítási mód": "GLS",
                                    "Rendelések összmennyisége": "4135"
                                },
                                {
                                    "Szállítási dátum": "2016-07-01",
                                    "Szállítási mód": "GLS",
                                    "Rendelések összmennyisége": "1260"
                                },
                                {
                                    "Szállítási dátum": "2016-07-02",
                                    "Szállítási mód": "GLS",
                                    "Rendelések összmennyisége": "1856"
                                },
                                {
                                    "Szállítási dátum": "2016-07-03",
                                    "Szállítási mód": "GLS",
                                    "Rendelések összmennyisége": "2881"
                                },
                                {
                                    "Szállítási dátum": "2016-07-04",
                                    "Szállítási mód": "GLS",
                                    "Rendelések összmennyisége": "2806"
                                },
                                {
                                    "Szállítási dátum": "2016-07-05",
                                    "Szállítási mód": "GLS",
                                    "Rendelések összmennyisége": "3699"
                                },
                                {
                                    "Szállítási dátum": "2016-07-06",
                                    "Szállítási mód": "GLS",
                                    "Rendelések összmennyisége": "2696"
                                },
                                {
                                    "Szállítási dátum": "2016-07-07",
                                    "Szállítási mód": "GLS",
                                    "Rendelések összmennyisége": "2390"
                                },
                                {
                                    "Szállítási dátum": "2016-07-08",
                                    "Szállítási mód": "GLS",
                                    "Rendelések összmennyisége": "2161"
                                },
                                {
                                    "Szállítási dátum": "2016-07-09",
                                    "Szállítási mód": "GLS",
                                    "Rendelések összmennyisége": "2287"
                                },
                                {
                                    "Szállítási dátum": "2016-07-10",
                                    "Szállítási mód": "GLS",
                                    "Rendelések összmennyisége": "1722"
                                },
                                {
                                    "Szállítási dátum": "2016-07-11",
                                    "Szállítási mód": "GLS",
                                    "Rendelések összmennyisége": "3747"
                                },
                                {
                                    "Szállítási dátum": "2016-07-12",
                                    "Szállítási mód": "GLS",
                                    "Rendelések összmennyisége": "3070"
                                },
                                {
                                    "Szállítási dátum": "2016-07-13",
                                    "Szállítási mód": "GLS",
                                    "Rendelések összmennyisége": "863"
                                },
                                {
                                    "Szállítási dátum": "2016-07-14",
                                    "Szállítási mód": "GLS",
                                    "Rendelések összmennyisége": "3563"
                                },
                                {
                                    "Szállítási dátum": "2016-07-15",
                                    "Szállítási mód": "GLS",
                                    "Rendelések összmennyisége": "2582"
                                },
                                {
                                    "Szállítási dátum": "2016-07-16",
                                    "Szállítási mód": "GLS",
                                    "Rendelések összmennyisége": "3295"
                                },
                                {
                                    "Szállítási dátum": "2016-07-17",
                                    "Szállítási mód": "GLS",
                                    "Rendelések összmennyisége": "1851"
                                },
                                {
                                    "Szállítási dátum": "2016-07-18",
                                    "Szállítási mód": "GLS",
                                    "Rendelések összmennyisége": "1970"
                                },
                                {
                                    "Szállítási dátum": "2016-07-19",
                                    "Szállítási mód": "GLS",
                                    "Rendelések összmennyisége": "4650"
                                },
                                {
                                    "Szállítási dátum": "2016-07-20",
                                    "Szállítási mód": "GLS",
                                    "Rendelések összmennyisége": "2900"
                                },
                                {
                                    "Szállítási dátum": "2016-07-21",
                                    "Szállítási mód": "GLS",
                                    "Rendelések összmennyisége": "2178"
                                },
                                {
                                    "Szállítási dátum": "2016-07-22",
                                    "Szállítási mód": "GLS",
                                    "Rendelések összmennyisége": "1989"
                                },
                                {
                                    "Szállítási dátum": "2016-07-23",
                                    "Szállítási mód": "GLS",
                                    "Rendelések összmennyisége": "1352"
                                },
                                {
                                    "Szállítási dátum": "2016-07-24",
                                    "Szállítási mód": "GLS",
                                    "Rendelések összmennyisége": "2819"
                                },
                                {
                                    "Szállítási dátum": "2016-07-25",
                                    "Szállítási mód": "GLS",
                                    "Rendelések összmennyisége": "2927"
                                },
                                {
                                    "Szállítási dátum": "2016-07-26",
                                    "Szállítási mód": "GLS",
                                    "Rendelések összmennyisége": "2645"
                                },
                                {
                                    "Szállítási dátum": "2016-07-27",
                                    "Szállítási mód": "GLS",
                                    "Rendelések összmennyisége": "4382"
                                },
                                {
                                    "Szállítási dátum": "2016-07-28",
                                    "Szállítási mód": "GLS",
                                    "Rendelések összmennyisége": "3013"
                                },
                                {
                                    "Szállítási dátum": "2016-07-29",
                                    "Szállítási mód": "GLS",
                                    "Rendelések összmennyisége": "2119"
                                },
                                {
                                    "Szállítási dátum": "2016-07-30",
                                    "Szállítási mód": "GLS",
                                    "Rendelések összmennyisége": "1859"
                                },
                                {
                                    "Szállítási dátum": "2016-07-31",
                                    "Szállítási mód": "GLS",
                                    "Rendelések összmennyisége": "3272"
                                },
                                {
                                    "Szállítási dátum": "2016-08-01",
                                    "Szállítási mód": "GLS",
                                    "Rendelések összmennyisége": "1605"
                                },
                                {
                                    "Szállítási dátum": "2016-08-02",
                                    "Szállítási mód": "GLS",
                                    "Rendelések összmennyisége": "2785"
                                },
                                {
                                    "Szállítási dátum": "2016-08-03",
                                    "Szállítási mód": "GLS",
                                    "Rendelések összmennyisége": "3048"
                                },
                                {
                                    "Szállítási dátum": "2016-08-04",
                                    "Szállítási mód": "GLS",
                                    "Rendelések összmennyisége": "2379"
                                },
                                {
                                    "Szállítási dátum": "2016-08-05",
                                    "Szállítási mód": "GLS",
                                    "Rendelések összmennyisége": "3063"
                                },
                                {
                                    "Szállítási dátum": "2016-08-06",
                                    "Szállítási mód": "GLS",
                                    "Rendelések összmennyisége": "1990"
                                },
                                {
                                    "Szállítási dátum": "2016-08-07",
                                    "Szállítási mód": "GLS",
                                    "Rendelések összmennyisége": "1833"
                                },
                                {
                                    "Szállítási dátum": "2016-08-08",
                                    "Szállítási mód": "GLS",
                                    "Rendelések összmennyisége": "2795"
                                },
                                {
                                    "Szállítási dátum": "2016-08-09",
                                    "Szállítási mód": "GLS",
                                    "Rendelések összmennyisége": "3241"
                                },
                                {
                                    "Szállítási dátum": "2016-08-10",
                                    "Szállítási mód": "GLS",
                                    "Rendelések összmennyisége": "2109"
                                },
                                {
                                    "Szállítási dátum": "2016-08-11",
                                    "Szállítási mód": "GLS",
                                    "Rendelések összmennyisége": "2052"
                                },
                                {
                                    "Szállítási dátum": "2016-08-12",
                                    "Szállítási mód": "GLS",
                                    "Rendelések összmennyisége": "1482"
                                },
                                {
                                    "Szállítási dátum": "2016-08-13",
                                    "Szállítási mód": "GLS",
                                    "Rendelések összmennyisége": "2800"
                                },
                                {
                                    "Szállítási dátum": "2016-08-14",
                                    "Szállítási mód": "GLS",
                                    "Rendelések összmennyisége": "3173"
                                },
                                {
                                    "Szállítási dátum": "2016-08-15",
                                    "Szállítási mód": "GLS",
                                    "Rendelések összmennyisége": "4274"
                                },
                                {
                                    "Szállítási dátum": "2016-08-16",
                                    "Szállítási mód": "GLS",
                                    "Rendelések összmennyisége": "3071"
                                },
                                {
                                    "Szállítási dátum": "2016-08-17",
                                    "Szállítási mód": "GLS",
                                    "Rendelések összmennyisége": "1388"
                                },
                                {
                                    "Szállítási dátum": "2016-08-18",
                                    "Szállítási mód": "GLS",
                                    "Rendelések összmennyisége": "2329"
                                },
                                {
                                    "Szállítási dátum": "2016-08-19",
                                    "Szállítási mód": "GLS",
                                    "Rendelések összmennyisége": "2593"
                                },
                                {
                                    "Szállítási dátum": "2016-08-20",
                                    "Szállítási mód": "GLS",
                                    "Rendelések összmennyisége": "2040"
                                },
                                {
                                    "Szállítási dátum": "2016-08-21",
                                    "Szállítási mód": "GLS",
                                    "Rendelések összmennyisége": "1948"
                                },
                                {
                                    "Szállítási dátum": "2016-08-22",
                                    "Szállítási mód": "GLS",
                                    "Rendelések összmennyisége": "1340"
                                },
                                {
                                    "Szállítási dátum": "2016-08-23",
                                    "Szállítási mód": "GLS",
                                    "Rendelések összmennyisége": "1481"
                                },
                                {
                                    "Szállítási dátum": "2016-08-24",
                                    "Szállítási mód": "GLS",
                                    "Rendelések összmennyisége": "3682"
                                },
                                {
                                    "Szállítási dátum": "2016-08-25",
                                    "Szállítási mód": "GLS",
                                    "Rendelések összmennyisége": "1702"
                                },
                                {
                                    "Szállítási dátum": "2016-08-26",
                                    "Szállítási mód": "GLS",
                                    "Rendelések összmennyisége": "3048"
                                },
                                {
                                    "Szállítási dátum": "2016-08-27",
                                    "Szállítási mód": "GLS",
                                    "Rendelések összmennyisége": "4204"
                                },
                                {
                                    "Szállítási dátum": "2016-08-28",
                                    "Szállítási mód": "GLS",
                                    "Rendelések összmennyisége": "2320"
                                },
                                {
                                    "Szállítási dátum": "2016-08-29",
                                    "Szállítási mód": "GLS",
                                    "Rendelések összmennyisége": "2017"
                                },
                                {
                                    "Szállítási dátum": "2016-08-30",
                                    "Szállítási mód": "GLS",
                                    "Rendelések összmennyisége": "2483"
                                },
                                {
                                    "Szállítási dátum": "2016-08-31",
                                    "Szállítási mód": "GLS",
                                    "Rendelések összmennyisége": "3026"
                                },
                                {
                                    "Szállítási dátum": "2016-09-01",
                                    "Szállítási mód": "GLS",
                                    "Rendelések összmennyisége": "1716"
                                },
                                {
                                    "Szállítási dátum": "2016-09-02",
                                    "Szállítási mód": "GLS",
                                    "Rendelések összmennyisége": "2235"
                                },
                                {
                                    "Szállítási dátum": "2016-09-03",
                                    "Szállítási mód": "GLS",
                                    "Rendelések összmennyisége": "3997"
                                },
                                {
                                    "Szállítási dátum": "2016-09-04",
                                    "Szállítási mód": "GLS",
                                    "Rendelések összmennyisége": "3691"
                                },
                                {
                                    "Szállítási dátum": "2016-09-05",
                                    "Szállítási mód": "GLS",
                                    "Rendelések összmennyisége": "2570"
                                },
                                {
                                    "Szállítási dátum": "2016-09-06",
                                    "Szállítási mód": "GLS",
                                    "Rendelések összmennyisége": "1800"
                                },
                                {
                                    "Szállítási dátum": "2016-09-07",
                                    "Szállítási mód": "GLS",
                                    "Rendelések összmennyisége": "3743"
                                },
                                {
                                    "Szállítási dátum": "2016-09-08",
                                    "Szállítási mód": "GLS",
                                    "Rendelések összmennyisége": "3178"
                                },
                                {
                                    "Szállítási dátum": "2016-09-09",
                                    "Szállítási mód": "GLS",
                                    "Rendelések összmennyisége": "1823"
                                },
                                {
                                    "Szállítási dátum": "2016-09-10",
                                    "Szállítási mód": "GLS",
                                    "Rendelések összmennyisége": "3490"
                                },
                                {
                                    "Szállítási dátum": "2016-09-11",
                                    "Szállítási mód": "GLS",
                                    "Rendelések összmennyisége": "2105"
                                },
                                {
                                    "Szállítási dátum": "2016-09-12",
                                    "Szállítási mód": "GLS",
                                    "Rendelések összmennyisége": "2382"
                                },
                                {
                                    "Szállítási dátum": "2016-09-13",
                                    "Szállítási mód": "GLS",
                                    "Rendelések összmennyisége": "1861"
                                },
                                {
                                    "Szállítási dátum": "2016-09-14",
                                    "Szállítási mód": "GLS",
                                    "Rendelések összmennyisége": "3630"
                                },
                                {
                                    "Szállítási dátum": "2016-09-15",
                                    "Szállítási mód": "GLS",
                                    "Rendelések összmennyisége": "3443"
                                },
                                {
                                    "Szállítási dátum": "2016-09-16",
                                    "Szállítási mód": "GLS",
                                    "Rendelések összmennyisége": "1810"
                                },
                                {
                                    "Szállítási dátum": "2016-09-17",
                                    "Szállítási mód": "GLS",
                                    "Rendelések összmennyisége": "1495"
                                },
                                {
                                    "Szállítási dátum": "2016-09-18",
                                    "Szállítási mód": "GLS",
                                    "Rendelések összmennyisége": "3502"
                                },
                                {
                                    "Szállítási dátum": "2016-09-19",
                                    "Szállítási mód": "GLS",
                                    "Rendelések összmennyisége": "1761"
                                },
                                {
                                    "Szállítási dátum": "2016-09-20",
                                    "Szállítási mód": "GLS",
                                    "Rendelések összmennyisége": "4492"
                                },
                                {
                                    "Szállítási dátum": "2016-09-21",
                                    "Szállítási mód": "GLS",
                                    "Rendelések összmennyisége": "2260"
                                },
                                {
                                    "Szállítási dátum": "2016-09-22",
                                    "Szállítási mód": "GLS",
                                    "Rendelések összmennyisége": "1739"
                                },
                                {
                                    "Szállítási dátum": "2016-09-23",
                                    "Szállítási mód": "GLS",
                                    "Rendelések összmennyisége": "2469"
                                },
                                {
                                    "Szállítási dátum": "2016-09-24",
                                    "Szállítási mód": "GLS",
                                    "Rendelések összmennyisége": "1512"
                                },
                                {
                                    "Szállítási dátum": "2016-09-25",
                                    "Szállítási mód": "GLS",
                                    "Rendelések összmennyisége": "2277"
                                },
                                {
                                    "Szállítási dátum": "2016-09-26",
                                    "Szállítási mód": "GLS",
                                    "Rendelések összmennyisége": "2287"
                                },
                                {
                                    "Szállítási dátum": "2016-09-27",
                                    "Szállítási mód": "GLS",
                                    "Rendelések összmennyisége": "3240"
                                },
                                {
                                    "Szállítási dátum": "2016-09-28",
                                    "Szállítási mód": "GLS",
                                    "Rendelések összmennyisége": "1756"
                                },
                                {
                                    "Szállítási dátum": "2016-09-29",
                                    "Szállítási mód": "GLS",
                                    "Rendelések összmennyisége": "2171"
                                },
                                {
                                    "Szállítási dátum": "2016-09-30",
                                    "Szállítási mód": "GLS",
                                    "Rendelések összmennyisége": "3452"
                                },
                                {
                                    "Szállítási dátum": "2016-10-01",
                                    "Szállítási mód": "GLS",
                                    "Rendelések összmennyisége": "2922"
                                },
                                {
                                    "Szállítási dátum": "2016-10-02",
                                    "Szállítási mód": "GLS",
                                    "Rendelések összmennyisége": "1566"
                                },
                                {
                                    "Szállítási dátum": "2016-10-03",
                                    "Szállítási mód": "GLS",
                                    "Rendelések összmennyisége": "2389"
                                },
                                {
                                    "Szállítási dátum": "2016-10-04",
                                    "Szállítási mód": "GLS",
                                    "Rendelések összmennyisége": "4081"
                                },
                                {
                                    "Szállítási dátum": "2016-10-05",
                                    "Szállítási mód": "GLS",
                                    "Rendelések összmennyisége": "2611"
                                },
                                {
                                    "Szállítási dátum": "2016-10-06",
                                    "Szállítási mód": "GLS",
                                    "Rendelések összmennyisége": "2565"
                                },
                                {
                                    "Szállítási dátum": "2016-10-07",
                                    "Szállítási mód": "GLS",
                                    "Rendelések összmennyisége": "2094"
                                },
                                {
                                    "Szállítási dátum": "2016-10-08",
                                    "Szállítási mód": "GLS",
                                    "Rendelések összmennyisége": "2340"
                                },
                                {
                                    "Szállítási dátum": "2016-10-09",
                                    "Szállítási mód": "GLS",
                                    "Rendelések összmennyisége": "3419"
                                },
                                {
                                    "Szállítási dátum": "2016-10-10",
                                    "Szállítási mód": "GLS",
                                    "Rendelések összmennyisége": "2756"
                                },
                                {
                                    "Szállítási dátum": "2016-10-11",
                                    "Szállítási mód": "GLS",
                                    "Rendelések összmennyisége": "2843"
                                },
                                {
                                    "Szállítási dátum": "2016-10-12",
                                    "Szállítási mód": "GLS",
                                    "Rendelések összmennyisége": "3405"
                                },
                                {
                                    "Szállítási dátum": "2016-10-13",
                                    "Szállítási mód": "GLS",
                                    "Rendelések összmennyisége": "3340"
                                },
                                {
                                    "Szállítási dátum": "2016-10-14",
                                    "Szállítási mód": "GLS",
                                    "Rendelések összmennyisége": "1780"
                                },
                                {
                                    "Szállítási dátum": "2016-10-15",
                                    "Szállítási mód": "GLS",
                                    "Rendelések összmennyisége": "2179"
                                },
                                {
                                    "Szállítási dátum": "2016-10-16",
                                    "Szállítási mód": "GLS",
                                    "Rendelések összmennyisége": "2372"
                                },
                                {
                                    "Szállítási dátum": "2016-10-17",
                                    "Szállítási mód": "GLS",
                                    "Rendelések összmennyisége": "4090"
                                },
                                {
                                    "Szállítási dátum": "2016-10-18",
                                    "Szállítási mód": "GLS",
                                    "Rendelések összmennyisége": "2638"
                                },
                                {
                                    "Szállítási dátum": "2016-10-19",
                                    "Szállítási mód": "GLS",
                                    "Rendelések összmennyisége": "2740"
                                },
                                {
                                    "Szállítási dátum": "2016-10-20",
                                    "Szállítási mód": "GLS",
                                    "Rendelések összmennyisége": "2875"
                                },
                                {
                                    "Szállítási dátum": "2016-10-21",
                                    "Szállítási mód": "GLS",
                                    "Rendelések összmennyisége": "1515"
                                },
                                {
                                    "Szállítási dátum": "2016-10-22",
                                    "Szállítási mód": "GLS",
                                    "Rendelések összmennyisége": "3199"
                                },
                                {
                                    "Szállítási dátum": "2016-10-23",
                                    "Szállítási mód": "GLS",
                                    "Rendelések összmennyisége": "2380"
                                },
                                {
                                    "Szállítási dátum": "2016-10-24",
                                    "Szállítási mód": "GLS",
                                    "Rendelések összmennyisége": "706"
                                },
                                {
                                    "Szállítási dátum": "2016-10-25",
                                    "Szállítási mód": "GLS",
                                    "Rendelések összmennyisége": "3819"
                                },
                                {
                                    "Szállítási dátum": "2016-10-26",
                                    "Szállítási mód": "GLS",
                                    "Rendelések összmennyisége": "2275"
                                },
                                {
                                    "Szállítási dátum": "2016-10-27",
                                    "Szállítási mód": "GLS",
                                    "Rendelések összmennyisége": "2074"
                                },
                                {
                                    "Szállítási dátum": "2016-10-28",
                                    "Szállítási mód": "GLS",
                                    "Rendelések összmennyisége": "1184"
                                },
                                {
                                    "Szállítási dátum": "2016-10-29",
                                    "Szállítási mód": "GLS",
                                    "Rendelések összmennyisége": "2786"
                                },
                                {
                                    "Szállítási dátum": "2016-10-30",
                                    "Szállítási mód": "GLS",
                                    "Rendelések összmennyisége": "4397"
                                },
                                {
                                    "Szállítási dátum": "2016-10-31",
                                    "Szállítási mód": "GLS",
                                    "Rendelések összmennyisége": "2779"
                                },
                                {
                                    "Szállítási dátum": "2016-11-01",
                                    "Szállítási mód": "GLS",
                                    "Rendelések összmennyisége": "2673"
                                },
                                {
                                    "Szállítási dátum": "2016-11-02",
                                    "Szállítási mód": "GLS",
                                    "Rendelések összmennyisége": "1292"
                                },
                                {
                                    "Szállítási dátum": "2016-11-03",
                                    "Szállítási mód": "GLS",
                                    "Rendelések összmennyisége": "2224"
                                },
                                {
                                    "Szállítási dátum": "2016-11-04",
                                    "Szállítási mód": "GLS",
                                    "Rendelések összmennyisége": "2309"
                                },
                                {
                                    "Szállítási dátum": "2016-11-05",
                                    "Szállítási mód": "GLS",
                                    "Rendelések összmennyisége": "2360"
                                },
                                {
                                    "Szállítási dátum": "2016-11-06",
                                    "Szállítási mód": "GLS",
                                    "Rendelések összmennyisége": "2322"
                                },
                                {
                                    "Szállítási dátum": "2016-11-07",
                                    "Szállítási mód": "GLS",
                                    "Rendelések összmennyisége": "1309"
                                },
                                {
                                    "Szállítási dátum": "2016-11-08",
                                    "Szállítási mód": "GLS",
                                    "Rendelések összmennyisége": "3929"
                                },
                                {
                                    "Szállítási dátum": "2016-11-09",
                                    "Szállítási mód": "GLS",
                                    "Rendelések összmennyisége": "1644"
                                },
                                {
                                    "Szállítási dátum": "2016-11-10",
                                    "Szállítási mód": "GLS",
                                    "Rendelések összmennyisége": "1426"
                                },
                                {
                                    "Szállítási dátum": "2016-11-11",
                                    "Szállítási mód": "GLS",
                                    "Rendelések összmennyisége": "1427"
                                },
                                {
                                    "Szállítási dátum": "2016-11-12",
                                    "Szállítási mód": "GLS",
                                    "Rendelések összmennyisége": "2691"
                                },
                                {
                                    "Szállítási dátum": "2016-11-13",
                                    "Szállítási mód": "GLS",
                                    "Rendelések összmennyisége": "3166"
                                },
                                {
                                    "Szállítási dátum": "2016-11-14",
                                    "Szállítási mód": "GLS",
                                    "Rendelések összmennyisége": "5511"
                                },
                                {
                                    "Szállítási dátum": "2016-11-15",
                                    "Szállítási mód": "GLS",
                                    "Rendelések összmennyisége": "2424"
                                },
                                {
                                    "Szállítási dátum": "2016-11-16",
                                    "Szállítási mód": "GLS",
                                    "Rendelések összmennyisége": "2838"
                                },
                                {
                                    "Szállítási dátum": "2016-11-17",
                                    "Szállítási mód": "GLS",
                                    "Rendelések összmennyisége": "2541"
                                },
                                {
                                    "Szállítási dátum": "2016-11-18",
                                    "Szállítási mód": "GLS",
                                    "Rendelések összmennyisége": "2158"
                                },
                                {
                                    "Szállítási dátum": "2016-11-19",
                                    "Szállítási mód": "GLS",
                                    "Rendelések összmennyisége": "2542"
                                },
                                {
                                    "Szállítási dátum": "2016-11-20",
                                    "Szállítási mód": "GLS",
                                    "Rendelések összmennyisége": "2517"
                                },
                                {
                                    "Szállítási dátum": "2016-11-21",
                                    "Szállítási mód": "GLS",
                                    "Rendelések összmennyisége": "2355"
                                },
                                {
                                    "Szállítási dátum": "2016-11-22",
                                    "Szállítási mód": "GLS",
                                    "Rendelések összmennyisége": "1241"
                                },
                                {
                                    "Szállítási dátum": "2016-11-23",
                                    "Szállítási mód": "GLS",
                                    "Rendelések összmennyisége": "2836"
                                },
                                {
                                    "Szállítási dátum": "2016-11-24",
                                    "Szállítási mód": "GLS",
                                    "Rendelések összmennyisége": "2080"
                                },
                                {
                                    "Szállítási dátum": "2016-11-25",
                                    "Szállítási mód": "GLS",
                                    "Rendelések összmennyisége": "2870"
                                },
                                {
                                    "Szállítási dátum": "2016-11-26",
                                    "Szállítási mód": "GLS",
                                    "Rendelések összmennyisége": "3196"
                                },
                                {
                                    "Szállítási dátum": "2016-11-27",
                                    "Szállítási mód": "GLS",
                                    "Rendelések összmennyisége": "4027"
                                },
                                {
                                    "Szállítási dátum": "2016-11-28",
                                    "Szállítási mód": "GLS",
                                    "Rendelések összmennyisége": "4234"
                                },
                                {
                                    "Szállítási dátum": "2016-11-29",
                                    "Szállítási mód": "GLS",
                                    "Rendelések összmennyisége": "2801"
                                },
                                {
                                    "Szállítási dátum": "2016-11-30",
                                    "Szállítási mód": "GLS",
                                    "Rendelések összmennyisége": "2350"
                                },
                                {
                                    "Szállítási dátum": "2016-12-01",
                                    "Szállítási mód": "GLS",
                                    "Rendelések összmennyisége": "3403"
                                },
                                {
                                    "Szállítási dátum": "2016-12-02",
                                    "Szállítási mód": "GLS",
                                    "Rendelések összmennyisége": "1987"
                                },
                                {
                                    "Szállítási dátum": "2016-12-03",
                                    "Szállítási mód": "GLS",
                                    "Rendelések összmennyisége": "2417"
                                },
                                {
                                    "Szállítási dátum": "2016-12-04",
                                    "Szállítási mód": "GLS",
                                    "Rendelések összmennyisége": "2505"
                                },
                                {
                                    "Szállítási dátum": "2016-12-05",
                                    "Szállítási mód": "GLS",
                                    "Rendelések összmennyisége": "2803"
                                },
                                {
                                    "Szállítási dátum": "2016-12-06",
                                    "Szállítási mód": "GLS",
                                    "Rendelések összmennyisége": "2923"
                                },
                                {
                                    "Szállítási dátum": "2016-12-07",
                                    "Szállítási mód": "GLS",
                                    "Rendelések összmennyisége": "3248"
                                },
                                {
                                    "Szállítási dátum": "2016-12-08",
                                    "Szállítási mód": "GLS",
                                    "Rendelések összmennyisége": "1285"
                                },
                                {
                                    "Szállítási dátum": "2016-12-09",
                                    "Szállítási mód": "GLS",
                                    "Rendelések összmennyisége": "2625"
                                },
                                {
                                    "Szállítási dátum": "2016-12-10",
                                    "Szállítási mód": "GLS",
                                    "Rendelések összmennyisége": "1708"
                                },
                                {
                                    "Szállítási dátum": "2016-12-11",
                                    "Szállítási mód": "GLS",
                                    "Rendelések összmennyisége": "2234"
                                },
                                {
                                    "Szállítási dátum": "2016-12-12",
                                    "Szállítási mód": "GLS",
                                    "Rendelések összmennyisége": "2536"
                                },
                                {
                                    "Szállítási dátum": "2016-12-13",
                                    "Szállítási mód": "GLS",
                                    "Rendelések összmennyisége": "2751"
                                },
                                {
                                    "Szállítási dátum": "2016-12-14",
                                    "Szállítási mód": "GLS",
                                    "Rendelések összmennyisége": "2823"
                                },
                                {
                                    "Szállítási dátum": "2016-12-15",
                                    "Szállítási mód": "GLS",
                                    "Rendelések összmennyisége": "3162"
                                },
                                {
                                    "Szállítási dátum": "2016-12-16",
                                    "Szállítási mód": "GLS",
                                    "Rendelések összmennyisége": "2143"
                                },
                                {
                                    "Szállítási dátum": "2016-12-17",
                                    "Szállítási mód": "GLS",
                                    "Rendelések összmennyisége": "2340"
                                },
                                {
                                    "Szállítási dátum": "2016-12-18",
                                    "Szállítási mód": "GLS",
                                    "Rendelések összmennyisége": "1343"
                                },
                                {
                                    "Szállítási dátum": "2016-12-19",
                                    "Szállítási mód": "GLS",
                                    "Rendelések összmennyisége": "1855"
                                },
                                {
                                    "Szállítási dátum": "2016-12-20",
                                    "Szállítási mód": "GLS",
                                    "Rendelések összmennyisége": "2266"
                                },
                                {
                                    "Szállítási dátum": "2016-12-21",
                                    "Szállítási mód": "GLS",
                                    "Rendelések összmennyisége": "3426"
                                },
                                {
                                    "Szállítási dátum": "2016-12-22",
                                    "Szállítási mód": "GLS",
                                    "Rendelések összmennyisége": "923"
                                },
                                {
                                    "Szállítási dátum": "2016-12-23",
                                    "Szállítási mód": "GLS",
                                    "Rendelések összmennyisége": "3349"
                                },
                                {
                                    "Szállítási dátum": "2016-12-24",
                                    "Szállítási mód": "GLS",
                                    "Rendelések összmennyisége": "1860"
                                },
                                {
                                    "Szállítási dátum": "2016-12-25",
                                    "Szállítási mód": "GLS",
                                    "Rendelések összmennyisége": "1539"
                                },
                                {
                                    "Szállítási dátum": "2016-12-26",
                                    "Szállítási mód": "GLS",
                                    "Rendelések összmennyisége": "4064"
                                },
                                {
                                    "Szállítási dátum": "2016-12-27",
                                    "Szállítási mód": "GLS",
                                    "Rendelések összmennyisége": "3166"
                                },
                                {
                                    "Szállítási dátum": "2016-12-28",
                                    "Szállítási mód": "GLS",
                                    "Rendelések összmennyisége": "2379"
                                },
                                {
                                    "Szállítási dátum": "2016-12-29",
                                    "Szállítási mód": "GLS",
                                    "Rendelések összmennyisége": "3557"
                                },
                                {
                                    "Szállítási dátum": "2016-12-30",
                                    "Szállítási mód": "GLS",
                                    "Rendelések összmennyisége": "3028"
                                },
                                {
                                    "Szállítási dátum": "2016-12-31",
                                    "Szállítási mód": "GLS",
                                    "Rendelések összmennyisége": "2512"
                                },
                                {
                                    "Szállítási dátum": "2017-01-01",
                                    "Szállítási mód": "GLS",
                                    "Rendelések összmennyisége": "2752"
                                },
                                {
                                    "Szállítási dátum": "2017-01-02",
                                    "Szállítási mód": "GLS",
                                    "Rendelések összmennyisége": "1960"
                                },
                                {
                                    "Szállítási dátum": "2017-01-03",
                                    "Szállítási mód": "GLS",
                                    "Rendelések összmennyisége": "1380"
                                },
                                {
                                    "Szállítási dátum": "2017-01-04",
                                    "Szállítási mód": "GLS",
                                    "Rendelések összmennyisége": "2053"
                                },
                                {
                                    "Szállítási dátum": "2017-01-05",
                                    "Szállítási mód": "GLS",
                                    "Rendelések összmennyisége": "3757"
                                },
                                {
                                    "Szállítási dátum": "2017-01-06",
                                    "Szállítási mód": "GLS",
                                    "Rendelések összmennyisége": "2314"
                                },
                                {
                                    "Szállítási dátum": "2017-01-07",
                                    "Szállítási mód": "GLS",
                                    "Rendelések összmennyisége": "3080"
                                },
                                {
                                    "Szállítási dátum": "2017-01-08",
                                    "Szállítási mód": "GLS",
                                    "Rendelések összmennyisége": "2519"
                                },
                                {
                                    "Szállítási dátum": "2017-01-09",
                                    "Szállítási mód": "GLS",
                                    "Rendelések összmennyisége": "1350"
                                },
                                {
                                    "Szállítási dátum": "2017-01-10",
                                    "Szállítási mód": "GLS",
                                    "Rendelések összmennyisége": "4119"
                                },
                                {
                                    "Szállítási dátum": "2017-01-11",
                                    "Szállítási mód": "GLS",
                                    "Rendelések összmennyisége": "2705"
                                },
                                {
                                    "Szállítási dátum": "2017-01-12",
                                    "Szállítási mód": "GLS",
                                    "Rendelések összmennyisége": "3170"
                                },
                                {
                                    "Szállítási dátum": "2017-01-13",
                                    "Szállítási mód": "GLS",
                                    "Rendelések összmennyisége": "1050"
                                },
                                {
                                    "Szállítási dátum": "2017-01-14",
                                    "Szállítási mód": "GLS",
                                    "Rendelések összmennyisége": "3126"
                                },
                                {
                                    "Szállítási dátum": "2017-01-15",
                                    "Szállítási mód": "GLS",
                                    "Rendelések összmennyisége": "2337"
                                },
                                {
                                    "Szállítási dátum": "2017-01-16",
                                    "Szállítási mód": "GLS",
                                    "Rendelések összmennyisége": "2970"
                                },
                                {
                                    "Szállítási dátum": "2017-01-17",
                                    "Szállítási mód": "GLS",
                                    "Rendelések összmennyisége": "3596"
                                },
                                {
                                    "Szállítási dátum": "2017-01-18",
                                    "Szállítási mód": "GLS",
                                    "Rendelések összmennyisége": "2425"
                                },
                                {
                                    "Szállítási dátum": "2017-01-19",
                                    "Szállítási mód": "GLS",
                                    "Rendelések összmennyisége": "3357"
                                },
                                {
                                    "Szállítási dátum": "2017-01-20",
                                    "Szállítási mód": "GLS",
                                    "Rendelések összmennyisége": "2190"
                                },
                                {
                                    "Szállítási dátum": "2017-01-21",
                                    "Szállítási mód": "GLS",
                                    "Rendelések összmennyisége": "2245"
                                },
                                {
                                    "Szállítási dátum": "2017-01-22",
                                    "Szállítási mód": "GLS",
                                    "Rendelések összmennyisége": "2395"
                                },
                                {
                                    "Szállítási dátum": "2017-01-23",
                                    "Szállítási mód": "GLS",
                                    "Rendelések összmennyisége": "1954"
                                },
                                {
                                    "Szállítási dátum": "2017-01-24",
                                    "Szállítási mód": "GLS",
                                    "Rendelések összmennyisége": "3367"
                                },
                                {
                                    "Szállítási dátum": "2017-01-25",
                                    "Szállítási mód": "GLS",
                                    "Rendelések összmennyisége": "2157"
                                },
                                {
                                    "Szállítási dátum": "2017-01-26",
                                    "Szállítási mód": "GLS",
                                    "Rendelések összmennyisége": "3462"
                                },
                                {
                                    "Szállítási dátum": "2017-01-27",
                                    "Szállítási mód": "GLS",
                                    "Rendelések összmennyisége": "2821"
                                },
                                {
                                    "Szállítási dátum": "2017-01-28",
                                    "Szállítási mód": "GLS",
                                    "Rendelések összmennyisége": "2841"
                                },
                                {
                                    "Szállítási dátum": "2017-01-29",
                                    "Szállítási mód": "GLS",
                                    "Rendelések összmennyisége": "3627"
                                },
                                {
                                    "Szállítási dátum": "2017-01-30",
                                    "Szállítási mód": "GLS",
                                    "Rendelések összmennyisége": "2868"
                                },
                                {
                                    "Szállítási dátum": "2017-01-31",
                                    "Szállítási mód": "GLS",
                                    "Rendelések összmennyisége": "1922"
                                },
                                {
                                    "Szállítási dátum": "2017-02-01",
                                    "Szállítási mód": "GLS",
                                    "Rendelések összmennyisége": "2893"
                                },
                                {
                                    "Szállítási dátum": "2017-02-02",
                                    "Szállítási mód": "GLS",
                                    "Rendelések összmennyisége": "3411"
                                },
                                {
                                    "Szállítási dátum": "2017-02-03",
                                    "Szállítási mód": "GLS",
                                    "Rendelések összmennyisége": "2619"
                                },
                                {
                                    "Szállítási dátum": "2017-02-04",
                                    "Szállítási mód": "GLS",
                                    "Rendelések összmennyisége": "1410"
                                },
                                {
                                    "Szállítási dátum": "2017-02-05",
                                    "Szállítási mód": "GLS",
                                    "Rendelések összmennyisége": "2691"
                                },
                                {
                                    "Szállítási dátum": "2017-02-06",
                                    "Szállítási mód": "GLS",
                                    "Rendelések összmennyisége": "1990"
                                },
                                {
                                    "Szállítási dátum": "2017-02-07",
                                    "Szállítási mód": "GLS",
                                    "Rendelések összmennyisége": "2227"
                                },
                                {
                                    "Szállítási dátum": "2017-02-08",
                                    "Szállítási mód": "GLS",
                                    "Rendelések összmennyisége": "2592"
                                },
                                {
                                    "Szállítási dátum": "2017-02-09",
                                    "Szállítási mód": "GLS",
                                    "Rendelések összmennyisége": "2481"
                                },
                                {
                                    "Szállítási dátum": "2017-02-10",
                                    "Szállítási mód": "GLS",
                                    "Rendelések összmennyisége": "2706"
                                },
                                {
                                    "Szállítási dátum": "2017-02-11",
                                    "Szállítási mód": "GLS",
                                    "Rendelések összmennyisége": "2468"
                                },
                                {
                                    "Szállítási dátum": "2017-02-12",
                                    "Szállítási mód": "GLS",
                                    "Rendelések összmennyisége": "2352"
                                },
                                {
                                    "Szállítási dátum": "2017-02-13",
                                    "Szállítási mód": "GLS",
                                    "Rendelések összmennyisége": "2154"
                                },
                                {
                                    "Szállítási dátum": "2017-02-14",
                                    "Szállítási mód": "GLS",
                                    "Rendelések összmennyisége": "3163"
                                },
                                {
                                    "Szállítási dátum": "2017-02-15",
                                    "Szállítási mód": "GLS",
                                    "Rendelések összmennyisége": "2479"
                                },
                                {
                                    "Szállítási dátum": "2017-02-16",
                                    "Szállítási mód": "GLS",
                                    "Rendelések összmennyisége": "3271"
                                },
                                {
                                    "Szállítási dátum": "2017-02-17",
                                    "Szállítási mód": "GLS",
                                    "Rendelések összmennyisége": "3817"
                                },
                                {
                                    "Szállítási dátum": "2017-02-18",
                                    "Szállítási mód": "GLS",
                                    "Rendelések összmennyisége": "1691"
                                },
                                {
                                    "Szállítási dátum": "2017-02-19",
                                    "Szállítási mód": "GLS",
                                    "Rendelések összmennyisége": "1175"
                                },
                                {
                                    "Szállítási dátum": "2017-02-20",
                                    "Szállítási mód": "GLS",
                                    "Rendelések összmennyisége": "1767"
                                },
                                {
                                    "Szállítási dátum": "2017-02-21",
                                    "Szállítási mód": "GLS",
                                    "Rendelések összmennyisége": "3385"
                                },
                                {
                                    "Szállítási dátum": "2017-02-22",
                                    "Szállítási mód": "GLS",
                                    "Rendelések összmennyisége": "1753"
                                },
                                {
                                    "Szállítási dátum": "2017-02-23",
                                    "Szállítási mód": "GLS",
                                    "Rendelések összmennyisége": "2933"
                                },
                                {
                                    "Szállítási dátum": "2017-02-24",
                                    "Szállítási mód": "GLS",
                                    "Rendelések összmennyisége": "2451"
                                },
                                {
                                    "Szállítási dátum": "2017-02-25",
                                    "Szállítási mód": "GLS",
                                    "Rendelések összmennyisége": "2377"
                                },
                                {
                                    "Szállítási dátum": "2017-02-26",
                                    "Szállítási mód": "GLS",
                                    "Rendelések összmennyisége": "2137"
                                },
                                {
                                    "Szállítási dátum": "2017-02-27",
                                    "Szállítási mód": "GLS",
                                    "Rendelések összmennyisége": "4007"
                                },
                                {
                                    "Szállítási dátum": "2017-02-28",
                                    "Szállítási mód": "GLS",
                                    "Rendelések összmennyisége": "3801"
                                },
                                {
                                    "Szállítási dátum": "2017-03-01",
                                    "Szállítási mód": "GLS",
                                    "Rendelések összmennyisége": "1618"
                                },
                                {
                                    "Szállítási dátum": "2017-03-02",
                                    "Szállítási mód": "GLS",
                                    "Rendelések összmennyisége": "1195"
                                },
                                {
                                    "Szállítási dátum": "2017-03-03",
                                    "Szállítási mód": "GLS",
                                    "Rendelések összmennyisége": "1906"
                                },
                                {
                                    "Szállítási dátum": "2017-03-04",
                                    "Szállítási mód": "GLS",
                                    "Rendelések összmennyisége": "1420"
                                },
                                {
                                    "Szállítási dátum": "2017-03-05",
                                    "Szállítási mód": "GLS",
                                    "Rendelések összmennyisége": "3929"
                                },
                                {
                                    "Szállítási dátum": "2017-03-06",
                                    "Szállítási mód": "GLS",
                                    "Rendelések összmennyisége": "4727"
                                },
                                {
                                    "Szállítási dátum": "2017-03-07",
                                    "Szállítási mód": "GLS",
                                    "Rendelések összmennyisége": "2843"
                                },
                                {
                                    "Szállítási dátum": "2017-03-08",
                                    "Szállítási mód": "GLS",
                                    "Rendelések összmennyisége": "1947"
                                },
                                {
                                    "Szállítási dátum": "2017-03-09",
                                    "Szállítási mód": "GLS",
                                    "Rendelések összmennyisége": "2230"
                                },
                                {
                                    "Szállítási dátum": "2017-03-10",
                                    "Szállítási mód": "GLS",
                                    "Rendelések összmennyisége": "1921"
                                },
                                {
                                    "Szállítási dátum": "2017-03-11",
                                    "Szállítási mód": "GLS",
                                    "Rendelések összmennyisége": "4369"
                                },
                                {
                                    "Szállítási dátum": "2017-03-12",
                                    "Szállítási mód": "GLS",
                                    "Rendelések összmennyisége": "2977"
                                },
                                {
                                    "Szállítási dátum": "2017-03-13",
                                    "Szállítási mód": "GLS",
                                    "Rendelések összmennyisége": "2018"
                                },
                                {
                                    "Szállítási dátum": "2017-03-14",
                                    "Szállítási mód": "GLS",
                                    "Rendelések összmennyisége": "2245"
                                },
                                {
                                    "Szállítási dátum": "2017-03-15",
                                    "Szállítási mód": "GLS",
                                    "Rendelések összmennyisége": "2202"
                                },
                                {
                                    "Szállítási dátum": "2017-03-16",
                                    "Szállítási mód": "GLS",
                                    "Rendelések összmennyisége": "3189"
                                },
                                {
                                    "Szállítási dátum": "2017-03-17",
                                    "Szállítási mód": "GLS",
                                    "Rendelések összmennyisége": "3116"
                                },
                                {
                                    "Szállítási dátum": "2017-03-18",
                                    "Szállítási mód": "GLS",
                                    "Rendelések összmennyisége": "2659"
                                },
                                {
                                    "Szállítási dátum": "2017-03-19",
                                    "Szállítási mód": "GLS",
                                    "Rendelések összmennyisége": "2647"
                                },
                                {
                                    "Szállítási dátum": "2017-03-20",
                                    "Szállítási mód": "GLS",
                                    "Rendelések összmennyisége": "3438"
                                },
                                {
                                    "Szállítási dátum": "2017-03-21",
                                    "Szállítási mód": "GLS",
                                    "Rendelések összmennyisége": "2341"
                                },
                                {
                                    "Szállítási dátum": "2017-03-22",
                                    "Szállítási mód": "GLS",
                                    "Rendelések összmennyisége": "2591"
                                },
                                {
                                    "Szállítási dátum": "2017-03-23",
                                    "Szállítási mód": "GLS",
                                    "Rendelések összmennyisége": "3827"
                                },
                                {
                                    "Szállítási dátum": "2017-03-24",
                                    "Szállítási mód": "GLS",
                                    "Rendelések összmennyisége": "3735"
                                },
                                {
                                    "Szállítási dátum": "2017-03-25",
                                    "Szállítási mód": "GLS",
                                    "Rendelések összmennyisége": "2954"
                                },
                                {
                                    "Szállítási dátum": "2017-03-26",
                                    "Szállítási mód": "GLS",
                                    "Rendelések összmennyisége": "1679"
                                },
                                {
                                    "Szállítási dátum": "2017-03-27",
                                    "Szállítási mód": "GLS",
                                    "Rendelések összmennyisége": "2086"
                                },
                                {
                                    "Szállítási dátum": "2017-03-28",
                                    "Szállítási mód": "GLS",
                                    "Rendelések összmennyisége": "2100"
                                },
                                {
                                    "Szállítási dátum": "2017-03-29",
                                    "Szállítási mód": "GLS",
                                    "Rendelések összmennyisége": "2057"
                                },
                                {
                                    "Szállítási dátum": "2017-03-30",
                                    "Szállítási mód": "GLS",
                                    "Rendelések összmennyisége": "3040"
                                },
                                {
                                    "Szállítási dátum": "2017-03-31",
                                    "Szállítási mód": "GLS",
                                    "Rendelések összmennyisége": "2819"
                                },
                                {
                                    "Szállítási dátum": "2017-04-01",
                                    "Szállítási mód": "GLS",
                                    "Rendelések összmennyisége": "3003"
                                },
                                {
                                    "Szállítási dátum": "2017-04-02",
                                    "Szállítási mód": "GLS",
                                    "Rendelések összmennyisége": "1267"
                                },
                                {
                                    "Szállítási dátum": "2017-04-03",
                                    "Szállítási mód": "GLS",
                                    "Rendelések összmennyisége": "2695"
                                },
                                {
                                    "Szállítási dátum": "2017-04-04",
                                    "Szállítási mód": "GLS",
                                    "Rendelések összmennyisége": "2741"
                                },
                                {
                                    "Szállítási dátum": "2017-04-05",
                                    "Szállítási mód": "GLS",
                                    "Rendelések összmennyisége": "2688"
                                },
                                {
                                    "Szállítási dátum": "2017-04-06",
                                    "Szállítási mód": "GLS",
                                    "Rendelések összmennyisége": "2185"
                                },
                                {
                                    "Szállítási dátum": "2017-04-07",
                                    "Szállítási mód": "GLS",
                                    "Rendelések összmennyisége": "1087"
                                },
                                {
                                    "Szállítási dátum": "2017-04-08",
                                    "Szállítási mód": "GLS",
                                    "Rendelések összmennyisége": "671"
                                },
                                {
                                    "Szállítási dátum": "2017-04-09",
                                    "Szállítási mód": "GLS",
                                    "Rendelések összmennyisége": "1310"
                                },
                                {
                                    "Szállítási dátum": "2017-04-10",
                                    "Szállítási mód": "GLS",
                                    "Rendelések összmennyisége": "570"
                                },
                                {
                                    "Szállítási dátum": "2017-04-11",
                                    "Szállítási mód": "GLS",
                                    "Rendelések összmennyisége": "550"
                                },
                                {
                                    "Szállítási dátum": "NULL",
                                    "Szállítási mód": "GLS",
                                    "Rendelések összmennyisége": "1839906"
                                },
                                {
                                    "Szállítási dátum": "2015-05-04",
                                    "Szállítási mód": "Posta",
                                    "Rendelések összmennyisége": "219"
                                },
                                {
                                    "Szállítási dátum": "2015-05-05",
                                    "Szállítási mód": "Posta",
                                    "Rendelések összmennyisége": "1095"
                                },
                                {
                                    "Szállítási dátum": "2015-05-06",
                                    "Szállítási mód": "Posta",
                                    "Rendelések összmennyisége": "1140"
                                },
                                {
                                    "Szállítási dátum": "2015-05-07",
                                    "Szállítási mód": "Posta",
                                    "Rendelések összmennyisége": "1260"
                                },
                                {
                                    "Szállítási dátum": "2015-05-08",
                                    "Szállítási mód": "Posta",
                                    "Rendelések összmennyisége": "820"
                                },
                                {
                                    "Szállítási dátum": "2015-05-09",
                                    "Szállítási mód": "Posta",
                                    "Rendelések összmennyisége": "1140"
                                },
                                {
                                    "Szállítási dátum": "2015-05-10",
                                    "Szállítási mód": "Posta",
                                    "Rendelések összmennyisége": "1261"
                                },
                                {
                                    "Szállítási dátum": "2015-05-11",
                                    "Szállítási mód": "Posta",
                                    "Rendelések összmennyisége": "1428"
                                },
                                {
                                    "Szállítási dátum": "2015-05-12",
                                    "Szállítási mód": "Posta",
                                    "Rendelések összmennyisége": "1424"
                                },
                                {
                                    "Szállítási dátum": "2015-05-13",
                                    "Szállítási mód": "Posta",
                                    "Rendelések összmennyisége": "1081"
                                },
                                {
                                    "Szállítási dátum": "2015-05-14",
                                    "Szállítási mód": "Posta",
                                    "Rendelések összmennyisége": "915"
                                },
                                {
                                    "Szállítási dátum": "2015-05-15",
                                    "Szállítási mód": "Posta",
                                    "Rendelések összmennyisége": "1494"
                                },
                                {
                                    "Szállítási dátum": "2015-05-16",
                                    "Szállítási mód": "Posta",
                                    "Rendelések összmennyisége": "678"
                                },
                                {
                                    "Szállítási dátum": "2015-05-17",
                                    "Szállítási mód": "Posta",
                                    "Rendelések összmennyisége": "289"
                                },
                                {
                                    "Szállítási dátum": "2015-05-18",
                                    "Szállítási mód": "Posta",
                                    "Rendelések összmennyisége": "2299"
                                },
                                {
                                    "Szállítási dátum": "2015-05-19",
                                    "Szállítási mód": "Posta",
                                    "Rendelések összmennyisége": "1941"
                                },
                                {
                                    "Szállítási dátum": "2015-05-20",
                                    "Szállítási mód": "Posta",
                                    "Rendelések összmennyisége": "3040"
                                },
                                {
                                    "Szállítási dátum": "2015-05-21",
                                    "Szállítási mód": "Posta",
                                    "Rendelések összmennyisége": "1080"
                                },
                                {
                                    "Szállítási dátum": "2015-05-22",
                                    "Szállítási mód": "Posta",
                                    "Rendelések összmennyisége": "2141"
                                },
                                {
                                    "Szállítási dátum": "2015-05-23",
                                    "Szállítási mód": "Posta",
                                    "Rendelések összmennyisége": "1570"
                                },
                                {
                                    "Szállítási dátum": "2015-05-24",
                                    "Szállítási mód": "Posta",
                                    "Rendelések összmennyisége": "1099"
                                },
                                {
                                    "Szállítási dátum": "2015-05-25",
                                    "Szállítási mód": "Posta",
                                    "Rendelések összmennyisége": "673"
                                },
                                {
                                    "Szállítási dátum": "2015-05-26",
                                    "Szállítási mód": "Posta",
                                    "Rendelések összmennyisége": "483"
                                },
                                {
                                    "Szállítási dátum": "2015-05-27",
                                    "Szállítási mód": "Posta",
                                    "Rendelések összmennyisége": "1536"
                                },
                                {
                                    "Szállítási dátum": "2015-05-28",
                                    "Szállítási mód": "Posta",
                                    "Rendelések összmennyisége": "1928"
                                },
                                {
                                    "Szállítási dátum": "2015-05-29",
                                    "Szállítási mód": "Posta",
                                    "Rendelések összmennyisége": "2355"
                                },
                                {
                                    "Szállítási dátum": "2015-05-30",
                                    "Szállítási mód": "Posta",
                                    "Rendelések összmennyisége": "2960"
                                },
                                {
                                    "Szállítási dátum": "2015-05-31",
                                    "Szállítási mód": "Posta",
                                    "Rendelések összmennyisége": "1230"
                                },
                                {
                                    "Szállítási dátum": "2015-06-01",
                                    "Szállítási mód": "Posta",
                                    "Rendelések összmennyisége": "1998"
                                },
                                {
                                    "Szállítási dátum": "2015-06-02",
                                    "Szállítási mód": "Posta",
                                    "Rendelések összmennyisége": "624"
                                },
                                {
                                    "Szállítási dátum": "2015-06-03",
                                    "Szállítási mód": "Posta",
                                    "Rendelések összmennyisége": "2340"
                                },
                                {
                                    "Szállítási dátum": "2015-06-04",
                                    "Szállítási mód": "Posta",
                                    "Rendelések összmennyisége": "2745"
                                },
                                {
                                    "Szállítási dátum": "2015-06-05",
                                    "Szállítási mód": "Posta",
                                    "Rendelések összmennyisége": "2525"
                                },
                                {
                                    "Szállítási dátum": "2015-06-06",
                                    "Szállítási mód": "Posta",
                                    "Rendelések összmennyisége": "2630"
                                },
                                {
                                    "Szállítási dátum": "2015-06-07",
                                    "Szállítási mód": "Posta",
                                    "Rendelések összmennyisége": "3645"
                                },
                                {
                                    "Szállítási dátum": "2015-06-08",
                                    "Szállítási mód": "Posta",
                                    "Rendelések összmennyisége": "2144"
                                },
                                {
                                    "Szállítási dátum": "2015-06-09",
                                    "Szállítási mód": "Posta",
                                    "Rendelések összmennyisége": "2916"
                                },
                                {
                                    "Szállítási dátum": "2015-06-10",
                                    "Szállítási mód": "Posta",
                                    "Rendelések összmennyisége": "3646"
                                },
                                {
                                    "Szállítási dátum": "2015-06-11",
                                    "Szállítási mód": "Posta",
                                    "Rendelések összmennyisége": "1400"
                                },
                                {
                                    "Szállítási dátum": "2015-06-12",
                                    "Szállítási mód": "Posta",
                                    "Rendelések összmennyisége": "2025"
                                },
                                {
                                    "Szállítási dátum": "2015-06-13",
                                    "Szállítási mód": "Posta",
                                    "Rendelések összmennyisége": "2984"
                                },
                                {
                                    "Szállítási dátum": "2015-06-14",
                                    "Szállítási mód": "Posta",
                                    "Rendelések összmennyisége": "2420"
                                },
                                {
                                    "Szállítási dátum": "2015-06-15",
                                    "Szállítási mód": "Posta",
                                    "Rendelések összmennyisége": "2765"
                                },
                                {
                                    "Szállítási dátum": "2015-06-16",
                                    "Szállítási mód": "Posta",
                                    "Rendelések összmennyisége": "930"
                                },
                                {
                                    "Szállítási dátum": "2015-06-17",
                                    "Szállítási mód": "Posta",
                                    "Rendelések összmennyisége": "3558"
                                },
                                {
                                    "Szállítási dátum": "2015-06-18",
                                    "Szállítási mód": "Posta",
                                    "Rendelések összmennyisége": "3271"
                                },
                                {
                                    "Szállítási dátum": "2015-06-19",
                                    "Szállítási mód": "Posta",
                                    "Rendelések összmennyisége": "1815"
                                },
                                {
                                    "Szállítási dátum": "2015-06-20",
                                    "Szállítási mód": "Posta",
                                    "Rendelések összmennyisége": "1850"
                                },
                                {
                                    "Szállítási dátum": "2015-06-21",
                                    "Szállítási mód": "Posta",
                                    "Rendelések összmennyisége": "1726"
                                },
                                {
                                    "Szállítási dátum": "2015-06-22",
                                    "Szállítási mód": "Posta",
                                    "Rendelések összmennyisége": "2518"
                                },
                                {
                                    "Szállítási dátum": "2015-06-23",
                                    "Szállítási mód": "Posta",
                                    "Rendelések összmennyisége": "2304"
                                },
                                {
                                    "Szállítási dátum": "2015-06-24",
                                    "Szállítási mód": "Posta",
                                    "Rendelések összmennyisége": "1000"
                                },
                                {
                                    "Szállítási dátum": "2015-06-25",
                                    "Szállítási mód": "Posta",
                                    "Rendelések összmennyisége": "3097"
                                },
                                {
                                    "Szállítási dátum": "2015-06-26",
                                    "Szállítási mód": "Posta",
                                    "Rendelések összmennyisége": "2935"
                                },
                                {
                                    "Szállítási dátum": "2015-06-27",
                                    "Szállítási mód": "Posta",
                                    "Rendelések összmennyisége": "1858"
                                },
                                {
                                    "Szállítási dátum": "2015-06-28",
                                    "Szállítási mód": "Posta",
                                    "Rendelések összmennyisége": "2414"
                                },
                                {
                                    "Szállítási dátum": "2015-06-29",
                                    "Szállítási mód": "Posta",
                                    "Rendelések összmennyisége": "2023"
                                },
                                {
                                    "Szállítási dátum": "2015-06-30",
                                    "Szállítási mód": "Posta",
                                    "Rendelések összmennyisége": "2882"
                                },
                                {
                                    "Szállítási dátum": "2015-07-01",
                                    "Szállítási mód": "Posta",
                                    "Rendelések összmennyisége": "672"
                                },
                                {
                                    "Szállítási dátum": "2015-07-02",
                                    "Szállítási mód": "Posta",
                                    "Rendelések összmennyisége": "2208"
                                },
                                {
                                    "Szállítási dátum": "2015-07-03",
                                    "Szállítási mód": "Posta",
                                    "Rendelések összmennyisége": "2370"
                                },
                                {
                                    "Szállítási dátum": "2015-07-04",
                                    "Szállítási mód": "Posta",
                                    "Rendelések összmennyisége": "2960"
                                },
                                {
                                    "Szállítási dátum": "2015-07-05",
                                    "Szállítási mód": "Posta",
                                    "Rendelések összmennyisége": "3064"
                                },
                                {
                                    "Szállítási dátum": "2015-07-06",
                                    "Szállítási mód": "Posta",
                                    "Rendelések összmennyisége": "4400"
                                },
                                {
                                    "Szállítási dátum": "2015-07-07",
                                    "Szállítási mód": "Posta",
                                    "Rendelések összmennyisége": "3822"
                                },
                                {
                                    "Szállítási dátum": "2015-07-08",
                                    "Szállítási mód": "Posta",
                                    "Rendelések összmennyisége": "1535"
                                },
                                {
                                    "Szállítási dátum": "2015-07-09",
                                    "Szállítási mód": "Posta",
                                    "Rendelések összmennyisége": "2517"
                                },
                                {
                                    "Szállítási dátum": "2015-07-10",
                                    "Szállítási mód": "Posta",
                                    "Rendelések összmennyisége": "2609"
                                },
                                {
                                    "Szállítási dátum": "2015-07-11",
                                    "Szállítási mód": "Posta",
                                    "Rendelések összmennyisége": "2336"
                                },
                                {
                                    "Szállítási dátum": "2015-07-12",
                                    "Szállítási mód": "Posta",
                                    "Rendelések összmennyisége": "2753"
                                },
                                {
                                    "Szállítási dátum": "2015-07-13",
                                    "Szállítási mód": "Posta",
                                    "Rendelések összmennyisége": "4357"
                                },
                                {
                                    "Szállítási dátum": "2015-07-14",
                                    "Szállítási mód": "Posta",
                                    "Rendelések összmennyisége": "1975"
                                },
                                {
                                    "Szállítási dátum": "2015-07-15",
                                    "Szállítási mód": "Posta",
                                    "Rendelések összmennyisége": "3030"
                                },
                                {
                                    "Szállítási dátum": "2015-07-16",
                                    "Szállítási mód": "Posta",
                                    "Rendelések összmennyisége": "2920"
                                },
                                {
                                    "Szállítási dátum": "2015-07-17",
                                    "Szállítási mód": "Posta",
                                    "Rendelések összmennyisége": "3214"
                                },
                                {
                                    "Szállítási dátum": "2015-07-18",
                                    "Szállítási mód": "Posta",
                                    "Rendelések összmennyisége": "1511"
                                },
                                {
                                    "Szállítási dátum": "2015-07-19",
                                    "Szállítási mód": "Posta",
                                    "Rendelések összmennyisége": "2570"
                                },
                                {
                                    "Szállítási dátum": "2015-07-20",
                                    "Szállítási mód": "Posta",
                                    "Rendelések összmennyisége": "2900"
                                },
                                {
                                    "Szállítási dátum": "2015-07-21",
                                    "Szállítási mód": "Posta",
                                    "Rendelések összmennyisége": "4368"
                                },
                                {
                                    "Szállítási dátum": "2015-07-22",
                                    "Szállítási mód": "Posta",
                                    "Rendelések összmennyisége": "1501"
                                },
                                {
                                    "Szállítási dátum": "2015-07-23",
                                    "Szállítási mód": "Posta",
                                    "Rendelések összmennyisége": "1818"
                                },
                                {
                                    "Szállítási dátum": "2015-07-24",
                                    "Szállítási mód": "Posta",
                                    "Rendelések összmennyisége": "2506"
                                },
                                {
                                    "Szállítási dátum": "2015-07-25",
                                    "Szállítási mód": "Posta",
                                    "Rendelések összmennyisége": "3358"
                                },
                                {
                                    "Szállítási dátum": "2015-07-26",
                                    "Szállítási mód": "Posta",
                                    "Rendelések összmennyisége": "2661"
                                },
                                {
                                    "Szállítási dátum": "2015-07-27",
                                    "Szállítási mód": "Posta",
                                    "Rendelések összmennyisége": "2637"
                                },
                                {
                                    "Szállítási dátum": "2015-07-28",
                                    "Szállítási mód": "Posta",
                                    "Rendelések összmennyisége": "2865"
                                },
                                {
                                    "Szállítási dátum": "2015-07-29",
                                    "Szállítási mód": "Posta",
                                    "Rendelések összmennyisége": "2045"
                                },
                                {
                                    "Szállítási dátum": "2015-07-30",
                                    "Szállítási mód": "Posta",
                                    "Rendelések összmennyisége": "2175"
                                },
                                {
                                    "Szállítási dátum": "2015-07-31",
                                    "Szállítási mód": "Posta",
                                    "Rendelések összmennyisége": "3469"
                                },
                                {
                                    "Szállítási dátum": "2015-08-01",
                                    "Szállítási mód": "Posta",
                                    "Rendelések összmennyisége": "3030"
                                },
                                {
                                    "Szállítási dátum": "2015-08-02",
                                    "Szállítási mód": "Posta",
                                    "Rendelések összmennyisége": "3187"
                                },
                                {
                                    "Szállítási dátum": "2015-08-03",
                                    "Szállítási mód": "Posta",
                                    "Rendelések összmennyisége": "3844"
                                },
                                {
                                    "Szállítási dátum": "2015-08-04",
                                    "Szállítási mód": "Posta",
                                    "Rendelések összmennyisége": "3091"
                                },
                                {
                                    "Szállítási dátum": "2015-08-05",
                                    "Szállítási mód": "Posta",
                                    "Rendelések összmennyisége": "1851"
                                },
                                {
                                    "Szállítási dátum": "2015-08-06",
                                    "Szállítási mód": "Posta",
                                    "Rendelések összmennyisége": "1601"
                                },
                                {
                                    "Szállítási dátum": "2015-08-07",
                                    "Szállítási mód": "Posta",
                                    "Rendelések összmennyisége": "2823"
                                },
                                {
                                    "Szállítási dátum": "2015-08-08",
                                    "Szállítási mód": "Posta",
                                    "Rendelések összmennyisége": "3876"
                                },
                                {
                                    "Szállítási dátum": "2015-08-09",
                                    "Szállítási mód": "Posta",
                                    "Rendelések összmennyisége": "2314"
                                },
                                {
                                    "Szállítási dátum": "2015-08-10",
                                    "Szállítási mód": "Posta",
                                    "Rendelések összmennyisége": "2480"
                                },
                                {
                                    "Szállítási dátum": "2015-08-11",
                                    "Szállítási mód": "Posta",
                                    "Rendelések összmennyisége": "4030"
                                },
                                {
                                    "Szállítási dátum": "2015-08-12",
                                    "Szállítási mód": "Posta",
                                    "Rendelések összmennyisége": "2090"
                                },
                                {
                                    "Szállítási dátum": "2015-08-13",
                                    "Szállítási mód": "Posta",
                                    "Rendelések összmennyisége": "2987"
                                },
                                {
                                    "Szállítási dátum": "2015-08-14",
                                    "Szállítási mód": "Posta",
                                    "Rendelések összmennyisége": "3166"
                                },
                                {
                                    "Szállítási dátum": "2015-08-15",
                                    "Szállítási mód": "Posta",
                                    "Rendelések összmennyisége": "1249"
                                },
                                {
                                    "Szállítási dátum": "2015-08-16",
                                    "Szállítási mód": "Posta",
                                    "Rendelések összmennyisége": "1739"
                                },
                                {
                                    "Szállítási dátum": "2015-08-17",
                                    "Szállítási mód": "Posta",
                                    "Rendelések összmennyisége": "2397"
                                },
                                {
                                    "Szállítási dátum": "2015-08-18",
                                    "Szállítási mód": "Posta",
                                    "Rendelések összmennyisége": "1745"
                                },
                                {
                                    "Szállítási dátum": "2015-08-19",
                                    "Szállítási mód": "Posta",
                                    "Rendelések összmennyisége": "3110"
                                },
                                {
                                    "Szállítási dátum": "2015-08-20",
                                    "Szállítási mód": "Posta",
                                    "Rendelések összmennyisége": "1990"
                                },
                                {
                                    "Szállítási dátum": "2015-08-21",
                                    "Szállítási mód": "Posta",
                                    "Rendelések összmennyisége": "1931"
                                },
                                {
                                    "Szállítási dátum": "2015-08-22",
                                    "Szállítási mód": "Posta",
                                    "Rendelések összmennyisége": "3336"
                                },
                                {
                                    "Szállítási dátum": "2015-08-23",
                                    "Szállítási mód": "Posta",
                                    "Rendelések összmennyisége": "3552"
                                },
                                {
                                    "Szállítási dátum": "2015-08-24",
                                    "Szállítási mód": "Posta",
                                    "Rendelések összmennyisége": "2805"
                                },
                                {
                                    "Szállítási dátum": "2015-08-25",
                                    "Szállítási mód": "Posta",
                                    "Rendelések összmennyisége": "4032"
                                },
                                {
                                    "Szállítási dátum": "2015-08-26",
                                    "Szállítási mód": "Posta",
                                    "Rendelések összmennyisége": "4315"
                                },
                                {
                                    "Szállítási dátum": "2015-08-27",
                                    "Szállítási mód": "Posta",
                                    "Rendelések összmennyisége": "2262"
                                },
                                {
                                    "Szállítási dátum": "2015-08-28",
                                    "Szállítási mód": "Posta",
                                    "Rendelések összmennyisége": "1935"
                                },
                                {
                                    "Szállítási dátum": "2015-08-29",
                                    "Szállítási mód": "Posta",
                                    "Rendelések összmennyisége": "2728"
                                },
                                {
                                    "Szállítási dátum": "2015-08-30",
                                    "Szállítási mód": "Posta",
                                    "Rendelések összmennyisége": "2897"
                                },
                                {
                                    "Szállítási dátum": "2015-08-31",
                                    "Szállítási mód": "Posta",
                                    "Rendelések összmennyisége": "1926"
                                },
                                {
                                    "Szállítási dátum": "2015-09-01",
                                    "Szállítási mód": "Posta",
                                    "Rendelések összmennyisége": "2996"
                                },
                                {
                                    "Szállítási dátum": "2015-09-02",
                                    "Szállítási mód": "Posta",
                                    "Rendelések összmennyisége": "1953"
                                },
                                {
                                    "Szállítási dátum": "2015-09-03",
                                    "Szállítási mód": "Posta",
                                    "Rendelések összmennyisége": "3749"
                                },
                                {
                                    "Szállítási dátum": "2015-09-04",
                                    "Szállítási mód": "Posta",
                                    "Rendelések összmennyisége": "3900"
                                },
                                {
                                    "Szállítási dátum": "2015-09-05",
                                    "Szállítási mód": "Posta",
                                    "Rendelések összmennyisége": "2698"
                                },
                                {
                                    "Szállítási dátum": "2015-09-06",
                                    "Szállítási mód": "Posta",
                                    "Rendelések összmennyisége": "3006"
                                },
                                {
                                    "Szállítási dátum": "2015-09-07",
                                    "Szállítási mód": "Posta",
                                    "Rendelések összmennyisége": "3316"
                                },
                                {
                                    "Szállítási dátum": "2015-09-08",
                                    "Szállítási mód": "Posta",
                                    "Rendelések összmennyisége": "2743"
                                },
                                {
                                    "Szállítási dátum": "2015-09-09",
                                    "Szállítási mód": "Posta",
                                    "Rendelések összmennyisége": "1890"
                                },
                                {
                                    "Szállítási dátum": "2015-09-10",
                                    "Szállítási mód": "Posta",
                                    "Rendelések összmennyisége": "3334"
                                },
                                {
                                    "Szállítási dátum": "2015-09-11",
                                    "Szállítási mód": "Posta",
                                    "Rendelések összmennyisége": "4178"
                                },
                                {
                                    "Szállítási dátum": "2015-09-12",
                                    "Szállítási mód": "Posta",
                                    "Rendelések összmennyisége": "2231"
                                },
                                {
                                    "Szállítási dátum": "2015-09-13",
                                    "Szállítási mód": "Posta",
                                    "Rendelések összmennyisége": "3111"
                                },
                                {
                                    "Szállítási dátum": "2015-09-14",
                                    "Szállítási mód": "Posta",
                                    "Rendelések összmennyisége": "3131"
                                },
                                {
                                    "Szállítási dátum": "2015-09-15",
                                    "Szállítási mód": "Posta",
                                    "Rendelések összmennyisége": "1724"
                                },
                                {
                                    "Szállítási dátum": "2015-09-16",
                                    "Szállítási mód": "Posta",
                                    "Rendelések összmennyisége": "3090"
                                },
                                {
                                    "Szállítási dátum": "2015-09-17",
                                    "Szállítási mód": "Posta",
                                    "Rendelések összmennyisége": "3159"
                                },
                                {
                                    "Szállítási dátum": "2015-09-18",
                                    "Szállítási mód": "Posta",
                                    "Rendelések összmennyisége": "1948"
                                },
                                {
                                    "Szállítási dátum": "2015-09-19",
                                    "Szállítási mód": "Posta",
                                    "Rendelések összmennyisége": "2448"
                                },
                                {
                                    "Szállítási dátum": "2015-09-20",
                                    "Szállítási mód": "Posta",
                                    "Rendelések összmennyisége": "3529"
                                },
                                {
                                    "Szállítási dátum": "2015-09-21",
                                    "Szállítási mód": "Posta",
                                    "Rendelések összmennyisége": "2766"
                                },
                                {
                                    "Szállítási dátum": "2015-09-22",
                                    "Szállítási mód": "Posta",
                                    "Rendelések összmennyisége": "3257"
                                },
                                {
                                    "Szállítási dátum": "2015-09-23",
                                    "Szállítási mód": "Posta",
                                    "Rendelések összmennyisége": "2540"
                                },
                                {
                                    "Szállítási dátum": "2015-09-24",
                                    "Szállítási mód": "Posta",
                                    "Rendelések összmennyisége": "3326"
                                },
                                {
                                    "Szállítási dátum": "2015-09-25",
                                    "Szállítási mód": "Posta",
                                    "Rendelések összmennyisége": "3393"
                                },
                                {
                                    "Szállítási dátum": "2015-09-26",
                                    "Szállítási mód": "Posta",
                                    "Rendelések összmennyisége": "3751"
                                },
                                {
                                    "Szállítási dátum": "2015-09-27",
                                    "Szállítási mód": "Posta",
                                    "Rendelések összmennyisége": "3414"
                                },
                                {
                                    "Szállítási dátum": "2015-09-28",
                                    "Szállítási mód": "Posta",
                                    "Rendelések összmennyisége": "4587"
                                },
                                {
                                    "Szállítási dátum": "2015-09-29",
                                    "Szállítási mód": "Posta",
                                    "Rendelések összmennyisége": "3427"
                                },
                                {
                                    "Szállítási dátum": "2015-09-30",
                                    "Szállítási mód": "Posta",
                                    "Rendelések összmennyisége": "1983"
                                },
                                {
                                    "Szállítási dátum": "2015-10-01",
                                    "Szállítási mód": "Posta",
                                    "Rendelések összmennyisége": "4002"
                                },
                                {
                                    "Szállítási dátum": "2015-10-02",
                                    "Szállítási mód": "Posta",
                                    "Rendelések összmennyisége": "2987"
                                },
                                {
                                    "Szállítási dátum": "2015-10-03",
                                    "Szállítási mód": "Posta",
                                    "Rendelések összmennyisége": "2038"
                                },
                                {
                                    "Szállítási dátum": "2015-10-04",
                                    "Szállítási mód": "Posta",
                                    "Rendelések összmennyisége": "2614"
                                },
                                {
                                    "Szállítási dátum": "2015-10-05",
                                    "Szállítási mód": "Posta",
                                    "Rendelések összmennyisége": "3110"
                                },
                                {
                                    "Szállítási dátum": "2015-10-06",
                                    "Szállítási mód": "Posta",
                                    "Rendelések összmennyisége": "2560"
                                },
                                {
                                    "Szállítási dátum": "2015-10-07",
                                    "Szállítási mód": "Posta",
                                    "Rendelések összmennyisége": "2960"
                                },
                                {
                                    "Szállítási dátum": "2015-10-08",
                                    "Szállítási mód": "Posta",
                                    "Rendelések összmennyisége": "1741"
                                },
                                {
                                    "Szállítási dátum": "2015-10-09",
                                    "Szállítási mód": "Posta",
                                    "Rendelések összmennyisége": "3050"
                                },
                                {
                                    "Szállítási dátum": "2015-10-10",
                                    "Szállítási mód": "Posta",
                                    "Rendelések összmennyisége": "1716"
                                },
                                {
                                    "Szállítási dátum": "2015-10-11",
                                    "Szállítási mód": "Posta",
                                    "Rendelések összmennyisége": "1704"
                                },
                                {
                                    "Szállítási dátum": "2015-10-12",
                                    "Szállítási mód": "Posta",
                                    "Rendelések összmennyisége": "2098"
                                },
                                {
                                    "Szállítási dátum": "2015-10-13",
                                    "Szállítási mód": "Posta",
                                    "Rendelések összmennyisége": "2136"
                                },
                                {
                                    "Szállítási dátum": "2015-10-14",
                                    "Szállítási mód": "Posta",
                                    "Rendelések összmennyisége": "3142"
                                },
                                {
                                    "Szállítási dátum": "2015-10-15",
                                    "Szállítási mód": "Posta",
                                    "Rendelések összmennyisége": "3475"
                                },
                                {
                                    "Szállítási dátum": "2015-10-16",
                                    "Szállítási mód": "Posta",
                                    "Rendelések összmennyisége": "2148"
                                },
                                {
                                    "Szállítási dátum": "2015-10-17",
                                    "Szállítási mód": "Posta",
                                    "Rendelések összmennyisége": "1520"
                                },
                                {
                                    "Szállítási dátum": "2015-10-18",
                                    "Szállítási mód": "Posta",
                                    "Rendelések összmennyisége": "1840"
                                },
                                {
                                    "Szállítási dátum": "2015-10-19",
                                    "Szállítási mód": "Posta",
                                    "Rendelések összmennyisége": "2423"
                                },
                                {
                                    "Szállítási dátum": "2015-10-20",
                                    "Szállítási mód": "Posta",
                                    "Rendelések összmennyisége": "3052"
                                },
                                {
                                    "Szállítási dátum": "2015-10-21",
                                    "Szállítási mód": "Posta",
                                    "Rendelések összmennyisége": "2084"
                                },
                                {
                                    "Szállítási dátum": "2015-10-22",
                                    "Szállítási mód": "Posta",
                                    "Rendelések összmennyisége": "3955"
                                },
                                {
                                    "Szállítási dátum": "2015-10-23",
                                    "Szállítási mód": "Posta",
                                    "Rendelések összmennyisége": "1459"
                                },
                                {
                                    "Szállítási dátum": "2015-10-24",
                                    "Szállítási mód": "Posta",
                                    "Rendelések összmennyisége": "2826"
                                },
                                {
                                    "Szállítási dátum": "2015-10-25",
                                    "Szállítási mód": "Posta",
                                    "Rendelések összmennyisége": "2332"
                                },
                                {
                                    "Szállítási dátum": "2015-10-26",
                                    "Szállítási mód": "Posta",
                                    "Rendelések összmennyisége": "3919"
                                },
                                {
                                    "Szállítási dátum": "2015-10-27",
                                    "Szállítási mód": "Posta",
                                    "Rendelések összmennyisége": "2923"
                                },
                                {
                                    "Szállítási dátum": "2015-10-28",
                                    "Szállítási mód": "Posta",
                                    "Rendelések összmennyisége": "2868"
                                },
                                {
                                    "Szállítási dátum": "2015-10-29",
                                    "Szállítási mód": "Posta",
                                    "Rendelések összmennyisége": "2528"
                                },
                                {
                                    "Szállítási dátum": "2015-10-30",
                                    "Szállítási mód": "Posta",
                                    "Rendelések összmennyisége": "3419"
                                },
                                {
                                    "Szállítási dátum": "2015-10-31",
                                    "Szállítási mód": "Posta",
                                    "Rendelések összmennyisége": "2821"
                                },
                                {
                                    "Szállítási dátum": "2015-11-01",
                                    "Szállítási mód": "Posta",
                                    "Rendelések összmennyisége": "529"
                                },
                                {
                                    "Szállítási dátum": "2015-11-02",
                                    "Szállítási mód": "Posta",
                                    "Rendelések összmennyisége": "3491"
                                },
                                {
                                    "Szállítási dátum": "2015-11-03",
                                    "Szállítási mód": "Posta",
                                    "Rendelések összmennyisége": "3631"
                                },
                                {
                                    "Szállítási dátum": "2015-11-04",
                                    "Szállítási mód": "Posta",
                                    "Rendelések összmennyisége": "1729"
                                },
                                {
                                    "Szállítási dátum": "2015-11-05",
                                    "Szállítási mód": "Posta",
                                    "Rendelések összmennyisége": "2468"
                                },
                                {
                                    "Szállítási dátum": "2015-11-06",
                                    "Szállítási mód": "Posta",
                                    "Rendelések összmennyisége": "3139"
                                },
                                {
                                    "Szállítási dátum": "2015-11-07",
                                    "Szállítási mód": "Posta",
                                    "Rendelések összmennyisége": "2299"
                                },
                                {
                                    "Szállítási dátum": "2015-11-08",
                                    "Szállítási mód": "Posta",
                                    "Rendelések összmennyisége": "2351"
                                },
                                {
                                    "Szállítási dátum": "2015-11-09",
                                    "Szállítási mód": "Posta",
                                    "Rendelések összmennyisége": "1670"
                                },
                                {
                                    "Szállítási dátum": "2015-11-10",
                                    "Szállítási mód": "Posta",
                                    "Rendelések összmennyisége": "2637"
                                },
                                {
                                    "Szállítási dátum": "2015-11-11",
                                    "Szállítási mód": "Posta",
                                    "Rendelések összmennyisége": "670"
                                },
                                {
                                    "Szállítási dátum": "2015-11-12",
                                    "Szállítási mód": "Posta",
                                    "Rendelések összmennyisége": "1747"
                                },
                                {
                                    "Szállítási dátum": "2015-11-13",
                                    "Szállítási mód": "Posta",
                                    "Rendelések összmennyisége": "1903"
                                },
                                {
                                    "Szállítási dátum": "2015-11-14",
                                    "Szállítási mód": "Posta",
                                    "Rendelések összmennyisége": "3140"
                                },
                                {
                                    "Szállítási dátum": "2015-11-15",
                                    "Szállítási mód": "Posta",
                                    "Rendelések összmennyisége": "2117"
                                },
                                {
                                    "Szállítási dátum": "2015-11-16",
                                    "Szállítási mód": "Posta",
                                    "Rendelések összmennyisége": "2293"
                                },
                                {
                                    "Szállítási dátum": "2015-11-17",
                                    "Szállítási mód": "Posta",
                                    "Rendelések összmennyisége": "3156"
                                },
                                {
                                    "Szállítási dátum": "2015-11-18",
                                    "Szállítási mód": "Posta",
                                    "Rendelések összmennyisége": "3151"
                                },
                                {
                                    "Szállítási dátum": "2015-11-19",
                                    "Szállítási mód": "Posta",
                                    "Rendelések összmennyisége": "5000"
                                },
                                {
                                    "Szállítási dátum": "2015-11-20",
                                    "Szállítási mód": "Posta",
                                    "Rendelések összmennyisége": "1014"
                                },
                                {
                                    "Szállítási dátum": "2015-11-21",
                                    "Szállítási mód": "Posta",
                                    "Rendelések összmennyisége": "2104"
                                },
                                {
                                    "Szállítási dátum": "2015-11-22",
                                    "Szállítási mód": "Posta",
                                    "Rendelések összmennyisége": "3059"
                                },
                                {
                                    "Szállítási dátum": "2015-11-23",
                                    "Szállítási mód": "Posta",
                                    "Rendelések összmennyisége": "1624"
                                },
                                {
                                    "Szállítási dátum": "2015-11-24",
                                    "Szállítási mód": "Posta",
                                    "Rendelések összmennyisége": "1736"
                                },
                                {
                                    "Szállítási dátum": "2015-11-25",
                                    "Szállítási mód": "Posta",
                                    "Rendelések összmennyisége": "3310"
                                },
                                {
                                    "Szállítási dátum": "2015-11-26",
                                    "Szállítási mód": "Posta",
                                    "Rendelések összmennyisége": "3850"
                                },
                                {
                                    "Szállítási dátum": "2015-11-27",
                                    "Szállítási mód": "Posta",
                                    "Rendelések összmennyisége": "2952"
                                },
                                {
                                    "Szállítási dátum": "2015-11-28",
                                    "Szállítási mód": "Posta",
                                    "Rendelések összmennyisége": "4183"
                                },
                                {
                                    "Szállítási dátum": "2015-11-29",
                                    "Szállítási mód": "Posta",
                                    "Rendelések összmennyisége": "3409"
                                },
                                {
                                    "Szállítási dátum": "2015-11-30",
                                    "Szállítási mód": "Posta",
                                    "Rendelések összmennyisége": "2324"
                                },
                                {
                                    "Szállítási dátum": "2015-12-01",
                                    "Szállítási mód": "Posta",
                                    "Rendelések összmennyisége": "2621"
                                },
                                {
                                    "Szállítási dátum": "2015-12-02",
                                    "Szállítási mód": "Posta",
                                    "Rendelések összmennyisége": "1722"
                                },
                                {
                                    "Szállítási dátum": "2015-12-03",
                                    "Szállítási mód": "Posta",
                                    "Rendelések összmennyisége": "1573"
                                },
                                {
                                    "Szállítási dátum": "2015-12-04",
                                    "Szállítási mód": "Posta",
                                    "Rendelések összmennyisége": "2250"
                                },
                                {
                                    "Szállítási dátum": "2015-12-05",
                                    "Szállítási mód": "Posta",
                                    "Rendelések összmennyisége": "3893"
                                },
                                {
                                    "Szállítási dátum": "2015-12-06",
                                    "Szállítási mód": "Posta",
                                    "Rendelések összmennyisége": "1346"
                                },
                                {
                                    "Szállítási dátum": "2015-12-07",
                                    "Szállítási mód": "Posta",
                                    "Rendelések összmennyisége": "1938"
                                },
                                {
                                    "Szállítási dátum": "2015-12-08",
                                    "Szállítási mód": "Posta",
                                    "Rendelések összmennyisége": "2894"
                                },
                                {
                                    "Szállítási dátum": "2015-12-09",
                                    "Szállítási mód": "Posta",
                                    "Rendelések összmennyisége": "2445"
                                },
                                {
                                    "Szállítási dátum": "2015-12-10",
                                    "Szállítási mód": "Posta",
                                    "Rendelések összmennyisége": "3146"
                                },
                                {
                                    "Szállítási dátum": "2015-12-11",
                                    "Szállítási mód": "Posta",
                                    "Rendelések összmennyisége": "3220"
                                },
                                {
                                    "Szállítási dátum": "2015-12-12",
                                    "Szállítási mód": "Posta",
                                    "Rendelések összmennyisége": "2862"
                                },
                                {
                                    "Szállítási dátum": "2015-12-13",
                                    "Szállítási mód": "Posta",
                                    "Rendelések összmennyisége": "3804"
                                },
                                {
                                    "Szállítási dátum": "2015-12-14",
                                    "Szállítási mód": "Posta",
                                    "Rendelések összmennyisége": "3396"
                                },
                                {
                                    "Szállítási dátum": "2015-12-15",
                                    "Szállítási mód": "Posta",
                                    "Rendelések összmennyisége": "1853"
                                },
                                {
                                    "Szállítási dátum": "2015-12-16",
                                    "Szállítási mód": "Posta",
                                    "Rendelések összmennyisége": "2568"
                                },
                                {
                                    "Szállítási dátum": "2015-12-17",
                                    "Szállítási mód": "Posta",
                                    "Rendelések összmennyisége": "2658"
                                },
                                {
                                    "Szállítási dátum": "2015-12-18",
                                    "Szállítási mód": "Posta",
                                    "Rendelések összmennyisége": "4522"
                                },
                                {
                                    "Szállítási dátum": "2015-12-19",
                                    "Szállítási mód": "Posta",
                                    "Rendelések összmennyisége": "1739"
                                },
                                {
                                    "Szállítási dátum": "2015-12-20",
                                    "Szállítási mód": "Posta",
                                    "Rendelések összmennyisége": "2338"
                                },
                                {
                                    "Szállítási dátum": "2015-12-21",
                                    "Szállítási mód": "Posta",
                                    "Rendelések összmennyisége": "2120"
                                },
                                {
                                    "Szállítási dátum": "2015-12-22",
                                    "Szállítási mód": "Posta",
                                    "Rendelések összmennyisége": "3421"
                                },
                                {
                                    "Szállítási dátum": "2015-12-23",
                                    "Szállítási mód": "Posta",
                                    "Rendelések összmennyisége": "740"
                                },
                                {
                                    "Szállítási dátum": "2015-12-24",
                                    "Szállítási mód": "Posta",
                                    "Rendelések összmennyisége": "3030"
                                },
                                {
                                    "Szállítási dátum": "2015-12-25",
                                    "Szállítási mód": "Posta",
                                    "Rendelések összmennyisége": "3388"
                                },
                                {
                                    "Szállítási dátum": "2015-12-26",
                                    "Szállítási mód": "Posta",
                                    "Rendelések összmennyisége": "2618"
                                },
                                {
                                    "Szállítási dátum": "2015-12-27",
                                    "Szállítási mód": "Posta",
                                    "Rendelések összmennyisége": "2764"
                                },
                                {
                                    "Szállítási dátum": "2015-12-28",
                                    "Szállítási mód": "Posta",
                                    "Rendelések összmennyisége": "4023"
                                },
                                {
                                    "Szállítási dátum": "2015-12-29",
                                    "Szállítási mód": "Posta",
                                    "Rendelések összmennyisége": "2200"
                                },
                                {
                                    "Szállítási dátum": "2015-12-30",
                                    "Szállítási mód": "Posta",
                                    "Rendelések összmennyisége": "2499"
                                },
                                {
                                    "Szállítási dátum": "2015-12-31",
                                    "Szállítási mód": "Posta",
                                    "Rendelések összmennyisége": "1437"
                                },
                                {
                                    "Szállítási dátum": "2016-01-01",
                                    "Szállítási mód": "Posta",
                                    "Rendelések összmennyisége": "3168"
                                },
                                {
                                    "Szállítási dátum": "2016-01-02",
                                    "Szállítási mód": "Posta",
                                    "Rendelések összmennyisége": "1815"
                                },
                                {
                                    "Szállítási dátum": "2016-01-03",
                                    "Szállítási mód": "Posta",
                                    "Rendelések összmennyisége": "2978"
                                },
                                {
                                    "Szállítási dátum": "2016-01-04",
                                    "Szállítási mód": "Posta",
                                    "Rendelések összmennyisége": "2539"
                                },
                                {
                                    "Szállítási dátum": "2016-01-05",
                                    "Szállítási mód": "Posta",
                                    "Rendelések összmennyisége": "2647"
                                },
                                {
                                    "Szállítási dátum": "2016-01-06",
                                    "Szállítási mód": "Posta",
                                    "Rendelések összmennyisége": "3006"
                                },
                                {
                                    "Szállítási dátum": "2016-01-07",
                                    "Szállítási mód": "Posta",
                                    "Rendelések összmennyisége": "1650"
                                },
                                {
                                    "Szállítási dátum": "2016-01-08",
                                    "Szállítási mód": "Posta",
                                    "Rendelések összmennyisége": "3659"
                                },
                                {
                                    "Szállítási dátum": "2016-01-09",
                                    "Szállítási mód": "Posta",
                                    "Rendelések összmennyisége": "2942"
                                },
                                {
                                    "Szállítási dátum": "2016-01-10",
                                    "Szállítási mód": "Posta",
                                    "Rendelések összmennyisége": "1888"
                                },
                                {
                                    "Szállítási dátum": "2016-01-11",
                                    "Szállítási mód": "Posta",
                                    "Rendelések összmennyisége": "1563"
                                },
                                {
                                    "Szállítási dátum": "2016-01-12",
                                    "Szállítási mód": "Posta",
                                    "Rendelések összmennyisége": "2999"
                                },
                                {
                                    "Szállítási dátum": "2016-01-13",
                                    "Szállítási mód": "Posta",
                                    "Rendelések összmennyisége": "2166"
                                },
                                {
                                    "Szállítási dátum": "2016-01-14",
                                    "Szállítási mód": "Posta",
                                    "Rendelések összmennyisége": "2825"
                                },
                                {
                                    "Szállítási dátum": "2016-01-15",
                                    "Szállítási mód": "Posta",
                                    "Rendelések összmennyisége": "1826"
                                },
                                {
                                    "Szállítási dátum": "2016-01-16",
                                    "Szállítási mód": "Posta",
                                    "Rendelések összmennyisége": "3281"
                                },
                                {
                                    "Szállítási dátum": "2016-01-17",
                                    "Szállítási mód": "Posta",
                                    "Rendelések összmennyisége": "1886"
                                },
                                {
                                    "Szállítási dátum": "2016-01-18",
                                    "Szállítási mód": "Posta",
                                    "Rendelések összmennyisége": "1189"
                                },
                                {
                                    "Szállítási dátum": "2016-01-19",
                                    "Szállítási mód": "Posta",
                                    "Rendelések összmennyisége": "3494"
                                },
                                {
                                    "Szállítási dátum": "2016-01-20",
                                    "Szállítási mód": "Posta",
                                    "Rendelések összmennyisége": "2976"
                                },
                                {
                                    "Szállítási dátum": "2016-01-21",
                                    "Szállítási mód": "Posta",
                                    "Rendelések összmennyisége": "3682"
                                },
                                {
                                    "Szállítási dátum": "2016-01-22",
                                    "Szállítási mód": "Posta",
                                    "Rendelések összmennyisége": "2854"
                                },
                                {
                                    "Szállítási dátum": "2016-01-23",
                                    "Szállítási mód": "Posta",
                                    "Rendelések összmennyisége": "2842"
                                },
                                {
                                    "Szállítási dátum": "2016-01-24",
                                    "Szállítási mód": "Posta",
                                    "Rendelések összmennyisége": "3515"
                                },
                                {
                                    "Szállítási dátum": "2016-01-25",
                                    "Szállítási mód": "Posta",
                                    "Rendelések összmennyisége": "1796"
                                },
                                {
                                    "Szállítási dátum": "2016-01-26",
                                    "Szállítási mód": "Posta",
                                    "Rendelések összmennyisége": "1567"
                                },
                                {
                                    "Szállítási dátum": "2016-01-27",
                                    "Szállítási mód": "Posta",
                                    "Rendelések összmennyisége": "2444"
                                },
                                {
                                    "Szállítási dátum": "2016-01-28",
                                    "Szállítási mód": "Posta",
                                    "Rendelések összmennyisége": "2391"
                                },
                                {
                                    "Szállítási dátum": "2016-01-29",
                                    "Szállítási mód": "Posta",
                                    "Rendelések összmennyisége": "2367"
                                },
                                {
                                    "Szállítási dátum": "2016-01-30",
                                    "Szállítási mód": "Posta",
                                    "Rendelések összmennyisége": "4581"
                                },
                                {
                                    "Szállítási dátum": "2016-01-31",
                                    "Szállítási mód": "Posta",
                                    "Rendelések összmennyisége": "1548"
                                },
                                {
                                    "Szállítási dátum": "2016-02-01",
                                    "Szállítási mód": "Posta",
                                    "Rendelések összmennyisége": "2844"
                                },
                                {
                                    "Szállítási dátum": "2016-02-02",
                                    "Szállítási mód": "Posta",
                                    "Rendelések összmennyisége": "2458"
                                },
                                {
                                    "Szállítási dátum": "2016-02-03",
                                    "Szállítási mód": "Posta",
                                    "Rendelések összmennyisége": "2277"
                                },
                                {
                                    "Szállítási dátum": "2016-02-04",
                                    "Szállítási mód": "Posta",
                                    "Rendelések összmennyisége": "2155"
                                },
                                {
                                    "Szállítási dátum": "2016-02-05",
                                    "Szállítási mód": "Posta",
                                    "Rendelések összmennyisége": "3436"
                                },
                                {
                                    "Szállítási dátum": "2016-02-06",
                                    "Szállítási mód": "Posta",
                                    "Rendelések összmennyisége": "3968"
                                },
                                {
                                    "Szállítási dátum": "2016-02-07",
                                    "Szállítási mód": "Posta",
                                    "Rendelések összmennyisége": "2330"
                                },
                                {
                                    "Szállítási dátum": "2016-02-08",
                                    "Szállítási mód": "Posta",
                                    "Rendelések összmennyisége": "3285"
                                },
                                {
                                    "Szállítási dátum": "2016-02-09",
                                    "Szállítási mód": "Posta",
                                    "Rendelések összmennyisége": "2062"
                                },
                                {
                                    "Szállítási dátum": "2016-02-10",
                                    "Szállítási mód": "Posta",
                                    "Rendelések összmennyisége": "2577"
                                },
                                {
                                    "Szállítási dátum": "2016-02-11",
                                    "Szállítási mód": "Posta",
                                    "Rendelések összmennyisége": "3163"
                                },
                                {
                                    "Szállítási dátum": "2016-02-12",
                                    "Szállítási mód": "Posta",
                                    "Rendelések összmennyisége": "3090"
                                },
                                {
                                    "Szállítási dátum": "2016-02-13",
                                    "Szállítási mód": "Posta",
                                    "Rendelések összmennyisége": "2013"
                                },
                                {
                                    "Szállítási dátum": "2016-02-14",
                                    "Szállítási mód": "Posta",
                                    "Rendelések összmennyisége": "3221"
                                },
                                {
                                    "Szállítási dátum": "2016-02-15",
                                    "Szállítási mód": "Posta",
                                    "Rendelések összmennyisége": "3218"
                                },
                                {
                                    "Szállítási dátum": "2016-02-16",
                                    "Szállítási mód": "Posta",
                                    "Rendelések összmennyisége": "2218"
                                },
                                {
                                    "Szállítási dátum": "2016-02-17",
                                    "Szállítási mód": "Posta",
                                    "Rendelések összmennyisége": "1453"
                                },
                                {
                                    "Szállítási dátum": "2016-02-18",
                                    "Szállítási mód": "Posta",
                                    "Rendelések összmennyisége": "1539"
                                },
                                {
                                    "Szállítási dátum": "2016-02-19",
                                    "Szállítási mód": "Posta",
                                    "Rendelések összmennyisége": "3044"
                                },
                                {
                                    "Szállítási dátum": "2016-02-20",
                                    "Szállítási mód": "Posta",
                                    "Rendelések összmennyisége": "2117"
                                },
                                {
                                    "Szállítási dátum": "2016-02-21",
                                    "Szállítási mód": "Posta",
                                    "Rendelések összmennyisége": "2117"
                                },
                                {
                                    "Szállítási dátum": "2016-02-22",
                                    "Szállítási mód": "Posta",
                                    "Rendelések összmennyisége": "3527"
                                },
                                {
                                    "Szállítási dátum": "2016-02-23",
                                    "Szállítási mód": "Posta",
                                    "Rendelések összmennyisége": "2168"
                                },
                                {
                                    "Szállítási dátum": "2016-02-24",
                                    "Szállítási mód": "Posta",
                                    "Rendelések összmennyisége": "2658"
                                },
                                {
                                    "Szállítási dátum": "2016-02-25",
                                    "Szállítási mód": "Posta",
                                    "Rendelések összmennyisége": "1586"
                                },
                                {
                                    "Szállítási dátum": "2016-02-26",
                                    "Szállítási mód": "Posta",
                                    "Rendelések összmennyisége": "2461"
                                },
                                {
                                    "Szállítási dátum": "2016-02-27",
                                    "Szállítási mód": "Posta",
                                    "Rendelések összmennyisége": "3333"
                                },
                                {
                                    "Szállítási dátum": "2016-02-28",
                                    "Szállítási mód": "Posta",
                                    "Rendelések összmennyisége": "2871"
                                },
                                {
                                    "Szállítási dátum": "2016-02-29",
                                    "Szállítási mód": "Posta",
                                    "Rendelések összmennyisége": "3222"
                                },
                                {
                                    "Szállítási dátum": "2016-03-01",
                                    "Szállítási mód": "Posta",
                                    "Rendelések összmennyisége": "2700"
                                },
                                {
                                    "Szállítási dátum": "2016-03-02",
                                    "Szállítási mód": "Posta",
                                    "Rendelések összmennyisége": "2335"
                                },
                                {
                                    "Szállítási dátum": "2016-03-03",
                                    "Szállítási mód": "Posta",
                                    "Rendelések összmennyisége": "2720"
                                },
                                {
                                    "Szállítási dátum": "2016-03-04",
                                    "Szállítási mód": "Posta",
                                    "Rendelések összmennyisége": "2916"
                                },
                                {
                                    "Szállítási dátum": "2016-03-05",
                                    "Szállítási mód": "Posta",
                                    "Rendelések összmennyisége": "3391"
                                },
                                {
                                    "Szállítási dátum": "2016-03-06",
                                    "Szállítási mód": "Posta",
                                    "Rendelések összmennyisége": "1880"
                                },
                                {
                                    "Szállítási dátum": "2016-03-07",
                                    "Szállítási mód": "Posta",
                                    "Rendelések összmennyisége": "2528"
                                },
                                {
                                    "Szállítási dátum": "2016-03-08",
                                    "Szállítási mód": "Posta",
                                    "Rendelések összmennyisége": "2481"
                                },
                                {
                                    "Szállítási dátum": "2016-03-09",
                                    "Szállítási mód": "Posta",
                                    "Rendelések összmennyisége": "2474"
                                },
                                {
                                    "Szállítási dátum": "2016-03-10",
                                    "Szállítási mód": "Posta",
                                    "Rendelések összmennyisége": "3548"
                                },
                                {
                                    "Szállítási dátum": "2016-03-11",
                                    "Szállítási mód": "Posta",
                                    "Rendelések összmennyisége": "1964"
                                },
                                {
                                    "Szállítási dátum": "2016-03-12",
                                    "Szállítási mód": "Posta",
                                    "Rendelések összmennyisége": "3431"
                                },
                                {
                                    "Szállítási dátum": "2016-03-13",
                                    "Szállítási mód": "Posta",
                                    "Rendelések összmennyisége": "1421"
                                },
                                {
                                    "Szállítási dátum": "2016-03-14",
                                    "Szállítási mód": "Posta",
                                    "Rendelések összmennyisége": "3524"
                                },
                                {
                                    "Szállítási dátum": "2016-03-15",
                                    "Szállítási mód": "Posta",
                                    "Rendelések összmennyisége": "2805"
                                },
                                {
                                    "Szállítási dátum": "2016-03-16",
                                    "Szállítási mód": "Posta",
                                    "Rendelések összmennyisége": "2970"
                                },
                                {
                                    "Szállítási dátum": "2016-03-17",
                                    "Szállítási mód": "Posta",
                                    "Rendelések összmennyisége": "1572"
                                },
                                {
                                    "Szállítási dátum": "2016-03-18",
                                    "Szállítási mód": "Posta",
                                    "Rendelések összmennyisége": "1807"
                                },
                                {
                                    "Szállítási dátum": "2016-03-19",
                                    "Szállítási mód": "Posta",
                                    "Rendelések összmennyisége": "2875"
                                },
                                {
                                    "Szállítási dátum": "2016-03-20",
                                    "Szállítási mód": "Posta",
                                    "Rendelések összmennyisége": "5704"
                                },
                                {
                                    "Szállítási dátum": "2016-03-21",
                                    "Szállítási mód": "Posta",
                                    "Rendelések összmennyisége": "3023"
                                },
                                {
                                    "Szállítási dátum": "2016-03-22",
                                    "Szállítási mód": "Posta",
                                    "Rendelések összmennyisége": "2800"
                                },
                                {
                                    "Szállítási dátum": "2016-03-23",
                                    "Szállítási mód": "Posta",
                                    "Rendelések összmennyisége": "2939"
                                },
                                {
                                    "Szállítási dátum": "2016-03-24",
                                    "Szállítási mód": "Posta",
                                    "Rendelések összmennyisége": "2435"
                                },
                                {
                                    "Szállítási dátum": "2016-03-25",
                                    "Szállítási mód": "Posta",
                                    "Rendelések összmennyisége": "4176"
                                },
                                {
                                    "Szállítási dátum": "2016-03-26",
                                    "Szállítási mód": "Posta",
                                    "Rendelések összmennyisége": "3756"
                                },
                                {
                                    "Szállítási dátum": "2016-03-27",
                                    "Szállítási mód": "Posta",
                                    "Rendelések összmennyisége": "2070"
                                },
                                {
                                    "Szállítási dátum": "2016-03-28",
                                    "Szállítási mód": "Posta",
                                    "Rendelések összmennyisége": "2210"
                                },
                                {
                                    "Szállítási dátum": "2016-03-29",
                                    "Szállítási mód": "Posta",
                                    "Rendelések összmennyisége": "2735"
                                },
                                {
                                    "Szállítási dátum": "2016-03-30",
                                    "Szállítási mód": "Posta",
                                    "Rendelések összmennyisége": "2764"
                                },
                                {
                                    "Szállítási dátum": "2016-03-31",
                                    "Szállítási mód": "Posta",
                                    "Rendelések összmennyisége": "2135"
                                },
                                {
                                    "Szállítási dátum": "2016-04-01",
                                    "Szállítási mód": "Posta",
                                    "Rendelések összmennyisége": "2761"
                                },
                                {
                                    "Szállítási dátum": "2016-04-02",
                                    "Szállítási mód": "Posta",
                                    "Rendelések összmennyisége": "4146"
                                },
                                {
                                    "Szállítási dátum": "2016-04-03",
                                    "Szállítási mód": "Posta",
                                    "Rendelések összmennyisége": "2518"
                                },
                                {
                                    "Szállítási dátum": "2016-04-04",
                                    "Szállítási mód": "Posta",
                                    "Rendelések összmennyisége": "3383"
                                },
                                {
                                    "Szállítási dátum": "2016-04-05",
                                    "Szállítási mód": "Posta",
                                    "Rendelések összmennyisége": "2721"
                                },
                                {
                                    "Szállítási dátum": "2016-04-06",
                                    "Szállítási mód": "Posta",
                                    "Rendelések összmennyisége": "1976"
                                },
                                {
                                    "Szállítási dátum": "2016-04-07",
                                    "Szállítási mód": "Posta",
                                    "Rendelések összmennyisége": "2320"
                                },
                                {
                                    "Szállítási dátum": "2016-04-08",
                                    "Szállítási mód": "Posta",
                                    "Rendelések összmennyisége": "3896"
                                },
                                {
                                    "Szállítási dátum": "2016-04-09",
                                    "Szállítási mód": "Posta",
                                    "Rendelések összmennyisége": "2973"
                                },
                                {
                                    "Szállítási dátum": "2016-04-10",
                                    "Szállítási mód": "Posta",
                                    "Rendelések összmennyisége": "2912"
                                },
                                {
                                    "Szállítási dátum": "2016-04-11",
                                    "Szállítási mód": "Posta",
                                    "Rendelések összmennyisége": "2465"
                                },
                                {
                                    "Szállítási dátum": "2016-04-12",
                                    "Szállítási mód": "Posta",
                                    "Rendelések összmennyisége": "2713"
                                },
                                {
                                    "Szállítási dátum": "2016-04-13",
                                    "Szállítási mód": "Posta",
                                    "Rendelések összmennyisége": "1639"
                                },
                                {
                                    "Szállítási dátum": "2016-04-14",
                                    "Szállítási mód": "Posta",
                                    "Rendelések összmennyisége": "2907"
                                },
                                {
                                    "Szállítási dátum": "2016-04-15",
                                    "Szállítási mód": "Posta",
                                    "Rendelések összmennyisége": "3492"
                                },
                                {
                                    "Szállítási dátum": "2016-04-16",
                                    "Szállítási mód": "Posta",
                                    "Rendelések összmennyisége": "2478"
                                },
                                {
                                    "Szállítási dátum": "2016-04-17",
                                    "Szállítási mód": "Posta",
                                    "Rendelések összmennyisége": "3490"
                                },
                                {
                                    "Szállítási dátum": "2016-04-18",
                                    "Szállítási mód": "Posta",
                                    "Rendelések összmennyisége": "2049"
                                },
                                {
                                    "Szállítási dátum": "2016-04-19",
                                    "Szállítási mód": "Posta",
                                    "Rendelések összmennyisége": "3768"
                                },
                                {
                                    "Szállítási dátum": "2016-04-20",
                                    "Szállítási mód": "Posta",
                                    "Rendelések összmennyisége": "2885"
                                },
                                {
                                    "Szállítási dátum": "2016-04-21",
                                    "Szállítási mód": "Posta",
                                    "Rendelések összmennyisége": "3707"
                                },
                                {
                                    "Szállítási dátum": "2016-04-22",
                                    "Szállítási mód": "Posta",
                                    "Rendelések összmennyisége": "2010"
                                },
                                {
                                    "Szállítási dátum": "2016-04-23",
                                    "Szállítási mód": "Posta",
                                    "Rendelések összmennyisége": "2770"
                                },
                                {
                                    "Szállítási dátum": "2016-04-24",
                                    "Szállítási mód": "Posta",
                                    "Rendelések összmennyisége": "3371"
                                },
                                {
                                    "Szállítási dátum": "2016-04-25",
                                    "Szállítási mód": "Posta",
                                    "Rendelések összmennyisége": "2742"
                                },
                                {
                                    "Szállítási dátum": "2016-04-26",
                                    "Szállítási mód": "Posta",
                                    "Rendelések összmennyisége": "3853"
                                },
                                {
                                    "Szállítási dátum": "2016-04-27",
                                    "Szállítási mód": "Posta",
                                    "Rendelések összmennyisége": "3233"
                                },
                                {
                                    "Szállítási dátum": "2016-04-28",
                                    "Szállítási mód": "Posta",
                                    "Rendelések összmennyisége": "2580"
                                },
                                {
                                    "Szállítási dátum": "2016-04-29",
                                    "Szállítási mód": "Posta",
                                    "Rendelések összmennyisége": "1908"
                                },
                                {
                                    "Szállítási dátum": "2016-04-30",
                                    "Szállítási mód": "Posta",
                                    "Rendelések összmennyisége": "3121"
                                },
                                {
                                    "Szállítási dátum": "2016-05-01",
                                    "Szállítási mód": "Posta",
                                    "Rendelések összmennyisége": "3200"
                                },
                                {
                                    "Szállítási dátum": "2016-05-02",
                                    "Szállítási mód": "Posta",
                                    "Rendelések összmennyisége": "2442"
                                },
                                {
                                    "Szállítási dátum": "2016-05-03",
                                    "Szállítási mód": "Posta",
                                    "Rendelések összmennyisége": "1801"
                                },
                                {
                                    "Szállítási dátum": "2016-05-04",
                                    "Szállítási mód": "Posta",
                                    "Rendelések összmennyisége": "2539"
                                },
                                {
                                    "Szállítási dátum": "2016-05-05",
                                    "Szállítási mód": "Posta",
                                    "Rendelések összmennyisége": "1942"
                                },
                                {
                                    "Szállítási dátum": "2016-05-06",
                                    "Szállítási mód": "Posta",
                                    "Rendelések összmennyisége": "2175"
                                },
                                {
                                    "Szállítási dátum": "2016-05-07",
                                    "Szállítási mód": "Posta",
                                    "Rendelések összmennyisége": "3389"
                                },
                                {
                                    "Szállítási dátum": "2016-05-08",
                                    "Szállítási mód": "Posta",
                                    "Rendelések összmennyisége": "1967"
                                },
                                {
                                    "Szállítási dátum": "2016-05-09",
                                    "Szállítási mód": "Posta",
                                    "Rendelések összmennyisége": "3173"
                                },
                                {
                                    "Szállítási dátum": "2016-05-10",
                                    "Szállítási mód": "Posta",
                                    "Rendelések összmennyisége": "3794"
                                },
                                {
                                    "Szállítási dátum": "2016-05-11",
                                    "Szállítási mód": "Posta",
                                    "Rendelések összmennyisége": "3942"
                                },
                                {
                                    "Szállítási dátum": "2016-05-12",
                                    "Szállítási mód": "Posta",
                                    "Rendelések összmennyisége": "1846"
                                },
                                {
                                    "Szállítási dátum": "2016-05-13",
                                    "Szállítási mód": "Posta",
                                    "Rendelések összmennyisége": "3626"
                                },
                                {
                                    "Szállítási dátum": "2016-05-14",
                                    "Szállítási mód": "Posta",
                                    "Rendelések összmennyisége": "2252"
                                },
                                {
                                    "Szállítási dátum": "2016-05-15",
                                    "Szállítási mód": "Posta",
                                    "Rendelések összmennyisége": "930"
                                },
                                {
                                    "Szállítási dátum": "2016-05-16",
                                    "Szállítási mód": "Posta",
                                    "Rendelések összmennyisége": "1610"
                                },
                                {
                                    "Szállítási dátum": "2016-05-17",
                                    "Szállítási mód": "Posta",
                                    "Rendelések összmennyisége": "3795"
                                },
                                {
                                    "Szállítási dátum": "2016-05-18",
                                    "Szállítási mód": "Posta",
                                    "Rendelések összmennyisége": "1877"
                                },
                                {
                                    "Szállítási dátum": "2016-05-19",
                                    "Szállítási mód": "Posta",
                                    "Rendelések összmennyisége": "4018"
                                },
                                {
                                    "Szállítási dátum": "2016-05-20",
                                    "Szállítási mód": "Posta",
                                    "Rendelések összmennyisége": "2425"
                                },
                                {
                                    "Szállítási dátum": "2016-05-21",
                                    "Szállítási mód": "Posta",
                                    "Rendelések összmennyisége": "2752"
                                },
                                {
                                    "Szállítási dátum": "2016-05-22",
                                    "Szállítási mód": "Posta",
                                    "Rendelések összmennyisége": "1839"
                                },
                                {
                                    "Szállítási dátum": "2016-05-23",
                                    "Szállítási mód": "Posta",
                                    "Rendelések összmennyisége": "2750"
                                },
                                {
                                    "Szállítási dátum": "2016-05-24",
                                    "Szállítási mód": "Posta",
                                    "Rendelések összmennyisége": "2889"
                                },
                                {
                                    "Szállítási dátum": "2016-05-25",
                                    "Szállítási mód": "Posta",
                                    "Rendelések összmennyisége": "2934"
                                },
                                {
                                    "Szállítási dátum": "2016-05-26",
                                    "Szállítási mód": "Posta",
                                    "Rendelések összmennyisége": "877"
                                },
                                {
                                    "Szállítási dátum": "2016-05-27",
                                    "Szállítási mód": "Posta",
                                    "Rendelések összmennyisége": "2421"
                                },
                                {
                                    "Szállítási dátum": "2016-05-28",
                                    "Szállítási mód": "Posta",
                                    "Rendelések összmennyisége": "2519"
                                },
                                {
                                    "Szállítási dátum": "2016-05-29",
                                    "Szállítási mód": "Posta",
                                    "Rendelések összmennyisége": "2680"
                                },
                                {
                                    "Szállítási dátum": "2016-05-30",
                                    "Szállítási mód": "Posta",
                                    "Rendelések összmennyisége": "2606"
                                },
                                {
                                    "Szállítási dátum": "2016-05-31",
                                    "Szállítási mód": "Posta",
                                    "Rendelések összmennyisége": "4578"
                                },
                                {
                                    "Szállítási dátum": "2016-06-01",
                                    "Szállítási mód": "Posta",
                                    "Rendelések összmennyisége": "3224"
                                },
                                {
                                    "Szállítási dátum": "2016-06-02",
                                    "Szállítási mód": "Posta",
                                    "Rendelések összmennyisége": "2545"
                                },
                                {
                                    "Szállítási dátum": "2016-06-03",
                                    "Szállítási mód": "Posta",
                                    "Rendelések összmennyisége": "2103"
                                },
                                {
                                    "Szállítási dátum": "2016-06-04",
                                    "Szállítási mód": "Posta",
                                    "Rendelések összmennyisége": "1900"
                                },
                                {
                                    "Szállítási dátum": "2016-06-05",
                                    "Szállítási mód": "Posta",
                                    "Rendelések összmennyisége": "2612"
                                },
                                {
                                    "Szállítási dátum": "2016-06-06",
                                    "Szállítási mód": "Posta",
                                    "Rendelések összmennyisége": "1802"
                                },
                                {
                                    "Szállítási dátum": "2016-06-07",
                                    "Szállítási mód": "Posta",
                                    "Rendelések összmennyisége": "2337"
                                },
                                {
                                    "Szállítási dátum": "2016-06-08",
                                    "Szállítási mód": "Posta",
                                    "Rendelések összmennyisége": "2880"
                                },
                                {
                                    "Szállítási dátum": "2016-06-09",
                                    "Szállítási mód": "Posta",
                                    "Rendelések összmennyisége": "2739"
                                },
                                {
                                    "Szállítási dátum": "2016-06-10",
                                    "Szállítási mód": "Posta",
                                    "Rendelések összmennyisége": "2521"
                                },
                                {
                                    "Szállítási dátum": "2016-06-11",
                                    "Szállítási mód": "Posta",
                                    "Rendelések összmennyisége": "3132"
                                },
                                {
                                    "Szállítási dátum": "2016-06-12",
                                    "Szállítási mód": "Posta",
                                    "Rendelések összmennyisége": "3022"
                                },
                                {
                                    "Szállítási dátum": "2016-06-13",
                                    "Szállítási mód": "Posta",
                                    "Rendelések összmennyisége": "2160"
                                },
                                {
                                    "Szállítási dátum": "2016-06-14",
                                    "Szállítási mód": "Posta",
                                    "Rendelések összmennyisége": "2044"
                                },
                                {
                                    "Szállítási dátum": "2016-06-15",
                                    "Szállítási mód": "Posta",
                                    "Rendelések összmennyisége": "3674"
                                },
                                {
                                    "Szállítási dátum": "2016-06-16",
                                    "Szállítási mód": "Posta",
                                    "Rendelések összmennyisége": "2126"
                                },
                                {
                                    "Szállítási dátum": "2016-06-17",
                                    "Szállítási mód": "Posta",
                                    "Rendelések összmennyisége": "3485"
                                },
                                {
                                    "Szállítási dátum": "2016-06-18",
                                    "Szállítási mód": "Posta",
                                    "Rendelések összmennyisége": "1140"
                                },
                                {
                                    "Szállítási dátum": "2016-06-19",
                                    "Szállítási mód": "Posta",
                                    "Rendelések összmennyisége": "1961"
                                },
                                {
                                    "Szállítási dátum": "2016-06-20",
                                    "Szállítási mód": "Posta",
                                    "Rendelések összmennyisége": "2798"
                                },
                                {
                                    "Szállítási dátum": "2016-06-21",
                                    "Szállítási mód": "Posta",
                                    "Rendelések összmennyisége": "1405"
                                },
                                {
                                    "Szállítási dátum": "2016-06-22",
                                    "Szállítási mód": "Posta",
                                    "Rendelések összmennyisége": "2020"
                                },
                                {
                                    "Szállítási dátum": "2016-06-23",
                                    "Szállítási mód": "Posta",
                                    "Rendelések összmennyisége": "1471"
                                },
                                {
                                    "Szállítási dátum": "2016-06-24",
                                    "Szállítási mód": "Posta",
                                    "Rendelések összmennyisége": "1873"
                                },
                                {
                                    "Szállítási dátum": "2016-06-25",
                                    "Szállítási mód": "Posta",
                                    "Rendelések összmennyisége": "3547"
                                },
                                {
                                    "Szállítási dátum": "2016-06-26",
                                    "Szállítási mód": "Posta",
                                    "Rendelések összmennyisége": "3434"
                                },
                                {
                                    "Szállítási dátum": "2016-06-27",
                                    "Szállítási mód": "Posta",
                                    "Rendelések összmennyisége": "1445"
                                },
                                {
                                    "Szállítási dátum": "2016-06-28",
                                    "Szállítási mód": "Posta",
                                    "Rendelések összmennyisége": "3354"
                                },
                                {
                                    "Szállítási dátum": "2016-06-29",
                                    "Szállítási mód": "Posta",
                                    "Rendelések összmennyisége": "3761"
                                },
                                {
                                    "Szállítási dátum": "2016-06-30",
                                    "Szállítási mód": "Posta",
                                    "Rendelések összmennyisége": "3030"
                                },
                                {
                                    "Szállítási dátum": "2016-07-01",
                                    "Szállítási mód": "Posta",
                                    "Rendelések összmennyisége": "2503"
                                },
                                {
                                    "Szállítási dátum": "2016-07-02",
                                    "Szállítási mód": "Posta",
                                    "Rendelések összmennyisége": "2919"
                                },
                                {
                                    "Szállítási dátum": "2016-07-03",
                                    "Szállítási mód": "Posta",
                                    "Rendelések összmennyisége": "2819"
                                },
                                {
                                    "Szállítási dátum": "2016-07-04",
                                    "Szállítási mód": "Posta",
                                    "Rendelések összmennyisége": "3715"
                                },
                                {
                                    "Szállítási dátum": "2016-07-05",
                                    "Szállítási mód": "Posta",
                                    "Rendelések összmennyisége": "3880"
                                },
                                {
                                    "Szállítási dátum": "2016-07-06",
                                    "Szállítási mód": "Posta",
                                    "Rendelések összmennyisége": "2899"
                                },
                                {
                                    "Szállítási dátum": "2016-07-07",
                                    "Szállítási mód": "Posta",
                                    "Rendelések összmennyisége": "821"
                                },
                                {
                                    "Szállítási dátum": "2016-07-08",
                                    "Szállítási mód": "Posta",
                                    "Rendelések összmennyisége": "2224"
                                },
                                {
                                    "Szállítási dátum": "2016-07-09",
                                    "Szállítási mód": "Posta",
                                    "Rendelések összmennyisége": "3375"
                                },
                                {
                                    "Szállítási dátum": "2016-07-10",
                                    "Szállítási mód": "Posta",
                                    "Rendelések összmennyisége": "2524"
                                },
                                {
                                    "Szállítási dátum": "2016-07-11",
                                    "Szállítási mód": "Posta",
                                    "Rendelések összmennyisége": "2294"
                                },
                                {
                                    "Szállítási dátum": "2016-07-12",
                                    "Szállítási mód": "Posta",
                                    "Rendelések összmennyisége": "2429"
                                },
                                {
                                    "Szállítási dátum": "2016-07-13",
                                    "Szállítási mód": "Posta",
                                    "Rendelések összmennyisége": "4146"
                                },
                                {
                                    "Szállítási dátum": "2016-07-14",
                                    "Szállítási mód": "Posta",
                                    "Rendelések összmennyisége": "2288"
                                },
                                {
                                    "Szállítási dátum": "2016-07-15",
                                    "Szállítási mód": "Posta",
                                    "Rendelések összmennyisége": "2230"
                                },
                                {
                                    "Szállítási dátum": "2016-07-16",
                                    "Szállítási mód": "Posta",
                                    "Rendelések összmennyisége": "2756"
                                },
                                {
                                    "Szállítási dátum": "2016-07-17",
                                    "Szállítási mód": "Posta",
                                    "Rendelések összmennyisége": "3030"
                                },
                                {
                                    "Szállítási dátum": "2016-07-18",
                                    "Szállítási mód": "Posta",
                                    "Rendelések összmennyisége": "3870"
                                },
                                {
                                    "Szállítási dátum": "2016-07-19",
                                    "Szállítási mód": "Posta",
                                    "Rendelések összmennyisége": "1790"
                                },
                                {
                                    "Szállítási dátum": "2016-07-20",
                                    "Szállítási mód": "Posta",
                                    "Rendelések összmennyisége": "2639"
                                },
                                {
                                    "Szállítási dátum": "2016-07-21",
                                    "Szállítási mód": "Posta",
                                    "Rendelések összmennyisége": "2948"
                                },
                                {
                                    "Szállítási dátum": "2016-07-22",
                                    "Szállítási mód": "Posta",
                                    "Rendelések összmennyisége": "3799"
                                },
                                {
                                    "Szállítási dátum": "2016-07-23",
                                    "Szállítási mód": "Posta",
                                    "Rendelések összmennyisége": "3275"
                                },
                                {
                                    "Szállítási dátum": "2016-07-24",
                                    "Szállítási mód": "Posta",
                                    "Rendelések összmennyisége": "2182"
                                },
                                {
                                    "Szállítási dátum": "2016-07-25",
                                    "Szállítási mód": "Posta",
                                    "Rendelések összmennyisége": "1437"
                                },
                                {
                                    "Szállítási dátum": "2016-07-26",
                                    "Szállítási mód": "Posta",
                                    "Rendelések összmennyisége": "2151"
                                },
                                {
                                    "Szállítási dátum": "2016-07-27",
                                    "Szállítási mód": "Posta",
                                    "Rendelések összmennyisége": "2533"
                                },
                                {
                                    "Szállítási dátum": "2016-07-28",
                                    "Szállítási mód": "Posta",
                                    "Rendelések összmennyisége": "1247"
                                },
                                {
                                    "Szállítási dátum": "2016-07-29",
                                    "Szállítási mód": "Posta",
                                    "Rendelések összmennyisége": "3420"
                                },
                                {
                                    "Szállítási dátum": "2016-07-30",
                                    "Szállítási mód": "Posta",
                                    "Rendelések összmennyisége": "2120"
                                },
                                {
                                    "Szállítási dátum": "2016-07-31",
                                    "Szállítási mód": "Posta",
                                    "Rendelések összmennyisége": "3421"
                                },
                                {
                                    "Szállítási dátum": "2016-08-01",
                                    "Szállítási mód": "Posta",
                                    "Rendelések összmennyisége": "3600"
                                },
                                {
                                    "Szállítási dátum": "2016-08-02",
                                    "Szállítási mód": "Posta",
                                    "Rendelések összmennyisége": "1382"
                                },
                                {
                                    "Szállítási dátum": "2016-08-03",
                                    "Szállítási mód": "Posta",
                                    "Rendelések összmennyisége": "2545"
                                },
                                {
                                    "Szállítási dátum": "2016-08-04",
                                    "Szállítási mód": "Posta",
                                    "Rendelések összmennyisége": "2667"
                                },
                                {
                                    "Szállítási dátum": "2016-08-05",
                                    "Szállítási mód": "Posta",
                                    "Rendelések összmennyisége": "2514"
                                },
                                {
                                    "Szállítási dátum": "2016-08-06",
                                    "Szállítási mód": "Posta",
                                    "Rendelések összmennyisége": "3522"
                                },
                                {
                                    "Szállítási dátum": "2016-08-07",
                                    "Szállítási mód": "Posta",
                                    "Rendelések összmennyisége": "1790"
                                },
                                {
                                    "Szállítási dátum": "2016-08-08",
                                    "Szállítási mód": "Posta",
                                    "Rendelések összmennyisége": "1967"
                                },
                                {
                                    "Szállítási dátum": "2016-08-09",
                                    "Szállítási mód": "Posta",
                                    "Rendelések összmennyisége": "3810"
                                },
                                {
                                    "Szállítási dátum": "2016-08-10",
                                    "Szállítási mód": "Posta",
                                    "Rendelések összmennyisége": "3079"
                                },
                                {
                                    "Szállítási dátum": "2016-08-11",
                                    "Szállítási mód": "Posta",
                                    "Rendelések összmennyisége": "3644"
                                },
                                {
                                    "Szállítási dátum": "2016-08-12",
                                    "Szállítási mód": "Posta",
                                    "Rendelések összmennyisége": "3140"
                                },
                                {
                                    "Szállítási dátum": "2016-08-13",
                                    "Szállítási mód": "Posta",
                                    "Rendelések összmennyisége": "3725"
                                },
                                {
                                    "Szállítási dátum": "2016-08-14",
                                    "Szállítási mód": "Posta",
                                    "Rendelések összmennyisége": "3207"
                                },
                                {
                                    "Szállítási dátum": "2016-08-15",
                                    "Szállítási mód": "Posta",
                                    "Rendelések összmennyisége": "3450"
                                },
                                {
                                    "Szállítási dátum": "2016-08-16",
                                    "Szállítási mód": "Posta",
                                    "Rendelések összmennyisége": "2234"
                                },
                                {
                                    "Szállítási dátum": "2016-08-17",
                                    "Szállítási mód": "Posta",
                                    "Rendelések összmennyisége": "2905"
                                },
                                {
                                    "Szállítási dátum": "2016-08-18",
                                    "Szállítási mód": "Posta",
                                    "Rendelések összmennyisége": "3197"
                                },
                                {
                                    "Szállítási dátum": "2016-08-19",
                                    "Szállítási mód": "Posta",
                                    "Rendelések összmennyisége": "2938"
                                },
                                {
                                    "Szállítási dátum": "2016-08-20",
                                    "Szállítási mód": "Posta",
                                    "Rendelések összmennyisége": "1869"
                                },
                                {
                                    "Szállítási dátum": "2016-08-21",
                                    "Szállítási mód": "Posta",
                                    "Rendelések összmennyisége": "1358"
                                },
                                {
                                    "Szállítási dátum": "2016-08-22",
                                    "Szállítási mód": "Posta",
                                    "Rendelések összmennyisége": "2650"
                                },
                                {
                                    "Szállítási dátum": "2016-08-23",
                                    "Szállítási mód": "Posta",
                                    "Rendelések összmennyisége": "2167"
                                },
                                {
                                    "Szállítási dátum": "2016-08-24",
                                    "Szállítási mód": "Posta",
                                    "Rendelések összmennyisége": "1256"
                                },
                                {
                                    "Szállítási dátum": "2016-08-25",
                                    "Szállítási mód": "Posta",
                                    "Rendelések összmennyisége": "4586"
                                },
                                {
                                    "Szállítási dátum": "2016-08-26",
                                    "Szállítási mód": "Posta",
                                    "Rendelések összmennyisége": "3673"
                                },
                                {
                                    "Szállítási dátum": "2016-08-27",
                                    "Szállítási mód": "Posta",
                                    "Rendelések összmennyisége": "2291"
                                },
                                {
                                    "Szállítási dátum": "2016-08-28",
                                    "Szállítási mód": "Posta",
                                    "Rendelések összmennyisége": "3540"
                                },
                                {
                                    "Szállítási dátum": "2016-08-29",
                                    "Szállítási mód": "Posta",
                                    "Rendelések összmennyisége": "2777"
                                },
                                {
                                    "Szállítási dátum": "2016-08-30",
                                    "Szállítási mód": "Posta",
                                    "Rendelések összmennyisége": "1824"
                                },
                                {
                                    "Szállítási dátum": "2016-08-31",
                                    "Szállítási mód": "Posta",
                                    "Rendelések összmennyisége": "2072"
                                },
                                {
                                    "Szállítási dátum": "2016-09-01",
                                    "Szállítási mód": "Posta",
                                    "Rendelések összmennyisége": "2473"
                                },
                                {
                                    "Szállítási dátum": "2016-09-02",
                                    "Szállítási mód": "Posta",
                                    "Rendelések összmennyisége": "2787"
                                },
                                {
                                    "Szállítási dátum": "2016-09-03",
                                    "Szállítási mód": "Posta",
                                    "Rendelések összmennyisége": "3437"
                                },
                                {
                                    "Szállítási dátum": "2016-09-04",
                                    "Szállítási mód": "Posta",
                                    "Rendelések összmennyisége": "3791"
                                },
                                {
                                    "Szállítási dátum": "2016-09-05",
                                    "Szállítási mód": "Posta",
                                    "Rendelések összmennyisége": "1846"
                                },
                                {
                                    "Szállítási dátum": "2016-09-06",
                                    "Szállítási mód": "Posta",
                                    "Rendelések összmennyisége": "3533"
                                },
                                {
                                    "Szállítási dátum": "2016-09-07",
                                    "Szállítási mód": "Posta",
                                    "Rendelések összmennyisége": "1557"
                                },
                                {
                                    "Szállítási dátum": "2016-09-08",
                                    "Szállítási mód": "Posta",
                                    "Rendelések összmennyisége": "2203"
                                },
                                {
                                    "Szállítási dátum": "2016-09-09",
                                    "Szállítási mód": "Posta",
                                    "Rendelések összmennyisége": "4839"
                                },
                                {
                                    "Szállítási dátum": "2016-09-10",
                                    "Szállítási mód": "Posta",
                                    "Rendelések összmennyisége": "2903"
                                },
                                {
                                    "Szállítási dátum": "2016-09-11",
                                    "Szállítási mód": "Posta",
                                    "Rendelések összmennyisége": "2295"
                                },
                                {
                                    "Szállítási dátum": "2016-09-12",
                                    "Szállítási mód": "Posta",
                                    "Rendelések összmennyisége": "2298"
                                },
                                {
                                    "Szállítási dátum": "2016-09-13",
                                    "Szállítási mód": "Posta",
                                    "Rendelések összmennyisége": "3838"
                                },
                                {
                                    "Szállítási dátum": "2016-09-14",
                                    "Szállítási mód": "Posta",
                                    "Rendelések összmennyisége": "3956"
                                },
                                {
                                    "Szállítási dátum": "2016-09-15",
                                    "Szállítási mód": "Posta",
                                    "Rendelések összmennyisége": "3674"
                                },
                                {
                                    "Szállítási dátum": "2016-09-16",
                                    "Szállítási mód": "Posta",
                                    "Rendelések összmennyisége": "3195"
                                },
                                {
                                    "Szállítási dátum": "2016-09-17",
                                    "Szállítási mód": "Posta",
                                    "Rendelések összmennyisége": "3087"
                                },
                                {
                                    "Szállítási dátum": "2016-09-18",
                                    "Szállítási mód": "Posta",
                                    "Rendelések összmennyisége": "3600"
                                },
                                {
                                    "Szállítási dátum": "2016-09-19",
                                    "Szállítási mód": "Posta",
                                    "Rendelések összmennyisége": "2541"
                                },
                                {
                                    "Szállítási dátum": "2016-09-20",
                                    "Szállítási mód": "Posta",
                                    "Rendelések összmennyisége": "1652"
                                },
                                {
                                    "Szállítási dátum": "2016-09-21",
                                    "Szállítási mód": "Posta",
                                    "Rendelések összmennyisége": "1244"
                                },
                                {
                                    "Szállítási dátum": "2016-09-22",
                                    "Szállítási mód": "Posta",
                                    "Rendelések összmennyisége": "1521"
                                },
                                {
                                    "Szállítási dátum": "2016-09-23",
                                    "Szállítási mód": "Posta",
                                    "Rendelések összmennyisége": "2585"
                                },
                                {
                                    "Szállítási dátum": "2016-09-24",
                                    "Szállítási mód": "Posta",
                                    "Rendelések összmennyisége": "1676"
                                },
                                {
                                    "Szállítási dátum": "2016-09-25",
                                    "Szállítási mód": "Posta",
                                    "Rendelések összmennyisége": "2424"
                                },
                                {
                                    "Szállítási dátum": "2016-09-26",
                                    "Szállítási mód": "Posta",
                                    "Rendelések összmennyisége": "1131"
                                },
                                {
                                    "Szállítási dátum": "2016-09-27",
                                    "Szállítási mód": "Posta",
                                    "Rendelések összmennyisége": "3115"
                                },
                                {
                                    "Szállítási dátum": "2016-09-28",
                                    "Szállítási mód": "Posta",
                                    "Rendelések összmennyisége": "2567"
                                },
                                {
                                    "Szállítási dátum": "2016-09-29",
                                    "Szállítási mód": "Posta",
                                    "Rendelések összmennyisége": "2005"
                                },
                                {
                                    "Szállítási dátum": "2016-09-30",
                                    "Szállítási mód": "Posta",
                                    "Rendelések összmennyisége": "2688"
                                },
                                {
                                    "Szállítási dátum": "2016-10-01",
                                    "Szállítási mód": "Posta",
                                    "Rendelések összmennyisége": "1797"
                                },
                                {
                                    "Szállítási dátum": "2016-10-02",
                                    "Szállítási mód": "Posta",
                                    "Rendelések összmennyisége": "3301"
                                },
                                {
                                    "Szállítási dátum": "2016-10-03",
                                    "Szállítási mód": "Posta",
                                    "Rendelések összmennyisége": "1515"
                                },
                                {
                                    "Szállítási dátum": "2016-10-04",
                                    "Szállítási mód": "Posta",
                                    "Rendelések összmennyisége": "1245"
                                },
                                {
                                    "Szállítási dátum": "2016-10-05",
                                    "Szállítási mód": "Posta",
                                    "Rendelések összmennyisége": "3615"
                                },
                                {
                                    "Szállítási dátum": "2016-10-06",
                                    "Szállítási mód": "Posta",
                                    "Rendelések összmennyisége": "3080"
                                },
                                {
                                    "Szállítási dátum": "2016-10-07",
                                    "Szállítási mód": "Posta",
                                    "Rendelések összmennyisége": "2972"
                                },
                                {
                                    "Szállítási dátum": "2016-10-08",
                                    "Szállítási mód": "Posta",
                                    "Rendelések összmennyisége": "3679"
                                },
                                {
                                    "Szállítási dátum": "2016-10-09",
                                    "Szállítási mód": "Posta",
                                    "Rendelések összmennyisége": "3144"
                                },
                                {
                                    "Szállítási dátum": "2016-10-10",
                                    "Szállítási mód": "Posta",
                                    "Rendelések összmennyisége": "1720"
                                },
                                {
                                    "Szállítási dátum": "2016-10-11",
                                    "Szállítási mód": "Posta",
                                    "Rendelések összmennyisége": "2705"
                                },
                                {
                                    "Szállítási dátum": "2016-10-12",
                                    "Szállítási mód": "Posta",
                                    "Rendelések összmennyisége": "4523"
                                },
                                {
                                    "Szállítási dátum": "2016-10-13",
                                    "Szállítási mód": "Posta",
                                    "Rendelések összmennyisége": "3321"
                                },
                                {
                                    "Szállítási dátum": "2016-10-14",
                                    "Szállítási mód": "Posta",
                                    "Rendelések összmennyisége": "3864"
                                },
                                {
                                    "Szállítási dátum": "2016-10-15",
                                    "Szállítási mód": "Posta",
                                    "Rendelések összmennyisége": "2305"
                                },
                                {
                                    "Szállítási dátum": "2016-10-16",
                                    "Szállítási mód": "Posta",
                                    "Rendelések összmennyisége": "1537"
                                },
                                {
                                    "Szállítási dátum": "2016-10-17",
                                    "Szállítási mód": "Posta",
                                    "Rendelések összmennyisége": "3813"
                                },
                                {
                                    "Szállítási dátum": "2016-10-18",
                                    "Szállítási mód": "Posta",
                                    "Rendelések összmennyisége": "1570"
                                },
                                {
                                    "Szállítási dátum": "2016-10-19",
                                    "Szállítási mód": "Posta",
                                    "Rendelések összmennyisége": "2460"
                                },
                                {
                                    "Szállítási dátum": "2016-10-20",
                                    "Szállítási mód": "Posta",
                                    "Rendelések összmennyisége": "2780"
                                },
                                {
                                    "Szállítási dátum": "2016-10-21",
                                    "Szállítási mód": "Posta",
                                    "Rendelések összmennyisége": "3850"
                                },
                                {
                                    "Szállítási dátum": "2016-10-22",
                                    "Szállítási mód": "Posta",
                                    "Rendelések összmennyisége": "1972"
                                },
                                {
                                    "Szállítási dátum": "2016-10-23",
                                    "Szállítási mód": "Posta",
                                    "Rendelések összmennyisége": "4796"
                                },
                                {
                                    "Szállítási dátum": "2016-10-24",
                                    "Szállítási mód": "Posta",
                                    "Rendelések összmennyisége": "2421"
                                },
                                {
                                    "Szállítási dátum": "2016-10-25",
                                    "Szállítási mód": "Posta",
                                    "Rendelések összmennyisége": "5500"
                                },
                                {
                                    "Szállítási dátum": "2016-10-26",
                                    "Szállítási mód": "Posta",
                                    "Rendelések összmennyisége": "3830"
                                },
                                {
                                    "Szállítási dátum": "2016-10-27",
                                    "Szállítási mód": "Posta",
                                    "Rendelések összmennyisége": "3623"
                                },
                                {
                                    "Szállítási dátum": "2016-10-28",
                                    "Szállítási mód": "Posta",
                                    "Rendelések összmennyisége": "2770"
                                },
                                {
                                    "Szállítási dátum": "2016-10-29",
                                    "Szállítási mód": "Posta",
                                    "Rendelések összmennyisége": "1731"
                                },
                                {
                                    "Szállítási dátum": "2016-10-30",
                                    "Szállítási mód": "Posta",
                                    "Rendelések összmennyisége": "3613"
                                },
                                {
                                    "Szállítási dátum": "2016-10-31",
                                    "Szállítási mód": "Posta",
                                    "Rendelések összmennyisége": "2135"
                                },
                                {
                                    "Szállítási dátum": "2016-11-01",
                                    "Szállítási mód": "Posta",
                                    "Rendelések összmennyisége": "2346"
                                },
                                {
                                    "Szállítási dátum": "2016-11-02",
                                    "Szállítási mód": "Posta",
                                    "Rendelések összmennyisége": "2154"
                                },
                                {
                                    "Szállítási dátum": "2016-11-03",
                                    "Szállítási mód": "Posta",
                                    "Rendelések összmennyisége": "3149"
                                },
                                {
                                    "Szállítási dátum": "2016-11-04",
                                    "Szállítási mód": "Posta",
                                    "Rendelések összmennyisége": "1188"
                                },
                                {
                                    "Szállítási dátum": "2016-11-05",
                                    "Szállítási mód": "Posta",
                                    "Rendelések összmennyisége": "2748"
                                },
                                {
                                    "Szállítási dátum": "2016-11-06",
                                    "Szállítási mód": "Posta",
                                    "Rendelések összmennyisége": "3204"
                                },
                                {
                                    "Szállítási dátum": "2016-11-07",
                                    "Szállítási mód": "Posta",
                                    "Rendelések összmennyisége": "1575"
                                },
                                {
                                    "Szállítási dátum": "2016-11-08",
                                    "Szállítási mód": "Posta",
                                    "Rendelések összmennyisége": "2571"
                                },
                                {
                                    "Szállítási dátum": "2016-11-09",
                                    "Szállítási mód": "Posta",
                                    "Rendelések összmennyisége": "1587"
                                },
                                {
                                    "Szállítási dátum": "2016-11-10",
                                    "Szállítási mód": "Posta",
                                    "Rendelések összmennyisége": "3072"
                                },
                                {
                                    "Szállítási dátum": "2016-11-11",
                                    "Szállítási mód": "Posta",
                                    "Rendelések összmennyisége": "3383"
                                },
                                {
                                    "Szállítási dátum": "2016-11-12",
                                    "Szállítási mód": "Posta",
                                    "Rendelések összmennyisége": "5692"
                                },
                                {
                                    "Szállítási dátum": "2016-11-13",
                                    "Szállítási mód": "Posta",
                                    "Rendelések összmennyisége": "3550"
                                },
                                {
                                    "Szállítási dátum": "2016-11-14",
                                    "Szállítási mód": "Posta",
                                    "Rendelések összmennyisége": "2110"
                                },
                                {
                                    "Szállítási dátum": "2016-11-15",
                                    "Szállítási mód": "Posta",
                                    "Rendelések összmennyisége": "1684"
                                },
                                {
                                    "Szállítási dátum": "2016-11-16",
                                    "Szállítási mód": "Posta",
                                    "Rendelések összmennyisége": "1565"
                                },
                                {
                                    "Szállítási dátum": "2016-11-17",
                                    "Szállítási mód": "Posta",
                                    "Rendelések összmennyisége": "3138"
                                },
                                {
                                    "Szállítási dátum": "2016-11-18",
                                    "Szállítási mód": "Posta",
                                    "Rendelések összmennyisége": "1970"
                                },
                                {
                                    "Szállítási dátum": "2016-11-19",
                                    "Szállítási mód": "Posta",
                                    "Rendelések összmennyisége": "3521"
                                },
                                {
                                    "Szállítási dátum": "2016-11-20",
                                    "Szállítási mód": "Posta",
                                    "Rendelések összmennyisége": "1536"
                                },
                                {
                                    "Szállítási dátum": "2016-11-21",
                                    "Szállítási mód": "Posta",
                                    "Rendelések összmennyisége": "1373"
                                },
                                {
                                    "Szállítási dátum": "2016-11-22",
                                    "Szállítási mód": "Posta",
                                    "Rendelések összmennyisége": "3225"
                                },
                                {
                                    "Szállítási dátum": "2016-11-23",
                                    "Szállítási mód": "Posta",
                                    "Rendelések összmennyisége": "2050"
                                },
                                {
                                    "Szállítási dátum": "2016-11-24",
                                    "Szállítási mód": "Posta",
                                    "Rendelések összmennyisége": "2298"
                                },
                                {
                                    "Szállítási dátum": "2016-11-25",
                                    "Szállítási mód": "Posta",
                                    "Rendelések összmennyisége": "2338"
                                },
                                {
                                    "Szállítási dátum": "2016-11-26",
                                    "Szállítási mód": "Posta",
                                    "Rendelések összmennyisége": "3030"
                                },
                                {
                                    "Szállítási dátum": "2016-11-27",
                                    "Szállítási mód": "Posta",
                                    "Rendelések összmennyisége": "3159"
                                },
                                {
                                    "Szállítási dátum": "2016-11-28",
                                    "Szállítási mód": "Posta",
                                    "Rendelések összmennyisége": "2011"
                                },
                                {
                                    "Szállítási dátum": "2016-11-29",
                                    "Szállítási mód": "Posta",
                                    "Rendelések összmennyisége": "4664"
                                },
                                {
                                    "Szállítási dátum": "2016-11-30",
                                    "Szállítási mód": "Posta",
                                    "Rendelések összmennyisége": "2405"
                                },
                                {
                                    "Szállítási dátum": "2016-12-01",
                                    "Szállítási mód": "Posta",
                                    "Rendelések összmennyisége": "3261"
                                },
                                {
                                    "Szállítási dátum": "2016-12-02",
                                    "Szállítási mód": "Posta",
                                    "Rendelések összmennyisége": "1350"
                                },
                                {
                                    "Szállítási dátum": "2016-12-03",
                                    "Szállítási mód": "Posta",
                                    "Rendelések összmennyisége": "2692"
                                },
                                {
                                    "Szállítási dátum": "2016-12-04",
                                    "Szállítási mód": "Posta",
                                    "Rendelések összmennyisége": "2733"
                                },
                                {
                                    "Szállítási dátum": "2016-12-05",
                                    "Szállítási mód": "Posta",
                                    "Rendelések összmennyisége": "2248"
                                },
                                {
                                    "Szállítási dátum": "2016-12-06",
                                    "Szállítási mód": "Posta",
                                    "Rendelések összmennyisége": "2849"
                                },
                                {
                                    "Szállítási dátum": "2016-12-07",
                                    "Szállítási mód": "Posta",
                                    "Rendelések összmennyisége": "3182"
                                },
                                {
                                    "Szállítási dátum": "2016-12-08",
                                    "Szállítási mód": "Posta",
                                    "Rendelések összmennyisége": "3295"
                                },
                                {
                                    "Szállítási dátum": "2016-12-09",
                                    "Szállítási mód": "Posta",
                                    "Rendelések összmennyisége": "4120"
                                },
                                {
                                    "Szállítási dátum": "2016-12-10",
                                    "Szállítási mód": "Posta",
                                    "Rendelések összmennyisége": "3051"
                                },
                                {
                                    "Szállítási dátum": "2016-12-11",
                                    "Szállítási mód": "Posta",
                                    "Rendelések összmennyisége": "3801"
                                },
                                {
                                    "Szállítási dátum": "2016-12-12",
                                    "Szállítási mód": "Posta",
                                    "Rendelések összmennyisége": "1930"
                                },
                                {
                                    "Szállítási dátum": "2016-12-13",
                                    "Szállítási mód": "Posta",
                                    "Rendelések összmennyisége": "3401"
                                },
                                {
                                    "Szállítási dátum": "2016-12-14",
                                    "Szállítási mód": "Posta",
                                    "Rendelések összmennyisége": "1825"
                                },
                                {
                                    "Szállítási dátum": "2016-12-15",
                                    "Szállítási mód": "Posta",
                                    "Rendelések összmennyisége": "1387"
                                },
                                {
                                    "Szállítási dátum": "2016-12-16",
                                    "Szállítási mód": "Posta",
                                    "Rendelések összmennyisége": "2487"
                                },
                                {
                                    "Szállítási dátum": "2016-12-17",
                                    "Szállítási mód": "Posta",
                                    "Rendelések összmennyisége": "2713"
                                },
                                {
                                    "Szállítási dátum": "2016-12-18",
                                    "Szállítási mód": "Posta",
                                    "Rendelések összmennyisége": "3217"
                                },
                                {
                                    "Szállítási dátum": "2016-12-19",
                                    "Szállítási mód": "Posta",
                                    "Rendelések összmennyisége": "2089"
                                },
                                {
                                    "Szállítási dátum": "2016-12-20",
                                    "Szállítási mód": "Posta",
                                    "Rendelések összmennyisége": "2484"
                                },
                                {
                                    "Szállítási dátum": "2016-12-21",
                                    "Szállítási mód": "Posta",
                                    "Rendelések összmennyisége": "2568"
                                },
                                {
                                    "Szállítási dátum": "2016-12-22",
                                    "Szállítási mód": "Posta",
                                    "Rendelések összmennyisége": "1987"
                                },
                                {
                                    "Szállítási dátum": "2016-12-23",
                                    "Szállítási mód": "Posta",
                                    "Rendelések összmennyisége": "2243"
                                },
                                {
                                    "Szállítási dátum": "2016-12-24",
                                    "Szállítási mód": "Posta",
                                    "Rendelések összmennyisége": "1609"
                                },
                                {
                                    "Szállítási dátum": "2016-12-25",
                                    "Szállítási mód": "Posta",
                                    "Rendelések összmennyisége": "2342"
                                },
                                {
                                    "Szállítási dátum": "2016-12-26",
                                    "Szállítási mód": "Posta",
                                    "Rendelések összmennyisége": "2875"
                                },
                                {
                                    "Szállítási dátum": "2016-12-27",
                                    "Szállítási mód": "Posta",
                                    "Rendelések összmennyisége": "3399"
                                },
                                {
                                    "Szállítási dátum": "2016-12-28",
                                    "Szállítási mód": "Posta",
                                    "Rendelések összmennyisége": "1736"
                                },
                                {
                                    "Szállítási dátum": "2016-12-29",
                                    "Szállítási mód": "Posta",
                                    "Rendelések összmennyisége": "2777"
                                },
                                {
                                    "Szállítási dátum": "2016-12-30",
                                    "Szállítási mód": "Posta",
                                    "Rendelések összmennyisége": "2630"
                                },
                                {
                                    "Szállítási dátum": "2016-12-31",
                                    "Szállítási mód": "Posta",
                                    "Rendelések összmennyisége": "1884"
                                },
                                {
                                    "Szállítási dátum": "2017-01-01",
                                    "Szállítási mód": "Posta",
                                    "Rendelések összmennyisége": "2167"
                                },
                                {
                                    "Szállítási dátum": "2017-01-02",
                                    "Szállítási mód": "Posta",
                                    "Rendelések összmennyisége": "2540"
                                },
                                {
                                    "Szállítási dátum": "2017-01-03",
                                    "Szállítási mód": "Posta",
                                    "Rendelések összmennyisége": "3342"
                                },
                                {
                                    "Szállítási dátum": "2017-01-04",
                                    "Szállítási mód": "Posta",
                                    "Rendelések összmennyisége": "3767"
                                },
                                {
                                    "Szállítási dátum": "2017-01-05",
                                    "Szállítási mód": "Posta",
                                    "Rendelések összmennyisége": "1877"
                                },
                                {
                                    "Szállítási dátum": "2017-01-06",
                                    "Szállítási mód": "Posta",
                                    "Rendelések összmennyisége": "2826"
                                },
                                {
                                    "Szállítási dátum": "2017-01-07",
                                    "Szállítási mód": "Posta",
                                    "Rendelések összmennyisége": "2146"
                                },
                                {
                                    "Szállítási dátum": "2017-01-08",
                                    "Szállítási mód": "Posta",
                                    "Rendelések összmennyisége": "2277"
                                },
                                {
                                    "Szállítási dátum": "2017-01-09",
                                    "Szállítási mód": "Posta",
                                    "Rendelések összmennyisége": "4079"
                                },
                                {
                                    "Szállítási dátum": "2017-01-10",
                                    "Szállítási mód": "Posta",
                                    "Rendelések összmennyisége": "790"
                                },
                                {
                                    "Szállítási dátum": "2017-01-11",
                                    "Szállítási mód": "Posta",
                                    "Rendelések összmennyisége": "2630"
                                },
                                {
                                    "Szállítási dátum": "2017-01-12",
                                    "Szállítási mód": "Posta",
                                    "Rendelések összmennyisége": "1817"
                                },
                                {
                                    "Szállítási dátum": "2017-01-13",
                                    "Szállítási mód": "Posta",
                                    "Rendelések összmennyisége": "3260"
                                },
                                {
                                    "Szállítási dátum": "2017-01-14",
                                    "Szállítási mód": "Posta",
                                    "Rendelések összmennyisége": "2694"
                                },
                                {
                                    "Szállítási dátum": "2017-01-15",
                                    "Szállítási mód": "Posta",
                                    "Rendelések összmennyisége": "2613"
                                },
                                {
                                    "Szállítási dátum": "2017-01-16",
                                    "Szállítási mód": "Posta",
                                    "Rendelések összmennyisége": "2470"
                                },
                                {
                                    "Szállítási dátum": "2017-01-17",
                                    "Szállítási mód": "Posta",
                                    "Rendelések összmennyisége": "3440"
                                },
                                {
                                    "Szállítási dátum": "2017-01-18",
                                    "Szállítási mód": "Posta",
                                    "Rendelések összmennyisége": "1919"
                                },
                                {
                                    "Szállítási dátum": "2017-01-19",
                                    "Szállítási mód": "Posta",
                                    "Rendelések összmennyisége": "1896"
                                },
                                {
                                    "Szállítási dátum": "2017-01-20",
                                    "Szállítási mód": "Posta",
                                    "Rendelések összmennyisége": "1078"
                                },
                                {
                                    "Szállítási dátum": "2017-01-21",
                                    "Szállítási mód": "Posta",
                                    "Rendelések összmennyisége": "2179"
                                },
                                {
                                    "Szállítási dátum": "2017-01-22",
                                    "Szállítási mód": "Posta",
                                    "Rendelések összmennyisége": "3184"
                                },
                                {
                                    "Szállítási dátum": "2017-01-23",
                                    "Szállítási mód": "Posta",
                                    "Rendelések összmennyisége": "2156"
                                },
                                {
                                    "Szállítási dátum": "2017-01-24",
                                    "Szállítási mód": "Posta",
                                    "Rendelések összmennyisége": "2208"
                                },
                                {
                                    "Szállítási dátum": "2017-01-25",
                                    "Szállítási mód": "Posta",
                                    "Rendelések összmennyisége": "2132"
                                },
                                {
                                    "Szállítási dátum": "2017-01-26",
                                    "Szállítási mód": "Posta",
                                    "Rendelések összmennyisége": "2648"
                                },
                                {
                                    "Szállítási dátum": "2017-01-27",
                                    "Szállítási mód": "Posta",
                                    "Rendelések összmennyisége": "470"
                                },
                                {
                                    "Szállítási dátum": "2017-01-28",
                                    "Szállítási mód": "Posta",
                                    "Rendelések összmennyisége": "1210"
                                },
                                {
                                    "Szállítási dátum": "2017-01-29",
                                    "Szállítási mód": "Posta",
                                    "Rendelések összmennyisége": "1907"
                                },
                                {
                                    "Szállítási dátum": "2017-01-30",
                                    "Szállítási mód": "Posta",
                                    "Rendelések összmennyisége": "2863"
                                },
                                {
                                    "Szállítási dátum": "2017-01-31",
                                    "Szállítási mód": "Posta",
                                    "Rendelések összmennyisége": "2803"
                                },
                                {
                                    "Szállítási dátum": "2017-02-01",
                                    "Szállítási mód": "Posta",
                                    "Rendelések összmennyisége": "1413"
                                },
                                {
                                    "Szállítási dátum": "2017-02-02",
                                    "Szállítási mód": "Posta",
                                    "Rendelések összmennyisége": "2902"
                                },
                                {
                                    "Szállítási dátum": "2017-02-03",
                                    "Szállítási mód": "Posta",
                                    "Rendelések összmennyisége": "3377"
                                },
                                {
                                    "Szállítási dátum": "2017-02-04",
                                    "Szállítási mód": "Posta",
                                    "Rendelések összmennyisége": "2763"
                                },
                                {
                                    "Szállítási dátum": "2017-02-05",
                                    "Szállítási mód": "Posta",
                                    "Rendelések összmennyisége": "552"
                                },
                                {
                                    "Szállítási dátum": "2017-02-06",
                                    "Szállítási mód": "Posta",
                                    "Rendelések összmennyisége": "3121"
                                },
                                {
                                    "Szállítási dátum": "2017-02-07",
                                    "Szállítási mód": "Posta",
                                    "Rendelések összmennyisége": "2163"
                                },
                                {
                                    "Szállítási dátum": "2017-02-08",
                                    "Szállítási mód": "Posta",
                                    "Rendelések összmennyisége": "4091"
                                },
                                {
                                    "Szállítási dátum": "2017-02-09",
                                    "Szállítási mód": "Posta",
                                    "Rendelések összmennyisége": "2526"
                                },
                                {
                                    "Szállítási dátum": "2017-02-10",
                                    "Szállítási mód": "Posta",
                                    "Rendelések összmennyisége": "3523"
                                },
                                {
                                    "Szállítási dátum": "2017-02-11",
                                    "Szállítási mód": "Posta",
                                    "Rendelések összmennyisége": "2843"
                                },
                                {
                                    "Szállítási dátum": "2017-02-12",
                                    "Szállítási mód": "Posta",
                                    "Rendelések összmennyisége": "1286"
                                },
                                {
                                    "Szállítási dátum": "2017-02-13",
                                    "Szállítási mód": "Posta",
                                    "Rendelések összmennyisége": "2762"
                                },
                                {
                                    "Szállítási dátum": "2017-02-14",
                                    "Szállítási mód": "Posta",
                                    "Rendelések összmennyisége": "3291"
                                },
                                {
                                    "Szállítási dátum": "2017-02-15",
                                    "Szállítási mód": "Posta",
                                    "Rendelések összmennyisége": "1917"
                                },
                                {
                                    "Szállítási dátum": "2017-02-16",
                                    "Szállítási mód": "Posta",
                                    "Rendelések összmennyisége": "3039"
                                },
                                {
                                    "Szállítási dátum": "2017-02-17",
                                    "Szállítási mód": "Posta",
                                    "Rendelések összmennyisége": "3674"
                                },
                                {
                                    "Szállítási dátum": "2017-02-18",
                                    "Szállítási mód": "Posta",
                                    "Rendelések összmennyisége": "4213"
                                },
                                {
                                    "Szállítási dátum": "2017-02-19",
                                    "Szállítási mód": "Posta",
                                    "Rendelések összmennyisége": "2709"
                                },
                                {
                                    "Szállítási dátum": "2017-02-20",
                                    "Szállítási mód": "Posta",
                                    "Rendelések összmennyisége": "2064"
                                },
                                {
                                    "Szállítási dátum": "2017-02-21",
                                    "Szállítási mód": "Posta",
                                    "Rendelések összmennyisége": "3010"
                                },
                                {
                                    "Szállítási dátum": "2017-02-22",
                                    "Szállítási mód": "Posta",
                                    "Rendelések összmennyisége": "4167"
                                },
                                {
                                    "Szállítási dátum": "2017-02-23",
                                    "Szállítási mód": "Posta",
                                    "Rendelések összmennyisége": "2809"
                                },
                                {
                                    "Szállítási dátum": "2017-02-24",
                                    "Szállítási mód": "Posta",
                                    "Rendelések összmennyisége": "1873"
                                },
                                {
                                    "Szállítási dátum": "2017-02-25",
                                    "Szállítási mód": "Posta",
                                    "Rendelések összmennyisége": "2902"
                                },
                                {
                                    "Szállítási dátum": "2017-02-26",
                                    "Szállítási mód": "Posta",
                                    "Rendelések összmennyisége": "2990"
                                },
                                {
                                    "Szállítási dátum": "2017-02-27",
                                    "Szállítási mód": "Posta",
                                    "Rendelések összmennyisége": "1768"
                                },
                                {
                                    "Szállítási dátum": "2017-02-28",
                                    "Szállítási mód": "Posta",
                                    "Rendelések összmennyisége": "4132"
                                },
                                {
                                    "Szállítási dátum": "2017-03-01",
                                    "Szállítási mód": "Posta",
                                    "Rendelések összmennyisége": "732"
                                },
                                {
                                    "Szállítási dátum": "2017-03-02",
                                    "Szállítási mód": "Posta",
                                    "Rendelések összmennyisége": "2025"
                                },
                                {
                                    "Szállítási dátum": "2017-03-03",
                                    "Szállítási mód": "Posta",
                                    "Rendelések összmennyisége": "2680"
                                },
                                {
                                    "Szállítási dátum": "2017-03-04",
                                    "Szállítási mód": "Posta",
                                    "Rendelések összmennyisége": "2115"
                                },
                                {
                                    "Szállítási dátum": "2017-03-05",
                                    "Szállítási mód": "Posta",
                                    "Rendelések összmennyisége": "2640"
                                },
                                {
                                    "Szállítási dátum": "2017-03-06",
                                    "Szállítási mód": "Posta",
                                    "Rendelések összmennyisége": "3004"
                                },
                                {
                                    "Szállítási dátum": "2017-03-07",
                                    "Szállítási mód": "Posta",
                                    "Rendelések összmennyisége": "2945"
                                },
                                {
                                    "Szállítási dátum": "2017-03-08",
                                    "Szállítási mód": "Posta",
                                    "Rendelések összmennyisége": "1964"
                                },
                                {
                                    "Szállítási dátum": "2017-03-09",
                                    "Szállítási mód": "Posta",
                                    "Rendelések összmennyisége": "1780"
                                },
                                {
                                    "Szállítási dátum": "2017-03-10",
                                    "Szállítási mód": "Posta",
                                    "Rendelések összmennyisége": "2256"
                                },
                                {
                                    "Szállítási dátum": "2017-03-11",
                                    "Szállítási mód": "Posta",
                                    "Rendelések összmennyisége": "1022"
                                },
                                {
                                    "Szállítási dátum": "2017-03-12",
                                    "Szállítási mód": "Posta",
                                    "Rendelések összmennyisége": "1068"
                                },
                                {
                                    "Szállítási dátum": "2017-03-13",
                                    "Szállítási mód": "Posta",
                                    "Rendelések összmennyisége": "3239"
                                },
                                {
                                    "Szállítási dátum": "2017-03-14",
                                    "Szállítási mód": "Posta",
                                    "Rendelések összmennyisége": "1389"
                                },
                                {
                                    "Szállítási dátum": "2017-03-15",
                                    "Szállítási mód": "Posta",
                                    "Rendelések összmennyisége": "4510"
                                },
                                {
                                    "Szállítási dátum": "2017-03-16",
                                    "Szállítási mód": "Posta",
                                    "Rendelések összmennyisége": "2780"
                                },
                                {
                                    "Szállítási dátum": "2017-03-17",
                                    "Szállítási mód": "Posta",
                                    "Rendelések összmennyisége": "2562"
                                },
                                {
                                    "Szállítási dátum": "2017-03-18",
                                    "Szállítási mód": "Posta",
                                    "Rendelések összmennyisége": "2095"
                                },
                                {
                                    "Szállítási dátum": "2017-03-19",
                                    "Szállítási mód": "Posta",
                                    "Rendelések összmennyisége": "3719"
                                },
                                {
                                    "Szállítási dátum": "2017-03-20",
                                    "Szállítási mód": "Posta",
                                    "Rendelések összmennyisége": "1975"
                                },
                                {
                                    "Szállítási dátum": "2017-03-21",
                                    "Szállítási mód": "Posta",
                                    "Rendelések összmennyisége": "2354"
                                },
                                {
                                    "Szállítási dátum": "2017-03-22",
                                    "Szállítási mód": "Posta",
                                    "Rendelések összmennyisége": "1742"
                                },
                                {
                                    "Szállítási dátum": "2017-03-23",
                                    "Szállítási mód": "Posta",
                                    "Rendelések összmennyisége": "2185"
                                },
                                {
                                    "Szállítási dátum": "2017-03-24",
                                    "Szállítási mód": "Posta",
                                    "Rendelések összmennyisége": "1572"
                                },
                                {
                                    "Szállítási dátum": "2017-03-25",
                                    "Szállítási mód": "Posta",
                                    "Rendelések összmennyisége": "1572"
                                },
                                {
                                    "Szállítási dátum": "2017-03-26",
                                    "Szállítási mód": "Posta",
                                    "Rendelések összmennyisége": "2921"
                                },
                                {
                                    "Szállítási dátum": "2017-03-27",
                                    "Szállítási mód": "Posta",
                                    "Rendelések összmennyisége": "3012"
                                },
                                {
                                    "Szállítási dátum": "2017-03-28",
                                    "Szállítási mód": "Posta",
                                    "Rendelések összmennyisége": "2861"
                                },
                                {
                                    "Szállítási dátum": "2017-03-29",
                                    "Szállítási mód": "Posta",
                                    "Rendelések összmennyisége": "3505"
                                },
                                {
                                    "Szállítási dátum": "2017-03-30",
                                    "Szállítási mód": "Posta",
                                    "Rendelések összmennyisége": "1623"
                                },
                                {
                                    "Szállítási dátum": "2017-03-31",
                                    "Szállítási mód": "Posta",
                                    "Rendelések összmennyisége": "3170"
                                },
                                {
                                    "Szállítási dátum": "2017-04-01",
                                    "Szállítási mód": "Posta",
                                    "Rendelések összmennyisége": "2655"
                                },
                                {
                                    "Szállítási dátum": "2017-04-02",
                                    "Szállítási mód": "Posta",
                                    "Rendelések összmennyisége": "4842"
                                },
                                {
                                    "Szállítási dátum": "2017-04-03",
                                    "Szállítási mód": "Posta",
                                    "Rendelések összmennyisége": "1850"
                                },
                                {
                                    "Szállítási dátum": "2017-04-04",
                                    "Szállítási mód": "Posta",
                                    "Rendelések összmennyisége": "2092"
                                },
                                {
                                    "Szállítási dátum": "2017-04-05",
                                    "Szállítási mód": "Posta",
                                    "Rendelések összmennyisége": "1204"
                                },
                                {
                                    "Szállítási dátum": "2017-04-06",
                                    "Szállítási mód": "Posta",
                                    "Rendelések összmennyisége": "881"
                                },
                                {
                                    "Szállítási dátum": "2017-04-07",
                                    "Szállítási mód": "Posta",
                                    "Rendelések összmennyisége": "2136"
                                },
                                {
                                    "Szállítási dátum": "2017-04-08",
                                    "Szállítási mód": "Posta",
                                    "Rendelések összmennyisége": "1289"
                                },
                                {
                                    "Szállítási dátum": "2017-04-09",
                                    "Szállítási mód": "Posta",
                                    "Rendelések összmennyisége": "1040"
                                },
                                {
                                    "Szállítási dátum": "2017-04-10",
                                    "Szállítási mód": "Posta",
                                    "Rendelések összmennyisége": "680"
                                },
                                {
                                    "Szállítási dátum": "2017-04-11",
                                    "Szállítási mód": "Posta",
                                    "Rendelések összmennyisége": "370"
                                },
                                {
                                    "Szállítási dátum": "NULL",
                                    "Szállítási mód": "Posta",
                                    "Rendelések összmennyisége": "1835754"
                                },
                                {
                                    "Szállítási dátum": "2015-05-04",
                                    "Szállítási mód": "Személyes átvétel",
                                    "Rendelések összmennyisége": "337"
                                },
                                {
                                    "Szállítási dátum": "2015-05-05",
                                    "Szállítási mód": "Személyes átvétel",
                                    "Rendelések összmennyisége": "570"
                                },
                                {
                                    "Szállítási dátum": "2015-05-06",
                                    "Szállítási mód": "Személyes átvétel",
                                    "Rendelések összmennyisége": "2393"
                                },
                                {
                                    "Szállítási dátum": "2015-05-07",
                                    "Szállítási mód": "Személyes átvétel",
                                    "Rendelések összmennyisége": "1500"
                                },
                                {
                                    "Szállítási dátum": "2015-05-08",
                                    "Szállítási mód": "Személyes átvétel",
                                    "Rendelések összmennyisége": "1612"
                                },
                                {
                                    "Szállítási dátum": "2015-05-09",
                                    "Szállítási mód": "Személyes átvétel",
                                    "Rendelések összmennyisége": "2096"
                                },
                                {
                                    "Szállítási dátum": "2015-05-10",
                                    "Szállítási mód": "Személyes átvétel",
                                    "Rendelések összmennyisége": "2820"
                                },
                                {
                                    "Szállítási dátum": "2015-05-11",
                                    "Szállítási mód": "Személyes átvétel",
                                    "Rendelések összmennyisége": "2518"
                                },
                                {
                                    "Szállítási dátum": "2015-05-12",
                                    "Szállítási mód": "Személyes átvétel",
                                    "Rendelések összmennyisége": "2792"
                                },
                                {
                                    "Szállítási dátum": "2015-05-13",
                                    "Szállítási mód": "Személyes átvétel",
                                    "Rendelések összmennyisége": "4719"
                                },
                                {
                                    "Szállítási dátum": "2015-05-14",
                                    "Szállítási mód": "Személyes átvétel",
                                    "Rendelések összmennyisége": "5085"
                                },
                                {
                                    "Szállítási dátum": "2015-05-15",
                                    "Szállítási mód": "Személyes átvétel",
                                    "Rendelések összmennyisége": "2805"
                                },
                                {
                                    "Szállítási dátum": "2015-05-16",
                                    "Szállítási mód": "Személyes átvétel",
                                    "Rendelések összmennyisége": "3422"
                                },
                                {
                                    "Szállítási dátum": "2015-05-17",
                                    "Szállítási mód": "Személyes átvétel",
                                    "Rendelések összmennyisége": "1850"
                                },
                                {
                                    "Szállítási dátum": "2015-05-18",
                                    "Szállítási mód": "Személyes átvétel",
                                    "Rendelések összmennyisége": "3944"
                                },
                                {
                                    "Szállítási dátum": "2015-05-19",
                                    "Szállítási mód": "Személyes átvétel",
                                    "Rendelések összmennyisége": "2371"
                                },
                                {
                                    "Szállítási dátum": "2015-05-20",
                                    "Szállítási mód": "Személyes átvétel",
                                    "Rendelések összmennyisége": "3676"
                                },
                                {
                                    "Szállítási dátum": "2015-05-21",
                                    "Szállítási mód": "Személyes átvétel",
                                    "Rendelések összmennyisége": "4532"
                                },
                                {
                                    "Szállítási dátum": "2015-05-22",
                                    "Szállítási mód": "Személyes átvétel",
                                    "Rendelések összmennyisége": "4205"
                                },
                                {
                                    "Szállítási dátum": "2015-05-23",
                                    "Szállítási mód": "Személyes átvétel",
                                    "Rendelések összmennyisége": "2360"
                                },
                                {
                                    "Szállítási dátum": "2015-05-24",
                                    "Szállítási mód": "Személyes átvétel",
                                    "Rendelések összmennyisége": "2169"
                                },
                                {
                                    "Szállítási dátum": "2015-05-25",
                                    "Szállítási mód": "Személyes átvétel",
                                    "Rendelések összmennyisége": "5598"
                                },
                                {
                                    "Szállítási dátum": "2015-05-26",
                                    "Szállítási mód": "Személyes átvétel",
                                    "Rendelések összmennyisége": "4006"
                                },
                                {
                                    "Szállítási dátum": "2015-05-27",
                                    "Szállítási mód": "Személyes átvétel",
                                    "Rendelések összmennyisége": "4511"
                                },
                                {
                                    "Szállítási dátum": "2015-05-28",
                                    "Szállítási mód": "Személyes átvétel",
                                    "Rendelések összmennyisége": "4352"
                                },
                                {
                                    "Szállítási dátum": "2015-05-29",
                                    "Szállítási mód": "Személyes átvétel",
                                    "Rendelések összmennyisége": "4462"
                                },
                                {
                                    "Szállítási dátum": "2015-05-30",
                                    "Szállítási mód": "Személyes átvétel",
                                    "Rendelések összmennyisége": "2095"
                                },
                                {
                                    "Szállítási dátum": "2015-05-31",
                                    "Szállítási mód": "Személyes átvétel",
                                    "Rendelések összmennyisége": "1360"
                                },
                                {
                                    "Szállítási dátum": "2015-06-01",
                                    "Szállítási mód": "Személyes átvétel",
                                    "Rendelések összmennyisége": "2612"
                                },
                                {
                                    "Szállítási dátum": "2015-06-02",
                                    "Szállítási mód": "Személyes átvétel",
                                    "Rendelések összmennyisége": "3308"
                                },
                                {
                                    "Szállítási dátum": "2015-06-03",
                                    "Szállítási mód": "Személyes átvétel",
                                    "Rendelések összmennyisége": "4700"
                                },
                                {
                                    "Szállítási dátum": "2015-06-04",
                                    "Szállítási mód": "Személyes átvétel",
                                    "Rendelések összmennyisége": "2310"
                                },
                                {
                                    "Szállítási dátum": "2015-06-05",
                                    "Szállítási mód": "Személyes átvétel",
                                    "Rendelések összmennyisége": "3040"
                                },
                                {
                                    "Szállítási dátum": "2015-06-06",
                                    "Szállítási mód": "Személyes átvétel",
                                    "Rendelések összmennyisége": "4159"
                                },
                                {
                                    "Szállítási dátum": "2015-06-07",
                                    "Szállítási mód": "Személyes átvétel",
                                    "Rendelések összmennyisége": "1266"
                                },
                                {
                                    "Szállítási dátum": "2015-06-08",
                                    "Szállítási mód": "Személyes átvétel",
                                    "Rendelések összmennyisége": "1372"
                                },
                                {
                                    "Szállítási dátum": "2015-06-09",
                                    "Szállítási mód": "Személyes átvétel",
                                    "Rendelések összmennyisége": "1448"
                                },
                                {
                                    "Szállítási dátum": "2015-06-10",
                                    "Szállítási mód": "Személyes átvétel",
                                    "Rendelések összmennyisége": "2835"
                                },
                                {
                                    "Szállítási dátum": "2015-06-11",
                                    "Szállítási mód": "Személyes átvétel",
                                    "Rendelések összmennyisége": "2212"
                                },
                                {
                                    "Szállítási dátum": "2015-06-12",
                                    "Szállítási mód": "Személyes átvétel",
                                    "Rendelések összmennyisége": "2612"
                                },
                                {
                                    "Szállítási dátum": "2015-06-13",
                                    "Szállítási mód": "Személyes átvétel",
                                    "Rendelések összmennyisége": "2662"
                                },
                                {
                                    "Szállítási dátum": "2015-06-14",
                                    "Szállítási mód": "Személyes átvétel",
                                    "Rendelések összmennyisége": "3417"
                                },
                                {
                                    "Szállítási dátum": "2015-06-15",
                                    "Szállítási mód": "Személyes átvétel",
                                    "Rendelések összmennyisége": "3138"
                                },
                                {
                                    "Szállítási dátum": "2015-06-16",
                                    "Szállítási mód": "Személyes átvétel",
                                    "Rendelések összmennyisége": "1927"
                                },
                                {
                                    "Szállítási dátum": "2015-06-17",
                                    "Szállítási mód": "Személyes átvétel",
                                    "Rendelések összmennyisége": "1740"
                                },
                                {
                                    "Szállítási dátum": "2015-06-18",
                                    "Szállítási mód": "Személyes átvétel",
                                    "Rendelések összmennyisége": "3830"
                                },
                                {
                                    "Szállítási dátum": "2015-06-19",
                                    "Szállítási mód": "Személyes átvétel",
                                    "Rendelések összmennyisége": "2066"
                                },
                                {
                                    "Szállítási dátum": "2015-06-20",
                                    "Szállítási mód": "Személyes átvétel",
                                    "Rendelések összmennyisége": "3721"
                                },
                                {
                                    "Szállítási dátum": "2015-06-21",
                                    "Szállítási mód": "Személyes átvétel",
                                    "Rendelések összmennyisége": "2631"
                                },
                                {
                                    "Szállítási dátum": "2015-06-22",
                                    "Szállítási mód": "Személyes átvétel",
                                    "Rendelések összmennyisége": "3105"
                                },
                                {
                                    "Szállítási dátum": "2015-06-23",
                                    "Szállítási mód": "Személyes átvétel",
                                    "Rendelések összmennyisége": "2801"
                                },
                                {
                                    "Szállítási dátum": "2015-06-24",
                                    "Szállítási mód": "Személyes átvétel",
                                    "Rendelések összmennyisége": "1751"
                                },
                                {
                                    "Szállítási dátum": "2015-06-25",
                                    "Szállítási mód": "Személyes átvétel",
                                    "Rendelések összmennyisége": "2296"
                                },
                                {
                                    "Szállítási dátum": "2015-06-26",
                                    "Szállítási mód": "Személyes átvétel",
                                    "Rendelések összmennyisége": "4587"
                                },
                                {
                                    "Szállítási dátum": "2015-06-27",
                                    "Szállítási mód": "Személyes átvétel",
                                    "Rendelések összmennyisége": "1964"
                                },
                                {
                                    "Szállítási dátum": "2015-06-28",
                                    "Szállítási mód": "Személyes átvétel",
                                    "Rendelések összmennyisége": "1172"
                                },
                                {
                                    "Szállítási dátum": "2015-06-29",
                                    "Szállítási mód": "Személyes átvétel",
                                    "Rendelések összmennyisége": "2711"
                                },
                                {
                                    "Szállítási dátum": "2015-06-30",
                                    "Szállítási mód": "Személyes átvétel",
                                    "Rendelések összmennyisége": "1706"
                                },
                                {
                                    "Szállítási dátum": "2015-07-01",
                                    "Szállítási mód": "Személyes átvétel",
                                    "Rendelések összmennyisége": "3080"
                                },
                                {
                                    "Szállítási dátum": "2015-07-02",
                                    "Szállítási mód": "Személyes átvétel",
                                    "Rendelések összmennyisége": "2900"
                                },
                                {
                                    "Szállítási dátum": "2015-07-03",
                                    "Szállítási mód": "Személyes átvétel",
                                    "Rendelések összmennyisége": "2282"
                                },
                                {
                                    "Szállítási dátum": "2015-07-04",
                                    "Szállítási mód": "Személyes átvétel",
                                    "Rendelések összmennyisége": "3867"
                                },
                                {
                                    "Szállítási dátum": "2015-07-05",
                                    "Szállítási mód": "Személyes átvétel",
                                    "Rendelések összmennyisége": "3702"
                                },
                                {
                                    "Szállítási dátum": "2015-07-06",
                                    "Szállítási mód": "Személyes átvétel",
                                    "Rendelések összmennyisége": "2463"
                                },
                                {
                                    "Szállítási dátum": "2015-07-07",
                                    "Szállítási mód": "Személyes átvétel",
                                    "Rendelések összmennyisége": "2385"
                                },
                                {
                                    "Szállítási dátum": "2015-07-08",
                                    "Szállítási mód": "Személyes átvétel",
                                    "Rendelések összmennyisége": "2321"
                                },
                                {
                                    "Szállítási dátum": "2015-07-09",
                                    "Szállítási mód": "Személyes átvétel",
                                    "Rendelések összmennyisége": "1861"
                                },
                                {
                                    "Szállítási dátum": "2015-07-10",
                                    "Szállítási mód": "Személyes átvétel",
                                    "Rendelések összmennyisége": "1295"
                                },
                                {
                                    "Szállítási dátum": "2015-07-11",
                                    "Szállítási mód": "Személyes átvétel",
                                    "Rendelések összmennyisége": "2481"
                                },
                                {
                                    "Szállítási dátum": "2015-07-12",
                                    "Szállítási mód": "Személyes átvétel",
                                    "Rendelések összmennyisége": "3181"
                                },
                                {
                                    "Szállítási dátum": "2015-07-13",
                                    "Szállítási mód": "Személyes átvétel",
                                    "Rendelések összmennyisége": "2717"
                                },
                                {
                                    "Szállítási dátum": "2015-07-14",
                                    "Szállítási mód": "Személyes átvétel",
                                    "Rendelések összmennyisége": "2262"
                                },
                                {
                                    "Szállítási dátum": "2015-07-15",
                                    "Szállítási mód": "Személyes átvétel",
                                    "Rendelések összmennyisége": "3308"
                                },
                                {
                                    "Szállítási dátum": "2015-07-16",
                                    "Szállítási mód": "Személyes átvétel",
                                    "Rendelések összmennyisége": "1778"
                                },
                                {
                                    "Szállítási dátum": "2015-07-17",
                                    "Szállítási mód": "Személyes átvétel",
                                    "Rendelések összmennyisége": "1463"
                                },
                                {
                                    "Szállítási dátum": "2015-07-18",
                                    "Szállítási mód": "Személyes átvétel",
                                    "Rendelések összmennyisége": "2867"
                                },
                                {
                                    "Szállítási dátum": "2015-07-19",
                                    "Szállítási mód": "Személyes átvétel",
                                    "Rendelések összmennyisége": "2725"
                                },
                                {
                                    "Szállítási dátum": "2015-07-20",
                                    "Szállítási mód": "Személyes átvétel",
                                    "Rendelések összmennyisége": "2919"
                                },
                                {
                                    "Szállítási dátum": "2015-07-21",
                                    "Szállítási mód": "Személyes átvétel",
                                    "Rendelések összmennyisége": "2631"
                                },
                                {
                                    "Szállítási dátum": "2015-07-22",
                                    "Szállítási mód": "Személyes átvétel",
                                    "Rendelések összmennyisége": "2350"
                                },
                                {
                                    "Szállítási dátum": "2015-07-23",
                                    "Szállítási mód": "Személyes átvétel",
                                    "Rendelések összmennyisége": "2876"
                                },
                                {
                                    "Szállítási dátum": "2015-07-24",
                                    "Szállítási mód": "Személyes átvétel",
                                    "Rendelések összmennyisége": "3057"
                                },
                                {
                                    "Szállítási dátum": "2015-07-25",
                                    "Szállítási mód": "Személyes átvétel",
                                    "Rendelések összmennyisége": "2467"
                                },
                                {
                                    "Szállítási dátum": "2015-07-26",
                                    "Szállítási mód": "Személyes átvétel",
                                    "Rendelések összmennyisége": "3772"
                                },
                                {
                                    "Szállítási dátum": "2015-07-27",
                                    "Szállítási mód": "Személyes átvétel",
                                    "Rendelések összmennyisége": "1330"
                                },
                                {
                                    "Szállítási dátum": "2015-07-28",
                                    "Szállítási mód": "Személyes átvétel",
                                    "Rendelések összmennyisége": "1774"
                                },
                                {
                                    "Szállítási dátum": "2015-07-29",
                                    "Szállítási mód": "Személyes átvétel",
                                    "Rendelések összmennyisége": "2753"
                                },
                                {
                                    "Szállítási dátum": "2015-07-30",
                                    "Szállítási mód": "Személyes átvétel",
                                    "Rendelések összmennyisége": "3588"
                                },
                                {
                                    "Szállítási dátum": "2015-07-31",
                                    "Szállítási mód": "Személyes átvétel",
                                    "Rendelések összmennyisége": "1779"
                                },
                                {
                                    "Szállítási dátum": "2015-08-01",
                                    "Szállítási mód": "Személyes átvétel",
                                    "Rendelések összmennyisége": "3437"
                                },
                                {
                                    "Szállítási dátum": "2015-08-02",
                                    "Szállítási mód": "Személyes átvétel",
                                    "Rendelések összmennyisége": "2995"
                                },
                                {
                                    "Szállítási dátum": "2015-08-03",
                                    "Szállítási mód": "Személyes átvétel",
                                    "Rendelések összmennyisége": "3762"
                                },
                                {
                                    "Szállítási dátum": "2015-08-04",
                                    "Szállítási mód": "Személyes átvétel",
                                    "Rendelések összmennyisége": "4947"
                                },
                                {
                                    "Szállítási dátum": "2015-08-05",
                                    "Szállítási mód": "Személyes átvétel",
                                    "Rendelések összmennyisége": "4154"
                                },
                                {
                                    "Szállítási dátum": "2015-08-06",
                                    "Szállítási mód": "Személyes átvétel",
                                    "Rendelések összmennyisége": "1801"
                                },
                                {
                                    "Szállítási dátum": "2015-08-07",
                                    "Szállítási mód": "Személyes átvétel",
                                    "Rendelések összmennyisége": "2676"
                                },
                                {
                                    "Szállítási dátum": "2015-08-08",
                                    "Szállítási mód": "Személyes átvétel",
                                    "Rendelések összmennyisége": "4053"
                                },
                                {
                                    "Szállítási dátum": "2015-08-09",
                                    "Szállítási mód": "Személyes átvétel",
                                    "Rendelések összmennyisége": "1558"
                                },
                                {
                                    "Szállítási dátum": "2015-08-10",
                                    "Szállítási mód": "Személyes átvétel",
                                    "Rendelések összmennyisége": "3720"
                                },
                                {
                                    "Szállítási dátum": "2015-08-11",
                                    "Szállítási mód": "Személyes átvétel",
                                    "Rendelések összmennyisége": "2775"
                                },
                                {
                                    "Szállítási dátum": "2015-08-12",
                                    "Szállítási mód": "Személyes átvétel",
                                    "Rendelések összmennyisége": "2053"
                                },
                                {
                                    "Szállítási dátum": "2015-08-13",
                                    "Szállítási mód": "Személyes átvétel",
                                    "Rendelések összmennyisége": "2152"
                                },
                                {
                                    "Szállítási dátum": "2015-08-14",
                                    "Szállítási mód": "Személyes átvétel",
                                    "Rendelések összmennyisége": "3277"
                                },
                                {
                                    "Szállítási dátum": "2015-08-15",
                                    "Szállítási mód": "Személyes átvétel",
                                    "Rendelések összmennyisége": "3740"
                                },
                                {
                                    "Szállítási dátum": "2015-08-16",
                                    "Szállítási mód": "Személyes átvétel",
                                    "Rendelések összmennyisége": "2178"
                                },
                                {
                                    "Szállítási dátum": "2015-08-17",
                                    "Szállítási mód": "Személyes átvétel",
                                    "Rendelések összmennyisége": "2813"
                                },
                                {
                                    "Szállítási dátum": "2015-08-18",
                                    "Szállítási mód": "Személyes átvétel",
                                    "Rendelések összmennyisége": "2734"
                                },
                                {
                                    "Szállítási dátum": "2015-08-19",
                                    "Szállítási mód": "Személyes átvétel",
                                    "Rendelések összmennyisége": "2147"
                                },
                                {
                                    "Szállítási dátum": "2015-08-20",
                                    "Szállítási mód": "Személyes átvétel",
                                    "Rendelések összmennyisége": "3934"
                                },
                                {
                                    "Szállítási dátum": "2015-08-21",
                                    "Szállítási mód": "Személyes átvétel",
                                    "Rendelések összmennyisége": "1989"
                                },
                                {
                                    "Szállítási dátum": "2015-08-22",
                                    "Szállítási mód": "Személyes átvétel",
                                    "Rendelések összmennyisége": "3430"
                                },
                                {
                                    "Szállítási dátum": "2015-08-23",
                                    "Szállítási mód": "Személyes átvétel",
                                    "Rendelések összmennyisége": "1383"
                                },
                                {
                                    "Szállítási dátum": "2015-08-24",
                                    "Szállítási mód": "Személyes átvétel",
                                    "Rendelések összmennyisége": "2696"
                                },
                                {
                                    "Szállítási dátum": "2015-08-25",
                                    "Szállítási mód": "Személyes átvétel",
                                    "Rendelések összmennyisége": "2936"
                                },
                                {
                                    "Szállítási dátum": "2015-08-26",
                                    "Szállítási mód": "Személyes átvétel",
                                    "Rendelések összmennyisége": "1916"
                                },
                                {
                                    "Szállítási dátum": "2015-08-27",
                                    "Szállítási mód": "Személyes átvétel",
                                    "Rendelések összmennyisége": "1232"
                                },
                                {
                                    "Szállítási dátum": "2015-08-28",
                                    "Szállítási mód": "Személyes átvétel",
                                    "Rendelések összmennyisége": "3402"
                                },
                                {
                                    "Szállítási dátum": "2015-08-29",
                                    "Szállítási mód": "Személyes átvétel",
                                    "Rendelések összmennyisége": "2494"
                                },
                                {
                                    "Szállítási dátum": "2015-08-30",
                                    "Szállítási mód": "Személyes átvétel",
                                    "Rendelések összmennyisége": "3091"
                                },
                                {
                                    "Szállítási dátum": "2015-08-31",
                                    "Szállítási mód": "Személyes átvétel",
                                    "Rendelések összmennyisége": "1966"
                                },
                                {
                                    "Szállítási dátum": "2015-09-01",
                                    "Szállítási mód": "Személyes átvétel",
                                    "Rendelések összmennyisége": "3984"
                                },
                                {
                                    "Szállítási dátum": "2015-09-02",
                                    "Szállítási mód": "Személyes átvétel",
                                    "Rendelések összmennyisége": "1415"
                                },
                                {
                                    "Szállítási dátum": "2015-09-03",
                                    "Szállítási mód": "Személyes átvétel",
                                    "Rendelések összmennyisége": "3140"
                                },
                                {
                                    "Szállítási dátum": "2015-09-04",
                                    "Szállítási mód": "Személyes átvétel",
                                    "Rendelések összmennyisége": "4091"
                                },
                                {
                                    "Szállítási dátum": "2015-09-05",
                                    "Szállítási mód": "Személyes átvétel",
                                    "Rendelések összmennyisége": "3441"
                                },
                                {
                                    "Szállítási dátum": "2015-09-06",
                                    "Szállítási mód": "Személyes átvétel",
                                    "Rendelések összmennyisége": "3096"
                                },
                                {
                                    "Szállítási dátum": "2015-09-07",
                                    "Szállítási mód": "Személyes átvétel",
                                    "Rendelések összmennyisége": "3857"
                                },
                                {
                                    "Szállítási dátum": "2015-09-08",
                                    "Szállítási mód": "Személyes átvétel",
                                    "Rendelések összmennyisége": "3111"
                                },
                                {
                                    "Szállítási dátum": "2015-09-09",
                                    "Szállítási mód": "Személyes átvétel",
                                    "Rendelések összmennyisége": "3508"
                                },
                                {
                                    "Szállítási dátum": "2015-09-10",
                                    "Szállítási mód": "Személyes átvétel",
                                    "Rendelések összmennyisége": "3255"
                                },
                                {
                                    "Szállítási dátum": "2015-09-11",
                                    "Szállítási mód": "Személyes átvétel",
                                    "Rendelések összmennyisége": "2009"
                                },
                                {
                                    "Szállítási dátum": "2015-09-12",
                                    "Szállítási mód": "Személyes átvétel",
                                    "Rendelések összmennyisége": "4896"
                                },
                                {
                                    "Szállítási dátum": "2015-09-13",
                                    "Szállítási mód": "Személyes átvétel",
                                    "Rendelések összmennyisége": "1564"
                                },
                                {
                                    "Szállítási dátum": "2015-09-14",
                                    "Szállítási mód": "Személyes átvétel",
                                    "Rendelések összmennyisége": "2556"
                                },
                                {
                                    "Szállítási dátum": "2015-09-15",
                                    "Szállítási mód": "Személyes átvétel",
                                    "Rendelések összmennyisége": "2160"
                                },
                                {
                                    "Szállítási dátum": "2015-09-16",
                                    "Szállítási mód": "Személyes átvétel",
                                    "Rendelések összmennyisége": "1310"
                                },
                                {
                                    "Szállítási dátum": "2015-09-17",
                                    "Szállítási mód": "Személyes átvétel",
                                    "Rendelések összmennyisége": "2581"
                                },
                                {
                                    "Szállítási dátum": "2015-09-18",
                                    "Szállítási mód": "Személyes átvétel",
                                    "Rendelések összmennyisége": "3136"
                                },
                                {
                                    "Szállítási dátum": "2015-09-19",
                                    "Szállítási mód": "Személyes átvétel",
                                    "Rendelések összmennyisége": "2950"
                                },
                                {
                                    "Szállítási dátum": "2015-09-20",
                                    "Szállítási mód": "Személyes átvétel",
                                    "Rendelések összmennyisége": "2657"
                                },
                                {
                                    "Szállítási dátum": "2015-09-21",
                                    "Szállítási mód": "Személyes átvétel",
                                    "Rendelések összmennyisége": "1950"
                                },
                                {
                                    "Szállítási dátum": "2015-09-22",
                                    "Szállítási mód": "Személyes átvétel",
                                    "Rendelések összmennyisége": "3299"
                                },
                                {
                                    "Szállítási dátum": "2015-09-23",
                                    "Szállítási mód": "Személyes átvétel",
                                    "Rendelések összmennyisége": "2543"
                                },
                                {
                                    "Szállítási dátum": "2015-09-24",
                                    "Szállítási mód": "Személyes átvétel",
                                    "Rendelések összmennyisége": "3968"
                                },
                                {
                                    "Szállítási dátum": "2015-09-25",
                                    "Szállítási mód": "Személyes átvétel",
                                    "Rendelések összmennyisége": "2083"
                                },
                                {
                                    "Szállítási dátum": "2015-09-26",
                                    "Szállítási mód": "Személyes átvétel",
                                    "Rendelések összmennyisége": "3168"
                                },
                                {
                                    "Szállítási dátum": "2015-09-27",
                                    "Szállítási mód": "Személyes átvétel",
                                    "Rendelések összmennyisége": "2832"
                                },
                                {
                                    "Szállítási dátum": "2015-09-28",
                                    "Szállítási mód": "Személyes átvétel",
                                    "Rendelések összmennyisége": "3841"
                                },
                                {
                                    "Szállítási dátum": "2015-09-29",
                                    "Szállítási mód": "Személyes átvétel",
                                    "Rendelések összmennyisége": "2249"
                                },
                                {
                                    "Szállítási dátum": "2015-09-30",
                                    "Szállítási mód": "Személyes átvétel",
                                    "Rendelések összmennyisége": "2387"
                                },
                                {
                                    "Szállítási dátum": "2015-10-01",
                                    "Szállítási mód": "Személyes átvétel",
                                    "Rendelések összmennyisége": "3192"
                                },
                                {
                                    "Szállítási dátum": "2015-10-02",
                                    "Szállítási mód": "Személyes átvétel",
                                    "Rendelések összmennyisége": "1213"
                                },
                                {
                                    "Szállítási dátum": "2015-10-03",
                                    "Szállítási mód": "Személyes átvétel",
                                    "Rendelések összmennyisége": "4261"
                                },
                                {
                                    "Szállítási dátum": "2015-10-04",
                                    "Szállítási mód": "Személyes átvétel",
                                    "Rendelések összmennyisége": "2430"
                                },
                                {
                                    "Szállítási dátum": "2015-10-05",
                                    "Szállítási mód": "Személyes átvétel",
                                    "Rendelések összmennyisége": "2170"
                                },
                                {
                                    "Szállítási dátum": "2015-10-06",
                                    "Szállítási mód": "Személyes átvétel",
                                    "Rendelések összmennyisége": "2226"
                                },
                                {
                                    "Szállítási dátum": "2015-10-07",
                                    "Szállítási mód": "Személyes átvétel",
                                    "Rendelések összmennyisége": "3422"
                                },
                                {
                                    "Szállítási dátum": "2015-10-08",
                                    "Szállítási mód": "Személyes átvétel",
                                    "Rendelések összmennyisége": "2711"
                                },
                                {
                                    "Szállítási dátum": "2015-10-09",
                                    "Szállítási mód": "Személyes átvétel",
                                    "Rendelések összmennyisége": "3284"
                                },
                                {
                                    "Szállítási dátum": "2015-10-10",
                                    "Szállítási mód": "Személyes átvétel",
                                    "Rendelések összmennyisége": "3813"
                                },
                                {
                                    "Szállítási dátum": "2015-10-11",
                                    "Szállítási mód": "Személyes átvétel",
                                    "Rendelések összmennyisége": "3582"
                                },
                                {
                                    "Szállítási dátum": "2015-10-12",
                                    "Szállítási mód": "Személyes átvétel",
                                    "Rendelések összmennyisége": "1372"
                                },
                                {
                                    "Szállítási dátum": "2015-10-13",
                                    "Szállítási mód": "Személyes átvétel",
                                    "Rendelések összmennyisége": "2657"
                                },
                                {
                                    "Szállítási dátum": "2015-10-14",
                                    "Szállítási mód": "Személyes átvétel",
                                    "Rendelések összmennyisége": "1330"
                                },
                                {
                                    "Szállítási dátum": "2015-10-15",
                                    "Szállítási mód": "Személyes átvétel",
                                    "Rendelések összmennyisége": "2639"
                                },
                                {
                                    "Szállítási dátum": "2015-10-16",
                                    "Szállítási mód": "Személyes átvétel",
                                    "Rendelések összmennyisége": "2798"
                                },
                                {
                                    "Szállítási dátum": "2015-10-17",
                                    "Szállítási mód": "Személyes átvétel",
                                    "Rendelések összmennyisége": "2930"
                                },
                                {
                                    "Szállítási dátum": "2015-10-18",
                                    "Szállítási mód": "Személyes átvétel",
                                    "Rendelések összmennyisége": "3267"
                                },
                                {
                                    "Szállítási dátum": "2015-10-19",
                                    "Szállítási mód": "Személyes átvétel",
                                    "Rendelések összmennyisége": "1632"
                                },
                                {
                                    "Szállítási dátum": "2015-10-20",
                                    "Szállítási mód": "Személyes átvétel",
                                    "Rendelések összmennyisége": "3069"
                                },
                                {
                                    "Szállítási dátum": "2015-10-21",
                                    "Szállítási mód": "Személyes átvétel",
                                    "Rendelések összmennyisége": "2693"
                                },
                                {
                                    "Szállítási dátum": "2015-10-22",
                                    "Szállítási mód": "Személyes átvétel",
                                    "Rendelések összmennyisége": "1603"
                                },
                                {
                                    "Szállítási dátum": "2015-10-23",
                                    "Szállítási mód": "Személyes átvétel",
                                    "Rendelések összmennyisége": "3046"
                                },
                                {
                                    "Szállítási dátum": "2015-10-24",
                                    "Szállítási mód": "Személyes átvétel",
                                    "Rendelések összmennyisége": "2734"
                                },
                                {
                                    "Szállítási dátum": "2015-10-25",
                                    "Szállítási mód": "Személyes átvétel",
                                    "Rendelések összmennyisége": "3493"
                                },
                                {
                                    "Szállítási dátum": "2015-10-26",
                                    "Szállítási mód": "Személyes átvétel",
                                    "Rendelések összmennyisége": "2229"
                                },
                                {
                                    "Szállítási dátum": "2015-10-27",
                                    "Szállítási mód": "Személyes átvétel",
                                    "Rendelések összmennyisége": "3237"
                                },
                                {
                                    "Szállítási dátum": "2015-10-28",
                                    "Szállítási mód": "Személyes átvétel",
                                    "Rendelések összmennyisége": "1748"
                                },
                                {
                                    "Szállítási dátum": "2015-10-29",
                                    "Szállítási mód": "Személyes átvétel",
                                    "Rendelések összmennyisége": "1972"
                                },
                                {
                                    "Szállítási dátum": "2015-10-30",
                                    "Szállítási mód": "Személyes átvétel",
                                    "Rendelések összmennyisége": "2621"
                                },
                                {
                                    "Szállítási dátum": "2015-10-31",
                                    "Szállítási mód": "Személyes átvétel",
                                    "Rendelések összmennyisége": "2167"
                                },
                                {
                                    "Szállítási dátum": "2015-11-01",
                                    "Szállítási mód": "Személyes átvétel",
                                    "Rendelések összmennyisége": "2092"
                                },
                                {
                                    "Szállítási dátum": "2015-11-02",
                                    "Szállítási mód": "Személyes átvétel",
                                    "Rendelések összmennyisége": "1855"
                                },
                                {
                                    "Szállítási dátum": "2015-11-03",
                                    "Szállítási mód": "Személyes átvétel",
                                    "Rendelések összmennyisége": "3314"
                                },
                                {
                                    "Szállítási dátum": "2015-11-04",
                                    "Szállítási mód": "Személyes átvétel",
                                    "Rendelések összmennyisége": "1734"
                                },
                                {
                                    "Szállítási dátum": "2015-11-05",
                                    "Szállítási mód": "Személyes átvétel",
                                    "Rendelések összmennyisége": "2909"
                                },
                                {
                                    "Szállítási dátum": "2015-11-06",
                                    "Szállítási mód": "Személyes átvétel",
                                    "Rendelések összmennyisége": "2282"
                                },
                                {
                                    "Szállítási dátum": "2015-11-07",
                                    "Szállítási mód": "Személyes átvétel",
                                    "Rendelések összmennyisége": "1783"
                                },
                                {
                                    "Szállítási dátum": "2015-11-08",
                                    "Szállítási mód": "Személyes átvétel",
                                    "Rendelések összmennyisége": "4348"
                                },
                                {
                                    "Szállítási dátum": "2015-11-09",
                                    "Szállítási mód": "Személyes átvétel",
                                    "Rendelések összmennyisége": "2843"
                                },
                                {
                                    "Szállítási dátum": "2015-11-10",
                                    "Szállítási mód": "Személyes átvétel",
                                    "Rendelések összmennyisége": "2300"
                                },
                                {
                                    "Szállítási dátum": "2015-11-11",
                                    "Szállítási mód": "Személyes átvétel",
                                    "Rendelések összmennyisége": "4226"
                                },
                                {
                                    "Szállítási dátum": "2015-11-12",
                                    "Szállítási mód": "Személyes átvétel",
                                    "Rendelések összmennyisége": "1450"
                                },
                                {
                                    "Szállítási dátum": "2015-11-13",
                                    "Szállítási mód": "Személyes átvétel",
                                    "Rendelések összmennyisége": "2175"
                                },
                                {
                                    "Szállítási dátum": "2015-11-14",
                                    "Szállítási mód": "Személyes átvétel",
                                    "Rendelések összmennyisége": "2153"
                                },
                                {
                                    "Szállítási dátum": "2015-11-15",
                                    "Szállítási mód": "Személyes átvétel",
                                    "Rendelések összmennyisége": "1764"
                                },
                                {
                                    "Szállítási dátum": "2015-11-16",
                                    "Szállítási mód": "Személyes átvétel",
                                    "Rendelések összmennyisége": "3324"
                                },
                                {
                                    "Szállítási dátum": "2015-11-17",
                                    "Szállítási mód": "Személyes átvétel",
                                    "Rendelések összmennyisége": "1956"
                                },
                                {
                                    "Szállítási dátum": "2015-11-18",
                                    "Szállítási mód": "Személyes átvétel",
                                    "Rendelések összmennyisége": "2516"
                                },
                                {
                                    "Szállítási dátum": "2015-11-19",
                                    "Szállítási mód": "Személyes átvétel",
                                    "Rendelések összmennyisége": "1045"
                                },
                                {
                                    "Szállítási dátum": "2015-11-20",
                                    "Szállítási mód": "Személyes átvétel",
                                    "Rendelések összmennyisége": "1932"
                                },
                                {
                                    "Szállítási dátum": "2015-11-21",
                                    "Szállítási mód": "Személyes átvétel",
                                    "Rendelések összmennyisége": "2467"
                                },
                                {
                                    "Szállítási dátum": "2015-11-22",
                                    "Szállítási mód": "Személyes átvétel",
                                    "Rendelések összmennyisége": "2633"
                                },
                                {
                                    "Szállítási dátum": "2015-11-23",
                                    "Szállítási mód": "Személyes átvétel",
                                    "Rendelések összmennyisége": "2985"
                                },
                                {
                                    "Szállítási dátum": "2015-11-24",
                                    "Szállítási mód": "Személyes átvétel",
                                    "Rendelések összmennyisége": "2219"
                                },
                                {
                                    "Szállítási dátum": "2015-11-25",
                                    "Szállítási mód": "Személyes átvétel",
                                    "Rendelések összmennyisége": "1042"
                                },
                                {
                                    "Szállítási dátum": "2015-11-26",
                                    "Szállítási mód": "Személyes átvétel",
                                    "Rendelések összmennyisége": "2163"
                                },
                                {
                                    "Szállítási dátum": "2015-11-27",
                                    "Szállítási mód": "Személyes átvétel",
                                    "Rendelések összmennyisége": "1723"
                                },
                                {
                                    "Szállítási dátum": "2015-11-28",
                                    "Szállítási mód": "Személyes átvétel",
                                    "Rendelések összmennyisége": "2766"
                                },
                                {
                                    "Szállítási dátum": "2015-11-29",
                                    "Szállítási mód": "Személyes átvétel",
                                    "Rendelések összmennyisége": "1660"
                                },
                                {
                                    "Szállítási dátum": "2015-11-30",
                                    "Szállítási mód": "Személyes átvétel",
                                    "Rendelések összmennyisége": "2996"
                                },
                                {
                                    "Szállítási dátum": "2015-12-01",
                                    "Szállítási mód": "Személyes átvétel",
                                    "Rendelések összmennyisége": "2444"
                                },
                                {
                                    "Szállítási dátum": "2015-12-02",
                                    "Szállítási mód": "Személyes átvétel",
                                    "Rendelések összmennyisége": "5033"
                                },
                                {
                                    "Szállítási dátum": "2015-12-03",
                                    "Szállítási mód": "Személyes átvétel",
                                    "Rendelések összmennyisége": "2526"
                                },
                                {
                                    "Szállítási dátum": "2015-12-04",
                                    "Szállítási mód": "Személyes átvétel",
                                    "Rendelések összmennyisége": "3022"
                                },
                                {
                                    "Szállítási dátum": "2015-12-05",
                                    "Szállítási mód": "Személyes átvétel",
                                    "Rendelések összmennyisége": "1859"
                                },
                                {
                                    "Szállítási dátum": "2015-12-06",
                                    "Szállítási mód": "Személyes átvétel",
                                    "Rendelések összmennyisége": "2020"
                                },
                                {
                                    "Szállítási dátum": "2015-12-07",
                                    "Szállítási mód": "Személyes átvétel",
                                    "Rendelések összmennyisége": "4893"
                                },
                                {
                                    "Szállítási dátum": "2015-12-08",
                                    "Szállítási mód": "Személyes átvétel",
                                    "Rendelések összmennyisége": "3286"
                                },
                                {
                                    "Szállítási dátum": "2015-12-09",
                                    "Szállítási mód": "Személyes átvétel",
                                    "Rendelések összmennyisége": "2589"
                                },
                                {
                                    "Szállítási dátum": "2015-12-10",
                                    "Szállítási mód": "Személyes átvétel",
                                    "Rendelések összmennyisége": "3179"
                                },
                                {
                                    "Szállítási dátum": "2015-12-11",
                                    "Szállítási mód": "Személyes átvétel",
                                    "Rendelések összmennyisége": "2469"
                                },
                                {
                                    "Szállítási dátum": "2015-12-12",
                                    "Szállítási mód": "Személyes átvétel",
                                    "Rendelések összmennyisége": "3012"
                                },
                                {
                                    "Szállítási dátum": "2015-12-13",
                                    "Szállítási mód": "Személyes átvétel",
                                    "Rendelések összmennyisége": "1890"
                                },
                                {
                                    "Szállítási dátum": "2015-12-14",
                                    "Szállítási mód": "Személyes átvétel",
                                    "Rendelések összmennyisége": "2869"
                                },
                                {
                                    "Szállítási dátum": "2015-12-15",
                                    "Szállítási mód": "Személyes átvétel",
                                    "Rendelések összmennyisége": "2844"
                                },
                                {
                                    "Szállítási dátum": "2015-12-16",
                                    "Szállítási mód": "Személyes átvétel",
                                    "Rendelések összmennyisége": "3760"
                                },
                                {
                                    "Szállítási dátum": "2015-12-17",
                                    "Szállítási mód": "Személyes átvétel",
                                    "Rendelések összmennyisége": "1423"
                                },
                                {
                                    "Szállítási dátum": "2015-12-18",
                                    "Szállítási mód": "Személyes átvétel",
                                    "Rendelések összmennyisége": "4148"
                                },
                                {
                                    "Szállítási dátum": "2015-12-19",
                                    "Szállítási mód": "Személyes átvétel",
                                    "Rendelések összmennyisége": "2045"
                                },
                                {
                                    "Szállítási dátum": "2015-12-20",
                                    "Szállítási mód": "Személyes átvétel",
                                    "Rendelések összmennyisége": "2405"
                                },
                                {
                                    "Szállítási dátum": "2015-12-21",
                                    "Szállítási mód": "Személyes átvétel",
                                    "Rendelések összmennyisége": "2686"
                                },
                                {
                                    "Szállítási dátum": "2015-12-22",
                                    "Szállítási mód": "Személyes átvétel",
                                    "Rendelések összmennyisége": "2561"
                                },
                                {
                                    "Szállítási dátum": "2015-12-23",
                                    "Szállítási mód": "Személyes átvétel",
                                    "Rendelések összmennyisége": "3387"
                                },
                                {
                                    "Szállítási dátum": "2015-12-24",
                                    "Szállítási mód": "Személyes átvétel",
                                    "Rendelések összmennyisége": "2959"
                                },
                                {
                                    "Szállítási dátum": "2015-12-25",
                                    "Szállítási mód": "Személyes átvétel",
                                    "Rendelések összmennyisége": "1609"
                                },
                                {
                                    "Szállítási dátum": "2015-12-26",
                                    "Szállítási mód": "Személyes átvétel",
                                    "Rendelések összmennyisége": "3731"
                                },
                                {
                                    "Szállítási dátum": "2015-12-27",
                                    "Szállítási mód": "Személyes átvétel",
                                    "Rendelések összmennyisége": "2819"
                                },
                                {
                                    "Szállítási dátum": "2015-12-28",
                                    "Szállítási mód": "Személyes átvétel",
                                    "Rendelések összmennyisége": "2602"
                                },
                                {
                                    "Szállítási dátum": "2015-12-29",
                                    "Szállítási mód": "Személyes átvétel",
                                    "Rendelések összmennyisége": "2199"
                                },
                                {
                                    "Szállítási dátum": "2015-12-30",
                                    "Szállítási mód": "Személyes átvétel",
                                    "Rendelések összmennyisége": "1833"
                                },
                                {
                                    "Szállítási dátum": "2015-12-31",
                                    "Szállítási mód": "Személyes átvétel",
                                    "Rendelések összmennyisége": "3773"
                                },
                                {
                                    "Szállítási dátum": "2016-01-01",
                                    "Szállítási mód": "Személyes átvétel",
                                    "Rendelések összmennyisége": "1448"
                                },
                                {
                                    "Szállítási dátum": "2016-01-02",
                                    "Szállítási mód": "Személyes átvétel",
                                    "Rendelések összmennyisége": "2668"
                                },
                                {
                                    "Szállítási dátum": "2016-01-03",
                                    "Szállítási mód": "Személyes átvétel",
                                    "Rendelések összmennyisége": "2906"
                                },
                                {
                                    "Szállítási dátum": "2016-01-04",
                                    "Szállítási mód": "Személyes átvétel",
                                    "Rendelések összmennyisége": "3917"
                                },
                                {
                                    "Szállítási dátum": "2016-01-05",
                                    "Szállítási mód": "Személyes átvétel",
                                    "Rendelések összmennyisége": "3213"
                                },
                                {
                                    "Szállítási dátum": "2016-01-06",
                                    "Szállítási mód": "Személyes átvétel",
                                    "Rendelések összmennyisége": "1870"
                                },
                                {
                                    "Szállítási dátum": "2016-01-07",
                                    "Szállítási mód": "Személyes átvétel",
                                    "Rendelések összmennyisége": "2073"
                                },
                                {
                                    "Szállítási dátum": "2016-01-08",
                                    "Szállítási mód": "Személyes átvétel",
                                    "Rendelések összmennyisége": "2769"
                                },
                                {
                                    "Szállítási dátum": "2016-01-09",
                                    "Szállítási mód": "Személyes átvétel",
                                    "Rendelések összmennyisége": "2672"
                                },
                                {
                                    "Szállítási dátum": "2016-01-10",
                                    "Szállítási mód": "Személyes átvétel",
                                    "Rendelések összmennyisége": "2828"
                                },
                                {
                                    "Szállítási dátum": "2016-01-11",
                                    "Szállítási mód": "Személyes átvétel",
                                    "Rendelések összmennyisége": "1744"
                                },
                                {
                                    "Szállítási dátum": "2016-01-12",
                                    "Szállítási mód": "Személyes átvétel",
                                    "Rendelések összmennyisége": "1956"
                                },
                                {
                                    "Szállítási dátum": "2016-01-13",
                                    "Szállítási mód": "Személyes átvétel",
                                    "Rendelések összmennyisége": "2398"
                                },
                                {
                                    "Szállítási dátum": "2016-01-14",
                                    "Szállítási mód": "Személyes átvétel",
                                    "Rendelések összmennyisége": "3330"
                                },
                                {
                                    "Szállítási dátum": "2016-01-15",
                                    "Szállítási mód": "Személyes átvétel",
                                    "Rendelések összmennyisége": "4472"
                                },
                                {
                                    "Szállítási dátum": "2016-01-16",
                                    "Szállítási mód": "Személyes átvétel",
                                    "Rendelések összmennyisége": "1907"
                                },
                                {
                                    "Szállítási dátum": "2016-01-17",
                                    "Szállítási mód": "Személyes átvétel",
                                    "Rendelések összmennyisége": "2595"
                                },
                                {
                                    "Szállítási dátum": "2016-01-18",
                                    "Szállítási mód": "Személyes átvétel",
                                    "Rendelések összmennyisége": "1777"
                                },
                                {
                                    "Szállítási dátum": "2016-01-19",
                                    "Szállítási mód": "Személyes átvétel",
                                    "Rendelések összmennyisége": "1800"
                                },
                                {
                                    "Szállítási dátum": "2016-01-20",
                                    "Szállítási mód": "Személyes átvétel",
                                    "Rendelések összmennyisége": "3362"
                                },
                                {
                                    "Szállítási dátum": "2016-01-21",
                                    "Szállítási mód": "Személyes átvétel",
                                    "Rendelések összmennyisége": "3688"
                                },
                                {
                                    "Szállítási dátum": "2016-01-22",
                                    "Szállítási mód": "Személyes átvétel",
                                    "Rendelések összmennyisége": "3110"
                                },
                                {
                                    "Szállítási dátum": "2016-01-23",
                                    "Szállítási mód": "Személyes átvétel",
                                    "Rendelések összmennyisége": "2372"
                                },
                                {
                                    "Szállítási dátum": "2016-01-24",
                                    "Szállítási mód": "Személyes átvétel",
                                    "Rendelések összmennyisége": "3179"
                                },
                                {
                                    "Szállítási dátum": "2016-01-25",
                                    "Szállítási mód": "Személyes átvétel",
                                    "Rendelések összmennyisége": "1050"
                                },
                                {
                                    "Szállítási dátum": "2016-01-26",
                                    "Szállítási mód": "Személyes átvétel",
                                    "Rendelések összmennyisége": "1718"
                                },
                                {
                                    "Szállítási dátum": "2016-01-27",
                                    "Szállítási mód": "Személyes átvétel",
                                    "Rendelések összmennyisége": "2947"
                                },
                                {
                                    "Szállítási dátum": "2016-01-28",
                                    "Szállítási mód": "Személyes átvétel",
                                    "Rendelések összmennyisége": "3251"
                                },
                                {
                                    "Szállítási dátum": "2016-01-29",
                                    "Szállítási mód": "Személyes átvétel",
                                    "Rendelések összmennyisége": "2247"
                                },
                                {
                                    "Szállítási dátum": "2016-01-30",
                                    "Szállítási mód": "Személyes átvétel",
                                    "Rendelések összmennyisége": "979"
                                },
                                {
                                    "Szállítási dátum": "2016-01-31",
                                    "Szállítási mód": "Személyes átvétel",
                                    "Rendelések összmennyisége": "2988"
                                },
                                {
                                    "Szállítási dátum": "2016-02-01",
                                    "Szállítási mód": "Személyes átvétel",
                                    "Rendelések összmennyisége": "2029"
                                },
                                {
                                    "Szállítási dátum": "2016-02-02",
                                    "Szállítási mód": "Személyes átvétel",
                                    "Rendelések összmennyisége": "1921"
                                },
                                {
                                    "Szállítási dátum": "2016-02-03",
                                    "Szállítási mód": "Személyes átvétel",
                                    "Rendelések összmennyisége": "2648"
                                },
                                {
                                    "Szállítási dátum": "2016-02-04",
                                    "Szállítási mód": "Személyes átvétel",
                                    "Rendelések összmennyisége": "2464"
                                },
                                {
                                    "Szállítási dátum": "2016-02-05",
                                    "Szállítási mód": "Személyes átvétel",
                                    "Rendelések összmennyisége": "4169"
                                },
                                {
                                    "Szállítási dátum": "2016-02-06",
                                    "Szállítási mód": "Személyes átvétel",
                                    "Rendelések összmennyisége": "2538"
                                },
                                {
                                    "Szállítási dátum": "2016-02-07",
                                    "Szállítási mód": "Személyes átvétel",
                                    "Rendelések összmennyisége": "2222"
                                },
                                {
                                    "Szállítási dátum": "2016-02-08",
                                    "Szállítási mód": "Személyes átvétel",
                                    "Rendelések összmennyisége": "3490"
                                },
                                {
                                    "Szállítási dátum": "2016-02-09",
                                    "Szállítási mód": "Személyes átvétel",
                                    "Rendelések összmennyisége": "2660"
                                },
                                {
                                    "Szállítási dátum": "2016-02-10",
                                    "Szállítási mód": "Személyes átvétel",
                                    "Rendelések összmennyisége": "2903"
                                },
                                {
                                    "Szállítási dátum": "2016-02-11",
                                    "Szállítási mód": "Személyes átvétel",
                                    "Rendelések összmennyisége": "1228"
                                },
                                {
                                    "Szállítási dátum": "2016-02-12",
                                    "Szállítási mód": "Személyes átvétel",
                                    "Rendelések összmennyisége": "2319"
                                },
                                {
                                    "Szállítási dátum": "2016-02-13",
                                    "Szállítási mód": "Személyes átvétel",
                                    "Rendelések összmennyisége": "2868"
                                },
                                {
                                    "Szállítási dátum": "2016-02-14",
                                    "Szállítási mód": "Személyes átvétel",
                                    "Rendelések összmennyisége": "2598"
                                },
                                {
                                    "Szállítási dátum": "2016-02-15",
                                    "Szállítási mód": "Személyes átvétel",
                                    "Rendelések összmennyisége": "3560"
                                },
                                {
                                    "Szállítási dátum": "2016-02-16",
                                    "Szállítási mód": "Személyes átvétel",
                                    "Rendelések összmennyisége": "3721"
                                },
                                {
                                    "Szállítási dátum": "2016-02-17",
                                    "Szállítási mód": "Személyes átvétel",
                                    "Rendelések összmennyisége": "4318"
                                },
                                {
                                    "Szállítási dátum": "2016-02-18",
                                    "Szállítási mód": "Személyes átvétel",
                                    "Rendelések összmennyisége": "1773"
                                },
                                {
                                    "Szállítási dátum": "2016-02-19",
                                    "Szállítási mód": "Személyes átvétel",
                                    "Rendelések összmennyisége": "2902"
                                },
                                {
                                    "Szállítási dátum": "2016-02-20",
                                    "Szállítási mód": "Személyes átvétel",
                                    "Rendelések összmennyisége": "3524"
                                },
                                {
                                    "Szállítási dátum": "2016-02-21",
                                    "Szállítási mód": "Személyes átvétel",
                                    "Rendelések összmennyisége": "1516"
                                },
                                {
                                    "Szállítási dátum": "2016-02-22",
                                    "Szállítási mód": "Személyes átvétel",
                                    "Rendelések összmennyisége": "2566"
                                },
                                {
                                    "Szállítási dátum": "2016-02-23",
                                    "Szállítási mód": "Személyes átvétel",
                                    "Rendelések összmennyisége": "2855"
                                },
                                {
                                    "Szállítási dátum": "2016-02-24",
                                    "Szállítási mód": "Személyes átvétel",
                                    "Rendelések összmennyisége": "1165"
                                },
                                {
                                    "Szállítási dátum": "2016-02-25",
                                    "Szállítási mód": "Személyes átvétel",
                                    "Rendelések összmennyisége": "2560"
                                },
                                {
                                    "Szállítási dátum": "2016-02-26",
                                    "Szállítási mód": "Személyes átvétel",
                                    "Rendelések összmennyisége": "2270"
                                },
                                {
                                    "Szállítási dátum": "2016-02-27",
                                    "Szállítási mód": "Személyes átvétel",
                                    "Rendelések összmennyisége": "1693"
                                },
                                {
                                    "Szállítási dátum": "2016-02-28",
                                    "Szállítási mód": "Személyes átvétel",
                                    "Rendelések összmennyisége": "2581"
                                },
                                {
                                    "Szállítási dátum": "2016-02-29",
                                    "Szállítási mód": "Személyes átvétel",
                                    "Rendelések összmennyisége": "2991"
                                },
                                {
                                    "Szállítási dátum": "2016-03-01",
                                    "Szállítási mód": "Személyes átvétel",
                                    "Rendelések összmennyisége": "3604"
                                },
                                {
                                    "Szállítási dátum": "2016-03-02",
                                    "Szállítási mód": "Személyes átvétel",
                                    "Rendelések összmennyisége": "1376"
                                },
                                {
                                    "Szállítási dátum": "2016-03-03",
                                    "Szállítási mód": "Személyes átvétel",
                                    "Rendelések összmennyisége": "3691"
                                },
                                {
                                    "Szállítási dátum": "2016-03-04",
                                    "Szállítási mód": "Személyes átvétel",
                                    "Rendelések összmennyisége": "3016"
                                },
                                {
                                    "Szállítási dátum": "2016-03-05",
                                    "Szállítási mód": "Személyes átvétel",
                                    "Rendelések összmennyisége": "2620"
                                },
                                {
                                    "Szállítási dátum": "2016-03-06",
                                    "Szállítási mód": "Személyes átvétel",
                                    "Rendelések összmennyisége": "2181"
                                },
                                {
                                    "Szállítási dátum": "2016-03-07",
                                    "Szállítási mód": "Személyes átvétel",
                                    "Rendelések összmennyisége": "1784"
                                },
                                {
                                    "Szállítási dátum": "2016-03-08",
                                    "Szállítási mód": "Személyes átvétel",
                                    "Rendelések összmennyisége": "1838"
                                },
                                {
                                    "Szállítási dátum": "2016-03-09",
                                    "Szállítási mód": "Személyes átvétel",
                                    "Rendelések összmennyisége": "3064"
                                },
                                {
                                    "Szállítási dátum": "2016-03-10",
                                    "Szállítási mód": "Személyes átvétel",
                                    "Rendelések összmennyisége": "3708"
                                },
                                {
                                    "Szállítási dátum": "2016-03-11",
                                    "Szállítási mód": "Személyes átvétel",
                                    "Rendelések összmennyisége": "1742"
                                },
                                {
                                    "Szállítási dátum": "2016-03-12",
                                    "Szállítási mód": "Személyes átvétel",
                                    "Rendelések összmennyisége": "4471"
                                },
                                {
                                    "Szállítási dátum": "2016-03-13",
                                    "Szállítási mód": "Személyes átvétel",
                                    "Rendelések összmennyisége": "2434"
                                },
                                {
                                    "Szállítási dátum": "2016-03-14",
                                    "Szállítási mód": "Személyes átvétel",
                                    "Rendelések összmennyisége": "4003"
                                },
                                {
                                    "Szállítási dátum": "2016-03-15",
                                    "Szállítási mód": "Személyes átvétel",
                                    "Rendelések összmennyisége": "4043"
                                },
                                {
                                    "Szállítási dátum": "2016-03-16",
                                    "Szállítási mód": "Személyes átvétel",
                                    "Rendelések összmennyisége": "1651"
                                },
                                {
                                    "Szállítási dátum": "2016-03-17",
                                    "Szállítási mód": "Személyes átvétel",
                                    "Rendelések összmennyisége": "2305"
                                },
                                {
                                    "Szállítási dátum": "2016-03-18",
                                    "Szállítási mód": "Személyes átvétel",
                                    "Rendelések összmennyisége": "3604"
                                },
                                {
                                    "Szállítási dátum": "2016-03-19",
                                    "Szállítási mód": "Személyes átvétel",
                                    "Rendelések összmennyisége": "3393"
                                },
                                {
                                    "Szállítási dátum": "2016-03-20",
                                    "Szállítási mód": "Személyes átvétel",
                                    "Rendelések összmennyisége": "2866"
                                },
                                {
                                    "Szállítási dátum": "2016-03-21",
                                    "Szállítási mód": "Személyes átvétel",
                                    "Rendelések összmennyisége": "3890"
                                },
                                {
                                    "Szállítási dátum": "2016-03-22",
                                    "Szállítási mód": "Személyes átvétel",
                                    "Rendelések összmennyisége": "2132"
                                },
                                {
                                    "Szállítási dátum": "2016-03-23",
                                    "Szállítási mód": "Személyes átvétel",
                                    "Rendelések összmennyisége": "2251"
                                },
                                {
                                    "Szállítási dátum": "2016-03-24",
                                    "Szállítási mód": "Személyes átvétel",
                                    "Rendelések összmennyisége": "1902"
                                },
                                {
                                    "Szállítási dátum": "2016-03-25",
                                    "Szállítási mód": "Személyes átvétel",
                                    "Rendelések összmennyisége": "1530"
                                },
                                {
                                    "Szállítási dátum": "2016-03-26",
                                    "Szállítási mód": "Személyes átvétel",
                                    "Rendelések összmennyisége": "2109"
                                },
                                {
                                    "Szállítási dátum": "2016-03-27",
                                    "Szállítási mód": "Személyes átvétel",
                                    "Rendelések összmennyisége": "3489"
                                },
                                {
                                    "Szállítási dátum": "2016-03-28",
                                    "Szállítási mód": "Személyes átvétel",
                                    "Rendelések összmennyisége": "2939"
                                },
                                {
                                    "Szállítási dátum": "2016-03-29",
                                    "Szállítási mód": "Személyes átvétel",
                                    "Rendelések összmennyisége": "2350"
                                },
                                {
                                    "Szállítási dátum": "2016-03-30",
                                    "Szállítási mód": "Személyes átvétel",
                                    "Rendelések összmennyisége": "3302"
                                },
                                {
                                    "Szállítási dátum": "2016-03-31",
                                    "Szállítási mód": "Személyes átvétel",
                                    "Rendelések összmennyisége": "2430"
                                },
                                {
                                    "Szállítási dátum": "2016-04-01",
                                    "Szállítási mód": "Személyes átvétel",
                                    "Rendelések összmennyisége": "2630"
                                },
                                {
                                    "Szállítási dátum": "2016-04-02",
                                    "Szállítási mód": "Személyes átvétel",
                                    "Rendelések összmennyisége": "2052"
                                },
                                {
                                    "Szállítási dátum": "2016-04-03",
                                    "Szállítási mód": "Személyes átvétel",
                                    "Rendelések összmennyisége": "2635"
                                },
                                {
                                    "Szállítási dátum": "2016-04-04",
                                    "Szállítási mód": "Személyes átvétel",
                                    "Rendelések összmennyisége": "2108"
                                },
                                {
                                    "Szállítási dátum": "2016-04-05",
                                    "Szállítási mód": "Személyes átvétel",
                                    "Rendelések összmennyisége": "2495"
                                },
                                {
                                    "Szállítási dátum": "2016-04-06",
                                    "Szállítási mód": "Személyes átvétel",
                                    "Rendelések összmennyisége": "3683"
                                },
                                {
                                    "Szállítási dátum": "2016-04-07",
                                    "Szállítási mód": "Személyes átvétel",
                                    "Rendelések összmennyisége": "3044"
                                },
                                {
                                    "Szállítási dátum": "2016-04-08",
                                    "Szállítási mód": "Személyes átvétel",
                                    "Rendelések összmennyisége": "3332"
                                },
                                {
                                    "Szállítási dátum": "2016-04-09",
                                    "Szállítási mód": "Személyes átvétel",
                                    "Rendelések összmennyisége": "2843"
                                },
                                {
                                    "Szállítási dátum": "2016-04-10",
                                    "Szállítási mód": "Személyes átvétel",
                                    "Rendelések összmennyisége": "3633"
                                },
                                {
                                    "Szállítási dátum": "2016-04-11",
                                    "Szállítási mód": "Személyes átvétel",
                                    "Rendelések összmennyisége": "3866"
                                },
                                {
                                    "Szállítási dátum": "2016-04-12",
                                    "Szállítási mód": "Személyes átvétel",
                                    "Rendelések összmennyisége": "1458"
                                },
                                {
                                    "Szállítási dátum": "2016-04-13",
                                    "Szállítási mód": "Személyes átvétel",
                                    "Rendelések összmennyisége": "3363"
                                },
                                {
                                    "Szállítási dátum": "2016-04-14",
                                    "Szállítási mód": "Személyes átvétel",
                                    "Rendelések összmennyisége": "3324"
                                },
                                {
                                    "Szállítási dátum": "2016-04-15",
                                    "Szállítási mód": "Személyes átvétel",
                                    "Rendelések összmennyisége": "2289"
                                },
                                {
                                    "Szállítási dátum": "2016-04-16",
                                    "Szállítási mód": "Személyes átvétel",
                                    "Rendelések összmennyisége": "2686"
                                },
                                {
                                    "Szállítási dátum": "2016-04-17",
                                    "Szállítási mód": "Személyes átvétel",
                                    "Rendelések összmennyisége": "3972"
                                },
                                {
                                    "Szállítási dátum": "2016-04-18",
                                    "Szállítási mód": "Személyes átvétel",
                                    "Rendelések összmennyisége": "3438"
                                },
                                {
                                    "Szállítási dátum": "2016-04-19",
                                    "Szállítási mód": "Személyes átvétel",
                                    "Rendelések összmennyisége": "2843"
                                },
                                {
                                    "Szállítási dátum": "2016-04-20",
                                    "Szállítási mód": "Személyes átvétel",
                                    "Rendelések összmennyisége": "1289"
                                },
                                {
                                    "Szállítási dátum": "2016-04-21",
                                    "Szállítási mód": "Személyes átvétel",
                                    "Rendelések összmennyisége": "1572"
                                },
                                {
                                    "Szállítási dátum": "2016-04-22",
                                    "Szállítási mód": "Személyes átvétel",
                                    "Rendelések összmennyisége": "2702"
                                },
                                {
                                    "Szállítási dátum": "2016-04-23",
                                    "Szállítási mód": "Személyes átvétel",
                                    "Rendelések összmennyisége": "1281"
                                },
                                {
                                    "Szállítási dátum": "2016-04-24",
                                    "Szállítási mód": "Személyes átvétel",
                                    "Rendelések összmennyisége": "3438"
                                },
                                {
                                    "Szállítási dátum": "2016-04-25",
                                    "Szállítási mód": "Személyes átvétel",
                                    "Rendelések összmennyisége": "4515"
                                },
                                {
                                    "Szállítási dátum": "2016-04-26",
                                    "Szállítási mód": "Személyes átvétel",
                                    "Rendelések összmennyisége": "1545"
                                },
                                {
                                    "Szállítási dátum": "2016-04-27",
                                    "Szállítási mód": "Személyes átvétel",
                                    "Rendelések összmennyisége": "2263"
                                },
                                {
                                    "Szállítási dátum": "2016-04-28",
                                    "Szállítási mód": "Személyes átvétel",
                                    "Rendelések összmennyisége": "2545"
                                },
                                {
                                    "Szállítási dátum": "2016-04-29",
                                    "Szállítási mód": "Személyes átvétel",
                                    "Rendelések összmennyisége": "2511"
                                },
                                {
                                    "Szállítási dátum": "2016-04-30",
                                    "Szállítási mód": "Személyes átvétel",
                                    "Rendelések összmennyisége": "1840"
                                },
                                {
                                    "Szállítási dátum": "2016-05-01",
                                    "Szállítási mód": "Személyes átvétel",
                                    "Rendelések összmennyisége": "1799"
                                },
                                {
                                    "Szállítási dátum": "2016-05-02",
                                    "Szállítási mód": "Személyes átvétel",
                                    "Rendelések összmennyisége": "2838"
                                },
                                {
                                    "Szállítási dátum": "2016-05-03",
                                    "Szállítási mód": "Személyes átvétel",
                                    "Rendelések összmennyisége": "2527"
                                },
                                {
                                    "Szállítási dátum": "2016-05-04",
                                    "Szállítási mód": "Személyes átvétel",
                                    "Rendelések összmennyisége": "2849"
                                },
                                {
                                    "Szállítási dátum": "2016-05-05",
                                    "Szállítási mód": "Személyes átvétel",
                                    "Rendelések összmennyisége": "2526"
                                },
                                {
                                    "Szállítási dátum": "2016-05-06",
                                    "Szállítási mód": "Személyes átvétel",
                                    "Rendelések összmennyisége": "2316"
                                },
                                {
                                    "Szállítási dátum": "2016-05-07",
                                    "Szállítási mód": "Személyes átvétel",
                                    "Rendelések összmennyisége": "4067"
                                },
                                {
                                    "Szállítási dátum": "2016-05-08",
                                    "Szállítási mód": "Személyes átvétel",
                                    "Rendelések összmennyisége": "2375"
                                },
                                {
                                    "Szállítási dátum": "2016-05-09",
                                    "Szállítási mód": "Személyes átvétel",
                                    "Rendelések összmennyisége": "4986"
                                },
                                {
                                    "Szállítási dátum": "2016-05-10",
                                    "Szállítási mód": "Személyes átvétel",
                                    "Rendelések összmennyisége": "2481"
                                },
                                {
                                    "Szállítási dátum": "2016-05-11",
                                    "Szállítási mód": "Személyes átvétel",
                                    "Rendelések összmennyisége": "2136"
                                },
                                {
                                    "Szállítási dátum": "2016-05-12",
                                    "Szállítási mód": "Személyes átvétel",
                                    "Rendelések összmennyisége": "2387"
                                },
                                {
                                    "Szállítási dátum": "2016-05-13",
                                    "Szállítási mód": "Személyes átvétel",
                                    "Rendelések összmennyisége": "2313"
                                },
                                {
                                    "Szállítási dátum": "2016-05-14",
                                    "Szállítási mód": "Személyes átvétel",
                                    "Rendelések összmennyisége": "3280"
                                },
                                {
                                    "Szállítási dátum": "2016-05-15",
                                    "Szállítási mód": "Személyes átvétel",
                                    "Rendelések összmennyisége": "2140"
                                },
                                {
                                    "Szállítási dátum": "2016-05-16",
                                    "Szállítási mód": "Személyes átvétel",
                                    "Rendelések összmennyisége": "1971"
                                },
                                {
                                    "Szállítási dátum": "2016-05-17",
                                    "Szállítási mód": "Személyes átvétel",
                                    "Rendelések összmennyisége": "3828"
                                },
                                {
                                    "Szállítási dátum": "2016-05-18",
                                    "Szállítási mód": "Személyes átvétel",
                                    "Rendelések összmennyisége": "1390"
                                },
                                {
                                    "Szállítási dátum": "2016-05-19",
                                    "Szállítási mód": "Személyes átvétel",
                                    "Rendelések összmennyisége": "2161"
                                },
                                {
                                    "Szállítási dátum": "2016-05-20",
                                    "Szállítási mód": "Személyes átvétel",
                                    "Rendelések összmennyisége": "3114"
                                },
                                {
                                    "Szállítási dátum": "2016-05-21",
                                    "Szállítási mód": "Személyes átvétel",
                                    "Rendelések összmennyisége": "3130"
                                },
                                {
                                    "Szállítási dátum": "2016-05-22",
                                    "Szállítási mód": "Személyes átvétel",
                                    "Rendelések összmennyisége": "2135"
                                },
                                {
                                    "Szállítási dátum": "2016-05-23",
                                    "Szállítási mód": "Személyes átvétel",
                                    "Rendelések összmennyisége": "2799"
                                },
                                {
                                    "Szállítási dátum": "2016-05-24",
                                    "Szállítási mód": "Személyes átvétel",
                                    "Rendelések összmennyisége": "2566"
                                },
                                {
                                    "Szállítási dátum": "2016-05-25",
                                    "Szállítási mód": "Személyes átvétel",
                                    "Rendelések összmennyisége": "2922"
                                },
                                {
                                    "Szállítási dátum": "2016-05-26",
                                    "Szállítási mód": "Személyes átvétel",
                                    "Rendelések összmennyisége": "2584"
                                },
                                {
                                    "Szállítási dátum": "2016-05-27",
                                    "Szállítási mód": "Személyes átvétel",
                                    "Rendelések összmennyisége": "3401"
                                },
                                {
                                    "Szállítási dátum": "2016-05-28",
                                    "Szállítási mód": "Személyes átvétel",
                                    "Rendelések összmennyisége": "2310"
                                },
                                {
                                    "Szállítási dátum": "2016-05-29",
                                    "Szállítási mód": "Személyes átvétel",
                                    "Rendelések összmennyisége": "3120"
                                },
                                {
                                    "Szállítási dátum": "2016-05-30",
                                    "Szállítási mód": "Személyes átvétel",
                                    "Rendelések összmennyisége": "1732"
                                },
                                {
                                    "Szállítási dátum": "2016-05-31",
                                    "Szállítási mód": "Személyes átvétel",
                                    "Rendelések összmennyisége": "2386"
                                },
                                {
                                    "Szállítási dátum": "2016-06-01",
                                    "Szállítási mód": "Személyes átvétel",
                                    "Rendelések összmennyisége": "2763"
                                },
                                {
                                    "Szállítási dátum": "2016-06-02",
                                    "Szállítási mód": "Személyes átvétel",
                                    "Rendelések összmennyisége": "2798"
                                },
                                {
                                    "Szállítási dátum": "2016-06-03",
                                    "Szállítási mód": "Személyes átvétel",
                                    "Rendelések összmennyisége": "2552"
                                },
                                {
                                    "Szállítási dátum": "2016-06-04",
                                    "Szállítási mód": "Személyes átvétel",
                                    "Rendelések összmennyisége": "2468"
                                },
                                {
                                    "Szállítási dátum": "2016-06-05",
                                    "Szállítási mód": "Személyes átvétel",
                                    "Rendelések összmennyisége": "1372"
                                },
                                {
                                    "Szállítási dátum": "2016-06-06",
                                    "Szállítási mód": "Személyes átvétel",
                                    "Rendelések összmennyisége": "4341"
                                },
                                {
                                    "Szállítási dátum": "2016-06-07",
                                    "Szállítási mód": "Személyes átvétel",
                                    "Rendelések összmennyisége": "3618"
                                },
                                {
                                    "Szállítási dátum": "2016-06-08",
                                    "Szállítási mód": "Személyes átvétel",
                                    "Rendelések összmennyisége": "1742"
                                },
                                {
                                    "Szállítási dátum": "2016-06-09",
                                    "Szállítási mód": "Személyes átvétel",
                                    "Rendelések összmennyisége": "2363"
                                },
                                {
                                    "Szállítási dátum": "2016-06-10",
                                    "Szállítási mód": "Személyes átvétel",
                                    "Rendelések összmennyisége": "3267"
                                },
                                {
                                    "Szállítási dátum": "2016-06-11",
                                    "Szállítási mód": "Személyes átvétel",
                                    "Rendelések összmennyisége": "2925"
                                },
                                {
                                    "Szállítási dátum": "2016-06-12",
                                    "Szállítási mód": "Személyes átvétel",
                                    "Rendelések összmennyisége": "2296"
                                },
                                {
                                    "Szállítási dátum": "2016-06-13",
                                    "Szállítási mód": "Személyes átvétel",
                                    "Rendelések összmennyisége": "1187"
                                },
                                {
                                    "Szállítási dátum": "2016-06-14",
                                    "Szállítási mód": "Személyes átvétel",
                                    "Rendelések összmennyisége": "2527"
                                },
                                {
                                    "Szállítási dátum": "2016-06-15",
                                    "Szállítási mód": "Személyes átvétel",
                                    "Rendelések összmennyisége": "2310"
                                },
                                {
                                    "Szállítási dátum": "2016-06-16",
                                    "Szállítási mód": "Személyes átvétel",
                                    "Rendelések összmennyisége": "2170"
                                },
                                {
                                    "Szállítási dátum": "2016-06-17",
                                    "Szállítási mód": "Személyes átvétel",
                                    "Rendelések összmennyisége": "3752"
                                },
                                {
                                    "Szállítási dátum": "2016-06-18",
                                    "Szállítási mód": "Személyes átvétel",
                                    "Rendelések összmennyisége": "3049"
                                },
                                {
                                    "Szállítási dátum": "2016-06-19",
                                    "Szállítási mód": "Személyes átvétel",
                                    "Rendelések összmennyisége": "4315"
                                },
                                {
                                    "Szállítási dátum": "2016-06-20",
                                    "Szállítási mód": "Személyes átvétel",
                                    "Rendelések összmennyisége": "2640"
                                },
                                {
                                    "Szállítási dátum": "2016-06-21",
                                    "Szállítási mód": "Személyes átvétel",
                                    "Rendelések összmennyisége": "1665"
                                },
                                {
                                    "Szállítási dátum": "2016-06-22",
                                    "Szállítási mód": "Személyes átvétel",
                                    "Rendelések összmennyisége": "2704"
                                },
                                {
                                    "Szállítási dátum": "2016-06-23",
                                    "Szállítási mód": "Személyes átvétel",
                                    "Rendelések összmennyisége": "2387"
                                },
                                {
                                    "Szállítási dátum": "2016-06-24",
                                    "Szállítási mód": "Személyes átvétel",
                                    "Rendelések összmennyisége": "3484"
                                },
                                {
                                    "Szállítási dátum": "2016-06-25",
                                    "Szállítási mód": "Személyes átvétel",
                                    "Rendelések összmennyisége": "2104"
                                },
                                {
                                    "Szállítási dátum": "2016-06-26",
                                    "Szállítási mód": "Személyes átvétel",
                                    "Rendelések összmennyisége": "2990"
                                },
                                {
                                    "Szállítási dátum": "2016-06-27",
                                    "Szállítási mód": "Személyes átvétel",
                                    "Rendelések összmennyisége": "2000"
                                },
                                {
                                    "Szállítási dátum": "2016-06-28",
                                    "Szállítási mód": "Személyes átvétel",
                                    "Rendelések összmennyisége": "2993"
                                },
                                {
                                    "Szállítási dátum": "2016-06-29",
                                    "Szállítási mód": "Személyes átvétel",
                                    "Rendelések összmennyisége": "2408"
                                },
                                {
                                    "Szállítási dátum": "2016-06-30",
                                    "Szállítási mód": "Személyes átvétel",
                                    "Rendelések összmennyisége": "2272"
                                },
                                {
                                    "Szállítási dátum": "2016-07-01",
                                    "Szállítási mód": "Személyes átvétel",
                                    "Rendelések összmennyisége": "2153"
                                },
                                {
                                    "Szállítási dátum": "2016-07-02",
                                    "Szállítási mód": "Személyes átvétel",
                                    "Rendelések összmennyisége": "1935"
                                },
                                {
                                    "Szállítási dátum": "2016-07-03",
                                    "Szállítási mód": "Személyes átvétel",
                                    "Rendelések összmennyisége": "3381"
                                },
                                {
                                    "Szállítási dátum": "2016-07-04",
                                    "Szállítási mód": "Személyes átvétel",
                                    "Rendelések összmennyisége": "4295"
                                },
                                {
                                    "Szállítási dátum": "2016-07-05",
                                    "Szállítási mód": "Személyes átvétel",
                                    "Rendelések összmennyisége": "1284"
                                },
                                {
                                    "Szállítási dátum": "2016-07-06",
                                    "Szállítási mód": "Személyes átvétel",
                                    "Rendelések összmennyisége": "1688"
                                },
                                {
                                    "Szállítási dátum": "2016-07-07",
                                    "Szállítási mód": "Személyes átvétel",
                                    "Rendelések összmennyisége": "2711"
                                },
                                {
                                    "Szállítási dátum": "2016-07-08",
                                    "Szállítási mód": "Személyes átvétel",
                                    "Rendelések összmennyisége": "3583"
                                },
                                {
                                    "Szállítási dátum": "2016-07-09",
                                    "Szállítási mód": "Személyes átvétel",
                                    "Rendelések összmennyisége": "3450"
                                },
                                {
                                    "Szállítási dátum": "2016-07-10",
                                    "Szállítási mód": "Személyes átvétel",
                                    "Rendelések összmennyisége": "3248"
                                },
                                {
                                    "Szállítási dátum": "2016-07-11",
                                    "Szállítási mód": "Személyes átvétel",
                                    "Rendelések összmennyisége": "4317"
                                },
                                {
                                    "Szállítási dátum": "2016-07-12",
                                    "Szállítási mód": "Személyes átvétel",
                                    "Rendelések összmennyisége": "3020"
                                },
                                {
                                    "Szállítási dátum": "2016-07-13",
                                    "Szállítási mód": "Személyes átvétel",
                                    "Rendelések összmennyisége": "3712"
                                },
                                {
                                    "Szállítási dátum": "2016-07-14",
                                    "Szállítási mód": "Személyes átvétel",
                                    "Rendelések összmennyisége": "1512"
                                },
                                {
                                    "Szállítási dátum": "2016-07-15",
                                    "Szállítási mód": "Személyes átvétel",
                                    "Rendelések összmennyisége": "2254"
                                },
                                {
                                    "Szállítási dátum": "2016-07-16",
                                    "Szállítási mód": "Személyes átvétel",
                                    "Rendelések összmennyisége": "2247"
                                },
                                {
                                    "Szállítási dátum": "2016-07-17",
                                    "Szállítási mód": "Személyes átvétel",
                                    "Rendelések összmennyisége": "1439"
                                },
                                {
                                    "Szállítási dátum": "2016-07-18",
                                    "Szállítási mód": "Személyes átvétel",
                                    "Rendelések összmennyisége": "2733"
                                },
                                {
                                    "Szállítási dátum": "2016-07-19",
                                    "Szállítási mód": "Személyes átvétel",
                                    "Rendelések összmennyisége": "2583"
                                },
                                {
                                    "Szállítási dátum": "2016-07-20",
                                    "Szállítási mód": "Személyes átvétel",
                                    "Rendelések összmennyisége": "1876"
                                },
                                {
                                    "Szállítási dátum": "2016-07-21",
                                    "Szállítási mód": "Személyes átvétel",
                                    "Rendelések összmennyisége": "2358"
                                },
                                {
                                    "Szállítási dátum": "2016-07-22",
                                    "Szállítási mód": "Személyes átvétel",
                                    "Rendelések összmennyisége": "1624"
                                },
                                {
                                    "Szállítási dátum": "2016-07-23",
                                    "Szállítási mód": "Személyes átvétel",
                                    "Rendelések összmennyisége": "2268"
                                },
                                {
                                    "Szállítási dátum": "2016-07-24",
                                    "Szállítási mód": "Személyes átvétel",
                                    "Rendelések összmennyisége": "1957"
                                },
                                {
                                    "Szállítási dátum": "2016-07-25",
                                    "Szállítási mód": "Személyes átvétel",
                                    "Rendelések összmennyisége": "3195"
                                },
                                {
                                    "Szállítási dátum": "2016-07-26",
                                    "Szállítási mód": "Személyes átvétel",
                                    "Rendelések összmennyisége": "2224"
                                },
                                {
                                    "Szállítási dátum": "2016-07-27",
                                    "Szállítási mód": "Személyes átvétel",
                                    "Rendelések összmennyisége": "2437"
                                },
                                {
                                    "Szállítási dátum": "2016-07-28",
                                    "Szállítási mód": "Személyes átvétel",
                                    "Rendelések összmennyisége": "2895"
                                },
                                {
                                    "Szállítási dátum": "2016-07-29",
                                    "Szállítási mód": "Személyes átvétel",
                                    "Rendelések összmennyisége": "3499"
                                },
                                {
                                    "Szállítási dátum": "2016-07-30",
                                    "Szállítási mód": "Személyes átvétel",
                                    "Rendelések összmennyisége": "2309"
                                },
                                {
                                    "Szállítási dátum": "2016-07-31",
                                    "Szállítási mód": "Személyes átvétel",
                                    "Rendelések összmennyisége": "2314"
                                },
                                {
                                    "Szállítási dátum": "2016-08-01",
                                    "Szállítási mód": "Személyes átvétel",
                                    "Rendelések összmennyisége": "2383"
                                },
                                {
                                    "Szállítási dátum": "2016-08-02",
                                    "Szállítási mód": "Személyes átvétel",
                                    "Rendelések összmennyisége": "2519"
                                },
                                {
                                    "Szállítási dátum": "2016-08-03",
                                    "Szállítási mód": "Személyes átvétel",
                                    "Rendelések összmennyisége": "2291"
                                },
                                {
                                    "Szállítási dátum": "2016-08-04",
                                    "Szállítási mód": "Személyes átvétel",
                                    "Rendelések összmennyisége": "1854"
                                },
                                {
                                    "Szállítási dátum": "2016-08-05",
                                    "Szállítási mód": "Személyes átvétel",
                                    "Rendelések összmennyisége": "2033"
                                },
                                {
                                    "Szállítási dátum": "2016-08-06",
                                    "Szállítási mód": "Személyes átvétel",
                                    "Rendelések összmennyisége": "2986"
                                },
                                {
                                    "Szállítási dátum": "2016-08-07",
                                    "Szállítási mód": "Személyes átvétel",
                                    "Rendelések összmennyisége": "1888"
                                },
                                {
                                    "Szállítási dátum": "2016-08-08",
                                    "Szállítási mód": "Személyes átvétel",
                                    "Rendelések összmennyisége": "1067"
                                },
                                {
                                    "Szállítási dátum": "2016-08-09",
                                    "Szállítási mód": "Személyes átvétel",
                                    "Rendelések összmennyisége": "3256"
                                },
                                {
                                    "Szállítási dátum": "2016-08-10",
                                    "Szállítási mód": "Személyes átvétel",
                                    "Rendelések összmennyisége": "3123"
                                },
                                {
                                    "Szállítási dátum": "2016-08-11",
                                    "Szállítási mód": "Személyes átvétel",
                                    "Rendelések összmennyisége": "2536"
                                },
                                {
                                    "Szállítási dátum": "2016-08-12",
                                    "Szállítási mód": "Személyes átvétel",
                                    "Rendelések összmennyisége": "4139"
                                },
                                {
                                    "Szállítási dátum": "2016-08-13",
                                    "Szállítási mód": "Személyes átvétel",
                                    "Rendelések összmennyisége": "3046"
                                },
                                {
                                    "Szállítási dátum": "2016-08-14",
                                    "Szállítási mód": "Személyes átvétel",
                                    "Rendelések összmennyisége": "1883"
                                },
                                {
                                    "Szállítási dátum": "2016-08-15",
                                    "Szállítási mód": "Személyes átvétel",
                                    "Rendelések összmennyisége": "3242"
                                },
                                {
                                    "Szállítási dátum": "2016-08-16",
                                    "Szállítási mód": "Személyes átvétel",
                                    "Rendelések összmennyisége": "2130"
                                },
                                {
                                    "Szállítási dátum": "2016-08-17",
                                    "Szállítási mód": "Személyes átvétel",
                                    "Rendelések összmennyisége": "3283"
                                },
                                {
                                    "Szállítási dátum": "2016-08-18",
                                    "Szállítási mód": "Személyes átvétel",
                                    "Rendelések összmennyisége": "2163"
                                },
                                {
                                    "Szállítási dátum": "2016-08-19",
                                    "Szállítási mód": "Személyes átvétel",
                                    "Rendelések összmennyisége": "1443"
                                },
                                {
                                    "Szállítási dátum": "2016-08-20",
                                    "Szállítási mód": "Személyes átvétel",
                                    "Rendelések összmennyisége": "5208"
                                },
                                {
                                    "Szállítási dátum": "2016-08-21",
                                    "Szállítási mód": "Személyes átvétel",
                                    "Rendelések összmennyisége": "2558"
                                },
                                {
                                    "Szállítási dátum": "2016-08-22",
                                    "Szállítási mód": "Személyes átvétel",
                                    "Rendelések összmennyisége": "3092"
                                },
                                {
                                    "Szállítási dátum": "2016-08-23",
                                    "Szállítási mód": "Személyes átvétel",
                                    "Rendelések összmennyisége": "2505"
                                },
                                {
                                    "Szállítási dátum": "2016-08-24",
                                    "Szállítási mód": "Személyes átvétel",
                                    "Rendelések összmennyisége": "3884"
                                },
                                {
                                    "Szállítási dátum": "2016-08-25",
                                    "Szállítási mód": "Személyes átvétel",
                                    "Rendelések összmennyisége": "3110"
                                },
                                {
                                    "Szállítási dátum": "2016-08-26",
                                    "Szállítási mód": "Személyes átvétel",
                                    "Rendelések összmennyisége": "1974"
                                },
                                {
                                    "Szállítási dátum": "2016-08-27",
                                    "Szállítási mód": "Személyes átvétel",
                                    "Rendelések összmennyisége": "1625"
                                },
                                {
                                    "Szállítási dátum": "2016-08-28",
                                    "Szállítási mód": "Személyes átvétel",
                                    "Rendelések összmennyisége": "3077"
                                },
                                {
                                    "Szállítási dátum": "2016-08-29",
                                    "Szállítási mód": "Személyes átvétel",
                                    "Rendelések összmennyisége": "2748"
                                },
                                {
                                    "Szállítási dátum": "2016-08-30",
                                    "Szállítási mód": "Személyes átvétel",
                                    "Rendelések összmennyisége": "1220"
                                },
                                {
                                    "Szállítási dátum": "2016-08-31",
                                    "Szállítási mód": "Személyes átvétel",
                                    "Rendelések összmennyisége": "971"
                                },
                                {
                                    "Szállítási dátum": "2016-09-01",
                                    "Szállítási mód": "Személyes átvétel",
                                    "Rendelések összmennyisége": "2437"
                                },
                                {
                                    "Szállítási dátum": "2016-09-02",
                                    "Szállítási mód": "Személyes átvétel",
                                    "Rendelések összmennyisége": "2753"
                                },
                                {
                                    "Szállítási dátum": "2016-09-03",
                                    "Szállítási mód": "Személyes átvétel",
                                    "Rendelések összmennyisége": "3609"
                                },
                                {
                                    "Szállítási dátum": "2016-09-04",
                                    "Szállítási mód": "Személyes átvétel",
                                    "Rendelések összmennyisége": "3887"
                                },
                                {
                                    "Szállítási dátum": "2016-09-05",
                                    "Szállítási mód": "Személyes átvétel",
                                    "Rendelések összmennyisége": "1790"
                                },
                                {
                                    "Szállítási dátum": "2016-09-06",
                                    "Szállítási mód": "Személyes átvétel",
                                    "Rendelések összmennyisége": "3403"
                                },
                                {
                                    "Szállítási dátum": "2016-09-07",
                                    "Szállítási mód": "Személyes átvétel",
                                    "Rendelések összmennyisége": "3279"
                                },
                                {
                                    "Szállítási dátum": "2016-09-08",
                                    "Szállítási mód": "Személyes átvétel",
                                    "Rendelések összmennyisége": "3180"
                                },
                                {
                                    "Szállítási dátum": "2016-09-09",
                                    "Szállítási mód": "Személyes átvétel",
                                    "Rendelések összmennyisége": "1808"
                                },
                                {
                                    "Szállítási dátum": "2016-09-10",
                                    "Szállítási mód": "Személyes átvétel",
                                    "Rendelések összmennyisége": "2810"
                                },
                                {
                                    "Szállítási dátum": "2016-09-11",
                                    "Szállítási mód": "Személyes átvétel",
                                    "Rendelések összmennyisége": "4173"
                                },
                                {
                                    "Szállítási dátum": "2016-09-12",
                                    "Szállítási mód": "Személyes átvétel",
                                    "Rendelések összmennyisége": "1584"
                                },
                                {
                                    "Szállítási dátum": "2016-09-13",
                                    "Szállítási mód": "Személyes átvétel",
                                    "Rendelések összmennyisége": "2501"
                                },
                                {
                                    "Szállítási dátum": "2016-09-14",
                                    "Szállítási mód": "Személyes átvétel",
                                    "Rendelések összmennyisége": "2990"
                                },
                                {
                                    "Szállítási dátum": "2016-09-15",
                                    "Szállítási mód": "Személyes átvétel",
                                    "Rendelések összmennyisége": "3413"
                                },
                                {
                                    "Szállítási dátum": "2016-09-16",
                                    "Szállítási mód": "Személyes átvétel",
                                    "Rendelések összmennyisége": "616"
                                },
                                {
                                    "Szállítási dátum": "2016-09-17",
                                    "Szállítási mód": "Személyes átvétel",
                                    "Rendelések összmennyisége": "2797"
                                },
                                {
                                    "Szállítási dátum": "2016-09-18",
                                    "Szállítási mód": "Személyes átvétel",
                                    "Rendelések összmennyisége": "3688"
                                },
                                {
                                    "Szállítási dátum": "2016-09-19",
                                    "Szállítási mód": "Személyes átvétel",
                                    "Rendelések összmennyisége": "2717"
                                },
                                {
                                    "Szállítási dátum": "2016-09-20",
                                    "Szállítási mód": "Személyes átvétel",
                                    "Rendelések összmennyisége": "2400"
                                },
                                {
                                    "Szállítási dátum": "2016-09-21",
                                    "Szállítási mód": "Személyes átvétel",
                                    "Rendelések összmennyisége": "2000"
                                },
                                {
                                    "Szállítási dátum": "2016-09-22",
                                    "Szállítási mód": "Személyes átvétel",
                                    "Rendelések összmennyisége": "3431"
                                },
                                {
                                    "Szállítási dátum": "2016-09-23",
                                    "Szállítási mód": "Személyes átvétel",
                                    "Rendelések összmennyisége": "1520"
                                },
                                {
                                    "Szállítási dátum": "2016-09-24",
                                    "Szállítási mód": "Személyes átvétel",
                                    "Rendelések összmennyisége": "3032"
                                },
                                {
                                    "Szállítási dátum": "2016-09-25",
                                    "Szállítási mód": "Személyes átvétel",
                                    "Rendelések összmennyisége": "2058"
                                },
                                {
                                    "Szállítási dátum": "2016-09-26",
                                    "Szállítási mód": "Személyes átvétel",
                                    "Rendelések összmennyisége": "3655"
                                },
                                {
                                    "Szállítási dátum": "2016-09-27",
                                    "Szállítási mód": "Személyes átvétel",
                                    "Rendelések összmennyisége": "2859"
                                },
                                {
                                    "Szállítási dátum": "2016-09-28",
                                    "Szállítási mód": "Személyes átvétel",
                                    "Rendelések összmennyisége": "3625"
                                },
                                {
                                    "Szállítási dátum": "2016-09-29",
                                    "Szállítási mód": "Személyes átvétel",
                                    "Rendelések összmennyisége": "1664"
                                },
                                {
                                    "Szállítási dátum": "2016-09-30",
                                    "Szállítási mód": "Személyes átvétel",
                                    "Rendelések összmennyisége": "2270"
                                },
                                {
                                    "Szállítási dátum": "2016-10-01",
                                    "Szállítási mód": "Személyes átvétel",
                                    "Rendelések összmennyisége": "3403"
                                },
                                {
                                    "Szállítási dátum": "2016-10-02",
                                    "Szállítási mód": "Személyes átvétel",
                                    "Rendelések összmennyisége": "2339"
                                },
                                {
                                    "Szállítási dátum": "2016-10-03",
                                    "Szállítási mód": "Személyes átvétel",
                                    "Rendelések összmennyisége": "2453"
                                },
                                {
                                    "Szállítási dátum": "2016-10-04",
                                    "Szállítási mód": "Személyes átvétel",
                                    "Rendelések összmennyisége": "1877"
                                },
                                {
                                    "Szállítási dátum": "2016-10-05",
                                    "Szállítási mód": "Személyes átvétel",
                                    "Rendelések összmennyisége": "1630"
                                },
                                {
                                    "Szállítási dátum": "2016-10-06",
                                    "Szállítási mód": "Személyes átvétel",
                                    "Rendelések összmennyisége": "1037"
                                },
                                {
                                    "Szállítási dátum": "2016-10-07",
                                    "Szállítási mód": "Személyes átvétel",
                                    "Rendelések összmennyisége": "1541"
                                },
                                {
                                    "Szállítási dátum": "2016-10-08",
                                    "Szállítási mód": "Személyes átvétel",
                                    "Rendelések összmennyisége": "2496"
                                },
                                {
                                    "Szállítási dátum": "2016-10-09",
                                    "Szállítási mód": "Személyes átvétel",
                                    "Rendelések összmennyisége": "3833"
                                },
                                {
                                    "Szállítási dátum": "2016-10-10",
                                    "Szállítási mód": "Személyes átvétel",
                                    "Rendelések összmennyisége": "2641"
                                },
                                {
                                    "Szállítási dátum": "2016-10-11",
                                    "Szállítási mód": "Személyes átvétel",
                                    "Rendelések összmennyisége": "3644"
                                },
                                {
                                    "Szállítási dátum": "2016-10-12",
                                    "Szállítási mód": "Személyes átvétel",
                                    "Rendelések összmennyisége": "2961"
                                },
                                {
                                    "Szállítási dátum": "2016-10-13",
                                    "Szállítási mód": "Személyes átvétel",
                                    "Rendelések összmennyisége": "3531"
                                },
                                {
                                    "Szállítási dátum": "2016-10-14",
                                    "Szállítási mód": "Személyes átvétel",
                                    "Rendelések összmennyisége": "1753"
                                },
                                {
                                    "Szállítási dátum": "2016-10-15",
                                    "Szállítási mód": "Személyes átvétel",
                                    "Rendelések összmennyisége": "2975"
                                },
                                {
                                    "Szállítási dátum": "2016-10-16",
                                    "Szállítási mód": "Személyes átvétel",
                                    "Rendelések összmennyisége": "3289"
                                },
                                {
                                    "Szállítási dátum": "2016-10-17",
                                    "Szállítási mód": "Személyes átvétel",
                                    "Rendelések összmennyisége": "3142"
                                },
                                {
                                    "Szállítási dátum": "2016-10-18",
                                    "Szállítási mód": "Személyes átvétel",
                                    "Rendelések összmennyisége": "2825"
                                },
                                {
                                    "Szállítási dátum": "2016-10-19",
                                    "Szállítási mód": "Személyes átvétel",
                                    "Rendelések összmennyisége": "4107"
                                },
                                {
                                    "Szállítási dátum": "2016-10-20",
                                    "Szállítási mód": "Személyes átvétel",
                                    "Rendelések összmennyisége": "1201"
                                },
                                {
                                    "Szállítási dátum": "2016-10-21",
                                    "Szállítási mód": "Személyes átvétel",
                                    "Rendelések összmennyisége": "4038"
                                },
                                {
                                    "Szállítási dátum": "2016-10-22",
                                    "Szállítási mód": "Személyes átvétel",
                                    "Rendelések összmennyisége": "3185"
                                },
                                {
                                    "Szállítási dátum": "2016-10-23",
                                    "Szállítási mód": "Személyes átvétel",
                                    "Rendelések összmennyisége": "2458"
                                },
                                {
                                    "Szállítási dátum": "2016-10-24",
                                    "Szállítási mód": "Személyes átvétel",
                                    "Rendelések összmennyisége": "1761"
                                },
                                {
                                    "Szállítási dátum": "2016-10-25",
                                    "Szállítási mód": "Személyes átvétel",
                                    "Rendelések összmennyisége": "2659"
                                },
                                {
                                    "Szállítási dátum": "2016-10-26",
                                    "Szállítási mód": "Személyes átvétel",
                                    "Rendelések összmennyisége": "1965"
                                },
                                {
                                    "Szállítási dátum": "2016-10-27",
                                    "Szállítási mód": "Személyes átvétel",
                                    "Rendelések összmennyisége": "1920"
                                },
                                {
                                    "Szállítási dátum": "2016-10-28",
                                    "Szállítási mód": "Személyes átvétel",
                                    "Rendelések összmennyisége": "3812"
                                },
                                {
                                    "Szállítási dátum": "2016-10-29",
                                    "Szállítási mód": "Személyes átvétel",
                                    "Rendelések összmennyisége": "2337"
                                },
                                {
                                    "Szállítási dátum": "2016-10-30",
                                    "Szállítási mód": "Személyes átvétel",
                                    "Rendelések összmennyisége": "3708"
                                },
                                {
                                    "Szállítási dátum": "2016-10-31",
                                    "Szállítási mód": "Személyes átvétel",
                                    "Rendelések összmennyisége": "3800"
                                },
                                {
                                    "Szállítási dátum": "2016-11-01",
                                    "Szállítási mód": "Személyes átvétel",
                                    "Rendelések összmennyisége": "2219"
                                },
                                {
                                    "Szállítási dátum": "2016-11-02",
                                    "Szállítási mód": "Személyes átvétel",
                                    "Rendelések összmennyisége": "2026"
                                },
                                {
                                    "Szállítási dátum": "2016-11-03",
                                    "Szállítási mód": "Személyes átvétel",
                                    "Rendelések összmennyisége": "2366"
                                },
                                {
                                    "Szállítási dátum": "2016-11-04",
                                    "Szállítási mód": "Személyes átvétel",
                                    "Rendelések összmennyisége": "3170"
                                },
                                {
                                    "Szállítási dátum": "2016-11-05",
                                    "Szállítási mód": "Személyes átvétel",
                                    "Rendelések összmennyisége": "4049"
                                },
                                {
                                    "Szállítási dátum": "2016-11-06",
                                    "Szállítási mód": "Személyes átvétel",
                                    "Rendelések összmennyisége": "2991"
                                },
                                {
                                    "Szállítási dátum": "2016-11-07",
                                    "Szállítási mód": "Személyes átvétel",
                                    "Rendelések összmennyisége": "3807"
                                },
                                {
                                    "Szállítási dátum": "2016-11-08",
                                    "Szállítási mód": "Személyes átvétel",
                                    "Rendelések összmennyisége": "1931"
                                },
                                {
                                    "Szállítási dátum": "2016-11-09",
                                    "Szállítási mód": "Személyes átvétel",
                                    "Rendelések összmennyisége": "2680"
                                },
                                {
                                    "Szállítási dátum": "2016-11-10",
                                    "Szállítási mód": "Személyes átvétel",
                                    "Rendelések összmennyisége": "2297"
                                },
                                {
                                    "Szállítási dátum": "2016-11-11",
                                    "Szállítási mód": "Személyes átvétel",
                                    "Rendelések összmennyisége": "2130"
                                },
                                {
                                    "Szállítási dátum": "2016-11-12",
                                    "Szállítási mód": "Személyes átvétel",
                                    "Rendelések összmennyisége": "2576"
                                },
                                {
                                    "Szállítási dátum": "2016-11-13",
                                    "Szállítási mód": "Személyes átvétel",
                                    "Rendelések összmennyisége": "4035"
                                },
                                {
                                    "Szállítási dátum": "2016-11-14",
                                    "Szállítási mód": "Személyes átvétel",
                                    "Rendelések összmennyisége": "4260"
                                },
                                {
                                    "Szállítási dátum": "2016-11-15",
                                    "Szállítási mód": "Személyes átvétel",
                                    "Rendelések összmennyisége": "2628"
                                },
                                {
                                    "Szállítási dátum": "2016-11-16",
                                    "Szállítási mód": "Személyes átvétel",
                                    "Rendelések összmennyisége": "4566"
                                },
                                {
                                    "Szállítási dátum": "2016-11-17",
                                    "Szállítási mód": "Személyes átvétel",
                                    "Rendelések összmennyisége": "1173"
                                },
                                {
                                    "Szállítási dátum": "2016-11-18",
                                    "Szállítási mód": "Személyes átvétel",
                                    "Rendelések összmennyisége": "2642"
                                },
                                {
                                    "Szállítási dátum": "2016-11-19",
                                    "Szállítási mód": "Személyes átvétel",
                                    "Rendelések összmennyisége": "1388"
                                },
                                {
                                    "Szállítási dátum": "2016-11-20",
                                    "Szállítási mód": "Személyes átvétel",
                                    "Rendelések összmennyisége": "3893"
                                },
                                {
                                    "Szállítási dátum": "2016-11-21",
                                    "Szállítási mód": "Személyes átvétel",
                                    "Rendelések összmennyisége": "2999"
                                },
                                {
                                    "Szállítási dátum": "2016-11-22",
                                    "Szállítási mód": "Személyes átvétel",
                                    "Rendelések összmennyisége": "3335"
                                },
                                {
                                    "Szállítási dátum": "2016-11-23",
                                    "Szállítási mód": "Személyes átvétel",
                                    "Rendelések összmennyisége": "2549"
                                },
                                {
                                    "Szállítási dátum": "2016-11-24",
                                    "Szállítási mód": "Személyes átvétel",
                                    "Rendelések összmennyisége": "1603"
                                },
                                {
                                    "Szállítási dátum": "2016-11-25",
                                    "Szállítási mód": "Személyes átvétel",
                                    "Rendelések összmennyisége": "1707"
                                },
                                {
                                    "Szállítási dátum": "2016-11-26",
                                    "Szállítási mód": "Személyes átvétel",
                                    "Rendelések összmennyisége": "2990"
                                },
                                {
                                    "Szállítási dátum": "2016-11-27",
                                    "Szállítási mód": "Személyes átvétel",
                                    "Rendelések összmennyisége": "2707"
                                },
                                {
                                    "Szállítási dátum": "2016-11-28",
                                    "Szállítási mód": "Személyes átvétel",
                                    "Rendelések összmennyisége": "3525"
                                },
                                {
                                    "Szállítási dátum": "2016-11-29",
                                    "Szállítási mód": "Személyes átvétel",
                                    "Rendelések összmennyisége": "1257"
                                },
                                {
                                    "Szállítási dátum": "2016-11-30",
                                    "Szállítási mód": "Személyes átvétel",
                                    "Rendelések összmennyisége": "1664"
                                },
                                {
                                    "Szállítási dátum": "2016-12-01",
                                    "Szállítási mód": "Személyes átvétel",
                                    "Rendelések összmennyisége": "3276"
                                },
                                {
                                    "Szállítási dátum": "2016-12-02",
                                    "Szállítási mód": "Személyes átvétel",
                                    "Rendelések összmennyisége": "1411"
                                },
                                {
                                    "Szállítási dátum": "2016-12-03",
                                    "Szállítási mód": "Személyes átvétel",
                                    "Rendelések összmennyisége": "1636"
                                },
                                {
                                    "Szállítási dátum": "2016-12-04",
                                    "Szállítási mód": "Személyes átvétel",
                                    "Rendelések összmennyisége": "4721"
                                },
                                {
                                    "Szállítási dátum": "2016-12-05",
                                    "Szállítási mód": "Személyes átvétel",
                                    "Rendelések összmennyisége": "3174"
                                },
                                {
                                    "Szállítási dátum": "2016-12-06",
                                    "Szállítási mód": "Személyes átvétel",
                                    "Rendelések összmennyisége": "1990"
                                },
                                {
                                    "Szállítási dátum": "2016-12-07",
                                    "Szállítási mód": "Személyes átvétel",
                                    "Rendelések összmennyisége": "950"
                                },
                                {
                                    "Szállítási dátum": "2016-12-08",
                                    "Szállítási mód": "Személyes átvétel",
                                    "Rendelések összmennyisége": "2620"
                                },
                                {
                                    "Szállítási dátum": "2016-12-09",
                                    "Szállítási mód": "Személyes átvétel",
                                    "Rendelések összmennyisége": "2979"
                                },
                                {
                                    "Szállítási dátum": "2016-12-10",
                                    "Szállítási mód": "Személyes átvétel",
                                    "Rendelések összmennyisége": "2324"
                                },
                                {
                                    "Szállítási dátum": "2016-12-11",
                                    "Szállítási mód": "Személyes átvétel",
                                    "Rendelések összmennyisége": "1541"
                                },
                                {
                                    "Szállítási dátum": "2016-12-12",
                                    "Szállítási mód": "Személyes átvétel",
                                    "Rendelések összmennyisége": "4114"
                                },
                                {
                                    "Szállítási dátum": "2016-12-13",
                                    "Szállítási mód": "Személyes átvétel",
                                    "Rendelések összmennyisége": "2081"
                                },
                                {
                                    "Szállítási dátum": "2016-12-14",
                                    "Szállítási mód": "Személyes átvétel",
                                    "Rendelések összmennyisége": "1620"
                                },
                                {
                                    "Szállítási dátum": "2016-12-15",
                                    "Szállítási mód": "Személyes átvétel",
                                    "Rendelések összmennyisége": "2843"
                                },
                                {
                                    "Szállítási dátum": "2016-12-16",
                                    "Szállítási mód": "Személyes átvétel",
                                    "Rendelések összmennyisége": "1777"
                                },
                                {
                                    "Szállítási dátum": "2016-12-17",
                                    "Szállítási mód": "Személyes átvétel",
                                    "Rendelések összmennyisége": "2502"
                                },
                                {
                                    "Szállítási dátum": "2016-12-18",
                                    "Szállítási mód": "Személyes átvétel",
                                    "Rendelések összmennyisége": "1510"
                                },
                                {
                                    "Szállítási dátum": "2016-12-19",
                                    "Szállítási mód": "Személyes átvétel",
                                    "Rendelések összmennyisége": "1446"
                                },
                                {
                                    "Szállítási dátum": "2016-12-20",
                                    "Szállítási mód": "Személyes átvétel",
                                    "Rendelések összmennyisége": "2985"
                                },
                                {
                                    "Szállítási dátum": "2016-12-21",
                                    "Szállítási mód": "Személyes átvétel",
                                    "Rendelések összmennyisége": "4440"
                                },
                                {
                                    "Szállítási dátum": "2016-12-22",
                                    "Szállítási mód": "Személyes átvétel",
                                    "Rendelések összmennyisége": "2555"
                                },
                                {
                                    "Szállítási dátum": "2016-12-23",
                                    "Szállítási mód": "Személyes átvétel",
                                    "Rendelések összmennyisége": "2746"
                                },
                                {
                                    "Szállítási dátum": "2016-12-24",
                                    "Szállítási mód": "Személyes átvétel",
                                    "Rendelések összmennyisége": "2447"
                                },
                                {
                                    "Szállítási dátum": "2016-12-25",
                                    "Szállítási mód": "Személyes átvétel",
                                    "Rendelések összmennyisége": "3464"
                                },
                                {
                                    "Szállítási dátum": "2016-12-26",
                                    "Szállítási mód": "Személyes átvétel",
                                    "Rendelések összmennyisége": "2936"
                                },
                                {
                                    "Szállítási dátum": "2016-12-27",
                                    "Szállítási mód": "Személyes átvétel",
                                    "Rendelések összmennyisége": "3651"
                                },
                                {
                                    "Szállítási dátum": "2016-12-28",
                                    "Szállítási mód": "Személyes átvétel",
                                    "Rendelések összmennyisége": "2107"
                                },
                                {
                                    "Szállítási dátum": "2016-12-29",
                                    "Szállítási mód": "Személyes átvétel",
                                    "Rendelések összmennyisége": "3712"
                                },
                                {
                                    "Szállítási dátum": "2016-12-30",
                                    "Szállítási mód": "Személyes átvétel",
                                    "Rendelések összmennyisége": "1455"
                                },
                                {
                                    "Szállítási dátum": "2016-12-31",
                                    "Szállítási mód": "Személyes átvétel",
                                    "Rendelések összmennyisége": "2792"
                                },
                                {
                                    "Szállítási dátum": "2017-01-01",
                                    "Szállítási mód": "Személyes átvétel",
                                    "Rendelések összmennyisége": "2281"
                                },
                                {
                                    "Szállítási dátum": "2017-01-02",
                                    "Szállítási mód": "Személyes átvétel",
                                    "Rendelések összmennyisége": "2925"
                                },
                                {
                                    "Szállítási dátum": "2017-01-03",
                                    "Szállítási mód": "Személyes átvétel",
                                    "Rendelések összmennyisége": "2061"
                                },
                                {
                                    "Szállítási dátum": "2017-01-04",
                                    "Szállítási mód": "Személyes átvétel",
                                    "Rendelések összmennyisége": "1645"
                                },
                                {
                                    "Szállítási dátum": "2017-01-05",
                                    "Szállítási mód": "Személyes átvétel",
                                    "Rendelések összmennyisége": "1957"
                                },
                                {
                                    "Szállítási dátum": "2017-01-06",
                                    "Szállítási mód": "Személyes átvétel",
                                    "Rendelések összmennyisége": "3158"
                                },
                                {
                                    "Szállítási dátum": "2017-01-07",
                                    "Szállítási mód": "Személyes átvétel",
                                    "Rendelések összmennyisége": "3750"
                                },
                                {
                                    "Szállítási dátum": "2017-01-08",
                                    "Szállítási mód": "Személyes átvétel",
                                    "Rendelések összmennyisége": "2383"
                                },
                                {
                                    "Szállítási dátum": "2017-01-09",
                                    "Szállítási mód": "Személyes átvétel",
                                    "Rendelések összmennyisége": "4036"
                                },
                                {
                                    "Szállítási dátum": "2017-01-10",
                                    "Szállítási mód": "Személyes átvétel",
                                    "Rendelések összmennyisége": "3758"
                                },
                                {
                                    "Szállítási dátum": "2017-01-11",
                                    "Szállítási mód": "Személyes átvétel",
                                    "Rendelések összmennyisége": "4137"
                                },
                                {
                                    "Szállítási dátum": "2017-01-12",
                                    "Szállítási mód": "Személyes átvétel",
                                    "Rendelések összmennyisége": "2649"
                                },
                                {
                                    "Szállítási dátum": "2017-01-13",
                                    "Szállítási mód": "Személyes átvétel",
                                    "Rendelések összmennyisége": "3228"
                                },
                                {
                                    "Szállítási dátum": "2017-01-14",
                                    "Szállítási mód": "Személyes átvétel",
                                    "Rendelések összmennyisége": "3100"
                                },
                                {
                                    "Szállítási dátum": "2017-01-15",
                                    "Szállítási mód": "Személyes átvétel",
                                    "Rendelések összmennyisége": "2661"
                                },
                                {
                                    "Szállítási dátum": "2017-01-16",
                                    "Szállítási mód": "Személyes átvétel",
                                    "Rendelések összmennyisége": "1929"
                                },
                                {
                                    "Szállítási dátum": "2017-01-17",
                                    "Szállítási mód": "Személyes átvétel",
                                    "Rendelések összmennyisége": "1622"
                                },
                                {
                                    "Szállítási dátum": "2017-01-18",
                                    "Szállítási mód": "Személyes átvétel",
                                    "Rendelések összmennyisége": "2214"
                                },
                                {
                                    "Szállítási dátum": "2017-01-19",
                                    "Szállítási mód": "Személyes átvétel",
                                    "Rendelések összmennyisége": "1169"
                                },
                                {
                                    "Szállítási dátum": "2017-01-20",
                                    "Szállítási mód": "Személyes átvétel",
                                    "Rendelések összmennyisége": "3182"
                                },
                                {
                                    "Szállítási dátum": "2017-01-21",
                                    "Szállítási mód": "Személyes átvétel",
                                    "Rendelések összmennyisége": "2726"
                                },
                                {
                                    "Szállítási dátum": "2017-01-22",
                                    "Szállítási mód": "Személyes átvétel",
                                    "Rendelések összmennyisége": "2620"
                                },
                                {
                                    "Szállítási dátum": "2017-01-23",
                                    "Szállítási mód": "Személyes átvétel",
                                    "Rendelések összmennyisége": "4284"
                                },
                                {
                                    "Szállítási dátum": "2017-01-24",
                                    "Szállítási mód": "Személyes átvétel",
                                    "Rendelések összmennyisége": "3040"
                                },
                                {
                                    "Szállítási dátum": "2017-01-25",
                                    "Szállítási mód": "Személyes átvétel",
                                    "Rendelések összmennyisége": "2195"
                                },
                                {
                                    "Szállítási dátum": "2017-01-26",
                                    "Szállítási mód": "Személyes átvétel",
                                    "Rendelések összmennyisége": "3316"
                                },
                                {
                                    "Szállítási dátum": "2017-01-27",
                                    "Szállítási mód": "Személyes átvétel",
                                    "Rendelések összmennyisége": "2127"
                                },
                                {
                                    "Szállítási dátum": "2017-01-28",
                                    "Szállítási mód": "Személyes átvétel",
                                    "Rendelések összmennyisége": "4350"
                                },
                                {
                                    "Szállítási dátum": "2017-01-29",
                                    "Szállítási mód": "Személyes átvétel",
                                    "Rendelések összmennyisége": "3463"
                                },
                                {
                                    "Szállítási dátum": "2017-01-30",
                                    "Szállítási mód": "Személyes átvétel",
                                    "Rendelések összmennyisége": "3930"
                                },
                                {
                                    "Szállítási dátum": "2017-01-31",
                                    "Szállítási mód": "Személyes átvétel",
                                    "Rendelések összmennyisége": "1528"
                                },
                                {
                                    "Szállítási dátum": "2017-02-01",
                                    "Szállítási mód": "Személyes átvétel",
                                    "Rendelések összmennyisége": "1397"
                                },
                                {
                                    "Szállítási dátum": "2017-02-02",
                                    "Szállítási mód": "Személyes átvétel",
                                    "Rendelések összmennyisége": "2433"
                                },
                                {
                                    "Szállítási dátum": "2017-02-03",
                                    "Szállítási mód": "Személyes átvétel",
                                    "Rendelések összmennyisége": "1844"
                                },
                                {
                                    "Szállítási dátum": "2017-02-04",
                                    "Szállítási mód": "Személyes átvétel",
                                    "Rendelések összmennyisége": "2047"
                                },
                                {
                                    "Szállítási dátum": "2017-02-05",
                                    "Szállítási mód": "Személyes átvétel",
                                    "Rendelések összmennyisége": "1895"
                                },
                                {
                                    "Szállítási dátum": "2017-02-06",
                                    "Szállítási mód": "Személyes átvétel",
                                    "Rendelések összmennyisége": "3095"
                                },
                                {
                                    "Szállítási dátum": "2017-02-07",
                                    "Szállítási mód": "Személyes átvétel",
                                    "Rendelések összmennyisége": "2456"
                                },
                                {
                                    "Szállítási dátum": "2017-02-08",
                                    "Szállítási mód": "Személyes átvétel",
                                    "Rendelések összmennyisége": "3374"
                                },
                                {
                                    "Szállítási dátum": "2017-02-09",
                                    "Szállítási mód": "Személyes átvétel",
                                    "Rendelések összmennyisége": "3295"
                                },
                                {
                                    "Szállítási dátum": "2017-02-10",
                                    "Szállítási mód": "Személyes átvétel",
                                    "Rendelések összmennyisége": "2735"
                                },
                                {
                                    "Szállítási dátum": "2017-02-11",
                                    "Szállítási mód": "Személyes átvétel",
                                    "Rendelések összmennyisége": "3479"
                                },
                                {
                                    "Szállítási dátum": "2017-02-12",
                                    "Szállítási mód": "Személyes átvétel",
                                    "Rendelések összmennyisége": "2630"
                                },
                                {
                                    "Szállítási dátum": "2017-02-13",
                                    "Szállítási mód": "Személyes átvétel",
                                    "Rendelések összmennyisége": "3260"
                                },
                                {
                                    "Szállítási dátum": "2017-02-14",
                                    "Szállítási mód": "Személyes átvétel",
                                    "Rendelések összmennyisége": "3575"
                                },
                                {
                                    "Szállítási dátum": "2017-02-15",
                                    "Szállítási mód": "Személyes átvétel",
                                    "Rendelések összmennyisége": "2047"
                                },
                                {
                                    "Szállítási dátum": "2017-02-16",
                                    "Szállítási mód": "Személyes átvétel",
                                    "Rendelések összmennyisége": "2484"
                                },
                                {
                                    "Szállítási dátum": "2017-02-17",
                                    "Szállítási mód": "Személyes átvétel",
                                    "Rendelések összmennyisége": "2317"
                                },
                                {
                                    "Szállítási dátum": "2017-02-18",
                                    "Szállítási mód": "Személyes átvétel",
                                    "Rendelések összmennyisége": "4853"
                                },
                                {
                                    "Szállítási dátum": "2017-02-19",
                                    "Szállítási mód": "Személyes átvétel",
                                    "Rendelések összmennyisége": "4400"
                                },
                                {
                                    "Szállítási dátum": "2017-02-20",
                                    "Szállítási mód": "Személyes átvétel",
                                    "Rendelések összmennyisége": "1829"
                                },
                                {
                                    "Szállítási dátum": "2017-02-21",
                                    "Szállítási mód": "Személyes átvétel",
                                    "Rendelések összmennyisége": "2483"
                                },
                                {
                                    "Szállítási dátum": "2017-02-22",
                                    "Szállítási mód": "Személyes átvétel",
                                    "Rendelések összmennyisége": "3114"
                                },
                                {
                                    "Szállítási dátum": "2017-02-23",
                                    "Szállítási mód": "Személyes átvétel",
                                    "Rendelések összmennyisége": "1832"
                                },
                                {
                                    "Szállítási dátum": "2017-02-24",
                                    "Szállítási mód": "Személyes átvétel",
                                    "Rendelések összmennyisége": "2490"
                                },
                                {
                                    "Szállítási dátum": "2017-02-25",
                                    "Szállítási mód": "Személyes átvétel",
                                    "Rendelések összmennyisége": "1541"
                                },
                                {
                                    "Szállítási dátum": "2017-02-26",
                                    "Szállítási mód": "Személyes átvétel",
                                    "Rendelések összmennyisége": "3451"
                                },
                                {
                                    "Szállítási dátum": "2017-02-27",
                                    "Szállítási mód": "Személyes átvétel",
                                    "Rendelések összmennyisége": "3410"
                                },
                                {
                                    "Szállítási dátum": "2017-02-28",
                                    "Szállítási mód": "Személyes átvétel",
                                    "Rendelések összmennyisége": "3716"
                                },
                                {
                                    "Szállítási dátum": "2017-03-01",
                                    "Szállítási mód": "Személyes átvétel",
                                    "Rendelések összmennyisége": "2687"
                                },
                                {
                                    "Szállítási dátum": "2017-03-02",
                                    "Szállítási mód": "Személyes átvétel",
                                    "Rendelések összmennyisége": "1641"
                                },
                                {
                                    "Szállítási dátum": "2017-03-03",
                                    "Szállítási mód": "Személyes átvétel",
                                    "Rendelések összmennyisége": "2999"
                                },
                                {
                                    "Szállítási dátum": "2017-03-04",
                                    "Szállítási mód": "Személyes átvétel",
                                    "Rendelések összmennyisége": "2442"
                                },
                                {
                                    "Szállítási dátum": "2017-03-05",
                                    "Szállítási mód": "Személyes átvétel",
                                    "Rendelések összmennyisége": "3769"
                                },
                                {
                                    "Szállítási dátum": "2017-03-06",
                                    "Szállítási mód": "Személyes átvétel",
                                    "Rendelések összmennyisége": "3185"
                                },
                                {
                                    "Szállítási dátum": "2017-03-07",
                                    "Szállítási mód": "Személyes átvétel",
                                    "Rendelések összmennyisége": "2959"
                                },
                                {
                                    "Szállítási dátum": "2017-03-08",
                                    "Szállítási mód": "Személyes átvétel",
                                    "Rendelések összmennyisége": "2926"
                                },
                                {
                                    "Szállítási dátum": "2017-03-09",
                                    "Szállítási mód": "Személyes átvétel",
                                    "Rendelések összmennyisége": "2954"
                                },
                                {
                                    "Szállítási dátum": "2017-03-10",
                                    "Szállítási mód": "Személyes átvétel",
                                    "Rendelések összmennyisége": "2669"
                                },
                                {
                                    "Szállítási dátum": "2017-03-11",
                                    "Szállítási mód": "Személyes átvétel",
                                    "Rendelések összmennyisége": "1494"
                                },
                                {
                                    "Szállítási dátum": "2017-03-12",
                                    "Szállítási mód": "Személyes átvétel",
                                    "Rendelések összmennyisége": "1896"
                                },
                                {
                                    "Szállítási dátum": "2017-03-13",
                                    "Szállítási mód": "Személyes átvétel",
                                    "Rendelések összmennyisége": "1693"
                                },
                                {
                                    "Szállítási dátum": "2017-03-14",
                                    "Szállítási mód": "Személyes átvétel",
                                    "Rendelések összmennyisége": "3590"
                                },
                                {
                                    "Szállítási dátum": "2017-03-15",
                                    "Szállítási mód": "Személyes átvétel",
                                    "Rendelések összmennyisége": "3006"
                                },
                                {
                                    "Szállítási dátum": "2017-03-16",
                                    "Szállítási mód": "Személyes átvétel",
                                    "Rendelések összmennyisége": "3794"
                                },
                                {
                                    "Szállítási dátum": "2017-03-17",
                                    "Szállítási mód": "Személyes átvétel",
                                    "Rendelések összmennyisége": "3230"
                                },
                                {
                                    "Szállítási dátum": "2017-03-18",
                                    "Szállítási mód": "Személyes átvétel",
                                    "Rendelések összmennyisége": "4590"
                                },
                                {
                                    "Szállítási dátum": "2017-03-19",
                                    "Szállítási mód": "Személyes átvétel",
                                    "Rendelések összmennyisége": "3571"
                                },
                                {
                                    "Szállítási dátum": "2017-03-20",
                                    "Szállítási mód": "Személyes átvétel",
                                    "Rendelések összmennyisége": "2270"
                                },
                                {
                                    "Szállítási dátum": "2017-03-21",
                                    "Szállítási mód": "Személyes átvétel",
                                    "Rendelések összmennyisége": "3944"
                                },
                                {
                                    "Szállítási dátum": "2017-03-22",
                                    "Szállítási mód": "Személyes átvétel",
                                    "Rendelések összmennyisége": "2193"
                                },
                                {
                                    "Szállítási dátum": "2017-03-23",
                                    "Szállítási mód": "Személyes átvétel",
                                    "Rendelések összmennyisége": "2787"
                                },
                                {
                                    "Szállítási dátum": "2017-03-24",
                                    "Szállítási mód": "Személyes átvétel",
                                    "Rendelések összmennyisége": "2109"
                                },
                                {
                                    "Szállítási dátum": "2017-03-25",
                                    "Szállítási mód": "Személyes átvétel",
                                    "Rendelések összmennyisége": "1746"
                                },
                                {
                                    "Szállítási dátum": "2017-03-26",
                                    "Szállítási mód": "Személyes átvétel",
                                    "Rendelések összmennyisége": "3186"
                                },
                                {
                                    "Szállítási dátum": "2017-03-27",
                                    "Szállítási mód": "Személyes átvétel",
                                    "Rendelések összmennyisége": "2617"
                                },
                                {
                                    "Szállítási dátum": "2017-03-28",
                                    "Szállítási mód": "Személyes átvétel",
                                    "Rendelések összmennyisége": "3607"
                                },
                                {
                                    "Szállítási dátum": "2017-03-29",
                                    "Szállítási mód": "Személyes átvétel",
                                    "Rendelések összmennyisége": "2784"
                                },
                                {
                                    "Szállítási dátum": "2017-03-30",
                                    "Szállítási mód": "Személyes átvétel",
                                    "Rendelések összmennyisége": "3850"
                                },
                                {
                                    "Szállítási dátum": "2017-03-31",
                                    "Szállítási mód": "Személyes átvétel",
                                    "Rendelések összmennyisége": "2609"
                                },
                                {
                                    "Szállítási dátum": "2017-04-01",
                                    "Szállítási mód": "Személyes átvétel",
                                    "Rendelések összmennyisége": "1649"
                                },
                                {
                                    "Szállítási dátum": "2017-04-02",
                                    "Szállítási mód": "Személyes átvétel",
                                    "Rendelések összmennyisége": "3368"
                                },
                                {
                                    "Szállítási dátum": "2017-04-03",
                                    "Szállítási mód": "Személyes átvétel",
                                    "Rendelések összmennyisége": "1497"
                                },
                                {
                                    "Szállítási dátum": "2017-04-04",
                                    "Szállítási mód": "Személyes átvétel",
                                    "Rendelések összmennyisége": "2660"
                                },
                                {
                                    "Szállítási dátum": "2017-04-05",
                                    "Szállítási mód": "Személyes átvétel",
                                    "Rendelések összmennyisége": "3670"
                                },
                                {
                                    "Szállítási dátum": "2017-04-06",
                                    "Szállítási mód": "Személyes átvétel",
                                    "Rendelések összmennyisége": "1580"
                                },
                                {
                                    "Szállítási dátum": "2017-04-07",
                                    "Szállítási mód": "Személyes átvétel",
                                    "Rendelések összmennyisége": "1974"
                                },
                                {
                                    "Szállítási dátum": "2017-04-08",
                                    "Szállítási mód": "Személyes átvétel",
                                    "Rendelések összmennyisége": "1097"
                                },
                                {
                                    "Szállítási dátum": "2017-04-09",
                                    "Szállítási mód": "Személyes átvétel",
                                    "Rendelések összmennyisége": "1520"
                                },
                                {
                                    "Szállítási dátum": "2017-04-10",
                                    "Szállítási mód": "Személyes átvétel",
                                    "Rendelések összmennyisége": "390"
                                },
                                {
                                    "Szállítási dátum": "2017-04-11",
                                    "Szállítási mód": "Személyes átvétel",
                                    "Rendelések összmennyisége": "300"
                                },
                                {
                                    "Szállítási dátum": "NULL",
                                    "Szállítási mód": "Személyes átvétel",
                                    "Rendelések összmennyisége": "1902656"
                                },
                                {
                                    "Szállítási dátum": "NULL",
                                    "Szállítási mód": "NULL",
                                    "Rendelések összmennyisége": "5578316"
                                }
                            ]
                        },
                        "text/html": [
                            "<table>",
                            "<tr><th>Szállítási dátum</th><th>Szállítási mód</th><th>Rendelések összmennyisége</th></tr>",
                            "<tr><td>2015-05-03</td><td>GLS</td><td>100</td></tr>",
                            "<tr><td>2015-05-04</td><td>GLS</td><td>440</td></tr>",
                            "<tr><td>2015-05-05</td><td>GLS</td><td>1487</td></tr>",
                            "<tr><td>2015-05-06</td><td>GLS</td><td>1497</td></tr>",
                            "<tr><td>2015-05-07</td><td>GLS</td><td>1068</td></tr>",
                            "<tr><td>2015-05-08</td><td>GLS</td><td>781</td></tr>",
                            "<tr><td>2015-05-09</td><td>GLS</td><td>3429</td></tr>",
                            "<tr><td>2015-05-10</td><td>GLS</td><td>2828</td></tr>",
                            "<tr><td>2015-05-11</td><td>GLS</td><td>2278</td></tr>",
                            "<tr><td>2015-05-12</td><td>GLS</td><td>3352</td></tr>",
                            "<tr><td>2015-05-13</td><td>GLS</td><td>2185</td></tr>",
                            "<tr><td>2015-05-14</td><td>GLS</td><td>3706</td></tr>",
                            "<tr><td>2015-05-15</td><td>GLS</td><td>3101</td></tr>",
                            "<tr><td>2015-05-16</td><td>GLS</td><td>3797</td></tr>",
                            "<tr><td>2015-05-17</td><td>GLS</td><td>2433</td></tr>",
                            "<tr><td>2015-05-18</td><td>GLS</td><td>1947</td></tr>",
                            "<tr><td>2015-05-19</td><td>GLS</td><td>2936</td></tr>",
                            "<tr><td>2015-05-20</td><td>GLS</td><td>3143</td></tr>",
                            "<tr><td>2015-05-21</td><td>GLS</td><td>2429</td></tr>",
                            "<tr><td>2015-05-22</td><td>GLS</td><td>1992</td></tr>",
                            "<tr><td>2015-05-23</td><td>GLS</td><td>1686</td></tr>",
                            "<tr><td>2015-05-24</td><td>GLS</td><td>1733</td></tr>",
                            "<tr><td>2015-05-25</td><td>GLS</td><td>1340</td></tr>",
                            "<tr><td>2015-05-26</td><td>GLS</td><td>2664</td></tr>",
                            "<tr><td>2015-05-27</td><td>GLS</td><td>2253</td></tr>",
                            "<tr><td>2015-05-28</td><td>GLS</td><td>3060</td></tr>",
                            "<tr><td>2015-05-29</td><td>GLS</td><td>3967</td></tr>",
                            "<tr><td>2015-05-30</td><td>GLS</td><td>2708</td></tr>",
                            "<tr><td>2015-05-31</td><td>GLS</td><td>1774</td></tr>",
                            "<tr><td>2015-06-01</td><td>GLS</td><td>2337</td></tr>",
                            "<tr><td>2015-06-02</td><td>GLS</td><td>2309</td></tr>",
                            "<tr><td>2015-06-03</td><td>GLS</td><td>2319</td></tr>",
                            "<tr><td>2015-06-04</td><td>GLS</td><td>3419</td></tr>",
                            "<tr><td>2015-06-05</td><td>GLS</td><td>3396</td></tr>",
                            "<tr><td>2015-06-06</td><td>GLS</td><td>2721</td></tr>",
                            "<tr><td>2015-06-07</td><td>GLS</td><td>3045</td></tr>",
                            "<tr><td>2015-06-08</td><td>GLS</td><td>761</td></tr>",
                            "<tr><td>2015-06-09</td><td>GLS</td><td>2768</td></tr>",
                            "<tr><td>2015-06-10</td><td>GLS</td><td>2865</td></tr>",
                            "<tr><td>2015-06-11</td><td>GLS</td><td>1579</td></tr>",
                            "<tr><td>2015-06-12</td><td>GLS</td><td>2699</td></tr>",
                            "<tr><td>2015-06-13</td><td>GLS</td><td>2172</td></tr>",
                            "<tr><td>2015-06-14</td><td>GLS</td><td>647</td></tr>",
                            "<tr><td>2015-06-15</td><td>GLS</td><td>1893</td></tr>",
                            "<tr><td>2015-06-16</td><td>GLS</td><td>1450</td></tr>",
                            "<tr><td>2015-06-17</td><td>GLS</td><td>3347</td></tr>",
                            "<tr><td>2015-06-18</td><td>GLS</td><td>2976</td></tr>",
                            "<tr><td>2015-06-19</td><td>GLS</td><td>1794</td></tr>",
                            "<tr><td>2015-06-20</td><td>GLS</td><td>2288</td></tr>",
                            "<tr><td>2015-06-21</td><td>GLS</td><td>2270</td></tr>",
                            "<tr><td>2015-06-22</td><td>GLS</td><td>3461</td></tr>",
                            "<tr><td>2015-06-23</td><td>GLS</td><td>3764</td></tr>",
                            "<tr><td>2015-06-24</td><td>GLS</td><td>2242</td></tr>",
                            "<tr><td>2015-06-25</td><td>GLS</td><td>2772</td></tr>",
                            "<tr><td>2015-06-26</td><td>GLS</td><td>3312</td></tr>",
                            "<tr><td>2015-06-27</td><td>GLS</td><td>2574</td></tr>",
                            "<tr><td>2015-06-28</td><td>GLS</td><td>3217</td></tr>",
                            "<tr><td>2015-06-29</td><td>GLS</td><td>2701</td></tr>",
                            "<tr><td>2015-06-30</td><td>GLS</td><td>3938</td></tr>",
                            "<tr><td>2015-07-01</td><td>GLS</td><td>2280</td></tr>",
                            "<tr><td>2015-07-02</td><td>GLS</td><td>1958</td></tr>",
                            "<tr><td>2015-07-03</td><td>GLS</td><td>1707</td></tr>",
                            "<tr><td>2015-07-04</td><td>GLS</td><td>1912</td></tr>",
                            "<tr><td>2015-07-05</td><td>GLS</td><td>1792</td></tr>",
                            "<tr><td>2015-07-06</td><td>GLS</td><td>1526</td></tr>",
                            "<tr><td>2015-07-07</td><td>GLS</td><td>3315</td></tr>",
                            "<tr><td>2015-07-08</td><td>GLS</td><td>2539</td></tr>",
                            "<tr><td>2015-07-09</td><td>GLS</td><td>2997</td></tr>",
                            "<tr><td>2015-07-10</td><td>GLS</td><td>3772</td></tr>",
                            "<tr><td>2015-07-11</td><td>GLS</td><td>2549</td></tr>",
                            "<tr><td>2015-07-12</td><td>GLS</td><td>2704</td></tr>",
                            "<tr><td>2015-07-13</td><td>GLS</td><td>1226</td></tr>",
                            "<tr><td>2015-07-14</td><td>GLS</td><td>2103</td></tr>",
                            "<tr><td>2015-07-15</td><td>GLS</td><td>2277</td></tr>",
                            "<tr><td>2015-07-16</td><td>GLS</td><td>2343</td></tr>",
                            "<tr><td>2015-07-17</td><td>GLS</td><td>2650</td></tr>",
                            "<tr><td>2015-07-18</td><td>GLS</td><td>2384</td></tr>",
                            "<tr><td>2015-07-19</td><td>GLS</td><td>1481</td></tr>",
                            "<tr><td>2015-07-20</td><td>GLS</td><td>3929</td></tr>",
                            "<tr><td>2015-07-21</td><td>GLS</td><td>2806</td></tr>",
                            "<tr><td>2015-07-22</td><td>GLS</td><td>1289</td></tr>",
                            "<tr><td>2015-07-23</td><td>GLS</td><td>2564</td></tr>",
                            "<tr><td>2015-07-24</td><td>GLS</td><td>3134</td></tr>",
                            "<tr><td>2015-07-25</td><td>GLS</td><td>2355</td></tr>",
                            "<tr><td>2015-07-26</td><td>GLS</td><td>2890</td></tr>",
                            "<tr><td>2015-07-27</td><td>GLS</td><td>1450</td></tr>",
                            "<tr><td>2015-07-28</td><td>GLS</td><td>3186</td></tr>",
                            "<tr><td>2015-07-29</td><td>GLS</td><td>1607</td></tr>",
                            "<tr><td>2015-07-30</td><td>GLS</td><td>4266</td></tr>",
                            "<tr><td>2015-07-31</td><td>GLS</td><td>3425</td></tr>",
                            "<tr><td>2015-08-01</td><td>GLS</td><td>3490</td></tr>",
                            "<tr><td>2015-08-02</td><td>GLS</td><td>1417</td></tr>",
                            "<tr><td>2015-08-03</td><td>GLS</td><td>1602</td></tr>",
                            "<tr><td>2015-08-04</td><td>GLS</td><td>1315</td></tr>",
                            "<tr><td>2015-08-05</td><td>GLS</td><td>4337</td></tr>",
                            "<tr><td>2015-08-06</td><td>GLS</td><td>1722</td></tr>",
                            "<tr><td>2015-08-07</td><td>GLS</td><td>3461</td></tr>",
                            "<tr><td>2015-08-08</td><td>GLS</td><td>2367</td></tr>",
                            "<tr><td>2015-08-09</td><td>GLS</td><td>2154</td></tr>",
                            "<tr><td>2015-08-10</td><td>GLS</td><td>1696</td></tr>",
                            "<tr><td>2015-08-11</td><td>GLS</td><td>2203</td></tr>",
                            "<tr><td>2015-08-12</td><td>GLS</td><td>3462</td></tr>",
                            "<tr><td>2015-08-13</td><td>GLS</td><td>4241</td></tr>",
                            "<tr><td>2015-08-14</td><td>GLS</td><td>3337</td></tr>",
                            "<tr><td>2015-08-15</td><td>GLS</td><td>2525</td></tr>",
                            "<tr><td>2015-08-16</td><td>GLS</td><td>1424</td></tr>",
                            "<tr><td>2015-08-17</td><td>GLS</td><td>1952</td></tr>",
                            "<tr><td>2015-08-18</td><td>GLS</td><td>1792</td></tr>",
                            "<tr><td>2015-08-19</td><td>GLS</td><td>1393</td></tr>",
                            "<tr><td>2015-08-20</td><td>GLS</td><td>3081</td></tr>",
                            "<tr><td>2015-08-21</td><td>GLS</td><td>2954</td></tr>",
                            "<tr><td>2015-08-22</td><td>GLS</td><td>3372</td></tr>",
                            "<tr><td>2015-08-23</td><td>GLS</td><td>1799</td></tr>",
                            "<tr><td>2015-08-24</td><td>GLS</td><td>2266</td></tr>",
                            "<tr><td>2015-08-25</td><td>GLS</td><td>2238</td></tr>",
                            "<tr><td>2015-08-26</td><td>GLS</td><td>4775</td></tr>",
                            "<tr><td>2015-08-27</td><td>GLS</td><td>2750</td></tr>",
                            "<tr><td>2015-08-28</td><td>GLS</td><td>2808</td></tr>",
                            "<tr><td>2015-08-29</td><td>GLS</td><td>2158</td></tr>",
                            "<tr><td>2015-08-30</td><td>GLS</td><td>3739</td></tr>",
                            "<tr><td>2015-08-31</td><td>GLS</td><td>3334</td></tr>",
                            "<tr><td>2015-09-01</td><td>GLS</td><td>2486</td></tr>",
                            "<tr><td>2015-09-02</td><td>GLS</td><td>2811</td></tr>",
                            "<tr><td>2015-09-03</td><td>GLS</td><td>3060</td></tr>",
                            "<tr><td>2015-09-04</td><td>GLS</td><td>2441</td></tr>",
                            "<tr><td>2015-09-05</td><td>GLS</td><td>944</td></tr>",
                            "<tr><td>2015-09-06</td><td>GLS</td><td>2276</td></tr>",
                            "<tr><td>2015-09-07</td><td>GLS</td><td>1130</td></tr>",
                            "<tr><td>2015-09-08</td><td>GLS</td><td>2495</td></tr>",
                            "<tr><td>2015-09-09</td><td>GLS</td><td>2587</td></tr>",
                            "<tr><td>2015-09-10</td><td>GLS</td><td>3764</td></tr>",
                            "<tr><td>2015-09-11</td><td>GLS</td><td>3097</td></tr>",
                            "<tr><td>2015-09-12</td><td>GLS</td><td>1426</td></tr>",
                            "<tr><td>2015-09-13</td><td>GLS</td><td>2760</td></tr>",
                            "<tr><td>2015-09-14</td><td>GLS</td><td>2545</td></tr>",
                            "<tr><td>2015-09-15</td><td>GLS</td><td>892</td></tr>",
                            "<tr><td>2015-09-16</td><td>GLS</td><td>3016</td></tr>",
                            "<tr><td>2015-09-17</td><td>GLS</td><td>2618</td></tr>",
                            "<tr><td>2015-09-18</td><td>GLS</td><td>2126</td></tr>",
                            "<tr><td>2015-09-19</td><td>GLS</td><td>2869</td></tr>",
                            "<tr><td>2015-09-20</td><td>GLS</td><td>3815</td></tr>",
                            "<tr><td>2015-09-21</td><td>GLS</td><td>2370</td></tr>",
                            "<tr><td>2015-09-22</td><td>GLS</td><td>868</td></tr>",
                            "<tr><td>2015-09-23</td><td>GLS</td><td>3100</td></tr>",
                            "<tr><td>2015-09-24</td><td>GLS</td><td>2958</td></tr>",
                            "<tr><td>2015-09-25</td><td>GLS</td><td>2630</td></tr>",
                            "<tr><td>2015-09-26</td><td>GLS</td><td>2532</td></tr>",
                            "<tr><td>2015-09-27</td><td>GLS</td><td>2446</td></tr>",
                            "<tr><td>2015-09-28</td><td>GLS</td><td>1853</td></tr>",
                            "<tr><td>2015-09-29</td><td>GLS</td><td>3805</td></tr>",
                            "<tr><td>2015-09-30</td><td>GLS</td><td>1530</td></tr>",
                            "<tr><td>2015-10-01</td><td>GLS</td><td>2190</td></tr>",
                            "<tr><td>2015-10-02</td><td>GLS</td><td>1474</td></tr>",
                            "<tr><td>2015-10-03</td><td>GLS</td><td>2210</td></tr>",
                            "<tr><td>2015-10-04</td><td>GLS</td><td>2601</td></tr>",
                            "<tr><td>2015-10-05</td><td>GLS</td><td>3255</td></tr>",
                            "<tr><td>2015-10-06</td><td>GLS</td><td>2743</td></tr>",
                            "<tr><td>2015-10-07</td><td>GLS</td><td>3053</td></tr>",
                            "<tr><td>2015-10-08</td><td>GLS</td><td>2867</td></tr>",
                            "<tr><td>2015-10-09</td><td>GLS</td><td>2597</td></tr>",
                            "<tr><td>2015-10-10</td><td>GLS</td><td>2399</td></tr>",
                            "<tr><td>2015-10-11</td><td>GLS</td><td>2230</td></tr>",
                            "<tr><td>2015-10-12</td><td>GLS</td><td>5885</td></tr>",
                            "<tr><td>2015-10-13</td><td>GLS</td><td>1771</td></tr>",
                            "<tr><td>2015-10-14</td><td>GLS</td><td>2563</td></tr>",
                            "<tr><td>2015-10-15</td><td>GLS</td><td>3155</td></tr>",
                            "<tr><td>2015-10-16</td><td>GLS</td><td>3481</td></tr>",
                            "<tr><td>2015-10-17</td><td>GLS</td><td>2486</td></tr>",
                            "<tr><td>2015-10-18</td><td>GLS</td><td>3564</td></tr>",
                            "<tr><td>2015-10-19</td><td>GLS</td><td>3152</td></tr>",
                            "<tr><td>2015-10-20</td><td>GLS</td><td>2492</td></tr>",
                            "<tr><td>2015-10-21</td><td>GLS</td><td>2589</td></tr>",
                            "<tr><td>2015-10-22</td><td>GLS</td><td>1120</td></tr>",
                            "<tr><td>2015-10-23</td><td>GLS</td><td>3551</td></tr>",
                            "<tr><td>2015-10-24</td><td>GLS</td><td>1673</td></tr>",
                            "<tr><td>2015-10-25</td><td>GLS</td><td>3282</td></tr>",
                            "<tr><td>2015-10-26</td><td>GLS</td><td>3628</td></tr>",
                            "<tr><td>2015-10-27</td><td>GLS</td><td>1509</td></tr>",
                            "<tr><td>2015-10-28</td><td>GLS</td><td>2906</td></tr>",
                            "<tr><td>2015-10-29</td><td>GLS</td><td>2471</td></tr>",
                            "<tr><td>2015-10-30</td><td>GLS</td><td>2959</td></tr>",
                            "<tr><td>2015-10-31</td><td>GLS</td><td>2058</td></tr>",
                            "<tr><td>2015-11-01</td><td>GLS</td><td>3550</td></tr>",
                            "<tr><td>2015-11-02</td><td>GLS</td><td>2266</td></tr>",
                            "<tr><td>2015-11-03</td><td>GLS</td><td>4588</td></tr>",
                            "<tr><td>2015-11-04</td><td>GLS</td><td>1889</td></tr>",
                            "<tr><td>2015-11-05</td><td>GLS</td><td>1806</td></tr>",
                            "<tr><td>2015-11-06</td><td>GLS</td><td>3185</td></tr>",
                            "<tr><td>2015-11-07</td><td>GLS</td><td>3178</td></tr>",
                            "<tr><td>2015-11-08</td><td>GLS</td><td>1478</td></tr>",
                            "<tr><td>2015-11-09</td><td>GLS</td><td>3918</td></tr>",
                            "<tr><td>2015-11-10</td><td>GLS</td><td>3392</td></tr>",
                            "<tr><td>2015-11-11</td><td>GLS</td><td>3295</td></tr>",
                            "<tr><td>2015-11-12</td><td>GLS</td><td>2687</td></tr>",
                            "<tr><td>2015-11-13</td><td>GLS</td><td>3281</td></tr>",
                            "<tr><td>2015-11-14</td><td>GLS</td><td>2437</td></tr>",
                            "<tr><td>2015-11-15</td><td>GLS</td><td>3000</td></tr>",
                            "<tr><td>2015-11-16</td><td>GLS</td><td>2104</td></tr>",
                            "<tr><td>2015-11-17</td><td>GLS</td><td>2122</td></tr>",
                            "<tr><td>2015-11-18</td><td>GLS</td><td>2654</td></tr>",
                            "<tr><td>2015-11-19</td><td>GLS</td><td>1537</td></tr>",
                            "<tr><td>2015-11-20</td><td>GLS</td><td>3342</td></tr>",
                            "<tr><td>2015-11-21</td><td>GLS</td><td>2086</td></tr>",
                            "<tr><td>2015-11-22</td><td>GLS</td><td>2948</td></tr>",
                            "<tr><td>2015-11-23</td><td>GLS</td><td>2754</td></tr>",
                            "<tr><td>2015-11-24</td><td>GLS</td><td>3601</td></tr>",
                            "<tr><td>2015-11-25</td><td>GLS</td><td>2751</td></tr>",
                            "<tr><td>2015-11-26</td><td>GLS</td><td>2355</td></tr>",
                            "<tr><td>2015-11-27</td><td>GLS</td><td>2190</td></tr>",
                            "<tr><td>2015-11-28</td><td>GLS</td><td>3149</td></tr>",
                            "<tr><td>2015-11-29</td><td>GLS</td><td>2567</td></tr>",
                            "<tr><td>2015-11-30</td><td>GLS</td><td>1862</td></tr>",
                            "<tr><td>2015-12-01</td><td>GLS</td><td>2249</td></tr>",
                            "<tr><td>2015-12-02</td><td>GLS</td><td>2837</td></tr>",
                            "<tr><td>2015-12-03</td><td>GLS</td><td>4730</td></tr>",
                            "<tr><td>2015-12-04</td><td>GLS</td><td>2741</td></tr>",
                            "<tr><td>2015-12-05</td><td>GLS</td><td>3135</td></tr>",
                            "<tr><td>2015-12-06</td><td>GLS</td><td>2230</td></tr>",
                            "<tr><td>2015-12-07</td><td>GLS</td><td>1994</td></tr>",
                            "<tr><td>2015-12-08</td><td>GLS</td><td>1639</td></tr>",
                            "<tr><td>2015-12-09</td><td>GLS</td><td>2863</td></tr>",
                            "<tr><td>2015-12-10</td><td>GLS</td><td>3319</td></tr>",
                            "<tr><td>2015-12-11</td><td>GLS</td><td>2404</td></tr>",
                            "<tr><td>2015-12-12</td><td>GLS</td><td>3083</td></tr>",
                            "<tr><td>2015-12-13</td><td>GLS</td><td>1705</td></tr>",
                            "<tr><td>2015-12-14</td><td>GLS</td><td>1411</td></tr>",
                            "<tr><td>2015-12-15</td><td>GLS</td><td>2166</td></tr>",
                            "<tr><td>2015-12-16</td><td>GLS</td><td>1558</td></tr>",
                            "<tr><td>2015-12-17</td><td>GLS</td><td>2813</td></tr>",
                            "<tr><td>2015-12-18</td><td>GLS</td><td>3590</td></tr>",
                            "<tr><td>2015-12-19</td><td>GLS</td><td>2004</td></tr>",
                            "<tr><td>2015-12-20</td><td>GLS</td><td>3956</td></tr>",
                            "<tr><td>2015-12-21</td><td>GLS</td><td>1824</td></tr>",
                            "<tr><td>2015-12-22</td><td>GLS</td><td>3230</td></tr>",
                            "<tr><td>2015-12-23</td><td>GLS</td><td>2549</td></tr>",
                            "<tr><td>2015-12-24</td><td>GLS</td><td>2880</td></tr>",
                            "<tr><td>2015-12-25</td><td>GLS</td><td>1947</td></tr>",
                            "<tr><td>2015-12-26</td><td>GLS</td><td>2572</td></tr>",
                            "<tr><td>2015-12-27</td><td>GLS</td><td>2065</td></tr>",
                            "<tr><td>2015-12-28</td><td>GLS</td><td>1417</td></tr>",
                            "<tr><td>2015-12-29</td><td>GLS</td><td>3524</td></tr>",
                            "<tr><td>2015-12-30</td><td>GLS</td><td>2230</td></tr>",
                            "<tr><td>2015-12-31</td><td>GLS</td><td>1811</td></tr>",
                            "<tr><td>2016-01-01</td><td>GLS</td><td>4221</td></tr>",
                            "<tr><td>2016-01-02</td><td>GLS</td><td>3035</td></tr>",
                            "<tr><td>2016-01-03</td><td>GLS</td><td>2538</td></tr>",
                            "<tr><td>2016-01-04</td><td>GLS</td><td>2357</td></tr>",
                            "<tr><td>2016-01-05</td><td>GLS</td><td>1035</td></tr>",
                            "<tr><td>2016-01-06</td><td>GLS</td><td>1840</td></tr>",
                            "<tr><td>2016-01-07</td><td>GLS</td><td>1870</td></tr>",
                            "<tr><td>2016-01-08</td><td>GLS</td><td>3106</td></tr>",
                            "<tr><td>2016-01-09</td><td>GLS</td><td>1442</td></tr>",
                            "<tr><td>2016-01-10</td><td>GLS</td><td>3341</td></tr>",
                            "<tr><td>2016-01-11</td><td>GLS</td><td>3427</td></tr>",
                            "<tr><td>2016-01-12</td><td>GLS</td><td>1994</td></tr>",
                            "<tr><td>2016-01-13</td><td>GLS</td><td>2923</td></tr>",
                            "<tr><td>2016-01-14</td><td>GLS</td><td>2843</td></tr>",
                            "<tr><td>2016-01-15</td><td>GLS</td><td>3047</td></tr>",
                            "<tr><td>2016-01-16</td><td>GLS</td><td>2880</td></tr>",
                            "<tr><td>2016-01-17</td><td>GLS</td><td>2473</td></tr>",
                            "<tr><td>2016-01-18</td><td>GLS</td><td>1450</td></tr>",
                            "<tr><td>2016-01-19</td><td>GLS</td><td>1830</td></tr>",
                            "<tr><td>2016-01-20</td><td>GLS</td><td>2230</td></tr>",
                            "<tr><td>2016-01-21</td><td>GLS</td><td>3583</td></tr>",
                            "<tr><td>2016-01-22</td><td>GLS</td><td>2624</td></tr>",
                            "<tr><td>2016-01-23</td><td>GLS</td><td>1298</td></tr>",
                            "<tr><td>2016-01-24</td><td>GLS</td><td>2204</td></tr>",
                            "<tr><td>2016-01-25</td><td>GLS</td><td>2345</td></tr>",
                            "<tr><td>2016-01-26</td><td>GLS</td><td>2008</td></tr>",
                            "<tr><td>2016-01-27</td><td>GLS</td><td>1122</td></tr>",
                            "<tr><td>2016-01-28</td><td>GLS</td><td>2477</td></tr>",
                            "<tr><td>2016-01-29</td><td>GLS</td><td>2044</td></tr>",
                            "<tr><td>2016-01-30</td><td>GLS</td><td>3167</td></tr>",
                            "<tr><td>2016-01-31</td><td>GLS</td><td>2991</td></tr>",
                            "<tr><td>2016-02-01</td><td>GLS</td><td>4247</td></tr>",
                            "<tr><td>2016-02-02</td><td>GLS</td><td>3709</td></tr>",
                            "<tr><td>2016-02-03</td><td>GLS</td><td>4381</td></tr>",
                            "<tr><td>2016-02-04</td><td>GLS</td><td>3375</td></tr>",
                            "<tr><td>2016-02-05</td><td>GLS</td><td>2098</td></tr>",
                            "<tr><td>2016-02-06</td><td>GLS</td><td>3354</td></tr>",
                            "<tr><td>2016-02-07</td><td>GLS</td><td>2078</td></tr>",
                            "<tr><td>2016-02-08</td><td>GLS</td><td>3318</td></tr>",
                            "<tr><td>2016-02-09</td><td>GLS</td><td>4984</td></tr>",
                            "<tr><td>2016-02-10</td><td>GLS</td><td>3040</td></tr>",
                            "<tr><td>2016-02-11</td><td>GLS</td><td>2703</td></tr>",
                            "<tr><td>2016-02-12</td><td>GLS</td><td>2380</td></tr>",
                            "<tr><td>2016-02-13</td><td>GLS</td><td>3110</td></tr>",
                            "<tr><td>2016-02-14</td><td>GLS</td><td>2230</td></tr>",
                            "<tr><td>2016-02-15</td><td>GLS</td><td>3255</td></tr>",
                            "<tr><td>2016-02-16</td><td>GLS</td><td>2110</td></tr>",
                            "<tr><td>2016-02-17</td><td>GLS</td><td>3815</td></tr>",
                            "<tr><td>2016-02-18</td><td>GLS</td><td>2610</td></tr>",
                            "<tr><td>2016-02-19</td><td>GLS</td><td>2952</td></tr>",
                            "<tr><td>2016-02-20</td><td>GLS</td><td>1908</td></tr>",
                            "<tr><td>2016-02-21</td><td>GLS</td><td>2898</td></tr>",
                            "<tr><td>2016-02-22</td><td>GLS</td><td>2631</td></tr>",
                            "<tr><td>2016-02-23</td><td>GLS</td><td>1936</td></tr>",
                            "<tr><td>2016-02-24</td><td>GLS</td><td>2491</td></tr>",
                            "<tr><td>2016-02-25</td><td>GLS</td><td>3178</td></tr>",
                            "<tr><td>2016-02-26</td><td>GLS</td><td>3735</td></tr>",
                            "<tr><td>2016-02-27</td><td>GLS</td><td>2096</td></tr>",
                            "<tr><td>2016-02-28</td><td>GLS</td><td>2995</td></tr>",
                            "<tr><td>2016-02-29</td><td>GLS</td><td>2303</td></tr>",
                            "<tr><td>2016-03-01</td><td>GLS</td><td>3350</td></tr>",
                            "<tr><td>2016-03-02</td><td>GLS</td><td>3571</td></tr>",
                            "<tr><td>2016-03-03</td><td>GLS</td><td>2442</td></tr>",
                            "<tr><td>2016-03-04</td><td>GLS</td><td>2617</td></tr>",
                            "<tr><td>2016-03-05</td><td>GLS</td><td>3452</td></tr>",
                            "<tr><td>2016-03-06</td><td>GLS</td><td>3679</td></tr>",
                            "<tr><td>2016-03-07</td><td>GLS</td><td>3368</td></tr>",
                            "<tr><td>2016-03-08</td><td>GLS</td><td>1530</td></tr>",
                            "<tr><td>2016-03-09</td><td>GLS</td><td>3874</td></tr>",
                            "<tr><td>2016-03-10</td><td>GLS</td><td>1592</td></tr>",
                            "<tr><td>2016-03-11</td><td>GLS</td><td>2487</td></tr>",
                            "<tr><td>2016-03-12</td><td>GLS</td><td>2585</td></tr>",
                            "<tr><td>2016-03-13</td><td>GLS</td><td>2058</td></tr>",
                            "<tr><td>2016-03-14</td><td>GLS</td><td>1809</td></tr>",
                            "<tr><td>2016-03-15</td><td>GLS</td><td>1332</td></tr>",
                            "<tr><td>2016-03-16</td><td>GLS</td><td>2827</td></tr>",
                            "<tr><td>2016-03-17</td><td>GLS</td><td>3893</td></tr>",
                            "<tr><td>2016-03-18</td><td>GLS</td><td>1516</td></tr>",
                            "<tr><td>2016-03-19</td><td>GLS</td><td>1559</td></tr>",
                            "<tr><td>2016-03-20</td><td>GLS</td><td>3620</td></tr>",
                            "<tr><td>2016-03-21</td><td>GLS</td><td>4162</td></tr>",
                            "<tr><td>2016-03-22</td><td>GLS</td><td>2838</td></tr>",
                            "<tr><td>2016-03-23</td><td>GLS</td><td>1207</td></tr>",
                            "<tr><td>2016-03-24</td><td>GLS</td><td>2883</td></tr>",
                            "<tr><td>2016-03-25</td><td>GLS</td><td>3057</td></tr>",
                            "<tr><td>2016-03-26</td><td>GLS</td><td>4028</td></tr>",
                            "<tr><td>2016-03-27</td><td>GLS</td><td>3391</td></tr>",
                            "<tr><td>2016-03-28</td><td>GLS</td><td>2403</td></tr>",
                            "<tr><td>2016-03-29</td><td>GLS</td><td>2331</td></tr>",
                            "<tr><td>2016-03-30</td><td>GLS</td><td>2565</td></tr>",
                            "<tr><td>2016-03-31</td><td>GLS</td><td>2320</td></tr>",
                            "<tr><td>2016-04-01</td><td>GLS</td><td>3365</td></tr>",
                            "<tr><td>2016-04-02</td><td>GLS</td><td>1875</td></tr>",
                            "<tr><td>2016-04-03</td><td>GLS</td><td>744</td></tr>",
                            "<tr><td>2016-04-04</td><td>GLS</td><td>1914</td></tr>",
                            "<tr><td>2016-04-05</td><td>GLS</td><td>2876</td></tr>",
                            "<tr><td>2016-04-06</td><td>GLS</td><td>1799</td></tr>",
                            "<tr><td>2016-04-07</td><td>GLS</td><td>3852</td></tr>",
                            "<tr><td>2016-04-08</td><td>GLS</td><td>3661</td></tr>",
                            "<tr><td>2016-04-09</td><td>GLS</td><td>3938</td></tr>",
                            "<tr><td>2016-04-10</td><td>GLS</td><td>3333</td></tr>",
                            "<tr><td>2016-04-11</td><td>GLS</td><td>2617</td></tr>",
                            "<tr><td>2016-04-12</td><td>GLS</td><td>2973</td></tr>",
                            "<tr><td>2016-04-13</td><td>GLS</td><td>2726</td></tr>",
                            "<tr><td>2016-04-14</td><td>GLS</td><td>2574</td></tr>",
                            "<tr><td>2016-04-15</td><td>GLS</td><td>2550</td></tr>",
                            "<tr><td>2016-04-16</td><td>GLS</td><td>3591</td></tr>",
                            "<tr><td>2016-04-17</td><td>GLS</td><td>2805</td></tr>",
                            "<tr><td>2016-04-18</td><td>GLS</td><td>2099</td></tr>",
                            "<tr><td>2016-04-19</td><td>GLS</td><td>2579</td></tr>",
                            "<tr><td>2016-04-20</td><td>GLS</td><td>2410</td></tr>",
                            "<tr><td>2016-04-21</td><td>GLS</td><td>1349</td></tr>",
                            "<tr><td>2016-04-22</td><td>GLS</td><td>1790</td></tr>",
                            "<tr><td>2016-04-23</td><td>GLS</td><td>2537</td></tr>",
                            "<tr><td>2016-04-24</td><td>GLS</td><td>2703</td></tr>",
                            "<tr><td>2016-04-25</td><td>GLS</td><td>2920</td></tr>",
                            "<tr><td>2016-04-26</td><td>GLS</td><td>2548</td></tr>",
                            "<tr><td>2016-04-27</td><td>GLS</td><td>2848</td></tr>",
                            "<tr><td>2016-04-28</td><td>GLS</td><td>2607</td></tr>",
                            "<tr><td>2016-04-29</td><td>GLS</td><td>3451</td></tr>",
                            "<tr><td>2016-04-30</td><td>GLS</td><td>2937</td></tr>",
                            "<tr><td>2016-05-01</td><td>GLS</td><td>1601</td></tr>",
                            "<tr><td>2016-05-02</td><td>GLS</td><td>2862</td></tr>",
                            "<tr><td>2016-05-03</td><td>GLS</td><td>756</td></tr>",
                            "<tr><td>2016-05-04</td><td>GLS</td><td>3737</td></tr>",
                            "<tr><td>2016-05-05</td><td>GLS</td><td>3377</td></tr>",
                            "<tr><td>2016-05-06</td><td>GLS</td><td>3478</td></tr>",
                            "<tr><td>2016-05-07</td><td>GLS</td><td>1440</td></tr>",
                            "<tr><td>2016-05-08</td><td>GLS</td><td>3516</td></tr>",
                            "<tr><td>2016-05-09</td><td>GLS</td><td>3019</td></tr>",
                            "<tr><td>2016-05-10</td><td>GLS</td><td>2693</td></tr>",
                            "<tr><td>2016-05-11</td><td>GLS</td><td>2054</td></tr>",
                            "<tr><td>2016-05-12</td><td>GLS</td><td>3862</td></tr>",
                            "<tr><td>2016-05-13</td><td>GLS</td><td>2150</td></tr>",
                            "<tr><td>2016-05-14</td><td>GLS</td><td>2190</td></tr>",
                            "<tr><td>2016-05-15</td><td>GLS</td><td>2420</td></tr>",
                            "<tr><td>2016-05-16</td><td>GLS</td><td>4363</td></tr>",
                            "<tr><td>2016-05-17</td><td>GLS</td><td>1265</td></tr>",
                            "<tr><td>2016-05-18</td><td>GLS</td><td>2453</td></tr>",
                            "<tr><td>2016-05-19</td><td>GLS</td><td>1399</td></tr>",
                            "<tr><td>2016-05-20</td><td>GLS</td><td>3340</td></tr>",
                            "<tr><td>2016-05-21</td><td>GLS</td><td>3148</td></tr>",
                            "<tr><td>2016-05-22</td><td>GLS</td><td>940</td></tr>",
                            "<tr><td>2016-05-23</td><td>GLS</td><td>3028</td></tr>",
                            "<tr><td>2016-05-24</td><td>GLS</td><td>3361</td></tr>",
                            "<tr><td>2016-05-25</td><td>GLS</td><td>3440</td></tr>",
                            "<tr><td>2016-05-26</td><td>GLS</td><td>1826</td></tr>",
                            "<tr><td>2016-05-27</td><td>GLS</td><td>3879</td></tr>",
                            "<tr><td>2016-05-28</td><td>GLS</td><td>1680</td></tr>",
                            "<tr><td>2016-05-29</td><td>GLS</td><td>3650</td></tr>",
                            "<tr><td>2016-05-30</td><td>GLS</td><td>2546</td></tr>",
                            "<tr><td>2016-05-31</td><td>GLS</td><td>3043</td></tr>",
                            "<tr><td>2016-06-01</td><td>GLS</td><td>2497</td></tr>",
                            "<tr><td>2016-06-02</td><td>GLS</td><td>1585</td></tr>",
                            "<tr><td>2016-06-03</td><td>GLS</td><td>1912</td></tr>",
                            "<tr><td>2016-06-04</td><td>GLS</td><td>3536</td></tr>",
                            "<tr><td>2016-06-05</td><td>GLS</td><td>1818</td></tr>",
                            "<tr><td>2016-06-06</td><td>GLS</td><td>3331</td></tr>",
                            "<tr><td>2016-06-07</td><td>GLS</td><td>2767</td></tr>",
                            "<tr><td>2016-06-08</td><td>GLS</td><td>2397</td></tr>",
                            "<tr><td>2016-06-09</td><td>GLS</td><td>2252</td></tr>",
                            "<tr><td>2016-06-10</td><td>GLS</td><td>3085</td></tr>",
                            "<tr><td>2016-06-11</td><td>GLS</td><td>3160</td></tr>",
                            "<tr><td>2016-06-12</td><td>GLS</td><td>4100</td></tr>",
                            "<tr><td>2016-06-13</td><td>GLS</td><td>3060</td></tr>",
                            "<tr><td>2016-06-14</td><td>GLS</td><td>3397</td></tr>",
                            "<tr><td>2016-06-15</td><td>GLS</td><td>2846</td></tr>",
                            "<tr><td>2016-06-16</td><td>GLS</td><td>2166</td></tr>",
                            "<tr><td>2016-06-17</td><td>GLS</td><td>1952</td></tr>",
                            "<tr><td>2016-06-18</td><td>GLS</td><td>2122</td></tr>",
                            "<tr><td>2016-06-19</td><td>GLS</td><td>2558</td></tr>",
                            "<tr><td>2016-06-20</td><td>GLS</td><td>2567</td></tr>",
                            "<tr><td>2016-06-21</td><td>GLS</td><td>3412</td></tr>",
                            "<tr><td>2016-06-22</td><td>GLS</td><td>1817</td></tr>",
                            "<tr><td>2016-06-23</td><td>GLS</td><td>2804</td></tr>",
                            "<tr><td>2016-06-24</td><td>GLS</td><td>3173</td></tr>",
                            "<tr><td>2016-06-25</td><td>GLS</td><td>2611</td></tr>",
                            "<tr><td>2016-06-26</td><td>GLS</td><td>4064</td></tr>",
                            "<tr><td>2016-06-27</td><td>GLS</td><td>2096</td></tr>",
                            "<tr><td>2016-06-28</td><td>GLS</td><td>3920</td></tr>",
                            "<tr><td>2016-06-29</td><td>GLS</td><td>3700</td></tr>",
                            "<tr><td>2016-06-30</td><td>GLS</td><td>4135</td></tr>",
                            "<tr><td>2016-07-01</td><td>GLS</td><td>1260</td></tr>",
                            "<tr><td>2016-07-02</td><td>GLS</td><td>1856</td></tr>",
                            "<tr><td>2016-07-03</td><td>GLS</td><td>2881</td></tr>",
                            "<tr><td>2016-07-04</td><td>GLS</td><td>2806</td></tr>",
                            "<tr><td>2016-07-05</td><td>GLS</td><td>3699</td></tr>",
                            "<tr><td>2016-07-06</td><td>GLS</td><td>2696</td></tr>",
                            "<tr><td>2016-07-07</td><td>GLS</td><td>2390</td></tr>",
                            "<tr><td>2016-07-08</td><td>GLS</td><td>2161</td></tr>",
                            "<tr><td>2016-07-09</td><td>GLS</td><td>2287</td></tr>",
                            "<tr><td>2016-07-10</td><td>GLS</td><td>1722</td></tr>",
                            "<tr><td>2016-07-11</td><td>GLS</td><td>3747</td></tr>",
                            "<tr><td>2016-07-12</td><td>GLS</td><td>3070</td></tr>",
                            "<tr><td>2016-07-13</td><td>GLS</td><td>863</td></tr>",
                            "<tr><td>2016-07-14</td><td>GLS</td><td>3563</td></tr>",
                            "<tr><td>2016-07-15</td><td>GLS</td><td>2582</td></tr>",
                            "<tr><td>2016-07-16</td><td>GLS</td><td>3295</td></tr>",
                            "<tr><td>2016-07-17</td><td>GLS</td><td>1851</td></tr>",
                            "<tr><td>2016-07-18</td><td>GLS</td><td>1970</td></tr>",
                            "<tr><td>2016-07-19</td><td>GLS</td><td>4650</td></tr>",
                            "<tr><td>2016-07-20</td><td>GLS</td><td>2900</td></tr>",
                            "<tr><td>2016-07-21</td><td>GLS</td><td>2178</td></tr>",
                            "<tr><td>2016-07-22</td><td>GLS</td><td>1989</td></tr>",
                            "<tr><td>2016-07-23</td><td>GLS</td><td>1352</td></tr>",
                            "<tr><td>2016-07-24</td><td>GLS</td><td>2819</td></tr>",
                            "<tr><td>2016-07-25</td><td>GLS</td><td>2927</td></tr>",
                            "<tr><td>2016-07-26</td><td>GLS</td><td>2645</td></tr>",
                            "<tr><td>2016-07-27</td><td>GLS</td><td>4382</td></tr>",
                            "<tr><td>2016-07-28</td><td>GLS</td><td>3013</td></tr>",
                            "<tr><td>2016-07-29</td><td>GLS</td><td>2119</td></tr>",
                            "<tr><td>2016-07-30</td><td>GLS</td><td>1859</td></tr>",
                            "<tr><td>2016-07-31</td><td>GLS</td><td>3272</td></tr>",
                            "<tr><td>2016-08-01</td><td>GLS</td><td>1605</td></tr>",
                            "<tr><td>2016-08-02</td><td>GLS</td><td>2785</td></tr>",
                            "<tr><td>2016-08-03</td><td>GLS</td><td>3048</td></tr>",
                            "<tr><td>2016-08-04</td><td>GLS</td><td>2379</td></tr>",
                            "<tr><td>2016-08-05</td><td>GLS</td><td>3063</td></tr>",
                            "<tr><td>2016-08-06</td><td>GLS</td><td>1990</td></tr>",
                            "<tr><td>2016-08-07</td><td>GLS</td><td>1833</td></tr>",
                            "<tr><td>2016-08-08</td><td>GLS</td><td>2795</td></tr>",
                            "<tr><td>2016-08-09</td><td>GLS</td><td>3241</td></tr>",
                            "<tr><td>2016-08-10</td><td>GLS</td><td>2109</td></tr>",
                            "<tr><td>2016-08-11</td><td>GLS</td><td>2052</td></tr>",
                            "<tr><td>2016-08-12</td><td>GLS</td><td>1482</td></tr>",
                            "<tr><td>2016-08-13</td><td>GLS</td><td>2800</td></tr>",
                            "<tr><td>2016-08-14</td><td>GLS</td><td>3173</td></tr>",
                            "<tr><td>2016-08-15</td><td>GLS</td><td>4274</td></tr>",
                            "<tr><td>2016-08-16</td><td>GLS</td><td>3071</td></tr>",
                            "<tr><td>2016-08-17</td><td>GLS</td><td>1388</td></tr>",
                            "<tr><td>2016-08-18</td><td>GLS</td><td>2329</td></tr>",
                            "<tr><td>2016-08-19</td><td>GLS</td><td>2593</td></tr>",
                            "<tr><td>2016-08-20</td><td>GLS</td><td>2040</td></tr>",
                            "<tr><td>2016-08-21</td><td>GLS</td><td>1948</td></tr>",
                            "<tr><td>2016-08-22</td><td>GLS</td><td>1340</td></tr>",
                            "<tr><td>2016-08-23</td><td>GLS</td><td>1481</td></tr>",
                            "<tr><td>2016-08-24</td><td>GLS</td><td>3682</td></tr>",
                            "<tr><td>2016-08-25</td><td>GLS</td><td>1702</td></tr>",
                            "<tr><td>2016-08-26</td><td>GLS</td><td>3048</td></tr>",
                            "<tr><td>2016-08-27</td><td>GLS</td><td>4204</td></tr>",
                            "<tr><td>2016-08-28</td><td>GLS</td><td>2320</td></tr>",
                            "<tr><td>2016-08-29</td><td>GLS</td><td>2017</td></tr>",
                            "<tr><td>2016-08-30</td><td>GLS</td><td>2483</td></tr>",
                            "<tr><td>2016-08-31</td><td>GLS</td><td>3026</td></tr>",
                            "<tr><td>2016-09-01</td><td>GLS</td><td>1716</td></tr>",
                            "<tr><td>2016-09-02</td><td>GLS</td><td>2235</td></tr>",
                            "<tr><td>2016-09-03</td><td>GLS</td><td>3997</td></tr>",
                            "<tr><td>2016-09-04</td><td>GLS</td><td>3691</td></tr>",
                            "<tr><td>2016-09-05</td><td>GLS</td><td>2570</td></tr>",
                            "<tr><td>2016-09-06</td><td>GLS</td><td>1800</td></tr>",
                            "<tr><td>2016-09-07</td><td>GLS</td><td>3743</td></tr>",
                            "<tr><td>2016-09-08</td><td>GLS</td><td>3178</td></tr>",
                            "<tr><td>2016-09-09</td><td>GLS</td><td>1823</td></tr>",
                            "<tr><td>2016-09-10</td><td>GLS</td><td>3490</td></tr>",
                            "<tr><td>2016-09-11</td><td>GLS</td><td>2105</td></tr>",
                            "<tr><td>2016-09-12</td><td>GLS</td><td>2382</td></tr>",
                            "<tr><td>2016-09-13</td><td>GLS</td><td>1861</td></tr>",
                            "<tr><td>2016-09-14</td><td>GLS</td><td>3630</td></tr>",
                            "<tr><td>2016-09-15</td><td>GLS</td><td>3443</td></tr>",
                            "<tr><td>2016-09-16</td><td>GLS</td><td>1810</td></tr>",
                            "<tr><td>2016-09-17</td><td>GLS</td><td>1495</td></tr>",
                            "<tr><td>2016-09-18</td><td>GLS</td><td>3502</td></tr>",
                            "<tr><td>2016-09-19</td><td>GLS</td><td>1761</td></tr>",
                            "<tr><td>2016-09-20</td><td>GLS</td><td>4492</td></tr>",
                            "<tr><td>2016-09-21</td><td>GLS</td><td>2260</td></tr>",
                            "<tr><td>2016-09-22</td><td>GLS</td><td>1739</td></tr>",
                            "<tr><td>2016-09-23</td><td>GLS</td><td>2469</td></tr>",
                            "<tr><td>2016-09-24</td><td>GLS</td><td>1512</td></tr>",
                            "<tr><td>2016-09-25</td><td>GLS</td><td>2277</td></tr>",
                            "<tr><td>2016-09-26</td><td>GLS</td><td>2287</td></tr>",
                            "<tr><td>2016-09-27</td><td>GLS</td><td>3240</td></tr>",
                            "<tr><td>2016-09-28</td><td>GLS</td><td>1756</td></tr>",
                            "<tr><td>2016-09-29</td><td>GLS</td><td>2171</td></tr>",
                            "<tr><td>2016-09-30</td><td>GLS</td><td>3452</td></tr>",
                            "<tr><td>2016-10-01</td><td>GLS</td><td>2922</td></tr>",
                            "<tr><td>2016-10-02</td><td>GLS</td><td>1566</td></tr>",
                            "<tr><td>2016-10-03</td><td>GLS</td><td>2389</td></tr>",
                            "<tr><td>2016-10-04</td><td>GLS</td><td>4081</td></tr>",
                            "<tr><td>2016-10-05</td><td>GLS</td><td>2611</td></tr>",
                            "<tr><td>2016-10-06</td><td>GLS</td><td>2565</td></tr>",
                            "<tr><td>2016-10-07</td><td>GLS</td><td>2094</td></tr>",
                            "<tr><td>2016-10-08</td><td>GLS</td><td>2340</td></tr>",
                            "<tr><td>2016-10-09</td><td>GLS</td><td>3419</td></tr>",
                            "<tr><td>2016-10-10</td><td>GLS</td><td>2756</td></tr>",
                            "<tr><td>2016-10-11</td><td>GLS</td><td>2843</td></tr>",
                            "<tr><td>2016-10-12</td><td>GLS</td><td>3405</td></tr>",
                            "<tr><td>2016-10-13</td><td>GLS</td><td>3340</td></tr>",
                            "<tr><td>2016-10-14</td><td>GLS</td><td>1780</td></tr>",
                            "<tr><td>2016-10-15</td><td>GLS</td><td>2179</td></tr>",
                            "<tr><td>2016-10-16</td><td>GLS</td><td>2372</td></tr>",
                            "<tr><td>2016-10-17</td><td>GLS</td><td>4090</td></tr>",
                            "<tr><td>2016-10-18</td><td>GLS</td><td>2638</td></tr>",
                            "<tr><td>2016-10-19</td><td>GLS</td><td>2740</td></tr>",
                            "<tr><td>2016-10-20</td><td>GLS</td><td>2875</td></tr>",
                            "<tr><td>2016-10-21</td><td>GLS</td><td>1515</td></tr>",
                            "<tr><td>2016-10-22</td><td>GLS</td><td>3199</td></tr>",
                            "<tr><td>2016-10-23</td><td>GLS</td><td>2380</td></tr>",
                            "<tr><td>2016-10-24</td><td>GLS</td><td>706</td></tr>",
                            "<tr><td>2016-10-25</td><td>GLS</td><td>3819</td></tr>",
                            "<tr><td>2016-10-26</td><td>GLS</td><td>2275</td></tr>",
                            "<tr><td>2016-10-27</td><td>GLS</td><td>2074</td></tr>",
                            "<tr><td>2016-10-28</td><td>GLS</td><td>1184</td></tr>",
                            "<tr><td>2016-10-29</td><td>GLS</td><td>2786</td></tr>",
                            "<tr><td>2016-10-30</td><td>GLS</td><td>4397</td></tr>",
                            "<tr><td>2016-10-31</td><td>GLS</td><td>2779</td></tr>",
                            "<tr><td>2016-11-01</td><td>GLS</td><td>2673</td></tr>",
                            "<tr><td>2016-11-02</td><td>GLS</td><td>1292</td></tr>",
                            "<tr><td>2016-11-03</td><td>GLS</td><td>2224</td></tr>",
                            "<tr><td>2016-11-04</td><td>GLS</td><td>2309</td></tr>",
                            "<tr><td>2016-11-05</td><td>GLS</td><td>2360</td></tr>",
                            "<tr><td>2016-11-06</td><td>GLS</td><td>2322</td></tr>",
                            "<tr><td>2016-11-07</td><td>GLS</td><td>1309</td></tr>",
                            "<tr><td>2016-11-08</td><td>GLS</td><td>3929</td></tr>",
                            "<tr><td>2016-11-09</td><td>GLS</td><td>1644</td></tr>",
                            "<tr><td>2016-11-10</td><td>GLS</td><td>1426</td></tr>",
                            "<tr><td>2016-11-11</td><td>GLS</td><td>1427</td></tr>",
                            "<tr><td>2016-11-12</td><td>GLS</td><td>2691</td></tr>",
                            "<tr><td>2016-11-13</td><td>GLS</td><td>3166</td></tr>",
                            "<tr><td>2016-11-14</td><td>GLS</td><td>5511</td></tr>",
                            "<tr><td>2016-11-15</td><td>GLS</td><td>2424</td></tr>",
                            "<tr><td>2016-11-16</td><td>GLS</td><td>2838</td></tr>",
                            "<tr><td>2016-11-17</td><td>GLS</td><td>2541</td></tr>",
                            "<tr><td>2016-11-18</td><td>GLS</td><td>2158</td></tr>",
                            "<tr><td>2016-11-19</td><td>GLS</td><td>2542</td></tr>",
                            "<tr><td>2016-11-20</td><td>GLS</td><td>2517</td></tr>",
                            "<tr><td>2016-11-21</td><td>GLS</td><td>2355</td></tr>",
                            "<tr><td>2016-11-22</td><td>GLS</td><td>1241</td></tr>",
                            "<tr><td>2016-11-23</td><td>GLS</td><td>2836</td></tr>",
                            "<tr><td>2016-11-24</td><td>GLS</td><td>2080</td></tr>",
                            "<tr><td>2016-11-25</td><td>GLS</td><td>2870</td></tr>",
                            "<tr><td>2016-11-26</td><td>GLS</td><td>3196</td></tr>",
                            "<tr><td>2016-11-27</td><td>GLS</td><td>4027</td></tr>",
                            "<tr><td>2016-11-28</td><td>GLS</td><td>4234</td></tr>",
                            "<tr><td>2016-11-29</td><td>GLS</td><td>2801</td></tr>",
                            "<tr><td>2016-11-30</td><td>GLS</td><td>2350</td></tr>",
                            "<tr><td>2016-12-01</td><td>GLS</td><td>3403</td></tr>",
                            "<tr><td>2016-12-02</td><td>GLS</td><td>1987</td></tr>",
                            "<tr><td>2016-12-03</td><td>GLS</td><td>2417</td></tr>",
                            "<tr><td>2016-12-04</td><td>GLS</td><td>2505</td></tr>",
                            "<tr><td>2016-12-05</td><td>GLS</td><td>2803</td></tr>",
                            "<tr><td>2016-12-06</td><td>GLS</td><td>2923</td></tr>",
                            "<tr><td>2016-12-07</td><td>GLS</td><td>3248</td></tr>",
                            "<tr><td>2016-12-08</td><td>GLS</td><td>1285</td></tr>",
                            "<tr><td>2016-12-09</td><td>GLS</td><td>2625</td></tr>",
                            "<tr><td>2016-12-10</td><td>GLS</td><td>1708</td></tr>",
                            "<tr><td>2016-12-11</td><td>GLS</td><td>2234</td></tr>",
                            "<tr><td>2016-12-12</td><td>GLS</td><td>2536</td></tr>",
                            "<tr><td>2016-12-13</td><td>GLS</td><td>2751</td></tr>",
                            "<tr><td>2016-12-14</td><td>GLS</td><td>2823</td></tr>",
                            "<tr><td>2016-12-15</td><td>GLS</td><td>3162</td></tr>",
                            "<tr><td>2016-12-16</td><td>GLS</td><td>2143</td></tr>",
                            "<tr><td>2016-12-17</td><td>GLS</td><td>2340</td></tr>",
                            "<tr><td>2016-12-18</td><td>GLS</td><td>1343</td></tr>",
                            "<tr><td>2016-12-19</td><td>GLS</td><td>1855</td></tr>",
                            "<tr><td>2016-12-20</td><td>GLS</td><td>2266</td></tr>",
                            "<tr><td>2016-12-21</td><td>GLS</td><td>3426</td></tr>",
                            "<tr><td>2016-12-22</td><td>GLS</td><td>923</td></tr>",
                            "<tr><td>2016-12-23</td><td>GLS</td><td>3349</td></tr>",
                            "<tr><td>2016-12-24</td><td>GLS</td><td>1860</td></tr>",
                            "<tr><td>2016-12-25</td><td>GLS</td><td>1539</td></tr>",
                            "<tr><td>2016-12-26</td><td>GLS</td><td>4064</td></tr>",
                            "<tr><td>2016-12-27</td><td>GLS</td><td>3166</td></tr>",
                            "<tr><td>2016-12-28</td><td>GLS</td><td>2379</td></tr>",
                            "<tr><td>2016-12-29</td><td>GLS</td><td>3557</td></tr>",
                            "<tr><td>2016-12-30</td><td>GLS</td><td>3028</td></tr>",
                            "<tr><td>2016-12-31</td><td>GLS</td><td>2512</td></tr>",
                            "<tr><td>2017-01-01</td><td>GLS</td><td>2752</td></tr>",
                            "<tr><td>2017-01-02</td><td>GLS</td><td>1960</td></tr>",
                            "<tr><td>2017-01-03</td><td>GLS</td><td>1380</td></tr>",
                            "<tr><td>2017-01-04</td><td>GLS</td><td>2053</td></tr>",
                            "<tr><td>2017-01-05</td><td>GLS</td><td>3757</td></tr>",
                            "<tr><td>2017-01-06</td><td>GLS</td><td>2314</td></tr>",
                            "<tr><td>2017-01-07</td><td>GLS</td><td>3080</td></tr>",
                            "<tr><td>2017-01-08</td><td>GLS</td><td>2519</td></tr>",
                            "<tr><td>2017-01-09</td><td>GLS</td><td>1350</td></tr>",
                            "<tr><td>2017-01-10</td><td>GLS</td><td>4119</td></tr>",
                            "<tr><td>2017-01-11</td><td>GLS</td><td>2705</td></tr>",
                            "<tr><td>2017-01-12</td><td>GLS</td><td>3170</td></tr>",
                            "<tr><td>2017-01-13</td><td>GLS</td><td>1050</td></tr>",
                            "<tr><td>2017-01-14</td><td>GLS</td><td>3126</td></tr>",
                            "<tr><td>2017-01-15</td><td>GLS</td><td>2337</td></tr>",
                            "<tr><td>2017-01-16</td><td>GLS</td><td>2970</td></tr>",
                            "<tr><td>2017-01-17</td><td>GLS</td><td>3596</td></tr>",
                            "<tr><td>2017-01-18</td><td>GLS</td><td>2425</td></tr>",
                            "<tr><td>2017-01-19</td><td>GLS</td><td>3357</td></tr>",
                            "<tr><td>2017-01-20</td><td>GLS</td><td>2190</td></tr>",
                            "<tr><td>2017-01-21</td><td>GLS</td><td>2245</td></tr>",
                            "<tr><td>2017-01-22</td><td>GLS</td><td>2395</td></tr>",
                            "<tr><td>2017-01-23</td><td>GLS</td><td>1954</td></tr>",
                            "<tr><td>2017-01-24</td><td>GLS</td><td>3367</td></tr>",
                            "<tr><td>2017-01-25</td><td>GLS</td><td>2157</td></tr>",
                            "<tr><td>2017-01-26</td><td>GLS</td><td>3462</td></tr>",
                            "<tr><td>2017-01-27</td><td>GLS</td><td>2821</td></tr>",
                            "<tr><td>2017-01-28</td><td>GLS</td><td>2841</td></tr>",
                            "<tr><td>2017-01-29</td><td>GLS</td><td>3627</td></tr>",
                            "<tr><td>2017-01-30</td><td>GLS</td><td>2868</td></tr>",
                            "<tr><td>2017-01-31</td><td>GLS</td><td>1922</td></tr>",
                            "<tr><td>2017-02-01</td><td>GLS</td><td>2893</td></tr>",
                            "<tr><td>2017-02-02</td><td>GLS</td><td>3411</td></tr>",
                            "<tr><td>2017-02-03</td><td>GLS</td><td>2619</td></tr>",
                            "<tr><td>2017-02-04</td><td>GLS</td><td>1410</td></tr>",
                            "<tr><td>2017-02-05</td><td>GLS</td><td>2691</td></tr>",
                            "<tr><td>2017-02-06</td><td>GLS</td><td>1990</td></tr>",
                            "<tr><td>2017-02-07</td><td>GLS</td><td>2227</td></tr>",
                            "<tr><td>2017-02-08</td><td>GLS</td><td>2592</td></tr>",
                            "<tr><td>2017-02-09</td><td>GLS</td><td>2481</td></tr>",
                            "<tr><td>2017-02-10</td><td>GLS</td><td>2706</td></tr>",
                            "<tr><td>2017-02-11</td><td>GLS</td><td>2468</td></tr>",
                            "<tr><td>2017-02-12</td><td>GLS</td><td>2352</td></tr>",
                            "<tr><td>2017-02-13</td><td>GLS</td><td>2154</td></tr>",
                            "<tr><td>2017-02-14</td><td>GLS</td><td>3163</td></tr>",
                            "<tr><td>2017-02-15</td><td>GLS</td><td>2479</td></tr>",
                            "<tr><td>2017-02-16</td><td>GLS</td><td>3271</td></tr>",
                            "<tr><td>2017-02-17</td><td>GLS</td><td>3817</td></tr>",
                            "<tr><td>2017-02-18</td><td>GLS</td><td>1691</td></tr>",
                            "<tr><td>2017-02-19</td><td>GLS</td><td>1175</td></tr>",
                            "<tr><td>2017-02-20</td><td>GLS</td><td>1767</td></tr>",
                            "<tr><td>2017-02-21</td><td>GLS</td><td>3385</td></tr>",
                            "<tr><td>2017-02-22</td><td>GLS</td><td>1753</td></tr>",
                            "<tr><td>2017-02-23</td><td>GLS</td><td>2933</td></tr>",
                            "<tr><td>2017-02-24</td><td>GLS</td><td>2451</td></tr>",
                            "<tr><td>2017-02-25</td><td>GLS</td><td>2377</td></tr>",
                            "<tr><td>2017-02-26</td><td>GLS</td><td>2137</td></tr>",
                            "<tr><td>2017-02-27</td><td>GLS</td><td>4007</td></tr>",
                            "<tr><td>2017-02-28</td><td>GLS</td><td>3801</td></tr>",
                            "<tr><td>2017-03-01</td><td>GLS</td><td>1618</td></tr>",
                            "<tr><td>2017-03-02</td><td>GLS</td><td>1195</td></tr>",
                            "<tr><td>2017-03-03</td><td>GLS</td><td>1906</td></tr>",
                            "<tr><td>2017-03-04</td><td>GLS</td><td>1420</td></tr>",
                            "<tr><td>2017-03-05</td><td>GLS</td><td>3929</td></tr>",
                            "<tr><td>2017-03-06</td><td>GLS</td><td>4727</td></tr>",
                            "<tr><td>2017-03-07</td><td>GLS</td><td>2843</td></tr>",
                            "<tr><td>2017-03-08</td><td>GLS</td><td>1947</td></tr>",
                            "<tr><td>2017-03-09</td><td>GLS</td><td>2230</td></tr>",
                            "<tr><td>2017-03-10</td><td>GLS</td><td>1921</td></tr>",
                            "<tr><td>2017-03-11</td><td>GLS</td><td>4369</td></tr>",
                            "<tr><td>2017-03-12</td><td>GLS</td><td>2977</td></tr>",
                            "<tr><td>2017-03-13</td><td>GLS</td><td>2018</td></tr>",
                            "<tr><td>2017-03-14</td><td>GLS</td><td>2245</td></tr>",
                            "<tr><td>2017-03-15</td><td>GLS</td><td>2202</td></tr>",
                            "<tr><td>2017-03-16</td><td>GLS</td><td>3189</td></tr>",
                            "<tr><td>2017-03-17</td><td>GLS</td><td>3116</td></tr>",
                            "<tr><td>2017-03-18</td><td>GLS</td><td>2659</td></tr>",
                            "<tr><td>2017-03-19</td><td>GLS</td><td>2647</td></tr>",
                            "<tr><td>2017-03-20</td><td>GLS</td><td>3438</td></tr>",
                            "<tr><td>2017-03-21</td><td>GLS</td><td>2341</td></tr>",
                            "<tr><td>2017-03-22</td><td>GLS</td><td>2591</td></tr>",
                            "<tr><td>2017-03-23</td><td>GLS</td><td>3827</td></tr>",
                            "<tr><td>2017-03-24</td><td>GLS</td><td>3735</td></tr>",
                            "<tr><td>2017-03-25</td><td>GLS</td><td>2954</td></tr>",
                            "<tr><td>2017-03-26</td><td>GLS</td><td>1679</td></tr>",
                            "<tr><td>2017-03-27</td><td>GLS</td><td>2086</td></tr>",
                            "<tr><td>2017-03-28</td><td>GLS</td><td>2100</td></tr>",
                            "<tr><td>2017-03-29</td><td>GLS</td><td>2057</td></tr>",
                            "<tr><td>2017-03-30</td><td>GLS</td><td>3040</td></tr>",
                            "<tr><td>2017-03-31</td><td>GLS</td><td>2819</td></tr>",
                            "<tr><td>2017-04-01</td><td>GLS</td><td>3003</td></tr>",
                            "<tr><td>2017-04-02</td><td>GLS</td><td>1267</td></tr>",
                            "<tr><td>2017-04-03</td><td>GLS</td><td>2695</td></tr>",
                            "<tr><td>2017-04-04</td><td>GLS</td><td>2741</td></tr>",
                            "<tr><td>2017-04-05</td><td>GLS</td><td>2688</td></tr>",
                            "<tr><td>2017-04-06</td><td>GLS</td><td>2185</td></tr>",
                            "<tr><td>2017-04-07</td><td>GLS</td><td>1087</td></tr>",
                            "<tr><td>2017-04-08</td><td>GLS</td><td>671</td></tr>",
                            "<tr><td>2017-04-09</td><td>GLS</td><td>1310</td></tr>",
                            "<tr><td>2017-04-10</td><td>GLS</td><td>570</td></tr>",
                            "<tr><td>2017-04-11</td><td>GLS</td><td>550</td></tr>",
                            "<tr><td>NULL</td><td>GLS</td><td>1839906</td></tr>",
                            "<tr><td>2015-05-04</td><td>Posta</td><td>219</td></tr>",
                            "<tr><td>2015-05-05</td><td>Posta</td><td>1095</td></tr>",
                            "<tr><td>2015-05-06</td><td>Posta</td><td>1140</td></tr>",
                            "<tr><td>2015-05-07</td><td>Posta</td><td>1260</td></tr>",
                            "<tr><td>2015-05-08</td><td>Posta</td><td>820</td></tr>",
                            "<tr><td>2015-05-09</td><td>Posta</td><td>1140</td></tr>",
                            "<tr><td>2015-05-10</td><td>Posta</td><td>1261</td></tr>",
                            "<tr><td>2015-05-11</td><td>Posta</td><td>1428</td></tr>",
                            "<tr><td>2015-05-12</td><td>Posta</td><td>1424</td></tr>",
                            "<tr><td>2015-05-13</td><td>Posta</td><td>1081</td></tr>",
                            "<tr><td>2015-05-14</td><td>Posta</td><td>915</td></tr>",
                            "<tr><td>2015-05-15</td><td>Posta</td><td>1494</td></tr>",
                            "<tr><td>2015-05-16</td><td>Posta</td><td>678</td></tr>",
                            "<tr><td>2015-05-17</td><td>Posta</td><td>289</td></tr>",
                            "<tr><td>2015-05-18</td><td>Posta</td><td>2299</td></tr>",
                            "<tr><td>2015-05-19</td><td>Posta</td><td>1941</td></tr>",
                            "<tr><td>2015-05-20</td><td>Posta</td><td>3040</td></tr>",
                            "<tr><td>2015-05-21</td><td>Posta</td><td>1080</td></tr>",
                            "<tr><td>2015-05-22</td><td>Posta</td><td>2141</td></tr>",
                            "<tr><td>2015-05-23</td><td>Posta</td><td>1570</td></tr>",
                            "<tr><td>2015-05-24</td><td>Posta</td><td>1099</td></tr>",
                            "<tr><td>2015-05-25</td><td>Posta</td><td>673</td></tr>",
                            "<tr><td>2015-05-26</td><td>Posta</td><td>483</td></tr>",
                            "<tr><td>2015-05-27</td><td>Posta</td><td>1536</td></tr>",
                            "<tr><td>2015-05-28</td><td>Posta</td><td>1928</td></tr>",
                            "<tr><td>2015-05-29</td><td>Posta</td><td>2355</td></tr>",
                            "<tr><td>2015-05-30</td><td>Posta</td><td>2960</td></tr>",
                            "<tr><td>2015-05-31</td><td>Posta</td><td>1230</td></tr>",
                            "<tr><td>2015-06-01</td><td>Posta</td><td>1998</td></tr>",
                            "<tr><td>2015-06-02</td><td>Posta</td><td>624</td></tr>",
                            "<tr><td>2015-06-03</td><td>Posta</td><td>2340</td></tr>",
                            "<tr><td>2015-06-04</td><td>Posta</td><td>2745</td></tr>",
                            "<tr><td>2015-06-05</td><td>Posta</td><td>2525</td></tr>",
                            "<tr><td>2015-06-06</td><td>Posta</td><td>2630</td></tr>",
                            "<tr><td>2015-06-07</td><td>Posta</td><td>3645</td></tr>",
                            "<tr><td>2015-06-08</td><td>Posta</td><td>2144</td></tr>",
                            "<tr><td>2015-06-09</td><td>Posta</td><td>2916</td></tr>",
                            "<tr><td>2015-06-10</td><td>Posta</td><td>3646</td></tr>",
                            "<tr><td>2015-06-11</td><td>Posta</td><td>1400</td></tr>",
                            "<tr><td>2015-06-12</td><td>Posta</td><td>2025</td></tr>",
                            "<tr><td>2015-06-13</td><td>Posta</td><td>2984</td></tr>",
                            "<tr><td>2015-06-14</td><td>Posta</td><td>2420</td></tr>",
                            "<tr><td>2015-06-15</td><td>Posta</td><td>2765</td></tr>",
                            "<tr><td>2015-06-16</td><td>Posta</td><td>930</td></tr>",
                            "<tr><td>2015-06-17</td><td>Posta</td><td>3558</td></tr>",
                            "<tr><td>2015-06-18</td><td>Posta</td><td>3271</td></tr>",
                            "<tr><td>2015-06-19</td><td>Posta</td><td>1815</td></tr>",
                            "<tr><td>2015-06-20</td><td>Posta</td><td>1850</td></tr>",
                            "<tr><td>2015-06-21</td><td>Posta</td><td>1726</td></tr>",
                            "<tr><td>2015-06-22</td><td>Posta</td><td>2518</td></tr>",
                            "<tr><td>2015-06-23</td><td>Posta</td><td>2304</td></tr>",
                            "<tr><td>2015-06-24</td><td>Posta</td><td>1000</td></tr>",
                            "<tr><td>2015-06-25</td><td>Posta</td><td>3097</td></tr>",
                            "<tr><td>2015-06-26</td><td>Posta</td><td>2935</td></tr>",
                            "<tr><td>2015-06-27</td><td>Posta</td><td>1858</td></tr>",
                            "<tr><td>2015-06-28</td><td>Posta</td><td>2414</td></tr>",
                            "<tr><td>2015-06-29</td><td>Posta</td><td>2023</td></tr>",
                            "<tr><td>2015-06-30</td><td>Posta</td><td>2882</td></tr>",
                            "<tr><td>2015-07-01</td><td>Posta</td><td>672</td></tr>",
                            "<tr><td>2015-07-02</td><td>Posta</td><td>2208</td></tr>",
                            "<tr><td>2015-07-03</td><td>Posta</td><td>2370</td></tr>",
                            "<tr><td>2015-07-04</td><td>Posta</td><td>2960</td></tr>",
                            "<tr><td>2015-07-05</td><td>Posta</td><td>3064</td></tr>",
                            "<tr><td>2015-07-06</td><td>Posta</td><td>4400</td></tr>",
                            "<tr><td>2015-07-07</td><td>Posta</td><td>3822</td></tr>",
                            "<tr><td>2015-07-08</td><td>Posta</td><td>1535</td></tr>",
                            "<tr><td>2015-07-09</td><td>Posta</td><td>2517</td></tr>",
                            "<tr><td>2015-07-10</td><td>Posta</td><td>2609</td></tr>",
                            "<tr><td>2015-07-11</td><td>Posta</td><td>2336</td></tr>",
                            "<tr><td>2015-07-12</td><td>Posta</td><td>2753</td></tr>",
                            "<tr><td>2015-07-13</td><td>Posta</td><td>4357</td></tr>",
                            "<tr><td>2015-07-14</td><td>Posta</td><td>1975</td></tr>",
                            "<tr><td>2015-07-15</td><td>Posta</td><td>3030</td></tr>",
                            "<tr><td>2015-07-16</td><td>Posta</td><td>2920</td></tr>",
                            "<tr><td>2015-07-17</td><td>Posta</td><td>3214</td></tr>",
                            "<tr><td>2015-07-18</td><td>Posta</td><td>1511</td></tr>",
                            "<tr><td>2015-07-19</td><td>Posta</td><td>2570</td></tr>",
                            "<tr><td>2015-07-20</td><td>Posta</td><td>2900</td></tr>",
                            "<tr><td>2015-07-21</td><td>Posta</td><td>4368</td></tr>",
                            "<tr><td>2015-07-22</td><td>Posta</td><td>1501</td></tr>",
                            "<tr><td>2015-07-23</td><td>Posta</td><td>1818</td></tr>",
                            "<tr><td>2015-07-24</td><td>Posta</td><td>2506</td></tr>",
                            "<tr><td>2015-07-25</td><td>Posta</td><td>3358</td></tr>",
                            "<tr><td>2015-07-26</td><td>Posta</td><td>2661</td></tr>",
                            "<tr><td>2015-07-27</td><td>Posta</td><td>2637</td></tr>",
                            "<tr><td>2015-07-28</td><td>Posta</td><td>2865</td></tr>",
                            "<tr><td>2015-07-29</td><td>Posta</td><td>2045</td></tr>",
                            "<tr><td>2015-07-30</td><td>Posta</td><td>2175</td></tr>",
                            "<tr><td>2015-07-31</td><td>Posta</td><td>3469</td></tr>",
                            "<tr><td>2015-08-01</td><td>Posta</td><td>3030</td></tr>",
                            "<tr><td>2015-08-02</td><td>Posta</td><td>3187</td></tr>",
                            "<tr><td>2015-08-03</td><td>Posta</td><td>3844</td></tr>",
                            "<tr><td>2015-08-04</td><td>Posta</td><td>3091</td></tr>",
                            "<tr><td>2015-08-05</td><td>Posta</td><td>1851</td></tr>",
                            "<tr><td>2015-08-06</td><td>Posta</td><td>1601</td></tr>",
                            "<tr><td>2015-08-07</td><td>Posta</td><td>2823</td></tr>",
                            "<tr><td>2015-08-08</td><td>Posta</td><td>3876</td></tr>",
                            "<tr><td>2015-08-09</td><td>Posta</td><td>2314</td></tr>",
                            "<tr><td>2015-08-10</td><td>Posta</td><td>2480</td></tr>",
                            "<tr><td>2015-08-11</td><td>Posta</td><td>4030</td></tr>",
                            "<tr><td>2015-08-12</td><td>Posta</td><td>2090</td></tr>",
                            "<tr><td>2015-08-13</td><td>Posta</td><td>2987</td></tr>",
                            "<tr><td>2015-08-14</td><td>Posta</td><td>3166</td></tr>",
                            "<tr><td>2015-08-15</td><td>Posta</td><td>1249</td></tr>",
                            "<tr><td>2015-08-16</td><td>Posta</td><td>1739</td></tr>",
                            "<tr><td>2015-08-17</td><td>Posta</td><td>2397</td></tr>",
                            "<tr><td>2015-08-18</td><td>Posta</td><td>1745</td></tr>",
                            "<tr><td>2015-08-19</td><td>Posta</td><td>3110</td></tr>",
                            "<tr><td>2015-08-20</td><td>Posta</td><td>1990</td></tr>",
                            "<tr><td>2015-08-21</td><td>Posta</td><td>1931</td></tr>",
                            "<tr><td>2015-08-22</td><td>Posta</td><td>3336</td></tr>",
                            "<tr><td>2015-08-23</td><td>Posta</td><td>3552</td></tr>",
                            "<tr><td>2015-08-24</td><td>Posta</td><td>2805</td></tr>",
                            "<tr><td>2015-08-25</td><td>Posta</td><td>4032</td></tr>",
                            "<tr><td>2015-08-26</td><td>Posta</td><td>4315</td></tr>",
                            "<tr><td>2015-08-27</td><td>Posta</td><td>2262</td></tr>",
                            "<tr><td>2015-08-28</td><td>Posta</td><td>1935</td></tr>",
                            "<tr><td>2015-08-29</td><td>Posta</td><td>2728</td></tr>",
                            "<tr><td>2015-08-30</td><td>Posta</td><td>2897</td></tr>",
                            "<tr><td>2015-08-31</td><td>Posta</td><td>1926</td></tr>",
                            "<tr><td>2015-09-01</td><td>Posta</td><td>2996</td></tr>",
                            "<tr><td>2015-09-02</td><td>Posta</td><td>1953</td></tr>",
                            "<tr><td>2015-09-03</td><td>Posta</td><td>3749</td></tr>",
                            "<tr><td>2015-09-04</td><td>Posta</td><td>3900</td></tr>",
                            "<tr><td>2015-09-05</td><td>Posta</td><td>2698</td></tr>",
                            "<tr><td>2015-09-06</td><td>Posta</td><td>3006</td></tr>",
                            "<tr><td>2015-09-07</td><td>Posta</td><td>3316</td></tr>",
                            "<tr><td>2015-09-08</td><td>Posta</td><td>2743</td></tr>",
                            "<tr><td>2015-09-09</td><td>Posta</td><td>1890</td></tr>",
                            "<tr><td>2015-09-10</td><td>Posta</td><td>3334</td></tr>",
                            "<tr><td>2015-09-11</td><td>Posta</td><td>4178</td></tr>",
                            "<tr><td>2015-09-12</td><td>Posta</td><td>2231</td></tr>",
                            "<tr><td>2015-09-13</td><td>Posta</td><td>3111</td></tr>",
                            "<tr><td>2015-09-14</td><td>Posta</td><td>3131</td></tr>",
                            "<tr><td>2015-09-15</td><td>Posta</td><td>1724</td></tr>",
                            "<tr><td>2015-09-16</td><td>Posta</td><td>3090</td></tr>",
                            "<tr><td>2015-09-17</td><td>Posta</td><td>3159</td></tr>",
                            "<tr><td>2015-09-18</td><td>Posta</td><td>1948</td></tr>",
                            "<tr><td>2015-09-19</td><td>Posta</td><td>2448</td></tr>",
                            "<tr><td>2015-09-20</td><td>Posta</td><td>3529</td></tr>",
                            "<tr><td>2015-09-21</td><td>Posta</td><td>2766</td></tr>",
                            "<tr><td>2015-09-22</td><td>Posta</td><td>3257</td></tr>",
                            "<tr><td>2015-09-23</td><td>Posta</td><td>2540</td></tr>",
                            "<tr><td>2015-09-24</td><td>Posta</td><td>3326</td></tr>",
                            "<tr><td>2015-09-25</td><td>Posta</td><td>3393</td></tr>",
                            "<tr><td>2015-09-26</td><td>Posta</td><td>3751</td></tr>",
                            "<tr><td>2015-09-27</td><td>Posta</td><td>3414</td></tr>",
                            "<tr><td>2015-09-28</td><td>Posta</td><td>4587</td></tr>",
                            "<tr><td>2015-09-29</td><td>Posta</td><td>3427</td></tr>",
                            "<tr><td>2015-09-30</td><td>Posta</td><td>1983</td></tr>",
                            "<tr><td>2015-10-01</td><td>Posta</td><td>4002</td></tr>",
                            "<tr><td>2015-10-02</td><td>Posta</td><td>2987</td></tr>",
                            "<tr><td>2015-10-03</td><td>Posta</td><td>2038</td></tr>",
                            "<tr><td>2015-10-04</td><td>Posta</td><td>2614</td></tr>",
                            "<tr><td>2015-10-05</td><td>Posta</td><td>3110</td></tr>",
                            "<tr><td>2015-10-06</td><td>Posta</td><td>2560</td></tr>",
                            "<tr><td>2015-10-07</td><td>Posta</td><td>2960</td></tr>",
                            "<tr><td>2015-10-08</td><td>Posta</td><td>1741</td></tr>",
                            "<tr><td>2015-10-09</td><td>Posta</td><td>3050</td></tr>",
                            "<tr><td>2015-10-10</td><td>Posta</td><td>1716</td></tr>",
                            "<tr><td>2015-10-11</td><td>Posta</td><td>1704</td></tr>",
                            "<tr><td>2015-10-12</td><td>Posta</td><td>2098</td></tr>",
                            "<tr><td>2015-10-13</td><td>Posta</td><td>2136</td></tr>",
                            "<tr><td>2015-10-14</td><td>Posta</td><td>3142</td></tr>",
                            "<tr><td>2015-10-15</td><td>Posta</td><td>3475</td></tr>",
                            "<tr><td>2015-10-16</td><td>Posta</td><td>2148</td></tr>",
                            "<tr><td>2015-10-17</td><td>Posta</td><td>1520</td></tr>",
                            "<tr><td>2015-10-18</td><td>Posta</td><td>1840</td></tr>",
                            "<tr><td>2015-10-19</td><td>Posta</td><td>2423</td></tr>",
                            "<tr><td>2015-10-20</td><td>Posta</td><td>3052</td></tr>",
                            "<tr><td>2015-10-21</td><td>Posta</td><td>2084</td></tr>",
                            "<tr><td>2015-10-22</td><td>Posta</td><td>3955</td></tr>",
                            "<tr><td>2015-10-23</td><td>Posta</td><td>1459</td></tr>",
                            "<tr><td>2015-10-24</td><td>Posta</td><td>2826</td></tr>",
                            "<tr><td>2015-10-25</td><td>Posta</td><td>2332</td></tr>",
                            "<tr><td>2015-10-26</td><td>Posta</td><td>3919</td></tr>",
                            "<tr><td>2015-10-27</td><td>Posta</td><td>2923</td></tr>",
                            "<tr><td>2015-10-28</td><td>Posta</td><td>2868</td></tr>",
                            "<tr><td>2015-10-29</td><td>Posta</td><td>2528</td></tr>",
                            "<tr><td>2015-10-30</td><td>Posta</td><td>3419</td></tr>",
                            "<tr><td>2015-10-31</td><td>Posta</td><td>2821</td></tr>",
                            "<tr><td>2015-11-01</td><td>Posta</td><td>529</td></tr>",
                            "<tr><td>2015-11-02</td><td>Posta</td><td>3491</td></tr>",
                            "<tr><td>2015-11-03</td><td>Posta</td><td>3631</td></tr>",
                            "<tr><td>2015-11-04</td><td>Posta</td><td>1729</td></tr>",
                            "<tr><td>2015-11-05</td><td>Posta</td><td>2468</td></tr>",
                            "<tr><td>2015-11-06</td><td>Posta</td><td>3139</td></tr>",
                            "<tr><td>2015-11-07</td><td>Posta</td><td>2299</td></tr>",
                            "<tr><td>2015-11-08</td><td>Posta</td><td>2351</td></tr>",
                            "<tr><td>2015-11-09</td><td>Posta</td><td>1670</td></tr>",
                            "<tr><td>2015-11-10</td><td>Posta</td><td>2637</td></tr>",
                            "<tr><td>2015-11-11</td><td>Posta</td><td>670</td></tr>",
                            "<tr><td>2015-11-12</td><td>Posta</td><td>1747</td></tr>",
                            "<tr><td>2015-11-13</td><td>Posta</td><td>1903</td></tr>",
                            "<tr><td>2015-11-14</td><td>Posta</td><td>3140</td></tr>",
                            "<tr><td>2015-11-15</td><td>Posta</td><td>2117</td></tr>",
                            "<tr><td>2015-11-16</td><td>Posta</td><td>2293</td></tr>",
                            "<tr><td>2015-11-17</td><td>Posta</td><td>3156</td></tr>",
                            "<tr><td>2015-11-18</td><td>Posta</td><td>3151</td></tr>",
                            "<tr><td>2015-11-19</td><td>Posta</td><td>5000</td></tr>",
                            "<tr><td>2015-11-20</td><td>Posta</td><td>1014</td></tr>",
                            "<tr><td>2015-11-21</td><td>Posta</td><td>2104</td></tr>",
                            "<tr><td>2015-11-22</td><td>Posta</td><td>3059</td></tr>",
                            "<tr><td>2015-11-23</td><td>Posta</td><td>1624</td></tr>",
                            "<tr><td>2015-11-24</td><td>Posta</td><td>1736</td></tr>",
                            "<tr><td>2015-11-25</td><td>Posta</td><td>3310</td></tr>",
                            "<tr><td>2015-11-26</td><td>Posta</td><td>3850</td></tr>",
                            "<tr><td>2015-11-27</td><td>Posta</td><td>2952</td></tr>",
                            "<tr><td>2015-11-28</td><td>Posta</td><td>4183</td></tr>",
                            "<tr><td>2015-11-29</td><td>Posta</td><td>3409</td></tr>",
                            "<tr><td>2015-11-30</td><td>Posta</td><td>2324</td></tr>",
                            "<tr><td>2015-12-01</td><td>Posta</td><td>2621</td></tr>",
                            "<tr><td>2015-12-02</td><td>Posta</td><td>1722</td></tr>",
                            "<tr><td>2015-12-03</td><td>Posta</td><td>1573</td></tr>",
                            "<tr><td>2015-12-04</td><td>Posta</td><td>2250</td></tr>",
                            "<tr><td>2015-12-05</td><td>Posta</td><td>3893</td></tr>",
                            "<tr><td>2015-12-06</td><td>Posta</td><td>1346</td></tr>",
                            "<tr><td>2015-12-07</td><td>Posta</td><td>1938</td></tr>",
                            "<tr><td>2015-12-08</td><td>Posta</td><td>2894</td></tr>",
                            "<tr><td>2015-12-09</td><td>Posta</td><td>2445</td></tr>",
                            "<tr><td>2015-12-10</td><td>Posta</td><td>3146</td></tr>",
                            "<tr><td>2015-12-11</td><td>Posta</td><td>3220</td></tr>",
                            "<tr><td>2015-12-12</td><td>Posta</td><td>2862</td></tr>",
                            "<tr><td>2015-12-13</td><td>Posta</td><td>3804</td></tr>",
                            "<tr><td>2015-12-14</td><td>Posta</td><td>3396</td></tr>",
                            "<tr><td>2015-12-15</td><td>Posta</td><td>1853</td></tr>",
                            "<tr><td>2015-12-16</td><td>Posta</td><td>2568</td></tr>",
                            "<tr><td>2015-12-17</td><td>Posta</td><td>2658</td></tr>",
                            "<tr><td>2015-12-18</td><td>Posta</td><td>4522</td></tr>",
                            "<tr><td>2015-12-19</td><td>Posta</td><td>1739</td></tr>",
                            "<tr><td>2015-12-20</td><td>Posta</td><td>2338</td></tr>",
                            "<tr><td>2015-12-21</td><td>Posta</td><td>2120</td></tr>",
                            "<tr><td>2015-12-22</td><td>Posta</td><td>3421</td></tr>",
                            "<tr><td>2015-12-23</td><td>Posta</td><td>740</td></tr>",
                            "<tr><td>2015-12-24</td><td>Posta</td><td>3030</td></tr>",
                            "<tr><td>2015-12-25</td><td>Posta</td><td>3388</td></tr>",
                            "<tr><td>2015-12-26</td><td>Posta</td><td>2618</td></tr>",
                            "<tr><td>2015-12-27</td><td>Posta</td><td>2764</td></tr>",
                            "<tr><td>2015-12-28</td><td>Posta</td><td>4023</td></tr>",
                            "<tr><td>2015-12-29</td><td>Posta</td><td>2200</td></tr>",
                            "<tr><td>2015-12-30</td><td>Posta</td><td>2499</td></tr>",
                            "<tr><td>2015-12-31</td><td>Posta</td><td>1437</td></tr>",
                            "<tr><td>2016-01-01</td><td>Posta</td><td>3168</td></tr>",
                            "<tr><td>2016-01-02</td><td>Posta</td><td>1815</td></tr>",
                            "<tr><td>2016-01-03</td><td>Posta</td><td>2978</td></tr>",
                            "<tr><td>2016-01-04</td><td>Posta</td><td>2539</td></tr>",
                            "<tr><td>2016-01-05</td><td>Posta</td><td>2647</td></tr>",
                            "<tr><td>2016-01-06</td><td>Posta</td><td>3006</td></tr>",
                            "<tr><td>2016-01-07</td><td>Posta</td><td>1650</td></tr>",
                            "<tr><td>2016-01-08</td><td>Posta</td><td>3659</td></tr>",
                            "<tr><td>2016-01-09</td><td>Posta</td><td>2942</td></tr>",
                            "<tr><td>2016-01-10</td><td>Posta</td><td>1888</td></tr>",
                            "<tr><td>2016-01-11</td><td>Posta</td><td>1563</td></tr>",
                            "<tr><td>2016-01-12</td><td>Posta</td><td>2999</td></tr>",
                            "<tr><td>2016-01-13</td><td>Posta</td><td>2166</td></tr>",
                            "<tr><td>2016-01-14</td><td>Posta</td><td>2825</td></tr>",
                            "<tr><td>2016-01-15</td><td>Posta</td><td>1826</td></tr>",
                            "<tr><td>2016-01-16</td><td>Posta</td><td>3281</td></tr>",
                            "<tr><td>2016-01-17</td><td>Posta</td><td>1886</td></tr>",
                            "<tr><td>2016-01-18</td><td>Posta</td><td>1189</td></tr>",
                            "<tr><td>2016-01-19</td><td>Posta</td><td>3494</td></tr>",
                            "<tr><td>2016-01-20</td><td>Posta</td><td>2976</td></tr>",
                            "<tr><td>2016-01-21</td><td>Posta</td><td>3682</td></tr>",
                            "<tr><td>2016-01-22</td><td>Posta</td><td>2854</td></tr>",
                            "<tr><td>2016-01-23</td><td>Posta</td><td>2842</td></tr>",
                            "<tr><td>2016-01-24</td><td>Posta</td><td>3515</td></tr>",
                            "<tr><td>2016-01-25</td><td>Posta</td><td>1796</td></tr>",
                            "<tr><td>2016-01-26</td><td>Posta</td><td>1567</td></tr>",
                            "<tr><td>2016-01-27</td><td>Posta</td><td>2444</td></tr>",
                            "<tr><td>2016-01-28</td><td>Posta</td><td>2391</td></tr>",
                            "<tr><td>2016-01-29</td><td>Posta</td><td>2367</td></tr>",
                            "<tr><td>2016-01-30</td><td>Posta</td><td>4581</td></tr>",
                            "<tr><td>2016-01-31</td><td>Posta</td><td>1548</td></tr>",
                            "<tr><td>2016-02-01</td><td>Posta</td><td>2844</td></tr>",
                            "<tr><td>2016-02-02</td><td>Posta</td><td>2458</td></tr>",
                            "<tr><td>2016-02-03</td><td>Posta</td><td>2277</td></tr>",
                            "<tr><td>2016-02-04</td><td>Posta</td><td>2155</td></tr>",
                            "<tr><td>2016-02-05</td><td>Posta</td><td>3436</td></tr>",
                            "<tr><td>2016-02-06</td><td>Posta</td><td>3968</td></tr>",
                            "<tr><td>2016-02-07</td><td>Posta</td><td>2330</td></tr>",
                            "<tr><td>2016-02-08</td><td>Posta</td><td>3285</td></tr>",
                            "<tr><td>2016-02-09</td><td>Posta</td><td>2062</td></tr>",
                            "<tr><td>2016-02-10</td><td>Posta</td><td>2577</td></tr>",
                            "<tr><td>2016-02-11</td><td>Posta</td><td>3163</td></tr>",
                            "<tr><td>2016-02-12</td><td>Posta</td><td>3090</td></tr>",
                            "<tr><td>2016-02-13</td><td>Posta</td><td>2013</td></tr>",
                            "<tr><td>2016-02-14</td><td>Posta</td><td>3221</td></tr>",
                            "<tr><td>2016-02-15</td><td>Posta</td><td>3218</td></tr>",
                            "<tr><td>2016-02-16</td><td>Posta</td><td>2218</td></tr>",
                            "<tr><td>2016-02-17</td><td>Posta</td><td>1453</td></tr>",
                            "<tr><td>2016-02-18</td><td>Posta</td><td>1539</td></tr>",
                            "<tr><td>2016-02-19</td><td>Posta</td><td>3044</td></tr>",
                            "<tr><td>2016-02-20</td><td>Posta</td><td>2117</td></tr>",
                            "<tr><td>2016-02-21</td><td>Posta</td><td>2117</td></tr>",
                            "<tr><td>2016-02-22</td><td>Posta</td><td>3527</td></tr>",
                            "<tr><td>2016-02-23</td><td>Posta</td><td>2168</td></tr>",
                            "<tr><td>2016-02-24</td><td>Posta</td><td>2658</td></tr>",
                            "<tr><td>2016-02-25</td><td>Posta</td><td>1586</td></tr>",
                            "<tr><td>2016-02-26</td><td>Posta</td><td>2461</td></tr>",
                            "<tr><td>2016-02-27</td><td>Posta</td><td>3333</td></tr>",
                            "<tr><td>2016-02-28</td><td>Posta</td><td>2871</td></tr>",
                            "<tr><td>2016-02-29</td><td>Posta</td><td>3222</td></tr>",
                            "<tr><td>2016-03-01</td><td>Posta</td><td>2700</td></tr>",
                            "<tr><td>2016-03-02</td><td>Posta</td><td>2335</td></tr>",
                            "<tr><td>2016-03-03</td><td>Posta</td><td>2720</td></tr>",
                            "<tr><td>2016-03-04</td><td>Posta</td><td>2916</td></tr>",
                            "<tr><td>2016-03-05</td><td>Posta</td><td>3391</td></tr>",
                            "<tr><td>2016-03-06</td><td>Posta</td><td>1880</td></tr>",
                            "<tr><td>2016-03-07</td><td>Posta</td><td>2528</td></tr>",
                            "<tr><td>2016-03-08</td><td>Posta</td><td>2481</td></tr>",
                            "<tr><td>2016-03-09</td><td>Posta</td><td>2474</td></tr>",
                            "<tr><td>2016-03-10</td><td>Posta</td><td>3548</td></tr>",
                            "<tr><td>2016-03-11</td><td>Posta</td><td>1964</td></tr>",
                            "<tr><td>2016-03-12</td><td>Posta</td><td>3431</td></tr>",
                            "<tr><td>2016-03-13</td><td>Posta</td><td>1421</td></tr>",
                            "<tr><td>2016-03-14</td><td>Posta</td><td>3524</td></tr>",
                            "<tr><td>2016-03-15</td><td>Posta</td><td>2805</td></tr>",
                            "<tr><td>2016-03-16</td><td>Posta</td><td>2970</td></tr>",
                            "<tr><td>2016-03-17</td><td>Posta</td><td>1572</td></tr>",
                            "<tr><td>2016-03-18</td><td>Posta</td><td>1807</td></tr>",
                            "<tr><td>2016-03-19</td><td>Posta</td><td>2875</td></tr>",
                            "<tr><td>2016-03-20</td><td>Posta</td><td>5704</td></tr>",
                            "<tr><td>2016-03-21</td><td>Posta</td><td>3023</td></tr>",
                            "<tr><td>2016-03-22</td><td>Posta</td><td>2800</td></tr>",
                            "<tr><td>2016-03-23</td><td>Posta</td><td>2939</td></tr>",
                            "<tr><td>2016-03-24</td><td>Posta</td><td>2435</td></tr>",
                            "<tr><td>2016-03-25</td><td>Posta</td><td>4176</td></tr>",
                            "<tr><td>2016-03-26</td><td>Posta</td><td>3756</td></tr>",
                            "<tr><td>2016-03-27</td><td>Posta</td><td>2070</td></tr>",
                            "<tr><td>2016-03-28</td><td>Posta</td><td>2210</td></tr>",
                            "<tr><td>2016-03-29</td><td>Posta</td><td>2735</td></tr>",
                            "<tr><td>2016-03-30</td><td>Posta</td><td>2764</td></tr>",
                            "<tr><td>2016-03-31</td><td>Posta</td><td>2135</td></tr>",
                            "<tr><td>2016-04-01</td><td>Posta</td><td>2761</td></tr>",
                            "<tr><td>2016-04-02</td><td>Posta</td><td>4146</td></tr>",
                            "<tr><td>2016-04-03</td><td>Posta</td><td>2518</td></tr>",
                            "<tr><td>2016-04-04</td><td>Posta</td><td>3383</td></tr>",
                            "<tr><td>2016-04-05</td><td>Posta</td><td>2721</td></tr>",
                            "<tr><td>2016-04-06</td><td>Posta</td><td>1976</td></tr>",
                            "<tr><td>2016-04-07</td><td>Posta</td><td>2320</td></tr>",
                            "<tr><td>2016-04-08</td><td>Posta</td><td>3896</td></tr>",
                            "<tr><td>2016-04-09</td><td>Posta</td><td>2973</td></tr>",
                            "<tr><td>2016-04-10</td><td>Posta</td><td>2912</td></tr>",
                            "<tr><td>2016-04-11</td><td>Posta</td><td>2465</td></tr>",
                            "<tr><td>2016-04-12</td><td>Posta</td><td>2713</td></tr>",
                            "<tr><td>2016-04-13</td><td>Posta</td><td>1639</td></tr>",
                            "<tr><td>2016-04-14</td><td>Posta</td><td>2907</td></tr>",
                            "<tr><td>2016-04-15</td><td>Posta</td><td>3492</td></tr>",
                            "<tr><td>2016-04-16</td><td>Posta</td><td>2478</td></tr>",
                            "<tr><td>2016-04-17</td><td>Posta</td><td>3490</td></tr>",
                            "<tr><td>2016-04-18</td><td>Posta</td><td>2049</td></tr>",
                            "<tr><td>2016-04-19</td><td>Posta</td><td>3768</td></tr>",
                            "<tr><td>2016-04-20</td><td>Posta</td><td>2885</td></tr>",
                            "<tr><td>2016-04-21</td><td>Posta</td><td>3707</td></tr>",
                            "<tr><td>2016-04-22</td><td>Posta</td><td>2010</td></tr>",
                            "<tr><td>2016-04-23</td><td>Posta</td><td>2770</td></tr>",
                            "<tr><td>2016-04-24</td><td>Posta</td><td>3371</td></tr>",
                            "<tr><td>2016-04-25</td><td>Posta</td><td>2742</td></tr>",
                            "<tr><td>2016-04-26</td><td>Posta</td><td>3853</td></tr>",
                            "<tr><td>2016-04-27</td><td>Posta</td><td>3233</td></tr>",
                            "<tr><td>2016-04-28</td><td>Posta</td><td>2580</td></tr>",
                            "<tr><td>2016-04-29</td><td>Posta</td><td>1908</td></tr>",
                            "<tr><td>2016-04-30</td><td>Posta</td><td>3121</td></tr>",
                            "<tr><td>2016-05-01</td><td>Posta</td><td>3200</td></tr>",
                            "<tr><td>2016-05-02</td><td>Posta</td><td>2442</td></tr>",
                            "<tr><td>2016-05-03</td><td>Posta</td><td>1801</td></tr>",
                            "<tr><td>2016-05-04</td><td>Posta</td><td>2539</td></tr>",
                            "<tr><td>2016-05-05</td><td>Posta</td><td>1942</td></tr>",
                            "<tr><td>2016-05-06</td><td>Posta</td><td>2175</td></tr>",
                            "<tr><td>2016-05-07</td><td>Posta</td><td>3389</td></tr>",
                            "<tr><td>2016-05-08</td><td>Posta</td><td>1967</td></tr>",
                            "<tr><td>2016-05-09</td><td>Posta</td><td>3173</td></tr>",
                            "<tr><td>2016-05-10</td><td>Posta</td><td>3794</td></tr>",
                            "<tr><td>2016-05-11</td><td>Posta</td><td>3942</td></tr>",
                            "<tr><td>2016-05-12</td><td>Posta</td><td>1846</td></tr>",
                            "<tr><td>2016-05-13</td><td>Posta</td><td>3626</td></tr>",
                            "<tr><td>2016-05-14</td><td>Posta</td><td>2252</td></tr>",
                            "<tr><td>2016-05-15</td><td>Posta</td><td>930</td></tr>",
                            "<tr><td>2016-05-16</td><td>Posta</td><td>1610</td></tr>",
                            "<tr><td>2016-05-17</td><td>Posta</td><td>3795</td></tr>",
                            "<tr><td>2016-05-18</td><td>Posta</td><td>1877</td></tr>",
                            "<tr><td>2016-05-19</td><td>Posta</td><td>4018</td></tr>",
                            "<tr><td>2016-05-20</td><td>Posta</td><td>2425</td></tr>",
                            "<tr><td>2016-05-21</td><td>Posta</td><td>2752</td></tr>",
                            "<tr><td>2016-05-22</td><td>Posta</td><td>1839</td></tr>",
                            "<tr><td>2016-05-23</td><td>Posta</td><td>2750</td></tr>",
                            "<tr><td>2016-05-24</td><td>Posta</td><td>2889</td></tr>",
                            "<tr><td>2016-05-25</td><td>Posta</td><td>2934</td></tr>",
                            "<tr><td>2016-05-26</td><td>Posta</td><td>877</td></tr>",
                            "<tr><td>2016-05-27</td><td>Posta</td><td>2421</td></tr>",
                            "<tr><td>2016-05-28</td><td>Posta</td><td>2519</td></tr>",
                            "<tr><td>2016-05-29</td><td>Posta</td><td>2680</td></tr>",
                            "<tr><td>2016-05-30</td><td>Posta</td><td>2606</td></tr>",
                            "<tr><td>2016-05-31</td><td>Posta</td><td>4578</td></tr>",
                            "<tr><td>2016-06-01</td><td>Posta</td><td>3224</td></tr>",
                            "<tr><td>2016-06-02</td><td>Posta</td><td>2545</td></tr>",
                            "<tr><td>2016-06-03</td><td>Posta</td><td>2103</td></tr>",
                            "<tr><td>2016-06-04</td><td>Posta</td><td>1900</td></tr>",
                            "<tr><td>2016-06-05</td><td>Posta</td><td>2612</td></tr>",
                            "<tr><td>2016-06-06</td><td>Posta</td><td>1802</td></tr>",
                            "<tr><td>2016-06-07</td><td>Posta</td><td>2337</td></tr>",
                            "<tr><td>2016-06-08</td><td>Posta</td><td>2880</td></tr>",
                            "<tr><td>2016-06-09</td><td>Posta</td><td>2739</td></tr>",
                            "<tr><td>2016-06-10</td><td>Posta</td><td>2521</td></tr>",
                            "<tr><td>2016-06-11</td><td>Posta</td><td>3132</td></tr>",
                            "<tr><td>2016-06-12</td><td>Posta</td><td>3022</td></tr>",
                            "<tr><td>2016-06-13</td><td>Posta</td><td>2160</td></tr>",
                            "<tr><td>2016-06-14</td><td>Posta</td><td>2044</td></tr>",
                            "<tr><td>2016-06-15</td><td>Posta</td><td>3674</td></tr>",
                            "<tr><td>2016-06-16</td><td>Posta</td><td>2126</td></tr>",
                            "<tr><td>2016-06-17</td><td>Posta</td><td>3485</td></tr>",
                            "<tr><td>2016-06-18</td><td>Posta</td><td>1140</td></tr>",
                            "<tr><td>2016-06-19</td><td>Posta</td><td>1961</td></tr>",
                            "<tr><td>2016-06-20</td><td>Posta</td><td>2798</td></tr>",
                            "<tr><td>2016-06-21</td><td>Posta</td><td>1405</td></tr>",
                            "<tr><td>2016-06-22</td><td>Posta</td><td>2020</td></tr>",
                            "<tr><td>2016-06-23</td><td>Posta</td><td>1471</td></tr>",
                            "<tr><td>2016-06-24</td><td>Posta</td><td>1873</td></tr>",
                            "<tr><td>2016-06-25</td><td>Posta</td><td>3547</td></tr>",
                            "<tr><td>2016-06-26</td><td>Posta</td><td>3434</td></tr>",
                            "<tr><td>2016-06-27</td><td>Posta</td><td>1445</td></tr>",
                            "<tr><td>2016-06-28</td><td>Posta</td><td>3354</td></tr>",
                            "<tr><td>2016-06-29</td><td>Posta</td><td>3761</td></tr>",
                            "<tr><td>2016-06-30</td><td>Posta</td><td>3030</td></tr>",
                            "<tr><td>2016-07-01</td><td>Posta</td><td>2503</td></tr>",
                            "<tr><td>2016-07-02</td><td>Posta</td><td>2919</td></tr>",
                            "<tr><td>2016-07-03</td><td>Posta</td><td>2819</td></tr>",
                            "<tr><td>2016-07-04</td><td>Posta</td><td>3715</td></tr>",
                            "<tr><td>2016-07-05</td><td>Posta</td><td>3880</td></tr>",
                            "<tr><td>2016-07-06</td><td>Posta</td><td>2899</td></tr>",
                            "<tr><td>2016-07-07</td><td>Posta</td><td>821</td></tr>",
                            "<tr><td>2016-07-08</td><td>Posta</td><td>2224</td></tr>",
                            "<tr><td>2016-07-09</td><td>Posta</td><td>3375</td></tr>",
                            "<tr><td>2016-07-10</td><td>Posta</td><td>2524</td></tr>",
                            "<tr><td>2016-07-11</td><td>Posta</td><td>2294</td></tr>",
                            "<tr><td>2016-07-12</td><td>Posta</td><td>2429</td></tr>",
                            "<tr><td>2016-07-13</td><td>Posta</td><td>4146</td></tr>",
                            "<tr><td>2016-07-14</td><td>Posta</td><td>2288</td></tr>",
                            "<tr><td>2016-07-15</td><td>Posta</td><td>2230</td></tr>",
                            "<tr><td>2016-07-16</td><td>Posta</td><td>2756</td></tr>",
                            "<tr><td>2016-07-17</td><td>Posta</td><td>3030</td></tr>",
                            "<tr><td>2016-07-18</td><td>Posta</td><td>3870</td></tr>",
                            "<tr><td>2016-07-19</td><td>Posta</td><td>1790</td></tr>",
                            "<tr><td>2016-07-20</td><td>Posta</td><td>2639</td></tr>",
                            "<tr><td>2016-07-21</td><td>Posta</td><td>2948</td></tr>",
                            "<tr><td>2016-07-22</td><td>Posta</td><td>3799</td></tr>",
                            "<tr><td>2016-07-23</td><td>Posta</td><td>3275</td></tr>",
                            "<tr><td>2016-07-24</td><td>Posta</td><td>2182</td></tr>",
                            "<tr><td>2016-07-25</td><td>Posta</td><td>1437</td></tr>",
                            "<tr><td>2016-07-26</td><td>Posta</td><td>2151</td></tr>",
                            "<tr><td>2016-07-27</td><td>Posta</td><td>2533</td></tr>",
                            "<tr><td>2016-07-28</td><td>Posta</td><td>1247</td></tr>",
                            "<tr><td>2016-07-29</td><td>Posta</td><td>3420</td></tr>",
                            "<tr><td>2016-07-30</td><td>Posta</td><td>2120</td></tr>",
                            "<tr><td>2016-07-31</td><td>Posta</td><td>3421</td></tr>",
                            "<tr><td>2016-08-01</td><td>Posta</td><td>3600</td></tr>",
                            "<tr><td>2016-08-02</td><td>Posta</td><td>1382</td></tr>",
                            "<tr><td>2016-08-03</td><td>Posta</td><td>2545</td></tr>",
                            "<tr><td>2016-08-04</td><td>Posta</td><td>2667</td></tr>",
                            "<tr><td>2016-08-05</td><td>Posta</td><td>2514</td></tr>",
                            "<tr><td>2016-08-06</td><td>Posta</td><td>3522</td></tr>",
                            "<tr><td>2016-08-07</td><td>Posta</td><td>1790</td></tr>",
                            "<tr><td>2016-08-08</td><td>Posta</td><td>1967</td></tr>",
                            "<tr><td>2016-08-09</td><td>Posta</td><td>3810</td></tr>",
                            "<tr><td>2016-08-10</td><td>Posta</td><td>3079</td></tr>",
                            "<tr><td>2016-08-11</td><td>Posta</td><td>3644</td></tr>",
                            "<tr><td>2016-08-12</td><td>Posta</td><td>3140</td></tr>",
                            "<tr><td>2016-08-13</td><td>Posta</td><td>3725</td></tr>",
                            "<tr><td>2016-08-14</td><td>Posta</td><td>3207</td></tr>",
                            "<tr><td>2016-08-15</td><td>Posta</td><td>3450</td></tr>",
                            "<tr><td>2016-08-16</td><td>Posta</td><td>2234</td></tr>",
                            "<tr><td>2016-08-17</td><td>Posta</td><td>2905</td></tr>",
                            "<tr><td>2016-08-18</td><td>Posta</td><td>3197</td></tr>",
                            "<tr><td>2016-08-19</td><td>Posta</td><td>2938</td></tr>",
                            "<tr><td>2016-08-20</td><td>Posta</td><td>1869</td></tr>",
                            "<tr><td>2016-08-21</td><td>Posta</td><td>1358</td></tr>",
                            "<tr><td>2016-08-22</td><td>Posta</td><td>2650</td></tr>",
                            "<tr><td>2016-08-23</td><td>Posta</td><td>2167</td></tr>",
                            "<tr><td>2016-08-24</td><td>Posta</td><td>1256</td></tr>",
                            "<tr><td>2016-08-25</td><td>Posta</td><td>4586</td></tr>",
                            "<tr><td>2016-08-26</td><td>Posta</td><td>3673</td></tr>",
                            "<tr><td>2016-08-27</td><td>Posta</td><td>2291</td></tr>",
                            "<tr><td>2016-08-28</td><td>Posta</td><td>3540</td></tr>",
                            "<tr><td>2016-08-29</td><td>Posta</td><td>2777</td></tr>",
                            "<tr><td>2016-08-30</td><td>Posta</td><td>1824</td></tr>",
                            "<tr><td>2016-08-31</td><td>Posta</td><td>2072</td></tr>",
                            "<tr><td>2016-09-01</td><td>Posta</td><td>2473</td></tr>",
                            "<tr><td>2016-09-02</td><td>Posta</td><td>2787</td></tr>",
                            "<tr><td>2016-09-03</td><td>Posta</td><td>3437</td></tr>",
                            "<tr><td>2016-09-04</td><td>Posta</td><td>3791</td></tr>",
                            "<tr><td>2016-09-05</td><td>Posta</td><td>1846</td></tr>",
                            "<tr><td>2016-09-06</td><td>Posta</td><td>3533</td></tr>",
                            "<tr><td>2016-09-07</td><td>Posta</td><td>1557</td></tr>",
                            "<tr><td>2016-09-08</td><td>Posta</td><td>2203</td></tr>",
                            "<tr><td>2016-09-09</td><td>Posta</td><td>4839</td></tr>",
                            "<tr><td>2016-09-10</td><td>Posta</td><td>2903</td></tr>",
                            "<tr><td>2016-09-11</td><td>Posta</td><td>2295</td></tr>",
                            "<tr><td>2016-09-12</td><td>Posta</td><td>2298</td></tr>",
                            "<tr><td>2016-09-13</td><td>Posta</td><td>3838</td></tr>",
                            "<tr><td>2016-09-14</td><td>Posta</td><td>3956</td></tr>",
                            "<tr><td>2016-09-15</td><td>Posta</td><td>3674</td></tr>",
                            "<tr><td>2016-09-16</td><td>Posta</td><td>3195</td></tr>",
                            "<tr><td>2016-09-17</td><td>Posta</td><td>3087</td></tr>",
                            "<tr><td>2016-09-18</td><td>Posta</td><td>3600</td></tr>",
                            "<tr><td>2016-09-19</td><td>Posta</td><td>2541</td></tr>",
                            "<tr><td>2016-09-20</td><td>Posta</td><td>1652</td></tr>",
                            "<tr><td>2016-09-21</td><td>Posta</td><td>1244</td></tr>",
                            "<tr><td>2016-09-22</td><td>Posta</td><td>1521</td></tr>",
                            "<tr><td>2016-09-23</td><td>Posta</td><td>2585</td></tr>",
                            "<tr><td>2016-09-24</td><td>Posta</td><td>1676</td></tr>",
                            "<tr><td>2016-09-25</td><td>Posta</td><td>2424</td></tr>",
                            "<tr><td>2016-09-26</td><td>Posta</td><td>1131</td></tr>",
                            "<tr><td>2016-09-27</td><td>Posta</td><td>3115</td></tr>",
                            "<tr><td>2016-09-28</td><td>Posta</td><td>2567</td></tr>",
                            "<tr><td>2016-09-29</td><td>Posta</td><td>2005</td></tr>",
                            "<tr><td>2016-09-30</td><td>Posta</td><td>2688</td></tr>",
                            "<tr><td>2016-10-01</td><td>Posta</td><td>1797</td></tr>",
                            "<tr><td>2016-10-02</td><td>Posta</td><td>3301</td></tr>",
                            "<tr><td>2016-10-03</td><td>Posta</td><td>1515</td></tr>",
                            "<tr><td>2016-10-04</td><td>Posta</td><td>1245</td></tr>",
                            "<tr><td>2016-10-05</td><td>Posta</td><td>3615</td></tr>",
                            "<tr><td>2016-10-06</td><td>Posta</td><td>3080</td></tr>",
                            "<tr><td>2016-10-07</td><td>Posta</td><td>2972</td></tr>",
                            "<tr><td>2016-10-08</td><td>Posta</td><td>3679</td></tr>",
                            "<tr><td>2016-10-09</td><td>Posta</td><td>3144</td></tr>",
                            "<tr><td>2016-10-10</td><td>Posta</td><td>1720</td></tr>",
                            "<tr><td>2016-10-11</td><td>Posta</td><td>2705</td></tr>",
                            "<tr><td>2016-10-12</td><td>Posta</td><td>4523</td></tr>",
                            "<tr><td>2016-10-13</td><td>Posta</td><td>3321</td></tr>",
                            "<tr><td>2016-10-14</td><td>Posta</td><td>3864</td></tr>",
                            "<tr><td>2016-10-15</td><td>Posta</td><td>2305</td></tr>",
                            "<tr><td>2016-10-16</td><td>Posta</td><td>1537</td></tr>",
                            "<tr><td>2016-10-17</td><td>Posta</td><td>3813</td></tr>",
                            "<tr><td>2016-10-18</td><td>Posta</td><td>1570</td></tr>",
                            "<tr><td>2016-10-19</td><td>Posta</td><td>2460</td></tr>",
                            "<tr><td>2016-10-20</td><td>Posta</td><td>2780</td></tr>",
                            "<tr><td>2016-10-21</td><td>Posta</td><td>3850</td></tr>",
                            "<tr><td>2016-10-22</td><td>Posta</td><td>1972</td></tr>",
                            "<tr><td>2016-10-23</td><td>Posta</td><td>4796</td></tr>",
                            "<tr><td>2016-10-24</td><td>Posta</td><td>2421</td></tr>",
                            "<tr><td>2016-10-25</td><td>Posta</td><td>5500</td></tr>",
                            "<tr><td>2016-10-26</td><td>Posta</td><td>3830</td></tr>",
                            "<tr><td>2016-10-27</td><td>Posta</td><td>3623</td></tr>",
                            "<tr><td>2016-10-28</td><td>Posta</td><td>2770</td></tr>",
                            "<tr><td>2016-10-29</td><td>Posta</td><td>1731</td></tr>",
                            "<tr><td>2016-10-30</td><td>Posta</td><td>3613</td></tr>",
                            "<tr><td>2016-10-31</td><td>Posta</td><td>2135</td></tr>",
                            "<tr><td>2016-11-01</td><td>Posta</td><td>2346</td></tr>",
                            "<tr><td>2016-11-02</td><td>Posta</td><td>2154</td></tr>",
                            "<tr><td>2016-11-03</td><td>Posta</td><td>3149</td></tr>",
                            "<tr><td>2016-11-04</td><td>Posta</td><td>1188</td></tr>",
                            "<tr><td>2016-11-05</td><td>Posta</td><td>2748</td></tr>",
                            "<tr><td>2016-11-06</td><td>Posta</td><td>3204</td></tr>",
                            "<tr><td>2016-11-07</td><td>Posta</td><td>1575</td></tr>",
                            "<tr><td>2016-11-08</td><td>Posta</td><td>2571</td></tr>",
                            "<tr><td>2016-11-09</td><td>Posta</td><td>1587</td></tr>",
                            "<tr><td>2016-11-10</td><td>Posta</td><td>3072</td></tr>",
                            "<tr><td>2016-11-11</td><td>Posta</td><td>3383</td></tr>",
                            "<tr><td>2016-11-12</td><td>Posta</td><td>5692</td></tr>",
                            "<tr><td>2016-11-13</td><td>Posta</td><td>3550</td></tr>",
                            "<tr><td>2016-11-14</td><td>Posta</td><td>2110</td></tr>",
                            "<tr><td>2016-11-15</td><td>Posta</td><td>1684</td></tr>",
                            "<tr><td>2016-11-16</td><td>Posta</td><td>1565</td></tr>",
                            "<tr><td>2016-11-17</td><td>Posta</td><td>3138</td></tr>",
                            "<tr><td>2016-11-18</td><td>Posta</td><td>1970</td></tr>",
                            "<tr><td>2016-11-19</td><td>Posta</td><td>3521</td></tr>",
                            "<tr><td>2016-11-20</td><td>Posta</td><td>1536</td></tr>",
                            "<tr><td>2016-11-21</td><td>Posta</td><td>1373</td></tr>",
                            "<tr><td>2016-11-22</td><td>Posta</td><td>3225</td></tr>",
                            "<tr><td>2016-11-23</td><td>Posta</td><td>2050</td></tr>",
                            "<tr><td>2016-11-24</td><td>Posta</td><td>2298</td></tr>",
                            "<tr><td>2016-11-25</td><td>Posta</td><td>2338</td></tr>",
                            "<tr><td>2016-11-26</td><td>Posta</td><td>3030</td></tr>",
                            "<tr><td>2016-11-27</td><td>Posta</td><td>3159</td></tr>",
                            "<tr><td>2016-11-28</td><td>Posta</td><td>2011</td></tr>",
                            "<tr><td>2016-11-29</td><td>Posta</td><td>4664</td></tr>",
                            "<tr><td>2016-11-30</td><td>Posta</td><td>2405</td></tr>",
                            "<tr><td>2016-12-01</td><td>Posta</td><td>3261</td></tr>",
                            "<tr><td>2016-12-02</td><td>Posta</td><td>1350</td></tr>",
                            "<tr><td>2016-12-03</td><td>Posta</td><td>2692</td></tr>",
                            "<tr><td>2016-12-04</td><td>Posta</td><td>2733</td></tr>",
                            "<tr><td>2016-12-05</td><td>Posta</td><td>2248</td></tr>",
                            "<tr><td>2016-12-06</td><td>Posta</td><td>2849</td></tr>",
                            "<tr><td>2016-12-07</td><td>Posta</td><td>3182</td></tr>",
                            "<tr><td>2016-12-08</td><td>Posta</td><td>3295</td></tr>",
                            "<tr><td>2016-12-09</td><td>Posta</td><td>4120</td></tr>",
                            "<tr><td>2016-12-10</td><td>Posta</td><td>3051</td></tr>",
                            "<tr><td>2016-12-11</td><td>Posta</td><td>3801</td></tr>",
                            "<tr><td>2016-12-12</td><td>Posta</td><td>1930</td></tr>",
                            "<tr><td>2016-12-13</td><td>Posta</td><td>3401</td></tr>",
                            "<tr><td>2016-12-14</td><td>Posta</td><td>1825</td></tr>",
                            "<tr><td>2016-12-15</td><td>Posta</td><td>1387</td></tr>",
                            "<tr><td>2016-12-16</td><td>Posta</td><td>2487</td></tr>",
                            "<tr><td>2016-12-17</td><td>Posta</td><td>2713</td></tr>",
                            "<tr><td>2016-12-18</td><td>Posta</td><td>3217</td></tr>",
                            "<tr><td>2016-12-19</td><td>Posta</td><td>2089</td></tr>",
                            "<tr><td>2016-12-20</td><td>Posta</td><td>2484</td></tr>",
                            "<tr><td>2016-12-21</td><td>Posta</td><td>2568</td></tr>",
                            "<tr><td>2016-12-22</td><td>Posta</td><td>1987</td></tr>",
                            "<tr><td>2016-12-23</td><td>Posta</td><td>2243</td></tr>",
                            "<tr><td>2016-12-24</td><td>Posta</td><td>1609</td></tr>",
                            "<tr><td>2016-12-25</td><td>Posta</td><td>2342</td></tr>",
                            "<tr><td>2016-12-26</td><td>Posta</td><td>2875</td></tr>",
                            "<tr><td>2016-12-27</td><td>Posta</td><td>3399</td></tr>",
                            "<tr><td>2016-12-28</td><td>Posta</td><td>1736</td></tr>",
                            "<tr><td>2016-12-29</td><td>Posta</td><td>2777</td></tr>",
                            "<tr><td>2016-12-30</td><td>Posta</td><td>2630</td></tr>",
                            "<tr><td>2016-12-31</td><td>Posta</td><td>1884</td></tr>",
                            "<tr><td>2017-01-01</td><td>Posta</td><td>2167</td></tr>",
                            "<tr><td>2017-01-02</td><td>Posta</td><td>2540</td></tr>",
                            "<tr><td>2017-01-03</td><td>Posta</td><td>3342</td></tr>",
                            "<tr><td>2017-01-04</td><td>Posta</td><td>3767</td></tr>",
                            "<tr><td>2017-01-05</td><td>Posta</td><td>1877</td></tr>",
                            "<tr><td>2017-01-06</td><td>Posta</td><td>2826</td></tr>",
                            "<tr><td>2017-01-07</td><td>Posta</td><td>2146</td></tr>",
                            "<tr><td>2017-01-08</td><td>Posta</td><td>2277</td></tr>",
                            "<tr><td>2017-01-09</td><td>Posta</td><td>4079</td></tr>",
                            "<tr><td>2017-01-10</td><td>Posta</td><td>790</td></tr>",
                            "<tr><td>2017-01-11</td><td>Posta</td><td>2630</td></tr>",
                            "<tr><td>2017-01-12</td><td>Posta</td><td>1817</td></tr>",
                            "<tr><td>2017-01-13</td><td>Posta</td><td>3260</td></tr>",
                            "<tr><td>2017-01-14</td><td>Posta</td><td>2694</td></tr>",
                            "<tr><td>2017-01-15</td><td>Posta</td><td>2613</td></tr>",
                            "<tr><td>2017-01-16</td><td>Posta</td><td>2470</td></tr>",
                            "<tr><td>2017-01-17</td><td>Posta</td><td>3440</td></tr>",
                            "<tr><td>2017-01-18</td><td>Posta</td><td>1919</td></tr>",
                            "<tr><td>2017-01-19</td><td>Posta</td><td>1896</td></tr>",
                            "<tr><td>2017-01-20</td><td>Posta</td><td>1078</td></tr>",
                            "<tr><td>2017-01-21</td><td>Posta</td><td>2179</td></tr>",
                            "<tr><td>2017-01-22</td><td>Posta</td><td>3184</td></tr>",
                            "<tr><td>2017-01-23</td><td>Posta</td><td>2156</td></tr>",
                            "<tr><td>2017-01-24</td><td>Posta</td><td>2208</td></tr>",
                            "<tr><td>2017-01-25</td><td>Posta</td><td>2132</td></tr>",
                            "<tr><td>2017-01-26</td><td>Posta</td><td>2648</td></tr>",
                            "<tr><td>2017-01-27</td><td>Posta</td><td>470</td></tr>",
                            "<tr><td>2017-01-28</td><td>Posta</td><td>1210</td></tr>",
                            "<tr><td>2017-01-29</td><td>Posta</td><td>1907</td></tr>",
                            "<tr><td>2017-01-30</td><td>Posta</td><td>2863</td></tr>",
                            "<tr><td>2017-01-31</td><td>Posta</td><td>2803</td></tr>",
                            "<tr><td>2017-02-01</td><td>Posta</td><td>1413</td></tr>",
                            "<tr><td>2017-02-02</td><td>Posta</td><td>2902</td></tr>",
                            "<tr><td>2017-02-03</td><td>Posta</td><td>3377</td></tr>",
                            "<tr><td>2017-02-04</td><td>Posta</td><td>2763</td></tr>",
                            "<tr><td>2017-02-05</td><td>Posta</td><td>552</td></tr>",
                            "<tr><td>2017-02-06</td><td>Posta</td><td>3121</td></tr>",
                            "<tr><td>2017-02-07</td><td>Posta</td><td>2163</td></tr>",
                            "<tr><td>2017-02-08</td><td>Posta</td><td>4091</td></tr>",
                            "<tr><td>2017-02-09</td><td>Posta</td><td>2526</td></tr>",
                            "<tr><td>2017-02-10</td><td>Posta</td><td>3523</td></tr>",
                            "<tr><td>2017-02-11</td><td>Posta</td><td>2843</td></tr>",
                            "<tr><td>2017-02-12</td><td>Posta</td><td>1286</td></tr>",
                            "<tr><td>2017-02-13</td><td>Posta</td><td>2762</td></tr>",
                            "<tr><td>2017-02-14</td><td>Posta</td><td>3291</td></tr>",
                            "<tr><td>2017-02-15</td><td>Posta</td><td>1917</td></tr>",
                            "<tr><td>2017-02-16</td><td>Posta</td><td>3039</td></tr>",
                            "<tr><td>2017-02-17</td><td>Posta</td><td>3674</td></tr>",
                            "<tr><td>2017-02-18</td><td>Posta</td><td>4213</td></tr>",
                            "<tr><td>2017-02-19</td><td>Posta</td><td>2709</td></tr>",
                            "<tr><td>2017-02-20</td><td>Posta</td><td>2064</td></tr>",
                            "<tr><td>2017-02-21</td><td>Posta</td><td>3010</td></tr>",
                            "<tr><td>2017-02-22</td><td>Posta</td><td>4167</td></tr>",
                            "<tr><td>2017-02-23</td><td>Posta</td><td>2809</td></tr>",
                            "<tr><td>2017-02-24</td><td>Posta</td><td>1873</td></tr>",
                            "<tr><td>2017-02-25</td><td>Posta</td><td>2902</td></tr>",
                            "<tr><td>2017-02-26</td><td>Posta</td><td>2990</td></tr>",
                            "<tr><td>2017-02-27</td><td>Posta</td><td>1768</td></tr>",
                            "<tr><td>2017-02-28</td><td>Posta</td><td>4132</td></tr>",
                            "<tr><td>2017-03-01</td><td>Posta</td><td>732</td></tr>",
                            "<tr><td>2017-03-02</td><td>Posta</td><td>2025</td></tr>",
                            "<tr><td>2017-03-03</td><td>Posta</td><td>2680</td></tr>",
                            "<tr><td>2017-03-04</td><td>Posta</td><td>2115</td></tr>",
                            "<tr><td>2017-03-05</td><td>Posta</td><td>2640</td></tr>",
                            "<tr><td>2017-03-06</td><td>Posta</td><td>3004</td></tr>",
                            "<tr><td>2017-03-07</td><td>Posta</td><td>2945</td></tr>",
                            "<tr><td>2017-03-08</td><td>Posta</td><td>1964</td></tr>",
                            "<tr><td>2017-03-09</td><td>Posta</td><td>1780</td></tr>",
                            "<tr><td>2017-03-10</td><td>Posta</td><td>2256</td></tr>",
                            "<tr><td>2017-03-11</td><td>Posta</td><td>1022</td></tr>",
                            "<tr><td>2017-03-12</td><td>Posta</td><td>1068</td></tr>",
                            "<tr><td>2017-03-13</td><td>Posta</td><td>3239</td></tr>",
                            "<tr><td>2017-03-14</td><td>Posta</td><td>1389</td></tr>",
                            "<tr><td>2017-03-15</td><td>Posta</td><td>4510</td></tr>",
                            "<tr><td>2017-03-16</td><td>Posta</td><td>2780</td></tr>",
                            "<tr><td>2017-03-17</td><td>Posta</td><td>2562</td></tr>",
                            "<tr><td>2017-03-18</td><td>Posta</td><td>2095</td></tr>",
                            "<tr><td>2017-03-19</td><td>Posta</td><td>3719</td></tr>",
                            "<tr><td>2017-03-20</td><td>Posta</td><td>1975</td></tr>",
                            "<tr><td>2017-03-21</td><td>Posta</td><td>2354</td></tr>",
                            "<tr><td>2017-03-22</td><td>Posta</td><td>1742</td></tr>",
                            "<tr><td>2017-03-23</td><td>Posta</td><td>2185</td></tr>",
                            "<tr><td>2017-03-24</td><td>Posta</td><td>1572</td></tr>",
                            "<tr><td>2017-03-25</td><td>Posta</td><td>1572</td></tr>",
                            "<tr><td>2017-03-26</td><td>Posta</td><td>2921</td></tr>",
                            "<tr><td>2017-03-27</td><td>Posta</td><td>3012</td></tr>",
                            "<tr><td>2017-03-28</td><td>Posta</td><td>2861</td></tr>",
                            "<tr><td>2017-03-29</td><td>Posta</td><td>3505</td></tr>",
                            "<tr><td>2017-03-30</td><td>Posta</td><td>1623</td></tr>",
                            "<tr><td>2017-03-31</td><td>Posta</td><td>3170</td></tr>",
                            "<tr><td>2017-04-01</td><td>Posta</td><td>2655</td></tr>",
                            "<tr><td>2017-04-02</td><td>Posta</td><td>4842</td></tr>",
                            "<tr><td>2017-04-03</td><td>Posta</td><td>1850</td></tr>",
                            "<tr><td>2017-04-04</td><td>Posta</td><td>2092</td></tr>",
                            "<tr><td>2017-04-05</td><td>Posta</td><td>1204</td></tr>",
                            "<tr><td>2017-04-06</td><td>Posta</td><td>881</td></tr>",
                            "<tr><td>2017-04-07</td><td>Posta</td><td>2136</td></tr>",
                            "<tr><td>2017-04-08</td><td>Posta</td><td>1289</td></tr>",
                            "<tr><td>2017-04-09</td><td>Posta</td><td>1040</td></tr>",
                            "<tr><td>2017-04-10</td><td>Posta</td><td>680</td></tr>",
                            "<tr><td>2017-04-11</td><td>Posta</td><td>370</td></tr>",
                            "<tr><td>NULL</td><td>Posta</td><td>1835754</td></tr>",
                            "<tr><td>2015-05-04</td><td>Személyes átvétel</td><td>337</td></tr>",
                            "<tr><td>2015-05-05</td><td>Személyes átvétel</td><td>570</td></tr>",
                            "<tr><td>2015-05-06</td><td>Személyes átvétel</td><td>2393</td></tr>",
                            "<tr><td>2015-05-07</td><td>Személyes átvétel</td><td>1500</td></tr>",
                            "<tr><td>2015-05-08</td><td>Személyes átvétel</td><td>1612</td></tr>",
                            "<tr><td>2015-05-09</td><td>Személyes átvétel</td><td>2096</td></tr>",
                            "<tr><td>2015-05-10</td><td>Személyes átvétel</td><td>2820</td></tr>",
                            "<tr><td>2015-05-11</td><td>Személyes átvétel</td><td>2518</td></tr>",
                            "<tr><td>2015-05-12</td><td>Személyes átvétel</td><td>2792</td></tr>",
                            "<tr><td>2015-05-13</td><td>Személyes átvétel</td><td>4719</td></tr>",
                            "<tr><td>2015-05-14</td><td>Személyes átvétel</td><td>5085</td></tr>",
                            "<tr><td>2015-05-15</td><td>Személyes átvétel</td><td>2805</td></tr>",
                            "<tr><td>2015-05-16</td><td>Személyes átvétel</td><td>3422</td></tr>",
                            "<tr><td>2015-05-17</td><td>Személyes átvétel</td><td>1850</td></tr>",
                            "<tr><td>2015-05-18</td><td>Személyes átvétel</td><td>3944</td></tr>",
                            "<tr><td>2015-05-19</td><td>Személyes átvétel</td><td>2371</td></tr>",
                            "<tr><td>2015-05-20</td><td>Személyes átvétel</td><td>3676</td></tr>",
                            "<tr><td>2015-05-21</td><td>Személyes átvétel</td><td>4532</td></tr>",
                            "<tr><td>2015-05-22</td><td>Személyes átvétel</td><td>4205</td></tr>",
                            "<tr><td>2015-05-23</td><td>Személyes átvétel</td><td>2360</td></tr>",
                            "<tr><td>2015-05-24</td><td>Személyes átvétel</td><td>2169</td></tr>",
                            "<tr><td>2015-05-25</td><td>Személyes átvétel</td><td>5598</td></tr>",
                            "<tr><td>2015-05-26</td><td>Személyes átvétel</td><td>4006</td></tr>",
                            "<tr><td>2015-05-27</td><td>Személyes átvétel</td><td>4511</td></tr>",
                            "<tr><td>2015-05-28</td><td>Személyes átvétel</td><td>4352</td></tr>",
                            "<tr><td>2015-05-29</td><td>Személyes átvétel</td><td>4462</td></tr>",
                            "<tr><td>2015-05-30</td><td>Személyes átvétel</td><td>2095</td></tr>",
                            "<tr><td>2015-05-31</td><td>Személyes átvétel</td><td>1360</td></tr>",
                            "<tr><td>2015-06-01</td><td>Személyes átvétel</td><td>2612</td></tr>",
                            "<tr><td>2015-06-02</td><td>Személyes átvétel</td><td>3308</td></tr>",
                            "<tr><td>2015-06-03</td><td>Személyes átvétel</td><td>4700</td></tr>",
                            "<tr><td>2015-06-04</td><td>Személyes átvétel</td><td>2310</td></tr>",
                            "<tr><td>2015-06-05</td><td>Személyes átvétel</td><td>3040</td></tr>",
                            "<tr><td>2015-06-06</td><td>Személyes átvétel</td><td>4159</td></tr>",
                            "<tr><td>2015-06-07</td><td>Személyes átvétel</td><td>1266</td></tr>",
                            "<tr><td>2015-06-08</td><td>Személyes átvétel</td><td>1372</td></tr>",
                            "<tr><td>2015-06-09</td><td>Személyes átvétel</td><td>1448</td></tr>",
                            "<tr><td>2015-06-10</td><td>Személyes átvétel</td><td>2835</td></tr>",
                            "<tr><td>2015-06-11</td><td>Személyes átvétel</td><td>2212</td></tr>",
                            "<tr><td>2015-06-12</td><td>Személyes átvétel</td><td>2612</td></tr>",
                            "<tr><td>2015-06-13</td><td>Személyes átvétel</td><td>2662</td></tr>",
                            "<tr><td>2015-06-14</td><td>Személyes átvétel</td><td>3417</td></tr>",
                            "<tr><td>2015-06-15</td><td>Személyes átvétel</td><td>3138</td></tr>",
                            "<tr><td>2015-06-16</td><td>Személyes átvétel</td><td>1927</td></tr>",
                            "<tr><td>2015-06-17</td><td>Személyes átvétel</td><td>1740</td></tr>",
                            "<tr><td>2015-06-18</td><td>Személyes átvétel</td><td>3830</td></tr>",
                            "<tr><td>2015-06-19</td><td>Személyes átvétel</td><td>2066</td></tr>",
                            "<tr><td>2015-06-20</td><td>Személyes átvétel</td><td>3721</td></tr>",
                            "<tr><td>2015-06-21</td><td>Személyes átvétel</td><td>2631</td></tr>",
                            "<tr><td>2015-06-22</td><td>Személyes átvétel</td><td>3105</td></tr>",
                            "<tr><td>2015-06-23</td><td>Személyes átvétel</td><td>2801</td></tr>",
                            "<tr><td>2015-06-24</td><td>Személyes átvétel</td><td>1751</td></tr>",
                            "<tr><td>2015-06-25</td><td>Személyes átvétel</td><td>2296</td></tr>",
                            "<tr><td>2015-06-26</td><td>Személyes átvétel</td><td>4587</td></tr>",
                            "<tr><td>2015-06-27</td><td>Személyes átvétel</td><td>1964</td></tr>",
                            "<tr><td>2015-06-28</td><td>Személyes átvétel</td><td>1172</td></tr>",
                            "<tr><td>2015-06-29</td><td>Személyes átvétel</td><td>2711</td></tr>",
                            "<tr><td>2015-06-30</td><td>Személyes átvétel</td><td>1706</td></tr>",
                            "<tr><td>2015-07-01</td><td>Személyes átvétel</td><td>3080</td></tr>",
                            "<tr><td>2015-07-02</td><td>Személyes átvétel</td><td>2900</td></tr>",
                            "<tr><td>2015-07-03</td><td>Személyes átvétel</td><td>2282</td></tr>",
                            "<tr><td>2015-07-04</td><td>Személyes átvétel</td><td>3867</td></tr>",
                            "<tr><td>2015-07-05</td><td>Személyes átvétel</td><td>3702</td></tr>",
                            "<tr><td>2015-07-06</td><td>Személyes átvétel</td><td>2463</td></tr>",
                            "<tr><td>2015-07-07</td><td>Személyes átvétel</td><td>2385</td></tr>",
                            "<tr><td>2015-07-08</td><td>Személyes átvétel</td><td>2321</td></tr>",
                            "<tr><td>2015-07-09</td><td>Személyes átvétel</td><td>1861</td></tr>",
                            "<tr><td>2015-07-10</td><td>Személyes átvétel</td><td>1295</td></tr>",
                            "<tr><td>2015-07-11</td><td>Személyes átvétel</td><td>2481</td></tr>",
                            "<tr><td>2015-07-12</td><td>Személyes átvétel</td><td>3181</td></tr>",
                            "<tr><td>2015-07-13</td><td>Személyes átvétel</td><td>2717</td></tr>",
                            "<tr><td>2015-07-14</td><td>Személyes átvétel</td><td>2262</td></tr>",
                            "<tr><td>2015-07-15</td><td>Személyes átvétel</td><td>3308</td></tr>",
                            "<tr><td>2015-07-16</td><td>Személyes átvétel</td><td>1778</td></tr>",
                            "<tr><td>2015-07-17</td><td>Személyes átvétel</td><td>1463</td></tr>",
                            "<tr><td>2015-07-18</td><td>Személyes átvétel</td><td>2867</td></tr>",
                            "<tr><td>2015-07-19</td><td>Személyes átvétel</td><td>2725</td></tr>",
                            "<tr><td>2015-07-20</td><td>Személyes átvétel</td><td>2919</td></tr>",
                            "<tr><td>2015-07-21</td><td>Személyes átvétel</td><td>2631</td></tr>",
                            "<tr><td>2015-07-22</td><td>Személyes átvétel</td><td>2350</td></tr>",
                            "<tr><td>2015-07-23</td><td>Személyes átvétel</td><td>2876</td></tr>",
                            "<tr><td>2015-07-24</td><td>Személyes átvétel</td><td>3057</td></tr>",
                            "<tr><td>2015-07-25</td><td>Személyes átvétel</td><td>2467</td></tr>",
                            "<tr><td>2015-07-26</td><td>Személyes átvétel</td><td>3772</td></tr>",
                            "<tr><td>2015-07-27</td><td>Személyes átvétel</td><td>1330</td></tr>",
                            "<tr><td>2015-07-28</td><td>Személyes átvétel</td><td>1774</td></tr>",
                            "<tr><td>2015-07-29</td><td>Személyes átvétel</td><td>2753</td></tr>",
                            "<tr><td>2015-07-30</td><td>Személyes átvétel</td><td>3588</td></tr>",
                            "<tr><td>2015-07-31</td><td>Személyes átvétel</td><td>1779</td></tr>",
                            "<tr><td>2015-08-01</td><td>Személyes átvétel</td><td>3437</td></tr>",
                            "<tr><td>2015-08-02</td><td>Személyes átvétel</td><td>2995</td></tr>",
                            "<tr><td>2015-08-03</td><td>Személyes átvétel</td><td>3762</td></tr>",
                            "<tr><td>2015-08-04</td><td>Személyes átvétel</td><td>4947</td></tr>",
                            "<tr><td>2015-08-05</td><td>Személyes átvétel</td><td>4154</td></tr>",
                            "<tr><td>2015-08-06</td><td>Személyes átvétel</td><td>1801</td></tr>",
                            "<tr><td>2015-08-07</td><td>Személyes átvétel</td><td>2676</td></tr>",
                            "<tr><td>2015-08-08</td><td>Személyes átvétel</td><td>4053</td></tr>",
                            "<tr><td>2015-08-09</td><td>Személyes átvétel</td><td>1558</td></tr>",
                            "<tr><td>2015-08-10</td><td>Személyes átvétel</td><td>3720</td></tr>",
                            "<tr><td>2015-08-11</td><td>Személyes átvétel</td><td>2775</td></tr>",
                            "<tr><td>2015-08-12</td><td>Személyes átvétel</td><td>2053</td></tr>",
                            "<tr><td>2015-08-13</td><td>Személyes átvétel</td><td>2152</td></tr>",
                            "<tr><td>2015-08-14</td><td>Személyes átvétel</td><td>3277</td></tr>",
                            "<tr><td>2015-08-15</td><td>Személyes átvétel</td><td>3740</td></tr>",
                            "<tr><td>2015-08-16</td><td>Személyes átvétel</td><td>2178</td></tr>",
                            "<tr><td>2015-08-17</td><td>Személyes átvétel</td><td>2813</td></tr>",
                            "<tr><td>2015-08-18</td><td>Személyes átvétel</td><td>2734</td></tr>",
                            "<tr><td>2015-08-19</td><td>Személyes átvétel</td><td>2147</td></tr>",
                            "<tr><td>2015-08-20</td><td>Személyes átvétel</td><td>3934</td></tr>",
                            "<tr><td>2015-08-21</td><td>Személyes átvétel</td><td>1989</td></tr>",
                            "<tr><td>2015-08-22</td><td>Személyes átvétel</td><td>3430</td></tr>",
                            "<tr><td>2015-08-23</td><td>Személyes átvétel</td><td>1383</td></tr>",
                            "<tr><td>2015-08-24</td><td>Személyes átvétel</td><td>2696</td></tr>",
                            "<tr><td>2015-08-25</td><td>Személyes átvétel</td><td>2936</td></tr>",
                            "<tr><td>2015-08-26</td><td>Személyes átvétel</td><td>1916</td></tr>",
                            "<tr><td>2015-08-27</td><td>Személyes átvétel</td><td>1232</td></tr>",
                            "<tr><td>2015-08-28</td><td>Személyes átvétel</td><td>3402</td></tr>",
                            "<tr><td>2015-08-29</td><td>Személyes átvétel</td><td>2494</td></tr>",
                            "<tr><td>2015-08-30</td><td>Személyes átvétel</td><td>3091</td></tr>",
                            "<tr><td>2015-08-31</td><td>Személyes átvétel</td><td>1966</td></tr>",
                            "<tr><td>2015-09-01</td><td>Személyes átvétel</td><td>3984</td></tr>",
                            "<tr><td>2015-09-02</td><td>Személyes átvétel</td><td>1415</td></tr>",
                            "<tr><td>2015-09-03</td><td>Személyes átvétel</td><td>3140</td></tr>",
                            "<tr><td>2015-09-04</td><td>Személyes átvétel</td><td>4091</td></tr>",
                            "<tr><td>2015-09-05</td><td>Személyes átvétel</td><td>3441</td></tr>",
                            "<tr><td>2015-09-06</td><td>Személyes átvétel</td><td>3096</td></tr>",
                            "<tr><td>2015-09-07</td><td>Személyes átvétel</td><td>3857</td></tr>",
                            "<tr><td>2015-09-08</td><td>Személyes átvétel</td><td>3111</td></tr>",
                            "<tr><td>2015-09-09</td><td>Személyes átvétel</td><td>3508</td></tr>",
                            "<tr><td>2015-09-10</td><td>Személyes átvétel</td><td>3255</td></tr>",
                            "<tr><td>2015-09-11</td><td>Személyes átvétel</td><td>2009</td></tr>",
                            "<tr><td>2015-09-12</td><td>Személyes átvétel</td><td>4896</td></tr>",
                            "<tr><td>2015-09-13</td><td>Személyes átvétel</td><td>1564</td></tr>",
                            "<tr><td>2015-09-14</td><td>Személyes átvétel</td><td>2556</td></tr>",
                            "<tr><td>2015-09-15</td><td>Személyes átvétel</td><td>2160</td></tr>",
                            "<tr><td>2015-09-16</td><td>Személyes átvétel</td><td>1310</td></tr>",
                            "<tr><td>2015-09-17</td><td>Személyes átvétel</td><td>2581</td></tr>",
                            "<tr><td>2015-09-18</td><td>Személyes átvétel</td><td>3136</td></tr>",
                            "<tr><td>2015-09-19</td><td>Személyes átvétel</td><td>2950</td></tr>",
                            "<tr><td>2015-09-20</td><td>Személyes átvétel</td><td>2657</td></tr>",
                            "<tr><td>2015-09-21</td><td>Személyes átvétel</td><td>1950</td></tr>",
                            "<tr><td>2015-09-22</td><td>Személyes átvétel</td><td>3299</td></tr>",
                            "<tr><td>2015-09-23</td><td>Személyes átvétel</td><td>2543</td></tr>",
                            "<tr><td>2015-09-24</td><td>Személyes átvétel</td><td>3968</td></tr>",
                            "<tr><td>2015-09-25</td><td>Személyes átvétel</td><td>2083</td></tr>",
                            "<tr><td>2015-09-26</td><td>Személyes átvétel</td><td>3168</td></tr>",
                            "<tr><td>2015-09-27</td><td>Személyes átvétel</td><td>2832</td></tr>",
                            "<tr><td>2015-09-28</td><td>Személyes átvétel</td><td>3841</td></tr>",
                            "<tr><td>2015-09-29</td><td>Személyes átvétel</td><td>2249</td></tr>",
                            "<tr><td>2015-09-30</td><td>Személyes átvétel</td><td>2387</td></tr>",
                            "<tr><td>2015-10-01</td><td>Személyes átvétel</td><td>3192</td></tr>",
                            "<tr><td>2015-10-02</td><td>Személyes átvétel</td><td>1213</td></tr>",
                            "<tr><td>2015-10-03</td><td>Személyes átvétel</td><td>4261</td></tr>",
                            "<tr><td>2015-10-04</td><td>Személyes átvétel</td><td>2430</td></tr>",
                            "<tr><td>2015-10-05</td><td>Személyes átvétel</td><td>2170</td></tr>",
                            "<tr><td>2015-10-06</td><td>Személyes átvétel</td><td>2226</td></tr>",
                            "<tr><td>2015-10-07</td><td>Személyes átvétel</td><td>3422</td></tr>",
                            "<tr><td>2015-10-08</td><td>Személyes átvétel</td><td>2711</td></tr>",
                            "<tr><td>2015-10-09</td><td>Személyes átvétel</td><td>3284</td></tr>",
                            "<tr><td>2015-10-10</td><td>Személyes átvétel</td><td>3813</td></tr>",
                            "<tr><td>2015-10-11</td><td>Személyes átvétel</td><td>3582</td></tr>",
                            "<tr><td>2015-10-12</td><td>Személyes átvétel</td><td>1372</td></tr>",
                            "<tr><td>2015-10-13</td><td>Személyes átvétel</td><td>2657</td></tr>",
                            "<tr><td>2015-10-14</td><td>Személyes átvétel</td><td>1330</td></tr>",
                            "<tr><td>2015-10-15</td><td>Személyes átvétel</td><td>2639</td></tr>",
                            "<tr><td>2015-10-16</td><td>Személyes átvétel</td><td>2798</td></tr>",
                            "<tr><td>2015-10-17</td><td>Személyes átvétel</td><td>2930</td></tr>",
                            "<tr><td>2015-10-18</td><td>Személyes átvétel</td><td>3267</td></tr>",
                            "<tr><td>2015-10-19</td><td>Személyes átvétel</td><td>1632</td></tr>",
                            "<tr><td>2015-10-20</td><td>Személyes átvétel</td><td>3069</td></tr>",
                            "<tr><td>2015-10-21</td><td>Személyes átvétel</td><td>2693</td></tr>",
                            "<tr><td>2015-10-22</td><td>Személyes átvétel</td><td>1603</td></tr>",
                            "<tr><td>2015-10-23</td><td>Személyes átvétel</td><td>3046</td></tr>",
                            "<tr><td>2015-10-24</td><td>Személyes átvétel</td><td>2734</td></tr>",
                            "<tr><td>2015-10-25</td><td>Személyes átvétel</td><td>3493</td></tr>",
                            "<tr><td>2015-10-26</td><td>Személyes átvétel</td><td>2229</td></tr>",
                            "<tr><td>2015-10-27</td><td>Személyes átvétel</td><td>3237</td></tr>",
                            "<tr><td>2015-10-28</td><td>Személyes átvétel</td><td>1748</td></tr>",
                            "<tr><td>2015-10-29</td><td>Személyes átvétel</td><td>1972</td></tr>",
                            "<tr><td>2015-10-30</td><td>Személyes átvétel</td><td>2621</td></tr>",
                            "<tr><td>2015-10-31</td><td>Személyes átvétel</td><td>2167</td></tr>",
                            "<tr><td>2015-11-01</td><td>Személyes átvétel</td><td>2092</td></tr>",
                            "<tr><td>2015-11-02</td><td>Személyes átvétel</td><td>1855</td></tr>",
                            "<tr><td>2015-11-03</td><td>Személyes átvétel</td><td>3314</td></tr>",
                            "<tr><td>2015-11-04</td><td>Személyes átvétel</td><td>1734</td></tr>",
                            "<tr><td>2015-11-05</td><td>Személyes átvétel</td><td>2909</td></tr>",
                            "<tr><td>2015-11-06</td><td>Személyes átvétel</td><td>2282</td></tr>",
                            "<tr><td>2015-11-07</td><td>Személyes átvétel</td><td>1783</td></tr>",
                            "<tr><td>2015-11-08</td><td>Személyes átvétel</td><td>4348</td></tr>",
                            "<tr><td>2015-11-09</td><td>Személyes átvétel</td><td>2843</td></tr>",
                            "<tr><td>2015-11-10</td><td>Személyes átvétel</td><td>2300</td></tr>",
                            "<tr><td>2015-11-11</td><td>Személyes átvétel</td><td>4226</td></tr>",
                            "<tr><td>2015-11-12</td><td>Személyes átvétel</td><td>1450</td></tr>",
                            "<tr><td>2015-11-13</td><td>Személyes átvétel</td><td>2175</td></tr>",
                            "<tr><td>2015-11-14</td><td>Személyes átvétel</td><td>2153</td></tr>",
                            "<tr><td>2015-11-15</td><td>Személyes átvétel</td><td>1764</td></tr>",
                            "<tr><td>2015-11-16</td><td>Személyes átvétel</td><td>3324</td></tr>",
                            "<tr><td>2015-11-17</td><td>Személyes átvétel</td><td>1956</td></tr>",
                            "<tr><td>2015-11-18</td><td>Személyes átvétel</td><td>2516</td></tr>",
                            "<tr><td>2015-11-19</td><td>Személyes átvétel</td><td>1045</td></tr>",
                            "<tr><td>2015-11-20</td><td>Személyes átvétel</td><td>1932</td></tr>",
                            "<tr><td>2015-11-21</td><td>Személyes átvétel</td><td>2467</td></tr>",
                            "<tr><td>2015-11-22</td><td>Személyes átvétel</td><td>2633</td></tr>",
                            "<tr><td>2015-11-23</td><td>Személyes átvétel</td><td>2985</td></tr>",
                            "<tr><td>2015-11-24</td><td>Személyes átvétel</td><td>2219</td></tr>",
                            "<tr><td>2015-11-25</td><td>Személyes átvétel</td><td>1042</td></tr>",
                            "<tr><td>2015-11-26</td><td>Személyes átvétel</td><td>2163</td></tr>",
                            "<tr><td>2015-11-27</td><td>Személyes átvétel</td><td>1723</td></tr>",
                            "<tr><td>2015-11-28</td><td>Személyes átvétel</td><td>2766</td></tr>",
                            "<tr><td>2015-11-29</td><td>Személyes átvétel</td><td>1660</td></tr>",
                            "<tr><td>2015-11-30</td><td>Személyes átvétel</td><td>2996</td></tr>",
                            "<tr><td>2015-12-01</td><td>Személyes átvétel</td><td>2444</td></tr>",
                            "<tr><td>2015-12-02</td><td>Személyes átvétel</td><td>5033</td></tr>",
                            "<tr><td>2015-12-03</td><td>Személyes átvétel</td><td>2526</td></tr>",
                            "<tr><td>2015-12-04</td><td>Személyes átvétel</td><td>3022</td></tr>",
                            "<tr><td>2015-12-05</td><td>Személyes átvétel</td><td>1859</td></tr>",
                            "<tr><td>2015-12-06</td><td>Személyes átvétel</td><td>2020</td></tr>",
                            "<tr><td>2015-12-07</td><td>Személyes átvétel</td><td>4893</td></tr>",
                            "<tr><td>2015-12-08</td><td>Személyes átvétel</td><td>3286</td></tr>",
                            "<tr><td>2015-12-09</td><td>Személyes átvétel</td><td>2589</td></tr>",
                            "<tr><td>2015-12-10</td><td>Személyes átvétel</td><td>3179</td></tr>",
                            "<tr><td>2015-12-11</td><td>Személyes átvétel</td><td>2469</td></tr>",
                            "<tr><td>2015-12-12</td><td>Személyes átvétel</td><td>3012</td></tr>",
                            "<tr><td>2015-12-13</td><td>Személyes átvétel</td><td>1890</td></tr>",
                            "<tr><td>2015-12-14</td><td>Személyes átvétel</td><td>2869</td></tr>",
                            "<tr><td>2015-12-15</td><td>Személyes átvétel</td><td>2844</td></tr>",
                            "<tr><td>2015-12-16</td><td>Személyes átvétel</td><td>3760</td></tr>",
                            "<tr><td>2015-12-17</td><td>Személyes átvétel</td><td>1423</td></tr>",
                            "<tr><td>2015-12-18</td><td>Személyes átvétel</td><td>4148</td></tr>",
                            "<tr><td>2015-12-19</td><td>Személyes átvétel</td><td>2045</td></tr>",
                            "<tr><td>2015-12-20</td><td>Személyes átvétel</td><td>2405</td></tr>",
                            "<tr><td>2015-12-21</td><td>Személyes átvétel</td><td>2686</td></tr>",
                            "<tr><td>2015-12-22</td><td>Személyes átvétel</td><td>2561</td></tr>",
                            "<tr><td>2015-12-23</td><td>Személyes átvétel</td><td>3387</td></tr>",
                            "<tr><td>2015-12-24</td><td>Személyes átvétel</td><td>2959</td></tr>",
                            "<tr><td>2015-12-25</td><td>Személyes átvétel</td><td>1609</td></tr>",
                            "<tr><td>2015-12-26</td><td>Személyes átvétel</td><td>3731</td></tr>",
                            "<tr><td>2015-12-27</td><td>Személyes átvétel</td><td>2819</td></tr>",
                            "<tr><td>2015-12-28</td><td>Személyes átvétel</td><td>2602</td></tr>",
                            "<tr><td>2015-12-29</td><td>Személyes átvétel</td><td>2199</td></tr>",
                            "<tr><td>2015-12-30</td><td>Személyes átvétel</td><td>1833</td></tr>",
                            "<tr><td>2015-12-31</td><td>Személyes átvétel</td><td>3773</td></tr>",
                            "<tr><td>2016-01-01</td><td>Személyes átvétel</td><td>1448</td></tr>",
                            "<tr><td>2016-01-02</td><td>Személyes átvétel</td><td>2668</td></tr>",
                            "<tr><td>2016-01-03</td><td>Személyes átvétel</td><td>2906</td></tr>",
                            "<tr><td>2016-01-04</td><td>Személyes átvétel</td><td>3917</td></tr>",
                            "<tr><td>2016-01-05</td><td>Személyes átvétel</td><td>3213</td></tr>",
                            "<tr><td>2016-01-06</td><td>Személyes átvétel</td><td>1870</td></tr>",
                            "<tr><td>2016-01-07</td><td>Személyes átvétel</td><td>2073</td></tr>",
                            "<tr><td>2016-01-08</td><td>Személyes átvétel</td><td>2769</td></tr>",
                            "<tr><td>2016-01-09</td><td>Személyes átvétel</td><td>2672</td></tr>",
                            "<tr><td>2016-01-10</td><td>Személyes átvétel</td><td>2828</td></tr>",
                            "<tr><td>2016-01-11</td><td>Személyes átvétel</td><td>1744</td></tr>",
                            "<tr><td>2016-01-12</td><td>Személyes átvétel</td><td>1956</td></tr>",
                            "<tr><td>2016-01-13</td><td>Személyes átvétel</td><td>2398</td></tr>",
                            "<tr><td>2016-01-14</td><td>Személyes átvétel</td><td>3330</td></tr>",
                            "<tr><td>2016-01-15</td><td>Személyes átvétel</td><td>4472</td></tr>",
                            "<tr><td>2016-01-16</td><td>Személyes átvétel</td><td>1907</td></tr>",
                            "<tr><td>2016-01-17</td><td>Személyes átvétel</td><td>2595</td></tr>",
                            "<tr><td>2016-01-18</td><td>Személyes átvétel</td><td>1777</td></tr>",
                            "<tr><td>2016-01-19</td><td>Személyes átvétel</td><td>1800</td></tr>",
                            "<tr><td>2016-01-20</td><td>Személyes átvétel</td><td>3362</td></tr>",
                            "<tr><td>2016-01-21</td><td>Személyes átvétel</td><td>3688</td></tr>",
                            "<tr><td>2016-01-22</td><td>Személyes átvétel</td><td>3110</td></tr>",
                            "<tr><td>2016-01-23</td><td>Személyes átvétel</td><td>2372</td></tr>",
                            "<tr><td>2016-01-24</td><td>Személyes átvétel</td><td>3179</td></tr>",
                            "<tr><td>2016-01-25</td><td>Személyes átvétel</td><td>1050</td></tr>",
                            "<tr><td>2016-01-26</td><td>Személyes átvétel</td><td>1718</td></tr>",
                            "<tr><td>2016-01-27</td><td>Személyes átvétel</td><td>2947</td></tr>",
                            "<tr><td>2016-01-28</td><td>Személyes átvétel</td><td>3251</td></tr>",
                            "<tr><td>2016-01-29</td><td>Személyes átvétel</td><td>2247</td></tr>",
                            "<tr><td>2016-01-30</td><td>Személyes átvétel</td><td>979</td></tr>",
                            "<tr><td>2016-01-31</td><td>Személyes átvétel</td><td>2988</td></tr>",
                            "<tr><td>2016-02-01</td><td>Személyes átvétel</td><td>2029</td></tr>",
                            "<tr><td>2016-02-02</td><td>Személyes átvétel</td><td>1921</td></tr>",
                            "<tr><td>2016-02-03</td><td>Személyes átvétel</td><td>2648</td></tr>",
                            "<tr><td>2016-02-04</td><td>Személyes átvétel</td><td>2464</td></tr>",
                            "<tr><td>2016-02-05</td><td>Személyes átvétel</td><td>4169</td></tr>",
                            "<tr><td>2016-02-06</td><td>Személyes átvétel</td><td>2538</td></tr>",
                            "<tr><td>2016-02-07</td><td>Személyes átvétel</td><td>2222</td></tr>",
                            "<tr><td>2016-02-08</td><td>Személyes átvétel</td><td>3490</td></tr>",
                            "<tr><td>2016-02-09</td><td>Személyes átvétel</td><td>2660</td></tr>",
                            "<tr><td>2016-02-10</td><td>Személyes átvétel</td><td>2903</td></tr>",
                            "<tr><td>2016-02-11</td><td>Személyes átvétel</td><td>1228</td></tr>",
                            "<tr><td>2016-02-12</td><td>Személyes átvétel</td><td>2319</td></tr>",
                            "<tr><td>2016-02-13</td><td>Személyes átvétel</td><td>2868</td></tr>",
                            "<tr><td>2016-02-14</td><td>Személyes átvétel</td><td>2598</td></tr>",
                            "<tr><td>2016-02-15</td><td>Személyes átvétel</td><td>3560</td></tr>",
                            "<tr><td>2016-02-16</td><td>Személyes átvétel</td><td>3721</td></tr>",
                            "<tr><td>2016-02-17</td><td>Személyes átvétel</td><td>4318</td></tr>",
                            "<tr><td>2016-02-18</td><td>Személyes átvétel</td><td>1773</td></tr>",
                            "<tr><td>2016-02-19</td><td>Személyes átvétel</td><td>2902</td></tr>",
                            "<tr><td>2016-02-20</td><td>Személyes átvétel</td><td>3524</td></tr>",
                            "<tr><td>2016-02-21</td><td>Személyes átvétel</td><td>1516</td></tr>",
                            "<tr><td>2016-02-22</td><td>Személyes átvétel</td><td>2566</td></tr>",
                            "<tr><td>2016-02-23</td><td>Személyes átvétel</td><td>2855</td></tr>",
                            "<tr><td>2016-02-24</td><td>Személyes átvétel</td><td>1165</td></tr>",
                            "<tr><td>2016-02-25</td><td>Személyes átvétel</td><td>2560</td></tr>",
                            "<tr><td>2016-02-26</td><td>Személyes átvétel</td><td>2270</td></tr>",
                            "<tr><td>2016-02-27</td><td>Személyes átvétel</td><td>1693</td></tr>",
                            "<tr><td>2016-02-28</td><td>Személyes átvétel</td><td>2581</td></tr>",
                            "<tr><td>2016-02-29</td><td>Személyes átvétel</td><td>2991</td></tr>",
                            "<tr><td>2016-03-01</td><td>Személyes átvétel</td><td>3604</td></tr>",
                            "<tr><td>2016-03-02</td><td>Személyes átvétel</td><td>1376</td></tr>",
                            "<tr><td>2016-03-03</td><td>Személyes átvétel</td><td>3691</td></tr>",
                            "<tr><td>2016-03-04</td><td>Személyes átvétel</td><td>3016</td></tr>",
                            "<tr><td>2016-03-05</td><td>Személyes átvétel</td><td>2620</td></tr>",
                            "<tr><td>2016-03-06</td><td>Személyes átvétel</td><td>2181</td></tr>",
                            "<tr><td>2016-03-07</td><td>Személyes átvétel</td><td>1784</td></tr>",
                            "<tr><td>2016-03-08</td><td>Személyes átvétel</td><td>1838</td></tr>",
                            "<tr><td>2016-03-09</td><td>Személyes átvétel</td><td>3064</td></tr>",
                            "<tr><td>2016-03-10</td><td>Személyes átvétel</td><td>3708</td></tr>",
                            "<tr><td>2016-03-11</td><td>Személyes átvétel</td><td>1742</td></tr>",
                            "<tr><td>2016-03-12</td><td>Személyes átvétel</td><td>4471</td></tr>",
                            "<tr><td>2016-03-13</td><td>Személyes átvétel</td><td>2434</td></tr>",
                            "<tr><td>2016-03-14</td><td>Személyes átvétel</td><td>4003</td></tr>",
                            "<tr><td>2016-03-15</td><td>Személyes átvétel</td><td>4043</td></tr>",
                            "<tr><td>2016-03-16</td><td>Személyes átvétel</td><td>1651</td></tr>",
                            "<tr><td>2016-03-17</td><td>Személyes átvétel</td><td>2305</td></tr>",
                            "<tr><td>2016-03-18</td><td>Személyes átvétel</td><td>3604</td></tr>",
                            "<tr><td>2016-03-19</td><td>Személyes átvétel</td><td>3393</td></tr>",
                            "<tr><td>2016-03-20</td><td>Személyes átvétel</td><td>2866</td></tr>",
                            "<tr><td>2016-03-21</td><td>Személyes átvétel</td><td>3890</td></tr>",
                            "<tr><td>2016-03-22</td><td>Személyes átvétel</td><td>2132</td></tr>",
                            "<tr><td>2016-03-23</td><td>Személyes átvétel</td><td>2251</td></tr>",
                            "<tr><td>2016-03-24</td><td>Személyes átvétel</td><td>1902</td></tr>",
                            "<tr><td>2016-03-25</td><td>Személyes átvétel</td><td>1530</td></tr>",
                            "<tr><td>2016-03-26</td><td>Személyes átvétel</td><td>2109</td></tr>",
                            "<tr><td>2016-03-27</td><td>Személyes átvétel</td><td>3489</td></tr>",
                            "<tr><td>2016-03-28</td><td>Személyes átvétel</td><td>2939</td></tr>",
                            "<tr><td>2016-03-29</td><td>Személyes átvétel</td><td>2350</td></tr>",
                            "<tr><td>2016-03-30</td><td>Személyes átvétel</td><td>3302</td></tr>",
                            "<tr><td>2016-03-31</td><td>Személyes átvétel</td><td>2430</td></tr>",
                            "<tr><td>2016-04-01</td><td>Személyes átvétel</td><td>2630</td></tr>",
                            "<tr><td>2016-04-02</td><td>Személyes átvétel</td><td>2052</td></tr>",
                            "<tr><td>2016-04-03</td><td>Személyes átvétel</td><td>2635</td></tr>",
                            "<tr><td>2016-04-04</td><td>Személyes átvétel</td><td>2108</td></tr>",
                            "<tr><td>2016-04-05</td><td>Személyes átvétel</td><td>2495</td></tr>",
                            "<tr><td>2016-04-06</td><td>Személyes átvétel</td><td>3683</td></tr>",
                            "<tr><td>2016-04-07</td><td>Személyes átvétel</td><td>3044</td></tr>",
                            "<tr><td>2016-04-08</td><td>Személyes átvétel</td><td>3332</td></tr>",
                            "<tr><td>2016-04-09</td><td>Személyes átvétel</td><td>2843</td></tr>",
                            "<tr><td>2016-04-10</td><td>Személyes átvétel</td><td>3633</td></tr>",
                            "<tr><td>2016-04-11</td><td>Személyes átvétel</td><td>3866</td></tr>",
                            "<tr><td>2016-04-12</td><td>Személyes átvétel</td><td>1458</td></tr>",
                            "<tr><td>2016-04-13</td><td>Személyes átvétel</td><td>3363</td></tr>",
                            "<tr><td>2016-04-14</td><td>Személyes átvétel</td><td>3324</td></tr>",
                            "<tr><td>2016-04-15</td><td>Személyes átvétel</td><td>2289</td></tr>",
                            "<tr><td>2016-04-16</td><td>Személyes átvétel</td><td>2686</td></tr>",
                            "<tr><td>2016-04-17</td><td>Személyes átvétel</td><td>3972</td></tr>",
                            "<tr><td>2016-04-18</td><td>Személyes átvétel</td><td>3438</td></tr>",
                            "<tr><td>2016-04-19</td><td>Személyes átvétel</td><td>2843</td></tr>",
                            "<tr><td>2016-04-20</td><td>Személyes átvétel</td><td>1289</td></tr>",
                            "<tr><td>2016-04-21</td><td>Személyes átvétel</td><td>1572</td></tr>",
                            "<tr><td>2016-04-22</td><td>Személyes átvétel</td><td>2702</td></tr>",
                            "<tr><td>2016-04-23</td><td>Személyes átvétel</td><td>1281</td></tr>",
                            "<tr><td>2016-04-24</td><td>Személyes átvétel</td><td>3438</td></tr>",
                            "<tr><td>2016-04-25</td><td>Személyes átvétel</td><td>4515</td></tr>",
                            "<tr><td>2016-04-26</td><td>Személyes átvétel</td><td>1545</td></tr>",
                            "<tr><td>2016-04-27</td><td>Személyes átvétel</td><td>2263</td></tr>",
                            "<tr><td>2016-04-28</td><td>Személyes átvétel</td><td>2545</td></tr>",
                            "<tr><td>2016-04-29</td><td>Személyes átvétel</td><td>2511</td></tr>",
                            "<tr><td>2016-04-30</td><td>Személyes átvétel</td><td>1840</td></tr>",
                            "<tr><td>2016-05-01</td><td>Személyes átvétel</td><td>1799</td></tr>",
                            "<tr><td>2016-05-02</td><td>Személyes átvétel</td><td>2838</td></tr>",
                            "<tr><td>2016-05-03</td><td>Személyes átvétel</td><td>2527</td></tr>",
                            "<tr><td>2016-05-04</td><td>Személyes átvétel</td><td>2849</td></tr>",
                            "<tr><td>2016-05-05</td><td>Személyes átvétel</td><td>2526</td></tr>",
                            "<tr><td>2016-05-06</td><td>Személyes átvétel</td><td>2316</td></tr>",
                            "<tr><td>2016-05-07</td><td>Személyes átvétel</td><td>4067</td></tr>",
                            "<tr><td>2016-05-08</td><td>Személyes átvétel</td><td>2375</td></tr>",
                            "<tr><td>2016-05-09</td><td>Személyes átvétel</td><td>4986</td></tr>",
                            "<tr><td>2016-05-10</td><td>Személyes átvétel</td><td>2481</td></tr>",
                            "<tr><td>2016-05-11</td><td>Személyes átvétel</td><td>2136</td></tr>",
                            "<tr><td>2016-05-12</td><td>Személyes átvétel</td><td>2387</td></tr>",
                            "<tr><td>2016-05-13</td><td>Személyes átvétel</td><td>2313</td></tr>",
                            "<tr><td>2016-05-14</td><td>Személyes átvétel</td><td>3280</td></tr>",
                            "<tr><td>2016-05-15</td><td>Személyes átvétel</td><td>2140</td></tr>",
                            "<tr><td>2016-05-16</td><td>Személyes átvétel</td><td>1971</td></tr>",
                            "<tr><td>2016-05-17</td><td>Személyes átvétel</td><td>3828</td></tr>",
                            "<tr><td>2016-05-18</td><td>Személyes átvétel</td><td>1390</td></tr>",
                            "<tr><td>2016-05-19</td><td>Személyes átvétel</td><td>2161</td></tr>",
                            "<tr><td>2016-05-20</td><td>Személyes átvétel</td><td>3114</td></tr>",
                            "<tr><td>2016-05-21</td><td>Személyes átvétel</td><td>3130</td></tr>",
                            "<tr><td>2016-05-22</td><td>Személyes átvétel</td><td>2135</td></tr>",
                            "<tr><td>2016-05-23</td><td>Személyes átvétel</td><td>2799</td></tr>",
                            "<tr><td>2016-05-24</td><td>Személyes átvétel</td><td>2566</td></tr>",
                            "<tr><td>2016-05-25</td><td>Személyes átvétel</td><td>2922</td></tr>",
                            "<tr><td>2016-05-26</td><td>Személyes átvétel</td><td>2584</td></tr>",
                            "<tr><td>2016-05-27</td><td>Személyes átvétel</td><td>3401</td></tr>",
                            "<tr><td>2016-05-28</td><td>Személyes átvétel</td><td>2310</td></tr>",
                            "<tr><td>2016-05-29</td><td>Személyes átvétel</td><td>3120</td></tr>",
                            "<tr><td>2016-05-30</td><td>Személyes átvétel</td><td>1732</td></tr>",
                            "<tr><td>2016-05-31</td><td>Személyes átvétel</td><td>2386</td></tr>",
                            "<tr><td>2016-06-01</td><td>Személyes átvétel</td><td>2763</td></tr>",
                            "<tr><td>2016-06-02</td><td>Személyes átvétel</td><td>2798</td></tr>",
                            "<tr><td>2016-06-03</td><td>Személyes átvétel</td><td>2552</td></tr>",
                            "<tr><td>2016-06-04</td><td>Személyes átvétel</td><td>2468</td></tr>",
                            "<tr><td>2016-06-05</td><td>Személyes átvétel</td><td>1372</td></tr>",
                            "<tr><td>2016-06-06</td><td>Személyes átvétel</td><td>4341</td></tr>",
                            "<tr><td>2016-06-07</td><td>Személyes átvétel</td><td>3618</td></tr>",
                            "<tr><td>2016-06-08</td><td>Személyes átvétel</td><td>1742</td></tr>",
                            "<tr><td>2016-06-09</td><td>Személyes átvétel</td><td>2363</td></tr>",
                            "<tr><td>2016-06-10</td><td>Személyes átvétel</td><td>3267</td></tr>",
                            "<tr><td>2016-06-11</td><td>Személyes átvétel</td><td>2925</td></tr>",
                            "<tr><td>2016-06-12</td><td>Személyes átvétel</td><td>2296</td></tr>",
                            "<tr><td>2016-06-13</td><td>Személyes átvétel</td><td>1187</td></tr>",
                            "<tr><td>2016-06-14</td><td>Személyes átvétel</td><td>2527</td></tr>",
                            "<tr><td>2016-06-15</td><td>Személyes átvétel</td><td>2310</td></tr>",
                            "<tr><td>2016-06-16</td><td>Személyes átvétel</td><td>2170</td></tr>",
                            "<tr><td>2016-06-17</td><td>Személyes átvétel</td><td>3752</td></tr>",
                            "<tr><td>2016-06-18</td><td>Személyes átvétel</td><td>3049</td></tr>",
                            "<tr><td>2016-06-19</td><td>Személyes átvétel</td><td>4315</td></tr>",
                            "<tr><td>2016-06-20</td><td>Személyes átvétel</td><td>2640</td></tr>",
                            "<tr><td>2016-06-21</td><td>Személyes átvétel</td><td>1665</td></tr>",
                            "<tr><td>2016-06-22</td><td>Személyes átvétel</td><td>2704</td></tr>",
                            "<tr><td>2016-06-23</td><td>Személyes átvétel</td><td>2387</td></tr>",
                            "<tr><td>2016-06-24</td><td>Személyes átvétel</td><td>3484</td></tr>",
                            "<tr><td>2016-06-25</td><td>Személyes átvétel</td><td>2104</td></tr>",
                            "<tr><td>2016-06-26</td><td>Személyes átvétel</td><td>2990</td></tr>",
                            "<tr><td>2016-06-27</td><td>Személyes átvétel</td><td>2000</td></tr>",
                            "<tr><td>2016-06-28</td><td>Személyes átvétel</td><td>2993</td></tr>",
                            "<tr><td>2016-06-29</td><td>Személyes átvétel</td><td>2408</td></tr>",
                            "<tr><td>2016-06-30</td><td>Személyes átvétel</td><td>2272</td></tr>",
                            "<tr><td>2016-07-01</td><td>Személyes átvétel</td><td>2153</td></tr>",
                            "<tr><td>2016-07-02</td><td>Személyes átvétel</td><td>1935</td></tr>",
                            "<tr><td>2016-07-03</td><td>Személyes átvétel</td><td>3381</td></tr>",
                            "<tr><td>2016-07-04</td><td>Személyes átvétel</td><td>4295</td></tr>",
                            "<tr><td>2016-07-05</td><td>Személyes átvétel</td><td>1284</td></tr>",
                            "<tr><td>2016-07-06</td><td>Személyes átvétel</td><td>1688</td></tr>",
                            "<tr><td>2016-07-07</td><td>Személyes átvétel</td><td>2711</td></tr>",
                            "<tr><td>2016-07-08</td><td>Személyes átvétel</td><td>3583</td></tr>",
                            "<tr><td>2016-07-09</td><td>Személyes átvétel</td><td>3450</td></tr>",
                            "<tr><td>2016-07-10</td><td>Személyes átvétel</td><td>3248</td></tr>",
                            "<tr><td>2016-07-11</td><td>Személyes átvétel</td><td>4317</td></tr>",
                            "<tr><td>2016-07-12</td><td>Személyes átvétel</td><td>3020</td></tr>",
                            "<tr><td>2016-07-13</td><td>Személyes átvétel</td><td>3712</td></tr>",
                            "<tr><td>2016-07-14</td><td>Személyes átvétel</td><td>1512</td></tr>",
                            "<tr><td>2016-07-15</td><td>Személyes átvétel</td><td>2254</td></tr>",
                            "<tr><td>2016-07-16</td><td>Személyes átvétel</td><td>2247</td></tr>",
                            "<tr><td>2016-07-17</td><td>Személyes átvétel</td><td>1439</td></tr>",
                            "<tr><td>2016-07-18</td><td>Személyes átvétel</td><td>2733</td></tr>",
                            "<tr><td>2016-07-19</td><td>Személyes átvétel</td><td>2583</td></tr>",
                            "<tr><td>2016-07-20</td><td>Személyes átvétel</td><td>1876</td></tr>",
                            "<tr><td>2016-07-21</td><td>Személyes átvétel</td><td>2358</td></tr>",
                            "<tr><td>2016-07-22</td><td>Személyes átvétel</td><td>1624</td></tr>",
                            "<tr><td>2016-07-23</td><td>Személyes átvétel</td><td>2268</td></tr>",
                            "<tr><td>2016-07-24</td><td>Személyes átvétel</td><td>1957</td></tr>",
                            "<tr><td>2016-07-25</td><td>Személyes átvétel</td><td>3195</td></tr>",
                            "<tr><td>2016-07-26</td><td>Személyes átvétel</td><td>2224</td></tr>",
                            "<tr><td>2016-07-27</td><td>Személyes átvétel</td><td>2437</td></tr>",
                            "<tr><td>2016-07-28</td><td>Személyes átvétel</td><td>2895</td></tr>",
                            "<tr><td>2016-07-29</td><td>Személyes átvétel</td><td>3499</td></tr>",
                            "<tr><td>2016-07-30</td><td>Személyes átvétel</td><td>2309</td></tr>",
                            "<tr><td>2016-07-31</td><td>Személyes átvétel</td><td>2314</td></tr>",
                            "<tr><td>2016-08-01</td><td>Személyes átvétel</td><td>2383</td></tr>",
                            "<tr><td>2016-08-02</td><td>Személyes átvétel</td><td>2519</td></tr>",
                            "<tr><td>2016-08-03</td><td>Személyes átvétel</td><td>2291</td></tr>",
                            "<tr><td>2016-08-04</td><td>Személyes átvétel</td><td>1854</td></tr>",
                            "<tr><td>2016-08-05</td><td>Személyes átvétel</td><td>2033</td></tr>",
                            "<tr><td>2016-08-06</td><td>Személyes átvétel</td><td>2986</td></tr>",
                            "<tr><td>2016-08-07</td><td>Személyes átvétel</td><td>1888</td></tr>",
                            "<tr><td>2016-08-08</td><td>Személyes átvétel</td><td>1067</td></tr>",
                            "<tr><td>2016-08-09</td><td>Személyes átvétel</td><td>3256</td></tr>",
                            "<tr><td>2016-08-10</td><td>Személyes átvétel</td><td>3123</td></tr>",
                            "<tr><td>2016-08-11</td><td>Személyes átvétel</td><td>2536</td></tr>",
                            "<tr><td>2016-08-12</td><td>Személyes átvétel</td><td>4139</td></tr>",
                            "<tr><td>2016-08-13</td><td>Személyes átvétel</td><td>3046</td></tr>",
                            "<tr><td>2016-08-14</td><td>Személyes átvétel</td><td>1883</td></tr>",
                            "<tr><td>2016-08-15</td><td>Személyes átvétel</td><td>3242</td></tr>",
                            "<tr><td>2016-08-16</td><td>Személyes átvétel</td><td>2130</td></tr>",
                            "<tr><td>2016-08-17</td><td>Személyes átvétel</td><td>3283</td></tr>",
                            "<tr><td>2016-08-18</td><td>Személyes átvétel</td><td>2163</td></tr>",
                            "<tr><td>2016-08-19</td><td>Személyes átvétel</td><td>1443</td></tr>",
                            "<tr><td>2016-08-20</td><td>Személyes átvétel</td><td>5208</td></tr>",
                            "<tr><td>2016-08-21</td><td>Személyes átvétel</td><td>2558</td></tr>",
                            "<tr><td>2016-08-22</td><td>Személyes átvétel</td><td>3092</td></tr>",
                            "<tr><td>2016-08-23</td><td>Személyes átvétel</td><td>2505</td></tr>",
                            "<tr><td>2016-08-24</td><td>Személyes átvétel</td><td>3884</td></tr>",
                            "<tr><td>2016-08-25</td><td>Személyes átvétel</td><td>3110</td></tr>",
                            "<tr><td>2016-08-26</td><td>Személyes átvétel</td><td>1974</td></tr>",
                            "<tr><td>2016-08-27</td><td>Személyes átvétel</td><td>1625</td></tr>",
                            "<tr><td>2016-08-28</td><td>Személyes átvétel</td><td>3077</td></tr>",
                            "<tr><td>2016-08-29</td><td>Személyes átvétel</td><td>2748</td></tr>",
                            "<tr><td>2016-08-30</td><td>Személyes átvétel</td><td>1220</td></tr>",
                            "<tr><td>2016-08-31</td><td>Személyes átvétel</td><td>971</td></tr>",
                            "<tr><td>2016-09-01</td><td>Személyes átvétel</td><td>2437</td></tr>",
                            "<tr><td>2016-09-02</td><td>Személyes átvétel</td><td>2753</td></tr>",
                            "<tr><td>2016-09-03</td><td>Személyes átvétel</td><td>3609</td></tr>",
                            "<tr><td>2016-09-04</td><td>Személyes átvétel</td><td>3887</td></tr>",
                            "<tr><td>2016-09-05</td><td>Személyes átvétel</td><td>1790</td></tr>",
                            "<tr><td>2016-09-06</td><td>Személyes átvétel</td><td>3403</td></tr>",
                            "<tr><td>2016-09-07</td><td>Személyes átvétel</td><td>3279</td></tr>",
                            "<tr><td>2016-09-08</td><td>Személyes átvétel</td><td>3180</td></tr>",
                            "<tr><td>2016-09-09</td><td>Személyes átvétel</td><td>1808</td></tr>",
                            "<tr><td>2016-09-10</td><td>Személyes átvétel</td><td>2810</td></tr>",
                            "<tr><td>2016-09-11</td><td>Személyes átvétel</td><td>4173</td></tr>",
                            "<tr><td>2016-09-12</td><td>Személyes átvétel</td><td>1584</td></tr>",
                            "<tr><td>2016-09-13</td><td>Személyes átvétel</td><td>2501</td></tr>",
                            "<tr><td>2016-09-14</td><td>Személyes átvétel</td><td>2990</td></tr>",
                            "<tr><td>2016-09-15</td><td>Személyes átvétel</td><td>3413</td></tr>",
                            "<tr><td>2016-09-16</td><td>Személyes átvétel</td><td>616</td></tr>",
                            "<tr><td>2016-09-17</td><td>Személyes átvétel</td><td>2797</td></tr>",
                            "<tr><td>2016-09-18</td><td>Személyes átvétel</td><td>3688</td></tr>",
                            "<tr><td>2016-09-19</td><td>Személyes átvétel</td><td>2717</td></tr>",
                            "<tr><td>2016-09-20</td><td>Személyes átvétel</td><td>2400</td></tr>",
                            "<tr><td>2016-09-21</td><td>Személyes átvétel</td><td>2000</td></tr>",
                            "<tr><td>2016-09-22</td><td>Személyes átvétel</td><td>3431</td></tr>",
                            "<tr><td>2016-09-23</td><td>Személyes átvétel</td><td>1520</td></tr>",
                            "<tr><td>2016-09-24</td><td>Személyes átvétel</td><td>3032</td></tr>",
                            "<tr><td>2016-09-25</td><td>Személyes átvétel</td><td>2058</td></tr>",
                            "<tr><td>2016-09-26</td><td>Személyes átvétel</td><td>3655</td></tr>",
                            "<tr><td>2016-09-27</td><td>Személyes átvétel</td><td>2859</td></tr>",
                            "<tr><td>2016-09-28</td><td>Személyes átvétel</td><td>3625</td></tr>",
                            "<tr><td>2016-09-29</td><td>Személyes átvétel</td><td>1664</td></tr>",
                            "<tr><td>2016-09-30</td><td>Személyes átvétel</td><td>2270</td></tr>",
                            "<tr><td>2016-10-01</td><td>Személyes átvétel</td><td>3403</td></tr>",
                            "<tr><td>2016-10-02</td><td>Személyes átvétel</td><td>2339</td></tr>",
                            "<tr><td>2016-10-03</td><td>Személyes átvétel</td><td>2453</td></tr>",
                            "<tr><td>2016-10-04</td><td>Személyes átvétel</td><td>1877</td></tr>",
                            "<tr><td>2016-10-05</td><td>Személyes átvétel</td><td>1630</td></tr>",
                            "<tr><td>2016-10-06</td><td>Személyes átvétel</td><td>1037</td></tr>",
                            "<tr><td>2016-10-07</td><td>Személyes átvétel</td><td>1541</td></tr>",
                            "<tr><td>2016-10-08</td><td>Személyes átvétel</td><td>2496</td></tr>",
                            "<tr><td>2016-10-09</td><td>Személyes átvétel</td><td>3833</td></tr>",
                            "<tr><td>2016-10-10</td><td>Személyes átvétel</td><td>2641</td></tr>",
                            "<tr><td>2016-10-11</td><td>Személyes átvétel</td><td>3644</td></tr>",
                            "<tr><td>2016-10-12</td><td>Személyes átvétel</td><td>2961</td></tr>",
                            "<tr><td>2016-10-13</td><td>Személyes átvétel</td><td>3531</td></tr>",
                            "<tr><td>2016-10-14</td><td>Személyes átvétel</td><td>1753</td></tr>",
                            "<tr><td>2016-10-15</td><td>Személyes átvétel</td><td>2975</td></tr>",
                            "<tr><td>2016-10-16</td><td>Személyes átvétel</td><td>3289</td></tr>",
                            "<tr><td>2016-10-17</td><td>Személyes átvétel</td><td>3142</td></tr>",
                            "<tr><td>2016-10-18</td><td>Személyes átvétel</td><td>2825</td></tr>",
                            "<tr><td>2016-10-19</td><td>Személyes átvétel</td><td>4107</td></tr>",
                            "<tr><td>2016-10-20</td><td>Személyes átvétel</td><td>1201</td></tr>",
                            "<tr><td>2016-10-21</td><td>Személyes átvétel</td><td>4038</td></tr>",
                            "<tr><td>2016-10-22</td><td>Személyes átvétel</td><td>3185</td></tr>",
                            "<tr><td>2016-10-23</td><td>Személyes átvétel</td><td>2458</td></tr>",
                            "<tr><td>2016-10-24</td><td>Személyes átvétel</td><td>1761</td></tr>",
                            "<tr><td>2016-10-25</td><td>Személyes átvétel</td><td>2659</td></tr>",
                            "<tr><td>2016-10-26</td><td>Személyes átvétel</td><td>1965</td></tr>",
                            "<tr><td>2016-10-27</td><td>Személyes átvétel</td><td>1920</td></tr>",
                            "<tr><td>2016-10-28</td><td>Személyes átvétel</td><td>3812</td></tr>",
                            "<tr><td>2016-10-29</td><td>Személyes átvétel</td><td>2337</td></tr>",
                            "<tr><td>2016-10-30</td><td>Személyes átvétel</td><td>3708</td></tr>",
                            "<tr><td>2016-10-31</td><td>Személyes átvétel</td><td>3800</td></tr>",
                            "<tr><td>2016-11-01</td><td>Személyes átvétel</td><td>2219</td></tr>",
                            "<tr><td>2016-11-02</td><td>Személyes átvétel</td><td>2026</td></tr>",
                            "<tr><td>2016-11-03</td><td>Személyes átvétel</td><td>2366</td></tr>",
                            "<tr><td>2016-11-04</td><td>Személyes átvétel</td><td>3170</td></tr>",
                            "<tr><td>2016-11-05</td><td>Személyes átvétel</td><td>4049</td></tr>",
                            "<tr><td>2016-11-06</td><td>Személyes átvétel</td><td>2991</td></tr>",
                            "<tr><td>2016-11-07</td><td>Személyes átvétel</td><td>3807</td></tr>",
                            "<tr><td>2016-11-08</td><td>Személyes átvétel</td><td>1931</td></tr>",
                            "<tr><td>2016-11-09</td><td>Személyes átvétel</td><td>2680</td></tr>",
                            "<tr><td>2016-11-10</td><td>Személyes átvétel</td><td>2297</td></tr>",
                            "<tr><td>2016-11-11</td><td>Személyes átvétel</td><td>2130</td></tr>",
                            "<tr><td>2016-11-12</td><td>Személyes átvétel</td><td>2576</td></tr>",
                            "<tr><td>2016-11-13</td><td>Személyes átvétel</td><td>4035</td></tr>",
                            "<tr><td>2016-11-14</td><td>Személyes átvétel</td><td>4260</td></tr>",
                            "<tr><td>2016-11-15</td><td>Személyes átvétel</td><td>2628</td></tr>",
                            "<tr><td>2016-11-16</td><td>Személyes átvétel</td><td>4566</td></tr>",
                            "<tr><td>2016-11-17</td><td>Személyes átvétel</td><td>1173</td></tr>",
                            "<tr><td>2016-11-18</td><td>Személyes átvétel</td><td>2642</td></tr>",
                            "<tr><td>2016-11-19</td><td>Személyes átvétel</td><td>1388</td></tr>",
                            "<tr><td>2016-11-20</td><td>Személyes átvétel</td><td>3893</td></tr>",
                            "<tr><td>2016-11-21</td><td>Személyes átvétel</td><td>2999</td></tr>",
                            "<tr><td>2016-11-22</td><td>Személyes átvétel</td><td>3335</td></tr>",
                            "<tr><td>2016-11-23</td><td>Személyes átvétel</td><td>2549</td></tr>",
                            "<tr><td>2016-11-24</td><td>Személyes átvétel</td><td>1603</td></tr>",
                            "<tr><td>2016-11-25</td><td>Személyes átvétel</td><td>1707</td></tr>",
                            "<tr><td>2016-11-26</td><td>Személyes átvétel</td><td>2990</td></tr>",
                            "<tr><td>2016-11-27</td><td>Személyes átvétel</td><td>2707</td></tr>",
                            "<tr><td>2016-11-28</td><td>Személyes átvétel</td><td>3525</td></tr>",
                            "<tr><td>2016-11-29</td><td>Személyes átvétel</td><td>1257</td></tr>",
                            "<tr><td>2016-11-30</td><td>Személyes átvétel</td><td>1664</td></tr>",
                            "<tr><td>2016-12-01</td><td>Személyes átvétel</td><td>3276</td></tr>",
                            "<tr><td>2016-12-02</td><td>Személyes átvétel</td><td>1411</td></tr>",
                            "<tr><td>2016-12-03</td><td>Személyes átvétel</td><td>1636</td></tr>",
                            "<tr><td>2016-12-04</td><td>Személyes átvétel</td><td>4721</td></tr>",
                            "<tr><td>2016-12-05</td><td>Személyes átvétel</td><td>3174</td></tr>",
                            "<tr><td>2016-12-06</td><td>Személyes átvétel</td><td>1990</td></tr>",
                            "<tr><td>2016-12-07</td><td>Személyes átvétel</td><td>950</td></tr>",
                            "<tr><td>2016-12-08</td><td>Személyes átvétel</td><td>2620</td></tr>",
                            "<tr><td>2016-12-09</td><td>Személyes átvétel</td><td>2979</td></tr>",
                            "<tr><td>2016-12-10</td><td>Személyes átvétel</td><td>2324</td></tr>",
                            "<tr><td>2016-12-11</td><td>Személyes átvétel</td><td>1541</td></tr>",
                            "<tr><td>2016-12-12</td><td>Személyes átvétel</td><td>4114</td></tr>",
                            "<tr><td>2016-12-13</td><td>Személyes átvétel</td><td>2081</td></tr>",
                            "<tr><td>2016-12-14</td><td>Személyes átvétel</td><td>1620</td></tr>",
                            "<tr><td>2016-12-15</td><td>Személyes átvétel</td><td>2843</td></tr>",
                            "<tr><td>2016-12-16</td><td>Személyes átvétel</td><td>1777</td></tr>",
                            "<tr><td>2016-12-17</td><td>Személyes átvétel</td><td>2502</td></tr>",
                            "<tr><td>2016-12-18</td><td>Személyes átvétel</td><td>1510</td></tr>",
                            "<tr><td>2016-12-19</td><td>Személyes átvétel</td><td>1446</td></tr>",
                            "<tr><td>2016-12-20</td><td>Személyes átvétel</td><td>2985</td></tr>",
                            "<tr><td>2016-12-21</td><td>Személyes átvétel</td><td>4440</td></tr>",
                            "<tr><td>2016-12-22</td><td>Személyes átvétel</td><td>2555</td></tr>",
                            "<tr><td>2016-12-23</td><td>Személyes átvétel</td><td>2746</td></tr>",
                            "<tr><td>2016-12-24</td><td>Személyes átvétel</td><td>2447</td></tr>",
                            "<tr><td>2016-12-25</td><td>Személyes átvétel</td><td>3464</td></tr>",
                            "<tr><td>2016-12-26</td><td>Személyes átvétel</td><td>2936</td></tr>",
                            "<tr><td>2016-12-27</td><td>Személyes átvétel</td><td>3651</td></tr>",
                            "<tr><td>2016-12-28</td><td>Személyes átvétel</td><td>2107</td></tr>",
                            "<tr><td>2016-12-29</td><td>Személyes átvétel</td><td>3712</td></tr>",
                            "<tr><td>2016-12-30</td><td>Személyes átvétel</td><td>1455</td></tr>",
                            "<tr><td>2016-12-31</td><td>Személyes átvétel</td><td>2792</td></tr>",
                            "<tr><td>2017-01-01</td><td>Személyes átvétel</td><td>2281</td></tr>",
                            "<tr><td>2017-01-02</td><td>Személyes átvétel</td><td>2925</td></tr>",
                            "<tr><td>2017-01-03</td><td>Személyes átvétel</td><td>2061</td></tr>",
                            "<tr><td>2017-01-04</td><td>Személyes átvétel</td><td>1645</td></tr>",
                            "<tr><td>2017-01-05</td><td>Személyes átvétel</td><td>1957</td></tr>",
                            "<tr><td>2017-01-06</td><td>Személyes átvétel</td><td>3158</td></tr>",
                            "<tr><td>2017-01-07</td><td>Személyes átvétel</td><td>3750</td></tr>",
                            "<tr><td>2017-01-08</td><td>Személyes átvétel</td><td>2383</td></tr>",
                            "<tr><td>2017-01-09</td><td>Személyes átvétel</td><td>4036</td></tr>",
                            "<tr><td>2017-01-10</td><td>Személyes átvétel</td><td>3758</td></tr>",
                            "<tr><td>2017-01-11</td><td>Személyes átvétel</td><td>4137</td></tr>",
                            "<tr><td>2017-01-12</td><td>Személyes átvétel</td><td>2649</td></tr>",
                            "<tr><td>2017-01-13</td><td>Személyes átvétel</td><td>3228</td></tr>",
                            "<tr><td>2017-01-14</td><td>Személyes átvétel</td><td>3100</td></tr>",
                            "<tr><td>2017-01-15</td><td>Személyes átvétel</td><td>2661</td></tr>",
                            "<tr><td>2017-01-16</td><td>Személyes átvétel</td><td>1929</td></tr>",
                            "<tr><td>2017-01-17</td><td>Személyes átvétel</td><td>1622</td></tr>",
                            "<tr><td>2017-01-18</td><td>Személyes átvétel</td><td>2214</td></tr>",
                            "<tr><td>2017-01-19</td><td>Személyes átvétel</td><td>1169</td></tr>",
                            "<tr><td>2017-01-20</td><td>Személyes átvétel</td><td>3182</td></tr>",
                            "<tr><td>2017-01-21</td><td>Személyes átvétel</td><td>2726</td></tr>",
                            "<tr><td>2017-01-22</td><td>Személyes átvétel</td><td>2620</td></tr>",
                            "<tr><td>2017-01-23</td><td>Személyes átvétel</td><td>4284</td></tr>",
                            "<tr><td>2017-01-24</td><td>Személyes átvétel</td><td>3040</td></tr>",
                            "<tr><td>2017-01-25</td><td>Személyes átvétel</td><td>2195</td></tr>",
                            "<tr><td>2017-01-26</td><td>Személyes átvétel</td><td>3316</td></tr>",
                            "<tr><td>2017-01-27</td><td>Személyes átvétel</td><td>2127</td></tr>",
                            "<tr><td>2017-01-28</td><td>Személyes átvétel</td><td>4350</td></tr>",
                            "<tr><td>2017-01-29</td><td>Személyes átvétel</td><td>3463</td></tr>",
                            "<tr><td>2017-01-30</td><td>Személyes átvétel</td><td>3930</td></tr>",
                            "<tr><td>2017-01-31</td><td>Személyes átvétel</td><td>1528</td></tr>",
                            "<tr><td>2017-02-01</td><td>Személyes átvétel</td><td>1397</td></tr>",
                            "<tr><td>2017-02-02</td><td>Személyes átvétel</td><td>2433</td></tr>",
                            "<tr><td>2017-02-03</td><td>Személyes átvétel</td><td>1844</td></tr>",
                            "<tr><td>2017-02-04</td><td>Személyes átvétel</td><td>2047</td></tr>",
                            "<tr><td>2017-02-05</td><td>Személyes átvétel</td><td>1895</td></tr>",
                            "<tr><td>2017-02-06</td><td>Személyes átvétel</td><td>3095</td></tr>",
                            "<tr><td>2017-02-07</td><td>Személyes átvétel</td><td>2456</td></tr>",
                            "<tr><td>2017-02-08</td><td>Személyes átvétel</td><td>3374</td></tr>",
                            "<tr><td>2017-02-09</td><td>Személyes átvétel</td><td>3295</td></tr>",
                            "<tr><td>2017-02-10</td><td>Személyes átvétel</td><td>2735</td></tr>",
                            "<tr><td>2017-02-11</td><td>Személyes átvétel</td><td>3479</td></tr>",
                            "<tr><td>2017-02-12</td><td>Személyes átvétel</td><td>2630</td></tr>",
                            "<tr><td>2017-02-13</td><td>Személyes átvétel</td><td>3260</td></tr>",
                            "<tr><td>2017-02-14</td><td>Személyes átvétel</td><td>3575</td></tr>",
                            "<tr><td>2017-02-15</td><td>Személyes átvétel</td><td>2047</td></tr>",
                            "<tr><td>2017-02-16</td><td>Személyes átvétel</td><td>2484</td></tr>",
                            "<tr><td>2017-02-17</td><td>Személyes átvétel</td><td>2317</td></tr>",
                            "<tr><td>2017-02-18</td><td>Személyes átvétel</td><td>4853</td></tr>",
                            "<tr><td>2017-02-19</td><td>Személyes átvétel</td><td>4400</td></tr>",
                            "<tr><td>2017-02-20</td><td>Személyes átvétel</td><td>1829</td></tr>",
                            "<tr><td>2017-02-21</td><td>Személyes átvétel</td><td>2483</td></tr>",
                            "<tr><td>2017-02-22</td><td>Személyes átvétel</td><td>3114</td></tr>",
                            "<tr><td>2017-02-23</td><td>Személyes átvétel</td><td>1832</td></tr>",
                            "<tr><td>2017-02-24</td><td>Személyes átvétel</td><td>2490</td></tr>",
                            "<tr><td>2017-02-25</td><td>Személyes átvétel</td><td>1541</td></tr>",
                            "<tr><td>2017-02-26</td><td>Személyes átvétel</td><td>3451</td></tr>",
                            "<tr><td>2017-02-27</td><td>Személyes átvétel</td><td>3410</td></tr>",
                            "<tr><td>2017-02-28</td><td>Személyes átvétel</td><td>3716</td></tr>",
                            "<tr><td>2017-03-01</td><td>Személyes átvétel</td><td>2687</td></tr>",
                            "<tr><td>2017-03-02</td><td>Személyes átvétel</td><td>1641</td></tr>",
                            "<tr><td>2017-03-03</td><td>Személyes átvétel</td><td>2999</td></tr>",
                            "<tr><td>2017-03-04</td><td>Személyes átvétel</td><td>2442</td></tr>",
                            "<tr><td>2017-03-05</td><td>Személyes átvétel</td><td>3769</td></tr>",
                            "<tr><td>2017-03-06</td><td>Személyes átvétel</td><td>3185</td></tr>",
                            "<tr><td>2017-03-07</td><td>Személyes átvétel</td><td>2959</td></tr>",
                            "<tr><td>2017-03-08</td><td>Személyes átvétel</td><td>2926</td></tr>",
                            "<tr><td>2017-03-09</td><td>Személyes átvétel</td><td>2954</td></tr>",
                            "<tr><td>2017-03-10</td><td>Személyes átvétel</td><td>2669</td></tr>",
                            "<tr><td>2017-03-11</td><td>Személyes átvétel</td><td>1494</td></tr>",
                            "<tr><td>2017-03-12</td><td>Személyes átvétel</td><td>1896</td></tr>",
                            "<tr><td>2017-03-13</td><td>Személyes átvétel</td><td>1693</td></tr>",
                            "<tr><td>2017-03-14</td><td>Személyes átvétel</td><td>3590</td></tr>",
                            "<tr><td>2017-03-15</td><td>Személyes átvétel</td><td>3006</td></tr>",
                            "<tr><td>2017-03-16</td><td>Személyes átvétel</td><td>3794</td></tr>",
                            "<tr><td>2017-03-17</td><td>Személyes átvétel</td><td>3230</td></tr>",
                            "<tr><td>2017-03-18</td><td>Személyes átvétel</td><td>4590</td></tr>",
                            "<tr><td>2017-03-19</td><td>Személyes átvétel</td><td>3571</td></tr>",
                            "<tr><td>2017-03-20</td><td>Személyes átvétel</td><td>2270</td></tr>",
                            "<tr><td>2017-03-21</td><td>Személyes átvétel</td><td>3944</td></tr>",
                            "<tr><td>2017-03-22</td><td>Személyes átvétel</td><td>2193</td></tr>",
                            "<tr><td>2017-03-23</td><td>Személyes átvétel</td><td>2787</td></tr>",
                            "<tr><td>2017-03-24</td><td>Személyes átvétel</td><td>2109</td></tr>",
                            "<tr><td>2017-03-25</td><td>Személyes átvétel</td><td>1746</td></tr>",
                            "<tr><td>2017-03-26</td><td>Személyes átvétel</td><td>3186</td></tr>",
                            "<tr><td>2017-03-27</td><td>Személyes átvétel</td><td>2617</td></tr>",
                            "<tr><td>2017-03-28</td><td>Személyes átvétel</td><td>3607</td></tr>",
                            "<tr><td>2017-03-29</td><td>Személyes átvétel</td><td>2784</td></tr>",
                            "<tr><td>2017-03-30</td><td>Személyes átvétel</td><td>3850</td></tr>",
                            "<tr><td>2017-03-31</td><td>Személyes átvétel</td><td>2609</td></tr>",
                            "<tr><td>2017-04-01</td><td>Személyes átvétel</td><td>1649</td></tr>",
                            "<tr><td>2017-04-02</td><td>Személyes átvétel</td><td>3368</td></tr>",
                            "<tr><td>2017-04-03</td><td>Személyes átvétel</td><td>1497</td></tr>",
                            "<tr><td>2017-04-04</td><td>Személyes átvétel</td><td>2660</td></tr>",
                            "<tr><td>2017-04-05</td><td>Személyes átvétel</td><td>3670</td></tr>",
                            "<tr><td>2017-04-06</td><td>Személyes átvétel</td><td>1580</td></tr>",
                            "<tr><td>2017-04-07</td><td>Személyes átvétel</td><td>1974</td></tr>",
                            "<tr><td>2017-04-08</td><td>Személyes átvétel</td><td>1097</td></tr>",
                            "<tr><td>2017-04-09</td><td>Személyes átvétel</td><td>1520</td></tr>",
                            "<tr><td>2017-04-10</td><td>Személyes átvétel</td><td>390</td></tr>",
                            "<tr><td>2017-04-11</td><td>Személyes átvétel</td><td>300</td></tr>",
                            "<tr><td>NULL</td><td>Személyes átvétel</td><td>1902656</td></tr>",
                            "<tr><td>NULL</td><td>NULL</td><td>5578316</td></tr>",
                            "</table>"
                        ]
                    }
                }
            ],
            "execution_count": 17
        },
        {
            "cell_type": "markdown",
            "source": [
                "```\n",
                "3. Hány olyan ügyfél van, aki még nem rendelt semmit?\n",
                "```\n",
                "\n",
                "1. Csoportosítsuk őket nem szerint, azon belül életkor szerint!\n",
                "2. A lista tartalmazza a részösszegeket és a végösszeget is!\n",
                "\n",
                "![](https://moodle.uni-corvinus.hu/theme/image.php/adaptable/atto_h5p/1709548862/icon)"
            ],
            "metadata": {
                "azdata_cell_guid": "d7876bb9-76d0-4d07-baed-3cb17b2f96c3"
            },
            "attachments": {}
        },
        {
            "cell_type": "code",
            "source": [
                "SELECT \r\n",
                "FROM Ugyfel"
            ],
            "metadata": {
                "azdata_cell_guid": "56ec19ce-e249-4551-b2a8-f17569765acc",
                "language": "sql"
            },
            "outputs": [],
            "execution_count": null
        },
        {
            "cell_type": "markdown",
            "source": [
                "4. <span style=\"color: rgb(36, 41, 47); font-family: -apple-system, BlinkMacSystemFont, &quot;Segoe UI&quot;, Helvetica, Arial, sans-serif, &quot;Apple Color Emoji&quot;, &quot;Segoe UI Emoji&quot;; font-size: 16px;\">Készítsünk listát a megrendelt termékek legkisebb és legnagyobb egységáráról szállítási dátum, azon belül szállítási mód szerinti bontásban!</span>\n",
                "\n",
                "1. A lista csak a 2015 májusi szállításokat tartalmazza!\n",
                "2. Jelenítsük meg a részösszegeket és a végösszeget is!"
            ],
            "metadata": {
                "azdata_cell_guid": "8e7fef82-8022-49a0-8255-fc2846c2134b"
            },
            "attachments": {}
        },
        {
            "cell_type": "code",
            "source": [
                ""
            ],
            "metadata": {
                "azdata_cell_guid": "36f7b396-4a1f-45e5-8720-2302537c91bc",
                "language": "sql"
            },
            "outputs": [],
            "execution_count": null
        },
        {
            "cell_type": "markdown",
            "source": [
                "5. <span style=\"color: rgb(36, 41, 47); font-family: -apple-system, BlinkMacSystemFont, &quot;Segoe UI&quot;, Helvetica, Arial, sans-serif, &quot;Apple Color Emoji&quot;, &quot;Segoe UI Emoji&quot;; font-size: 16px;\">Készítsünk csoportot a termékek listaára alapján a következők szerint:&nbsp;<br></span> <span style=\"color: rgb(36, 41, 47); font-family: -apple-system, BlinkMacSystemFont, &quot;Segoe UI&quot;, Helvetica, Arial, sans-serif, &quot;Apple Color Emoji&quot;, &quot;Segoe UI Emoji&quot;; font-size: 16px;\">Az \"olcsó\" termékek legyenek azok, amelyek listaára 3000 alatt van.<br>&nbsp;A \"drága\" termékek legyenek az 5000 felettiek, a többi legyen \"közepes\".</span>\n",
                "\n",
                "1. Listázzuk az egyes csoportokat, és a csoportokba tartozó termékek darabszámát!\n",
                "2. A lista jelenítse meg a végösszeget is!"
            ],
            "metadata": {
                "azdata_cell_guid": "84239ca2-6b5e-49f5-9860-d44c11d6de32"
            },
            "attachments": {}
        },
        {
            "cell_type": "code",
            "source": [
                ""
            ],
            "metadata": {
                "azdata_cell_guid": "06d9a62b-9430-424b-a135-d80e675f0eb3",
                "language": "sql"
            },
            "outputs": [],
            "execution_count": null
        },
        {
            "cell_type": "markdown",
            "source": [
                "6. <span style=\"font-weight: 600; color: rgb(36, 41, 47); font-family: -apple-system, BlinkMacSystemFont, &quot;Segoe UI&quot;, Helvetica, Arial, sans-serif, &quot;Apple Color Emoji&quot;, &quot;Segoe UI Emoji&quot;; font-size: 16px;\">Készítsünk listát az ügyfelek adatairól név szerinti sorrendben.</span>\n",
                "\n",
                "1. Minden sorban jelenjen meg a sorrend szerint előző, illetve következő ügyfél neve is.\n",
                "2. Ha nincs előző vagy következő ügyfél, akkor a 'Nincs' jelenjen meg!"
            ],
            "metadata": {
                "azdata_cell_guid": "b0d15045-3c43-4f3a-b8d4-76b4f24e5546"
            },
            "attachments": {}
        },
        {
            "cell_type": "code",
            "source": [
                ""
            ],
            "metadata": {
                "azdata_cell_guid": "f2b7400d-1255-40ac-9250-4d57f9da5357",
                "language": "sql"
            },
            "outputs": [],
            "execution_count": null
        },
        {
            "cell_type": "markdown",
            "source": [
                "7. <span style=\"font-weight: 600; color: rgb(36, 41, 47); font-family: -apple-system, BlinkMacSystemFont, &quot;Segoe UI&quot;, Helvetica, Arial, sans-serif, &quot;Apple Color Emoji&quot;, &quot;Segoe UI Emoji&quot;; font-size: 16px;\">Készítsünk lekérdezést, amely megmutatja, hogy melyik termékkategóriába hány termék tartozik. A lista a kategória nevét és a darabszámot jelenítse meg.</span>\n",
                "\n",
                "1. A lista ne tartalmazzon duplikált sorokat.\n",
                "2. A feladatot partíciók segítségével oldjuk meg!"
            ],
            "metadata": {
                "azdata_cell_guid": "7ebf7ddd-1bd2-4246-815a-be8ae37e3b5b"
            },
            "attachments": {}
        },
        {
            "cell_type": "code",
            "source": [
                ""
            ],
            "metadata": {
                "azdata_cell_guid": "84b7e896-f36e-4985-88f5-e0f706494fef",
                "language": "sql"
            },
            "outputs": [],
            "execution_count": null
        },
        {
            "cell_type": "markdown",
            "source": [
                "8. <span style=\"font-weight: 600; color: rgb(36, 41, 47); font-family: -apple-system, BlinkMacSystemFont, &quot;Segoe UI&quot;, Helvetica, Arial, sans-serif, &quot;Apple Color Emoji&quot;, &quot;Segoe UI Emoji&quot;; font-size: 16px;\">Készítsünk listát a rendelési tételekről. Az egyes rendelési tételeket termékenként soroljuk be 4 osztályba a rendelés mennyisége alapján. Jelenítsük meg ezt az információt is egy új oszlopban, az oszlop neve legyen 'Mennyiségi kategória'.</span>\n",
                "\n",
                "1. A lista csak a 100 Ft feletti egységárú rendelési tételeket vegye figyelembe!"
            ],
            "metadata": {
                "azdata_cell_guid": "27a3d3dc-eafb-4a5e-b103-9f465b9eda8f"
            },
            "attachments": {}
        },
        {
            "cell_type": "code",
            "source": [
                ""
            ],
            "metadata": {
                "azdata_cell_guid": "f09edb3f-649b-4a96-958e-9e12774ae8b7",
                "language": "sql"
            },
            "outputs": [],
            "execution_count": null
        },
        {
            "cell_type": "markdown",
            "source": [
                "9. <span style=\"font-weight: 600; color: rgb(36, 41, 47); font-family: -apple-system, BlinkMacSystemFont, &quot;Segoe UI&quot;, Helvetica, Arial, sans-serif, &quot;Apple Color Emoji&quot;, &quot;Segoe UI Emoji&quot;; font-size: 16px;\">Listázzuk a termékek kódját, megnevezését, kategóriájának nevét, és listaárát.</span>\n",
                "\n",
                "1. A listát egészítsük ki két új oszloppal, amelyek a kategória legolcsóbb, illetve legdrágább termékének árát tartalmazzák.\n",
                "2. A két új oszlop létrehozásánál partíciókkal dolgozzunk!"
            ],
            "metadata": {
                "azdata_cell_guid": "f12a331a-0e26-4d3d-9c68-812316286577"
            },
            "attachments": {}
        },
        {
            "cell_type": "code",
            "source": [
                ""
            ],
            "metadata": {
                "azdata_cell_guid": "10a77fc9-e61a-46fc-a401-59720d82bc50",
                "language": "sql"
            },
            "outputs": [],
            "execution_count": null
        },
        {
            "cell_type": "markdown",
            "source": [
                "10. <span style=\"font-weight: 600; color: rgb(36, 41, 47); font-family: -apple-system, BlinkMacSystemFont, &quot;Segoe UI&quot;, Helvetica, Arial, sans-serif, &quot;Apple Color Emoji&quot;, &quot;Segoe UI Emoji&quot;; font-size: 16px;\">Készítsünk listát a rendelésekről. A lista legyen rendezve ügyfelenként (LOGIN), azon belül a rendelés dátuma szerint. A listához készítsünk sorszámozást is. A sorszám a következő formában jelenjen meg: sorszám_év_login. Pl: 1_2015_adam1</span>\n",
                "\n",
                "1. A számozás login-onként, azon belül rendelési évenként kezdődjön újra.\n",
                "2. A sorszám oszlop neve legyen Azonosító"
            ],
            "metadata": {
                "azdata_cell_guid": "9229e2b6-e200-4499-b95b-2d0222149831"
            },
            "attachments": {}
        },
        {
            "cell_type": "code",
            "source": [
                ""
            ],
            "metadata": {
                "azdata_cell_guid": "8b49ed67-28c6-4880-82a8-cd369e5bba99",
                "language": "sql"
            },
            "outputs": [],
            "execution_count": null
        },
        {
            "cell_type": "markdown",
            "source": [
                "11. <span style=\"color: rgb(36, 41, 47); font-family: -apple-system, BlinkMacSystemFont, &quot;Segoe UI&quot;, Helvetica, Arial, sans-serif, &quot;Apple Color Emoji&quot;, &quot;Segoe UI Emoji&quot;; font-size: 16px;\">Készítsünk listát a termékek adatairól listaár szerint növekvő sorrendben! A lista jelenítse meg két új oszlopban a sorrend szerint előző, illetve következő termék listaárát is a termék saját kategóriájában és raktárában!</span>\n",
                "\n",
                "1. Ahol nincs előző vagy következő érték, ott 0 jelenjen meg!\n",
                "2. Az oszlopokat nevezzük el értelemszerűen!"
            ],
            "metadata": {
                "azdata_cell_guid": "7f5fc7a7-3b6a-4d89-b292-490830afb0c6"
            },
            "attachments": {}
        },
        {
            "cell_type": "code",
            "source": [
                ""
            ],
            "metadata": {
                "azdata_cell_guid": "4a9ece40-f782-4c0d-92cd-9c21969067ed",
                "language": "sql"
            },
            "outputs": [],
            "execution_count": null
        },
        {
            "cell_type": "markdown",
            "source": [
                "12. <span style=\"color: rgb(36, 41, 47); font-family: -apple-system, BlinkMacSystemFont, &quot;Segoe UI&quot;, Helvetica, Arial, sans-serif, &quot;Apple Color Emoji&quot;, &quot;Segoe UI Emoji&quot;; font-size: 16px;\">Listázzuk a termékek kódját, nevét és listaárát listaár szerinti sorrendben!</span>\n",
                "\n",
                "1. Vegyünk fel egy új oszlopot Mozgóátlag néven, amely minden esetben az aktuális termék, az előző, és a következő termék átlagárát tartalmazza!\n",
                "2. A mozgóátlagot kerekítsük két tizedesre!"
            ],
            "metadata": {
                "azdata_cell_guid": "5a483c52-bb98-44bb-bd03-1146d4b0abfa"
            },
            "attachments": {}
        },
        {
            "cell_type": "code",
            "source": [
                ""
            ],
            "metadata": {
                "azdata_cell_guid": "dd6e89bd-08f9-4b18-8460-03c45b503df0",
                "language": "sql"
            },
            "outputs": [],
            "execution_count": null
        },
        {
            "cell_type": "markdown",
            "source": [
                "13. <span style=\"color: rgb(36, 41, 47); font-family: -apple-system, BlinkMacSystemFont, &quot;Segoe UI&quot;, Helvetica, Arial, sans-serif, &quot;Apple Color Emoji&quot;, &quot;Segoe UI Emoji&quot;; font-size: 16px;\">Készítsünk listát, amely a rendelések sorszámát és a rendelés értékét tartalmazza. A listát egészítsük ki egy új oszloppal, amely minden rendelés esetén addigi rendelések összegét tartalmazza (az aktuálisat is beleértve)!</span>\n",
                "\n",
                "1. A listát rendezzük sorszám szerint növekvő sorrendbe.\n",
                "2. A lista ne tartalmazzon duplikált sorokat!"
            ],
            "metadata": {
                "azdata_cell_guid": "85d5cb66-96c6-42de-99cf-85ab22d08548"
            },
            "attachments": {}
        },
        {
            "cell_type": "code",
            "source": [
                ""
            ],
            "metadata": {
                "azdata_cell_guid": "cb07d64b-0eaa-498b-b4d2-0b46971e95ce",
                "language": "sql"
            },
            "outputs": [],
            "execution_count": null
        },
        {
            "cell_type": "markdown",
            "source": [
                "14. <span style=\"color: rgb(36, 41, 47); font-family: -apple-system, BlinkMacSystemFont, &quot;Segoe UI&quot;, Helvetica, Arial, sans-serif, &quot;Apple Color Emoji&quot;, &quot;Segoe UI Emoji&quot;; font-size: 16px;\">Készítsünk listát a termékek kódjáról, nevéről, kategória azonosítójáról, raktár azonosítójáról és listaáráról, valamint a termék adott szempontok szerinti rangsorokban elfoglalt helyezéseiről. (Szempontonként külön oszlopban, a helyezéseknél növekvő sorrendet feltételezve). A szempontok a következők legyenek: listaár, kategória szerinti listaár, és raktárkód szerinti listaár.</span>\n",
                "\n",
                "1. Az oszlopokat nevezzük el értelemszerűen.\n",
                "2. A helyezések egyenlőség esetén \"sűrűn\" kövessék egymást.\n",
                "3. A lista legyen rendezett kategória azonosító, azon belül listaár szerint!"
            ],
            "metadata": {
                "azdata_cell_guid": "f95ad665-a807-4099-bf06-64ed974f866f"
            },
            "attachments": {}
        },
        {
            "cell_type": "code",
            "source": [
                ""
            ],
            "metadata": {
                "azdata_cell_guid": "74c7ec8a-ae4a-4d03-b1c4-e8f6bb1be12c",
                "language": "sql"
            },
            "outputs": [],
            "execution_count": null
        },
        {
            "cell_type": "markdown",
            "source": [
                "15. <span style=\"color: rgb(36, 41, 47); font-family: -apple-system, BlinkMacSystemFont, &quot;Segoe UI&quot;, Helvetica, Arial, sans-serif, &quot;Apple Color Emoji&quot;, &quot;Segoe UI Emoji&quot;; font-size: 16px;\">Készítsünk listát a rendelési tételekről, amely minden sor esetén göngyölítve tartalmazza az ügyfél adott rendelési tételig meglévő rendelési tételeinek összértékét!</span>\n",
                "\n",
                "1. Az új oszlop neve legyen Eddigi rendelési tételek összértéke!\n",
                "2. Az ügyfél neve is jelenjen meg!"
            ],
            "metadata": {
                "azdata_cell_guid": "93552388-ffec-49ff-99e5-ae8dc8072601"
            },
            "attachments": {}
        },
        {
            "cell_type": "code",
            "source": [
                ""
            ],
            "metadata": {
                "azdata_cell_guid": "0e7f547f-7d96-4611-b1c2-0fa84a581e79",
                "language": "sql"
            },
            "outputs": [],
            "execution_count": null
        }
    ]
}