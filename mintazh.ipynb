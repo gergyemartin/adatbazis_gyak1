{
    "metadata": {
        "kernelspec": {
            "name": "SQL",
            "display_name": "SQL",
            "language": "sql"
        },
        "language_info": {
            "name": "sql",
            "version": ""
        }
    },
    "nbformat_minor": 2,
    "nbformat": 4,
    "cells": [
        {
            "cell_type": "code",
            "source": [
                "SELECT iif(v.usernev IS NULL, 'végösszeg', v.usernev) as 'username',\r\n",
                "       COUNT(szh.szallas_id)  As 'szállások száma'\r\n",
                "FROM vendeg v LEFT JOIN foglalas F on v.usernev = f.ugyfel_fk\r\n",
                "              LEFT JOIN szoba sz on f.szoba_fk = sz.szoba_id\r\n",
                "              LEFT JOIN szallashely szh ON sz.szallas_fk = szh.szallas_id\r\n",
                "GROUP BY ROLLUP(v.usernev)"
            ],
            "metadata": {
                "azdata_cell_guid": "62d69cd6-fce1-4ba4-8567-ba7a2606eec0",
                "language": "sql",
                "tags": []
            },
            "outputs": [
                {
                    "output_type": "display_data",
                    "data": {
                        "text/html": "Warning: Null value is eliminated by an aggregate or other SET operation."
                    },
                    "metadata": {}
                },
                {
                    "output_type": "display_data",
                    "data": {
                        "text/html": "(197 rows affected)"
                    },
                    "metadata": {}
                },
                {
                    "output_type": "display_data",
                    "data": {
                        "text/html": "Total execution time: 00:00:00.034"
                    },
                    "metadata": {}
                },
                {
                    "output_type": "execute_result",
                    "metadata": {},
                    "execution_count": 3,
                    "data": {
                        "application/vnd.dataresource+json": {
                            "schema": {
                                "fields": [
                                    {
                                        "name": "username"
                                    },
                                    {
                                        "name": "szállások száma"
                                    }
                                ]
                            },
                            "data": [
                                {
                                    "username": "adam1",
                                    "szállások száma": "3"
                                },
                                {
                                    "username": "adam3",
                                    "szállások száma": "2"
                                },
                                {
                                    "username": "adam4",
                                    "szállások száma": "6"
                                },
                                {
                                    "username": "agnes",
                                    "szállások száma": "5"
                                },
                                {
                                    "username": "agnes3",
                                    "szállások száma": "3"
                                },
                                {
                                    "username": "AGNESH",
                                    "szállások száma": "6"
                                },
                                {
                                    "username": "AGNESK",
                                    "szállások száma": "3"
                                },
                                {
                                    "username": "akos",
                                    "szállások száma": "10"
                                },
                                {
                                    "username": "aladar",
                                    "szállások száma": "3"
                                },
                                {
                                    "username": "alexandra",
                                    "szállások száma": "7"
                                },
                                {
                                    "username": "andi",
                                    "szállások száma": "5"
                                },
                                {
                                    "username": "andras2",
                                    "szállások száma": "5"
                                },
                                {
                                    "username": "andras21",
                                    "szállások száma": "7"
                                },
                                {
                                    "username": "andras3",
                                    "szállások száma": "8"
                                },
                                {
                                    "username": "andras4",
                                    "szállások száma": "3"
                                },
                                {
                                    "username": "andras41",
                                    "szállások száma": "13"
                                },
                                {
                                    "username": "ANDRASE",
                                    "szállások száma": "5"
                                },
                                {
                                    "username": "ANDRASN",
                                    "szállások száma": "1"
                                },
                                {
                                    "username": "andrea",
                                    "szállások száma": "6"
                                },
                                {
                                    "username": "andrea3",
                                    "szállások száma": "1"
                                },
                                {
                                    "username": "andrea4",
                                    "szállások száma": "4"
                                },
                                {
                                    "username": "ANDREAT",
                                    "szállások száma": "3"
                                },
                                {
                                    "username": "anett3",
                                    "szállások száma": "8"
                                },
                                {
                                    "username": "aniko",
                                    "szállások száma": "3"
                                },
                                {
                                    "username": "aniko4",
                                    "szállások száma": "4"
                                },
                                {
                                    "username": "ANIKOS",
                                    "szállások száma": "9"
                                },
                                {
                                    "username": "anita",
                                    "szállások száma": "4"
                                },
                                {
                                    "username": "annamaria1",
                                    "szállások száma": "2"
                                },
                                {
                                    "username": "ANNAMARIAR",
                                    "szállások száma": "6"
                                },
                                {
                                    "username": "aron2",
                                    "szállások száma": "6"
                                },
                                {
                                    "username": "ARONK",
                                    "szállások száma": "13"
                                },
                                {
                                    "username": "arpad2",
                                    "szállások száma": "7"
                                },
                                {
                                    "username": "ARPADH",
                                    "szállások száma": "7"
                                },
                                {
                                    "username": "ARPADM",
                                    "szállások száma": "6"
                                },
                                {
                                    "username": "attila",
                                    "szállások száma": "3"
                                },
                                {
                                    "username": "attila1",
                                    "szállások száma": "6"
                                },
                                {
                                    "username": "attila4",
                                    "szállások száma": "3"
                                },
                                {
                                    "username": "ATTILAO",
                                    "szállások száma": "4"
                                },
                                {
                                    "username": "balazs1",
                                    "szállások száma": "6"
                                },
                                {
                                    "username": "balazs2",
                                    "szállások száma": "10"
                                },
                                {
                                    "username": "balazs3",
                                    "szállások száma": "6"
                                },
                                {
                                    "username": "balint",
                                    "szállások száma": "3"
                                },
                                {
                                    "username": "balint1",
                                    "szállások száma": "10"
                                },
                                {
                                    "username": "balint2",
                                    "szállások száma": "2"
                                },
                                {
                                    "username": "balu",
                                    "szállások száma": "2"
                                },
                                {
                                    "username": "beata4",
                                    "szállások száma": "6"
                                },
                                {
                                    "username": "BEATRIXK",
                                    "szállások száma": "9"
                                },
                                {
                                    "username": "BEATRIXS",
                                    "szállások száma": "6"
                                },
                                {
                                    "username": "BELAF",
                                    "szállások száma": "6"
                                },
                                {
                                    "username": "bence",
                                    "szállások száma": "9"
                                },
                                {
                                    "username": "BENCEB",
                                    "szállások száma": "6"
                                },
                                {
                                    "username": "bernadett1",
                                    "szállások száma": "7"
                                },
                                {
                                    "username": "bernadett2",
                                    "szállások száma": "8"
                                },
                                {
                                    "username": "BERNADETTO",
                                    "szállások száma": "7"
                                },
                                {
                                    "username": "bertalan",
                                    "szállások száma": "6"
                                },
                                {
                                    "username": "brigitta",
                                    "szállások száma": "5"
                                },
                                {
                                    "username": "brigitta3",
                                    "szállások száma": "5"
                                },
                                {
                                    "username": "csongor3",
                                    "szállások száma": "8"
                                },
                                {
                                    "username": "dani",
                                    "szállások száma": "9"
                                },
                                {
                                    "username": "daniel",
                                    "szállások száma": "9"
                                },
                                {
                                    "username": "daniel1",
                                    "szállások száma": "7"
                                },
                                {
                                    "username": "david",
                                    "szállások száma": "9"
                                },
                                {
                                    "username": "david1",
                                    "szállások száma": "6"
                                },
                                {
                                    "username": "david4",
                                    "szállások száma": "1"
                                },
                                {
                                    "username": "debora",
                                    "szállások száma": "4"
                                },
                                {
                                    "username": "denes",
                                    "szállások száma": "6"
                                },
                                {
                                    "username": "dora3",
                                    "szállások száma": "5"
                                },
                                {
                                    "username": "edit",
                                    "szállások száma": "7"
                                },
                                {
                                    "username": "emese",
                                    "szállások száma": "7"
                                },
                                {
                                    "username": "eszter",
                                    "szállások száma": "4"
                                },
                                {
                                    "username": "eszter2",
                                    "szállások száma": "10"
                                },
                                {
                                    "username": "eszter4",
                                    "szállások száma": "3"
                                },
                                {
                                    "username": "ESZTERE",
                                    "szállások száma": "4"
                                },
                                {
                                    "username": "eva",
                                    "szállások száma": "2"
                                },
                                {
                                    "username": "eva2",
                                    "szállások száma": "4"
                                },
                                {
                                    "username": "EVAV",
                                    "szállások száma": "5"
                                },
                                {
                                    "username": "ferenc1",
                                    "szállások száma": "4"
                                },
                                {
                                    "username": "fruzsina4",
                                    "szállások száma": "8"
                                },
                                {
                                    "username": "gabor1",
                                    "szállások száma": "6"
                                },
                                {
                                    "username": "gabor4",
                                    "szállások száma": "4"
                                },
                                {
                                    "username": "GABORS",
                                    "szállások száma": "0"
                                },
                                {
                                    "username": "gabriella1",
                                    "szállások száma": "6"
                                },
                                {
                                    "username": "gabriella10",
                                    "szállások száma": "1"
                                },
                                {
                                    "username": "georgij",
                                    "szállások száma": "4"
                                },
                                {
                                    "username": "gusztav",
                                    "szállások száma": "5"
                                },
                                {
                                    "username": "GYONGYIK",
                                    "szállások száma": "7"
                                },
                                {
                                    "username": "GYORGYO",
                                    "szállások száma": "8"
                                },
                                {
                                    "username": "henrik3",
                                    "szállások száma": "3"
                                },
                                {
                                    "username": "IBOLYAA",
                                    "szállások száma": "3"
                                },
                                {
                                    "username": "ilona3",
                                    "szállások száma": "4"
                                },
                                {
                                    "username": "imre",
                                    "szállások száma": "2"
                                },
                                {
                                    "username": "imre1",
                                    "szállások száma": "7"
                                },
                                {
                                    "username": "istvan",
                                    "szállások száma": "3"
                                },
                                {
                                    "username": "istvan1",
                                    "szállások száma": "4"
                                },
                                {
                                    "username": "ISTVANV",
                                    "szállások száma": "2"
                                },
                                {
                                    "username": "janos3",
                                    "szállások száma": "5"
                                },
                                {
                                    "username": "JANOSG",
                                    "szállások száma": "7"
                                },
                                {
                                    "username": "JANOSP",
                                    "szállások száma": "4"
                                },
                                {
                                    "username": "jozsef",
                                    "szállások száma": "3"
                                },
                                {
                                    "username": "jozsef2",
                                    "szállások száma": "5"
                                },
                                {
                                    "username": "JOZSEFG",
                                    "szállások száma": "7"
                                },
                                {
                                    "username": "JUDITH",
                                    "szállások száma": "3"
                                },
                                {
                                    "username": "julia",
                                    "szállások száma": "5"
                                },
                                {
                                    "username": "julia4",
                                    "szállások száma": "2"
                                },
                                {
                                    "username": "julianna4",
                                    "szállások száma": "4"
                                },
                                {
                                    "username": "kata",
                                    "szállások száma": "10"
                                },
                                {
                                    "username": "katalin",
                                    "szállások száma": "9"
                                },
                                {
                                    "username": "katalin4",
                                    "szállások száma": "6"
                                },
                                {
                                    "username": "kati",
                                    "szállások száma": "7"
                                },
                                {
                                    "username": "katka",
                                    "szállások száma": "9"
                                },
                                {
                                    "username": "klaudia2",
                                    "szállások száma": "3"
                                },
                                {
                                    "username": "kornel4",
                                    "szállások száma": "3"
                                },
                                {
                                    "username": "kristof4",
                                    "szállások száma": "2"
                                },
                                {
                                    "username": "kriszti",
                                    "szállások száma": "6"
                                },
                                {
                                    "username": "krisztian4",
                                    "szállások száma": "12"
                                },
                                {
                                    "username": "KRISZTIANM",
                                    "szállások száma": "6"
                                },
                                {
                                    "username": "krisztina",
                                    "szállások száma": "8"
                                },
                                {
                                    "username": "krisztina1",
                                    "szállások száma": "6"
                                },
                                {
                                    "username": "KRISZTINAG",
                                    "szállások száma": "5"
                                },
                                {
                                    "username": "lajos",
                                    "szállások száma": "3"
                                },
                                {
                                    "username": "lala",
                                    "szállások száma": "6"
                                },
                                {
                                    "username": "laszlo1",
                                    "szállások száma": "1"
                                },
                                {
                                    "username": "laszlo2",
                                    "szállások száma": "5"
                                },
                                {
                                    "username": "LASZLOA",
                                    "szállások száma": "4"
                                },
                                {
                                    "username": "LASZLON",
                                    "szállások száma": "6"
                                },
                                {
                                    "username": "maria1",
                                    "szállások száma": "8"
                                },
                                {
                                    "username": "mark",
                                    "szállások száma": "5"
                                },
                                {
                                    "username": "MARKH",
                                    "szállások száma": "4"
                                },
                                {
                                    "username": "marton",
                                    "szállások száma": "7"
                                },
                                {
                                    "username": "MATEK",
                                    "szállások száma": "3"
                                },
                                {
                                    "username": "matyas2",
                                    "szállások száma": "2"
                                },
                                {
                                    "username": "MATYASS",
                                    "szállások száma": "8"
                                },
                                {
                                    "username": "MIHALYJ",
                                    "szállások száma": "5"
                                },
                                {
                                    "username": "miklos2",
                                    "szállások száma": "3"
                                },
                                {
                                    "username": "MIKLOSB",
                                    "szállások száma": "3"
                                },
                                {
                                    "username": "MONIKAM",
                                    "szállások száma": "6"
                                },
                                {
                                    "username": "NANDORF",
                                    "szállások száma": "3"
                                },
                                {
                                    "username": "nikolett3",
                                    "szállások száma": "4"
                                },
                                {
                                    "username": "nikoletta4",
                                    "szállások száma": "7"
                                },
                                {
                                    "username": "NIKOLETTAT",
                                    "szállások száma": "4"
                                },
                                {
                                    "username": "norbert",
                                    "szállások száma": "5"
                                },
                                {
                                    "username": "norbert2",
                                    "szállások száma": "7"
                                },
                                {
                                    "username": "norbert4",
                                    "szállások száma": "9"
                                },
                                {
                                    "username": "norbert5",
                                    "szállások száma": "3"
                                },
                                {
                                    "username": "pal",
                                    "szállások száma": "5"
                                },
                                {
                                    "username": "peter1",
                                    "szállások száma": "4"
                                },
                                {
                                    "username": "peter2",
                                    "szállások száma": "4"
                                },
                                {
                                    "username": "peter3",
                                    "szállások száma": "6"
                                },
                                {
                                    "username": "peter4",
                                    "szállások száma": "12"
                                },
                                {
                                    "username": "PETERB",
                                    "szállások száma": "5"
                                },
                                {
                                    "username": "polla",
                                    "szállások száma": "6"
                                },
                                {
                                    "username": "rajmond4",
                                    "szállások száma": "4"
                                },
                                {
                                    "username": "reka4",
                                    "szállások száma": "5"
                                },
                                {
                                    "username": "RENATAK",
                                    "szállások száma": "6"
                                },
                                {
                                    "username": "RENATAS",
                                    "szállások száma": "5"
                                },
                                {
                                    "username": "robert2",
                                    "szállások száma": "4"
                                },
                                {
                                    "username": "ROBERTI",
                                    "szállások száma": "8"
                                },
                                {
                                    "username": "ROBERTP",
                                    "szállások száma": "2"
                                },
                                {
                                    "username": "roland",
                                    "szállások száma": "4"
                                },
                                {
                                    "username": "roland1",
                                    "szállások száma": "4"
                                },
                                {
                                    "username": "roza2",
                                    "szállások száma": "3"
                                },
                                {
                                    "username": "sandor",
                                    "szállások száma": "4"
                                },
                                {
                                    "username": "sandor3",
                                    "szállások száma": "5"
                                },
                                {
                                    "username": "sandor4",
                                    "szállások száma": "4"
                                },
                                {
                                    "username": "sara",
                                    "szállások száma": "12"
                                },
                                {
                                    "username": "SEBASTIANF",
                                    "szállások száma": "5"
                                },
                                {
                                    "username": "sebestyen",
                                    "szállások száma": "4"
                                },
                                {
                                    "username": "szabolcs",
                                    "szállások száma": "1"
                                },
                                {
                                    "username": "SZABOLCSM",
                                    "szállások száma": "7"
                                },
                                {
                                    "username": "SZILARDS",
                                    "szállások száma": "7"
                                },
                                {
                                    "username": "szilvia1",
                                    "szállások száma": "9"
                                },
                                {
                                    "username": "tamara2",
                                    "szállások száma": "2"
                                },
                                {
                                    "username": "tamas",
                                    "szállások száma": "4"
                                },
                                {
                                    "username": "TAMASF",
                                    "szállások száma": "9"
                                },
                                {
                                    "username": "tibor",
                                    "szállások száma": "2"
                                },
                                {
                                    "username": "tibor2",
                                    "szállások száma": "1"
                                },
                                {
                                    "username": "tihamer",
                                    "szállások száma": "6"
                                },
                                {
                                    "username": "timea",
                                    "szállások száma": "1"
                                },
                                {
                                    "username": "timea2",
                                    "szállások száma": "5"
                                },
                                {
                                    "username": "tunde",
                                    "szállások száma": "8"
                                },
                                {
                                    "username": "valentin",
                                    "szállások száma": "5"
                                },
                                {
                                    "username": "veronika4",
                                    "szállások száma": "6"
                                },
                                {
                                    "username": "VIKTORIAU",
                                    "szállások száma": "4"
                                },
                                {
                                    "username": "VIKTORK",
                                    "szállások száma": "2"
                                },
                                {
                                    "username": "vivien3",
                                    "szállások száma": "7"
                                },
                                {
                                    "username": "zoltan",
                                    "szállások száma": "2"
                                },
                                {
                                    "username": "zoltan4",
                                    "szállások száma": "12"
                                },
                                {
                                    "username": "ZOLTANP",
                                    "szállások száma": "6"
                                },
                                {
                                    "username": "ZOLTANT",
                                    "szállások száma": "3"
                                },
                                {
                                    "username": "zsofi1",
                                    "szállások száma": "2"
                                },
                                {
                                    "username": "zsolt1",
                                    "szállások száma": "4"
                                },
                                {
                                    "username": "ZSOLTJ",
                                    "szállások száma": "6"
                                },
                                {
                                    "username": "zsuzsa",
                                    "szállások száma": "3"
                                },
                                {
                                    "username": "zsuzsa3",
                                    "szállások száma": "4"
                                },
                                {
                                    "username": "zsuzsanna",
                                    "szállások száma": "4"
                                },
                                {
                                    "username": "ZSUZSAV",
                                    "szállások száma": "6"
                                },
                                {
                                    "username": "végösszeg",
                                    "szállások száma": "1027"
                                }
                            ]
                        },
                        "text/html": [
                            "<table>",
                            "<tr><th>username</th><th>szállások száma</th></tr>",
                            "<tr><td>adam1</td><td>3</td></tr>",
                            "<tr><td>adam3</td><td>2</td></tr>",
                            "<tr><td>adam4</td><td>6</td></tr>",
                            "<tr><td>agnes</td><td>5</td></tr>",
                            "<tr><td>agnes3</td><td>3</td></tr>",
                            "<tr><td>AGNESH</td><td>6</td></tr>",
                            "<tr><td>AGNESK</td><td>3</td></tr>",
                            "<tr><td>akos</td><td>10</td></tr>",
                            "<tr><td>aladar</td><td>3</td></tr>",
                            "<tr><td>alexandra</td><td>7</td></tr>",
                            "<tr><td>andi</td><td>5</td></tr>",
                            "<tr><td>andras2</td><td>5</td></tr>",
                            "<tr><td>andras21</td><td>7</td></tr>",
                            "<tr><td>andras3</td><td>8</td></tr>",
                            "<tr><td>andras4</td><td>3</td></tr>",
                            "<tr><td>andras41</td><td>13</td></tr>",
                            "<tr><td>ANDRASE</td><td>5</td></tr>",
                            "<tr><td>ANDRASN</td><td>1</td></tr>",
                            "<tr><td>andrea</td><td>6</td></tr>",
                            "<tr><td>andrea3</td><td>1</td></tr>",
                            "<tr><td>andrea4</td><td>4</td></tr>",
                            "<tr><td>ANDREAT</td><td>3</td></tr>",
                            "<tr><td>anett3</td><td>8</td></tr>",
                            "<tr><td>aniko</td><td>3</td></tr>",
                            "<tr><td>aniko4</td><td>4</td></tr>",
                            "<tr><td>ANIKOS</td><td>9</td></tr>",
                            "<tr><td>anita</td><td>4</td></tr>",
                            "<tr><td>annamaria1</td><td>2</td></tr>",
                            "<tr><td>ANNAMARIAR</td><td>6</td></tr>",
                            "<tr><td>aron2</td><td>6</td></tr>",
                            "<tr><td>ARONK</td><td>13</td></tr>",
                            "<tr><td>arpad2</td><td>7</td></tr>",
                            "<tr><td>ARPADH</td><td>7</td></tr>",
                            "<tr><td>ARPADM</td><td>6</td></tr>",
                            "<tr><td>attila</td><td>3</td></tr>",
                            "<tr><td>attila1</td><td>6</td></tr>",
                            "<tr><td>attila4</td><td>3</td></tr>",
                            "<tr><td>ATTILAO</td><td>4</td></tr>",
                            "<tr><td>balazs1</td><td>6</td></tr>",
                            "<tr><td>balazs2</td><td>10</td></tr>",
                            "<tr><td>balazs3</td><td>6</td></tr>",
                            "<tr><td>balint</td><td>3</td></tr>",
                            "<tr><td>balint1</td><td>10</td></tr>",
                            "<tr><td>balint2</td><td>2</td></tr>",
                            "<tr><td>balu</td><td>2</td></tr>",
                            "<tr><td>beata4</td><td>6</td></tr>",
                            "<tr><td>BEATRIXK</td><td>9</td></tr>",
                            "<tr><td>BEATRIXS</td><td>6</td></tr>",
                            "<tr><td>BELAF</td><td>6</td></tr>",
                            "<tr><td>bence</td><td>9</td></tr>",
                            "<tr><td>BENCEB</td><td>6</td></tr>",
                            "<tr><td>bernadett1</td><td>7</td></tr>",
                            "<tr><td>bernadett2</td><td>8</td></tr>",
                            "<tr><td>BERNADETTO</td><td>7</td></tr>",
                            "<tr><td>bertalan</td><td>6</td></tr>",
                            "<tr><td>brigitta</td><td>5</td></tr>",
                            "<tr><td>brigitta3</td><td>5</td></tr>",
                            "<tr><td>csongor3</td><td>8</td></tr>",
                            "<tr><td>dani</td><td>9</td></tr>",
                            "<tr><td>daniel</td><td>9</td></tr>",
                            "<tr><td>daniel1</td><td>7</td></tr>",
                            "<tr><td>david</td><td>9</td></tr>",
                            "<tr><td>david1</td><td>6</td></tr>",
                            "<tr><td>david4</td><td>1</td></tr>",
                            "<tr><td>debora</td><td>4</td></tr>",
                            "<tr><td>denes</td><td>6</td></tr>",
                            "<tr><td>dora3</td><td>5</td></tr>",
                            "<tr><td>edit</td><td>7</td></tr>",
                            "<tr><td>emese</td><td>7</td></tr>",
                            "<tr><td>eszter</td><td>4</td></tr>",
                            "<tr><td>eszter2</td><td>10</td></tr>",
                            "<tr><td>eszter4</td><td>3</td></tr>",
                            "<tr><td>ESZTERE</td><td>4</td></tr>",
                            "<tr><td>eva</td><td>2</td></tr>",
                            "<tr><td>eva2</td><td>4</td></tr>",
                            "<tr><td>EVAV</td><td>5</td></tr>",
                            "<tr><td>ferenc1</td><td>4</td></tr>",
                            "<tr><td>fruzsina4</td><td>8</td></tr>",
                            "<tr><td>gabor1</td><td>6</td></tr>",
                            "<tr><td>gabor4</td><td>4</td></tr>",
                            "<tr><td>GABORS</td><td>0</td></tr>",
                            "<tr><td>gabriella1</td><td>6</td></tr>",
                            "<tr><td>gabriella10</td><td>1</td></tr>",
                            "<tr><td>georgij</td><td>4</td></tr>",
                            "<tr><td>gusztav</td><td>5</td></tr>",
                            "<tr><td>GYONGYIK</td><td>7</td></tr>",
                            "<tr><td>GYORGYO</td><td>8</td></tr>",
                            "<tr><td>henrik3</td><td>3</td></tr>",
                            "<tr><td>IBOLYAA</td><td>3</td></tr>",
                            "<tr><td>ilona3</td><td>4</td></tr>",
                            "<tr><td>imre</td><td>2</td></tr>",
                            "<tr><td>imre1</td><td>7</td></tr>",
                            "<tr><td>istvan</td><td>3</td></tr>",
                            "<tr><td>istvan1</td><td>4</td></tr>",
                            "<tr><td>ISTVANV</td><td>2</td></tr>",
                            "<tr><td>janos3</td><td>5</td></tr>",
                            "<tr><td>JANOSG</td><td>7</td></tr>",
                            "<tr><td>JANOSP</td><td>4</td></tr>",
                            "<tr><td>jozsef</td><td>3</td></tr>",
                            "<tr><td>jozsef2</td><td>5</td></tr>",
                            "<tr><td>JOZSEFG</td><td>7</td></tr>",
                            "<tr><td>JUDITH</td><td>3</td></tr>",
                            "<tr><td>julia</td><td>5</td></tr>",
                            "<tr><td>julia4</td><td>2</td></tr>",
                            "<tr><td>julianna4</td><td>4</td></tr>",
                            "<tr><td>kata</td><td>10</td></tr>",
                            "<tr><td>katalin</td><td>9</td></tr>",
                            "<tr><td>katalin4</td><td>6</td></tr>",
                            "<tr><td>kati</td><td>7</td></tr>",
                            "<tr><td>katka</td><td>9</td></tr>",
                            "<tr><td>klaudia2</td><td>3</td></tr>",
                            "<tr><td>kornel4</td><td>3</td></tr>",
                            "<tr><td>kristof4</td><td>2</td></tr>",
                            "<tr><td>kriszti</td><td>6</td></tr>",
                            "<tr><td>krisztian4</td><td>12</td></tr>",
                            "<tr><td>KRISZTIANM</td><td>6</td></tr>",
                            "<tr><td>krisztina</td><td>8</td></tr>",
                            "<tr><td>krisztina1</td><td>6</td></tr>",
                            "<tr><td>KRISZTINAG</td><td>5</td></tr>",
                            "<tr><td>lajos</td><td>3</td></tr>",
                            "<tr><td>lala</td><td>6</td></tr>",
                            "<tr><td>laszlo1</td><td>1</td></tr>",
                            "<tr><td>laszlo2</td><td>5</td></tr>",
                            "<tr><td>LASZLOA</td><td>4</td></tr>",
                            "<tr><td>LASZLON</td><td>6</td></tr>",
                            "<tr><td>maria1</td><td>8</td></tr>",
                            "<tr><td>mark</td><td>5</td></tr>",
                            "<tr><td>MARKH</td><td>4</td></tr>",
                            "<tr><td>marton</td><td>7</td></tr>",
                            "<tr><td>MATEK</td><td>3</td></tr>",
                            "<tr><td>matyas2</td><td>2</td></tr>",
                            "<tr><td>MATYASS</td><td>8</td></tr>",
                            "<tr><td>MIHALYJ</td><td>5</td></tr>",
                            "<tr><td>miklos2</td><td>3</td></tr>",
                            "<tr><td>MIKLOSB</td><td>3</td></tr>",
                            "<tr><td>MONIKAM</td><td>6</td></tr>",
                            "<tr><td>NANDORF</td><td>3</td></tr>",
                            "<tr><td>nikolett3</td><td>4</td></tr>",
                            "<tr><td>nikoletta4</td><td>7</td></tr>",
                            "<tr><td>NIKOLETTAT</td><td>4</td></tr>",
                            "<tr><td>norbert</td><td>5</td></tr>",
                            "<tr><td>norbert2</td><td>7</td></tr>",
                            "<tr><td>norbert4</td><td>9</td></tr>",
                            "<tr><td>norbert5</td><td>3</td></tr>",
                            "<tr><td>pal</td><td>5</td></tr>",
                            "<tr><td>peter1</td><td>4</td></tr>",
                            "<tr><td>peter2</td><td>4</td></tr>",
                            "<tr><td>peter3</td><td>6</td></tr>",
                            "<tr><td>peter4</td><td>12</td></tr>",
                            "<tr><td>PETERB</td><td>5</td></tr>",
                            "<tr><td>polla</td><td>6</td></tr>",
                            "<tr><td>rajmond4</td><td>4</td></tr>",
                            "<tr><td>reka4</td><td>5</td></tr>",
                            "<tr><td>RENATAK</td><td>6</td></tr>",
                            "<tr><td>RENATAS</td><td>5</td></tr>",
                            "<tr><td>robert2</td><td>4</td></tr>",
                            "<tr><td>ROBERTI</td><td>8</td></tr>",
                            "<tr><td>ROBERTP</td><td>2</td></tr>",
                            "<tr><td>roland</td><td>4</td></tr>",
                            "<tr><td>roland1</td><td>4</td></tr>",
                            "<tr><td>roza2</td><td>3</td></tr>",
                            "<tr><td>sandor</td><td>4</td></tr>",
                            "<tr><td>sandor3</td><td>5</td></tr>",
                            "<tr><td>sandor4</td><td>4</td></tr>",
                            "<tr><td>sara</td><td>12</td></tr>",
                            "<tr><td>SEBASTIANF</td><td>5</td></tr>",
                            "<tr><td>sebestyen</td><td>4</td></tr>",
                            "<tr><td>szabolcs</td><td>1</td></tr>",
                            "<tr><td>SZABOLCSM</td><td>7</td></tr>",
                            "<tr><td>SZILARDS</td><td>7</td></tr>",
                            "<tr><td>szilvia1</td><td>9</td></tr>",
                            "<tr><td>tamara2</td><td>2</td></tr>",
                            "<tr><td>tamas</td><td>4</td></tr>",
                            "<tr><td>TAMASF</td><td>9</td></tr>",
                            "<tr><td>tibor</td><td>2</td></tr>",
                            "<tr><td>tibor2</td><td>1</td></tr>",
                            "<tr><td>tihamer</td><td>6</td></tr>",
                            "<tr><td>timea</td><td>1</td></tr>",
                            "<tr><td>timea2</td><td>5</td></tr>",
                            "<tr><td>tunde</td><td>8</td></tr>",
                            "<tr><td>valentin</td><td>5</td></tr>",
                            "<tr><td>veronika4</td><td>6</td></tr>",
                            "<tr><td>VIKTORIAU</td><td>4</td></tr>",
                            "<tr><td>VIKTORK</td><td>2</td></tr>",
                            "<tr><td>vivien3</td><td>7</td></tr>",
                            "<tr><td>zoltan</td><td>2</td></tr>",
                            "<tr><td>zoltan4</td><td>12</td></tr>",
                            "<tr><td>ZOLTANP</td><td>6</td></tr>",
                            "<tr><td>ZOLTANT</td><td>3</td></tr>",
                            "<tr><td>zsofi1</td><td>2</td></tr>",
                            "<tr><td>zsolt1</td><td>4</td></tr>",
                            "<tr><td>ZSOLTJ</td><td>6</td></tr>",
                            "<tr><td>zsuzsa</td><td>3</td></tr>",
                            "<tr><td>zsuzsa3</td><td>4</td></tr>",
                            "<tr><td>zsuzsanna</td><td>4</td></tr>",
                            "<tr><td>ZSUZSAV</td><td>6</td></tr>",
                            "<tr><td>végösszeg</td><td>1027</td></tr>",
                            "</table>"
                        ]
                    }
                }
            ],
            "execution_count": 3
        }
    ]
}