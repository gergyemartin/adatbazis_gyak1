{
    "cells": [
        {
            "cell_type": "code",
            "execution_count": 12,
            "metadata": {
                "azdata_cell_guid": "5eb5e129-5f24-42dc-8e07-139729bbdbd2",
                "language": "sql"
            },
            "outputs": [
                {
                    "data": {
                        "text/html": [
                            "(169 rows affected)"
                        ]
                    },
                    "metadata": {},
                    "output_type": "display_data"
                },
                {
                    "data": {
                        "text/html": [
                            "Total execution time: 00:00:00.035"
                        ]
                    },
                    "metadata": {},
                    "output_type": "display_data"
                },
                {
                    "data": {
                        "application/vnd.dataresource+json": {
                            "data": [
                                {
                                    "EMAIL": "ádám.kiss@mail.hu",
                                    "NEV": "Kiss Ádám",
                                    "USERNEV": "adam1"
                                },
                                {
                                    "EMAIL": "adam3@gmail.com",
                                    "NEV": "Barkóci Ádám",
                                    "USERNEV": "adam3"
                                },
                                {
                                    "EMAIL": "ádám.bieniek@mail.hu",
                                    "NEV": "Bieniek Ádám",
                                    "USERNEV": "adam4"
                                },
                                {
                                    "EMAIL": "agnes@gmail.com",
                                    "NEV": "Lengyel Ágnes",
                                    "USERNEV": "agnes"
                                },
                                {
                                    "EMAIL": "agnes3@gmail.com",
                                    "NEV": "Hartyánszky Ágnes",
                                    "USERNEV": "agnes3"
                                },
                                {
                                    "EMAIL": "AGNESH@gmail.com",
                                    "NEV": "Horváth Ágnes",
                                    "USERNEV": "AGNESH"
                                },
                                {
                                    "EMAIL": "AGNESK@gmail.com",
                                    "NEV": "Kovács Ágnes",
                                    "USERNEV": "AGNESK"
                                },
                                {
                                    "EMAIL": "ákos.bíró@mail.hu",
                                    "NEV": "Bíró Ákos",
                                    "USERNEV": "akos"
                                },
                                {
                                    "EMAIL": "aladár.dunai@mail.hu",
                                    "NEV": "Dunai Aladár",
                                    "USERNEV": "aladar"
                                },
                                {
                                    "EMAIL": "alexandra.bagóczki@mail.hu",
                                    "NEV": "Bagóczki Alexandra",
                                    "USERNEV": "alexandra"
                                },
                                {
                                    "EMAIL": "andrás.tóth@mail.hu",
                                    "NEV": "Tóth András",
                                    "USERNEV": "andras2"
                                },
                                {
                                    "EMAIL": "andrás.molnár@mail.hu",
                                    "NEV": "Molnár András",
                                    "USERNEV": "andras21"
                                },
                                {
                                    "EMAIL": "andrás.vígh@mail.hu",
                                    "NEV": "Vígh András",
                                    "USERNEV": "andras3"
                                },
                                {
                                    "EMAIL": "andras4@gmail.com",
                                    "NEV": "Back András",
                                    "USERNEV": "andras4"
                                },
                                {
                                    "EMAIL": "andras41@gmail.com",
                                    "NEV": "Komjáti András",
                                    "USERNEV": "andras41"
                                },
                                {
                                    "EMAIL": "andrea.kiss@mail.hu",
                                    "NEV": "Kiss Andrea",
                                    "USERNEV": "andrea"
                                },
                                {
                                    "EMAIL": "ANDREAT@gmail.com",
                                    "NEV": "Tornyos Andrea",
                                    "USERNEV": "ANDREAT"
                                },
                                {
                                    "EMAIL": "anett.pivarcsi@mail.hu",
                                    "NEV": "Pivarcsi Anett",
                                    "USERNEV": "anett3"
                                },
                                {
                                    "EMAIL": "aniko@gmail.com",
                                    "NEV": "Tóth Anikó",
                                    "USERNEV": "aniko"
                                },
                                {
                                    "EMAIL": "aniko4@gmail.com",
                                    "NEV": "Böröcz Anikó",
                                    "USERNEV": "aniko4"
                                },
                                {
                                    "EMAIL": "ANIKOS@gmail.com",
                                    "NEV": "Simon Anikó",
                                    "USERNEV": "ANIKOS"
                                },
                                {
                                    "EMAIL": "anita.hamvay-kovács@mail.hu",
                                    "NEV": "Hamvay-Kovács Anita",
                                    "USERNEV": "anita"
                                },
                                {
                                    "EMAIL": "annamária.szűcs@mail.hu",
                                    "NEV": "Szűcs Annamária",
                                    "USERNEV": "annamaria1"
                                },
                                {
                                    "EMAIL": "ANNAMARIAR@gmail.com",
                                    "NEV": "Regős Annamária",
                                    "USERNEV": "ANNAMARIAR"
                                },
                                {
                                    "EMAIL": "aron2@gmail.com",
                                    "NEV": "Jakab Áron",
                                    "USERNEV": "aron2"
                                },
                                {
                                    "EMAIL": "áron.kelemen@mail.hu",
                                    "NEV": "Kelemen Áron",
                                    "USERNEV": "ARONK"
                                },
                                {
                                    "EMAIL": "árpád.ötvös@mail.hu",
                                    "NEV": "Ötvös Árpád",
                                    "USERNEV": "arpad2"
                                },
                                {
                                    "EMAIL": "árpád.móricz@mail.hu",
                                    "NEV": "Móricz Árpád",
                                    "USERNEV": "ARPADM"
                                },
                                {
                                    "EMAIL": "attila@gmail.com",
                                    "NEV": "Csóti Attila",
                                    "USERNEV": "attila"
                                },
                                {
                                    "EMAIL": "attila.gulyás@mail.hu",
                                    "NEV": "Gulyás Attila",
                                    "USERNEV": "attila1"
                                },
                                {
                                    "EMAIL": "attila.baróti@mail.hu",
                                    "NEV": "Baróti Attila",
                                    "USERNEV": "attila4"
                                },
                                {
                                    "EMAIL": "balázs.bozsik@mail.hu",
                                    "NEV": "Bozsik Balázs",
                                    "USERNEV": "balazs1"
                                },
                                {
                                    "EMAIL": "balázs.szűcs@mail.hu",
                                    "NEV": "Szűcs Balázs",
                                    "USERNEV": "balazs2"
                                },
                                {
                                    "EMAIL": "balazs3@gmail.com",
                                    "NEV": "Bakódy Balázs",
                                    "USERNEV": "balazs3"
                                },
                                {
                                    "EMAIL": "balint@gmail.com",
                                    "NEV": "Horváth Bálint",
                                    "USERNEV": "balint"
                                },
                                {
                                    "EMAIL": "balint1@gmail.com",
                                    "NEV": "Molnár Bálint",
                                    "USERNEV": "balint1"
                                },
                                {
                                    "EMAIL": "balint2@gmail.com",
                                    "NEV": "Vukasinovity Bálint",
                                    "USERNEV": "balint2"
                                },
                                {
                                    "EMAIL": "bálint.endresz@mail.hu",
                                    "NEV": "Endresz Bálint",
                                    "USERNEV": "balu"
                                },
                                {
                                    "EMAIL": "beáta.bagi@mail.hu",
                                    "NEV": "Bagi Beáta",
                                    "USERNEV": "beata4"
                                },
                                {
                                    "EMAIL": "beatrix.kerényi@mail.hu",
                                    "NEV": "Kerényi Beatrix",
                                    "USERNEV": "BEATRIXK"
                                },
                                {
                                    "EMAIL": "beatrix.szekendi@mail.hu",
                                    "NEV": "Szekendi Beatrix",
                                    "USERNEV": "BEATRIXS"
                                },
                                {
                                    "EMAIL": "BELAF@gmail.com",
                                    "NEV": "Farkas Béla",
                                    "USERNEV": "BELAF"
                                },
                                {
                                    "EMAIL": "bence@gmail.com",
                                    "NEV": "Győrffy Bence",
                                    "USERNEV": "bence"
                                },
                                {
                                    "EMAIL": "bence.bajusz@mail.hu",
                                    "NEV": "Bajusz Bence",
                                    "USERNEV": "BENCEB"
                                },
                                {
                                    "EMAIL": "bernadett1@gmail.com",
                                    "NEV": "Simon Bernadett",
                                    "USERNEV": "bernadett1"
                                },
                                {
                                    "EMAIL": "bernadett.kovács@mail.hu",
                                    "NEV": "Kovács Bernadett",
                                    "USERNEV": "bernadett2"
                                },
                                {
                                    "EMAIL": "bernadett.orbán@mail.hu",
                                    "NEV": "Orbán Bernadett",
                                    "USERNEV": "BERNADETTO"
                                },
                                {
                                    "EMAIL": "bertalan@gmail.com",
                                    "NEV": "Csiger Bertalan",
                                    "USERNEV": "bertalan"
                                },
                                {
                                    "EMAIL": "brigitta.székely@mail.hu",
                                    "NEV": "Székely Brigitta",
                                    "USERNEV": "brigitta"
                                },
                                {
                                    "EMAIL": "csongor.nagymihály@mail.hu",
                                    "NEV": "Nagymihály Csongor",
                                    "USERNEV": "csongor3"
                                },
                                {
                                    "EMAIL": "daniel@gmail.com",
                                    "NEV": "Vörös Dániel",
                                    "USERNEV": "dani"
                                },
                                {
                                    "EMAIL": "dániel.rácz@mail.hu",
                                    "NEV": "Rácz Dániel",
                                    "USERNEV": "daniel"
                                },
                                {
                                    "EMAIL": "dániel.keszler@mail.hu",
                                    "NEV": "Keszler Dániel",
                                    "USERNEV": "daniel1"
                                },
                                {
                                    "EMAIL": "david@gmail.com",
                                    "NEV": "Ambrus Dávid",
                                    "USERNEV": "david"
                                },
                                {
                                    "EMAIL": "david1@gmail.com",
                                    "NEV": "Sobják Dávid",
                                    "USERNEV": "david1"
                                },
                                {
                                    "EMAIL": "debóra.barna@mail.hu",
                                    "NEV": "Barna Debóra",
                                    "USERNEV": "debora"
                                },
                                {
                                    "EMAIL": "denes@gmail.com",
                                    "NEV": "Tömböly Dénes",
                                    "USERNEV": "denes"
                                },
                                {
                                    "EMAIL": "edit.bittmann@mail.hu",
                                    "NEV": "Bittmann Edit",
                                    "USERNEV": "edit"
                                },
                                {
                                    "EMAIL": "emese.kuruc@mail.hu",
                                    "NEV": "Kuruc Emese",
                                    "USERNEV": "emese"
                                },
                                {
                                    "EMAIL": "eszter.balogh@mail.hu",
                                    "NEV": "Balogh Eszter",
                                    "USERNEV": "eszter2"
                                },
                                {
                                    "EMAIL": "eszter.fülöp@mail.hu",
                                    "NEV": "Fülöp Eszter",
                                    "USERNEV": "eszter4"
                                },
                                {
                                    "EMAIL": "eszter.érsek@mail.hu",
                                    "NEV": "Érsek Eszter",
                                    "USERNEV": "ESZTERE"
                                },
                                {
                                    "EMAIL": "eva@gmail.com",
                                    "NEV": "Enyedi Éva",
                                    "USERNEV": "eva"
                                },
                                {
                                    "EMAIL": "eva2@gmail.com",
                                    "NEV": "Perlinger Éva",
                                    "USERNEV": "eva2"
                                },
                                {
                                    "EMAIL": "EVAV@gmail.com",
                                    "NEV": "Viktor Éva",
                                    "USERNEV": "EVAV"
                                },
                                {
                                    "EMAIL": "ferenc.orosz@mail.hu",
                                    "NEV": "Orosz Ferenc",
                                    "USERNEV": "ferenc1"
                                },
                                {
                                    "EMAIL": "fruzsina4@gmail.com",
                                    "NEV": "Frank Fruzsina",
                                    "USERNEV": "fruzsina4"
                                },
                                {
                                    "EMAIL": "gabor1@gmail.com",
                                    "NEV": "Köves Gábor",
                                    "USERNEV": "gabor1"
                                },
                                {
                                    "EMAIL": "gábor.telek@mail.hu",
                                    "NEV": "Telek Gábor",
                                    "USERNEV": "gabor4"
                                },
                                {
                                    "EMAIL": "gabriella1@gmail.com",
                                    "NEV": "Nagy Gabriella",
                                    "USERNEV": "gabriella1"
                                },
                                {
                                    "EMAIL": "georgij.nyíri@mail.hu",
                                    "NEV": "Nyíri Georgij",
                                    "USERNEV": "georgij"
                                },
                                {
                                    "EMAIL": "gusztav@gmail.com",
                                    "NEV": "Bárci Gusztáv",
                                    "USERNEV": "gusztav"
                                },
                                {
                                    "EMAIL": "gyöngyi.kornseé@mail.hu",
                                    "NEV": "Kornseé Gyöngyi",
                                    "USERNEV": "GYONGYIK"
                                },
                                {
                                    "EMAIL": "GYORGYO@gmail.com",
                                    "NEV": "Oroszi György",
                                    "USERNEV": "GYORGYO"
                                },
                                {
                                    "EMAIL": "henrik.nádudvari@mail.hu",
                                    "NEV": "Nádudvari Henrik",
                                    "USERNEV": "henrik3"
                                },
                                {
                                    "EMAIL": "ibolya.andor@mail.hu",
                                    "NEV": "Andor Ibolya",
                                    "USERNEV": "IBOLYAA"
                                },
                                {
                                    "EMAIL": "ilona3@gmail.com",
                                    "NEV": "Bosnyák Ilona",
                                    "USERNEV": "ilona3"
                                },
                                {
                                    "EMAIL": "imre.búza@mail.hu",
                                    "NEV": "Búza Imre",
                                    "USERNEV": "imre"
                                },
                                {
                                    "EMAIL": "imre.papp@mail.hu",
                                    "NEV": "Papp Imre",
                                    "USERNEV": "imre1"
                                },
                                {
                                    "EMAIL": "istvan@gmail.com",
                                    "NEV": "Soós István",
                                    "USERNEV": "istvan"
                                },
                                {
                                    "EMAIL": "istván.vizi@mail.hu",
                                    "NEV": "Vizi István",
                                    "USERNEV": "istvan1"
                                },
                                {
                                    "EMAIL": "ISTVANV@gmail.com",
                                    "NEV": "Varga István",
                                    "USERNEV": "ISTVANV"
                                },
                                {
                                    "EMAIL": "janos3@gmail.com",
                                    "NEV": "Harangozó János",
                                    "USERNEV": "janos3"
                                },
                                {
                                    "EMAIL": "JANOSG@gmail.com",
                                    "NEV": "Giliga János",
                                    "USERNEV": "JANOSG"
                                },
                                {
                                    "EMAIL": "JANOSP@gmail.com",
                                    "NEV": "Pálinkás János",
                                    "USERNEV": "JANOSP"
                                },
                                {
                                    "EMAIL": "jozsef@gmail.com",
                                    "NEV": "Gergely József",
                                    "USERNEV": "jozsef"
                                },
                                {
                                    "EMAIL": "józsef.vajda@mail.hu",
                                    "NEV": "Vajda József",
                                    "USERNEV": "jozsef2"
                                },
                                {
                                    "EMAIL": "JUDITH@gmail.com",
                                    "NEV": "Hídasi Judit",
                                    "USERNEV": "JUDITH"
                                },
                                {
                                    "EMAIL": "julia@gmail.com",
                                    "NEV": "Tóth Júlia",
                                    "USERNEV": "julia"
                                },
                                {
                                    "EMAIL": "julia4@gmail.com",
                                    "NEV": "Nagy Júlia",
                                    "USERNEV": "julia4"
                                },
                                {
                                    "EMAIL": "julianna4@gmail.com",
                                    "NEV": "Szabó Julianna",
                                    "USERNEV": "julianna4"
                                },
                                {
                                    "EMAIL": "katalin.gondos@mail.hu",
                                    "NEV": "Gondos Katalin",
                                    "USERNEV": "kata"
                                },
                                {
                                    "EMAIL": "katalin.horváth@mail.hu",
                                    "NEV": "Horváth Katalin",
                                    "USERNEV": "katalin"
                                },
                                {
                                    "EMAIL": "katalin4@gmail.com",
                                    "NEV": "Kertész Katalin",
                                    "USERNEV": "katalin4"
                                },
                                {
                                    "EMAIL": "katalin.kovács@mail.hu",
                                    "NEV": "Kovács Katalin",
                                    "USERNEV": "katka"
                                },
                                {
                                    "EMAIL": "klaudia.bakó@mail.hu",
                                    "NEV": "Bakó Klaudia",
                                    "USERNEV": "klaudia2"
                                },
                                {
                                    "EMAIL": "kornél.lukács@mail.hu",
                                    "NEV": "Lukács Kornél",
                                    "USERNEV": "kornel4"
                                },
                                {
                                    "EMAIL": "kristof4@gmail.com",
                                    "NEV": "Poprádi Kristóf",
                                    "USERNEV": "kristof4"
                                },
                                {
                                    "EMAIL": "kriszti@gmail.com",
                                    "NEV": "Horváth Krisztina",
                                    "USERNEV": "kriszti"
                                },
                                {
                                    "EMAIL": "krisztián.czérna@mail.hu",
                                    "NEV": "Czérna Krisztián",
                                    "USERNEV": "krisztian4"
                                },
                                {
                                    "EMAIL": "krisztina.bori@mail.hu",
                                    "NEV": "Bori Krisztina",
                                    "USERNEV": "krisztina1"
                                },
                                {
                                    "EMAIL": "KRISZTINAG@gmail.com",
                                    "NEV": "Gyárfás Krisztina",
                                    "USERNEV": "KRISZTINAG"
                                },
                                {
                                    "EMAIL": "lajos.kiss@mail.hu",
                                    "NEV": "Kiss Lajos",
                                    "USERNEV": "lajos"
                                },
                                {
                                    "EMAIL": "lajos.nagymihály@mail.hu",
                                    "NEV": "Nagymihály Lajos",
                                    "USERNEV": "lala"
                                },
                                {
                                    "EMAIL": "lászló.móra@mail.hu",
                                    "NEV": "Móra László",
                                    "USERNEV": "laszlo2"
                                },
                                {
                                    "EMAIL": "lászló.antal@mail.hu",
                                    "NEV": "Antal László",
                                    "USERNEV": "LASZLOA"
                                },
                                {
                                    "EMAIL": "lászló.nagy@mail.hu",
                                    "NEV": "Nagy László",
                                    "USERNEV": "LASZLON"
                                },
                                {
                                    "EMAIL": "mária.baráth@mail.hu",
                                    "NEV": "Baráth Mária",
                                    "USERNEV": "maria1"
                                },
                                {
                                    "EMAIL": "márk.kispál@mail.hu",
                                    "NEV": "Kispál Márk",
                                    "USERNEV": "mark"
                                },
                                {
                                    "EMAIL": "márk.horváth@mail.hu",
                                    "NEV": "Horváth Márk",
                                    "USERNEV": "MARKH"
                                },
                                {
                                    "EMAIL": "marton@gmail.com",
                                    "NEV": "Kalacsi Márton",
                                    "USERNEV": "marton"
                                },
                                {
                                    "EMAIL": "máté.koza@mail.hu",
                                    "NEV": "Koza Máté",
                                    "USERNEV": "MATEK"
                                },
                                {
                                    "EMAIL": "matyas2@gmail.com",
                                    "NEV": "Botka Mátyás",
                                    "USERNEV": "matyas2"
                                },
                                {
                                    "EMAIL": "mátyás.szilágyi@mail.hu",
                                    "NEV": "Szilágyi Mátyás",
                                    "USERNEV": "MATYASS"
                                },
                                {
                                    "EMAIL": "mihály.juhász@mail.hu",
                                    "NEV": "Juhász Mihály",
                                    "USERNEV": "MIHALYJ"
                                },
                                {
                                    "EMAIL": "miklos2@gmail.com",
                                    "NEV": "Gondos Miklós",
                                    "USERNEV": "miklos2"
                                },
                                {
                                    "EMAIL": "miklós.balla@mail.hu",
                                    "NEV": "Balla Miklós",
                                    "USERNEV": "MIKLOSB"
                                },
                                {
                                    "EMAIL": "mónika.mohos@mail.hu",
                                    "NEV": "Mohos Mónika",
                                    "USERNEV": "MONIKAM"
                                },
                                {
                                    "EMAIL": "nándor.fő@mail.hu",
                                    "NEV": "Fő Nándor",
                                    "USERNEV": "NANDORF"
                                },
                                {
                                    "EMAIL": "nikolett3@gmail.com",
                                    "NEV": "Horváth Nikolett",
                                    "USERNEV": "nikolett3"
                                },
                                {
                                    "EMAIL": "nikoletta4@gmail.com",
                                    "NEV": "Kő Nikoletta",
                                    "USERNEV": "nikoletta4"
                                },
                                {
                                    "EMAIL": "nikoletta.tatár@mail.hu",
                                    "NEV": "Tatár Nikoletta",
                                    "USERNEV": "NIKOLETTAT"
                                },
                                {
                                    "EMAIL": "norbert@gmail.com",
                                    "NEV": "Szűcs Norbert",
                                    "USERNEV": "norbert"
                                },
                                {
                                    "EMAIL": "norbert.hegedűs@mail.hu",
                                    "NEV": "Hegedűs Norbert",
                                    "USERNEV": "norbert2"
                                },
                                {
                                    "EMAIL": "norbert4@gmail.com",
                                    "NEV": "Mile Norbert",
                                    "USERNEV": "norbert4"
                                },
                                {
                                    "EMAIL": "norbert5@gmail.com",
                                    "NEV": "Béres Norbert",
                                    "USERNEV": "norbert5"
                                },
                                {
                                    "EMAIL": "pál.barabás@mail.hu",
                                    "NEV": "Barabás Pál",
                                    "USERNEV": "pal"
                                },
                                {
                                    "EMAIL": "peter1@gmail.com",
                                    "NEV": "Kozma Péter",
                                    "USERNEV": "peter1"
                                },
                                {
                                    "EMAIL": "peter2@gmail.com",
                                    "NEV": "Bozsó Péter",
                                    "USERNEV": "peter2"
                                },
                                {
                                    "EMAIL": "peter3@gmail.com",
                                    "NEV": "Szalai Péter",
                                    "USERNEV": "peter3"
                                },
                                {
                                    "EMAIL": "péter.bíró@mail.hu",
                                    "NEV": "Bíró Péter",
                                    "USERNEV": "peter4"
                                },
                                {
                                    "EMAIL": "péter.berendi@mail.hu",
                                    "NEV": "Berendi Péter",
                                    "USERNEV": "PETERB"
                                },
                                {
                                    "EMAIL": "polla@gmail.com",
                                    "NEV": "Palágyi Polla",
                                    "USERNEV": "polla"
                                },
                                {
                                    "EMAIL": "rajmond.rácz@mail.hu",
                                    "NEV": "Rácz Rajmond",
                                    "USERNEV": "rajmond4"
                                },
                                {
                                    "EMAIL": "réka.szikszai@mail.hu",
                                    "NEV": "Szikszai Réka",
                                    "USERNEV": "reka4"
                                },
                                {
                                    "EMAIL": "RENATAS@gmail.com",
                                    "NEV": "Szirmai Renáta",
                                    "USERNEV": "RENATAS"
                                },
                                {
                                    "EMAIL": "robert2@gmail.com",
                                    "NEV": "Patay Róbert",
                                    "USERNEV": "robert2"
                                },
                                {
                                    "EMAIL": "róbert.iván@mail.hu",
                                    "NEV": "Iván Róbert",
                                    "USERNEV": "ROBERTI"
                                },
                                {
                                    "EMAIL": "roland@gmail.com",
                                    "NEV": "Tóth Roland",
                                    "USERNEV": "roland"
                                },
                                {
                                    "EMAIL": "roland.ferencz@mail.hu",
                                    "NEV": "Ferencz Roland",
                                    "USERNEV": "roland1"
                                },
                                {
                                    "EMAIL": "roza2@gmail.com",
                                    "NEV": "Bucskó Róza",
                                    "USERNEV": "roza2"
                                },
                                {
                                    "EMAIL": "sandor@gmail.com",
                                    "NEV": "Karasz Sándor",
                                    "USERNEV": "sandor"
                                },
                                {
                                    "EMAIL": "sándor.farkas@mail.hu",
                                    "NEV": "Farkas Sándor",
                                    "USERNEV": "sandor3"
                                },
                                {
                                    "EMAIL": "sandor4@gmail.com",
                                    "NEV": "Nagy Sándor",
                                    "USERNEV": "sandor4"
                                },
                                {
                                    "EMAIL": "sára.farkas@mail.hu",
                                    "NEV": "Farkas Sára",
                                    "USERNEV": "sara"
                                },
                                {
                                    "EMAIL": "SEBASTIANF@gmail.com",
                                    "NEV": "Foltényi Sebastián",
                                    "USERNEV": "SEBASTIANF"
                                },
                                {
                                    "EMAIL": "sebestyen@gmail.com",
                                    "NEV": "Rab Sebestyén",
                                    "USERNEV": "sebestyen"
                                },
                                {
                                    "EMAIL": "szabolcs.miklós@mail.hu",
                                    "NEV": "Miklós Szabolcs",
                                    "USERNEV": "SZABOLCSM"
                                },
                                {
                                    "EMAIL": "szilárd.szalai@mail.hu",
                                    "NEV": "Szalai Szilárd",
                                    "USERNEV": "SZILARDS"
                                },
                                {
                                    "EMAIL": "szilvia.tari@mail.hu",
                                    "NEV": "Tari Szilvia",
                                    "USERNEV": "szilvia1"
                                },
                                {
                                    "EMAIL": "tamara.miklós@mail.hu",
                                    "NEV": "Miklós Tamara",
                                    "USERNEV": "tamara2"
                                },
                                {
                                    "EMAIL": "tamás.antal@mail.hu",
                                    "NEV": "Antal Tamás",
                                    "USERNEV": "tamas"
                                },
                                {
                                    "EMAIL": "TAMASF@gmail.com",
                                    "NEV": "Fényes Tamás",
                                    "USERNEV": "TAMASF"
                                },
                                {
                                    "EMAIL": "tibor.gombos@mail.hu",
                                    "NEV": "Gombos Tibor",
                                    "USERNEV": "tibor"
                                },
                                {
                                    "EMAIL": "tihamér.kazy@mail.hu",
                                    "NEV": "Kazy Tihamér",
                                    "USERNEV": "tihamer"
                                },
                                {
                                    "EMAIL": "tímea.dusha@mail.hu",
                                    "NEV": "Dusha Tímea",
                                    "USERNEV": "timea2"
                                },
                                {
                                    "EMAIL": "tunde@gmail.com",
                                    "NEV": "Turcsik Tünde",
                                    "USERNEV": "tunde"
                                },
                                {
                                    "EMAIL": "valentin.feró@mail.hu",
                                    "NEV": "Feró Valentin",
                                    "USERNEV": "valentin"
                                },
                                {
                                    "EMAIL": "veronika4@gmail.com",
                                    "NEV": "Tankó Veronika",
                                    "USERNEV": "veronika4"
                                },
                                {
                                    "EMAIL": "vivien3@gmail.com",
                                    "NEV": "Boros Vivien",
                                    "USERNEV": "vivien3"
                                },
                                {
                                    "EMAIL": "zoltán.fodor@mail.hu",
                                    "NEV": "Fodor Zoltán",
                                    "USERNEV": "zoltan"
                                },
                                {
                                    "EMAIL": "zoltán.pintér@mail.hu",
                                    "NEV": "Pintér Zoltán",
                                    "USERNEV": "ZOLTANP"
                                },
                                {
                                    "EMAIL": "zoltán.tóth@mail.hu",
                                    "NEV": "Tóth Zoltán",
                                    "USERNEV": "ZOLTANT"
                                },
                                {
                                    "EMAIL": "zsofi1@gmail.com",
                                    "NEV": "Molnár Zsófi",
                                    "USERNEV": "zsofi1"
                                },
                                {
                                    "EMAIL": "ZSOLTJ@gmail.com",
                                    "NEV": "Józsa Zsolt",
                                    "USERNEV": "ZSOLTJ"
                                },
                                {
                                    "EMAIL": "zsuzsanna@gmail.com",
                                    "NEV": "Pusztai Zsuzsanna",
                                    "USERNEV": "zsuzsa"
                                },
                                {
                                    "EMAIL": "zsuzsa.varsányi@mail.hu",
                                    "NEV": "Varsányi Zsuzsa",
                                    "USERNEV": "zsuzsa3"
                                },
                                {
                                    "EMAIL": "zsuzsanna.barta@mail.hu",
                                    "NEV": "Barta Zsuzsanna",
                                    "USERNEV": "zsuzsanna"
                                },
                                {
                                    "EMAIL": "zsuzsa.vajda@mail.hu",
                                    "NEV": "Vajda Zsuzsa",
                                    "USERNEV": "ZSUZSAV"
                                }
                            ],
                            "schema": {
                                "fields": [
                                    {
                                        "name": "NEV"
                                    },
                                    {
                                        "name": "EMAIL"
                                    },
                                    {
                                        "name": "USERNEV"
                                    }
                                ]
                            }
                        },
                        "text/html": [
                            "<table><tr><th>NEV</th><th>EMAIL</th><th>USERNEV</th></tr><tr><td>Kiss Ádám</td><td>ádám.kiss@mail.hu</td><td>adam1</td></tr><tr><td>Barkóci Ádám</td><td>adam3@gmail.com</td><td>adam3</td></tr><tr><td>Bieniek Ádám</td><td>ádám.bieniek@mail.hu</td><td>adam4</td></tr><tr><td>Lengyel Ágnes</td><td>agnes@gmail.com</td><td>agnes</td></tr><tr><td>Hartyánszky Ágnes</td><td>agnes3@gmail.com</td><td>agnes3</td></tr><tr><td>Horváth Ágnes</td><td>AGNESH@gmail.com</td><td>AGNESH</td></tr><tr><td>Kovács Ágnes</td><td>AGNESK@gmail.com</td><td>AGNESK</td></tr><tr><td>Bíró Ákos</td><td>ákos.bíró@mail.hu</td><td>akos</td></tr><tr><td>Dunai Aladár</td><td>aladár.dunai@mail.hu</td><td>aladar</td></tr><tr><td>Bagóczki Alexandra</td><td>alexandra.bagóczki@mail.hu</td><td>alexandra</td></tr><tr><td>Tóth András</td><td>andrás.tóth@mail.hu</td><td>andras2</td></tr><tr><td>Molnár András</td><td>andrás.molnár@mail.hu</td><td>andras21</td></tr><tr><td>Vígh András</td><td>andrás.vígh@mail.hu</td><td>andras3</td></tr><tr><td>Back András</td><td>andras4@gmail.com</td><td>andras4</td></tr><tr><td>Komjáti András</td><td>andras41@gmail.com</td><td>andras41</td></tr><tr><td>Kiss Andrea</td><td>andrea.kiss@mail.hu</td><td>andrea</td></tr><tr><td>Tornyos Andrea</td><td>ANDREAT@gmail.com</td><td>ANDREAT</td></tr><tr><td>Pivarcsi Anett</td><td>anett.pivarcsi@mail.hu</td><td>anett3</td></tr><tr><td>Tóth Anikó</td><td>aniko@gmail.com</td><td>aniko</td></tr><tr><td>Böröcz Anikó</td><td>aniko4@gmail.com</td><td>aniko4</td></tr><tr><td>Simon Anikó</td><td>ANIKOS@gmail.com</td><td>ANIKOS</td></tr><tr><td>Hamvay-Kovács Anita</td><td>anita.hamvay-kovács@mail.hu</td><td>anita</td></tr><tr><td>Szűcs Annamária</td><td>annamária.szűcs@mail.hu</td><td>annamaria1</td></tr><tr><td>Regős Annamária</td><td>ANNAMARIAR@gmail.com</td><td>ANNAMARIAR</td></tr><tr><td>Jakab Áron</td><td>aron2@gmail.com</td><td>aron2</td></tr><tr><td>Kelemen Áron</td><td>áron.kelemen@mail.hu</td><td>ARONK</td></tr><tr><td>Ötvös Árpád</td><td>árpád.ötvös@mail.hu</td><td>arpad2</td></tr><tr><td>Móricz Árpád</td><td>árpád.móricz@mail.hu</td><td>ARPADM</td></tr><tr><td>Csóti Attila</td><td>attila@gmail.com</td><td>attila</td></tr><tr><td>Gulyás Attila</td><td>attila.gulyás@mail.hu</td><td>attila1</td></tr><tr><td>Baróti Attila</td><td>attila.baróti@mail.hu</td><td>attila4</td></tr><tr><td>Bozsik Balázs</td><td>balázs.bozsik@mail.hu</td><td>balazs1</td></tr><tr><td>Szűcs Balázs</td><td>balázs.szűcs@mail.hu</td><td>balazs2</td></tr><tr><td>Bakódy Balázs</td><td>balazs3@gmail.com</td><td>balazs3</td></tr><tr><td>Horváth Bálint</td><td>balint@gmail.com</td><td>balint</td></tr><tr><td>Molnár Bálint</td><td>balint1@gmail.com</td><td>balint1</td></tr><tr><td>Vukasinovity Bálint</td><td>balint2@gmail.com</td><td>balint2</td></tr><tr><td>Endresz Bálint</td><td>bálint.endresz@mail.hu</td><td>balu</td></tr><tr><td>Bagi Beáta</td><td>beáta.bagi@mail.hu</td><td>beata4</td></tr><tr><td>Kerényi Beatrix</td><td>beatrix.kerényi@mail.hu</td><td>BEATRIXK</td></tr><tr><td>Szekendi Beatrix</td><td>beatrix.szekendi@mail.hu</td><td>BEATRIXS</td></tr><tr><td>Farkas Béla</td><td>BELAF@gmail.com</td><td>BELAF</td></tr><tr><td>Győrffy Bence</td><td>bence@gmail.com</td><td>bence</td></tr><tr><td>Bajusz Bence</td><td>bence.bajusz@mail.hu</td><td>BENCEB</td></tr><tr><td>Simon Bernadett</td><td>bernadett1@gmail.com</td><td>bernadett1</td></tr><tr><td>Kovács Bernadett</td><td>bernadett.kovács@mail.hu</td><td>bernadett2</td></tr><tr><td>Orbán Bernadett</td><td>bernadett.orbán@mail.hu</td><td>BERNADETTO</td></tr><tr><td>Csiger Bertalan</td><td>bertalan@gmail.com</td><td>bertalan</td></tr><tr><td>Székely Brigitta</td><td>brigitta.székely@mail.hu</td><td>brigitta</td></tr><tr><td>Nagymihály Csongor</td><td>csongor.nagymihály@mail.hu</td><td>csongor3</td></tr><tr><td>Vörös Dániel</td><td>daniel@gmail.com</td><td>dani</td></tr><tr><td>Rácz Dániel</td><td>dániel.rácz@mail.hu</td><td>daniel</td></tr><tr><td>Keszler Dániel</td><td>dániel.keszler@mail.hu</td><td>daniel1</td></tr><tr><td>Ambrus Dávid</td><td>david@gmail.com</td><td>david</td></tr><tr><td>Sobják Dávid</td><td>david1@gmail.com</td><td>david1</td></tr><tr><td>Barna Debóra</td><td>debóra.barna@mail.hu</td><td>debora</td></tr><tr><td>Tömböly Dénes</td><td>denes@gmail.com</td><td>denes</td></tr><tr><td>Bittmann Edit</td><td>edit.bittmann@mail.hu</td><td>edit</td></tr><tr><td>Kuruc Emese</td><td>emese.kuruc@mail.hu</td><td>emese</td></tr><tr><td>Balogh Eszter</td><td>eszter.balogh@mail.hu</td><td>eszter2</td></tr><tr><td>Fülöp Eszter</td><td>eszter.fülöp@mail.hu</td><td>eszter4</td></tr><tr><td>Érsek Eszter</td><td>eszter.érsek@mail.hu</td><td>ESZTERE</td></tr><tr><td>Enyedi Éva</td><td>eva@gmail.com</td><td>eva</td></tr><tr><td>Perlinger Éva</td><td>eva2@gmail.com</td><td>eva2</td></tr><tr><td>Viktor Éva</td><td>EVAV@gmail.com</td><td>EVAV</td></tr><tr><td>Orosz Ferenc</td><td>ferenc.orosz@mail.hu</td><td>ferenc1</td></tr><tr><td>Frank Fruzsina</td><td>fruzsina4@gmail.com</td><td>fruzsina4</td></tr><tr><td>Köves Gábor</td><td>gabor1@gmail.com</td><td>gabor1</td></tr><tr><td>Telek Gábor</td><td>gábor.telek@mail.hu</td><td>gabor4</td></tr><tr><td>Nagy Gabriella</td><td>gabriella1@gmail.com</td><td>gabriella1</td></tr><tr><td>Nyíri Georgij</td><td>georgij.nyíri@mail.hu</td><td>georgij</td></tr><tr><td>Bárci Gusztáv</td><td>gusztav@gmail.com</td><td>gusztav</td></tr><tr><td>Kornseé Gyöngyi</td><td>gyöngyi.kornseé@mail.hu</td><td>GYONGYIK</td></tr><tr><td>Oroszi György</td><td>GYORGYO@gmail.com</td><td>GYORGYO</td></tr><tr><td>Nádudvari Henrik</td><td>henrik.nádudvari@mail.hu</td><td>henrik3</td></tr><tr><td>Andor Ibolya</td><td>ibolya.andor@mail.hu</td><td>IBOLYAA</td></tr><tr><td>Bosnyák Ilona</td><td>ilona3@gmail.com</td><td>ilona3</td></tr><tr><td>Búza Imre</td><td>imre.búza@mail.hu</td><td>imre</td></tr><tr><td>Papp Imre</td><td>imre.papp@mail.hu</td><td>imre1</td></tr><tr><td>Soós István</td><td>istvan@gmail.com</td><td>istvan</td></tr><tr><td>Vizi István</td><td>istván.vizi@mail.hu</td><td>istvan1</td></tr><tr><td>Varga István</td><td>ISTVANV@gmail.com</td><td>ISTVANV</td></tr><tr><td>Harangozó János</td><td>janos3@gmail.com</td><td>janos3</td></tr><tr><td>Giliga János</td><td>JANOSG@gmail.com</td><td>JANOSG</td></tr><tr><td>Pálinkás János</td><td>JANOSP@gmail.com</td><td>JANOSP</td></tr><tr><td>Gergely József</td><td>jozsef@gmail.com</td><td>jozsef</td></tr><tr><td>Vajda József</td><td>józsef.vajda@mail.hu</td><td>jozsef2</td></tr><tr><td>Hídasi Judit</td><td>JUDITH@gmail.com</td><td>JUDITH</td></tr><tr><td>Tóth Júlia</td><td>julia@gmail.com</td><td>julia</td></tr><tr><td>Nagy Júlia</td><td>julia4@gmail.com</td><td>julia4</td></tr><tr><td>Szabó Julianna</td><td>julianna4@gmail.com</td><td>julianna4</td></tr><tr><td>Gondos Katalin</td><td>katalin.gondos@mail.hu</td><td>kata</td></tr><tr><td>Horváth Katalin</td><td>katalin.horváth@mail.hu</td><td>katalin</td></tr><tr><td>Kertész Katalin</td><td>katalin4@gmail.com</td><td>katalin4</td></tr><tr><td>Kovács Katalin</td><td>katalin.kovács@mail.hu</td><td>katka</td></tr><tr><td>Bakó Klaudia</td><td>klaudia.bakó@mail.hu</td><td>klaudia2</td></tr><tr><td>Lukács Kornél</td><td>kornél.lukács@mail.hu</td><td>kornel4</td></tr><tr><td>Poprádi Kristóf</td><td>kristof4@gmail.com</td><td>kristof4</td></tr><tr><td>Horváth Krisztina</td><td>kriszti@gmail.com</td><td>kriszti</td></tr><tr><td>Czérna Krisztián</td><td>krisztián.czérna@mail.hu</td><td>krisztian4</td></tr><tr><td>Bori Krisztina</td><td>krisztina.bori@mail.hu</td><td>krisztina1</td></tr><tr><td>Gyárfás Krisztina</td><td>KRISZTINAG@gmail.com</td><td>KRISZTINAG</td></tr><tr><td>Kiss Lajos</td><td>lajos.kiss@mail.hu</td><td>lajos</td></tr><tr><td>Nagymihály Lajos</td><td>lajos.nagymihály@mail.hu</td><td>lala</td></tr><tr><td>Móra László</td><td>lászló.móra@mail.hu</td><td>laszlo2</td></tr><tr><td>Antal László</td><td>lászló.antal@mail.hu</td><td>LASZLOA</td></tr><tr><td>Nagy László</td><td>lászló.nagy@mail.hu</td><td>LASZLON</td></tr><tr><td>Baráth Mária</td><td>mária.baráth@mail.hu</td><td>maria1</td></tr><tr><td>Kispál Márk</td><td>márk.kispál@mail.hu</td><td>mark</td></tr><tr><td>Horváth Márk</td><td>márk.horváth@mail.hu</td><td>MARKH</td></tr><tr><td>Kalacsi Márton</td><td>marton@gmail.com</td><td>marton</td></tr><tr><td>Koza Máté</td><td>máté.koza@mail.hu</td><td>MATEK</td></tr><tr><td>Botka Mátyás</td><td>matyas2@gmail.com</td><td>matyas2</td></tr><tr><td>Szilágyi Mátyás</td><td>mátyás.szilágyi@mail.hu</td><td>MATYASS</td></tr><tr><td>Juhász Mihály</td><td>mihály.juhász@mail.hu</td><td>MIHALYJ</td></tr><tr><td>Gondos Miklós</td><td>miklos2@gmail.com</td><td>miklos2</td></tr><tr><td>Balla Miklós</td><td>miklós.balla@mail.hu</td><td>MIKLOSB</td></tr><tr><td>Mohos Mónika</td><td>mónika.mohos@mail.hu</td><td>MONIKAM</td></tr><tr><td>Fő Nándor</td><td>nándor.fő@mail.hu</td><td>NANDORF</td></tr><tr><td>Horváth Nikolett</td><td>nikolett3@gmail.com</td><td>nikolett3</td></tr><tr><td>Kő Nikoletta</td><td>nikoletta4@gmail.com</td><td>nikoletta4</td></tr><tr><td>Tatár Nikoletta</td><td>nikoletta.tatár@mail.hu</td><td>NIKOLETTAT</td></tr><tr><td>Szűcs Norbert</td><td>norbert@gmail.com</td><td>norbert</td></tr><tr><td>Hegedűs Norbert</td><td>norbert.hegedűs@mail.hu</td><td>norbert2</td></tr><tr><td>Mile Norbert</td><td>norbert4@gmail.com</td><td>norbert4</td></tr><tr><td>Béres Norbert</td><td>norbert5@gmail.com</td><td>norbert5</td></tr><tr><td>Barabás Pál</td><td>pál.barabás@mail.hu</td><td>pal</td></tr><tr><td>Kozma Péter</td><td>peter1@gmail.com</td><td>peter1</td></tr><tr><td>Bozsó Péter</td><td>peter2@gmail.com</td><td>peter2</td></tr><tr><td>Szalai Péter</td><td>peter3@gmail.com</td><td>peter3</td></tr><tr><td>Bíró Péter</td><td>péter.bíró@mail.hu</td><td>peter4</td></tr><tr><td>Berendi Péter</td><td>péter.berendi@mail.hu</td><td>PETERB</td></tr><tr><td>Palágyi Polla</td><td>polla@gmail.com</td><td>polla</td></tr><tr><td>Rácz Rajmond</td><td>rajmond.rácz@mail.hu</td><td>rajmond4</td></tr><tr><td>Szikszai Réka</td><td>réka.szikszai@mail.hu</td><td>reka4</td></tr><tr><td>Szirmai Renáta</td><td>RENATAS@gmail.com</td><td>RENATAS</td></tr><tr><td>Patay Róbert</td><td>robert2@gmail.com</td><td>robert2</td></tr><tr><td>Iván Róbert</td><td>róbert.iván@mail.hu</td><td>ROBERTI</td></tr><tr><td>Tóth Roland</td><td>roland@gmail.com</td><td>roland</td></tr><tr><td>Ferencz Roland</td><td>roland.ferencz@mail.hu</td><td>roland1</td></tr><tr><td>Bucskó Róza</td><td>roza2@gmail.com</td><td>roza2</td></tr><tr><td>Karasz Sándor</td><td>sandor@gmail.com</td><td>sandor</td></tr><tr><td>Farkas Sándor</td><td>sándor.farkas@mail.hu</td><td>sandor3</td></tr><tr><td>Nagy Sándor</td><td>sandor4@gmail.com</td><td>sandor4</td></tr><tr><td>Farkas Sára</td><td>sára.farkas@mail.hu</td><td>sara</td></tr><tr><td>Foltényi Sebastián</td><td>SEBASTIANF@gmail.com</td><td>SEBASTIANF</td></tr><tr><td>Rab Sebestyén</td><td>sebestyen@gmail.com</td><td>sebestyen</td></tr><tr><td>Miklós Szabolcs</td><td>szabolcs.miklós@mail.hu</td><td>SZABOLCSM</td></tr><tr><td>Szalai Szilárd</td><td>szilárd.szalai@mail.hu</td><td>SZILARDS</td></tr><tr><td>Tari Szilvia</td><td>szilvia.tari@mail.hu</td><td>szilvia1</td></tr><tr><td>Miklós Tamara</td><td>tamara.miklós@mail.hu</td><td>tamara2</td></tr><tr><td>Antal Tamás</td><td>tamás.antal@mail.hu</td><td>tamas</td></tr><tr><td>Fényes Tamás</td><td>TAMASF@gmail.com</td><td>TAMASF</td></tr><tr><td>Gombos Tibor</td><td>tibor.gombos@mail.hu</td><td>tibor</td></tr><tr><td>Kazy Tihamér</td><td>tihamér.kazy@mail.hu</td><td>tihamer</td></tr><tr><td>Dusha Tímea</td><td>tímea.dusha@mail.hu</td><td>timea2</td></tr><tr><td>Turcsik Tünde</td><td>tunde@gmail.com</td><td>tunde</td></tr><tr><td>Feró Valentin</td><td>valentin.feró@mail.hu</td><td>valentin</td></tr><tr><td>Tankó Veronika</td><td>veronika4@gmail.com</td><td>veronika4</td></tr><tr><td>Boros Vivien</td><td>vivien3@gmail.com</td><td>vivien3</td></tr><tr><td>Fodor Zoltán</td><td>zoltán.fodor@mail.hu</td><td>zoltan</td></tr><tr><td>Pintér Zoltán</td><td>zoltán.pintér@mail.hu</td><td>ZOLTANP</td></tr><tr><td>Tóth Zoltán</td><td>zoltán.tóth@mail.hu</td><td>ZOLTANT</td></tr><tr><td>Molnár Zsófi</td><td>zsofi1@gmail.com</td><td>zsofi1</td></tr><tr><td>Józsa Zsolt</td><td>ZSOLTJ@gmail.com</td><td>ZSOLTJ</td></tr><tr><td>Pusztai Zsuzsanna</td><td>zsuzsanna@gmail.com</td><td>zsuzsa</td></tr><tr><td>Varsányi Zsuzsa</td><td>zsuzsa.varsányi@mail.hu</td><td>zsuzsa3</td></tr><tr><td>Barta Zsuzsanna</td><td>zsuzsanna.barta@mail.hu</td><td>zsuzsanna</td></tr><tr><td>Vajda Zsuzsa</td><td>zsuzsa.vajda@mail.hu</td><td>ZSUZSAV</td></tr></table>"
                        ]
                    },
                    "execution_count": 12,
                    "metadata": {},
                    "output_type": "execute_result"
                }
            ],
            "source": [
                "SELECT v.NEV,\n",
                "       v.EMAIL,\n",
                "       v.USERNEV\n",
                "FROM Vendeg v join Foglalas f ON v.USERNEV = f.UGYFEL_FK\n",
                "where MONTH(SZUL_DAT) != 5\n",
                "group by v.nev,email,v.usernev\n",
                "HAVING(COUNT(*)) > 1\n"
            ]
        },
        {
            "cell_type": "code",
            "execution_count": 4,
            "metadata": {
                "azdata_cell_guid": "c43ff9bf-1417-4cc2-84b7-ccc4763626c5",
                "language": "sql"
            },
            "outputs": [
                {
                    "data": {
                        "text/html": [
                            "(11 rows affected)"
                        ]
                    },
                    "metadata": {},
                    "output_type": "display_data"
                },
                {
                    "data": {
                        "text/html": [
                            "Total execution time: 00:00:00.004"
                        ]
                    },
                    "metadata": {},
                    "output_type": "display_data"
                },
                {
                    "data": {
                        "application/vnd.dataresource+json": {
                            "data": [
                                {
                                    "szallas_id": "17",
                                    "szallas_nev": "Szarvas Hotel"
                                },
                                {
                                    "szallas_id": "16",
                                    "szallas_nev": "Bagoly Hotel"
                                },
                                {
                                    "szallas_id": "3",
                                    "szallas_nev": "Fortuna Apartman"
                                },
                                {
                                    "szallas_id": "18",
                                    "szallas_nev": "Fortuna Apartman"
                                },
                                {
                                    "szallas_id": "19",
                                    "szallas_nev": "Nyárfás Vendégház"
                                },
                                {
                                    "szallas_id": "21",
                                    "szallas_nev": "Müller Vendégház"
                                },
                                {
                                    "szallas_id": "13",
                                    "szallas_nev": "Riviéra Panzió"
                                },
                                {
                                    "szallas_id": "10",
                                    "szallas_nev": "Lagúna Hotel"
                                },
                                {
                                    "szallas_id": "5",
                                    "szallas_nev": "Fortuna Panzió"
                                },
                                {
                                    "szallas_id": "11",
                                    "szallas_nev": "Partiszél Vendégház"
                                },
                                {
                                    "szallas_id": "8",
                                    "szallas_nev": "Hotel Három Hattyú"
                                }
                            ],
                            "schema": {
                                "fields": [
                                    {
                                        "name": "szallas_id"
                                    },
                                    {
                                        "name": "szallas_nev"
                                    }
                                ]
                            }
                        },
                        "text/html": [
                            "<table>\n",
                            "<tr><th>szallas_id</th><th>szallas_nev</th></tr>\n",
                            "<tr><td>17</td><td>Szarvas Hotel</td></tr>\n",
                            "<tr><td>16</td><td>Bagoly Hotel</td></tr>\n",
                            "<tr><td>3</td><td>Fortuna Apartman</td></tr>\n",
                            "<tr><td>18</td><td>Fortuna Apartman</td></tr>\n",
                            "<tr><td>19</td><td>Nyárfás Vendégház</td></tr>\n",
                            "<tr><td>21</td><td>Müller Vendégház</td></tr>\n",
                            "<tr><td>13</td><td>Riviéra Panzió</td></tr>\n",
                            "<tr><td>10</td><td>Lagúna Hotel</td></tr>\n",
                            "<tr><td>5</td><td>Fortuna Panzió</td></tr>\n",
                            "<tr><td>11</td><td>Partiszél Vendégház</td></tr>\n",
                            "<tr><td>8</td><td>Hotel Három Hattyú</td></tr>\n",
                            "</table>"
                        ]
                    },
                    "execution_count": 4,
                    "metadata": {},
                    "output_type": "execute_result"
                }
            ],
            "source": [
                "SELECT s.szallas_id, s.szallas_nev\n",
                "FROM szallashely s\n",
                "JOIN (\n",
                "    SELECT hely, MAX(csillagok_szama) AS max_csillag\n",
                "    FROM szallashely\n",
                "    GROUP BY hely\n",
                ") max_cs ON s.hely = max_cs.hely AND s.csillagok_szama = max_cs.max_csillag;\n"
            ]
        },
        {
            "cell_type": "code",
            "execution_count": 9,
            "metadata": {
                "azdata_cell_guid": "95f5d6b8-0a44-42bf-a9b6-376c609dc327",
                "language": "sql"
            },
            "outputs": [
                {
                    "data": {
                        "text/html": [
                            "(195 rows affected)"
                        ]
                    },
                    "metadata": {},
                    "output_type": "display_data"
                },
                {
                    "data": {
                        "text/html": [
                            "Total execution time: 00:00:00.021"
                        ]
                    },
                    "metadata": {},
                    "output_type": "display_data"
                },
                {
                    "data": {
                        "application/vnd.dataresource+json": {
                            "data": [
                                {
                                    "Legelső": "2016-05-28",
                                    "legutolsó": "2016-10-19",
                                    "nev": "Kiss Ádám",
                                    "szul_dat": "1991-12-28",
                                    "usernev": "adam1"
                                },
                                {
                                    "Legelső": "2016-09-12",
                                    "legutolsó": "2017-02-06",
                                    "nev": "Barkóci Ádám",
                                    "szul_dat": "1970-06-07",
                                    "usernev": "adam3"
                                },
                                {
                                    "Legelső": "2016-08-28",
                                    "legutolsó": "2017-02-23",
                                    "nev": "Bieniek Ádám",
                                    "szul_dat": "1976-08-01",
                                    "usernev": "adam4"
                                },
                                {
                                    "Legelső": "2016-05-09",
                                    "legutolsó": "2016-11-07",
                                    "nev": "Lengyel Ágnes",
                                    "szul_dat": "1979-12-10",
                                    "usernev": "agnes"
                                },
                                {
                                    "Legelső": "2016-08-04",
                                    "legutolsó": "2017-02-16",
                                    "nev": "Hartyánszky Ágnes",
                                    "szul_dat": "1967-04-11",
                                    "usernev": "agnes3"
                                },
                                {
                                    "Legelső": "2016-04-10",
                                    "legutolsó": "2017-01-16",
                                    "nev": "Horváth Ágnes",
                                    "szul_dat": "1981-12-24",
                                    "usernev": "AGNESH"
                                },
                                {
                                    "Legelső": "2016-07-29",
                                    "legutolsó": "2016-12-17",
                                    "nev": "Kovács Ágnes",
                                    "szul_dat": "1988-10-02",
                                    "usernev": "AGNESK"
                                },
                                {
                                    "Legelső": "2016-05-18",
                                    "legutolsó": "2016-12-29",
                                    "nev": "Bíró Ákos",
                                    "szul_dat": "1982-04-24",
                                    "usernev": "akos"
                                },
                                {
                                    "Legelső": "2016-05-17",
                                    "legutolsó": "2016-11-22",
                                    "nev": "Dunai Aladár",
                                    "szul_dat": "1980-11-01",
                                    "usernev": "aladar"
                                },
                                {
                                    "Legelső": "2016-05-21",
                                    "legutolsó": "2017-01-19",
                                    "nev": "Bagóczki Alexandra",
                                    "szul_dat": "1992-03-25",
                                    "usernev": "alexandra"
                                },
                                {
                                    "Legelső": "2016-05-08",
                                    "legutolsó": "2017-01-13",
                                    "nev": "Maródi Andrea",
                                    "szul_dat": "1968-05-07",
                                    "usernev": "andi"
                                },
                                {
                                    "Legelső": "2016-05-30",
                                    "legutolsó": "2017-02-08",
                                    "nev": "Tóth András",
                                    "szul_dat": "1997-10-31",
                                    "usernev": "andras2"
                                },
                                {
                                    "Legelső": "2016-06-21",
                                    "legutolsó": "2017-01-28",
                                    "nev": "Molnár András",
                                    "szul_dat": "1977-11-16",
                                    "usernev": "andras21"
                                },
                                {
                                    "Legelső": "2016-05-01",
                                    "legutolsó": "2017-02-02",
                                    "nev": "Vígh András",
                                    "szul_dat": "1971-04-02",
                                    "usernev": "andras3"
                                },
                                {
                                    "Legelső": "2016-09-17",
                                    "legutolsó": "2017-01-09",
                                    "nev": "Back András",
                                    "szul_dat": "1984-04-07",
                                    "usernev": "andras4"
                                },
                                {
                                    "Legelső": "2016-05-14",
                                    "legutolsó": "2016-11-23",
                                    "nev": "Komjáti András",
                                    "szul_dat": "1997-10-25",
                                    "usernev": "andras41"
                                },
                                {
                                    "Legelső": "2016-04-24",
                                    "legutolsó": "2016-11-29",
                                    "nev": "Erdei András",
                                    "szul_dat": "1997-05-29",
                                    "usernev": "ANDRASE"
                                },
                                {
                                    "Legelső": "2016-11-25",
                                    "legutolsó": "2016-11-25",
                                    "nev": "Nagy András",
                                    "szul_dat": "1980-09-05",
                                    "usernev": "ANDRASN"
                                },
                                {
                                    "Legelső": "2016-07-27",
                                    "legutolsó": "2017-02-09",
                                    "nev": "Kiss Andrea",
                                    "szul_dat": "1993-03-25",
                                    "usernev": "andrea"
                                },
                                {
                                    "Legelső": "2016-11-19",
                                    "legutolsó": "2016-11-19",
                                    "nev": "Szomor Andrea",
                                    "szul_dat": "1996-05-10",
                                    "usernev": "andrea3"
                                },
                                {
                                    "Legelső": "2016-05-27",
                                    "legutolsó": "2017-01-22",
                                    "nev": "Neizer Andrea",
                                    "szul_dat": "1981-05-17",
                                    "usernev": "andrea4"
                                },
                                {
                                    "Legelső": "2016-07-27",
                                    "legutolsó": "2016-10-08",
                                    "nev": "Tornyos Andrea",
                                    "szul_dat": "1986-11-14",
                                    "usernev": "ANDREAT"
                                },
                                {
                                    "Legelső": "2016-04-10",
                                    "legutolsó": "2016-10-16",
                                    "nev": "Pivarcsi Anett",
                                    "szul_dat": "1967-01-03",
                                    "usernev": "anett3"
                                },
                                {
                                    "Legelső": "2016-06-25",
                                    "legutolsó": "2017-02-23",
                                    "nev": "Tóth Anikó",
                                    "szul_dat": "1973-06-03",
                                    "usernev": "aniko"
                                },
                                {
                                    "Legelső": "2016-07-02",
                                    "legutolsó": "2016-10-16",
                                    "nev": "Böröcz Anikó",
                                    "szul_dat": "1978-03-26",
                                    "usernev": "aniko4"
                                },
                                {
                                    "Legelső": "2016-04-19",
                                    "legutolsó": "2016-11-10",
                                    "nev": "Simon Anikó",
                                    "szul_dat": "1988-12-14",
                                    "usernev": "ANIKOS"
                                },
                                {
                                    "Legelső": "2016-09-28",
                                    "legutolsó": "2017-02-20",
                                    "nev": "Hamvay-Kovács Anita",
                                    "szul_dat": "1971-03-20",
                                    "usernev": "anita"
                                },
                                {
                                    "Legelső": "2016-06-06",
                                    "legutolsó": "2017-01-30",
                                    "nev": "Szűcs Annamária",
                                    "szul_dat": "1990-04-27",
                                    "usernev": "annamaria1"
                                },
                                {
                                    "Legelső": "2016-06-08",
                                    "legutolsó": "2017-02-16",
                                    "nev": "Regős Annamária",
                                    "szul_dat": "1977-09-26",
                                    "usernev": "ANNAMARIAR"
                                },
                                {
                                    "Legelső": "2016-04-11",
                                    "legutolsó": "2017-02-26",
                                    "nev": "Jakab Áron",
                                    "szul_dat": "1971-04-26",
                                    "usernev": "aron2"
                                },
                                {
                                    "Legelső": "2016-04-06",
                                    "legutolsó": "2017-02-21",
                                    "nev": "Kelemen Áron",
                                    "szul_dat": "1989-08-10",
                                    "usernev": "ARONK"
                                },
                                {
                                    "Legelső": "2016-06-05",
                                    "legutolsó": "2017-02-18",
                                    "nev": "Ötvös Árpád",
                                    "szul_dat": "1990-06-08",
                                    "usernev": "arpad2"
                                },
                                {
                                    "Legelső": "2016-06-06",
                                    "legutolsó": "2017-02-16",
                                    "nev": "Horváth Árpád",
                                    "szul_dat": "1990-05-18",
                                    "usernev": "ARPADH"
                                },
                                {
                                    "Legelső": "2016-05-29",
                                    "legutolsó": "2017-02-12",
                                    "nev": "Móricz Árpád",
                                    "szul_dat": "1986-04-20",
                                    "usernev": "ARPADM"
                                },
                                {
                                    "Legelső": "2016-09-30",
                                    "legutolsó": "2016-12-22",
                                    "nev": "Csóti Attila",
                                    "szul_dat": "1979-12-25",
                                    "usernev": "attila"
                                },
                                {
                                    "Legelső": "2016-05-20",
                                    "legutolsó": "2017-01-23",
                                    "nev": "Gulyás Attila",
                                    "szul_dat": "1982-08-16",
                                    "usernev": "attila1"
                                },
                                {
                                    "Legelső": "2016-08-18",
                                    "legutolsó": "2017-02-15",
                                    "nev": "Baróti Attila",
                                    "szul_dat": "1975-11-06",
                                    "usernev": "attila4"
                                },
                                {
                                    "Legelső": "2016-05-21",
                                    "legutolsó": "2017-02-22",
                                    "nev": "Opra Attila",
                                    "szul_dat": "1995-05-08",
                                    "usernev": "ATTILAO"
                                },
                                {
                                    "Legelső": "2016-05-07",
                                    "legutolsó": "2017-02-12",
                                    "nev": "Bozsik Balázs",
                                    "szul_dat": "1992-11-03",
                                    "usernev": "balazs1"
                                },
                                {
                                    "Legelső": "2016-04-16",
                                    "legutolsó": "2017-02-27",
                                    "nev": "Szűcs Balázs",
                                    "szul_dat": "1984-10-31",
                                    "usernev": "balazs2"
                                },
                                {
                                    "Legelső": "2016-07-17",
                                    "legutolsó": "2017-01-20",
                                    "nev": "Bakódy Balázs",
                                    "szul_dat": "1986-09-09",
                                    "usernev": "balazs3"
                                },
                                {
                                    "Legelső": "2016-04-22",
                                    "legutolsó": "2016-11-24",
                                    "nev": "Horváth Bálint",
                                    "szul_dat": "1996-03-17",
                                    "usernev": "balint"
                                },
                                {
                                    "Legelső": "2016-06-07",
                                    "legutolsó": "2017-01-03",
                                    "nev": "Molnár Bálint",
                                    "szul_dat": "1989-08-24",
                                    "usernev": "balint1"
                                },
                                {
                                    "Legelső": "2016-07-21",
                                    "legutolsó": "2016-12-04",
                                    "nev": "Vukasinovity Bálint",
                                    "szul_dat": "1997-09-03",
                                    "usernev": "balint2"
                                },
                                {
                                    "Legelső": "2016-08-06",
                                    "legutolsó": "2016-12-22",
                                    "nev": "Endresz Bálint",
                                    "szul_dat": "1976-08-01",
                                    "usernev": "balu"
                                },
                                {
                                    "Legelső": "2016-04-20",
                                    "legutolsó": "2016-10-03",
                                    "nev": "Bagi Beáta",
                                    "szul_dat": "1994-03-19",
                                    "usernev": "beata4"
                                },
                                {
                                    "Legelső": "2016-06-10",
                                    "legutolsó": "2017-02-08",
                                    "nev": "Kerényi Beatrix",
                                    "szul_dat": "1972-04-06",
                                    "usernev": "BEATRIXK"
                                },
                                {
                                    "Legelső": "2016-04-18",
                                    "legutolsó": "2017-02-03",
                                    "nev": "Szekendi Beatrix",
                                    "szul_dat": "1981-04-06",
                                    "usernev": "BEATRIXS"
                                },
                                {
                                    "Legelső": "2016-07-27",
                                    "legutolsó": "2016-12-06",
                                    "nev": "Farkas Béla",
                                    "szul_dat": "1995-02-24",
                                    "usernev": "BELAF"
                                },
                                {
                                    "Legelső": "2016-05-08",
                                    "legutolsó": "2017-02-05",
                                    "nev": "Győrffy Bence",
                                    "szul_dat": "1987-07-09",
                                    "usernev": "bence"
                                },
                                {
                                    "Legelső": "2016-05-14",
                                    "legutolsó": "2017-02-12",
                                    "nev": "Bajusz Bence",
                                    "szul_dat": "1973-06-21",
                                    "usernev": "BENCEB"
                                },
                                {
                                    "Legelső": "2016-06-12",
                                    "legutolsó": "2017-02-24",
                                    "nev": "Simon Bernadett",
                                    "szul_dat": "1984-10-13",
                                    "usernev": "bernadett1"
                                },
                                {
                                    "Legelső": "2016-05-01",
                                    "legutolsó": "2017-01-24",
                                    "nev": "Kovács Bernadett",
                                    "szul_dat": "1996-08-20",
                                    "usernev": "bernadett2"
                                },
                                {
                                    "Legelső": "2016-04-10",
                                    "legutolsó": "2017-01-28",
                                    "nev": "Orbán Bernadett",
                                    "szul_dat": "1987-12-07",
                                    "usernev": "BERNADETTO"
                                },
                                {
                                    "Legelső": "2016-05-18",
                                    "legutolsó": "2017-02-20",
                                    "nev": "Csiger Bertalan",
                                    "szul_dat": "1977-10-15",
                                    "usernev": "bertalan"
                                },
                                {
                                    "Legelső": "2016-05-30",
                                    "legutolsó": "2017-01-23",
                                    "nev": "Székely Brigitta",
                                    "szul_dat": "1978-09-13",
                                    "usernev": "brigitta"
                                },
                                {
                                    "Legelső": "2016-06-01",
                                    "legutolsó": "2017-02-09",
                                    "nev": "Pataki Brigitta",
                                    "szul_dat": "1991-05-23",
                                    "usernev": "brigitta3"
                                },
                                {
                                    "Legelső": "2016-05-01",
                                    "legutolsó": "2017-02-13",
                                    "nev": "Nagymihály Csongor",
                                    "szul_dat": "1984-03-05",
                                    "usernev": "csongor3"
                                },
                                {
                                    "Legelső": "2016-06-06",
                                    "legutolsó": "2017-02-25",
                                    "nev": "Vörös Dániel",
                                    "szul_dat": "1986-10-14",
                                    "usernev": "dani"
                                },
                                {
                                    "Legelső": "2016-04-10",
                                    "legutolsó": "2017-02-20",
                                    "nev": "Rácz Dániel",
                                    "szul_dat": "1978-11-28",
                                    "usernev": "daniel"
                                },
                                {
                                    "Legelső": "2016-04-10",
                                    "legutolsó": "2017-03-01",
                                    "nev": "Keszler Dániel",
                                    "szul_dat": "1969-07-16",
                                    "usernev": "daniel1"
                                },
                                {
                                    "Legelső": "2016-05-18",
                                    "legutolsó": "2017-01-18",
                                    "nev": "Ambrus Dávid",
                                    "szul_dat": "1974-02-11",
                                    "usernev": "david"
                                },
                                {
                                    "Legelső": "2016-09-20",
                                    "legutolsó": "2017-02-25",
                                    "nev": "Sobják Dávid",
                                    "szul_dat": "1970-08-16",
                                    "usernev": "david1"
                                },
                                {
                                    "Legelső": "2017-02-16",
                                    "legutolsó": "2017-02-16",
                                    "nev": "Berta Dávid",
                                    "szul_dat": "1990-10-08",
                                    "usernev": "david4"
                                },
                                {
                                    "Legelső": "2016-06-22",
                                    "legutolsó": "2017-02-04",
                                    "nev": "Barna Debóra",
                                    "szul_dat": "1976-10-14",
                                    "usernev": "debora"
                                },
                                {
                                    "Legelső": "2016-05-27",
                                    "legutolsó": "2016-11-06",
                                    "nev": "Tömböly Dénes",
                                    "szul_dat": "1975-03-14",
                                    "usernev": "denes"
                                },
                                {
                                    "Legelső": "2016-08-16",
                                    "legutolsó": "2016-11-22",
                                    "nev": "Sarodi Dóra",
                                    "szul_dat": "1995-05-18",
                                    "usernev": "dora3"
                                },
                                {
                                    "Legelső": "2016-07-14",
                                    "legutolsó": "2017-02-08",
                                    "nev": "Bittmann Edit",
                                    "szul_dat": "1984-04-20",
                                    "usernev": "edit"
                                },
                                {
                                    "Legelső": "2016-07-22",
                                    "legutolsó": "2017-01-30",
                                    "nev": "Kuruc Emese",
                                    "szul_dat": "1989-08-10",
                                    "usernev": "emese"
                                },
                                {
                                    "Legelső": "2016-08-12",
                                    "legutolsó": "2016-12-23",
                                    "nev": "Molnár Eszter",
                                    "szul_dat": "1987-05-10",
                                    "usernev": "eszter"
                                },
                                {
                                    "Legelső": "2016-06-30",
                                    "legutolsó": "2016-12-29",
                                    "nev": "Balogh Eszter",
                                    "szul_dat": "1998-01-31",
                                    "usernev": "eszter2"
                                },
                                {
                                    "Legelső": "2017-01-05",
                                    "legutolsó": "2017-02-26",
                                    "nev": "Fülöp Eszter",
                                    "szul_dat": "1993-06-28",
                                    "usernev": "eszter4"
                                },
                                {
                                    "Legelső": "2016-05-30",
                                    "legutolsó": "2017-02-10",
                                    "nev": "Érsek Eszter",
                                    "szul_dat": "1978-08-28",
                                    "usernev": "ESZTERE"
                                },
                                {
                                    "Legelső": "2016-10-06",
                                    "legutolsó": "2017-01-14",
                                    "nev": "Enyedi Éva",
                                    "szul_dat": "1967-06-30",
                                    "usernev": "eva"
                                },
                                {
                                    "Legelső": "2016-09-02",
                                    "legutolsó": "2017-01-06",
                                    "nev": "Perlinger Éva",
                                    "szul_dat": "1971-08-19",
                                    "usernev": "eva2"
                                },
                                {
                                    "Legelső": "2016-05-01",
                                    "legutolsó": "2017-02-04",
                                    "nev": "Viktor Éva",
                                    "szul_dat": "1980-12-26",
                                    "usernev": "EVAV"
                                },
                                {
                                    "Legelső": "2016-05-08",
                                    "legutolsó": "2016-11-07",
                                    "nev": "Orosz Ferenc",
                                    "szul_dat": "1983-10-08",
                                    "usernev": "ferenc1"
                                },
                                {
                                    "Legelső": "2016-06-02",
                                    "legutolsó": "2017-01-22",
                                    "nev": "Frank Fruzsina",
                                    "szul_dat": "1996-08-16",
                                    "usernev": "fruzsina4"
                                },
                                {
                                    "Legelső": "2016-06-20",
                                    "legutolsó": "2016-11-19",
                                    "nev": "Köves Gábor",
                                    "szul_dat": "1973-07-15",
                                    "usernev": "gabor1"
                                },
                                {
                                    "Legelső": "2016-04-26",
                                    "legutolsó": "2016-11-07",
                                    "nev": "Telek Gábor",
                                    "szul_dat": "1987-03-15",
                                    "usernev": "gabor4"
                                },
                                {
                                    "Legelső": "2016-04-21",
                                    "legutolsó": "2017-02-21",
                                    "nev": "Nagy Gabriella",
                                    "szul_dat": "1982-11-01",
                                    "usernev": "gabriella1"
                                },
                                {
                                    "Legelső": "2016-10-01",
                                    "legutolsó": "2016-10-01",
                                    "nev": "Vida Gabriella",
                                    "szul_dat": "1969-06-18",
                                    "usernev": "gabriella10"
                                },
                                {
                                    "Legelső": "2016-06-16",
                                    "legutolsó": "2016-09-18",
                                    "nev": "Nyíri Georgij",
                                    "szul_dat": "1983-02-23",
                                    "usernev": "georgij"
                                },
                                {
                                    "Legelső": "2016-05-06",
                                    "legutolsó": "2017-02-23",
                                    "nev": "Bárci Gusztáv",
                                    "szul_dat": "1967-02-25",
                                    "usernev": "gusztav"
                                },
                                {
                                    "Legelső": "2016-06-02",
                                    "legutolsó": "2017-01-22",
                                    "nev": "Kornseé Gyöngyi",
                                    "szul_dat": "1974-06-07",
                                    "usernev": "GYONGYIK"
                                },
                                {
                                    "Legelső": "2016-05-27",
                                    "legutolsó": "2017-02-24",
                                    "nev": "Oroszi György",
                                    "szul_dat": "1980-03-23",
                                    "usernev": "GYORGYO"
                                },
                                {
                                    "Legelső": "2016-08-24",
                                    "legutolsó": "2017-01-27",
                                    "nev": "Nádudvari Henrik",
                                    "szul_dat": "1986-12-05",
                                    "usernev": "henrik3"
                                },
                                {
                                    "Legelső": "2016-08-29",
                                    "legutolsó": "2017-01-17",
                                    "nev": "Andor Ibolya",
                                    "szul_dat": "1983-11-27",
                                    "usernev": "IBOLYAA"
                                },
                                {
                                    "Legelső": "2016-07-31",
                                    "legutolsó": "2016-12-25",
                                    "nev": "Bosnyák Ilona",
                                    "szul_dat": "1990-08-06",
                                    "usernev": "ilona3"
                                },
                                {
                                    "Legelső": "2016-09-17",
                                    "legutolsó": "2016-10-28",
                                    "nev": "Búza Imre",
                                    "szul_dat": "1988-09-30",
                                    "usernev": "imre"
                                },
                                {
                                    "Legelső": "2016-06-23",
                                    "legutolsó": "2017-02-05",
                                    "nev": "Papp Imre",
                                    "szul_dat": "1976-06-25",
                                    "usernev": "imre1"
                                },
                                {
                                    "Legelső": "2016-10-07",
                                    "legutolsó": "2017-01-02",
                                    "nev": "Soós István",
                                    "szul_dat": "1986-06-28",
                                    "usernev": "istvan"
                                },
                                {
                                    "Legelső": "2016-04-16",
                                    "legutolsó": "2017-02-07",
                                    "nev": "Vizi István",
                                    "szul_dat": "1997-12-01",
                                    "usernev": "istvan1"
                                },
                                {
                                    "Legelső": "2016-07-01",
                                    "legutolsó": "2016-09-29",
                                    "nev": "Varga István",
                                    "szul_dat": "1989-04-09",
                                    "usernev": "ISTVANV"
                                },
                                {
                                    "Legelső": "2016-06-04",
                                    "legutolsó": "2017-02-12",
                                    "nev": "Harangozó János",
                                    "szul_dat": "1967-11-02",
                                    "usernev": "janos3"
                                },
                                {
                                    "Legelső": "2016-05-09",
                                    "legutolsó": "2017-01-31",
                                    "nev": "Giliga János",
                                    "szul_dat": "1975-01-03",
                                    "usernev": "JANOSG"
                                },
                                {
                                    "Legelső": "2016-07-04",
                                    "legutolsó": "2016-12-18",
                                    "nev": "Pálinkás János",
                                    "szul_dat": "1984-10-12",
                                    "usernev": "JANOSP"
                                },
                                {
                                    "Legelső": "2016-09-13",
                                    "legutolsó": "2016-12-06",
                                    "nev": "Gergely József",
                                    "szul_dat": "1985-11-01",
                                    "usernev": "jozsef"
                                },
                                {
                                    "Legelső": "2016-07-06",
                                    "legutolsó": "2016-11-25",
                                    "nev": "Vajda József",
                                    "szul_dat": "1978-09-04",
                                    "usernev": "jozsef2"
                                },
                                {
                                    "Legelső": "2016-05-02",
                                    "legutolsó": "2017-02-24",
                                    "nev": "Gyuris József",
                                    "szul_dat": "1975-05-26",
                                    "usernev": "JOZSEFG"
                                },
                                {
                                    "Legelső": "2016-06-06",
                                    "legutolsó": "2016-12-19",
                                    "nev": "Hídasi Judit",
                                    "szul_dat": "1997-07-12",
                                    "usernev": "JUDITH"
                                },
                                {
                                    "Legelső": "2016-04-21",
                                    "legutolsó": "2017-02-27",
                                    "nev": "Tóth Júlia",
                                    "szul_dat": "1993-03-02",
                                    "usernev": "julia"
                                },
                                {
                                    "Legelső": "2016-11-07",
                                    "legutolsó": "2017-02-04",
                                    "nev": "Nagy Júlia",
                                    "szul_dat": "1985-08-11",
                                    "usernev": "julia4"
                                },
                                {
                                    "Legelső": "2016-07-20",
                                    "legutolsó": "2016-11-27",
                                    "nev": "Szabó Julianna",
                                    "szul_dat": "1990-09-29",
                                    "usernev": "julianna4"
                                },
                                {
                                    "Legelső": "2016-04-10",
                                    "legutolsó": "2017-01-15",
                                    "nev": "Gondos Katalin",
                                    "szul_dat": "1968-06-22",
                                    "usernev": "kata"
                                },
                                {
                                    "Legelső": "2016-04-10",
                                    "legutolsó": "2017-02-24",
                                    "nev": "Horváth Katalin",
                                    "szul_dat": "1968-01-01",
                                    "usernev": "katalin"
                                },
                                {
                                    "Legelső": "2016-07-01",
                                    "legutolsó": "2017-01-24",
                                    "nev": "Kertész Katalin",
                                    "szul_dat": "1986-04-13",
                                    "usernev": "katalin4"
                                },
                                {
                                    "Legelső": "2016-06-06",
                                    "legutolsó": "2016-10-30",
                                    "nev": "Zatykó Katalin",
                                    "szul_dat": "1995-05-01",
                                    "usernev": "kati"
                                },
                                {
                                    "Legelső": "2016-04-10",
                                    "legutolsó": "2017-01-19",
                                    "nev": "Kovács Katalin",
                                    "szul_dat": "1975-03-31",
                                    "usernev": "katka"
                                },
                                {
                                    "Legelső": "2016-06-06",
                                    "legutolsó": "2016-10-02",
                                    "nev": "Bakó Klaudia",
                                    "szul_dat": "1982-04-16",
                                    "usernev": "klaudia2"
                                },
                                {
                                    "Legelső": "2016-05-08",
                                    "legutolsó": "2016-09-23",
                                    "nev": "Lukács Kornél",
                                    "szul_dat": "1975-09-30",
                                    "usernev": "kornel4"
                                },
                                {
                                    "Legelső": "2016-04-08",
                                    "legutolsó": "2016-09-30",
                                    "nev": "Poprádi Kristóf",
                                    "szul_dat": "1984-01-15",
                                    "usernev": "kristof4"
                                },
                                {
                                    "Legelső": "2016-05-19",
                                    "legutolsó": "2017-03-03",
                                    "nev": "Horváth Krisztina",
                                    "szul_dat": "1978-06-12",
                                    "usernev": "kriszti"
                                },
                                {
                                    "Legelső": "2016-06-03",
                                    "legutolsó": "2017-02-23",
                                    "nev": "Czérna Krisztián",
                                    "szul_dat": "1970-08-01",
                                    "usernev": "krisztian4"
                                },
                                {
                                    "Legelső": "2016-04-09",
                                    "legutolsó": "2017-01-16",
                                    "nev": "Mogyródi Krisztián",
                                    "szul_dat": "1968-05-27",
                                    "usernev": "KRISZTIANM"
                                },
                                {
                                    "Legelső": "2016-05-21",
                                    "legutolsó": "2017-02-16",
                                    "nev": "Szedlár Krisztina",
                                    "szul_dat": "1979-05-10",
                                    "usernev": "krisztina"
                                },
                                {
                                    "Legelső": "2016-04-28",
                                    "legutolsó": "2017-01-21",
                                    "nev": "Bori Krisztina",
                                    "szul_dat": "1969-10-13",
                                    "usernev": "krisztina1"
                                },
                                {
                                    "Legelső": "2016-04-23",
                                    "legutolsó": "2017-01-25",
                                    "nev": "Gyárfás Krisztina",
                                    "szul_dat": "1987-09-19",
                                    "usernev": "KRISZTINAG"
                                },
                                {
                                    "Legelső": "2016-07-18",
                                    "legutolsó": "2017-02-12",
                                    "nev": "Kiss Lajos",
                                    "szul_dat": "1978-10-31",
                                    "usernev": "lajos"
                                },
                                {
                                    "Legelső": "2016-06-16",
                                    "legutolsó": "2017-01-17",
                                    "nev": "Nagymihály Lajos",
                                    "szul_dat": "1997-02-24",
                                    "usernev": "lala"
                                },
                                {
                                    "Legelső": "2016-09-23",
                                    "legutolsó": "2016-09-23",
                                    "nev": "Farkas László",
                                    "szul_dat": "1967-10-30",
                                    "usernev": "laszlo1"
                                },
                                {
                                    "Legelső": "2016-04-06",
                                    "legutolsó": "2016-11-25",
                                    "nev": "Móra László",
                                    "szul_dat": "1975-02-19",
                                    "usernev": "laszlo2"
                                },
                                {
                                    "Legelső": "2016-06-03",
                                    "legutolsó": "2017-02-08",
                                    "nev": "Antal László",
                                    "szul_dat": "1969-06-29",
                                    "usernev": "LASZLOA"
                                },
                                {
                                    "Legelső": "2016-06-03",
                                    "legutolsó": "2017-02-18",
                                    "nev": "Nagy László",
                                    "szul_dat": "1969-04-12",
                                    "usernev": "LASZLON"
                                },
                                {
                                    "Legelső": "2016-05-13",
                                    "legutolsó": "2017-02-24",
                                    "nev": "Baráth Mária",
                                    "szul_dat": "1995-11-19",
                                    "usernev": "maria1"
                                },
                                {
                                    "Legelső": "2016-04-19",
                                    "legutolsó": "2016-11-19",
                                    "nev": "Kispál Márk",
                                    "szul_dat": "1996-01-23",
                                    "usernev": "mark"
                                },
                                {
                                    "Legelső": "2016-09-14",
                                    "legutolsó": "2017-01-22",
                                    "nev": "Horváth Márk",
                                    "szul_dat": "1997-09-23",
                                    "usernev": "MARKH"
                                },
                                {
                                    "Legelső": "2016-04-27",
                                    "legutolsó": "2017-03-02",
                                    "nev": "Kalacsi Márton",
                                    "szul_dat": "1989-06-24",
                                    "usernev": "marton"
                                },
                                {
                                    "Legelső": "2016-08-17",
                                    "legutolsó": "2017-01-16",
                                    "nev": "Koza Máté",
                                    "szul_dat": "1997-02-28",
                                    "usernev": "MATEK"
                                },
                                {
                                    "Legelső": "2016-07-13",
                                    "legutolsó": "2016-12-09",
                                    "nev": "Botka Mátyás",
                                    "szul_dat": "1972-07-07",
                                    "usernev": "matyas2"
                                },
                                {
                                    "Legelső": "2016-05-10",
                                    "legutolsó": "2017-01-09",
                                    "nev": "Szilágyi Mátyás",
                                    "szul_dat": "1975-03-22",
                                    "usernev": "MATYASS"
                                },
                                {
                                    "Legelső": "2016-05-30",
                                    "legutolsó": "2017-02-06",
                                    "nev": "Juhász Mihály",
                                    "szul_dat": "1979-10-12",
                                    "usernev": "MIHALYJ"
                                },
                                {
                                    "Legelső": "2016-04-19",
                                    "legutolsó": "2016-11-16",
                                    "nev": "Gondos Miklós",
                                    "szul_dat": "1995-10-07",
                                    "usernev": "miklos2"
                                },
                                {
                                    "Legelső": "2016-06-26",
                                    "legutolsó": "2016-12-05",
                                    "nev": "Balla Miklós",
                                    "szul_dat": "1979-02-16",
                                    "usernev": "MIKLOSB"
                                },
                                {
                                    "Legelső": "2016-04-29",
                                    "legutolsó": "2017-02-23",
                                    "nev": "Mohos Mónika",
                                    "szul_dat": "1974-10-01",
                                    "usernev": "MONIKAM"
                                },
                                {
                                    "Legelső": "2016-04-06",
                                    "legutolsó": "2017-02-05",
                                    "nev": "Fő Nándor",
                                    "szul_dat": "1968-11-12",
                                    "usernev": "NANDORF"
                                },
                                {
                                    "Legelső": "2016-05-24",
                                    "legutolsó": "2016-10-22",
                                    "nev": "Horváth Nikolett",
                                    "szul_dat": "1981-09-29",
                                    "usernev": "nikolett3"
                                },
                                {
                                    "Legelső": "2016-04-08",
                                    "legutolsó": "2017-02-01",
                                    "nev": "Kő Nikoletta",
                                    "szul_dat": "1972-01-10",
                                    "usernev": "nikoletta4"
                                },
                                {
                                    "Legelső": "2016-05-22",
                                    "legutolsó": "2016-09-21",
                                    "nev": "Tatár Nikoletta",
                                    "szul_dat": "1997-10-19",
                                    "usernev": "NIKOLETTAT"
                                },
                                {
                                    "Legelső": "2016-07-08",
                                    "legutolsó": "2017-02-26",
                                    "nev": "Szűcs Norbert",
                                    "szul_dat": "1969-07-17",
                                    "usernev": "norbert"
                                },
                                {
                                    "Legelső": "2016-04-19",
                                    "legutolsó": "2017-01-29",
                                    "nev": "Hegedűs Norbert",
                                    "szul_dat": "1991-07-17",
                                    "usernev": "norbert2"
                                },
                                {
                                    "Legelső": "2016-04-10",
                                    "legutolsó": "2017-03-03",
                                    "nev": "Mile Norbert",
                                    "szul_dat": "1983-06-15",
                                    "usernev": "norbert4"
                                },
                                {
                                    "Legelső": "2016-06-24",
                                    "legutolsó": "2016-11-05",
                                    "nev": "Béres Norbert",
                                    "szul_dat": "1975-07-27",
                                    "usernev": "norbert5"
                                },
                                {
                                    "Legelső": "2016-08-14",
                                    "legutolsó": "2017-02-20",
                                    "nev": "Barabás Pál",
                                    "szul_dat": "1968-02-06",
                                    "usernev": "pal"
                                },
                                {
                                    "Legelső": "2016-07-14",
                                    "legutolsó": "2017-02-28",
                                    "nev": "Kozma Péter",
                                    "szul_dat": "1976-03-18",
                                    "usernev": "peter1"
                                },
                                {
                                    "Legelső": "2016-07-03",
                                    "legutolsó": "2016-11-15",
                                    "nev": "Bozsó Péter",
                                    "szul_dat": "1976-01-26",
                                    "usernev": "peter2"
                                },
                                {
                                    "Legelső": "2016-06-30",
                                    "legutolsó": "2017-02-21",
                                    "nev": "Szalai Péter",
                                    "szul_dat": "1983-07-18",
                                    "usernev": "peter3"
                                },
                                {
                                    "Legelső": "2016-04-12",
                                    "legutolsó": "2017-02-05",
                                    "nev": "Bíró Péter",
                                    "szul_dat": "1985-09-01",
                                    "usernev": "peter4"
                                },
                                {
                                    "Legelső": "2016-04-06",
                                    "legutolsó": "2016-11-17",
                                    "nev": "Berendi Péter",
                                    "szul_dat": "1969-01-01",
                                    "usernev": "PETERB"
                                },
                                {
                                    "Legelső": "2016-04-17",
                                    "legutolsó": "2017-02-11",
                                    "nev": "Palágyi Polla",
                                    "szul_dat": "1994-02-04",
                                    "usernev": "polla"
                                },
                                {
                                    "Legelső": "2016-09-05",
                                    "legutolsó": "2016-11-16",
                                    "nev": "Rácz Rajmond",
                                    "szul_dat": "1993-09-25",
                                    "usernev": "rajmond4"
                                },
                                {
                                    "Legelső": "2016-07-27",
                                    "legutolsó": "2017-02-26",
                                    "nev": "Szikszai Réka",
                                    "szul_dat": "1969-11-27",
                                    "usernev": "reka4"
                                },
                                {
                                    "Legelső": "2016-10-27",
                                    "legutolsó": "2017-03-01",
                                    "nev": "Kardos Renáta",
                                    "szul_dat": "1988-05-17",
                                    "usernev": "RENATAK"
                                },
                                {
                                    "Legelső": "2016-05-04",
                                    "legutolsó": "2017-02-14",
                                    "nev": "Szirmai Renáta",
                                    "szul_dat": "1991-03-26",
                                    "usernev": "RENATAS"
                                },
                                {
                                    "Legelső": "2016-05-15",
                                    "legutolsó": "2016-12-17",
                                    "nev": "Patay Róbert",
                                    "szul_dat": "1977-01-08",
                                    "usernev": "robert2"
                                },
                                {
                                    "Legelső": "2016-07-12",
                                    "legutolsó": "2017-02-17",
                                    "nev": "Iván Róbert",
                                    "szul_dat": "1967-07-02",
                                    "usernev": "ROBERTI"
                                },
                                {
                                    "Legelső": "2016-07-30",
                                    "legutolsó": "2016-09-08",
                                    "nev": "Pásztor Róbert",
                                    "szul_dat": "1972-05-16",
                                    "usernev": "ROBERTP"
                                },
                                {
                                    "Legelső": "2016-06-09",
                                    "legutolsó": "2016-11-19",
                                    "nev": "Tóth Roland",
                                    "szul_dat": "1968-03-21",
                                    "usernev": "roland"
                                },
                                {
                                    "Legelső": "2016-11-05",
                                    "legutolsó": "2017-01-16",
                                    "nev": "Ferencz Roland",
                                    "szul_dat": "1985-12-31",
                                    "usernev": "roland1"
                                },
                                {
                                    "Legelső": "2016-09-10",
                                    "legutolsó": "2017-02-18",
                                    "nev": "Bucskó Róza",
                                    "szul_dat": "1988-12-26",
                                    "usernev": "roza2"
                                },
                                {
                                    "Legelső": "2016-07-04",
                                    "legutolsó": "2016-09-19",
                                    "nev": "Karasz Sándor",
                                    "szul_dat": "1970-01-27",
                                    "usernev": "sandor"
                                },
                                {
                                    "Legelső": "2016-05-12",
                                    "legutolsó": "2016-11-10",
                                    "nev": "Farkas Sándor",
                                    "szul_dat": "1989-01-27",
                                    "usernev": "sandor3"
                                },
                                {
                                    "Legelső": "2016-10-15",
                                    "legutolsó": "2017-01-22",
                                    "nev": "Nagy Sándor",
                                    "szul_dat": "1997-06-11",
                                    "usernev": "sandor4"
                                },
                                {
                                    "Legelső": "2016-05-28",
                                    "legutolsó": "2016-12-25",
                                    "nev": "Farkas Sára",
                                    "szul_dat": "1973-04-05",
                                    "usernev": "sara"
                                },
                                {
                                    "Legelső": "2016-04-06",
                                    "legutolsó": "2016-09-17",
                                    "nev": "Foltényi Sebastián",
                                    "szul_dat": "1992-09-09",
                                    "usernev": "SEBASTIANF"
                                },
                                {
                                    "Legelső": "2016-04-07",
                                    "legutolsó": "2016-10-26",
                                    "nev": "Rab Sebestyén",
                                    "szul_dat": "1992-03-03",
                                    "usernev": "sebestyen"
                                },
                                {
                                    "Legelső": "2016-12-05",
                                    "legutolsó": "2016-12-05",
                                    "nev": "Bodor Szabolcs",
                                    "szul_dat": "1990-07-16",
                                    "usernev": "szabolcs"
                                },
                                {
                                    "Legelső": "2016-06-18",
                                    "legutolsó": "2017-02-04",
                                    "nev": "Miklós Szabolcs",
                                    "szul_dat": "1980-08-11",
                                    "usernev": "SZABOLCSM"
                                },
                                {
                                    "Legelső": "2016-04-23",
                                    "legutolsó": "2017-02-08",
                                    "nev": "Szalai Szilárd",
                                    "szul_dat": "1967-09-28",
                                    "usernev": "SZILARDS"
                                },
                                {
                                    "Legelső": "2016-05-14",
                                    "legutolsó": "2017-01-28",
                                    "nev": "Tari Szilvia",
                                    "szul_dat": "1971-03-09",
                                    "usernev": "szilvia1"
                                },
                                {
                                    "Legelső": "2016-08-12",
                                    "legutolsó": "2016-11-15",
                                    "nev": "Miklós Tamara",
                                    "szul_dat": "1980-08-11",
                                    "usernev": "tamara2"
                                },
                                {
                                    "Legelső": "2016-05-17",
                                    "legutolsó": "2017-02-14",
                                    "nev": "Antal Tamás",
                                    "szul_dat": "1984-09-05",
                                    "usernev": "tamas"
                                },
                                {
                                    "Legelső": "2016-05-03",
                                    "legutolsó": "2017-02-16",
                                    "nev": "Fényes Tamás",
                                    "szul_dat": "1997-11-06",
                                    "usernev": "TAMASF"
                                },
                                {
                                    "Legelső": "2016-10-09",
                                    "legutolsó": "2016-11-05",
                                    "nev": "Gombos Tibor",
                                    "szul_dat": "1993-11-28",
                                    "usernev": "tibor"
                                },
                                {
                                    "Legelső": "2016-10-20",
                                    "legutolsó": "2016-10-20",
                                    "nev": "Dániel Tibor",
                                    "szul_dat": "1985-02-02",
                                    "usernev": "tibor2"
                                },
                                {
                                    "Legelső": "2016-05-30",
                                    "legutolsó": "2016-12-25",
                                    "nev": "Kazy Tihamér",
                                    "szul_dat": "1991-07-05",
                                    "usernev": "tihamer"
                                },
                                {
                                    "Legelső": "2016-12-26",
                                    "legutolsó": "2016-12-26",
                                    "nev": "Papós Tímea",
                                    "szul_dat": "1996-01-08",
                                    "usernev": "timea"
                                },
                                {
                                    "Legelső": "2016-06-06",
                                    "legutolsó": "2016-12-14",
                                    "nev": "Dusha Tímea",
                                    "szul_dat": "1975-08-22",
                                    "usernev": "timea2"
                                },
                                {
                                    "Legelső": "2016-06-03",
                                    "legutolsó": "2017-01-03",
                                    "nev": "Turcsik Tünde",
                                    "szul_dat": "1974-02-12",
                                    "usernev": "tunde"
                                },
                                {
                                    "Legelső": "2016-05-24",
                                    "legutolsó": "2016-12-01",
                                    "nev": "Feró Valentin",
                                    "szul_dat": "1986-01-09",
                                    "usernev": "valentin"
                                },
                                {
                                    "Legelső": "2016-05-30",
                                    "legutolsó": "2017-02-03",
                                    "nev": "Tankó Veronika",
                                    "szul_dat": "1983-08-28",
                                    "usernev": "veronika4"
                                },
                                {
                                    "Legelső": "2016-04-30",
                                    "legutolsó": "2016-10-26",
                                    "nev": "Urbán Viktoria",
                                    "szul_dat": "1996-05-03",
                                    "usernev": "VIKTORIAU"
                                },
                                {
                                    "Legelső": "2016-05-30",
                                    "legutolsó": "2016-06-06",
                                    "nev": "Keresztúri Viktor",
                                    "szul_dat": "1989-05-05",
                                    "usernev": "VIKTORK"
                                },
                                {
                                    "Legelső": "2016-05-02",
                                    "legutolsó": "2016-12-24",
                                    "nev": "Boros Vivien",
                                    "szul_dat": "1991-07-01",
                                    "usernev": "vivien3"
                                },
                                {
                                    "Legelső": "2016-08-24",
                                    "legutolsó": "2016-09-05",
                                    "nev": "Fodor Zoltán",
                                    "szul_dat": "1979-11-25",
                                    "usernev": "zoltan"
                                },
                                {
                                    "Legelső": "2016-05-12",
                                    "legutolsó": "2017-01-01",
                                    "nev": "Barna Zoltán",
                                    "szul_dat": "1986-05-20",
                                    "usernev": "zoltan4"
                                },
                                {
                                    "Legelső": "2016-06-05",
                                    "legutolsó": "2016-12-25",
                                    "nev": "Pintér Zoltán",
                                    "szul_dat": "1977-06-07",
                                    "usernev": "ZOLTANP"
                                },
                                {
                                    "Legelső": "2016-05-01",
                                    "legutolsó": "2017-01-16",
                                    "nev": "Tóth Zoltán",
                                    "szul_dat": "1985-12-14",
                                    "usernev": "ZOLTANT"
                                },
                                {
                                    "Legelső": "2016-06-16",
                                    "legutolsó": "2017-02-18",
                                    "nev": "Molnár Zsófi",
                                    "szul_dat": "1983-11-17",
                                    "usernev": "zsofi1"
                                },
                                {
                                    "Legelső": "2016-04-14",
                                    "legutolsó": "2016-07-31",
                                    "nev": "Pulai Zsolt",
                                    "szul_dat": "1988-05-27",
                                    "usernev": "zsolt1"
                                },
                                {
                                    "Legelső": "2016-04-24",
                                    "legutolsó": "2016-10-01",
                                    "nev": "Józsa Zsolt",
                                    "szul_dat": "1983-09-29",
                                    "usernev": "ZSOLTJ"
                                },
                                {
                                    "Legelső": "2016-07-24",
                                    "legutolsó": "2016-11-28",
                                    "nev": "Pusztai Zsuzsanna",
                                    "szul_dat": "1980-09-17",
                                    "usernev": "zsuzsa"
                                },
                                {
                                    "Legelső": "2016-07-30",
                                    "legutolsó": "2016-10-27",
                                    "nev": "Varsányi Zsuzsa",
                                    "szul_dat": "1979-03-06",
                                    "usernev": "zsuzsa3"
                                },
                                {
                                    "Legelső": "2016-05-17",
                                    "legutolsó": "2017-01-16",
                                    "nev": "Barta Zsuzsanna",
                                    "szul_dat": "1994-10-07",
                                    "usernev": "zsuzsanna"
                                },
                                {
                                    "Legelső": "2016-04-14",
                                    "legutolsó": "2016-11-21",
                                    "nev": "Vajda Zsuzsa",
                                    "szul_dat": "1976-12-11",
                                    "usernev": "ZSUZSAV"
                                }
                            ],
                            "schema": {
                                "fields": [
                                    {
                                        "name": "usernev"
                                    },
                                    {
                                        "name": "nev"
                                    },
                                    {
                                        "name": "szul_dat"
                                    },
                                    {
                                        "name": "Legelső"
                                    },
                                    {
                                        "name": "legutolsó"
                                    }
                                ]
                            }
                        },
                        "text/html": [
                            "<table>\n",
                            "<tr><th>usernev</th><th>nev</th><th>szul_dat</th><th>Legelső</th><th>legutolsó</th></tr>\n",
                            "<tr><td>adam1</td><td>Kiss Ádám</td><td>1991-12-28</td><td>2016-05-28</td><td>2016-10-19</td></tr>\n",
                            "<tr><td>adam3</td><td>Barkóci Ádám</td><td>1970-06-07</td><td>2016-09-12</td><td>2017-02-06</td></tr>\n",
                            "<tr><td>adam4</td><td>Bieniek Ádám</td><td>1976-08-01</td><td>2016-08-28</td><td>2017-02-23</td></tr>\n",
                            "<tr><td>agnes</td><td>Lengyel Ágnes</td><td>1979-12-10</td><td>2016-05-09</td><td>2016-11-07</td></tr>\n",
                            "<tr><td>agnes3</td><td>Hartyánszky Ágnes</td><td>1967-04-11</td><td>2016-08-04</td><td>2017-02-16</td></tr>\n",
                            "<tr><td>AGNESH</td><td>Horváth Ágnes</td><td>1981-12-24</td><td>2016-04-10</td><td>2017-01-16</td></tr>\n",
                            "<tr><td>AGNESK</td><td>Kovács Ágnes</td><td>1988-10-02</td><td>2016-07-29</td><td>2016-12-17</td></tr>\n",
                            "<tr><td>akos</td><td>Bíró Ákos</td><td>1982-04-24</td><td>2016-05-18</td><td>2016-12-29</td></tr>\n",
                            "<tr><td>aladar</td><td>Dunai Aladár</td><td>1980-11-01</td><td>2016-05-17</td><td>2016-11-22</td></tr>\n",
                            "<tr><td>alexandra</td><td>Bagóczki Alexandra</td><td>1992-03-25</td><td>2016-05-21</td><td>2017-01-19</td></tr>\n",
                            "<tr><td>andi</td><td>Maródi Andrea</td><td>1968-05-07</td><td>2016-05-08</td><td>2017-01-13</td></tr>\n",
                            "<tr><td>andras2</td><td>Tóth András</td><td>1997-10-31</td><td>2016-05-30</td><td>2017-02-08</td></tr>\n",
                            "<tr><td>andras21</td><td>Molnár András</td><td>1977-11-16</td><td>2016-06-21</td><td>2017-01-28</td></tr>\n",
                            "<tr><td>andras3</td><td>Vígh András</td><td>1971-04-02</td><td>2016-05-01</td><td>2017-02-02</td></tr>\n",
                            "<tr><td>andras4</td><td>Back András</td><td>1984-04-07</td><td>2016-09-17</td><td>2017-01-09</td></tr>\n",
                            "<tr><td>andras41</td><td>Komjáti András</td><td>1997-10-25</td><td>2016-05-14</td><td>2016-11-23</td></tr>\n",
                            "<tr><td>ANDRASE</td><td>Erdei András</td><td>1997-05-29</td><td>2016-04-24</td><td>2016-11-29</td></tr>\n",
                            "<tr><td>ANDRASN</td><td>Nagy András</td><td>1980-09-05</td><td>2016-11-25</td><td>2016-11-25</td></tr>\n",
                            "<tr><td>andrea</td><td>Kiss Andrea</td><td>1993-03-25</td><td>2016-07-27</td><td>2017-02-09</td></tr>\n",
                            "<tr><td>andrea3</td><td>Szomor Andrea</td><td>1996-05-10</td><td>2016-11-19</td><td>2016-11-19</td></tr>\n",
                            "<tr><td>andrea4</td><td>Neizer Andrea</td><td>1981-05-17</td><td>2016-05-27</td><td>2017-01-22</td></tr>\n",
                            "<tr><td>ANDREAT</td><td>Tornyos Andrea</td><td>1986-11-14</td><td>2016-07-27</td><td>2016-10-08</td></tr>\n",
                            "<tr><td>anett3</td><td>Pivarcsi Anett</td><td>1967-01-03</td><td>2016-04-10</td><td>2016-10-16</td></tr>\n",
                            "<tr><td>aniko</td><td>Tóth Anikó</td><td>1973-06-03</td><td>2016-06-25</td><td>2017-02-23</td></tr>\n",
                            "<tr><td>aniko4</td><td>Böröcz Anikó</td><td>1978-03-26</td><td>2016-07-02</td><td>2016-10-16</td></tr>\n",
                            "<tr><td>ANIKOS</td><td>Simon Anikó</td><td>1988-12-14</td><td>2016-04-19</td><td>2016-11-10</td></tr>\n",
                            "<tr><td>anita</td><td>Hamvay-Kovács Anita</td><td>1971-03-20</td><td>2016-09-28</td><td>2017-02-20</td></tr>\n",
                            "<tr><td>annamaria1</td><td>Szűcs Annamária</td><td>1990-04-27</td><td>2016-06-06</td><td>2017-01-30</td></tr>\n",
                            "<tr><td>ANNAMARIAR</td><td>Regős Annamária</td><td>1977-09-26</td><td>2016-06-08</td><td>2017-02-16</td></tr>\n",
                            "<tr><td>aron2</td><td>Jakab Áron</td><td>1971-04-26</td><td>2016-04-11</td><td>2017-02-26</td></tr>\n",
                            "<tr><td>ARONK</td><td>Kelemen Áron</td><td>1989-08-10</td><td>2016-04-06</td><td>2017-02-21</td></tr>\n",
                            "<tr><td>arpad2</td><td>Ötvös Árpád</td><td>1990-06-08</td><td>2016-06-05</td><td>2017-02-18</td></tr>\n",
                            "<tr><td>ARPADH</td><td>Horváth Árpád</td><td>1990-05-18</td><td>2016-06-06</td><td>2017-02-16</td></tr>\n",
                            "<tr><td>ARPADM</td><td>Móricz Árpád</td><td>1986-04-20</td><td>2016-05-29</td><td>2017-02-12</td></tr>\n",
                            "<tr><td>attila</td><td>Csóti Attila</td><td>1979-12-25</td><td>2016-09-30</td><td>2016-12-22</td></tr>\n",
                            "<tr><td>attila1</td><td>Gulyás Attila</td><td>1982-08-16</td><td>2016-05-20</td><td>2017-01-23</td></tr>\n",
                            "<tr><td>attila4</td><td>Baróti Attila</td><td>1975-11-06</td><td>2016-08-18</td><td>2017-02-15</td></tr>\n",
                            "<tr><td>ATTILAO</td><td>Opra Attila</td><td>1995-05-08</td><td>2016-05-21</td><td>2017-02-22</td></tr>\n",
                            "<tr><td>balazs1</td><td>Bozsik Balázs</td><td>1992-11-03</td><td>2016-05-07</td><td>2017-02-12</td></tr>\n",
                            "<tr><td>balazs2</td><td>Szűcs Balázs</td><td>1984-10-31</td><td>2016-04-16</td><td>2017-02-27</td></tr>\n",
                            "<tr><td>balazs3</td><td>Bakódy Balázs</td><td>1986-09-09</td><td>2016-07-17</td><td>2017-01-20</td></tr>\n",
                            "<tr><td>balint</td><td>Horváth Bálint</td><td>1996-03-17</td><td>2016-04-22</td><td>2016-11-24</td></tr>\n",
                            "<tr><td>balint1</td><td>Molnár Bálint</td><td>1989-08-24</td><td>2016-06-07</td><td>2017-01-03</td></tr>\n",
                            "<tr><td>balint2</td><td>Vukasinovity Bálint</td><td>1997-09-03</td><td>2016-07-21</td><td>2016-12-04</td></tr>\n",
                            "<tr><td>balu</td><td>Endresz Bálint</td><td>1976-08-01</td><td>2016-08-06</td><td>2016-12-22</td></tr>\n",
                            "<tr><td>beata4</td><td>Bagi Beáta</td><td>1994-03-19</td><td>2016-04-20</td><td>2016-10-03</td></tr>\n",
                            "<tr><td>BEATRIXK</td><td>Kerényi Beatrix</td><td>1972-04-06</td><td>2016-06-10</td><td>2017-02-08</td></tr>\n",
                            "<tr><td>BEATRIXS</td><td>Szekendi Beatrix</td><td>1981-04-06</td><td>2016-04-18</td><td>2017-02-03</td></tr>\n",
                            "<tr><td>BELAF</td><td>Farkas Béla</td><td>1995-02-24</td><td>2016-07-27</td><td>2016-12-06</td></tr>\n",
                            "<tr><td>bence</td><td>Győrffy Bence</td><td>1987-07-09</td><td>2016-05-08</td><td>2017-02-05</td></tr>\n",
                            "<tr><td>BENCEB</td><td>Bajusz Bence</td><td>1973-06-21</td><td>2016-05-14</td><td>2017-02-12</td></tr>\n",
                            "<tr><td>bernadett1</td><td>Simon Bernadett</td><td>1984-10-13</td><td>2016-06-12</td><td>2017-02-24</td></tr>\n",
                            "<tr><td>bernadett2</td><td>Kovács Bernadett</td><td>1996-08-20</td><td>2016-05-01</td><td>2017-01-24</td></tr>\n",
                            "<tr><td>BERNADETTO</td><td>Orbán Bernadett</td><td>1987-12-07</td><td>2016-04-10</td><td>2017-01-28</td></tr>\n",
                            "<tr><td>bertalan</td><td>Csiger Bertalan</td><td>1977-10-15</td><td>2016-05-18</td><td>2017-02-20</td></tr>\n",
                            "<tr><td>brigitta</td><td>Székely Brigitta</td><td>1978-09-13</td><td>2016-05-30</td><td>2017-01-23</td></tr>\n",
                            "<tr><td>brigitta3</td><td>Pataki Brigitta</td><td>1991-05-23</td><td>2016-06-01</td><td>2017-02-09</td></tr>\n",
                            "<tr><td>csongor3</td><td>Nagymihály Csongor</td><td>1984-03-05</td><td>2016-05-01</td><td>2017-02-13</td></tr>\n",
                            "<tr><td>dani</td><td>Vörös Dániel</td><td>1986-10-14</td><td>2016-06-06</td><td>2017-02-25</td></tr>\n",
                            "<tr><td>daniel</td><td>Rácz Dániel</td><td>1978-11-28</td><td>2016-04-10</td><td>2017-02-20</td></tr>\n",
                            "<tr><td>daniel1</td><td>Keszler Dániel</td><td>1969-07-16</td><td>2016-04-10</td><td>2017-03-01</td></tr>\n",
                            "<tr><td>david</td><td>Ambrus Dávid</td><td>1974-02-11</td><td>2016-05-18</td><td>2017-01-18</td></tr>\n",
                            "<tr><td>david1</td><td>Sobják Dávid</td><td>1970-08-16</td><td>2016-09-20</td><td>2017-02-25</td></tr>\n",
                            "<tr><td>david4</td><td>Berta Dávid</td><td>1990-10-08</td><td>2017-02-16</td><td>2017-02-16</td></tr>\n",
                            "<tr><td>debora</td><td>Barna Debóra</td><td>1976-10-14</td><td>2016-06-22</td><td>2017-02-04</td></tr>\n",
                            "<tr><td>denes</td><td>Tömböly Dénes</td><td>1975-03-14</td><td>2016-05-27</td><td>2016-11-06</td></tr>\n",
                            "<tr><td>dora3</td><td>Sarodi Dóra</td><td>1995-05-18</td><td>2016-08-16</td><td>2016-11-22</td></tr>\n",
                            "<tr><td>edit</td><td>Bittmann Edit</td><td>1984-04-20</td><td>2016-07-14</td><td>2017-02-08</td></tr>\n",
                            "<tr><td>emese</td><td>Kuruc Emese</td><td>1989-08-10</td><td>2016-07-22</td><td>2017-01-30</td></tr>\n",
                            "<tr><td>eszter</td><td>Molnár Eszter</td><td>1987-05-10</td><td>2016-08-12</td><td>2016-12-23</td></tr>\n",
                            "<tr><td>eszter2</td><td>Balogh Eszter</td><td>1998-01-31</td><td>2016-06-30</td><td>2016-12-29</td></tr>\n",
                            "<tr><td>eszter4</td><td>Fülöp Eszter</td><td>1993-06-28</td><td>2017-01-05</td><td>2017-02-26</td></tr>\n",
                            "<tr><td>ESZTERE</td><td>Érsek Eszter</td><td>1978-08-28</td><td>2016-05-30</td><td>2017-02-10</td></tr>\n",
                            "<tr><td>eva</td><td>Enyedi Éva</td><td>1967-06-30</td><td>2016-10-06</td><td>2017-01-14</td></tr>\n",
                            "<tr><td>eva2</td><td>Perlinger Éva</td><td>1971-08-19</td><td>2016-09-02</td><td>2017-01-06</td></tr>\n",
                            "<tr><td>EVAV</td><td>Viktor Éva</td><td>1980-12-26</td><td>2016-05-01</td><td>2017-02-04</td></tr>\n",
                            "<tr><td>ferenc1</td><td>Orosz Ferenc</td><td>1983-10-08</td><td>2016-05-08</td><td>2016-11-07</td></tr>\n",
                            "<tr><td>fruzsina4</td><td>Frank Fruzsina</td><td>1996-08-16</td><td>2016-06-02</td><td>2017-01-22</td></tr>\n",
                            "<tr><td>gabor1</td><td>Köves Gábor</td><td>1973-07-15</td><td>2016-06-20</td><td>2016-11-19</td></tr>\n",
                            "<tr><td>gabor4</td><td>Telek Gábor</td><td>1987-03-15</td><td>2016-04-26</td><td>2016-11-07</td></tr>\n",
                            "<tr><td>gabriella1</td><td>Nagy Gabriella</td><td>1982-11-01</td><td>2016-04-21</td><td>2017-02-21</td></tr>\n",
                            "<tr><td>gabriella10</td><td>Vida Gabriella</td><td>1969-06-18</td><td>2016-10-01</td><td>2016-10-01</td></tr>\n",
                            "<tr><td>georgij</td><td>Nyíri Georgij</td><td>1983-02-23</td><td>2016-06-16</td><td>2016-09-18</td></tr>\n",
                            "<tr><td>gusztav</td><td>Bárci Gusztáv</td><td>1967-02-25</td><td>2016-05-06</td><td>2017-02-23</td></tr>\n",
                            "<tr><td>GYONGYIK</td><td>Kornseé Gyöngyi</td><td>1974-06-07</td><td>2016-06-02</td><td>2017-01-22</td></tr>\n",
                            "<tr><td>GYORGYO</td><td>Oroszi György</td><td>1980-03-23</td><td>2016-05-27</td><td>2017-02-24</td></tr>\n",
                            "<tr><td>henrik3</td><td>Nádudvari Henrik</td><td>1986-12-05</td><td>2016-08-24</td><td>2017-01-27</td></tr>\n",
                            "<tr><td>IBOLYAA</td><td>Andor Ibolya</td><td>1983-11-27</td><td>2016-08-29</td><td>2017-01-17</td></tr>\n",
                            "<tr><td>ilona3</td><td>Bosnyák Ilona</td><td>1990-08-06</td><td>2016-07-31</td><td>2016-12-25</td></tr>\n",
                            "<tr><td>imre</td><td>Búza Imre</td><td>1988-09-30</td><td>2016-09-17</td><td>2016-10-28</td></tr>\n",
                            "<tr><td>imre1</td><td>Papp Imre</td><td>1976-06-25</td><td>2016-06-23</td><td>2017-02-05</td></tr>\n",
                            "<tr><td>istvan</td><td>Soós István</td><td>1986-06-28</td><td>2016-10-07</td><td>2017-01-02</td></tr>\n",
                            "<tr><td>istvan1</td><td>Vizi István</td><td>1997-12-01</td><td>2016-04-16</td><td>2017-02-07</td></tr>\n",
                            "<tr><td>ISTVANV</td><td>Varga István</td><td>1989-04-09</td><td>2016-07-01</td><td>2016-09-29</td></tr>\n",
                            "<tr><td>janos3</td><td>Harangozó János</td><td>1967-11-02</td><td>2016-06-04</td><td>2017-02-12</td></tr>\n",
                            "<tr><td>JANOSG</td><td>Giliga János</td><td>1975-01-03</td><td>2016-05-09</td><td>2017-01-31</td></tr>\n",
                            "<tr><td>JANOSP</td><td>Pálinkás János</td><td>1984-10-12</td><td>2016-07-04</td><td>2016-12-18</td></tr>\n",
                            "<tr><td>jozsef</td><td>Gergely József</td><td>1985-11-01</td><td>2016-09-13</td><td>2016-12-06</td></tr>\n",
                            "<tr><td>jozsef2</td><td>Vajda József</td><td>1978-09-04</td><td>2016-07-06</td><td>2016-11-25</td></tr>\n",
                            "<tr><td>JOZSEFG</td><td>Gyuris József</td><td>1975-05-26</td><td>2016-05-02</td><td>2017-02-24</td></tr>\n",
                            "<tr><td>JUDITH</td><td>Hídasi Judit</td><td>1997-07-12</td><td>2016-06-06</td><td>2016-12-19</td></tr>\n",
                            "<tr><td>julia</td><td>Tóth Júlia</td><td>1993-03-02</td><td>2016-04-21</td><td>2017-02-27</td></tr>\n",
                            "<tr><td>julia4</td><td>Nagy Júlia</td><td>1985-08-11</td><td>2016-11-07</td><td>2017-02-04</td></tr>\n",
                            "<tr><td>julianna4</td><td>Szabó Julianna</td><td>1990-09-29</td><td>2016-07-20</td><td>2016-11-27</td></tr>\n",
                            "<tr><td>kata</td><td>Gondos Katalin</td><td>1968-06-22</td><td>2016-04-10</td><td>2017-01-15</td></tr>\n",
                            "<tr><td>katalin</td><td>Horváth Katalin</td><td>1968-01-01</td><td>2016-04-10</td><td>2017-02-24</td></tr>\n",
                            "<tr><td>katalin4</td><td>Kertész Katalin</td><td>1986-04-13</td><td>2016-07-01</td><td>2017-01-24</td></tr>\n",
                            "<tr><td>kati</td><td>Zatykó Katalin</td><td>1995-05-01</td><td>2016-06-06</td><td>2016-10-30</td></tr>\n",
                            "<tr><td>katka</td><td>Kovács Katalin</td><td>1975-03-31</td><td>2016-04-10</td><td>2017-01-19</td></tr>\n",
                            "<tr><td>klaudia2</td><td>Bakó Klaudia</td><td>1982-04-16</td><td>2016-06-06</td><td>2016-10-02</td></tr>\n",
                            "<tr><td>kornel4</td><td>Lukács Kornél</td><td>1975-09-30</td><td>2016-05-08</td><td>2016-09-23</td></tr>\n",
                            "<tr><td>kristof4</td><td>Poprádi Kristóf</td><td>1984-01-15</td><td>2016-04-08</td><td>2016-09-30</td></tr>\n",
                            "<tr><td>kriszti</td><td>Horváth Krisztina</td><td>1978-06-12</td><td>2016-05-19</td><td>2017-03-03</td></tr>\n",
                            "<tr><td>krisztian4</td><td>Czérna Krisztián</td><td>1970-08-01</td><td>2016-06-03</td><td>2017-02-23</td></tr>\n",
                            "<tr><td>KRISZTIANM</td><td>Mogyródi Krisztián</td><td>1968-05-27</td><td>2016-04-09</td><td>2017-01-16</td></tr>\n",
                            "<tr><td>krisztina</td><td>Szedlár Krisztina</td><td>1979-05-10</td><td>2016-05-21</td><td>2017-02-16</td></tr>\n",
                            "<tr><td>krisztina1</td><td>Bori Krisztina</td><td>1969-10-13</td><td>2016-04-28</td><td>2017-01-21</td></tr>\n",
                            "<tr><td>KRISZTINAG</td><td>Gyárfás Krisztina</td><td>1987-09-19</td><td>2016-04-23</td><td>2017-01-25</td></tr>\n",
                            "<tr><td>lajos</td><td>Kiss Lajos</td><td>1978-10-31</td><td>2016-07-18</td><td>2017-02-12</td></tr>\n",
                            "<tr><td>lala</td><td>Nagymihály Lajos</td><td>1997-02-24</td><td>2016-06-16</td><td>2017-01-17</td></tr>\n",
                            "<tr><td>laszlo1</td><td>Farkas László</td><td>1967-10-30</td><td>2016-09-23</td><td>2016-09-23</td></tr>\n",
                            "<tr><td>laszlo2</td><td>Móra László</td><td>1975-02-19</td><td>2016-04-06</td><td>2016-11-25</td></tr>\n",
                            "<tr><td>LASZLOA</td><td>Antal László</td><td>1969-06-29</td><td>2016-06-03</td><td>2017-02-08</td></tr>\n",
                            "<tr><td>LASZLON</td><td>Nagy László</td><td>1969-04-12</td><td>2016-06-03</td><td>2017-02-18</td></tr>\n",
                            "<tr><td>maria1</td><td>Baráth Mária</td><td>1995-11-19</td><td>2016-05-13</td><td>2017-02-24</td></tr>\n",
                            "<tr><td>mark</td><td>Kispál Márk</td><td>1996-01-23</td><td>2016-04-19</td><td>2016-11-19</td></tr>\n",
                            "<tr><td>MARKH</td><td>Horváth Márk</td><td>1997-09-23</td><td>2016-09-14</td><td>2017-01-22</td></tr>\n",
                            "<tr><td>marton</td><td>Kalacsi Márton</td><td>1989-06-24</td><td>2016-04-27</td><td>2017-03-02</td></tr>\n",
                            "<tr><td>MATEK</td><td>Koza Máté</td><td>1997-02-28</td><td>2016-08-17</td><td>2017-01-16</td></tr>\n",
                            "<tr><td>matyas2</td><td>Botka Mátyás</td><td>1972-07-07</td><td>2016-07-13</td><td>2016-12-09</td></tr>\n",
                            "<tr><td>MATYASS</td><td>Szilágyi Mátyás</td><td>1975-03-22</td><td>2016-05-10</td><td>2017-01-09</td></tr>\n",
                            "<tr><td>MIHALYJ</td><td>Juhász Mihály</td><td>1979-10-12</td><td>2016-05-30</td><td>2017-02-06</td></tr>\n",
                            "<tr><td>miklos2</td><td>Gondos Miklós</td><td>1995-10-07</td><td>2016-04-19</td><td>2016-11-16</td></tr>\n",
                            "<tr><td>MIKLOSB</td><td>Balla Miklós</td><td>1979-02-16</td><td>2016-06-26</td><td>2016-12-05</td></tr>\n",
                            "<tr><td>MONIKAM</td><td>Mohos Mónika</td><td>1974-10-01</td><td>2016-04-29</td><td>2017-02-23</td></tr>\n",
                            "<tr><td>NANDORF</td><td>Fő Nándor</td><td>1968-11-12</td><td>2016-04-06</td><td>2017-02-05</td></tr>\n",
                            "<tr><td>nikolett3</td><td>Horváth Nikolett</td><td>1981-09-29</td><td>2016-05-24</td><td>2016-10-22</td></tr>\n",
                            "<tr><td>nikoletta4</td><td>Kő Nikoletta</td><td>1972-01-10</td><td>2016-04-08</td><td>2017-02-01</td></tr>\n",
                            "<tr><td>NIKOLETTAT</td><td>Tatár Nikoletta</td><td>1997-10-19</td><td>2016-05-22</td><td>2016-09-21</td></tr>\n",
                            "<tr><td>norbert</td><td>Szűcs Norbert</td><td>1969-07-17</td><td>2016-07-08</td><td>2017-02-26</td></tr>\n",
                            "<tr><td>norbert2</td><td>Hegedűs Norbert</td><td>1991-07-17</td><td>2016-04-19</td><td>2017-01-29</td></tr>\n",
                            "<tr><td>norbert4</td><td>Mile Norbert</td><td>1983-06-15</td><td>2016-04-10</td><td>2017-03-03</td></tr>\n",
                            "<tr><td>norbert5</td><td>Béres Norbert</td><td>1975-07-27</td><td>2016-06-24</td><td>2016-11-05</td></tr>\n",
                            "<tr><td>pal</td><td>Barabás Pál</td><td>1968-02-06</td><td>2016-08-14</td><td>2017-02-20</td></tr>\n",
                            "<tr><td>peter1</td><td>Kozma Péter</td><td>1976-03-18</td><td>2016-07-14</td><td>2017-02-28</td></tr>\n",
                            "<tr><td>peter2</td><td>Bozsó Péter</td><td>1976-01-26</td><td>2016-07-03</td><td>2016-11-15</td></tr>\n",
                            "<tr><td>peter3</td><td>Szalai Péter</td><td>1983-07-18</td><td>2016-06-30</td><td>2017-02-21</td></tr>\n",
                            "<tr><td>peter4</td><td>Bíró Péter</td><td>1985-09-01</td><td>2016-04-12</td><td>2017-02-05</td></tr>\n",
                            "<tr><td>PETERB</td><td>Berendi Péter</td><td>1969-01-01</td><td>2016-04-06</td><td>2016-11-17</td></tr>\n",
                            "<tr><td>polla</td><td>Palágyi Polla</td><td>1994-02-04</td><td>2016-04-17</td><td>2017-02-11</td></tr>\n",
                            "<tr><td>rajmond4</td><td>Rácz Rajmond</td><td>1993-09-25</td><td>2016-09-05</td><td>2016-11-16</td></tr>\n",
                            "<tr><td>reka4</td><td>Szikszai Réka</td><td>1969-11-27</td><td>2016-07-27</td><td>2017-02-26</td></tr>\n",
                            "<tr><td>RENATAK</td><td>Kardos Renáta</td><td>1988-05-17</td><td>2016-10-27</td><td>2017-03-01</td></tr>\n",
                            "<tr><td>RENATAS</td><td>Szirmai Renáta</td><td>1991-03-26</td><td>2016-05-04</td><td>2017-02-14</td></tr>\n",
                            "<tr><td>robert2</td><td>Patay Róbert</td><td>1977-01-08</td><td>2016-05-15</td><td>2016-12-17</td></tr>\n",
                            "<tr><td>ROBERTI</td><td>Iván Róbert</td><td>1967-07-02</td><td>2016-07-12</td><td>2017-02-17</td></tr>\n",
                            "<tr><td>ROBERTP</td><td>Pásztor Róbert</td><td>1972-05-16</td><td>2016-07-30</td><td>2016-09-08</td></tr>\n",
                            "<tr><td>roland</td><td>Tóth Roland</td><td>1968-03-21</td><td>2016-06-09</td><td>2016-11-19</td></tr>\n",
                            "<tr><td>roland1</td><td>Ferencz Roland</td><td>1985-12-31</td><td>2016-11-05</td><td>2017-01-16</td></tr>\n",
                            "<tr><td>roza2</td><td>Bucskó Róza</td><td>1988-12-26</td><td>2016-09-10</td><td>2017-02-18</td></tr>\n",
                            "<tr><td>sandor</td><td>Karasz Sándor</td><td>1970-01-27</td><td>2016-07-04</td><td>2016-09-19</td></tr>\n",
                            "<tr><td>sandor3</td><td>Farkas Sándor</td><td>1989-01-27</td><td>2016-05-12</td><td>2016-11-10</td></tr>\n",
                            "<tr><td>sandor4</td><td>Nagy Sándor</td><td>1997-06-11</td><td>2016-10-15</td><td>2017-01-22</td></tr>\n",
                            "<tr><td>sara</td><td>Farkas Sára</td><td>1973-04-05</td><td>2016-05-28</td><td>2016-12-25</td></tr>\n",
                            "<tr><td>SEBASTIANF</td><td>Foltényi Sebastián</td><td>1992-09-09</td><td>2016-04-06</td><td>2016-09-17</td></tr>\n",
                            "<tr><td>sebestyen</td><td>Rab Sebestyén</td><td>1992-03-03</td><td>2016-04-07</td><td>2016-10-26</td></tr>\n",
                            "<tr><td>szabolcs</td><td>Bodor Szabolcs</td><td>1990-07-16</td><td>2016-12-05</td><td>2016-12-05</td></tr>\n",
                            "<tr><td>SZABOLCSM</td><td>Miklós Szabolcs</td><td>1980-08-11</td><td>2016-06-18</td><td>2017-02-04</td></tr>\n",
                            "<tr><td>SZILARDS</td><td>Szalai Szilárd</td><td>1967-09-28</td><td>2016-04-23</td><td>2017-02-08</td></tr>\n",
                            "<tr><td>szilvia1</td><td>Tari Szilvia</td><td>1971-03-09</td><td>2016-05-14</td><td>2017-01-28</td></tr>\n",
                            "<tr><td>tamara2</td><td>Miklós Tamara</td><td>1980-08-11</td><td>2016-08-12</td><td>2016-11-15</td></tr>\n",
                            "<tr><td>tamas</td><td>Antal Tamás</td><td>1984-09-05</td><td>2016-05-17</td><td>2017-02-14</td></tr>\n",
                            "<tr><td>TAMASF</td><td>Fényes Tamás</td><td>1997-11-06</td><td>2016-05-03</td><td>2017-02-16</td></tr>\n",
                            "<tr><td>tibor</td><td>Gombos Tibor</td><td>1993-11-28</td><td>2016-10-09</td><td>2016-11-05</td></tr>\n",
                            "<tr><td>tibor2</td><td>Dániel Tibor</td><td>1985-02-02</td><td>2016-10-20</td><td>2016-10-20</td></tr>\n",
                            "<tr><td>tihamer</td><td>Kazy Tihamér</td><td>1991-07-05</td><td>2016-05-30</td><td>2016-12-25</td></tr>\n",
                            "<tr><td>timea</td><td>Papós Tímea</td><td>1996-01-08</td><td>2016-12-26</td><td>2016-12-26</td></tr>\n",
                            "<tr><td>timea2</td><td>Dusha Tímea</td><td>1975-08-22</td><td>2016-06-06</td><td>2016-12-14</td></tr>\n",
                            "<tr><td>tunde</td><td>Turcsik Tünde</td><td>1974-02-12</td><td>2016-06-03</td><td>2017-01-03</td></tr>\n",
                            "<tr><td>valentin</td><td>Feró Valentin</td><td>1986-01-09</td><td>2016-05-24</td><td>2016-12-01</td></tr>\n",
                            "<tr><td>veronika4</td><td>Tankó Veronika</td><td>1983-08-28</td><td>2016-05-30</td><td>2017-02-03</td></tr>\n",
                            "<tr><td>VIKTORIAU</td><td>Urbán Viktoria</td><td>1996-05-03</td><td>2016-04-30</td><td>2016-10-26</td></tr>\n",
                            "<tr><td>VIKTORK</td><td>Keresztúri Viktor</td><td>1989-05-05</td><td>2016-05-30</td><td>2016-06-06</td></tr>\n",
                            "<tr><td>vivien3</td><td>Boros Vivien</td><td>1991-07-01</td><td>2016-05-02</td><td>2016-12-24</td></tr>\n",
                            "<tr><td>zoltan</td><td>Fodor Zoltán</td><td>1979-11-25</td><td>2016-08-24</td><td>2016-09-05</td></tr>\n",
                            "<tr><td>zoltan4</td><td>Barna Zoltán</td><td>1986-05-20</td><td>2016-05-12</td><td>2017-01-01</td></tr>\n",
                            "<tr><td>ZOLTANP</td><td>Pintér Zoltán</td><td>1977-06-07</td><td>2016-06-05</td><td>2016-12-25</td></tr>\n",
                            "<tr><td>ZOLTANT</td><td>Tóth Zoltán</td><td>1985-12-14</td><td>2016-05-01</td><td>2017-01-16</td></tr>\n",
                            "<tr><td>zsofi1</td><td>Molnár Zsófi</td><td>1983-11-17</td><td>2016-06-16</td><td>2017-02-18</td></tr>\n",
                            "<tr><td>zsolt1</td><td>Pulai Zsolt</td><td>1988-05-27</td><td>2016-04-14</td><td>2016-07-31</td></tr>\n",
                            "<tr><td>ZSOLTJ</td><td>Józsa Zsolt</td><td>1983-09-29</td><td>2016-04-24</td><td>2016-10-01</td></tr>\n",
                            "<tr><td>zsuzsa</td><td>Pusztai Zsuzsanna</td><td>1980-09-17</td><td>2016-07-24</td><td>2016-11-28</td></tr>\n",
                            "<tr><td>zsuzsa3</td><td>Varsányi Zsuzsa</td><td>1979-03-06</td><td>2016-07-30</td><td>2016-10-27</td></tr>\n",
                            "<tr><td>zsuzsanna</td><td>Barta Zsuzsanna</td><td>1994-10-07</td><td>2016-05-17</td><td>2017-01-16</td></tr>\n",
                            "<tr><td>ZSUZSAV</td><td>Vajda Zsuzsa</td><td>1976-12-11</td><td>2016-04-14</td><td>2016-11-21</td></tr>\n",
                            "</table>"
                        ]
                    },
                    "execution_count": 9,
                    "metadata": {},
                    "output_type": "execute_result"
                }
            ],
            "source": [
                "SELECT DISTINCT v.usernev,\n",
                "       v.nev,\n",
                "       v.szul_dat,\n",
                "       MIN(f.mettol) OVER(PARTITION BY usernev) AS 'Legelső',\n",
                "       MAX(f.mettol) OVER(PARTITION BY usernev) as 'legutolsó'\n",
                "FROM Vendeg v JOIN Foglalas f ON v.usernev = f.ugyfel_fk"
            ]
        },
        {
            "cell_type": "code",
            "execution_count": 20,
            "metadata": {
                "azdata_cell_guid": "15d95f13-6ce3-42c9-a7e9-7fbb115621a4",
                "language": "sql"
            },
            "outputs": [
                {
                    "data": {
                        "text/html": [
                            "(41 rows affected)"
                        ]
                    },
                    "metadata": {},
                    "output_type": "display_data"
                },
                {
                    "data": {
                        "text/html": [
                            "Total execution time: 00:00:00.026"
                        ]
                    },
                    "metadata": {},
                    "output_type": "display_data"
                },
                {
                    "data": {
                        "application/vnd.dataresource+json": {
                            "data": [
                                {
                                    "Foglalások száma": "10",
                                    "Pótágyak száma": "0",
                                    "Szállás neve": "Családi Ház"
                                },
                                {
                                    "Foglalások száma": "31",
                                    "Pótágyak száma": "1",
                                    "Szállás neve": "Családi Ház"
                                },
                                {
                                    "Foglalások száma": "11",
                                    "Pótágyak száma": "2",
                                    "Szállás neve": "Családi Ház"
                                },
                                {
                                    "Foglalások száma": "52",
                                    "Pótágyak száma": "Részösszeg",
                                    "Szállás neve": "Családi Ház"
                                },
                                {
                                    "Foglalások száma": "18",
                                    "Pótágyak száma": "0",
                                    "Szállás neve": "Fortuna Apartman"
                                },
                                {
                                    "Foglalások száma": "52",
                                    "Pótágyak száma": "1",
                                    "Szállás neve": "Fortuna Apartman"
                                },
                                {
                                    "Foglalások száma": "36",
                                    "Pótágyak száma": "2",
                                    "Szállás neve": "Fortuna Apartman"
                                },
                                {
                                    "Foglalások száma": "106",
                                    "Pótágyak száma": "Részösszeg",
                                    "Szállás neve": "Fortuna Apartman"
                                },
                                {
                                    "Foglalások száma": "158",
                                    "Pótágyak száma": "0",
                                    "Szállás neve": "Fortuna Panzió"
                                },
                                {
                                    "Foglalások száma": "113",
                                    "Pótágyak száma": "1",
                                    "Szállás neve": "Fortuna panzió"
                                },
                                {
                                    "Foglalások száma": "40",
                                    "Pótágyak száma": "2",
                                    "Szállás neve": "Fortuna panzió"
                                },
                                {
                                    "Foglalások száma": "311",
                                    "Pótágyak száma": "Részösszeg",
                                    "Szállás neve": "Fortuna Panzió"
                                },
                                {
                                    "Foglalások száma": "216",
                                    "Pótágyak száma": "0",
                                    "Szállás neve": "Gold Hotel"
                                },
                                {
                                    "Foglalások száma": "93",
                                    "Pótágyak száma": "1",
                                    "Szállás neve": "Gold Hotel"
                                },
                                {
                                    "Foglalások száma": "119",
                                    "Pótágyak száma": "2",
                                    "Szállás neve": "Gold Hotel"
                                },
                                {
                                    "Foglalások száma": "428",
                                    "Pótágyak száma": "Részösszeg",
                                    "Szállás neve": "Gold Hotel"
                                },
                                {
                                    "Foglalások száma": "183",
                                    "Pótágyak száma": "0",
                                    "Szállás neve": "Hotel Három Hattyú"
                                },
                                {
                                    "Foglalások száma": "258",
                                    "Pótágyak száma": "1",
                                    "Szállás neve": "Hotel Három Hattyú"
                                },
                                {
                                    "Foglalások száma": "63",
                                    "Pótágyak száma": "2",
                                    "Szállás neve": "Hotel Három Hattyú"
                                },
                                {
                                    "Foglalások száma": "504",
                                    "Pótágyak száma": "Részösszeg",
                                    "Szállás neve": "Hotel Három Hattyú"
                                },
                                {
                                    "Foglalások száma": "66",
                                    "Pótágyak száma": "0",
                                    "Szállás neve": "Jáde panzió"
                                },
                                {
                                    "Foglalások száma": "66",
                                    "Pótágyak száma": "Részösszeg",
                                    "Szállás neve": "Jáde panzió"
                                },
                                {
                                    "Foglalások száma": "168",
                                    "Pótágyak száma": "0",
                                    "Szállás neve": "Kentaur Hotel"
                                },
                                {
                                    "Foglalások száma": "224",
                                    "Pótágyak száma": "1",
                                    "Szállás neve": "Kentaur Hotel"
                                },
                                {
                                    "Foglalások száma": "28",
                                    "Pótágyak száma": "2",
                                    "Szállás neve": "Kentaur Hotel"
                                },
                                {
                                    "Foglalások száma": "420",
                                    "Pótágyak száma": "Részösszeg",
                                    "Szállás neve": "Kentaur Hotel"
                                },
                                {
                                    "Foglalások száma": "105",
                                    "Pótágyak száma": "0",
                                    "Szállás neve": "Lagúna Hotel"
                                },
                                {
                                    "Foglalások száma": "150",
                                    "Pótágyak száma": "1",
                                    "Szállás neve": "Lagúna Hotel"
                                },
                                {
                                    "Foglalások száma": "36",
                                    "Pótágyak száma": "2",
                                    "Szállás neve": "Lagúna Hotel"
                                },
                                {
                                    "Foglalások száma": "291",
                                    "Pótágyak száma": "Részösszeg",
                                    "Szállás neve": "Lagúna Hotel"
                                },
                                {
                                    "Foglalások száma": "31",
                                    "Pótágyak száma": "0",
                                    "Szállás neve": "Partiszél Vendégház"
                                },
                                {
                                    "Foglalások száma": "17",
                                    "Pótágyak száma": "1",
                                    "Szállás neve": "Partiszél Vendégház"
                                },
                                {
                                    "Foglalások száma": "15",
                                    "Pótágyak száma": "2",
                                    "Szállás neve": "Partiszél Vendégház"
                                },
                                {
                                    "Foglalások száma": "63",
                                    "Pótágyak száma": "Részösszeg",
                                    "Szállás neve": "Partiszél Vendégház"
                                },
                                {
                                    "Foglalások száma": "67",
                                    "Pótágyak száma": "0",
                                    "Szállás neve": "Sába-Ház"
                                },
                                {
                                    "Foglalások száma": "99",
                                    "Pótágyak száma": "1",
                                    "Szállás neve": "Sába-Ház"
                                },
                                {
                                    "Foglalások száma": "166",
                                    "Pótágyak száma": "Részösszeg",
                                    "Szállás neve": "Sába-Ház"
                                },
                                {
                                    "Foglalások száma": "64",
                                    "Pótágyak száma": "0",
                                    "Szállás neve": "Szieszta Apartmanház"
                                },
                                {
                                    "Foglalások száma": "19",
                                    "Pótágyak száma": "1",
                                    "Szállás neve": "Szieszta Apartmanház"
                                },
                                {
                                    "Foglalások száma": "83",
                                    "Pótágyak száma": "Részösszeg",
                                    "Szállás neve": "Szieszta Apartmanház"
                                },
                                {
                                    "Foglalások száma": "2490",
                                    "Pótágyak száma": "Végösszeg",
                                    "Szállás neve": "Végösszeg"
                                }
                            ],
                            "schema": {
                                "fields": [
                                    {
                                        "name": "Szállás neve"
                                    },
                                    {
                                        "name": "Pótágyak száma"
                                    },
                                    {
                                        "name": "Foglalások száma"
                                    }
                                ]
                            }
                        },
                        "text/html": [
                            "<table>\n",
                            "<tr><th>Szállás neve</th><th>Pótágyak száma</th><th>Foglalások száma</th></tr>\n",
                            "<tr><td>Családi Ház</td><td>0</td><td>10</td></tr>\n",
                            "<tr><td>Családi Ház</td><td>1</td><td>31</td></tr>\n",
                            "<tr><td>Családi Ház</td><td>2</td><td>11</td></tr>\n",
                            "<tr><td>Családi Ház</td><td>Részösszeg</td><td>52</td></tr>\n",
                            "<tr><td>Fortuna Apartman</td><td>0</td><td>18</td></tr>\n",
                            "<tr><td>Fortuna Apartman</td><td>1</td><td>52</td></tr>\n",
                            "<tr><td>Fortuna Apartman</td><td>2</td><td>36</td></tr>\n",
                            "<tr><td>Fortuna Apartman</td><td>Részösszeg</td><td>106</td></tr>\n",
                            "<tr><td>Fortuna Panzió</td><td>0</td><td>158</td></tr>\n",
                            "<tr><td>Fortuna panzió</td><td>1</td><td>113</td></tr>\n",
                            "<tr><td>Fortuna panzió</td><td>2</td><td>40</td></tr>\n",
                            "<tr><td>Fortuna Panzió</td><td>Részösszeg</td><td>311</td></tr>\n",
                            "<tr><td>Gold Hotel</td><td>0</td><td>216</td></tr>\n",
                            "<tr><td>Gold Hotel</td><td>1</td><td>93</td></tr>\n",
                            "<tr><td>Gold Hotel</td><td>2</td><td>119</td></tr>\n",
                            "<tr><td>Gold Hotel</td><td>Részösszeg</td><td>428</td></tr>\n",
                            "<tr><td>Hotel Három Hattyú</td><td>0</td><td>183</td></tr>\n",
                            "<tr><td>Hotel Három Hattyú</td><td>1</td><td>258</td></tr>\n",
                            "<tr><td>Hotel Három Hattyú</td><td>2</td><td>63</td></tr>\n",
                            "<tr><td>Hotel Három Hattyú</td><td>Részösszeg</td><td>504</td></tr>\n",
                            "<tr><td>Jáde panzió</td><td>0</td><td>66</td></tr>\n",
                            "<tr><td>Jáde panzió</td><td>Részösszeg</td><td>66</td></tr>\n",
                            "<tr><td>Kentaur Hotel</td><td>0</td><td>168</td></tr>\n",
                            "<tr><td>Kentaur Hotel</td><td>1</td><td>224</td></tr>\n",
                            "<tr><td>Kentaur Hotel</td><td>2</td><td>28</td></tr>\n",
                            "<tr><td>Kentaur Hotel</td><td>Részösszeg</td><td>420</td></tr>\n",
                            "<tr><td>Lagúna Hotel</td><td>0</td><td>105</td></tr>\n",
                            "<tr><td>Lagúna Hotel</td><td>1</td><td>150</td></tr>\n",
                            "<tr><td>Lagúna Hotel</td><td>2</td><td>36</td></tr>\n",
                            "<tr><td>Lagúna Hotel</td><td>Részösszeg</td><td>291</td></tr>\n",
                            "<tr><td>Partiszél Vendégház</td><td>0</td><td>31</td></tr>\n",
                            "<tr><td>Partiszél Vendégház</td><td>1</td><td>17</td></tr>\n",
                            "<tr><td>Partiszél Vendégház</td><td>2</td><td>15</td></tr>\n",
                            "<tr><td>Partiszél Vendégház</td><td>Részösszeg</td><td>63</td></tr>\n",
                            "<tr><td>Sába-Ház</td><td>0</td><td>67</td></tr>\n",
                            "<tr><td>Sába-Ház</td><td>1</td><td>99</td></tr>\n",
                            "<tr><td>Sába-Ház</td><td>Részösszeg</td><td>166</td></tr>\n",
                            "<tr><td>Szieszta Apartmanház</td><td>0</td><td>64</td></tr>\n",
                            "<tr><td>Szieszta Apartmanház</td><td>1</td><td>19</td></tr>\n",
                            "<tr><td>Szieszta Apartmanház</td><td>Részösszeg</td><td>83</td></tr>\n",
                            "<tr><td>Végösszeg</td><td>Végösszeg</td><td>2490</td></tr>\n",
                            "</table>"
                        ]
                    },
                    "execution_count": 20,
                    "metadata": {},
                    "output_type": "execute_result"
                }
            ],
            "source": [
                "SELECT IIF(GROUPING_ID(sz.szallas_nev)=1,'Végösszeg',sz.szallas_nev) as 'Szállás neve',\n",
                "       CASE\n",
                "           WHEN GROUPING_ID(sz.SZALLAS_NEV,szo.POTAGY) = 1 THEN 'Részösszeg'\n",
                "           WHEN GROUPING_ID(sz.SZALLAS_NEV,szo.POTAGY) = 3 THEN 'Végösszeg'\n",
                "       ELSE CAST(szo.potagy as varchar) end as 'Pótágyak száma',\n",
                "       sum(FELNOTT_SZAM+GYERMEK_SZAM) as 'Foglalások száma'\n",
                "FROM Szallashely sz join Szoba szo on sz.SZALLAS_ID = szo.SZALLAS_FK\n",
                "                    JOIN Foglalas f on f.SZOBA_FK = szo.SZOBA_ID\n",
                "GROUP BY ROLLUP(sz.szallas_nev,szo.POTAGY)"
            ]
        },
        {
            "cell_type": "code",
            "execution_count": 21,
            "metadata": {
                "azdata_cell_guid": "2a1435e8-cae3-476a-a327-d5b18fc403a3",
                "language": "sql"
            },
            "outputs": [
                {
                    "data": {
                        "text/html": [
                            "Commands completed successfully."
                        ]
                    },
                    "metadata": {},
                    "output_type": "display_data"
                },
                {
                    "data": {
                        "text/html": [
                            "Total execution time: 00:00:00.004"
                        ]
                    },
                    "metadata": {},
                    "output_type": "display_data"
                }
            ],
            "source": [
                "CREATE TABLE #MASKED_GUEST(\n",
                "    [USERNEV] [nvarchar](20) PRIMARY KEY,\n",
                "    [NEV] [nvarchar](50) MASKED WITH (FUNCTION = 'partial(2, \"XXX\",3)'),\n",
                "    [EMAIL] [nvarchar](60),\n",
                "    [SZAML_CIM] [nvarchar](100),\n",
                "    [SZUL_DAT] [date]\n",
                ")"
            ]
        },
        {
            "cell_type": "code",
            "execution_count": null,
            "metadata": {
                "azdata_cell_guid": "947dd2e9-8555-41a5-9454-942e6cf84469",
                "language": "sql"
            },
            "outputs": [],
            "source": [
                "--Redis és Cassandra feladatokat sajnos elfelejtettem ide bemásolni, de a moodle-ben fenn vannak :)"
            ]
        },
        {
            "cell_type": "code",
            "execution_count": null,
            "metadata": {
                "azdata_cell_guid": "78355bb2-ed83-473b-96e9-f5a043b8b3dc",
                "language": "sql"
            },
            "outputs": [],
            "source": [
                "MATCH(p:Person {name:'Tom Hanks'})-[:ACTED_IN]->(m:Movie)<-[:ACTED_IN]-(szereplok)\n",
                "WHERE szereplok.name <> 'Tom Hanks'\n",
                "RETURN DISTINCT szereplok.name"
            ]
        }
    ],
    "metadata": {
        "kernelspec": {
            "display_name": "SQL",
            "language": "sql",
            "name": "SQL"
        },
        "language_info": {
            "name": "sql",
            "version": ""
        }
    },
    "nbformat": 4,
    "nbformat_minor": 2
}
