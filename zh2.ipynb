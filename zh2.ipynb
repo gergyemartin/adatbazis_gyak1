{
    "metadata": {
        "kernelspec": {
            "name": "SQL",
            "display_name": "SQL",
            "language": "sql"
        },
        "language_info": {
            "name": "sql",
            "version": ""
        }
    },
    "nbformat_minor": 2,
    "nbformat": 4,
    "cells": [
        {
            "cell_type": "code",
            "source": [
                "SELECT ROUND(AVG(CSILLAGOK_SZAMA),2) AS 'Átlagos csillagok száma',\r\n",
                "       TIPUS,\r\n",
                "       HELY\r\n",
                "FROM Szallashely\r\n",
                "WHERE SZALLAS_NEV NOT LIKE '%-%'\r\n",
                "GROUP BY ROLLUP(TIPUS,HELY)"
            ],
            "metadata": {
                "azdata_cell_guid": "d7e4c29e-0859-4fb1-b78d-a8676663fd7c",
                "language": "sql"
            },
            "outputs": [
                {
                    "output_type": "display_data",
                    "data": {
                        "text/html": "(22 rows affected)"
                    },
                    "metadata": {}
                },
                {
                    "output_type": "display_data",
                    "data": {
                        "text/html": "Total execution time: 00:00:00.009"
                    },
                    "metadata": {}
                },
                {
                    "output_type": "execute_result",
                    "metadata": {},
                    "execution_count": 4,
                    "data": {
                        "application/vnd.dataresource+json": {
                            "schema": {
                                "fields": [
                                    {
                                        "name": "Átlagos csillagok száma"
                                    },
                                    {
                                        "name": "TIPUS"
                                    },
                                    {
                                        "name": "HELY"
                                    }
                                ]
                            },
                            "data": [
                                {
                                    "Átlagos csillagok száma": "0",
                                    "TIPUS": "Apartman",
                                    "HELY": "Balaton-dél"
                                },
                                {
                                    "Átlagos csillagok száma": "0",
                                    "TIPUS": "Apartman",
                                    "HELY": "Dél-Somogy"
                                },
                                {
                                    "Átlagos csillagok száma": "0",
                                    "TIPUS": "Apartman",
                                    "HELY": "Hajdúbihar megye"
                                },
                                {
                                    "Átlagos csillagok száma": "0",
                                    "TIPUS": "Apartman",
                                    "HELY": "NULL"
                                },
                                {
                                    "Átlagos csillagok száma": "0",
                                    "TIPUS": "Diákszálló",
                                    "HELY": "Budapest"
                                },
                                {
                                    "Átlagos csillagok száma": "0",
                                    "TIPUS": "Diákszálló",
                                    "HELY": "NULL"
                                },
                                {
                                    "Átlagos csillagok száma": "3",
                                    "TIPUS": "Hotel",
                                    "HELY": "Balaton-dél"
                                },
                                {
                                    "Átlagos csillagok száma": "3",
                                    "TIPUS": "Hotel",
                                    "HELY": "Budapest"
                                },
                                {
                                    "Átlagos csillagok száma": "3",
                                    "TIPUS": "Hotel",
                                    "HELY": "Pest megye"
                                },
                                {
                                    "Átlagos csillagok száma": "4",
                                    "TIPUS": "Hotel",
                                    "HELY": "Tolna megye"
                                },
                                {
                                    "Átlagos csillagok száma": "3",
                                    "TIPUS": "Hotel",
                                    "HELY": "NULL"
                                },
                                {
                                    "Átlagos csillagok száma": "3",
                                    "TIPUS": "panzió",
                                    "HELY": "Balaton-dél"
                                },
                                {
                                    "Átlagos csillagok száma": "3",
                                    "TIPUS": "panzió",
                                    "HELY": "Békés megye"
                                },
                                {
                                    "Átlagos csillagok száma": "3",
                                    "TIPUS": "panzió",
                                    "HELY": "Budapest"
                                },
                                {
                                    "Átlagos csillagok száma": "3",
                                    "TIPUS": "panzió",
                                    "HELY": "Csongrád megye"
                                },
                                {
                                    "Átlagos csillagok száma": "3",
                                    "TIPUS": "panzió",
                                    "HELY": "NULL"
                                },
                                {
                                    "Átlagos csillagok száma": "0",
                                    "TIPUS": "vendégház",
                                    "HELY": "Balaton-dél"
                                },
                                {
                                    "Átlagos csillagok száma": "0",
                                    "TIPUS": "vendégház",
                                    "HELY": "Balaton-észak"
                                },
                                {
                                    "Átlagos csillagok száma": "0",
                                    "TIPUS": "vendégház",
                                    "HELY": "Csongrád megye"
                                },
                                {
                                    "Átlagos csillagok száma": "0",
                                    "TIPUS": "vendégház",
                                    "HELY": "Dél-Somogy"
                                },
                                {
                                    "Átlagos csillagok száma": "0",
                                    "TIPUS": "vendégház",
                                    "HELY": "NULL"
                                },
                                {
                                    "Átlagos csillagok száma": "1",
                                    "TIPUS": "NULL",
                                    "HELY": "NULL"
                                }
                            ]
                        },
                        "text/html": [
                            "<table>",
                            "<tr><th>Átlagos csillagok száma</th><th>TIPUS</th><th>HELY</th></tr>",
                            "<tr><td>0</td><td>Apartman</td><td>Balaton-dél</td></tr>",
                            "<tr><td>0</td><td>Apartman</td><td>Dél-Somogy</td></tr>",
                            "<tr><td>0</td><td>Apartman</td><td>Hajdúbihar megye</td></tr>",
                            "<tr><td>0</td><td>Apartman</td><td>NULL</td></tr>",
                            "<tr><td>0</td><td>Diákszálló</td><td>Budapest</td></tr>",
                            "<tr><td>0</td><td>Diákszálló</td><td>NULL</td></tr>",
                            "<tr><td>3</td><td>Hotel</td><td>Balaton-dél</td></tr>",
                            "<tr><td>3</td><td>Hotel</td><td>Budapest</td></tr>",
                            "<tr><td>3</td><td>Hotel</td><td>Pest megye</td></tr>",
                            "<tr><td>4</td><td>Hotel</td><td>Tolna megye</td></tr>",
                            "<tr><td>3</td><td>Hotel</td><td>NULL</td></tr>",
                            "<tr><td>3</td><td>panzió</td><td>Balaton-dél</td></tr>",
                            "<tr><td>3</td><td>panzió</td><td>Békés megye</td></tr>",
                            "<tr><td>3</td><td>panzió</td><td>Budapest</td></tr>",
                            "<tr><td>3</td><td>panzió</td><td>Csongrád megye</td></tr>",
                            "<tr><td>3</td><td>panzió</td><td>NULL</td></tr>",
                            "<tr><td>0</td><td>vendégház</td><td>Balaton-dél</td></tr>",
                            "<tr><td>0</td><td>vendégház</td><td>Balaton-észak</td></tr>",
                            "<tr><td>0</td><td>vendégház</td><td>Csongrád megye</td></tr>",
                            "<tr><td>0</td><td>vendégház</td><td>Dél-Somogy</td></tr>",
                            "<tr><td>0</td><td>vendégház</td><td>NULL</td></tr>",
                            "<tr><td>1</td><td>NULL</td><td>NULL</td></tr>",
                            "</table>"
                        ]
                    }
                }
            ],
            "execution_count": 4
        },
        {
            "cell_type": "code",
            "source": [
                "SELECT sz.SZOBA_ID,\r\n",
                "       f.FOGLALAS_PK,\r\n",
                "       DATEDIFF(DAY, f.METTOL, f.MEDDIG) AS 'Időtartam',\r\n",
                "       LAG(DATEDIFF(DAY, f.METTOL, f.MEDDIG), 1, 0) OVER(PARTITION BY sz.SZOBA_ID ORDER BY DATEDIFF(DAY, f.METTOL, f.MEDDIG)) AS 'Előző időtartama'\r\n",
                "FROM Szoba sz JOIN Foglalas f ON sz.SZOBA_ID = f.SZOBA_FK;"
            ],
            "metadata": {
                "azdata_cell_guid": "158b933a-3b9c-49bc-b19f-ac81c5e3646a",
                "language": "sql"
            },
            "outputs": [
                {
                    "output_type": "display_data",
                    "data": {
                        "text/html": "(1027 rows affected)"
                    },
                    "metadata": {}
                },
                {
                    "output_type": "display_data",
                    "data": {
                        "text/html": "Total execution time: 00:00:00.018"
                    },
                    "metadata": {}
                },
                {
                    "output_type": "execute_result",
                    "metadata": {},
                    "execution_count": 15,
                    "data": {
                        "application/vnd.dataresource+json": {
                            "schema": {
                                "fields": [
                                    {
                                        "name": "SZOBA_ID"
                                    },
                                    {
                                        "name": "FOGLALAS_PK"
                                    },
                                    {
                                        "name": "Időtartam"
                                    },
                                    {
                                        "name": "Előző időtartama"
                                    }
                                ]
                            },
                            "data": [
                                {
                                    "SZOBA_ID": "1",
                                    "FOGLALAS_PK": "949",
                                    "Időtartam": "1",
                                    "Előző időtartama": "0"
                                },
                                {
                                    "SZOBA_ID": "1",
                                    "FOGLALAS_PK": "1152",
                                    "Időtartam": "1",
                                    "Előző időtartama": "1"
                                },
                                {
                                    "SZOBA_ID": "1",
                                    "FOGLALAS_PK": "1274",
                                    "Időtartam": "1",
                                    "Előző időtartama": "1"
                                },
                                {
                                    "SZOBA_ID": "1",
                                    "FOGLALAS_PK": "1137",
                                    "Időtartam": "2",
                                    "Előző időtartama": "1"
                                },
                                {
                                    "SZOBA_ID": "1",
                                    "FOGLALAS_PK": "1334",
                                    "Időtartam": "4",
                                    "Előző időtartama": "2"
                                },
                                {
                                    "SZOBA_ID": "1",
                                    "FOGLALAS_PK": "803",
                                    "Időtartam": "4",
                                    "Előző időtartama": "4"
                                },
                                {
                                    "SZOBA_ID": "1",
                                    "FOGLALAS_PK": "620",
                                    "Időtartam": "5",
                                    "Előző időtartama": "4"
                                },
                                {
                                    "SZOBA_ID": "1",
                                    "FOGLALAS_PK": "738",
                                    "Időtartam": "7",
                                    "Előző időtartama": "5"
                                },
                                {
                                    "SZOBA_ID": "2",
                                    "FOGLALAS_PK": "1051",
                                    "Időtartam": "1",
                                    "Előző időtartama": "0"
                                },
                                {
                                    "SZOBA_ID": "2",
                                    "FOGLALAS_PK": "828",
                                    "Időtartam": "3",
                                    "Előző időtartama": "1"
                                },
                                {
                                    "SZOBA_ID": "2",
                                    "FOGLALAS_PK": "1069",
                                    "Időtartam": "7",
                                    "Előző időtartama": "3"
                                },
                                {
                                    "SZOBA_ID": "2",
                                    "FOGLALAS_PK": "1311",
                                    "Időtartam": "7",
                                    "Előző időtartama": "7"
                                },
                                {
                                    "SZOBA_ID": "3",
                                    "FOGLALAS_PK": "1151",
                                    "Időtartam": "1",
                                    "Előző időtartama": "0"
                                },
                                {
                                    "SZOBA_ID": "3",
                                    "FOGLALAS_PK": "1038",
                                    "Időtartam": "3",
                                    "Előző időtartama": "1"
                                },
                                {
                                    "SZOBA_ID": "3",
                                    "FOGLALAS_PK": "629",
                                    "Időtartam": "4",
                                    "Előző időtartama": "3"
                                },
                                {
                                    "SZOBA_ID": "3",
                                    "FOGLALAS_PK": "1434",
                                    "Időtartam": "5",
                                    "Előző időtartama": "4"
                                },
                                {
                                    "SZOBA_ID": "3",
                                    "FOGLALAS_PK": "1544",
                                    "Időtartam": "5",
                                    "Előző időtartama": "5"
                                },
                                {
                                    "SZOBA_ID": "3",
                                    "FOGLALAS_PK": "666",
                                    "Időtartam": "6",
                                    "Előző időtartama": "5"
                                },
                                {
                                    "SZOBA_ID": "3",
                                    "FOGLALAS_PK": "788",
                                    "Időtartam": "6",
                                    "Előző időtartama": "6"
                                },
                                {
                                    "SZOBA_ID": "3",
                                    "FOGLALAS_PK": "1110",
                                    "Időtartam": "7",
                                    "Előző időtartama": "6"
                                },
                                {
                                    "SZOBA_ID": "4",
                                    "FOGLALAS_PK": "1127",
                                    "Időtartam": "3",
                                    "Előző időtartama": "0"
                                },
                                {
                                    "SZOBA_ID": "4",
                                    "FOGLALAS_PK": "946",
                                    "Időtartam": "5",
                                    "Előző időtartama": "3"
                                },
                                {
                                    "SZOBA_ID": "4",
                                    "FOGLALAS_PK": "1492",
                                    "Időtartam": "6",
                                    "Előző időtartama": "5"
                                },
                                {
                                    "SZOBA_ID": "4",
                                    "FOGLALAS_PK": "1132",
                                    "Időtartam": "6",
                                    "Előző időtartama": "6"
                                },
                                {
                                    "SZOBA_ID": "4",
                                    "FOGLALAS_PK": "1001",
                                    "Időtartam": "7",
                                    "Előző időtartama": "6"
                                },
                                {
                                    "SZOBA_ID": "4",
                                    "FOGLALAS_PK": "651",
                                    "Időtartam": "7",
                                    "Előző időtartama": "7"
                                },
                                {
                                    "SZOBA_ID": "5",
                                    "FOGLALAS_PK": "564",
                                    "Időtartam": "2",
                                    "Előző időtartama": "0"
                                },
                                {
                                    "SZOBA_ID": "5",
                                    "FOGLALAS_PK": "1257",
                                    "Időtartam": "3",
                                    "Előző időtartama": "2"
                                },
                                {
                                    "SZOBA_ID": "5",
                                    "FOGLALAS_PK": "1073",
                                    "Időtartam": "5",
                                    "Előző időtartama": "3"
                                },
                                {
                                    "SZOBA_ID": "5",
                                    "FOGLALAS_PK": "965",
                                    "Időtartam": "7",
                                    "Előző időtartama": "5"
                                },
                                {
                                    "SZOBA_ID": "6",
                                    "FOGLALAS_PK": "850",
                                    "Időtartam": "2",
                                    "Előző időtartama": "0"
                                },
                                {
                                    "SZOBA_ID": "6",
                                    "FOGLALAS_PK": "873",
                                    "Időtartam": "3",
                                    "Előző időtartama": "2"
                                },
                                {
                                    "SZOBA_ID": "6",
                                    "FOGLALAS_PK": "1099",
                                    "Időtartam": "4",
                                    "Előző időtartama": "3"
                                },
                                {
                                    "SZOBA_ID": "6",
                                    "FOGLALAS_PK": "990",
                                    "Időtartam": "4",
                                    "Előző időtartama": "4"
                                },
                                {
                                    "SZOBA_ID": "6",
                                    "FOGLALAS_PK": "560",
                                    "Időtartam": "6",
                                    "Előző időtartama": "4"
                                },
                                {
                                    "SZOBA_ID": "6",
                                    "FOGLALAS_PK": "772",
                                    "Időtartam": "6",
                                    "Előző időtartama": "6"
                                },
                                {
                                    "SZOBA_ID": "7",
                                    "FOGLALAS_PK": "1131",
                                    "Időtartam": "1",
                                    "Előző időtartama": "0"
                                },
                                {
                                    "SZOBA_ID": "7",
                                    "FOGLALAS_PK": "1252",
                                    "Időtartam": "2",
                                    "Előző időtartama": "1"
                                },
                                {
                                    "SZOBA_ID": "7",
                                    "FOGLALAS_PK": "1175",
                                    "Időtartam": "4",
                                    "Előző időtartama": "2"
                                },
                                {
                                    "SZOBA_ID": "7",
                                    "FOGLALAS_PK": "1182",
                                    "Időtartam": "4",
                                    "Előző időtartama": "4"
                                },
                                {
                                    "SZOBA_ID": "7",
                                    "FOGLALAS_PK": "562",
                                    "Időtartam": "4",
                                    "Előző időtartama": "4"
                                },
                                {
                                    "SZOBA_ID": "7",
                                    "FOGLALAS_PK": "759",
                                    "Időtartam": "7",
                                    "Előző időtartama": "4"
                                },
                                {
                                    "SZOBA_ID": "8",
                                    "FOGLALAS_PK": "882",
                                    "Időtartam": "1",
                                    "Előző időtartama": "0"
                                },
                                {
                                    "SZOBA_ID": "8",
                                    "FOGLALAS_PK": "947",
                                    "Időtartam": "3",
                                    "Előző időtartama": "1"
                                },
                                {
                                    "SZOBA_ID": "8",
                                    "FOGLALAS_PK": "832",
                                    "Időtartam": "4",
                                    "Előző időtartama": "3"
                                },
                                {
                                    "SZOBA_ID": "8",
                                    "FOGLALAS_PK": "818",
                                    "Időtartam": "4",
                                    "Előző időtartama": "4"
                                },
                                {
                                    "SZOBA_ID": "8",
                                    "FOGLALAS_PK": "694",
                                    "Időtartam": "4",
                                    "Előző időtartama": "4"
                                },
                                {
                                    "SZOBA_ID": "9",
                                    "FOGLALAS_PK": "609",
                                    "Időtartam": "2",
                                    "Előző időtartama": "0"
                                },
                                {
                                    "SZOBA_ID": "9",
                                    "FOGLALAS_PK": "1220",
                                    "Időtartam": "3",
                                    "Előző időtartama": "2"
                                },
                                {
                                    "SZOBA_ID": "9",
                                    "FOGLALAS_PK": "1537",
                                    "Időtartam": "3",
                                    "Előző időtartama": "3"
                                },
                                {
                                    "SZOBA_ID": "9",
                                    "FOGLALAS_PK": "1423",
                                    "Időtartam": "3",
                                    "Előző időtartama": "3"
                                },
                                {
                                    "SZOBA_ID": "9",
                                    "FOGLALAS_PK": "1260",
                                    "Időtartam": "6",
                                    "Előző időtartama": "3"
                                },
                                {
                                    "SZOBA_ID": "9",
                                    "FOGLALAS_PK": "1157",
                                    "Időtartam": "6",
                                    "Előző időtartama": "6"
                                },
                                {
                                    "SZOBA_ID": "10",
                                    "FOGLALAS_PK": "569",
                                    "Időtartam": "3",
                                    "Előző időtartama": "0"
                                },
                                {
                                    "SZOBA_ID": "10",
                                    "FOGLALAS_PK": "795",
                                    "Időtartam": "4",
                                    "Előző időtartama": "3"
                                },
                                {
                                    "SZOBA_ID": "10",
                                    "FOGLALAS_PK": "790",
                                    "Időtartam": "5",
                                    "Előző időtartama": "4"
                                },
                                {
                                    "SZOBA_ID": "10",
                                    "FOGLALAS_PK": "1319",
                                    "Időtartam": "6",
                                    "Előző időtartama": "5"
                                },
                                {
                                    "SZOBA_ID": "11",
                                    "FOGLALAS_PK": "1236",
                                    "Időtartam": "1",
                                    "Előző időtartama": "0"
                                },
                                {
                                    "SZOBA_ID": "11",
                                    "FOGLALAS_PK": "1523",
                                    "Időtartam": "1",
                                    "Előző időtartama": "1"
                                },
                                {
                                    "SZOBA_ID": "11",
                                    "FOGLALAS_PK": "1123",
                                    "Időtartam": "5",
                                    "Előző időtartama": "1"
                                },
                                {
                                    "SZOBA_ID": "11",
                                    "FOGLALAS_PK": "918",
                                    "Időtartam": "6",
                                    "Előző időtartama": "5"
                                },
                                {
                                    "SZOBA_ID": "12",
                                    "FOGLALAS_PK": "970",
                                    "Időtartam": "2",
                                    "Előző időtartama": "0"
                                },
                                {
                                    "SZOBA_ID": "12",
                                    "FOGLALAS_PK": "697",
                                    "Időtartam": "2",
                                    "Előző időtartama": "2"
                                },
                                {
                                    "SZOBA_ID": "12",
                                    "FOGLALAS_PK": "1430",
                                    "Időtartam": "2",
                                    "Előző időtartama": "2"
                                },
                                {
                                    "SZOBA_ID": "12",
                                    "FOGLALAS_PK": "1140",
                                    "Időtartam": "3",
                                    "Előző időtartama": "2"
                                },
                                {
                                    "SZOBA_ID": "12",
                                    "FOGLALAS_PK": "951",
                                    "Időtartam": "3",
                                    "Előző időtartama": "3"
                                },
                                {
                                    "SZOBA_ID": "12",
                                    "FOGLALAS_PK": "775",
                                    "Időtartam": "4",
                                    "Előző időtartama": "3"
                                },
                                {
                                    "SZOBA_ID": "12",
                                    "FOGLALAS_PK": "1020",
                                    "Időtartam": "5",
                                    "Előző időtartama": "4"
                                },
                                {
                                    "SZOBA_ID": "12",
                                    "FOGLALAS_PK": "1164",
                                    "Időtartam": "5",
                                    "Előző időtartama": "5"
                                },
                                {
                                    "SZOBA_ID": "12",
                                    "FOGLALAS_PK": "876",
                                    "Időtartam": "7",
                                    "Előző időtartama": "5"
                                },
                                {
                                    "SZOBA_ID": "13",
                                    "FOGLALAS_PK": "1469",
                                    "Időtartam": "2",
                                    "Előző időtartama": "0"
                                },
                                {
                                    "SZOBA_ID": "13",
                                    "FOGLALAS_PK": "1347",
                                    "Időtartam": "3",
                                    "Előző időtartama": "2"
                                },
                                {
                                    "SZOBA_ID": "13",
                                    "FOGLALAS_PK": "763",
                                    "Időtartam": "4",
                                    "Előző időtartama": "3"
                                },
                                {
                                    "SZOBA_ID": "13",
                                    "FOGLALAS_PK": "1044",
                                    "Időtartam": "6",
                                    "Előző időtartama": "4"
                                },
                                {
                                    "SZOBA_ID": "14",
                                    "FOGLALAS_PK": "663",
                                    "Időtartam": "1",
                                    "Előző időtartama": "0"
                                },
                                {
                                    "SZOBA_ID": "14",
                                    "FOGLALAS_PK": "813",
                                    "Időtartam": "3",
                                    "Előző időtartama": "1"
                                },
                                {
                                    "SZOBA_ID": "14",
                                    "FOGLALAS_PK": "1542",
                                    "Időtartam": "4",
                                    "Előző időtartama": "3"
                                },
                                {
                                    "SZOBA_ID": "15",
                                    "FOGLALAS_PK": "1244",
                                    "Időtartam": "1",
                                    "Előző időtartama": "0"
                                },
                                {
                                    "SZOBA_ID": "15",
                                    "FOGLALAS_PK": "1028",
                                    "Időtartam": "2",
                                    "Előző időtartama": "1"
                                },
                                {
                                    "SZOBA_ID": "15",
                                    "FOGLALAS_PK": "1442",
                                    "Időtartam": "3",
                                    "Előző időtartama": "2"
                                },
                                {
                                    "SZOBA_ID": "15",
                                    "FOGLALAS_PK": "1129",
                                    "Időtartam": "4",
                                    "Előző időtartama": "3"
                                },
                                {
                                    "SZOBA_ID": "15",
                                    "FOGLALAS_PK": "1418",
                                    "Időtartam": "4",
                                    "Előző időtartama": "4"
                                },
                                {
                                    "SZOBA_ID": "15",
                                    "FOGLALAS_PK": "791",
                                    "Időtartam": "5",
                                    "Előző időtartama": "4"
                                },
                                {
                                    "SZOBA_ID": "16",
                                    "FOGLALAS_PK": "896",
                                    "Időtartam": "1",
                                    "Előző időtartama": "0"
                                },
                                {
                                    "SZOBA_ID": "16",
                                    "FOGLALAS_PK": "973",
                                    "Időtartam": "1",
                                    "Előző időtartama": "1"
                                },
                                {
                                    "SZOBA_ID": "16",
                                    "FOGLALAS_PK": "687",
                                    "Időtartam": "3",
                                    "Előző időtartama": "1"
                                },
                                {
                                    "SZOBA_ID": "16",
                                    "FOGLALAS_PK": "856",
                                    "Időtartam": "6",
                                    "Előző időtartama": "3"
                                },
                                {
                                    "SZOBA_ID": "16",
                                    "FOGLALAS_PK": "1498",
                                    "Időtartam": "7",
                                    "Előző időtartama": "6"
                                },
                                {
                                    "SZOBA_ID": "17",
                                    "FOGLALAS_PK": "744",
                                    "Időtartam": "1",
                                    "Előző időtartama": "0"
                                },
                                {
                                    "SZOBA_ID": "17",
                                    "FOGLALAS_PK": "916",
                                    "Időtartam": "2",
                                    "Előző időtartama": "1"
                                },
                                {
                                    "SZOBA_ID": "17",
                                    "FOGLALAS_PK": "1549",
                                    "Időtartam": "3",
                                    "Előző időtartama": "2"
                                },
                                {
                                    "SZOBA_ID": "17",
                                    "FOGLALAS_PK": "1316",
                                    "Időtartam": "5",
                                    "Előző időtartama": "3"
                                },
                                {
                                    "SZOBA_ID": "17",
                                    "FOGLALAS_PK": "713",
                                    "Időtartam": "6",
                                    "Előző időtartama": "5"
                                },
                                {
                                    "SZOBA_ID": "17",
                                    "FOGLALAS_PK": "602",
                                    "Időtartam": "6",
                                    "Előző időtartama": "6"
                                },
                                {
                                    "SZOBA_ID": "18",
                                    "FOGLALAS_PK": "626",
                                    "Időtartam": "3",
                                    "Előző időtartama": "0"
                                },
                                {
                                    "SZOBA_ID": "18",
                                    "FOGLALAS_PK": "767",
                                    "Időtartam": "3",
                                    "Előző időtartama": "3"
                                },
                                {
                                    "SZOBA_ID": "18",
                                    "FOGLALAS_PK": "1198",
                                    "Időtartam": "4",
                                    "Előző időtartama": "3"
                                },
                                {
                                    "SZOBA_ID": "18",
                                    "FOGLALAS_PK": "1173",
                                    "Időtartam": "6",
                                    "Előző időtartama": "4"
                                },
                                {
                                    "SZOBA_ID": "18",
                                    "FOGLALAS_PK": "1505",
                                    "Időtartam": "6",
                                    "Előző időtartama": "6"
                                },
                                {
                                    "SZOBA_ID": "18",
                                    "FOGLALAS_PK": "1035",
                                    "Időtartam": "6",
                                    "Előző időtartama": "6"
                                },
                                {
                                    "SZOBA_ID": "19",
                                    "FOGLALAS_PK": "778",
                                    "Időtartam": "1",
                                    "Előző időtartama": "0"
                                },
                                {
                                    "SZOBA_ID": "19",
                                    "FOGLALAS_PK": "696",
                                    "Időtartam": "1",
                                    "Előző időtartama": "1"
                                },
                                {
                                    "SZOBA_ID": "19",
                                    "FOGLALAS_PK": "1533",
                                    "Időtartam": "1",
                                    "Előző időtartama": "1"
                                },
                                {
                                    "SZOBA_ID": "19",
                                    "FOGLALAS_PK": "1237",
                                    "Időtartam": "1",
                                    "Előző időtartama": "1"
                                },
                                {
                                    "SZOBA_ID": "19",
                                    "FOGLALAS_PK": "948",
                                    "Időtartam": "2",
                                    "Előző időtartama": "1"
                                },
                                {
                                    "SZOBA_ID": "19",
                                    "FOGLALAS_PK": "1139",
                                    "Időtartam": "7",
                                    "Előző időtartama": "2"
                                },
                                {
                                    "SZOBA_ID": "20",
                                    "FOGLALAS_PK": "1070",
                                    "Időtartam": "1",
                                    "Előző időtartama": "0"
                                },
                                {
                                    "SZOBA_ID": "20",
                                    "FOGLALAS_PK": "820",
                                    "Időtartam": "1",
                                    "Előző időtartama": "1"
                                },
                                {
                                    "SZOBA_ID": "20",
                                    "FOGLALAS_PK": "1106",
                                    "Időtartam": "2",
                                    "Előző időtartama": "1"
                                },
                                {
                                    "SZOBA_ID": "20",
                                    "FOGLALAS_PK": "1114",
                                    "Időtartam": "5",
                                    "Előző időtartama": "2"
                                },
                                {
                                    "SZOBA_ID": "20",
                                    "FOGLALAS_PK": "755",
                                    "Időtartam": "6",
                                    "Előző időtartama": "5"
                                },
                                {
                                    "SZOBA_ID": "21",
                                    "FOGLALAS_PK": "805",
                                    "Időtartam": "1",
                                    "Előző időtartama": "0"
                                },
                                {
                                    "SZOBA_ID": "21",
                                    "FOGLALAS_PK": "660",
                                    "Időtartam": "5",
                                    "Előző időtartama": "1"
                                },
                                {
                                    "SZOBA_ID": "21",
                                    "FOGLALAS_PK": "566",
                                    "Időtartam": "6",
                                    "Előző időtartama": "5"
                                },
                                {
                                    "SZOBA_ID": "21",
                                    "FOGLALAS_PK": "1212",
                                    "Időtartam": "6",
                                    "Előző időtartama": "6"
                                },
                                {
                                    "SZOBA_ID": "22",
                                    "FOGLALAS_PK": "1130",
                                    "Időtartam": "1",
                                    "Előző időtartama": "0"
                                },
                                {
                                    "SZOBA_ID": "22",
                                    "FOGLALAS_PK": "906",
                                    "Időtartam": "1",
                                    "Előző időtartama": "1"
                                },
                                {
                                    "SZOBA_ID": "22",
                                    "FOGLALAS_PK": "1005",
                                    "Időtartam": "3",
                                    "Előző időtartama": "1"
                                },
                                {
                                    "SZOBA_ID": "22",
                                    "FOGLALAS_PK": "1287",
                                    "Időtartam": "3",
                                    "Előző időtartama": "3"
                                },
                                {
                                    "SZOBA_ID": "22",
                                    "FOGLALAS_PK": "1195",
                                    "Időtartam": "6",
                                    "Előző időtartama": "3"
                                },
                                {
                                    "SZOBA_ID": "22",
                                    "FOGLALAS_PK": "1206",
                                    "Időtartam": "7",
                                    "Előző időtartama": "6"
                                },
                                {
                                    "SZOBA_ID": "23",
                                    "FOGLALAS_PK": "848",
                                    "Időtartam": "1",
                                    "Előző időtartama": "0"
                                },
                                {
                                    "SZOBA_ID": "23",
                                    "FOGLALAS_PK": "934",
                                    "Időtartam": "1",
                                    "Előző időtartama": "1"
                                },
                                {
                                    "SZOBA_ID": "23",
                                    "FOGLALAS_PK": "945",
                                    "Időtartam": "7",
                                    "Előző időtartama": "1"
                                },
                                {
                                    "SZOBA_ID": "24",
                                    "FOGLALAS_PK": "1167",
                                    "Időtartam": "1",
                                    "Előző időtartama": "0"
                                },
                                {
                                    "SZOBA_ID": "24",
                                    "FOGLALAS_PK": "852",
                                    "Időtartam": "2",
                                    "Előző időtartama": "1"
                                },
                                {
                                    "SZOBA_ID": "24",
                                    "FOGLALAS_PK": "1415",
                                    "Időtartam": "3",
                                    "Előző időtartama": "2"
                                },
                                {
                                    "SZOBA_ID": "25",
                                    "FOGLALAS_PK": "1362",
                                    "Időtartam": "2",
                                    "Előző időtartama": "0"
                                },
                                {
                                    "SZOBA_ID": "25",
                                    "FOGLALAS_PK": "1052",
                                    "Időtartam": "3",
                                    "Előző időtartama": "2"
                                },
                                {
                                    "SZOBA_ID": "26",
                                    "FOGLALAS_PK": "1158",
                                    "Időtartam": "2",
                                    "Előző időtartama": "0"
                                },
                                {
                                    "SZOBA_ID": "26",
                                    "FOGLALAS_PK": "1388",
                                    "Időtartam": "3",
                                    "Előző időtartama": "2"
                                },
                                {
                                    "SZOBA_ID": "27",
                                    "FOGLALAS_PK": "1377",
                                    "Időtartam": "1",
                                    "Előző időtartama": "0"
                                },
                                {
                                    "SZOBA_ID": "27",
                                    "FOGLALAS_PK": "1476",
                                    "Időtartam": "1",
                                    "Előző időtartama": "1"
                                },
                                {
                                    "SZOBA_ID": "27",
                                    "FOGLALAS_PK": "1031",
                                    "Időtartam": "2",
                                    "Előző időtartama": "1"
                                },
                                {
                                    "SZOBA_ID": "27",
                                    "FOGLALAS_PK": "807",
                                    "Időtartam": "2",
                                    "Előző időtartama": "2"
                                },
                                {
                                    "SZOBA_ID": "27",
                                    "FOGLALAS_PK": "758",
                                    "Időtartam": "3",
                                    "Előző időtartama": "2"
                                },
                                {
                                    "SZOBA_ID": "27",
                                    "FOGLALAS_PK": "1082",
                                    "Időtartam": "5",
                                    "Előző időtartama": "3"
                                },
                                {
                                    "SZOBA_ID": "27",
                                    "FOGLALAS_PK": "1275",
                                    "Időtartam": "6",
                                    "Előző időtartama": "5"
                                },
                                {
                                    "SZOBA_ID": "28",
                                    "FOGLALAS_PK": "1459",
                                    "Időtartam": "2",
                                    "Előző időtartama": "0"
                                },
                                {
                                    "SZOBA_ID": "28",
                                    "FOGLALAS_PK": "901",
                                    "Időtartam": "4",
                                    "Előző időtartama": "2"
                                },
                                {
                                    "SZOBA_ID": "28",
                                    "FOGLALAS_PK": "886",
                                    "Időtartam": "4",
                                    "Előző időtartama": "4"
                                },
                                {
                                    "SZOBA_ID": "28",
                                    "FOGLALAS_PK": "872",
                                    "Időtartam": "5",
                                    "Előző időtartama": "4"
                                },
                                {
                                    "SZOBA_ID": "28",
                                    "FOGLALAS_PK": "725",
                                    "Időtartam": "5",
                                    "Előző időtartama": "5"
                                },
                                {
                                    "SZOBA_ID": "28",
                                    "FOGLALAS_PK": "1150",
                                    "Időtartam": "6",
                                    "Előző időtartama": "5"
                                },
                                {
                                    "SZOBA_ID": "29",
                                    "FOGLALAS_PK": "894",
                                    "Időtartam": "1",
                                    "Előző időtartama": "0"
                                },
                                {
                                    "SZOBA_ID": "29",
                                    "FOGLALAS_PK": "611",
                                    "Időtartam": "5",
                                    "Előző időtartama": "1"
                                },
                                {
                                    "SZOBA_ID": "29",
                                    "FOGLALAS_PK": "1185",
                                    "Időtartam": "5",
                                    "Előző időtartama": "5"
                                },
                                {
                                    "SZOBA_ID": "29",
                                    "FOGLALAS_PK": "1235",
                                    "Időtartam": "7",
                                    "Előző időtartama": "5"
                                },
                                {
                                    "SZOBA_ID": "29",
                                    "FOGLALAS_PK": "1568",
                                    "Időtartam": "7",
                                    "Előző időtartama": "7"
                                },
                                {
                                    "SZOBA_ID": "29",
                                    "FOGLALAS_PK": "1076",
                                    "Időtartam": "7",
                                    "Előző időtartama": "7"
                                },
                                {
                                    "SZOBA_ID": "30",
                                    "FOGLALAS_PK": "604",
                                    "Időtartam": "2",
                                    "Előző időtartama": "0"
                                },
                                {
                                    "SZOBA_ID": "30",
                                    "FOGLALAS_PK": "1136",
                                    "Időtartam": "5",
                                    "Előző időtartama": "2"
                                },
                                {
                                    "SZOBA_ID": "30",
                                    "FOGLALAS_PK": "1023",
                                    "Időtartam": "7",
                                    "Előző időtartama": "5"
                                },
                                {
                                    "SZOBA_ID": "31",
                                    "FOGLALAS_PK": "606",
                                    "Időtartam": "1",
                                    "Előző időtartama": "0"
                                },
                                {
                                    "SZOBA_ID": "31",
                                    "FOGLALAS_PK": "598",
                                    "Időtartam": "2",
                                    "Előző időtartama": "1"
                                },
                                {
                                    "SZOBA_ID": "31",
                                    "FOGLALAS_PK": "728",
                                    "Időtartam": "4",
                                    "Előző időtartama": "2"
                                },
                                {
                                    "SZOBA_ID": "32",
                                    "FOGLALAS_PK": "920",
                                    "Időtartam": "4",
                                    "Előző időtartama": "0"
                                },
                                {
                                    "SZOBA_ID": "33",
                                    "FOGLALAS_PK": "1053",
                                    "Időtartam": "1",
                                    "Előző időtartama": "0"
                                },
                                {
                                    "SZOBA_ID": "33",
                                    "FOGLALAS_PK": "1321",
                                    "Időtartam": "4",
                                    "Előző időtartama": "1"
                                },
                                {
                                    "SZOBA_ID": "33",
                                    "FOGLALAS_PK": "1344",
                                    "Időtartam": "5",
                                    "Előző időtartama": "4"
                                },
                                {
                                    "SZOBA_ID": "33",
                                    "FOGLALAS_PK": "1381",
                                    "Időtartam": "6",
                                    "Előző időtartama": "5"
                                },
                                {
                                    "SZOBA_ID": "33",
                                    "FOGLALAS_PK": "624",
                                    "Időtartam": "6",
                                    "Előző időtartama": "6"
                                },
                                {
                                    "SZOBA_ID": "33",
                                    "FOGLALAS_PK": "1012",
                                    "Időtartam": "7",
                                    "Előző időtartama": "6"
                                },
                                {
                                    "SZOBA_ID": "34",
                                    "FOGLALAS_PK": "821",
                                    "Időtartam": "1",
                                    "Előző időtartama": "0"
                                },
                                {
                                    "SZOBA_ID": "34",
                                    "FOGLALAS_PK": "904",
                                    "Időtartam": "2",
                                    "Előző időtartama": "1"
                                },
                                {
                                    "SZOBA_ID": "34",
                                    "FOGLALAS_PK": "777",
                                    "Időtartam": "3",
                                    "Előző időtartama": "2"
                                },
                                {
                                    "SZOBA_ID": "34",
                                    "FOGLALAS_PK": "870",
                                    "Időtartam": "6",
                                    "Előző időtartama": "3"
                                },
                                {
                                    "SZOBA_ID": "35",
                                    "FOGLALAS_PK": "1411",
                                    "Időtartam": "1",
                                    "Előző időtartama": "0"
                                },
                                {
                                    "SZOBA_ID": "35",
                                    "FOGLALAS_PK": "1436",
                                    "Időtartam": "1",
                                    "Előző időtartama": "1"
                                },
                                {
                                    "SZOBA_ID": "35",
                                    "FOGLALAS_PK": "829",
                                    "Időtartam": "2",
                                    "Előző időtartama": "1"
                                },
                                {
                                    "SZOBA_ID": "35",
                                    "FOGLALAS_PK": "707",
                                    "Időtartam": "2",
                                    "Előző időtartama": "2"
                                },
                                {
                                    "SZOBA_ID": "35",
                                    "FOGLALAS_PK": "971",
                                    "Időtartam": "3",
                                    "Előző időtartama": "2"
                                },
                                {
                                    "SZOBA_ID": "35",
                                    "FOGLALAS_PK": "1529",
                                    "Időtartam": "4",
                                    "Előző időtartama": "3"
                                },
                                {
                                    "SZOBA_ID": "35",
                                    "FOGLALAS_PK": "686",
                                    "Időtartam": "6",
                                    "Előző időtartama": "4"
                                },
                                {
                                    "SZOBA_ID": "35",
                                    "FOGLALAS_PK": "979",
                                    "Időtartam": "7",
                                    "Előző időtartama": "6"
                                },
                                {
                                    "SZOBA_ID": "35",
                                    "FOGLALAS_PK": "1480",
                                    "Időtartam": "37",
                                    "Előző időtartama": "7"
                                },
                                {
                                    "SZOBA_ID": "36",
                                    "FOGLALAS_PK": "919",
                                    "Időtartam": "1",
                                    "Előző időtartama": "0"
                                },
                                {
                                    "SZOBA_ID": "36",
                                    "FOGLALAS_PK": "748",
                                    "Időtartam": "2",
                                    "Előző időtartama": "1"
                                },
                                {
                                    "SZOBA_ID": "36",
                                    "FOGLALAS_PK": "1003",
                                    "Időtartam": "4",
                                    "Előző időtartama": "2"
                                },
                                {
                                    "SZOBA_ID": "36",
                                    "FOGLALAS_PK": "895",
                                    "Időtartam": "5",
                                    "Előző időtartama": "4"
                                },
                                {
                                    "SZOBA_ID": "36",
                                    "FOGLALAS_PK": "985",
                                    "Időtartam": "6",
                                    "Előző időtartama": "5"
                                },
                                {
                                    "SZOBA_ID": "36",
                                    "FOGLALAS_PK": "750",
                                    "Időtartam": "6",
                                    "Előző időtartama": "6"
                                },
                                {
                                    "SZOBA_ID": "37",
                                    "FOGLALAS_PK": "688",
                                    "Időtartam": "2",
                                    "Előző időtartama": "0"
                                },
                                {
                                    "SZOBA_ID": "37",
                                    "FOGLALAS_PK": "705",
                                    "Időtartam": "4",
                                    "Előző időtartama": "2"
                                },
                                {
                                    "SZOBA_ID": "37",
                                    "FOGLALAS_PK": "1335",
                                    "Időtartam": "7",
                                    "Előző időtartama": "4"
                                },
                                {
                                    "SZOBA_ID": "38",
                                    "FOGLALAS_PK": "1033",
                                    "Időtartam": "2",
                                    "Előző időtartama": "0"
                                },
                                {
                                    "SZOBA_ID": "38",
                                    "FOGLALAS_PK": "1060",
                                    "Időtartam": "2",
                                    "Előző időtartama": "2"
                                },
                                {
                                    "SZOBA_ID": "38",
                                    "FOGLALAS_PK": "1351",
                                    "Időtartam": "4",
                                    "Előző időtartama": "2"
                                },
                                {
                                    "SZOBA_ID": "38",
                                    "FOGLALAS_PK": "1478",
                                    "Időtartam": "4",
                                    "Előző időtartama": "4"
                                },
                                {
                                    "SZOBA_ID": "38",
                                    "FOGLALAS_PK": "1416",
                                    "Időtartam": "5",
                                    "Előző időtartama": "4"
                                },
                                {
                                    "SZOBA_ID": "38",
                                    "FOGLALAS_PK": "1556",
                                    "Időtartam": "6",
                                    "Előző időtartama": "5"
                                },
                                {
                                    "SZOBA_ID": "38",
                                    "FOGLALAS_PK": "627",
                                    "Időtartam": "6",
                                    "Előző időtartama": "6"
                                },
                                {
                                    "SZOBA_ID": "38",
                                    "FOGLALAS_PK": "1078",
                                    "Időtartam": "7",
                                    "Előző időtartama": "6"
                                },
                                {
                                    "SZOBA_ID": "39",
                                    "FOGLALAS_PK": "1454",
                                    "Időtartam": "1",
                                    "Előző időtartama": "0"
                                },
                                {
                                    "SZOBA_ID": "39",
                                    "FOGLALAS_PK": "1538",
                                    "Időtartam": "2",
                                    "Előző időtartama": "1"
                                },
                                {
                                    "SZOBA_ID": "39",
                                    "FOGLALAS_PK": "1380",
                                    "Időtartam": "5",
                                    "Előző időtartama": "2"
                                },
                                {
                                    "SZOBA_ID": "39",
                                    "FOGLALAS_PK": "1214",
                                    "Időtartam": "5",
                                    "Előző időtartama": "5"
                                },
                                {
                                    "SZOBA_ID": "39",
                                    "FOGLALAS_PK": "899",
                                    "Időtartam": "6",
                                    "Előző időtartama": "5"
                                },
                                {
                                    "SZOBA_ID": "39",
                                    "FOGLALAS_PK": "601",
                                    "Időtartam": "6",
                                    "Előző időtartama": "6"
                                },
                                {
                                    "SZOBA_ID": "39",
                                    "FOGLALAS_PK": "1435",
                                    "Időtartam": "7",
                                    "Előző időtartama": "6"
                                },
                                {
                                    "SZOBA_ID": "40",
                                    "FOGLALAS_PK": "924",
                                    "Időtartam": "5",
                                    "Előző időtartama": "0"
                                },
                                {
                                    "SZOBA_ID": "40",
                                    "FOGLALAS_PK": "1118",
                                    "Időtartam": "5",
                                    "Előző időtartama": "5"
                                },
                                {
                                    "SZOBA_ID": "40",
                                    "FOGLALAS_PK": "1018",
                                    "Időtartam": "5",
                                    "Előző időtartama": "5"
                                },
                                {
                                    "SZOBA_ID": "40",
                                    "FOGLALAS_PK": "932",
                                    "Időtartam": "6",
                                    "Előző időtartama": "5"
                                },
                                {
                                    "SZOBA_ID": "41",
                                    "FOGLALAS_PK": "1144",
                                    "Időtartam": "1",
                                    "Előző időtartama": "0"
                                },
                                {
                                    "SZOBA_ID": "41",
                                    "FOGLALAS_PK": "960",
                                    "Időtartam": "6",
                                    "Előző időtartama": "1"
                                },
                                {
                                    "SZOBA_ID": "42",
                                    "FOGLALAS_PK": "1309",
                                    "Időtartam": "2",
                                    "Előző időtartama": "0"
                                },
                                {
                                    "SZOBA_ID": "42",
                                    "FOGLALAS_PK": "770",
                                    "Időtartam": "3",
                                    "Előző időtartama": "2"
                                },
                                {
                                    "SZOBA_ID": "42",
                                    "FOGLALAS_PK": "561",
                                    "Időtartam": "4",
                                    "Előző időtartama": "3"
                                },
                                {
                                    "SZOBA_ID": "42",
                                    "FOGLALAS_PK": "590",
                                    "Időtartam": "5",
                                    "Előző időtartama": "4"
                                },
                                {
                                    "SZOBA_ID": "42",
                                    "FOGLALAS_PK": "1444",
                                    "Időtartam": "6",
                                    "Előző időtartama": "5"
                                },
                                {
                                    "SZOBA_ID": "42",
                                    "FOGLALAS_PK": "851",
                                    "Időtartam": "7",
                                    "Előző időtartama": "6"
                                },
                                {
                                    "SZOBA_ID": "43",
                                    "FOGLALAS_PK": "1524",
                                    "Időtartam": "1",
                                    "Előző időtartama": "0"
                                },
                                {
                                    "SZOBA_ID": "43",
                                    "FOGLALAS_PK": "1207",
                                    "Időtartam": "1",
                                    "Előző időtartama": "1"
                                },
                                {
                                    "SZOBA_ID": "43",
                                    "FOGLALAS_PK": "1088",
                                    "Időtartam": "2",
                                    "Előző időtartama": "1"
                                },
                                {
                                    "SZOBA_ID": "43",
                                    "FOGLALAS_PK": "1019",
                                    "Időtartam": "4",
                                    "Előző időtartama": "2"
                                },
                                {
                                    "SZOBA_ID": "43",
                                    "FOGLALAS_PK": "670",
                                    "Időtartam": "4",
                                    "Előző időtartama": "4"
                                },
                                {
                                    "SZOBA_ID": "43",
                                    "FOGLALAS_PK": "1270",
                                    "Időtartam": "4",
                                    "Előző időtartama": "4"
                                },
                                {
                                    "SZOBA_ID": "43",
                                    "FOGLALAS_PK": "1227",
                                    "Időtartam": "5",
                                    "Előző időtartama": "4"
                                },
                                {
                                    "SZOBA_ID": "43",
                                    "FOGLALAS_PK": "1553",
                                    "Időtartam": "5",
                                    "Előző időtartama": "5"
                                },
                                {
                                    "SZOBA_ID": "44",
                                    "FOGLALAS_PK": "1552",
                                    "Időtartam": "2",
                                    "Előző időtartama": "0"
                                },
                                {
                                    "SZOBA_ID": "44",
                                    "FOGLALAS_PK": "1425",
                                    "Időtartam": "2",
                                    "Előző időtartama": "2"
                                },
                                {
                                    "SZOBA_ID": "44",
                                    "FOGLALAS_PK": "1295",
                                    "Időtartam": "2",
                                    "Előző időtartama": "2"
                                },
                                {
                                    "SZOBA_ID": "44",
                                    "FOGLALAS_PK": "589",
                                    "Időtartam": "2",
                                    "Előző időtartama": "2"
                                },
                                {
                                    "SZOBA_ID": "44",
                                    "FOGLALAS_PK": "823",
                                    "Időtartam": "2",
                                    "Előző időtartama": "2"
                                },
                                {
                                    "SZOBA_ID": "44",
                                    "FOGLALAS_PK": "658",
                                    "Időtartam": "6",
                                    "Előző időtartama": "2"
                                },
                                {
                                    "SZOBA_ID": "45",
                                    "FOGLALAS_PK": "1303",
                                    "Időtartam": "2",
                                    "Előző időtartama": "0"
                                },
                                {
                                    "SZOBA_ID": "45",
                                    "FOGLALAS_PK": "1135",
                                    "Időtartam": "3",
                                    "Előző időtartama": "2"
                                },
                                {
                                    "SZOBA_ID": "45",
                                    "FOGLALAS_PK": "846",
                                    "Időtartam": "3",
                                    "Előző időtartama": "3"
                                },
                                {
                                    "SZOBA_ID": "45",
                                    "FOGLALAS_PK": "800",
                                    "Időtartam": "5",
                                    "Előző időtartama": "3"
                                },
                                {
                                    "SZOBA_ID": "45",
                                    "FOGLALAS_PK": "802",
                                    "Időtartam": "7",
                                    "Előző időtartama": "5"
                                },
                                {
                                    "SZOBA_ID": "46",
                                    "FOGLALAS_PK": "1291",
                                    "Időtartam": "3",
                                    "Előző időtartama": "0"
                                },
                                {
                                    "SZOBA_ID": "46",
                                    "FOGLALAS_PK": "1515",
                                    "Időtartam": "4",
                                    "Előző időtartama": "3"
                                },
                                {
                                    "SZOBA_ID": "46",
                                    "FOGLALAS_PK": "752",
                                    "Időtartam": "5",
                                    "Előző időtartama": "4"
                                },
                                {
                                    "SZOBA_ID": "46",
                                    "FOGLALAS_PK": "1187",
                                    "Időtartam": "7",
                                    "Előző időtartama": "5"
                                },
                                {
                                    "SZOBA_ID": "47",
                                    "FOGLALAS_PK": "955",
                                    "Időtartam": "1",
                                    "Előző időtartama": "0"
                                },
                                {
                                    "SZOBA_ID": "47",
                                    "FOGLALAS_PK": "1056",
                                    "Időtartam": "7",
                                    "Előző időtartama": "1"
                                },
                                {
                                    "SZOBA_ID": "48",
                                    "FOGLALAS_PK": "1547",
                                    "Időtartam": "1",
                                    "Előző időtartama": "0"
                                },
                                {
                                    "SZOBA_ID": "48",
                                    "FOGLALAS_PK": "824",
                                    "Időtartam": "2",
                                    "Előző időtartama": "1"
                                },
                                {
                                    "SZOBA_ID": "48",
                                    "FOGLALAS_PK": "628",
                                    "Időtartam": "2",
                                    "Előző időtartama": "2"
                                },
                                {
                                    "SZOBA_ID": "48",
                                    "FOGLALAS_PK": "603",
                                    "Időtartam": "3",
                                    "Előző időtartama": "2"
                                },
                                {
                                    "SZOBA_ID": "48",
                                    "FOGLALAS_PK": "1546",
                                    "Időtartam": "3",
                                    "Előző időtartama": "3"
                                },
                                {
                                    "SZOBA_ID": "48",
                                    "FOGLALAS_PK": "1581",
                                    "Időtartam": "5",
                                    "Előző időtartama": "3"
                                },
                                {
                                    "SZOBA_ID": "48",
                                    "FOGLALAS_PK": "986",
                                    "Időtartam": "5",
                                    "Előző időtartama": "5"
                                },
                                {
                                    "SZOBA_ID": "48",
                                    "FOGLALAS_PK": "914",
                                    "Időtartam": "5",
                                    "Előző időtartama": "5"
                                },
                                {
                                    "SZOBA_ID": "48",
                                    "FOGLALAS_PK": "1243",
                                    "Időtartam": "6",
                                    "Előző időtartama": "5"
                                },
                                {
                                    "SZOBA_ID": "49",
                                    "FOGLALAS_PK": "1221",
                                    "Időtartam": "2",
                                    "Előző időtartama": "0"
                                },
                                {
                                    "SZOBA_ID": "49",
                                    "FOGLALAS_PK": "826",
                                    "Időtartam": "4",
                                    "Előző időtartama": "2"
                                },
                                {
                                    "SZOBA_ID": "49",
                                    "FOGLALAS_PK": "793",
                                    "Időtartam": "6",
                                    "Előző időtartama": "4"
                                },
                                {
                                    "SZOBA_ID": "49",
                                    "FOGLALAS_PK": "1536",
                                    "Időtartam": "6",
                                    "Előző időtartama": "6"
                                },
                                {
                                    "SZOBA_ID": "49",
                                    "FOGLALAS_PK": "1200",
                                    "Időtartam": "7",
                                    "Előző időtartama": "6"
                                },
                                {
                                    "SZOBA_ID": "49",
                                    "FOGLALAS_PK": "888",
                                    "Időtartam": "7",
                                    "Előző időtartama": "7"
                                },
                                {
                                    "SZOBA_ID": "49",
                                    "FOGLALAS_PK": "1066",
                                    "Időtartam": "7",
                                    "Előző időtartama": "7"
                                },
                                {
                                    "SZOBA_ID": "50",
                                    "FOGLALAS_PK": "1224",
                                    "Időtartam": "1",
                                    "Előző időtartama": "0"
                                },
                                {
                                    "SZOBA_ID": "50",
                                    "FOGLALAS_PK": "1272",
                                    "Időtartam": "1",
                                    "Előző időtartama": "1"
                                },
                                {
                                    "SZOBA_ID": "50",
                                    "FOGLALAS_PK": "1063",
                                    "Időtartam": "2",
                                    "Előző időtartama": "1"
                                },
                                {
                                    "SZOBA_ID": "50",
                                    "FOGLALAS_PK": "787",
                                    "Időtartam": "3",
                                    "Előző időtartama": "2"
                                },
                                {
                                    "SZOBA_ID": "51",
                                    "FOGLALAS_PK": "1550",
                                    "Időtartam": "1",
                                    "Előző időtartama": "0"
                                },
                                {
                                    "SZOBA_ID": "51",
                                    "FOGLALAS_PK": "811",
                                    "Időtartam": "2",
                                    "Előző időtartama": "1"
                                },
                                {
                                    "SZOBA_ID": "51",
                                    "FOGLALAS_PK": "1165",
                                    "Időtartam": "5",
                                    "Előző időtartama": "2"
                                },
                                {
                                    "SZOBA_ID": "51",
                                    "FOGLALAS_PK": "1477",
                                    "Időtartam": "6",
                                    "Előző időtartama": "5"
                                },
                                {
                                    "SZOBA_ID": "51",
                                    "FOGLALAS_PK": "865",
                                    "Időtartam": "7",
                                    "Előző időtartama": "6"
                                },
                                {
                                    "SZOBA_ID": "52",
                                    "FOGLALAS_PK": "1202",
                                    "Időtartam": "2",
                                    "Előző időtartama": "0"
                                },
                                {
                                    "SZOBA_ID": "52",
                                    "FOGLALAS_PK": "1258",
                                    "Időtartam": "5",
                                    "Előző időtartama": "2"
                                },
                                {
                                    "SZOBA_ID": "52",
                                    "FOGLALAS_PK": "1431",
                                    "Időtartam": "5",
                                    "Előző időtartama": "5"
                                },
                                {
                                    "SZOBA_ID": "52",
                                    "FOGLALAS_PK": "1534",
                                    "Időtartam": "5",
                                    "Előző időtartama": "5"
                                },
                                {
                                    "SZOBA_ID": "52",
                                    "FOGLALAS_PK": "822",
                                    "Időtartam": "7",
                                    "Előző időtartama": "5"
                                },
                                {
                                    "SZOBA_ID": "53",
                                    "FOGLALAS_PK": "855",
                                    "Időtartam": "1",
                                    "Előző időtartama": "0"
                                },
                                {
                                    "SZOBA_ID": "53",
                                    "FOGLALAS_PK": "987",
                                    "Időtartam": "4",
                                    "Előző időtartama": "1"
                                },
                                {
                                    "SZOBA_ID": "54",
                                    "FOGLALAS_PK": "668",
                                    "Időtartam": "1",
                                    "Előző időtartama": "0"
                                },
                                {
                                    "SZOBA_ID": "54",
                                    "FOGLALAS_PK": "889",
                                    "Időtartam": "2",
                                    "Előző időtartama": "1"
                                },
                                {
                                    "SZOBA_ID": "54",
                                    "FOGLALAS_PK": "1096",
                                    "Időtartam": "4",
                                    "Előző időtartama": "2"
                                },
                                {
                                    "SZOBA_ID": "54",
                                    "FOGLALAS_PK": "1328",
                                    "Időtartam": "4",
                                    "Előző időtartama": "4"
                                },
                                {
                                    "SZOBA_ID": "54",
                                    "FOGLALAS_PK": "642",
                                    "Időtartam": "5",
                                    "Előző időtartama": "4"
                                },
                                {
                                    "SZOBA_ID": "54",
                                    "FOGLALAS_PK": "622",
                                    "Időtartam": "7",
                                    "Előző időtartama": "5"
                                },
                                {
                                    "SZOBA_ID": "55",
                                    "FOGLALAS_PK": "1512",
                                    "Időtartam": "1",
                                    "Előző időtartama": "0"
                                },
                                {
                                    "SZOBA_ID": "55",
                                    "FOGLALAS_PK": "1520",
                                    "Időtartam": "1",
                                    "Előző időtartama": "1"
                                },
                                {
                                    "SZOBA_ID": "55",
                                    "FOGLALAS_PK": "1386",
                                    "Időtartam": "2",
                                    "Előző időtartama": "1"
                                },
                                {
                                    "SZOBA_ID": "55",
                                    "FOGLALAS_PK": "1163",
                                    "Időtartam": "2",
                                    "Előző időtartama": "2"
                                },
                                {
                                    "SZOBA_ID": "55",
                                    "FOGLALAS_PK": "1086",
                                    "Időtartam": "5",
                                    "Előző időtartama": "2"
                                },
                                {
                                    "SZOBA_ID": "55",
                                    "FOGLALAS_PK": "734",
                                    "Időtartam": "6",
                                    "Előző időtartama": "5"
                                },
                                {
                                    "SZOBA_ID": "55",
                                    "FOGLALAS_PK": "1327",
                                    "Időtartam": "6",
                                    "Előző időtartama": "6"
                                },
                                {
                                    "SZOBA_ID": "55",
                                    "FOGLALAS_PK": "1232",
                                    "Időtartam": "7",
                                    "Előző időtartama": "6"
                                },
                                {
                                    "SZOBA_ID": "56",
                                    "FOGLALAS_PK": "838",
                                    "Időtartam": "2",
                                    "Előző időtartama": "0"
                                },
                                {
                                    "SZOBA_ID": "56",
                                    "FOGLALAS_PK": "935",
                                    "Időtartam": "4",
                                    "Előző időtartama": "2"
                                },
                                {
                                    "SZOBA_ID": "57",
                                    "FOGLALAS_PK": "1389",
                                    "Időtartam": "1",
                                    "Előző időtartama": "0"
                                },
                                {
                                    "SZOBA_ID": "57",
                                    "FOGLALAS_PK": "1348",
                                    "Időtartam": "1",
                                    "Előző időtartama": "1"
                                },
                                {
                                    "SZOBA_ID": "57",
                                    "FOGLALAS_PK": "1504",
                                    "Időtartam": "4",
                                    "Előző időtartama": "1"
                                },
                                {
                                    "SZOBA_ID": "57",
                                    "FOGLALAS_PK": "1466",
                                    "Időtartam": "7",
                                    "Előző időtartama": "4"
                                },
                                {
                                    "SZOBA_ID": "58",
                                    "FOGLALAS_PK": "773",
                                    "Időtartam": "2",
                                    "Előző időtartama": "0"
                                },
                                {
                                    "SZOBA_ID": "58",
                                    "FOGLALAS_PK": "719",
                                    "Időtartam": "3",
                                    "Előző időtartama": "2"
                                },
                                {
                                    "SZOBA_ID": "58",
                                    "FOGLALAS_PK": "1113",
                                    "Időtartam": "3",
                                    "Előző időtartama": "3"
                                },
                                {
                                    "SZOBA_ID": "58",
                                    "FOGLALAS_PK": "1322",
                                    "Időtartam": "3",
                                    "Előző időtartama": "3"
                                },
                                {
                                    "SZOBA_ID": "58",
                                    "FOGLALAS_PK": "1293",
                                    "Időtartam": "3",
                                    "Előző időtartama": "3"
                                },
                                {
                                    "SZOBA_ID": "58",
                                    "FOGLALAS_PK": "883",
                                    "Időtartam": "5",
                                    "Előző időtartama": "3"
                                },
                                {
                                    "SZOBA_ID": "58",
                                    "FOGLALAS_PK": "1307",
                                    "Időtartam": "6",
                                    "Előző időtartama": "5"
                                },
                                {
                                    "SZOBA_ID": "58",
                                    "FOGLALAS_PK": "1208",
                                    "Időtartam": "6",
                                    "Előző időtartama": "6"
                                },
                                {
                                    "SZOBA_ID": "58",
                                    "FOGLALAS_PK": "1261",
                                    "Időtartam": "6",
                                    "Előző időtartama": "6"
                                },
                                {
                                    "SZOBA_ID": "58",
                                    "FOGLALAS_PK": "1186",
                                    "Időtartam": "6",
                                    "Előző időtartama": "6"
                                },
                                {
                                    "SZOBA_ID": "58",
                                    "FOGLALAS_PK": "1451",
                                    "Időtartam": "6",
                                    "Előző időtartama": "6"
                                },
                                {
                                    "SZOBA_ID": "58",
                                    "FOGLALAS_PK": "1255",
                                    "Időtartam": "7",
                                    "Előző időtartama": "6"
                                },
                                {
                                    "SZOBA_ID": "58",
                                    "FOGLALAS_PK": "1285",
                                    "Időtartam": "7",
                                    "Előző időtartama": "7"
                                },
                                {
                                    "SZOBA_ID": "59",
                                    "FOGLALAS_PK": "1573",
                                    "Időtartam": "1",
                                    "Előző időtartama": "0"
                                },
                                {
                                    "SZOBA_ID": "59",
                                    "FOGLALAS_PK": "1080",
                                    "Időtartam": "1",
                                    "Előző időtartama": "1"
                                },
                                {
                                    "SZOBA_ID": "59",
                                    "FOGLALAS_PK": "1084",
                                    "Időtartam": "2",
                                    "Előző időtartama": "1"
                                },
                                {
                                    "SZOBA_ID": "59",
                                    "FOGLALAS_PK": "1239",
                                    "Időtartam": "2",
                                    "Előző időtartama": "2"
                                },
                                {
                                    "SZOBA_ID": "59",
                                    "FOGLALAS_PK": "1288",
                                    "Időtartam": "3",
                                    "Előző időtartama": "2"
                                },
                                {
                                    "SZOBA_ID": "59",
                                    "FOGLALAS_PK": "1170",
                                    "Időtartam": "5",
                                    "Előző időtartama": "3"
                                },
                                {
                                    "SZOBA_ID": "59",
                                    "FOGLALAS_PK": "1191",
                                    "Időtartam": "6",
                                    "Előző időtartama": "5"
                                },
                                {
                                    "SZOBA_ID": "60",
                                    "FOGLALAS_PK": "676",
                                    "Időtartam": "2",
                                    "Előző időtartama": "0"
                                },
                                {
                                    "SZOBA_ID": "61",
                                    "FOGLALAS_PK": "701",
                                    "Időtartam": "2",
                                    "Előző időtartama": "0"
                                },
                                {
                                    "SZOBA_ID": "61",
                                    "FOGLALAS_PK": "1218",
                                    "Időtartam": "2",
                                    "Előző időtartama": "2"
                                },
                                {
                                    "SZOBA_ID": "61",
                                    "FOGLALAS_PK": "1148",
                                    "Időtartam": "3",
                                    "Előző időtartama": "2"
                                },
                                {
                                    "SZOBA_ID": "61",
                                    "FOGLALAS_PK": "756",
                                    "Időtartam": "6",
                                    "Előző időtartama": "3"
                                },
                                {
                                    "SZOBA_ID": "61",
                                    "FOGLALAS_PK": "1496",
                                    "Időtartam": "7",
                                    "Előző időtartama": "6"
                                },
                                {
                                    "SZOBA_ID": "62",
                                    "FOGLALAS_PK": "938",
                                    "Időtartam": "1",
                                    "Előző időtartama": "0"
                                },
                                {
                                    "SZOBA_ID": "62",
                                    "FOGLALAS_PK": "936",
                                    "Időtartam": "3",
                                    "Előző időtartama": "1"
                                },
                                {
                                    "SZOBA_ID": "62",
                                    "FOGLALAS_PK": "1426",
                                    "Időtartam": "4",
                                    "Előző időtartama": "3"
                                },
                                {
                                    "SZOBA_ID": "62",
                                    "FOGLALAS_PK": "702",
                                    "Időtartam": "5",
                                    "Előző időtartama": "4"
                                },
                                {
                                    "SZOBA_ID": "62",
                                    "FOGLALAS_PK": "1081",
                                    "Időtartam": "7",
                                    "Előző időtartama": "5"
                                },
                                {
                                    "SZOBA_ID": "63",
                                    "FOGLALAS_PK": "845",
                                    "Időtartam": "1",
                                    "Előző időtartama": "0"
                                },
                                {
                                    "SZOBA_ID": "63",
                                    "FOGLALAS_PK": "625",
                                    "Időtartam": "3",
                                    "Előző időtartama": "1"
                                },
                                {
                                    "SZOBA_ID": "63",
                                    "FOGLALAS_PK": "769",
                                    "Időtartam": "5",
                                    "Előző időtartama": "3"
                                },
                                {
                                    "SZOBA_ID": "63",
                                    "FOGLALAS_PK": "891",
                                    "Időtartam": "6",
                                    "Előző időtartama": "5"
                                },
                                {
                                    "SZOBA_ID": "64",
                                    "FOGLALAS_PK": "1582",
                                    "Időtartam": "1",
                                    "Előző időtartama": "0"
                                },
                                {
                                    "SZOBA_ID": "64",
                                    "FOGLALAS_PK": "875",
                                    "Időtartam": "2",
                                    "Előző időtartama": "1"
                                },
                                {
                                    "SZOBA_ID": "64",
                                    "FOGLALAS_PK": "1122",
                                    "Időtartam": "4",
                                    "Előző időtartama": "2"
                                },
                                {
                                    "SZOBA_ID": "64",
                                    "FOGLALAS_PK": "1465",
                                    "Időtartam": "4",
                                    "Előző időtartama": "4"
                                },
                                {
                                    "SZOBA_ID": "64",
                                    "FOGLALAS_PK": "1446",
                                    "Időtartam": "6",
                                    "Előző időtartama": "4"
                                },
                                {
                                    "SZOBA_ID": "64",
                                    "FOGLALAS_PK": "1233",
                                    "Időtartam": "7",
                                    "Előző időtartama": "6"
                                },
                                {
                                    "SZOBA_ID": "65",
                                    "FOGLALAS_PK": "650",
                                    "Időtartam": "6",
                                    "Előző időtartama": "0"
                                },
                                {
                                    "SZOBA_ID": "66",
                                    "FOGLALAS_PK": "736",
                                    "Időtartam": "3",
                                    "Előző időtartama": "0"
                                },
                                {
                                    "SZOBA_ID": "66",
                                    "FOGLALAS_PK": "950",
                                    "Időtartam": "3",
                                    "Előző időtartama": "3"
                                },
                                {
                                    "SZOBA_ID": "66",
                                    "FOGLALAS_PK": "1234",
                                    "Időtartam": "3",
                                    "Előző időtartama": "3"
                                },
                                {
                                    "SZOBA_ID": "66",
                                    "FOGLALAS_PK": "1264",
                                    "Időtartam": "4",
                                    "Előző időtartama": "3"
                                },
                                {
                                    "SZOBA_ID": "67",
                                    "FOGLALAS_PK": "1382",
                                    "Időtartam": "1",
                                    "Előző időtartama": "0"
                                },
                                {
                                    "SZOBA_ID": "67",
                                    "FOGLALAS_PK": "1584",
                                    "Időtartam": "1",
                                    "Előző időtartama": "1"
                                },
                                {
                                    "SZOBA_ID": "67",
                                    "FOGLALAS_PK": "1580",
                                    "Időtartam": "5",
                                    "Előző időtartama": "1"
                                },
                                {
                                    "SZOBA_ID": "67",
                                    "FOGLALAS_PK": "638",
                                    "Időtartam": "5",
                                    "Előző időtartama": "5"
                                },
                                {
                                    "SZOBA_ID": "67",
                                    "FOGLALAS_PK": "645",
                                    "Időtartam": "6",
                                    "Előző időtartama": "5"
                                },
                                {
                                    "SZOBA_ID": "67",
                                    "FOGLALAS_PK": "874",
                                    "Időtartam": "6",
                                    "Előző időtartama": "6"
                                },
                                {
                                    "SZOBA_ID": "68",
                                    "FOGLALAS_PK": "1324",
                                    "Időtartam": "4",
                                    "Előző időtartama": "0"
                                },
                                {
                                    "SZOBA_ID": "68",
                                    "FOGLALAS_PK": "563",
                                    "Időtartam": "5",
                                    "Előző időtartama": "4"
                                },
                                {
                                    "SZOBA_ID": "68",
                                    "FOGLALAS_PK": "1027",
                                    "Időtartam": "7",
                                    "Előző időtartama": "5"
                                },
                                {
                                    "SZOBA_ID": "69",
                                    "FOGLALAS_PK": "885",
                                    "Időtartam": "1",
                                    "Előző időtartama": "0"
                                },
                                {
                                    "SZOBA_ID": "69",
                                    "FOGLALAS_PK": "1055",
                                    "Időtartam": "5",
                                    "Előző időtartama": "1"
                                },
                                {
                                    "SZOBA_ID": "69",
                                    "FOGLALAS_PK": "1225",
                                    "Időtartam": "5",
                                    "Előző időtartama": "5"
                                },
                                {
                                    "SZOBA_ID": "69",
                                    "FOGLALAS_PK": "1246",
                                    "Időtartam": "7",
                                    "Előző időtartama": "5"
                                },
                                {
                                    "SZOBA_ID": "70",
                                    "FOGLALAS_PK": "860",
                                    "Időtartam": "2",
                                    "Előző időtartama": "0"
                                },
                                {
                                    "SZOBA_ID": "70",
                                    "FOGLALAS_PK": "1006",
                                    "Időtartam": "3",
                                    "Előző időtartama": "2"
                                },
                                {
                                    "SZOBA_ID": "70",
                                    "FOGLALAS_PK": "1126",
                                    "Időtartam": "3",
                                    "Előző időtartama": "3"
                                },
                                {
                                    "SZOBA_ID": "70",
                                    "FOGLALAS_PK": "1092",
                                    "Időtartam": "3",
                                    "Előző időtartama": "3"
                                },
                                {
                                    "SZOBA_ID": "70",
                                    "FOGLALAS_PK": "704",
                                    "Időtartam": "3",
                                    "Előző időtartama": "3"
                                },
                                {
                                    "SZOBA_ID": "70",
                                    "FOGLALAS_PK": "814",
                                    "Időtartam": "3",
                                    "Előző időtartama": "3"
                                },
                                {
                                    "SZOBA_ID": "70",
                                    "FOGLALAS_PK": "1365",
                                    "Időtartam": "3",
                                    "Előző időtartama": "3"
                                },
                                {
                                    "SZOBA_ID": "70",
                                    "FOGLALAS_PK": "585",
                                    "Időtartam": "5",
                                    "Előző időtartama": "3"
                                },
                                {
                                    "SZOBA_ID": "70",
                                    "FOGLALAS_PK": "1333",
                                    "Időtartam": "6",
                                    "Előző időtartama": "5"
                                },
                                {
                                    "SZOBA_ID": "70",
                                    "FOGLALAS_PK": "1325",
                                    "Időtartam": "7",
                                    "Előző időtartama": "6"
                                },
                                {
                                    "SZOBA_ID": "70",
                                    "FOGLALAS_PK": "1457",
                                    "Időtartam": "7",
                                    "Előző időtartama": "7"
                                },
                                {
                                    "SZOBA_ID": "71",
                                    "FOGLALAS_PK": "712",
                                    "Időtartam": "1",
                                    "Előző időtartama": "0"
                                },
                                {
                                    "SZOBA_ID": "71",
                                    "FOGLALAS_PK": "1009",
                                    "Időtartam": "1",
                                    "Előző időtartama": "1"
                                },
                                {
                                    "SZOBA_ID": "71",
                                    "FOGLALAS_PK": "681",
                                    "Időtartam": "3",
                                    "Előző időtartama": "1"
                                },
                                {
                                    "SZOBA_ID": "72",
                                    "FOGLALAS_PK": "1318",
                                    "Időtartam": "2",
                                    "Előző időtartama": "0"
                                },
                                {
                                    "SZOBA_ID": "72",
                                    "FOGLALAS_PK": "1396",
                                    "Időtartam": "3",
                                    "Előző időtartama": "2"
                                },
                                {
                                    "SZOBA_ID": "72",
                                    "FOGLALAS_PK": "902",
                                    "Időtartam": "5",
                                    "Előző időtartama": "3"
                                },
                                {
                                    "SZOBA_ID": "72",
                                    "FOGLALAS_PK": "961",
                                    "Időtartam": "6",
                                    "Előző időtartama": "5"
                                },
                                {
                                    "SZOBA_ID": "73",
                                    "FOGLALAS_PK": "1000",
                                    "Időtartam": "4",
                                    "Előző időtartama": "0"
                                },
                                {
                                    "SZOBA_ID": "73",
                                    "FOGLALAS_PK": "1331",
                                    "Időtartam": "4",
                                    "Előző időtartama": "4"
                                },
                                {
                                    "SZOBA_ID": "73",
                                    "FOGLALAS_PK": "1159",
                                    "Időtartam": "5",
                                    "Előző időtartama": "4"
                                },
                                {
                                    "SZOBA_ID": "73",
                                    "FOGLALAS_PK": "714",
                                    "Időtartam": "7",
                                    "Előző időtartama": "5"
                                },
                                {
                                    "SZOBA_ID": "74",
                                    "FOGLALAS_PK": "830",
                                    "Időtartam": "1",
                                    "Előző időtartama": "0"
                                },
                                {
                                    "SZOBA_ID": "74",
                                    "FOGLALAS_PK": "963",
                                    "Időtartam": "1",
                                    "Előző időtartama": "1"
                                },
                                {
                                    "SZOBA_ID": "74",
                                    "FOGLALAS_PK": "847",
                                    "Időtartam": "3",
                                    "Előző időtartama": "1"
                                },
                                {
                                    "SZOBA_ID": "74",
                                    "FOGLALAS_PK": "877",
                                    "Időtartam": "4",
                                    "Előző időtartama": "3"
                                },
                                {
                                    "SZOBA_ID": "74",
                                    "FOGLALAS_PK": "940",
                                    "Időtartam": "5",
                                    "Előző időtartama": "4"
                                },
                                {
                                    "SZOBA_ID": "74",
                                    "FOGLALAS_PK": "797",
                                    "Időtartam": "5",
                                    "Előző időtartama": "5"
                                },
                                {
                                    "SZOBA_ID": "74",
                                    "FOGLALAS_PK": "1093",
                                    "Időtartam": "6",
                                    "Előző időtartama": "5"
                                },
                                {
                                    "SZOBA_ID": "74",
                                    "FOGLALAS_PK": "595",
                                    "Időtartam": "7",
                                    "Előző időtartama": "6"
                                },
                                {
                                    "SZOBA_ID": "74",
                                    "FOGLALAS_PK": "1179",
                                    "Időtartam": "7",
                                    "Előző időtartama": "7"
                                },
                                {
                                    "SZOBA_ID": "75",
                                    "FOGLALAS_PK": "1458",
                                    "Időtartam": "1",
                                    "Előző időtartama": "0"
                                },
                                {
                                    "SZOBA_ID": "75",
                                    "FOGLALAS_PK": "1412",
                                    "Időtartam": "2",
                                    "Előző időtartama": "1"
                                },
                                {
                                    "SZOBA_ID": "75",
                                    "FOGLALAS_PK": "1013",
                                    "Időtartam": "5",
                                    "Előző időtartama": "2"
                                },
                                {
                                    "SZOBA_ID": "76",
                                    "FOGLALAS_PK": "976",
                                    "Időtartam": "2",
                                    "Előző időtartama": "0"
                                },
                                {
                                    "SZOBA_ID": "76",
                                    "FOGLALAS_PK": "1557",
                                    "Időtartam": "3",
                                    "Előző időtartama": "2"
                                },
                                {
                                    "SZOBA_ID": "76",
                                    "FOGLALAS_PK": "683",
                                    "Időtartam": "7",
                                    "Előző időtartama": "3"
                                },
                                {
                                    "SZOBA_ID": "77",
                                    "FOGLALAS_PK": "1104",
                                    "Időtartam": "1",
                                    "Előző időtartama": "0"
                                },
                                {
                                    "SZOBA_ID": "77",
                                    "FOGLALAS_PK": "982",
                                    "Időtartam": "3",
                                    "Előző időtartama": "1"
                                },
                                {
                                    "SZOBA_ID": "77",
                                    "FOGLALAS_PK": "593",
                                    "Időtartam": "3",
                                    "Előző időtartama": "3"
                                },
                                {
                                    "SZOBA_ID": "77",
                                    "FOGLALAS_PK": "698",
                                    "Időtartam": "4",
                                    "Előző időtartama": "3"
                                },
                                {
                                    "SZOBA_ID": "77",
                                    "FOGLALAS_PK": "1461",
                                    "Időtartam": "4",
                                    "Előző időtartama": "4"
                                },
                                {
                                    "SZOBA_ID": "77",
                                    "FOGLALAS_PK": "1439",
                                    "Időtartam": "6",
                                    "Előző időtartama": "4"
                                },
                                {
                                    "SZOBA_ID": "78",
                                    "FOGLALAS_PK": "568",
                                    "Időtartam": "1",
                                    "Előző időtartama": "0"
                                },
                                {
                                    "SZOBA_ID": "78",
                                    "FOGLALAS_PK": "1268",
                                    "Időtartam": "2",
                                    "Előző időtartama": "1"
                                },
                                {
                                    "SZOBA_ID": "78",
                                    "FOGLALAS_PK": "1281",
                                    "Időtartam": "3",
                                    "Előző időtartama": "2"
                                },
                                {
                                    "SZOBA_ID": "78",
                                    "FOGLALAS_PK": "646",
                                    "Időtartam": "3",
                                    "Előző időtartama": "3"
                                },
                                {
                                    "SZOBA_ID": "78",
                                    "FOGLALAS_PK": "700",
                                    "Időtartam": "5",
                                    "Előző időtartama": "3"
                                },
                                {
                                    "SZOBA_ID": "78",
                                    "FOGLALAS_PK": "1577",
                                    "Időtartam": "7",
                                    "Előző időtartama": "5"
                                },
                                {
                                    "SZOBA_ID": "79",
                                    "FOGLALAS_PK": "1054",
                                    "Időtartam": "1",
                                    "Előző időtartama": "0"
                                },
                                {
                                    "SZOBA_ID": "79",
                                    "FOGLALAS_PK": "1345",
                                    "Időtartam": "3",
                                    "Előző időtartama": "1"
                                },
                                {
                                    "SZOBA_ID": "79",
                                    "FOGLALAS_PK": "1447",
                                    "Időtartam": "4",
                                    "Előző időtartama": "3"
                                },
                                {
                                    "SZOBA_ID": "79",
                                    "FOGLALAS_PK": "583",
                                    "Időtartam": "6",
                                    "Előző időtartama": "4"
                                },
                                {
                                    "SZOBA_ID": "79",
                                    "FOGLALAS_PK": "1229",
                                    "Időtartam": "7",
                                    "Előző időtartama": "6"
                                },
                                {
                                    "SZOBA_ID": "80",
                                    "FOGLALAS_PK": "929",
                                    "Időtartam": "2",
                                    "Előző időtartama": "0"
                                },
                                {
                                    "SZOBA_ID": "80",
                                    "FOGLALAS_PK": "1367",
                                    "Időtartam": "3",
                                    "Előző időtartama": "2"
                                },
                                {
                                    "SZOBA_ID": "80",
                                    "FOGLALAS_PK": "1071",
                                    "Időtartam": "4",
                                    "Előző időtartama": "3"
                                },
                                {
                                    "SZOBA_ID": "80",
                                    "FOGLALAS_PK": "1279",
                                    "Időtartam": "5",
                                    "Előző időtartama": "4"
                                },
                                {
                                    "SZOBA_ID": "80",
                                    "FOGLALAS_PK": "983",
                                    "Időtartam": "6",
                                    "Előző időtartama": "5"
                                },
                                {
                                    "SZOBA_ID": "80",
                                    "FOGLALAS_PK": "887",
                                    "Időtartam": "6",
                                    "Előző időtartama": "6"
                                },
                                {
                                    "SZOBA_ID": "80",
                                    "FOGLALAS_PK": "667",
                                    "Időtartam": "6",
                                    "Előző időtartama": "6"
                                },
                                {
                                    "SZOBA_ID": "81",
                                    "FOGLALAS_PK": "1506",
                                    "Időtartam": "3",
                                    "Előző időtartama": "0"
                                },
                                {
                                    "SZOBA_ID": "81",
                                    "FOGLALAS_PK": "1562",
                                    "Időtartam": "3",
                                    "Előző időtartama": "3"
                                },
                                {
                                    "SZOBA_ID": "81",
                                    "FOGLALAS_PK": "1366",
                                    "Időtartam": "5",
                                    "Előző időtartama": "3"
                                },
                                {
                                    "SZOBA_ID": "81",
                                    "FOGLALAS_PK": "1443",
                                    "Időtartam": "7",
                                    "Előző időtartama": "5"
                                },
                                {
                                    "SZOBA_ID": "81",
                                    "FOGLALAS_PK": "1464",
                                    "Időtartam": "7",
                                    "Előző időtartama": "7"
                                },
                                {
                                    "SZOBA_ID": "82",
                                    "FOGLALAS_PK": "1406",
                                    "Időtartam": "1",
                                    "Előző időtartama": "0"
                                },
                                {
                                    "SZOBA_ID": "82",
                                    "FOGLALAS_PK": "1341",
                                    "Időtartam": "2",
                                    "Előző időtartama": "1"
                                },
                                {
                                    "SZOBA_ID": "82",
                                    "FOGLALAS_PK": "862",
                                    "Időtartam": "4",
                                    "Előző időtartama": "2"
                                },
                                {
                                    "SZOBA_ID": "82",
                                    "FOGLALAS_PK": "871",
                                    "Időtartam": "5",
                                    "Előző időtartama": "4"
                                },
                                {
                                    "SZOBA_ID": "82",
                                    "FOGLALAS_PK": "1277",
                                    "Időtartam": "5",
                                    "Előző időtartama": "5"
                                },
                                {
                                    "SZOBA_ID": "82",
                                    "FOGLALAS_PK": "997",
                                    "Időtartam": "6",
                                    "Előző időtartama": "5"
                                },
                                {
                                    "SZOBA_ID": "83",
                                    "FOGLALAS_PK": "674",
                                    "Időtartam": "4",
                                    "Előző időtartama": "0"
                                },
                                {
                                    "SZOBA_ID": "83",
                                    "FOGLALAS_PK": "798",
                                    "Időtartam": "4",
                                    "Előző időtartama": "4"
                                },
                                {
                                    "SZOBA_ID": "83",
                                    "FOGLALAS_PK": "995",
                                    "Időtartam": "5",
                                    "Előző időtartama": "4"
                                },
                                {
                                    "SZOBA_ID": "83",
                                    "FOGLALAS_PK": "1119",
                                    "Időtartam": "6",
                                    "Előző időtartama": "5"
                                },
                                {
                                    "SZOBA_ID": "83",
                                    "FOGLALAS_PK": "869",
                                    "Időtartam": "6",
                                    "Előző időtartama": "6"
                                },
                                {
                                    "SZOBA_ID": "83",
                                    "FOGLALAS_PK": "878",
                                    "Időtartam": "6",
                                    "Előző időtartama": "6"
                                },
                                {
                                    "SZOBA_ID": "83",
                                    "FOGLALAS_PK": "572",
                                    "Időtartam": "7",
                                    "Előző időtartama": "6"
                                },
                                {
                                    "SZOBA_ID": "83",
                                    "FOGLALAS_PK": "1379",
                                    "Időtartam": "7",
                                    "Előző időtartama": "7"
                                },
                                {
                                    "SZOBA_ID": "84",
                                    "FOGLALAS_PK": "819",
                                    "Időtartam": "2",
                                    "Előző időtartama": "0"
                                },
                                {
                                    "SZOBA_ID": "84",
                                    "FOGLALAS_PK": "954",
                                    "Időtartam": "5",
                                    "Előző időtartama": "2"
                                },
                                {
                                    "SZOBA_ID": "84",
                                    "FOGLALAS_PK": "1376",
                                    "Időtartam": "5",
                                    "Előző időtartama": "5"
                                },
                                {
                                    "SZOBA_ID": "84",
                                    "FOGLALAS_PK": "1384",
                                    "Időtartam": "7",
                                    "Előző időtartama": "5"
                                },
                                {
                                    "SZOBA_ID": "85",
                                    "FOGLALAS_PK": "1320",
                                    "Időtartam": "1",
                                    "Előző időtartama": "0"
                                },
                                {
                                    "SZOBA_ID": "85",
                                    "FOGLALAS_PK": "1059",
                                    "Időtartam": "3",
                                    "Előző időtartama": "1"
                                },
                                {
                                    "SZOBA_ID": "85",
                                    "FOGLALAS_PK": "647",
                                    "Időtartam": "3",
                                    "Előző időtartama": "3"
                                },
                                {
                                    "SZOBA_ID": "85",
                                    "FOGLALAS_PK": "1513",
                                    "Időtartam": "7",
                                    "Előző időtartama": "3"
                                },
                                {
                                    "SZOBA_ID": "86",
                                    "FOGLALAS_PK": "1453",
                                    "Időtartam": "1",
                                    "Előző időtartama": "0"
                                },
                                {
                                    "SZOBA_ID": "86",
                                    "FOGLALAS_PK": "1108",
                                    "Időtartam": "1",
                                    "Előző időtartama": "1"
                                },
                                {
                                    "SZOBA_ID": "86",
                                    "FOGLALAS_PK": "859",
                                    "Időtartam": "1",
                                    "Előző időtartama": "1"
                                },
                                {
                                    "SZOBA_ID": "86",
                                    "FOGLALAS_PK": "1079",
                                    "Időtartam": "4",
                                    "Előző időtartama": "1"
                                },
                                {
                                    "SZOBA_ID": "86",
                                    "FOGLALAS_PK": "1057",
                                    "Időtartam": "5",
                                    "Előző időtartama": "4"
                                },
                                {
                                    "SZOBA_ID": "87",
                                    "FOGLALAS_PK": "844",
                                    "Időtartam": "1",
                                    "Előző időtartama": "0"
                                },
                                {
                                    "SZOBA_ID": "87",
                                    "FOGLALAS_PK": "1103",
                                    "Időtartam": "3",
                                    "Előző időtartama": "1"
                                },
                                {
                                    "SZOBA_ID": "87",
                                    "FOGLALAS_PK": "558",
                                    "Időtartam": "4",
                                    "Előző időtartama": "3"
                                },
                                {
                                    "SZOBA_ID": "87",
                                    "FOGLALAS_PK": "1456",
                                    "Időtartam": "5",
                                    "Előző időtartama": "4"
                                },
                                {
                                    "SZOBA_ID": "87",
                                    "FOGLALAS_PK": "1349",
                                    "Időtartam": "5",
                                    "Előző időtartama": "5"
                                },
                                {
                                    "SZOBA_ID": "88",
                                    "FOGLALAS_PK": "1359",
                                    "Időtartam": "2",
                                    "Előző időtartama": "0"
                                },
                                {
                                    "SZOBA_ID": "88",
                                    "FOGLALAS_PK": "866",
                                    "Időtartam": "2",
                                    "Előző időtartama": "2"
                                },
                                {
                                    "SZOBA_ID": "88",
                                    "FOGLALAS_PK": "1300",
                                    "Időtartam": "3",
                                    "Előző időtartama": "2"
                                },
                                {
                                    "SZOBA_ID": "88",
                                    "FOGLALAS_PK": "1196",
                                    "Időtartam": "3",
                                    "Előző időtartama": "3"
                                },
                                {
                                    "SZOBA_ID": "88",
                                    "FOGLALAS_PK": "1575",
                                    "Időtartam": "6",
                                    "Előző időtartama": "3"
                                },
                                {
                                    "SZOBA_ID": "88",
                                    "FOGLALAS_PK": "1548",
                                    "Időtartam": "7",
                                    "Előző időtartama": "6"
                                },
                                {
                                    "SZOBA_ID": "88",
                                    "FOGLALAS_PK": "1273",
                                    "Időtartam": "7",
                                    "Előző időtartama": "7"
                                },
                                {
                                    "SZOBA_ID": "88",
                                    "FOGLALAS_PK": "757",
                                    "Időtartam": "7",
                                    "Előző időtartama": "7"
                                },
                                {
                                    "SZOBA_ID": "89",
                                    "FOGLALAS_PK": "1269",
                                    "Időtartam": "2",
                                    "Előző időtartama": "0"
                                },
                                {
                                    "SZOBA_ID": "89",
                                    "FOGLALAS_PK": "1253",
                                    "Időtartam": "2",
                                    "Előző időtartama": "2"
                                },
                                {
                                    "SZOBA_ID": "89",
                                    "FOGLALAS_PK": "1399",
                                    "Időtartam": "2",
                                    "Előző időtartama": "2"
                                },
                                {
                                    "SZOBA_ID": "89",
                                    "FOGLALAS_PK": "817",
                                    "Időtartam": "3",
                                    "Előző időtartama": "2"
                                },
                                {
                                    "SZOBA_ID": "89",
                                    "FOGLALAS_PK": "1101",
                                    "Időtartam": "5",
                                    "Előző időtartama": "3"
                                },
                                {
                                    "SZOBA_ID": "89",
                                    "FOGLALAS_PK": "1189",
                                    "Időtartam": "6",
                                    "Előző időtartama": "5"
                                },
                                {
                                    "SZOBA_ID": "89",
                                    "FOGLALAS_PK": "1521",
                                    "Időtartam": "7",
                                    "Előző időtartama": "6"
                                },
                                {
                                    "SZOBA_ID": "89",
                                    "FOGLALAS_PK": "1037",
                                    "Időtartam": "7",
                                    "Előző időtartama": "7"
                                },
                                {
                                    "SZOBA_ID": "90",
                                    "FOGLALAS_PK": "729",
                                    "Időtartam": "2",
                                    "Előző időtartama": "0"
                                },
                                {
                                    "SZOBA_ID": "90",
                                    "FOGLALAS_PK": "1405",
                                    "Időtartam": "5",
                                    "Előző időtartama": "2"
                                },
                                {
                                    "SZOBA_ID": "90",
                                    "FOGLALAS_PK": "1299",
                                    "Időtartam": "6",
                                    "Előző időtartama": "5"
                                },
                                {
                                    "SZOBA_ID": "90",
                                    "FOGLALAS_PK": "1174",
                                    "Időtartam": "7",
                                    "Előző időtartama": "6"
                                },
                                {
                                    "SZOBA_ID": "91",
                                    "FOGLALAS_PK": "1213",
                                    "Időtartam": "3",
                                    "Előző időtartama": "0"
                                },
                                {
                                    "SZOBA_ID": "91",
                                    "FOGLALAS_PK": "1397",
                                    "Időtartam": "4",
                                    "Előző időtartama": "3"
                                },
                                {
                                    "SZOBA_ID": "91",
                                    "FOGLALAS_PK": "732",
                                    "Időtartam": "4",
                                    "Előző időtartama": "4"
                                },
                                {
                                    "SZOBA_ID": "91",
                                    "FOGLALAS_PK": "636",
                                    "Időtartam": "6",
                                    "Előző időtartama": "4"
                                },
                                {
                                    "SZOBA_ID": "92",
                                    "FOGLALAS_PK": "1016",
                                    "Időtartam": "2",
                                    "Előző időtartama": "0"
                                },
                                {
                                    "SZOBA_ID": "92",
                                    "FOGLALAS_PK": "1527",
                                    "Időtartam": "2",
                                    "Előző időtartama": "2"
                                },
                                {
                                    "SZOBA_ID": "92",
                                    "FOGLALAS_PK": "809",
                                    "Időtartam": "3",
                                    "Előző időtartama": "2"
                                },
                                {
                                    "SZOBA_ID": "92",
                                    "FOGLALAS_PK": "1555",
                                    "Időtartam": "4",
                                    "Előző időtartama": "3"
                                },
                                {
                                    "SZOBA_ID": "92",
                                    "FOGLALAS_PK": "841",
                                    "Időtartam": "6",
                                    "Előző időtartama": "4"
                                },
                                {
                                    "SZOBA_ID": "92",
                                    "FOGLALAS_PK": "942",
                                    "Időtartam": "6",
                                    "Előző időtartama": "6"
                                },
                                {
                                    "SZOBA_ID": "93",
                                    "FOGLALAS_PK": "1217",
                                    "Időtartam": "1",
                                    "Előző időtartama": "0"
                                },
                                {
                                    "SZOBA_ID": "93",
                                    "FOGLALAS_PK": "1355",
                                    "Időtartam": "2",
                                    "Előző időtartama": "1"
                                },
                                {
                                    "SZOBA_ID": "93",
                                    "FOGLALAS_PK": "1391",
                                    "Időtartam": "4",
                                    "Előző időtartama": "2"
                                },
                                {
                                    "SZOBA_ID": "93",
                                    "FOGLALAS_PK": "1169",
                                    "Időtartam": "4",
                                    "Előző időtartama": "4"
                                },
                                {
                                    "SZOBA_ID": "93",
                                    "FOGLALAS_PK": "741",
                                    "Időtartam": "7",
                                    "Előző időtartama": "4"
                                },
                                {
                                    "SZOBA_ID": "94",
                                    "FOGLALAS_PK": "1368",
                                    "Időtartam": "1",
                                    "Előző időtartama": "0"
                                },
                                {
                                    "SZOBA_ID": "94",
                                    "FOGLALAS_PK": "1305",
                                    "Időtartam": "2",
                                    "Előző időtartama": "1"
                                },
                                {
                                    "SZOBA_ID": "94",
                                    "FOGLALAS_PK": "1518",
                                    "Időtartam": "2",
                                    "Előző időtartama": "2"
                                },
                                {
                                    "SZOBA_ID": "94",
                                    "FOGLALAS_PK": "1312",
                                    "Időtartam": "3",
                                    "Előző időtartama": "2"
                                },
                                {
                                    "SZOBA_ID": "94",
                                    "FOGLALAS_PK": "727",
                                    "Időtartam": "3",
                                    "Előző időtartama": "3"
                                },
                                {
                                    "SZOBA_ID": "94",
                                    "FOGLALAS_PK": "616",
                                    "Időtartam": "4",
                                    "Előző időtartama": "3"
                                },
                                {
                                    "SZOBA_ID": "94",
                                    "FOGLALAS_PK": "975",
                                    "Időtartam": "5",
                                    "Előző időtartama": "4"
                                },
                                {
                                    "SZOBA_ID": "94",
                                    "FOGLALAS_PK": "665",
                                    "Időtartam": "7",
                                    "Előző időtartama": "5"
                                },
                                {
                                    "SZOBA_ID": "94",
                                    "FOGLALAS_PK": "1241",
                                    "Időtartam": "7",
                                    "Előző időtartama": "7"
                                },
                                {
                                    "SZOBA_ID": "94",
                                    "FOGLALAS_PK": "1564",
                                    "Időtartam": "7",
                                    "Előző időtartama": "7"
                                },
                                {
                                    "SZOBA_ID": "95",
                                    "FOGLALAS_PK": "1048",
                                    "Időtartam": "3",
                                    "Előző időtartama": "0"
                                },
                                {
                                    "SZOBA_ID": "95",
                                    "FOGLALAS_PK": "1097",
                                    "Időtartam": "4",
                                    "Előző időtartama": "3"
                                },
                                {
                                    "SZOBA_ID": "95",
                                    "FOGLALAS_PK": "656",
                                    "Időtartam": "7",
                                    "Előző időtartama": "4"
                                },
                                {
                                    "SZOBA_ID": "95",
                                    "FOGLALAS_PK": "1543",
                                    "Időtartam": "7",
                                    "Előző időtartama": "7"
                                },
                                {
                                    "SZOBA_ID": "96",
                                    "FOGLALAS_PK": "780",
                                    "Időtartam": "1",
                                    "Előző időtartama": "0"
                                },
                                {
                                    "SZOBA_ID": "96",
                                    "FOGLALAS_PK": "1438",
                                    "Időtartam": "2",
                                    "Előző időtartama": "1"
                                },
                                {
                                    "SZOBA_ID": "96",
                                    "FOGLALAS_PK": "1378",
                                    "Időtartam": "3",
                                    "Előző időtartama": "2"
                                },
                                {
                                    "SZOBA_ID": "96",
                                    "FOGLALAS_PK": "671",
                                    "Időtartam": "4",
                                    "Előző időtartama": "3"
                                },
                                {
                                    "SZOBA_ID": "96",
                                    "FOGLALAS_PK": "607",
                                    "Időtartam": "4",
                                    "Előző időtartama": "4"
                                },
                                {
                                    "SZOBA_ID": "96",
                                    "FOGLALAS_PK": "623",
                                    "Időtartam": "7",
                                    "Előző időtartama": "4"
                                },
                                {
                                    "SZOBA_ID": "96",
                                    "FOGLALAS_PK": "1569",
                                    "Időtartam": "7",
                                    "Előző időtartama": "7"
                                },
                                {
                                    "SZOBA_ID": "97",
                                    "FOGLALAS_PK": "1395",
                                    "Időtartam": "1",
                                    "Előző időtartama": "0"
                                },
                                {
                                    "SZOBA_ID": "97",
                                    "FOGLALAS_PK": "1528",
                                    "Időtartam": "2",
                                    "Előző időtartama": "1"
                                },
                                {
                                    "SZOBA_ID": "97",
                                    "FOGLALAS_PK": "836",
                                    "Időtartam": "2",
                                    "Előző időtartama": "2"
                                },
                                {
                                    "SZOBA_ID": "97",
                                    "FOGLALAS_PK": "635",
                                    "Időtartam": "3",
                                    "Előző időtartama": "2"
                                },
                                {
                                    "SZOBA_ID": "97",
                                    "FOGLALAS_PK": "726",
                                    "Időtartam": "4",
                                    "Előző időtartama": "3"
                                },
                                {
                                    "SZOBA_ID": "97",
                                    "FOGLALAS_PK": "718",
                                    "Időtartam": "7",
                                    "Előző időtartama": "4"
                                },
                                {
                                    "SZOBA_ID": "97",
                                    "FOGLALAS_PK": "1417",
                                    "Időtartam": "7",
                                    "Előző időtartama": "7"
                                },
                                {
                                    "SZOBA_ID": "98",
                                    "FOGLALAS_PK": "1402",
                                    "Időtartam": "2",
                                    "Előző időtartama": "0"
                                },
                                {
                                    "SZOBA_ID": "98",
                                    "FOGLALAS_PK": "884",
                                    "Időtartam": "5",
                                    "Előző időtartama": "2"
                                },
                                {
                                    "SZOBA_ID": "98",
                                    "FOGLALAS_PK": "1050",
                                    "Időtartam": "6",
                                    "Előző időtartama": "5"
                                },
                                {
                                    "SZOBA_ID": "98",
                                    "FOGLALAS_PK": "631",
                                    "Időtartam": "6",
                                    "Előző időtartama": "6"
                                },
                                {
                                    "SZOBA_ID": "99",
                                    "FOGLALAS_PK": "632",
                                    "Időtartam": "1",
                                    "Előző időtartama": "0"
                                },
                                {
                                    "SZOBA_ID": "99",
                                    "FOGLALAS_PK": "1072",
                                    "Időtartam": "1",
                                    "Előző időtartama": "1"
                                },
                                {
                                    "SZOBA_ID": "99",
                                    "FOGLALAS_PK": "1408",
                                    "Időtartam": "1",
                                    "Előző időtartama": "1"
                                },
                                {
                                    "SZOBA_ID": "99",
                                    "FOGLALAS_PK": "1486",
                                    "Időtartam": "5",
                                    "Előző időtartama": "1"
                                },
                                {
                                    "SZOBA_ID": "99",
                                    "FOGLALAS_PK": "691",
                                    "Időtartam": "5",
                                    "Előző időtartama": "5"
                                },
                                {
                                    "SZOBA_ID": "100",
                                    "FOGLALAS_PK": "597",
                                    "Időtartam": "1",
                                    "Előző időtartama": "0"
                                },
                                {
                                    "SZOBA_ID": "100",
                                    "FOGLALAS_PK": "637",
                                    "Időtartam": "5",
                                    "Előző időtartama": "1"
                                },
                                {
                                    "SZOBA_ID": "100",
                                    "FOGLALAS_PK": "1315",
                                    "Időtartam": "5",
                                    "Előző időtartama": "5"
                                },
                                {
                                    "SZOBA_ID": "100",
                                    "FOGLALAS_PK": "1482",
                                    "Időtartam": "7",
                                    "Előző időtartama": "5"
                                },
                                {
                                    "SZOBA_ID": "101",
                                    "FOGLALAS_PK": "715",
                                    "Időtartam": "3",
                                    "Előző időtartama": "0"
                                },
                                {
                                    "SZOBA_ID": "101",
                                    "FOGLALAS_PK": "1516",
                                    "Időtartam": "4",
                                    "Előző időtartama": "3"
                                },
                                {
                                    "SZOBA_ID": "101",
                                    "FOGLALAS_PK": "1332",
                                    "Időtartam": "6",
                                    "Előző időtartama": "4"
                                },
                                {
                                    "SZOBA_ID": "102",
                                    "FOGLALAS_PK": "1343",
                                    "Időtartam": "2",
                                    "Előző időtartama": "0"
                                },
                                {
                                    "SZOBA_ID": "102",
                                    "FOGLALAS_PK": "689",
                                    "Időtartam": "5",
                                    "Előző időtartama": "2"
                                },
                                {
                                    "SZOBA_ID": "103",
                                    "FOGLALAS_PK": "1398",
                                    "Időtartam": "1",
                                    "Előző időtartama": "0"
                                },
                                {
                                    "SZOBA_ID": "103",
                                    "FOGLALAS_PK": "972",
                                    "Időtartam": "2",
                                    "Előző időtartama": "1"
                                },
                                {
                                    "SZOBA_ID": "103",
                                    "FOGLALAS_PK": "1485",
                                    "Időtartam": "4",
                                    "Előző időtartama": "2"
                                },
                                {
                                    "SZOBA_ID": "103",
                                    "FOGLALAS_PK": "992",
                                    "Időtartam": "7",
                                    "Előző időtartama": "4"
                                },
                                {
                                    "SZOBA_ID": "104",
                                    "FOGLALAS_PK": "1180",
                                    "Időtartam": "1",
                                    "Előző időtartama": "0"
                                },
                                {
                                    "SZOBA_ID": "104",
                                    "FOGLALAS_PK": "1522",
                                    "Időtartam": "2",
                                    "Előző időtartama": "1"
                                },
                                {
                                    "SZOBA_ID": "104",
                                    "FOGLALAS_PK": "1532",
                                    "Időtartam": "3",
                                    "Előző időtartama": "2"
                                },
                                {
                                    "SZOBA_ID": "104",
                                    "FOGLALAS_PK": "837",
                                    "Időtartam": "4",
                                    "Előző időtartama": "3"
                                },
                                {
                                    "SZOBA_ID": "105",
                                    "FOGLALAS_PK": "618",
                                    "Időtartam": "1",
                                    "Előző időtartama": "0"
                                },
                                {
                                    "SZOBA_ID": "105",
                                    "FOGLALAS_PK": "1525",
                                    "Időtartam": "5",
                                    "Előző időtartama": "1"
                                },
                                {
                                    "SZOBA_ID": "106",
                                    "FOGLALAS_PK": "610",
                                    "Időtartam": "3",
                                    "Előző időtartama": "0"
                                },
                                {
                                    "SZOBA_ID": "106",
                                    "FOGLALAS_PK": "1271",
                                    "Időtartam": "5",
                                    "Előző időtartama": "3"
                                },
                                {
                                    "SZOBA_ID": "106",
                                    "FOGLALAS_PK": "1510",
                                    "Időtartam": "6",
                                    "Előző időtartama": "5"
                                },
                                {
                                    "SZOBA_ID": "106",
                                    "FOGLALAS_PK": "1228",
                                    "Időtartam": "7",
                                    "Előző időtartama": "6"
                                },
                                {
                                    "SZOBA_ID": "106",
                                    "FOGLALAS_PK": "1372",
                                    "Időtartam": "7",
                                    "Előző időtartama": "7"
                                },
                                {
                                    "SZOBA_ID": "106",
                                    "FOGLALAS_PK": "708",
                                    "Időtartam": "7",
                                    "Előző időtartama": "7"
                                },
                                {
                                    "SZOBA_ID": "107",
                                    "FOGLALAS_PK": "1354",
                                    "Időtartam": "1",
                                    "Előző időtartama": "0"
                                },
                                {
                                    "SZOBA_ID": "107",
                                    "FOGLALAS_PK": "1494",
                                    "Időtartam": "2",
                                    "Előző időtartama": "1"
                                },
                                {
                                    "SZOBA_ID": "107",
                                    "FOGLALAS_PK": "1250",
                                    "Időtartam": "4",
                                    "Előző időtartama": "2"
                                },
                                {
                                    "SZOBA_ID": "107",
                                    "FOGLALAS_PK": "1452",
                                    "Időtartam": "6",
                                    "Előző időtartama": "4"
                                },
                                {
                                    "SZOBA_ID": "107",
                                    "FOGLALAS_PK": "586",
                                    "Időtartam": "6",
                                    "Előző időtartama": "6"
                                },
                                {
                                    "SZOBA_ID": "108",
                                    "FOGLALAS_PK": "1102",
                                    "Időtartam": "1",
                                    "Előző időtartama": "0"
                                },
                                {
                                    "SZOBA_ID": "108",
                                    "FOGLALAS_PK": "1392",
                                    "Időtartam": "6",
                                    "Előző időtartama": "1"
                                },
                                {
                                    "SZOBA_ID": "109",
                                    "FOGLALAS_PK": "1560",
                                    "Időtartam": "1",
                                    "Előző időtartama": "0"
                                },
                                {
                                    "SZOBA_ID": "109",
                                    "FOGLALAS_PK": "1083",
                                    "Időtartam": "1",
                                    "Előző időtartama": "1"
                                },
                                {
                                    "SZOBA_ID": "109",
                                    "FOGLALAS_PK": "810",
                                    "Időtartam": "2",
                                    "Előző időtartama": "1"
                                },
                                {
                                    "SZOBA_ID": "109",
                                    "FOGLALAS_PK": "614",
                                    "Időtartam": "4",
                                    "Előző időtartama": "2"
                                },
                                {
                                    "SZOBA_ID": "109",
                                    "FOGLALAS_PK": "1298",
                                    "Időtartam": "4",
                                    "Előző időtartama": "4"
                                },
                                {
                                    "SZOBA_ID": "109",
                                    "FOGLALAS_PK": "654",
                                    "Időtartam": "5",
                                    "Előző időtartama": "4"
                                },
                                {
                                    "SZOBA_ID": "109",
                                    "FOGLALAS_PK": "621",
                                    "Időtartam": "7",
                                    "Előző időtartama": "5"
                                },
                                {
                                    "SZOBA_ID": "110",
                                    "FOGLALAS_PK": "685",
                                    "Időtartam": "1",
                                    "Előző időtartama": "0"
                                },
                                {
                                    "SZOBA_ID": "110",
                                    "FOGLALAS_PK": "1424",
                                    "Időtartam": "1",
                                    "Előző időtartama": "1"
                                },
                                {
                                    "SZOBA_ID": "110",
                                    "FOGLALAS_PK": "1162",
                                    "Időtartam": "2",
                                    "Előző időtartama": "1"
                                },
                                {
                                    "SZOBA_ID": "110",
                                    "FOGLALAS_PK": "1041",
                                    "Időtartam": "3",
                                    "Előző időtartama": "2"
                                },
                                {
                                    "SZOBA_ID": "110",
                                    "FOGLALAS_PK": "1109",
                                    "Időtartam": "5",
                                    "Előző időtartama": "3"
                                },
                                {
                                    "SZOBA_ID": "110",
                                    "FOGLALAS_PK": "931",
                                    "Időtartam": "5",
                                    "Előző időtartama": "5"
                                },
                                {
                                    "SZOBA_ID": "110",
                                    "FOGLALAS_PK": "964",
                                    "Időtartam": "6",
                                    "Előző időtartama": "5"
                                },
                                {
                                    "SZOBA_ID": "110",
                                    "FOGLALAS_PK": "1489",
                                    "Időtartam": "6",
                                    "Előző időtartama": "6"
                                },
                                {
                                    "SZOBA_ID": "111",
                                    "FOGLALAS_PK": "1296",
                                    "Időtartam": "3",
                                    "Előző időtartama": "0"
                                },
                                {
                                    "SZOBA_ID": "111",
                                    "FOGLALAS_PK": "786",
                                    "Időtartam": "4",
                                    "Előző időtartama": "3"
                                },
                                {
                                    "SZOBA_ID": "111",
                                    "FOGLALAS_PK": "1353",
                                    "Időtartam": "5",
                                    "Előző időtartama": "4"
                                },
                                {
                                    "SZOBA_ID": "111",
                                    "FOGLALAS_PK": "605",
                                    "Időtartam": "7",
                                    "Előző időtartama": "5"
                                },
                                {
                                    "SZOBA_ID": "111",
                                    "FOGLALAS_PK": "959",
                                    "Időtartam": "7",
                                    "Előző időtartama": "7"
                                },
                                {
                                    "SZOBA_ID": "112",
                                    "FOGLALAS_PK": "921",
                                    "Időtartam": "1",
                                    "Előző időtartama": "0"
                                },
                                {
                                    "SZOBA_ID": "112",
                                    "FOGLALAS_PK": "776",
                                    "Időtartam": "4",
                                    "Előző időtartama": "1"
                                },
                                {
                                    "SZOBA_ID": "112",
                                    "FOGLALAS_PK": "801",
                                    "Időtartam": "5",
                                    "Előző időtartama": "4"
                                },
                                {
                                    "SZOBA_ID": "112",
                                    "FOGLALAS_PK": "1124",
                                    "Időtartam": "6",
                                    "Előző időtartama": "5"
                                },
                                {
                                    "SZOBA_ID": "112",
                                    "FOGLALAS_PK": "1530",
                                    "Időtartam": "6",
                                    "Előző időtartama": "6"
                                },
                                {
                                    "SZOBA_ID": "113",
                                    "FOGLALAS_PK": "1263",
                                    "Időtartam": "1",
                                    "Előző időtartama": "0"
                                },
                                {
                                    "SZOBA_ID": "113",
                                    "FOGLALAS_PK": "1499",
                                    "Időtartam": "2",
                                    "Előző időtartama": "1"
                                },
                                {
                                    "SZOBA_ID": "113",
                                    "FOGLALAS_PK": "1085",
                                    "Időtartam": "4",
                                    "Előző időtartama": "2"
                                },
                                {
                                    "SZOBA_ID": "113",
                                    "FOGLALAS_PK": "1029",
                                    "Időtartam": "5",
                                    "Előző időtartama": "4"
                                },
                                {
                                    "SZOBA_ID": "113",
                                    "FOGLALAS_PK": "1495",
                                    "Időtartam": "7",
                                    "Előző időtartama": "5"
                                },
                                {
                                    "SZOBA_ID": "114",
                                    "FOGLALAS_PK": "737",
                                    "Időtartam": "2",
                                    "Előző időtartama": "0"
                                },
                                {
                                    "SZOBA_ID": "114",
                                    "FOGLALAS_PK": "1540",
                                    "Időtartam": "3",
                                    "Előző időtartama": "2"
                                },
                                {
                                    "SZOBA_ID": "114",
                                    "FOGLALAS_PK": "966",
                                    "Időtartam": "6",
                                    "Előző időtartama": "3"
                                },
                                {
                                    "SZOBA_ID": "114",
                                    "FOGLALAS_PK": "827",
                                    "Időtartam": "7",
                                    "Előző időtartama": "6"
                                },
                                {
                                    "SZOBA_ID": "115",
                                    "FOGLALAS_PK": "1566",
                                    "Időtartam": "1",
                                    "Előző időtartama": "0"
                                },
                                {
                                    "SZOBA_ID": "115",
                                    "FOGLALAS_PK": "1554",
                                    "Időtartam": "3",
                                    "Előző időtartama": "1"
                                },
                                {
                                    "SZOBA_ID": "115",
                                    "FOGLALAS_PK": "1352",
                                    "Időtartam": "3",
                                    "Előző időtartama": "3"
                                },
                                {
                                    "SZOBA_ID": "115",
                                    "FOGLALAS_PK": "1154",
                                    "Időtartam": "4",
                                    "Előző időtartama": "3"
                                },
                                {
                                    "SZOBA_ID": "115",
                                    "FOGLALAS_PK": "596",
                                    "Időtartam": "7",
                                    "Előző időtartama": "4"
                                },
                                {
                                    "SZOBA_ID": "115",
                                    "FOGLALAS_PK": "943",
                                    "Időtartam": "7",
                                    "Előző időtartama": "7"
                                },
                                {
                                    "SZOBA_ID": "115",
                                    "FOGLALAS_PK": "1121",
                                    "Időtartam": "7",
                                    "Előző időtartama": "7"
                                },
                                {
                                    "SZOBA_ID": "116",
                                    "FOGLALAS_PK": "1455",
                                    "Időtartam": "2",
                                    "Előző időtartama": "0"
                                },
                                {
                                    "SZOBA_ID": "116",
                                    "FOGLALAS_PK": "1501",
                                    "Időtartam": "4",
                                    "Előző időtartama": "2"
                                },
                                {
                                    "SZOBA_ID": "117",
                                    "FOGLALAS_PK": "1002",
                                    "Időtartam": "1",
                                    "Előző időtartama": "0"
                                },
                                {
                                    "SZOBA_ID": "117",
                                    "FOGLALAS_PK": "612",
                                    "Időtartam": "2",
                                    "Előző időtartama": "1"
                                },
                                {
                                    "SZOBA_ID": "117",
                                    "FOGLALAS_PK": "1192",
                                    "Időtartam": "2",
                                    "Előző időtartama": "2"
                                },
                                {
                                    "SZOBA_ID": "117",
                                    "FOGLALAS_PK": "1247",
                                    "Időtartam": "3",
                                    "Előző időtartama": "2"
                                },
                                {
                                    "SZOBA_ID": "117",
                                    "FOGLALAS_PK": "617",
                                    "Időtartam": "3",
                                    "Előző időtartama": "3"
                                },
                                {
                                    "SZOBA_ID": "117",
                                    "FOGLALAS_PK": "962",
                                    "Időtartam": "4",
                                    "Előző időtartama": "3"
                                },
                                {
                                    "SZOBA_ID": "117",
                                    "FOGLALAS_PK": "953",
                                    "Időtartam": "5",
                                    "Előző időtartama": "4"
                                },
                                {
                                    "SZOBA_ID": "117",
                                    "FOGLALAS_PK": "1468",
                                    "Időtartam": "7",
                                    "Előző időtartama": "5"
                                },
                                {
                                    "SZOBA_ID": "118",
                                    "FOGLALAS_PK": "716",
                                    "Időtartam": "1",
                                    "Előző időtartama": "0"
                                },
                                {
                                    "SZOBA_ID": "118",
                                    "FOGLALAS_PK": "996",
                                    "Időtartam": "3",
                                    "Előző időtartama": "1"
                                },
                                {
                                    "SZOBA_ID": "118",
                                    "FOGLALAS_PK": "1481",
                                    "Időtartam": "3",
                                    "Előző időtartama": "3"
                                },
                                {
                                    "SZOBA_ID": "118",
                                    "FOGLALAS_PK": "1374",
                                    "Időtartam": "5",
                                    "Előző időtartama": "3"
                                },
                                {
                                    "SZOBA_ID": "118",
                                    "FOGLALAS_PK": "1472",
                                    "Időtartam": "6",
                                    "Előző időtartama": "5"
                                },
                                {
                                    "SZOBA_ID": "118",
                                    "FOGLALAS_PK": "864",
                                    "Időtartam": "6",
                                    "Előző időtartama": "6"
                                },
                                {
                                    "SZOBA_ID": "118",
                                    "FOGLALAS_PK": "994",
                                    "Időtartam": "7",
                                    "Előző időtartama": "6"
                                },
                                {
                                    "SZOBA_ID": "119",
                                    "FOGLALAS_PK": "722",
                                    "Időtartam": "1",
                                    "Előző időtartama": "0"
                                },
                                {
                                    "SZOBA_ID": "119",
                                    "FOGLALAS_PK": "706",
                                    "Időtartam": "2",
                                    "Előző időtartama": "1"
                                },
                                {
                                    "SZOBA_ID": "119",
                                    "FOGLALAS_PK": "1026",
                                    "Időtartam": "3",
                                    "Előző időtartama": "2"
                                },
                                {
                                    "SZOBA_ID": "119",
                                    "FOGLALAS_PK": "1488",
                                    "Időtartam": "3",
                                    "Előző időtartama": "3"
                                },
                                {
                                    "SZOBA_ID": "119",
                                    "FOGLALAS_PK": "1413",
                                    "Időtartam": "3",
                                    "Előző időtartama": "3"
                                },
                                {
                                    "SZOBA_ID": "120",
                                    "FOGLALAS_PK": "1483",
                                    "Időtartam": "1",
                                    "Előző időtartama": "0"
                                },
                                {
                                    "SZOBA_ID": "120",
                                    "FOGLALAS_PK": "998",
                                    "Időtartam": "3",
                                    "Előző időtartama": "1"
                                },
                                {
                                    "SZOBA_ID": "120",
                                    "FOGLALAS_PK": "762",
                                    "Időtartam": "3",
                                    "Előző időtartama": "3"
                                },
                                {
                                    "SZOBA_ID": "120",
                                    "FOGLALAS_PK": "1089",
                                    "Időtartam": "6",
                                    "Előző időtartama": "3"
                                },
                                {
                                    "SZOBA_ID": "120",
                                    "FOGLALAS_PK": "1339",
                                    "Időtartam": "6",
                                    "Előző időtartama": "6"
                                },
                                {
                                    "SZOBA_ID": "120",
                                    "FOGLALAS_PK": "1493",
                                    "Időtartam": "7",
                                    "Előző időtartama": "6"
                                },
                                {
                                    "SZOBA_ID": "121",
                                    "FOGLALAS_PK": "1049",
                                    "Időtartam": "3",
                                    "Előző időtartama": "0"
                                },
                                {
                                    "SZOBA_ID": "121",
                                    "FOGLALAS_PK": "1128",
                                    "Időtartam": "4",
                                    "Előző időtartama": "3"
                                },
                                {
                                    "SZOBA_ID": "121",
                                    "FOGLALAS_PK": "1215",
                                    "Időtartam": "4",
                                    "Előző időtartama": "4"
                                },
                                {
                                    "SZOBA_ID": "121",
                                    "FOGLALAS_PK": "1373",
                                    "Időtartam": "5",
                                    "Előző időtartama": "4"
                                },
                                {
                                    "SZOBA_ID": "121",
                                    "FOGLALAS_PK": "858",
                                    "Időtartam": "5",
                                    "Előző időtartama": "5"
                                },
                                {
                                    "SZOBA_ID": "121",
                                    "FOGLALAS_PK": "739",
                                    "Időtartam": "6",
                                    "Előző időtartama": "5"
                                },
                                {
                                    "SZOBA_ID": "121",
                                    "FOGLALAS_PK": "735",
                                    "Időtartam": "6",
                                    "Előző időtartama": "6"
                                },
                                {
                                    "SZOBA_ID": "121",
                                    "FOGLALAS_PK": "1393",
                                    "Időtartam": "6",
                                    "Előző időtartama": "6"
                                },
                                {
                                    "SZOBA_ID": "122",
                                    "FOGLALAS_PK": "1209",
                                    "Időtartam": "1",
                                    "Előző időtartama": "0"
                                },
                                {
                                    "SZOBA_ID": "122",
                                    "FOGLALAS_PK": "1245",
                                    "Időtartam": "2",
                                    "Előző időtartama": "1"
                                },
                                {
                                    "SZOBA_ID": "122",
                                    "FOGLALAS_PK": "1337",
                                    "Időtartam": "2",
                                    "Előző időtartama": "2"
                                },
                                {
                                    "SZOBA_ID": "122",
                                    "FOGLALAS_PK": "1036",
                                    "Időtartam": "2",
                                    "Előző időtartama": "2"
                                },
                                {
                                    "SZOBA_ID": "122",
                                    "FOGLALAS_PK": "1007",
                                    "Időtartam": "2",
                                    "Előző időtartama": "2"
                                },
                                {
                                    "SZOBA_ID": "122",
                                    "FOGLALAS_PK": "1062",
                                    "Időtartam": "3",
                                    "Előző időtartama": "2"
                                },
                                {
                                    "SZOBA_ID": "122",
                                    "FOGLALAS_PK": "1440",
                                    "Időtartam": "3",
                                    "Előző időtartama": "3"
                                },
                                {
                                    "SZOBA_ID": "122",
                                    "FOGLALAS_PK": "1166",
                                    "Időtartam": "4",
                                    "Előző időtartama": "3"
                                },
                                {
                                    "SZOBA_ID": "122",
                                    "FOGLALAS_PK": "1385",
                                    "Időtartam": "5",
                                    "Előző időtartama": "4"
                                },
                                {
                                    "SZOBA_ID": "123",
                                    "FOGLALAS_PK": "1223",
                                    "Időtartam": "1",
                                    "Előző időtartama": "0"
                                },
                                {
                                    "SZOBA_ID": "123",
                                    "FOGLALAS_PK": "923",
                                    "Időtartam": "4",
                                    "Előző időtartama": "1"
                                },
                                {
                                    "SZOBA_ID": "123",
                                    "FOGLALAS_PK": "967",
                                    "Időtartam": "5",
                                    "Előző időtartama": "4"
                                },
                                {
                                    "SZOBA_ID": "123",
                                    "FOGLALAS_PK": "1282",
                                    "Időtartam": "6",
                                    "Előző időtartama": "5"
                                },
                                {
                                    "SZOBA_ID": "123",
                                    "FOGLALAS_PK": "587",
                                    "Időtartam": "7",
                                    "Előző időtartama": "6"
                                },
                                {
                                    "SZOBA_ID": "124",
                                    "FOGLALAS_PK": "861",
                                    "Időtartam": "1",
                                    "Előző időtartama": "0"
                                },
                                {
                                    "SZOBA_ID": "124",
                                    "FOGLALAS_PK": "1419",
                                    "Időtartam": "3",
                                    "Előző időtartama": "1"
                                },
                                {
                                    "SZOBA_ID": "124",
                                    "FOGLALAS_PK": "1210",
                                    "Időtartam": "4",
                                    "Előző időtartama": "3"
                                },
                                {
                                    "SZOBA_ID": "124",
                                    "FOGLALAS_PK": "1403",
                                    "Időtartam": "6",
                                    "Előző időtartama": "4"
                                },
                                {
                                    "SZOBA_ID": "124",
                                    "FOGLALAS_PK": "1531",
                                    "Időtartam": "6",
                                    "Előző időtartama": "6"
                                },
                                {
                                    "SZOBA_ID": "124",
                                    "FOGLALAS_PK": "1330",
                                    "Időtartam": "7",
                                    "Előző időtartama": "6"
                                },
                                {
                                    "SZOBA_ID": "125",
                                    "FOGLALAS_PK": "576",
                                    "Időtartam": "1",
                                    "Előző időtartama": "0"
                                },
                                {
                                    "SZOBA_ID": "126",
                                    "FOGLALAS_PK": "1134",
                                    "Időtartam": "1",
                                    "Előző időtartama": "0"
                                },
                                {
                                    "SZOBA_ID": "126",
                                    "FOGLALAS_PK": "1500",
                                    "Időtartam": "4",
                                    "Előző időtartama": "1"
                                },
                                {
                                    "SZOBA_ID": "126",
                                    "FOGLALAS_PK": "754",
                                    "Időtartam": "4",
                                    "Előző időtartama": "4"
                                },
                                {
                                    "SZOBA_ID": "126",
                                    "FOGLALAS_PK": "806",
                                    "Időtartam": "6",
                                    "Előző időtartama": "4"
                                },
                                {
                                    "SZOBA_ID": "126",
                                    "FOGLALAS_PK": "1364",
                                    "Időtartam": "6",
                                    "Előző időtartama": "6"
                                },
                                {
                                    "SZOBA_ID": "126",
                                    "FOGLALAS_PK": "1428",
                                    "Időtartam": "7",
                                    "Előző időtartama": "6"
                                },
                                {
                                    "SZOBA_ID": "127",
                                    "FOGLALAS_PK": "1286",
                                    "Időtartam": "1",
                                    "Előző időtartama": "0"
                                },
                                {
                                    "SZOBA_ID": "127",
                                    "FOGLALAS_PK": "643",
                                    "Időtartam": "2",
                                    "Előző időtartama": "1"
                                },
                                {
                                    "SZOBA_ID": "127",
                                    "FOGLALAS_PK": "879",
                                    "Időtartam": "2",
                                    "Előző időtartama": "2"
                                },
                                {
                                    "SZOBA_ID": "127",
                                    "FOGLALAS_PK": "853",
                                    "Időtartam": "5",
                                    "Előző időtartama": "2"
                                },
                                {
                                    "SZOBA_ID": "127",
                                    "FOGLALAS_PK": "1226",
                                    "Időtartam": "5",
                                    "Előző időtartama": "5"
                                },
                                {
                                    "SZOBA_ID": "127",
                                    "FOGLALAS_PK": "1579",
                                    "Időtartam": "5",
                                    "Előző időtartama": "5"
                                },
                                {
                                    "SZOBA_ID": "127",
                                    "FOGLALAS_PK": "1034",
                                    "Időtartam": "6",
                                    "Előző időtartama": "5"
                                },
                                {
                                    "SZOBA_ID": "128",
                                    "FOGLALAS_PK": "815",
                                    "Időtartam": "1",
                                    "Előző időtartama": "0"
                                },
                                {
                                    "SZOBA_ID": "128",
                                    "FOGLALAS_PK": "1574",
                                    "Időtartam": "1",
                                    "Előző időtartama": "1"
                                },
                                {
                                    "SZOBA_ID": "128",
                                    "FOGLALAS_PK": "1290",
                                    "Időtartam": "1",
                                    "Előző időtartama": "1"
                                },
                                {
                                    "SZOBA_ID": "128",
                                    "FOGLALAS_PK": "717",
                                    "Időtartam": "2",
                                    "Előző időtartama": "1"
                                },
                                {
                                    "SZOBA_ID": "128",
                                    "FOGLALAS_PK": "1583",
                                    "Időtartam": "4",
                                    "Előző időtartama": "2"
                                },
                                {
                                    "SZOBA_ID": "129",
                                    "FOGLALAS_PK": "1509",
                                    "Időtartam": "6",
                                    "Előző időtartama": "0"
                                },
                                {
                                    "SZOBA_ID": "129",
                                    "FOGLALAS_PK": "1360",
                                    "Időtartam": "6",
                                    "Előző időtartama": "6"
                                },
                                {
                                    "SZOBA_ID": "129",
                                    "FOGLALAS_PK": "1445",
                                    "Időtartam": "7",
                                    "Előző időtartama": "6"
                                },
                                {
                                    "SZOBA_ID": "129",
                                    "FOGLALAS_PK": "723",
                                    "Időtartam": "7",
                                    "Előző időtartama": "7"
                                },
                                {
                                    "SZOBA_ID": "130",
                                    "FOGLALAS_PK": "1040",
                                    "Időtartam": "1",
                                    "Előző időtartama": "0"
                                },
                                {
                                    "SZOBA_ID": "130",
                                    "FOGLALAS_PK": "910",
                                    "Időtartam": "2",
                                    "Előző időtartama": "1"
                                },
                                {
                                    "SZOBA_ID": "130",
                                    "FOGLALAS_PK": "580",
                                    "Időtartam": "3",
                                    "Előző időtartama": "2"
                                },
                                {
                                    "SZOBA_ID": "130",
                                    "FOGLALAS_PK": "613",
                                    "Időtartam": "3",
                                    "Előző időtartama": "3"
                                },
                                {
                                    "SZOBA_ID": "130",
                                    "FOGLALAS_PK": "779",
                                    "Időtartam": "6",
                                    "Előző időtartama": "3"
                                },
                                {
                                    "SZOBA_ID": "130",
                                    "FOGLALAS_PK": "1475",
                                    "Időtartam": "7",
                                    "Előző időtartama": "6"
                                },
                                {
                                    "SZOBA_ID": "131",
                                    "FOGLALAS_PK": "655",
                                    "Időtartam": "1",
                                    "Előző időtartama": "0"
                                },
                                {
                                    "SZOBA_ID": "131",
                                    "FOGLALAS_PK": "559",
                                    "Időtartam": "2",
                                    "Előző időtartama": "1"
                                },
                                {
                                    "SZOBA_ID": "131",
                                    "FOGLALAS_PK": "760",
                                    "Időtartam": "4",
                                    "Előző időtartama": "2"
                                },
                                {
                                    "SZOBA_ID": "131",
                                    "FOGLALAS_PK": "1474",
                                    "Időtartam": "5",
                                    "Előző időtartama": "4"
                                },
                                {
                                    "SZOBA_ID": "131",
                                    "FOGLALAS_PK": "881",
                                    "Időtartam": "6",
                                    "Előző időtartama": "5"
                                },
                                {
                                    "SZOBA_ID": "132",
                                    "FOGLALAS_PK": "1519",
                                    "Időtartam": "2",
                                    "Előző időtartama": "0"
                                },
                                {
                                    "SZOBA_ID": "132",
                                    "FOGLALAS_PK": "1301",
                                    "Időtartam": "2",
                                    "Előző időtartama": "2"
                                },
                                {
                                    "SZOBA_ID": "132",
                                    "FOGLALAS_PK": "1111",
                                    "Időtartam": "3",
                                    "Előző időtartama": "2"
                                },
                                {
                                    "SZOBA_ID": "132",
                                    "FOGLALAS_PK": "999",
                                    "Időtartam": "6",
                                    "Előző időtartama": "3"
                                },
                                {
                                    "SZOBA_ID": "132",
                                    "FOGLALAS_PK": "1090",
                                    "Időtartam": "7",
                                    "Előző időtartama": "6"
                                },
                                {
                                    "SZOBA_ID": "132",
                                    "FOGLALAS_PK": "619",
                                    "Időtartam": "7",
                                    "Előző időtartama": "7"
                                },
                                {
                                    "SZOBA_ID": "133",
                                    "FOGLALAS_PK": "1409",
                                    "Időtartam": "1",
                                    "Előző időtartama": "0"
                                },
                                {
                                    "SZOBA_ID": "133",
                                    "FOGLALAS_PK": "1306",
                                    "Időtartam": "3",
                                    "Előző időtartama": "1"
                                },
                                {
                                    "SZOBA_ID": "133",
                                    "FOGLALAS_PK": "988",
                                    "Időtartam": "3",
                                    "Előző időtartama": "3"
                                },
                                {
                                    "SZOBA_ID": "133",
                                    "FOGLALAS_PK": "909",
                                    "Időtartam": "4",
                                    "Előző időtartama": "3"
                                },
                                {
                                    "SZOBA_ID": "133",
                                    "FOGLALAS_PK": "1363",
                                    "Időtartam": "5",
                                    "Előző időtartama": "4"
                                },
                                {
                                    "SZOBA_ID": "133",
                                    "FOGLALAS_PK": "1149",
                                    "Időtartam": "7",
                                    "Előző időtartama": "5"
                                },
                                {
                                    "SZOBA_ID": "134",
                                    "FOGLALAS_PK": "1024",
                                    "Időtartam": "1",
                                    "Előző időtartama": "0"
                                },
                                {
                                    "SZOBA_ID": "134",
                                    "FOGLALAS_PK": "1045",
                                    "Időtartam": "2",
                                    "Előző időtartama": "1"
                                },
                                {
                                    "SZOBA_ID": "134",
                                    "FOGLALAS_PK": "1004",
                                    "Időtartam": "5",
                                    "Előző időtartama": "2"
                                },
                                {
                                    "SZOBA_ID": "134",
                                    "FOGLALAS_PK": "1219",
                                    "Időtartam": "6",
                                    "Előző időtartama": "5"
                                },
                                {
                                    "SZOBA_ID": "134",
                                    "FOGLALAS_PK": "1178",
                                    "Időtartam": "7",
                                    "Előző időtartama": "6"
                                },
                                {
                                    "SZOBA_ID": "134",
                                    "FOGLALAS_PK": "1535",
                                    "Időtartam": "7",
                                    "Előző időtartama": "7"
                                },
                                {
                                    "SZOBA_ID": "135",
                                    "FOGLALAS_PK": "1289",
                                    "Időtartam": "3",
                                    "Előző időtartama": "0"
                                },
                                {
                                    "SZOBA_ID": "135",
                                    "FOGLALAS_PK": "724",
                                    "Időtartam": "6",
                                    "Előző időtartama": "3"
                                },
                                {
                                    "SZOBA_ID": "135",
                                    "FOGLALAS_PK": "849",
                                    "Időtartam": "7",
                                    "Előző időtartama": "6"
                                },
                                {
                                    "SZOBA_ID": "136",
                                    "FOGLALAS_PK": "584",
                                    "Időtartam": "2",
                                    "Előző időtartama": "0"
                                },
                                {
                                    "SZOBA_ID": "136",
                                    "FOGLALAS_PK": "1046",
                                    "Időtartam": "4",
                                    "Előző időtartama": "2"
                                },
                                {
                                    "SZOBA_ID": "136",
                                    "FOGLALAS_PK": "661",
                                    "Időtartam": "5",
                                    "Előző időtartama": "4"
                                },
                                {
                                    "SZOBA_ID": "137",
                                    "FOGLALAS_PK": "1014",
                                    "Időtartam": "1",
                                    "Előző időtartama": "0"
                                },
                                {
                                    "SZOBA_ID": "137",
                                    "FOGLALAS_PK": "582",
                                    "Időtartam": "3",
                                    "Előző időtartama": "1"
                                },
                                {
                                    "SZOBA_ID": "137",
                                    "FOGLALAS_PK": "1280",
                                    "Időtartam": "3",
                                    "Előző időtartama": "3"
                                },
                                {
                                    "SZOBA_ID": "137",
                                    "FOGLALAS_PK": "649",
                                    "Időtartam": "5",
                                    "Előző időtartama": "3"
                                },
                                {
                                    "SZOBA_ID": "137",
                                    "FOGLALAS_PK": "657",
                                    "Időtartam": "6",
                                    "Előző időtartama": "5"
                                },
                                {
                                    "SZOBA_ID": "137",
                                    "FOGLALAS_PK": "1201",
                                    "Időtartam": "6",
                                    "Előző időtartama": "6"
                                },
                                {
                                    "SZOBA_ID": "138",
                                    "FOGLALAS_PK": "1283",
                                    "Időtartam": "2",
                                    "Előző időtartama": "0"
                                },
                                {
                                    "SZOBA_ID": "138",
                                    "FOGLALAS_PK": "1256",
                                    "Időtartam": "4",
                                    "Előző időtartama": "2"
                                },
                                {
                                    "SZOBA_ID": "138",
                                    "FOGLALAS_PK": "796",
                                    "Időtartam": "4",
                                    "Előző időtartama": "4"
                                },
                                {
                                    "SZOBA_ID": "138",
                                    "FOGLALAS_PK": "1294",
                                    "Időtartam": "5",
                                    "Előző időtartama": "4"
                                },
                                {
                                    "SZOBA_ID": "138",
                                    "FOGLALAS_PK": "1370",
                                    "Időtartam": "5",
                                    "Előző időtartama": "5"
                                },
                                {
                                    "SZOBA_ID": "138",
                                    "FOGLALAS_PK": "768",
                                    "Időtartam": "6",
                                    "Előző időtartama": "5"
                                },
                                {
                                    "SZOBA_ID": "138",
                                    "FOGLALAS_PK": "1358",
                                    "Időtartam": "7",
                                    "Előző időtartama": "6"
                                },
                                {
                                    "SZOBA_ID": "139",
                                    "FOGLALAS_PK": "745",
                                    "Időtartam": "1",
                                    "Előző időtartama": "0"
                                },
                                {
                                    "SZOBA_ID": "139",
                                    "FOGLALAS_PK": "579",
                                    "Időtartam": "2",
                                    "Előző időtartama": "1"
                                },
                                {
                                    "SZOBA_ID": "139",
                                    "FOGLALAS_PK": "1042",
                                    "Időtartam": "2",
                                    "Előző időtartama": "2"
                                },
                                {
                                    "SZOBA_ID": "139",
                                    "FOGLALAS_PK": "751",
                                    "Időtartam": "4",
                                    "Előző időtartama": "2"
                                },
                                {
                                    "SZOBA_ID": "139",
                                    "FOGLALAS_PK": "1064",
                                    "Időtartam": "6",
                                    "Előző időtartama": "4"
                                },
                                {
                                    "SZOBA_ID": "139",
                                    "FOGLALAS_PK": "1433",
                                    "Időtartam": "6",
                                    "Előző időtartama": "6"
                                },
                                {
                                    "SZOBA_ID": "139",
                                    "FOGLALAS_PK": "1450",
                                    "Időtartam": "7",
                                    "Előző időtartama": "6"
                                },
                                {
                                    "SZOBA_ID": "140",
                                    "FOGLALAS_PK": "1371",
                                    "Időtartam": "1",
                                    "Előző időtartama": "0"
                                },
                                {
                                    "SZOBA_ID": "140",
                                    "FOGLALAS_PK": "733",
                                    "Időtartam": "1",
                                    "Előző időtartama": "1"
                                },
                                {
                                    "SZOBA_ID": "140",
                                    "FOGLALAS_PK": "1098",
                                    "Időtartam": "2",
                                    "Előző időtartama": "1"
                                },
                                {
                                    "SZOBA_ID": "140",
                                    "FOGLALAS_PK": "915",
                                    "Időtartam": "2",
                                    "Előző időtartama": "2"
                                },
                                {
                                    "SZOBA_ID": "140",
                                    "FOGLALAS_PK": "1361",
                                    "Időtartam": "3",
                                    "Előző időtartama": "2"
                                },
                                {
                                    "SZOBA_ID": "140",
                                    "FOGLALAS_PK": "1156",
                                    "Időtartam": "3",
                                    "Előző időtartama": "3"
                                },
                                {
                                    "SZOBA_ID": "140",
                                    "FOGLALAS_PK": "1357",
                                    "Időtartam": "4",
                                    "Előző időtartama": "3"
                                },
                                {
                                    "SZOBA_ID": "140",
                                    "FOGLALAS_PK": "1259",
                                    "Időtartam": "7",
                                    "Előző időtartama": "4"
                                },
                                {
                                    "SZOBA_ID": "141",
                                    "FOGLALAS_PK": "908",
                                    "Időtartam": "2",
                                    "Előző időtartama": "0"
                                },
                                {
                                    "SZOBA_ID": "141",
                                    "FOGLALAS_PK": "761",
                                    "Időtartam": "3",
                                    "Előző időtartama": "2"
                                },
                                {
                                    "SZOBA_ID": "141",
                                    "FOGLALAS_PK": "1254",
                                    "Időtartam": "4",
                                    "Előző időtartama": "3"
                                },
                                {
                                    "SZOBA_ID": "141",
                                    "FOGLALAS_PK": "1401",
                                    "Időtartam": "6",
                                    "Előző időtartama": "4"
                                },
                                {
                                    "SZOBA_ID": "141",
                                    "FOGLALAS_PK": "565",
                                    "Időtartam": "6",
                                    "Előző időtartama": "6"
                                },
                                {
                                    "SZOBA_ID": "141",
                                    "FOGLALAS_PK": "784",
                                    "Időtartam": "7",
                                    "Előző időtartama": "6"
                                },
                                {
                                    "SZOBA_ID": "142",
                                    "FOGLALAS_PK": "1545",
                                    "Időtartam": "3",
                                    "Előző időtartama": "0"
                                },
                                {
                                    "SZOBA_ID": "142",
                                    "FOGLALAS_PK": "1369",
                                    "Időtartam": "6",
                                    "Előző időtartama": "3"
                                },
                                {
                                    "SZOBA_ID": "143",
                                    "FOGLALAS_PK": "1222",
                                    "Időtartam": "2",
                                    "Előző időtartama": "0"
                                },
                                {
                                    "SZOBA_ID": "143",
                                    "FOGLALAS_PK": "1394",
                                    "Időtartam": "3",
                                    "Előző időtartama": "2"
                                },
                                {
                                    "SZOBA_ID": "143",
                                    "FOGLALAS_PK": "980",
                                    "Időtartam": "3",
                                    "Előző időtartama": "3"
                                },
                                {
                                    "SZOBA_ID": "143",
                                    "FOGLALAS_PK": "1313",
                                    "Időtartam": "4",
                                    "Előző időtartama": "3"
                                },
                                {
                                    "SZOBA_ID": "143",
                                    "FOGLALAS_PK": "1193",
                                    "Időtartam": "6",
                                    "Előző időtartama": "4"
                                },
                                {
                                    "SZOBA_ID": "143",
                                    "FOGLALAS_PK": "1448",
                                    "Időtartam": "6",
                                    "Előző időtartama": "6"
                                },
                                {
                                    "SZOBA_ID": "143",
                                    "FOGLALAS_PK": "1155",
                                    "Időtartam": "7",
                                    "Előző időtartama": "6"
                                },
                                {
                                    "SZOBA_ID": "144",
                                    "FOGLALAS_PK": "1297",
                                    "Időtartam": "1",
                                    "Előző időtartama": "0"
                                },
                                {
                                    "SZOBA_ID": "144",
                                    "FOGLALAS_PK": "1572",
                                    "Időtartam": "2",
                                    "Előző időtartama": "1"
                                },
                                {
                                    "SZOBA_ID": "144",
                                    "FOGLALAS_PK": "1087",
                                    "Időtartam": "2",
                                    "Előző időtartama": "2"
                                },
                                {
                                    "SZOBA_ID": "144",
                                    "FOGLALAS_PK": "581",
                                    "Időtartam": "4",
                                    "Előző időtartama": "2"
                                },
                                {
                                    "SZOBA_ID": "144",
                                    "FOGLALAS_PK": "1199",
                                    "Időtartam": "7",
                                    "Előző időtartama": "4"
                                },
                                {
                                    "SZOBA_ID": "145",
                                    "FOGLALAS_PK": "1471",
                                    "Időtartam": "1",
                                    "Előző időtartama": "0"
                                },
                                {
                                    "SZOBA_ID": "145",
                                    "FOGLALAS_PK": "1077",
                                    "Időtartam": "1",
                                    "Előző időtartama": "1"
                                },
                                {
                                    "SZOBA_ID": "145",
                                    "FOGLALAS_PK": "1120",
                                    "Időtartam": "1",
                                    "Előző időtartama": "1"
                                },
                                {
                                    "SZOBA_ID": "145",
                                    "FOGLALAS_PK": "1338",
                                    "Időtartam": "2",
                                    "Előző időtartama": "1"
                                },
                                {
                                    "SZOBA_ID": "145",
                                    "FOGLALAS_PK": "1145",
                                    "Időtartam": "4",
                                    "Előző időtartama": "2"
                                },
                                {
                                    "SZOBA_ID": "145",
                                    "FOGLALAS_PK": "703",
                                    "Időtartam": "4",
                                    "Előző időtartama": "4"
                                },
                                {
                                    "SZOBA_ID": "146",
                                    "FOGLALAS_PK": "664",
                                    "Időtartam": "3",
                                    "Előző időtartama": "0"
                                },
                                {
                                    "SZOBA_ID": "146",
                                    "FOGLALAS_PK": "890",
                                    "Időtartam": "3",
                                    "Előző időtartama": "3"
                                },
                                {
                                    "SZOBA_ID": "146",
                                    "FOGLALAS_PK": "1032",
                                    "Időtartam": "5",
                                    "Előző időtartama": "3"
                                },
                                {
                                    "SZOBA_ID": "146",
                                    "FOGLALAS_PK": "1479",
                                    "Időtartam": "6",
                                    "Előző időtartama": "5"
                                },
                                {
                                    "SZOBA_ID": "146",
                                    "FOGLALAS_PK": "789",
                                    "Időtartam": "7",
                                    "Előző időtartama": "6"
                                },
                                {
                                    "SZOBA_ID": "146",
                                    "FOGLALAS_PK": "804",
                                    "Időtartam": "7",
                                    "Előző időtartama": "7"
                                },
                                {
                                    "SZOBA_ID": "147",
                                    "FOGLALAS_PK": "771",
                                    "Időtartam": "4",
                                    "Előző időtartama": "0"
                                },
                                {
                                    "SZOBA_ID": "148",
                                    "FOGLALAS_PK": "808",
                                    "Időtartam": "2",
                                    "Előző időtartama": "0"
                                },
                                {
                                    "SZOBA_ID": "148",
                                    "FOGLALAS_PK": "765",
                                    "Időtartam": "3",
                                    "Előző időtartama": "2"
                                },
                                {
                                    "SZOBA_ID": "148",
                                    "FOGLALAS_PK": "678",
                                    "Időtartam": "4",
                                    "Előző időtartama": "3"
                                },
                                {
                                    "SZOBA_ID": "148",
                                    "FOGLALAS_PK": "812",
                                    "Időtartam": "6",
                                    "Előző időtartama": "4"
                                },
                                {
                                    "SZOBA_ID": "148",
                                    "FOGLALAS_PK": "783",
                                    "Időtartam": "7",
                                    "Előző időtartama": "6"
                                },
                                {
                                    "SZOBA_ID": "148",
                                    "FOGLALAS_PK": "1578",
                                    "Időtartam": "7",
                                    "Előző időtartama": "7"
                                },
                                {
                                    "SZOBA_ID": "149",
                                    "FOGLALAS_PK": "652",
                                    "Időtartam": "1",
                                    "Előző időtartama": "0"
                                },
                                {
                                    "SZOBA_ID": "149",
                                    "FOGLALAS_PK": "591",
                                    "Időtartam": "1",
                                    "Előző időtartama": "1"
                                },
                                {
                                    "SZOBA_ID": "149",
                                    "FOGLALAS_PK": "833",
                                    "Időtartam": "2",
                                    "Előző időtartama": "1"
                                },
                                {
                                    "SZOBA_ID": "149",
                                    "FOGLALAS_PK": "843",
                                    "Időtartam": "4",
                                    "Előző időtartama": "2"
                                },
                                {
                                    "SZOBA_ID": "149",
                                    "FOGLALAS_PK": "834",
                                    "Időtartam": "5",
                                    "Előző időtartama": "4"
                                },
                                {
                                    "SZOBA_ID": "149",
                                    "FOGLALAS_PK": "1514",
                                    "Időtartam": "5",
                                    "Előző időtartama": "5"
                                },
                                {
                                    "SZOBA_ID": "149",
                                    "FOGLALAS_PK": "1146",
                                    "Időtartam": "6",
                                    "Előző időtartama": "5"
                                },
                                {
                                    "SZOBA_ID": "150",
                                    "FOGLALAS_PK": "1177",
                                    "Időtartam": "1",
                                    "Előző időtartama": "0"
                                },
                                {
                                    "SZOBA_ID": "150",
                                    "FOGLALAS_PK": "1105",
                                    "Időtartam": "1",
                                    "Előző időtartama": "1"
                                },
                                {
                                    "SZOBA_ID": "150",
                                    "FOGLALAS_PK": "641",
                                    "Időtartam": "3",
                                    "Előző időtartama": "1"
                                },
                                {
                                    "SZOBA_ID": "150",
                                    "FOGLALAS_PK": "1432",
                                    "Időtartam": "3",
                                    "Előző időtartama": "3"
                                },
                                {
                                    "SZOBA_ID": "150",
                                    "FOGLALAS_PK": "1203",
                                    "Időtartam": "4",
                                    "Előző időtartama": "3"
                                },
                                {
                                    "SZOBA_ID": "150",
                                    "FOGLALAS_PK": "1100",
                                    "Időtartam": "5",
                                    "Előző időtartama": "4"
                                },
                                {
                                    "SZOBA_ID": "151",
                                    "FOGLALAS_PK": "1115",
                                    "Időtartam": "3",
                                    "Előző időtartama": "0"
                                },
                                {
                                    "SZOBA_ID": "151",
                                    "FOGLALAS_PK": "1058",
                                    "Időtartam": "3",
                                    "Előző időtartama": "3"
                                },
                                {
                                    "SZOBA_ID": "151",
                                    "FOGLALAS_PK": "893",
                                    "Időtartam": "3",
                                    "Előző időtartama": "3"
                                },
                                {
                                    "SZOBA_ID": "152",
                                    "FOGLALAS_PK": "730",
                                    "Időtartam": "2",
                                    "Előző időtartama": "0"
                                },
                                {
                                    "SZOBA_ID": "152",
                                    "FOGLALAS_PK": "1558",
                                    "Időtartam": "2",
                                    "Előző időtartama": "2"
                                },
                                {
                                    "SZOBA_ID": "152",
                                    "FOGLALAS_PK": "1197",
                                    "Időtartam": "6",
                                    "Előző időtartama": "2"
                                },
                                {
                                    "SZOBA_ID": "152",
                                    "FOGLALAS_PK": "1160",
                                    "Időtartam": "7",
                                    "Előző időtartama": "6"
                                },
                                {
                                    "SZOBA_ID": "153",
                                    "FOGLALAS_PK": "1507",
                                    "Időtartam": "3",
                                    "Előző időtartama": "0"
                                },
                                {
                                    "SZOBA_ID": "153",
                                    "FOGLALAS_PK": "1460",
                                    "Időtartam": "3",
                                    "Előző időtartama": "3"
                                },
                                {
                                    "SZOBA_ID": "153",
                                    "FOGLALAS_PK": "594",
                                    "Időtartam": "3",
                                    "Előző időtartama": "3"
                                },
                                {
                                    "SZOBA_ID": "153",
                                    "FOGLALAS_PK": "1470",
                                    "Időtartam": "5",
                                    "Előző időtartama": "3"
                                },
                                {
                                    "SZOBA_ID": "153",
                                    "FOGLALAS_PK": "969",
                                    "Időtartam": "6",
                                    "Előző időtartama": "5"
                                },
                                {
                                    "SZOBA_ID": "154",
                                    "FOGLALAS_PK": "968",
                                    "Időtartam": "1",
                                    "Előző időtartama": "0"
                                },
                                {
                                    "SZOBA_ID": "154",
                                    "FOGLALAS_PK": "1262",
                                    "Időtartam": "1",
                                    "Előző időtartama": "1"
                                },
                                {
                                    "SZOBA_ID": "154",
                                    "FOGLALAS_PK": "1539",
                                    "Időtartam": "2",
                                    "Előző időtartama": "1"
                                },
                                {
                                    "SZOBA_ID": "154",
                                    "FOGLALAS_PK": "1168",
                                    "Időtartam": "6",
                                    "Előző időtartama": "2"
                                },
                                {
                                    "SZOBA_ID": "154",
                                    "FOGLALAS_PK": "1061",
                                    "Időtartam": "7",
                                    "Előző időtartama": "6"
                                },
                                {
                                    "SZOBA_ID": "155",
                                    "FOGLALAS_PK": "575",
                                    "Időtartam": "1",
                                    "Előző időtartama": "0"
                                },
                                {
                                    "SZOBA_ID": "155",
                                    "FOGLALAS_PK": "1310",
                                    "Időtartam": "1",
                                    "Előző időtartama": "1"
                                },
                                {
                                    "SZOBA_ID": "155",
                                    "FOGLALAS_PK": "1541",
                                    "Időtartam": "1",
                                    "Előző időtartama": "1"
                                },
                                {
                                    "SZOBA_ID": "155",
                                    "FOGLALAS_PK": "577",
                                    "Időtartam": "3",
                                    "Előző időtartama": "1"
                                },
                                {
                                    "SZOBA_ID": "155",
                                    "FOGLALAS_PK": "1112",
                                    "Időtartam": "4",
                                    "Előző időtartama": "3"
                                },
                                {
                                    "SZOBA_ID": "156",
                                    "FOGLALAS_PK": "1490",
                                    "Időtartam": "1",
                                    "Előző időtartama": "0"
                                },
                                {
                                    "SZOBA_ID": "156",
                                    "FOGLALAS_PK": "907",
                                    "Időtartam": "3",
                                    "Előző időtartama": "1"
                                },
                                {
                                    "SZOBA_ID": "156",
                                    "FOGLALAS_PK": "1561",
                                    "Időtartam": "4",
                                    "Előző időtartama": "3"
                                },
                                {
                                    "SZOBA_ID": "156",
                                    "FOGLALAS_PK": "956",
                                    "Időtartam": "6",
                                    "Előző időtartama": "4"
                                },
                                {
                                    "SZOBA_ID": "156",
                                    "FOGLALAS_PK": "692",
                                    "Időtartam": "6",
                                    "Előző időtartama": "6"
                                },
                                {
                                    "SZOBA_ID": "156",
                                    "FOGLALAS_PK": "588",
                                    "Időtartam": "7",
                                    "Előző időtartama": "6"
                                },
                                {
                                    "SZOBA_ID": "156",
                                    "FOGLALAS_PK": "1462",
                                    "Időtartam": "7",
                                    "Előző időtartama": "7"
                                },
                                {
                                    "SZOBA_ID": "157",
                                    "FOGLALAS_PK": "1551",
                                    "Időtartam": "3",
                                    "Előző időtartama": "0"
                                },
                                {
                                    "SZOBA_ID": "157",
                                    "FOGLALAS_PK": "1025",
                                    "Időtartam": "3",
                                    "Előző időtartama": "3"
                                },
                                {
                                    "SZOBA_ID": "157",
                                    "FOGLALAS_PK": "1047",
                                    "Időtartam": "4",
                                    "Előző időtartama": "3"
                                },
                                {
                                    "SZOBA_ID": "157",
                                    "FOGLALAS_PK": "648",
                                    "Időtartam": "4",
                                    "Előző időtartama": "4"
                                },
                                {
                                    "SZOBA_ID": "157",
                                    "FOGLALAS_PK": "1240",
                                    "Időtartam": "7",
                                    "Előző időtartama": "4"
                                },
                                {
                                    "SZOBA_ID": "158",
                                    "FOGLALAS_PK": "1117",
                                    "Időtartam": "3",
                                    "Előző időtartama": "0"
                                },
                                {
                                    "SZOBA_ID": "158",
                                    "FOGLALAS_PK": "840",
                                    "Időtartam": "4",
                                    "Előző időtartama": "3"
                                },
                                {
                                    "SZOBA_ID": "158",
                                    "FOGLALAS_PK": "825",
                                    "Időtartam": "4",
                                    "Előző időtartama": "4"
                                },
                                {
                                    "SZOBA_ID": "160",
                                    "FOGLALAS_PK": "720",
                                    "Időtartam": "2",
                                    "Előző időtartama": "0"
                                },
                                {
                                    "SZOBA_ID": "160",
                                    "FOGLALAS_PK": "922",
                                    "Időtartam": "2",
                                    "Előző időtartama": "2"
                                },
                                {
                                    "SZOBA_ID": "160",
                                    "FOGLALAS_PK": "1565",
                                    "Időtartam": "3",
                                    "Előző időtartama": "2"
                                },
                                {
                                    "SZOBA_ID": "160",
                                    "FOGLALAS_PK": "927",
                                    "Időtartam": "4",
                                    "Előző időtartama": "3"
                                },
                                {
                                    "SZOBA_ID": "160",
                                    "FOGLALAS_PK": "933",
                                    "Időtartam": "4",
                                    "Előző időtartama": "4"
                                },
                                {
                                    "SZOBA_ID": "161",
                                    "FOGLALAS_PK": "911",
                                    "Időtartam": "4",
                                    "Előző időtartama": "0"
                                },
                                {
                                    "SZOBA_ID": "161",
                                    "FOGLALAS_PK": "639",
                                    "Időtartam": "4",
                                    "Előző időtartama": "4"
                                },
                                {
                                    "SZOBA_ID": "161",
                                    "FOGLALAS_PK": "1571",
                                    "Időtartam": "4",
                                    "Előző időtartama": "4"
                                },
                                {
                                    "SZOBA_ID": "161",
                                    "FOGLALAS_PK": "1068",
                                    "Időtartam": "6",
                                    "Előző időtartama": "4"
                                },
                                {
                                    "SZOBA_ID": "161",
                                    "FOGLALAS_PK": "653",
                                    "Időtartam": "7",
                                    "Előző időtartama": "6"
                                },
                                {
                                    "SZOBA_ID": "161",
                                    "FOGLALAS_PK": "1190",
                                    "Időtartam": "7",
                                    "Előző időtartama": "7"
                                },
                                {
                                    "SZOBA_ID": "162",
                                    "FOGLALAS_PK": "1400",
                                    "Időtartam": "1",
                                    "Előző időtartama": "0"
                                },
                                {
                                    "SZOBA_ID": "162",
                                    "FOGLALAS_PK": "599",
                                    "Időtartam": "4",
                                    "Előző időtartama": "1"
                                },
                                {
                                    "SZOBA_ID": "162",
                                    "FOGLALAS_PK": "1205",
                                    "Időtartam": "6",
                                    "Előző időtartama": "4"
                                },
                                {
                                    "SZOBA_ID": "163",
                                    "FOGLALAS_PK": "941",
                                    "Időtartam": "1",
                                    "Előző időtartama": "0"
                                },
                                {
                                    "SZOBA_ID": "163",
                                    "FOGLALAS_PK": "630",
                                    "Időtartam": "2",
                                    "Előző időtartama": "1"
                                },
                                {
                                    "SZOBA_ID": "163",
                                    "FOGLALAS_PK": "782",
                                    "Időtartam": "3",
                                    "Előző időtartama": "2"
                                },
                                {
                                    "SZOBA_ID": "163",
                                    "FOGLALAS_PK": "1107",
                                    "Időtartam": "3",
                                    "Előző időtartama": "3"
                                },
                                {
                                    "SZOBA_ID": "163",
                                    "FOGLALAS_PK": "1487",
                                    "Időtartam": "3",
                                    "Előző időtartama": "3"
                                },
                                {
                                    "SZOBA_ID": "163",
                                    "FOGLALAS_PK": "1075",
                                    "Időtartam": "4",
                                    "Előző időtartama": "3"
                                },
                                {
                                    "SZOBA_ID": "163",
                                    "FOGLALAS_PK": "1265",
                                    "Időtartam": "5",
                                    "Előző időtartama": "4"
                                },
                                {
                                    "SZOBA_ID": "164",
                                    "FOGLALAS_PK": "1292",
                                    "Időtartam": "2",
                                    "Előző időtartama": "0"
                                },
                                {
                                    "SZOBA_ID": "164",
                                    "FOGLALAS_PK": "1010",
                                    "Időtartam": "2",
                                    "Előző időtartama": "2"
                                },
                                {
                                    "SZOBA_ID": "164",
                                    "FOGLALAS_PK": "1284",
                                    "Időtartam": "4",
                                    "Előző időtartama": "2"
                                },
                                {
                                    "SZOBA_ID": "164",
                                    "FOGLALAS_PK": "742",
                                    "Időtartam": "6",
                                    "Előző időtartama": "4"
                                },
                                {
                                    "SZOBA_ID": "164",
                                    "FOGLALAS_PK": "570",
                                    "Időtartam": "7",
                                    "Előző időtartama": "6"
                                },
                                {
                                    "SZOBA_ID": "165",
                                    "FOGLALAS_PK": "1141",
                                    "Időtartam": "1",
                                    "Előző időtartama": "0"
                                },
                                {
                                    "SZOBA_ID": "165",
                                    "FOGLALAS_PK": "640",
                                    "Időtartam": "3",
                                    "Előző időtartama": "1"
                                },
                                {
                                    "SZOBA_ID": "165",
                                    "FOGLALAS_PK": "892",
                                    "Időtartam": "3",
                                    "Előző időtartama": "3"
                                },
                                {
                                    "SZOBA_ID": "165",
                                    "FOGLALAS_PK": "1375",
                                    "Időtartam": "4",
                                    "Előző időtartama": "3"
                                },
                                {
                                    "SZOBA_ID": "165",
                                    "FOGLALAS_PK": "857",
                                    "Időtartam": "5",
                                    "Előző időtartama": "4"
                                },
                                {
                                    "SZOBA_ID": "165",
                                    "FOGLALAS_PK": "900",
                                    "Időtartam": "6",
                                    "Előző időtartama": "5"
                                },
                                {
                                    "SZOBA_ID": "165",
                                    "FOGLALAS_PK": "897",
                                    "Időtartam": "6",
                                    "Előző időtartama": "6"
                                },
                                {
                                    "SZOBA_ID": "166",
                                    "FOGLALAS_PK": "1526",
                                    "Időtartam": "2",
                                    "Előző időtartama": "0"
                                },
                                {
                                    "SZOBA_ID": "166",
                                    "FOGLALAS_PK": "644",
                                    "Időtartam": "7",
                                    "Előző időtartama": "2"
                                },
                                {
                                    "SZOBA_ID": "166",
                                    "FOGLALAS_PK": "781",
                                    "Időtartam": "7",
                                    "Előző időtartama": "7"
                                },
                                {
                                    "SZOBA_ID": "167",
                                    "FOGLALAS_PK": "1414",
                                    "Időtartam": "3",
                                    "Előző időtartama": "0"
                                },
                                {
                                    "SZOBA_ID": "167",
                                    "FOGLALAS_PK": "854",
                                    "Időtartam": "7",
                                    "Előző időtartama": "3"
                                },
                                {
                                    "SZOBA_ID": "168",
                                    "FOGLALAS_PK": "930",
                                    "Időtartam": "3",
                                    "Előző időtartama": "0"
                                },
                                {
                                    "SZOBA_ID": "168",
                                    "FOGLALAS_PK": "792",
                                    "Időtartam": "3",
                                    "Előző időtartama": "3"
                                },
                                {
                                    "SZOBA_ID": "168",
                                    "FOGLALAS_PK": "794",
                                    "Időtartam": "4",
                                    "Előző időtartama": "3"
                                },
                                {
                                    "SZOBA_ID": "168",
                                    "FOGLALAS_PK": "1266",
                                    "Időtartam": "4",
                                    "Előző időtartama": "4"
                                },
                                {
                                    "SZOBA_ID": "168",
                                    "FOGLALAS_PK": "1249",
                                    "Időtartam": "4",
                                    "Előző időtartama": "4"
                                },
                                {
                                    "SZOBA_ID": "169",
                                    "FOGLALAS_PK": "1427",
                                    "Időtartam": "1",
                                    "Előző időtartama": "0"
                                },
                                {
                                    "SZOBA_ID": "169",
                                    "FOGLALAS_PK": "974",
                                    "Időtartam": "1",
                                    "Előző időtartama": "1"
                                },
                                {
                                    "SZOBA_ID": "169",
                                    "FOGLALAS_PK": "1356",
                                    "Időtartam": "4",
                                    "Előző időtartama": "1"
                                },
                                {
                                    "SZOBA_ID": "169",
                                    "FOGLALAS_PK": "573",
                                    "Időtartam": "5",
                                    "Előző időtartama": "4"
                                },
                                {
                                    "SZOBA_ID": "169",
                                    "FOGLALAS_PK": "659",
                                    "Időtartam": "6",
                                    "Előző időtartama": "5"
                                },
                                {
                                    "SZOBA_ID": "169",
                                    "FOGLALAS_PK": "746",
                                    "Időtartam": "7",
                                    "Előző időtartama": "6"
                                },
                                {
                                    "SZOBA_ID": "170",
                                    "FOGLALAS_PK": "944",
                                    "Időtartam": "4",
                                    "Előző időtartama": "0"
                                },
                                {
                                    "SZOBA_ID": "170",
                                    "FOGLALAS_PK": "1194",
                                    "Időtartam": "4",
                                    "Előző időtartama": "4"
                                },
                                {
                                    "SZOBA_ID": "170",
                                    "FOGLALAS_PK": "1342",
                                    "Időtartam": "6",
                                    "Előző időtartama": "4"
                                },
                                {
                                    "SZOBA_ID": "170",
                                    "FOGLALAS_PK": "1267",
                                    "Időtartam": "7",
                                    "Előző időtartama": "6"
                                },
                                {
                                    "SZOBA_ID": "170",
                                    "FOGLALAS_PK": "567",
                                    "Időtartam": "7",
                                    "Előző időtartama": "7"
                                },
                                {
                                    "SZOBA_ID": "171",
                                    "FOGLALAS_PK": "574",
                                    "Időtartam": "2",
                                    "Előző időtartama": "0"
                                },
                                {
                                    "SZOBA_ID": "171",
                                    "FOGLALAS_PK": "981",
                                    "Időtartam": "4",
                                    "Előző időtartama": "2"
                                },
                                {
                                    "SZOBA_ID": "171",
                                    "FOGLALAS_PK": "1329",
                                    "Időtartam": "5",
                                    "Előző időtartama": "4"
                                },
                                {
                                    "SZOBA_ID": "171",
                                    "FOGLALAS_PK": "1181",
                                    "Időtartam": "6",
                                    "Előző időtartama": "5"
                                },
                                {
                                    "SZOBA_ID": "171",
                                    "FOGLALAS_PK": "1567",
                                    "Időtartam": "6",
                                    "Előző időtartama": "6"
                                },
                                {
                                    "SZOBA_ID": "172",
                                    "FOGLALAS_PK": "1491",
                                    "Időtartam": "2",
                                    "Előző időtartama": "0"
                                },
                                {
                                    "SZOBA_ID": "172",
                                    "FOGLALAS_PK": "1142",
                                    "Időtartam": "4",
                                    "Előző időtartama": "2"
                                },
                                {
                                    "SZOBA_ID": "172",
                                    "FOGLALAS_PK": "984",
                                    "Időtartam": "4",
                                    "Előző időtartama": "4"
                                },
                                {
                                    "SZOBA_ID": "172",
                                    "FOGLALAS_PK": "709",
                                    "Időtartam": "5",
                                    "Előző időtartama": "4"
                                },
                                {
                                    "SZOBA_ID": "172",
                                    "FOGLALAS_PK": "839",
                                    "Időtartam": "5",
                                    "Előző időtartama": "5"
                                },
                                {
                                    "SZOBA_ID": "172",
                                    "FOGLALAS_PK": "1171",
                                    "Időtartam": "5",
                                    "Előző időtartama": "5"
                                },
                                {
                                    "SZOBA_ID": "172",
                                    "FOGLALAS_PK": "1336",
                                    "Időtartam": "5",
                                    "Előző időtartama": "5"
                                },
                                {
                                    "SZOBA_ID": "172",
                                    "FOGLALAS_PK": "1421",
                                    "Időtartam": "5",
                                    "Előző időtartama": "5"
                                },
                                {
                                    "SZOBA_ID": "172",
                                    "FOGLALAS_PK": "749",
                                    "Időtartam": "6",
                                    "Előző időtartama": "5"
                                },
                                {
                                    "SZOBA_ID": "173",
                                    "FOGLALAS_PK": "913",
                                    "Időtartam": "1",
                                    "Előző időtartama": "0"
                                },
                                {
                                    "SZOBA_ID": "173",
                                    "FOGLALAS_PK": "1350",
                                    "Időtartam": "3",
                                    "Előző időtartama": "1"
                                },
                                {
                                    "SZOBA_ID": "173",
                                    "FOGLALAS_PK": "1429",
                                    "Időtartam": "4",
                                    "Előző időtartama": "3"
                                },
                                {
                                    "SZOBA_ID": "173",
                                    "FOGLALAS_PK": "669",
                                    "Időtartam": "7",
                                    "Előző időtartama": "4"
                                },
                                {
                                    "SZOBA_ID": "174",
                                    "FOGLALAS_PK": "1276",
                                    "Időtartam": "1",
                                    "Előző időtartama": "0"
                                },
                                {
                                    "SZOBA_ID": "174",
                                    "FOGLALAS_PK": "917",
                                    "Időtartam": "2",
                                    "Előző időtartama": "1"
                                },
                                {
                                    "SZOBA_ID": "174",
                                    "FOGLALAS_PK": "682",
                                    "Időtartam": "3",
                                    "Előző időtartama": "2"
                                },
                                {
                                    "SZOBA_ID": "174",
                                    "FOGLALAS_PK": "1015",
                                    "Időtartam": "5",
                                    "Előző időtartama": "3"
                                },
                                {
                                    "SZOBA_ID": "175",
                                    "FOGLALAS_PK": "1133",
                                    "Időtartam": "2",
                                    "Előző időtartama": "0"
                                },
                                {
                                    "SZOBA_ID": "175",
                                    "FOGLALAS_PK": "799",
                                    "Időtartam": "4",
                                    "Előző időtartama": "2"
                                },
                                {
                                    "SZOBA_ID": "175",
                                    "FOGLALAS_PK": "1094",
                                    "Időtartam": "5",
                                    "Előző időtartama": "4"
                                },
                                {
                                    "SZOBA_ID": "175",
                                    "FOGLALAS_PK": "867",
                                    "Időtartam": "6",
                                    "Előző időtartama": "5"
                                },
                                {
                                    "SZOBA_ID": "175",
                                    "FOGLALAS_PK": "1407",
                                    "Időtartam": "7",
                                    "Előző időtartama": "6"
                                },
                                {
                                    "SZOBA_ID": "176",
                                    "FOGLALAS_PK": "1511",
                                    "Időtartam": "2",
                                    "Előző időtartama": "0"
                                },
                                {
                                    "SZOBA_ID": "176",
                                    "FOGLALAS_PK": "1570",
                                    "Időtartam": "3",
                                    "Előző időtartama": "2"
                                },
                                {
                                    "SZOBA_ID": "176",
                                    "FOGLALAS_PK": "1383",
                                    "Időtartam": "4",
                                    "Előző időtartama": "3"
                                },
                                {
                                    "SZOBA_ID": "176",
                                    "FOGLALAS_PK": "592",
                                    "Időtartam": "5",
                                    "Előző időtartama": "4"
                                },
                                {
                                    "SZOBA_ID": "176",
                                    "FOGLALAS_PK": "1278",
                                    "Időtartam": "6",
                                    "Előző időtartama": "5"
                                },
                                {
                                    "SZOBA_ID": "176",
                                    "FOGLALAS_PK": "1143",
                                    "Időtartam": "6",
                                    "Előző időtartama": "6"
                                },
                                {
                                    "SZOBA_ID": "177",
                                    "FOGLALAS_PK": "1176",
                                    "Időtartam": "3",
                                    "Előző időtartama": "0"
                                },
                                {
                                    "SZOBA_ID": "177",
                                    "FOGLALAS_PK": "1503",
                                    "Időtartam": "3",
                                    "Előző időtartama": "3"
                                },
                                {
                                    "SZOBA_ID": "177",
                                    "FOGLALAS_PK": "785",
                                    "Időtartam": "3",
                                    "Előző időtartama": "3"
                                },
                                {
                                    "SZOBA_ID": "177",
                                    "FOGLALAS_PK": "831",
                                    "Időtartam": "7",
                                    "Előző időtartama": "3"
                                },
                                {
                                    "SZOBA_ID": "178",
                                    "FOGLALAS_PK": "1242",
                                    "Időtartam": "1",
                                    "Előző időtartama": "0"
                                },
                                {
                                    "SZOBA_ID": "178",
                                    "FOGLALAS_PK": "1211",
                                    "Időtartam": "3",
                                    "Előző időtartama": "1"
                                },
                                {
                                    "SZOBA_ID": "178",
                                    "FOGLALAS_PK": "816",
                                    "Időtartam": "4",
                                    "Előző időtartama": "3"
                                },
                                {
                                    "SZOBA_ID": "178",
                                    "FOGLALAS_PK": "991",
                                    "Időtartam": "7",
                                    "Előző időtartama": "4"
                                },
                                {
                                    "SZOBA_ID": "179",
                                    "FOGLALAS_PK": "1021",
                                    "Időtartam": "1",
                                    "Előző időtartama": "0"
                                },
                                {
                                    "SZOBA_ID": "179",
                                    "FOGLALAS_PK": "1497",
                                    "Időtartam": "1",
                                    "Előző időtartama": "1"
                                },
                                {
                                    "SZOBA_ID": "179",
                                    "FOGLALAS_PK": "662",
                                    "Időtartam": "2",
                                    "Előző időtartama": "1"
                                },
                                {
                                    "SZOBA_ID": "180",
                                    "FOGLALAS_PK": "1559",
                                    "Időtartam": "3",
                                    "Előző időtartama": "0"
                                },
                                {
                                    "SZOBA_ID": "180",
                                    "FOGLALAS_PK": "905",
                                    "Időtartam": "5",
                                    "Előző időtartama": "3"
                                },
                                {
                                    "SZOBA_ID": "180",
                                    "FOGLALAS_PK": "1563",
                                    "Időtartam": "6",
                                    "Előző időtartama": "5"
                                },
                                {
                                    "SZOBA_ID": "181",
                                    "FOGLALAS_PK": "1022",
                                    "Időtartam": "1",
                                    "Előző időtartama": "0"
                                },
                                {
                                    "SZOBA_ID": "181",
                                    "FOGLALAS_PK": "937",
                                    "Időtartam": "3",
                                    "Előző időtartama": "1"
                                },
                                {
                                    "SZOBA_ID": "181",
                                    "FOGLALAS_PK": "677",
                                    "Időtartam": "4",
                                    "Előző időtartama": "3"
                                },
                                {
                                    "SZOBA_ID": "181",
                                    "FOGLALAS_PK": "958",
                                    "Időtartam": "5",
                                    "Előző időtartama": "4"
                                },
                                {
                                    "SZOBA_ID": "181",
                                    "FOGLALAS_PK": "731",
                                    "Időtartam": "6",
                                    "Előző időtartama": "5"
                                },
                                {
                                    "SZOBA_ID": "181",
                                    "FOGLALAS_PK": "1346",
                                    "Időtartam": "6",
                                    "Előző időtartama": "6"
                                },
                                {
                                    "SZOBA_ID": "182",
                                    "FOGLALAS_PK": "1308",
                                    "Időtartam": "1",
                                    "Előző időtartama": "0"
                                },
                                {
                                    "SZOBA_ID": "182",
                                    "FOGLALAS_PK": "1188",
                                    "Időtartam": "1",
                                    "Előző időtartama": "1"
                                },
                                {
                                    "SZOBA_ID": "182",
                                    "FOGLALAS_PK": "571",
                                    "Időtartam": "2",
                                    "Előző időtartama": "1"
                                },
                                {
                                    "SZOBA_ID": "182",
                                    "FOGLALAS_PK": "928",
                                    "Időtartam": "2",
                                    "Előző időtartama": "2"
                                },
                                {
                                    "SZOBA_ID": "182",
                                    "FOGLALAS_PK": "740",
                                    "Időtartam": "3",
                                    "Előző időtartama": "2"
                                },
                                {
                                    "SZOBA_ID": "182",
                                    "FOGLALAS_PK": "1317",
                                    "Időtartam": "3",
                                    "Előző időtartama": "3"
                                },
                                {
                                    "SZOBA_ID": "182",
                                    "FOGLALAS_PK": "1422",
                                    "Időtartam": "3",
                                    "Előző időtartama": "3"
                                },
                                {
                                    "SZOBA_ID": "182",
                                    "FOGLALAS_PK": "1326",
                                    "Időtartam": "4",
                                    "Előző időtartama": "3"
                                },
                                {
                                    "SZOBA_ID": "182",
                                    "FOGLALAS_PK": "1410",
                                    "Időtartam": "4",
                                    "Előző időtartama": "4"
                                },
                                {
                                    "SZOBA_ID": "182",
                                    "FOGLALAS_PK": "1231",
                                    "Időtartam": "4",
                                    "Előző időtartama": "4"
                                },
                                {
                                    "SZOBA_ID": "182",
                                    "FOGLALAS_PK": "1008",
                                    "Időtartam": "6",
                                    "Előző időtartama": "4"
                                },
                                {
                                    "SZOBA_ID": "182",
                                    "FOGLALAS_PK": "1230",
                                    "Időtartam": "7",
                                    "Előző időtartama": "6"
                                },
                                {
                                    "SZOBA_ID": "183",
                                    "FOGLALAS_PK": "1147",
                                    "Időtartam": "4",
                                    "Előző időtartama": "0"
                                },
                                {
                                    "SZOBA_ID": "183",
                                    "FOGLALAS_PK": "1437",
                                    "Időtartam": "4",
                                    "Előző időtartama": "4"
                                },
                                {
                                    "SZOBA_ID": "183",
                                    "FOGLALAS_PK": "939",
                                    "Időtartam": "4",
                                    "Előző időtartama": "4"
                                },
                                {
                                    "SZOBA_ID": "183",
                                    "FOGLALAS_PK": "1067",
                                    "Időtartam": "7",
                                    "Előző időtartama": "4"
                                },
                                {
                                    "SZOBA_ID": "184",
                                    "FOGLALAS_PK": "608",
                                    "Időtartam": "2",
                                    "Előző időtartama": "0"
                                },
                                {
                                    "SZOBA_ID": "184",
                                    "FOGLALAS_PK": "684",
                                    "Időtartam": "3",
                                    "Előző időtartama": "2"
                                },
                                {
                                    "SZOBA_ID": "184",
                                    "FOGLALAS_PK": "880",
                                    "Időtartam": "4",
                                    "Előző időtartama": "3"
                                },
                                {
                                    "SZOBA_ID": "184",
                                    "FOGLALAS_PK": "1251",
                                    "Időtartam": "4",
                                    "Előző időtartama": "4"
                                },
                                {
                                    "SZOBA_ID": "185",
                                    "FOGLALAS_PK": "693",
                                    "Időtartam": "2",
                                    "Előző időtartama": "0"
                                },
                                {
                                    "SZOBA_ID": "185",
                                    "FOGLALAS_PK": "672",
                                    "Időtartam": "3",
                                    "Előző időtartama": "2"
                                },
                                {
                                    "SZOBA_ID": "185",
                                    "FOGLALAS_PK": "711",
                                    "Időtartam": "3",
                                    "Előző időtartama": "3"
                                },
                                {
                                    "SZOBA_ID": "185",
                                    "FOGLALAS_PK": "1125",
                                    "Időtartam": "3",
                                    "Előző időtartama": "3"
                                },
                                {
                                    "SZOBA_ID": "185",
                                    "FOGLALAS_PK": "898",
                                    "Időtartam": "4",
                                    "Előző időtartama": "3"
                                },
                                {
                                    "SZOBA_ID": "185",
                                    "FOGLALAS_PK": "863",
                                    "Időtartam": "4",
                                    "Előző időtartama": "4"
                                },
                                {
                                    "SZOBA_ID": "185",
                                    "FOGLALAS_PK": "679",
                                    "Időtartam": "5",
                                    "Előző időtartama": "4"
                                },
                                {
                                    "SZOBA_ID": "185",
                                    "FOGLALAS_PK": "1183",
                                    "Időtartam": "5",
                                    "Előző időtartama": "5"
                                },
                                {
                                    "SZOBA_ID": "185",
                                    "FOGLALAS_PK": "578",
                                    "Időtartam": "6",
                                    "Előző időtartama": "5"
                                },
                                {
                                    "SZOBA_ID": "185",
                                    "FOGLALAS_PK": "925",
                                    "Időtartam": "6",
                                    "Előző időtartama": "6"
                                },
                                {
                                    "SZOBA_ID": "185",
                                    "FOGLALAS_PK": "1441",
                                    "Időtartam": "7",
                                    "Előző időtartama": "6"
                                },
                                {
                                    "SZOBA_ID": "185",
                                    "FOGLALAS_PK": "1463",
                                    "Időtartam": "7",
                                    "Előző időtartama": "7"
                                },
                                {
                                    "SZOBA_ID": "186",
                                    "FOGLALAS_PK": "1248",
                                    "Időtartam": "2",
                                    "Előző időtartama": "0"
                                },
                                {
                                    "SZOBA_ID": "186",
                                    "FOGLALAS_PK": "1153",
                                    "Időtartam": "3",
                                    "Előző időtartama": "2"
                                },
                                {
                                    "SZOBA_ID": "186",
                                    "FOGLALAS_PK": "1467",
                                    "Időtartam": "3",
                                    "Előző időtartama": "3"
                                },
                                {
                                    "SZOBA_ID": "186",
                                    "FOGLALAS_PK": "615",
                                    "Időtartam": "3",
                                    "Előző időtartama": "3"
                                },
                                {
                                    "SZOBA_ID": "187",
                                    "FOGLALAS_PK": "766",
                                    "Időtartam": "1",
                                    "Előző időtartama": "0"
                                },
                                {
                                    "SZOBA_ID": "187",
                                    "FOGLALAS_PK": "743",
                                    "Időtartam": "2",
                                    "Előző időtartama": "1"
                                },
                                {
                                    "SZOBA_ID": "187",
                                    "FOGLALAS_PK": "1404",
                                    "Időtartam": "2",
                                    "Előző időtartama": "2"
                                },
                                {
                                    "SZOBA_ID": "187",
                                    "FOGLALAS_PK": "957",
                                    "Időtartam": "4",
                                    "Előző időtartama": "2"
                                },
                                {
                                    "SZOBA_ID": "187",
                                    "FOGLALAS_PK": "868",
                                    "Időtartam": "4",
                                    "Előző időtartama": "4"
                                },
                                {
                                    "SZOBA_ID": "187",
                                    "FOGLALAS_PK": "695",
                                    "Időtartam": "6",
                                    "Előző időtartama": "4"
                                },
                                {
                                    "SZOBA_ID": "187",
                                    "FOGLALAS_PK": "633",
                                    "Időtartam": "6",
                                    "Előző időtartama": "6"
                                },
                                {
                                    "SZOBA_ID": "188",
                                    "FOGLALAS_PK": "912",
                                    "Időtartam": "1",
                                    "Előző időtartama": "0"
                                },
                                {
                                    "SZOBA_ID": "188",
                                    "FOGLALAS_PK": "747",
                                    "Időtartam": "3",
                                    "Előző időtartama": "1"
                                },
                                {
                                    "SZOBA_ID": "188",
                                    "FOGLALAS_PK": "690",
                                    "Időtartam": "4",
                                    "Előző időtartama": "3"
                                },
                                {
                                    "SZOBA_ID": "188",
                                    "FOGLALAS_PK": "1030",
                                    "Időtartam": "4",
                                    "Előző időtartama": "4"
                                },
                                {
                                    "SZOBA_ID": "188",
                                    "FOGLALAS_PK": "1390",
                                    "Időtartam": "5",
                                    "Előző időtartama": "4"
                                },
                                {
                                    "SZOBA_ID": "188",
                                    "FOGLALAS_PK": "710",
                                    "Időtartam": "7",
                                    "Előző időtartama": "5"
                                },
                                {
                                    "SZOBA_ID": "189",
                                    "FOGLALAS_PK": "753",
                                    "Időtartam": "1",
                                    "Előző időtartama": "0"
                                },
                                {
                                    "SZOBA_ID": "189",
                                    "FOGLALAS_PK": "699",
                                    "Időtartam": "2",
                                    "Előző időtartama": "1"
                                },
                                {
                                    "SZOBA_ID": "189",
                                    "FOGLALAS_PK": "1204",
                                    "Időtartam": "2",
                                    "Előző időtartama": "2"
                                },
                                {
                                    "SZOBA_ID": "189",
                                    "FOGLALAS_PK": "1449",
                                    "Időtartam": "2",
                                    "Előző időtartama": "2"
                                },
                                {
                                    "SZOBA_ID": "189",
                                    "FOGLALAS_PK": "1576",
                                    "Időtartam": "3",
                                    "Előző időtartama": "2"
                                },
                                {
                                    "SZOBA_ID": "190",
                                    "FOGLALAS_PK": "1017",
                                    "Időtartam": "1",
                                    "Előző időtartama": "0"
                                },
                                {
                                    "SZOBA_ID": "190",
                                    "FOGLALAS_PK": "989",
                                    "Időtartam": "1",
                                    "Előző időtartama": "1"
                                },
                                {
                                    "SZOBA_ID": "190",
                                    "FOGLALAS_PK": "774",
                                    "Időtartam": "5",
                                    "Előző időtartama": "1"
                                },
                                {
                                    "SZOBA_ID": "190",
                                    "FOGLALAS_PK": "1517",
                                    "Időtartam": "5",
                                    "Előző időtartama": "5"
                                },
                                {
                                    "SZOBA_ID": "190",
                                    "FOGLALAS_PK": "600",
                                    "Időtartam": "7",
                                    "Előző időtartama": "5"
                                },
                                {
                                    "SZOBA_ID": "191",
                                    "FOGLALAS_PK": "1302",
                                    "Időtartam": "1",
                                    "Előző időtartama": "0"
                                },
                                {
                                    "SZOBA_ID": "191",
                                    "FOGLALAS_PK": "1502",
                                    "Időtartam": "2",
                                    "Előző időtartama": "1"
                                },
                                {
                                    "SZOBA_ID": "191",
                                    "FOGLALAS_PK": "1039",
                                    "Időtartam": "6",
                                    "Előző időtartama": "2"
                                },
                                {
                                    "SZOBA_ID": "191",
                                    "FOGLALAS_PK": "1508",
                                    "Időtartam": "7",
                                    "Előző időtartama": "6"
                                },
                                {
                                    "SZOBA_ID": "191",
                                    "FOGLALAS_PK": "1323",
                                    "Időtartam": "7",
                                    "Előző időtartama": "7"
                                },
                                {
                                    "SZOBA_ID": "192",
                                    "FOGLALAS_PK": "680",
                                    "Időtartam": "4",
                                    "Előző időtartama": "0"
                                },
                                {
                                    "SZOBA_ID": "192",
                                    "FOGLALAS_PK": "903",
                                    "Időtartam": "7",
                                    "Előző időtartama": "4"
                                },
                                {
                                    "SZOBA_ID": "193",
                                    "FOGLALAS_PK": "926",
                                    "Időtartam": "1",
                                    "Előző időtartama": "0"
                                },
                                {
                                    "SZOBA_ID": "193",
                                    "FOGLALAS_PK": "977",
                                    "Időtartam": "2",
                                    "Előző időtartama": "1"
                                },
                                {
                                    "SZOBA_ID": "193",
                                    "FOGLALAS_PK": "675",
                                    "Időtartam": "2",
                                    "Előző időtartama": "2"
                                },
                                {
                                    "SZOBA_ID": "193",
                                    "FOGLALAS_PK": "835",
                                    "Időtartam": "2",
                                    "Előző időtartama": "2"
                                },
                                {
                                    "SZOBA_ID": "193",
                                    "FOGLALAS_PK": "634",
                                    "Időtartam": "6",
                                    "Előző időtartama": "2"
                                },
                                {
                                    "SZOBA_ID": "193",
                                    "FOGLALAS_PK": "1043",
                                    "Időtartam": "6",
                                    "Előző időtartama": "6"
                                },
                                {
                                    "SZOBA_ID": "193",
                                    "FOGLALAS_PK": "1238",
                                    "Időtartam": "6",
                                    "Előző időtartama": "6"
                                },
                                {
                                    "SZOBA_ID": "194",
                                    "FOGLALAS_PK": "1095",
                                    "Időtartam": "5",
                                    "Előző időtartama": "0"
                                },
                                {
                                    "SZOBA_ID": "195",
                                    "FOGLALAS_PK": "1484",
                                    "Időtartam": "1",
                                    "Előző időtartama": "0"
                                },
                                {
                                    "SZOBA_ID": "195",
                                    "FOGLALAS_PK": "842",
                                    "Időtartam": "4",
                                    "Előző időtartama": "1"
                                },
                                {
                                    "SZOBA_ID": "195",
                                    "FOGLALAS_PK": "721",
                                    "Időtartam": "4",
                                    "Előző időtartama": "4"
                                },
                                {
                                    "SZOBA_ID": "195",
                                    "FOGLALAS_PK": "1184",
                                    "Időtartam": "5",
                                    "Előző időtartama": "4"
                                },
                                {
                                    "SZOBA_ID": "195",
                                    "FOGLALAS_PK": "1473",
                                    "Időtartam": "7",
                                    "Előző időtartama": "5"
                                },
                                {
                                    "SZOBA_ID": "195",
                                    "FOGLALAS_PK": "1074",
                                    "Időtartam": "7",
                                    "Előző időtartama": "7"
                                },
                                {
                                    "SZOBA_ID": "196",
                                    "FOGLALAS_PK": "952",
                                    "Időtartam": "3",
                                    "Előző időtartama": "0"
                                },
                                {
                                    "SZOBA_ID": "196",
                                    "FOGLALAS_PK": "673",
                                    "Időtartam": "5",
                                    "Előző időtartama": "3"
                                },
                                {
                                    "SZOBA_ID": "196",
                                    "FOGLALAS_PK": "1314",
                                    "Időtartam": "5",
                                    "Előző időtartama": "5"
                                },
                                {
                                    "SZOBA_ID": "196",
                                    "FOGLALAS_PK": "1340",
                                    "Időtartam": "5",
                                    "Előző időtartama": "5"
                                },
                                {
                                    "SZOBA_ID": "197",
                                    "FOGLALAS_PK": "1387",
                                    "Időtartam": "3",
                                    "Előző időtartama": "0"
                                },
                                {
                                    "SZOBA_ID": "197",
                                    "FOGLALAS_PK": "1304",
                                    "Időtartam": "7",
                                    "Előző időtartama": "3"
                                },
                                {
                                    "SZOBA_ID": "197",
                                    "FOGLALAS_PK": "1172",
                                    "Időtartam": "7",
                                    "Előző időtartama": "7"
                                },
                                {
                                    "SZOBA_ID": "197",
                                    "FOGLALAS_PK": "764",
                                    "Időtartam": "7",
                                    "Előző időtartama": "7"
                                },
                                {
                                    "SZOBA_ID": "197",
                                    "FOGLALAS_PK": "1091",
                                    "Időtartam": "7",
                                    "Előző időtartama": "7"
                                },
                                {
                                    "SZOBA_ID": "197",
                                    "FOGLALAS_PK": "993",
                                    "Időtartam": "7",
                                    "Előző időtartama": "7"
                                },
                                {
                                    "SZOBA_ID": "198",
                                    "FOGLALAS_PK": "1116",
                                    "Időtartam": "1",
                                    "Előző időtartama": "0"
                                },
                                {
                                    "SZOBA_ID": "198",
                                    "FOGLALAS_PK": "978",
                                    "Időtartam": "1",
                                    "Előző időtartama": "1"
                                },
                                {
                                    "SZOBA_ID": "198",
                                    "FOGLALAS_PK": "1065",
                                    "Időtartam": "3",
                                    "Előző időtartama": "1"
                                },
                                {
                                    "SZOBA_ID": "198",
                                    "FOGLALAS_PK": "1138",
                                    "Időtartam": "5",
                                    "Előző időtartama": "3"
                                },
                                {
                                    "SZOBA_ID": "198",
                                    "FOGLALAS_PK": "1161",
                                    "Időtartam": "5",
                                    "Előző időtartama": "5"
                                },
                                {
                                    "SZOBA_ID": "198",
                                    "FOGLALAS_PK": "1420",
                                    "Időtartam": "5",
                                    "Előző időtartama": "5"
                                },
                                {
                                    "SZOBA_ID": "198",
                                    "FOGLALAS_PK": "1216",
                                    "Időtartam": "7",
                                    "Előző időtartama": "5"
                                },
                                {
                                    "SZOBA_ID": "198",
                                    "FOGLALAS_PK": "1011",
                                    "Időtartam": "7",
                                    "Előző időtartama": "7"
                                }
                            ]
                        },
                        "text/html": [
                            "<table>",
                            "<tr><th>SZOBA_ID</th><th>FOGLALAS_PK</th><th>Időtartam</th><th>Előző időtartama</th></tr>",
                            "<tr><td>1</td><td>949</td><td>1</td><td>0</td></tr>",
                            "<tr><td>1</td><td>1152</td><td>1</td><td>1</td></tr>",
                            "<tr><td>1</td><td>1274</td><td>1</td><td>1</td></tr>",
                            "<tr><td>1</td><td>1137</td><td>2</td><td>1</td></tr>",
                            "<tr><td>1</td><td>1334</td><td>4</td><td>2</td></tr>",
                            "<tr><td>1</td><td>803</td><td>4</td><td>4</td></tr>",
                            "<tr><td>1</td><td>620</td><td>5</td><td>4</td></tr>",
                            "<tr><td>1</td><td>738</td><td>7</td><td>5</td></tr>",
                            "<tr><td>2</td><td>1051</td><td>1</td><td>0</td></tr>",
                            "<tr><td>2</td><td>828</td><td>3</td><td>1</td></tr>",
                            "<tr><td>2</td><td>1069</td><td>7</td><td>3</td></tr>",
                            "<tr><td>2</td><td>1311</td><td>7</td><td>7</td></tr>",
                            "<tr><td>3</td><td>1151</td><td>1</td><td>0</td></tr>",
                            "<tr><td>3</td><td>1038</td><td>3</td><td>1</td></tr>",
                            "<tr><td>3</td><td>629</td><td>4</td><td>3</td></tr>",
                            "<tr><td>3</td><td>1434</td><td>5</td><td>4</td></tr>",
                            "<tr><td>3</td><td>1544</td><td>5</td><td>5</td></tr>",
                            "<tr><td>3</td><td>666</td><td>6</td><td>5</td></tr>",
                            "<tr><td>3</td><td>788</td><td>6</td><td>6</td></tr>",
                            "<tr><td>3</td><td>1110</td><td>7</td><td>6</td></tr>",
                            "<tr><td>4</td><td>1127</td><td>3</td><td>0</td></tr>",
                            "<tr><td>4</td><td>946</td><td>5</td><td>3</td></tr>",
                            "<tr><td>4</td><td>1492</td><td>6</td><td>5</td></tr>",
                            "<tr><td>4</td><td>1132</td><td>6</td><td>6</td></tr>",
                            "<tr><td>4</td><td>1001</td><td>7</td><td>6</td></tr>",
                            "<tr><td>4</td><td>651</td><td>7</td><td>7</td></tr>",
                            "<tr><td>5</td><td>564</td><td>2</td><td>0</td></tr>",
                            "<tr><td>5</td><td>1257</td><td>3</td><td>2</td></tr>",
                            "<tr><td>5</td><td>1073</td><td>5</td><td>3</td></tr>",
                            "<tr><td>5</td><td>965</td><td>7</td><td>5</td></tr>",
                            "<tr><td>6</td><td>850</td><td>2</td><td>0</td></tr>",
                            "<tr><td>6</td><td>873</td><td>3</td><td>2</td></tr>",
                            "<tr><td>6</td><td>1099</td><td>4</td><td>3</td></tr>",
                            "<tr><td>6</td><td>990</td><td>4</td><td>4</td></tr>",
                            "<tr><td>6</td><td>560</td><td>6</td><td>4</td></tr>",
                            "<tr><td>6</td><td>772</td><td>6</td><td>6</td></tr>",
                            "<tr><td>7</td><td>1131</td><td>1</td><td>0</td></tr>",
                            "<tr><td>7</td><td>1252</td><td>2</td><td>1</td></tr>",
                            "<tr><td>7</td><td>1175</td><td>4</td><td>2</td></tr>",
                            "<tr><td>7</td><td>1182</td><td>4</td><td>4</td></tr>",
                            "<tr><td>7</td><td>562</td><td>4</td><td>4</td></tr>",
                            "<tr><td>7</td><td>759</td><td>7</td><td>4</td></tr>",
                            "<tr><td>8</td><td>882</td><td>1</td><td>0</td></tr>",
                            "<tr><td>8</td><td>947</td><td>3</td><td>1</td></tr>",
                            "<tr><td>8</td><td>832</td><td>4</td><td>3</td></tr>",
                            "<tr><td>8</td><td>818</td><td>4</td><td>4</td></tr>",
                            "<tr><td>8</td><td>694</td><td>4</td><td>4</td></tr>",
                            "<tr><td>9</td><td>609</td><td>2</td><td>0</td></tr>",
                            "<tr><td>9</td><td>1220</td><td>3</td><td>2</td></tr>",
                            "<tr><td>9</td><td>1537</td><td>3</td><td>3</td></tr>",
                            "<tr><td>9</td><td>1423</td><td>3</td><td>3</td></tr>",
                            "<tr><td>9</td><td>1260</td><td>6</td><td>3</td></tr>",
                            "<tr><td>9</td><td>1157</td><td>6</td><td>6</td></tr>",
                            "<tr><td>10</td><td>569</td><td>3</td><td>0</td></tr>",
                            "<tr><td>10</td><td>795</td><td>4</td><td>3</td></tr>",
                            "<tr><td>10</td><td>790</td><td>5</td><td>4</td></tr>",
                            "<tr><td>10</td><td>1319</td><td>6</td><td>5</td></tr>",
                            "<tr><td>11</td><td>1236</td><td>1</td><td>0</td></tr>",
                            "<tr><td>11</td><td>1523</td><td>1</td><td>1</td></tr>",
                            "<tr><td>11</td><td>1123</td><td>5</td><td>1</td></tr>",
                            "<tr><td>11</td><td>918</td><td>6</td><td>5</td></tr>",
                            "<tr><td>12</td><td>970</td><td>2</td><td>0</td></tr>",
                            "<tr><td>12</td><td>697</td><td>2</td><td>2</td></tr>",
                            "<tr><td>12</td><td>1430</td><td>2</td><td>2</td></tr>",
                            "<tr><td>12</td><td>1140</td><td>3</td><td>2</td></tr>",
                            "<tr><td>12</td><td>951</td><td>3</td><td>3</td></tr>",
                            "<tr><td>12</td><td>775</td><td>4</td><td>3</td></tr>",
                            "<tr><td>12</td><td>1020</td><td>5</td><td>4</td></tr>",
                            "<tr><td>12</td><td>1164</td><td>5</td><td>5</td></tr>",
                            "<tr><td>12</td><td>876</td><td>7</td><td>5</td></tr>",
                            "<tr><td>13</td><td>1469</td><td>2</td><td>0</td></tr>",
                            "<tr><td>13</td><td>1347</td><td>3</td><td>2</td></tr>",
                            "<tr><td>13</td><td>763</td><td>4</td><td>3</td></tr>",
                            "<tr><td>13</td><td>1044</td><td>6</td><td>4</td></tr>",
                            "<tr><td>14</td><td>663</td><td>1</td><td>0</td></tr>",
                            "<tr><td>14</td><td>813</td><td>3</td><td>1</td></tr>",
                            "<tr><td>14</td><td>1542</td><td>4</td><td>3</td></tr>",
                            "<tr><td>15</td><td>1244</td><td>1</td><td>0</td></tr>",
                            "<tr><td>15</td><td>1028</td><td>2</td><td>1</td></tr>",
                            "<tr><td>15</td><td>1442</td><td>3</td><td>2</td></tr>",
                            "<tr><td>15</td><td>1129</td><td>4</td><td>3</td></tr>",
                            "<tr><td>15</td><td>1418</td><td>4</td><td>4</td></tr>",
                            "<tr><td>15</td><td>791</td><td>5</td><td>4</td></tr>",
                            "<tr><td>16</td><td>896</td><td>1</td><td>0</td></tr>",
                            "<tr><td>16</td><td>973</td><td>1</td><td>1</td></tr>",
                            "<tr><td>16</td><td>687</td><td>3</td><td>1</td></tr>",
                            "<tr><td>16</td><td>856</td><td>6</td><td>3</td></tr>",
                            "<tr><td>16</td><td>1498</td><td>7</td><td>6</td></tr>",
                            "<tr><td>17</td><td>744</td><td>1</td><td>0</td></tr>",
                            "<tr><td>17</td><td>916</td><td>2</td><td>1</td></tr>",
                            "<tr><td>17</td><td>1549</td><td>3</td><td>2</td></tr>",
                            "<tr><td>17</td><td>1316</td><td>5</td><td>3</td></tr>",
                            "<tr><td>17</td><td>713</td><td>6</td><td>5</td></tr>",
                            "<tr><td>17</td><td>602</td><td>6</td><td>6</td></tr>",
                            "<tr><td>18</td><td>626</td><td>3</td><td>0</td></tr>",
                            "<tr><td>18</td><td>767</td><td>3</td><td>3</td></tr>",
                            "<tr><td>18</td><td>1198</td><td>4</td><td>3</td></tr>",
                            "<tr><td>18</td><td>1173</td><td>6</td><td>4</td></tr>",
                            "<tr><td>18</td><td>1505</td><td>6</td><td>6</td></tr>",
                            "<tr><td>18</td><td>1035</td><td>6</td><td>6</td></tr>",
                            "<tr><td>19</td><td>778</td><td>1</td><td>0</td></tr>",
                            "<tr><td>19</td><td>696</td><td>1</td><td>1</td></tr>",
                            "<tr><td>19</td><td>1533</td><td>1</td><td>1</td></tr>",
                            "<tr><td>19</td><td>1237</td><td>1</td><td>1</td></tr>",
                            "<tr><td>19</td><td>948</td><td>2</td><td>1</td></tr>",
                            "<tr><td>19</td><td>1139</td><td>7</td><td>2</td></tr>",
                            "<tr><td>20</td><td>1070</td><td>1</td><td>0</td></tr>",
                            "<tr><td>20</td><td>820</td><td>1</td><td>1</td></tr>",
                            "<tr><td>20</td><td>1106</td><td>2</td><td>1</td></tr>",
                            "<tr><td>20</td><td>1114</td><td>5</td><td>2</td></tr>",
                            "<tr><td>20</td><td>755</td><td>6</td><td>5</td></tr>",
                            "<tr><td>21</td><td>805</td><td>1</td><td>0</td></tr>",
                            "<tr><td>21</td><td>660</td><td>5</td><td>1</td></tr>",
                            "<tr><td>21</td><td>566</td><td>6</td><td>5</td></tr>",
                            "<tr><td>21</td><td>1212</td><td>6</td><td>6</td></tr>",
                            "<tr><td>22</td><td>1130</td><td>1</td><td>0</td></tr>",
                            "<tr><td>22</td><td>906</td><td>1</td><td>1</td></tr>",
                            "<tr><td>22</td><td>1005</td><td>3</td><td>1</td></tr>",
                            "<tr><td>22</td><td>1287</td><td>3</td><td>3</td></tr>",
                            "<tr><td>22</td><td>1195</td><td>6</td><td>3</td></tr>",
                            "<tr><td>22</td><td>1206</td><td>7</td><td>6</td></tr>",
                            "<tr><td>23</td><td>848</td><td>1</td><td>0</td></tr>",
                            "<tr><td>23</td><td>934</td><td>1</td><td>1</td></tr>",
                            "<tr><td>23</td><td>945</td><td>7</td><td>1</td></tr>",
                            "<tr><td>24</td><td>1167</td><td>1</td><td>0</td></tr>",
                            "<tr><td>24</td><td>852</td><td>2</td><td>1</td></tr>",
                            "<tr><td>24</td><td>1415</td><td>3</td><td>2</td></tr>",
                            "<tr><td>25</td><td>1362</td><td>2</td><td>0</td></tr>",
                            "<tr><td>25</td><td>1052</td><td>3</td><td>2</td></tr>",
                            "<tr><td>26</td><td>1158</td><td>2</td><td>0</td></tr>",
                            "<tr><td>26</td><td>1388</td><td>3</td><td>2</td></tr>",
                            "<tr><td>27</td><td>1377</td><td>1</td><td>0</td></tr>",
                            "<tr><td>27</td><td>1476</td><td>1</td><td>1</td></tr>",
                            "<tr><td>27</td><td>1031</td><td>2</td><td>1</td></tr>",
                            "<tr><td>27</td><td>807</td><td>2</td><td>2</td></tr>",
                            "<tr><td>27</td><td>758</td><td>3</td><td>2</td></tr>",
                            "<tr><td>27</td><td>1082</td><td>5</td><td>3</td></tr>",
                            "<tr><td>27</td><td>1275</td><td>6</td><td>5</td></tr>",
                            "<tr><td>28</td><td>1459</td><td>2</td><td>0</td></tr>",
                            "<tr><td>28</td><td>901</td><td>4</td><td>2</td></tr>",
                            "<tr><td>28</td><td>886</td><td>4</td><td>4</td></tr>",
                            "<tr><td>28</td><td>872</td><td>5</td><td>4</td></tr>",
                            "<tr><td>28</td><td>725</td><td>5</td><td>5</td></tr>",
                            "<tr><td>28</td><td>1150</td><td>6</td><td>5</td></tr>",
                            "<tr><td>29</td><td>894</td><td>1</td><td>0</td></tr>",
                            "<tr><td>29</td><td>611</td><td>5</td><td>1</td></tr>",
                            "<tr><td>29</td><td>1185</td><td>5</td><td>5</td></tr>",
                            "<tr><td>29</td><td>1235</td><td>7</td><td>5</td></tr>",
                            "<tr><td>29</td><td>1568</td><td>7</td><td>7</td></tr>",
                            "<tr><td>29</td><td>1076</td><td>7</td><td>7</td></tr>",
                            "<tr><td>30</td><td>604</td><td>2</td><td>0</td></tr>",
                            "<tr><td>30</td><td>1136</td><td>5</td><td>2</td></tr>",
                            "<tr><td>30</td><td>1023</td><td>7</td><td>5</td></tr>",
                            "<tr><td>31</td><td>606</td><td>1</td><td>0</td></tr>",
                            "<tr><td>31</td><td>598</td><td>2</td><td>1</td></tr>",
                            "<tr><td>31</td><td>728</td><td>4</td><td>2</td></tr>",
                            "<tr><td>32</td><td>920</td><td>4</td><td>0</td></tr>",
                            "<tr><td>33</td><td>1053</td><td>1</td><td>0</td></tr>",
                            "<tr><td>33</td><td>1321</td><td>4</td><td>1</td></tr>",
                            "<tr><td>33</td><td>1344</td><td>5</td><td>4</td></tr>",
                            "<tr><td>33</td><td>1381</td><td>6</td><td>5</td></tr>",
                            "<tr><td>33</td><td>624</td><td>6</td><td>6</td></tr>",
                            "<tr><td>33</td><td>1012</td><td>7</td><td>6</td></tr>",
                            "<tr><td>34</td><td>821</td><td>1</td><td>0</td></tr>",
                            "<tr><td>34</td><td>904</td><td>2</td><td>1</td></tr>",
                            "<tr><td>34</td><td>777</td><td>3</td><td>2</td></tr>",
                            "<tr><td>34</td><td>870</td><td>6</td><td>3</td></tr>",
                            "<tr><td>35</td><td>1411</td><td>1</td><td>0</td></tr>",
                            "<tr><td>35</td><td>1436</td><td>1</td><td>1</td></tr>",
                            "<tr><td>35</td><td>829</td><td>2</td><td>1</td></tr>",
                            "<tr><td>35</td><td>707</td><td>2</td><td>2</td></tr>",
                            "<tr><td>35</td><td>971</td><td>3</td><td>2</td></tr>",
                            "<tr><td>35</td><td>1529</td><td>4</td><td>3</td></tr>",
                            "<tr><td>35</td><td>686</td><td>6</td><td>4</td></tr>",
                            "<tr><td>35</td><td>979</td><td>7</td><td>6</td></tr>",
                            "<tr><td>35</td><td>1480</td><td>37</td><td>7</td></tr>",
                            "<tr><td>36</td><td>919</td><td>1</td><td>0</td></tr>",
                            "<tr><td>36</td><td>748</td><td>2</td><td>1</td></tr>",
                            "<tr><td>36</td><td>1003</td><td>4</td><td>2</td></tr>",
                            "<tr><td>36</td><td>895</td><td>5</td><td>4</td></tr>",
                            "<tr><td>36</td><td>985</td><td>6</td><td>5</td></tr>",
                            "<tr><td>36</td><td>750</td><td>6</td><td>6</td></tr>",
                            "<tr><td>37</td><td>688</td><td>2</td><td>0</td></tr>",
                            "<tr><td>37</td><td>705</td><td>4</td><td>2</td></tr>",
                            "<tr><td>37</td><td>1335</td><td>7</td><td>4</td></tr>",
                            "<tr><td>38</td><td>1033</td><td>2</td><td>0</td></tr>",
                            "<tr><td>38</td><td>1060</td><td>2</td><td>2</td></tr>",
                            "<tr><td>38</td><td>1351</td><td>4</td><td>2</td></tr>",
                            "<tr><td>38</td><td>1478</td><td>4</td><td>4</td></tr>",
                            "<tr><td>38</td><td>1416</td><td>5</td><td>4</td></tr>",
                            "<tr><td>38</td><td>1556</td><td>6</td><td>5</td></tr>",
                            "<tr><td>38</td><td>627</td><td>6</td><td>6</td></tr>",
                            "<tr><td>38</td><td>1078</td><td>7</td><td>6</td></tr>",
                            "<tr><td>39</td><td>1454</td><td>1</td><td>0</td></tr>",
                            "<tr><td>39</td><td>1538</td><td>2</td><td>1</td></tr>",
                            "<tr><td>39</td><td>1380</td><td>5</td><td>2</td></tr>",
                            "<tr><td>39</td><td>1214</td><td>5</td><td>5</td></tr>",
                            "<tr><td>39</td><td>899</td><td>6</td><td>5</td></tr>",
                            "<tr><td>39</td><td>601</td><td>6</td><td>6</td></tr>",
                            "<tr><td>39</td><td>1435</td><td>7</td><td>6</td></tr>",
                            "<tr><td>40</td><td>924</td><td>5</td><td>0</td></tr>",
                            "<tr><td>40</td><td>1118</td><td>5</td><td>5</td></tr>",
                            "<tr><td>40</td><td>1018</td><td>5</td><td>5</td></tr>",
                            "<tr><td>40</td><td>932</td><td>6</td><td>5</td></tr>",
                            "<tr><td>41</td><td>1144</td><td>1</td><td>0</td></tr>",
                            "<tr><td>41</td><td>960</td><td>6</td><td>1</td></tr>",
                            "<tr><td>42</td><td>1309</td><td>2</td><td>0</td></tr>",
                            "<tr><td>42</td><td>770</td><td>3</td><td>2</td></tr>",
                            "<tr><td>42</td><td>561</td><td>4</td><td>3</td></tr>",
                            "<tr><td>42</td><td>590</td><td>5</td><td>4</td></tr>",
                            "<tr><td>42</td><td>1444</td><td>6</td><td>5</td></tr>",
                            "<tr><td>42</td><td>851</td><td>7</td><td>6</td></tr>",
                            "<tr><td>43</td><td>1524</td><td>1</td><td>0</td></tr>",
                            "<tr><td>43</td><td>1207</td><td>1</td><td>1</td></tr>",
                            "<tr><td>43</td><td>1088</td><td>2</td><td>1</td></tr>",
                            "<tr><td>43</td><td>1019</td><td>4</td><td>2</td></tr>",
                            "<tr><td>43</td><td>670</td><td>4</td><td>4</td></tr>",
                            "<tr><td>43</td><td>1270</td><td>4</td><td>4</td></tr>",
                            "<tr><td>43</td><td>1227</td><td>5</td><td>4</td></tr>",
                            "<tr><td>43</td><td>1553</td><td>5</td><td>5</td></tr>",
                            "<tr><td>44</td><td>1552</td><td>2</td><td>0</td></tr>",
                            "<tr><td>44</td><td>1425</td><td>2</td><td>2</td></tr>",
                            "<tr><td>44</td><td>1295</td><td>2</td><td>2</td></tr>",
                            "<tr><td>44</td><td>589</td><td>2</td><td>2</td></tr>",
                            "<tr><td>44</td><td>823</td><td>2</td><td>2</td></tr>",
                            "<tr><td>44</td><td>658</td><td>6</td><td>2</td></tr>",
                            "<tr><td>45</td><td>1303</td><td>2</td><td>0</td></tr>",
                            "<tr><td>45</td><td>1135</td><td>3</td><td>2</td></tr>",
                            "<tr><td>45</td><td>846</td><td>3</td><td>3</td></tr>",
                            "<tr><td>45</td><td>800</td><td>5</td><td>3</td></tr>",
                            "<tr><td>45</td><td>802</td><td>7</td><td>5</td></tr>",
                            "<tr><td>46</td><td>1291</td><td>3</td><td>0</td></tr>",
                            "<tr><td>46</td><td>1515</td><td>4</td><td>3</td></tr>",
                            "<tr><td>46</td><td>752</td><td>5</td><td>4</td></tr>",
                            "<tr><td>46</td><td>1187</td><td>7</td><td>5</td></tr>",
                            "<tr><td>47</td><td>955</td><td>1</td><td>0</td></tr>",
                            "<tr><td>47</td><td>1056</td><td>7</td><td>1</td></tr>",
                            "<tr><td>48</td><td>1547</td><td>1</td><td>0</td></tr>",
                            "<tr><td>48</td><td>824</td><td>2</td><td>1</td></tr>",
                            "<tr><td>48</td><td>628</td><td>2</td><td>2</td></tr>",
                            "<tr><td>48</td><td>603</td><td>3</td><td>2</td></tr>",
                            "<tr><td>48</td><td>1546</td><td>3</td><td>3</td></tr>",
                            "<tr><td>48</td><td>1581</td><td>5</td><td>3</td></tr>",
                            "<tr><td>48</td><td>986</td><td>5</td><td>5</td></tr>",
                            "<tr><td>48</td><td>914</td><td>5</td><td>5</td></tr>",
                            "<tr><td>48</td><td>1243</td><td>6</td><td>5</td></tr>",
                            "<tr><td>49</td><td>1221</td><td>2</td><td>0</td></tr>",
                            "<tr><td>49</td><td>826</td><td>4</td><td>2</td></tr>",
                            "<tr><td>49</td><td>793</td><td>6</td><td>4</td></tr>",
                            "<tr><td>49</td><td>1536</td><td>6</td><td>6</td></tr>",
                            "<tr><td>49</td><td>1200</td><td>7</td><td>6</td></tr>",
                            "<tr><td>49</td><td>888</td><td>7</td><td>7</td></tr>",
                            "<tr><td>49</td><td>1066</td><td>7</td><td>7</td></tr>",
                            "<tr><td>50</td><td>1224</td><td>1</td><td>0</td></tr>",
                            "<tr><td>50</td><td>1272</td><td>1</td><td>1</td></tr>",
                            "<tr><td>50</td><td>1063</td><td>2</td><td>1</td></tr>",
                            "<tr><td>50</td><td>787</td><td>3</td><td>2</td></tr>",
                            "<tr><td>51</td><td>1550</td><td>1</td><td>0</td></tr>",
                            "<tr><td>51</td><td>811</td><td>2</td><td>1</td></tr>",
                            "<tr><td>51</td><td>1165</td><td>5</td><td>2</td></tr>",
                            "<tr><td>51</td><td>1477</td><td>6</td><td>5</td></tr>",
                            "<tr><td>51</td><td>865</td><td>7</td><td>6</td></tr>",
                            "<tr><td>52</td><td>1202</td><td>2</td><td>0</td></tr>",
                            "<tr><td>52</td><td>1258</td><td>5</td><td>2</td></tr>",
                            "<tr><td>52</td><td>1431</td><td>5</td><td>5</td></tr>",
                            "<tr><td>52</td><td>1534</td><td>5</td><td>5</td></tr>",
                            "<tr><td>52</td><td>822</td><td>7</td><td>5</td></tr>",
                            "<tr><td>53</td><td>855</td><td>1</td><td>0</td></tr>",
                            "<tr><td>53</td><td>987</td><td>4</td><td>1</td></tr>",
                            "<tr><td>54</td><td>668</td><td>1</td><td>0</td></tr>",
                            "<tr><td>54</td><td>889</td><td>2</td><td>1</td></tr>",
                            "<tr><td>54</td><td>1096</td><td>4</td><td>2</td></tr>",
                            "<tr><td>54</td><td>1328</td><td>4</td><td>4</td></tr>",
                            "<tr><td>54</td><td>642</td><td>5</td><td>4</td></tr>",
                            "<tr><td>54</td><td>622</td><td>7</td><td>5</td></tr>",
                            "<tr><td>55</td><td>1512</td><td>1</td><td>0</td></tr>",
                            "<tr><td>55</td><td>1520</td><td>1</td><td>1</td></tr>",
                            "<tr><td>55</td><td>1386</td><td>2</td><td>1</td></tr>",
                            "<tr><td>55</td><td>1163</td><td>2</td><td>2</td></tr>",
                            "<tr><td>55</td><td>1086</td><td>5</td><td>2</td></tr>",
                            "<tr><td>55</td><td>734</td><td>6</td><td>5</td></tr>",
                            "<tr><td>55</td><td>1327</td><td>6</td><td>6</td></tr>",
                            "<tr><td>55</td><td>1232</td><td>7</td><td>6</td></tr>",
                            "<tr><td>56</td><td>838</td><td>2</td><td>0</td></tr>",
                            "<tr><td>56</td><td>935</td><td>4</td><td>2</td></tr>",
                            "<tr><td>57</td><td>1389</td><td>1</td><td>0</td></tr>",
                            "<tr><td>57</td><td>1348</td><td>1</td><td>1</td></tr>",
                            "<tr><td>57</td><td>1504</td><td>4</td><td>1</td></tr>",
                            "<tr><td>57</td><td>1466</td><td>7</td><td>4</td></tr>",
                            "<tr><td>58</td><td>773</td><td>2</td><td>0</td></tr>",
                            "<tr><td>58</td><td>719</td><td>3</td><td>2</td></tr>",
                            "<tr><td>58</td><td>1113</td><td>3</td><td>3</td></tr>",
                            "<tr><td>58</td><td>1322</td><td>3</td><td>3</td></tr>",
                            "<tr><td>58</td><td>1293</td><td>3</td><td>3</td></tr>",
                            "<tr><td>58</td><td>883</td><td>5</td><td>3</td></tr>",
                            "<tr><td>58</td><td>1307</td><td>6</td><td>5</td></tr>",
                            "<tr><td>58</td><td>1208</td><td>6</td><td>6</td></tr>",
                            "<tr><td>58</td><td>1261</td><td>6</td><td>6</td></tr>",
                            "<tr><td>58</td><td>1186</td><td>6</td><td>6</td></tr>",
                            "<tr><td>58</td><td>1451</td><td>6</td><td>6</td></tr>",
                            "<tr><td>58</td><td>1255</td><td>7</td><td>6</td></tr>",
                            "<tr><td>58</td><td>1285</td><td>7</td><td>7</td></tr>",
                            "<tr><td>59</td><td>1573</td><td>1</td><td>0</td></tr>",
                            "<tr><td>59</td><td>1080</td><td>1</td><td>1</td></tr>",
                            "<tr><td>59</td><td>1084</td><td>2</td><td>1</td></tr>",
                            "<tr><td>59</td><td>1239</td><td>2</td><td>2</td></tr>",
                            "<tr><td>59</td><td>1288</td><td>3</td><td>2</td></tr>",
                            "<tr><td>59</td><td>1170</td><td>5</td><td>3</td></tr>",
                            "<tr><td>59</td><td>1191</td><td>6</td><td>5</td></tr>",
                            "<tr><td>60</td><td>676</td><td>2</td><td>0</td></tr>",
                            "<tr><td>61</td><td>701</td><td>2</td><td>0</td></tr>",
                            "<tr><td>61</td><td>1218</td><td>2</td><td>2</td></tr>",
                            "<tr><td>61</td><td>1148</td><td>3</td><td>2</td></tr>",
                            "<tr><td>61</td><td>756</td><td>6</td><td>3</td></tr>",
                            "<tr><td>61</td><td>1496</td><td>7</td><td>6</td></tr>",
                            "<tr><td>62</td><td>938</td><td>1</td><td>0</td></tr>",
                            "<tr><td>62</td><td>936</td><td>3</td><td>1</td></tr>",
                            "<tr><td>62</td><td>1426</td><td>4</td><td>3</td></tr>",
                            "<tr><td>62</td><td>702</td><td>5</td><td>4</td></tr>",
                            "<tr><td>62</td><td>1081</td><td>7</td><td>5</td></tr>",
                            "<tr><td>63</td><td>845</td><td>1</td><td>0</td></tr>",
                            "<tr><td>63</td><td>625</td><td>3</td><td>1</td></tr>",
                            "<tr><td>63</td><td>769</td><td>5</td><td>3</td></tr>",
                            "<tr><td>63</td><td>891</td><td>6</td><td>5</td></tr>",
                            "<tr><td>64</td><td>1582</td><td>1</td><td>0</td></tr>",
                            "<tr><td>64</td><td>875</td><td>2</td><td>1</td></tr>",
                            "<tr><td>64</td><td>1122</td><td>4</td><td>2</td></tr>",
                            "<tr><td>64</td><td>1465</td><td>4</td><td>4</td></tr>",
                            "<tr><td>64</td><td>1446</td><td>6</td><td>4</td></tr>",
                            "<tr><td>64</td><td>1233</td><td>7</td><td>6</td></tr>",
                            "<tr><td>65</td><td>650</td><td>6</td><td>0</td></tr>",
                            "<tr><td>66</td><td>736</td><td>3</td><td>0</td></tr>",
                            "<tr><td>66</td><td>950</td><td>3</td><td>3</td></tr>",
                            "<tr><td>66</td><td>1234</td><td>3</td><td>3</td></tr>",
                            "<tr><td>66</td><td>1264</td><td>4</td><td>3</td></tr>",
                            "<tr><td>67</td><td>1382</td><td>1</td><td>0</td></tr>",
                            "<tr><td>67</td><td>1584</td><td>1</td><td>1</td></tr>",
                            "<tr><td>67</td><td>1580</td><td>5</td><td>1</td></tr>",
                            "<tr><td>67</td><td>638</td><td>5</td><td>5</td></tr>",
                            "<tr><td>67</td><td>645</td><td>6</td><td>5</td></tr>",
                            "<tr><td>67</td><td>874</td><td>6</td><td>6</td></tr>",
                            "<tr><td>68</td><td>1324</td><td>4</td><td>0</td></tr>",
                            "<tr><td>68</td><td>563</td><td>5</td><td>4</td></tr>",
                            "<tr><td>68</td><td>1027</td><td>7</td><td>5</td></tr>",
                            "<tr><td>69</td><td>885</td><td>1</td><td>0</td></tr>",
                            "<tr><td>69</td><td>1055</td><td>5</td><td>1</td></tr>",
                            "<tr><td>69</td><td>1225</td><td>5</td><td>5</td></tr>",
                            "<tr><td>69</td><td>1246</td><td>7</td><td>5</td></tr>",
                            "<tr><td>70</td><td>860</td><td>2</td><td>0</td></tr>",
                            "<tr><td>70</td><td>1006</td><td>3</td><td>2</td></tr>",
                            "<tr><td>70</td><td>1126</td><td>3</td><td>3</td></tr>",
                            "<tr><td>70</td><td>1092</td><td>3</td><td>3</td></tr>",
                            "<tr><td>70</td><td>704</td><td>3</td><td>3</td></tr>",
                            "<tr><td>70</td><td>814</td><td>3</td><td>3</td></tr>",
                            "<tr><td>70</td><td>1365</td><td>3</td><td>3</td></tr>",
                            "<tr><td>70</td><td>585</td><td>5</td><td>3</td></tr>",
                            "<tr><td>70</td><td>1333</td><td>6</td><td>5</td></tr>",
                            "<tr><td>70</td><td>1325</td><td>7</td><td>6</td></tr>",
                            "<tr><td>70</td><td>1457</td><td>7</td><td>7</td></tr>",
                            "<tr><td>71</td><td>712</td><td>1</td><td>0</td></tr>",
                            "<tr><td>71</td><td>1009</td><td>1</td><td>1</td></tr>",
                            "<tr><td>71</td><td>681</td><td>3</td><td>1</td></tr>",
                            "<tr><td>72</td><td>1318</td><td>2</td><td>0</td></tr>",
                            "<tr><td>72</td><td>1396</td><td>3</td><td>2</td></tr>",
                            "<tr><td>72</td><td>902</td><td>5</td><td>3</td></tr>",
                            "<tr><td>72</td><td>961</td><td>6</td><td>5</td></tr>",
                            "<tr><td>73</td><td>1000</td><td>4</td><td>0</td></tr>",
                            "<tr><td>73</td><td>1331</td><td>4</td><td>4</td></tr>",
                            "<tr><td>73</td><td>1159</td><td>5</td><td>4</td></tr>",
                            "<tr><td>73</td><td>714</td><td>7</td><td>5</td></tr>",
                            "<tr><td>74</td><td>830</td><td>1</td><td>0</td></tr>",
                            "<tr><td>74</td><td>963</td><td>1</td><td>1</td></tr>",
                            "<tr><td>74</td><td>847</td><td>3</td><td>1</td></tr>",
                            "<tr><td>74</td><td>877</td><td>4</td><td>3</td></tr>",
                            "<tr><td>74</td><td>940</td><td>5</td><td>4</td></tr>",
                            "<tr><td>74</td><td>797</td><td>5</td><td>5</td></tr>",
                            "<tr><td>74</td><td>1093</td><td>6</td><td>5</td></tr>",
                            "<tr><td>74</td><td>595</td><td>7</td><td>6</td></tr>",
                            "<tr><td>74</td><td>1179</td><td>7</td><td>7</td></tr>",
                            "<tr><td>75</td><td>1458</td><td>1</td><td>0</td></tr>",
                            "<tr><td>75</td><td>1412</td><td>2</td><td>1</td></tr>",
                            "<tr><td>75</td><td>1013</td><td>5</td><td>2</td></tr>",
                            "<tr><td>76</td><td>976</td><td>2</td><td>0</td></tr>",
                            "<tr><td>76</td><td>1557</td><td>3</td><td>2</td></tr>",
                            "<tr><td>76</td><td>683</td><td>7</td><td>3</td></tr>",
                            "<tr><td>77</td><td>1104</td><td>1</td><td>0</td></tr>",
                            "<tr><td>77</td><td>982</td><td>3</td><td>1</td></tr>",
                            "<tr><td>77</td><td>593</td><td>3</td><td>3</td></tr>",
                            "<tr><td>77</td><td>698</td><td>4</td><td>3</td></tr>",
                            "<tr><td>77</td><td>1461</td><td>4</td><td>4</td></tr>",
                            "<tr><td>77</td><td>1439</td><td>6</td><td>4</td></tr>",
                            "<tr><td>78</td><td>568</td><td>1</td><td>0</td></tr>",
                            "<tr><td>78</td><td>1268</td><td>2</td><td>1</td></tr>",
                            "<tr><td>78</td><td>1281</td><td>3</td><td>2</td></tr>",
                            "<tr><td>78</td><td>646</td><td>3</td><td>3</td></tr>",
                            "<tr><td>78</td><td>700</td><td>5</td><td>3</td></tr>",
                            "<tr><td>78</td><td>1577</td><td>7</td><td>5</td></tr>",
                            "<tr><td>79</td><td>1054</td><td>1</td><td>0</td></tr>",
                            "<tr><td>79</td><td>1345</td><td>3</td><td>1</td></tr>",
                            "<tr><td>79</td><td>1447</td><td>4</td><td>3</td></tr>",
                            "<tr><td>79</td><td>583</td><td>6</td><td>4</td></tr>",
                            "<tr><td>79</td><td>1229</td><td>7</td><td>6</td></tr>",
                            "<tr><td>80</td><td>929</td><td>2</td><td>0</td></tr>",
                            "<tr><td>80</td><td>1367</td><td>3</td><td>2</td></tr>",
                            "<tr><td>80</td><td>1071</td><td>4</td><td>3</td></tr>",
                            "<tr><td>80</td><td>1279</td><td>5</td><td>4</td></tr>",
                            "<tr><td>80</td><td>983</td><td>6</td><td>5</td></tr>",
                            "<tr><td>80</td><td>887</td><td>6</td><td>6</td></tr>",
                            "<tr><td>80</td><td>667</td><td>6</td><td>6</td></tr>",
                            "<tr><td>81</td><td>1506</td><td>3</td><td>0</td></tr>",
                            "<tr><td>81</td><td>1562</td><td>3</td><td>3</td></tr>",
                            "<tr><td>81</td><td>1366</td><td>5</td><td>3</td></tr>",
                            "<tr><td>81</td><td>1443</td><td>7</td><td>5</td></tr>",
                            "<tr><td>81</td><td>1464</td><td>7</td><td>7</td></tr>",
                            "<tr><td>82</td><td>1406</td><td>1</td><td>0</td></tr>",
                            "<tr><td>82</td><td>1341</td><td>2</td><td>1</td></tr>",
                            "<tr><td>82</td><td>862</td><td>4</td><td>2</td></tr>",
                            "<tr><td>82</td><td>871</td><td>5</td><td>4</td></tr>",
                            "<tr><td>82</td><td>1277</td><td>5</td><td>5</td></tr>",
                            "<tr><td>82</td><td>997</td><td>6</td><td>5</td></tr>",
                            "<tr><td>83</td><td>674</td><td>4</td><td>0</td></tr>",
                            "<tr><td>83</td><td>798</td><td>4</td><td>4</td></tr>",
                            "<tr><td>83</td><td>995</td><td>5</td><td>4</td></tr>",
                            "<tr><td>83</td><td>1119</td><td>6</td><td>5</td></tr>",
                            "<tr><td>83</td><td>869</td><td>6</td><td>6</td></tr>",
                            "<tr><td>83</td><td>878</td><td>6</td><td>6</td></tr>",
                            "<tr><td>83</td><td>572</td><td>7</td><td>6</td></tr>",
                            "<tr><td>83</td><td>1379</td><td>7</td><td>7</td></tr>",
                            "<tr><td>84</td><td>819</td><td>2</td><td>0</td></tr>",
                            "<tr><td>84</td><td>954</td><td>5</td><td>2</td></tr>",
                            "<tr><td>84</td><td>1376</td><td>5</td><td>5</td></tr>",
                            "<tr><td>84</td><td>1384</td><td>7</td><td>5</td></tr>",
                            "<tr><td>85</td><td>1320</td><td>1</td><td>0</td></tr>",
                            "<tr><td>85</td><td>1059</td><td>3</td><td>1</td></tr>",
                            "<tr><td>85</td><td>647</td><td>3</td><td>3</td></tr>",
                            "<tr><td>85</td><td>1513</td><td>7</td><td>3</td></tr>",
                            "<tr><td>86</td><td>1453</td><td>1</td><td>0</td></tr>",
                            "<tr><td>86</td><td>1108</td><td>1</td><td>1</td></tr>",
                            "<tr><td>86</td><td>859</td><td>1</td><td>1</td></tr>",
                            "<tr><td>86</td><td>1079</td><td>4</td><td>1</td></tr>",
                            "<tr><td>86</td><td>1057</td><td>5</td><td>4</td></tr>",
                            "<tr><td>87</td><td>844</td><td>1</td><td>0</td></tr>",
                            "<tr><td>87</td><td>1103</td><td>3</td><td>1</td></tr>",
                            "<tr><td>87</td><td>558</td><td>4</td><td>3</td></tr>",
                            "<tr><td>87</td><td>1456</td><td>5</td><td>4</td></tr>",
                            "<tr><td>87</td><td>1349</td><td>5</td><td>5</td></tr>",
                            "<tr><td>88</td><td>1359</td><td>2</td><td>0</td></tr>",
                            "<tr><td>88</td><td>866</td><td>2</td><td>2</td></tr>",
                            "<tr><td>88</td><td>1300</td><td>3</td><td>2</td></tr>",
                            "<tr><td>88</td><td>1196</td><td>3</td><td>3</td></tr>",
                            "<tr><td>88</td><td>1575</td><td>6</td><td>3</td></tr>",
                            "<tr><td>88</td><td>1548</td><td>7</td><td>6</td></tr>",
                            "<tr><td>88</td><td>1273</td><td>7</td><td>7</td></tr>",
                            "<tr><td>88</td><td>757</td><td>7</td><td>7</td></tr>",
                            "<tr><td>89</td><td>1269</td><td>2</td><td>0</td></tr>",
                            "<tr><td>89</td><td>1253</td><td>2</td><td>2</td></tr>",
                            "<tr><td>89</td><td>1399</td><td>2</td><td>2</td></tr>",
                            "<tr><td>89</td><td>817</td><td>3</td><td>2</td></tr>",
                            "<tr><td>89</td><td>1101</td><td>5</td><td>3</td></tr>",
                            "<tr><td>89</td><td>1189</td><td>6</td><td>5</td></tr>",
                            "<tr><td>89</td><td>1521</td><td>7</td><td>6</td></tr>",
                            "<tr><td>89</td><td>1037</td><td>7</td><td>7</td></tr>",
                            "<tr><td>90</td><td>729</td><td>2</td><td>0</td></tr>",
                            "<tr><td>90</td><td>1405</td><td>5</td><td>2</td></tr>",
                            "<tr><td>90</td><td>1299</td><td>6</td><td>5</td></tr>",
                            "<tr><td>90</td><td>1174</td><td>7</td><td>6</td></tr>",
                            "<tr><td>91</td><td>1213</td><td>3</td><td>0</td></tr>",
                            "<tr><td>91</td><td>1397</td><td>4</td><td>3</td></tr>",
                            "<tr><td>91</td><td>732</td><td>4</td><td>4</td></tr>",
                            "<tr><td>91</td><td>636</td><td>6</td><td>4</td></tr>",
                            "<tr><td>92</td><td>1016</td><td>2</td><td>0</td></tr>",
                            "<tr><td>92</td><td>1527</td><td>2</td><td>2</td></tr>",
                            "<tr><td>92</td><td>809</td><td>3</td><td>2</td></tr>",
                            "<tr><td>92</td><td>1555</td><td>4</td><td>3</td></tr>",
                            "<tr><td>92</td><td>841</td><td>6</td><td>4</td></tr>",
                            "<tr><td>92</td><td>942</td><td>6</td><td>6</td></tr>",
                            "<tr><td>93</td><td>1217</td><td>1</td><td>0</td></tr>",
                            "<tr><td>93</td><td>1355</td><td>2</td><td>1</td></tr>",
                            "<tr><td>93</td><td>1391</td><td>4</td><td>2</td></tr>",
                            "<tr><td>93</td><td>1169</td><td>4</td><td>4</td></tr>",
                            "<tr><td>93</td><td>741</td><td>7</td><td>4</td></tr>",
                            "<tr><td>94</td><td>1368</td><td>1</td><td>0</td></tr>",
                            "<tr><td>94</td><td>1305</td><td>2</td><td>1</td></tr>",
                            "<tr><td>94</td><td>1518</td><td>2</td><td>2</td></tr>",
                            "<tr><td>94</td><td>1312</td><td>3</td><td>2</td></tr>",
                            "<tr><td>94</td><td>727</td><td>3</td><td>3</td></tr>",
                            "<tr><td>94</td><td>616</td><td>4</td><td>3</td></tr>",
                            "<tr><td>94</td><td>975</td><td>5</td><td>4</td></tr>",
                            "<tr><td>94</td><td>665</td><td>7</td><td>5</td></tr>",
                            "<tr><td>94</td><td>1241</td><td>7</td><td>7</td></tr>",
                            "<tr><td>94</td><td>1564</td><td>7</td><td>7</td></tr>",
                            "<tr><td>95</td><td>1048</td><td>3</td><td>0</td></tr>",
                            "<tr><td>95</td><td>1097</td><td>4</td><td>3</td></tr>",
                            "<tr><td>95</td><td>656</td><td>7</td><td>4</td></tr>",
                            "<tr><td>95</td><td>1543</td><td>7</td><td>7</td></tr>",
                            "<tr><td>96</td><td>780</td><td>1</td><td>0</td></tr>",
                            "<tr><td>96</td><td>1438</td><td>2</td><td>1</td></tr>",
                            "<tr><td>96</td><td>1378</td><td>3</td><td>2</td></tr>",
                            "<tr><td>96</td><td>671</td><td>4</td><td>3</td></tr>",
                            "<tr><td>96</td><td>607</td><td>4</td><td>4</td></tr>",
                            "<tr><td>96</td><td>623</td><td>7</td><td>4</td></tr>",
                            "<tr><td>96</td><td>1569</td><td>7</td><td>7</td></tr>",
                            "<tr><td>97</td><td>1395</td><td>1</td><td>0</td></tr>",
                            "<tr><td>97</td><td>1528</td><td>2</td><td>1</td></tr>",
                            "<tr><td>97</td><td>836</td><td>2</td><td>2</td></tr>",
                            "<tr><td>97</td><td>635</td><td>3</td><td>2</td></tr>",
                            "<tr><td>97</td><td>726</td><td>4</td><td>3</td></tr>",
                            "<tr><td>97</td><td>718</td><td>7</td><td>4</td></tr>",
                            "<tr><td>97</td><td>1417</td><td>7</td><td>7</td></tr>",
                            "<tr><td>98</td><td>1402</td><td>2</td><td>0</td></tr>",
                            "<tr><td>98</td><td>884</td><td>5</td><td>2</td></tr>",
                            "<tr><td>98</td><td>1050</td><td>6</td><td>5</td></tr>",
                            "<tr><td>98</td><td>631</td><td>6</td><td>6</td></tr>",
                            "<tr><td>99</td><td>632</td><td>1</td><td>0</td></tr>",
                            "<tr><td>99</td><td>1072</td><td>1</td><td>1</td></tr>",
                            "<tr><td>99</td><td>1408</td><td>1</td><td>1</td></tr>",
                            "<tr><td>99</td><td>1486</td><td>5</td><td>1</td></tr>",
                            "<tr><td>99</td><td>691</td><td>5</td><td>5</td></tr>",
                            "<tr><td>100</td><td>597</td><td>1</td><td>0</td></tr>",
                            "<tr><td>100</td><td>637</td><td>5</td><td>1</td></tr>",
                            "<tr><td>100</td><td>1315</td><td>5</td><td>5</td></tr>",
                            "<tr><td>100</td><td>1482</td><td>7</td><td>5</td></tr>",
                            "<tr><td>101</td><td>715</td><td>3</td><td>0</td></tr>",
                            "<tr><td>101</td><td>1516</td><td>4</td><td>3</td></tr>",
                            "<tr><td>101</td><td>1332</td><td>6</td><td>4</td></tr>",
                            "<tr><td>102</td><td>1343</td><td>2</td><td>0</td></tr>",
                            "<tr><td>102</td><td>689</td><td>5</td><td>2</td></tr>",
                            "<tr><td>103</td><td>1398</td><td>1</td><td>0</td></tr>",
                            "<tr><td>103</td><td>972</td><td>2</td><td>1</td></tr>",
                            "<tr><td>103</td><td>1485</td><td>4</td><td>2</td></tr>",
                            "<tr><td>103</td><td>992</td><td>7</td><td>4</td></tr>",
                            "<tr><td>104</td><td>1180</td><td>1</td><td>0</td></tr>",
                            "<tr><td>104</td><td>1522</td><td>2</td><td>1</td></tr>",
                            "<tr><td>104</td><td>1532</td><td>3</td><td>2</td></tr>",
                            "<tr><td>104</td><td>837</td><td>4</td><td>3</td></tr>",
                            "<tr><td>105</td><td>618</td><td>1</td><td>0</td></tr>",
                            "<tr><td>105</td><td>1525</td><td>5</td><td>1</td></tr>",
                            "<tr><td>106</td><td>610</td><td>3</td><td>0</td></tr>",
                            "<tr><td>106</td><td>1271</td><td>5</td><td>3</td></tr>",
                            "<tr><td>106</td><td>1510</td><td>6</td><td>5</td></tr>",
                            "<tr><td>106</td><td>1228</td><td>7</td><td>6</td></tr>",
                            "<tr><td>106</td><td>1372</td><td>7</td><td>7</td></tr>",
                            "<tr><td>106</td><td>708</td><td>7</td><td>7</td></tr>",
                            "<tr><td>107</td><td>1354</td><td>1</td><td>0</td></tr>",
                            "<tr><td>107</td><td>1494</td><td>2</td><td>1</td></tr>",
                            "<tr><td>107</td><td>1250</td><td>4</td><td>2</td></tr>",
                            "<tr><td>107</td><td>1452</td><td>6</td><td>4</td></tr>",
                            "<tr><td>107</td><td>586</td><td>6</td><td>6</td></tr>",
                            "<tr><td>108</td><td>1102</td><td>1</td><td>0</td></tr>",
                            "<tr><td>108</td><td>1392</td><td>6</td><td>1</td></tr>",
                            "<tr><td>109</td><td>1560</td><td>1</td><td>0</td></tr>",
                            "<tr><td>109</td><td>1083</td><td>1</td><td>1</td></tr>",
                            "<tr><td>109</td><td>810</td><td>2</td><td>1</td></tr>",
                            "<tr><td>109</td><td>614</td><td>4</td><td>2</td></tr>",
                            "<tr><td>109</td><td>1298</td><td>4</td><td>4</td></tr>",
                            "<tr><td>109</td><td>654</td><td>5</td><td>4</td></tr>",
                            "<tr><td>109</td><td>621</td><td>7</td><td>5</td></tr>",
                            "<tr><td>110</td><td>685</td><td>1</td><td>0</td></tr>",
                            "<tr><td>110</td><td>1424</td><td>1</td><td>1</td></tr>",
                            "<tr><td>110</td><td>1162</td><td>2</td><td>1</td></tr>",
                            "<tr><td>110</td><td>1041</td><td>3</td><td>2</td></tr>",
                            "<tr><td>110</td><td>1109</td><td>5</td><td>3</td></tr>",
                            "<tr><td>110</td><td>931</td><td>5</td><td>5</td></tr>",
                            "<tr><td>110</td><td>964</td><td>6</td><td>5</td></tr>",
                            "<tr><td>110</td><td>1489</td><td>6</td><td>6</td></tr>",
                            "<tr><td>111</td><td>1296</td><td>3</td><td>0</td></tr>",
                            "<tr><td>111</td><td>786</td><td>4</td><td>3</td></tr>",
                            "<tr><td>111</td><td>1353</td><td>5</td><td>4</td></tr>",
                            "<tr><td>111</td><td>605</td><td>7</td><td>5</td></tr>",
                            "<tr><td>111</td><td>959</td><td>7</td><td>7</td></tr>",
                            "<tr><td>112</td><td>921</td><td>1</td><td>0</td></tr>",
                            "<tr><td>112</td><td>776</td><td>4</td><td>1</td></tr>",
                            "<tr><td>112</td><td>801</td><td>5</td><td>4</td></tr>",
                            "<tr><td>112</td><td>1124</td><td>6</td><td>5</td></tr>",
                            "<tr><td>112</td><td>1530</td><td>6</td><td>6</td></tr>",
                            "<tr><td>113</td><td>1263</td><td>1</td><td>0</td></tr>",
                            "<tr><td>113</td><td>1499</td><td>2</td><td>1</td></tr>",
                            "<tr><td>113</td><td>1085</td><td>4</td><td>2</td></tr>",
                            "<tr><td>113</td><td>1029</td><td>5</td><td>4</td></tr>",
                            "<tr><td>113</td><td>1495</td><td>7</td><td>5</td></tr>",
                            "<tr><td>114</td><td>737</td><td>2</td><td>0</td></tr>",
                            "<tr><td>114</td><td>1540</td><td>3</td><td>2</td></tr>",
                            "<tr><td>114</td><td>966</td><td>6</td><td>3</td></tr>",
                            "<tr><td>114</td><td>827</td><td>7</td><td>6</td></tr>",
                            "<tr><td>115</td><td>1566</td><td>1</td><td>0</td></tr>",
                            "<tr><td>115</td><td>1554</td><td>3</td><td>1</td></tr>",
                            "<tr><td>115</td><td>1352</td><td>3</td><td>3</td></tr>",
                            "<tr><td>115</td><td>1154</td><td>4</td><td>3</td></tr>",
                            "<tr><td>115</td><td>596</td><td>7</td><td>4</td></tr>",
                            "<tr><td>115</td><td>943</td><td>7</td><td>7</td></tr>",
                            "<tr><td>115</td><td>1121</td><td>7</td><td>7</td></tr>",
                            "<tr><td>116</td><td>1455</td><td>2</td><td>0</td></tr>",
                            "<tr><td>116</td><td>1501</td><td>4</td><td>2</td></tr>",
                            "<tr><td>117</td><td>1002</td><td>1</td><td>0</td></tr>",
                            "<tr><td>117</td><td>612</td><td>2</td><td>1</td></tr>",
                            "<tr><td>117</td><td>1192</td><td>2</td><td>2</td></tr>",
                            "<tr><td>117</td><td>1247</td><td>3</td><td>2</td></tr>",
                            "<tr><td>117</td><td>617</td><td>3</td><td>3</td></tr>",
                            "<tr><td>117</td><td>962</td><td>4</td><td>3</td></tr>",
                            "<tr><td>117</td><td>953</td><td>5</td><td>4</td></tr>",
                            "<tr><td>117</td><td>1468</td><td>7</td><td>5</td></tr>",
                            "<tr><td>118</td><td>716</td><td>1</td><td>0</td></tr>",
                            "<tr><td>118</td><td>996</td><td>3</td><td>1</td></tr>",
                            "<tr><td>118</td><td>1481</td><td>3</td><td>3</td></tr>",
                            "<tr><td>118</td><td>1374</td><td>5</td><td>3</td></tr>",
                            "<tr><td>118</td><td>1472</td><td>6</td><td>5</td></tr>",
                            "<tr><td>118</td><td>864</td><td>6</td><td>6</td></tr>",
                            "<tr><td>118</td><td>994</td><td>7</td><td>6</td></tr>",
                            "<tr><td>119</td><td>722</td><td>1</td><td>0</td></tr>",
                            "<tr><td>119</td><td>706</td><td>2</td><td>1</td></tr>",
                            "<tr><td>119</td><td>1026</td><td>3</td><td>2</td></tr>",
                            "<tr><td>119</td><td>1488</td><td>3</td><td>3</td></tr>",
                            "<tr><td>119</td><td>1413</td><td>3</td><td>3</td></tr>",
                            "<tr><td>120</td><td>1483</td><td>1</td><td>0</td></tr>",
                            "<tr><td>120</td><td>998</td><td>3</td><td>1</td></tr>",
                            "<tr><td>120</td><td>762</td><td>3</td><td>3</td></tr>",
                            "<tr><td>120</td><td>1089</td><td>6</td><td>3</td></tr>",
                            "<tr><td>120</td><td>1339</td><td>6</td><td>6</td></tr>",
                            "<tr><td>120</td><td>1493</td><td>7</td><td>6</td></tr>",
                            "<tr><td>121</td><td>1049</td><td>3</td><td>0</td></tr>",
                            "<tr><td>121</td><td>1128</td><td>4</td><td>3</td></tr>",
                            "<tr><td>121</td><td>1215</td><td>4</td><td>4</td></tr>",
                            "<tr><td>121</td><td>1373</td><td>5</td><td>4</td></tr>",
                            "<tr><td>121</td><td>858</td><td>5</td><td>5</td></tr>",
                            "<tr><td>121</td><td>739</td><td>6</td><td>5</td></tr>",
                            "<tr><td>121</td><td>735</td><td>6</td><td>6</td></tr>",
                            "<tr><td>121</td><td>1393</td><td>6</td><td>6</td></tr>",
                            "<tr><td>122</td><td>1209</td><td>1</td><td>0</td></tr>",
                            "<tr><td>122</td><td>1245</td><td>2</td><td>1</td></tr>",
                            "<tr><td>122</td><td>1337</td><td>2</td><td>2</td></tr>",
                            "<tr><td>122</td><td>1036</td><td>2</td><td>2</td></tr>",
                            "<tr><td>122</td><td>1007</td><td>2</td><td>2</td></tr>",
                            "<tr><td>122</td><td>1062</td><td>3</td><td>2</td></tr>",
                            "<tr><td>122</td><td>1440</td><td>3</td><td>3</td></tr>",
                            "<tr><td>122</td><td>1166</td><td>4</td><td>3</td></tr>",
                            "<tr><td>122</td><td>1385</td><td>5</td><td>4</td></tr>",
                            "<tr><td>123</td><td>1223</td><td>1</td><td>0</td></tr>",
                            "<tr><td>123</td><td>923</td><td>4</td><td>1</td></tr>",
                            "<tr><td>123</td><td>967</td><td>5</td><td>4</td></tr>",
                            "<tr><td>123</td><td>1282</td><td>6</td><td>5</td></tr>",
                            "<tr><td>123</td><td>587</td><td>7</td><td>6</td></tr>",
                            "<tr><td>124</td><td>861</td><td>1</td><td>0</td></tr>",
                            "<tr><td>124</td><td>1419</td><td>3</td><td>1</td></tr>",
                            "<tr><td>124</td><td>1210</td><td>4</td><td>3</td></tr>",
                            "<tr><td>124</td><td>1403</td><td>6</td><td>4</td></tr>",
                            "<tr><td>124</td><td>1531</td><td>6</td><td>6</td></tr>",
                            "<tr><td>124</td><td>1330</td><td>7</td><td>6</td></tr>",
                            "<tr><td>125</td><td>576</td><td>1</td><td>0</td></tr>",
                            "<tr><td>126</td><td>1134</td><td>1</td><td>0</td></tr>",
                            "<tr><td>126</td><td>1500</td><td>4</td><td>1</td></tr>",
                            "<tr><td>126</td><td>754</td><td>4</td><td>4</td></tr>",
                            "<tr><td>126</td><td>806</td><td>6</td><td>4</td></tr>",
                            "<tr><td>126</td><td>1364</td><td>6</td><td>6</td></tr>",
                            "<tr><td>126</td><td>1428</td><td>7</td><td>6</td></tr>",
                            "<tr><td>127</td><td>1286</td><td>1</td><td>0</td></tr>",
                            "<tr><td>127</td><td>643</td><td>2</td><td>1</td></tr>",
                            "<tr><td>127</td><td>879</td><td>2</td><td>2</td></tr>",
                            "<tr><td>127</td><td>853</td><td>5</td><td>2</td></tr>",
                            "<tr><td>127</td><td>1226</td><td>5</td><td>5</td></tr>",
                            "<tr><td>127</td><td>1579</td><td>5</td><td>5</td></tr>",
                            "<tr><td>127</td><td>1034</td><td>6</td><td>5</td></tr>",
                            "<tr><td>128</td><td>815</td><td>1</td><td>0</td></tr>",
                            "<tr><td>128</td><td>1574</td><td>1</td><td>1</td></tr>",
                            "<tr><td>128</td><td>1290</td><td>1</td><td>1</td></tr>",
                            "<tr><td>128</td><td>717</td><td>2</td><td>1</td></tr>",
                            "<tr><td>128</td><td>1583</td><td>4</td><td>2</td></tr>",
                            "<tr><td>129</td><td>1509</td><td>6</td><td>0</td></tr>",
                            "<tr><td>129</td><td>1360</td><td>6</td><td>6</td></tr>",
                            "<tr><td>129</td><td>1445</td><td>7</td><td>6</td></tr>",
                            "<tr><td>129</td><td>723</td><td>7</td><td>7</td></tr>",
                            "<tr><td>130</td><td>1040</td><td>1</td><td>0</td></tr>",
                            "<tr><td>130</td><td>910</td><td>2</td><td>1</td></tr>",
                            "<tr><td>130</td><td>580</td><td>3</td><td>2</td></tr>",
                            "<tr><td>130</td><td>613</td><td>3</td><td>3</td></tr>",
                            "<tr><td>130</td><td>779</td><td>6</td><td>3</td></tr>",
                            "<tr><td>130</td><td>1475</td><td>7</td><td>6</td></tr>",
                            "<tr><td>131</td><td>655</td><td>1</td><td>0</td></tr>",
                            "<tr><td>131</td><td>559</td><td>2</td><td>1</td></tr>",
                            "<tr><td>131</td><td>760</td><td>4</td><td>2</td></tr>",
                            "<tr><td>131</td><td>1474</td><td>5</td><td>4</td></tr>",
                            "<tr><td>131</td><td>881</td><td>6</td><td>5</td></tr>",
                            "<tr><td>132</td><td>1519</td><td>2</td><td>0</td></tr>",
                            "<tr><td>132</td><td>1301</td><td>2</td><td>2</td></tr>",
                            "<tr><td>132</td><td>1111</td><td>3</td><td>2</td></tr>",
                            "<tr><td>132</td><td>999</td><td>6</td><td>3</td></tr>",
                            "<tr><td>132</td><td>1090</td><td>7</td><td>6</td></tr>",
                            "<tr><td>132</td><td>619</td><td>7</td><td>7</td></tr>",
                            "<tr><td>133</td><td>1409</td><td>1</td><td>0</td></tr>",
                            "<tr><td>133</td><td>1306</td><td>3</td><td>1</td></tr>",
                            "<tr><td>133</td><td>988</td><td>3</td><td>3</td></tr>",
                            "<tr><td>133</td><td>909</td><td>4</td><td>3</td></tr>",
                            "<tr><td>133</td><td>1363</td><td>5</td><td>4</td></tr>",
                            "<tr><td>133</td><td>1149</td><td>7</td><td>5</td></tr>",
                            "<tr><td>134</td><td>1024</td><td>1</td><td>0</td></tr>",
                            "<tr><td>134</td><td>1045</td><td>2</td><td>1</td></tr>",
                            "<tr><td>134</td><td>1004</td><td>5</td><td>2</td></tr>",
                            "<tr><td>134</td><td>1219</td><td>6</td><td>5</td></tr>",
                            "<tr><td>134</td><td>1178</td><td>7</td><td>6</td></tr>",
                            "<tr><td>134</td><td>1535</td><td>7</td><td>7</td></tr>",
                            "<tr><td>135</td><td>1289</td><td>3</td><td>0</td></tr>",
                            "<tr><td>135</td><td>724</td><td>6</td><td>3</td></tr>",
                            "<tr><td>135</td><td>849</td><td>7</td><td>6</td></tr>",
                            "<tr><td>136</td><td>584</td><td>2</td><td>0</td></tr>",
                            "<tr><td>136</td><td>1046</td><td>4</td><td>2</td></tr>",
                            "<tr><td>136</td><td>661</td><td>5</td><td>4</td></tr>",
                            "<tr><td>137</td><td>1014</td><td>1</td><td>0</td></tr>",
                            "<tr><td>137</td><td>582</td><td>3</td><td>1</td></tr>",
                            "<tr><td>137</td><td>1280</td><td>3</td><td>3</td></tr>",
                            "<tr><td>137</td><td>649</td><td>5</td><td>3</td></tr>",
                            "<tr><td>137</td><td>657</td><td>6</td><td>5</td></tr>",
                            "<tr><td>137</td><td>1201</td><td>6</td><td>6</td></tr>",
                            "<tr><td>138</td><td>1283</td><td>2</td><td>0</td></tr>",
                            "<tr><td>138</td><td>1256</td><td>4</td><td>2</td></tr>",
                            "<tr><td>138</td><td>796</td><td>4</td><td>4</td></tr>",
                            "<tr><td>138</td><td>1294</td><td>5</td><td>4</td></tr>",
                            "<tr><td>138</td><td>1370</td><td>5</td><td>5</td></tr>",
                            "<tr><td>138</td><td>768</td><td>6</td><td>5</td></tr>",
                            "<tr><td>138</td><td>1358</td><td>7</td><td>6</td></tr>",
                            "<tr><td>139</td><td>745</td><td>1</td><td>0</td></tr>",
                            "<tr><td>139</td><td>579</td><td>2</td><td>1</td></tr>",
                            "<tr><td>139</td><td>1042</td><td>2</td><td>2</td></tr>",
                            "<tr><td>139</td><td>751</td><td>4</td><td>2</td></tr>",
                            "<tr><td>139</td><td>1064</td><td>6</td><td>4</td></tr>",
                            "<tr><td>139</td><td>1433</td><td>6</td><td>6</td></tr>",
                            "<tr><td>139</td><td>1450</td><td>7</td><td>6</td></tr>",
                            "<tr><td>140</td><td>1371</td><td>1</td><td>0</td></tr>",
                            "<tr><td>140</td><td>733</td><td>1</td><td>1</td></tr>",
                            "<tr><td>140</td><td>1098</td><td>2</td><td>1</td></tr>",
                            "<tr><td>140</td><td>915</td><td>2</td><td>2</td></tr>",
                            "<tr><td>140</td><td>1361</td><td>3</td><td>2</td></tr>",
                            "<tr><td>140</td><td>1156</td><td>3</td><td>3</td></tr>",
                            "<tr><td>140</td><td>1357</td><td>4</td><td>3</td></tr>",
                            "<tr><td>140</td><td>1259</td><td>7</td><td>4</td></tr>",
                            "<tr><td>141</td><td>908</td><td>2</td><td>0</td></tr>",
                            "<tr><td>141</td><td>761</td><td>3</td><td>2</td></tr>",
                            "<tr><td>141</td><td>1254</td><td>4</td><td>3</td></tr>",
                            "<tr><td>141</td><td>1401</td><td>6</td><td>4</td></tr>",
                            "<tr><td>141</td><td>565</td><td>6</td><td>6</td></tr>",
                            "<tr><td>141</td><td>784</td><td>7</td><td>6</td></tr>",
                            "<tr><td>142</td><td>1545</td><td>3</td><td>0</td></tr>",
                            "<tr><td>142</td><td>1369</td><td>6</td><td>3</td></tr>",
                            "<tr><td>143</td><td>1222</td><td>2</td><td>0</td></tr>",
                            "<tr><td>143</td><td>1394</td><td>3</td><td>2</td></tr>",
                            "<tr><td>143</td><td>980</td><td>3</td><td>3</td></tr>",
                            "<tr><td>143</td><td>1313</td><td>4</td><td>3</td></tr>",
                            "<tr><td>143</td><td>1193</td><td>6</td><td>4</td></tr>",
                            "<tr><td>143</td><td>1448</td><td>6</td><td>6</td></tr>",
                            "<tr><td>143</td><td>1155</td><td>7</td><td>6</td></tr>",
                            "<tr><td>144</td><td>1297</td><td>1</td><td>0</td></tr>",
                            "<tr><td>144</td><td>1572</td><td>2</td><td>1</td></tr>",
                            "<tr><td>144</td><td>1087</td><td>2</td><td>2</td></tr>",
                            "<tr><td>144</td><td>581</td><td>4</td><td>2</td></tr>",
                            "<tr><td>144</td><td>1199</td><td>7</td><td>4</td></tr>",
                            "<tr><td>145</td><td>1471</td><td>1</td><td>0</td></tr>",
                            "<tr><td>145</td><td>1077</td><td>1</td><td>1</td></tr>",
                            "<tr><td>145</td><td>1120</td><td>1</td><td>1</td></tr>",
                            "<tr><td>145</td><td>1338</td><td>2</td><td>1</td></tr>",
                            "<tr><td>145</td><td>1145</td><td>4</td><td>2</td></tr>",
                            "<tr><td>145</td><td>703</td><td>4</td><td>4</td></tr>",
                            "<tr><td>146</td><td>664</td><td>3</td><td>0</td></tr>",
                            "<tr><td>146</td><td>890</td><td>3</td><td>3</td></tr>",
                            "<tr><td>146</td><td>1032</td><td>5</td><td>3</td></tr>",
                            "<tr><td>146</td><td>1479</td><td>6</td><td>5</td></tr>",
                            "<tr><td>146</td><td>789</td><td>7</td><td>6</td></tr>",
                            "<tr><td>146</td><td>804</td><td>7</td><td>7</td></tr>",
                            "<tr><td>147</td><td>771</td><td>4</td><td>0</td></tr>",
                            "<tr><td>148</td><td>808</td><td>2</td><td>0</td></tr>",
                            "<tr><td>148</td><td>765</td><td>3</td><td>2</td></tr>",
                            "<tr><td>148</td><td>678</td><td>4</td><td>3</td></tr>",
                            "<tr><td>148</td><td>812</td><td>6</td><td>4</td></tr>",
                            "<tr><td>148</td><td>783</td><td>7</td><td>6</td></tr>",
                            "<tr><td>148</td><td>1578</td><td>7</td><td>7</td></tr>",
                            "<tr><td>149</td><td>652</td><td>1</td><td>0</td></tr>",
                            "<tr><td>149</td><td>591</td><td>1</td><td>1</td></tr>",
                            "<tr><td>149</td><td>833</td><td>2</td><td>1</td></tr>",
                            "<tr><td>149</td><td>843</td><td>4</td><td>2</td></tr>",
                            "<tr><td>149</td><td>834</td><td>5</td><td>4</td></tr>",
                            "<tr><td>149</td><td>1514</td><td>5</td><td>5</td></tr>",
                            "<tr><td>149</td><td>1146</td><td>6</td><td>5</td></tr>",
                            "<tr><td>150</td><td>1177</td><td>1</td><td>0</td></tr>",
                            "<tr><td>150</td><td>1105</td><td>1</td><td>1</td></tr>",
                            "<tr><td>150</td><td>641</td><td>3</td><td>1</td></tr>",
                            "<tr><td>150</td><td>1432</td><td>3</td><td>3</td></tr>",
                            "<tr><td>150</td><td>1203</td><td>4</td><td>3</td></tr>",
                            "<tr><td>150</td><td>1100</td><td>5</td><td>4</td></tr>",
                            "<tr><td>151</td><td>1115</td><td>3</td><td>0</td></tr>",
                            "<tr><td>151</td><td>1058</td><td>3</td><td>3</td></tr>",
                            "<tr><td>151</td><td>893</td><td>3</td><td>3</td></tr>",
                            "<tr><td>152</td><td>730</td><td>2</td><td>0</td></tr>",
                            "<tr><td>152</td><td>1558</td><td>2</td><td>2</td></tr>",
                            "<tr><td>152</td><td>1197</td><td>6</td><td>2</td></tr>",
                            "<tr><td>152</td><td>1160</td><td>7</td><td>6</td></tr>",
                            "<tr><td>153</td><td>1507</td><td>3</td><td>0</td></tr>",
                            "<tr><td>153</td><td>1460</td><td>3</td><td>3</td></tr>",
                            "<tr><td>153</td><td>594</td><td>3</td><td>3</td></tr>",
                            "<tr><td>153</td><td>1470</td><td>5</td><td>3</td></tr>",
                            "<tr><td>153</td><td>969</td><td>6</td><td>5</td></tr>",
                            "<tr><td>154</td><td>968</td><td>1</td><td>0</td></tr>",
                            "<tr><td>154</td><td>1262</td><td>1</td><td>1</td></tr>",
                            "<tr><td>154</td><td>1539</td><td>2</td><td>1</td></tr>",
                            "<tr><td>154</td><td>1168</td><td>6</td><td>2</td></tr>",
                            "<tr><td>154</td><td>1061</td><td>7</td><td>6</td></tr>",
                            "<tr><td>155</td><td>575</td><td>1</td><td>0</td></tr>",
                            "<tr><td>155</td><td>1310</td><td>1</td><td>1</td></tr>",
                            "<tr><td>155</td><td>1541</td><td>1</td><td>1</td></tr>",
                            "<tr><td>155</td><td>577</td><td>3</td><td>1</td></tr>",
                            "<tr><td>155</td><td>1112</td><td>4</td><td>3</td></tr>",
                            "<tr><td>156</td><td>1490</td><td>1</td><td>0</td></tr>",
                            "<tr><td>156</td><td>907</td><td>3</td><td>1</td></tr>",
                            "<tr><td>156</td><td>1561</td><td>4</td><td>3</td></tr>",
                            "<tr><td>156</td><td>956</td><td>6</td><td>4</td></tr>",
                            "<tr><td>156</td><td>692</td><td>6</td><td>6</td></tr>",
                            "<tr><td>156</td><td>588</td><td>7</td><td>6</td></tr>",
                            "<tr><td>156</td><td>1462</td><td>7</td><td>7</td></tr>",
                            "<tr><td>157</td><td>1551</td><td>3</td><td>0</td></tr>",
                            "<tr><td>157</td><td>1025</td><td>3</td><td>3</td></tr>",
                            "<tr><td>157</td><td>1047</td><td>4</td><td>3</td></tr>",
                            "<tr><td>157</td><td>648</td><td>4</td><td>4</td></tr>",
                            "<tr><td>157</td><td>1240</td><td>7</td><td>4</td></tr>",
                            "<tr><td>158</td><td>1117</td><td>3</td><td>0</td></tr>",
                            "<tr><td>158</td><td>840</td><td>4</td><td>3</td></tr>",
                            "<tr><td>158</td><td>825</td><td>4</td><td>4</td></tr>",
                            "<tr><td>160</td><td>720</td><td>2</td><td>0</td></tr>",
                            "<tr><td>160</td><td>922</td><td>2</td><td>2</td></tr>",
                            "<tr><td>160</td><td>1565</td><td>3</td><td>2</td></tr>",
                            "<tr><td>160</td><td>927</td><td>4</td><td>3</td></tr>",
                            "<tr><td>160</td><td>933</td><td>4</td><td>4</td></tr>",
                            "<tr><td>161</td><td>911</td><td>4</td><td>0</td></tr>",
                            "<tr><td>161</td><td>639</td><td>4</td><td>4</td></tr>",
                            "<tr><td>161</td><td>1571</td><td>4</td><td>4</td></tr>",
                            "<tr><td>161</td><td>1068</td><td>6</td><td>4</td></tr>",
                            "<tr><td>161</td><td>653</td><td>7</td><td>6</td></tr>",
                            "<tr><td>161</td><td>1190</td><td>7</td><td>7</td></tr>",
                            "<tr><td>162</td><td>1400</td><td>1</td><td>0</td></tr>",
                            "<tr><td>162</td><td>599</td><td>4</td><td>1</td></tr>",
                            "<tr><td>162</td><td>1205</td><td>6</td><td>4</td></tr>",
                            "<tr><td>163</td><td>941</td><td>1</td><td>0</td></tr>",
                            "<tr><td>163</td><td>630</td><td>2</td><td>1</td></tr>",
                            "<tr><td>163</td><td>782</td><td>3</td><td>2</td></tr>",
                            "<tr><td>163</td><td>1107</td><td>3</td><td>3</td></tr>",
                            "<tr><td>163</td><td>1487</td><td>3</td><td>3</td></tr>",
                            "<tr><td>163</td><td>1075</td><td>4</td><td>3</td></tr>",
                            "<tr><td>163</td><td>1265</td><td>5</td><td>4</td></tr>",
                            "<tr><td>164</td><td>1292</td><td>2</td><td>0</td></tr>",
                            "<tr><td>164</td><td>1010</td><td>2</td><td>2</td></tr>",
                            "<tr><td>164</td><td>1284</td><td>4</td><td>2</td></tr>",
                            "<tr><td>164</td><td>742</td><td>6</td><td>4</td></tr>",
                            "<tr><td>164</td><td>570</td><td>7</td><td>6</td></tr>",
                            "<tr><td>165</td><td>1141</td><td>1</td><td>0</td></tr>",
                            "<tr><td>165</td><td>640</td><td>3</td><td>1</td></tr>",
                            "<tr><td>165</td><td>892</td><td>3</td><td>3</td></tr>",
                            "<tr><td>165</td><td>1375</td><td>4</td><td>3</td></tr>",
                            "<tr><td>165</td><td>857</td><td>5</td><td>4</td></tr>",
                            "<tr><td>165</td><td>900</td><td>6</td><td>5</td></tr>",
                            "<tr><td>165</td><td>897</td><td>6</td><td>6</td></tr>",
                            "<tr><td>166</td><td>1526</td><td>2</td><td>0</td></tr>",
                            "<tr><td>166</td><td>644</td><td>7</td><td>2</td></tr>",
                            "<tr><td>166</td><td>781</td><td>7</td><td>7</td></tr>",
                            "<tr><td>167</td><td>1414</td><td>3</td><td>0</td></tr>",
                            "<tr><td>167</td><td>854</td><td>7</td><td>3</td></tr>",
                            "<tr><td>168</td><td>930</td><td>3</td><td>0</td></tr>",
                            "<tr><td>168</td><td>792</td><td>3</td><td>3</td></tr>",
                            "<tr><td>168</td><td>794</td><td>4</td><td>3</td></tr>",
                            "<tr><td>168</td><td>1266</td><td>4</td><td>4</td></tr>",
                            "<tr><td>168</td><td>1249</td><td>4</td><td>4</td></tr>",
                            "<tr><td>169</td><td>1427</td><td>1</td><td>0</td></tr>",
                            "<tr><td>169</td><td>974</td><td>1</td><td>1</td></tr>",
                            "<tr><td>169</td><td>1356</td><td>4</td><td>1</td></tr>",
                            "<tr><td>169</td><td>573</td><td>5</td><td>4</td></tr>",
                            "<tr><td>169</td><td>659</td><td>6</td><td>5</td></tr>",
                            "<tr><td>169</td><td>746</td><td>7</td><td>6</td></tr>",
                            "<tr><td>170</td><td>944</td><td>4</td><td>0</td></tr>",
                            "<tr><td>170</td><td>1194</td><td>4</td><td>4</td></tr>",
                            "<tr><td>170</td><td>1342</td><td>6</td><td>4</td></tr>",
                            "<tr><td>170</td><td>1267</td><td>7</td><td>6</td></tr>",
                            "<tr><td>170</td><td>567</td><td>7</td><td>7</td></tr>",
                            "<tr><td>171</td><td>574</td><td>2</td><td>0</td></tr>",
                            "<tr><td>171</td><td>981</td><td>4</td><td>2</td></tr>",
                            "<tr><td>171</td><td>1329</td><td>5</td><td>4</td></tr>",
                            "<tr><td>171</td><td>1181</td><td>6</td><td>5</td></tr>",
                            "<tr><td>171</td><td>1567</td><td>6</td><td>6</td></tr>",
                            "<tr><td>172</td><td>1491</td><td>2</td><td>0</td></tr>",
                            "<tr><td>172</td><td>1142</td><td>4</td><td>2</td></tr>",
                            "<tr><td>172</td><td>984</td><td>4</td><td>4</td></tr>",
                            "<tr><td>172</td><td>709</td><td>5</td><td>4</td></tr>",
                            "<tr><td>172</td><td>839</td><td>5</td><td>5</td></tr>",
                            "<tr><td>172</td><td>1171</td><td>5</td><td>5</td></tr>",
                            "<tr><td>172</td><td>1336</td><td>5</td><td>5</td></tr>",
                            "<tr><td>172</td><td>1421</td><td>5</td><td>5</td></tr>",
                            "<tr><td>172</td><td>749</td><td>6</td><td>5</td></tr>",
                            "<tr><td>173</td><td>913</td><td>1</td><td>0</td></tr>",
                            "<tr><td>173</td><td>1350</td><td>3</td><td>1</td></tr>",
                            "<tr><td>173</td><td>1429</td><td>4</td><td>3</td></tr>",
                            "<tr><td>173</td><td>669</td><td>7</td><td>4</td></tr>",
                            "<tr><td>174</td><td>1276</td><td>1</td><td>0</td></tr>",
                            "<tr><td>174</td><td>917</td><td>2</td><td>1</td></tr>",
                            "<tr><td>174</td><td>682</td><td>3</td><td>2</td></tr>",
                            "<tr><td>174</td><td>1015</td><td>5</td><td>3</td></tr>",
                            "<tr><td>175</td><td>1133</td><td>2</td><td>0</td></tr>",
                            "<tr><td>175</td><td>799</td><td>4</td><td>2</td></tr>",
                            "<tr><td>175</td><td>1094</td><td>5</td><td>4</td></tr>",
                            "<tr><td>175</td><td>867</td><td>6</td><td>5</td></tr>",
                            "<tr><td>175</td><td>1407</td><td>7</td><td>6</td></tr>",
                            "<tr><td>176</td><td>1511</td><td>2</td><td>0</td></tr>",
                            "<tr><td>176</td><td>1570</td><td>3</td><td>2</td></tr>",
                            "<tr><td>176</td><td>1383</td><td>4</td><td>3</td></tr>",
                            "<tr><td>176</td><td>592</td><td>5</td><td>4</td></tr>",
                            "<tr><td>176</td><td>1278</td><td>6</td><td>5</td></tr>",
                            "<tr><td>176</td><td>1143</td><td>6</td><td>6</td></tr>",
                            "<tr><td>177</td><td>1176</td><td>3</td><td>0</td></tr>",
                            "<tr><td>177</td><td>1503</td><td>3</td><td>3</td></tr>",
                            "<tr><td>177</td><td>785</td><td>3</td><td>3</td></tr>",
                            "<tr><td>177</td><td>831</td><td>7</td><td>3</td></tr>",
                            "<tr><td>178</td><td>1242</td><td>1</td><td>0</td></tr>",
                            "<tr><td>178</td><td>1211</td><td>3</td><td>1</td></tr>",
                            "<tr><td>178</td><td>816</td><td>4</td><td>3</td></tr>",
                            "<tr><td>178</td><td>991</td><td>7</td><td>4</td></tr>",
                            "<tr><td>179</td><td>1021</td><td>1</td><td>0</td></tr>",
                            "<tr><td>179</td><td>1497</td><td>1</td><td>1</td></tr>",
                            "<tr><td>179</td><td>662</td><td>2</td><td>1</td></tr>",
                            "<tr><td>180</td><td>1559</td><td>3</td><td>0</td></tr>",
                            "<tr><td>180</td><td>905</td><td>5</td><td>3</td></tr>",
                            "<tr><td>180</td><td>1563</td><td>6</td><td>5</td></tr>",
                            "<tr><td>181</td><td>1022</td><td>1</td><td>0</td></tr>",
                            "<tr><td>181</td><td>937</td><td>3</td><td>1</td></tr>",
                            "<tr><td>181</td><td>677</td><td>4</td><td>3</td></tr>",
                            "<tr><td>181</td><td>958</td><td>5</td><td>4</td></tr>",
                            "<tr><td>181</td><td>731</td><td>6</td><td>5</td></tr>",
                            "<tr><td>181</td><td>1346</td><td>6</td><td>6</td></tr>",
                            "<tr><td>182</td><td>1308</td><td>1</td><td>0</td></tr>",
                            "<tr><td>182</td><td>1188</td><td>1</td><td>1</td></tr>",
                            "<tr><td>182</td><td>571</td><td>2</td><td>1</td></tr>",
                            "<tr><td>182</td><td>928</td><td>2</td><td>2</td></tr>",
                            "<tr><td>182</td><td>740</td><td>3</td><td>2</td></tr>",
                            "<tr><td>182</td><td>1317</td><td>3</td><td>3</td></tr>",
                            "<tr><td>182</td><td>1422</td><td>3</td><td>3</td></tr>",
                            "<tr><td>182</td><td>1326</td><td>4</td><td>3</td></tr>",
                            "<tr><td>182</td><td>1410</td><td>4</td><td>4</td></tr>",
                            "<tr><td>182</td><td>1231</td><td>4</td><td>4</td></tr>",
                            "<tr><td>182</td><td>1008</td><td>6</td><td>4</td></tr>",
                            "<tr><td>182</td><td>1230</td><td>7</td><td>6</td></tr>",
                            "<tr><td>183</td><td>1147</td><td>4</td><td>0</td></tr>",
                            "<tr><td>183</td><td>1437</td><td>4</td><td>4</td></tr>",
                            "<tr><td>183</td><td>939</td><td>4</td><td>4</td></tr>",
                            "<tr><td>183</td><td>1067</td><td>7</td><td>4</td></tr>",
                            "<tr><td>184</td><td>608</td><td>2</td><td>0</td></tr>",
                            "<tr><td>184</td><td>684</td><td>3</td><td>2</td></tr>",
                            "<tr><td>184</td><td>880</td><td>4</td><td>3</td></tr>",
                            "<tr><td>184</td><td>1251</td><td>4</td><td>4</td></tr>",
                            "<tr><td>185</td><td>693</td><td>2</td><td>0</td></tr>",
                            "<tr><td>185</td><td>672</td><td>3</td><td>2</td></tr>",
                            "<tr><td>185</td><td>711</td><td>3</td><td>3</td></tr>",
                            "<tr><td>185</td><td>1125</td><td>3</td><td>3</td></tr>",
                            "<tr><td>185</td><td>898</td><td>4</td><td>3</td></tr>",
                            "<tr><td>185</td><td>863</td><td>4</td><td>4</td></tr>",
                            "<tr><td>185</td><td>679</td><td>5</td><td>4</td></tr>",
                            "<tr><td>185</td><td>1183</td><td>5</td><td>5</td></tr>",
                            "<tr><td>185</td><td>578</td><td>6</td><td>5</td></tr>",
                            "<tr><td>185</td><td>925</td><td>6</td><td>6</td></tr>",
                            "<tr><td>185</td><td>1441</td><td>7</td><td>6</td></tr>",
                            "<tr><td>185</td><td>1463</td><td>7</td><td>7</td></tr>",
                            "<tr><td>186</td><td>1248</td><td>2</td><td>0</td></tr>",
                            "<tr><td>186</td><td>1153</td><td>3</td><td>2</td></tr>",
                            "<tr><td>186</td><td>1467</td><td>3</td><td>3</td></tr>",
                            "<tr><td>186</td><td>615</td><td>3</td><td>3</td></tr>",
                            "<tr><td>187</td><td>766</td><td>1</td><td>0</td></tr>",
                            "<tr><td>187</td><td>743</td><td>2</td><td>1</td></tr>",
                            "<tr><td>187</td><td>1404</td><td>2</td><td>2</td></tr>",
                            "<tr><td>187</td><td>957</td><td>4</td><td>2</td></tr>",
                            "<tr><td>187</td><td>868</td><td>4</td><td>4</td></tr>",
                            "<tr><td>187</td><td>695</td><td>6</td><td>4</td></tr>",
                            "<tr><td>187</td><td>633</td><td>6</td><td>6</td></tr>",
                            "<tr><td>188</td><td>912</td><td>1</td><td>0</td></tr>",
                            "<tr><td>188</td><td>747</td><td>3</td><td>1</td></tr>",
                            "<tr><td>188</td><td>690</td><td>4</td><td>3</td></tr>",
                            "<tr><td>188</td><td>1030</td><td>4</td><td>4</td></tr>",
                            "<tr><td>188</td><td>1390</td><td>5</td><td>4</td></tr>",
                            "<tr><td>188</td><td>710</td><td>7</td><td>5</td></tr>",
                            "<tr><td>189</td><td>753</td><td>1</td><td>0</td></tr>",
                            "<tr><td>189</td><td>699</td><td>2</td><td>1</td></tr>",
                            "<tr><td>189</td><td>1204</td><td>2</td><td>2</td></tr>",
                            "<tr><td>189</td><td>1449</td><td>2</td><td>2</td></tr>",
                            "<tr><td>189</td><td>1576</td><td>3</td><td>2</td></tr>",
                            "<tr><td>190</td><td>1017</td><td>1</td><td>0</td></tr>",
                            "<tr><td>190</td><td>989</td><td>1</td><td>1</td></tr>",
                            "<tr><td>190</td><td>774</td><td>5</td><td>1</td></tr>",
                            "<tr><td>190</td><td>1517</td><td>5</td><td>5</td></tr>",
                            "<tr><td>190</td><td>600</td><td>7</td><td>5</td></tr>",
                            "<tr><td>191</td><td>1302</td><td>1</td><td>0</td></tr>",
                            "<tr><td>191</td><td>1502</td><td>2</td><td>1</td></tr>",
                            "<tr><td>191</td><td>1039</td><td>6</td><td>2</td></tr>",
                            "<tr><td>191</td><td>1508</td><td>7</td><td>6</td></tr>",
                            "<tr><td>191</td><td>1323</td><td>7</td><td>7</td></tr>",
                            "<tr><td>192</td><td>680</td><td>4</td><td>0</td></tr>",
                            "<tr><td>192</td><td>903</td><td>7</td><td>4</td></tr>",
                            "<tr><td>193</td><td>926</td><td>1</td><td>0</td></tr>",
                            "<tr><td>193</td><td>977</td><td>2</td><td>1</td></tr>",
                            "<tr><td>193</td><td>675</td><td>2</td><td>2</td></tr>",
                            "<tr><td>193</td><td>835</td><td>2</td><td>2</td></tr>",
                            "<tr><td>193</td><td>634</td><td>6</td><td>2</td></tr>",
                            "<tr><td>193</td><td>1043</td><td>6</td><td>6</td></tr>",
                            "<tr><td>193</td><td>1238</td><td>6</td><td>6</td></tr>",
                            "<tr><td>194</td><td>1095</td><td>5</td><td>0</td></tr>",
                            "<tr><td>195</td><td>1484</td><td>1</td><td>0</td></tr>",
                            "<tr><td>195</td><td>842</td><td>4</td><td>1</td></tr>",
                            "<tr><td>195</td><td>721</td><td>4</td><td>4</td></tr>",
                            "<tr><td>195</td><td>1184</td><td>5</td><td>4</td></tr>",
                            "<tr><td>195</td><td>1473</td><td>7</td><td>5</td></tr>",
                            "<tr><td>195</td><td>1074</td><td>7</td><td>7</td></tr>",
                            "<tr><td>196</td><td>952</td><td>3</td><td>0</td></tr>",
                            "<tr><td>196</td><td>673</td><td>5</td><td>3</td></tr>",
                            "<tr><td>196</td><td>1314</td><td>5</td><td>5</td></tr>",
                            "<tr><td>196</td><td>1340</td><td>5</td><td>5</td></tr>",
                            "<tr><td>197</td><td>1387</td><td>3</td><td>0</td></tr>",
                            "<tr><td>197</td><td>1304</td><td>7</td><td>3</td></tr>",
                            "<tr><td>197</td><td>1172</td><td>7</td><td>7</td></tr>",
                            "<tr><td>197</td><td>764</td><td>7</td><td>7</td></tr>",
                            "<tr><td>197</td><td>1091</td><td>7</td><td>7</td></tr>",
                            "<tr><td>197</td><td>993</td><td>7</td><td>7</td></tr>",
                            "<tr><td>198</td><td>1116</td><td>1</td><td>0</td></tr>",
                            "<tr><td>198</td><td>978</td><td>1</td><td>1</td></tr>",
                            "<tr><td>198</td><td>1065</td><td>3</td><td>1</td></tr>",
                            "<tr><td>198</td><td>1138</td><td>5</td><td>3</td></tr>",
                            "<tr><td>198</td><td>1161</td><td>5</td><td>5</td></tr>",
                            "<tr><td>198</td><td>1420</td><td>5</td><td>5</td></tr>",
                            "<tr><td>198</td><td>1216</td><td>7</td><td>5</td></tr>",
                            "<tr><td>198</td><td>1011</td><td>7</td><td>7</td></tr>",
                            "</table>"
                        ]
                    }
                }
            ],
            "execution_count": 15
        },
        {
            "cell_type": "code",
            "source": [
                "SELECT SZALLAS_NEV,\r\n",
                "       COUNT(FOGLALAS_PK) AS 'Foglalások száma'\r\n",
                "FROM Szoba sz JOIN Foglalas f ON sz.SZOBA_ID = f.SZOBA_FK\r\n",
                "              JOIN Szallashely sza ON sz.SZALLAS_FK = sza.SZALLAS_ID\r\n",
                "GROUP BY SZALLAS_NEV\r\n",
                "HAVING COUNT(FOGLALAS_PK) >\r\n",
                "(\r\n",
                "    SELECT COUNT(FOGLALAS_PK)\r\n",
                "    FROM Szoba sz JOIN Szallashely sza ON sz.SZALLAS_FK = sza.SZALLAS_ID\r\n",
                "                  JOIN Foglalas f ON f.SZOBA_FK = sz.SZOBA_ID \r\n",
                "    WHERE SZALLAS_NEV = 'Fortuna Panzió'\r\n",
                ")\r\n",
                ""
            ],
            "metadata": {
                "azdata_cell_guid": "0cc24717-88ae-4906-9ce3-fbf711574a26",
                "language": "sql"
            },
            "outputs": [
                {
                    "output_type": "display_data",
                    "data": {
                        "text/html": "(3 rows affected)"
                    },
                    "metadata": {}
                },
                {
                    "output_type": "display_data",
                    "data": {
                        "text/html": "Total execution time: 00:00:00.021"
                    },
                    "metadata": {}
                },
                {
                    "output_type": "execute_result",
                    "metadata": {},
                    "execution_count": 20,
                    "data": {
                        "application/vnd.dataresource+json": {
                            "schema": {
                                "fields": [
                                    {
                                        "name": "SZALLAS_NEV"
                                    },
                                    {
                                        "name": "Foglalások száma"
                                    }
                                ]
                            },
                            "data": [
                                {
                                    "SZALLAS_NEV": "Gold Hotel",
                                    "Foglalások száma": "179"
                                },
                                {
                                    "SZALLAS_NEV": "Hotel Három Hattyú",
                                    "Foglalások száma": "204"
                                },
                                {
                                    "SZALLAS_NEV": "Kentaur Hotel",
                                    "Foglalások száma": "179"
                                }
                            ]
                        },
                        "text/html": [
                            "<table>",
                            "<tr><th>SZALLAS_NEV</th><th>Foglalások száma</th></tr>",
                            "<tr><td>Gold Hotel</td><td>179</td></tr>",
                            "<tr><td>Hotel Három Hattyú</td><td>204</td></tr>",
                            "<tr><td>Kentaur Hotel</td><td>179</td></tr>",
                            "</table>"
                        ]
                    }
                }
            ],
            "execution_count": 20
        }
    ]
}